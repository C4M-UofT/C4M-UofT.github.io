{
  "nbformat": 4,
  "nbformat_minor": 0,
  "metadata": {
    "colab": {
      "provenance": [],
      "collapsed_sections": [
        "nPTN1LEIcUkI",
        "NQ8o61CvvBLX"
      ]
    },
    "kernelspec": {
      "name": "python3",
      "display_name": "Python 3"
    },
    "language_info": {
      "name": "python"
    }
  },
  "cells": [
    {
      "cell_type": "markdown",
      "source": [
        "In this notebook, your task is examine the inner workings of the sleep stage classification model you have been creating for the [Haaglanden Medisch Centrum Sleep Staging Database](https://physionet.org/content/hmc-sleep-staging/1.1/).\n"
      ],
      "metadata": {
        "id": "BDaO9cuMWe83"
      }
    },
    {
      "cell_type": "markdown",
      "source": [
        "You may either modify and resubmit your HW8 notebook or you may copy cells over from your previous notebook into this one. If you go with the former, be sure to rename the notebook so that it is clear that you are resubmitting a new file. Regardless of how you submit your homework, you must complete all of the exercises outlined in this assignment."
      ],
      "metadata": {
        "id": "g7qom8PartpO"
      }
    },
    {
      "cell_type": "code",
      "source": [
        "# TODO: Either copy relevant cells from HW8 here, or revise your original H8 submission.\n",
        "# In either case, please be sure to complete all of the exercises below"
      ],
      "metadata": {
        "id": "rMRll10qe_z7"
      },
      "execution_count": null,
      "outputs": []
    },
    {
      "cell_type": "markdown",
      "source": [
        "# Exercise 1: Overall Feature Importance"
      ],
      "metadata": {
        "id": "nPTN1LEIcUkI"
      }
    },
    {
      "cell_type": "markdown",
      "source": [
        "This exercise assumes that you are using a model that is able to report some form of feature importance (e.g., `.coef_`, `.feature_importances_`). If not, please switch to one for the sake of this exercise."
      ],
      "metadata": {
        "id": "vta2R6Bltkbe"
      }
    },
    {
      "cell_type": "markdown",
      "source": [
        "**(Part 1)** Since you are training one model per fold, it is likely that different features are going to be important for different folds. With that in mind, modify your training loop so that you aggregate the feature importance scores across all folds of the cross-validation procedure. The `DataFrame` should looks something like the following:\n",
        "\n",
        "| Fold # | Feature 1 | Feature 2 | ... |\n",
        "| ------- | ------- | ------- | ------- |\n",
        "| 1 | 0.01 | 0.04 | ... |\n",
        "| 2 | 0.01 | 0.05 | ... |\n",
        "| 3 | 0.04 | 0.02 | ... |\n",
        "| ... | ... | ... | ... |\n",
        "\n",
        "*Hint:* If you are using some form of feature selection, you may want to investigate the `.get_support()` method for identifying the indeces of the features that were selected in a given fold. This also means that your `DataFrame` may have missing entries:\n",
        "\n",
        "| Fold # | Feature 1 | Feature 2 | ... |\n",
        "| ------- | ------- | ------- | ------- |\n",
        "| 1 | 0.01 | 0.04 | ... |\n",
        "| 2 | 0.01 | NA | ... |\n",
        "| 3 | NA | 0.02 | ... |\n",
        "| ... | ... | ... | ... |\n",
        "\n",
        "In these cases, you should fill in the missing values with `0` to indicate no importance."
      ],
      "metadata": {
        "id": "CKBQ9KLakBoD"
      }
    },
    {
      "cell_type": "code",
      "source": [
        "# Write code here"
      ],
      "metadata": {
        "id": "d1cFEv1vkFsn"
      },
      "execution_count": null,
      "outputs": []
    },
    {
      "cell_type": "markdown",
      "source": [
        "**(Part 2)** Plot the overall importance of the features in your modeling pipeline as a box-and-whiskers plot. Each box should correspond to a feature, and the distribution should represent the distribution of that feature's importance scores across all folds."
      ],
      "metadata": {
        "id": "AXPKLx5quULa"
      }
    },
    {
      "cell_type": "code",
      "source": [
        "# Write code here"
      ],
      "metadata": {
        "id": "hFmbe_3Ru8Lu"
      },
      "execution_count": null,
      "outputs": []
    },
    {
      "cell_type": "markdown",
      "source": [
        "**(Part 3)** What did you learn about your modeling pipeline from this exercise? Were there any features that were consistently important across folds?"
      ],
      "metadata": {
        "id": "QEABxkhHu8fx"
      }
    },
    {
      "cell_type": "markdown",
      "source": [
        "Write your answer here: ???"
      ],
      "metadata": {
        "id": "yDe-lfEFyY1c"
      }
    },
    {
      "cell_type": "markdown",
      "source": [
        "# Part 2: SHAP Values"
      ],
      "metadata": {
        "id": "NQ8o61CvvBLX"
      }
    },
    {
      "cell_type": "markdown",
      "source": [
        "Looking at SHAP values with cross-validation and feature selection is possible, but gets a bit tricky since you need to account for different features being used in different folds.\n",
        "\n",
        "Instead, we are going to pretend that you are ready to \"deploy\" your model for real-world usage. We will use SHAP to see how we can explain predictions that are made by this final model."
      ],
      "metadata": {
        "id": "MR7vE8l1SrvS"
      }
    },
    {
      "cell_type": "markdown",
      "source": [
        "**(Part 1)** Train a single model using all of the data as training data. In other words, remove the cross-validation loop and instead train on 100% of your data."
      ],
      "metadata": {
        "id": "8_NpHA54F6qi"
      }
    },
    {
      "cell_type": "code",
      "source": [
        "# Write code here"
      ],
      "metadata": {
        "id": "Kq27YtRzGRB9"
      },
      "execution_count": null,
      "outputs": []
    },
    {
      "cell_type": "markdown",
      "source": [
        "**(Part 2)** Use this model to generate predictions for all of the data in your dataset. Note that the accuracy of these predictions will not reflect the model's accuracy on new data since you will be testing on the training data. This is strictly for illustrative purposes."
      ],
      "metadata": {
        "id": "rGJJ4WnRWcI2"
      }
    },
    {
      "cell_type": "code",
      "source": [
        "# Write code here"
      ],
      "metadata": {
        "id": "itdo0CiFWiw5"
      },
      "execution_count": null,
      "outputs": []
    },
    {
      "cell_type": "markdown",
      "source": [
        "**(Part 3)** Using `shap.waterfall()`, generate a plot showing the influence of each feature on the model's prediction for the first sample in your dataset.\n",
        "\n",
        "*Hint:* Since this is a multi-class classifier, you will need to identify the SHAP values associated with the class that was predicted for the first sample. Most libraries sort categorical string labels in alphabetical order, but you can confirm by looking at the `.classes_` attribute of a model."
      ],
      "metadata": {
        "id": "frXHuroxUAR8"
      }
    },
    {
      "cell_type": "code",
      "source": [
        "# Write code here"
      ],
      "metadata": {
        "id": "i7uMa-FuUFho"
      },
      "execution_count": null,
      "outputs": []
    },
    {
      "cell_type": "markdown",
      "source": [
        "**(Part 4)** What was the most important feature for this prediction on this sample?"
      ],
      "metadata": {
        "id": "WPBrXEYpYjB6"
      }
    },
    {
      "cell_type": "markdown",
      "source": [
        "Write your answer here: ???"
      ],
      "metadata": {
        "id": "U7Qq7SntYqPi"
      }
    },
    {
      "cell_type": "markdown",
      "source": [
        "**(Part 5)** Using `shap.summary_plot()`, generate a plot showing the influence of each feature on the model's prediction for the entire dataset with respect to REM sleep (class `R`)."
      ],
      "metadata": {
        "id": "iyXzoxA8YzVe"
      }
    },
    {
      "cell_type": "code",
      "source": [
        "# Write code here"
      ],
      "metadata": {
        "id": "w-g-O3suYzml"
      },
      "execution_count": null,
      "outputs": []
    },
    {
      "cell_type": "markdown",
      "source": [
        "**(Part 6)** Which feature(s) were the most positively correlated with positive REM predictions in your model (i.e., higher value led to an `R` prediction)?"
      ],
      "metadata": {
        "id": "v_xrrzIKaSrF"
      }
    },
    {
      "cell_type": "markdown",
      "source": [
        "Write your answer here: ???"
      ],
      "metadata": {
        "id": "2zABh7ceaWN8"
      }
    },
    {
      "cell_type": "markdown",
      "source": [
        "**(Part 7)** Which feature(s) were the most negatively correlated with positive REM predictions in your model (i.e., higher value led to a non-`R` prediction)?"
      ],
      "metadata": {
        "id": "ZGr6HLhMcdsO"
      }
    },
    {
      "cell_type": "markdown",
      "source": [
        "Write your answer here: ???"
      ],
      "metadata": {
        "id": "GTNEwcSecvXF"
      }
    }
  ]
}