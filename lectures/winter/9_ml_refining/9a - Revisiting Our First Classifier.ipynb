{
  "nbformat": 4,
  "nbformat_minor": 0,
  "metadata": {
    "colab": {
      "provenance": [],
      "collapsed_sections": [
        "DekAnzq1b82b",
        "xP4sP_ekZxqW",
        "dF7vGVljaKp7",
        "ryaahUysaOHD",
        "gmMs1P1tabse",
        "2ip_I8PZtMxy",
        "BLBy4qpPpQ6r",
        "srXIpMFCpYxR",
        "-fpM5JCVcS_c",
        "hT0cnOFdafEF"
      ]
    },
    "kernelspec": {
      "name": "python3",
      "display_name": "Python 3"
    },
    "language_info": {
      "name": "python"
    }
  },
  "cells": [
    {
      "cell_type": "markdown",
      "source": [
        "In this notebook, we're going to revisit the classification model we trained to distinguish between malignant and benign skin lesions in the hopes of improving its test accuracy. Most of the code in this notebook is copied from the previous session, but parts will be adjusted to boost the model performance."
      ],
      "metadata": {
        "id": "BDaO9cuMWe83"
      }
    },
    {
      "cell_type": "markdown",
      "source": [
        "# Important: Run this code cell each time you start a new session!"
      ],
      "metadata": {
        "id": "DekAnzq1b82b"
      }
    },
    {
      "cell_type": "code",
      "source": [
        "!pip install numpy\n",
        "!pip install pandas\n",
        "!pip install matplotlib\n",
        "!pip install os\n",
        "!pip install opencv-python\n",
        "!pip install scikit-learn\n",
        "import numpy as np\n",
        "import pandas as pd\n",
        "import matplotlib.pyplot as plt\n",
        "import os\n",
        "import cv2\n",
        "import sklearn"
      ],
      "metadata": {
        "id": "jrO0X1ZMxMN5",
        "colab": {
          "base_uri": "https://localhost:8080/"
        },
        "outputId": "1c1a4a2d-c6f1-4825-a544-09eee3710508"
      },
      "execution_count": null,
      "outputs": [
        {
          "output_type": "stream",
          "name": "stdout",
          "text": [
            "Requirement already satisfied: numpy in /usr/local/lib/python3.10/dist-packages (1.22.4)\n",
            "Requirement already satisfied: pandas in /usr/local/lib/python3.10/dist-packages (1.5.3)\n",
            "Requirement already satisfied: python-dateutil>=2.8.1 in /usr/local/lib/python3.10/dist-packages (from pandas) (2.8.2)\n",
            "Requirement already satisfied: pytz>=2020.1 in /usr/local/lib/python3.10/dist-packages (from pandas) (2022.7.1)\n",
            "Requirement already satisfied: numpy>=1.21.0 in /usr/local/lib/python3.10/dist-packages (from pandas) (1.22.4)\n",
            "Requirement already satisfied: six>=1.5 in /usr/local/lib/python3.10/dist-packages (from python-dateutil>=2.8.1->pandas) (1.16.0)\n",
            "Requirement already satisfied: matplotlib in /usr/local/lib/python3.10/dist-packages (3.7.1)\n",
            "Requirement already satisfied: contourpy>=1.0.1 in /usr/local/lib/python3.10/dist-packages (from matplotlib) (1.1.0)\n",
            "Requirement already satisfied: cycler>=0.10 in /usr/local/lib/python3.10/dist-packages (from matplotlib) (0.11.0)\n",
            "Requirement already satisfied: fonttools>=4.22.0 in /usr/local/lib/python3.10/dist-packages (from matplotlib) (4.41.1)\n",
            "Requirement already satisfied: kiwisolver>=1.0.1 in /usr/local/lib/python3.10/dist-packages (from matplotlib) (1.4.4)\n",
            "Requirement already satisfied: numpy>=1.20 in /usr/local/lib/python3.10/dist-packages (from matplotlib) (1.22.4)\n",
            "Requirement already satisfied: packaging>=20.0 in /usr/local/lib/python3.10/dist-packages (from matplotlib) (23.1)\n",
            "Requirement already satisfied: pillow>=6.2.0 in /usr/local/lib/python3.10/dist-packages (from matplotlib) (9.4.0)\n",
            "Requirement already satisfied: pyparsing>=2.3.1 in /usr/local/lib/python3.10/dist-packages (from matplotlib) (3.1.0)\n",
            "Requirement already satisfied: python-dateutil>=2.7 in /usr/local/lib/python3.10/dist-packages (from matplotlib) (2.8.2)\n",
            "Requirement already satisfied: six>=1.5 in /usr/local/lib/python3.10/dist-packages (from python-dateutil>=2.7->matplotlib) (1.16.0)\n",
            "\u001b[31mERROR: Could not find a version that satisfies the requirement os (from versions: none)\u001b[0m\u001b[31m\n",
            "\u001b[0m\u001b[31mERROR: No matching distribution found for os\u001b[0m\u001b[31m\n",
            "\u001b[0mRequirement already satisfied: opencv-python in /usr/local/lib/python3.10/dist-packages (4.7.0.72)\n",
            "Requirement already satisfied: numpy>=1.21.2 in /usr/local/lib/python3.10/dist-packages (from opencv-python) (1.22.4)\n",
            "Requirement already satisfied: scikit-learn in /usr/local/lib/python3.10/dist-packages (1.2.2)\n",
            "Requirement already satisfied: numpy>=1.17.3 in /usr/local/lib/python3.10/dist-packages (from scikit-learn) (1.22.4)\n",
            "Requirement already satisfied: scipy>=1.3.2 in /usr/local/lib/python3.10/dist-packages (from scikit-learn) (1.10.1)\n",
            "Requirement already satisfied: joblib>=1.1.1 in /usr/local/lib/python3.10/dist-packages (from scikit-learn) (1.3.1)\n",
            "Requirement already satisfied: threadpoolctl>=2.0.0 in /usr/local/lib/python3.10/dist-packages (from scikit-learn) (3.2.0)\n"
          ]
        }
      ]
    },
    {
      "cell_type": "code",
      "source": [
        "!wget -Ncnp https://isic-challenge-data.s3.amazonaws.com/2016/ISBI2016_ISIC_Part3_Training_Data.zip"
      ],
      "metadata": {
        "id": "bASFcdZNZuGJ",
        "colab": {
          "base_uri": "https://localhost:8080/"
        },
        "outputId": "ce5b368f-61e5-44f3-d2b6-09caa9229d7f"
      },
      "execution_count": null,
      "outputs": [
        {
          "output_type": "stream",
          "name": "stdout",
          "text": [
            "--2023-07-31 21:46:24--  https://isic-challenge-data.s3.amazonaws.com/2016/ISBI2016_ISIC_Part3_Training_Data.zip\n",
            "Resolving isic-challenge-data.s3.amazonaws.com (isic-challenge-data.s3.amazonaws.com)... 3.5.25.222, 52.216.109.59, 52.217.174.217, ...\n",
            "Connecting to isic-challenge-data.s3.amazonaws.com (isic-challenge-data.s3.amazonaws.com)|3.5.25.222|:443... connected.\n",
            "HTTP request sent, awaiting response... 304 Not Modified\n",
            "File ‘ISBI2016_ISIC_Part3_Training_Data.zip’ not modified on server. Omitting download.\n",
            "\n"
          ]
        }
      ]
    },
    {
      "cell_type": "code",
      "source": [
        "!unzip -n ISBI2016_ISIC_Part3_Training_Data.zip"
      ],
      "metadata": {
        "id": "2hP2UnPrcEdI",
        "colab": {
          "base_uri": "https://localhost:8080/"
        },
        "outputId": "7436f2f5-2d5a-460b-9dbf-a69d2f846e78"
      },
      "execution_count": null,
      "outputs": [
        {
          "output_type": "stream",
          "name": "stdout",
          "text": [
            "Archive:  ISBI2016_ISIC_Part3_Training_Data.zip\n"
          ]
        }
      ]
    },
    {
      "cell_type": "code",
      "source": [
        "!wget -Ncnp https://isic-challenge-data.s3.amazonaws.com/2016/ISBI2016_ISIC_Part3_Training_GroundTruth.csv"
      ],
      "metadata": {
        "id": "hIBYeAPogvAW",
        "colab": {
          "base_uri": "https://localhost:8080/"
        },
        "outputId": "e4baa1ce-a766-4b1b-87a1-c6478d20fe65"
      },
      "execution_count": null,
      "outputs": [
        {
          "output_type": "stream",
          "name": "stdout",
          "text": [
            "--2023-07-31 21:46:26--  https://isic-challenge-data.s3.amazonaws.com/2016/ISBI2016_ISIC_Part3_Training_GroundTruth.csv\n",
            "Resolving isic-challenge-data.s3.amazonaws.com (isic-challenge-data.s3.amazonaws.com)... 3.5.25.222, 52.216.109.59, 52.217.174.217, ...\n",
            "Connecting to isic-challenge-data.s3.amazonaws.com (isic-challenge-data.s3.amazonaws.com)|3.5.25.222|:443... connected.\n",
            "HTTP request sent, awaiting response... 304 Not Modified\n",
            "File ‘ISBI2016_ISIC_Part3_Training_GroundTruth.csv’ not modified on server. Omitting download.\n",
            "\n"
          ]
        }
      ]
    },
    {
      "cell_type": "code",
      "source": [
        "!wget -Ncnp https://isic-challenge-data.s3.amazonaws.com/2016/ISBI2016_ISIC_Part1_Training_GroundTruth.zip"
      ],
      "metadata": {
        "id": "b3tho-Kt9q_x",
        "colab": {
          "base_uri": "https://localhost:8080/"
        },
        "outputId": "5299fff2-d811-48c6-8d97-236cd327d4cb"
      },
      "execution_count": null,
      "outputs": [
        {
          "output_type": "stream",
          "name": "stdout",
          "text": [
            "--2023-07-31 21:46:26--  https://isic-challenge-data.s3.amazonaws.com/2016/ISBI2016_ISIC_Part1_Training_GroundTruth.zip\n",
            "Resolving isic-challenge-data.s3.amazonaws.com (isic-challenge-data.s3.amazonaws.com)... 3.5.25.222, 52.216.109.59, 52.217.174.217, ...\n",
            "Connecting to isic-challenge-data.s3.amazonaws.com (isic-challenge-data.s3.amazonaws.com)|3.5.25.222|:443... connected.\n",
            "HTTP request sent, awaiting response... 304 Not Modified\n",
            "File ‘ISBI2016_ISIC_Part1_Training_GroundTruth.zip’ not modified on server. Omitting download.\n",
            "\n"
          ]
        }
      ]
    },
    {
      "cell_type": "code",
      "source": [
        "!unzip -n ISBI2016_ISIC_Part1_Training_GroundTruth.zip"
      ],
      "metadata": {
        "id": "Ebi3lsSm-poa",
        "colab": {
          "base_uri": "https://localhost:8080/"
        },
        "outputId": "297aeba4-11c1-4d3a-e0cd-8063a5bbf413"
      },
      "execution_count": null,
      "outputs": [
        {
          "output_type": "stream",
          "name": "stdout",
          "text": [
            "Archive:  ISBI2016_ISIC_Part1_Training_GroundTruth.zip\n"
          ]
        }
      ]
    },
    {
      "cell_type": "markdown",
      "source": [
        "# Step 1: Define the Problem We Are Trying to Solve"
      ],
      "metadata": {
        "id": "xP4sP_ekZxqW"
      }
    },
    {
      "cell_type": "markdown",
      "source": [
        "As before, our overarching goal is to generate a binary classification model that predicts whether the skin lesion in a photograph is benign or malignant. We will consider the latter to be our positive class."
      ],
      "metadata": {
        "id": "BBrNiJenan-A"
      }
    },
    {
      "cell_type": "code",
      "source": [
        "# The relevant folders and files associated with this dataset\n",
        "# (we will talk about some of them later)\n",
        "image_folder = 'ISBI2016_ISIC_Part3_Training_Data'\n",
        "segementation_folder = 'ISBI2016_ISIC_Part1_Training_GroundTruth'\n",
        "label_file = 'ISBI2016_ISIC_Part3_Training_GroundTruth.csv'"
      ],
      "metadata": {
        "id": "tjO9wyZHMg9O"
      },
      "execution_count": null,
      "outputs": []
    },
    {
      "cell_type": "code",
      "source": [
        "# Load two pre-selected image files to show what they look like\n",
        "benign_filename = 'ISIC_0000000.jpg'\n",
        "malignant_filename = 'ISIC_0000002.jpg'\n",
        "benign_img = cv2.imread(os.path.join(image_folder, benign_filename))\n",
        "benign_img = cv2.cvtColor(benign_img, cv2.COLOR_BGR2RGB)\n",
        "malignant_img = cv2.imread(os.path.join(image_folder, malignant_filename))\n",
        "malignant_img = cv2.cvtColor(malignant_img, cv2.COLOR_BGR2RGB)\n",
        "\n",
        "# Show the images and their labels\n",
        "plt.figure(figsize=(6, 3))\n",
        "plt.subplot(1, 2, 1), plt.imshow(benign_img), plt.title('Benign')\n",
        "plt.subplot(1, 2, 2), plt.imshow(malignant_img), plt.title('Malignant')\n",
        "plt.show()"
      ],
      "metadata": {
        "id": "nlbjx-aIDbFe",
        "colab": {
          "base_uri": "https://localhost:8080/"
        },
        "outputId": "268243bf-767e-48e2-806e-4e46b2144b26"
      },
      "execution_count": null,
      "outputs": [
        {
          "output_type": "display_data",
          "data": {
            "text/plain": [
              "<Figure size 600x300 with 2 Axes>"
            ],
            "image/png": "[encoded data removed]"
          },
          "metadata": {}
        }
      ]
    },
    {
      "cell_type": "markdown",
      "source": [
        "# Step 2: Create Your Features and Labels"
      ],
      "metadata": {
        "id": "dF7vGVljaKp7"
      }
    },
    {
      "cell_type": "markdown",
      "source": [
        "We are going to keep our labels and features the same as before. All of the code from the previous session is copied below, so refer to that notebook if you need a reminder of how we came up with these code blocks."
      ],
      "metadata": {
        "id": "1O2DKWI7lpOk"
      }
    },
    {
      "cell_type": "code",
      "source": [
        "# Generate labels\n",
        "labels_df = pd.read_csv(label_file, header=None)\n",
        "labels_df.rename(columns={0: 'Image Name', 1: 'Label'}, inplace=True)\n",
        "labels_df.set_index(['Image Name'], inplace=True)\n",
        "labels_df['Label'].replace({'benign': 0, 'malignant': 1}, inplace=True)"
      ],
      "metadata": {
        "id": "Xkr2TodFhmN8"
      },
      "execution_count": null,
      "outputs": []
    },
    {
      "cell_type": "code",
      "source": [
        "# Helper function for extracting contour from annotation\n",
        "def extract_contour(seg_img):\n",
        "    \"\"\"\n",
        "    Extracts the lone contour from the image annotation\n",
        "    seg_img: a binary image representing an annotation\n",
        "    \"\"\"\n",
        "    cnts, hierarchy = cv2.findContours(seg_img, cv2.RETR_TREE, cv2.CHAIN_APPROX_SIMPLE)\n",
        "    return cnts[0]"
      ],
      "metadata": {
        "id": "TgSG8O2e-aY2"
      },
      "execution_count": null,
      "outputs": []
    },
    {
      "cell_type": "code",
      "source": [
        "from scipy.spatial.distance import cdist\n",
        "\n",
        "# Helper functions for calculating our custom asymmetry score\n",
        "def rotate_contour(cnt, angle, center):\n",
        "    rotation_matrix = cv2.getRotationMatrix2D(center, angle, 1.0)\n",
        "    rotated_contour = cv2.transform(cnt.reshape(-1, 1, 2), rotation_matrix).reshape(-1, 2).astype(int)\n",
        "    return rotated_contour\n",
        "\n",
        "def flip_contour_horiz(cnt, width):\n",
        "    return np.array([[[width - point[0][0], point[0][1]] for point in cnt]], dtype=np.int32)\n",
        "\n",
        "def get_hausdorff_distance(cnt1, cnt2):\n",
        "    pts1 = np.array(cnt1).squeeze()\n",
        "    pts2 = np.array(cnt2).squeeze()\n",
        "    distances = cdist(pts1, pts2)\n",
        "    return np.max(np.min(distances, axis=0))"
      ],
      "metadata": {
        "id": "HzeNjrKl5umC"
      },
      "execution_count": null,
      "outputs": []
    },
    {
      "cell_type": "code",
      "source": [
        "def compute_asymmetry(img, cnt):\n",
        "    \"\"\"\n",
        "    Compute the asymmetry of the skin lesion by comparing the contour with a\n",
        "    reflected version of itself\n",
        "    img: the image of the skin lesion\n",
        "    cnt: the contour of the skin lesion\n",
        "    \"\"\"\n",
        "    # Get the min enclosing ellipse\n",
        "    center, axes, angle = cv2.fitEllipse(cnt)\n",
        "\n",
        "    # Rotate the contour so that it is upright\n",
        "    rotated_cnt = rotate_contour(cnt, angle, center)\n",
        "\n",
        "    # Flip the contour horizontally\n",
        "    flipped_rotated_cnt = flip_contour_horiz(cnt, img.shape[1])\n",
        "\n",
        "    distance = get_hausdorff_distance(rotated_cnt, flipped_rotated_cnt)\n",
        "\n",
        "    # Compute the diameter of the contour\n",
        "    _, r = cv2.minEnclosingCircle(cnt)\n",
        "    d = 2*r\n",
        "\n",
        "    # Compute the symmetry score\n",
        "    return distance / d"
      ],
      "metadata": {
        "id": "FNZOOcXsdISL"
      },
      "execution_count": null,
      "outputs": []
    },
    {
      "cell_type": "code",
      "source": [
        "def compute_border(cnt):\n",
        "    \"\"\"\n",
        "    Compute the jaggedness of the skin lesion's border by comparing the\n",
        "    perimeter of the actual border to the perimeter of a smoothed version of it\n",
        "    cnt: the contour of the skin lesion\n",
        "    \"\"\"\n",
        "    # Compute the perimeter\n",
        "    perimeter = cv2.arcLength(cnt, True)\n",
        "\n",
        "    # Approximate the contour as a convex hull\n",
        "    epsilon = 0.01 * perimeter\n",
        "    approx = cv2.approxPolyDP(cnt, epsilon, True)\n",
        "\n",
        "    # Compute the perimeter of the convex hull\n",
        "    simplified_perimeter = cv2.arcLength(approx, True)\n",
        "\n",
        "    # Return the ratio between the two\n",
        "    return simplified_perimeter / perimeter"
      ],
      "metadata": {
        "id": "nt_TUVgzc4gp"
      },
      "execution_count": null,
      "outputs": []
    },
    {
      "cell_type": "code",
      "source": [
        "def compute_color(img, cnt):\n",
        "    \"\"\"\n",
        "    Compute the average color of the skin lesion within the contour\n",
        "    img: the image of the skin lesion\n",
        "    cnt: the contour of the skin lesion\n",
        "    \"\"\"\n",
        "    # Convert the image to HSV\n",
        "    hsv_img = cv2.cvtColor(img, cv2.COLOR_RGB2HSV)\n",
        "\n",
        "    # Recreate the binary mask using the contour\n",
        "    mask = np.zeros(img.shape[:2], dtype=np.uint8)\n",
        "    cv2.drawContours(mask, [cnt], -1, (255), thickness=-1)\n",
        "\n",
        "    # Apply the mask to the image\n",
        "    # TODO: see if this changes things and remove otherwise???\n",
        "    masked_img = cv2.bitwise_and(img, img, mask=mask)\n",
        "\n",
        "    # Compute the average HSV color\n",
        "    return cv2.mean(masked_img, mask=mask)[:3]"
      ],
      "metadata": {
        "id": "ZOp5ASdMCMUx"
      },
      "execution_count": null,
      "outputs": []
    },
    {
      "cell_type": "code",
      "source": [
        "def compute_diameter(cnt):\n",
        "    \"\"\"\n",
        "    Compute the radius of the skin lesion according to the min enclosing circle\n",
        "    cnt: the contour of the skin lesion\n",
        "    \"\"\"\n",
        "    _, r = cv2.minEnclosingCircle(cnt)\n",
        "    return 2*r"
      ],
      "metadata": {
        "id": "Bnz0KZtDCQ_0"
      },
      "execution_count": null,
      "outputs": []
    },
    {
      "cell_type": "code",
      "source": [
        "def process_img(filename):\n",
        "    \"\"\"\n",
        "    Process a skin lesion image and produce all of the features according to\n",
        "    the ABCD(E) rule as a dictionary (one value per key)\n",
        "    filename: the name of the skin lesion image without the file extension\n",
        "    \"\"\"\n",
        "    # Get the contour filename\n",
        "    rgb_filename = filename + '.jpg'\n",
        "    seg_filename = filename + '_Segmentation.png'\n",
        "\n",
        "    # Get both of the images (RGB and segmentation annotation)\n",
        "    img = cv2.imread(os.path.join(image_folder, rgb_filename))\n",
        "    img = cv2.cvtColor(img, cv2.COLOR_BGR2RGB)\n",
        "    seg_img = cv2.imread(os.path.join(segementation_folder, seg_filename))\n",
        "    seg_img = cv2.cvtColor(seg_img, cv2.COLOR_BGR2GRAY)\n",
        "\n",
        "    # Get the contour\n",
        "    cnt = extract_contour(seg_img)\n",
        "\n",
        "    # Extract features from the image\n",
        "    asymmetry = compute_asymmetry(img, cnt)\n",
        "    border = compute_border(cnt)\n",
        "    color = compute_color(img, cnt)\n",
        "    diameter = compute_diameter(cnt)\n",
        "    feature_dict = {'Asymmetry': asymmetry,\n",
        "                    'Border': border,\n",
        "                    'Color (H)': color[0],\n",
        "                    'Color (S)': color[1],\n",
        "                    'Color (V)': color[2],\n",
        "                    'Diameter': diameter}\n",
        "\n",
        "    # Combine everything into a feature vector\n",
        "    return feature_dict"
      ],
      "metadata": {
        "id": "-6Egsxlfil5v"
      },
      "execution_count": null,
      "outputs": []
    },
    {
      "cell_type": "code",
      "source": [
        "# Get all the filenames but remove the extension\n",
        "img_filenames = os.listdir(image_folder)\n",
        "img_filenames = sorted([f[:-4] for f in img_filenames])\n",
        "\n",
        "# Iterate through the filenames\n",
        "features_df = pd.DataFrame()\n",
        "for img_filename in img_filenames:\n",
        "    # Generate the features\n",
        "    feature_dict = process_img(img_filename)\n",
        "\n",
        "    # Add the image name\n",
        "    feature_dict['Image Name'] = img_filename\n",
        "    feature_df = pd.DataFrame([feature_dict])\n",
        "    features_df = pd.concat([features_df, feature_df], axis=0)\n",
        "\n",
        "# Set the index to the image name\n",
        "features_df.set_index(['Image Name'], inplace=True)\n",
        "features_df.head()"
      ],
      "metadata": {
        "id": "vyt2LUL7i1BC",
        "colab": {
          "base_uri": "https://localhost:8080/"
        },
        "outputId": "e8ad28b1-c198-4b3e-f773-08ed6210396d"
      },
      "execution_count": null,
      "outputs": [
        {
          "output_type": "execute_result",
          "data": {
            "text/plain": [
              "              Asymmetry    Border   Color (H)   Color (S)   Color (V)  \\\n",
              "Image Name                                                              \n",
              "ISIC_0000000   0.264907  0.877928   86.632871   78.636808   84.051231   \n",
              "ISIC_0000001   0.139852  0.827353   78.426580   52.943311   41.744479   \n",
              "ISIC_0000002   0.229542  0.795672  129.650357  107.868072  111.128415   \n",
              "ISIC_0000004   0.247067  0.941746  187.453682  127.536826  154.028681   \n",
              "ISIC_0000006   0.242043  0.815090  118.679519  100.910330   91.096321   \n",
              "\n",
              "                Diameter  \n",
              "Image Name                \n",
              "ISIC_0000000  865.640381  \n",
              "ISIC_0000001  296.289154  \n",
              "ISIC_0000002  646.436462  \n",
              "ISIC_0000004  677.091003  \n",
              "ISIC_0000006  367.912750  "
            ],
            "text/html": [
              "\n",
              "\n",
              "  <div id=\"df-26c2ef49-4d99-4414-8532-288a58d5f5ad\">\n",
              "    <div class=\"colab-df-container\">\n",
              "      <div>\n",
              "<style scoped>\n",
              "    .dataframe tbody tr th:only-of-type {\n",
              "        vertical-align: middle;\n",
              "    }\n",
              "\n",
              "    .dataframe tbody tr th {\n",
              "        vertical-align: top;\n",
              "    }\n",
              "\n",
              "    .dataframe thead th {\n",
              "        text-align: right;\n",
              "    }\n",
              "</style>\n",
              "<table border=\"1\" class=\"dataframe\">\n",
              "  <thead>\n",
              "    <tr style=\"text-align: right;\">\n",
              "      <th></th>\n",
              "      <th>Asymmetry</th>\n",
              "      <th>Border</th>\n",
              "      <th>Color (H)</th>\n",
              "      <th>Color (S)</th>\n",
              "      <th>Color (V)</th>\n",
              "      <th>Diameter</th>\n",
              "    </tr>\n",
              "    <tr>\n",
              "      <th>Image Name</th>\n",
              "      <th></th>\n",
              "      <th></th>\n",
              "      <th></th>\n",
              "      <th></th>\n",
              "      <th></th>\n",
              "      <th></th>\n",
              "    </tr>\n",
              "  </thead>\n",
              "  <tbody>\n",
              "    <tr>\n",
              "      <th>ISIC_0000000</th>\n",
              "      <td>0.264907</td>\n",
              "      <td>0.877928</td>\n",
              "      <td>86.632871</td>\n",
              "      <td>78.636808</td>\n",
              "      <td>84.051231</td>\n",
              "      <td>865.640381</td>\n",
              "    </tr>\n",
              "    <tr>\n",
              "      <th>ISIC_0000001</th>\n",
              "      <td>0.139852</td>\n",
              "      <td>0.827353</td>\n",
              "      <td>78.426580</td>\n",
              "      <td>52.943311</td>\n",
              "      <td>41.744479</td>\n",
              "      <td>296.289154</td>\n",
              "    </tr>\n",
              "    <tr>\n",
              "      <th>ISIC_0000002</th>\n",
              "      <td>0.229542</td>\n",
              "      <td>0.795672</td>\n",
              "      <td>129.650357</td>\n",
              "      <td>107.868072</td>\n",
              "      <td>111.128415</td>\n",
              "      <td>646.436462</td>\n",
              "    </tr>\n",
              "    <tr>\n",
              "      <th>ISIC_0000004</th>\n",
              "      <td>0.247067</td>\n",
              "      <td>0.941746</td>\n",
              "      <td>187.453682</td>\n",
              "      <td>127.536826</td>\n",
              "      <td>154.028681</td>\n",
              "      <td>677.091003</td>\n",
              "    </tr>\n",
              "    <tr>\n",
              "      <th>ISIC_0000006</th>\n",
              "      <td>0.242043</td>\n",
              "      <td>0.815090</td>\n",
              "      <td>118.679519</td>\n",
              "      <td>100.910330</td>\n",
              "      <td>91.096321</td>\n",
              "      <td>367.912750</td>\n",
              "    </tr>\n",
              "  </tbody>\n",
              "</table>\n",
              "</div>\n",
              "      <button class=\"colab-df-convert\" onclick=\"convertToInteractive('df-26c2ef49-4d99-4414-8532-288a58d5f5ad')\"\n",
              "              title=\"Convert this dataframe to an interactive table.\"\n",
              "              style=\"display:none;\">\n",
              "\n",
              "  <svg xmlns=\"http://www.w3.org/2000/svg\" height=\"24px\"viewBox=\"0 0 24 24\"\n",
              "       width=\"24px\">\n",
              "    <path d=\"M0 0h24v24H0V0z\" fill=\"none\"/>\n",
              "    <path d=\"M18.56 5.44l.94 2.06.94-2.06 2.06-.94-2.06-.94-.94-2.06-.94 2.06-2.06.94zm-11 1L8.5 8.5l.94-2.06 2.06-.94-2.06-.94L8.5 2.5l-.94 2.06-2.06.94zm10 10l.94 2.06.94-2.06 2.06-.94-2.06-.94-.94-2.06-.94 2.06-2.06.94z\"/><path d=\"M17.41 7.96l-1.37-1.37c-.4-.4-.92-.59-1.43-.59-.52 0-1.04.2-1.43.59L10.3 9.45l-7.72 7.72c-.78.78-.78 2.05 0 2.83L4 21.41c.39.39.9.59 1.41.59.51 0 1.02-.2 1.41-.59l7.78-7.78 2.81-2.81c.8-.78.8-2.07 0-2.86zM5.41 20L4 18.59l7.72-7.72 1.47 1.35L5.41 20z\"/>\n",
              "  </svg>\n",
              "      </button>\n",
              "\n",
              "\n",
              "\n",
              "    <div id=\"df-19589ea1-415b-448c-9449-5d5a6243901e\">\n",
              "      <button class=\"colab-df-quickchart\" onclick=\"quickchart('df-19589ea1-415b-448c-9449-5d5a6243901e')\"\n",
              "              title=\"Suggest charts.\"\n",
              "              style=\"display:none;\">\n",
              "\n",
              "<svg xmlns=\"http://www.w3.org/2000/svg\" height=\"24px\"viewBox=\"0 0 24 24\"\n",
              "     width=\"24px\">\n",
              "    <g>\n",
              "        <path d=\"M19 3H5c-1.1 0-2 .9-2 2v14c0 1.1.9 2 2 2h14c1.1 0 2-.9 2-2V5c0-1.1-.9-2-2-2zM9 17H7v-7h2v7zm4 0h-2V7h2v10zm4 0h-2v-4h2v4z\"/>\n",
              "    </g>\n",
              "</svg>\n",
              "      </button>\n",
              "    </div>\n",
              "\n",
              "<style>\n",
              "  .colab-df-quickchart {\n",
              "    background-color: #E8F0FE;\n",
              "    border: none;\n",
              "    border-radius: 50%;\n",
              "    cursor: pointer;\n",
              "    display: none;\n",
              "    fill: #1967D2;\n",
              "    height: 32px;\n",
              "    padding: 0 0 0 0;\n",
              "    width: 32px;\n",
              "  }\n",
              "\n",
              "  .colab-df-quickchart:hover {\n",
              "    background-color: #E2EBFA;\n",
              "    box-shadow: 0px 1px 2px rgba(60, 64, 67, 0.3), 0px 1px 3px 1px rgba(60, 64, 67, 0.15);\n",
              "    fill: #174EA6;\n",
              "  }\n",
              "\n",
              "  [theme=dark] .colab-df-quickchart {\n",
              "    background-color: #3B4455;\n",
              "    fill: #D2E3FC;\n",
              "  }\n",
              "\n",
              "  [theme=dark] .colab-df-quickchart:hover {\n",
              "    background-color: #434B5C;\n",
              "    box-shadow: 0px 1px 3px 1px rgba(0, 0, 0, 0.15);\n",
              "    filter: drop-shadow(0px 1px 2px rgba(0, 0, 0, 0.3));\n",
              "    fill: #FFFFFF;\n",
              "  }\n",
              "</style>\n",
              "\n",
              "    <script>\n",
              "      async function quickchart(key) {\n",
              "        const containerElement = document.querySelector('#' + key);\n",
              "        const charts = await google.colab.kernel.invokeFunction(\n",
              "            'suggestCharts', [key], {});\n",
              "      }\n",
              "    </script>\n",
              "\n",
              "      <script>\n",
              "\n",
              "function displayQuickchartButton(domScope) {\n",
              "  let quickchartButtonEl =\n",
              "    domScope.querySelector('#df-19589ea1-415b-448c-9449-5d5a6243901e button.colab-df-quickchart');\n",
              "  quickchartButtonEl.style.display =\n",
              "    google.colab.kernel.accessAllowed ? 'block' : 'none';\n",
              "}\n",
              "\n",
              "        displayQuickchartButton(document);\n",
              "      </script>\n",
              "      <style>\n",
              "    .colab-df-container {\n",
              "      display:flex;\n",
              "      flex-wrap:wrap;\n",
              "      gap: 12px;\n",
              "    }\n",
              "\n",
              "    .colab-df-convert {\n",
              "      background-color: #E8F0FE;\n",
              "      border: none;\n",
              "      border-radius: 50%;\n",
              "      cursor: pointer;\n",
              "      display: none;\n",
              "      fill: #1967D2;\n",
              "      height: 32px;\n",
              "      padding: 0 0 0 0;\n",
              "      width: 32px;\n",
              "    }\n",
              "\n",
              "    .colab-df-convert:hover {\n",
              "      background-color: #E2EBFA;\n",
              "      box-shadow: 0px 1px 2px rgba(60, 64, 67, 0.3), 0px 1px 3px 1px rgba(60, 64, 67, 0.15);\n",
              "      fill: #174EA6;\n",
              "    }\n",
              "\n",
              "    [theme=dark] .colab-df-convert {\n",
              "      background-color: #3B4455;\n",
              "      fill: #D2E3FC;\n",
              "    }\n",
              "\n",
              "    [theme=dark] .colab-df-convert:hover {\n",
              "      background-color: #434B5C;\n",
              "      box-shadow: 0px 1px 3px 1px rgba(0, 0, 0, 0.15);\n",
              "      filter: drop-shadow(0px 1px 2px rgba(0, 0, 0, 0.3));\n",
              "      fill: #FFFFFF;\n",
              "    }\n",
              "  </style>\n",
              "\n",
              "      <script>\n",
              "        const buttonEl =\n",
              "          document.querySelector('#df-26c2ef49-4d99-4414-8532-288a58d5f5ad button.colab-df-convert');\n",
              "        buttonEl.style.display =\n",
              "          google.colab.kernel.accessAllowed ? 'block' : 'none';\n",
              "\n",
              "        async function convertToInteractive(key) {\n",
              "          const element = document.querySelector('#df-26c2ef49-4d99-4414-8532-288a58d5f5ad');\n",
              "          const dataTable =\n",
              "            await google.colab.kernel.invokeFunction('convertToInteractive',\n",
              "                                                     [key], {});\n",
              "          if (!dataTable) return;\n",
              "\n",
              "          const docLinkHtml = 'Like what you see? Visit the ' +\n",
              "            '<a target=\"_blank\" href=https://colab.research.google.com/notebooks/data_table.ipynb>data table notebook</a>'\n",
              "            + ' to learn more about interactive tables.';\n",
              "          element.innerHTML = '';\n",
              "          dataTable['output_type'] = 'display_data';\n",
              "          await google.colab.output.renderOutput(dataTable, element);\n",
              "          const docLink = document.createElement('div');\n",
              "          docLink.innerHTML = docLinkHtml;\n",
              "          element.appendChild(docLink);\n",
              "        }\n",
              "      </script>\n",
              "    </div>\n",
              "  </div>\n"
            ]
          },
          "metadata": {},
          "execution_count": 105
        }
      ]
    },
    {
      "cell_type": "code",
      "source": [
        "df = features_df.merge(labels_df, left_index=True, right_index=True)\n",
        "df.head()"
      ],
      "metadata": {
        "id": "IGmw_RJsZXqg",
        "colab": {
          "base_uri": "https://localhost:8080/"
        },
        "outputId": "c121e36a-be13-4f90-802c-7c98cb942da2"
      },
      "execution_count": null,
      "outputs": [
        {
          "output_type": "execute_result",
          "data": {
            "text/plain": [
              "              Asymmetry    Border   Color (H)   Color (S)   Color (V)  \\\n",
              "Image Name                                                              \n",
              "ISIC_0000000   0.264907  0.877928   86.632871   78.636808   84.051231   \n",
              "ISIC_0000001   0.139852  0.827353   78.426580   52.943311   41.744479   \n",
              "ISIC_0000002   0.229542  0.795672  129.650357  107.868072  111.128415   \n",
              "ISIC_0000004   0.247067  0.941746  187.453682  127.536826  154.028681   \n",
              "ISIC_0000006   0.242043  0.815090  118.679519  100.910330   91.096321   \n",
              "\n",
              "                Diameter  Label  \n",
              "Image Name                       \n",
              "ISIC_0000000  865.640381      0  \n",
              "ISIC_0000001  296.289154      0  \n",
              "ISIC_0000002  646.436462      1  \n",
              "ISIC_0000004  677.091003      1  \n",
              "ISIC_0000006  367.912750      0  "
            ],
            "text/html": [
              "\n",
              "\n",
              "  <div id=\"df-7041336f-1979-45f9-b7fa-28304fb44e47\">\n",
              "    <div class=\"colab-df-container\">\n",
              "      <div>\n",
              "<style scoped>\n",
              "    .dataframe tbody tr th:only-of-type {\n",
              "        vertical-align: middle;\n",
              "    }\n",
              "\n",
              "    .dataframe tbody tr th {\n",
              "        vertical-align: top;\n",
              "    }\n",
              "\n",
              "    .dataframe thead th {\n",
              "        text-align: right;\n",
              "    }\n",
              "</style>\n",
              "<table border=\"1\" class=\"dataframe\">\n",
              "  <thead>\n",
              "    <tr style=\"text-align: right;\">\n",
              "      <th></th>\n",
              "      <th>Asymmetry</th>\n",
              "      <th>Border</th>\n",
              "      <th>Color (H)</th>\n",
              "      <th>Color (S)</th>\n",
              "      <th>Color (V)</th>\n",
              "      <th>Diameter</th>\n",
              "      <th>Label</th>\n",
              "    </tr>\n",
              "    <tr>\n",
              "      <th>Image Name</th>\n",
              "      <th></th>\n",
              "      <th></th>\n",
              "      <th></th>\n",
              "      <th></th>\n",
              "      <th></th>\n",
              "      <th></th>\n",
              "      <th></th>\n",
              "    </tr>\n",
              "  </thead>\n",
              "  <tbody>\n",
              "    <tr>\n",
              "      <th>ISIC_0000000</th>\n",
              "      <td>0.264907</td>\n",
              "      <td>0.877928</td>\n",
              "      <td>86.632871</td>\n",
              "      <td>78.636808</td>\n",
              "      <td>84.051231</td>\n",
              "      <td>865.640381</td>\n",
              "      <td>0</td>\n",
              "    </tr>\n",
              "    <tr>\n",
              "      <th>ISIC_0000001</th>\n",
              "      <td>0.139852</td>\n",
              "      <td>0.827353</td>\n",
              "      <td>78.426580</td>\n",
              "      <td>52.943311</td>\n",
              "      <td>41.744479</td>\n",
              "      <td>296.289154</td>\n",
              "      <td>0</td>\n",
              "    </tr>\n",
              "    <tr>\n",
              "      <th>ISIC_0000002</th>\n",
              "      <td>0.229542</td>\n",
              "      <td>0.795672</td>\n",
              "      <td>129.650357</td>\n",
              "      <td>107.868072</td>\n",
              "      <td>111.128415</td>\n",
              "      <td>646.436462</td>\n",
              "      <td>1</td>\n",
              "    </tr>\n",
              "    <tr>\n",
              "      <th>ISIC_0000004</th>\n",
              "      <td>0.247067</td>\n",
              "      <td>0.941746</td>\n",
              "      <td>187.453682</td>\n",
              "      <td>127.536826</td>\n",
              "      <td>154.028681</td>\n",
              "      <td>677.091003</td>\n",
              "      <td>1</td>\n",
              "    </tr>\n",
              "    <tr>\n",
              "      <th>ISIC_0000006</th>\n",
              "      <td>0.242043</td>\n",
              "      <td>0.815090</td>\n",
              "      <td>118.679519</td>\n",
              "      <td>100.910330</td>\n",
              "      <td>91.096321</td>\n",
              "      <td>367.912750</td>\n",
              "      <td>0</td>\n",
              "    </tr>\n",
              "  </tbody>\n",
              "</table>\n",
              "</div>\n",
              "      <button class=\"colab-df-convert\" onclick=\"convertToInteractive('df-7041336f-1979-45f9-b7fa-28304fb44e47')\"\n",
              "              title=\"Convert this dataframe to an interactive table.\"\n",
              "              style=\"display:none;\">\n",
              "\n",
              "  <svg xmlns=\"http://www.w3.org/2000/svg\" height=\"24px\"viewBox=\"0 0 24 24\"\n",
              "       width=\"24px\">\n",
              "    <path d=\"M0 0h24v24H0V0z\" fill=\"none\"/>\n",
              "    <path d=\"M18.56 5.44l.94 2.06.94-2.06 2.06-.94-2.06-.94-.94-2.06-.94 2.06-2.06.94zm-11 1L8.5 8.5l.94-2.06 2.06-.94-2.06-.94L8.5 2.5l-.94 2.06-2.06.94zm10 10l.94 2.06.94-2.06 2.06-.94-2.06-.94-.94-2.06-.94 2.06-2.06.94z\"/><path d=\"M17.41 7.96l-1.37-1.37c-.4-.4-.92-.59-1.43-.59-.52 0-1.04.2-1.43.59L10.3 9.45l-7.72 7.72c-.78.78-.78 2.05 0 2.83L4 21.41c.39.39.9.59 1.41.59.51 0 1.02-.2 1.41-.59l7.78-7.78 2.81-2.81c.8-.78.8-2.07 0-2.86zM5.41 20L4 18.59l7.72-7.72 1.47 1.35L5.41 20z\"/>\n",
              "  </svg>\n",
              "      </button>\n",
              "\n",
              "\n",
              "\n",
              "    <div id=\"df-144c81ee-7ca2-401f-8ae3-7d23f4fe9c80\">\n",
              "      <button class=\"colab-df-quickchart\" onclick=\"quickchart('df-144c81ee-7ca2-401f-8ae3-7d23f4fe9c80')\"\n",
              "              title=\"Suggest charts.\"\n",
              "              style=\"display:none;\">\n",
              "\n",
              "<svg xmlns=\"http://www.w3.org/2000/svg\" height=\"24px\"viewBox=\"0 0 24 24\"\n",
              "     width=\"24px\">\n",
              "    <g>\n",
              "        <path d=\"M19 3H5c-1.1 0-2 .9-2 2v14c0 1.1.9 2 2 2h14c1.1 0 2-.9 2-2V5c0-1.1-.9-2-2-2zM9 17H7v-7h2v7zm4 0h-2V7h2v10zm4 0h-2v-4h2v4z\"/>\n",
              "    </g>\n",
              "</svg>\n",
              "      </button>\n",
              "    </div>\n",
              "\n",
              "<style>\n",
              "  .colab-df-quickchart {\n",
              "    background-color: #E8F0FE;\n",
              "    border: none;\n",
              "    border-radius: 50%;\n",
              "    cursor: pointer;\n",
              "    display: none;\n",
              "    fill: #1967D2;\n",
              "    height: 32px;\n",
              "    padding: 0 0 0 0;\n",
              "    width: 32px;\n",
              "  }\n",
              "\n",
              "  .colab-df-quickchart:hover {\n",
              "    background-color: #E2EBFA;\n",
              "    box-shadow: 0px 1px 2px rgba(60, 64, 67, 0.3), 0px 1px 3px 1px rgba(60, 64, 67, 0.15);\n",
              "    fill: #174EA6;\n",
              "  }\n",
              "\n",
              "  [theme=dark] .colab-df-quickchart {\n",
              "    background-color: #3B4455;\n",
              "    fill: #D2E3FC;\n",
              "  }\n",
              "\n",
              "  [theme=dark] .colab-df-quickchart:hover {\n",
              "    background-color: #434B5C;\n",
              "    box-shadow: 0px 1px 3px 1px rgba(0, 0, 0, 0.15);\n",
              "    filter: drop-shadow(0px 1px 2px rgba(0, 0, 0, 0.3));\n",
              "    fill: #FFFFFF;\n",
              "  }\n",
              "</style>\n",
              "\n",
              "    <script>\n",
              "      async function quickchart(key) {\n",
              "        const containerElement = document.querySelector('#' + key);\n",
              "        const charts = await google.colab.kernel.invokeFunction(\n",
              "            'suggestCharts', [key], {});\n",
              "      }\n",
              "    </script>\n",
              "\n",
              "      <script>\n",
              "\n",
              "function displayQuickchartButton(domScope) {\n",
              "  let quickchartButtonEl =\n",
              "    domScope.querySelector('#df-144c81ee-7ca2-401f-8ae3-7d23f4fe9c80 button.colab-df-quickchart');\n",
              "  quickchartButtonEl.style.display =\n",
              "    google.colab.kernel.accessAllowed ? 'block' : 'none';\n",
              "}\n",
              "\n",
              "        displayQuickchartButton(document);\n",
              "      </script>\n",
              "      <style>\n",
              "    .colab-df-container {\n",
              "      display:flex;\n",
              "      flex-wrap:wrap;\n",
              "      gap: 12px;\n",
              "    }\n",
              "\n",
              "    .colab-df-convert {\n",
              "      background-color: #E8F0FE;\n",
              "      border: none;\n",
              "      border-radius: 50%;\n",
              "      cursor: pointer;\n",
              "      display: none;\n",
              "      fill: #1967D2;\n",
              "      height: 32px;\n",
              "      padding: 0 0 0 0;\n",
              "      width: 32px;\n",
              "    }\n",
              "\n",
              "    .colab-df-convert:hover {\n",
              "      background-color: #E2EBFA;\n",
              "      box-shadow: 0px 1px 2px rgba(60, 64, 67, 0.3), 0px 1px 3px 1px rgba(60, 64, 67, 0.15);\n",
              "      fill: #174EA6;\n",
              "    }\n",
              "\n",
              "    [theme=dark] .colab-df-convert {\n",
              "      background-color: #3B4455;\n",
              "      fill: #D2E3FC;\n",
              "    }\n",
              "\n",
              "    [theme=dark] .colab-df-convert:hover {\n",
              "      background-color: #434B5C;\n",
              "      box-shadow: 0px 1px 3px 1px rgba(0, 0, 0, 0.15);\n",
              "      filter: drop-shadow(0px 1px 2px rgba(0, 0, 0, 0.3));\n",
              "      fill: #FFFFFF;\n",
              "    }\n",
              "  </style>\n",
              "\n",
              "      <script>\n",
              "        const buttonEl =\n",
              "          document.querySelector('#df-7041336f-1979-45f9-b7fa-28304fb44e47 button.colab-df-convert');\n",
              "        buttonEl.style.display =\n",
              "          google.colab.kernel.accessAllowed ? 'block' : 'none';\n",
              "\n",
              "        async function convertToInteractive(key) {\n",
              "          const element = document.querySelector('#df-7041336f-1979-45f9-b7fa-28304fb44e47');\n",
              "          const dataTable =\n",
              "            await google.colab.kernel.invokeFunction('convertToInteractive',\n",
              "                                                     [key], {});\n",
              "          if (!dataTable) return;\n",
              "\n",
              "          const docLinkHtml = 'Like what you see? Visit the ' +\n",
              "            '<a target=\"_blank\" href=https://colab.research.google.com/notebooks/data_table.ipynb>data table notebook</a>'\n",
              "            + ' to learn more about interactive tables.';\n",
              "          element.innerHTML = '';\n",
              "          dataTable['output_type'] = 'display_data';\n",
              "          await google.colab.output.renderOutput(dataTable, element);\n",
              "          const docLink = document.createElement('div');\n",
              "          docLink.innerHTML = docLinkHtml;\n",
              "          element.appendChild(docLink);\n",
              "        }\n",
              "      </script>\n",
              "    </div>\n",
              "  </div>\n"
            ]
          },
          "metadata": {},
          "execution_count": 106
        }
      ]
    },
    {
      "cell_type": "markdown",
      "source": [
        "# Step 3: Decide How the Data Should Be Split for Training and Testing"
      ],
      "metadata": {
        "id": "ryaahUysaOHD"
      }
    },
    {
      "cell_type": "markdown",
      "source": [
        "Similar to before, we are going to use an 80%-20% split to train and test our model. All of the code from the previous session is copied below, so refer to that notebook if you need a reminder of how we came up with these code blocks."
      ],
      "metadata": {
        "id": "k6EWrUy4BBbp"
      }
    },
    {
      "cell_type": "code",
      "source": [
        "from sklearn.model_selection import train_test_split\n",
        "\n",
        "# Set the random seed to an arbitrary number of your choosing\n",
        "np.random.seed(42)\n",
        "\n",
        "# Split off 20% of the data for model testing\n",
        "train_df, test_df = train_test_split(df, test_size=0.2)\n",
        "\n",
        "# Show the results\n",
        "print(f'Number of samples in train data: {len(train_df)}')\n",
        "print(f'Number of samples in test data: {len(test_df)}')"
      ],
      "metadata": {
        "id": "dtSB2DFjA_FG",
        "colab": {
          "base_uri": "https://localhost:8080/"
        },
        "outputId": "c922e906-1f99-4556-bc74-8006f307ea94"
      },
      "execution_count": null,
      "outputs": [
        {
          "output_type": "stream",
          "name": "stdout",
          "text": [
            "Number of samples in train data: 720\n",
            "Number of samples in test data: 180\n"
          ]
        }
      ]
    },
    {
      "cell_type": "code",
      "source": [
        "x_train = train_df.drop('Label', axis=1).values\n",
        "y_train = train_df['Label'].values\n",
        "x_test = test_df.drop('Label', axis=1).values\n",
        "y_test = test_df['Label'].values"
      ],
      "metadata": {
        "id": "rECmsVbb8305"
      },
      "execution_count": null,
      "outputs": []
    },
    {
      "cell_type": "markdown",
      "source": [
        "# Step 4: (Optional) Add Feature Selection"
      ],
      "metadata": {
        "id": "gmMs1P1tabse"
      }
    },
    {
      "cell_type": "markdown",
      "source": [
        "Given that we only have a few features and they are informed by domain expertise, we are going to skip this step and assume that we have a reasonable set of features."
      ],
      "metadata": {
        "id": "Qv-3GvQCcG1_"
      }
    },
    {
      "cell_type": "markdown",
      "source": [
        "# Step 5: (Optional) Balance Your Dataset"
      ],
      "metadata": {
        "id": "2ip_I8PZtMxy"
      }
    },
    {
      "cell_type": "markdown",
      "source": [
        "Recall that our dataset was fairly imbalanced:"
      ],
      "metadata": {
        "id": "xVdSPKfVtWbl"
      }
    },
    {
      "cell_type": "code",
      "source": [
        "def print_label_dist(y):\n",
        "    \"\"\"\n",
        "    Prints out the balance between positive and negative samples\n",
        "    y: a 1D array of labels\n",
        "    \"\"\"\n",
        "    num_neg = np.count_nonzero(y == 0)\n",
        "    num_pos = np.count_nonzero(y == 1)\n",
        "    print(f'Number of benign samples: {num_neg}')\n",
        "    print(f'Number of malignant samples: {num_pos}')\n",
        "    print(f'Fraction of positive samples: {num_pos/(num_pos+num_neg):0.2f}')"
      ],
      "metadata": {
        "id": "_xp6oTLPtYLw"
      },
      "execution_count": null,
      "outputs": []
    },
    {
      "cell_type": "code",
      "source": [
        "print_label_dist(df['Label'].values)"
      ],
      "metadata": {
        "colab": {
          "base_uri": "https://localhost:8080/"
        },
        "id": "LstJADupSo_w",
        "outputId": "bf76a2ba-e17e-43e5-f56b-2d13846878fe"
      },
      "execution_count": null,
      "outputs": [
        {
          "output_type": "stream",
          "name": "stdout",
          "text": [
            "Number of benign samples: 727\n",
            "Number of malignant samples: 173\n",
            "Fraction of positive samples: 0.19\n"
          ]
        }
      ]
    },
    {
      "cell_type": "code",
      "source": [
        "print_label_dist(y_train)"
      ],
      "metadata": {
        "colab": {
          "base_uri": "https://localhost:8080/"
        },
        "id": "vxOOZ0CiSVSN",
        "outputId": "97770053-0722-417e-8093-4a20b5d0234e"
      },
      "execution_count": null,
      "outputs": [
        {
          "output_type": "stream",
          "name": "stdout",
          "text": [
            "Number of benign samples: 579\n",
            "Number of malignant samples: 141\n",
            "Fraction of positive samples: 0.20\n"
          ]
        }
      ]
    },
    {
      "cell_type": "code",
      "source": [
        "print_label_dist(y_test)"
      ],
      "metadata": {
        "colab": {
          "base_uri": "https://localhost:8080/"
        },
        "id": "CDn6T1l8SaYK",
        "outputId": "bdcb53fd-9ef2-4514-a328-74980ee0e1d4"
      },
      "execution_count": null,
      "outputs": [
        {
          "output_type": "stream",
          "name": "stdout",
          "text": [
            "Number of benign samples: 148\n",
            "Number of malignant samples: 32\n",
            "Fraction of positive samples: 0.18\n"
          ]
        }
      ]
    },
    {
      "cell_type": "markdown",
      "source": [
        "The [`imbalanced-learn`](https://imbalanced-learn.org/stable/)  library provides support for various techniques that address dataset imbalance."
      ],
      "metadata": {
        "id": "-bmeLSFEtih3"
      }
    },
    {
      "cell_type": "markdown",
      "source": [
        "To increase the number of malignant samples in our dataset, we are going to use the Synthetic Minority Oversampling Technique (SMOTE)."
      ],
      "metadata": {
        "id": "wtuQYlDb490m"
      }
    },
    {
      "cell_type": "code",
      "source": [
        "from imblearn.over_sampling import SMOTE\n",
        "sm = SMOTE()\n",
        "x_train_balanced, y_train_balanced = sm.fit_resample(x_train, y_train)"
      ],
      "metadata": {
        "id": "vCy3W-5n3Svo"
      },
      "execution_count": null,
      "outputs": []
    },
    {
      "cell_type": "code",
      "source": [
        "print_label_dist(y_train_balanced)"
      ],
      "metadata": {
        "colab": {
          "base_uri": "https://localhost:8080/"
        },
        "id": "tgBvCWhkT4-R",
        "outputId": "818719d1-f5f6-4707-9681-954506d95e64"
      },
      "execution_count": null,
      "outputs": [
        {
          "output_type": "stream",
          "name": "stdout",
          "text": [
            "Number of benign samples: 579\n",
            "Number of malignant samples: 579\n",
            "Fraction of positive samples: 0.50\n"
          ]
        }
      ]
    },
    {
      "cell_type": "markdown",
      "source": [
        "Notice that we only apply SMOTE on our training data. This is because we should **never** be touching our test data until we are ready to evaluate our model, and it wouldn't make sense to evaluate our model on synthetic data."
      ],
      "metadata": {
        "id": "VJbKn6rs4AAJ"
      }
    },
    {
      "cell_type": "markdown",
      "source": [
        "# Step 6: Select an Appropriate Model"
      ],
      "metadata": {
        "id": "TUuv3wRJaVer"
      }
    },
    {
      "cell_type": "markdown",
      "source": [
        "We will use the same random forest classifier as before."
      ],
      "metadata": {
        "id": "IiS0RhPymQwg"
      }
    },
    {
      "cell_type": "code",
      "source": [
        "from sklearn.ensemble import RandomForestClassifier\n",
        "clf = RandomForestClassifier()"
      ],
      "metadata": {
        "id": "-ZejuzTe8X3a"
      },
      "execution_count": null,
      "outputs": []
    },
    {
      "cell_type": "markdown",
      "source": [
        "# Step 7: Select Your Hyperparameters"
      ],
      "metadata": {
        "id": "A-AcODJ3aYx6"
      }
    },
    {
      "cell_type": "markdown",
      "source": [
        "## Deciding Which Hyperparameters to Optimize"
      ],
      "metadata": {
        "id": "BLBy4qpPpQ6r"
      }
    },
    {
      "cell_type": "markdown",
      "source": [
        "The random forest classifier has many different hyperparameters we can tune. We can find the full list of hyperparameters along with their current settings (currently the defaults) using the `.get_params()` method:"
      ],
      "metadata": {
        "id": "h2_4cIHqJ0rc"
      }
    },
    {
      "cell_type": "code",
      "source": [
        "clf.get_params()"
      ],
      "metadata": {
        "colab": {
          "base_uri": "https://localhost:8080/"
        },
        "id": "W4RJehCKcSwJ",
        "outputId": "f012294e-f066-41a8-da6d-99a99dbf96aa"
      },
      "execution_count": null,
      "outputs": [
        {
          "output_type": "execute_result",
          "data": {
            "text/plain": [
              "{'bootstrap': True,\n",
              " 'ccp_alpha': 0.0,\n",
              " 'class_weight': None,\n",
              " 'criterion': 'gini',\n",
              " 'max_depth': None,\n",
              " 'max_features': 'sqrt',\n",
              " 'max_leaf_nodes': None,\n",
              " 'max_samples': None,\n",
              " 'min_impurity_decrease': 0.0,\n",
              " 'min_samples_leaf': 1,\n",
              " 'min_samples_split': 2,\n",
              " 'min_weight_fraction_leaf': 0.0,\n",
              " 'n_estimators': 100,\n",
              " 'n_jobs': None,\n",
              " 'oob_score': False,\n",
              " 'random_state': None,\n",
              " 'verbose': 0,\n",
              " 'warm_start': False}"
            ]
          },
          "metadata": {},
          "execution_count": 116
        }
      ]
    },
    {
      "cell_type": "markdown",
      "source": [
        "Not all of these dictionary entries are hyperparameters. For example, the `verbose` parameter is simply a flag that indicates whether you want Python to print out more information whenever you are calling a method on your model."
      ],
      "metadata": {
        "id": "5J5xnuJkC3Lp"
      }
    },
    {
      "cell_type": "markdown",
      "source": [
        "Trying to optimize every single hyperparameter requires a lot of time with marginal benefits. Rather, it generally makes sense to become familiar with the classifier you are using and deciding for yourself which hyperparameters you think are going to have the most impact on model performance. For our classifier, we are just going to optimize three hyperparameters:\n",
        "1. ***n_estimators:*** The number of trees in the random forest\n",
        "2. ***criterion:*** The metric used to measure the quality of a decision tree split\n",
        "3. ***max_depth:*** The maximum number of decisions that can be made in a given decision tree\n",
        "\n",
        "Why did we pick these three? They happen to be the first three in `scikit-learn`'s [documentation](https://scikit-learn.org/stable/modules/generated/sklearn.ensemble.RandomForestClassifier.html), which is usually a good indicator that these are going to be interesting ones to optimize."
      ],
      "metadata": {
        "id": "_9vPdWTQecv7"
      }
    },
    {
      "cell_type": "markdown",
      "source": [
        "It's also difficult to try an infinite number of settings for each hyperparameter. Therefore, we are going to create a dictionary that specifies the settings that we want to try out:"
      ],
      "metadata": {
        "id": "Lar-E9fZgw2q"
      }
    },
    {
      "cell_type": "code",
      "source": [
        "param_grid = {'n_estimators': [25, 50, 100, 200],\n",
        "              'criterion' : ['gini', 'entropy', 'log_loss'],\n",
        "              'max_depth': [2, 5, 10, None]}"
      ],
      "metadata": {
        "id": "ZSf1ZS3-d-8I"
      },
      "execution_count": null,
      "outputs": []
    },
    {
      "cell_type": "markdown",
      "source": [
        "How did we know which settings to try? It requires a combination of familiarity with the model and reading documentation. Here is the intuition behind the options laid out above:\n",
        "1. ***n_estimators:*** The default is 100, so it makes sense to try some configurations with fewer estimators and some configurations with more estimators.\n",
        "2. ***criterion:*** Only a few possible settings are allowed since this hyperparameter refers to names of metrics for measuring the impurity of decision tree splits.\n",
        "3. ***max_depth:*** The default is `None`, which implies that a given decision tree can split as many times as needed until all of the leaves (i.e., the ends of the decision tree) are relatively pure. However, this can enable very convoluted and specific decision criteria that lead to overfitting, so we can try some settings to restrict the depth of our trees to see if that helps.\n",
        "\n",
        "This still explains neither the number of settings we plan to try out nor the spacing between the settings. Unfortunately, that comes with experience and trial-and-error. Bear in mind that while trying more options can make you more confident in the outcome, it means that our code will take longer to run."
      ],
      "metadata": {
        "id": "ixOJTrRfhTsl"
      }
    },
    {
      "cell_type": "markdown",
      "source": [
        "## Optimizing the Hyperparameters"
      ],
      "metadata": {
        "id": "srXIpMFCpYxR"
      }
    },
    {
      "cell_type": "markdown",
      "source": [
        "We are going to use 5-fold cross-validation on our training set to optimize our hyperparameters. This will give us access to far more data for hyperparameter tuning than if we separated out a distinct chunk of data from our training set to serve as our validation set.\n",
        "\n",
        "As a reminder, k-fold cross-validation involves splitting data into $k$ distinct chunks and then training $k$ different models such that each chunk serves as the test set once."
      ],
      "metadata": {
        "id": "M_Mwd7x1oA4m"
      }
    },
    {
      "cell_type": "markdown",
      "source": [
        "Many hyperparameters are often intertwined. For example, increasing the number of estimators in your model may mean that your trees can be shallow. Therefore, it makes sense to optimize all of the hyperparameters at the same time rather than one at a time."
      ],
      "metadata": {
        "id": "BWQwZxxteAjq"
      }
    },
    {
      "cell_type": "markdown",
      "source": [
        "We are going to use a ***grid search*** to systematically try all possible combinations of hyperparameter settings that we've laid out above. The pseudocode below outlines how this procedure will look for our example:\n",
        "\n",
        "```\n",
        "for n_estimators in [25, 50, 100, 200]:\n",
        "    for criterion in ['gini', 'entropy', 'log_loss']:\n",
        "        for max_depth in [2, 5, 10, None]:\n",
        "            train the model using these settings\n",
        "            if model better than any model from before:\n",
        "                save the settings\n",
        "```"
      ],
      "metadata": {
        "id": "W3ps3PA5tCVF"
      }
    },
    {
      "cell_type": "markdown",
      "source": [
        "`scikit-learn` provides a `GridSearchCV` class that will do this procedure for us. We are going to specify four parameters in this class:\n",
        "1. ***estimator:*** A model architecture\n",
        "2. ***param_grid:*** A dictionary specifying the hyperparameters and settings that we'd like to test\n",
        "3. ***cv:*** The number of folds in our k-fold cross-validation scheme\n",
        "4. ***verbose:*** Setting this flag to `3` will print detailed information about what is happening in the function. We will only do this for the sake of verifying what is happening in our code.\n",
        "\n",
        "As a small detail, we will need to set the random seed for the model we use for this procedure in particular since it is separate from the random seed used by `numpy`. This detail can be ignored once you are ready to truly test your pipeline."
      ],
      "metadata": {
        "id": "bwY69-cjt__m"
      }
    },
    {
      "cell_type": "code",
      "source": [
        "from sklearn.model_selection import GridSearchCV\n",
        "grid_search_model = RandomForestClassifier(random_state=42)\n",
        "grid_search = GridSearchCV(grid_search_model, param_grid,\n",
        "                           cv=5, verbose=3)\n",
        "\n",
        "grid_result = grid_search.fit(x_train, y_train)\n",
        "best_params = grid_result.best_params_\n",
        "print(f'Best Params: {grid_result.best_params_}')\n",
        "print(f'Best Score: {grid_result.best_score_}')"
      ],
      "metadata": {
        "colab": {
          "base_uri": "https://localhost:8080/"
        },
        "id": "SDk0Sqdccga4",
        "outputId": "b4d33ca4-b4f0-43c6-da3e-6b16efaba7d3"
      },
      "execution_count": null,
      "outputs": [
        {
          "output_type": "stream",
          "name": "stdout",
          "text": [
            "Fitting 5 folds for each of 48 candidates, totalling 240 fits\n",
            "[CV 1/5] END criterion=gini, max_depth=2, n_estimators=25;, score=0.806 total time=   0.1s\n",
            "[CV 2/5] END criterion=gini, max_depth=2, n_estimators=25;, score=0.806 total time=   0.0s\n",
            "[CV 3/5] END criterion=gini, max_depth=2, n_estimators=25;, score=0.806 total time=   0.0s\n",
            "[CV 4/5] END criterion=gini, max_depth=2, n_estimators=25;, score=0.799 total time=   0.0s\n",
            "[CV 5/5] END criterion=gini, max_depth=2, n_estimators=25;, score=0.799 total time=   0.0s\n",
            "[CV 1/5] END criterion=gini, max_depth=2, n_estimators=50;, score=0.806 total time=   0.1s\n",
            "[CV 2/5] END criterion=gini, max_depth=2, n_estimators=50;, score=0.806 total time=   0.1s\n",
            "[CV 3/5] END criterion=gini, max_depth=2, n_estimators=50;, score=0.806 total time=   0.1s\n",
            "[CV 4/5] END criterion=gini, max_depth=2, n_estimators=50;, score=0.799 total time=   0.1s\n",
            "[CV 5/5] END criterion=gini, max_depth=2, n_estimators=50;, score=0.799 total time=   0.1s\n",
            "[CV 1/5] END criterion=gini, max_depth=2, n_estimators=100;, score=0.806 total time=   0.2s\n",
            "[CV 2/5] END criterion=gini, max_depth=2, n_estimators=100;, score=0.806 total time=   0.2s\n",
            "[CV 3/5] END criterion=gini, max_depth=2, n_estimators=100;, score=0.806 total time=   0.2s\n",
            "[CV 4/5] END criterion=gini, max_depth=2, n_estimators=100;, score=0.799 total time=   0.2s\n",
            "[CV 5/5] END criterion=gini, max_depth=2, n_estimators=100;, score=0.799 total time=   0.2s\n",
            "[CV 1/5] END criterion=gini, max_depth=2, n_estimators=200;, score=0.806 total time=   0.4s\n",
            "[CV 2/5] END criterion=gini, max_depth=2, n_estimators=200;, score=0.806 total time=   0.5s\n",
            "[CV 3/5] END criterion=gini, max_depth=2, n_estimators=200;, score=0.806 total time=   1.0s\n",
            "[CV 4/5] END criterion=gini, max_depth=2, n_estimators=200;, score=0.799 total time=   1.5s\n",
            "[CV 5/5] END criterion=gini, max_depth=2, n_estimators=200;, score=0.799 total time=   0.9s\n",
            "[CV 1/5] END criterion=gini, max_depth=5, n_estimators=25;, score=0.812 total time=   0.1s\n",
            "[CV 2/5] END criterion=gini, max_depth=5, n_estimators=25;, score=0.806 total time=   0.2s\n",
            "[CV 3/5] END criterion=gini, max_depth=5, n_estimators=25;, score=0.806 total time=   0.1s\n",
            "[CV 4/5] END criterion=gini, max_depth=5, n_estimators=25;, score=0.778 total time=   0.2s\n",
            "[CV 5/5] END criterion=gini, max_depth=5, n_estimators=25;, score=0.792 total time=   0.2s\n",
            "[CV 1/5] END criterion=gini, max_depth=5, n_estimators=50;, score=0.806 total time=   0.4s\n",
            "[CV 2/5] END criterion=gini, max_depth=5, n_estimators=50;, score=0.806 total time=   0.2s\n",
            "[CV 3/5] END criterion=gini, max_depth=5, n_estimators=50;, score=0.812 total time=   0.5s\n",
            "[CV 4/5] END criterion=gini, max_depth=5, n_estimators=50;, score=0.785 total time=   0.2s\n",
            "[CV 5/5] END criterion=gini, max_depth=5, n_estimators=50;, score=0.799 total time=   0.1s\n",
            "[CV 1/5] END criterion=gini, max_depth=5, n_estimators=100;, score=0.812 total time=   0.2s\n",
            "[CV 2/5] END criterion=gini, max_depth=5, n_estimators=100;, score=0.806 total time=   0.2s\n",
            "[CV 3/5] END criterion=gini, max_depth=5, n_estimators=100;, score=0.812 total time=   0.2s\n",
            "[CV 4/5] END criterion=gini, max_depth=5, n_estimators=100;, score=0.785 total time=   0.2s\n",
            "[CV 5/5] END criterion=gini, max_depth=5, n_estimators=100;, score=0.792 total time=   0.2s\n",
            "[CV 1/5] END criterion=gini, max_depth=5, n_estimators=200;, score=0.812 total time=   0.4s\n",
            "[CV 2/5] END criterion=gini, max_depth=5, n_estimators=200;, score=0.806 total time=   0.4s\n",
            "[CV 3/5] END criterion=gini, max_depth=5, n_estimators=200;, score=0.812 total time=   0.4s\n",
            "[CV 4/5] END criterion=gini, max_depth=5, n_estimators=200;, score=0.792 total time=   0.4s\n",
            "[CV 5/5] END criterion=gini, max_depth=5, n_estimators=200;, score=0.792 total time=   0.4s\n",
            "[CV 1/5] END criterion=gini, max_depth=10, n_estimators=25;, score=0.819 total time=   0.1s\n",
            "[CV 2/5] END criterion=gini, max_depth=10, n_estimators=25;, score=0.806 total time=   0.1s\n",
            "[CV 3/5] END criterion=gini, max_depth=10, n_estimators=25;, score=0.812 total time=   0.1s\n",
            "[CV 4/5] END criterion=gini, max_depth=10, n_estimators=25;, score=0.785 total time=   0.1s\n",
            "[CV 5/5] END criterion=gini, max_depth=10, n_estimators=25;, score=0.799 total time=   0.1s\n",
            "[CV 1/5] END criterion=gini, max_depth=10, n_estimators=50;, score=0.819 total time=   0.1s\n",
            "[CV 2/5] END criterion=gini, max_depth=10, n_estimators=50;, score=0.812 total time=   0.1s\n",
            "[CV 3/5] END criterion=gini, max_depth=10, n_estimators=50;, score=0.819 total time=   0.1s\n",
            "[CV 4/5] END criterion=gini, max_depth=10, n_estimators=50;, score=0.778 total time=   0.1s\n",
            "[CV 5/5] END criterion=gini, max_depth=10, n_estimators=50;, score=0.799 total time=   0.1s\n",
            "[CV 1/5] END criterion=gini, max_depth=10, n_estimators=100;, score=0.806 total time=   0.2s\n",
            "[CV 2/5] END criterion=gini, max_depth=10, n_estimators=100;, score=0.806 total time=   0.2s\n",
            "[CV 3/5] END criterion=gini, max_depth=10, n_estimators=100;, score=0.819 total time=   0.2s\n",
            "[CV 4/5] END criterion=gini, max_depth=10, n_estimators=100;, score=0.778 total time=   0.2s\n",
            "[CV 5/5] END criterion=gini, max_depth=10, n_estimators=100;, score=0.799 total time=   0.2s\n",
            "[CV 1/5] END criterion=gini, max_depth=10, n_estimators=200;, score=0.806 total time=   0.5s\n",
            "[CV 2/5] END criterion=gini, max_depth=10, n_estimators=200;, score=0.806 total time=   0.5s\n",
            "[CV 3/5] END criterion=gini, max_depth=10, n_estimators=200;, score=0.819 total time=   0.5s\n",
            "[CV 4/5] END criterion=gini, max_depth=10, n_estimators=200;, score=0.785 total time=   0.5s\n",
            "[CV 5/5] END criterion=gini, max_depth=10, n_estimators=200;, score=0.799 total time=   0.7s\n",
            "[CV 1/5] END criterion=gini, max_depth=None, n_estimators=25;, score=0.792 total time=   0.1s\n",
            "[CV 2/5] END criterion=gini, max_depth=None, n_estimators=25;, score=0.778 total time=   0.1s\n",
            "[CV 3/5] END criterion=gini, max_depth=None, n_estimators=25;, score=0.812 total time=   0.1s\n",
            "[CV 4/5] END criterion=gini, max_depth=None, n_estimators=25;, score=0.785 total time=   0.1s\n",
            "[CV 5/5] END criterion=gini, max_depth=None, n_estimators=25;, score=0.764 total time=   0.1s\n",
            "[CV 1/5] END criterion=gini, max_depth=None, n_estimators=50;, score=0.812 total time=   0.2s\n",
            "[CV 2/5] END criterion=gini, max_depth=None, n_estimators=50;, score=0.785 total time=   0.2s\n",
            "[CV 3/5] END criterion=gini, max_depth=None, n_estimators=50;, score=0.819 total time=   0.2s\n",
            "[CV 4/5] END criterion=gini, max_depth=None, n_estimators=50;, score=0.806 total time=   0.2s\n",
            "[CV 5/5] END criterion=gini, max_depth=None, n_estimators=50;, score=0.778 total time=   0.2s\n",
            "[CV 1/5] END criterion=gini, max_depth=None, n_estimators=100;, score=0.812 total time=   0.4s\n",
            "[CV 2/5] END criterion=gini, max_depth=None, n_estimators=100;, score=0.792 total time=   0.3s\n",
            "[CV 3/5] END criterion=gini, max_depth=None, n_estimators=100;, score=0.812 total time=   0.3s\n",
            "[CV 4/5] END criterion=gini, max_depth=None, n_estimators=100;, score=0.785 total time=   0.3s\n",
            "[CV 5/5] END criterion=gini, max_depth=None, n_estimators=100;, score=0.799 total time=   0.3s\n",
            "[CV 1/5] END criterion=gini, max_depth=None, n_estimators=200;, score=0.806 total time=   0.5s\n",
            "[CV 2/5] END criterion=gini, max_depth=None, n_estimators=200;, score=0.792 total time=   0.5s\n",
            "[CV 3/5] END criterion=gini, max_depth=None, n_estimators=200;, score=0.806 total time=   0.5s\n",
            "[CV 4/5] END criterion=gini, max_depth=None, n_estimators=200;, score=0.785 total time=   0.5s\n",
            "[CV 5/5] END criterion=gini, max_depth=None, n_estimators=200;, score=0.799 total time=   0.5s\n",
            "[CV 1/5] END criterion=entropy, max_depth=2, n_estimators=25;, score=0.806 total time=   0.0s\n",
            "[CV 2/5] END criterion=entropy, max_depth=2, n_estimators=25;, score=0.806 total time=   0.0s\n",
            "[CV 3/5] END criterion=entropy, max_depth=2, n_estimators=25;, score=0.806 total time=   0.0s\n",
            "[CV 4/5] END criterion=entropy, max_depth=2, n_estimators=25;, score=0.806 total time=   0.0s\n",
            "[CV 5/5] END criterion=entropy, max_depth=2, n_estimators=25;, score=0.799 total time=   0.1s\n",
            "[CV 1/5] END criterion=entropy, max_depth=2, n_estimators=50;, score=0.806 total time=   0.1s\n",
            "[CV 2/5] END criterion=entropy, max_depth=2, n_estimators=50;, score=0.806 total time=   0.1s\n",
            "[CV 3/5] END criterion=entropy, max_depth=2, n_estimators=50;, score=0.806 total time=   0.1s\n",
            "[CV 4/5] END criterion=entropy, max_depth=2, n_estimators=50;, score=0.806 total time=   0.1s\n",
            "[CV 5/5] END criterion=entropy, max_depth=2, n_estimators=50;, score=0.799 total time=   0.1s\n",
            "[CV 1/5] END criterion=entropy, max_depth=2, n_estimators=100;, score=0.806 total time=   0.2s\n",
            "[CV 2/5] END criterion=entropy, max_depth=2, n_estimators=100;, score=0.806 total time=   0.2s\n",
            "[CV 3/5] END criterion=entropy, max_depth=2, n_estimators=100;, score=0.806 total time=   0.2s\n",
            "[CV 4/5] END criterion=entropy, max_depth=2, n_estimators=100;, score=0.806 total time=   0.2s\n",
            "[CV 5/5] END criterion=entropy, max_depth=2, n_estimators=100;, score=0.799 total time=   0.2s\n",
            "[CV 1/5] END criterion=entropy, max_depth=2, n_estimators=200;, score=0.806 total time=   0.4s\n",
            "[CV 2/5] END criterion=entropy, max_depth=2, n_estimators=200;, score=0.806 total time=   0.4s\n",
            "[CV 3/5] END criterion=entropy, max_depth=2, n_estimators=200;, score=0.806 total time=   0.4s\n",
            "[CV 4/5] END criterion=entropy, max_depth=2, n_estimators=200;, score=0.806 total time=   0.4s\n",
            "[CV 5/5] END criterion=entropy, max_depth=2, n_estimators=200;, score=0.799 total time=   0.4s\n",
            "[CV 1/5] END criterion=entropy, max_depth=5, n_estimators=25;, score=0.812 total time=   0.1s\n",
            "[CV 2/5] END criterion=entropy, max_depth=5, n_estimators=25;, score=0.806 total time=   0.1s\n",
            "[CV 3/5] END criterion=entropy, max_depth=5, n_estimators=25;, score=0.799 total time=   0.1s\n",
            "[CV 4/5] END criterion=entropy, max_depth=5, n_estimators=25;, score=0.792 total time=   0.1s\n",
            "[CV 5/5] END criterion=entropy, max_depth=5, n_estimators=25;, score=0.799 total time=   0.1s\n",
            "[CV 1/5] END criterion=entropy, max_depth=5, n_estimators=50;, score=0.806 total time=   0.1s\n",
            "[CV 2/5] END criterion=entropy, max_depth=5, n_estimators=50;, score=0.806 total time=   0.1s\n",
            "[CV 3/5] END criterion=entropy, max_depth=5, n_estimators=50;, score=0.799 total time=   0.1s\n",
            "[CV 4/5] END criterion=entropy, max_depth=5, n_estimators=50;, score=0.799 total time=   0.1s\n",
            "[CV 5/5] END criterion=entropy, max_depth=5, n_estimators=50;, score=0.799 total time=   0.1s\n",
            "[CV 1/5] END criterion=entropy, max_depth=5, n_estimators=100;, score=0.806 total time=   0.2s\n",
            "[CV 2/5] END criterion=entropy, max_depth=5, n_estimators=100;, score=0.806 total time=   0.2s\n",
            "[CV 3/5] END criterion=entropy, max_depth=5, n_estimators=100;, score=0.799 total time=   0.2s\n",
            "[CV 4/5] END criterion=entropy, max_depth=5, n_estimators=100;, score=0.799 total time=   0.2s\n",
            "[CV 5/5] END criterion=entropy, max_depth=5, n_estimators=100;, score=0.799 total time=   0.2s\n",
            "[CV 1/5] END criterion=entropy, max_depth=5, n_estimators=200;, score=0.806 total time=   0.4s\n",
            "[CV 2/5] END criterion=entropy, max_depth=5, n_estimators=200;, score=0.806 total time=   0.4s\n",
            "[CV 3/5] END criterion=entropy, max_depth=5, n_estimators=200;, score=0.806 total time=   0.5s\n",
            "[CV 4/5] END criterion=entropy, max_depth=5, n_estimators=200;, score=0.799 total time=   0.7s\n",
            "[CV 5/5] END criterion=entropy, max_depth=5, n_estimators=200;, score=0.799 total time=   0.7s\n",
            "[CV 1/5] END criterion=entropy, max_depth=10, n_estimators=25;, score=0.799 total time=   0.1s\n",
            "[CV 2/5] END criterion=entropy, max_depth=10, n_estimators=25;, score=0.799 total time=   0.1s\n",
            "[CV 3/5] END criterion=entropy, max_depth=10, n_estimators=25;, score=0.806 total time=   0.1s\n",
            "[CV 4/5] END criterion=entropy, max_depth=10, n_estimators=25;, score=0.792 total time=   0.1s\n",
            "[CV 5/5] END criterion=entropy, max_depth=10, n_estimators=25;, score=0.792 total time=   0.1s\n",
            "[CV 1/5] END criterion=entropy, max_depth=10, n_estimators=50;, score=0.806 total time=   0.2s\n",
            "[CV 2/5] END criterion=entropy, max_depth=10, n_estimators=50;, score=0.806 total time=   0.2s\n",
            "[CV 3/5] END criterion=entropy, max_depth=10, n_estimators=50;, score=0.812 total time=   0.2s\n",
            "[CV 4/5] END criterion=entropy, max_depth=10, n_estimators=50;, score=0.785 total time=   0.1s\n",
            "[CV 5/5] END criterion=entropy, max_depth=10, n_estimators=50;, score=0.799 total time=   0.1s\n",
            "[CV 1/5] END criterion=entropy, max_depth=10, n_estimators=100;, score=0.806 total time=   0.3s\n",
            "[CV 2/5] END criterion=entropy, max_depth=10, n_estimators=100;, score=0.812 total time=   0.3s\n",
            "[CV 3/5] END criterion=entropy, max_depth=10, n_estimators=100;, score=0.812 total time=   0.3s\n",
            "[CV 4/5] END criterion=entropy, max_depth=10, n_estimators=100;, score=0.778 total time=   0.3s\n",
            "[CV 5/5] END criterion=entropy, max_depth=10, n_estimators=100;, score=0.806 total time=   0.3s\n",
            "[CV 1/5] END criterion=entropy, max_depth=10, n_estimators=200;, score=0.812 total time=   0.5s\n",
            "[CV 2/5] END criterion=entropy, max_depth=10, n_estimators=200;, score=0.812 total time=   0.5s\n",
            "[CV 3/5] END criterion=entropy, max_depth=10, n_estimators=200;, score=0.812 total time=   0.5s\n",
            "[CV 4/5] END criterion=entropy, max_depth=10, n_estimators=200;, score=0.785 total time=   0.5s\n",
            "[CV 5/5] END criterion=entropy, max_depth=10, n_estimators=200;, score=0.806 total time=   0.5s\n",
            "[CV 1/5] END criterion=entropy, max_depth=None, n_estimators=25;, score=0.792 total time=   0.1s\n",
            "[CV 2/5] END criterion=entropy, max_depth=None, n_estimators=25;, score=0.799 total time=   0.1s\n",
            "[CV 3/5] END criterion=entropy, max_depth=None, n_estimators=25;, score=0.806 total time=   0.1s\n",
            "[CV 4/5] END criterion=entropy, max_depth=None, n_estimators=25;, score=0.792 total time=   0.1s\n",
            "[CV 5/5] END criterion=entropy, max_depth=None, n_estimators=25;, score=0.778 total time=   0.1s\n",
            "[CV 1/5] END criterion=entropy, max_depth=None, n_estimators=50;, score=0.799 total time=   0.1s\n",
            "[CV 2/5] END criterion=entropy, max_depth=None, n_estimators=50;, score=0.799 total time=   0.1s\n",
            "[CV 3/5] END criterion=entropy, max_depth=None, n_estimators=50;, score=0.819 total time=   0.1s\n",
            "[CV 4/5] END criterion=entropy, max_depth=None, n_estimators=50;, score=0.778 total time=   0.1s\n",
            "[CV 5/5] END criterion=entropy, max_depth=None, n_estimators=50;, score=0.792 total time=   0.1s\n",
            "[CV 1/5] END criterion=entropy, max_depth=None, n_estimators=100;, score=0.806 total time=   0.3s\n",
            "[CV 2/5] END criterion=entropy, max_depth=None, n_estimators=100;, score=0.806 total time=   0.3s\n",
            "[CV 3/5] END criterion=entropy, max_depth=None, n_estimators=100;, score=0.812 total time=   0.3s\n",
            "[CV 4/5] END criterion=entropy, max_depth=None, n_estimators=100;, score=0.778 total time=   0.3s\n",
            "[CV 5/5] END criterion=entropy, max_depth=None, n_estimators=100;, score=0.806 total time=   0.3s\n",
            "[CV 1/5] END criterion=entropy, max_depth=None, n_estimators=200;, score=0.806 total time=   0.6s\n",
            "[CV 2/5] END criterion=entropy, max_depth=None, n_estimators=200;, score=0.799 total time=   0.5s\n",
            "[CV 3/5] END criterion=entropy, max_depth=None, n_estimators=200;, score=0.812 total time=   0.6s\n",
            "[CV 4/5] END criterion=entropy, max_depth=None, n_estimators=200;, score=0.771 total time=   0.5s\n",
            "[CV 5/5] END criterion=entropy, max_depth=None, n_estimators=200;, score=0.806 total time=   0.6s\n",
            "[CV 1/5] END criterion=log_loss, max_depth=2, n_estimators=25;, score=0.806 total time=   0.0s\n",
            "[CV 2/5] END criterion=log_loss, max_depth=2, n_estimators=25;, score=0.806 total time=   0.0s\n",
            "[CV 3/5] END criterion=log_loss, max_depth=2, n_estimators=25;, score=0.806 total time=   0.0s\n",
            "[CV 4/5] END criterion=log_loss, max_depth=2, n_estimators=25;, score=0.806 total time=   0.0s\n",
            "[CV 5/5] END criterion=log_loss, max_depth=2, n_estimators=25;, score=0.799 total time=   0.0s\n",
            "[CV 1/5] END criterion=log_loss, max_depth=2, n_estimators=50;, score=0.806 total time=   0.1s\n",
            "[CV 2/5] END criterion=log_loss, max_depth=2, n_estimators=50;, score=0.806 total time=   0.1s\n",
            "[CV 3/5] END criterion=log_loss, max_depth=2, n_estimators=50;, score=0.806 total time=   0.1s\n",
            "[CV 4/5] END criterion=log_loss, max_depth=2, n_estimators=50;, score=0.806 total time=   0.1s\n",
            "[CV 5/5] END criterion=log_loss, max_depth=2, n_estimators=50;, score=0.799 total time=   0.2s\n",
            "[CV 1/5] END criterion=log_loss, max_depth=2, n_estimators=100;, score=0.806 total time=   0.3s\n",
            "[CV 2/5] END criterion=log_loss, max_depth=2, n_estimators=100;, score=0.806 total time=   0.3s\n",
            "[CV 3/5] END criterion=log_loss, max_depth=2, n_estimators=100;, score=0.806 total time=   0.3s\n",
            "[CV 4/5] END criterion=log_loss, max_depth=2, n_estimators=100;, score=0.806 total time=   0.3s\n",
            "[CV 5/5] END criterion=log_loss, max_depth=2, n_estimators=100;, score=0.799 total time=   0.3s\n",
            "[CV 1/5] END criterion=log_loss, max_depth=2, n_estimators=200;, score=0.806 total time=   0.6s\n",
            "[CV 2/5] END criterion=log_loss, max_depth=2, n_estimators=200;, score=0.806 total time=   0.5s\n",
            "[CV 3/5] END criterion=log_loss, max_depth=2, n_estimators=200;, score=0.806 total time=   0.4s\n",
            "[CV 4/5] END criterion=log_loss, max_depth=2, n_estimators=200;, score=0.806 total time=   0.3s\n",
            "[CV 5/5] END criterion=log_loss, max_depth=2, n_estimators=200;, score=0.799 total time=   0.4s\n",
            "[CV 1/5] END criterion=log_loss, max_depth=5, n_estimators=25;, score=0.812 total time=   0.1s\n",
            "[CV 2/5] END criterion=log_loss, max_depth=5, n_estimators=25;, score=0.806 total time=   0.1s\n",
            "[CV 3/5] END criterion=log_loss, max_depth=5, n_estimators=25;, score=0.799 total time=   0.1s\n",
            "[CV 4/5] END criterion=log_loss, max_depth=5, n_estimators=25;, score=0.792 total time=   0.1s\n",
            "[CV 5/5] END criterion=log_loss, max_depth=5, n_estimators=25;, score=0.799 total time=   0.1s\n",
            "[CV 1/5] END criterion=log_loss, max_depth=5, n_estimators=50;, score=0.806 total time=   0.1s\n",
            "[CV 2/5] END criterion=log_loss, max_depth=5, n_estimators=50;, score=0.806 total time=   0.1s\n",
            "[CV 3/5] END criterion=log_loss, max_depth=5, n_estimators=50;, score=0.799 total time=   0.1s\n",
            "[CV 4/5] END criterion=log_loss, max_depth=5, n_estimators=50;, score=0.799 total time=   0.1s\n",
            "[CV 5/5] END criterion=log_loss, max_depth=5, n_estimators=50;, score=0.799 total time=   0.1s\n",
            "[CV 1/5] END criterion=log_loss, max_depth=5, n_estimators=100;, score=0.806 total time=   0.2s\n",
            "[CV 2/5] END criterion=log_loss, max_depth=5, n_estimators=100;, score=0.806 total time=   0.2s\n",
            "[CV 3/5] END criterion=log_loss, max_depth=5, n_estimators=100;, score=0.799 total time=   0.2s\n",
            "[CV 4/5] END criterion=log_loss, max_depth=5, n_estimators=100;, score=0.799 total time=   0.2s\n",
            "[CV 5/5] END criterion=log_loss, max_depth=5, n_estimators=100;, score=0.799 total time=   0.2s\n",
            "[CV 1/5] END criterion=log_loss, max_depth=5, n_estimators=200;, score=0.806 total time=   0.4s\n",
            "[CV 2/5] END criterion=log_loss, max_depth=5, n_estimators=200;, score=0.806 total time=   0.4s\n",
            "[CV 3/5] END criterion=log_loss, max_depth=5, n_estimators=200;, score=0.806 total time=   0.4s\n",
            "[CV 4/5] END criterion=log_loss, max_depth=5, n_estimators=200;, score=0.799 total time=   0.4s\n",
            "[CV 5/5] END criterion=log_loss, max_depth=5, n_estimators=200;, score=0.799 total time=   0.4s\n",
            "[CV 1/5] END criterion=log_loss, max_depth=10, n_estimators=25;, score=0.799 total time=   0.1s\n",
            "[CV 2/5] END criterion=log_loss, max_depth=10, n_estimators=25;, score=0.799 total time=   0.1s\n",
            "[CV 3/5] END criterion=log_loss, max_depth=10, n_estimators=25;, score=0.806 total time=   0.1s\n",
            "[CV 4/5] END criterion=log_loss, max_depth=10, n_estimators=25;, score=0.792 total time=   0.1s\n",
            "[CV 5/5] END criterion=log_loss, max_depth=10, n_estimators=25;, score=0.792 total time=   0.1s\n",
            "[CV 1/5] END criterion=log_loss, max_depth=10, n_estimators=50;, score=0.806 total time=   0.1s\n",
            "[CV 2/5] END criterion=log_loss, max_depth=10, n_estimators=50;, score=0.806 total time=   0.1s\n",
            "[CV 3/5] END criterion=log_loss, max_depth=10, n_estimators=50;, score=0.812 total time=   0.1s\n",
            "[CV 4/5] END criterion=log_loss, max_depth=10, n_estimators=50;, score=0.785 total time=   0.1s\n",
            "[CV 5/5] END criterion=log_loss, max_depth=10, n_estimators=50;, score=0.799 total time=   0.1s\n",
            "[CV 1/5] END criterion=log_loss, max_depth=10, n_estimators=100;, score=0.806 total time=   0.3s\n",
            "[CV 2/5] END criterion=log_loss, max_depth=10, n_estimators=100;, score=0.812 total time=   0.3s\n",
            "[CV 3/5] END criterion=log_loss, max_depth=10, n_estimators=100;, score=0.812 total time=   0.3s\n",
            "[CV 4/5] END criterion=log_loss, max_depth=10, n_estimators=100;, score=0.778 total time=   0.3s\n",
            "[CV 5/5] END criterion=log_loss, max_depth=10, n_estimators=100;, score=0.806 total time=   0.3s\n",
            "[CV 1/5] END criterion=log_loss, max_depth=10, n_estimators=200;, score=0.812 total time=   0.5s\n",
            "[CV 2/5] END criterion=log_loss, max_depth=10, n_estimators=200;, score=0.812 total time=   0.5s\n",
            "[CV 3/5] END criterion=log_loss, max_depth=10, n_estimators=200;, score=0.812 total time=   0.5s\n",
            "[CV 4/5] END criterion=log_loss, max_depth=10, n_estimators=200;, score=0.785 total time=   0.5s\n",
            "[CV 5/5] END criterion=log_loss, max_depth=10, n_estimators=200;, score=0.806 total time=   0.6s\n",
            "[CV 1/5] END criterion=log_loss, max_depth=None, n_estimators=25;, score=0.792 total time=   0.1s\n",
            "[CV 2/5] END criterion=log_loss, max_depth=None, n_estimators=25;, score=0.799 total time=   0.1s\n",
            "[CV 3/5] END criterion=log_loss, max_depth=None, n_estimators=25;, score=0.806 total time=   0.1s\n",
            "[CV 4/5] END criterion=log_loss, max_depth=None, n_estimators=25;, score=0.792 total time=   0.1s\n",
            "[CV 5/5] END criterion=log_loss, max_depth=None, n_estimators=25;, score=0.778 total time=   0.1s\n",
            "[CV 1/5] END criterion=log_loss, max_depth=None, n_estimators=50;, score=0.799 total time=   0.2s\n",
            "[CV 2/5] END criterion=log_loss, max_depth=None, n_estimators=50;, score=0.799 total time=   0.2s\n",
            "[CV 3/5] END criterion=log_loss, max_depth=None, n_estimators=50;, score=0.819 total time=   0.2s\n",
            "[CV 4/5] END criterion=log_loss, max_depth=None, n_estimators=50;, score=0.778 total time=   0.2s\n",
            "[CV 5/5] END criterion=log_loss, max_depth=None, n_estimators=50;, score=0.792 total time=   0.2s\n",
            "[CV 1/5] END criterion=log_loss, max_depth=None, n_estimators=100;, score=0.806 total time=   0.5s\n",
            "[CV 2/5] END criterion=log_loss, max_depth=None, n_estimators=100;, score=0.806 total time=   0.4s\n",
            "[CV 3/5] END criterion=log_loss, max_depth=None, n_estimators=100;, score=0.812 total time=   0.3s\n",
            "[CV 4/5] END criterion=log_loss, max_depth=None, n_estimators=100;, score=0.778 total time=   0.3s\n",
            "[CV 5/5] END criterion=log_loss, max_depth=None, n_estimators=100;, score=0.806 total time=   0.3s\n",
            "[CV 1/5] END criterion=log_loss, max_depth=None, n_estimators=200;, score=0.806 total time=   0.6s\n",
            "[CV 2/5] END criterion=log_loss, max_depth=None, n_estimators=200;, score=0.799 total time=   0.5s\n",
            "[CV 3/5] END criterion=log_loss, max_depth=None, n_estimators=200;, score=0.812 total time=   0.5s\n",
            "[CV 4/5] END criterion=log_loss, max_depth=None, n_estimators=200;, score=0.771 total time=   0.5s\n",
            "[CV 5/5] END criterion=log_loss, max_depth=None, n_estimators=200;, score=0.806 total time=   0.5s\n",
            "Best Params: {'criterion': 'gini', 'max_depth': 10, 'n_estimators': 50}\n",
            "Best Score: 0.8055555555555556\n"
          ]
        }
      ]
    },
    {
      "cell_type": "markdown",
      "source": [
        "As it turns out, our optimal hyperparameters for our task are all different from `scikit-learn`'s default settings. It seems that limiting the depth of our trees and reducing the number of estimators led to better performance. These settings translate to a model with less flexibility, which may lead to better generalization down the road."
      ],
      "metadata": {
        "id": "d6J1WJMt9JCZ"
      }
    },
    {
      "cell_type": "markdown",
      "source": [
        "Once we have identified the optimal hyperparameters, we will need to set those values in the model that we plan to actually train and test. We can do this by creating a new model as follows:"
      ],
      "metadata": {
        "id": "ZoOM4dIZqAXM"
      }
    },
    {
      "cell_type": "code",
      "source": [
        "clf = RandomForestClassifier(**best_params)"
      ],
      "metadata": {
        "id": "2-md62nYqAD3"
      },
      "execution_count": null,
      "outputs": []
    },
    {
      "cell_type": "markdown",
      "source": [
        "Note that `**best_params` unpacks the dictionary of best parameters into keyword arguments for the model's constructor."
      ],
      "metadata": {
        "id": "zkZwY5tj6Fp2"
      }
    },
    {
      "cell_type": "markdown",
      "source": [
        "# Step 8: Train and Test Your Model"
      ],
      "metadata": {
        "id": "-fpM5JCVcS_c"
      }
    },
    {
      "cell_type": "markdown",
      "source": [
        "We will train and test our model as we have in the past, but with two key differences:\n",
        "1. We have optimized the hyperparameters of the random forest\n",
        "2. We will train our data using the balanced dataset provided by SMOTE"
      ],
      "metadata": {
        "id": "fndMkb0u7_-p"
      }
    },
    {
      "cell_type": "code",
      "source": [
        "clf.fit(x_train_balanced, y_train_balanced)"
      ],
      "metadata": {
        "id": "i4DkQNLRDH3r",
        "colab": {
          "base_uri": "https://localhost:8080/",
          "height": 74
        },
        "outputId": "b2f6e608-1145-47f3-f9e7-f7e845476d52"
      },
      "execution_count": null,
      "outputs": [
        {
          "output_type": "execute_result",
          "data": {
            "text/plain": [
              "RandomForestClassifier(criterion='log_loss', max_depth=10, n_estimators=200)"
            ],
            "text/html": [
              "<style>#sk-container-id-2 {color: black;background-color: white;}#sk-container-id-2 pre{padding: 0;}#sk-container-id-2 div.sk-toggleable {background-color: white;}#sk-container-id-2 label.sk-toggleable__label {cursor: pointer;display: block;width: 100%;margin-bottom: 0;padding: 0.3em;box-sizing: border-box;text-align: center;}#sk-container-id-2 label.sk-toggleable__label-arrow:before {content: \"▸\";float: left;margin-right: 0.25em;color: #696969;}#sk-container-id-2 label.sk-toggleable__label-arrow:hover:before {color: black;}#sk-container-id-2 div.sk-estimator:hover label.sk-toggleable__label-arrow:before {color: black;}#sk-container-id-2 div.sk-toggleable__content {max-height: 0;max-width: 0;overflow: hidden;text-align: left;background-color: #f0f8ff;}#sk-container-id-2 div.sk-toggleable__content pre {margin: 0.2em;color: black;border-radius: 0.25em;background-color: #f0f8ff;}#sk-container-id-2 input.sk-toggleable__control:checked~div.sk-toggleable__content {max-height: 200px;max-width: 100%;overflow: auto;}#sk-container-id-2 input.sk-toggleable__control:checked~label.sk-toggleable__label-arrow:before {content: \"▾\";}#sk-container-id-2 div.sk-estimator input.sk-toggleable__control:checked~label.sk-toggleable__label {background-color: #d4ebff;}#sk-container-id-2 div.sk-label input.sk-toggleable__control:checked~label.sk-toggleable__label {background-color: #d4ebff;}#sk-container-id-2 input.sk-hidden--visually {border: 0;clip: rect(1px 1px 1px 1px);clip: rect(1px, 1px, 1px, 1px);height: 1px;margin: -1px;overflow: hidden;padding: 0;position: absolute;width: 1px;}#sk-container-id-2 div.sk-estimator {font-family: monospace;background-color: #f0f8ff;border: 1px dotted black;border-radius: 0.25em;box-sizing: border-box;margin-bottom: 0.5em;}#sk-container-id-2 div.sk-estimator:hover {background-color: #d4ebff;}#sk-container-id-2 div.sk-parallel-item::after {content: \"\";width: 100%;border-bottom: 1px solid gray;flex-grow: 1;}#sk-container-id-2 div.sk-label:hover label.sk-toggleable__label {background-color: #d4ebff;}#sk-container-id-2 div.sk-serial::before {content: \"\";position: absolute;border-left: 1px solid gray;box-sizing: border-box;top: 0;bottom: 0;left: 50%;z-index: 0;}#sk-container-id-2 div.sk-serial {display: flex;flex-direction: column;align-items: center;background-color: white;padding-right: 0.2em;padding-left: 0.2em;position: relative;}#sk-container-id-2 div.sk-item {position: relative;z-index: 1;}#sk-container-id-2 div.sk-parallel {display: flex;align-items: stretch;justify-content: center;background-color: white;position: relative;}#sk-container-id-2 div.sk-item::before, #sk-container-id-2 div.sk-parallel-item::before {content: \"\";position: absolute;border-left: 1px solid gray;box-sizing: border-box;top: 0;bottom: 0;left: 50%;z-index: -1;}#sk-container-id-2 div.sk-parallel-item {display: flex;flex-direction: column;z-index: 1;position: relative;background-color: white;}#sk-container-id-2 div.sk-parallel-item:first-child::after {align-self: flex-end;width: 50%;}#sk-container-id-2 div.sk-parallel-item:last-child::after {align-self: flex-start;width: 50%;}#sk-container-id-2 div.sk-parallel-item:only-child::after {width: 0;}#sk-container-id-2 div.sk-dashed-wrapped {border: 1px dashed gray;margin: 0 0.4em 0.5em 0.4em;box-sizing: border-box;padding-bottom: 0.4em;background-color: white;}#sk-container-id-2 div.sk-label label {font-family: monospace;font-weight: bold;display: inline-block;line-height: 1.2em;}#sk-container-id-2 div.sk-label-container {text-align: center;}#sk-container-id-2 div.sk-container {/* jupyter's `normalize.less` sets `[hidden] { display: none; }` but bootstrap.min.css set `[hidden] { display: none !important; }` so we also need the `!important` here to be able to override the default hidden behavior on the sphinx rendered scikit-learn.org. See: https://github.com/scikit-learn/scikit-learn/issues/21755 */display: inline-block !important;position: relative;}#sk-container-id-2 div.sk-text-repr-fallback {display: none;}</style><div id=\"sk-container-id-2\" class=\"sk-top-container\"><div class=\"sk-text-repr-fallback\"><pre>RandomForestClassifier(criterion=&#x27;log_loss&#x27;, max_depth=10, n_estimators=200)</pre><b>In a Jupyter environment, please rerun this cell to show the HTML representation or trust the notebook. <br />On GitHub, the HTML representation is unable to render, please try loading this page with nbviewer.org.</b></div><div class=\"sk-container\" hidden><div class=\"sk-item\"><div class=\"sk-estimator sk-toggleable\"><input class=\"sk-toggleable__control sk-hidden--visually\" id=\"sk-estimator-id-2\" type=\"checkbox\" checked><label for=\"sk-estimator-id-2\" class=\"sk-toggleable__label sk-toggleable__label-arrow\">RandomForestClassifier</label><div class=\"sk-toggleable__content\"><pre>RandomForestClassifier(criterion=&#x27;log_loss&#x27;, max_depth=10, n_estimators=200)</pre></div></div></div></div></div>"
            ]
          },
          "metadata": {},
          "execution_count": 132
        }
      ]
    },
    {
      "cell_type": "code",
      "source": [
        "y_train_pred = clf.predict(x_train)\n",
        "y_test_pred = clf.predict(x_test)"
      ],
      "metadata": {
        "id": "LZBGUjVnDbce"
      },
      "execution_count": null,
      "outputs": []
    },
    {
      "cell_type": "code",
      "source": [
        "y_binary = clf.predict(x_train[:10, :])\n",
        "y_prob = clf.predict_proba(x_train[:10, :])"
      ],
      "metadata": {
        "id": "a7ZExfdEfvjg"
      },
      "execution_count": null,
      "outputs": []
    },
    {
      "cell_type": "code",
      "source": [
        "y_train_pred_prob = clf.predict_proba(x_train)[:, 1]\n",
        "y_test_pred_prob = clf.predict_proba(x_test)[:, 1]"
      ],
      "metadata": {
        "id": "tOESgRqUi8ge"
      },
      "execution_count": null,
      "outputs": []
    },
    {
      "cell_type": "markdown",
      "source": [
        "# Step 9: Use an Appropriate Method for Interpreting Results"
      ],
      "metadata": {
        "id": "hT0cnOFdafEF"
      }
    },
    {
      "cell_type": "markdown",
      "source": [
        "We are going to use the same function we created earlier to view the classification accuracy of our model."
      ],
      "metadata": {
        "id": "zj0apvZTbn5d"
      }
    },
    {
      "cell_type": "code",
      "source": [
        "from sklearn.metrics import confusion_matrix\n",
        "from sklearn.metrics import accuracy_score, f1_score, precision_score, recall_score\n",
        "from sklearn.metrics import ConfusionMatrixDisplay, RocCurveDisplay\n",
        "\n",
        "classes = ['benign', 'malignant']\n",
        "def classification_evaluation(y_true, y_pred, y_pred_prob):\n",
        "    \"\"\"\n",
        "    Generate a series of graphs that will help us determine the performance of\n",
        "    a binary classifier model\n",
        "    y_true: the target binary labels\n",
        "    y_pred: the predicted binary labels\n",
        "    y_pred_prob: the predicted likelihood scores for a positive label\n",
        "    \"\"\"\n",
        "    # Calculate f1 score, sensitivity, and specificity\n",
        "    cm = confusion_matrix(y_true, y_pred)\n",
        "    tn = cm[0][0]\n",
        "    fp = cm[0][1]\n",
        "    fn = cm[1][0]\n",
        "    tp = cm[1][1]\n",
        "    f1 = f1_score(y_true, y_pred)\n",
        "    sens = tp / (tp+fn)\n",
        "    spec = tn / (tn+fp)\n",
        "\n",
        "    # Generate the confusion matrix\n",
        "    cm_title = f'Confusion Matrix \\n(Sensitivity: {sens:0.2f}, Specificity: {spec:0.2f})'\n",
        "    ConfusionMatrixDisplay.from_predictions(y_true, y_pred, display_labels=classes)\n",
        "    plt.title(cm_title)\n",
        "    plt.show()\n",
        "\n",
        "    # Display the ROC curve\n",
        "    roc_title = f'ROC Curve (F1 score: {f1:0.2f})'\n",
        "    RocCurveDisplay.from_predictions(y_true, y_pred_prob)\n",
        "    plt.title(roc_title)\n",
        "    plt.show()"
      ],
      "metadata": {
        "id": "b1LxWw82eXkj"
      },
      "execution_count": null,
      "outputs": []
    },
    {
      "cell_type": "markdown",
      "source": [
        "Without dataset balancing and hyperparameter tuning, we achieved perfect accuracy on our training data; however, we only achieved an F1 score of 0.10 on our test data. Let's see what happens when we evaluate our new model (note that we evaluating training accuracy only on real data before SMOTE was applied):"
      ],
      "metadata": {
        "id": "PeRsPC3cjgwu"
      }
    },
    {
      "cell_type": "code",
      "source": [
        "classification_evaluation(y_train, y_train_pred, y_train_pred_prob)"
      ],
      "metadata": {
        "id": "A-eEyZjjjl_B",
        "colab": {
          "base_uri": "https://localhost:8080/",
          "height": 948
        },
        "outputId": "ecf99415-2f61-466d-b184-853aedea2560"
      },
      "execution_count": null,
      "outputs": [
        {
          "output_type": "display_data",
          "data": {
            "text/plain": [
              "<Figure size 640x480 with 2 Axes>"
            ],
            "image/png": "[encoded data removed]"
          },
          "metadata": {}
        },
        {
          "output_type": "display_data",
          "data": {
            "text/plain": [
              "<Figure size 640x480 with 1 Axes>"
            ],
            "image/png": "[encoded data removed]"
          },
          "metadata": {}
        }
      ]
    },
    {
      "cell_type": "markdown",
      "source": [
        "Because we chose hyperparameters that made our model less flexible, we actually see a slight drop in training accuracy. Nevertheless, it seems like the model is still learning from the features in order to provide useful predictions on the training set."
      ],
      "metadata": {
        "id": "r6K5RI-nBTqE"
      }
    },
    {
      "cell_type": "code",
      "source": [
        "classification_evaluation(y_test, y_test_pred, y_test_pred_prob)"
      ],
      "metadata": {
        "id": "DnvfgKLRjrCO",
        "colab": {
          "base_uri": "https://localhost:8080/",
          "height": 948
        },
        "outputId": "bae3b8c3-f702-4f9b-ef52-aebb7e71b920"
      },
      "execution_count": null,
      "outputs": [
        {
          "output_type": "display_data",
          "data": {
            "text/plain": [
              "<Figure size 640x480 with 2 Axes>"
            ],
            "image/png": "[encoded data removed]"
          },
          "metadata": {}
        },
        {
          "output_type": "display_data",
          "data": {
            "text/plain": [
              "<Figure size 640x480 with 1 Axes>"
            ],
            "image/png": "[encoded data removed]"
          },
          "metadata": {}
        }
      ]
    },
    {
      "cell_type": "markdown",
      "source": [
        "Although the model performance isn't stellar, we can see that our changes led to an improvement in our test accuracy. While we only achieved an F1 score of 0.10 before, we have now bumped the F1 score to 0.33! Since we made multiple changes to our pipeline at the same time, we can't say for certain which change led to the bigger improvement, but clearly we're heading in the right direction."
      ],
      "metadata": {
        "id": "73HEAeGwqoEr"
      }
    },
    {
      "cell_type": "markdown",
      "source": [
        "So what are some things we could do to push the performance further? Here are some ideas:\n",
        "* **Refine our current features:** We made some assumptions about the best way to represent various characteristics of the skin lesion. For example, we decided that the HSV color space would be the best way to represent color, but perhaps another color space may have yielded better results.\n",
        "* **Examine more features:** All of our features were inspired by the ABCDE rule of dermatology. While it is strongly recommended that you ground your features in domain expertise, data science gives you the opportunity to push the limits of what humans can do. For example, maybe the ABCDE rule hasn't included anything about speckling patterns within skin lesions because it's hard to perceive such patterns with the naked eye. Using image processing, we can explore for ourselves whether we can extract such information and whether it can be useful for predicting\n",
        "* **More data:** Roughly 20% of our dataset included malignant skin lesions. Although we used SMOTE to balance our training split, remember that the synthetic examples can only be made from existing data. If possible, it would have been better if we could have intentionally collected more images of malignant skin lesions to round out our dataset."
      ],
      "metadata": {
        "id": "rzB4bc88ueDr"
      }
    }
  ]
}