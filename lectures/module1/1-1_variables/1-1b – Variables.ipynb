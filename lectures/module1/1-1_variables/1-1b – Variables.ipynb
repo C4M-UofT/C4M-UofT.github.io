{
  "cells": [
    {
      "cell_type": "markdown",
      "metadata": {
        "id": "RSISocM9A7pO"
      },
      "source": [
        "# Variables\n"
      ]
    },
    {
      "cell_type": "markdown",
      "metadata": {
        "id": "9qNuTyBlGg3t"
      },
      "source": [
        "## Variable Expressions"
      ]
    },
    {
      "cell_type": "markdown",
      "metadata": {
        "id": "UP3-LAHTA7pR"
      },
      "source": [
        "When writing programs, we often want to name values so that we can refer to them later. A name that refers to a value is called a ***variable***, and we create variables using ***assignment statements*** like the following:"
      ]
    },
    {
      "cell_type": "code",
      "execution_count": null,
      "metadata": {
        "id": "yXlaQHERA7pR"
      },
      "outputs": [],
      "source": [
        "x = 10"
      ]
    },
    {
      "cell_type": "markdown",
      "metadata": {
        "id": "YzQrVuplA7pS"
      },
      "source": [
        "The general form of an assignment statement is:\n",
        " ``«variable» = «expression»``\n",
        "\n",
        "An assignment statement is executed as follows:\n",
        "- Evaluate the expression on the right-hand side to produce a value. This value has a memory address.\n",
        "- Store that memory address in the variable on the left-hand side.\n",
        "\n",
        "Note: If the variable name has never been used before, a new variable is created. Otherwise, whatever value is associated with the variable name is replaced with the new one."
      ]
    },
    {
      "cell_type": "markdown",
      "metadata": {
        "id": "7061KaerA7pT"
      },
      "source": [
        "We can now retrieve the value that `x` refers to by typing `x` in the shell:"
      ]
    },
    {
      "cell_type": "code",
      "execution_count": null,
      "metadata": {
        "id": "YwY5IIjVA7pU"
      },
      "outputs": [],
      "source": [
        "x"
      ]
    },
    {
      "cell_type": "markdown",
      "metadata": {
        "id": "lYrNgLo5A7pV"
      },
      "source": [
        "We computed things like `10 + 5` before. Now we can use variables in place of actual numbers:"
      ]
    },
    {
      "cell_type": "code",
      "execution_count": null,
      "metadata": {
        "id": "qi1DHyFVA7pW"
      },
      "outputs": [],
      "source": [
        "x + 5"
      ]
    },
    {
      "cell_type": "markdown",
      "metadata": {
        "id": "7mULg5t8A7pX"
      },
      "source": [
        "The code `x + 5` is an expression, just like `10` and `10 + 5` are, so we can store the result in a variable:"
      ]
    },
    {
      "cell_type": "code",
      "execution_count": null,
      "metadata": {
        "id": "62urQaOfA7pX"
      },
      "outputs": [],
      "source": [
        "result = x + 5"
      ]
    },
    {
      "cell_type": "code",
      "execution_count": null,
      "metadata": {
        "id": "FPuvjfDfA7pY"
      },
      "outputs": [],
      "source": [
        "result"
      ]
    },
    {
      "cell_type": "markdown",
      "metadata": {
        "id": "_5P-hGkVHL9I"
      },
      "source": [
        "Because the expression on the right is computed first, you can also get some variable expressions that would not make sense in normal math, but do make sense in programming:"
      ]
    },
    {
      "cell_type": "code",
      "execution_count": null,
      "metadata": {
        "id": "KHbzFByzHbRb"
      },
      "outputs": [],
      "source": [
        "x = 5"
      ]
    },
    {
      "cell_type": "code",
      "execution_count": null,
      "metadata": {
        "id": "SdFUsCdoHp3S"
      },
      "outputs": [],
      "source": [
        "x = x + 1"
      ]
    },
    {
      "cell_type": "code",
      "execution_count": null,
      "metadata": {
        "id": "6uNp6ILxHsXu"
      },
      "outputs": [],
      "source": [
        "x"
      ]
    },
    {
      "cell_type": "markdown",
      "metadata": {
        "id": "z25geT6bH2Nm"
      },
      "source": [
        "Variable expressions should not be interpreted as mathematical equations, but rather as statements that assign one value to another."
      ]
    },
    {
      "cell_type": "markdown",
      "metadata": {
        "id": "1dSJWvlxGzaf"
      },
      "source": [
        "## Variable Names"
      ]
    },
    {
      "cell_type": "markdown",
      "metadata": {
        "id": "uasUPN0aA7pY"
      },
      "source": [
        "Variable names must start with a letter or an underscore, and they can only include letters, digits, and underscores. Variable names are case-sensitive."
      ]
    },
    {
      "cell_type": "code",
      "execution_count": null,
      "metadata": {
        "id": "gtlMsMCeCJDt"
      },
      "outputs": [],
      "source": [
        "temp_F = 75\n",
        "Temp_F = 70"
      ]
    },
    {
      "cell_type": "code",
      "execution_count": null,
      "metadata": {
        "id": "uEaFnPKhCSbL"
      },
      "outputs": [],
      "source": [
        "temp_F"
      ]
    },
    {
      "cell_type": "code",
      "execution_count": null,
      "metadata": {
        "id": "LhPq2F6qCyRB"
      },
      "outputs": [],
      "source": [
        "Temp_F"
      ]
    },
    {
      "cell_type": "code",
      "execution_count": null,
      "metadata": {
        "id": "Ul1mEQGLD6Cn"
      },
      "outputs": [],
      "source": [
        "temp_f"
      ]
    },
    {
      "cell_type": "markdown",
      "metadata": {
        "id": "mkPJZrTlCIse"
      },
      "source": [
        "You will see that most of our early code examples will use generic variable names like `x`, `y`, `num`, etc. As your code gets longer and more sophisticated, you will want to think about having descriptive variable names like `patient_id` and `rolling_sum` so that you remember their purpose."
      ]
    },
    {
      "cell_type": "markdown",
      "source": [
        "It is important that you avoid variable names that overlap with built-in Python functions or functions that you create. Otherwise, those functions will no longer have the functionality you require."
      ],
      "metadata": {
        "id": "61MbPY8UU1Xb"
      }
    },
    {
      "cell_type": "markdown",
      "source": [
        "Recall that `max()` is a built-in function that calculates the maximum between a collection of numbers. If we assign a value to `max`, we will no longer be able to use it as a function:"
      ],
      "metadata": {
        "id": "ix1ICPKuVCeM"
      }
    },
    {
      "cell_type": "code",
      "source": [
        "max(4, 5)"
      ],
      "metadata": {
        "id": "1cI39Q6BVdio"
      },
      "execution_count": null,
      "outputs": []
    },
    {
      "cell_type": "code",
      "source": [
        "max = 6"
      ],
      "metadata": {
        "id": "FVwvxU0lVgQy"
      },
      "execution_count": null,
      "outputs": []
    },
    {
      "cell_type": "code",
      "source": [
        "max(4, 5)"
      ],
      "metadata": {
        "id": "gpsg3J1WVgiH"
      },
      "execution_count": null,
      "outputs": []
    },
    {
      "cell_type": "markdown",
      "source": [
        "In situations like these, you will be better off using a more descriptive name, like `max_score` or `max_num`."
      ],
      "metadata": {
        "id": "hLSr-aWzVmGt"
      }
    },
    {
      "cell_type": "markdown",
      "metadata": {
        "id": "38Oy2rQRA7pZ"
      },
      "source": [
        "## Practice Exercise: Working with Variables"
      ]
    },
    {
      "cell_type": "markdown",
      "metadata": {
        "id": "9_eZ9yPzA7pZ"
      },
      "source": [
        "1.  Consider this code:\n",
        "```\n",
        "j = 7\n",
        "```\n",
        "Write an assignment statement that creates a new variable `k` that refers to three times `j`'s value."
      ]
    },
    {
      "cell_type": "code",
      "execution_count": null,
      "metadata": {
        "id": "ExlL93IafWTb"
      },
      "outputs": [],
      "source": [
        "# Write the assignment statement here"
      ]
    },
    {
      "cell_type": "markdown",
      "metadata": {
        "id": "oiN5QyUQfSC3"
      },
      "source": [
        "\n",
        "2. Consider this code:\n",
        "```python\n",
        "patient_a = 3\n",
        "patient_b = 4\n",
        "patient_a = 5\n",
        "```\n",
        "After the code above is executed, what is `patient_a`'s value?  \n",
        "After the code above is executed, what is `patient_b`'s value?  "
      ]
    },
    {
      "cell_type": "markdown",
      "metadata": {
        "id": "xU-Of7HXfTwv"
      },
      "source": [
        "3. Consider this code:\n",
        "```python\n",
        "x = 4\n",
        "y = x + 2\n",
        "x = y + 1\n",
        "```\n",
        "After the code above is executed, what is `x`'s value?  \n",
        "After the code above is executed, what is `y`'s value?  "
      ]
    },
    {
      "cell_type": "markdown",
      "metadata": {
        "id": "w0QQL-dDekVM"
      },
      "source": [
        "## Practice Exercise: Solving a Problem Using Variables"
      ]
    },
    {
      "cell_type": "markdown",
      "metadata": {
        "id": "VNliVhFlA7pZ"
      },
      "source": [
        "Fridericia's formula estimates the corrected QT interval ($QTc$) in a person's ECG signal based on the measured QT interval ($QT$) and the R-R interval ($RR$):\n",
        "$$QTc = \\frac{QT}{RR^{\\frac{1}{3}}}$$\n",
        "\n",
        "The R-R interval is measured in seconds, and can be obtained using 60$/$hr, where hr is the heart rate. Given the `hr` and `qt` variables below, and calculate the `qtc`."
      ]
    },
    {
      "cell_type": "code",
      "execution_count": null,
      "metadata": {
        "id": "hRqXSCR9A7pa"
      },
      "outputs": [],
      "source": [
        "hr = 70\n",
        "qt = 300"
      ]
    },
    {
      "cell_type": "markdown",
      "metadata": {
        "id": "F0-B1Qq2A7pa"
      },
      "source": [
        "The corrected QT interval should be approximately 315 seconds."
      ]
    },
    {
      "cell_type": "code",
      "execution_count": null,
      "metadata": {
        "id": "JqqlXin7fzWY"
      },
      "outputs": [],
      "source": [
        "# Write your code here"
      ]
    }
  ],
  "metadata": {
    "colab": {
      "provenance": []
    },
    "kernelspec": {
      "display_name": "Python 3",
      "language": "python",
      "name": "python3"
    },
    "language_info": {
      "codemirror_mode": {
        "name": "ipython",
        "version": 3
      },
      "file_extension": ".py",
      "mimetype": "text/x-python",
      "name": "python",
      "nbconvert_exporter": "python",
      "pygments_lexer": "ipython3",
      "version": "3.6.13"
    }
  },
  "nbformat": 4,
  "nbformat_minor": 0
}