{
  "cells": [
    {
      "cell_type": "markdown",
      "metadata": {
        "id": "d8LJtTRao5Jk"
      },
      "source": [
        "# Arithmetic Operators and Built-in Functions"
      ]
    },
    {
      "cell_type": "markdown",
      "metadata": {
        "id": "5hUa_bpoNkyi"
      },
      "source": [
        "When writing programs, we can mix in English language notes and explanations called ***comments***."
      ]
    },
    {
      "cell_type": "code",
      "execution_count": null,
      "metadata": {
        "id": "RP5e6Ujto5Ju"
      },
      "outputs": [],
      "source": [
        "# Whatever comes after the # symbol is not executed.\n",
        "# Comments can be written above, below, or to the right of lines of code"
      ]
    },
    {
      "cell_type": "markdown",
      "source": [
        "While Jupyter notebooks are unique in that they can support blocks of formatted text with code, comments can work in any programming environment. We will use a mixture of these throughout the course."
      ],
      "metadata": {
        "id": "hvK0rPqdfprM"
      }
    },
    {
      "cell_type": "markdown",
      "metadata": {
        "id": "HIlMjLrgo5Jn"
      },
      "source": [
        "## Using Python as a Calculator"
      ]
    },
    {
      "cell_type": "markdown",
      "metadata": {
        "id": "Shu4un5to5Jr"
      },
      "source": [
        "Each entity in a programming language like Python has a ***type***. For now, we are going to just talk about numbers.\n",
        "\n",
        "* `int`: Integers like `4`, `5`, and `-3`\n",
        "* `float`: Floating point numbers, which are numbers with fractional parts like `12.5` and `-3.4`"
      ]
    },
    {
      "cell_type": "markdown",
      "metadata": {
        "id": "aPa9VODMLC_k"
      },
      "source": [
        "You can use scientific notation to write really big and really small numbers:"
      ]
    },
    {
      "cell_type": "code",
      "execution_count": null,
      "metadata": {
        "id": "k7-aDP65L8kI"
      },
      "outputs": [],
      "source": [
        "1.234e5"
      ]
    },
    {
      "cell_type": "code",
      "execution_count": null,
      "metadata": {
        "id": "mzQ6BlaxMGkO"
      },
      "outputs": [],
      "source": [
        "1.234e-3"
      ]
    },
    {
      "cell_type": "markdown",
      "metadata": {
        "id": "MYq1Yjh4MVVB"
      },
      "source": [
        "However, there are limits to the kinds of numbers that can be represented on a computer."
      ]
    },
    {
      "cell_type": "code",
      "execution_count": null,
      "metadata": {
        "id": "Iz6pD8zzMUJt"
      },
      "outputs": [],
      "source": [
        "2e100000"
      ]
    },
    {
      "cell_type": "code",
      "execution_count": null,
      "metadata": {
        "id": "nqfCRNOANbG_"
      },
      "outputs": [],
      "source": [
        "-2e100000"
      ]
    },
    {
      "cell_type": "markdown",
      "metadata": {
        "id": "YG21xzFcsbbZ"
      },
      "source": [
        "Combining code and comments, here are some examples of basic arithmetic operations in Python:"
      ]
    },
    {
      "cell_type": "code",
      "execution_count": null,
      "metadata": {
        "id": "kCNE4zWNo5Jo"
      },
      "outputs": [],
      "source": [
        "# Addition\n",
        "4 + 5"
      ]
    },
    {
      "cell_type": "code",
      "execution_count": null,
      "metadata": {
        "id": "YkbNwfKro5Jq"
      },
      "outputs": [],
      "source": [
        "# Subtraction\n",
        "15 - 12.5"
      ]
    },
    {
      "cell_type": "code",
      "execution_count": null,
      "metadata": {
        "id": "MZ92JF5Zo5Jq"
      },
      "outputs": [],
      "source": [
        "# Multiplication\n",
        "3.4 * 6"
      ]
    },
    {
      "cell_type": "code",
      "execution_count": null,
      "metadata": {
        "id": "rRi2AdCHo5Js"
      },
      "outputs": [],
      "source": [
        "# Division\n",
        "8 / 4"
      ]
    },
    {
      "cell_type": "code",
      "execution_count": null,
      "metadata": {
        "id": "KpAvToQVo5Ju"
      },
      "outputs": [],
      "source": [
        "# Exponential\n",
        "2 ** 5  # 2 to the power of 5"
      ]
    },
    {
      "cell_type": "markdown",
      "metadata": {
        "id": "TM5_qy4bo5Js"
      },
      "source": [
        "Notice how the default division operator `/` produces a `float`, even if the formula involves `ints`. You can also do integer division using the `//` operator, and you can get the remainder using the `%` (**modulo** or **mod** for short) operator. In the example below, we show that the fraction 10 / 3 can be rewritten as 3 with a remainder of 1 (3 1/3):"
      ]
    },
    {
      "cell_type": "code",
      "execution_count": null,
      "metadata": {
        "id": "FZQ9l5Kzo5Jt"
      },
      "outputs": [],
      "source": [
        "# Integer division\n",
        "10 // 3"
      ]
    },
    {
      "cell_type": "code",
      "execution_count": null,
      "metadata": {
        "id": "qevpik1ho5Jv"
      },
      "outputs": [],
      "source": [
        "# Mod operator\n",
        "10 % 3"
      ]
    },
    {
      "cell_type": "markdown",
      "metadata": {
        "id": "KSxjpgaCo5Jw"
      },
      "source": [
        "Just like regular math, math in programming must the PEMDAS order of operations. This is the order of precedence from highest to lowest and left to right:\n",
        "\n",
        "* **P**arentheses: `()`\n",
        "* **E**xponential: `**`\n",
        "* **M**ultiplication: `-` (negation), `*`\n",
        "* **D**ivision: `/`, `//`, `%`\n",
        "* **A**ddition: `+`\n",
        "* **S**ubtraction: `-`"
      ]
    },
    {
      "cell_type": "code",
      "execution_count": null,
      "metadata": {
        "id": "I6Y65CZY-VVh"
      },
      "outputs": [],
      "source": [
        "-3+3*5"
      ]
    },
    {
      "cell_type": "code",
      "execution_count": null,
      "metadata": {
        "id": "IVsLlXQy-hJd"
      },
      "outputs": [],
      "source": [
        "-(3+3)*5"
      ]
    },
    {
      "cell_type": "markdown",
      "metadata": {
        "id": "4iJ289MfQwa7"
      },
      "source": [
        "Also like in regular math, we call the statements above ***expressions*** — finite combinations of symbols that are well-formed according to rules."
      ]
    },
    {
      "cell_type": "markdown",
      "metadata": {
        "id": "u0usjSRTo5Jz"
      },
      "source": [
        "## Practice Exercise: Writing Expressions"
      ]
    },
    {
      "cell_type": "markdown",
      "metadata": {
        "id": "793UMUO7ewG7"
      },
      "source": [
        "1. A patient just turned 80 years old.  Write a Python expression to calculate her age in months."
      ]
    },
    {
      "cell_type": "code",
      "execution_count": null,
      "metadata": {
        "id": "gadU8-xye4xe"
      },
      "outputs": [],
      "source": [
        "# Write your expression here"
      ]
    },
    {
      "cell_type": "markdown",
      "metadata": {
        "id": "rna3eA4jezGA"
      },
      "source": [
        "2. A father reports that his son's temperature was 40.1 degrees Celsius when measured at home.  Write an expression to convert the temperature from Celsius to Fahreneheit (formula: multiply by 9, divide by 5, and then add 32.)"
      ]
    },
    {
      "cell_type": "code",
      "execution_count": null,
      "metadata": {
        "id": "WCSnIOR3e8g1"
      },
      "outputs": [],
      "source": [
        "# Write your expression here"
      ]
    },
    {
      "cell_type": "markdown",
      "metadata": {
        "id": "xHb3jDmEo5Jw"
      },
      "source": [
        "## Encountering Errors"
      ]
    },
    {
      "cell_type": "markdown",
      "metadata": {
        "id": "xwKg_Dyto5Jx"
      },
      "source": [
        "It is inevitable that you will write code with mistakes in it. Becoming a good programmer is just as much about learning how to identify and fix these errors as it is about writing good code the first time around. Here are a few examples of simpler errors you might make:"
      ]
    },
    {
      "cell_type": "code",
      "execution_count": null,
      "metadata": {
        "id": "Wa7n8Buio5Jx"
      },
      "outputs": [],
      "source": [
        "# Incomplete math expression\n",
        "3 +"
      ]
    },
    {
      "cell_type": "code",
      "execution_count": null,
      "metadata": {
        "id": "EBa0XNI-o5Jx"
      },
      "outputs": [],
      "source": [
        "# Missing (\n",
        "4 + 5 ) * 2"
      ]
    },
    {
      "cell_type": "code",
      "execution_count": null,
      "metadata": {
        "id": "wAXhyVECo5Jy"
      },
      "outputs": [],
      "source": [
        "# Either missing a multiplier or an incorrect exponential operator\n",
        "2 * * 5"
      ]
    },
    {
      "cell_type": "code",
      "execution_count": null,
      "metadata": {
        "id": "Fyze74sto5Jz"
      },
      "outputs": [],
      "source": [
        "# Cannot divide by zero\n",
        "9 / 0"
      ]
    },
    {
      "cell_type": "markdown",
      "source": [
        "Python tries its best to explain what the error was and where it was located in your code. This printout consists three parts:\n",
        "\n",
        "1. The name of the error (e.g., `SyntaxError`, `ZeroDivisionError`)\n",
        "2. The line number Python was running when the error occurred\n",
        "3. The specific location within that line where the error occurred using the `^` symbol\n",
        "  \n",
        "This information may or may not be sufficient to help you resolve the problems you will encounter."
      ],
      "metadata": {
        "id": "Wu0IHbDLa16L"
      }
    },
    {
      "cell_type": "markdown",
      "source": [
        "Oftentimes, your will write a program with correct syntax (i.e., follow the rules for how code should be written), but it will have unanticipated behavior or produce incorrect results. We will talk about strategies for handling these errors later in the course."
      ],
      "metadata": {
        "id": "OmQzKxRelR09"
      }
    },
    {
      "cell_type": "markdown",
      "metadata": {
        "id": "Vzj4OXsjo5Jz"
      },
      "source": [
        "## Built-in Functions"
      ]
    },
    {
      "cell_type": "markdown",
      "metadata": {
        "id": "J-VTz9wQo5Jz"
      },
      "source": [
        "In addition to the operators shown above, the Python language comes with a set of functions that we can use."
      ]
    },
    {
      "cell_type": "code",
      "execution_count": null,
      "metadata": {
        "id": "yVk4mCyOo5J0"
      },
      "outputs": [],
      "source": [
        "# Minimum in a collection of numbers\n",
        "min(45.2, 23)"
      ]
    },
    {
      "cell_type": "code",
      "execution_count": null,
      "metadata": {
        "id": "UB-alMMXo5J0"
      },
      "outputs": [],
      "source": [
        "# Maximum in a collection of numbers\n",
        "max(5, 5.2)"
      ]
    },
    {
      "cell_type": "code",
      "execution_count": null,
      "metadata": {
        "id": "g8m3Q1sxo5J0"
      },
      "outputs": [],
      "source": [
        "# Absolute value\n",
        "abs(-10)"
      ]
    },
    {
      "cell_type": "code",
      "execution_count": null,
      "metadata": {
        "id": "5YY_8YK0SNu3"
      },
      "outputs": [],
      "source": [
        "# Power (similar to **)\n",
        "pow(2, 4)"
      ]
    },
    {
      "cell_type": "code",
      "execution_count": null,
      "metadata": {
        "id": "tGlFNEJAo5J1"
      },
      "outputs": [],
      "source": [
        "# Type of a number\n",
        "type(4)"
      ]
    },
    {
      "cell_type": "code",
      "execution_count": null,
      "metadata": {
        "id": "dN7qSPwHo5J1"
      },
      "outputs": [],
      "source": [
        "# Type of a number\n",
        "type(8.25)"
      ]
    },
    {
      "cell_type": "markdown",
      "metadata": {
        "id": "LwCkh18to5J1"
      },
      "source": [
        "## Practice Exercise: Calling on `round()`"
      ]
    },
    {
      "cell_type": "markdown",
      "metadata": {
        "id": "8p1jn1yOo5J1"
      },
      "source": [
        "Python has a built-in function named `round()`. In the Python shell, run each function call below and record the result:\n",
        "1. `round(24.2)`\n",
        "2. `round(24.5)`\n",
        "3. `round(24.9)`\n",
        "4. `round(1.234567, 2)`\n",
        "5. `round(1.234567, 3)`"
      ]
    },
    {
      "cell_type": "code",
      "execution_count": null,
      "metadata": {
        "id": "e0WtfkFBe_pA"
      },
      "outputs": [],
      "source": [
        "# Try different round() calls here"
      ]
    }
  ],
  "metadata": {
    "colab": {
      "provenance": []
    },
    "kernelspec": {
      "display_name": "Python 3",
      "language": "python",
      "name": "python3"
    },
    "language_info": {
      "codemirror_mode": {
        "name": "ipython",
        "version": 3
      },
      "file_extension": ".py",
      "mimetype": "text/x-python",
      "name": "python",
      "nbconvert_exporter": "python",
      "pygments_lexer": "ipython3",
      "version": "3.6.13"
    }
  },
  "nbformat": 4,
  "nbformat_minor": 0
}