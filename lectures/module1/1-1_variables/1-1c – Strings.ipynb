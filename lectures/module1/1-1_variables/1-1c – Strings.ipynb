{
  "cells": [
    {
      "cell_type": "markdown",
      "metadata": {
        "id": "LXmFqVuQKkk1"
      },
      "source": [
        "# Introduction to Strings"
      ]
    },
    {
      "cell_type": "markdown",
      "metadata": {
        "id": "cDhfITq9gEQQ"
      },
      "source": [
        "## What Is A String?"
      ]
    },
    {
      "cell_type": "markdown",
      "metadata": {
        "id": "-Dh_t3IFKkk4"
      },
      "source": [
        "Until now, we've only been working with numeric values and two numeric types (`int` and `float`).  Next, we will work with ***strings***, which are sequences of ***characters*** (i.e., letters, numbers, and special symbols).\n",
        "\n",
        "Strings in Python are represented with the type `str`. Strings start and end with either single quotes (`'`) or double quotes (`\"`), which are sometimes called ***delimiters***."
      ]
    },
    {
      "cell_type": "code",
      "execution_count": null,
      "metadata": {
        "id": "BXdLzHiwOCLf"
      },
      "outputs": [],
      "source": [
        "'hello'"
      ]
    },
    {
      "cell_type": "code",
      "execution_count": null,
      "metadata": {
        "id": "fCCDkkFbOD3A"
      },
      "outputs": [],
      "source": [
        "\"How are you, patient?\""
      ]
    },
    {
      "cell_type": "code",
      "execution_count": null,
      "metadata": {
        "id": "0mLAjCeAOO1A"
      },
      "outputs": [],
      "source": [
        "\"this is a 'quote' inside a quote\""
      ]
    },
    {
      "cell_type": "markdown",
      "metadata": {
        "id": "lA5PLZwzOFrm"
      },
      "source": [
        "## String Operations"
      ]
    },
    {
      "cell_type": "markdown",
      "metadata": {
        "id": "_T2gG7OyOMZs"
      },
      "source": [
        "Like other data types, we can use them in expressions and assignment statements:"
      ]
    },
    {
      "cell_type": "code",
      "execution_count": null,
      "metadata": {
        "id": "TkvP9p63Kkk7"
      },
      "outputs": [],
      "source": [
        "greeting = 'hello'"
      ]
    },
    {
      "cell_type": "code",
      "execution_count": null,
      "metadata": {
        "id": "RTxJ6PtnKkk7"
      },
      "outputs": [],
      "source": [
        "greeting"
      ]
    },
    {
      "cell_type": "code",
      "execution_count": null,
      "metadata": {
        "id": "xKBOzwEvQLsF"
      },
      "outputs": [],
      "source": [
        "# Concatenate\n",
        "greeting + ' there'"
      ]
    },
    {
      "cell_type": "code",
      "execution_count": null,
      "metadata": {
        "id": "LF0_IEszKkk8"
      },
      "outputs": [],
      "source": [
        "# Concatenate 3 copies of the string stored as greeting\n",
        "greeting * 3"
      ]
    },
    {
      "cell_type": "code",
      "execution_count": null,
      "metadata": {
        "id": "WV2aFTNCKkk9"
      },
      "outputs": [],
      "source": [
        "# Notice how we have not assigned a new value to greeting, so its value is unchanged\n",
        "greeting"
      ]
    },
    {
      "cell_type": "markdown",
      "metadata": {
        "id": "pBgfvTReKkk-"
      },
      "source": [
        "## Multi-line Strings"
      ]
    },
    {
      "cell_type": "markdown",
      "metadata": {
        "id": "5YgldBzkKkk_"
      },
      "source": [
        "In addition to single- and double-quotes, we can also use triple-quotes (`'''`) to represent strings.  A triple-quoted string can span multiple lines:"
      ]
    },
    {
      "cell_type": "code",
      "execution_count": null,
      "metadata": {
        "id": "UPw62AizKklA"
      },
      "outputs": [],
      "source": [
        "'''This is\n",
        "a longer string\n",
        "that spans\n",
        "multiple lines.'''"
      ]
    },
    {
      "cell_type": "markdown",
      "metadata": {
        "id": "z5E99iLeKklA"
      },
      "source": [
        "Notice that when the triple-quoted string is evaluated, it produces a single-quoted string containing `\\n`. This is the *newline character*, which tells Python that the text should switch to a new line."
      ]
    },
    {
      "cell_type": "markdown",
      "metadata": {
        "id": "gY4XtaYYgi9L"
      },
      "source": [
        "You can technically use the newline character in your own strings."
      ]
    },
    {
      "cell_type": "code",
      "execution_count": null,
      "metadata": {
        "id": "l8thff9cgVcO"
      },
      "outputs": [],
      "source": [
        "\"This is line 1\\nAnd this is line 2\""
      ]
    },
    {
      "cell_type": "markdown",
      "metadata": {
        "id": "q5JuQ3nEgvKx"
      },
      "source": [
        "Whether you actually see a new line or just the newline character depends on the programming environment you are using."
      ]
    }
  ],
  "metadata": {
    "colab": {
      "provenance": []
    },
    "kernelspec": {
      "display_name": "Python 3",
      "language": "python",
      "name": "python3"
    },
    "language_info": {
      "codemirror_mode": {
        "name": "ipython",
        "version": 3
      },
      "file_extension": ".py",
      "mimetype": "text/x-python",
      "name": "python",
      "nbconvert_exporter": "python",
      "pygments_lexer": "ipython3",
      "version": "3.6.13"
    }
  },
  "nbformat": 4,
  "nbformat_minor": 0
}