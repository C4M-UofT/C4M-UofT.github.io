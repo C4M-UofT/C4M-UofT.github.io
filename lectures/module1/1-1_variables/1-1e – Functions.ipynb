{
  "cells": [
    {
      "cell_type": "markdown",
      "metadata": {
        "id": "wSJSNixIR6F-"
      },
      "source": [
        "# Functions"
      ]
    },
    {
      "cell_type": "markdown",
      "metadata": {
        "id": "6vwIQi_JdXf2"
      },
      "source": [
        "## What Is a Function?"
      ]
    },
    {
      "cell_type": "markdown",
      "metadata": {
        "id": "vnKuT9Ojdfmq"
      },
      "source": [
        "You've already seen some of Python's built-in functions:"
      ]
    },
    {
      "cell_type": "code",
      "execution_count": null,
      "metadata": {
        "id": "GZRPyA5MR6GB"
      },
      "outputs": [],
      "source": [
        "max(1, 3)"
      ]
    },
    {
      "cell_type": "code",
      "execution_count": null,
      "metadata": {
        "id": "O76vNDgzR6GD"
      },
      "outputs": [],
      "source": [
        "abs(-10)"
      ]
    },
    {
      "cell_type": "markdown",
      "metadata": {
        "id": "FiAyia-eR6GE"
      },
      "source": [
        "You've also seen functions in math. For example:\n",
        "\n",
        "$f(x) = 2x + 7$\n",
        "\n",
        "This is the definition of $f(x)$. It does not have a single value, but rather explains what it would mean to call the function $f$ on some value.\n",
        "\n",
        "Given a ***value*** for $x$, we can calculate the resulting value of $f(x)$.\n",
        "$f(2)$ evaluates to 11,  $f(-1$) gives 5.\n",
        "\n",
        "We can define our own functions in addition to Python's built-in functions. For example, we can define a function equivalent to $f(x) = 2x + 7$:"
      ]
    },
    {
      "cell_type": "code",
      "execution_count": null,
      "metadata": {
        "id": "nG249MbxR6GE"
      },
      "outputs": [],
      "source": [
        "def f(x):\n",
        "    return 2 * x + 7"
      ]
    },
    {
      "cell_type": "code",
      "execution_count": null,
      "metadata": {
        "id": "UPFrdKT4R6GF"
      },
      "outputs": [],
      "source": [
        "f(2)"
      ]
    },
    {
      "cell_type": "code",
      "execution_count": null,
      "metadata": {
        "id": "3TZzr-LeR6GG"
      },
      "outputs": [],
      "source": [
        "f(-1)"
      ]
    },
    {
      "cell_type": "markdown",
      "metadata": {
        "id": "G1iOuSVzR6GH"
      },
      "source": [
        "Here is the general form of a function definition:\n",
        "```python\n",
        "def <<function_name>>(<<parameters>>):\n",
        "  <<body>>\n",
        "  return <<expression>>\n",
        "```"
      ]
    },
    {
      "cell_type": "markdown",
      "metadata": {
        "id": "i_DaMBudR6GH"
      },
      "source": [
        "`def`: a keyword indicating a function definition\n",
        "\n",
        "`<<function_name>>`: the name of the function\n",
        "- Functions are often named using `pothole_case`, which entails separating lowercase words with `_`\n",
        "\n",
        "`<<parameters>>` (optional): a comma-separated list of variables whose values will be supplied when the function is called\n",
        "- Functions can have any number of parameters: 0, 1, or many\n",
        "- As with variable names, you should avoid parameter names that overlap with built-in Python functions or functions that you create\n",
        "\n",
        "`<<body>>`: one or more statements that explain how the function works\n",
        "- All body statements must be indented at least once to indicate that they are within the function\n",
        "\n",
        "`return «expression»` (optional): computes the expression and produces its result to the original caller of the function\n",
        "- A `return` statement is not always required, but we will talk about these situations later in the course.\n",
        "- All functions produce a value to the caller, even if you don't have a `return` statement. If you do not specify a `return` statement, the function will produce a special value called `None`, which has its own special type called `NoneType`."
      ]
    },
    {
      "cell_type": "markdown",
      "metadata": {
        "id": "WxlMjH67R6GJ"
      },
      "source": [
        "Once a function has been defined, we can call on the function. A ***function call*** has the form:\n",
        "    `«function_name»(«arguments»)`\n",
        "\n",
        "A function call is executed as follows:\n",
        "1. Evaluate the arguments if needed. The value of each argument is assigned a memory address.\n",
        "2. Assign those values to the parameters. This stores the memory addresses of the values in the parameters.\n",
        "3. Go into the function and run the code in the body using the parameter values.\n",
        "4. Return to where the function was originally called. If the function had a `return` statement, produce that value to the caller. Otherwise, produce `None`.\n"
      ]
    },
    {
      "cell_type": "markdown",
      "metadata": {
        "id": "QNbiYqjaC1iW"
      },
      "source": [
        "## Practice Exercise:  Functions and Terminology"
      ]
    },
    {
      "cell_type": "markdown",
      "metadata": {
        "id": "6VaX9isGR6GJ"
      },
      "source": [
        "Revisiting our earlier example, the function definition was:\n",
        "\n",
        "<pre>\n",
        "def f(x):\n",
        "    return 2 * x + 7\n",
        "</pre>\n",
        "\n",
        "Answer the following questions:\n",
        "1. What is the name of the function?\n",
        "2. How many parameter(s) does the function have?  \n",
        "3. What are the parameter(s) names?\n",
        "4. For function call `f(8)`, what is the argument?\n",
        "5. When it is executed, what value does `f(8)` produce?\n",
        "6. Consider this code: `result = f(4)`.  After that statement is executed, what value does `result` refer to?\n"
      ]
    },
    {
      "cell_type": "markdown",
      "metadata": {
        "id": "0z37LIQHR6GJ"
      },
      "source": [
        "## Function Design Recipe"
      ]
    },
    {
      "cell_type": "markdown",
      "metadata": {
        "id": "z9EKEXGmR6GK"
      },
      "source": [
        "When defining functions, we will follow this ***Function Design Recipe***:\n",
        "\n",
        "1. Write an **example** call (or two) of how we will use the function we plan to write.\n",
        "2. Write the **header** for the function. That's the `def` line.\n",
        "3. Write the **type** contract -- the type for each parameter and the type of value that will be returned.\n",
        "4. Write a **description** of what the function does.\n",
        "5. Finally, write the **code** for the body of the function.\n",
        "6. Then **test** our function."
      ]
    },
    {
      "cell_type": "markdown",
      "metadata": {
        "id": "NqMv7ajfOPKt"
      },
      "source": [
        "Let's write a function called `temp_conversion()` that converts at temperature from Celsius to Fahrenheit."
      ]
    },
    {
      "cell_type": "markdown",
      "metadata": {
        "id": "6jGr6khrsbHS"
      },
      "source": [
        "**Step 1:** Write examples of how we will call the function.\n",
        "```python\n",
        ">>> temp_conversion(10)\n",
        "50\n",
        ">>> temp_conversion(20)\n",
        "68\n",
        "```"
      ]
    },
    {
      "cell_type": "markdown",
      "metadata": {
        "id": "qImyWsiTR6GK"
      },
      "source": [
        "**Step 2:** Write the header, which is the line that starts with `def`. While you are at it, make the examples that you wrote be part of a triple-quoted string\n",
        "inside the function (make sure to indent them 4 spaces).  This triple-quoted string is called a ***docstring***, which stands for documentation string."
      ]
    },
    {
      "cell_type": "code",
      "execution_count": null,
      "metadata": {
        "id": "98fdw5aKR6GL"
      },
      "outputs": [],
      "source": [
        "def temp_conversion(temp_c):\n",
        "    \"\"\"\n",
        "    >>> temp_conversion(10)\n",
        "    50.0\n",
        "    >>> temp_conversion(20)\n",
        "    68.0\n",
        "    \"\"\""
      ]
    },
    {
      "cell_type": "markdown",
      "metadata": {
        "id": "ocbqWafTR6GL"
      },
      "source": [
        "**Step 3:** Add a type contract. Our function takes a single parameter which is a number. It returns a number. So the  type contract is  (number) -> number. Let's add that to our function."
      ]
    },
    {
      "cell_type": "code",
      "execution_count": null,
      "metadata": {
        "id": "DSYi5fE8R6GM"
      },
      "outputs": [],
      "source": [
        "def temp_conversion(temp_c):\n",
        "    \"\"\" (number) -> number\n",
        "\n",
        "    >>> temp_conversion(10)\n",
        "    50.0\n",
        "    >>> temp_conversion(20)\n",
        "    68.0\n",
        "    \"\"\""
      ]
    },
    {
      "cell_type": "markdown",
      "metadata": {
        "id": "glHSm91kR6GM"
      },
      "source": [
        "**Step 4:** Write the description and it to the docstring.  "
      ]
    },
    {
      "cell_type": "code",
      "execution_count": null,
      "metadata": {
        "id": "HWaQ_1XnR6GM"
      },
      "outputs": [],
      "source": [
        "def temp_conversion(temp_c):\n",
        "    \"\"\"(number) -> number\n",
        "\n",
        "    Return the Celsius temperature in Fahrenheit.\n",
        "\n",
        "    >>> temp_conversion(10)\n",
        "    50.0\n",
        "    >>> temp_conversion(20)\n",
        "    68.0\n",
        "    \"\"\""
      ]
    },
    {
      "cell_type": "markdown",
      "metadata": {
        "id": "8ebbqukeR6GM"
      },
      "source": [
        "**Step 5:** Code the body. For this step, we write the Python statements that will be executed when the function is called. We will use a `return` statement to produce a value.\n"
      ]
    },
    {
      "cell_type": "code",
      "execution_count": null,
      "metadata": {
        "id": "GKDYyiOGR6GN"
      },
      "outputs": [],
      "source": [
        "def temp_conversion(temp_c):\n",
        "    \"\"\"(number) -> number\n",
        "\n",
        "    Return the Celsius temperature in Fahrenheit.\n",
        "\n",
        "    >>> temp_conversion(10)\n",
        "    50.0\n",
        "    >>> temp_conversion(20)\n",
        "    68.0\n",
        "    \"\"\"\n",
        "    return 9 * temp_c / 5 + 32"
      ]
    },
    {
      "cell_type": "markdown",
      "metadata": {
        "id": "Dd3DRm1EvA__"
      },
      "source": [
        "Remember that the body of a function can take up mutliple lines. For example, this function would be equally valid:"
      ]
    },
    {
      "cell_type": "code",
      "execution_count": null,
      "metadata": {
        "id": "c4M-iDoHwij8"
      },
      "outputs": [],
      "source": [
        "def temp_conversion(temp_c):\n",
        "    \"\"\"(number) -> number\n",
        "\n",
        "    Return the Celsius temperature in Fahrenheit.\n",
        "\n",
        "    >>> temp_conversion(10)\n",
        "    50.0\n",
        "    >>> temp_conversion(20)\n",
        "    68.0\n",
        "    \"\"\"\n",
        "    temp_f = 9 * temp_c / 5\n",
        "    return temp_f + 32"
      ]
    },
    {
      "cell_type": "markdown",
      "metadata": {
        "id": "eTHloySvR6GN"
      },
      "source": [
        "**Step 6:** Test our function.  For now, we will do this by calling on the examples we developed in Step 1."
      ]
    },
    {
      "cell_type": "code",
      "execution_count": null,
      "metadata": {
        "id": "K_YcloWFR6GN"
      },
      "outputs": [],
      "source": [
        "temp_conversion(10)"
      ]
    },
    {
      "cell_type": "code",
      "execution_count": null,
      "metadata": {
        "id": "bGlF0jnrR6GO"
      },
      "outputs": [],
      "source": [
        "temp_conversion(20)"
      ]
    },
    {
      "cell_type": "markdown",
      "metadata": {
        "id": "haZFNX5GR6GO"
      },
      "source": [
        "## Practice Exercise: Converting Pounds to Kilograms"
      ]
    },
    {
      "cell_type": "markdown",
      "metadata": {
        "id": "2wqxKbC_v4oc"
      },
      "source": [
        "Most people in Canada know their weight in pounds, but most calculations determining dosages and other medical information ask for a patient's weight in kilograms. Following the Function Design Recipe, write and test a function that will convert from pounds to kilograms (1 kg == 2.2 lbs)."
      ]
    },
    {
      "cell_type": "code",
      "execution_count": null,
      "metadata": {
        "id": "uUC7HpslwDIp"
      },
      "outputs": [],
      "source": [
        "# Write your function here"
      ]
    },
    {
      "cell_type": "code",
      "execution_count": null,
      "metadata": {
        "id": "NGi0JlzNxIQB"
      },
      "outputs": [],
      "source": [
        "# Write your tests here"
      ]
    }
  ],
  "metadata": {
    "colab": {
      "provenance": []
    },
    "kernelspec": {
      "display_name": "Python 3",
      "language": "python",
      "name": "python3"
    },
    "language_info": {
      "codemirror_mode": {
        "name": "ipython",
        "version": 3
      },
      "file_extension": ".py",
      "mimetype": "text/x-python",
      "name": "python",
      "nbconvert_exporter": "python",
      "pygments_lexer": "ipython3",
      "version": "3.6.13"
    }
  },
  "nbformat": 4,
  "nbformat_minor": 0
}