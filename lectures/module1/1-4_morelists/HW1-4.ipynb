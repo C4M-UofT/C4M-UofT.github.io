{
  "cells": [
    {
      "cell_type": "markdown",
      "metadata": {
        "id": "B6v86VjQmIrK"
      },
      "source": [
        "# Important: Run this code cell each time you start a new session!"
      ]
    },
    {
      "cell_type": "code",
      "metadata": {
        "id": "CR3MVg81IvWX",
        "jupyter": {
          "source_hidden": true
        }
      },
      "source": [
        "# Do not edit this cell\n",
        "def test_homework(test_name, actual, expected):\n",
        "  if actual == expected:\n",
        "    print(f\"Test passed: {test_name}.\")\n",
        "    return 1\n",
        "  else:\n",
        "    print(f\"Test failed: {test_name}. Expected {expected}, got {actual}\")\n",
        "    return 0\n",
        "\n",
        "def compare_hw_scores(score, max_score):\n",
        "  if score == max_score:\n",
        "    print(\"All test cases passed!\")\n",
        "  print(f\"Mark: {score} / {max_score}\")"
      ],
      "execution_count": null,
      "outputs": []
    },
    {
      "cell_type": "code",
      "source": [
        "import os, datetime, json, locale, pathlib, urllib, requests, werkzeug, nbformat, google, yaml, warnings\n",
        "def colab2pdf():\n",
        "    locale.setlocale(locale.LC_ALL, 'en_US.UTF-8')\n",
        "    NAME = pathlib.Path(werkzeug.utils.secure_filename(urllib.parse.unquote(requests.get(f\"http://{os.environ['COLAB_JUPYTER_IP']}:{os.environ['KMP_TARGET_PORT']}/api/sessions\").json()[0][\"name\"])))\n",
        "    TEMP = pathlib.Path(\"/content/pdfs\") / f\"{datetime.datetime.now().strftime('%Y%m%d_%H%M%S')}_{NAME.stem}\"; TEMP.mkdir(parents=True, exist_ok=True)\n",
        "    NB = [cell for cell in nbformat.reads(json.dumps(google.colab._message.blocking_request(\"get_ipynb\", timeout_sec=30)[\"ipynb\"]), as_version=4).cells if \"--Colab2PDF\" not in cell.source]\n",
        "    warnings.filterwarnings('ignore', category=nbformat.validator.MissingIDFieldWarning)\n",
        "    with (TEMP / f\"{NAME.stem}.ipynb\").open(\"w\", encoding=\"utf-8\") as nb_copy: nbformat.write(nbformat.v4.new_notebook(cells=NB or [nbformat.v4.new_code_cell(\"#\")]), nb_copy)\n",
        "    if not pathlib.Path(\"/usr/local/bin/quarto\").exists():\n",
        "        !wget -q \"https://quarto.org/download/latest/quarto-linux-amd64.deb\" -P {TEMP} && dpkg -i {TEMP}/quarto-linux-amd64.deb > /dev/null && quarto install tinytex --update-path --quiet\n",
        "    with (TEMP / \"config.yml\").open(\"w\", encoding=\"utf-8\") as file: yaml.dump({'include-in-header': [{\"text\": r\"\\usepackage{fvextra}\\DefineVerbatimEnvironment{Highlighting}{Verbatim}{breaksymbolleft={},showspaces=false,showtabs=false,breaklines,breakanywhere,commandchars=\\\\\\{\\}}\"}],'include-before-body': [{\"text\": r\"\\DefineVerbatimEnvironment{verbatim}{Verbatim}{breaksymbolleft={},showspaces=false,showtabs=false,breaklines}\"}]}, file)\n",
        "    !quarto render {TEMP}/{NAME.stem}.ipynb --metadata-file={TEMP}/config.yml --to pdf -M latex-auto-install -M margin-top=1in -M margin-bottom=1in -M margin-left=1in -M margin-right=1in --quiet\n",
        "    google.colab.files.download(str(TEMP / f\"{NAME.stem}.pdf\"))"
      ],
      "metadata": {
        "id": "pgjkoZ8BQ73K"
      },
      "execution_count": null,
      "outputs": []
    },
    {
      "cell_type": "markdown",
      "metadata": {
        "id": "IhQvi7z1v6rm"
      },
      "source": [
        "# Instructions"
      ]
    },
    {
      "cell_type": "markdown",
      "metadata": {
        "id": "S53yKXI1NEf-"
      },
      "source": [
        "Each exercise generally consists of four parts.\n",
        "1.   A description of the function you need to implement\n",
        "2.   Any starter code to help you write your code\n",
        "3.   A separate code block where you can test out various parts of your code\n",
        "4.   An autograder that will evaluate your code against some test cases we have selected"
      ]
    },
    {
      "cell_type": "markdown",
      "metadata": {
        "id": "8t9e19amwDDn"
      },
      "source": [
        "The cell after all of the exercises will confirm that you have successfully completed the homework. This cell will not run unless you run the autograder for each individual exercise first."
      ]
    },
    {
      "cell_type": "markdown",
      "metadata": {
        "id": "Lqv-arD6VkIW"
      },
      "source": [
        "# Exercise 1: Checking Out of Bounds Measurements"
      ]
    },
    {
      "cell_type": "markdown",
      "metadata": {
        "id": "BMKjmIpVtvW4"
      },
      "source": [
        "Write a boolean function `out_of_bounds()` that checks whether any of the values in a given list `L` fall between outside of an acceptable range [`lower`, `upper`], inclusive. The function should return `True` if any measurement in the list is outside of the acceptable range."
      ]
    },
    {
      "cell_type": "code",
      "execution_count": null,
      "metadata": {
        "id": "rq_IQU2NVnRw"
      },
      "outputs": [],
      "source": [
        "def out_of_bounds(L, lower, upper):\n",
        "    \"\"\"\n",
        "\n",
        "    \"\"\""
      ]
    },
    {
      "cell_type": "code",
      "execution_count": null,
      "metadata": {
        "id": "1UcHnQQ8Vnze"
      },
      "outputs": [],
      "source": [
        "# Test your function here"
      ]
    },
    {
      "cell_type": "markdown",
      "metadata": {
        "id": "MjdWSuzGnfD3"
      },
      "source": [
        "### Run the hidden code cell to evaluate Exercise 1"
      ]
    },
    {
      "cell_type": "code",
      "execution_count": null,
      "metadata": {
        "cellView": "form",
        "id": "TLlvkngRVqGF",
        "jupyter": {
          "source_hidden": true
        }
      },
      "outputs": [],
      "source": [
        "# Do not edit this cell\n",
        "def check_exercise1():\n",
        "  ex_score, max_ex_score = 0, 0\n",
        "\n",
        "  ex_score += test_homework(\"Short list all clearly inside bounds\", out_of_bounds([5.4, 6.2, 1, 2.7], 0, 10), False)\n",
        "  max_ex_score += 1\n",
        "  ex_score += test_homework(\"One measurement too high\", out_of_bounds([38], 36.5, 37.5), True)\n",
        "  max_ex_score += 1\n",
        "  ex_score += test_homework(\"One temperature in longer list too low\", out_of_bounds([98.0, 98.3, 97.9, 97.2, 98.1], 97.7, 99.5), True)\n",
        "  max_ex_score += 1\n",
        "  ex_score += test_homework(\"Measurement exactly equal to boundaries\", out_of_bounds([5, 4, 3], 3, 5), False)\n",
        "  max_ex_score += 1\n",
        "\n",
        "  compare_hw_scores(ex_score, max_ex_score)\n",
        "  return ex_score, max_ex_score\n",
        "\n",
        "_ = check_exercise1()"
      ]
    },
    {
      "cell_type": "markdown",
      "metadata": {
        "id": "ZlJkSV3zURoe"
      },
      "source": [
        "# Exercise 2: Check Valid DNA Sequence"
      ]
    },
    {
      "cell_type": "markdown",
      "metadata": {
        "id": "aB-Dj5VNtdR3"
      },
      "source": [
        "The four traditional bases in DNA are adenine (A), thymine (T) cytosine (C), and guanine (G). We can represent DNA sequences as a string of these letters, such as `'ACTCGA'`.\n",
        "\n",
        "Scientists have recently uncovered the importance of chemical modifications to numerous DNA bases, which has led to proposals for expanded DNA alphabets.\n",
        "\n",
        "In this exercise, you will write a function `valid_DNA_sequence()` that takes a DNA sequence and an alphabet of bases. The function should determine if all the symbols in the sequence are from those in the provided alphabet."
      ]
    },
    {
      "cell_type": "code",
      "execution_count": null,
      "metadata": {
        "id": "5VMGHClqUIgp"
      },
      "outputs": [],
      "source": [
        "def valid_DNA_sequence(sequence, DNA_alphabet):\n",
        "    \"\"\" (str, str) -> bool\n",
        "\n",
        "    Return True iff sequence is composed only of characters found in DNA_alphabet.\n",
        "\n",
        "    >>> valid_DNA_sequence('AmGTCA', 'ACGT')\n",
        "    False\n",
        "    >>> valid_DNA_sequence('AmGTCA', 'ACGTmh')\n",
        "    True\n",
        "    \"\"\"\n",
        "    # Write your code here"
      ]
    },
    {
      "cell_type": "code",
      "execution_count": null,
      "metadata": {
        "id": "k-13NSkNUy1G"
      },
      "outputs": [],
      "source": [
        "# Test your function here"
      ]
    },
    {
      "cell_type": "markdown",
      "metadata": {
        "id": "oqhfaweTnfD0"
      },
      "source": [
        "### Run the hidden code cell to evaluate Exercise 2"
      ]
    },
    {
      "cell_type": "code",
      "execution_count": null,
      "metadata": {
        "cellView": "form",
        "id": "-dMw8ock5I2s",
        "jupyter": {
          "source_hidden": true
        }
      },
      "outputs": [],
      "source": [
        "# Do not edit this cell\n",
        "def check_exercise2():\n",
        "  ex_score, max_ex_score = 0, 0\n",
        "\n",
        "  ex_score += test_homework(\"Invalid base in middle\", valid_DNA_sequence('AmGTCA', 'ACGT'), False)\n",
        "  max_ex_score += 1\n",
        "  ex_score += test_homework(\"All valid bases from conventional DNA alphabet\", valid_DNA_sequence('CACGTG', 'ACGT'), True)\n",
        "  max_ex_score += 1\n",
        "  ex_score += test_homework(\"All valid bases, modified DNA alphabet\", valid_DNA_sequence('AmGTCA', 'ACGTmh'), True)\n",
        "  max_ex_score += 1\n",
        "  ex_score += test_homework(\"All valid bases, different modified DNA alphabet\", valid_DNA_sequence('TCAmGfGAcG', 'ACGTmhfc'), True)\n",
        "  max_ex_score += 1\n",
        "  ex_score += test_homework(\"Invalid instance of a uracil base in the (likely RNA) sequence\", valid_DNA_sequence('ACUA', 'ACGT'), False)\n",
        "  max_ex_score += 1\n",
        "\n",
        "  compare_hw_scores(ex_score, max_ex_score)\n",
        "  return ex_score, max_ex_score\n",
        "\n",
        "_ = check_exercise2()"
      ]
    },
    {
      "cell_type": "markdown",
      "source": [
        "# Exercise 3: Count Valid DNA Base Pairs"
      ],
      "metadata": {
        "id": "l5EG6Ms1PN0k"
      }
    },
    {
      "cell_type": "markdown",
      "source": [
        "Two strands of DNA can form a double helix provided that they their bases are properly paired. `A` exclusively binds with `T`, while `C` exclusively binds with `G`.\n",
        "\n",
        "In this exercise, you will write a function `valid_DNA_helix()` that takes two sequences of DNA. If all of the base pairs across the two sequences are valid, return `True`; otherwise, return `False`."
      ],
      "metadata": {
        "id": "-yopR7nEPhpy"
      }
    },
    {
      "cell_type": "code",
      "source": [
        "def valid_DNA_helix(sequence1, sequence2):\n",
        "    \"\"\" (str, str) -> bool\n",
        "\n",
        "    Return True iff all the base pairs across the two sequences are valid.\n",
        "\n",
        "    >>> valid_DNA_helix('ACGTA', 'ACG')\n",
        "    False\n",
        "    >>> valid_DNA_helix('ACGTA', 'ACGTA')\n",
        "    False\n",
        "    >>> valid_DNA_helix('ACGTA', 'TGCAT')\n",
        "    True\n",
        "    \"\"\"\n",
        "    # Write your code here"
      ],
      "metadata": {
        "id": "DRZZbL_PQ3pm"
      },
      "execution_count": null,
      "outputs": []
    },
    {
      "cell_type": "code",
      "source": [
        "# Test your function here"
      ],
      "metadata": {
        "id": "p64EDBtoRVuv"
      },
      "execution_count": null,
      "outputs": []
    },
    {
      "cell_type": "markdown",
      "source": [
        "### Run the hidden code cell to evaluate Exercise 3"
      ],
      "metadata": {
        "id": "KDq5bdGhRXdV"
      }
    },
    {
      "cell_type": "code",
      "source": [
        "# Do not edit this cell\n",
        "def check_exercise3():\n",
        "  ex_score, max_ex_score = 0, 0\n",
        "\n",
        "  ex_score += test_homework(\"Mismatched length\", valid_DNA_helix('ACGTA', 'ACG'), False)\n",
        "  max_ex_score += 1\n",
        "  ex_score += test_homework(\"Matching length, no pairs\", valid_DNA_helix('ACGTA', 'ACGTA'), False)\n",
        "  max_ex_score += 1\n",
        "  ex_score += test_homework(\"Matching length, some correct pairs\", valid_DNA_helix('ACGTA', 'TGGTT'), False)\n",
        "  max_ex_score += 1\n",
        "  ex_score += test_homework(\"Matching length, correct pairs\", valid_DNA_helix('ACGTA', 'TGCAT'), True)\n",
        "  max_ex_score += 1\n",
        "\n",
        "  compare_hw_scores(ex_score, max_ex_score)\n",
        "  return ex_score, max_ex_score\n",
        "\n",
        "_ = check_exercise3()"
      ],
      "metadata": {
        "id": "GVzjxWisRay6"
      },
      "execution_count": null,
      "outputs": []
    },
    {
      "cell_type": "markdown",
      "metadata": {
        "id": "w0gmV_f9yJwu"
      },
      "source": [
        "# Check Homework Completion"
      ]
    },
    {
      "cell_type": "markdown",
      "source": [
        "Run this cell to make sure you have completed all of the exercises."
      ],
      "metadata": {
        "id": "VA6LI9D_kopf"
      }
    },
    {
      "cell_type": "code",
      "execution_count": null,
      "metadata": {
        "cellView": "form",
        "id": "1nPQEMQkuBjr",
        "jupyter": {
          "source_hidden": true
        }
      },
      "outputs": [],
      "source": [
        "# Do not edit this cell\n",
        "hw_score, max_hw_score = 0, 0\n",
        "\n",
        "try:\n",
        "  ex1_score, max_ex1_score = check_exercise1()\n",
        "  hw_score += ex1_score\n",
        "  max_hw_score += max_ex1_score\n",
        "\n",
        "  ex2_score, max_ex2_score = check_exercise2()\n",
        "  hw_score += ex2_score\n",
        "  max_hw_score += max_ex2_score\n",
        "\n",
        "  ex3_score, max_ex3_score = check_exercise3()\n",
        "  hw_score += ex3_score\n",
        "  max_hw_score += max_ex3_score\n",
        "\n",
        "except NameError:\n",
        "  raise Exception(\"Autograder failed to run. You have either not completed all of the exercises or did not run the entire notebook\")\n",
        "\n",
        "compare_hw_scores(hw_score, max_hw_score)"
      ]
    },
    {
      "cell_type": "markdown",
      "source": [
        "# Prepare Submission"
      ],
      "metadata": {
        "id": "NvWnOApDRK4P"
      }
    },
    {
      "cell_type": "markdown",
      "source": [
        "To get full credit for this assignment, you should submit your assignment in two formats so that we can easily grade and debug your code:\n",
        "1. **.ipynb:** First, confirm that your code can run from start to finish without any errors. To check this, go to \"Runtime\" > \"Run all\" in the Google Colab menu. If everything looks good, you can export your file by going to \"File\" > \"Download\" > \"Download .ipynb\".\n",
        "2. **.pdf:** Run the function called `colab2pdf()` below. This will automatically convert your notebook to a PDF. Note that while \"File\" > \"Print\" > \"Save as PDF\" also works, it requires you to manually expand all of the cells and may cut off some images."
      ],
      "metadata": {
        "id": "FmZhTZTraQGQ"
      }
    },
    {
      "cell_type": "code",
      "source": [
        "colab2pdf()"
      ],
      "metadata": {
        "colab": {
          "base_uri": "https://localhost:8080/",
          "height": 17
        },
        "id": "KOGsHYKWS8uK",
        "outputId": "d19c59a8-9b3b-4f5e-d0bd-0fddf337bea7"
      },
      "execution_count": null,
      "outputs": [
        {
          "output_type": "display_data",
          "data": {
            "text/plain": [
              "<IPython.core.display.Javascript object>"
            ],
            "application/javascript": [
              "\n",
              "    async function download(id, filename, size) {\n",
              "      if (!google.colab.kernel.accessAllowed) {\n",
              "        return;\n",
              "      }\n",
              "      const div = document.createElement('div');\n",
              "      const label = document.createElement('label');\n",
              "      label.textContent = `Downloading \"${filename}\": `;\n",
              "      div.appendChild(label);\n",
              "      const progress = document.createElement('progress');\n",
              "      progress.max = size;\n",
              "      div.appendChild(progress);\n",
              "      document.body.appendChild(div);\n",
              "\n",
              "      const buffers = [];\n",
              "      let downloaded = 0;\n",
              "\n",
              "      const channel = await google.colab.kernel.comms.open(id);\n",
              "      // Send a message to notify the kernel that we're ready.\n",
              "      channel.send({})\n",
              "\n",
              "      for await (const message of channel.messages) {\n",
              "        // Send a message to notify the kernel that we're ready.\n",
              "        channel.send({})\n",
              "        if (message.buffers) {\n",
              "          for (const buffer of message.buffers) {\n",
              "            buffers.push(buffer);\n",
              "            downloaded += buffer.byteLength;\n",
              "            progress.value = downloaded;\n",
              "          }\n",
              "        }\n",
              "      }\n",
              "      const blob = new Blob(buffers, {type: 'application/binary'});\n",
              "      const a = document.createElement('a');\n",
              "      a.href = window.URL.createObjectURL(blob);\n",
              "      a.download = filename;\n",
              "      div.appendChild(a);\n",
              "      a.click();\n",
              "      div.remove();\n",
              "    }\n",
              "  "
            ]
          },
          "metadata": {}
        },
        {
          "output_type": "display_data",
          "data": {
            "text/plain": [
              "<IPython.core.display.Javascript object>"
            ],
            "application/javascript": [
              "download(\"download_1a5caf89-abe8-4621-af4c-a4985c14876c\", \"HW1-2_Answers.pdf\", 40475)"
            ]
          },
          "metadata": {}
        }
      ]
    }
  ],
  "metadata": {
    "colab": {
      "collapsed_sections": [
        "B6v86VjQmIrK",
        "IhQvi7z1v6rm",
        "Lqv-arD6VkIW",
        "MjdWSuzGnfD3",
        "ZlJkSV3zURoe",
        "oqhfaweTnfD0",
        "l5EG6Ms1PN0k",
        "KDq5bdGhRXdV",
        "w0gmV_f9yJwu",
        "NvWnOApDRK4P"
      ],
      "provenance": []
    },
    "kernelspec": {
      "display_name": "Python 3",
      "language": "python",
      "name": "python3"
    },
    "language_info": {
      "codemirror_mode": {
        "name": "ipython",
        "version": 3
      },
      "file_extension": ".py",
      "mimetype": "text/x-python",
      "name": "python",
      "nbconvert_exporter": "python",
      "pygments_lexer": "ipython3",
      "version": "3.6.13"
    }
  },
  "nbformat": 4,
  "nbformat_minor": 0
}