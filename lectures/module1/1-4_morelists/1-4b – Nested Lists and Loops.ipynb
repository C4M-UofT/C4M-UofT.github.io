{
  "cells": [
    {
      "cell_type": "markdown",
      "metadata": {
        "id": "7_O8iZksPeJh"
      },
      "source": [
        "# Nested Lists and Loops"
      ]
    },
    {
      "cell_type": "markdown",
      "metadata": {
        "id": "xoXprDpTQzwM"
      },
      "source": [
        "## What Is a Nested List?"
      ]
    },
    {
      "cell_type": "markdown",
      "metadata": {
        "id": "jELcYu8DPeJp"
      },
      "source": [
        "We've seen lists with `int`, `float`, `bool`, and `str` items, but you can have a list of all sorts of objects.\n",
        "\n",
        "When a `list` contains items of type `list`, it is called a **nested list**. Here is an example:"
      ]
    },
    {
      "cell_type": "code",
      "execution_count": null,
      "metadata": {
        "id": "USRm3WcNPeJq"
      },
      "outputs": [],
      "source": [
        "rhymes = [['cat', 'hat', 'fat'], ['mouse', 'house', 'louse'], ['be', 'see', 'key', 'he']]"
      ]
    },
    {
      "cell_type": "markdown",
      "metadata": {
        "id": "7qXZra9YPeJr"
      },
      "source": [
        "What is the type of `rhymes?`"
      ]
    },
    {
      "cell_type": "code",
      "execution_count": null,
      "metadata": {
        "id": "87oUjwKHPeJs"
      },
      "outputs": [],
      "source": [
        "type(rhymes)"
      ]
    },
    {
      "cell_type": "markdown",
      "metadata": {
        "id": "x33YcunVPeJ_"
      },
      "source": [
        "What is the type of the first item in `rhymes`?"
      ]
    },
    {
      "cell_type": "code",
      "execution_count": null,
      "metadata": {
        "id": "9SmfbUMePeKB"
      },
      "outputs": [],
      "source": [
        "type(rhymes[0])"
      ]
    },
    {
      "cell_type": "code",
      "execution_count": null,
      "metadata": {
        "id": "gBgzaIaDPeKC"
      },
      "outputs": [],
      "source": [
        "rhymes[0]"
      ]
    },
    {
      "cell_type": "markdown",
      "metadata": {
        "id": "t429CyxbPeKD"
      },
      "source": [
        "Since `rhymes[0]` produces the list `['cat', 'hat', 'fat']`, indexing into that list at index 1 produces `hat`:"
      ]
    },
    {
      "cell_type": "code",
      "execution_count": null,
      "metadata": {
        "id": "wJY23ZwVPeKD"
      },
      "outputs": [],
      "source": [
        "rhymes[0][1]"
      ]
    },
    {
      "cell_type": "markdown",
      "metadata": {
        "id": "yNxLp4E3PeKG"
      },
      "source": [
        "When we loop over `rhymes`, each iteration refers to one of the inner lists:"
      ]
    },
    {
      "cell_type": "code",
      "execution_count": null,
      "metadata": {
        "id": "WRYD634iPeKG"
      },
      "outputs": [],
      "source": [
        "for item in rhymes:\n",
        "    print(item)"
      ]
    },
    {
      "cell_type": "markdown",
      "metadata": {
        "id": "-6g8DdrZR-ZS"
      },
      "source": [
        "## Practice Exercise: Index into Nested Lists"
      ]
    },
    {
      "cell_type": "markdown",
      "metadata": {
        "id": "qm9Bi6hWPeKF"
      },
      "source": [
        "Give expressions that would produce each of the following values:\n",
        "\n",
        "- `'louse'`\n",
        "- `'key'`  \n",
        "- `['be', 'see', 'key', 'he']`\n",
        "- `['hat', 'fat']`"
      ]
    },
    {
      "cell_type": "code",
      "source": [
        "rhymes"
      ],
      "metadata": {
        "id": "P3P5t02A2Qu-"
      },
      "execution_count": null,
      "outputs": []
    },
    {
      "cell_type": "code",
      "execution_count": null,
      "metadata": {
        "id": "FT3DyDOzSJTc"
      },
      "outputs": [],
      "source": [
        "# Write your code here"
      ]
    },
    {
      "cell_type": "markdown",
      "metadata": {
        "id": "zfM0OZpbPeKH"
      },
      "source": [
        "## Example Function with a Nested List"
      ]
    },
    {
      "cell_type": "markdown",
      "metadata": {
        "id": "lWvuTtATPeKH"
      },
      "source": [
        "Suppose we have a list where each item represents the visit dates for a particular patient in the last month. For example, the following list captures all of this information:\n",
        "*   Patient 1 went in for visits that lasted 2 and 6 minutes\n",
        "*   Patient 2 went in for visits that lasted 3 and 10 minutes\n",
        "*   Patient 3 went in for a visit that lasted 15 minutes\n",
        "*   ...\n",
        "\n"
      ]
    },
    {
      "cell_type": "code",
      "execution_count": null,
      "metadata": {
        "id": "2f5eh_6EYlZy"
      },
      "outputs": [],
      "source": [
        "visits = [[2, 6], [3, 10], [15], [23], [1, 8, 15, 22], [14]]"
      ]
    },
    {
      "cell_type": "markdown",
      "metadata": {
        "id": "9MIumPPnPeKH"
      },
      "source": [
        "We want to write a function that calculates the highest number of visits made by any patient. Here is an example call:\n",
        "\n",
        "    >>> max_visits([[2, 6], [3, 10], [15], [23], [1, 8, 15, 22], [14]])\n",
        "    4"
      ]
    },
    {
      "cell_type": "markdown",
      "metadata": {
        "id": "rIW4HFrePeKI"
      },
      "source": [
        "Here is an example implementation of this function. Note that it is using an numeric accumulator to keep track of the maximum number of visits encountered in the outer list as each patient's data is examined."
      ]
    },
    {
      "cell_type": "code",
      "execution_count": null,
      "metadata": {
        "id": "kXmEwN6uPeKJ"
      },
      "outputs": [],
      "source": [
        "def max_visits(visits_by_patient):\n",
        "    \"\"\" (list of list of int) -> int\n",
        "\n",
        "    Return the maximum number of visits made by any patient in visits_by_patient.\n",
        "    >>> max_visits([[2, 6], [3, 10], [15], [23], [1, 8, 15, 22], [14]])\n",
        "    4\n",
        "    \"\"\"\n",
        "\n",
        "    max_so_far = 0\n",
        "    for patient_list in visits_by_patient:\n",
        "        # Get the number of visits for the current patient\n",
        "        visits = len(patient_list)\n",
        "\n",
        "        if visits > max_so_far:\n",
        "            # The number of visits they made exceeds the current max\n",
        "            max_so_far = visits\n",
        "\n",
        "    return max_so_far"
      ]
    },
    {
      "cell_type": "code",
      "execution_count": null,
      "metadata": {
        "id": "FGl8qJ33PeKJ"
      },
      "outputs": [],
      "source": [
        "max_visits([[2, 6], [3, 10], [15], [23], [1, 8, 15, 22], [14]])"
      ]
    },
    {
      "cell_type": "markdown",
      "metadata": {
        "id": "LtzqQCOHPeKJ"
      },
      "source": [
        "## Practice Exercise: Counting Symptoms"
      ]
    },
    {
      "cell_type": "markdown",
      "metadata": {
        "id": "nemSw0gFPeKJ"
      },
      "source": [
        "Suppose we have a nested list where each inner list contains strings that represent symptoms exhibited by each patient. Write a function that takes this list as a parameter and returns a new list containing integers. For each patient, the new list should contain the number of symptoms they were exhibiting.\n",
        "\n",
        "Here is an example:\n",
        "\n",
        "    >>> symptom_count([['fatigue', 'abdominal swelling', 'bruising'], ['loss of appetite', 'fatigue']])\n",
        "    [3, 2]"
      ]
    },
    {
      "cell_type": "code",
      "execution_count": null,
      "metadata": {
        "id": "y__EAZUdaO1C"
      },
      "outputs": [],
      "source": [
        "# Write your function here"
      ]
    },
    {
      "cell_type": "code",
      "execution_count": null,
      "metadata": {
        "id": "K46eOIHoaQ_D"
      },
      "outputs": [],
      "source": [
        "# Test your function here"
      ]
    },
    {
      "cell_type": "markdown",
      "metadata": {
        "id": "5eEvyPDaPeKK"
      },
      "source": [
        "## Heterogeneous Lists"
      ]
    },
    {
      "cell_type": "markdown",
      "source": [
        "In Python, the items of a list can be of different types. For example, it is possible to have a list like this to represent one patient's personal information:"
      ],
      "metadata": {
        "id": "UYuUCBW_1RZS"
      }
    },
    {
      "cell_type": "code",
      "execution_count": null,
      "metadata": {
        "id": "PFLfgEz_dzl-"
      },
      "outputs": [],
      "source": [
        "patient1 = ['Milos', 'Jones', 48, 'male', 'smoker', 210]"
      ]
    },
    {
      "cell_type": "markdown",
      "metadata": {
        "id": "mVB7J1JTd44R"
      },
      "source": [
        "The items in the list represent the patient's first name, last name, age, gender, smoking status, and cholesterol in mg/dl."
      ]
    },
    {
      "cell_type": "markdown",
      "metadata": {
        "id": "TlbbvHVodgnu"
      },
      "source": [
        "Knowing about nested lists, we can now have a list of lists to represent a group of patients:"
      ]
    },
    {
      "cell_type": "code",
      "execution_count": null,
      "metadata": {
        "id": "e4Ou0Z1od7ZA"
      },
      "outputs": [],
      "source": [
        "patients = [['Milos', 'Jones', 48, 'male', 'smoker', 210],\n",
        "['Delia', 'Chan', 39, 'female', 'non-smoker', 170],\n",
        "['Denise', 'Ross', 62, 'female', 'non-smoker', 150]]"
      ]
    },
    {
      "cell_type": "markdown",
      "metadata": {
        "id": "Y1inP2ZIPeKK"
      },
      "source": [
        "## Practice Exercise: Going Through Patient Records"
      ]
    },
    {
      "cell_type": "markdown",
      "source": [
        "Write code that produces a list of the last names of female patients from the nested `patients` list earlier."
      ],
      "metadata": {
        "id": "yaEvI0ra1Tvf"
      }
    },
    {
      "cell_type": "code",
      "execution_count": null,
      "metadata": {
        "id": "28lJF_2leGnE"
      },
      "outputs": [],
      "source": [
        "# Write your code here"
      ]
    },
    {
      "cell_type": "markdown",
      "metadata": {
        "id": "4ShNVtDLPeKK"
      },
      "source": [
        "## Nested Loops"
      ]
    },
    {
      "cell_type": "markdown",
      "metadata": {
        "id": "w8wXp1RkeRlo"
      },
      "source": [
        "To solve some problems, we need to loop not only over the items of the outer list, but we also over the items of each of the inner lists.  This is called a ***nested loop***."
      ]
    },
    {
      "cell_type": "markdown",
      "metadata": {
        "id": "ZZOUfwgheP32"
      },
      "source": [
        "Suppose we have a list that represents repeated heart rate measurements for the same patient over a number of tests. Each inner list represents a single test, and each test resulted in a collection of heart rate measurements:\n",
        "\n",
        "    hr = [[72, 75, 71, 73],   # resting\n",
        "          [91, 90, 94, 93],   # walking slowly\n",
        "          [130, 135, 139, 142], # running on treadmill\n",
        "          [120, 118, 110, 105, 100, 98]] # after minute recovery"
      ]
    },
    {
      "cell_type": "markdown",
      "metadata": {
        "id": "xs7jsgB8PeKK"
      },
      "source": [
        "Let's examine how we could calculate the average heart rate during each test. For this example, we are not going to use the built-in `sum()` function."
      ]
    },
    {
      "cell_type": "code",
      "execution_count": null,
      "metadata": {
        "id": "lnVEjoIkPeKN"
      },
      "outputs": [],
      "source": [
        "hr = [[72, 75, 71, 73],              # resting\n",
        "      [91, 90, 94, 93],              # walking slowly\n",
        "      [130, 135, 139, 142],          # running on treadmill\n",
        "      [120, 118, 110, 105, 100, 98]] # after a minute recovery\n",
        "\n",
        "# Start with an empty list that we will build to return (or print)\n",
        "result = []\n",
        "\n",
        "# Loop over the outer list, each element is a test\n",
        "for test in hr:\n",
        "\n",
        "    # Reset the sum for this test to 0\n",
        "    sum = 0\n",
        "\n",
        "    # Loop over the inner list\n",
        "    for measurement in test:\n",
        "        sum = sum + measurement\n",
        "\n",
        "    # Finish up with this test before repeating the loop for the next one\n",
        "    average = sum / len(test)\n",
        "    result.append(average)\n",
        "\n",
        "print(result)"
      ]
    },
    {
      "cell_type": "markdown",
      "metadata": {
        "id": "uNzIQBHoewWe"
      },
      "source": [
        "Let's walk through a couple of iterations using the [Python Visualizer](https://pythontutor.com/csc108h.html#code=hr%20%3D%20%5B%5B72,%2075,%2071,%2073%5D,%20%20%20%20%20%20%20%20%20%20%20%20%20%20%23%20resting%0A%20%20%20%20%20%20%5B91,%2090,%2094,%2093%5D,%20%20%20%20%20%20%20%20%20%20%20%20%20%20%23%20walking%20slowly%0A%20%20%20%20%20%20%5B130,%20135,%20139,%20142%5D,%20%20%20%20%20%20%20%20%20%20%23%20running%20on%20treadmill%20%0A%20%20%20%20%20%20%5B120,%20118,%20110,%20105,%20100,%2098%5D%5D%20%23%20after%20a%20minute%20recovery%0A%0A%0A%23%20Start%20with%20an%20empty%20list%20that%20we%20will%20build%20to%20return%20%28or%20print%29%0Aresult%20%3D%20%5B%5D%0A%0A%23%20Loop%20over%20the%20outer%20list,%20each%20element%20is%20a%20test%0Afor%20test%20in%20hr%3A%0A%20%20%20%20%0A%20%20%20%20%23%20Reset%20the%20sum%20for%20this%20test%20to%200%0A%20%20%20%20sum%20%3D%200%0A%20%20%20%20%0A%20%20%20%20%23%20Loop%20over%20the%20inner%20list%0A%20%20%20%20for%20measurement%20in%20test%3A%0A%20%20%20%20%20%20%20%20sum%20%3D%20sum%20%2B%20measurement%0A%20%20%20%20%20%20%20%20%0A%20%20%20%20%23%20Finish%20up%20with%20this%20test%20before%20repeating%20the%20loop%20for%20the%20next%20one%20%20%20%20%0A%20%20%20%20average%20%3D%20sum%20/%20len%28test%29%0A%20%20%20%20result.append%28average%29%0A%20%20%20%20%0Aprint%28result%29&curInstr=0&mode=display&origin=csc108h.js&py=3&rawInputLstJSON=%5B%5D)."
      ]
    },
    {
      "cell_type": "markdown",
      "metadata": {
        "id": "CuZ_jI1xPeKN"
      },
      "source": [
        "## Practice Exercise: Heart Rate Ranges"
      ]
    },
    {
      "cell_type": "markdown",
      "source": [
        "Rather than computing the average heart rate during each test, compute the range (max - min). For example, the result for the nested list above should be `[4, 4, 12, 22]`. First, try to do this using the built-in functions `min()` and `max()`."
      ],
      "metadata": {
        "id": "-u5ZCkaR1c1X"
      }
    },
    {
      "cell_type": "code",
      "execution_count": null,
      "metadata": {
        "id": "GhaEOiBXjRPA"
      },
      "outputs": [],
      "source": [
        "# Write your code here"
      ]
    },
    {
      "cell_type": "markdown",
      "metadata": {
        "id": "Iwu4MAgYjR5w"
      },
      "source": [
        "Now try to do this without using built-in functions `min()` and `max()`."
      ]
    },
    {
      "cell_type": "code",
      "execution_count": null,
      "metadata": {
        "id": "bel08A_ZjYKu"
      },
      "outputs": [],
      "source": [
        "# Write your code here"
      ]
    }
  ],
  "metadata": {
    "colab": {
      "provenance": []
    },
    "kernelspec": {
      "display_name": "Python 3",
      "language": "python",
      "name": "python3"
    },
    "language_info": {
      "codemirror_mode": {
        "name": "ipython",
        "version": 3
      },
      "file_extension": ".py",
      "mimetype": "text/x-python",
      "name": "python",
      "nbconvert_exporter": "python",
      "pygments_lexer": "ipython3",
      "version": "3.6.13"
    }
  },
  "nbformat": 4,
  "nbformat_minor": 0
}