{
  "cells": [
    {
      "cell_type": "markdown",
      "metadata": {
        "id": "d32PgeW2a8LT"
      },
      "source": [
        "# Working with Files"
      ]
    },
    {
      "cell_type": "markdown",
      "metadata": {
        "id": "OP4SSY62_TQ_"
      },
      "source": [
        "## Motivation"
      ]
    },
    {
      "cell_type": "markdown",
      "metadata": {
        "id": "4uiUd43-_VVf"
      },
      "source": [
        "So far, the data in our programs has either been hardcoded into the program itself or it came from the user who typed it in using the keyboard. This is pretty limiting and we will want programs that can read data from files."
      ]
    },
    {
      "cell_type": "markdown",
      "metadata": {
        "id": "C-kJpBm0_s3W"
      },
      "source": [
        "Files can be formatted in a number of ways, some of which are more easy to read than others. Common file types you might encounter may include text files (`.txt`), comma-separated value files (`.csv`), tab-separated value files (`.tsv`), binary files (`.bin`), and Excel spreadsheets (`.xlsx`). There are also many software libraries and packages that help programmers work with these different file types in their code."
      ]
    },
    {
      "cell_type": "markdown",
      "metadata": {
        "id": "R13gXu54BDod"
      },
      "source": [
        "In this lesson, we'll focus on text files, and we will not be using any special software libraries or packages so that we can focus on the basic principles."
      ]
    },
    {
      "cell_type": "markdown",
      "metadata": {
        "id": "3wT5h-EZ_PkL"
      },
      "source": [
        "## Opening a File"
      ]
    },
    {
      "cell_type": "markdown",
      "metadata": {
        "id": "gtfA3nNiCHO4"
      },
      "source": [
        "This notebook will involve two files: `story.txt` and `january06.txt`. To work with these files, we will need to put them in same file system directory from which we are running our programs.\n",
        "\n",
        "If you are using Google Colab, the working directory can be seen by clicking on the `Files` tab on the left side of the screen. You can add files by simply dragging and dropping them into the window. You can specify longer filepaths to access files elsewhere (e.g., your desktop, a subdirectory), but we will keep things simple for now."
      ]
    },
    {
      "cell_type": "markdown",
      "metadata": {
        "id": "yqqB0mqwAyX3"
      },
      "source": [
        "To open a file, we can simply use the built-in function `open()`, which requires you to specify the name of the file as a string:"
      ]
    },
    {
      "cell_type": "code",
      "execution_count": null,
      "metadata": {
        "id": "Ts_jTmKNa8LZ"
      },
      "outputs": [],
      "source": [
        "myfile = open('story.txt', 'r')\n",
        "print(myfile)\n",
        "myfile.close()"
      ]
    },
    {
      "cell_type": "markdown",
      "metadata": {
        "id": "p0oi1U6Ua8MX"
      },
      "source": [
        "The `open()` function does not automatically show you the contents of the file, but instead, it creates an `io.TextIOWrapper` object. This special Python object not only knows the contents of the file, but it knows our program's current position in the file. Once our program starts reading, it advances this pointer so that it knows what to give us next when we need it."
      ]
    },
    {
      "cell_type": "markdown",
      "metadata": {
        "id": "iwJH2gOQDYjY"
      },
      "source": [
        "Also notice that we actually pass two arguments to the `open()` function. The second argument, which is usually one or two letters long, specifies what you want to do with the file. Here are the primary modes you will encounter:\n",
        "* `r`: reading (this is the default if you do not specify anything)\n",
        "* `w`: writing\n",
        "* `a`: appending"
      ]
    },
    {
      "cell_type": "markdown",
      "metadata": {
        "id": "quYEiDjTVH2y"
      },
      "source": [
        "Lastly, it is a good practice to close your files after you are done using the `close()` method. One reason why this is important is because some changes you make to a file might not be reflected until you close the file (think about it like saving and then closing a Word document)."
      ]
    },
    {
      "cell_type": "markdown",
      "metadata": {
        "id": "ghJDZvqya8Mb"
      },
      "source": [
        "## Reading from a File"
      ]
    },
    {
      "cell_type": "markdown",
      "metadata": {
        "id": "6fHP5VvED4Zu"
      },
      "source": [
        "Once we have opened a file, there are several ways that we can inspect its contents."
      ]
    },
    {
      "cell_type": "markdown",
      "metadata": {
        "id": "NmofIuPaOcNJ"
      },
      "source": [
        "You can read a line by using the `.readline()` method as follows:"
      ]
    },
    {
      "cell_type": "code",
      "execution_count": null,
      "metadata": {
        "id": "mM6mMLl-a8Me"
      },
      "outputs": [],
      "source": [
        "myfile = open('story.txt', 'r')\n",
        "s = myfile.readline()\n",
        "print('Current line:', s)"
      ]
    },
    {
      "cell_type": "markdown",
      "metadata": {
        "id": "hB70vlwVa8Mf"
      },
      "source": [
        "The next time you call this method, the `TextIOWrapper` advances its internal pointer to the next part of the file:"
      ]
    },
    {
      "cell_type": "code",
      "execution_count": null,
      "metadata": {
        "id": "IQUhNTI8a8Mj"
      },
      "outputs": [],
      "source": [
        "s = myfile.readline()\n",
        "print('Current line:', s)\n",
        "s = myfile.readline()\n",
        "print('Current line:', s)\n",
        "s = myfile.readline()\n",
        "print('Current line:', s)\n",
        "myfile.close()"
      ]
    },
    {
      "cell_type": "markdown",
      "metadata": {
        "id": "7IQTVS-vOnl3"
      },
      "source": [
        "Notice that the `print()` function hides the newline character `\\n`, but you can see it when you inspect the variable itself."
      ]
    },
    {
      "cell_type": "code",
      "execution_count": null,
      "metadata": {
        "id": "U99-Uum9Pi7W"
      },
      "outputs": [],
      "source": [
        "s"
      ]
    },
    {
      "cell_type": "markdown",
      "metadata": {
        "id": "0qJLzoTZa8My"
      },
      "source": [
        "This is why the output appears to be double-spaced. To fix this, we can remove the `\\n` from the string itself by using the `.strip()` method:"
      ]
    },
    {
      "cell_type": "code",
      "execution_count": null,
      "metadata": {
        "id": "EO_6bUaHSlk1"
      },
      "outputs": [],
      "source": [
        "myfile = open('story.txt')\n",
        "s = myfile.readline().strip('\\n')\n",
        "print('Current line:', s)\n",
        "s = myfile.readline().strip('\\n')\n",
        "print('Current line:', s)\n",
        "s = myfile.readline().strip('\\n')\n",
        "print('Current line:', s)\n",
        "s = myfile.readline().strip('\\n')\n",
        "print('Current line:', s)\n",
        "myfile.close()"
      ]
    },
    {
      "cell_type": "markdown",
      "metadata": {
        "id": "AxlCBR3na8Mx"
      },
      "source": [
        "If we know we want to read line-by-line through the entire file, we can actually use a `for` loop on the `TextIOWrapper` object:"
      ]
    },
    {
      "cell_type": "code",
      "execution_count": null,
      "metadata": {
        "id": "0WflcJxya8Mx"
      },
      "outputs": [],
      "source": [
        "myfile = open('story.txt')\n",
        "for line in myfile:\n",
        "    print('Current line:', line.strip('\\n'))\n",
        "myfile.close()"
      ]
    },
    {
      "cell_type": "markdown",
      "metadata": {
        "id": "QbVnzjAoa8Mk"
      },
      "source": [
        "Reading line-by-line is the most standard way of working with files since it does not require loading the entire file at once and lines are a logical unit. However, here are some alternative methods if you need them:"
      ]
    },
    {
      "cell_type": "code",
      "execution_count": null,
      "metadata": {
        "id": "DfD7ezIXa8Mr"
      },
      "outputs": [],
      "source": [
        "# By characters rather than by lines\n",
        "myfile = open('story.txt')\n",
        "s = myfile.read(10)\n",
        "print(s)\n",
        "s = myfile.read(10)\n",
        "print(s)\n",
        "myfile.close()"
      ]
    },
    {
      "cell_type": "code",
      "execution_count": null,
      "metadata": {
        "id": "b_3rz-b1a8Np"
      },
      "outputs": [],
      "source": [
        "# As a single string\n",
        "myfile = open('story.txt')\n",
        "s = myfile.read()\n",
        "print(type(s))\n",
        "print(s)\n",
        "myfile.close()"
      ]
    },
    {
      "cell_type": "code",
      "execution_count": null,
      "metadata": {
        "id": "AMq68KB7a8Nw"
      },
      "outputs": [],
      "source": [
        "# As a list of strings\n",
        "myfile = open('story.txt')\n",
        "contents = myfile.readlines()\n",
        "print(type(contents))\n",
        "print(contents)\n",
        "myfile.close()"
      ]
    },
    {
      "cell_type": "markdown",
      "metadata": {
        "id": "t7zn-ceXa8Ny"
      },
      "source": [
        "## Practice Exercise: Reading a File"
      ]
    },
    {
      "cell_type": "markdown",
      "metadata": {
        "id": "R4qeoqwNV7mZ"
      },
      "source": [
        "The file `january06.txt` contains data from the UTM weather station for January 2006. Download it from the C4M website put it in your working directory in Google Colab (or your Jupyter environment)."
      ]
    },
    {
      "cell_type": "markdown",
      "metadata": {
        "id": "W7u03NGnWOcJ"
      },
      "source": [
        "1. Open it up to see what it looks like.\n",
        "2. Write a Python program to open the file and read only the first line (this is the first part of the header)\n",
        "3. Read the second line (this is the second part of the header)\n",
        "4. Read the third line into a variable `line`.\n",
        "5. What is the type of the value that `line` refers to?\n",
        "6. Look up the method `.split()` in the Python 3 documentation.\n",
        "7. Call the method `.split()` on `line`. What is returned and what is its data type?"
      ]
    },
    {
      "cell_type": "code",
      "execution_count": null,
      "metadata": {
        "id": "NmfNFVP3WSHe"
      },
      "outputs": [],
      "source": [
        "# Write your code here"
      ]
    },
    {
      "cell_type": "markdown",
      "metadata": {
        "id": "MS30voWDa8Ny"
      },
      "source": [
        "## Practice Exercise: Getting Data from a File"
      ]
    },
    {
      "cell_type": "markdown",
      "metadata": {
        "id": "Bx_Xoy5mZE0X"
      },
      "source": [
        "Write a program that only prints out the day and the temperature data from the file `january06.txt`. Here are some steps you might want to follow:\n",
        "  1. Open the file `january06.txt`\n",
        "  2. Read and ignore the first two lines since they are part of the header\n",
        "  3. Use a loop to read the rest of the lines one-by-one\n",
        "  4. Print out only the day and the temperature from each line"
      ]
    },
    {
      "cell_type": "code",
      "execution_count": null,
      "metadata": {
        "id": "vmXCv_sdZ9xe"
      },
      "outputs": [],
      "source": [
        "# Write your code here"
      ]
    },
    {
      "cell_type": "markdown",
      "metadata": {
        "id": "9w2nrURWa8Ny"
      },
      "source": [
        "Now extend that program to print the day and time of the coldest reading in the file.\n",
        "\n",
        "**Hint:** You must convert the values to integers before you compare them. When you compare values as strings, `'11' < '2'`, but when you compare them as numbers, `11 > 2`."
      ]
    },
    {
      "cell_type": "code",
      "execution_count": null,
      "metadata": {
        "id": "CTdOY49ZZ_Pi"
      },
      "outputs": [],
      "source": [
        "# Write your code here (can copy code from previous part)"
      ]
    },
    {
      "cell_type": "markdown",
      "metadata": {
        "id": "XRoqSqLYa8Ny"
      },
      "source": [
        "## Writing to a File"
      ]
    },
    {
      "cell_type": "markdown",
      "metadata": {
        "id": "eEC0nTMCa8Ny"
      },
      "source": [
        "To write to a file, we open it using the writing mode `w`."
      ]
    },
    {
      "cell_type": "code",
      "execution_count": null,
      "metadata": {
        "id": "PW0OyYyea8N0"
      },
      "outputs": [],
      "source": [
        "new_file = open('example.txt', 'w')"
      ]
    },
    {
      "cell_type": "markdown",
      "metadata": {
        "id": "Ag9tYFEcd27_"
      },
      "source": [
        "If the file does not exist, Python automatically creates a blank one in your working directory. If you are using Google Colab, you may need to refresh your directory in the `Files` tab by clicking on the `Refresh` icon along the top of the window."
      ]
    },
    {
      "cell_type": "markdown",
      "metadata": {
        "id": "dY0ThfUBa8N0"
      },
      "source": [
        "Next, we use the `.write()` method to add new contents to the file:"
      ]
    },
    {
      "cell_type": "code",
      "execution_count": null,
      "metadata": {
        "id": "Zpxq2vnRa8N1"
      },
      "outputs": [],
      "source": [
        "new_file.write('This is the first line.\\n')\n",
        "new_file.write('And the second\\nand third.')\n",
        "new_file.close()"
      ]
    },
    {
      "cell_type": "markdown",
      "metadata": {
        "id": "PjC9vmUCa8N1"
      },
      "source": [
        "We can then read and print the file contents using the same reading methods we used earlier:"
      ]
    },
    {
      "cell_type": "code",
      "execution_count": null,
      "metadata": {
        "id": "UfFe61Iva8N1"
      },
      "outputs": [],
      "source": [
        "new_file = open('example.txt', 'r')\n",
        "print(new_file.read())\n",
        "new_file.close()"
      ]
    },
    {
      "cell_type": "markdown",
      "metadata": {
        "id": "-ZX8F3vFa8N2"
      },
      "source": [
        "Now, let's modify the file using the appending mode `a`:"
      ]
    },
    {
      "cell_type": "code",
      "execution_count": null,
      "metadata": {
        "id": "KimuZvl1a8N2"
      },
      "outputs": [],
      "source": [
        "# Append new text\n",
        "new_file = open('example.txt', 'a')\n",
        "new_file.write('\\nAdding another line!')\n",
        "new_file.close()\n",
        "\n",
        "# Read and print the file contents again\n",
        "new_file = open('example.txt', 'r')\n",
        "print(new_file.read())\n",
        "new_file.close()"
      ]
    },
    {
      "cell_type": "markdown",
      "metadata": {
        "id": "ppV6fDZya8N3"
      },
      "source": [
        "So when should you use `w` versus `a`? If you open a file using the writing mode `w` and it already exists, its contents will be deleted. This is different from the appending mode `a`, which keeps the existing content and writes any new lines to the end of the file."
      ]
    },
    {
      "cell_type": "markdown",
      "metadata": {
        "id": "EaVd09YsevzF"
      },
      "source": [
        "Let's open `'example.txt'` again using the writing mode `w` to see how the file changes:"
      ]
    },
    {
      "cell_type": "code",
      "execution_count": null,
      "metadata": {
        "id": "t39KSn7ea8N3"
      },
      "outputs": [],
      "source": [
        "# The file is opened and its contents are cleared\n",
        "new_file = open('example.txt', 'w')\n",
        "\n",
        "# This will be the one and only line in the file\n",
        "new_file.write('Adding some new content')\n",
        "new_file.close()\n",
        "\n",
        "# Read and print the file contents again\n",
        "new_file = open('example.txt', 'r')\n",
        "print(new_file.read())\n",
        "new_file.close()"
      ]
    },
    {
      "cell_type": "markdown",
      "metadata": {
        "id": "n9PIhAzta8N3"
      },
      "source": [
        "## Practice Exercise: Writing to a File"
      ]
    },
    {
      "cell_type": "markdown",
      "metadata": {
        "id": "4Y_wUyHAa8N4"
      },
      "source": [
        "Write your name and address to a file named `contact.txt`. Once you have executed your program, open `contact.txt` to verify that its contents are what you expect."
      ]
    },
    {
      "cell_type": "code",
      "execution_count": null,
      "metadata": {
        "id": "og2dN8hyfZ-T"
      },
      "outputs": [],
      "source": [
        "# Write your code here"
      ]
    },
    {
      "cell_type": "markdown",
      "metadata": {
        "id": "NCN5b9L5fbHt"
      },
      "source": [
        "Now, write a program to add your phone number to that file. Open the file and check its contents."
      ]
    },
    {
      "cell_type": "code",
      "execution_count": null,
      "metadata": {
        "id": "z4TAkriQfstI"
      },
      "outputs": [],
      "source": [
        "# Write your code here"
      ]
    },
    {
      "cell_type": "markdown",
      "source": [
        "## Filepaths"
      ],
      "metadata": {
        "id": "Kzxi4LGixNFC"
      }
    },
    {
      "cell_type": "markdown",
      "source": [
        "A **filepath** is a string that specifies the location of a file or directory on a computer's filesystem. Certain characters may have special meaning in filepaths:\n",
        "* Path separator: `/` or `\\` depending on operating system (Windows, MacOS, etc.)\n",
        "* Current directory: `.`\n",
        "* Parent directory: `..`"
      ],
      "metadata": {
        "id": "ACWDUZJ-xO5H"
      }
    },
    {
      "cell_type": "markdown",
      "source": [
        "There are two different kinds of filepaths:"
      ],
      "metadata": {
        "id": "oROUtOuAm7ou"
      }
    },
    {
      "cell_type": "markdown",
      "source": [
        "1. **Relative filepath:** This specifies the location of a file or directory relative to the current working directory where your program is being executed. Here are some examples:\n",
        "\n",
        "    Windows: `file.txt`, `..\\Documents\\file.txt`\n",
        "\n",
        "    Unix/Linux/MacOS: `file.txt`, `../Documents/file.txt`"
      ],
      "metadata": {
        "id": "LhCjt2dpmMuS"
      }
    },
    {
      "cell_type": "markdown",
      "source": [
        "2. **Absolute filepath:** This specifies the complete location of a file or directory starting from the root (i.e., the starting for navigating the entire file system hierarchy). Here are some examples:\n",
        "\n",
        "    Windows: `C:\\Users\\Username\\Documents\\file.txt`\n",
        "\n",
        "    Unix/Linux/MacOS: `/home/username/Documents/file.txt`"
      ],
      "metadata": {
        "id": "RZbTXdSGmNQu"
      }
    },
    {
      "cell_type": "markdown",
      "source": [
        "When working in Jupyter notebooks, it is best to stick with relative filepaths because you will usually be running your code from a predetermined location and you will usually not need to dive deep into the filesystem provided by Google Colab. However, using absolute filepaths when working on your local machine can be helpful for ensuring that your filepaths always point to the same location regardless of where you run your code from."
      ],
      "metadata": {
        "id": "Y3j2sKiMzw8i"
      }
    },
    {
      "cell_type": "markdown",
      "source": [
        "## Navigating Filepaths in Python"
      ],
      "metadata": {
        "id": "AWLKhZk8wvL2"
      }
    },
    {
      "cell_type": "markdown",
      "source": [
        "The `os` library is built into Python to support basic operating system navigation techniques."
      ],
      "metadata": {
        "id": "a--TlKxVw2E7"
      }
    },
    {
      "cell_type": "code",
      "source": [
        "import os"
      ],
      "metadata": {
        "id": "sliF30_r0kcz"
      },
      "execution_count": null,
      "outputs": []
    },
    {
      "cell_type": "code",
      "source": [
        "# Get the current working directory\n",
        "# (i.e., the default folder from which Google Colab runs your code)\n",
        "os.getcwd()"
      ],
      "metadata": {
        "id": "V5059sv8xCXq"
      },
      "execution_count": null,
      "outputs": []
    },
    {
      "cell_type": "code",
      "source": [
        "# Get a list of the files in a folder\n",
        "# (note: this is a default folder that Google Colab always provides)\n",
        "os.listdir('sample_data')"
      ],
      "metadata": {
        "id": "2N9z5Sm0w-n2"
      },
      "execution_count": null,
      "outputs": []
    },
    {
      "cell_type": "code",
      "source": [
        "# Create a filepath that uses the proper path separator for your operating system\n",
        "os.path.join('sample_data', 'california_housing_train.csv')"
      ],
      "metadata": {
        "id": "TyiiRflVw86p"
      },
      "execution_count": null,
      "outputs": []
    }
  ],
  "metadata": {
    "colab": {
      "provenance": []
    },
    "kernelspec": {
      "display_name": "Python 3",
      "language": "python",
      "name": "python3"
    },
    "language_info": {
      "codemirror_mode": {
        "name": "ipython",
        "version": 3
      },
      "file_extension": ".py",
      "mimetype": "text/x-python",
      "name": "python",
      "nbconvert_exporter": "python",
      "pygments_lexer": "ipython3",
      "version": "3.6.13"
    }
  },
  "nbformat": 4,
  "nbformat_minor": 0
}