{
  "cells": [
    {
      "cell_type": "markdown",
      "metadata": {
        "id": "EH_sKGF8bAPg"
      },
      "source": [
        "# Testing and Debugging"
      ]
    },
    {
      "cell_type": "markdown",
      "metadata": {
        "id": "2nYRSoy9hjxd"
      },
      "source": [
        "## Motivation"
      ]
    },
    {
      "cell_type": "markdown",
      "metadata": {
        "id": "szW2rRoRhh9d"
      },
      "source": [
        "When we write programs, they don't always work as expected. Sometimes the problems with programs are obvious, but other times they are more subtle. Before you learn how to fix your programs, you first need to be able to figure out how to understand why your code is breaking in the first place."
      ]
    },
    {
      "cell_type": "markdown",
      "metadata": {
        "id": "I4mwVxaoh0tJ"
      },
      "source": [
        "\n",
        "We will also teach how to use a software tool called a ***debugger*** to examine code to find the source of problems. You will often hear errors and flaws in computer programming referred to as ***bugs*** (you can learn the origin of this name [here](https://en.wikipedia.org/wiki/Software_bug))."
      ]
    },
    {
      "cell_type": "markdown",
      "metadata": {
        "id": "z17GC1XDwGIZ"
      },
      "source": [
        "## Option 1: Using Test Cases"
      ]
    },
    {
      "cell_type": "markdown",
      "metadata": {
        "id": "8KGzWdBGwUMb"
      },
      "source": [
        "One way of determining whether a program is correct is by executing it with different inputs and checking if the output follows our expectations. We have already been doing this to some extent as the last step of our Function Design Recipe, but we can go a step further by using the `assert` keyword to compare the value returned and the expected value."
      ]
    },
    {
      "cell_type": "markdown",
      "metadata": {
        "id": "1ioZYYZ12YjP"
      },
      "source": [
        "Ideally, we would execute the program with all possible inputs, but that is unrealistic since there are usually an unlimited number of test cases. To be more realistic, we can divide our input space into categories and then carefully select a set of values to represent each one."
      ]
    },
    {
      "cell_type": "markdown",
      "metadata": {
        "id": "9cK0GuJR0OtU"
      },
      "source": [
        "For example, if we wanted to test the following function:"
      ]
    },
    {
      "cell_type": "code",
      "execution_count": null,
      "metadata": {
        "id": "BHlIb9ks01Af"
      },
      "outputs": [],
      "source": [
        "def absolute_value(x):\n",
        "    \"\"\" (int) -> int\n",
        "\n",
        "    Return the absolute value of the input.\n",
        "    \"\"\"\n",
        "    if x < 0:\n",
        "        return -x\n",
        "    else:\n",
        "        return x"
      ]
    },
    {
      "cell_type": "markdown",
      "metadata": {
        "id": "GXIigZQZ01by"
      },
      "source": [
        "We would probably want to make sure it works for categories of `int` values like:\n",
        "* A positive number\n",
        "* A negative number\n",
        "* Zero"
      ]
    },
    {
      "cell_type": "code",
      "execution_count": null,
      "metadata": {
        "id": "T3htyJRN2liR"
      },
      "outputs": [],
      "source": [
        "assert absolute_value(3) == 3, 'Positive number'\n",
        "assert absolute_value(-5) == 5, 'Negative number'\n",
        "assert absolute_value(0) == 0, 'Zero'"
      ]
    },
    {
      "cell_type": "markdown",
      "metadata": {
        "id": "eO5OSTbB244w"
      },
      "source": [
        "If the two values differ, an `AssertionError` occurs and you should investigate your code further."
      ]
    },
    {
      "cell_type": "code",
      "execution_count": null,
      "metadata": {
        "id": "ICh0U9mK25ow"
      },
      "outputs": [],
      "source": [
        "# This should not be true, but we are just using it for demonstration purposes\n",
        "assert absolute_value(0) == 1, 'Fake example'"
      ]
    },
    {
      "cell_type": "markdown",
      "metadata": {
        "id": "GMkvdRX5wak0"
      },
      "source": [
        "Let's imagine a more complicated function `count_lowercase_vowels()`:"
      ]
    },
    {
      "cell_type": "code",
      "execution_count": null,
      "metadata": {
        "id": "keaHRUKSbAPp"
      },
      "outputs": [],
      "source": [
        "def count_lowercase_vowels(s):\n",
        "    \"\"\" (str) -> int\n",
        "\n",
        "    Return the number of vowels (a, e, i, o, and u) in s.\n",
        "\n",
        "    >>> count_lowercase_vowels('Happy Anniversary!')\n",
        "    5\n",
        "    >>> count_lowercase_vowels('xyz')\n",
        "    0\n",
        "    \"\"\"\n",
        "    num_vowels = 0\n",
        "    for ch in s:\n",
        "        if ch in 'aeiouAEIOU':\n",
        "            num_vowels += 1\n",
        "    return num_vowels"
      ]
    },
    {
      "cell_type": "markdown",
      "metadata": {
        "id": "nbHxEUl-bAPr"
      },
      "source": [
        "In this case, we might want to divide our input space according to:\n",
        "* The length of the string\n",
        "* The type of characters that make up the string"
      ]
    },
    {
      "cell_type": "markdown",
      "metadata": {
        "id": "5BcWSNCy3q5s"
      },
      "source": [
        "There are many possible string lengths. For this example, we'll consider strings that have these lengths:\n",
        "\n",
        "* Empty\n",
        "* Single character\n",
        "* Several characters"
      ]
    },
    {
      "cell_type": "markdown",
      "metadata": {
        "id": "oluQcMSe3zpD"
      },
      "source": [
        "There are also many possible character types. For this example, we'll consider the following:\n",
        "* Vowels: `'a'`, `'a'`, `'a'`, etc.\n",
        "* Consonants: `'b'`, `'n'`, `'x'`, etc.\n",
        "\n",
        "We are missing some categories and subcategories in this case (e.g., numbers, special characters, capitals), but it is always up to you to decide whether your test cases are good enough."
      ]
    },
    {
      "cell_type": "markdown",
      "metadata": {
        "id": "n-eJIAJ_36Qr"
      },
      "source": [
        "We can make a table to make sure we have a set of test cases with good coverage:\n",
        "\n",
        "| **Test Case Description** | **Input** | **Expected Result** |\n",
        "|---------------------------|-----------|---------------------|\n",
        "| Empty string \t| `''` | 0 |\n",
        "| Single character, vowel | `'a'`\t| 1 |\n",
        "| Single character, non-vowel | `'b'` | 0 |\n",
        "| Several characters, no vowels | `'pfffft'` |0\t|\n",
        "| Several characters, some vowels | `'bandit'` | 2 |\n",
        "| Several characters, all vowels | `'aeioua'` | 6 |"
      ]
    },
    {
      "cell_type": "markdown",
      "metadata": {
        "id": "rh7BVxnu5fu1"
      },
      "source": [
        "Now we can test our method:"
      ]
    },
    {
      "cell_type": "code",
      "execution_count": null,
      "metadata": {
        "id": "Ad0i5KyPbAPs"
      },
      "outputs": [],
      "source": [
        "assert count_lowercase_vowels('') == 0, 'Empty string'\n",
        "assert count_lowercase_vowels('a') == 1, 'Single vowel'\n",
        "assert count_lowercase_vowels('b') == 0, 'Single consonant'\n",
        "assert count_lowercase_vowels('pfffft') == 0, 'All consonants'\n",
        "assert count_lowercase_vowels('bandit') == 2, 'Some consonants, some vowels'\n",
        "assert count_lowercase_vowels('aeioua') == 6, 'All vowels'"
      ]
    },
    {
      "cell_type": "markdown",
      "metadata": {
        "id": "N9xfCFkc6bvP"
      },
      "source": [
        "Here are some factors to consider when coming up with test cases:\n",
        "* **Size**: For collections and sequences consider an empty collection, a collection with one item, and a collection with several items\n",
        "* **Dichotomies**: Consider semantic splits that might be relevant for your problem, like vowels/non-vowels, even/odd, positive/negative, empty/full, etc.\n",
        "* **Boundaries**: If a function behaves differently near a particular threshold (e.g., `if x < 3`), then test below the threshold, above the threshold, and the threshold itself.\n",
        "* **Order**: If a function behaves differently when the values are in a different order, test those different orders."
      ]
    },
    {
      "cell_type": "markdown",
      "metadata": {
        "id": "-v-pNtu_bAPt"
      },
      "source": [
        "## Practice Exercise: Creating Test Cases"
      ]
    },
    {
      "cell_type": "markdown",
      "metadata": {
        "id": "GPxuAo8P7jlG"
      },
      "source": [
        "Your task is to choose test cases for a function called `is_teenager()` with the following header:"
      ]
    },
    {
      "cell_type": "code",
      "execution_count": null,
      "metadata": {
        "id": "e1es7aJQbAPt"
      },
      "outputs": [],
      "source": [
        "def is_teenager(age):\n",
        "    \"\"\" (int) -> bool\n",
        "\n",
        "    Return True if and only if age is a teenager between 13 and 18 inclusive.\n",
        "    \"\"\""
      ]
    },
    {
      "cell_type": "markdown",
      "metadata": {
        "id": "H2JeHQgobAPu"
      },
      "source": [
        "Complete the table below by choosing a set of test cases (you can modify it in Google Colab by double-clicking on the cell). You can assume that people will not input a negative age for this exercise.\n",
        "\n",
        "| Test Case Description | Input | Expected Result |\n",
        "|-----------------------|-------|--------|\n",
        "| | | |\n",
        "| | | |\n",
        "| | | |\n",
        "| | | |\n",
        "| | | |\n",
        "| | | |\n",
        "| | | |"
      ]
    },
    {
      "cell_type": "markdown",
      "metadata": {
        "id": "QYxElVDc_RkA"
      },
      "source": [
        "Once you've chosen your test cases, check to see whether they catch the bugs in the buggy versions of `is_teenager()` in [broken_is_teenager.pdf](broken_is_teenager.pdf)."
      ]
    },
    {
      "cell_type": "code",
      "execution_count": null,
      "metadata": {
        "id": "KxaplOeL_er5"
      },
      "outputs": [],
      "source": [
        "# Copy a buggy version here"
      ]
    },
    {
      "cell_type": "code",
      "execution_count": null,
      "metadata": {
        "id": "l-JndJ2__i-2"
      },
      "outputs": [],
      "source": [
        "# Write your assert statements here"
      ]
    },
    {
      "cell_type": "markdown",
      "metadata": {
        "id": "Ebd3mZMewi9P"
      },
      "source": [
        "## Option 2: `print` Statements"
      ]
    },
    {
      "cell_type": "markdown",
      "metadata": {
        "id": "Zc53eNtXwp9T"
      },
      "source": [
        "One of the reasons that Jupyter notebooks are so convenient is because you can break up your longer programs that you can run in blocks. This can allow you to go through code block-by-block so that you can see what happens at each step."
      ]
    },
    {
      "cell_type": "markdown",
      "metadata": {
        "id": "uPMzMuWmCKdK"
      },
      "source": [
        "However, it is impossible to divide conditional statements and loops into blocks. In these cases, we can add extra `print` statements to check the state of our program at intermediate steps."
      ]
    },
    {
      "cell_type": "markdown",
      "metadata": {
        "id": "HWJzJY6hBSS-"
      },
      "source": [
        "Here is an example of how we can use `print` statements to check our program during each iteration of a `for` loop:"
      ]
    },
    {
      "cell_type": "code",
      "execution_count": null,
      "metadata": {
        "id": "pIe3mXL-BY9x"
      },
      "outputs": [],
      "source": [
        "def count_lowercase_vowels(s):\n",
        "    \"\"\" (str) -> int\n",
        "\n",
        "    Return the number of vowels (a, e, i, o, and u) in s.\n",
        "\n",
        "    >>> count_lowercase_vowels('Happy Anniversary!')\n",
        "    5\n",
        "    >>> count_lowercase_vowels('xyz')\n",
        "    0\n",
        "    \"\"\"\n",
        "    num_vowels = 0\n",
        "    for ch in s:\n",
        "        print('Checking:', ch)\n",
        "        if ch in 'aeiouAEIOU':\n",
        "            print('Found a vowel!')\n",
        "            num_vowels += 1\n",
        "        print('Number of vowels:', num_vowels)\n",
        "    return num_vowels\n",
        "count_lowercase_vowels('Abcde')"
      ]
    },
    {
      "cell_type": "markdown",
      "metadata": {
        "id": "5vMrvLUDCXX9"
      },
      "source": [
        "Although this is a very powerful technique, you should avoid it if:\n",
        "* Your program will print thousands of statements (e.g., very long loops, reading long files)\n",
        "* If the output to the console is supposed to be clear of extra text"
      ]
    },
    {
      "cell_type": "markdown",
      "metadata": {
        "id": "D3KgEcTzbAPu"
      },
      "source": [
        "## Option 3: Using a Debugger"
      ]
    },
    {
      "cell_type": "markdown",
      "metadata": {
        "id": "Z1Y9zGGrvA5G"
      },
      "source": [
        "We've already used the [Python Visualizer](http://pythontutor.com/csc108h.html#mode=edit) to visualize memory during Python program execution. The Python Visualizer is a very useful too, but is has some limitations. It can only be used for programs that run without error and on programs of a certain size (there is an upper limit on the number of lines). In addition, it cannot be used with programs that involve reading from or writing to files."
      ]
    },
    {
      "cell_type": "markdown",
      "metadata": {
        "id": "7smfWZ5svFD3"
      },
      "source": [
        "A more common approach for visualizing programs is to use a ***debugger***. We will copy-and-paste this code into PyCharm and use the environment's built-in debugger to see how this works:"
      ]
    },
    {
      "cell_type": "code",
      "execution_count": null,
      "metadata": {
        "id": "BZiJq4dbyu6p"
      },
      "outputs": [],
      "source": [
        "def count_elevated(heart_rates):\n",
        "    \"\"\" (list of number) -> int\n",
        "\n",
        "    Return the number of heart rate measurements over 100 bpm.\n",
        "\n",
        "    >>> count_elevated([60, 105, 90, 110, 115, 95])\n",
        "    3\n",
        "    \"\"\"\n",
        "    num_elevated = 0\n",
        "    for heart_rate in heart_rates:\n",
        "        if heart_rate > 100:\n",
        "            num_elevated += 1\n",
        "    return num_elevated\n",
        "\n",
        "result = count_elevated([60, 105, 90, 110, 115, 95])\n",
        "print(result)"
      ]
    }
  ],
  "metadata": {
    "colab": {
      "provenance": []
    },
    "kernelspec": {
      "display_name": "Python 3",
      "language": "python",
      "name": "python3"
    },
    "language_info": {
      "codemirror_mode": {
        "name": "ipython",
        "version": 3
      },
      "file_extension": ".py",
      "mimetype": "text/x-python",
      "name": "python",
      "nbconvert_exporter": "python",
      "pygments_lexer": "ipython3",
      "version": "3.6.13"
    }
  },
  "nbformat": 4,
  "nbformat_minor": 0
}