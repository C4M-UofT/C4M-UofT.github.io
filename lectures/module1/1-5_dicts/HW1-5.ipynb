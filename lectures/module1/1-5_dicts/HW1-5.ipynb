{
  "cells": [
    {
      "cell_type": "markdown",
      "metadata": {
        "id": "B6v86VjQmIrK"
      },
      "source": [
        "# Important: Run this code cell each time you start a new session!"
      ]
    },
    {
      "cell_type": "code",
      "metadata": {
        "id": "CR3MVg81IvWX",
        "jupyter": {
          "source_hidden": true
        }
      },
      "source": [
        "# Do not edit this cell\n",
        "def test_homework(test_name, actual, expected):\n",
        "  if actual == expected:\n",
        "    print(f\"Test passed: {test_name}.\")\n",
        "    return 1\n",
        "  else:\n",
        "    print(f\"Test failed: {test_name}. Expected {expected}, got {actual}\")\n",
        "    return 0\n",
        "\n",
        "def compare_hw_scores(score, max_score):\n",
        "  if score == max_score:\n",
        "    print(\"All test cases passed!\")\n",
        "  print(f\"Mark: {score} / {max_score}\")"
      ],
      "execution_count": null,
      "outputs": []
    },
    {
      "cell_type": "code",
      "source": [
        "import os, datetime, json, locale, pathlib, urllib, requests, werkzeug, nbformat, google, yaml, warnings\n",
        "def colab2pdf():\n",
        "    locale.setlocale(locale.LC_ALL, 'en_US.UTF-8')\n",
        "    NAME = pathlib.Path(werkzeug.utils.secure_filename(urllib.parse.unquote(requests.get(f\"http://{os.environ['COLAB_JUPYTER_IP']}:{os.environ['KMP_TARGET_PORT']}/api/sessions\").json()[0][\"name\"])))\n",
        "    TEMP = pathlib.Path(\"/content/pdfs\") / f\"{datetime.datetime.now().strftime('%Y%m%d_%H%M%S')}_{NAME.stem}\"; TEMP.mkdir(parents=True, exist_ok=True)\n",
        "    NB = [cell for cell in nbformat.reads(json.dumps(google.colab._message.blocking_request(\"get_ipynb\", timeout_sec=30)[\"ipynb\"]), as_version=4).cells if \"--Colab2PDF\" not in cell.source]\n",
        "    warnings.filterwarnings('ignore', category=nbformat.validator.MissingIDFieldWarning)\n",
        "    with (TEMP / f\"{NAME.stem}.ipynb\").open(\"w\", encoding=\"utf-8\") as nb_copy: nbformat.write(nbformat.v4.new_notebook(cells=NB or [nbformat.v4.new_code_cell(\"#\")]), nb_copy)\n",
        "    if not pathlib.Path(\"/usr/local/bin/quarto\").exists():\n",
        "        !wget -q \"https://quarto.org/download/latest/quarto-linux-amd64.deb\" -P {TEMP} && dpkg -i {TEMP}/quarto-linux-amd64.deb > /dev/null && quarto install tinytex --update-path --quiet\n",
        "    with (TEMP / \"config.yml\").open(\"w\", encoding=\"utf-8\") as file: yaml.dump({'include-in-header': [{\"text\": r\"\\usepackage{fvextra}\\DefineVerbatimEnvironment{Highlighting}{Verbatim}{breaksymbolleft={},showspaces=false,showtabs=false,breaklines,breakanywhere,commandchars=\\\\\\{\\}}\"}],'include-before-body': [{\"text\": r\"\\DefineVerbatimEnvironment{verbatim}{Verbatim}{breaksymbolleft={},showspaces=false,showtabs=false,breaklines}\"}]}, file)\n",
        "    !quarto render {TEMP}/{NAME.stem}.ipynb --metadata-file={TEMP}/config.yml --to pdf -M latex-auto-install -M margin-top=1in -M margin-bottom=1in -M margin-left=1in -M margin-right=1in --quiet\n",
        "    google.colab.files.download(str(TEMP / f\"{NAME.stem}.pdf\"))"
      ],
      "metadata": {
        "id": "pgjkoZ8BQ73K"
      },
      "execution_count": null,
      "outputs": []
    },
    {
      "cell_type": "markdown",
      "metadata": {
        "id": "IhQvi7z1v6rm"
      },
      "source": [
        "# Instructions"
      ]
    },
    {
      "cell_type": "markdown",
      "metadata": {
        "id": "S53yKXI1NEf-"
      },
      "source": [
        "Each exercise generally consists of four parts.\n",
        "1.   A description of the function you need to implement\n",
        "2.   Any starter code to help you write your code\n",
        "3.   A separate code block where you can test out various parts of your code\n",
        "4.   An autograder that will evaluate your code against some test cases we have selected"
      ]
    },
    {
      "cell_type": "markdown",
      "metadata": {
        "id": "8t9e19amwDDn"
      },
      "source": [
        "The cell after all of the exercises will confirm that you have successfully completed the homework. This cell will not run unless you run the autograder for each individual exercise first."
      ]
    },
    {
      "cell_type": "markdown",
      "metadata": {
        "id": "D4ehh0JvfBNj"
      },
      "source": [
        "# Exercise 1: Oversubscribed Physicians\n"
      ]
    },
    {
      "cell_type": "markdown",
      "source": [
        "Consider a dictionary that stores the list of patients that meets with each physician at a clinic; the physician names are the keys and the list of those physician's patients are the values. For example, a dictionary of this form is:\n",
        "\n",
        "```\n",
        "patient_data = {\"Dr. House\": [\"Alice\", \"Adam\", \"Aaron\"],\n",
        "                \"Dr. McCoy\": [\"Bob\", \"Beatrice\"],\n",
        "                \"Dr. Livesey\": [\"Chloe\", \"Cameron\", \"Constantine\"]}\n",
        "```\n",
        "\n",
        "Complete the following function according to its docstring."
      ],
      "metadata": {
        "id": "ZpW4rDasQI1V"
      }
    },
    {
      "cell_type": "code",
      "execution_count": null,
      "metadata": {
        "id": "TcDiFvuAfBex"
      },
      "outputs": [],
      "source": [
        "def oversubscribed_physicians(patient_data, max_patients):\n",
        "    \"\"\"(dict, int) -> list of str\n",
        "\n",
        "    Return a list of the physicians who have more than\n",
        "    max_patients patients, as recorded in patient_data,\n",
        "    with the names sorted alphabetically. In patient_data,\n",
        "    each key is a physician and each value is a list of that\n",
        "    physician's patients.\n",
        "\n",
        "    >>> patient_data = {\"Dr. House\": [\"Alice\", \"Adam\", \"Aaron\"],\n",
        "                        \"Dr. McCoy\": [\"Bob\", \"Beatrice\"],\n",
        "                        \"Dr. Livesey\": [\"Chloe\", \"Cameron\", \"Constantine\"]}\n",
        "    >>> oversubscribed_physicians(patient_data, 2)\n",
        "    [\"Dr. House\", \"Dr. Livesey\"]\n",
        "    >>> oversubscribed_physicians(patient_data, 3)\n",
        "    []\n",
        "    \"\"\"\n",
        "    # Write your code here"
      ]
    },
    {
      "cell_type": "code",
      "execution_count": null,
      "metadata": {
        "id": "DiVanaVSfBtX"
      },
      "outputs": [],
      "source": [
        "# Test your function here"
      ]
    },
    {
      "cell_type": "markdown",
      "metadata": {
        "id": "ZUef_aIie1qv"
      },
      "source": [
        "#### Run the hidden code cell to evaluate Exercise 1"
      ]
    },
    {
      "cell_type": "code",
      "execution_count": null,
      "metadata": {
        "id": "MUdOrWN4fDAg",
        "jupyter": {
          "source_hidden": true
        }
      },
      "outputs": [],
      "source": [
        "# Do not edit this cell\n",
        "def check_exercise1():\n",
        "  ex_score, max_ex_score = 0, 0\n",
        "\n",
        "  ex_score += test_homework(\"All have less than or the same as max\", oversubscribed_physicians({\"Dr. House\": [\"Alice\", \"Adam\", \"Aaron\"], \"Dr. McCoy\": [\"Bob\", \"Beatrice\"], \"Dr. Livesey\": [\"Chloe\", \"Cameron\", \"Constantine\", \"Cleopatra\"]} , 4), [])\n",
        "  max_ex_score += 1\n",
        "  ex_score += test_homework(\"All have more than max\", oversubscribed_physicians({\"D\": [\"a\", \"b\", \"c\"], \"B\": [\"d\", \"e\"], \"C\": [\"f\", \"g\"], \"A\":[\"h\", \"i\", \"j\", \"k\"]}, 1), [\"A\", \"B\", \"C\", \"D\"])\n",
        "  max_ex_score += 1\n",
        "  ex_score += test_homework(\"Mix of cases\", oversubscribed_physicians( {\"Dr. House\": [\"Alice\", \"Adam\", \"Aaron\"], \"Dr. McCoy\": [\"Bob\", \"Beatrice\"], \"Dr. Livesey\": [\"Chloe\", \"Cameron\", \"Constantine\", \"Cleopatra\"]} , 2), [\"Dr. House\", \"Dr. Livesey\"])\n",
        "  max_ex_score += 1\n",
        "\n",
        "  compare_hw_scores(ex_score, max_ex_score)\n",
        "  return ex_score, max_ex_score\n",
        "\n",
        "_ = check_exercise1()"
      ]
    },
    {
      "cell_type": "markdown",
      "metadata": {
        "id": "fOaUfmQHhPEJ"
      },
      "source": [
        "# Exercise 2: Updating Patient Priority"
      ]
    },
    {
      "cell_type": "markdown",
      "source": [
        "Consider a dictionary that keeps track of every patient's status in order to determine who needs the most attention. Each patient is assigned a numerical priority rating. Higher ratings indicate more severe cases, and ratings above 10 require immediate attention. In the following example:\n",
        "\n",
        "```\n",
        "waiting_patients = {\"Alice\": 4, \"Bob\": 11, \"Chloe\": 5}\n",
        "```\n",
        "\n",
        "the patients in descending order of priority are Bob, Chloe, and Alice; however, Bob requires immediate attention since his rating is above 10.\n",
        "\n",
        "Complete the following function according to its docstring.\n",
        "\n",
        "**Important:** This function should simultaneously modify the original dictionary `waiting_patients` and return a string."
      ],
      "metadata": {
        "id": "Dk1FFsqyqGvb"
      }
    },
    {
      "cell_type": "code",
      "execution_count": null,
      "metadata": {
        "id": "outL-4kkhPde"
      },
      "outputs": [],
      "source": [
        "def update_priority(waiting_patients, patient, change):\n",
        "    \"\"\" (dict{str: int}, str, int) -> str\n",
        "\n",
        "    Change the priority of patient in the dictionary waiting_patients\n",
        "    by adding change, which could be positive or negative.\n",
        "\n",
        "    If this causes the priority of this patient to be greater than 10,\n",
        "    return the string \"alert\", otherwise return the string \"normal\". If\n",
        "    patient is not in waiting_patients, add in the patient with the priority\n",
        "    value of change.\n",
        "\n",
        "    >>> priorities_dict = {\"P1\":4, \"P2\":5}\n",
        "    >>> ret = update_priority(priorities_dict, \"P1\", 2)\n",
        "    >>> priorities_dict\n",
        "    {\"P1\":6, \"P2\":5}\n",
        "    >>> ret\n",
        "    \"normal\"\n",
        "\n",
        "    >>> ret = update_priority(priorities_dict, \"P2\", 7)\n",
        "    >>> priorities_dict\n",
        "    {\"P1\":6, \"P2\":12}\n",
        "    >>> ret\n",
        "    \"alert\"\n",
        "    \"\"\"\n",
        "    # Write your code here"
      ]
    },
    {
      "cell_type": "code",
      "source": [
        "# Test your function here"
      ],
      "metadata": {
        "id": "Aquwig8-qMJm"
      },
      "execution_count": null,
      "outputs": []
    },
    {
      "cell_type": "markdown",
      "metadata": {
        "id": "mQj0_10te1qx"
      },
      "source": [
        "#### Run the hidden code cell to evaluate Exercise 2"
      ]
    },
    {
      "cell_type": "code",
      "execution_count": null,
      "metadata": {
        "id": "_ZA4tSZphQ5x",
        "jupyter": {
          "source_hidden": true
        }
      },
      "outputs": [],
      "source": [
        "# Do not edit this cell\n",
        "def check_exercise2():\n",
        "  ex_score, max_ex_score = 0, 0\n",
        "\n",
        "  priorities_dict = {\"P1\":4, \"P2\":5}\n",
        "  ret = update_priority(priorities_dict, \"P1\", 2)\n",
        "  result = priorities_dict[\"P1\"] == 6 and priorities_dict[\"P2\"] == 5 and ret == \"normal\"\n",
        "  ex_score += test_homework(\"Increasing existing patient to less than 10\", result, True)\n",
        "  max_ex_score += 1\n",
        "\n",
        "  priorities_dict = {\"P1\":4, \"P2\":5}\n",
        "  ret = update_priority(priorities_dict, \"P2\", 7)\n",
        "  result = priorities_dict[\"P1\"] == 4 and priorities_dict[\"P2\"] == 12 and ret == \"alert\"\n",
        "  ex_score += test_homework(\"Increasing existing patient to > 10\", result, True)\n",
        "  max_ex_score += 1\n",
        "\n",
        "  priorities_dict = {\"P1\":4, \"P2\":5}\n",
        "  ret = update_priority(priorities_dict, \"P3\", 2)\n",
        "  result = priorities_dict == {\"P1\":4, \"P2\":5, \"P3\":2} and ret == \"normal\"\n",
        "  ex_score += test_homework(\"Adding patient with less than 10\", result, True)\n",
        "  max_ex_score += 1\n",
        "\n",
        "  priorities_dict = {\"P1\":4, \"P2\":5}\n",
        "  ret = update_priority(priorities_dict, \"P3\", 12)\n",
        "  result = priorities_dict == {\"P1\":4, \"P2\":5, \"P3\":12} and ret == \"alert\"\n",
        "  ex_score += test_homework(\"Adding patient with > 10\", result, True)\n",
        "  max_ex_score += 1\n",
        "\n",
        "  priorities_dict = {\"P1\":4, \"P2\":5}\n",
        "  ret = update_priority(priorities_dict, \"P1\", 6)\n",
        "  result = priorities_dict[\"P1\"] == 10 and priorities_dict[\"P2\"] == 5 and ret == \"normal\"\n",
        "  ex_score += test_homework(\"Increasing existing patient to exactly 10\", result, True)\n",
        "  max_ex_score += 1\n",
        "\n",
        "  compare_hw_scores(ex_score, max_ex_score)\n",
        "  return ex_score, max_ex_score\n",
        "\n",
        "_ = check_exercise2()"
      ]
    },
    {
      "cell_type": "markdown",
      "metadata": {
        "id": "r1JKkq2IYYKM"
      },
      "source": [
        "# Exercise 3: Check Symptoms\n"
      ]
    },
    {
      "cell_type": "markdown",
      "source": [
        "Consider a dictionary that stores the symptoms that everyone experienced during a clinical trial. For example, the dictionary might look as follows:\n",
        "\n",
        "```\n",
        "symptom_dict = {\"Alice Z.\": [\"fever\"],\n",
        "                \"Bob Y.\": [\"nausea\", \"lightheadedness\"],\n",
        "                \"Carl X.\": [\"fever\", \"nausea\"],\n",
        "                \"Diana W.\": [],\n",
        "                \"Eve V.\": [\"headache\", \"nausea\"],\n",
        "                \"Frank U.\": [\"fever\", \"nausea\"],\n",
        "                \"Greg T.\": [\"gangrene\"]}\n",
        "```\n",
        "\n",
        "Write a function that returns `True` iff none of the patients exhibited any symptoms; otherwise, return `False`."
      ],
      "metadata": {
        "id": "T5OMuZfPxBQC"
      }
    },
    {
      "cell_type": "code",
      "execution_count": null,
      "metadata": {
        "id": "bE5IB05nYYfZ"
      },
      "outputs": [],
      "source": [
        "def no_symptoms_found(symptom_dict):\n",
        "    \"\"\" (dict) -> bool\n",
        "\n",
        "    symptom_dict is a dictionary where the keys are patient names\n",
        "    and the values are a list of the symptoms that they exhibit.\n",
        "\n",
        "    Return True iff none of the patients have any symptoms;\n",
        "    otherwise, return False.\n",
        "\n",
        "    >>> symptom_dict1 = {\"Alice Z.\": [\"fever\"],\n",
        "                         \"Bob Y.\": [\"nausea\", \"lightheadedness\"],\n",
        "                         \"Carl X.\": [\"fever\", \"nausea\"],\n",
        "                         \"Diana W.\": [],\n",
        "                         \"Eve V.\": [\"headache\", \"nausea\"],\n",
        "                         \"Frank U.\": [\"fever\", \"nausea\"],\n",
        "                         \"Greg T.\": [\"gangrene\"]}\n",
        "    >>> no_symptoms_found(symptom_dict1)\n",
        "    False\n",
        "    >>> symptom_dict2 = {\"Alice Z.\": [], \"Bob Y.\": [], \"Carl X.\": [],\n",
        "                         \"Diana W.\": [], \"Eve V.\": [],  \"Frank U.\": [],\n",
        "                         \"Greg T.\": []}\n",
        "    >>> no_symptoms_found(symptom_dict2)\n",
        "    True\n",
        "    \"\"\"\n",
        "    # Write your code here"
      ]
    },
    {
      "cell_type": "code",
      "execution_count": null,
      "metadata": {
        "id": "zI6XgEtNYYxv"
      },
      "outputs": [],
      "source": [
        "# Test your function here"
      ]
    },
    {
      "cell_type": "markdown",
      "metadata": {
        "id": "kpEKMNsDe1qm"
      },
      "source": [
        "#### Run the hidden code cell to evaluate Exercise 3"
      ]
    },
    {
      "cell_type": "code",
      "execution_count": null,
      "metadata": {
        "id": "89oQ5dOCaO-O",
        "jupyter": {
          "source_hidden": true
        }
      },
      "outputs": [],
      "source": [
        "# Do not edit this cell\n",
        "def check_exercise3():\n",
        "  ex_score, max_ex_score = 0, 0\n",
        "\n",
        "  ex_score += test_homework(\"No patients\", no_symptoms_found({}), True)\n",
        "  max_ex_score += 1\n",
        "  ex_score += test_homework(\"One patient, no symptoms\", no_symptoms_found({\"a\": []}), True)\n",
        "  max_ex_score += 1\n",
        "  ex_score += test_homework(\"Two patients no symptoms\", no_symptoms_found({\"a\": [], \"b\": []}), True)\n",
        "  max_ex_score += 1\n",
        "  ex_score += test_homework(\"One patient, symptoms\", no_symptoms_found({\"a\": [\"1\"]}), False)\n",
        "  max_ex_score += 1\n",
        "  ex_score += test_homework(\"Mostly no symptoms\", no_symptoms_found({\"a\": [], \"b\": [], \"c\": [], \"d\": [], \"e\":[\"1\", \"2\", \"3\"]}), False)\n",
        "  max_ex_score += 1\n",
        "\n",
        "  compare_hw_scores(ex_score, max_ex_score)\n",
        "  return ex_score, max_ex_score\n",
        "\n",
        "_ = check_exercise3()"
      ]
    },
    {
      "cell_type": "markdown",
      "metadata": {
        "id": "qILYtJLff51u"
      },
      "source": [
        "# Exercise 4: Finding Dangerous Symptoms"
      ]
    },
    {
      "cell_type": "markdown",
      "source": [
        "Consider the same dictionary of symptoms from Exercise 3 and a list of dangerous symptoms called `dangerous_symptoms`. This time, create a function that returns `True` iff any of the patients exhibit any of the symptoms in that list; otherwise, return `False`."
      ],
      "metadata": {
        "id": "kZ4iN4eKdSyM"
      }
    },
    {
      "cell_type": "code",
      "execution_count": null,
      "metadata": {
        "id": "CmxtTIs6f6Kf"
      },
      "outputs": [],
      "source": [
        "def dangerous_symptoms_found(symptom_dict, dangerous_symptoms):\n",
        "    \"\"\"\n",
        "    (dict, list of str) -> bool\n",
        "\n",
        "    symptom_dict is a dictionary where the keys are patient names\n",
        "    and the values are a list of the symptoms that they exhibit.\n",
        "\n",
        "    Return True iff none of the patients have any of the harmful\n",
        "    symptoms listed in dangerous_symptoms; otherwise, return False.\n",
        "\n",
        "    >>> symptom_dict = {\"Alice Z.\": [\"fever\"],\n",
        "                        \"Bob Y.\": [\"nausea\", \"lightheadedness\"],\n",
        "                        \"Carl X.\": [\"fever\", \"nausea\"],\n",
        "                        \"Diana W.\": [],\n",
        "                        \"Eve V.\": [\"headache\", \"nausea\"],\n",
        "                        \"Frank U.\": [\"fever\", \"nausea\"],\n",
        "                        \"Greg T.\": [\"gangrene\"]}\n",
        "    >>> dangerous_symptoms = [\"gangrene\", \"cardiac arrest\"]\n",
        "    >>> dangerous_symptoms_found(symptom_dict, dangerous_symptoms)\n",
        "    True\n",
        "    >>> symptom_dict = {\"Alice Z.\": [\"fever\"],\n",
        "                        \"Bob Y.\": [\"nausea\", \"lightheadedness\"],\n",
        "                        \"Diana W.\": []}\n",
        "    >>> dangerous_symptoms_found(symptom_dict, dangerous_symptoms)\n",
        "    False\n",
        "    \"\"\"\n",
        "    # Write your code here"
      ]
    },
    {
      "cell_type": "code",
      "execution_count": null,
      "metadata": {
        "id": "VGR4Q1lmf6tK"
      },
      "outputs": [],
      "source": [
        "# Test your function here"
      ]
    },
    {
      "cell_type": "markdown",
      "metadata": {
        "id": "N63aodFde1qw"
      },
      "source": [
        "#### Run the hidden code cell to evaluate Exercise 4"
      ]
    },
    {
      "cell_type": "code",
      "execution_count": null,
      "metadata": {
        "id": "zCDYRLxVf-dr",
        "jupyter": {
          "source_hidden": true
        }
      },
      "outputs": [],
      "source": [
        "# Do not edit this cell\n",
        "def check_exercise4():\n",
        "  ex_score, max_ex_score = 0, 0\n",
        "\n",
        "  symptom_dict = {\"Alice Z.\": [\"fever\"], \"Bob Y.\": [\"nausea\", \"lightheadedness\"], \"Carl X.\": [\"fever\", \"nausea\"], \"Diana W.\": [], \"Eve V.\": [\"headache\", \"nausea\"], \"Frank U.\": [\"fever\", \"nausea\"], \"Greg T.\": [\"gangrene\"]}\n",
        "  dangerous_symptoms = [\"gangrene\", \"cardiac arrest\"]\n",
        "  copy_ds = dangerous_symptoms[:]\n",
        "  result = dangerous_symptoms_found(symptom_dict, dangerous_symptoms)\n",
        "  ex_score += test_homework(\"From problem description 1\", (copy_ds == dangerous_symptoms) and result, True)\n",
        "  max_ex_score += 1\n",
        "\n",
        "  symptom_dict = {\"a\": [], \"b\": [\"1\"], \"c\": [\"2\", \"3\"]}\n",
        "  dangerous = [\"1\"]\n",
        "  result = dangerous_symptoms_found(symptom_dict,dangerous)\n",
        "  ex_score += test_homework(\"One dangerous symptom\", result, True)\n",
        "  max_ex_score += 1\n",
        "\n",
        "  symptom_dict = {\"a\": [], \"b\": [\"1\"], \"c\": [\"2\", \"3\"]}\n",
        "  dangerous = [\"4\"]\n",
        "  result = dangerous_symptoms_found(symptom_dict, dangerous)\n",
        "  ex_score += test_homework(\"No dangerous symptoms\", result, False)\n",
        "  max_ex_score += 1\n",
        "\n",
        "  symptom_dict = {\"a\": [], \"b\": [\"1\"], \"c\": [\"2\", \"3\"]}\n",
        "  dangerous = [\"3\"]\n",
        "  result = dangerous_symptoms_found(symptom_dict, dangerous)\n",
        "  ex_score += test_homework(\"Dangerous symptom not first in list\", result, True)\n",
        "  max_ex_score += 1\n",
        "\n",
        "  symptom_dict = {\"a\": [], \"b\": [\"1\"], \"c\": [\"2\", \"3\"]}\n",
        "  dangerous = []\n",
        "  result = dangerous_symptoms_found(symptom_dict, dangerous)\n",
        "  ex_score += test_homework(\"No dangerous symptoms exist at all\", result, False)\n",
        "  max_ex_score += 1\n",
        "\n",
        "  symptom_dict = {\"a\": [], \"b\": [\"1\"], \"c\": [\"2\", \"3\"]}\n",
        "  dangerous = ['4', '5', '6', '7', '3']\n",
        "  result = dangerous_symptoms_found(symptom_dict, dangerous)\n",
        "  ex_score += test_homework(\"First dangerous symptom not found, but later one is found\", result, True)\n",
        "  max_ex_score += 1\n",
        "\n",
        "  compare_hw_scores(ex_score, max_ex_score)\n",
        "  return ex_score, max_ex_score\n",
        "\n",
        "_ = check_exercise4()"
      ]
    },
    {
      "cell_type": "markdown",
      "metadata": {
        "id": "c2z5s5AIiYyW"
      },
      "source": [
        "# Exercise 5: Managing Medications"
      ]
    },
    {
      "cell_type": "markdown",
      "source": [
        "Managing all the medications in a hospital is quite a challenge. Patients may require a number of medications, and hospitals must make sure they have enough of each medication for all the patients who require it. In this question, we have a dictionary connecting patients to the lists of their medications. Your task is to write a function that produces a dictionary where each key is a medication and each value is the list of patients who require that medication.\n",
        "\n",
        "Complete the function below according to its docstring. To help you solve this problem, you may want to refer to the following tutorial video on how to invert a dictionary: https://play.library.utoronto.ca/watch/ZNuabdtIfubt"
      ],
      "metadata": {
        "id": "UziLf_eNqoZV"
      }
    },
    {
      "cell_type": "code",
      "execution_count": null,
      "metadata": {
        "id": "wauaLiVXiZO-"
      },
      "outputs": [],
      "source": [
        "def reorder_by_medication(patient_to_medications):\n",
        "    \"\"\" (dict of {str: list of str}) -> dict of {str: list of str}\n",
        "\n",
        "    Return a dictionary that maps the names of each medication to all of the\n",
        "    patients that require it.\n",
        "\n",
        "    >>> reorder_by_medication({'Patient1': [\"Lasix\", \"Ativan\"], 'Patient2': [\"Ativan\"]})\n",
        "    {'Lasix':['Patient1'], 'Ativan':['Patient1', 'Patient2']}\n",
        "    \"\"\"\n",
        "    # Write your code here"
      ]
    },
    {
      "cell_type": "code",
      "execution_count": null,
      "metadata": {
        "id": "Gb4ZpJFxiZjz"
      },
      "outputs": [],
      "source": [
        "# Test your function here"
      ]
    },
    {
      "cell_type": "markdown",
      "metadata": {
        "id": "uIJuSKX-e1qy"
      },
      "source": [
        "#### Run the hidden code cell to evaluate Exercise 5\n"
      ]
    },
    {
      "cell_type": "code",
      "execution_count": null,
      "metadata": {
        "id": "NgjwxH6jiciz",
        "jupyter": {
          "source_hidden": true
        }
      },
      "outputs": [],
      "source": [
        "# Do not edit this cell\n",
        "def check_exercise5():\n",
        "\tex_score, max_ex_score = 0, 0\n",
        "\n",
        "\tex_score += test_homework(\"One patient, one med\", reorder_by_medication({'Patient1': [\"Lasix\"]}), {'Lasix': ['Patient1']})\n",
        "\tmax_ex_score += 1\n",
        "\n",
        "\tex_score += test_homework(\"One patient, multiple meds\", reorder_by_medication({'Patient1':[\"Lasix\", \"Ativan\"]}), {'Lasix':['Patient1'], 'Ativan':['Patient1']})\n",
        "\tmax_ex_score += 1\n",
        "\n",
        "\toutput = reorder_by_medication({'Patient1':[\"Ativan\"], 'Patient2':[\"Ativan\"]})\n",
        "\tfor val in output.values():\n",
        "\t\tval.sort()\n",
        "\tex_score += test_homework(\"One med, multiple patients\", output, {'Ativan' : ['Patient1', 'Patient2']})\n",
        "\tmax_ex_score += 1\n",
        "\n",
        "\toutput = reorder_by_medication({'Patient1':[\"Lasix\", \"Ativan\"], 'Patient2':[\"Ativan\"], 'Patient3': [], 'Patient4': ['Lasix']})\n",
        "\tfor val in output.values():\n",
        "\t\tval.sort()\n",
        "\tex_score += test_homework(\"Multiple patients, multiple meds\",output, {'Lasix':['Patient1','Patient4'] , 'Ativan':['Patient1', 'Patient2']})\n",
        "\tmax_ex_score += 1\n",
        "\n",
        "\tcompare_hw_scores(ex_score, max_ex_score)\n",
        "\treturn ex_score, max_ex_score\n",
        "\n",
        "_ = check_exercise5()"
      ]
    },
    {
      "cell_type": "markdown",
      "metadata": {
        "id": "w0gmV_f9yJwu"
      },
      "source": [
        "# Check Homework Completion"
      ]
    },
    {
      "cell_type": "markdown",
      "source": [
        "Run this cell to make sure you have completed all of the exercises."
      ],
      "metadata": {
        "id": "KY9rbCPpvNaP"
      }
    },
    {
      "cell_type": "code",
      "execution_count": null,
      "metadata": {
        "id": "1nPQEMQkuBjr",
        "jupyter": {
          "source_hidden": true
        }
      },
      "outputs": [],
      "source": [
        "# Do not edit this cell\n",
        "hw_score, max_hw_score = 0, 0\n",
        "\n",
        "try:\n",
        "  ex1_score, max_ex1_score = check_exercise1()\n",
        "  hw_score += ex1_score\n",
        "  max_hw_score += max_ex1_score\n",
        "\n",
        "  ex2_score, max_ex2_score = check_exercise2()\n",
        "  hw_score += ex2_score\n",
        "  max_hw_score += max_ex2_score\n",
        "\n",
        "  ex3_score, max_ex3_score = check_exercise3()\n",
        "  hw_score += ex3_score\n",
        "  max_hw_score += max_ex3_score\n",
        "\n",
        "  ex4_score, max_ex4_score = check_exercise4()\n",
        "  hw_score += ex4_score\n",
        "  max_hw_score += max_ex4_score\n",
        "\n",
        "  ex5_score, max_ex5_score = check_exercise5()\n",
        "  hw_score += ex5_score\n",
        "  max_hw_score += max_ex5_score\n",
        "\n",
        "except NameError:\n",
        "  raise Exception(\"Autograder failed to run. You have either not completed all of the exercises or did not run the entire notebook\")\n",
        "\n",
        "compare_hw_scores(hw_score, max_hw_score)"
      ]
    },
    {
      "cell_type": "markdown",
      "source": [
        "# Prepare Submission"
      ],
      "metadata": {
        "id": "NvWnOApDRK4P"
      }
    },
    {
      "cell_type": "markdown",
      "source": [
        "To get full credit for this assignment, you should submit your assignment in two formats so that we can easily grade and debug your code:\n",
        "1. **.ipynb:** First, confirm that your code can run from start to finish without any errors. To check this, go to \"Runtime\" > \"Run all\" in the Google Colab menu. If everything looks good, you can export your file by going to \"File\" > \"Download\" > \"Download .ipynb\".\n",
        "2. **.pdf:** Run the function called `colab2pdf()` below. This will automatically convert your notebook to a PDF. Note that while \"File\" > \"Print\" > \"Save as PDF\" also works, it requires you to manually expand all of the cells and may cut off some images."
      ],
      "metadata": {
        "id": "FmZhTZTraQGQ"
      }
    },
    {
      "cell_type": "code",
      "source": [
        "colab2pdf()"
      ],
      "metadata": {
        "colab": {
          "base_uri": "https://localhost:8080/",
          "height": 17
        },
        "id": "KOGsHYKWS8uK",
        "outputId": "d19c59a8-9b3b-4f5e-d0bd-0fddf337bea7"
      },
      "execution_count": null,
      "outputs": [
        {
          "output_type": "display_data",
          "data": {
            "text/plain": [
              "<IPython.core.display.Javascript object>"
            ],
            "application/javascript": [
              "\n",
              "    async function download(id, filename, size) {\n",
              "      if (!google.colab.kernel.accessAllowed) {\n",
              "        return;\n",
              "      }\n",
              "      const div = document.createElement('div');\n",
              "      const label = document.createElement('label');\n",
              "      label.textContent = `Downloading \"${filename}\": `;\n",
              "      div.appendChild(label);\n",
              "      const progress = document.createElement('progress');\n",
              "      progress.max = size;\n",
              "      div.appendChild(progress);\n",
              "      document.body.appendChild(div);\n",
              "\n",
              "      const buffers = [];\n",
              "      let downloaded = 0;\n",
              "\n",
              "      const channel = await google.colab.kernel.comms.open(id);\n",
              "      // Send a message to notify the kernel that we're ready.\n",
              "      channel.send({})\n",
              "\n",
              "      for await (const message of channel.messages) {\n",
              "        // Send a message to notify the kernel that we're ready.\n",
              "        channel.send({})\n",
              "        if (message.buffers) {\n",
              "          for (const buffer of message.buffers) {\n",
              "            buffers.push(buffer);\n",
              "            downloaded += buffer.byteLength;\n",
              "            progress.value = downloaded;\n",
              "          }\n",
              "        }\n",
              "      }\n",
              "      const blob = new Blob(buffers, {type: 'application/binary'});\n",
              "      const a = document.createElement('a');\n",
              "      a.href = window.URL.createObjectURL(blob);\n",
              "      a.download = filename;\n",
              "      div.appendChild(a);\n",
              "      a.click();\n",
              "      div.remove();\n",
              "    }\n",
              "  "
            ]
          },
          "metadata": {}
        },
        {
          "output_type": "display_data",
          "data": {
            "text/plain": [
              "<IPython.core.display.Javascript object>"
            ],
            "application/javascript": [
              "download(\"download_1a5caf89-abe8-4621-af4c-a4985c14876c\", \"HW1-2_Answers.pdf\", 40475)"
            ]
          },
          "metadata": {}
        }
      ]
    }
  ],
  "metadata": {
    "colab": {
      "collapsed_sections": [
        "B6v86VjQmIrK",
        "IhQvi7z1v6rm",
        "D4ehh0JvfBNj",
        "ZUef_aIie1qv",
        "fOaUfmQHhPEJ",
        "mQj0_10te1qx",
        "r1JKkq2IYYKM",
        "kpEKMNsDe1qm",
        "qILYtJLff51u",
        "N63aodFde1qw",
        "c2z5s5AIiYyW",
        "uIJuSKX-e1qy",
        "w0gmV_f9yJwu",
        "NvWnOApDRK4P"
      ],
      "provenance": []
    },
    "kernelspec": {
      "display_name": "Python 3",
      "language": "python",
      "name": "python3"
    },
    "language_info": {
      "codemirror_mode": {
        "name": "ipython",
        "version": 3
      },
      "file_extension": ".py",
      "mimetype": "text/x-python",
      "name": "python",
      "nbconvert_exporter": "python",
      "pygments_lexer": "ipython3",
      "version": "3.8.2"
    }
  },
  "nbformat": 4,
  "nbformat_minor": 0
}