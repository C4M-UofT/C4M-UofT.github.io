{
  "nbformat": 4,
  "nbformat_minor": 0,
  "metadata": {
    "colab": {
      "provenance": [],
      "collapsed_sections": [
        "B6v86VjQmIrK",
        "IhQvi7z1v6rm",
        "NvWnOApDRK4P"
      ]
    },
    "kernelspec": {
      "display_name": "Python 3",
      "language": "python",
      "name": "python3"
    },
    "language_info": {
      "codemirror_mode": {
        "name": "ipython",
        "version": 3
      },
      "file_extension": ".py",
      "mimetype": "text/x-python",
      "name": "python",
      "nbconvert_exporter": "python",
      "pygments_lexer": "ipython3",
      "version": "3.8.2"
    }
  },
  "cells": [
    {
      "cell_type": "markdown",
      "metadata": {
        "id": "B6v86VjQmIrK"
      },
      "source": [
        "# Important: Run this code cell each time you start a new session!"
      ]
    },
    {
      "cell_type": "code",
      "metadata": {
        "id": "CR3MVg81IvWX",
        "jupyter": {
          "source_hidden": true
        }
      },
      "source": [
        "# Do not edit this cell\n",
        "def test_homework(test_name, actual, expected):\n",
        "  if actual == expected:\n",
        "    print(f\"Test passed: {test_name}.\")\n",
        "    return 1\n",
        "  else:\n",
        "    print(f\"Test failed: {test_name}. Expected {expected}, got {actual}\")\n",
        "    return 0\n",
        "\n",
        "def compare_hw_scores(score, max_score):\n",
        "  if score == max_score:\n",
        "    print(\"All test cases passed!\")\n",
        "  print(f\"Mark: {score} / {max_score}\")"
      ],
      "execution_count": 18,
      "outputs": []
    },
    {
      "cell_type": "code",
      "source": [
        "import os, datetime, json, locale, pathlib, urllib, requests, werkzeug, nbformat, google, yaml, warnings\n",
        "def colab2pdf():\n",
        "    locale.setlocale(locale.LC_ALL, 'en_US.UTF-8')\n",
        "    NAME = pathlib.Path(werkzeug.utils.secure_filename(urllib.parse.unquote(requests.get(f\"http://{os.environ['COLAB_JUPYTER_IP']}:{os.environ['KMP_TARGET_PORT']}/api/sessions\").json()[0][\"name\"])))\n",
        "    TEMP = pathlib.Path(\"/content/pdfs\") / f\"{datetime.datetime.now().strftime('%Y%m%d_%H%M%S')}_{NAME.stem}\"; TEMP.mkdir(parents=True, exist_ok=True)\n",
        "    NB = [cell for cell in nbformat.reads(json.dumps(google.colab._message.blocking_request(\"get_ipynb\", timeout_sec=30)[\"ipynb\"]), as_version=4).cells if \"--Colab2PDF\" not in cell.source]\n",
        "    warnings.filterwarnings('ignore', category=nbformat.validator.MissingIDFieldWarning)\n",
        "    with (TEMP / f\"{NAME.stem}.ipynb\").open(\"w\", encoding=\"utf-8\") as nb_copy: nbformat.write(nbformat.v4.new_notebook(cells=NB or [nbformat.v4.new_code_cell(\"#\")]), nb_copy)\n",
        "    if not pathlib.Path(\"/usr/local/bin/quarto\").exists():\n",
        "        !wget -q \"https://quarto.org/download/latest/quarto-linux-amd64.deb\" -P {TEMP} && dpkg -i {TEMP}/quarto-linux-amd64.deb > /dev/null && quarto install tinytex --update-path --quiet\n",
        "    with (TEMP / \"config.yml\").open(\"w\", encoding=\"utf-8\") as file: yaml.dump({'include-in-header': [{\"text\": r\"\\usepackage{fvextra}\\DefineVerbatimEnvironment{Highlighting}{Verbatim}{breaksymbolleft={},showspaces=false,showtabs=false,breaklines,breakanywhere,commandchars=\\\\\\{\\}}\"}],'include-before-body': [{\"text\": r\"\\DefineVerbatimEnvironment{verbatim}{Verbatim}{breaksymbolleft={},showspaces=false,showtabs=false,breaklines}\"}]}, file)\n",
        "    !quarto render {TEMP}/{NAME.stem}.ipynb --metadata-file={TEMP}/config.yml --to pdf -M latex-auto-install -M margin-top=1in -M margin-bottom=1in -M margin-left=1in -M margin-right=1in --quiet\n",
        "    google.colab.files.download(str(TEMP / f\"{NAME.stem}.pdf\"))"
      ],
      "metadata": {
        "id": "pgjkoZ8BQ73K"
      },
      "execution_count": 19,
      "outputs": []
    },
    {
      "cell_type": "markdown",
      "metadata": {
        "id": "IhQvi7z1v6rm"
      },
      "source": [
        "# Instructions"
      ]
    },
    {
      "cell_type": "markdown",
      "metadata": {
        "id": "S53yKXI1NEf-"
      },
      "source": [
        "Each exercise generally consists of four parts.\n",
        "1.   A description of the function you need to implement\n",
        "2.   Any starter code to help you write your code\n",
        "3.   A separate code block where you can test out various parts of your code\n",
        "4.   An autograder that will evaluate your code against some test cases we have selected"
      ]
    },
    {
      "cell_type": "markdown",
      "metadata": {
        "id": "8t9e19amwDDn"
      },
      "source": [
        "The cell after all of the exercises will confirm that you have successfully completed the homework. This cell will not run unless you run the autograder for each individual exercise first."
      ]
    },
    {
      "cell_type": "markdown",
      "metadata": {
        "id": "hDWIfFlIwU-P"
      },
      "source": [
        "# Exercise 1: Multiple of 3"
      ]
    },
    {
      "cell_type": "markdown",
      "source": [
        "Complete the function below to check if the parameter `value` is a multiple of 3.\n",
        "\n",
        "**Hint**: You will probably want the remainder (or modulus) operation, which is represented with the % symbol. Some examples of this operator are provided below:\n",
        "\n",
        "- `5 % 2` is `1`\n",
        "- `14 % 5` is `4`\n",
        "- `4 % 4` is `0`"
      ],
      "metadata": {
        "id": "aGwoS2jGPjnK"
      }
    },
    {
      "cell_type": "code",
      "metadata": {
        "id": "oSA16VUQwiy_"
      },
      "source": [
        "def is_multiple_of_3(value):\n",
        "    \"\"\" (int) -> bool\n",
        "\n",
        "    Return True iff value is an integer multiple of 3.\n",
        "\n",
        "    >>> is_multiple_of_3(15)\n",
        "    True\n",
        "    >>> is_multiple_of_3(7)\n",
        "    False\n",
        "    \"\"\"\n",
        "    return value % 3 == 0"
      ],
      "execution_count": 4,
      "outputs": []
    },
    {
      "cell_type": "code",
      "metadata": {
        "id": "T8Xw6CX8wlp6",
        "colab": {
          "base_uri": "https://localhost:8080/"
        },
        "outputId": "e7937b87-c6ff-4469-e64a-a655c6ececab"
      },
      "source": [
        "print(is_multiple_of_3(15))\n",
        "print(is_multiple_of_3(7))"
      ],
      "execution_count": 5,
      "outputs": [
        {
          "output_type": "stream",
          "name": "stdout",
          "text": [
            "True\n",
            "False\n"
          ]
        }
      ]
    },
    {
      "cell_type": "markdown",
      "metadata": {
        "id": "KO75J5dFwrFH"
      },
      "source": [
        "#### Run hidden code cell to evaluate Exercise 1"
      ]
    },
    {
      "cell_type": "code",
      "metadata": {
        "id": "AYTOzwNIw4gE",
        "colab": {
          "base_uri": "https://localhost:8080/"
        },
        "outputId": "d2b98cb3-ae3d-4969-e113-2eba96b7125b"
      },
      "source": [
        "# Do not edit this cell\n",
        "def check_exercise1():\n",
        "  ex_score, max_ex_score = 0, 0\n",
        "\n",
        "  ex_score += test_homework(\"15 is a multiple of 3\", is_multiple_of_3(15), True)\n",
        "  max_ex_score += 1\n",
        "  ex_score += test_homework(\"7 is not a multiple of 3\", is_multiple_of_3(8), False)\n",
        "  max_ex_score += 1\n",
        "  ex_score += test_homework(\"11 is not a multiple of 3\", is_multiple_of_3(11), False)\n",
        "  max_ex_score += 1\n",
        "  ex_score += test_homework(\"-3 is a multiple of 3\", is_multiple_of_3(-3), True)\n",
        "  max_ex_score += 1\n",
        "\n",
        "  compare_hw_scores(ex_score, max_ex_score)\n",
        "  return ex_score, max_ex_score\n",
        "\n",
        "_ = check_exercise1()"
      ],
      "execution_count": 6,
      "outputs": [
        {
          "output_type": "stream",
          "name": "stdout",
          "text": [
            "Test passed: 15 is a multiple of 3.\n",
            "Test passed: 7 is not a multiple of 3.\n",
            "Test passed: 11 is not a multiple of 3.\n",
            "Test passed: -3 is a multiple of 3.\n",
            "All test cases passed!\n",
            "Mark: 4 / 4\n"
          ]
        }
      ]
    },
    {
      "cell_type": "markdown",
      "metadata": {
        "id": "6TFoiGqDw7cZ"
      },
      "source": [
        "# Exercise 2: Multiple of a Number"
      ]
    },
    {
      "cell_type": "markdown",
      "source": [
        "Complete the function below to check if the parameter `value1` is a multiple of the parameter `value2`."
      ],
      "metadata": {
        "id": "CngtzX3XPnRV"
      }
    },
    {
      "cell_type": "code",
      "metadata": {
        "id": "KoWE2geFxEkV"
      },
      "source": [
        "def is_multiple(value1, value2):\n",
        "    \"\"\" (int, int) -> bool\n",
        "\n",
        "    Return True iff value1 is an integer multiple of value2.\n",
        "\n",
        "    >>> is_multiple(15, 3)\n",
        "    True\n",
        "    >>> is_multiple(7, 2)\n",
        "    False\n",
        "    \"\"\"\n",
        "    return value1 % value2 == 0"
      ],
      "execution_count": 7,
      "outputs": []
    },
    {
      "cell_type": "code",
      "metadata": {
        "id": "cu4dZTk1xGau",
        "colab": {
          "base_uri": "https://localhost:8080/"
        },
        "outputId": "09dc41cd-d888-4ce5-814c-e9e0abd18860"
      },
      "source": [
        "print(is_multiple(15, 3))\n",
        "print(is_multiple(7, 2))"
      ],
      "execution_count": 8,
      "outputs": [
        {
          "output_type": "stream",
          "name": "stdout",
          "text": [
            "True\n",
            "False\n"
          ]
        }
      ]
    },
    {
      "cell_type": "markdown",
      "metadata": {
        "id": "LbURaGgnxL-5"
      },
      "source": [
        "#### Run hidden code cell to evaluate Exercise 2"
      ]
    },
    {
      "cell_type": "code",
      "metadata": {
        "id": "eQrVhFprxM09",
        "colab": {
          "base_uri": "https://localhost:8080/"
        },
        "outputId": "3f158bb7-99c1-4c6f-d377-557a88076161"
      },
      "source": [
        "# Do not edit this cell\n",
        "def check_exercise2():\n",
        "  ex_score, max_ex_score = 0, 0\n",
        "\n",
        "  ex_score += test_homework(\"15 is a multiple of 3\", is_multiple(15, 3), True)\n",
        "  max_ex_score += 1\n",
        "  ex_score += test_homework(\"7 is not a multiple of 2\", is_multiple(7, 2), False)\n",
        "  max_ex_score += 1\n",
        "  ex_score += test_homework(\"-2 is a multiple of 2\", is_multiple(-2, 2), True)\n",
        "  max_ex_score += 1\n",
        "\n",
        "  compare_hw_scores(ex_score, max_ex_score)\n",
        "  return ex_score, max_ex_score\n",
        "\n",
        "_ = check_exercise2()"
      ],
      "execution_count": 9,
      "outputs": [
        {
          "output_type": "stream",
          "name": "stdout",
          "text": [
            "Test passed: 15 is a multiple of 3.\n",
            "Test passed: 7 is not a multiple of 2.\n",
            "Test passed: -2 is a multiple of 2.\n",
            "All test cases passed!\n",
            "Mark: 3 / 3\n"
          ]
        }
      ]
    },
    {
      "cell_type": "markdown",
      "metadata": {
        "id": "JaiexZJjTnPr"
      },
      "source": [
        "# Exercise 3: Fecal Occult Blood Test"
      ]
    },
    {
      "cell_type": "markdown",
      "source": [
        "It is recommended that a focal occult blood test (FOBT) is given once every year for colorectal cancer screening. The patient brings home a kit to do the testing and sends it back to the lab. There are three tests within the kit and each test result is either negative or positive. If all three are negative, the test will be repeated in a year. If at least 1 of the 3 comes back positive, then the patient should be sent for a colonoscopy.\n",
        "\n",
        "Write a function `fobt()` that has three Boolean parameters representing the results of the three tests. We will use `True` to represent a positive test and `False` to represent a negative test. Your function should either return `'Repeat tests in 1 year'` or `'Book for colonoscopy'` according to the test results."
      ],
      "metadata": {
        "id": "VrAlGwqVPsnN"
      }
    },
    {
      "cell_type": "code",
      "metadata": {
        "id": "fBR-Zz5_T6w2"
      },
      "source": [
        "# Write your function here, including the docstring\n",
        "def fobt(test1, test2, test3):\n",
        "    \"\"\"\n",
        "    (bool, bool, bool) -> str\n",
        "\n",
        "    Return 'Repeat tests in 1 year' if all three tests are negative.\n",
        "    Return 'Book for colonoscopy' if at least one test is positive.\n",
        "    \"\"\"\n",
        "    if (test1 == False) and (test2 == False) and (test3 == False):\n",
        "      return 'Repeat tests in 1 year'\n",
        "    else:\n",
        "      return 'Book for colonoscopy'"
      ],
      "execution_count": 10,
      "outputs": []
    },
    {
      "cell_type": "code",
      "metadata": {
        "id": "hVnQvxEhT-cR",
        "colab": {
          "base_uri": "https://localhost:8080/"
        },
        "outputId": "d7126140-56ff-43d0-d412-4270650e867e"
      },
      "source": [
        "print(fobt(True, False, False))\n",
        "print(fobt(False, False, False))\n",
        "print(fobt(True, True, False))"
      ],
      "execution_count": 11,
      "outputs": [
        {
          "output_type": "stream",
          "name": "stdout",
          "text": [
            "Book for colonoscopy\n",
            "Repeat tests in 1 year\n",
            "Book for colonoscopy\n"
          ]
        }
      ]
    },
    {
      "cell_type": "markdown",
      "metadata": {
        "id": "QBFJaXPUmIrV"
      },
      "source": [
        "#### Run the hidden code cell to evaluate Exercise 3"
      ]
    },
    {
      "cell_type": "code",
      "metadata": {
        "cellView": "form",
        "id": "LoqPu0ymUJX0",
        "jupyter": {
          "source_hidden": true
        },
        "colab": {
          "base_uri": "https://localhost:8080/"
        },
        "outputId": "c6a5106e-5aba-4e7a-9207-d6cda9a979e2"
      },
      "source": [
        "# Do not edit this cell\n",
        "def check_exercise3():\n",
        "  ex_score, max_ex_score = 0, 0\n",
        "\n",
        "  ex_score += test_homework(\"Only first test is positive\", fobt(True, False, False), \"Book for colonoscopy\")\n",
        "  max_ex_score += 1\n",
        "  ex_score += test_homework(\"Only second test is positive\", fobt(False, True, False), \"Book for colonoscopy\")\n",
        "  max_ex_score += 1\n",
        "  ex_score += test_homework(\"All tests are negative\", fobt(False, False, False), \"Repeat tests in 1 year\")\n",
        "  max_ex_score += 1\n",
        "  ex_score += test_homework(\"First and third tests positive\", fobt(False, True, False), \"Book for colonoscopy\")\n",
        "  max_ex_score += 1\n",
        "  ex_score += test_homework(\"All tests are positive\", fobt(True, False, True), \"Book for colonoscopy\")\n",
        "  max_ex_score += 1\n",
        "\n",
        "  compare_hw_scores(ex_score, max_ex_score)\n",
        "  return ex_score, max_ex_score\n",
        "\n",
        "_ = check_exercise3()"
      ],
      "execution_count": 12,
      "outputs": [
        {
          "output_type": "stream",
          "name": "stdout",
          "text": [
            "Test passed: Only first test is positive.\n",
            "Test passed: Only second test is positive.\n",
            "Test passed: All tests are negative.\n",
            "Test passed: First and third tests positive.\n",
            "Test passed: All tests are positive.\n",
            "All test cases passed!\n",
            "Mark: 5 / 5\n"
          ]
        }
      ]
    },
    {
      "cell_type": "markdown",
      "metadata": {
        "id": "LQCKVkhjXBMN"
      },
      "source": [
        "# Exercise 4: Checking String Casing"
      ]
    },
    {
      "cell_type": "markdown",
      "source": [
        "Complete the function below to check if a string contains all uppercase or all lowercase letters."
      ],
      "metadata": {
        "id": "ClHyZI1DPyeZ"
      }
    },
    {
      "cell_type": "code",
      "metadata": {
        "id": "tzRgF_iyXHas"
      },
      "source": [
        "def upper_lower(s):\n",
        "    \"\"\" (str) -> bool\n",
        "\n",
        "    Return True if and only if there is at least one alphabetic character in s\n",
        "    and the alphabetic characters in s are either all uppercase or all lowercase.\n",
        "\n",
        "    >>> upper_lower('abc')\n",
        "    True\n",
        "    >>> upper_lower('abcXYZ')\n",
        "    False\n",
        "    >>> upper_lower('XYZ')\n",
        "    True\n",
        "    \"\"\"\n",
        "    # If the string has letters, then its uppercase and lowercase versions\n",
        "    # will be different\n",
        "    contains_alphabetic = s.upper() != s.lower()\n",
        "\n",
        "    # These methods check the casing of all letters\n",
        "    all_upper = s.isupper()\n",
        "    all_lower = s.islower()\n",
        "    return contains_alphabetic and (all_upper or all_lower)"
      ],
      "execution_count": 13,
      "outputs": []
    },
    {
      "cell_type": "code",
      "metadata": {
        "id": "gPPBe6YmXPSH",
        "colab": {
          "base_uri": "https://localhost:8080/"
        },
        "outputId": "e222b448-f113-456e-a319-aa4b46db09af"
      },
      "source": [
        "print(upper_lower('abc'))\n",
        "print(upper_lower('abcXYZ'))\n",
        "print(upper_lower('XYZ'))"
      ],
      "execution_count": 14,
      "outputs": [
        {
          "output_type": "stream",
          "name": "stdout",
          "text": [
            "True\n",
            "False\n",
            "True\n"
          ]
        }
      ]
    },
    {
      "cell_type": "markdown",
      "metadata": {
        "id": "9OCg73almIrW"
      },
      "source": [
        "#### Run hidden code cell to evaluate Exercise 4"
      ]
    },
    {
      "cell_type": "code",
      "metadata": {
        "id": "8HeC-ozmXgpg",
        "jupyter": {
          "source_hidden": true
        },
        "colab": {
          "base_uri": "https://localhost:8080/"
        },
        "outputId": "655ac997-1ee6-4841-abf3-201a2be05116"
      },
      "source": [
        "# Do not edit this cell\n",
        "def check_exercise4():\n",
        "  ex_score, max_ex_score = 0, 0\n",
        "\n",
        "  ex_score += test_homework(\"All lowercase\", upper_lower('abcdef'), True)\n",
        "  max_ex_score += 1\n",
        "  ex_score += test_homework(\"All uppercase\", upper_lower('ABCDEF'), True)\n",
        "  max_ex_score += 1\n",
        "  ex_score += test_homework(\"Mix of upper and lower\", upper_lower('abcXYZ'), False)\n",
        "  max_ex_score += 1\n",
        "  ex_score += test_homework(\"Mix of letters and non-letters\", upper_lower('XYZ123'), True)\n",
        "  max_ex_score += 1\n",
        "  ex_score += test_homework(\"All numeric\", upper_lower('123'), False)\n",
        "  max_ex_score += 1\n",
        "\n",
        "  compare_hw_scores(ex_score, max_ex_score)\n",
        "  return ex_score, max_ex_score\n",
        "\n",
        "_ = check_exercise4()"
      ],
      "execution_count": 15,
      "outputs": [
        {
          "output_type": "stream",
          "name": "stdout",
          "text": [
            "Test passed: All lowercase.\n",
            "Test passed: All uppercase.\n",
            "Test passed: Mix of upper and lower.\n",
            "Test passed: Mix of letters and non-letters.\n",
            "Test passed: All numeric.\n",
            "All test cases passed!\n",
            "Mark: 5 / 5\n"
          ]
        }
      ]
    },
    {
      "cell_type": "markdown",
      "metadata": {
        "id": "w0gmV_f9yJwu"
      },
      "source": [
        "# Check Homework Completion"
      ]
    },
    {
      "cell_type": "markdown",
      "source": [
        "Run this cell to make sure you have completed all of the exercises."
      ],
      "metadata": {
        "id": "fz0a_SVZd8e7"
      }
    },
    {
      "cell_type": "code",
      "metadata": {
        "id": "1nPQEMQkuBjr",
        "jupyter": {
          "source_hidden": true
        },
        "colab": {
          "base_uri": "https://localhost:8080/"
        },
        "outputId": "f8b3169c-11ba-4d4a-d17e-0048ddb684ff"
      },
      "source": [
        "# Do not edit this cell\n",
        "hw_score, max_hw_score = 0, 0\n",
        "\n",
        "try:\n",
        "  ex1_score, max_ex1_score = check_exercise1()\n",
        "  hw_score += ex1_score\n",
        "  max_hw_score += max_ex1_score\n",
        "\n",
        "  ex2_score, max_ex2_score = check_exercise2()\n",
        "  hw_score += ex2_score\n",
        "  max_hw_score += max_ex2_score\n",
        "\n",
        "  ex3_score, max_ex3_score = check_exercise3()\n",
        "  hw_score += ex3_score\n",
        "  max_hw_score += max_ex3_score\n",
        "\n",
        "  ex4_score, max_ex4_score = check_exercise4()\n",
        "  hw_score += ex4_score\n",
        "  max_hw_score += max_ex4_score\n",
        "\n",
        "except NameError:\n",
        "  raise Exception(\"Autograder failed to run. You have either not completed all of the exercises or did not run the entire notebook\")\n",
        "\n",
        "compare_hw_scores(hw_score, max_hw_score)"
      ],
      "execution_count": 16,
      "outputs": [
        {
          "output_type": "stream",
          "name": "stdout",
          "text": [
            "Test passed: 15 is a multiple of 3.\n",
            "Test passed: 7 is not a multiple of 3.\n",
            "Test passed: 11 is not a multiple of 3.\n",
            "Test passed: -3 is a multiple of 3.\n",
            "All test cases passed!\n",
            "Mark: 4 / 4\n",
            "Test passed: 15 is a multiple of 3.\n",
            "Test passed: 7 is not a multiple of 2.\n",
            "Test passed: -2 is a multiple of 2.\n",
            "All test cases passed!\n",
            "Mark: 3 / 3\n",
            "Test passed: Only first test is positive.\n",
            "Test passed: Only second test is positive.\n",
            "Test passed: All tests are negative.\n",
            "Test passed: First and third tests positive.\n",
            "Test passed: All tests are positive.\n",
            "All test cases passed!\n",
            "Mark: 5 / 5\n",
            "Test passed: All lowercase.\n",
            "Test passed: All uppercase.\n",
            "Test passed: Mix of upper and lower.\n",
            "Test passed: Mix of letters and non-letters.\n",
            "Test passed: All numeric.\n",
            "All test cases passed!\n",
            "Mark: 5 / 5\n",
            "All test cases passed!\n",
            "Mark: 17 / 17\n"
          ]
        }
      ]
    },
    {
      "cell_type": "markdown",
      "source": [
        "# Prepare Submission"
      ],
      "metadata": {
        "id": "NvWnOApDRK4P"
      }
    },
    {
      "cell_type": "markdown",
      "source": [
        "To get full credit for this assignment, you should submit your assignment in two formats so that we can easily grade and debug your code:\n",
        "1. **.ipynb:** First, confirm that your code can run from start to finish without any errors. To check this, go to \"Runtime\" > \"Run all\" in the Google Colab menu. If everything looks good, you can export your file by going to \"File\" > \"Download\" > \"Download .ipynb\".\n",
        "2. **.pdf:** Run the function called `colab2pdf()` below. This will automatically convert your notebook to a PDF. Note that while \"File\" > \"Print\" > \"Save as PDF\" also works, it requires you to manually expand all of the cells and may cut off some images."
      ],
      "metadata": {
        "id": "FmZhTZTraQGQ"
      }
    },
    {
      "cell_type": "code",
      "source": [
        "colab2pdf()"
      ],
      "metadata": {
        "colab": {
          "base_uri": "https://localhost:8080/",
          "height": 17
        },
        "id": "KOGsHYKWS8uK",
        "outputId": "d19c59a8-9b3b-4f5e-d0bd-0fddf337bea7"
      },
      "execution_count": 17,
      "outputs": [
        {
          "output_type": "display_data",
          "data": {
            "text/plain": [
              "<IPython.core.display.Javascript object>"
            ],
            "application/javascript": [
              "\n",
              "    async function download(id, filename, size) {\n",
              "      if (!google.colab.kernel.accessAllowed) {\n",
              "        return;\n",
              "      }\n",
              "      const div = document.createElement('div');\n",
              "      const label = document.createElement('label');\n",
              "      label.textContent = `Downloading \"${filename}\": `;\n",
              "      div.appendChild(label);\n",
              "      const progress = document.createElement('progress');\n",
              "      progress.max = size;\n",
              "      div.appendChild(progress);\n",
              "      document.body.appendChild(div);\n",
              "\n",
              "      const buffers = [];\n",
              "      let downloaded = 0;\n",
              "\n",
              "      const channel = await google.colab.kernel.comms.open(id);\n",
              "      // Send a message to notify the kernel that we're ready.\n",
              "      channel.send({})\n",
              "\n",
              "      for await (const message of channel.messages) {\n",
              "        // Send a message to notify the kernel that we're ready.\n",
              "        channel.send({})\n",
              "        if (message.buffers) {\n",
              "          for (const buffer of message.buffers) {\n",
              "            buffers.push(buffer);\n",
              "            downloaded += buffer.byteLength;\n",
              "            progress.value = downloaded;\n",
              "          }\n",
              "        }\n",
              "      }\n",
              "      const blob = new Blob(buffers, {type: 'application/binary'});\n",
              "      const a = document.createElement('a');\n",
              "      a.href = window.URL.createObjectURL(blob);\n",
              "      a.download = filename;\n",
              "      div.appendChild(a);\n",
              "      a.click();\n",
              "      div.remove();\n",
              "    }\n",
              "  "
            ]
          },
          "metadata": {}
        },
        {
          "output_type": "display_data",
          "data": {
            "text/plain": [
              "<IPython.core.display.Javascript object>"
            ],
            "application/javascript": [
              "download(\"download_1a5caf89-abe8-4621-af4c-a4985c14876c\", \"HW1-2_Answers.pdf\", 40475)"
            ]
          },
          "metadata": {}
        }
      ]
    }
  ]
}