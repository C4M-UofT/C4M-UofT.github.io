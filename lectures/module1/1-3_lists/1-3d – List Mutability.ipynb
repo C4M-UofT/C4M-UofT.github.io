{
  "cells": [
    {
      "cell_type": "markdown",
      "metadata": {
        "id": "bQOs2zJoNdxz"
      },
      "source": [
        "# List Methods and Mutability"
      ]
    },
    {
      "cell_type": "markdown",
      "metadata": {
        "id": "NH7HDKSGrxzH"
      },
      "source": [
        "## What Is Mutability?"
      ]
    },
    {
      "cell_type": "markdown",
      "metadata": {
        "id": "YDWY_bOR5EHF"
      },
      "source": [
        "An object is said to be ***mutable*** if it can be modified after it has been created.\n",
        "\n",
        "Data types like `int`, `float`, and `str` are immutable, while lists are mutable. Here is an example of a list being changed:"
      ]
    },
    {
      "cell_type": "code",
      "execution_count": null,
      "metadata": {
        "id": "WjOs6AC-Ndx4"
      },
      "outputs": [],
      "source": [
        "earnings = [361681, 740741, 396105,  284600, 249154]\n",
        "print(earnings)\n",
        "\n",
        "# To modify an item, we can use indexing and an assignment statement\n",
        "earnings[1] = earnings[1] - 250000\n",
        "print(earnings)"
      ]
    },
    {
      "cell_type": "markdown",
      "metadata": {
        "id": "S_t1nhknNdx6"
      },
      "source": [
        "## `list` methods"
      ]
    },
    {
      "cell_type": "markdown",
      "source": [
        "Many list methods modify the original list:"
      ],
      "metadata": {
        "id": "V7X4AYnPvaXL"
      }
    },
    {
      "cell_type": "code",
      "execution_count": null,
      "metadata": {
        "id": "p9kTqtnzNdx7"
      },
      "outputs": [],
      "source": [
        "# Adds the argument to the end of the list\n",
        "earnings.append(740741)\n",
        "print(earnings)"
      ]
    },
    {
      "cell_type": "code",
      "execution_count": null,
      "metadata": {
        "id": "hMpr2liaNdx8"
      },
      "outputs": [],
      "source": [
        "# Append the items in the list argument to the list\n",
        "earnings.extend([200000, 300000, 400000])\n",
        "print(earnings)"
      ]
    },
    {
      "cell_type": "code",
      "execution_count": null,
      "metadata": {
        "id": "Cr_MoVtwNdx9"
      },
      "outputs": [],
      "source": [
        " # Removes and returns the last item in the list\n",
        "print(earnings.pop())\n",
        "print(earnings)"
      ]
    },
    {
      "cell_type": "code",
      "execution_count": null,
      "metadata": {
        "id": "bc9cCpNlNdx-"
      },
      "outputs": [],
      "source": [
        "# Removes and returns the item at the given index\n",
        "print(earnings.pop(1))\n",
        "print(earnings)"
      ]
    },
    {
      "cell_type": "code",
      "execution_count": null,
      "metadata": {
        "id": "LJ0w5L4iNd0O"
      },
      "outputs": [],
      "source": [
        "# Removes the first occurence of the argument; error if argument not in list\n",
        "earnings.remove(200000)\n",
        "print(earnings)"
      ]
    },
    {
      "cell_type": "code",
      "execution_count": null,
      "metadata": {
        "id": "8qUBj5YTNd0O"
      },
      "outputs": [],
      "source": [
        "# Reverses the list\n",
        "earnings.reverse()\n",
        "print(earnings)"
      ]
    },
    {
      "cell_type": "code",
      "execution_count": null,
      "metadata": {
        "id": "qqXWTQuGNd0P"
      },
      "outputs": [],
      "source": [
        "# Sorts the list\n",
        "earnings.sort()\n",
        "print(earnings)"
      ]
    },
    {
      "cell_type": "code",
      "execution_count": null,
      "metadata": {
        "id": "kDq5DsyJNd0T"
      },
      "outputs": [],
      "source": [
        "# Inserts the object at the given index, moving items to make room\n",
        "earnings.insert(1, 250000)\n",
        "print(earnings)"
      ]
    },
    {
      "cell_type": "markdown",
      "metadata": {
        "id": "zCuTRtDxNd0U"
      },
      "source": [
        "There are also methods that given information about lists, but don't modify them:"
      ]
    },
    {
      "cell_type": "code",
      "execution_count": null,
      "metadata": {
        "id": "lA51ga9JNd0U"
      },
      "outputs": [],
      "source": [
        "L = ['a', 'b', 'c', 'b', 'b', 'a']"
      ]
    },
    {
      "cell_type": "code",
      "execution_count": null,
      "metadata": {
        "id": "aFPrPaIl4Fe7"
      },
      "outputs": [],
      "source": [
        "# Counts the number of occurences of 'b' in list L\n",
        "L.count('b')"
      ]
    },
    {
      "cell_type": "code",
      "execution_count": null,
      "metadata": {
        "id": "KXRBVtYONd0V"
      },
      "outputs": [],
      "source": [
        " # Returns the index of the first occurence of 'b' in list L; error if not present\n",
        "L.index('b')"
      ]
    },
    {
      "cell_type": "markdown",
      "metadata": {
        "id": "s9jrG-LJNd0W"
      },
      "source": [
        "## List Accumulators"
      ]
    },
    {
      "cell_type": "markdown",
      "source": [
        "Using what we know about list mutability, we can now sequentially update a list as its own accumulator to collect results as we traverse a collection."
      ],
      "metadata": {
        "id": "uwggp2U3cjlA"
      }
    },
    {
      "cell_type": "markdown",
      "metadata": {
        "id": "jatEz-Za6G4i"
      },
      "source": [
        "Let's imagine that we need to scale a list of measurements by a multiplicative factor. There are two ways we can achieve this."
      ]
    },
    {
      "cell_type": "markdown",
      "metadata": {
        "id": "BuuNCxlFNd0Y"
      },
      "source": [
        "In this first solution, we will modify the original list directly:"
      ]
    },
    {
      "cell_type": "code",
      "execution_count": null,
      "metadata": {
        "id": "UwVlmqfHNd0Y"
      },
      "outputs": [],
      "source": [
        "def scale_measurements(measurements, factor):\n",
        "    \"\"\" (list of number, int) -> NoneType\n",
        "\n",
        "    Modify measurements so that it contains the original values scaled by\n",
        "    factor, in the same order as they originally appeared.\n",
        "\n",
        "    >>> L = [1, 2, 3, 4]\n",
        "    >>> scale_measurements(L, 3)\n",
        "    >>> L\n",
        "    >>> L = [1, 2, 108, 3, 4]\n",
        "    >>> scale_measurements(L, 50)\n",
        "    >>> L\n",
        "    >>> L = []\n",
        "    >>> scale_measurements(L, 7)\n",
        "    >>> L\n",
        "    \"\"\"\n",
        "\n",
        "    for i in range(len(measurements)):\n",
        "        measurements[i] = measurements[i] * factor"
      ]
    },
    {
      "cell_type": "markdown",
      "metadata": {
        "id": "J3HMn3FYNd0Z"
      },
      "source": [
        "Notice how this function does not contain a `return` statement. It does not actually need to return anything new because it is modifying the list that was passed as an argument instead. Recall that functions without a `return` statement provide the value `None`."
      ]
    },
    {
      "cell_type": "code",
      "execution_count": null,
      "metadata": {
        "id": "y_hlUlI37x1V"
      },
      "outputs": [],
      "source": [
        "L = [1, 2, 108, 3, 4]\n",
        "result = scale_measurements(L, 4)\n",
        "print(L)\n",
        "print(result)"
      ]
    },
    {
      "cell_type": "markdown",
      "metadata": {
        "id": "M54sVg4bNd0W"
      },
      "source": [
        "In this second solution, we will iteratively build up a new list as an accumulator:"
      ]
    },
    {
      "cell_type": "code",
      "execution_count": null,
      "metadata": {
        "id": "vlvSegtnNd0X"
      },
      "outputs": [],
      "source": [
        "def get_scaled_measurements(measurements, factor):\n",
        "    \"\"\" (list of number, int) -> list of number\n",
        "\n",
        "    Return a new list consisting of the values from measurements scaled by\n",
        "    factor, in the same order as in measurements.\n",
        "\n",
        "    >>> get_scaled_measurements([1, 2, 3, 4], 3)\n",
        "    [3, 6, 9, 12]\n",
        "    >>> get_scaled_measurements([1, 2, 108, 3, 4], 50)\n",
        "    [50, 100, 5400, 150, 200]\n",
        "    >>> get_scaled_measurements([], 7)\n",
        "    []\n",
        "    \"\"\"\n",
        "\n",
        "    scaled_measurements = []\n",
        "\n",
        "    for i in range(len(measurements)):\n",
        "        scaled_measurements.append(measurements[i] * factor)\n",
        "\n",
        "    return scaled_measurements"
      ]
    },
    {
      "cell_type": "markdown",
      "metadata": {
        "id": "J3o_fCupNd0X"
      },
      "source": [
        "Notice that the list passed as an argument to this function is not changed by the function call:"
      ]
    },
    {
      "cell_type": "code",
      "execution_count": null,
      "metadata": {
        "id": "iifDh5iMNd0Y"
      },
      "outputs": [],
      "source": [
        "L = [1, 2, 108, 3, 4]\n",
        "scaled_L = get_scaled_measurements(L, 50)\n",
        "print(L)\n",
        "print(scaled_L)"
      ]
    },
    {
      "cell_type": "markdown",
      "metadata": {
        "id": "9STi-gEENd0Z"
      },
      "source": [
        "## Practice Exercise: Building a New `list`"
      ]
    },
    {
      "cell_type": "markdown",
      "source": [
        "Complete the following function according to its docstring description:"
      ],
      "metadata": {
        "id": "ONJb5hwKvdWj"
      }
    },
    {
      "cell_type": "code",
      "execution_count": null,
      "metadata": {
        "id": "_QnbSb1NNd0Z"
      },
      "outputs": [],
      "source": [
        "def report_digits(original_list):\n",
        "    \"\"\" (list of str) -> list of bool\n",
        "\n",
        "    >>> report_digits(['98', 'a', '5'])\n",
        "    [True, False, True]\n",
        "\n",
        "    Return a new list in which each item is True if the corresponding item from\n",
        "    original_list is composed entirely of digits, and False otherwise.\n",
        "    \"\"\"\n",
        "    # Write your code here"
      ]
    },
    {
      "cell_type": "code",
      "execution_count": null,
      "metadata": {
        "id": "ck0O5znWD8ma"
      },
      "outputs": [],
      "source": [
        "L = ['98', 'a', '5']\n",
        "result = report_digits(L)\n",
        "print(L) # This should be ['98', 'a', '5']\n",
        "print(result) # This should be [True, False, True]"
      ]
    },
    {
      "cell_type": "markdown",
      "metadata": {
        "id": "iVFZqSMZD0rr"
      },
      "source": [
        "**Hint:** Remember that you can use the `isdigit()` method to check if a string only contains digits"
      ]
    },
    {
      "cell_type": "markdown",
      "metadata": {
        "id": "t-KzabwHNd0Z"
      },
      "source": [
        "## Practice Exercise: Modifying an Existing `list`"
      ]
    },
    {
      "cell_type": "markdown",
      "source": [
        "Complete the following function according to its docstring description:"
      ],
      "metadata": {
        "id": "LfVacHaTve_4"
      }
    },
    {
      "cell_type": "code",
      "execution_count": null,
      "metadata": {
        "id": "YZpwLYnpNd0a"
      },
      "outputs": [],
      "source": [
        "def replace_digits(original_list):\n",
        "    \"\"\" (list of str) -> NoneType\n",
        "\n",
        "    >>> data = ['98', 'a', '5']\n",
        "    >>> replace_digits(data)\n",
        "    >>> data\n",
        "\n",
        "    Replace each item in original_list with True if it is composed entirely of digits,\n",
        "    and with False otherwise.\n",
        "    \"\"\"\n",
        "    # Write your code here"
      ]
    },
    {
      "cell_type": "code",
      "execution_count": null,
      "metadata": {
        "id": "HqdCHlGKD_nO"
      },
      "outputs": [],
      "source": [
        "L = ['98', 'a', '5']\n",
        "result = replace_digits(L)\n",
        "print(L) # This should be [True, False, True]\n",
        "print(result) # This should be None"
      ]
    }
  ],
  "metadata": {
    "colab": {
      "provenance": []
    },
    "kernelspec": {
      "display_name": "Python 3",
      "language": "python",
      "name": "python3"
    },
    "language_info": {
      "codemirror_mode": {
        "name": "ipython",
        "version": 3
      },
      "file_extension": ".py",
      "mimetype": "text/x-python",
      "name": "python",
      "nbconvert_exporter": "python",
      "pygments_lexer": "ipython3",
      "version": "3.6.13"
    }
  },
  "nbformat": 4,
  "nbformat_minor": 0
}