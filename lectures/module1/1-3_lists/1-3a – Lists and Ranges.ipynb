{
  "cells": [
    {
      "cell_type": "markdown",
      "metadata": {
        "id": "IRyUso2YNdTs"
      },
      "source": [
        "# Lists and Ranges"
      ]
    },
    {
      "cell_type": "markdown",
      "metadata": {
        "id": "LZa116YEVfz_"
      },
      "source": [
        "## What Is a `list`?"
      ]
    },
    {
      "cell_type": "markdown",
      "metadata": {
        "id": "3CpWio5nNdTz"
      },
      "source": [
        "We can store collections of data using Python's type `list`. The general form of a `list` is:\n",
        "\n",
        "`[expression1, expression2, ..., expressionN]`\n",
        "\n",
        "The expressions within the `list` can either be called ***items*** or ***elements***."
      ]
    },
    {
      "cell_type": "markdown",
      "metadata": {
        "id": "PEbrF9ReWPPI"
      },
      "source": [
        "For example, if we want to annual salaries of people in a company, we can store the data in Python as follows:"
      ]
    },
    {
      "cell_type": "code",
      "execution_count": null,
      "metadata": {
        "id": "8tN6AFlNNdT1"
      },
      "outputs": [],
      "source": [
        "earnings = [361681, 740741, 396105, 284600, 249154]"
      ]
    },
    {
      "cell_type": "markdown",
      "metadata": {
        "id": "x7xiMrsKNdT2"
      },
      "source": [
        "Just like we did with strings, you can access elements of a list using its index. In other words, you can think of a string as a list of characters!\n"
      ]
    },
    {
      "cell_type": "code",
      "execution_count": null,
      "metadata": {
        "id": "EwQ4YEGTNdT3"
      },
      "outputs": [],
      "source": [
        "earnings[0]"
      ]
    },
    {
      "cell_type": "code",
      "execution_count": null,
      "metadata": {
        "id": "eDVocNSWNdT4"
      },
      "outputs": [],
      "source": [
        "earnings[1]"
      ]
    },
    {
      "cell_type": "code",
      "execution_count": null,
      "metadata": {
        "id": "l-2lhSoENdT5"
      },
      "outputs": [],
      "source": [
        "earnings[4]"
      ]
    },
    {
      "cell_type": "markdown",
      "metadata": {
        "id": "qpalV4KlNdX7"
      },
      "source": [
        "If we try to access an index that doesn't exist, an error occurs:"
      ]
    },
    {
      "cell_type": "code",
      "execution_count": null,
      "metadata": {
        "id": "F0aWzLciNdX8"
      },
      "outputs": [],
      "source": [
        "earnings[5]"
      ]
    },
    {
      "cell_type": "markdown",
      "metadata": {
        "id": "lyYdk6akNdX8"
      },
      "source": [
        "The expression `earnings[2]` access a numerical value, so you can use the expression `earnings[2]` anywhere that you can use a number. For example:"
      ]
    },
    {
      "cell_type": "code",
      "execution_count": null,
      "metadata": {
        "id": "rwMkgdLnNdX9"
      },
      "outputs": [],
      "source": [
        "0.6 * (earnings[2] + 500)"
      ]
    },
    {
      "cell_type": "markdown",
      "metadata": {
        "id": "RlvCwNraNdX9"
      },
      "source": [
        "You can access an element of a list by using a variable or an expression to represent the index:"
      ]
    },
    {
      "cell_type": "code",
      "execution_count": null,
      "metadata": {
        "id": "3a5StarDNdX9"
      },
      "outputs": [],
      "source": [
        "i = 2\n",
        "earnings[i]"
      ]
    },
    {
      "cell_type": "markdown",
      "metadata": {
        "id": "PDT8QpAiNdX_"
      },
      "source": [
        "## Functions and Operations on Lists\n",
        "As we did for objects of type `str`, we can obtain the length of a `list` using Python's function `len()`.  "
      ]
    },
    {
      "cell_type": "code",
      "execution_count": null,
      "metadata": {
        "id": "UErFA3npTvx4"
      },
      "outputs": [],
      "source": [
        "values = [1, 2, 3, 4, 5]"
      ]
    },
    {
      "cell_type": "code",
      "execution_count": null,
      "metadata": {
        "id": "m7ogoyyJNdX_"
      },
      "outputs": [],
      "source": [
        "len(values)"
      ]
    },
    {
      "cell_type": "markdown",
      "metadata": {
        "id": "IcP7llU8NdX_"
      },
      "source": [
        "Since the list has 5 elements, the valid indeces into the list are 0, 1, 2, 3, and 4. In general, the last index is equal to the length of the list minus one:"
      ]
    },
    {
      "cell_type": "code",
      "execution_count": null,
      "metadata": {
        "id": "LMm-I-n2NdYA"
      },
      "outputs": [],
      "source": [
        "print(\"The index of the last element:\", len(values)-1)\n",
        "print(\"The last element using an expression:\", values[len(values)-1])"
      ]
    },
    {
      "cell_type": "markdown",
      "metadata": {
        "id": "8oQm0qD_NdYA"
      },
      "source": [
        "Recall that we can use negative indeces to access the elements of a list, with the index -1 corresponding with the rightmost element:"
      ]
    },
    {
      "cell_type": "code",
      "execution_count": null,
      "metadata": {
        "id": "g9Hrp_P0NdYB"
      },
      "outputs": [],
      "source": [
        "print(values[-1])  # same as earnings[len(earnings)-1]\n",
        "print(values[-2])  # same as earnings[len(earnings)-2]"
      ]
    },
    {
      "cell_type": "markdown",
      "metadata": {
        "id": "wGti1dfbTUYo"
      },
      "source": [
        "You can also slice the list just like we did with strings earlier:"
      ]
    },
    {
      "cell_type": "code",
      "execution_count": null,
      "metadata": {
        "id": "ZGvdXDfqTTZv"
      },
      "outputs": [],
      "source": [
        "print(values[1:3])\n",
        "print(values[0:4])"
      ]
    },
    {
      "cell_type": "markdown",
      "metadata": {
        "id": "PYeaMaNRNdYB"
      },
      "source": [
        "There are several other functions that can take lists as arguments, including `min()`, `max()`, and `sum()`:"
      ]
    },
    {
      "cell_type": "code",
      "execution_count": null,
      "metadata": {
        "id": "m1qHtff6NdYC"
      },
      "outputs": [],
      "source": [
        "print(min(values))\n",
        "print(max(values))\n",
        "print(sum(values))"
      ]
    },
    {
      "cell_type": "markdown",
      "metadata": {
        "id": "POgs628hNdYC"
      },
      "source": [
        "We can also use the operator `in` to check whether something is an element in a list:"
      ]
    },
    {
      "cell_type": "code",
      "execution_count": null,
      "metadata": {
        "id": "ZFyWkn3MNdYC"
      },
      "outputs": [],
      "source": [
        "5 in values"
      ]
    },
    {
      "cell_type": "code",
      "execution_count": null,
      "metadata": {
        "id": "t5Wx0GjrNdYC"
      },
      "outputs": [],
      "source": [
        "17 in values"
      ]
    },
    {
      "cell_type": "markdown",
      "source": [
        "Recall that with strings, using the `in` operator checks whether a given value is a substring of another string. That is not quite the same here. In the context of lists, the `in` operator specifically checks whether the specified value is an element in the list. That means is the specified value is a sequence, the `in` operator checks if the ***entire sequence*** is a single element in the list."
      ],
      "metadata": {
        "id": "USbbYcDahMJu"
      }
    },
    {
      "cell_type": "code",
      "source": [
        "# Strings\n",
        "print('h' in 'hello')\n",
        "print('he' in 'hello')"
      ],
      "metadata": {
        "id": "KBf8FsUuhicY"
      },
      "execution_count": null,
      "outputs": []
    },
    {
      "cell_type": "code",
      "source": [
        "# Lists\n",
        "print(4 in [1, 2, 3, 4, 5])\n",
        "print([4, 5] in [1, 2, 3, 4, 5])"
      ],
      "metadata": {
        "id": "l1Nd8OPxiRkl"
      },
      "execution_count": null,
      "outputs": []
    },
    {
      "cell_type": "markdown",
      "metadata": {
        "id": "iq-0Pg8zb1oc"
      },
      "source": [
        "## Practice Exercise: Computing an Average"
      ]
    },
    {
      "cell_type": "markdown",
      "metadata": {
        "id": "oNGQOMIkb5bw"
      },
      "source": [
        "Write an expression that computes the average of `values`.\n",
        "\n"
      ]
    },
    {
      "cell_type": "code",
      "execution_count": null,
      "metadata": {
        "id": "bbJgLNzlcAgO"
      },
      "outputs": [],
      "source": [
        "values = [5.4, 6, 3.2, 8.1, 11]\n",
        "# Write your code here"
      ]
    },
    {
      "cell_type": "markdown",
      "metadata": {
        "id": "QRK9ni0bcsfP"
      },
      "source": [
        "## What Is a `range`?"
      ]
    },
    {
      "cell_type": "markdown",
      "metadata": {
        "id": "HSDPMFGDNdYD"
      },
      "source": [
        "Python has a built-in function named `range()` that produces a sequence of numbers.  Here is a fragment of the documentation for `range`:\n",
        "\n",
        "    range(start, stop[, step]) -> range object\n",
        "     |  \n",
        "     |  Return an object that produces a sequence of integers from start (inclusive)\n",
        "     |  to stop (exclusive) by step.  range(i, j) produces i, i+1, i+2, ..., j-1.\n",
        "     |  start defaults to 0, and stop is omitted!  range(4) produces 0, 1, 2, 3.\n",
        "     |  These are exactly the valid indices for a list of 4 elements.\n",
        "     |  When step is given, it specifies the increment (or decrement)."
      ]
    },
    {
      "cell_type": "markdown",
      "metadata": {
        "id": "zgLbbWx4c6Zt"
      },
      "source": [
        "If you give `range()` a single argument, it produces a sequence that starts from 0 and goes up to but not including the argument:"
      ]
    },
    {
      "cell_type": "code",
      "execution_count": null,
      "metadata": {
        "id": "1pRF-8Djc0Ve"
      },
      "outputs": [],
      "source": [
        "range(10)"
      ]
    },
    {
      "cell_type": "markdown",
      "metadata": {
        "id": "0uSkey-pdYNE"
      },
      "source": [
        "Notice how the Python shell does not show all of the numbers for us. This is because `range()` produces a special kind of object that does not get fully evaluated until it is actually needed. If you really need to look at the contents for some reason, you can make it into a `list`:"
      ]
    },
    {
      "cell_type": "code",
      "execution_count": null,
      "metadata": {
        "id": "0jrKnbMlhu7f"
      },
      "outputs": [],
      "source": [
        "list(range(10))"
      ]
    },
    {
      "cell_type": "markdown",
      "metadata": {
        "id": "f7RDhYzwiCvR"
      },
      "source": [
        "If you give `range()` two arguments, it will count from the first up to but not including the second:"
      ]
    },
    {
      "cell_type": "code",
      "execution_count": null,
      "metadata": {
        "id": "0yUcrSp3h3gw"
      },
      "outputs": [],
      "source": [
        "list(range(5, 11))"
      ]
    },
    {
      "cell_type": "markdown",
      "metadata": {
        "id": "Mx28QONRiV3E"
      },
      "source": [
        "If you give `range()` three arguments, it will count in increments of the third. For example, here is how we can look at the even numbers from 1 to 10 inclusive:"
      ]
    },
    {
      "cell_type": "code",
      "execution_count": null,
      "metadata": {
        "id": "LuyYJLcFiUfB"
      },
      "outputs": [],
      "source": [
        "list(range(0, 11, 2))"
      ]
    },
    {
      "cell_type": "markdown",
      "metadata": {
        "id": "lNJ_2SrmNdYE"
      },
      "source": [
        "## Practice Exercise: Create a `range`"
      ]
    },
    {
      "cell_type": "markdown",
      "metadata": {
        "id": "dze8qRjHHrB9"
      },
      "source": [
        "Use `range()` to make a sequence that includes every 4th number from 0 to 200, inclusive"
      ]
    },
    {
      "cell_type": "code",
      "execution_count": null,
      "metadata": {
        "id": "WVOQJBpRju5P"
      },
      "outputs": [],
      "source": [
        "# Write your range() call here"
      ]
    }
  ],
  "metadata": {
    "colab": {
      "provenance": []
    },
    "kernelspec": {
      "display_name": "Python 3",
      "language": "python",
      "name": "python3"
    },
    "language_info": {
      "codemirror_mode": {
        "name": "ipython",
        "version": 3
      },
      "file_extension": ".py",
      "mimetype": "text/x-python",
      "name": "python",
      "nbconvert_exporter": "python",
      "pygments_lexer": "ipython3",
      "version": "3.6.13"
    }
  },
  "nbformat": 4,
  "nbformat_minor": 0
}