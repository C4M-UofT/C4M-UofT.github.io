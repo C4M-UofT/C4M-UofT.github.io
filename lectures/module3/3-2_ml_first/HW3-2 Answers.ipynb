{
  "nbformat": 4,
  "nbformat_minor": 0,
  "metadata": {
    "colab": {
      "provenance": [],
      "collapsed_sections": [
        "DekAnzq1b82b"
      ]
    },
    "kernelspec": {
      "name": "python3",
      "display_name": "Python 3"
    },
    "language_info": {
      "name": "python"
    }
  },
  "cells": [
    {
      "cell_type": "markdown",
      "source": [
        "In this notebook, your task is to build a sleep stage classification model for the [Haaglanden Medisch Centrum Sleep Staging Database](https://physionet.org/content/hmc-sleep-staging/1.1/) you examined in your last homework assignment."
      ],
      "metadata": {
        "id": "BDaO9cuMWe83"
      }
    },
    {
      "cell_type": "markdown",
      "source": [
        "# Important: Run this code cell each time you start a new session!"
      ],
      "metadata": {
        "id": "DekAnzq1b82b"
      }
    },
    {
      "cell_type": "code",
      "source": [
        "!pip install numpy\n",
        "!pip install pandas\n",
        "!pip install matplotlib\n",
        "!pip install os\n",
        "!pip install opencv-python\n",
        "!pip install scikit-learn\n",
        "import numpy as np\n",
        "import pandas as pd\n",
        "import matplotlib.pyplot as plt\n",
        "import os\n",
        "import cv2\n",
        "import sklearn"
      ],
      "metadata": {
        "id": "jrO0X1ZMxMN5",
        "colab": {
          "base_uri": "https://localhost:8080/"
        },
        "outputId": "8346bae6-1a6f-4d6b-9cb3-b4cd202ec003"
      },
      "execution_count": 1,
      "outputs": [
        {
          "output_type": "stream",
          "name": "stdout",
          "text": [
            "Requirement already satisfied: numpy in /usr/local/lib/python3.11/dist-packages (2.0.2)\n",
            "Requirement already satisfied: pandas in /usr/local/lib/python3.11/dist-packages (2.2.2)\n",
            "Requirement already satisfied: numpy>=1.23.2 in /usr/local/lib/python3.11/dist-packages (from pandas) (2.0.2)\n",
            "Requirement already satisfied: python-dateutil>=2.8.2 in /usr/local/lib/python3.11/dist-packages (from pandas) (2.9.0.post0)\n",
            "Requirement already satisfied: pytz>=2020.1 in /usr/local/lib/python3.11/dist-packages (from pandas) (2025.2)\n",
            "Requirement already satisfied: tzdata>=2022.7 in /usr/local/lib/python3.11/dist-packages (from pandas) (2025.2)\n",
            "Requirement already satisfied: six>=1.5 in /usr/local/lib/python3.11/dist-packages (from python-dateutil>=2.8.2->pandas) (1.17.0)\n",
            "Requirement already satisfied: matplotlib in /usr/local/lib/python3.11/dist-packages (3.10.0)\n",
            "Requirement already satisfied: contourpy>=1.0.1 in /usr/local/lib/python3.11/dist-packages (from matplotlib) (1.3.2)\n",
            "Requirement already satisfied: cycler>=0.10 in /usr/local/lib/python3.11/dist-packages (from matplotlib) (0.12.1)\n",
            "Requirement already satisfied: fonttools>=4.22.0 in /usr/local/lib/python3.11/dist-packages (from matplotlib) (4.57.0)\n",
            "Requirement already satisfied: kiwisolver>=1.3.1 in /usr/local/lib/python3.11/dist-packages (from matplotlib) (1.4.8)\n",
            "Requirement already satisfied: numpy>=1.23 in /usr/local/lib/python3.11/dist-packages (from matplotlib) (2.0.2)\n",
            "Requirement already satisfied: packaging>=20.0 in /usr/local/lib/python3.11/dist-packages (from matplotlib) (24.2)\n",
            "Requirement already satisfied: pillow>=8 in /usr/local/lib/python3.11/dist-packages (from matplotlib) (11.2.1)\n",
            "Requirement already satisfied: pyparsing>=2.3.1 in /usr/local/lib/python3.11/dist-packages (from matplotlib) (3.2.3)\n",
            "Requirement already satisfied: python-dateutil>=2.7 in /usr/local/lib/python3.11/dist-packages (from matplotlib) (2.9.0.post0)\n",
            "Requirement already satisfied: six>=1.5 in /usr/local/lib/python3.11/dist-packages (from python-dateutil>=2.7->matplotlib) (1.17.0)\n",
            "\u001b[31mERROR: Could not find a version that satisfies the requirement os (from versions: none)\u001b[0m\u001b[31m\n",
            "\u001b[0m\u001b[31mERROR: No matching distribution found for os\u001b[0m\u001b[31m\n",
            "\u001b[0mRequirement already satisfied: opencv-python in /usr/local/lib/python3.11/dist-packages (4.11.0.86)\n",
            "Requirement already satisfied: numpy>=1.21.2 in /usr/local/lib/python3.11/dist-packages (from opencv-python) (2.0.2)\n",
            "Requirement already satisfied: scikit-learn in /usr/local/lib/python3.11/dist-packages (1.6.1)\n",
            "Requirement already satisfied: numpy>=1.19.5 in /usr/local/lib/python3.11/dist-packages (from scikit-learn) (2.0.2)\n",
            "Requirement already satisfied: scipy>=1.6.0 in /usr/local/lib/python3.11/dist-packages (from scikit-learn) (1.15.2)\n",
            "Requirement already satisfied: joblib>=1.2.0 in /usr/local/lib/python3.11/dist-packages (from scikit-learn) (1.4.2)\n",
            "Requirement already satisfied: threadpoolctl>=3.1.0 in /usr/local/lib/python3.11/dist-packages (from scikit-learn) (3.6.0)\n"
          ]
        }
      ]
    },
    {
      "cell_type": "code",
      "source": [
        "import os, datetime, json, locale, pathlib, urllib, requests, werkzeug, nbformat, google, yaml, warnings\n",
        "def colab2pdf():\n",
        "    locale.setlocale(locale.LC_ALL, 'en_US.UTF-8')\n",
        "    NAME = pathlib.Path(werkzeug.utils.secure_filename(urllib.parse.unquote(requests.get(f\"http://{os.environ['COLAB_JUPYTER_IP']}:{os.environ['KMP_TARGET_PORT']}/api/sessions\").json()[0][\"name\"])))\n",
        "    TEMP = pathlib.Path(\"/content/pdfs\") / f\"{datetime.datetime.now().strftime('%Y%m%d_%H%M%S')}_{NAME.stem}\"; TEMP.mkdir(parents=True, exist_ok=True)\n",
        "    NB = [cell for cell in nbformat.reads(json.dumps(google.colab._message.blocking_request(\"get_ipynb\", timeout_sec=30)[\"ipynb\"]), as_version=4).cells if \"--Colab2PDF\" not in cell.source]\n",
        "    warnings.filterwarnings('ignore', category=nbformat.validator.MissingIDFieldWarning)\n",
        "    with (TEMP / f\"{NAME.stem}.ipynb\").open(\"w\", encoding=\"utf-8\") as nb_copy: nbformat.write(nbformat.v4.new_notebook(cells=NB or [nbformat.v4.new_code_cell(\"#\")]), nb_copy)\n",
        "    if not pathlib.Path(\"/usr/local/bin/quarto\").exists():\n",
        "        !wget -q \"https://quarto.org/download/latest/quarto-linux-amd64.deb\" -P {TEMP} && dpkg -i {TEMP}/quarto-linux-amd64.deb > /dev/null && quarto install tinytex --update-path --quiet\n",
        "    with (TEMP / \"config.yml\").open(\"w\", encoding=\"utf-8\") as file: yaml.dump({'include-in-header': [{\"text\": r\"\\usepackage{fvextra}\\DefineVerbatimEnvironment{Highlighting}{Verbatim}{breaksymbolleft={},showspaces=false,showtabs=false,breaklines,breakanywhere,commandchars=\\\\\\{\\}}\"}],'include-before-body': [{\"text\": r\"\\DefineVerbatimEnvironment{verbatim}{Verbatim}{breaksymbolleft={},showspaces=false,showtabs=false,breaklines}\"}]}, file)\n",
        "    !quarto render {TEMP}/{NAME.stem}.ipynb --metadata-file={TEMP}/config.yml --to pdf -M latex-auto-install -M margin-top=1in -M margin-bottom=1in -M margin-left=1in -M margin-right=1in --quiet\n",
        "    google.colab.files.download(str(TEMP / f\"{NAME.stem}.pdf\"))"
      ],
      "metadata": {
        "id": "DyrtqZkecnIt"
      },
      "execution_count": 2,
      "outputs": []
    },
    {
      "cell_type": "markdown",
      "source": [
        "# Step 1: Define the Problem You Are Trying to Solve"
      ],
      "metadata": {
        "id": "xP4sP_ekZxqW"
      }
    },
    {
      "cell_type": "markdown",
      "source": [
        "As a reminder, the goal of this dataset is to enable researchers to automatically identify sleep stages using polysomnographic (PSG) recordings. Given the large size of these recordings, we will work only work with data from 3 participants from this 151-person study. Patient recordings were randomly selected from a heterogeneous group of patients who were referred for PSG examination due to different sleep disorders."
      ],
      "metadata": {
        "id": "9ux-HEhauNcx"
      }
    },
    {
      "cell_type": "markdown",
      "source": [
        "Participants were instrumented with the minimal recommended set of sensors necessary to visually score sleep stages: four EEG (F4/M1, C4/M1, O2/M1, and C3/M2), two EOG (E1/M2 and E2/M2), one bipolar chin EMG, and one ECG (single modified lead II) data stream. Participants slept in the sleep clinic for one night. Their PSG recordings were reviewed and annotated by expert clinicians according to discrete 30-second windows. An example of this annotation process is shown below (note: this is merely an illustration and does not represent the true time-scale of the data):\n",
        "\n",
        "<img src=\"https://drive.google.com/uc?id=1UnkMe1WmP813ZGyS7ynT_CMqP2Nr2do0\" width=750px/>"
      ],
      "metadata": {
        "id": "QYrG6r4EVNEV"
      }
    },
    {
      "cell_type": "markdown",
      "source": [
        "All data was recorded at 256 Hz. For your convenience, the data has already been processed so that there is one `.csv` per participant in a folder called `data` with the following naming convention: `SN{subject_id}.csv`. These files have the following columns:"
      ],
      "metadata": {
        "id": "p6bvWQ9Tqzvk"
      }
    },
    {
      "cell_type": "markdown",
      "source": [
        "| Column # | Description |\n",
        "|----------|-------------|\n",
        "| 1 | Time in seconds|\n",
        "| 2 | Annotation given by the sleep experts (W, N1, N2, N3, R) |\n",
        "| 3–6 | EEG data |\n",
        "| 7 | EMG data |\n",
        "| 8–9 | EOG data |\n",
        "| 10 | ECG data |"
      ],
      "metadata": {
        "id": "KTU_l5HRMbL3"
      }
    },
    {
      "cell_type": "markdown",
      "source": [
        "In this notebook, your goal will be to create a ***classification model*** that infers sleep stages from 30-second windows of PSG data."
      ],
      "metadata": {
        "id": "Q-y-Gd34vd_C"
      }
    },
    {
      "cell_type": "markdown",
      "source": [
        "# Step 2: Create Your Features and Labels"
      ],
      "metadata": {
        "id": "dF7vGVljaKp7"
      }
    },
    {
      "cell_type": "markdown",
      "source": [
        "Remember the `.csv` file that you created in the previous homework? That file already contains all of the data you will need to train your model."
      ],
      "metadata": {
        "id": "QYNa_YEfe7vi"
      }
    },
    {
      "cell_type": "markdown",
      "source": [
        "**(Part 1)** If you do not have the `.csv` file from the previous homework on your local machine, you can regenerate it by going back to the previous homework, re-running the entire notebook, and then downloading the `.csv` that gets created in that notebook's workspace (folder icon on the left side).\n",
        "\n",
        "Once you have the file, return here and upload it to this notebook's workspace. Then, write a line of code that will load the data from this `.csv` file as a `DataFrame`."
      ],
      "metadata": {
        "id": "1O2DKWI7lpOk"
      }
    },
    {
      "cell_type": "code",
      "source": [
        "df = pd.read_csv('psg_data.csv')"
      ],
      "metadata": {
        "id": "CyF6QrZO2zs7"
      },
      "execution_count": 3,
      "outputs": []
    },
    {
      "cell_type": "markdown",
      "source": [
        "**(Part 2)** Write code that will store the labels as a `numpy` array called `y`."
      ],
      "metadata": {
        "id": "a_A5eLBwu4DO"
      }
    },
    {
      "cell_type": "code",
      "source": [
        "y = df['Annotation'].values"
      ],
      "metadata": {
        "id": "zy3AQMjiAZcU"
      },
      "execution_count": 4,
      "outputs": []
    },
    {
      "cell_type": "markdown",
      "source": [
        "**(Part 3)** Write code that will store the features as a `numpy` array called `x`.\n",
        "\n",
        "*Hint:* Remember that there are more columns in this `DataFrame` than features and labels."
      ],
      "metadata": {
        "id": "pvX37rIGya5k"
      }
    },
    {
      "cell_type": "code",
      "source": [
        "x = df.drop(['Subject ID', 'Start Time', 'Annotation'], axis=1).values"
      ],
      "metadata": {
        "id": "GoD80vQSAafF"
      },
      "execution_count": 5,
      "outputs": []
    },
    {
      "cell_type": "markdown",
      "source": [
        "# Step 3: Decide How the Data Should Be Split for Training and Testing"
      ],
      "metadata": {
        "id": "ryaahUysaOHD"
      }
    },
    {
      "cell_type": "markdown",
      "source": [
        "Recall that although our dataset only has one recording for each patient, we split those recordings into multiple windows. If we were to do a single 80%-20% split, we would likely have a single patient's data divided across the train and test sets, which is particularly problematic for this dataset because consecutive windows from the same patient are likely to be highly similar. Instead, you will need to use subject-wise cross-validation to generate one split for each patient in the dataset."
      ],
      "metadata": {
        "id": "xowxt9U1ceTx"
      }
    },
    {
      "cell_type": "markdown",
      "source": [
        "**(Part 4)** Write code that will store the group ID associated with each sample as a `numpy` array called `groups`."
      ],
      "metadata": {
        "id": "xPZ3aDpz_Qw_"
      }
    },
    {
      "cell_type": "code",
      "source": [
        "groups = df['Subject ID'].values"
      ],
      "metadata": {
        "id": "FopxL2ypBMO-"
      },
      "execution_count": 6,
      "outputs": []
    },
    {
      "cell_type": "markdown",
      "source": [
        "You will actually perform the cross-validation in Step 8."
      ],
      "metadata": {
        "id": "WGYZEtu1_1Gb"
      }
    },
    {
      "cell_type": "markdown",
      "source": [
        "# Step 4: (Optional) Add Feature Selection"
      ],
      "metadata": {
        "id": "gmMs1P1tabse"
      }
    },
    {
      "cell_type": "markdown",
      "source": [
        "We are going to skip this step for now."
      ],
      "metadata": {
        "id": "Qv-3GvQCcG1_"
      }
    },
    {
      "cell_type": "markdown",
      "source": [
        "# Step 5: (Optional) Balance Your Dataset"
      ],
      "metadata": {
        "id": "90Fwfakplyu8"
      }
    },
    {
      "cell_type": "markdown",
      "source": [
        "We are going to skip this step for now."
      ],
      "metadata": {
        "id": "2a3BVu0lm6wD"
      }
    },
    {
      "cell_type": "markdown",
      "source": [
        "# Step 6: Select an Appropriate Model"
      ],
      "metadata": {
        "id": "TUuv3wRJaVer"
      }
    },
    {
      "cell_type": "markdown",
      "source": [
        "You should use a `RandomForestClassifier` as your model architecture for this assignment. You will actually initialize this model in Step 8."
      ],
      "metadata": {
        "id": "IiS0RhPymQwg"
      }
    },
    {
      "cell_type": "markdown",
      "source": [
        "# Step 7: (Optional) Select Your Hyperparameters"
      ],
      "metadata": {
        "id": "A-AcODJ3aYx6"
      }
    },
    {
      "cell_type": "markdown",
      "source": [
        "We are going to skip this step for now."
      ],
      "metadata": {
        "id": "5J5xnuJkC3Lp"
      }
    },
    {
      "cell_type": "markdown",
      "source": [
        "# Step 8: Train and Test Your Model"
      ],
      "metadata": {
        "id": "-fpM5JCVcS_c"
      }
    },
    {
      "cell_type": "markdown",
      "source": [
        "We could perform the entire cross-validation procedure using the function `cross_val_predict()` we covered in our Parkinsonian Gait regression task:"
      ],
      "metadata": {
        "id": "RJmlaSww-2qx"
      }
    },
    {
      "cell_type": "code",
      "source": [
        "from sklearn.ensemble import RandomForestClassifier\n",
        "from sklearn.model_selection import LeaveOneGroupOut\n",
        "from sklearn.model_selection import cross_val_predict\n",
        "sklearn.set_config(enable_metadata_routing=True)\n",
        "\n",
        "clf = RandomForestClassifier()\n",
        "y_pred = cross_val_predict(clf, x, y, cv=LeaveOneGroupOut(),\n",
        "                           params={'groups': groups})\n",
        "print(y_pred)"
      ],
      "metadata": {
        "id": "B8EL9uMF_Anv",
        "colab": {
          "base_uri": "https://localhost:8080/"
        },
        "outputId": "f89513ad-d4cb-40a3-9158-f1463206e9cd"
      },
      "execution_count": 22,
      "outputs": [
        {
          "output_type": "stream",
          "name": "stdout",
          "text": [
            "['W' 'W' 'W' ... 'N1' 'N1' 'W']\n"
          ]
        }
      ]
    },
    {
      "cell_type": "markdown",
      "source": [
        "However, it's good to get familiar with how to write these routines on your own for situations when you need to train and test models in another way."
      ],
      "metadata": {
        "id": "4Ddj2RXsBf4z"
      }
    },
    {
      "cell_type": "markdown",
      "source": [
        "*Note:* Instead of using [`GroupKFold`](https://scikit-learn.org/stable/modules/generated/sklearn.model_selection.GroupKFold.html) like we saw in the lecture, this example is using [`LeaveOneGroupOut`](https://scikit-learn.org/stable/modules/generated/sklearn.model_selection.LeaveOneGroupOut.html#sklearn.model_selection.LeaveOneGroupOut). As the name implies, this function is similar to `GroupKFold`, but if assumes that the number of folds is equal to the number of groups you would like to keep distinct."
      ],
      "metadata": {
        "id": "LJNCzErlcAQV"
      }
    },
    {
      "cell_type": "markdown",
      "source": [
        "**(Part 5)** Write a program that will evaluate the performance of a `RandomForestClassifier` using subject-wise cross-validation. Some pseudocode is provided below.\n",
        "\n",
        "*Hint:* Unlike with previous examples, the labels for this dataset are strings. You could convert the strings to a number (W = 0, N1 = 1, ...). However, it will be hard to interpret your results if you don't reverse the conversion after you train and test your models. Instead, you can use the following line to initialize the data structure for your results: `y_pred = np.empty(y.shape, dtype=object)`."
      ],
      "metadata": {
        "id": "A_N0r18hBxPd"
      }
    },
    {
      "cell_type": "markdown",
      "source": [
        "```\n",
        "initialize a data structure for saving our final results\n",
        "for each fold:\n",
        "    split data into train and test\n",
        "    train a model on training data\n",
        "    predict on the test data using that model\n",
        "    add the predictions to our final results data structure\n",
        "```"
      ],
      "metadata": {
        "id": "hlan8ibtB2AL"
      }
    },
    {
      "cell_type": "code",
      "source": [
        "from sklearn.model_selection import LeaveOneGroupOut\n",
        "from sklearn.ensemble import RandomForestClassifier\n",
        "\n",
        "# Set the random seed to an arbitrary number of your choosing\n",
        "np.random.seed(42)\n",
        "\n",
        "# Get the features, labels, and grouping variables\n",
        "x = df.drop(['Subject ID', 'Start Time', 'Annotation'], axis=1).values\n",
        "y = df['Annotation'].values\n",
        "groups = df['Subject ID'].values\n",
        "\n",
        "# Initialize a data structure to save our final results,\n",
        "# assuming all of the predictions are empty to start\n",
        "y_pred = np.empty(y.shape, dtype=object)\n",
        "\n",
        "# Split the data into folds\n",
        "loocv = LeaveOneGroupOut()\n",
        "for train_idxs, test_idxs in loocv.split(x, y, groups):\n",
        "    # Split the data into train and test\n",
        "    x_train = x[train_idxs]\n",
        "    y_train = y[train_idxs]\n",
        "    x_test = x[test_idxs]\n",
        "    y_test = y[test_idxs]\n",
        "\n",
        "    # Train a model on the training data\n",
        "    clf = RandomForestClassifier()\n",
        "    clf.fit(x_train, y_train)\n",
        "\n",
        "    # Predict on the test data\n",
        "    y_test_pred = clf.predict(x_test)\n",
        "    y_pred[test_idxs] = y_test_pred"
      ],
      "metadata": {
        "id": "o1ii_xTwDK5a"
      },
      "execution_count": 23,
      "outputs": []
    },
    {
      "cell_type": "markdown",
      "source": [
        "# Step 9: Use an Appropriate Method for Interpreting Results"
      ],
      "metadata": {
        "id": "hT0cnOFdafEF"
      }
    },
    {
      "cell_type": "markdown",
      "source": [
        "**(Part 6)** Create a confusion matrix showing the accuracy of your model."
      ],
      "metadata": {
        "id": "QotlceyWEHeF"
      }
    },
    {
      "cell_type": "code",
      "source": [
        "from sklearn.metrics import ConfusionMatrixDisplay\n",
        "classes = np.unique(y_pred)\n",
        "ConfusionMatrixDisplay.from_predictions(y, y_pred,\n",
        "                                        display_labels=classes)\n",
        "plt.show()"
      ],
      "metadata": {
        "id": "f7nOnbhUMBZM",
        "colab": {
          "base_uri": "https://localhost:8080/",
          "height": 449
        },
        "outputId": "115e8c11-5e43-4d7b-9d92-365797f0e3cb"
      },
      "execution_count": 9,
      "outputs": [
        {
          "output_type": "display_data",
          "data": {
            "text/plain": [
              "<Figure size 640x480 with 2 Axes>"
            ],
            "image/png": "[encoded data removed]"
          },
          "metadata": {}
        }
      ]
    },
    {
      "cell_type": "markdown",
      "source": [
        "**(Part 7)** Calculate the overall accuracy of your model."
      ],
      "metadata": {
        "id": "zvZqiWh9bU7m"
      }
    },
    {
      "cell_type": "code",
      "source": [
        "from sklearn.metrics import accuracy_score\n",
        "print(f'Accuracy: {accuracy_score(y, y_pred)}')"
      ],
      "metadata": {
        "id": "U4JQn0MdbmdZ",
        "colab": {
          "base_uri": "https://localhost:8080/"
        },
        "outputId": "6366b80e-2c7e-4fe3-d71e-b2714f522cfc"
      },
      "execution_count": 10,
      "outputs": [
        {
          "output_type": "stream",
          "name": "stdout",
          "text": [
            "Accuracy: 0.46283783783783783\n"
          ]
        }
      ]
    },
    {
      "cell_type": "markdown",
      "source": [
        "**(Part 8)** What can you tell about your model based on these results? Is it particularly successful at classifying some sleep stages over others? Does it tend to get some stages confused with one another?"
      ],
      "metadata": {
        "id": "5u8UeBGYHGA4"
      }
    },
    {
      "cell_type": "markdown",
      "source": [
        "Write your answer here: Considering a random chance classifer would be approximately 20% accurate, we seem to be doing okay. As we can see from the diagnoal of our confusion matrix, the model is doing a decent job at correctly classifying stages W, N2, N3, and R. However, it is commonly confusing N1 for W and vice versa. This makes sense considering N1 is the lightest form of sleep and is therefore conceptually similar to W."
      ],
      "metadata": {
        "id": "zL0XhLywHo4P"
      }
    },
    {
      "cell_type": "markdown",
      "source": [
        "# Prepare Submission"
      ],
      "metadata": {
        "id": "NvWnOApDRK4P"
      }
    },
    {
      "cell_type": "markdown",
      "source": [
        "To get full credit for this assignment, you should submit your assignment in two formats so that we can easily grade and debug your code:\n",
        "1. **.ipynb:** First, confirm that your code can run from start to finish without any errors. To check this, go to \"Runtime\" > \"Run all\" in the Google Colab menu. If everything looks good, you can export your file by going to \"File\" > \"Download\" > \"Download .ipynb\".\n",
        "2. **.pdf:** Run the function called `colab2pdf()` below. This will automatically convert your notebook to a PDF. Note that while \"File\" > \"Print\" > \"Save as PDF\" also works, it requires you to manually expand all of the cells and may cut off some images."
      ],
      "metadata": {
        "id": "jLFVxNKZydmF"
      }
    },
    {
      "cell_type": "code",
      "source": [
        "colab2pdf()"
      ],
      "metadata": {
        "colab": {
          "base_uri": "https://localhost:8080/",
          "height": 17
        },
        "id": "KOGsHYKWS8uK",
        "outputId": "25e47394-ab6b-4a60-ab50-9c4dea1d3992"
      },
      "execution_count": 11,
      "outputs": [
        {
          "output_type": "display_data",
          "data": {
            "text/plain": [
              "<IPython.core.display.Javascript object>"
            ],
            "application/javascript": [
              "\n",
              "    async function download(id, filename, size) {\n",
              "      if (!google.colab.kernel.accessAllowed) {\n",
              "        return;\n",
              "      }\n",
              "      const div = document.createElement('div');\n",
              "      const label = document.createElement('label');\n",
              "      label.textContent = `Downloading \"${filename}\": `;\n",
              "      div.appendChild(label);\n",
              "      const progress = document.createElement('progress');\n",
              "      progress.max = size;\n",
              "      div.appendChild(progress);\n",
              "      document.body.appendChild(div);\n",
              "\n",
              "      const buffers = [];\n",
              "      let downloaded = 0;\n",
              "\n",
              "      const channel = await google.colab.kernel.comms.open(id);\n",
              "      // Send a message to notify the kernel that we're ready.\n",
              "      channel.send({})\n",
              "\n",
              "      for await (const message of channel.messages) {\n",
              "        // Send a message to notify the kernel that we're ready.\n",
              "        channel.send({})\n",
              "        if (message.buffers) {\n",
              "          for (const buffer of message.buffers) {\n",
              "            buffers.push(buffer);\n",
              "            downloaded += buffer.byteLength;\n",
              "            progress.value = downloaded;\n",
              "          }\n",
              "        }\n",
              "      }\n",
              "      const blob = new Blob(buffers, {type: 'application/binary'});\n",
              "      const a = document.createElement('a');\n",
              "      a.href = window.URL.createObjectURL(blob);\n",
              "      a.download = filename;\n",
              "      div.appendChild(a);\n",
              "      a.click();\n",
              "      div.remove();\n",
              "    }\n",
              "  "
            ]
          },
          "metadata": {}
        },
        {
          "output_type": "display_data",
          "data": {
            "text/plain": [
              "<IPython.core.display.Javascript object>"
            ],
            "application/javascript": [
              "download(\"download_6c84591e-552e-43fb-b617-d9e8d7438ecb\", \"HW3-2_Answers.pdf\", 72560)"
            ]
          },
          "metadata": {}
        }
      ]
    }
  ]
}