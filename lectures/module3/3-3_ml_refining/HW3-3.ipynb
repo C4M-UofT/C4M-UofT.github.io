{
  "nbformat": 4,
  "nbformat_minor": 0,
  "metadata": {
    "colab": {
      "provenance": [],
      "collapsed_sections": [
        "Jwj4Z5Aafxig",
        "GnjMiQBKuU3s",
        "NvWnOApDRK4P"
      ]
    },
    "kernelspec": {
      "name": "python3",
      "display_name": "Python 3"
    },
    "language_info": {
      "name": "python"
    }
  },
  "cells": [
    {
      "cell_type": "markdown",
      "source": [
        "In this notebook, your task is to try to improve the sleep stage classification model for the [Haaglanden Medisch Centrum Sleep Staging Database](https://physionet.org/content/hmc-sleep-staging/1.1/) you created in your last homework assignment. You should implement enhancements from at least two of the three categories below:\n",
        "* **Modify your features (Steps 2 & 4):** Manually create new features, add feature selection\n",
        "* **Improve your dataset distribution (Step 5):** Oversample underrepresented sleep stages during training, undersample overrepresented sleep stages during training\n",
        "* **Improve your model architecture (Steps 6 & 7):** Try different model architectures, try different hyperparameters, add an automatic hyperparameter search\n"
      ],
      "metadata": {
        "id": "BDaO9cuMWe83"
      }
    },
    {
      "cell_type": "markdown",
      "source": [
        "While we are not expecting you to achieve a specific accuracy rate, this is your chance to try out different techniques to potentially enhance your machine learning pipeline. Bear in mind that while overall model accuracy may not always improve, changes you make may modify your model's ability to discern certain classes."
      ],
      "metadata": {
        "id": "hIJ5HnEs5e5T"
      }
    },
    {
      "cell_type": "markdown",
      "source": [
        "At the end of the assignment, you must write a brief report on the modifications that you made from your initial machine learning pipeline and the impact those modifications had on your model's performance."
      ],
      "metadata": {
        "id": "obAo_oaJgDg7"
      }
    },
    {
      "cell_type": "markdown",
      "source": [
        "# Instructions"
      ],
      "metadata": {
        "id": "Jwj4Z5Aafxig"
      }
    },
    {
      "cell_type": "markdown",
      "source": [
        "There are two ways you can complete this assignment:\n",
        "1. **Modify HW3-2:** Make a copy of your HW3-2 submission and rename it so that it is clear you are submitting a new file. Copy the cells below to the end of that file and complete them once you have modified your original code.\n",
        "2. **Use this file:** Copy all of the necessary cells from HW3-2 into the beginning of this file."
      ],
      "metadata": {
        "id": "g7qom8PartpO"
      }
    },
    {
      "cell_type": "markdown",
      "source": [
        "# Write-Up"
      ],
      "metadata": {
        "id": "GnjMiQBKuU3s"
      }
    },
    {
      "cell_type": "markdown",
      "source": [
        "*Note:* The answers to both questions can be written as a paragraph, a bulleted list, or a table. However, you must answer all parts of the questions, so complete sentences are strongly recommended."
      ],
      "metadata": {
        "id": "g3lXRcJjykD8"
      }
    },
    {
      "cell_type": "markdown",
      "source": [
        "**(Part 1)** What modifications did you make to your machine learning pipeline. What were you hoping these modifications would achieve?"
      ],
      "metadata": {
        "id": "5u8UeBGYHGA4"
      }
    },
    {
      "cell_type": "markdown",
      "source": [
        "Write your answer here: ???"
      ],
      "metadata": {
        "id": "FM_dPkK8toxe"
      }
    },
    {
      "cell_type": "markdown",
      "source": [
        "**(Part 2)** How did you model's performance change after you made these modifications? Did they improve overall accuracy? Did they improve the model's ability to identify certain classes?"
      ],
      "metadata": {
        "id": "RPKBphXItlsu"
      }
    },
    {
      "cell_type": "markdown",
      "source": [
        "Write your answer here: ???"
      ],
      "metadata": {
        "id": "zL0XhLywHo4P"
      }
    },
    {
      "cell_type": "markdown",
      "source": [
        "# Prepare Submission"
      ],
      "metadata": {
        "id": "NvWnOApDRK4P"
      }
    },
    {
      "cell_type": "markdown",
      "source": [
        "To get full credit for this assignment, you should submit your assignment in two formats so that we can easily grade and debug your code:\n",
        "1. **.ipynb:** First, confirm that your code can run from start to finish without any errors. To check this, go to \"Runtime\" > \"Run all\" in the Google Colab menu. If everything looks good, you can export your file by going to \"File\" > \"Download\" > \"Download .ipynb\".\n",
        "2. **.pdf:** Run the function called `colab2pdf()` below. This will automatically convert your notebook to a PDF. Note that while \"File\" > \"Print\" > \"Save as PDF\" also works, it requires you to manually expand all of the cells and may cut off some images."
      ],
      "metadata": {
        "id": "jLFVxNKZydmF"
      }
    },
    {
      "cell_type": "code",
      "source": [
        "colab2pdf()"
      ],
      "metadata": {
        "colab": {
          "base_uri": "https://localhost:8080/"
        },
        "id": "KOGsHYKWS8uK",
        "outputId": "6fa47ae0-634d-4467-e568-7007ea70c760"
      },
      "execution_count": null,
      "outputs": [
        {
          "output_type": "display_data",
          "data": {
            "text/plain": [
              "<IPython.core.display.Javascript object>"
            ],
            "application/javascript": [
              "\n",
              "    async function download(id, filename, size) {\n",
              "      if (!google.colab.kernel.accessAllowed) {\n",
              "        return;\n",
              "      }\n",
              "      const div = document.createElement('div');\n",
              "      const label = document.createElement('label');\n",
              "      label.textContent = `Downloading \"${filename}\": `;\n",
              "      div.appendChild(label);\n",
              "      const progress = document.createElement('progress');\n",
              "      progress.max = size;\n",
              "      div.appendChild(progress);\n",
              "      document.body.appendChild(div);\n",
              "\n",
              "      const buffers = [];\n",
              "      let downloaded = 0;\n",
              "\n",
              "      const channel = await google.colab.kernel.comms.open(id);\n",
              "      // Send a message to notify the kernel that we're ready.\n",
              "      channel.send({})\n",
              "\n",
              "      for await (const message of channel.messages) {\n",
              "        // Send a message to notify the kernel that we're ready.\n",
              "        channel.send({})\n",
              "        if (message.buffers) {\n",
              "          for (const buffer of message.buffers) {\n",
              "            buffers.push(buffer);\n",
              "            downloaded += buffer.byteLength;\n",
              "            progress.value = downloaded;\n",
              "          }\n",
              "        }\n",
              "      }\n",
              "      const blob = new Blob(buffers, {type: 'application/binary'});\n",
              "      const a = document.createElement('a');\n",
              "      a.href = window.URL.createObjectURL(blob);\n",
              "      a.download = filename;\n",
              "      div.appendChild(a);\n",
              "      a.click();\n",
              "      div.remove();\n",
              "    }\n",
              "  "
            ]
          },
          "metadata": {}
        },
        {
          "output_type": "display_data",
          "data": {
            "text/plain": [
              "<IPython.core.display.Javascript object>"
            ],
            "application/javascript": [
              "download(\"download_8a607c4c-1ffb-4520-92a6-d5ebe5966d35\", \"HW2-1_Answers.pdf\", 43039)"
            ]
          },
          "metadata": {}
        }
      ]
    }
  ]
}