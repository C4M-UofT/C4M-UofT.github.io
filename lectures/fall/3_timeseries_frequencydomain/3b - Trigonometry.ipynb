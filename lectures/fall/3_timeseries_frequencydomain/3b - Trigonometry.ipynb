{
  "nbformat": 4,
  "nbformat_minor": 0,
  "metadata": {
    "colab": {
      "provenance": [],
      "collapsed_sections": [
        "OBADxK39qJDx",
        "S7D231zX4oEG"
      ]
    },
    "kernelspec": {
      "name": "python3",
      "display_name": "Python 3"
    },
    "language_info": {
      "name": "python"
    }
  },
  "cells": [
    {
      "cell_type": "markdown",
      "source": [
        "In this notebook, we will quckly remind ourselves about trigonometry and the characteristics of an oscillatory signal."
      ],
      "metadata": {
        "id": "Vj8n7JvdwZ8S"
      }
    },
    {
      "cell_type": "markdown",
      "source": [
        "# Important: Run this code cell each time you start a new session!"
      ],
      "metadata": {
        "id": "OBADxK39qJDx"
      }
    },
    {
      "cell_type": "code",
      "source": [
        "!pip install numpy\n",
        "!pip install pandas\n",
        "!pip install matplotlib\n",
        "!pip install os\n",
        "import numpy as np\n",
        "import pandas as pd\n",
        "import matplotlib.pyplot as plt"
      ],
      "metadata": {
        "id": "yuzcYs-MUBvs"
      },
      "execution_count": null,
      "outputs": []
    },
    {
      "cell_type": "markdown",
      "source": [
        "# A Brief Reminder of Trigonometry"
      ],
      "metadata": {
        "id": "S7D231zX4oEG"
      }
    },
    {
      "cell_type": "markdown",
      "source": [
        "***Sine*** and ***cosine*** are fundamental trigonometric functions that represent the oscillation of a point along a unit circle as it rotates around the origin. A unit circle is composed of 360 degrees == 2$\\pi$ ***radians***. As a reminder, radians are another unit for angular measurements that are slightly more natural for mathematical expressions. By default, `numpy`'s implementation of sine and cosine assume that the inputs are in radians.\n",
        "\n",
        "<img src=\"https://drive.google.com/uc?id=1yLEQ7qdVfDC_SPvYSzslKfkzXEN0XGdU\" width=200px/>"
      ],
      "metadata": {
        "id": "asS5d1Tt6HIo"
      }
    },
    {
      "cell_type": "code",
      "source": [
        "x = np.linspace(0, 2*np.pi, 1000)\n",
        "plt.figure(figsize=(5,3))\n",
        "plt.plot(x, np.sin(x), 'k-', label='Sine')\n",
        "plt.plot(x, np.cos(x), 'r-', label='Cosine')\n",
        "plt.legend()\n",
        "plt.xlabel('Theta (radians)')\n",
        "plt.ylabel('Value')\n",
        "plt.show()"
      ],
      "metadata": {
        "id": "kOM0iBDB50W1"
      },
      "execution_count": null,
      "outputs": []
    },
    {
      "cell_type": "markdown",
      "source": [
        "Fortunately, we won't need to worry about radians for the sake of data science. However, you will occasionally notice factors of 2$\\pi$ snuck into various parts of the code in this notebook. This is done to so that we can express other characteristics of the signal in more intuitive units that relate to time."
      ],
      "metadata": {
        "id": "DtFKwp_m72on"
      }
    },
    {
      "cell_type": "markdown",
      "source": [
        "With that in mind, there are a few terms we use to describe the characteristics of a sinusoidal wave:\n",
        "* **Maxima and minima:** The peaks and troughs of the wave respectively\n",
        "* **Amplitude ($A$):** The maximum distance between the maxima and minima of the wave, expressed in units of the y-axis\n",
        "* **Period ($T$):** The time difference between two successive maxima, expressed in units of time\n",
        "* **Frequency ($f$):** The inverse of the period, describing how fast the signal oscillates over time, expressed in Hz\n",
        "* **Phase ($\\phi$):** The positional shift of the wave in time, expressed in units of radians or degrees\n",
        "\n",
        "All in all, we can express a sinusoid using the following equation: $y(t) = A*\\sin(ft + \\phi)$\n"
      ],
      "metadata": {
        "id": "5M7LfMRJ4soR"
      }
    },
    {
      "cell_type": "markdown",
      "source": [
        "The code block below shows a baseline sinusoid with unit amplitude, a frequency of 1 Hz, and no phase shift.\n",
        "Play around with the sliders below to change these characteristics for the sinusoid in red to see how they impact its shape."
      ],
      "metadata": {
        "id": "zSCPVbCi4LTS"
      }
    },
    {
      "cell_type": "code",
      "source": [
        "amp = 1 #@param {type:\"slider\", min:1, max:5, step:1}\n",
        "freq_hz = 1 #@param {type:\"slider\", min:1, max:5, step:1}\n",
        "phase_deg = 0 #@param {type:\"slider\", min:0, max:180, step:45}\n",
        "x = np.linspace(0, 1, 1000)\n",
        "y_orig = np.sin(2*np.pi*x)\n",
        "y_new = amp*np.sin(2*np.pi*(freq_hz*x+phase_deg/360))\n",
        "\n",
        "plt.figure(figsize=(5,3))\n",
        "plt.plot(x, y_orig, 'k-', label='Original')\n",
        "plt.plot(x, y_new, 'r-', label='New')\n",
        "plt.legend()\n",
        "plt.xlabel('Time (s)')\n",
        "plt.ylabel('Value')\n",
        "plt.title(f'$A$ = {amp}, $f$ = {freq_hz} Hz, $\\phi$ = {phase_deg}$^\\circ$')\n",
        "plt.show()"
      ],
      "metadata": {
        "id": "lcnZapJ0oFza"
      },
      "execution_count": null,
      "outputs": []
    },
    {
      "cell_type": "markdown",
      "source": [
        "We will primarily concern ourselves with the amplitude and frequency of signals in this course, but phase can contain useful information for a minority of tasks."
      ],
      "metadata": {
        "id": "F15tzIXNZwfC"
      }
    }
  ]
}