{
  "nbformat": 4,
  "nbformat_minor": 0,
  "metadata": {
    "colab": {
      "provenance": [],
      "collapsed_sections": [
        "B6v86VjQmIrK",
        "IhQvi7z1v6rm",
        "hDWIfFlIwU-P",
        "DHF99DDM_F8N",
        "NvWnOApDRK4P"
      ]
    },
    "kernelspec": {
      "display_name": "Python 3",
      "language": "python",
      "name": "python3"
    },
    "language_info": {
      "codemirror_mode": {
        "name": "ipython",
        "version": 3
      },
      "file_extension": ".py",
      "mimetype": "text/x-python",
      "name": "python",
      "nbconvert_exporter": "python",
      "pygments_lexer": "ipython3",
      "version": "3.8.2"
    }
  },
  "cells": [
    {
      "cell_type": "markdown",
      "metadata": {
        "id": "B6v86VjQmIrK"
      },
      "source": [
        "# Important: Run this code cell each time you start a new session!"
      ]
    },
    {
      "cell_type": "code",
      "source": [
        "!pip install numpy\n",
        "!pip install pandas\n",
        "!pip install matplotlib\n",
        "!pip install scipy\n",
        "!pip install os\n",
        "!pip install wfdb\n",
        "import numpy as np\n",
        "import pandas as pd\n",
        "import matplotlib.pyplot as plt\n",
        "import scipy\n",
        "import os\n",
        "import wfdb"
      ],
      "metadata": {
        "id": "jrO0X1ZMxMN5"
      },
      "execution_count": null,
      "outputs": []
    },
    {
      "cell_type": "code",
      "source": [
        "# Download some files of a sepsis dataset\n",
        "sepsis_folder = \"sepsis_dataset\"\n",
        "if not os.path.exists(sepsis_folder):\n",
        "    os.mkdir(sepsis_folder)\n",
        "patient_list = range(1, 11)\n",
        "patient_list = [f'p{str(s).zfill(6)}.psv' for s in patient_list]\n",
        "for f in patient_list:\n",
        "  !wget -nc https://physionet.org/files/challenge-2019/1.0.0/training/training_setA/{f}\n",
        "  os.rename(f, os.path.join(sepsis_folder, f))"
      ],
      "metadata": {
        "id": "bASFcdZNZuGJ"
      },
      "execution_count": null,
      "outputs": []
    },
    {
      "cell_type": "code",
      "source": [
        "# Convert the sepsis dataset to a single csv\n",
        "def load_single_file(file_path):\n",
        "    df = pd.read_csv(file_path, sep=\"|\")\n",
        "    df['PatientID'] = file_path.split(os.sep)[-1][:-4]\n",
        "    df['Hour'] = df.index\n",
        "    keep_cols = ['PatientID', 'Age', 'Gender', 'SepsisLabel', 'Hour',\n",
        "                 'HR', 'O2Sat', 'SBP', 'DBP', 'Resp']\n",
        "    df = df[keep_cols]\n",
        "    df.rename(columns={'Gender': 'Sex', 'SepsisLabel': 'HasSepsis'}, inplace=True)\n",
        "    return df\n",
        "\n",
        "def create_final_table(patient_list):\n",
        "    final_df = pd.DataFrame()\n",
        "    for f in patient_list:\n",
        "        df = load_single_file(os.path.join(sepsis_folder, f))\n",
        "        final_df = pd.concat([final_df, df])\n",
        "    final_df.to_csv('sepsis.csv',index=False)\n",
        "create_final_table(patient_list)"
      ],
      "metadata": {
        "id": "2hP2UnPrcEdI"
      },
      "execution_count": null,
      "outputs": []
    },
    {
      "cell_type": "code",
      "source": [
        "# Load the PPG data\n",
        "user = '100004'\n",
        "signals, fields = wfdb.rdsamp(f'{user}_PPG', pn_dir=f'butppg/{user}')\n",
        "ppg = signals.flatten()\n",
        "ppg = ppg[:200]\n",
        "ppg -= ppg.mean()\n",
        "fs = fields['fs']\n",
        "ppg_time = np.arange(len(ppg))/fs\n",
        "\n",
        "# Save it in a DataFrame\n",
        "df = pd.DataFrame()\n",
        "df['Time'] = ppg_time\n",
        "df['PPG'] = ppg\n",
        "df.to_csv('ppg.csv', index=False)"
      ],
      "metadata": {
        "id": "3b4MgOU-8Rrs"
      },
      "execution_count": null,
      "outputs": []
    },
    {
      "cell_type": "code",
      "source": [
        "import os, datetime, json, locale, pathlib, urllib, requests, werkzeug, nbformat, google, yaml, warnings\n",
        "def colab2pdf():\n",
        "    locale.setlocale(locale.LC_ALL, 'en_US.UTF-8')\n",
        "    NAME = pathlib.Path(werkzeug.utils.secure_filename(urllib.parse.unquote(requests.get(f\"http://{os.environ['COLAB_JUPYTER_IP']}:{os.environ['KMP_TARGET_PORT']}/api/sessions\").json()[0][\"name\"])))\n",
        "    TEMP = pathlib.Path(\"/content/pdfs\") / f\"{datetime.datetime.now().strftime('%Y%m%d_%H%M%S')}_{NAME.stem}\"; TEMP.mkdir(parents=True, exist_ok=True)\n",
        "    NB = [cell for cell in nbformat.reads(json.dumps(google.colab._message.blocking_request(\"get_ipynb\", timeout_sec=30)[\"ipynb\"]), as_version=4).cells if \"--Colab2PDF\" not in cell.source]\n",
        "    warnings.filterwarnings('ignore', category=nbformat.validator.MissingIDFieldWarning)\n",
        "    with (TEMP / f\"{NAME.stem}.ipynb\").open(\"w\", encoding=\"utf-8\") as nb_copy: nbformat.write(nbformat.v4.new_notebook(cells=NB or [nbformat.v4.new_code_cell(\"#\")]), nb_copy)\n",
        "    if not pathlib.Path(\"/usr/local/bin/quarto\").exists():\n",
        "        !wget -q \"https://quarto.org/download/latest/quarto-linux-amd64.deb\" -P {TEMP} && dpkg -i {TEMP}/quarto-linux-amd64.deb > /dev/null && quarto install tinytex --update-path --quiet\n",
        "    with (TEMP / \"config.yml\").open(\"w\", encoding=\"utf-8\") as file: yaml.dump({'include-in-header': [{\"text\": r\"\\usepackage{fvextra}\\DefineVerbatimEnvironment{Highlighting}{Verbatim}{breaksymbolleft={},showspaces=false,showtabs=false,breaklines,breakanywhere,commandchars=\\\\\\{\\}}\"}],'include-before-body': [{\"text\": r\"\\DefineVerbatimEnvironment{verbatim}{Verbatim}{breaksymbolleft={},showspaces=false,showtabs=false,breaklines}\"}]}, file)\n",
        "    !quarto render {TEMP}/{NAME.stem}.ipynb --metadata-file={TEMP}/config.yml --to pdf -M latex-auto-install -M margin-top=1in -M margin-bottom=1in -M margin-left=1in -M margin-right=1in --quiet\n",
        "    google.colab.files.download(str(TEMP / f\"{NAME.stem}.pdf\"))"
      ],
      "metadata": {
        "id": "eteWp2XLyHuw"
      },
      "execution_count": null,
      "outputs": []
    },
    {
      "cell_type": "markdown",
      "metadata": {
        "id": "IhQvi7z1v6rm"
      },
      "source": [
        "# Instructions"
      ]
    },
    {
      "cell_type": "markdown",
      "source": [
        "Please complete all of the exercises below. Across this module, some of the exercises are expected to produce very specific outputs, while others may have a variety of reasonable answers."
      ],
      "metadata": {
        "id": "FmZhTZTraQGQ"
      }
    },
    {
      "cell_type": "markdown",
      "metadata": {
        "id": "hDWIfFlIwU-P"
      },
      "source": [
        "# Exercise 1: Visualizing Tabular Data"
      ]
    },
    {
      "cell_type": "markdown",
      "source": [
        "This exercise will involve the sepsis dataset we used in class."
      ],
      "metadata": {
        "id": "06IHv2e6e2Tk"
      }
    },
    {
      "cell_type": "code",
      "source": [
        "df = pd.read_csv(\"sepsis.csv\")\n",
        "df"
      ],
      "metadata": {
        "id": "1-U6pNH0ep8S"
      },
      "execution_count": null,
      "outputs": []
    },
    {
      "cell_type": "markdown",
      "source": [
        "**(Part 1)** Create a line graph that shows the oxygen saturation data (`O2Sat`) for patients `p000008`, `p000009`, and `p000010` over time. Your plot should be clearly legible and properly labeled with axis labels, a title, and a legend."
      ],
      "metadata": {
        "id": "mf1eA8SNj2E7"
      }
    },
    {
      "cell_type": "code",
      "source": [
        "# Write your code here"
      ],
      "metadata": {
        "id": "QdtnV2_Vj1SJ"
      },
      "execution_count": null,
      "outputs": []
    },
    {
      "cell_type": "markdown",
      "source": [
        "**(Part 2)** Create a bar graph that shows the number of hours during which each patient's oxygen saturation (`O2Sat`) went below 95. Some patients do not have data from this particular sensor, so it is okay if they are excluded from your graph. Your plot should be clearly legible and properly labeled with axis labels and a title."
      ],
      "metadata": {
        "id": "HjFQ6hqzBJKL"
      }
    },
    {
      "cell_type": "code",
      "source": [
        "# Write your code here"
      ],
      "metadata": {
        "id": "sSEz523VhX_1"
      },
      "execution_count": null,
      "outputs": []
    },
    {
      "cell_type": "markdown",
      "source": [
        "**(Part 3)** Create a bar graph that shows the split between male (`0`) and female (`1`) patients in the dataset. Remember that there are multiple entries per patient in this table. Your graph should not reflect the number of rows in the `DataFrame`, but rather the number of unique patients in the dataset. Your plot should be clearly legible and properly labeled with axis labels and a title."
      ],
      "metadata": {
        "id": "aGwoS2jGPjnK"
      }
    },
    {
      "cell_type": "code",
      "metadata": {
        "id": "T8Xw6CX8wlp6"
      },
      "source": [
        "# Write your code here"
      ],
      "execution_count": null,
      "outputs": []
    },
    {
      "cell_type": "markdown",
      "source": [
        "# Exercise 2: Working with PPG Data"
      ],
      "metadata": {
        "id": "DHF99DDM_F8N"
      }
    },
    {
      "cell_type": "markdown",
      "source": [
        "This exercise will involve real-world data that was collected from a photoplethysmography (PPG) sensor. In short, this type of sensor relies on optically measuring the amount of blood that flows in and out of a peripheral site like a fingertip to capture the cardiac waveform."
      ],
      "metadata": {
        "id": "c3l1W0-5HqhA"
      }
    },
    {
      "cell_type": "code",
      "source": [
        "df = pd.read_csv(\"ppg.csv\")\n",
        "df"
      ],
      "metadata": {
        "id": "9BHxB34GoTyF"
      },
      "execution_count": null,
      "outputs": []
    },
    {
      "cell_type": "markdown",
      "source": [
        "**(Part 1)** Create a line graph that shows the PPG data over time. Your plot should be clearly legible and properly labeled with axis labels and a title."
      ],
      "metadata": {
        "id": "whYMC_q-p_hw"
      }
    },
    {
      "cell_type": "code",
      "source": [
        "# Write your code here"
      ],
      "metadata": {
        "id": "xj67PoaZqE5P"
      },
      "execution_count": null,
      "outputs": []
    },
    {
      "cell_type": "markdown",
      "source": [
        "Notice that the first half of the signal looks like a consistent heartbeat, while the second half of the signal looks less consistent. This is likely because the patient moved their fingertip or the sensor during this recording."
      ],
      "metadata": {
        "id": "ah0k4xv5tDbi"
      }
    },
    {
      "cell_type": "markdown",
      "source": [
        "**(Part 2)** Write code that will calculate the sampling rate of this signal."
      ],
      "metadata": {
        "id": "5y26ijP7qpaj"
      }
    },
    {
      "cell_type": "code",
      "source": [
        "# Write your code here"
      ],
      "metadata": {
        "id": "_vU0CvR_qxH1"
      },
      "execution_count": null,
      "outputs": []
    },
    {
      "cell_type": "markdown",
      "source": [
        "**(Part 3)** Write code that uses a 0.5-second sliding window with 0% overlap to automatically identify when the PPG signal quality is high. You can use whatever metric(s) and thresholds you deem fit to define signal quality. This code should print out the start and end time of each window when the signal quality is high."
      ],
      "metadata": {
        "id": "N6mwJWtsqGn_"
      }
    },
    {
      "cell_type": "code",
      "source": [
        "# Write your code here"
      ],
      "metadata": {
        "id": "dNPdzRpFqL53"
      },
      "execution_count": null,
      "outputs": []
    },
    {
      "cell_type": "markdown",
      "source": [
        "**(Part 4)** Pick the largest contiguous chunk of the PPG signal where the signal quality is high. Then, write code that will use a sliding window of your choosing to count the number of heartbeats in that part of the data."
      ],
      "metadata": {
        "id": "MCn2p8DQqPJ5"
      }
    },
    {
      "cell_type": "code",
      "source": [
        "good_ppg = df.iloc[] # TODO: put your indices inside the square bracket\n",
        "# Write your code here"
      ],
      "metadata": {
        "id": "g7SEH-wuqSV5"
      },
      "execution_count": null,
      "outputs": []
    },
    {
      "cell_type": "markdown",
      "source": [
        "# Prepare Submission"
      ],
      "metadata": {
        "id": "NvWnOApDRK4P"
      }
    },
    {
      "cell_type": "markdown",
      "source": [
        "To get full credit for this assignment, you should submit your assignment in two formats so that we can easily grade and debug your code:\n",
        "1. **.ipynb:** First, confirm that your code can run from start to finish without any errors. To check this, go to \"Runtime\" > \"Run all\" in the Google Colab menu. If everything looks good, you can export your file by going to \"File\" > \"Download\" > \"Download .ipynb\".\n",
        "2. **.pdf:** Run the function called `colab2pdf()` below. This will automatically convert your notebook to a PDF. Note that while \"File\" > \"Print\" > \"Save as PDF\" also works, it requires you to manually expand all of the cells and may cut off some images."
      ],
      "metadata": {
        "id": "aag6PJ0dy4n9"
      }
    },
    {
      "cell_type": "code",
      "source": [
        "colab2pdf()"
      ],
      "metadata": {
        "id": "KOGsHYKWS8uK"
      },
      "execution_count": null,
      "outputs": []
    }
  ]
}