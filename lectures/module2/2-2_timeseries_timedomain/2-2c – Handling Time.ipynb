{
  "nbformat": 4,
  "nbformat_minor": 0,
  "metadata": {
    "colab": {
      "provenance": [],
      "collapsed_sections": [
        "OBADxK39qJDx",
        "Cy-QS3PCEmqp",
        "b0ZZvy3ZFLVm",
        "qfdQNmFP8soK"
      ]
    },
    "kernelspec": {
      "name": "python3",
      "display_name": "Python 3"
    },
    "language_info": {
      "name": "python"
    }
  },
  "cells": [
    {
      "cell_type": "markdown",
      "source": [
        "In this notebook, we're going to talk about the various methods that people use to keep track of ***timestamps***. A timestamp refers to the time at which a measurement was taken during a series of events.\n"
      ],
      "metadata": {
        "id": "Vj8n7JvdwZ8S"
      }
    },
    {
      "cell_type": "markdown",
      "source": [
        "# Important: Run this code cell each time you start a new session!"
      ],
      "metadata": {
        "id": "OBADxK39qJDx"
      }
    },
    {
      "cell_type": "code",
      "source": [
        "!pip install numpy\n",
        "!pip install pandas\n",
        "!pip install matplotlib\n",
        "!pip install ipywidgets\n",
        "!pip install os\n",
        "import numpy as np\n",
        "import pandas as pd\n",
        "import matplotlib.pyplot as plt\n",
        "import os"
      ],
      "metadata": {
        "id": "yuzcYs-MUBvs"
      },
      "execution_count": null,
      "outputs": []
    },
    {
      "cell_type": "code",
      "source": [
        "!wget -Ncnp https://physionet.org/files/accelerometry-walk-climb-drive/1.0.0/raw_accelerometry_data/id00b70b13.csv"
      ],
      "metadata": {
        "id": "Q8hsDyCZ8Hrr"
      },
      "execution_count": null,
      "outputs": []
    },
    {
      "cell_type": "code",
      "source": [
        "df = pd.read_csv('id00b70b13.csv')\n",
        "\n",
        "# Filter to only walking activity, which is given a code of 1\n",
        "df = df[df['activity'] == 1]\n",
        "\n",
        "# Process the time\n",
        "df.rename(columns={'time_s': 'Time'}, inplace=True)\n",
        "df = df[(df['Time']>=700) & (df['Time']<=710)]\n",
        "df['Time'] = df['Time'] - df['Time'].min()\n",
        "\n",
        "# Process the accel\n",
        "df['Accel'] = np.sqrt(df['la_x']**2 + df['la_y']**2 + df['la_z']**2)*9.8\n",
        "\n",
        "# Keep only crucial columns\n",
        "keep_cols = ['Time', 'Accel']\n",
        "df = df[keep_cols]\n",
        "df.to_csv('walking.csv',index=False)"
      ],
      "metadata": {
        "id": "3b4MgOU-8Rrs"
      },
      "execution_count": null,
      "outputs": []
    },
    {
      "cell_type": "markdown",
      "source": [
        "# Option 1: `ints` and `floats`"
      ],
      "metadata": {
        "id": "Cy-QS3PCEmqp"
      }
    },
    {
      "cell_type": "markdown",
      "source": [
        "The simplest way of including a timestamp is by using integers or floats to represent a unit of time like milliseconds, minutes, or hours. In some cases, the sequence starts from 0 and increments until measurements stop being recorded. The `Time` column of the following time series does just that, showing how much time has passed since the start of the recording in seconds:"
      ],
      "metadata": {
        "id": "qVCKJ6wJkO3c"
      }
    },
    {
      "cell_type": "code",
      "source": [
        "df = pd.read_csv('walking.csv')\n",
        "df.head(10)"
      ],
      "metadata": {
        "id": "3-iUMUDdmnM1"
      },
      "execution_count": null,
      "outputs": []
    },
    {
      "cell_type": "code",
      "source": [
        "plt.figure(figsize=(5,3))\n",
        "plt.plot(df['Time'], df['Accel'])\n",
        "plt.xlabel('Time (s)')\n",
        "plt.ylabel('Accelerometer (m/s^2)')\n",
        "plt.show()"
      ],
      "metadata": {
        "id": "1toQBm7rV84s"
      },
      "execution_count": null,
      "outputs": []
    },
    {
      "cell_type": "markdown",
      "source": [
        "There may be situations where your times do not start at 0, but rather another value (e.g., the current [Unix time](https://www.epochconverter.com/)). If this is the case, you can easily adjust the start of your timestamps by subtracting the lowest timestamp value from all of the entries:"
      ],
      "metadata": {
        "id": "Wwrxv_XEbRud"
      }
    },
    {
      "cell_type": "code",
      "source": [
        "df['Time'] = df['Time'] - df['Time'].min()\n",
        "df.head(10)"
      ],
      "metadata": {
        "id": "IL1Fg_ZeaWUn"
      },
      "execution_count": null,
      "outputs": []
    },
    {
      "cell_type": "markdown",
      "source": [
        "# Option 2: `datetime`"
      ],
      "metadata": {
        "id": "b0ZZvy3ZFLVm"
      }
    },
    {
      "cell_type": "markdown",
      "source": [
        "For situations when it is important to keep track of the exact real-world date when a measurement was taken, one option is to use Python's built-in `datetime` object."
      ],
      "metadata": {
        "id": "lr8hNWAUFRUR"
      }
    },
    {
      "cell_type": "code",
      "source": [
        "# Get the current time\n",
        "from datetime import datetime\n",
        "datetime.now()"
      ],
      "metadata": {
        "id": "qginPwSbGTK1"
      },
      "execution_count": null,
      "outputs": []
    },
    {
      "cell_type": "code",
      "source": [
        "# Create a timestamp for a specific date and time\n",
        "datetime(2022, 9, 1, 12, 0, 0)  # September 1, 2022, 12:00 PM"
      ],
      "metadata": {
        "id": "JzCbfRpIh7Az"
      },
      "execution_count": null,
      "outputs": []
    },
    {
      "cell_type": "markdown",
      "source": [
        "This data structure allows you to easily extract the specific characteristics of a given date, such as the year, minute, or even microsecond:\n",
        "\n"
      ],
      "metadata": {
        "id": "6JDqWsz2iSjt"
      }
    },
    {
      "cell_type": "code",
      "source": [
        "current_time = datetime.now()\n",
        "print(f\"Current year: {current_time.year}\")\n",
        "print(f\"Current minute: {current_time.minute}\")\n",
        "print(f\"Current microsecond: {current_time.microsecond}\")"
      ],
      "metadata": {
        "id": "pzwd-pfjkoOG"
      },
      "execution_count": null,
      "outputs": []
    },
    {
      "cell_type": "markdown",
      "source": [
        "If the horizontal axis involves `datetime` objects, the `plot()` function in `matplotlib` is good at automatically recognizing them as dates and displaying them as such."
      ],
      "metadata": {
        "id": "9R7d5ku6qY-R"
      }
    },
    {
      "cell_type": "code",
      "source": [
        "# Manipulate the timestamps so they start at the current time\n",
        "# No need to worry about the syntax\n",
        "from datetime import timedelta\n",
        "df = pd.read_csv('walking.csv')\n",
        "current_time = datetime.now()\n",
        "df['Date'] = df['Time'].apply(lambda t: current_time + timedelta(seconds=t))\n",
        "df.head(10)"
      ],
      "metadata": {
        "id": "j97Xl-3JqYoL"
      },
      "execution_count": null,
      "outputs": []
    },
    {
      "cell_type": "code",
      "source": [
        "plt.figure(figsize=(5,3))\n",
        "plt.plot(df['Date'], df['Accel'], 'k-')\n",
        "plt.xlabel('Date')\n",
        "plt.ylabel('Accelerometer (m/s^2)')\n",
        "plt.xticks(rotation=45)\n",
        "plt.show()"
      ],
      "metadata": {
        "id": "RmX8HTSEqR9-"
      },
      "execution_count": null,
      "outputs": []
    },
    {
      "cell_type": "markdown",
      "source": [
        "# Option 3: `Timestamp` in `pandas`"
      ],
      "metadata": {
        "id": "qfdQNmFP8soK"
      }
    },
    {
      "cell_type": "markdown",
      "source": [
        "`pandas` provides powerful functionality to automatically infer dates from strings. Dates are technically converted into a bespoke data type in `pandas` called `Timestamp`, but is functionally similar to the `datetime` object in Python."
      ],
      "metadata": {
        "id": "3M0V1pS9NIk6"
      }
    },
    {
      "cell_type": "markdown",
      "source": [
        "In the example below, we create a `DataFrame` using our own formatted string. By using the `to_datetime()` function, `pandas` automatically infers which parts of the string correspond to the year, month, etc."
      ],
      "metadata": {
        "id": "Eked0lBfATVf"
      }
    },
    {
      "cell_type": "code",
      "source": [
        "# Check the current data type of each column\n",
        "frame_dict = {'Date': ['Jan-01-2023 12:00', 'Jan-02-2023 1:00', 'Jan-03-2023 2:00', 'Jan-04-2023 3:00'],\n",
        "              'Value': [45, 34, 23, 12]}\n",
        "df = pd.DataFrame(frame_dict)\n",
        "df.info()"
      ],
      "metadata": {
        "id": "2IGDbYew8cvj"
      },
      "execution_count": null,
      "outputs": []
    },
    {
      "cell_type": "code",
      "source": [
        "# Convert the data type of the Date column to a datetime\n",
        "df['Date'] = pd.to_datetime(df['Date'])\n",
        "df.info()"
      ],
      "metadata": {
        "id": "Gkhnr1LJ-XMZ"
      },
      "execution_count": null,
      "outputs": []
    },
    {
      "cell_type": "code",
      "source": [
        "plt.figure(figsize=(5,3))\n",
        "plt.plot(df['Date'], df['Value'], 'ko')\n",
        "plt.xlabel('Date')\n",
        "plt.ylabel('Accelerometer (m/s^2)')\n",
        "plt.xticks(rotation=45)\n",
        "plt.show()"
      ],
      "metadata": {
        "id": "w4nFknfb9txL"
      },
      "execution_count": null,
      "outputs": []
    },
    {
      "cell_type": "markdown",
      "source": [
        "When you load data from a .csv file, you can automatically suggest that certain columns are parsed as dates by setting the `infer_datetime_format` argument to `True` and specifying the columns that should be parsed using the `parse_dates` argument"
      ],
      "metadata": {
        "id": "gQtrxHA1A4uv"
      }
    },
    {
      "cell_type": "code",
      "source": [
        "df = pd.read_csv('walking.csv', parse_dates=['Time'], infer_datetime_format=True)\n",
        "df.info()"
      ],
      "metadata": {
        "id": "HOKULhOb-xVD"
      },
      "execution_count": null,
      "outputs": []
    },
    {
      "cell_type": "markdown",
      "source": [
        "In this case, using this functionality isn't going to do anything because using a single `int` as a human-interpretable date is underspecified. However, this technique will work for most columns that contain readily identifiable dates."
      ],
      "metadata": {
        "id": "_5BukSGfBnJe"
      }
    }
  ]
}