{
  "nbformat": 4,
  "nbformat_minor": 0,
  "metadata": {
    "colab": {
      "provenance": [],
      "collapsed_sections": [
        "OBADxK39qJDx",
        "GEN9W9fPgbij",
        "QT3DQn4rqmY5"
      ]
    },
    "kernelspec": {
      "name": "python3",
      "display_name": "Python 3"
    },
    "language_info": {
      "name": "python"
    }
  },
  "cells": [
    {
      "cell_type": "markdown",
      "source": [
        "In this notebook, we're going to talk about the importance of the spacing between data points in a time series and how to adjust that spacing post-hoc in software.\n"
      ],
      "metadata": {
        "id": "Vj8n7JvdwZ8S"
      }
    },
    {
      "cell_type": "markdown",
      "source": [
        "# Important: Run this code cell each time you start a new session!"
      ],
      "metadata": {
        "id": "OBADxK39qJDx"
      }
    },
    {
      "cell_type": "code",
      "source": [
        "!pip install numpy\n",
        "!pip install pandas\n",
        "!pip install matplotlib\n",
        "!pip install ipywidgets\n",
        "!pip install os\n",
        "import numpy as np\n",
        "import pandas as pd\n",
        "import matplotlib.pyplot as plt\n",
        "import os"
      ],
      "metadata": {
        "id": "yuzcYs-MUBvs"
      },
      "execution_count": null,
      "outputs": []
    },
    {
      "cell_type": "code",
      "source": [
        "!wget -Ncnp https://physionet.org/files/accelerometry-walk-climb-drive/1.0.0/raw_accelerometry_data/id00b70b13.csv"
      ],
      "metadata": {
        "id": "Q8hsDyCZ8Hrr"
      },
      "execution_count": null,
      "outputs": []
    },
    {
      "cell_type": "code",
      "source": [
        "df = pd.read_csv('id00b70b13.csv')\n",
        "\n",
        "# Filter to only walking activity, which is given a code of 1\n",
        "df = df[df['activity'] == 1]\n",
        "\n",
        "# Process the time\n",
        "df.rename(columns={'time_s': 'Time'}, inplace=True)\n",
        "df = df[(df['Time']>=700) & (df['Time']<=710)]\n",
        "df['Time'] = df['Time'] - df['Time'].min()\n",
        "\n",
        "# Process the accel\n",
        "df['Accel'] = np.sqrt(df['la_x']**2 + df['la_y']**2 + df['la_z']**2)*9.8\n",
        "\n",
        "# Keep only crucial columns\n",
        "keep_cols = ['Time', 'Accel']\n",
        "df = df[keep_cols]\n",
        "df.to_csv('walking.csv',index=False)"
      ],
      "metadata": {
        "id": "3b4MgOU-8Rrs"
      },
      "execution_count": null,
      "outputs": []
    },
    {
      "cell_type": "markdown",
      "source": [
        "# What Is Sampling Rate?"
      ],
      "metadata": {
        "id": "GEN9W9fPgbij"
      }
    },
    {
      "cell_type": "markdown",
      "source": [
        "Most phonemona that we would want to represent using time-series data is inherently continuous, but capturing that information into a digital signal that can be processed requires taking mesaurements at discrete time points.\n",
        "\n",
        "For example, there are two ways that we could record the outdoor air temperature throughout the day:\n",
        "1. We could periodically look at a thermometer and write down the readings or, in which case we could maybe measure the temperature every minute or so\n",
        "2. We could program a temperature sensor to periodically detect, transmit, and store the sensed temperature, in which case we could probably get hundreds of measurements per second.\n",
        "\n",
        "Regardless, there is no way of feasibly recording the temperature at every possible moment that theoretically exists."
      ],
      "metadata": {
        "id": "9KsAM7I71QDj"
      }
    },
    {
      "cell_type": "markdown",
      "source": [
        "The ***sampling rate*** is the frequency at which a continuous signal is sampled or measured in order to convert it into a digital signal. The units that we typical use to discuss sampling rate is samples per second, also known as Hertz (Hz).\n",
        "\n",
        "The sampling rate determines the level of detail and accuracy of the digital representation of the original signal. A higher sampling rate results in a more accurate representation of the original signal, but it also requires more storage and computational power to process."
      ],
      "metadata": {
        "id": "j6NGI2VfgjEz"
      }
    },
    {
      "cell_type": "markdown",
      "source": [
        "To understand the implications of a sampling rate, let's digitally sample a signal that we will pretend to be a continuous sinusoid.\n",
        "\n",
        "In the code cell below, the black line represents the continuous signal, while the red points indicate the digital samples that are recorded according to the sampling rate. Bear in mind that the red lines are strictly used to show the shape of the data being summarized. In actuality, the only information that is being saved is the red circles.\n",
        "\n",
        "Look at the impact of increasing and decreasing the sampling rate by moving the `sampling_rate` slider and then re-running the code block."
      ],
      "metadata": {
        "id": "dNNBsDAIxF_w"
      }
    },
    {
      "cell_type": "code",
      "source": [
        "sampling_rate = 10 #@param {type:\"slider\", min:5, max:25, step:5}\n",
        "\n",
        "# Calculate the \"real signal\"\n",
        "x = np.linspace(0, 1, 1000)\n",
        "y = np.sin(2*np.pi*x)\n",
        "\n",
        "# Calculate the \"sampled signal\"\n",
        "x_sampled = np.linspace(0, 1, sampling_rate)\n",
        "y_sampled = np.sin(2*np.pi*x_sampled)\n",
        "\n",
        "# Plot both of them\n",
        "plt.figure(figsize=(5, 3))\n",
        "plt.plot(x, y, 'k-')\n",
        "plt.plot(x_sampled, y_sampled, 'r-')\n",
        "plt.stem(x_sampled, y_sampled, 'r')\n",
        "plt.xlabel('Time (s)')\n",
        "plt.ylabel('sin(x)')\n",
        "plt.show()"
      ],
      "metadata": {
        "id": "6_FVNKjRh_m6"
      },
      "execution_count": null,
      "outputs": []
    },
    {
      "cell_type": "markdown",
      "source": [
        "When our sampling rate is very low, the sampled points do not sufficiently summarize the shape of the smooth curvy signal. As we increase the sampling rate, the lines drawn between the points look closer to our ideal sinuosoid."
      ],
      "metadata": {
        "id": "SzdjzicyxXVV"
      }
    },
    {
      "cell_type": "markdown",
      "source": [
        "# Changing the Sampling Rate"
      ],
      "metadata": {
        "id": "QT3DQn4rqmY5"
      }
    },
    {
      "cell_type": "markdown",
      "source": [
        "Depending on the signal you are capturing, you may or may not have control over how the data is sampled before you load it in your code. Here are some scenarios where you may have control over the sampling rate of your data:\n",
        "* You are using a medical device or sensor that allows you to change the setting of how often it produces a measurement\n",
        "* You have a separate program that periodically queries an API for data (e.g., weather forecasts)\n",
        "* You are asking people to fill out a questionnaire or survey at a fixed interval"
      ],
      "metadata": {
        "id": "gk2Va2LbqvSC"
      }
    },
    {
      "cell_type": "markdown",
      "source": [
        "You might find yourself in situations when you will want to digitally change the sampling rate of your data to simplify your analysis:\n",
        "1. You might want to **upsample**, or increase the sampling rate of your signal, to fill in gaps or provide more fidelity for downstream analysis.\n",
        "2. You might want to **downsample**, or decrease the sampling rate of your signal, to speed up your code by reducing the amount of data you need to process.\n",
        "3. You might want to make the sampling **more uniform** because it was not collected at a regular interval."
      ],
      "metadata": {
        "id": "tPU6LZMtR4xS"
      }
    },
    {
      "cell_type": "markdown",
      "source": [
        "One way we can modify the sampling rate of our data is by using ***interpolation***. Interpolation refers to the idea of estimating values that lie between two known data points. There are multiple variations of interpolation; some examples are described below in increasing order of complexity:\n",
        "* **Nearest neighbor interpolation:** Missing values are assigned based on the closest data point from the original signal.\n",
        "* **Linear interpolation:** Missing values are assigned based on a line that is drawn between the two closest data points from the original signal.\n",
        "* **Spline interpolation:** Missing values are assigned based on piecewise polynomial functions fit to sections of the original signal."
      ],
      "metadata": {
        "id": "D2hj7M1xqqdJ"
      }
    },
    {
      "cell_type": "markdown",
      "source": [
        "The `interp()` function in `numpy` is one of the convenient ways of performing linear interpolation. This function requires three inputs:\n",
        "1. The times at which the new samples should be generated\n",
        "2. The times of the original samples\n",
        "3. The values of the original samples"
      ],
      "metadata": {
        "id": "CzHSmDExq3Ig"
      }
    },
    {
      "cell_type": "markdown",
      "source": [
        "The code cell below illustrates the output of this function. The time series in black represents our initial signal, which is sampled at 20 Hz. The variable `new_sampling_rate` will dictate how many points we want in the new time series between the start and end of the original signal.\n",
        "\n",
        "Play around with different settings of `new_sampling_rate` to see what happens. As you can tell by the range of the slider, you can actually use this function to upsample or downsample the signal."
      ],
      "metadata": {
        "id": "D8wdhPXLoF_9"
      }
    },
    {
      "cell_type": "code",
      "source": [
        "new_sampling_rate = 25 #@param {type:\"slider\", min:5, max:35, step:5}\n",
        "\n",
        "# Generate the original signal\n",
        "x = np.linspace(0, 1, 20)\n",
        "y = np.sin(2*np.pi*x)\n",
        "max_x = np.max(x)\n",
        "\n",
        "# Calculate where the new points should be\n",
        "x_resampled = np.linspace(0, max_x, int(max_x*new_sampling_rate))\n",
        "\n",
        "# Use the interp function to calculate where the new y-values should be\n",
        "y_resampled = np.interp(x_resampled, x, y)\n",
        "\n",
        "# Plot both of them\n",
        "plt.figure(figsize=(5, 3))\n",
        "plt.plot(x, y, 'k-o')\n",
        "plt.plot(x_resampled, y_resampled, 'rx')\n",
        "plt.xlabel('Time (s)')\n",
        "plt.ylabel('sin(x)')\n",
        "plt.show()"
      ],
      "metadata": {
        "id": "WFUl_eYET8-O"
      },
      "execution_count": null,
      "outputs": []
    },
    {
      "cell_type": "markdown",
      "source": [
        "This technique can also work in situations when data is missing, but bear in mind that interpolation can only generate data using information that is already available in the original signal."
      ],
      "metadata": {
        "id": "5UB0Dw7Z-MuE"
      }
    },
    {
      "cell_type": "code",
      "source": [
        "# Generate the original signal\n",
        "x = np.linspace(0, 1, 20)\n",
        "y = np.sin(2*np.pi*x)\n",
        "\n",
        "# Remove some data points\n",
        "remove_idx = [5, 6, 7, 18]\n",
        "x = np.delete(x, remove_idx)\n",
        "y = np.delete(y, remove_idx)\n",
        "\n",
        "# Calculate where the new points should be\n",
        "x_resampled = np.linspace(0, 1, 20)\n",
        "\n",
        "# Use the interp function to calculate where the new y-values should be\n",
        "y_resampled = np.interp(x_resampled, x, y)\n",
        "\n",
        "# Plot both of them\n",
        "plt.figure(figsize=(5, 3))\n",
        "plt.plot(x, y, 'k-o')\n",
        "plt.plot(x_resampled, y_resampled, 'rx')\n",
        "plt.xlabel('Time (s)')\n",
        "plt.ylabel('sin(x)')\n",
        "plt.show()"
      ],
      "metadata": {
        "id": "sFi92aZA-ZRe"
      },
      "execution_count": null,
      "outputs": []
    }
  ]
}