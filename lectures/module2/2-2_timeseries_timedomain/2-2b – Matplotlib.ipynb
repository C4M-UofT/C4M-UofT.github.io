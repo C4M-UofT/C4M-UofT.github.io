{
  "nbformat": 4,
  "nbformat_minor": 0,
  "metadata": {
    "colab": {
      "provenance": [],
      "collapsed_sections": [
        "DekAnzq1b82b",
        "LidNJ6Ng3cHq",
        "HLrHKFVYxN9l",
        "rfV3FkVV3abG",
        "3PdCrp7wVK7L",
        "N26W4EMNLcv-"
      ]
    },
    "kernelspec": {
      "name": "python3",
      "display_name": "Python 3"
    },
    "language_info": {
      "name": "python"
    }
  },
  "cells": [
    {
      "cell_type": "markdown",
      "source": [
        "In this notebook, we're going to talk about [`matplotlib`](https://matplotlib.org/) — a comprehensive library for creating static, animated, and interactive visualizations in Python. We will use this library throughout the course to visualize our datasets and the performance of the machine learning models we will eventually be building."
      ],
      "metadata": {
        "id": "BDaO9cuMWe83"
      }
    },
    {
      "cell_type": "markdown",
      "source": [
        "It should be noted that `pandas` has many built-in functions for generating plots directly from `DataFrames`, typically using `matplotlib` behind the scenes. While this can sometimes be more convenient than grabbing data yourself and then mantually writing `matplotlib` code to generate a figure, there are going to be many situations when you are going to want to plot data from `numpy` arrays or other data structures. Therefore, we're going to stick with `matplotlib` so that you have the tools you need to plot anything."
      ],
      "metadata": {
        "id": "il7rks0BF1rH"
      }
    },
    {
      "cell_type": "code",
      "source": [
        "!pip install matplotlib\n",
        "import matplotlib.pyplot as plt"
      ],
      "metadata": {
        "id": "pXgM2kugThcr"
      },
      "execution_count": null,
      "outputs": []
    },
    {
      "cell_type": "markdown",
      "source": [
        "# Important: Run this code cell each time you start a new session!"
      ],
      "metadata": {
        "id": "DekAnzq1b82b"
      }
    },
    {
      "cell_type": "code",
      "source": [
        "!pip install numpy\n",
        "!pip install pandas\n",
        "!pip install os\n",
        "import numpy as np\n",
        "import pandas as pd\n",
        "import os"
      ],
      "metadata": {
        "id": "-H77qbomyAzs"
      },
      "execution_count": null,
      "outputs": []
    },
    {
      "cell_type": "code",
      "source": [
        "# Download some files of a sepsis dataset\n",
        "sepsis_folder = \"sepsis_dataset\"\n",
        "if not os.path.exists(sepsis_folder):\n",
        "    os.mkdir(sepsis_folder)\n",
        "patient_list = range(1, 11)\n",
        "patient_list = [f'p{str(s).zfill(6)}.psv' for s in patient_list]\n",
        "for f in patient_list:\n",
        "  !wget -nc https://physionet.org/files/challenge-2019/1.0.0/training/training_setA/{f}\n",
        "  os.rename(f, os.path.join(sepsis_folder, f))"
      ],
      "metadata": {
        "id": "bASFcdZNZuGJ"
      },
      "execution_count": null,
      "outputs": []
    },
    {
      "cell_type": "code",
      "source": [
        "# Convert the sepsis dataset to a single csv\n",
        "def load_single_file(file_path):\n",
        "    df = pd.read_csv(file_path, sep=\"|\")\n",
        "    df['PatientID'] = file_path.split(os.sep)[-1][:-4]\n",
        "    df['Hour'] = df.index\n",
        "    keep_cols = ['PatientID', 'Age', 'Gender', 'SepsisLabel', 'Hour',\n",
        "                 'HR', 'O2Sat', 'SBP', 'DBP', 'Resp']\n",
        "    df = df[keep_cols]\n",
        "    df.rename(columns={'Gender': 'Sex', 'SepsisLabel': 'HasSepsis'}, inplace=True)\n",
        "    return df\n",
        "\n",
        "def create_final_table(patient_list):\n",
        "    final_df = pd.DataFrame()\n",
        "    for f in patient_list:\n",
        "        df = load_single_file(os.path.join(sepsis_folder, f))\n",
        "        final_df = pd.concat([final_df, df])\n",
        "    final_df.to_csv('sepsis.csv',index=False)\n",
        "create_final_table(patient_list)"
      ],
      "metadata": {
        "id": "2hP2UnPrcEdI"
      },
      "execution_count": null,
      "outputs": []
    },
    {
      "cell_type": "markdown",
      "source": [
        "# Bar Chart"
      ],
      "metadata": {
        "id": "LidNJ6Ng3cHq"
      }
    },
    {
      "cell_type": "markdown",
      "source": [
        "Let's revisit the [2019 PhysioNet Challenge](https://physionet.org/content/challenge-2019/1.0.0/) dataset we used in the last session, but this time we will look at data recorded across multiple hours."
      ],
      "metadata": {
        "id": "-W8T1i5C38IH"
      }
    },
    {
      "cell_type": "code",
      "source": [
        "df = pd.read_csv('sepsis.csv')\n",
        "df"
      ],
      "metadata": {
        "id": "FQfl7zc04Y79"
      },
      "execution_count": null,
      "outputs": []
    },
    {
      "cell_type": "markdown",
      "source": [
        "Imagine that we wanted to figure out how many rows in the table are associated with each patient. One of the best ways of displaying this information is a ***bar chart***."
      ],
      "metadata": {
        "id": "08lnO9uTEy4G"
      }
    },
    {
      "cell_type": "markdown",
      "source": [
        "To make this graph, we will want to get two sets of data:\n",
        "1. The independent variable, which is the ID of each patient\n",
        "2. The dependent variable, which is the number of rows they have in the dataset"
      ],
      "metadata": {
        "id": "CrcDaLQ4kJjc"
      }
    },
    {
      "cell_type": "markdown",
      "source": [
        "To get this data from a `Series`, we can use the handy `.value_counts()` method. The values in the output will be our dependent values, and the corresponding indices will be our independent values."
      ],
      "metadata": {
        "id": "CqWNUDLpilPY"
      }
    },
    {
      "cell_type": "code",
      "source": [
        "# Counts the number of times each unique patient name appears in the Series\n",
        "num_samples = df['PatientID'].value_counts()\n",
        "print(num_samples)"
      ],
      "metadata": {
        "id": "R6ZM7FPlFQbI"
      },
      "execution_count": null,
      "outputs": []
    },
    {
      "cell_type": "markdown",
      "source": [
        "We can plot this data using the `bar()` function in `matplotlib`. At minimum, we need to specify the independent variable and the dependent variable in that order. These arguments can be lists, `numpy` arrays, or `pandas` `Series`."
      ],
      "metadata": {
        "id": "D-7FFhJgizwS"
      }
    },
    {
      "cell_type": "markdown",
      "source": [
        "The two other commands we're using below are not strictly necessary, but we'll use them to make the graphs look more tidy in Jupyter."
      ],
      "metadata": {
        "id": "dbSHhMnhjOBd"
      }
    },
    {
      "cell_type": "code",
      "source": [
        "plt.figure(figsize=(5, 3)) # Generates a new 3\"x5\" figure\n",
        "plt.bar(num_samples.index, num_samples) # x-axis is Patient ID, y-axis is the number of samples\n",
        "plt.show() # Shows the figure without any extra text in the console"
      ],
      "metadata": {
        "id": "vZreLDTii4HR"
      },
      "execution_count": null,
      "outputs": []
    },
    {
      "cell_type": "markdown",
      "source": [
        "This is a good starting point, but there are a couple of issues with this graph:\n",
        "1. It's hard to read the patient names along the x-axis.\n",
        "2. If we were to send this image to someone, they won't know what this graph is showing unless we give them some additional background information.\n",
        "\n",
        "It is good to get in the habit of making clearly labelled graphs where people know exactly what they are looking at."
      ],
      "metadata": {
        "id": "gSSrpd7Xjcap"
      }
    },
    {
      "cell_type": "markdown",
      "source": [
        "Let's clean up this image a bit."
      ],
      "metadata": {
        "id": "cIv_31U1j02M"
      }
    },
    {
      "cell_type": "code",
      "source": [
        "plt.figure(figsize=(5, 3))\n",
        "plt.bar(num_samples.index, num_samples)\n",
        "plt.xlabel('Patient ID') # Add a label to the x-axis\n",
        "plt.ylabel('Num Samples') # Add a label to the y-axis\n",
        "plt.title('Distribution of Data Availability') # Add a title\n",
        "plt.xticks(rotation = 90) # We're rotating the tick marks so that they don't overlap\n",
        "plt.show()"
      ],
      "metadata": {
        "id": "kpaws1ASFInp"
      },
      "execution_count": null,
      "outputs": []
    },
    {
      "cell_type": "markdown",
      "source": [
        "Notice that we created yet a new figure at the top of the previous code block. As we'll see later, this ensures that you are working with a blank canvas whenever you are creating a plot. Otherwise, you might generate two plots on the same figure instance."
      ],
      "metadata": {
        "id": "p61lXueTTE3e"
      }
    },
    {
      "cell_type": "markdown",
      "source": [
        "# Box Plot"
      ],
      "metadata": {
        "id": "HLrHKFVYxN9l"
      }
    },
    {
      "cell_type": "markdown",
      "source": [
        "Now let's make this a bit more complicated. Rather than trying to plot a single number for each patient, let's look at the distribution of heart rates for each patient in our dataset. In other words, we want a ***box plot*** (i.e., a box-and-whiskers plot) showing the heart rate data of each patient."
      ],
      "metadata": {
        "id": "B5vO4HDVFCdv"
      }
    },
    {
      "cell_type": "markdown",
      "source": [
        "To make this graph, we will want to get two sets of data:\n",
        "1. The independent variable, which is the ID of each patient\n",
        "2. The dependent variable, which is the corresponding list of heart rate measurements for each patient"
      ],
      "metadata": {
        "id": "J_IgAtOrR0MD"
      }
    },
    {
      "cell_type": "markdown",
      "source": [
        "`boxplot()` is different from most other graphing functions in `matplotlib` because it only takes in a single input: a list of lists that will be used to generate the distributions. Another important consideration about `boxplot()` is that it does not like it calculating distributions when there are `nan` values. Here is some code to get the data in a format suitable for `boxplot()`:"
      ],
      "metadata": {
        "id": "udYFRI2DTBma"
      }
    },
    {
      "cell_type": "markdown",
      "source": [
        "There are some advanced functions provided by `pandas` to help us get what we need, but we'll do it manually to save the time of going over them. The manual approach will involve the following steps:\n",
        "1. Initialize a data structure where we will accumulate our results.\n",
        "2. Get all the patient IDs\n",
        "3. For each patient ID, grab all of the corresponding rows in the `DataFrame`\n",
        "4. Remove the heart rate values that are `nan`\n",
        "5. Add the list of remaining heart rate values to our accumulator"
      ],
      "metadata": {
        "id": "cOYJ3_vXtm6D"
      }
    },
    {
      "cell_type": "code",
      "source": [
        "# Create a place to store this data\n",
        "patient_ids = df['PatientID'].unique()\n",
        "list_of_heart_rate_lists = []\n",
        "\n",
        "# Iterate through unique PatientIDs\n",
        "for patient_id in patient_ids:\n",
        "    # Grab their heart rate data\n",
        "    patient_df = df[df['PatientID'] == patient_id]\n",
        "    patient_hrs = patient_df['HR'].values\n",
        "\n",
        "    # Remove all the heart rates that are nan\n",
        "    patient_hrs = patient_hrs[~np.isnan(patient_hrs)]\n",
        "    list_of_heart_rate_lists.append(patient_hrs)\n",
        "\n",
        "print(patient_ids)\n",
        "print(list_of_heart_rate_lists)"
      ],
      "metadata": {
        "id": "nqWO61whtazi"
      },
      "execution_count": null,
      "outputs": []
    },
    {
      "cell_type": "markdown",
      "source": [
        "Let's see what happens when we use it."
      ],
      "metadata": {
        "id": "aKG9NMnhXwn0"
      }
    },
    {
      "cell_type": "code",
      "source": [
        "# Plot the data\n",
        "plt.figure(figsize=(5, 3))\n",
        "plt.boxplot(list_of_heart_rate_lists)\n",
        "plt.xlabel('Patient ID')\n",
        "plt.ylabel('Heart Rate')\n",
        "plt.title('Heart Rate Measurements')\n",
        "plt.show()"
      ],
      "metadata": {
        "id": "aNHre4auR_d6"
      },
      "execution_count": null,
      "outputs": []
    },
    {
      "cell_type": "markdown",
      "source": [
        "The default tick marks along the bottom are the numbers 1...N, where N is the number of distributions we want to show. We can give these tick marks more meaningful names as follows:"
      ],
      "metadata": {
        "id": "wG4OYRdvTLVe"
      }
    },
    {
      "cell_type": "code",
      "source": [
        "# Generate a numeric sequence corresponding to the original tick marks\n",
        "old_ticks = np.arange(len(patient_ids))+1\n",
        "\n",
        "# Plot the data\n",
        "plt.figure(figsize=(5, 3))\n",
        "plt.boxplot(list_of_heart_rate_lists)\n",
        "plt.xlabel('Patient ID')\n",
        "plt.ylabel('Heart Rate')\n",
        "plt.title('Heart Rate Measurements')\n",
        "plt.xticks(ticks=old_ticks, labels=patient_ids, rotation=90)\n",
        "plt.show()"
      ],
      "metadata": {
        "id": "9cB0B9XJUMXE"
      },
      "execution_count": null,
      "outputs": []
    },
    {
      "cell_type": "markdown",
      "source": [
        "# Line Graph"
      ],
      "metadata": {
        "id": "rfV3FkVV3abG"
      }
    },
    {
      "cell_type": "markdown",
      "source": [
        "Finally, let's imagine that we wanted to create a ***line graph*** showing the changes in a patient's heart rate over time. To make this graph, we will want to get two sets of data:\n",
        "1. The independent variable, which is the timestamp of each measurement\n",
        "2. The dependent variable, which is the heart rate measurement at each timestamp.\n"
      ],
      "metadata": {
        "id": "YeghFxbchvJl"
      }
    },
    {
      "cell_type": "code",
      "source": [
        "# Get the timestamps and measurements of the first patient's heart rate data\n",
        "p1_data = df[df['PatientID'] == 'p000001']\n",
        "p1_hr = p1_data['HR']\n",
        "p1_hour = p1_data['Hour']"
      ],
      "metadata": {
        "id": "obBEdBvk4vHi"
      },
      "execution_count": null,
      "outputs": []
    },
    {
      "cell_type": "markdown",
      "source": [
        "We can call the `plot()` function to generate a line graph of this data. Similar to what we was required for the `bar()` function, we need to at least specify the independent and dependent values in that order."
      ],
      "metadata": {
        "id": "7W1s7cru6Gcr"
      }
    },
    {
      "cell_type": "code",
      "source": [
        "plt.figure(figsize=(5, 3))\n",
        "plt.plot(p1_hour, p1_hr)\n",
        "plt.title('p000001 Heart Rate Data')\n",
        "plt.xlabel('Time (hr)')\n",
        "plt.ylabel('Heart rate (bpm)')\n",
        "plt.show()"
      ],
      "metadata": {
        "id": "XxqxAxWL5Ued"
      },
      "execution_count": null,
      "outputs": []
    },
    {
      "cell_type": "markdown",
      "source": [
        "Notice that this graph has gaps. This is because the heart rate value at that time was `np.nan`, and `matplotlib` ignores these values when generating plots."
      ],
      "metadata": {
        "id": "atSrXFFc-B6z"
      }
    },
    {
      "cell_type": "markdown",
      "source": [
        "Now let's say that we wanted to overlay the heart rate data from another patient on top of the graph. Let's start by grabbing that data."
      ],
      "metadata": {
        "id": "StbmFmDw9Giq"
      }
    },
    {
      "cell_type": "code",
      "source": [
        "# Get the second patient's data\n",
        "p2_data = df[df['PatientID'] == 'p000002']\n",
        "p2_hr = p2_data['HR']\n",
        "p2_hour = p2_data['Hour']"
      ],
      "metadata": {
        "id": "U5RxTP9d9NZo"
      },
      "execution_count": null,
      "outputs": []
    },
    {
      "cell_type": "markdown",
      "source": [
        "And now let's add that data to our graph. We can do that by calling `plot()` a second time without generating a new figure with `plt.figure()`."
      ],
      "metadata": {
        "id": "R6Gby29K9rk3"
      }
    },
    {
      "cell_type": "code",
      "source": [
        "plt.figure(figsize=(5, 3))\n",
        "plt.plot(p1_hour, p1_hr)\n",
        "plt.plot(p2_hour, p2_hr) # Plot the new data\n",
        "plt.title('p000001 + p000002 Heart Rate Data')\n",
        "plt.xlabel('Time (hr)')\n",
        "plt.ylabel('Heart rate (bpm)')\n",
        "plt.show()"
      ],
      "metadata": {
        "id": "UTFnigVH94CD"
      },
      "execution_count": null,
      "outputs": []
    },
    {
      "cell_type": "markdown",
      "source": [
        "So now we have two lines, and `matplotlib` automatically drew the new line with a different color. But how are other people going to know which line belongs to which patient? Let's add an informative legend."
      ],
      "metadata": {
        "id": "8ihEIS_Z-26l"
      }
    },
    {
      "cell_type": "code",
      "source": [
        "plt.figure(figsize=(5, 3))\n",
        "plt.plot(p1_hour, p1_hr, label='p000001') # Add a label to the first patient's data\n",
        "plt.plot(p2_hour, p2_hr, label='p000002') # Add a label to the second patient's data\n",
        "plt.title('Patient Heart Rate Data')\n",
        "plt.xlabel('Time (hr)')\n",
        "plt.ylabel('Heart rate (bpm)')\n",
        "plt.legend() # Generate the legend\n",
        "plt.show()"
      ],
      "metadata": {
        "id": "gSzcMKP9_JYE"
      },
      "execution_count": null,
      "outputs": []
    },
    {
      "cell_type": "markdown",
      "source": [
        "# Aesthetics"
      ],
      "metadata": {
        "id": "3PdCrp7wVK7L"
      }
    },
    {
      "cell_type": "markdown",
      "source": [
        "With all of the graphs we generated, there are hundreds of parameters we can leverage to tweak the appearance of the graph. `matplotlib` can change, among other visual attributes:\n",
        "* Line color\n",
        "* Line style (e.g., solid, dashed)\n",
        "* Line thickness\n",
        "* Points or no points\n",
        "* Size of points"
      ],
      "metadata": {
        "id": "yRrb_CCF_aWM"
      }
    },
    {
      "cell_type": "markdown",
      "source": [
        "We don't have time to go over all of these features, but here is a quick example to show what is possible."
      ],
      "metadata": {
        "id": "wj6BjbDnALpF"
      }
    },
    {
      "cell_type": "code",
      "source": [
        "plt.figure(figsize=(5, 3))\n",
        "plt.plot(p1_hour, p1_hr, 'k--o', label='p000001') # k = black, -- = dashed line, o = circles for points\n",
        "plt.plot(p2_hour, p2_hr, 'r-*', label='p000002') # r = red, - = solid line, * = stars for points\n",
        "plt.grid() # Add grid lines that match the tick marks along the axes\n",
        "plt.title('Patient Heart Rate Data')\n",
        "plt.xlabel('Time (hr)')\n",
        "plt.ylabel('Heart rate (bpm)')\n",
        "plt.legend()\n",
        "plt.show()"
      ],
      "metadata": {
        "id": "OkTqt94CAPgS"
      },
      "execution_count": null,
      "outputs": []
    },
    {
      "cell_type": "markdown",
      "source": [
        "# Subplots"
      ],
      "metadata": {
        "id": "N26W4EMNLcv-"
      }
    },
    {
      "cell_type": "markdown",
      "source": [
        "You might find it helpful to put multiple plots side-by-side. In these situations, you can use the function `plt.subplot()`, which helps you arrange your plots in a grid. This function takes three arguments: (1) the number of rows you want to set up in your grid, (2) the number of columns you want to set up in your grid, and (3) the position ID of the current graph that you want to plot. For example, this code cell generates a 2 $\\times$ 3 grid of empty plots:"
      ],
      "metadata": {
        "id": "rv2hsXjOLfbm"
      }
    },
    {
      "cell_type": "code",
      "source": [
        "plt.figure(figsize=(7, 7))\n",
        "plt.subplot(2, 3, 1)\n",
        "plt.title('(2, 3, 1)')\n",
        "plt.subplot(2, 3, 2)\n",
        "plt.title('(2, 3, 2)')\n",
        "plt.subplot(2, 3, 3)\n",
        "plt.title('(2, 3, 3)')\n",
        "plt.subplot(2, 3, 4)\n",
        "plt.title('(2, 3, 4)')\n",
        "plt.subplot(2, 3, 5)\n",
        "plt.title('(2, 3, 5)')\n",
        "plt.subplot(2, 3, 6)\n",
        "plt.title('(2, 3, 6)')\n",
        "plt.show()"
      ],
      "metadata": {
        "id": "r1IOZUO5LraL"
      },
      "execution_count": null,
      "outputs": []
    },
    {
      "cell_type": "markdown",
      "source": [
        "You can basically think of these `plt.subplot()` calls as mini-`plt.figure()` calls. Once you create a new subplot, all of the new plots generated thereafer are added to that part of your overall figure."
      ],
      "metadata": {
        "id": "er_nNoVMSkpO"
      }
    },
    {
      "cell_type": "code",
      "source": [
        "plt.figure(figsize=(7, 7))\n",
        "plt.subplot(2, 3, 1)\n",
        "plt.plot(p1_hour, p1_hr)\n",
        "plt.title('(2, 3, 1): Patient 1 Data')\n",
        "plt.subplot(2, 3, 2)\n",
        "plt.title('(2, 3, 2)')\n",
        "plt.subplot(2, 3, 3)\n",
        "plt.plot(p2_hour, p2_hr)\n",
        "plt.title('(2, 3, 3): Patient 2 Data')\n",
        "plt.subplot(2, 3, 4)\n",
        "plt.title('(2, 3, 4)')\n",
        "plt.subplot(2, 3, 5)\n",
        "plt.title('(2, 3, 5)')\n",
        "plt.subplot(2, 3, 6)\n",
        "plt.title('(2, 3, 6)')\n",
        "plt.show()"
      ],
      "metadata": {
        "id": "TXr5rynRZWwQ"
      },
      "execution_count": null,
      "outputs": []
    },
    {
      "cell_type": "markdown",
      "source": [
        "You can actually get quite creative with subplots by mixing your grid specifications. In this example here, we split up the top row into two plots, but we pretend that the bottom row only has one spot so that the plot fills in both columns:"
      ],
      "metadata": {
        "id": "7x0TN8x4MVw7"
      }
    },
    {
      "cell_type": "code",
      "source": [
        "plt.figure(figsize=(5, 7))\n",
        "plt.subplot(2, 2, 1)\n",
        "plt.title('(2, 2, 1)')\n",
        "plt.subplot(2, 2, 2)\n",
        "plt.title('(2, 2, 2)')\n",
        "plt.subplot(2, 1, 2)\n",
        "plt.title('(2, 1, 2)')\n",
        "plt.show()"
      ],
      "metadata": {
        "id": "xHUmVAZnMmm_"
      },
      "execution_count": null,
      "outputs": []
    }
  ]
}