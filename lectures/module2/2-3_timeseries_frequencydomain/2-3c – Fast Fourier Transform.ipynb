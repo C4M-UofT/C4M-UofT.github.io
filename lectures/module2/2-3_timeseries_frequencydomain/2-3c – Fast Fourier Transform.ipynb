{
  "nbformat": 4,
  "nbformat_minor": 0,
  "metadata": {
    "colab": {
      "provenance": [],
      "collapsed_sections": [
        "OBADxK39qJDx",
        "6jKuLWBaqEdK",
        "mhYP3UFQhkC-",
        "12pyzOpshpMs",
        "6fZgNlA3Ahvh"
      ]
    },
    "kernelspec": {
      "name": "python3",
      "display_name": "Python 3"
    },
    "language_info": {
      "name": "python"
    }
  },
  "cells": [
    {
      "cell_type": "markdown",
      "source": [
        "In this notebook, we will discuss what it means to examine a signal from the frequency domain. You should be aware that there is a significant amount of complex mathematics that underlies these transformations, but we will be jumping straight into the practical application of these concepts."
      ],
      "metadata": {
        "id": "Vj8n7JvdwZ8S"
      }
    },
    {
      "cell_type": "markdown",
      "source": [
        "# Important: Run this code cell each time you start a new session!"
      ],
      "metadata": {
        "id": "OBADxK39qJDx"
      }
    },
    {
      "cell_type": "code",
      "source": [
        "!pip install numpy\n",
        "!pip install pandas\n",
        "!pip install matplotlib\n",
        "!pip install os\n",
        "!pip install librosa\n",
        "import numpy as np\n",
        "import pandas as pd\n",
        "import matplotlib.pyplot as plt\n",
        "import os\n",
        "from IPython.display import Audio\n",
        "import librosa as lr\n",
        "import librosa.display"
      ],
      "metadata": {
        "id": "yuzcYs-MUBvs"
      },
      "execution_count": null,
      "outputs": []
    },
    {
      "cell_type": "code",
      "source": [
        "!wget -Ncnp https://physionet.org/files/accelerometry-walk-climb-drive/1.0.0/raw_accelerometry_data/id00b70b13.csv"
      ],
      "metadata": {
        "id": "bASFcdZNZuGJ"
      },
      "execution_count": null,
      "outputs": []
    },
    {
      "cell_type": "code",
      "source": [
        "df = pd.read_csv('id00b70b13.csv')\n",
        "\n",
        "# Filter to only walking activity, which is given a code of 1\n",
        "df = df[df['activity'] == 1]\n",
        "\n",
        "# Process the time\n",
        "df.rename(columns={'time_s': 'Time'}, inplace=True)\n",
        "df = df[(df['Time']>=700) & (df['Time']<=710)]\n",
        "df['Time'] = df['Time'] - df['Time'].min()\n",
        "\n",
        "# Process the accel\n",
        "df['Accel'] = np.sqrt(df['la_x']**2 + df['la_y']**2 + df['la_z']**2)*9.8\n",
        "\n",
        "# Keep only crucial columns\n",
        "keep_cols = ['Time', 'Accel']\n",
        "df = df[keep_cols]\n",
        "df.to_csv('walking.csv',index=False)"
      ],
      "metadata": {
        "id": "2hP2UnPrcEdI"
      },
      "execution_count": null,
      "outputs": []
    },
    {
      "cell_type": "code",
      "source": [
        "!wget -Ncnp https://physionet.org/files/sufhsdb/1.0.1/f1.wav"
      ],
      "metadata": {
        "id": "Fkca2IS8xAX3"
      },
      "execution_count": null,
      "outputs": []
    },
    {
      "cell_type": "code",
      "source": [
        "os.rename('f1.wav', 'heart_sound.wav')"
      ],
      "metadata": {
        "id": "R_p2CEmcxA5p"
      },
      "execution_count": null,
      "outputs": []
    },
    {
      "cell_type": "markdown",
      "source": [
        "# Fourier Transform"
      ],
      "metadata": {
        "id": "6jKuLWBaqEdK"
      }
    },
    {
      "cell_type": "markdown",
      "source": [
        "Most real-world time-series data can be expressed as a sum of sinusoids at different frequencies. While this claim is most believable for time-series that already look like sinusoids, it turns out that this applies to many arbitrary patterns with peaks and troughs, especially when you consider the idea of using different combinations of sinusoids over time."
      ],
      "metadata": {
        "id": "lX6Jk2MusOXf"
      }
    },
    {
      "cell_type": "markdown",
      "source": [
        "The ***Fourier transform*** is a mathematical technique that figures out which frequencies (and which amounts of those frequencies) best reconstructs the original time-series signal. When we use the term ***frequency domain***, we are describing this way of representing data rather than the ***time domain*** that explains how a signal varies over time."
      ],
      "metadata": {
        "id": "7ZM0AHb9qWOG"
      }
    },
    {
      "cell_type": "markdown",
      "source": [
        "The ***fast Fourier transform (FFT)*** is an efficient algorithm that allows us to apply the Fourier transform on a signal with discrete data points, which will be the case anytime we work with real-world data that is digitally sampled."
      ],
      "metadata": {
        "id": "kTCDQ8_79Rzh"
      }
    },
    {
      "cell_type": "markdown",
      "source": [
        "There is also an ***inverse Fourier transform*** and an ***inverse fast Fourier transform***, which convert a signal from the frequency domain to the time domain. However, we will skip over these since we will generally be working with data that starts in the time domain."
      ],
      "metadata": {
        "id": "B_Ne0gGFGOHn"
      }
    },
    {
      "cell_type": "markdown",
      "source": [
        "Both `numpy` and `scipy` have implementations of the FFT algorithm, both of which are called `fft()`. `scipy`'s implementation builds upon `numpy`'s functionality with a few extra features, so we will use that one."
      ],
      "metadata": {
        "id": "B00Ykh2s9qyG"
      }
    },
    {
      "cell_type": "markdown",
      "source": [
        "Let's write some code to do the following:\n",
        "1. Plot a signal in the time domain\n",
        "2. Calculate the FFT\n",
        "3. Plot the result in the frequency domain"
      ],
      "metadata": {
        "id": "L7wF5wJz-_dB"
      }
    },
    {
      "cell_type": "code",
      "source": [
        "from numpy.fft import fftfreq\n",
        "from scipy.fftpack import fft\n",
        "def show_fft(times, values, fs=1000, time_ylim=None, fft_xlim_max=None):\n",
        "    \"\"\"\n",
        "    Shows the time-domain signal and the corresponding FFT\n",
        "    times: the timestamps of the signal as a Numpy array\n",
        "    values: the values of the signal as a Numpy array\n",
        "    fs: the sampling rate of our signal\n",
        "    time_ylim: the boundaries of the y-axis for the time-domain plot\n",
        "    fft_xlim_max: the right boundary for the x-axis of the FFT plot,\n",
        "    indicating the highest frequency we care to view\n",
        "    \"\"\"\n",
        "    # Compute the FFT\n",
        "    fft_mag = np.abs(fft(values))\n",
        "    freqs = fftfreq(len(values), 1/fs)\n",
        "\n",
        "    # Keep the components associated with positive frequencies\n",
        "    pos_freq_idxs = freqs >= 0\n",
        "    freqs = freqs[pos_freq_idxs]\n",
        "    fft_mag = fft_mag[pos_freq_idxs]\n",
        "\n",
        "    # Show the signal in the time domain\n",
        "    plt.figure(figsize=(12, 3))\n",
        "    plt.subplot(1, 2, 1)\n",
        "    plt.plot(times, values)\n",
        "    plt.xlabel('Time (s)')\n",
        "    plt.ylabel('Value')\n",
        "    if time_ylim:\n",
        "        plt.ylim(time_ylim[0], time_ylim[1])\n",
        "    plt.title('Time Domain')\n",
        "\n",
        "    # Show the signal in the frequency domain\n",
        "    plt.subplot(1, 2, 2)\n",
        "    plt.stem(freqs, fft_mag, markerfmt=\" \", basefmt=\"-\")\n",
        "    plt.xlabel('Freq (Hz)')\n",
        "    plt.ylabel('FFT Amplitude |X(freq)|')\n",
        "    plt.xlim(-0.1, fft_xlim_max if fft_xlim_max else freqs.max())\n",
        "    plt.title('Frequency Domain')\n",
        "    plt.show()"
      ],
      "metadata": {
        "id": "GsBXumILmrEz"
      },
      "execution_count": null,
      "outputs": []
    },
    {
      "cell_type": "markdown",
      "source": [
        "To illustrate how powerful an FFT can be, let's write a helper function to create a signal composed of one or many sinusoids with varying frequencies and amplitudes:"
      ],
      "metadata": {
        "id": "8Xat1buXE3qX"
      }
    },
    {
      "cell_type": "code",
      "source": [
        "def generate_sinusoid(freqs, amps, fs=1000):\n",
        "    \"\"\"\n",
        "    Computes a linear combination of sinusoids with various frequencies and amplitudes\n",
        "    freqs: a list of frequencies\n",
        "    amps: a list of amplitudes\n",
        "    fs: the sampling rate of our signal\n",
        "    \"\"\"\n",
        "    x = np.arange(0, 5, 1.0/fs)\n",
        "    y = 0\n",
        "    for freq, amp in zip(freqs, amps):\n",
        "        y += amp*np.sin(2*np.pi*freq*x)\n",
        "    return x, y"
      ],
      "metadata": {
        "id": "3-iUMUDdmnM1"
      },
      "execution_count": null,
      "outputs": []
    },
    {
      "cell_type": "markdown",
      "source": [
        "Play around with the examples below to deduce what the FFT is able to show us."
      ],
      "metadata": {
        "id": "GO7BUz2ilClv"
      }
    },
    {
      "cell_type": "code",
      "source": [
        "freq = 2 #@param {type:\"slider\", min:1, max:5, step:1}\n",
        "amp = 0.5 #@param {type:\"slider\", min:0.5, max:1.5, step:0.5}\n",
        "x, y = generate_sinusoid([freq], [amp])\n",
        "show_fft(x, y, time_ylim=[-3, 3], fft_xlim_max=6)"
      ],
      "metadata": {
        "id": "1N4m9acqE5I_"
      },
      "execution_count": null,
      "outputs": []
    },
    {
      "cell_type": "code",
      "source": [
        "freq1 = 2 #@param {type:\"slider\", min:1, max:5, step:1}\n",
        "freq2 = 3 #@param {type:\"slider\", min:1, max:5, step:1}\n",
        "amp1 = 1 #@param {type:\"slider\", min:0.5, max:1.5, step:0.5}\n",
        "amp2 = 0.5 #@param {type:\"slider\", min:0.5, max:1.5, step:0.5}\n",
        "x, y = generate_sinusoid([freq1, freq2], [amp1, amp2])\n",
        "show_fft(x, y, time_ylim=[-3, 3], fft_xlim_max=6)"
      ],
      "metadata": {
        "id": "DP0sm4SEFGMT"
      },
      "execution_count": null,
      "outputs": []
    },
    {
      "cell_type": "markdown",
      "source": [
        "Here are some observations to be gathered from these examples:\n",
        "* **Location of the spikes:** When a sinusoidal signal is fed into the FFT algorithm, the resulting frequency spectrum will exhibit a peak at the frequency of the sinusoid. For example, a sinusoid at 3 Hz will have a spike at 3 Hz in its FFT.\n",
        "* **Height of the spikes:** The height of the spikes goes up to a very large number. We usually don't need to concern ourselves with the magnitude of those values themselves, but rather the relative magnitude of all the spikes in the FFT. For example, if a signal has components at 2 Hz and at 3 Hz but the latter has twice the amplitude of the former, then the spike at 3 Hz in the FFT will be twice as large.\n"
      ],
      "metadata": {
        "id": "etlibVT_C8x0"
      }
    },
    {
      "cell_type": "markdown",
      "source": [
        "Now that we have an idea of what the FFT does, let's revisit the `show_fft()` function and explain why it was written that way:\n",
        "* **Sampling rate:** We must know the sampling rate of our signal in order to use the FFT. For now, we will assume it is a very large value to ensure that we accurately represent our signal, and we will use this parameter in a couple of places to properly view our FFT. We will get into why the sampling rate is important for digital Fourier transforms later.\n",
        "\n",
        "* **Magnitude and phase:** Notice that we are saving the absolute value of the output of the `fft()` function. This is because the output is actually a series of complex numbers (i.e., a number with real and imaginary components). Skipping over the math of why this is the case, these numbers contain multiple pieces of information so that we can describe the characteristics of a sinusoid with frequency $f$ in the form $y(t) = A*\\sin(ft + \\phi)$ that is used to make our signal. The complex numbers encode the two pieces of information — ***magnitude*** ($A$) and ***phase*** ($\\phi$). In this course, we're mostly going to focus on the magnitude, which can be measured as the absolute value of the complex number.\n",
        "\n",
        "* **Positive and negative frequencies:** Right after we calculate the FFT of the signal, there are extra lines of code to only keep values at indeces associated with positive frequencies. This is because the Fourier transform has the notion of negative frequency in order to make the complex mathematics work out. It turns out that real signals are symmetric across positive and negative frequencies, so we can safely ignore the negative frequencies."
      ],
      "metadata": {
        "id": "ZfVdUBazsVjc"
      }
    },
    {
      "cell_type": "markdown",
      "source": [
        "Although most real-world signals are not going to look nearly as clean as any of the periodic signals we've examined up until this point, it turns out that almost all signals can be broken down into a combination of sinusoids. Let's revisit our real-world signals from earlier in the lecture."
      ],
      "metadata": {
        "id": "VEO_8QUL7u2Y"
      }
    },
    {
      "cell_type": "markdown",
      "source": [
        "# Example 1: Step Counting with Motion Data"
      ],
      "metadata": {
        "id": "mhYP3UFQhkC-"
      }
    },
    {
      "cell_type": "markdown",
      "source": [
        "Let's generate the FFT of our walking motion data:"
      ],
      "metadata": {
        "id": "crsjDDuJFjN7"
      }
    },
    {
      "cell_type": "code",
      "source": [
        "df = pd.read_csv('walking.csv')\n",
        "x = df['Time'].values\n",
        "y = df['Accel'].values\n",
        "show_fft(x, y, fs=100, fft_xlim_max=6)"
      ],
      "metadata": {
        "id": "zSUdMTaYG1Ta"
      },
      "execution_count": null,
      "outputs": []
    },
    {
      "cell_type": "markdown",
      "source": [
        "There is a significant spike in our FFT at 0 Hz. A sinusoid with a frequency of 0 Hz is essentially a flat line ($\\sin(0) = 0$), so where is this flat line in our signal?"
      ],
      "metadata": {
        "id": "6Amup9rvHG57"
      }
    },
    {
      "cell_type": "markdown",
      "source": [
        "Notice that the our time-domain signal is not centered at 0 m/s$^2$, but rather around 20 or 25 m/s$^2$. This offset is achieved in the frequency domain by having a frequency component at 0 Hz. Depending on the kind of data you are analyzing, you might want to include or exclude this offset."
      ],
      "metadata": {
        "id": "w0b-7cdL77sE"
      }
    },
    {
      "cell_type": "markdown",
      "source": [
        "To get rid of the offset, we can simply subtract the mean of the overall signal so that it is centered around 0 m/s$^2$. Let's see what happens when we do that:"
      ],
      "metadata": {
        "id": "dmcjeJBLhSq8"
      }
    },
    {
      "cell_type": "code",
      "source": [
        "df = pd.read_csv('walking.csv')\n",
        "x = df['Time'].values\n",
        "y = df['Accel'].values\n",
        "y -= y.mean()\n",
        "show_fft(x, y, fs=100, fft_xlim_max=6)"
      ],
      "metadata": {
        "id": "U9celQOIhiIB"
      },
      "execution_count": null,
      "outputs": []
    },
    {
      "cell_type": "markdown",
      "source": [
        "Now let's talk about the rest of what we see in our FFT:\n",
        "* **Most dominant spike:** The most dominant spike in our FFT is at 2 Hz. If you look at our signal, you can see that we have roughly two peaks per second. This shows that just by calling the `fft()` function, we were able to quickly identify that the person was taking roughly two steps per second!\n",
        "* **Frequency content near the most dominant spike:** The spike at 2 Hz isn't on its own. Rather, there is some frequency content at 1.7–1.9 Hz and 2.1–2.3 Hz. This is due to a variety of factors like signal noise, limited frequency resolution, and the fact that the person may not be walking at *exactly* 2 Hz.\n",
        "* **Second-most dominant spike:** We also have a relatively large spike at 1 Hz. This could be because the motion sensor was on a single ankle, so one footstep is more prominent than the other. That foot takes one step per second, so we see a corresponding peak there.\n",
        "* **Other spikes:** We don't just have spikes at 1 Hz and 2 Hz. We also have spikes at every multiple of 1 Hz, and the height of these spikes decreases with higher multiples. This is due to ***harmonic resonance***, which is the result of various physical phenomena beyond the scope of this lecture. Mathematically, the intuition of why harmonics happen is because sinusoids with integer-multiples frequencies have similar shape characteristics, namely some of the places where they intersect with the line $y=0$. The plot below illustrates this point."
      ],
      "metadata": {
        "id": "YPxl-bbGh-Fq"
      }
    },
    {
      "cell_type": "code",
      "source": [
        "x = np.linspace(0, 1, 1000)\n",
        "y2 = np.sin(2*np.pi*2*x)\n",
        "y4 = np.sin(2*np.pi*4*x)\n",
        "\n",
        "plt.figure(figsize=(5,3))\n",
        "plt.plot(x, y2, 'r-', label='2 Hz')\n",
        "plt.plot(x, y4, 'g-', label='4 Hz')\n",
        "plt.axhline(y=0, color='k', linestyle='--')\n",
        "plt.plot([0, 0.25, 0.5, 0.75, 1], [0, 0, 0, 0, 0], 'kx', markersize=10, label='Nodes')\n",
        "plt.legend()\n",
        "plt.xlabel('Time (s)')\n",
        "plt.ylabel('Value')\n",
        "plt.show()"
      ],
      "metadata": {
        "id": "UBjiBEywKQLt"
      },
      "execution_count": null,
      "outputs": []
    },
    {
      "cell_type": "markdown",
      "source": [
        "# Example 2: Heart Sound Audio"
      ],
      "metadata": {
        "id": "12pyzOpshpMs"
      }
    },
    {
      "cell_type": "markdown",
      "source": [
        "Let's generate the FFT of our heart sound audio:"
      ],
      "metadata": {
        "id": "kg5RzBiIHPkx"
      }
    },
    {
      "cell_type": "code",
      "source": [
        "y, fs = librosa.load('heart_sound.wav', sr=16000, mono=True,\n",
        "                     offset=25, duration=5)\n",
        "time = np.arange(0, len(y))/fs\n",
        "show_fft(time, y, fs=fs, fft_xlim_max=3000)"
      ],
      "metadata": {
        "id": "T4i4VXGRHfUt"
      },
      "execution_count": null,
      "outputs": []
    },
    {
      "cell_type": "markdown",
      "source": [
        "As we can see, the most significant frequency in this signal is somewhere around 480 Hz, which corresponds to a relatively low-pitch tone. However, this FFT is much more messy than any we have seen up until this point, and there are a couple of reasons for this:\n",
        "* **Sampling rate**: The data is recorded at a much higher frequency, so we can accurately characterize a wide variety of frequencies.\n",
        "* **Changes in the signal properties**: This audio recording is not a single tone. Rather, it is a complex combination of all sorts of tones. If we were to compare this audio recording to a song, each sound is a chord is composed of multiple tones, and different chords are played over time with breaks in between."
      ],
      "metadata": {
        "id": "fFvqb_DcHw46"
      }
    },
    {
      "cell_type": "markdown",
      "source": [
        "While this FFT gives us a rough idea of the overall characteristics of the sound, what we really need is a technique that will allow us to compute an FFT over a shorter sliding window so that we can accurately represent how the audio changes over time. We will talk about such a technique in a few moments, but first..."
      ],
      "metadata": {
        "id": "LmSJF26RPKkW"
      }
    },
    {
      "cell_type": "markdown",
      "source": [
        "# Nyquist–Shannon Sampling Theorem"
      ],
      "metadata": {
        "id": "6fZgNlA3Ahvh"
      }
    },
    {
      "cell_type": "markdown",
      "source": [
        "Recall that we had to keep track for the sampling rate of our signal in order to properly view the results of the FFT. Increasing the sampling rate increases the fidelity with which we can digitally capture the signal over time. This enables us to identify higher frequency content (i.e., quicker oscillations) in the signal. Conversely, if the signal oscillates at a quicker rate than we are digitally sampling, then we will not have the measurements necessary to record that information."
      ],
      "metadata": {
        "id": "0Zykb2rvV-lL"
      }
    },
    {
      "cell_type": "markdown",
      "source": [
        "The **Nyquist-Shannon sampling theorem** (sometimes simply called **Nyquist's theorem**) relates sampling rate to the highest frequency we can capture in our signal. It states that in order to accurately reconstruct a continuous-time signal from its discrete samples, the sampling rate must be at least twice the highest frequency present in the signal."
      ],
      "metadata": {
        "id": "kkUyp7BYaLEh"
      }
    },
    {
      "cell_type": "markdown",
      "source": [
        "Play around with the sliders below to see what happens in the following situations:\n",
        "* `sampling rate` < 2*`signal_freq`\n",
        "* `sampling rate` = 2*`signal_freq`\n",
        "* `sampling rate` > 2*`signal_freq`\n",
        "* `sampling rate` >> 2*`signal_freq`"
      ],
      "metadata": {
        "id": "IFOIaaHkdjVG"
      }
    },
    {
      "cell_type": "code",
      "source": [
        "signal_freq = 10 #@param {type:\"slider\", min:10, max:40, step:10}\n",
        "sampling_rate = 20 #@param {type:\"slider\", min:10, max:40, step:10}\n",
        "\n",
        "# Calculate the \"real signal\"\n",
        "x = np.linspace(0, 1, 1000)\n",
        "y = np.sin(2*np.pi*signal_freq*x)\n",
        "\n",
        "# Calculate the \"sampled signal\"\n",
        "x_sampled = np.linspace(0, 1, sampling_rate)\n",
        "y_sampled = np.sin(2*np.pi*signal_freq*x_sampled)\n",
        "\n",
        "# Plot both of them\n",
        "plt.figure(figsize=(5, 3))\n",
        "plt.plot(x, y, 'k-')\n",
        "plt.plot(x_sampled, y_sampled, 'r-')\n",
        "plt.stem(x_sampled, y_sampled, 'r')\n",
        "plt.xlabel('Time (s)')\n",
        "plt.ylabel('sin(x)')\n",
        "plt.show()"
      ],
      "metadata": {
        "id": "AezqdYqhcI2B"
      },
      "execution_count": null,
      "outputs": []
    },
    {
      "cell_type": "markdown",
      "source": [
        "Here's what happens in each situation:\n",
        "* `sampling rate` < 2*`signal_freq`: We sample data too slowly and are unable to accurately capture the quick oscillations in the signal.\n",
        "* `sampling rate` = 2*`signal_freq`: We record at least one sample for each peak and trough in the black signal. The magnitude of the signal is not accurate, but we can at least accurately capture the signal's frequency content.\n",
        "* `sampling rate` > 2*`signal_freq`: The higher the sampling rate, the more our sampled signal in red looks like our original signal in black."
      ],
      "metadata": {
        "id": "NMbWjVQSdiSq"
      }
    },
    {
      "cell_type": "markdown",
      "source": [
        "There are a few key takeaways from Nyquist's theorem for the sake of this course:\n",
        "1. Assuming the rate at which you are sampling data is fixed, you will only be able to capture frequency information up to half of that rate.\n",
        "2. If you know in advance that the signal you are trying to record exhibits a range of frequencies, then you should make sure that you are recording data at a rate at least twice as fast as the highest frequency. For example, most microphones go as high as 44.1 kHz since human hearing can detect sounds as high as 18 kHz.\n",
        "3. Many functions that help with frequency-domain analysis require that you specify the sampling rate of your signal in order to know which frequencies can be reasonably captured from your data."
      ],
      "metadata": {
        "id": "OD8SgszGha4T"
      }
    }
  ]
}