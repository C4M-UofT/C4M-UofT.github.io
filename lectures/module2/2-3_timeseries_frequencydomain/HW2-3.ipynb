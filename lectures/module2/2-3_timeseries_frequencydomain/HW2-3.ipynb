{
  "nbformat": 4,
  "nbformat_minor": 0,
  "metadata": {
    "colab": {
      "provenance": [],
      "collapsed_sections": [
        "B6v86VjQmIrK",
        "IhQvi7z1v6rm",
        "DHF99DDM_F8N",
        "NvWnOApDRK4P"
      ]
    },
    "kernelspec": {
      "display_name": "Python 3",
      "language": "python",
      "name": "python3"
    },
    "language_info": {
      "codemirror_mode": {
        "name": "ipython",
        "version": 3
      },
      "file_extension": ".py",
      "mimetype": "text/x-python",
      "name": "python",
      "nbconvert_exporter": "python",
      "pygments_lexer": "ipython3",
      "version": "3.8.2"
    }
  },
  "cells": [
    {
      "cell_type": "markdown",
      "metadata": {
        "id": "B6v86VjQmIrK"
      },
      "source": [
        "# Important: Run this code cell each time you start a new session!"
      ]
    },
    {
      "cell_type": "code",
      "source": [
        "!pip install numpy\n",
        "!pip install pandas\n",
        "!pip install matplotlib\n",
        "!pip install scipy\n",
        "!pip install os\n",
        "!pip install wfdb\n",
        "import numpy as np\n",
        "import pandas as pd\n",
        "import matplotlib.pyplot as plt\n",
        "import scipy\n",
        "import os\n",
        "import wfdb"
      ],
      "metadata": {
        "id": "jrO0X1ZMxMN5"
      },
      "execution_count": null,
      "outputs": []
    },
    {
      "cell_type": "code",
      "source": [
        "# Load the PPG data\n",
        "user = '100004'\n",
        "signals, fields = wfdb.rdsamp(f'{user}_PPG', pn_dir=f'butppg/{user}')\n",
        "ppg = signals.flatten()\n",
        "ppg = ppg[:200]\n",
        "ppg -= ppg.mean()\n",
        "fs = fields['fs']\n",
        "ppg_time = np.arange(len(ppg))/fs\n",
        "\n",
        "# Save it in a DataFrame\n",
        "df = pd.DataFrame()\n",
        "df['Time'] = ppg_time\n",
        "df['PPG'] = ppg\n",
        "df.to_csv('ppg.csv', index=False)"
      ],
      "metadata": {
        "id": "3b4MgOU-8Rrs"
      },
      "execution_count": null,
      "outputs": []
    },
    {
      "cell_type": "code",
      "source": [
        "import os, datetime, json, locale, pathlib, urllib, requests, werkzeug, nbformat, google, yaml, warnings\n",
        "def colab2pdf():\n",
        "    locale.setlocale(locale.LC_ALL, 'en_US.UTF-8')\n",
        "    NAME = pathlib.Path(werkzeug.utils.secure_filename(urllib.parse.unquote(requests.get(f\"http://{os.environ['COLAB_JUPYTER_IP']}:{os.environ['KMP_TARGET_PORT']}/api/sessions\").json()[0][\"name\"])))\n",
        "    TEMP = pathlib.Path(\"/content/pdfs\") / f\"{datetime.datetime.now().strftime('%Y%m%d_%H%M%S')}_{NAME.stem}\"; TEMP.mkdir(parents=True, exist_ok=True)\n",
        "    NB = [cell for cell in nbformat.reads(json.dumps(google.colab._message.blocking_request(\"get_ipynb\", timeout_sec=30)[\"ipynb\"]), as_version=4).cells if \"--Colab2PDF\" not in cell.source]\n",
        "    warnings.filterwarnings('ignore', category=nbformat.validator.MissingIDFieldWarning)\n",
        "    with (TEMP / f\"{NAME.stem}.ipynb\").open(\"w\", encoding=\"utf-8\") as nb_copy: nbformat.write(nbformat.v4.new_notebook(cells=NB or [nbformat.v4.new_code_cell(\"#\")]), nb_copy)\n",
        "    if not pathlib.Path(\"/usr/local/bin/quarto\").exists():\n",
        "        !wget -q \"https://quarto.org/download/latest/quarto-linux-amd64.deb\" -P {TEMP} && dpkg -i {TEMP}/quarto-linux-amd64.deb > /dev/null && quarto install tinytex --update-path --quiet\n",
        "    with (TEMP / \"config.yml\").open(\"w\", encoding=\"utf-8\") as file: yaml.dump({'include-in-header': [{\"text\": r\"\\usepackage{fvextra}\\DefineVerbatimEnvironment{Highlighting}{Verbatim}{breaksymbolleft={},showspaces=false,showtabs=false,breaklines,breakanywhere,commandchars=\\\\\\{\\}}\"}],'include-before-body': [{\"text\": r\"\\DefineVerbatimEnvironment{verbatim}{Verbatim}{breaksymbolleft={},showspaces=false,showtabs=false,breaklines}\"}]}, file)\n",
        "    !quarto render {TEMP}/{NAME.stem}.ipynb --metadata-file={TEMP}/config.yml --to pdf -M latex-auto-install -M margin-top=1in -M margin-bottom=1in -M margin-left=1in -M margin-right=1in --quiet\n",
        "    google.colab.files.download(str(TEMP / f\"{NAME.stem}.pdf\"))"
      ],
      "metadata": {
        "id": "n5i8FvKHyKHb"
      },
      "execution_count": null,
      "outputs": []
    },
    {
      "cell_type": "markdown",
      "metadata": {
        "id": "IhQvi7z1v6rm"
      },
      "source": [
        "# Instructions"
      ]
    },
    {
      "cell_type": "markdown",
      "source": [
        "Please complete all of the exercises below. Across this module, some of the exercises are expected to produce very specific outputs, while others may have a variety of reasonable answers."
      ],
      "metadata": {
        "id": "FmZhTZTraQGQ"
      }
    },
    {
      "cell_type": "markdown",
      "source": [
        "# Exercise 1: Working with PPG Data"
      ],
      "metadata": {
        "id": "DHF99DDM_F8N"
      }
    },
    {
      "cell_type": "markdown",
      "source": [
        "This exercise will involve the same PPG we used in the last homework assignment."
      ],
      "metadata": {
        "id": "c3l1W0-5HqhA"
      }
    },
    {
      "cell_type": "code",
      "source": [
        "df = pd.read_csv(\"ppg.csv\")\n",
        "df"
      ],
      "metadata": {
        "id": "9BHxB34GoTyF"
      },
      "execution_count": null,
      "outputs": []
    },
    {
      "cell_type": "markdown",
      "source": [
        "**(Part 1)** Write code that will calculate the sampling rate of this signal."
      ],
      "metadata": {
        "id": "whYMC_q-p_hw"
      }
    },
    {
      "cell_type": "code",
      "source": [
        "# Write your code here"
      ],
      "metadata": {
        "id": "rHDLoBTfo-qL"
      },
      "execution_count": null,
      "outputs": []
    },
    {
      "cell_type": "markdown",
      "source": [
        "**(Part 2)** If we were to analyze this data in the frequency domain, at which frequency range would we expect to see the most content? We are looking for a ballpark answer, but your answer should include a brief explanation.\n",
        "\n",
        "*Hint:* Think about translating \"beats per minute\" to \"Hertz\"."
      ],
      "metadata": {
        "id": "q_mCqw9jaaC0"
      }
    },
    {
      "cell_type": "markdown",
      "source": [
        "Write your answer here: ???"
      ],
      "metadata": {
        "id": "bLrqM4Uob6iO"
      }
    },
    {
      "cell_type": "markdown",
      "source": [
        "**(Part 3)** To prepare this data so that we can generate FFTs and spectrograms, convert it into two `numpy` arrays:\n",
        "1. A 1D array for the `'Time'` column\n",
        "2. A 1D array for the `'PPG'` column minus the average value of that column so that the resulting array has an average of 0"
      ],
      "metadata": {
        "id": "1mXLHoEwuA7W"
      }
    },
    {
      "cell_type": "code",
      "source": [
        "# Write your code here"
      ],
      "metadata": {
        "id": "gS3Hun08uj5E"
      },
      "execution_count": null,
      "outputs": []
    },
    {
      "cell_type": "markdown",
      "source": [
        "**(Part 4)** Plot the FFT of the PPG signal. The function that we created during class has been copied below for your convenience, but you will need to make sure that the inputs are correct and make the plot informative."
      ],
      "metadata": {
        "id": "3-GWfHe6r-1U"
      }
    },
    {
      "cell_type": "code",
      "source": [
        "from numpy.fft import fftfreq\n",
        "from scipy.fftpack import fft\n",
        "def show_fft(times, values, fs=1000, time_ylim=None, fft_xlim_max=None):\n",
        "    \"\"\"\n",
        "    Shows the time-domain signal and the corresponding FFT\n",
        "    times: the timestamps of the signal as a Numpy array\n",
        "    values: the values of the signal as a Numpy array\n",
        "    fs: the sampling rate of our signal\n",
        "    time_ylim: the boundaries of the y-axis for the time-domain plot\n",
        "    fft_xlim_max: the right boundary for the x-axis of the FFT plot,\n",
        "    indicating the highest frequency we care to view\n",
        "    \"\"\"\n",
        "    # Compute the FFT\n",
        "    fft_mag = np.abs(fft(values))\n",
        "    freqs = fftfreq(len(values), 1/fs)\n",
        "\n",
        "    # Keep the components associated with positive frequencies\n",
        "    pos_freq_idxs = freqs >= 0\n",
        "    freqs = freqs[pos_freq_idxs]\n",
        "    fft_mag = fft_mag[pos_freq_idxs]\n",
        "\n",
        "    # Show the signal in the time domain\n",
        "    plt.figure(figsize=(12, 3))\n",
        "    plt.subplot(1, 2, 1)\n",
        "    plt.plot(times, values)\n",
        "    plt.xlabel('Time (s)')\n",
        "    plt.ylabel('X(time)')\n",
        "    if time_ylim:\n",
        "        plt.ylim(time_ylim[0], time_ylim[1])\n",
        "    plt.title('Time Domain')\n",
        "\n",
        "    # Show the signal in the frequency domain\n",
        "    plt.subplot(1, 2, 2)\n",
        "    plt.stem(freqs, fft_mag, markerfmt=\" \", basefmt=\"-\")\n",
        "    plt.xlabel('Freq (Hz)')\n",
        "    plt.ylabel('FFT Amplitude |X(freq)|')\n",
        "    plt.xlim(-0.1, fft_xlim_max if fft_xlim_max else freqs.max())\n",
        "    plt.title('Frequency Domain')\n",
        "    plt.show()"
      ],
      "metadata": {
        "id": "yfBfxtz4tcoh"
      },
      "execution_count": null,
      "outputs": []
    },
    {
      "cell_type": "code",
      "source": [
        "# Write your code here"
      ],
      "metadata": {
        "id": "L1H3cUrnuxnr"
      },
      "execution_count": null,
      "outputs": []
    },
    {
      "cell_type": "markdown",
      "source": [
        "**(Part 5)** How does the FTT align or misalign with the expectations you laid out in Part 2?"
      ],
      "metadata": {
        "id": "q1gj4fQ7sCjl"
      }
    },
    {
      "cell_type": "markdown",
      "source": [
        "Write your answer here: ???"
      ],
      "metadata": {
        "id": "Vz6d2p7isV3-"
      }
    },
    {
      "cell_type": "markdown",
      "source": [
        "**(Part 6)** Plot the spectrogram of the PPG signal. The function that we created during class has been copied below for your convenience, but you will need to make sure that the inputs are correct and make the plot informative."
      ],
      "metadata": {
        "id": "87fL3jcIsFgS"
      }
    },
    {
      "cell_type": "code",
      "source": [
        "from scipy import signal\n",
        "def show_spectrogram(times, values, fs=1000, win_len=1, win_percent_overlap=12.5,\n",
        "                     time_ylim=None, fft_xlim_max=None):\n",
        "    \"\"\"\n",
        "    Shows the time-domain signal and the corresponding spectrogram\n",
        "    times: the timestamps of the signal as a Numpy array\n",
        "    values: the values of the signal as a Numpy array\n",
        "    fs: the sampling rate of our signal\n",
        "    win_len: the length of the window in seconds\n",
        "    win_percent_overlap: the percentage of overlap between consecutive windows\n",
        "    time_ylim: the boundaries of the y-axis for the time-domain plot\n",
        "    fft_xlim_max: the top boundary for the y-axis of the spectrogram,\n",
        "    indicating the highest frequency we care to view\n",
        "    \"\"\"\n",
        "    # Compute the window parameters\n",
        "    num_window_points_len = int(fs*win_len)\n",
        "    num_window_points_overlap = int(num_window_points_len*(win_percent_overlap/100))\n",
        "\n",
        "    # Compute the spectrogram\n",
        "    freqs, spec_times, spectro = signal.spectrogram(values, fs,\n",
        "                                                    nperseg=num_window_points_len,\n",
        "                                                    noverlap=num_window_points_overlap)\n",
        "\n",
        "     # Show the signal in the time domain\n",
        "    plt.figure(figsize=(12, 3))\n",
        "    plt.subplot(1, 2, 1)\n",
        "    plt.plot(times, values)\n",
        "    plt.xlabel('Time (s)')\n",
        "    plt.ylabel('X(time)')\n",
        "    if time_ylim:\n",
        "        plt.ylim(time_ylim[0], time_ylim[1])\n",
        "    plt.title('Time Domain')\n",
        "\n",
        "    # Show the signal in the frequency domain\n",
        "    plt.subplot(1, 2, 2)\n",
        "    plt.pcolormesh(spec_times, freqs, spectro, shading='gouraud')\n",
        "    plt.xlabel('Time (s)')\n",
        "    plt.ylabel('Frequency (Hz)')\n",
        "    plt.ylim(-0.1, fft_xlim_max if fft_xlim_max else freqs.max())\n",
        "    plt.title('Frequency Domain')\n",
        "    plt.show()"
      ],
      "metadata": {
        "id": "nWvxyANiu26L"
      },
      "execution_count": null,
      "outputs": []
    },
    {
      "cell_type": "code",
      "source": [
        "# Write your code here"
      ],
      "metadata": {
        "id": "Od3gh8ynXEd5"
      },
      "execution_count": null,
      "outputs": []
    },
    {
      "cell_type": "markdown",
      "source": [
        "**(Part 7)** How does the spectrogram align or misalign with the expectations you laid out in Part 2?"
      ],
      "metadata": {
        "id": "Y4HjLZ_WsJaQ"
      }
    },
    {
      "cell_type": "markdown",
      "source": [
        "Write your answer here: ???"
      ],
      "metadata": {
        "id": "aLCFNuIUsf8i"
      }
    },
    {
      "cell_type": "markdown",
      "source": [
        "**(Part 8)** Apply a filter to emphasize the frequency content in the range you specified in **(Part 2)** and to deemphasize the noisy data at the end of the signal. This filter is not expected to completely eliminate the noise, but it should make the apparent heart rate of the patient more apparent. The functions that we created during class have been copied below for your convenience, but you do not need use both of them.\n",
        "\n",
        "Show your filtered signal with its FFT, similar to what you did for **(Part 4)**."
      ],
      "metadata": {
        "id": "zdKDG6iHGzoL"
      }
    },
    {
      "cell_type": "code",
      "source": [
        "from scipy.signal import butter, filtfilt\n",
        "\n",
        "def butter_lowpass(values, fs, cutoff, order=5):\n",
        "    \"\"\"\n",
        "    Apply a low-pass filter to time-series data\n",
        "    values: the values of the time-series data (not the timestamps)\n",
        "    fs: the sampling rate\n",
        "    cutoff: the cutoff frequency\n",
        "    order: the order of the Butterworth filter\n",
        "    \"\"\"\n",
        "    # Define the cutoff frequency in terms of the Nyquist frequency of the signal\n",
        "    nyq = 0.5 * fs\n",
        "    normal_cutoff = cutoff / nyq\n",
        "\n",
        "    # Compute the low-pass filter\n",
        "    b, a = butter(order, normal_cutoff, btype='lowpass')\n",
        "\n",
        "    # Apply the filter\n",
        "    y = filtfilt(b, a, values)\n",
        "    return y"
      ],
      "metadata": {
        "id": "1j3EhV6rDSXU"
      },
      "execution_count": null,
      "outputs": []
    },
    {
      "cell_type": "code",
      "source": [
        "from scipy.signal import butter, filtfilt\n",
        "\n",
        "def butter_bandpass(values, fs, lower_cutoff, upper_cutoff, order=5):\n",
        "    \"\"\"\n",
        "    Apply a band-pass filter to time-series data\n",
        "    values: the values of the time-series data (not the timestamps)\n",
        "    fs: the sampling rate\n",
        "    lower_cutoff: the lower cutoff frequency\n",
        "    upper_cutoff: the upper cutoff frequency\n",
        "    order: the order of the Butterworth filter\n",
        "    \"\"\"\n",
        "    # Define the cutoff frequency in terms of the Nyquist frequency of the signal\n",
        "    nyq = 0.5 * fs\n",
        "    normal_lower_cutoff = lower_cutoff / nyq\n",
        "    normal_upper_cutoff = upper_cutoff / nyq\n",
        "\n",
        "    # Compute the band-pass filter\n",
        "    b, a = butter(order, [normal_lower_cutoff, normal_upper_cutoff], btype='bandpass')\n",
        "\n",
        "    # Apply the filter\n",
        "    y = filtfilt(b, a, values)\n",
        "    return y"
      ],
      "metadata": {
        "id": "o4DV224fZxH1"
      },
      "execution_count": null,
      "outputs": []
    },
    {
      "cell_type": "code",
      "source": [
        "# Write your code here"
      ],
      "metadata": {
        "id": "BcuRAeP-c5VI"
      },
      "execution_count": null,
      "outputs": []
    },
    {
      "cell_type": "markdown",
      "source": [
        "**(Part 9)** Write code that identifies the peak frequency in the FFT of your filtered signal. This value should represent the average heart rate of the person and therefore fall within the range you specified in **(Part 2)**."
      ],
      "metadata": {
        "id": "SPlQ40slvFH9"
      }
    },
    {
      "cell_type": "code",
      "source": [
        "# Write your code here"
      ],
      "metadata": {
        "id": "q4scgpxwhtO8"
      },
      "execution_count": null,
      "outputs": []
    },
    {
      "cell_type": "markdown",
      "source": [
        "# Prepare Submission"
      ],
      "metadata": {
        "id": "NvWnOApDRK4P"
      }
    },
    {
      "cell_type": "markdown",
      "source": [
        "To get full credit for this assignment, you should submit your assignment in two formats so that we can easily grade and debug your code:\n",
        "1. **.ipynb:** First, confirm that your code can run from start to finish without any errors. To check this, go to \"Runtime\" > \"Run all\" in the Google Colab menu. If everything looks good, you can export your file by going to \"File\" > \"Download\" > \"Download .ipynb\".\n",
        "2. **.pdf:** Run the function called `colab2pdf()` below. This will automatically convert your notebook to a PDF. Note that while \"File\" > \"Print\" > \"Save as PDF\" also works, it requires you to manually expand all of the cells and may cut off some images."
      ],
      "metadata": {
        "id": "PKlTxTsXy65M"
      }
    },
    {
      "cell_type": "code",
      "source": [
        "colab2pdf()"
      ],
      "metadata": {
        "id": "KOGsHYKWS8uK"
      },
      "execution_count": null,
      "outputs": []
    }
  ]
}