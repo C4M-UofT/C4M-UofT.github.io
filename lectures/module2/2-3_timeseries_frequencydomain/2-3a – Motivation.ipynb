{
  "nbformat": 4,
  "nbformat_minor": 0,
  "metadata": {
    "colab": {
      "provenance": [],
      "collapsed_sections": [
        "OBADxK39qJDx",
        "6jKuLWBaqEdK",
        "qvxYQvsQmZ2h",
        "PScP5cIw-p5H",
        "NA6A-TaY-t-w",
        "T_zGbeMfnf4p"
      ]
    },
    "kernelspec": {
      "name": "python3",
      "display_name": "Python 3"
    },
    "language_info": {
      "name": "python"
    }
  },
  "cells": [
    {
      "cell_type": "markdown",
      "source": [
        "In this notebook, we're going to provide motivation for an entirely new set of tools that we can use to extract important information from time-series data. This set of tools will be particularly useful for signals that capture periodic phenomena."
      ],
      "metadata": {
        "id": "zKBYPS5L5yWH"
      }
    },
    {
      "cell_type": "markdown",
      "source": [
        "# Important: Run this code cell each time you start a new session!"
      ],
      "metadata": {
        "id": "OBADxK39qJDx"
      }
    },
    {
      "cell_type": "code",
      "source": [
        "!pip install numpy\n",
        "!pip install pandas\n",
        "!pip install matplotlib\n",
        "!pip install os\n",
        "!pip install librosa\n",
        "import numpy as np\n",
        "import pandas as pd\n",
        "import matplotlib.pyplot as plt\n",
        "import os\n",
        "from IPython.display import Audio\n",
        "import librosa as lr\n",
        "import librosa.display"
      ],
      "metadata": {
        "id": "yuzcYs-MUBvs"
      },
      "execution_count": null,
      "outputs": []
    },
    {
      "cell_type": "code",
      "source": [
        "!wget -Ncnp https://physionet.org/files/accelerometry-walk-climb-drive/1.0.0/raw_accelerometry_data/id00b70b13.csv"
      ],
      "metadata": {
        "id": "bASFcdZNZuGJ"
      },
      "execution_count": null,
      "outputs": []
    },
    {
      "cell_type": "code",
      "source": [
        "df = pd.read_csv('id00b70b13.csv')\n",
        "\n",
        "# Filter to only walking activity, which is given a code of 1\n",
        "df = df[df['activity'] == 1]\n",
        "\n",
        "# Process the time\n",
        "df.rename(columns={'time_s': 'Time'}, inplace=True)\n",
        "df = df[(df['Time']>=700) & (df['Time']<=710)]\n",
        "df['Time'] = df['Time'] - df['Time'].min()\n",
        "\n",
        "# Process the accel\n",
        "df['Accel'] = np.sqrt(df['la_x']**2 + df['la_y']**2 + df['la_z']**2)*9.8\n",
        "\n",
        "# Keep only crucial columns\n",
        "keep_cols = ['Time', 'Accel']\n",
        "df = df[keep_cols]\n",
        "df.to_csv('walking.csv',index=False)"
      ],
      "metadata": {
        "id": "2hP2UnPrcEdI"
      },
      "execution_count": null,
      "outputs": []
    },
    {
      "cell_type": "code",
      "source": [
        "!wget -Ncnp https://physionet.org/files/sufhsdb/1.0.1/f1.wav"
      ],
      "metadata": {
        "id": "Fkca2IS8xAX3"
      },
      "execution_count": null,
      "outputs": []
    },
    {
      "cell_type": "code",
      "source": [
        "os.rename('f1.wav', 'heart_sound.wav')"
      ],
      "metadata": {
        "id": "R_p2CEmcxA5p"
      },
      "execution_count": null,
      "outputs": []
    },
    {
      "cell_type": "markdown",
      "source": [
        "# What Is Frequency-Domain Analysis?"
      ],
      "metadata": {
        "id": "6jKuLWBaqEdK"
      }
    },
    {
      "cell_type": "markdown",
      "source": [
        "Step trackers, ECGs, and speech audio are just some examples of real-world time series that have periodic characteristics. While we can write algorithms to be able to manually extract these characteristics of a signal, having a generalizable set of tools that would allow us to extract them more efficiently will enable us to better describe and differentiate such signals."
      ],
      "metadata": {
        "id": "QTARQVCt2eP3"
      }
    },
    {
      "cell_type": "markdown",
      "source": [
        "***Time-domain analysis*** refers to techniques techniques like those we discussed in the last session. They extract information from time-domain graphs that display how a signal changes over time. In contrast, ***frequency-domain analysis*** will allow us to extract information from frequency-domain graphs that display how the rate of oscillations (i.e., frequency content) in a signal changes over time."
      ],
      "metadata": {
        "id": "0EZ1pf20vyfF"
      }
    },
    {
      "cell_type": "markdown",
      "source": [
        "# Why Do We Need Something Fancy?"
      ],
      "metadata": {
        "id": "qvxYQvsQmZ2h"
      }
    },
    {
      "cell_type": "markdown",
      "source": [
        "To motivate the importance of frequency-domain analysis, let's examine two different kinds of signals with periodic characteristics."
      ],
      "metadata": {
        "id": "J2mPz172-N5Y"
      }
    },
    {
      "cell_type": "markdown",
      "source": [
        "## Example 1: Step Counting with Motion Data"
      ],
      "metadata": {
        "id": "PScP5cIw-p5H"
      }
    },
    {
      "cell_type": "markdown",
      "source": [
        "The first periodic signal is the motion data that we examined during our last session:"
      ],
      "metadata": {
        "id": "agIIJ47imwbw"
      }
    },
    {
      "cell_type": "code",
      "source": [
        "df = pd.read_csv('walking.csv')\n",
        "plt.figure(figsize=(5,3))\n",
        "plt.plot(df['Time'], df['Accel'])\n",
        "plt.xlabel('Time (s)')\n",
        "plt.ylabel('Accelerometer (m/s^2)')\n",
        "plt.show()"
      ],
      "metadata": {
        "id": "3-iUMUDdmnM1"
      },
      "execution_count": null,
      "outputs": []
    },
    {
      "cell_type": "markdown",
      "source": [
        "If we wanted to measure the walking cadence of this person (i.e., the number of steps they took per second), we could refer back to the time-domain techniques we used in our last session. We would use peak detection to identify steps in the signal, and then we would calculate how many steps the person took within an interval. This is a time-domain approach to identifying walking cadence."
      ],
      "metadata": {
        "id": "jAgPDaUFnG3K"
      }
    },
    {
      "cell_type": "markdown",
      "source": [
        "While this approach works, it requires an accurate peak detection algorithm that is good at detecting steps and ignoring insignificant peaks in the signal. We also had to make some assumptions about the window we used to detect peaks, and these assumptions may not generalize in all cases."
      ],
      "metadata": {
        "id": "ou1xay5WC22D"
      }
    },
    {
      "cell_type": "markdown",
      "source": [
        "As we will see later, frequency-domain analysis will allow us to extract information like the dominant cadence (e.g., frequency) of the signal."
      ],
      "metadata": {
        "id": "09MJpTL3DDuV"
      }
    },
    {
      "cell_type": "markdown",
      "source": [
        "## Example 2: Heart Sound Audio"
      ],
      "metadata": {
        "id": "NA6A-TaY-t-w"
      }
    },
    {
      "cell_type": "markdown",
      "source": [
        "The second example of a periodic signal we will examine is an audio recording of a digital stethoscope being placed on a baby's heart:"
      ],
      "metadata": {
        "id": "jsrETsOv6HQX"
      }
    },
    {
      "cell_type": "code",
      "source": [
        "display(Audio('heart_sound.wav', autoplay=True))"
      ],
      "metadata": {
        "id": "qVjA6ZVL6XY2"
      },
      "execution_count": null,
      "outputs": []
    },
    {
      "cell_type": "markdown",
      "source": [
        "The visualization below shows part of this audio clip (starting at `:25`) as a time series. Play around with the `duration` slider in order to zoom in and out of the beginning of the audio clip."
      ],
      "metadata": {
        "id": "IAywSH8O-zW_"
      }
    },
    {
      "cell_type": "code",
      "source": [
        "duration = 2.5 #@param {type:\"slider\", min:0.25, max:2.5, step:0.25}\n",
        "y, sr = librosa.load('heart_sound.wav', sr=16000, mono=True,\n",
        "                     offset=25, duration=duration)\n",
        "time = np.arange(0, len(y))/sr\n",
        "\n",
        "plt.figure(figsize=(10,3))\n",
        "plt.plot(time, y)\n",
        "plt.xlabel('Time (s)')\n",
        "plt.ylabel('Normalized Audio Amplitude')\n",
        "plt.show()"
      ],
      "metadata": {
        "id": "RsgtyhQS6r-Z"
      },
      "execution_count": null,
      "outputs": []
    },
    {
      "cell_type": "markdown",
      "source": [
        "Notice that the signal contains many periodic changes over various time scales. When you examine the full clip, you'll see moments of high amplitude that correspond to sounds and momens of low amplitude that correspond to silence. When you zoom in, you'll see that the signal is actually oscillating at a tremendous rate."
      ],
      "metadata": {
        "id": "s6gzgUGr8_AC"
      }
    },
    {
      "cell_type": "markdown",
      "source": [
        "Audio signals are oscillatory because they consist of rapidly varying air pressure waves. These oscillations are created by the vibrations of an object, such as a vocal cord or a musical instrument."
      ],
      "metadata": {
        "id": "Klzf1zQPy_Xs"
      }
    },
    {
      "cell_type": "markdown",
      "source": [
        "The rate of the oscillation corresponds to the pitch of the sound; the faster the oscillation, the higher the pitch. An instrument like a piano is really good at producing a sound with a single pitch. However, more complex sounds (e.g., musical chords, speech) are often composed of multiple pitches superimposed on one another at the same time."
      ],
      "metadata": {
        "id": "z_e94EzHzfab"
      }
    },
    {
      "cell_type": "markdown",
      "source": [
        "Again, extracting the pitch(es) within an audio signal would be quite difficult using the time-domain techniques we have discussed so far, but frequency-domain analysis will make this task much simpler."
      ],
      "metadata": {
        "id": "aVMwEqwc1san"
      }
    },
    {
      "cell_type": "markdown",
      "source": [
        "# Summary"
      ],
      "metadata": {
        "id": "T_zGbeMfnf4p"
      }
    },
    {
      "cell_type": "markdown",
      "source": [
        "This session will provide an overview of frequency-domain analysis so that we can better characterize periodic phenomena like motion and audio data."
      ],
      "metadata": {
        "id": "HgeZRCHgnhg4"
      }
    }
  ]
}