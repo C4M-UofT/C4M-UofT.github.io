{
  "nbformat": 4,
  "nbformat_minor": 0,
  "metadata": {
    "colab": {
      "provenance": [],
      "collapsed_sections": [
        "OBADxK39qJDx",
        "tUBm16SM4O2l",
        "VQWwQkB24R39",
        "b7YXfZRl99zL"
      ]
    },
    "kernelspec": {
      "name": "python3",
      "display_name": "Python 3"
    },
    "language_info": {
      "name": "python"
    }
  },
  "cells": [
    {
      "cell_type": "markdown",
      "source": [
        "In this notebook, we'll talk about the fact that the frequency domain doesn't just give us a new way of representing data; it also gives us the ability to manipulate frequency information in a signal in order to ensure that certain properties are retained or removed."
      ],
      "metadata": {
        "id": "Vj8n7JvdwZ8S"
      }
    },
    {
      "cell_type": "markdown",
      "source": [
        "# Important: Run this code cell each time you start a new session!"
      ],
      "metadata": {
        "id": "OBADxK39qJDx"
      }
    },
    {
      "cell_type": "code",
      "source": [
        "!pip install numpy\n",
        "!pip install pandas\n",
        "!pip install matplotlib\n",
        "!pip install os\n",
        "import numpy as np\n",
        "import pandas as pd\n",
        "import matplotlib.pyplot as plt\n",
        "import os"
      ],
      "metadata": {
        "id": "yuzcYs-MUBvs"
      },
      "execution_count": null,
      "outputs": []
    },
    {
      "cell_type": "code",
      "source": [
        "!wget -Ncnp https://physionet.org/files/accelerometry-walk-climb-drive/1.0.0/raw_accelerometry_data/id00b70b13.csv"
      ],
      "metadata": {
        "id": "bASFcdZNZuGJ"
      },
      "execution_count": null,
      "outputs": []
    },
    {
      "cell_type": "code",
      "source": [
        "df = pd.read_csv('id00b70b13.csv')\n",
        "\n",
        "# Filter to only walking activity, which is given a code of 1\n",
        "df = df[df['activity'] == 1]\n",
        "\n",
        "# Process the time\n",
        "df.rename(columns={'time_s': 'Time'}, inplace=True)\n",
        "df = df[(df['Time']>=700) & (df['Time']<=710)]\n",
        "df['Time'] = df['Time'] - df['Time'].min()\n",
        "\n",
        "# Process the accel\n",
        "df['Accel'] = np.sqrt(df['la_x']**2 + df['la_y']**2 + df['la_z']**2)*9.8\n",
        "\n",
        "# Keep only crucial columns\n",
        "keep_cols = ['Time', 'Accel']\n",
        "df = df[keep_cols]\n",
        "df.to_csv('walking.csv',index=False)"
      ],
      "metadata": {
        "id": "2hP2UnPrcEdI"
      },
      "execution_count": null,
      "outputs": []
    },
    {
      "cell_type": "markdown",
      "source": [
        "# What is a Digital Filter"
      ],
      "metadata": {
        "id": "NTPFajKn94Ry"
      }
    },
    {
      "cell_type": "markdown",
      "source": [
        "In the context of digital signal processing, ***filtering*** refers to the process of modifying or manipulating a digital signal by altering its frequency characteristics, selectively allowing or attenuating certain frequencies while leaving others unaffected.\n",
        "\n",
        "For example, filters can be useful in situations when you expect that the phenomenon you are trying to isolate and signal noise are located in separate frequency ranges; with sensors, it is often the case that intrinsic noise is in higher frequencies.\n"
      ],
      "metadata": {
        "id": "kW-NvFl7Ego5"
      }
    },
    {
      "cell_type": "markdown",
      "source": [
        "There are four kinds of digital filters:\n",
        "1. **Low-pass filter:** This filter allows low-frequency components to pass through while attenuating high-frequency components. It is commonly used to remove noise or unwanted high-frequency signals from a signal of interest.\n",
        "2. **High-pass filter:** The high-pass filter allows high-frequency components to pass through while attenuating low-frequency components. It is useful for filtering out low-frequency noise or unwanted signals and emphasizes high-frequency features in a signal.\n",
        "3. **Band-pass filter:** This filter allows a specific range of frequencies, referred to as the passband, to pass through while attenuating frequencies outside this range. It is useful when you want to isolate and extract a specific frequency range from a signal, while attenuating both low and high-frequency components.\n",
        "4. **Band-stop (notch) filter:** The band-stop filter attenuates a specific range of frequencies, referred to as the stopband, while allowing frequencies outside this range to pass through. It is used to eliminate or reduce interference or noise at specific frequencies without affecting the signals at other frequencies."
      ],
      "metadata": {
        "id": "Ep2DSBDKEQmJ"
      }
    },
    {
      "cell_type": "markdown",
      "source": [
        "There are many different ways of mathematically defining and implementing a filter. One of the most popular types of filters is a ***Butterworth filter***. We don't need to be too concerned about what makes a Butterworth filter special, but we are mentioning this name since you will see it being used by name in many digital signal processing libraries."
      ],
      "metadata": {
        "id": "7Gy53FBoN5Ug"
      }
    },
    {
      "cell_type": "markdown",
      "source": [
        "# How to Apply a Digital Filter"
      ],
      "metadata": {
        "id": "tUBm16SM4O2l"
      }
    },
    {
      "cell_type": "markdown",
      "source": [
        "The `scipy` provides useful functions for implementing and applying filters. The `butter()` function allows you to create a filter according to the following parameters:\n",
        "* `N`: The ***order*** of the filter, which determines the slope of the roll-off in the stopband. Typical values are 3, 5, and 7, with higher-order filters have a steeper roll-off but a more complex implementation.\n",
        "* `Wn`: The ***cutoff/critical frequencies*** of your filter, which define the boundaries where frequencies will be passed or attenuated.\n",
        "* `btype`: The type of filter you want to implement (i.e., `{‘lowpass’, ‘highpass’, ‘bandpass’, ‘bandstop’}`)\n",
        "\n",
        "You will see that the `butter()` function actually returns two parameters, `b` and `a`. These variables simply define the numerator and denominator polynomials of the filter, respectively."
      ],
      "metadata": {
        "id": "XR1jDW_xuSjC"
      }
    },
    {
      "cell_type": "markdown",
      "source": [
        "Meanwhile, the `filtfilt()` function allows you to apply a filter to a signal and takes the following parameters:\n",
        "* `b`: The polynomial numerators of the filter\n",
        "* `a`: The polynomial denominators of the filter\n",
        "* `x`: The values of the signal\n",
        "\n",
        "Notice that we do not provide the timestamps of our data series to this function. This is because the function assumes that the signal is evenly sampled and the sampling rate of our signal is already baked into the construction of the filter.\n"
      ],
      "metadata": {
        "id": "mzVa5I8Nvkuc"
      }
    },
    {
      "cell_type": "markdown",
      "source": [
        "Here are some examples of functions for generating low-pass and band-pass filters. These functions could easily be changed to high-pass and band-stop function respectively by changing the string passed to the `butter()` function."
      ],
      "metadata": {
        "id": "KCiJX1tpg1N3"
      }
    },
    {
      "cell_type": "code",
      "source": [
        "from scipy.signal import butter, filtfilt\n",
        "\n",
        "def butter_lowpass(values, fs, cutoff, order=5):\n",
        "    \"\"\"\n",
        "    Apply a low-pass filter to time-series data\n",
        "    values: the values of the time-series data (not the timestamps)\n",
        "    fs: the sampling rate\n",
        "    cutoff: the cutoff frequency\n",
        "    order: the order of the Butterworth filter (i.e., the \"sharpness\" of the cutoff)\n",
        "    \"\"\"\n",
        "    # Define the cutoff frequency in terms of the Nyquist frequency of the signal\n",
        "    nyq = 0.5 * fs\n",
        "    normal_cutoff = cutoff / nyq\n",
        "\n",
        "    # Compute the low-pass filter\n",
        "    b, a = butter(order, normal_cutoff, btype='lowpass')\n",
        "\n",
        "    # Apply the filter\n",
        "    y = filtfilt(b, a, values)\n",
        "    return y"
      ],
      "metadata": {
        "id": "1j3EhV6rDSXU"
      },
      "execution_count": null,
      "outputs": []
    },
    {
      "cell_type": "code",
      "source": [
        "from scipy.signal import butter, filtfilt\n",
        "\n",
        "def butter_bandpass(values, fs, lower_cutoff, upper_cutoff, order=5):\n",
        "    \"\"\"\n",
        "    Apply a band-pass filter to time-series data\n",
        "    values: the values of the time-series data (not the timestamps)\n",
        "    fs: the sampling rate\n",
        "    lower_cutoff: the lower cutoff frequency\n",
        "    upper_cutoff: the upper cutoff frequency\n",
        "    order: the order of the Butterworth filter (i.e., the \"sharpness\" of the cutoff)\n",
        "    \"\"\"\n",
        "    # Define the cutoff frequency in terms of the Nyquist frequency of the signal\n",
        "    nyq = 0.5 * fs\n",
        "    normal_lower_cutoff = lower_cutoff / nyq\n",
        "    normal_upper_cutoff = upper_cutoff / nyq\n",
        "\n",
        "    # Compute the band-pass filter\n",
        "    b, a = butter(order, [normal_lower_cutoff, normal_upper_cutoff], btype='band')\n",
        "\n",
        "    # Apply the filter\n",
        "    y = filtfilt(b, a, values)\n",
        "    return y"
      ],
      "metadata": {
        "id": "o4DV224fZxH1"
      },
      "execution_count": null,
      "outputs": []
    },
    {
      "cell_type": "markdown",
      "source": [
        "# Example with Motion Data"
      ],
      "metadata": {
        "id": "VQWwQkB24R39"
      }
    },
    {
      "cell_type": "markdown",
      "source": [
        "Now that we've covered the functions at our disposal, let's see what happens when we apply a low-pass Butterworth filter to our motion data. To show what the filter is doing in both the time and frequency domains, we are going to use our `show_fft()` function from earlier in order to view the original and filtered signals:"
      ],
      "metadata": {
        "id": "AlJYELnqywBV"
      }
    },
    {
      "cell_type": "code",
      "source": [
        "from numpy.fft import fftfreq\n",
        "from scipy.fftpack import fft\n",
        "def show_fft(times, values, fs=1000, time_ylim=None, fft_xlim_max=None):\n",
        "    \"\"\"\n",
        "    Shows the time-domain signal and the corresponding FFT\n",
        "    times: the timestamps of the signal\n",
        "    values: the values of the signal\n",
        "    fs: the sampling rate of our signal\n",
        "    time_ylim: the boundaries of the y-axis for the time-domain plot\n",
        "    fft_xlim_max: the right boundary for the x-axis of the FFT plot,\n",
        "    indicating the highest frequency we care to view\n",
        "    \"\"\"\n",
        "    # Compute the FFT\n",
        "    fft_mag = np.abs(fft(values))\n",
        "    freqs = fftfreq(len(values), 1/fs)\n",
        "\n",
        "    # Keep the components associated with positive frequencies\n",
        "    pos_freq_idxs = freqs >= 0\n",
        "    freqs = freqs[pos_freq_idxs]\n",
        "    fft_mag = fft_mag[pos_freq_idxs]\n",
        "\n",
        "    # Show the signal in the time domain\n",
        "    plt.figure(figsize=(12, 3))\n",
        "    plt.subplot(1, 2, 1)\n",
        "    plt.plot(times, values)\n",
        "    plt.xlabel('Time (s)')\n",
        "    plt.ylabel('Value')\n",
        "    if time_ylim:\n",
        "        plt.ylim(time_ylim[0], time_ylim[1])\n",
        "    plt.title('Time Domain')\n",
        "\n",
        "    # Show the signal in the frequency domain\n",
        "    plt.subplot(1, 2, 2)\n",
        "    plt.stem(freqs, fft_mag, markerfmt=\" \", basefmt=\"-\")\n",
        "    plt.xlabel('Freq (Hz)')\n",
        "    plt.ylabel('FFT Amplitude |X(freq)|')\n",
        "    plt.xlim(-0.1, fft_xlim_max if fft_xlim_max else freqs.max())\n",
        "    plt.title('Frequency Domain')\n",
        "    plt.show()"
      ],
      "metadata": {
        "id": "mhJEe9uHDnIm"
      },
      "execution_count": null,
      "outputs": []
    },
    {
      "cell_type": "markdown",
      "source": [
        "Below, the top row of graphs will show the original signal, and the bottom row of graphs will show the filtered result. Play around with the slider below to see what happens when you change the cutoff frequency of the low-pass filter:"
      ],
      "metadata": {
        "id": "lZczmkAWKKJn"
      }
    },
    {
      "cell_type": "code",
      "source": [
        "# Load our data and get a small chunk so it's easier to view\n",
        "df = pd.read_csv('walking.csv')\n",
        "df = df[df['Time'] < 5]\n",
        "x = df['Time'].values\n",
        "y = df['Accel'].values\n",
        "fs = 100\n",
        "\n",
        "# Apply the low-pass filter\n",
        "cutoff_freq = 4 #@param {type:\"slider\", min:0.5, max:5, step:0.5}\n",
        "y_lowpass = butter_lowpass(y, fs, cutoff=cutoff_freq)\n",
        "show_fft(x, y, fs=100, fft_xlim_max=10)\n",
        "show_fft(x, y_lowpass, fs=100, fft_xlim_max=10)"
      ],
      "metadata": {
        "id": "NvxWLslzDpGI"
      },
      "execution_count": null,
      "outputs": []
    },
    {
      "cell_type": "markdown",
      "source": [
        "Here are some observations to be gathered from these examples:\n",
        "* **Frequency domain:** In the original signal's FFT, we can see that there is frequency content throughout the frequency spectrum, even as high as 10 Hz. In the filter signal's FFT, however, you should see some of that frequency content disappear depending on where you set the your cutoff frequency. This shows that the low-pass filter is working as intended: attenuating higher frequencies and passing lower ones.\n",
        "* **Time domain (smoothness):** Applying the low-pass filter makes are signal much smoother since the spikes were essentially higher frequency sinusoids being super-imposed on the ideal signal we were trying to capture. Smoothing the signal can make it easier to identify peaks, valleys, and trends in your data.\n",
        "* **Time domain (amplitude):** As we lower the cutoff frequency, you might notice that the filtered signal in the bottom-left actually becomes shorter in amplitude. This is because some of the amplitude was coming from the higher frequencies. Therefore, filtering may not be ideal if the exact amplitude of your signal is really important.\n",
        "* **Removing too much:** Notice that if we set the cutoff frequency below 1 Hz, we remove the meaningful frequency content at 2 Hz and can no longer see the 2 steps per second that we originally had in our signal. Therefore, it is important to think about the range of frequencies that you expect in your data when designing your filters."
      ],
      "metadata": {
        "id": "dkaqYvtUKMDj"
      }
    },
    {
      "cell_type": "markdown",
      "source": [
        "# Summary"
      ],
      "metadata": {
        "id": "b7YXfZRl99zL"
      }
    },
    {
      "cell_type": "markdown",
      "source": [
        "There are many techniques at our disposal in order to make real-world data conform to these assumptions. However, it will be important for you to consider the implications of applying these techniques to your data. If you preprocess your data too heavily, you may remove important information that will be useful down the road for other analyses."
      ],
      "metadata": {
        "id": "YlcSpabixQ5v"
      }
    }
  ]
}