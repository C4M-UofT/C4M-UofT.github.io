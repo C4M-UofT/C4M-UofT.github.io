{
  "nbformat": 4,
  "nbformat_minor": 0,
  "metadata": {
    "colab": {
      "provenance": [],
      "collapsed_sections": [
        "B6v86VjQmIrK",
        "IhQvi7z1v6rm",
        "hDWIfFlIwU-P",
        "DHF99DDM_F8N",
        "9pzuV8XvLGKx",
        "NvWnOApDRK4P"
      ]
    },
    "kernelspec": {
      "display_name": "Python 3",
      "language": "python",
      "name": "python3"
    },
    "language_info": {
      "codemirror_mode": {
        "name": "ipython",
        "version": 3
      },
      "file_extension": ".py",
      "mimetype": "text/x-python",
      "name": "python",
      "nbconvert_exporter": "python",
      "pygments_lexer": "ipython3",
      "version": "3.8.2"
    }
  },
  "cells": [
    {
      "cell_type": "markdown",
      "metadata": {
        "id": "B6v86VjQmIrK"
      },
      "source": [
        "# Important: Run this code cell each time you start a new session!"
      ]
    },
    {
      "cell_type": "code",
      "source": [
        "!pip install os\n",
        "import os\n",
        "import numpy as np\n",
        "import pandas as pd"
      ],
      "metadata": {
        "id": "jrO0X1ZMxMN5"
      },
      "execution_count": null,
      "outputs": []
    },
    {
      "cell_type": "code",
      "source": [
        "# Download some files of a sepsis dataset\n",
        "sepsis_folder = \"sepsis_dataset\"\n",
        "if not os.path.exists(sepsis_folder):\n",
        "    os.mkdir(sepsis_folder)\n",
        "patient_list = range(1, 11)\n",
        "patient_list = [f'p{str(s).zfill(6)}.psv' for s in patient_list]\n",
        "for f in patient_list:\n",
        "  !wget -nc https://physionet.org/files/challenge-2019/1.0.0/training/training_setA/{f}\n",
        "  os.rename(f, os.path.join(sepsis_folder, f))"
      ],
      "metadata": {
        "id": "bASFcdZNZuGJ"
      },
      "execution_count": null,
      "outputs": []
    },
    {
      "cell_type": "code",
      "source": [
        "# Convert the sepsis dataset to a single csv\n",
        "def load_single_file(file_path):\n",
        "    df = pd.read_csv(file_path, sep=\"|\")\n",
        "    df['PatientID'] = file_path.split(os.sep)[-1][:-4]\n",
        "    df['Hour'] = df.index\n",
        "    keep_cols = ['PatientID', 'Age', 'Gender', 'SepsisLabel', 'Hour',\n",
        "                 'HR', 'O2Sat', 'SBP', 'DBP', 'Resp']\n",
        "    df = df[keep_cols]\n",
        "    df.rename(columns={'Gender': 'Sex', 'SepsisLabel': 'HasSepsis'}, inplace=True)\n",
        "    return df\n",
        "\n",
        "def create_final_table(patient_list):\n",
        "    final_df = pd.DataFrame()\n",
        "    for f in patient_list:\n",
        "        df = load_single_file(os.path.join(sepsis_folder, f))\n",
        "        final_df = pd.concat([final_df, df])\n",
        "    final_df.to_csv('sepsis.csv',index=False)\n",
        "create_final_table(patient_list)"
      ],
      "metadata": {
        "id": "2hP2UnPrcEdI"
      },
      "execution_count": null,
      "outputs": []
    },
    {
      "cell_type": "code",
      "source": [
        "import os, datetime, json, locale, pathlib, urllib, requests, werkzeug, nbformat, google, yaml, warnings\n",
        "def colab2pdf():\n",
        "    locale.setlocale(locale.LC_ALL, 'en_US.UTF-8')\n",
        "    NAME = pathlib.Path(werkzeug.utils.secure_filename(urllib.parse.unquote(requests.get(f\"http://{os.environ['COLAB_JUPYTER_IP']}:{os.environ['KMP_TARGET_PORT']}/api/sessions\").json()[0][\"name\"])))\n",
        "    TEMP = pathlib.Path(\"/content/pdfs\") / f\"{datetime.datetime.now().strftime('%Y%m%d_%H%M%S')}_{NAME.stem}\"; TEMP.mkdir(parents=True, exist_ok=True)\n",
        "    NB = [cell for cell in nbformat.reads(json.dumps(google.colab._message.blocking_request(\"get_ipynb\", timeout_sec=30)[\"ipynb\"]), as_version=4).cells if \"--Colab2PDF\" not in cell.source]\n",
        "    warnings.filterwarnings('ignore', category=nbformat.validator.MissingIDFieldWarning)\n",
        "    with (TEMP / f\"{NAME.stem}.ipynb\").open(\"w\", encoding=\"utf-8\") as nb_copy: nbformat.write(nbformat.v4.new_notebook(cells=NB or [nbformat.v4.new_code_cell(\"#\")]), nb_copy)\n",
        "    if not pathlib.Path(\"/usr/local/bin/quarto\").exists():\n",
        "        !wget -q \"https://quarto.org/download/latest/quarto-linux-amd64.deb\" -P {TEMP} && dpkg -i {TEMP}/quarto-linux-amd64.deb > /dev/null && quarto install tinytex --update-path --quiet\n",
        "    with (TEMP / \"config.yml\").open(\"w\", encoding=\"utf-8\") as file: yaml.dump({'include-in-header': [{\"text\": r\"\\usepackage{fvextra}\\DefineVerbatimEnvironment{Highlighting}{Verbatim}{breaksymbolleft={},showspaces=false,showtabs=false,breaklines,breakanywhere,commandchars=\\\\\\{\\}}\"}],'include-before-body': [{\"text\": r\"\\DefineVerbatimEnvironment{verbatim}{Verbatim}{breaksymbolleft={},showspaces=false,showtabs=false,breaklines}\"}]}, file)\n",
        "    !quarto render {TEMP}/{NAME.stem}.ipynb --metadata-file={TEMP}/config.yml --to pdf -M latex-auto-install -M margin-top=1in -M margin-bottom=1in -M margin-left=1in -M margin-right=1in --quiet\n",
        "    google.colab.files.download(str(TEMP / f\"{NAME.stem}.pdf\"))"
      ],
      "metadata": {
        "id": "5g4BJ9D-yGhf"
      },
      "execution_count": null,
      "outputs": []
    },
    {
      "cell_type": "markdown",
      "metadata": {
        "id": "IhQvi7z1v6rm"
      },
      "source": [
        "# Instructions"
      ]
    },
    {
      "cell_type": "markdown",
      "source": [
        "Please complete all of the exercises below. Across this module, some of the exercises are expected to produce very specific outputs, while others may have a variety of reasonable answers."
      ],
      "metadata": {
        "id": "FmZhTZTraQGQ"
      }
    },
    {
      "cell_type": "markdown",
      "metadata": {
        "id": "hDWIfFlIwU-P"
      },
      "source": [
        "# Exercise 1: Examining a Numpy Array"
      ]
    },
    {
      "cell_type": "markdown",
      "source": [
        "**(Part 1)** Create an Numpy array with the following values:\n",
        "\n",
        "<table>\n",
        "  <tr>\n",
        "    <td>3</td>\n",
        "    <td>1</td>\n",
        "    <td>7</td>\n",
        "  </tr>\n",
        "\n",
        "  <tr>\n",
        "    <td>6</td>\n",
        "    <td>10</td>\n",
        "    <td>4</td>\n",
        "  </tr>\n",
        "</table>"
      ],
      "metadata": {
        "id": "aGwoS2jGPjnK"
      }
    },
    {
      "cell_type": "code",
      "metadata": {
        "id": "T8Xw6CX8wlp6"
      },
      "source": [
        "# Write your code here"
      ],
      "execution_count": null,
      "outputs": []
    },
    {
      "cell_type": "markdown",
      "source": [
        "**(Part 2)** What are the dimensions of this array? In other words, how many rows and columns does it have?"
      ],
      "metadata": {
        "id": "HjFQ6hqzBJKL"
      }
    },
    {
      "cell_type": "markdown",
      "source": [
        "Write your answer here: ???"
      ],
      "metadata": {
        "id": "k-IyzGaoBVBf"
      }
    },
    {
      "cell_type": "markdown",
      "source": [
        "**(Part 3)** Write code that will print out the number of rows in the array."
      ],
      "metadata": {
        "id": "W5--9cvU4giE"
      }
    },
    {
      "cell_type": "code",
      "source": [
        "# Write your code here"
      ],
      "metadata": {
        "id": "VBs_Xadl4gCE"
      },
      "execution_count": null,
      "outputs": []
    },
    {
      "cell_type": "markdown",
      "source": [
        "**(Part 4)** Write code that will index into the array and retrieve the value `7`."
      ],
      "metadata": {
        "id": "i8y4Ggke33lG"
      }
    },
    {
      "cell_type": "code",
      "source": [
        "# Write your code here"
      ],
      "metadata": {
        "id": "zv5QcS1d4Jgm"
      },
      "execution_count": null,
      "outputs": []
    },
    {
      "cell_type": "markdown",
      "source": [
        "**(Part 5)** Write code that will index into the array and retrieve the first row (`[3, 1, 7]`)."
      ],
      "metadata": {
        "id": "1zVP0EJ74KWT"
      }
    },
    {
      "cell_type": "code",
      "source": [
        "# Write your code here"
      ],
      "metadata": {
        "id": "W7oWlepA4RKD"
      },
      "execution_count": null,
      "outputs": []
    },
    {
      "cell_type": "markdown",
      "source": [
        "**(Part 6)** Write code that will index into the array and retrieve the first two columns (`[[3, 1], [6, 10]]`)."
      ],
      "metadata": {
        "id": "JXFrzyWX4Ri_"
      }
    },
    {
      "cell_type": "code",
      "source": [
        "# Write your code here"
      ],
      "metadata": {
        "id": "QUSzh-Hl4X8U"
      },
      "execution_count": null,
      "outputs": []
    },
    {
      "cell_type": "markdown",
      "source": [
        "**(Part 7)** Write code that will produce the sum along each column of the array and multiply it by 4."
      ],
      "metadata": {
        "id": "2uXGGPNN4wHF"
      }
    },
    {
      "cell_type": "code",
      "source": [
        "# Write your code here"
      ],
      "metadata": {
        "id": "nh9MIO0Z9HXj"
      },
      "execution_count": null,
      "outputs": []
    },
    {
      "cell_type": "markdown",
      "source": [
        "# Exercise 2: Creating a Numpy Array"
      ],
      "metadata": {
        "id": "DHF99DDM_F8N"
      }
    },
    {
      "cell_type": "markdown",
      "source": [
        "In this exercise, you will be asked to create the following array using multiple methods:\n",
        "\n",
        "<table>\n",
        "  <tr>\n",
        "    <td>0</td>\n",
        "    <td>1</td>\n",
        "    <td>2</td>\n",
        "    <td>3</td>\n",
        "    <td>4</td>\n",
        "    <td>5</td>\n",
        "  </tr>\n",
        "\n",
        "  <tr>\n",
        "    <td>0</td>\n",
        "    <td>5</td>\n",
        "    <td>10</td>\n",
        "    <td>15</td>\n",
        "    <td>20</td>\n",
        "    <td>25</td>\n",
        "  </tr>\n",
        "</table>\n",
        "\n",
        "Notice that the bottom row is equal to the top row multiplied by 5.\n"
      ],
      "metadata": {
        "id": "c3l1W0-5HqhA"
      }
    },
    {
      "cell_type": "markdown",
      "source": [
        "**(Part 1)** Write code that will create the array using `np.array()` with a list as the input."
      ],
      "metadata": {
        "id": "SDbXImLh_Td5"
      }
    },
    {
      "cell_type": "code",
      "source": [
        "# Write your code here"
      ],
      "metadata": {
        "id": "dbMs2Ib3_Spb"
      },
      "execution_count": null,
      "outputs": []
    },
    {
      "cell_type": "markdown",
      "source": [
        "**(Part 2)** Write code that will create the array by combining the two arrays provided below."
      ],
      "metadata": {
        "id": "IjPYFb6TH1Cz"
      }
    },
    {
      "cell_type": "code",
      "source": [
        "row1 = np.array([0, 1, 2, 3, 4, 5])\n",
        "row2 = np.array([0, 5, 10, 15, 20, 25])\n",
        "# Write your code here"
      ],
      "metadata": {
        "id": "5lbCDXotIINr"
      },
      "execution_count": null,
      "outputs": []
    },
    {
      "cell_type": "markdown",
      "source": [
        "**(Part 3)** Write code that will create the array using a similar approach to what you used in **(Part 2)**, but create `row1` and `row2` using `np.arange()` and basic arithmetic. In other words, create `row1` and `row2` without needing to type each individual list element."
      ],
      "metadata": {
        "id": "xZjjt_2pKKLt"
      }
    },
    {
      "cell_type": "code",
      "source": [
        "# Write your code here"
      ],
      "metadata": {
        "id": "yq1wTnH0KJSF"
      },
      "execution_count": null,
      "outputs": []
    },
    {
      "cell_type": "markdown",
      "source": [
        "**(Part 4)** Write code that will fill in the provided empty array of zeroes with the values of the target array using at least one `for` loop.\n",
        "\n",
        "*Hint:* You could either do a single `for` loop that fills in one column per iteration, or you could do a double-nested `for` and `if` statements to fill in one value at a time."
      ],
      "metadata": {
        "id": "T9ASHsLJISZT"
      }
    },
    {
      "cell_type": "code",
      "source": [
        "arr = np.zeros((2, 6))\n",
        "# Write your code here"
      ],
      "metadata": {
        "id": "OZFk-tU4IeBr"
      },
      "execution_count": null,
      "outputs": []
    },
    {
      "cell_type": "markdown",
      "source": [
        "# Exercise 3: Examining a Pandas DataFrame"
      ],
      "metadata": {
        "id": "9pzuV8XvLGKx"
      }
    },
    {
      "cell_type": "markdown",
      "source": [
        "This exercise will involve a `DataFrame` similar to the one we used in class.\n",
        "\n",
        "*Important:* Note that the patients in this DataFrame are represented across multiple rows corresponding to different hours when measurements were taken."
      ],
      "metadata": {
        "id": "06IHv2e6e2Tk"
      }
    },
    {
      "cell_type": "code",
      "source": [
        "df = pd.read_csv(\"sepsis.csv\")\n",
        "df"
      ],
      "metadata": {
        "id": "1-U6pNH0ep8S"
      },
      "execution_count": null,
      "outputs": []
    },
    {
      "cell_type": "markdown",
      "source": [
        "**(Part 1)** Write code that will show the number of patients in the dataset."
      ],
      "metadata": {
        "id": "OjcCaJG9jzjG"
      }
    },
    {
      "cell_type": "code",
      "source": [
        "# Write your code here"
      ],
      "metadata": {
        "id": "7jh1cRkjg8Ji"
      },
      "execution_count": null,
      "outputs": []
    },
    {
      "cell_type": "markdown",
      "source": [
        "**(Part 2)** Write code that will show the number of male (`0`) and female (`1`) patients in the dataset."
      ],
      "metadata": {
        "id": "s6Aimzfhg7nE"
      }
    },
    {
      "cell_type": "code",
      "source": [
        "# Write your code here"
      ],
      "metadata": {
        "id": "SXpD8NBfkRiQ"
      },
      "execution_count": null,
      "outputs": []
    },
    {
      "cell_type": "markdown",
      "source": [
        "**(Part 3)** Write code that will print out the ID of the oldest patient."
      ],
      "metadata": {
        "id": "qKql6wcGlHe-"
      }
    },
    {
      "cell_type": "code",
      "source": [
        "# Write your code here"
      ],
      "metadata": {
        "id": "nSClrV0HlTCQ"
      },
      "execution_count": null,
      "outputs": []
    },
    {
      "cell_type": "markdown",
      "source": [
        "**(Part 4)** Write code that prints out who experienced sepsis and at which hours it was reported. In other words, retrieve the `PatientID` and `Hour` values for all rows for which `'HasSepsis' == 1`."
      ],
      "metadata": {
        "id": "yegKvv-JkrzP"
      }
    },
    {
      "cell_type": "code",
      "source": [
        "# Write your code here"
      ],
      "metadata": {
        "id": "RgbaWFcsk1uj"
      },
      "execution_count": null,
      "outputs": []
    },
    {
      "cell_type": "markdown",
      "source": [
        "**(Part 5)** Write code that will calculate the average age of all the patients."
      ],
      "metadata": {
        "id": "nSiTf1f-kR7C"
      }
    },
    {
      "cell_type": "code",
      "source": [
        "# Write your code here"
      ],
      "metadata": {
        "id": "vMHS5S5XkYpD"
      },
      "execution_count": null,
      "outputs": []
    },
    {
      "cell_type": "markdown",
      "source": [
        "# Prepare Submission"
      ],
      "metadata": {
        "id": "NvWnOApDRK4P"
      }
    },
    {
      "cell_type": "markdown",
      "source": [
        "To get full credit for this assignment, you should submit your assignment in two formats so that we can easily grade and debug your code:\n",
        "1. **.ipynb:** First, confirm that your code can run from start to finish without any errors. To check this, go to \"Runtime\" > \"Run all\" in the Google Colab menu. If everything looks good, you can export your file by going to \"File\" > \"Download\" > \"Download .ipynb\".\n",
        "2. **.pdf:** Run the function called `colab2pdf()` below. This will automatically convert your notebook to a PDF. Note that while \"File\" > \"Print\" > \"Save as PDF\" also works, it requires you to manually expand all of the cells and may cut off some images."
      ],
      "metadata": {
        "id": "UCSdvlGMy2ZK"
      }
    },
    {
      "cell_type": "code",
      "source": [
        "colab2pdf()"
      ],
      "metadata": {
        "id": "KOGsHYKWS8uK"
      },
      "execution_count": null,
      "outputs": []
    }
  ]
}