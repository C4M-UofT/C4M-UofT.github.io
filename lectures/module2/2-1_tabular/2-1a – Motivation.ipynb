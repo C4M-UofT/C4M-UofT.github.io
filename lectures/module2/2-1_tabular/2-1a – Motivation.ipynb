{
  "nbformat": 4,
  "nbformat_minor": 0,
  "metadata": {
    "colab": {
      "provenance": [],
      "collapsed_sections": [
        "2RXCb2ulnORs",
        "t2dDzBSlv9wZ",
        "ypF6yMp0nROC",
        "HRBxCP0dnSvU",
        "y924iz2kZ4vs"
      ]
    },
    "kernelspec": {
      "name": "python3",
      "display_name": "Python 3"
    },
    "language_info": {
      "name": "python"
    }
  },
  "cells": [
    {
      "cell_type": "markdown",
      "source": [
        "In this notebook, we're going to talk about the importance of tabular data and why we need to special tools to work with it."
      ],
      "metadata": {
        "id": "nUX0K3BP5O8e"
      }
    },
    {
      "cell_type": "markdown",
      "source": [
        "# What Is Tabular Data?"
      ],
      "metadata": {
        "id": "2RXCb2ulnORs"
      }
    },
    {
      "cell_type": "markdown",
      "source": [
        "Tabular data is essentially any data that is presented in a table or spreadsheet format, where each row represents an observation or record and each column represents a variable or attribute."
      ],
      "metadata": {
        "id": "cUx0xaBEXr4K"
      }
    },
    {
      "cell_type": "markdown",
      "source": [
        "Patient records, blood test results, and logs of vital sign measurements are just some examples of tabular data in medicine. In clinical research, tabular data can also appear in the form of spreadsheets that hold information like demographics, treatment group assignments, and outcomes."
      ],
      "metadata": {
        "id": "5mWv3XnxwGv2"
      }
    },
    {
      "cell_type": "markdown",
      "source": [
        "# Why Do We Need Something Fancy?"
      ],
      "metadata": {
        "id": "t2dDzBSlv9wZ"
      }
    },
    {
      "cell_type": "markdown",
      "source": [
        "Knowing the basics of Python, we can actually store tabular data using what we know about lists."
      ],
      "metadata": {
        "id": "cxQl_X8zkjT-"
      }
    },
    {
      "cell_type": "markdown",
      "source": [
        "Let's say we wanted to keep track of the following information:\n",
        "\n",
        "| Patient Name | Sex    | Age |\n",
        "|--------------|--------|-----|\n",
        "| Alice        | female | 67  |\n",
        "| Bob          | male   | 77  |\n",
        "| Carol        | female | 75  |\n",
        "| Dan          | male   | 83  |\n",
        "| Eric         | male   | 64  |\n",
        "\n",
        "There are two ways we could maintain this data."
      ],
      "metadata": {
        "id": "7s5NY6rcmuyx"
      }
    },
    {
      "cell_type": "markdown",
      "source": [
        "## Parallel Lists"
      ],
      "metadata": {
        "id": "ypF6yMp0nROC"
      }
    },
    {
      "cell_type": "markdown",
      "source": [
        "One option is to use ***parallel lists***. In this setup, each column is assigned its own list, and all of the lists must have the same length."
      ],
      "metadata": {
        "id": "eiwQhB1VkwuG"
      }
    },
    {
      "cell_type": "code",
      "execution_count": null,
      "metadata": {
        "id": "01-ySmVYwoDY"
      },
      "outputs": [],
      "source": [
        "names = [\"Alice\", \"Bob\", \"Carol\", \"Dan\", \"Eric\"]\n",
        "sexes = [\"female\", \"male\", \"female\", \"male\", \"male\"]\n",
        "ages = [67, 77, 75, 83, 64]"
      ]
    },
    {
      "cell_type": "markdown",
      "metadata": {
        "id": "b6RT4UbVxKlq"
      },
      "source": [
        "If we want to grab a column from our table (i.e., a specific attribute from all of our patients), all we need to do is pick the corresponding list."
      ]
    },
    {
      "cell_type": "code",
      "source": [
        "print('The first names of our patients are:', names)"
      ],
      "metadata": {
        "id": "Hl-Q_5HFSFXa"
      },
      "execution_count": null,
      "outputs": []
    },
    {
      "cell_type": "markdown",
      "source": [
        "If we want to get the information about a specific patient by their position in our table, we can do this by accessing all of the lists using the same index."
      ],
      "metadata": {
        "id": "HxvhPdiGSP9S"
      }
    },
    {
      "cell_type": "code",
      "source": [
        "def print_patient(name, sex, age):\n",
        "    # Note: the code below is shorthand for the following\n",
        "    # print('Name: ', name, ', Sex: ', sex, ', Age: ', age')\n",
        "    print(f'Name: {name}, Sex: {sex}, Age: {age}')"
      ],
      "metadata": {
        "id": "vnxlnoVggzhT"
      },
      "execution_count": null,
      "outputs": []
    },
    {
      "cell_type": "code",
      "execution_count": null,
      "metadata": {
        "id": "fSGFL1o-xR2M"
      },
      "outputs": [],
      "source": [
        "patient_id = 0\n",
        "print_patient(names[patient_id], sexes[patient_id], ages[patient_id])"
      ]
    },
    {
      "cell_type": "markdown",
      "source": [
        "If we want to get the information about a specific patient by a particular attribute (e.g., their name), we must first find the correct index by inspecting the corresponding list and then accessing all of the lists using that index."
      ],
      "metadata": {
        "id": "aMuTduwEb_j5"
      }
    },
    {
      "cell_type": "code",
      "source": [
        "patient_id = names.index(\"Dan\")\n",
        "print_patient(names[patient_id], sexes[patient_id], ages[patient_id])"
      ],
      "metadata": {
        "id": "i7z25V7KcKdi"
      },
      "execution_count": null,
      "outputs": []
    },
    {
      "cell_type": "markdown",
      "source": [
        "If we want to add a new patient to our table, we can do this by appending the corresponding attributes to the end of each list."
      ],
      "metadata": {
        "id": "GoEDP8iHqx-Y"
      }
    },
    {
      "cell_type": "code",
      "source": [
        "names.append('Felicia')\n",
        "sexes.append('female')\n",
        "ages.append(86)\n",
        "patient_id = -1\n",
        "print_patient(names[patient_id], sexes[patient_id], ages[patient_id])"
      ],
      "metadata": {
        "id": "gnqXwRULTGgm"
      },
      "execution_count": null,
      "outputs": []
    },
    {
      "cell_type": "markdown",
      "source": [
        "While this is an okay strategy for storing tabular data, it has many shortcomings. First and foremost, we must be diligent and always ensure that all of the lists have the same length, even if the data is actually supposed to be missing from our records. Otherwise, the data will be misaligned and we will not be able to access rows properly. Let's take our previous example and assume that Carol did not want to report her sex or age:"
      ],
      "metadata": {
        "id": "-iTjqnE2TfYt"
      }
    },
    {
      "cell_type": "code",
      "source": [
        "# Bad way of handling missing data\n",
        "bad_names = [\"Alice\", \"Bob\", \"Carol\", \"Dan\", \"Eric\"]\n",
        "bad_sexes = [\"female\", \"male\", \"male\", \"male\"]\n",
        "bad_ages = [67, 77, 83, 64]\n",
        "\n",
        "for patient_id in range(len(bad_names)):\n",
        "    try:\n",
        "        print_patient(bad_names[patient_id], bad_sexes[patient_id], bad_ages[patient_id])\n",
        "    except IndexError:\n",
        "        print('Index out of bounds!')"
      ],
      "metadata": {
        "id": "IlqXopuzU-o7"
      },
      "execution_count": null,
      "outputs": []
    },
    {
      "cell_type": "markdown",
      "source": [
        "Not only do we get an `IndexError`, but we also have a mismatch between patients and their data. We said that Carol was the patient who did not report their sex or age, but if the parallel lists don't have the same length, we lose the mapping between attributes."
      ],
      "metadata": {
        "id": "ihtQYzUCfRKq"
      }
    },
    {
      "cell_type": "markdown",
      "source": [
        "One way to fix this is by using placeholder values at the position we would expect Carol's data to be:"
      ],
      "metadata": {
        "id": "W0qmK2kWgIUI"
      }
    },
    {
      "cell_type": "code",
      "source": [
        "# Correct\n",
        "good_names = [\"Alice\", \"Bob\", \"Carol\", \"Dan\", \"Eric\"]\n",
        "good_sexes = [\"female\", \"male\", \"undisclosed\", \"male\", \"male\"]\n",
        "good_ages = [67, 77, -1, 83, 64]\n",
        "\n",
        "for patient_id in range(len(bad_names)):\n",
        "    print_patient(good_names[patient_id], good_sexes[patient_id], good_ages[patient_id])"
      ],
      "metadata": {
        "id": "1sGnypnNVEiW"
      },
      "execution_count": null,
      "outputs": []
    },
    {
      "cell_type": "markdown",
      "source": [
        "While this problem can be addressed, it isn't the only issue with storing tabular data in parallel lists. Doing operations that work across multiple attributes can be a challenge. Let's say we wanted to sort our data based on age rather than first name. One way we could do it is as follows:"
      ],
      "metadata": {
        "id": "QS-hkoSQoGlE"
      }
    },
    {
      "cell_type": "code",
      "source": [
        "# Zip the lists together\n",
        "combined = list(zip(names, sexes, ages))\n",
        "print(combined)\n",
        "\n",
        "# Sort the combined list by the third element of each list\n",
        "sorted_list = sorted(combined, key=lambda tup: tup[2])\n",
        "\n",
        "# Unzip the sorted list to get the separate lists again\n",
        "sorted_names, sorted_sexes, sorted_ages = zip(*sorted_list)\n",
        "\n",
        "# Print the results\n",
        "for patient_id in range(len(names)):\n",
        "    print_patient(sorted_names[patient_id], sorted_sexes[patient_id], sorted_ages[patient_id])"
      ],
      "metadata": {
        "id": "43lxM3zFoWD1"
      },
      "execution_count": null,
      "outputs": []
    },
    {
      "cell_type": "markdown",
      "source": [
        "While it's possible to manually manipulate parallel lists for almost any cross-attribute operation, they happen often enough to make parallel lists not a great solution for storing tabular data."
      ],
      "metadata": {
        "id": "N9d4AWA7gXeQ"
      }
    },
    {
      "cell_type": "markdown",
      "source": [
        "## Nested Lists"
      ],
      "metadata": {
        "id": "HRBxCP0dnSvU"
      }
    },
    {
      "cell_type": "markdown",
      "source": [
        "Another option for storing tabular data with basic Python data structures is to use a ***nested list***. In this setup, each row is represented by a list with the same length, and we collect all of those lists into a single list."
      ],
      "metadata": {
        "id": "FdoeT_ttj4Qg"
      }
    },
    {
      "cell_type": "code",
      "source": [
        "patients = [[\"Alice\", \"female\", 67],\n",
        "            [\"Bob\", \"male\", 77],\n",
        "            [\"Carol\", \"female\", 75],\n",
        "            [\"Dan\", \"male\", 83],\n",
        "            [\"Eric\", \"male\", 64]]"
      ],
      "metadata": {
        "id": "KBhE5ibjlgVe"
      },
      "execution_count": null,
      "outputs": []
    },
    {
      "cell_type": "markdown",
      "source": [
        "If we want to get the information about a specific patient by their position in our table, we can do this by simply indexing into the outer list."
      ],
      "metadata": {
        "id": "QTbMjqRZpebW"
      }
    },
    {
      "cell_type": "code",
      "source": [
        "def print_patient_list(patient):\n",
        "    print(f'Name: {patient[0]}, Sex: {patient[1]}, Age: {patient[2]}')"
      ],
      "metadata": {
        "id": "uKHO4JT1QuX3"
      },
      "execution_count": null,
      "outputs": []
    },
    {
      "cell_type": "code",
      "source": [
        "patient_id = 0\n",
        "print_patient_list(patients[patient_id])"
      ],
      "metadata": {
        "id": "wqQwq7GmppYB"
      },
      "execution_count": null,
      "outputs": []
    },
    {
      "cell_type": "markdown",
      "source": [
        "If we want to get the information about a specific patient by a particular attribute (e.g., their name), we must iterate through the outer list and then find the inner list that has the correct information at the right position."
      ],
      "metadata": {
        "id": "QT5B7ZKicZJa"
      }
    },
    {
      "cell_type": "code",
      "source": [
        "for i in range(len(patients)):\n",
        "    patient = patients[i]\n",
        "    if patient[0] == \"Dan\":\n",
        "        print_patient_list(patient)"
      ],
      "metadata": {
        "id": "TEV_YOp6h6yU"
      },
      "execution_count": null,
      "outputs": []
    },
    {
      "cell_type": "code",
      "source": [
        "# This code does the same as the one above, just with fewer lines of code\n",
        "for patient in patients:\n",
        "    if patient[0] == \"Dan\":\n",
        "        print_patient_list(patient)"
      ],
      "metadata": {
        "id": "-zg_ErNXcZ42"
      },
      "execution_count": null,
      "outputs": []
    },
    {
      "cell_type": "markdown",
      "source": [
        "If we want to grab a column from our table (i.e., a specific attribute from all of our patients), we need to iterate through the elements in our outer list and grab the corresponding element from each inner list."
      ],
      "metadata": {
        "id": "GGa9j5PhWP3-"
      }
    },
    {
      "cell_type": "code",
      "source": [
        "names = []\n",
        "for patient in patients:\n",
        "    names.append(patient[0])\n",
        "print(names)"
      ],
      "metadata": {
        "id": "Xa9Y81eUWcSd"
      },
      "execution_count": null,
      "outputs": []
    },
    {
      "cell_type": "markdown",
      "source": [
        "If we want to add a new patient to our table, we can do this by appending a new list with the corresponding attributes."
      ],
      "metadata": {
        "id": "SzXuXZFnqjbX"
      }
    },
    {
      "cell_type": "code",
      "source": [
        "patients.append(['Felicia', 'female', 86])\n",
        "patient_id = -1\n",
        "print_patient_list(patients[patient_id])"
      ],
      "metadata": {
        "id": "UjJaGwyopsx7"
      },
      "execution_count": null,
      "outputs": []
    },
    {
      "cell_type": "markdown",
      "source": [
        "Again, this is an okay strategy for storing tabular data, but it has many shortcomings. Like before, we must be diligent and always ensure that each of the inner lists have the same length, even if the data is actually supposed to be missing from our records. Otherwise, the data will be misaligned and we will not be able to access rows properly. Let's take our previous example and assume that Carol did not want to report her sex or her age:"
      ],
      "metadata": {
        "id": "aRlvgjXHn8RE"
      }
    },
    {
      "cell_type": "code",
      "source": [
        "# Incorrect\n",
        "bad_patients = [[\"Alice\", \"female\", 67],\n",
        "                [\"Bob\", \"male\", 77],\n",
        "                [\"Carol\"],\n",
        "                [\"Dan\", \"male\", 83],\n",
        "                [\"Eric\", \"male\", 64]]\n",
        "\n",
        "for patient_id in range(len(bad_patients)):\n",
        "    try:\n",
        "        print_patient_list(bad_patients[patient_id])\n",
        "    except IndexError:\n",
        "        print('Not enough data to print!')"
      ],
      "metadata": {
        "id": "DEy8ey4OXbaW"
      },
      "execution_count": null,
      "outputs": []
    },
    {
      "cell_type": "markdown",
      "source": [
        "Again, we can fix this problem by using placeholder values where the data is missing:"
      ],
      "metadata": {
        "id": "ldRdOLEFmbMM"
      }
    },
    {
      "cell_type": "code",
      "source": [
        "# Correct\n",
        "good_patients = [[\"Alice\", \"female\", 67],\n",
        "                 [\"Bob\", \"male\", 77],\n",
        "                 [\"Carol\", \"undisclosed\", -1],\n",
        "                 [\"Dan\", \"male\", 83],\n",
        "                 [\"Eric\", \"male\", 64]]\n",
        "\n",
        "for patient_id in range(len(good_patients)):\n",
        "    print_patient_list(good_patients[patient_id])"
      ],
      "metadata": {
        "id": "mDhvUd-EXbaW"
      },
      "execution_count": null,
      "outputs": []
    },
    {
      "cell_type": "markdown",
      "source": [
        "Doing operations that work across multiple attributes are similarly challenging here. As before, let's try to sort our data based on age rather than first name. You might notice that our way of doing this for parallel lists essentially converted them into a nested list before doing the sorting."
      ],
      "metadata": {
        "id": "Gxm9M_sYYXBU"
      }
    },
    {
      "cell_type": "code",
      "source": [
        "# Sort the combined list by the third element of each list\n",
        "sorted_patients = sorted(patients, key=lambda tup: tup[2])\n",
        "\n",
        "# Print the results\n",
        "for patient_id in range(len(names)):\n",
        "    print(f'{sorted_patients[patient_id]}')"
      ],
      "metadata": {
        "id": "Wvmh_6UhYXBb"
      },
      "execution_count": null,
      "outputs": []
    },
    {
      "cell_type": "markdown",
      "source": [
        "# Summary"
      ],
      "metadata": {
        "id": "y924iz2kZ4vs"
      }
    },
    {
      "cell_type": "markdown",
      "source": [
        "All in all, it is possible to represent tabular data as either a set of parallel lists or a nested list. However, common operations can be extremely tedious with either of these approaches, so people have created data structures specifically designed to handle tabular data."
      ],
      "metadata": {
        "id": "cta-dm0mZ6BD"
      }
    },
    {
      "cell_type": "markdown",
      "source": [
        "For the rest of this session, we will talk about two popular libraries – `numpy` and `pandas` – that not only provide data structures for tabular data, but also provide a multitude of methods for handling such data."
      ],
      "metadata": {
        "id": "1FPJK2mtd5aR"
      }
    }
  ]
}