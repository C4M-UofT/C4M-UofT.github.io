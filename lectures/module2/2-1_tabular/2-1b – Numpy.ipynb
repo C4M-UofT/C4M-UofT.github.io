{
  "nbformat": 4,
  "nbformat_minor": 0,
  "metadata": {
    "colab": {
      "provenance": [],
      "collapsed_sections": [
        "TSGg5x0_WAJX",
        "drRv3yfUhdSM",
        "Sn-takdhn6-w",
        "Oda47btzuRKY",
        "DA9MywLN-NkM",
        "rINDaLuOwT3K"
      ]
    },
    "kernelspec": {
      "name": "python3",
      "display_name": "Python 3"
    },
    "language_info": {
      "name": "python"
    }
  },
  "cells": [
    {
      "cell_type": "markdown",
      "source": [
        "In this notebook, we're going to talk about [`numpy`](https://numpy.org/) — one of the most commonly used Python libraries for scientific and numerical computing. It provides high-performance when working with multidimensional arrays of data."
      ],
      "metadata": {
        "id": "BDaO9cuMWe83"
      }
    },
    {
      "cell_type": "markdown",
      "source": [
        "To use this library, we first need to import it into our runtime environment."
      ],
      "metadata": {
        "id": "6gwbv4JIUEo7"
      }
    },
    {
      "cell_type": "code",
      "source": [
        "# Installs the library into your Python environment if it doesn't exist already\n",
        "!pip install numpy\n",
        "# Loads the library and gives it a name (np) so that you can conveniently reference it in your code\n",
        "import numpy as np"
      ],
      "metadata": {
        "id": "pXgM2kugThcr"
      },
      "execution_count": null,
      "outputs": []
    },
    {
      "cell_type": "markdown",
      "source": [
        "# A Note on Numbers"
      ],
      "metadata": {
        "id": "TSGg5x0_WAJX"
      }
    },
    {
      "cell_type": "markdown",
      "source": [
        "`numpy` is intended to work with numerical data of the form `int` and/or `float`. However, there are special values that you might encounter to handle unique situations. These include the following:\n",
        "\n",
        "| Value | Name | Usage |\n",
        "|-------|---------|--------|\n",
        "| `np.inf` | Mathematical infinity | Outcome of division by zero or exceeding the maximum representable value |\n",
        "| `np.nan` | Not a number | Placeholder for a non-existing value or the outcome of an invalid calculations |"
      ],
      "metadata": {
        "id": "1Bu40A1zWCzf"
      }
    },
    {
      "cell_type": "markdown",
      "source": [
        "# Creating Arrays"
      ],
      "metadata": {
        "id": "drRv3yfUhdSM"
      }
    },
    {
      "cell_type": "markdown",
      "source": [
        "An ***array*** is a way of storing multiple values of the same data type in a structure manner."
      ],
      "metadata": {
        "id": "9wx-x-aj65E8"
      }
    },
    {
      "cell_type": "markdown",
      "source": [
        "Arrays can have one or many ***dimensions***. A one-dimensional (1D) array is a linear sequence of numbers similar to a list. A two-dimensional (2D) array is a grid of numbers similar to a table or spreadsheet. A three-dimensional (3D) array can be imagined as a cube of numbers. We can even have arrays with higher numbers of dimensions."
      ],
      "metadata": {
        "id": "W-rXcRL27zvL"
      }
    },
    {
      "cell_type": "markdown",
      "source": [
        "We can create arrays from scratch by specifying their structure using lists. Here is how we can create 1D, 2D, and 3D `numpy` arrays from scratch:"
      ],
      "metadata": {
        "id": "FSF80gSOaVHZ"
      }
    },
    {
      "cell_type": "code",
      "source": [
        "# 1D arrays\n",
        "x = np.array([2, 3, 4, 5, 6, 7])\n",
        "print(x)\n",
        "print(x.shape)"
      ],
      "metadata": {
        "id": "cdc95Ph6aZja"
      },
      "execution_count": null,
      "outputs": []
    },
    {
      "cell_type": "code",
      "source": [
        "# 2D arrays\n",
        "x = np.array([[2, 3, 4, 5, 6, 7], [4, 9, 16, 25, 36, 49]])\n",
        "print(x)\n",
        "print(x.shape)"
      ],
      "metadata": {
        "id": "KNccXXYz78lQ"
      },
      "execution_count": null,
      "outputs": []
    },
    {
      "cell_type": "code",
      "source": [
        "# 3D arrays\n",
        "x = np.array([[[2, 3, 4, 5, 6, 7],\n",
        "               [4, 9, 16, 25, 36, 49]],\n",
        "              [[4, 6, 8, 10, 12, 14],\n",
        "               [16, 36, 64, 100, 144, 196]]])\n",
        "print(x)\n",
        "print(x.shape)"
      ],
      "metadata": {
        "id": "-ItwACWY8I-4"
      },
      "execution_count": null,
      "outputs": []
    },
    {
      "cell_type": "markdown",
      "source": [
        "We can keep going and create numpy arrays with any number of dimensions, but we'll generally stick with three dimensions in this course. Notice how we have been printing the shape of the arrays using the `.shape` attribrute. When we are looking at a 1D array, `.shape` simply tells us the number of elements in the array. Once we get to multiple dimensions, `.shape` tells us the size of the array along each ***axis*** (i.e., direction). Going up to 3D, the axes correspond to rows, columns, and depth."
      ],
      "metadata": {
        "id": "rye_BrCiDZvv"
      }
    },
    {
      "cell_type": "markdown",
      "source": [
        "`numpy` also provides some helper functions to help you generate arrays with a particular structure."
      ],
      "metadata": {
        "id": "F-nxMDGA7ocR"
      }
    },
    {
      "cell_type": "code",
      "source": [
        "# Array full of zeros\n",
        "np.zeros((5, 2))"
      ],
      "metadata": {
        "id": "SLA-xK0T8Smh"
      },
      "execution_count": null,
      "outputs": []
    },
    {
      "cell_type": "code",
      "source": [
        "# Array full of ones\n",
        "np.ones((5, 2))"
      ],
      "metadata": {
        "id": "mOec-1WJrp-r"
      },
      "execution_count": null,
      "outputs": []
    },
    {
      "cell_type": "code",
      "source": [
        "# Array with linearly spaced values according to the desired number of elements\n",
        "np.linspace(0, 20, num=5)"
      ],
      "metadata": {
        "id": "zfbjN0yGrqht"
      },
      "execution_count": null,
      "outputs": []
    },
    {
      "cell_type": "code",
      "source": [
        "# Array with linearly spaced values according to the desired step size\n",
        "np.arange(0, 20, step=5)"
      ],
      "metadata": {
        "id": "vq65Hq1P0Q2r"
      },
      "execution_count": null,
      "outputs": []
    },
    {
      "cell_type": "code",
      "source": [
        "# Array with random values between 0 and 1\n",
        "# (range can be adjusted by scaling and offsetting)\n",
        "np.random.rand(2, 6)"
      ],
      "metadata": {
        "id": "Oq3c_pGxN_F3"
      },
      "execution_count": null,
      "outputs": []
    },
    {
      "cell_type": "markdown",
      "source": [
        "We can also load arrays from other files, but we are going to skip that for now since there is another library better suited for doing that."
      ],
      "metadata": {
        "id": "eghJDyaKoGI0"
      }
    },
    {
      "cell_type": "markdown",
      "source": [
        "# Accessing Array Values"
      ],
      "metadata": {
        "id": "Sn-takdhn6-w"
      }
    },
    {
      "cell_type": "markdown",
      "source": [
        "We can do many of the same operations that we would do with standard Python `lists`. For example, we can access and assign values by using indeces. Let's start off with a 1D array:"
      ],
      "metadata": {
        "id": "HPkmNAnQagpx"
      }
    },
    {
      "cell_type": "code",
      "source": [
        "x_1d = np.array([2, 3, 4, 5, 6, 7])"
      ],
      "metadata": {
        "id": "qk6xCscUucep"
      },
      "execution_count": null,
      "outputs": []
    },
    {
      "cell_type": "code",
      "source": [
        "# Retrieve a single value from a 1D array\n",
        "print(x_1d[0])\n",
        "print(x_1d[1])\n",
        "print(x_1d[3])\n",
        "print(x_1d[-1]) # x[len(x)-1]"
      ],
      "metadata": {
        "id": "luTKymzqal-h"
      },
      "execution_count": null,
      "outputs": []
    },
    {
      "cell_type": "code",
      "source": [
        "# Retrieve a slice of values from a 1D array\n",
        "print(x_1d[1:3]) # From index 1 up to but not including index 3\n",
        "print(x_1d[:2]) # From index 0 up to but not including index 2\n",
        "print(x_1d[2:]) # From index 2 up to and including the last index"
      ],
      "metadata": {
        "id": "j0k2a0lRa29g"
      },
      "execution_count": null,
      "outputs": []
    },
    {
      "cell_type": "code",
      "source": [
        "# Modifying a value in a 1D array\n",
        "x_1d[0] = 30\n",
        "print(x_1d)"
      ],
      "metadata": {
        "id": "R_VrqqxqbIbF"
      },
      "execution_count": null,
      "outputs": []
    },
    {
      "cell_type": "markdown",
      "source": [
        "Now let's look at indexing into 2D arrays,"
      ],
      "metadata": {
        "id": "1jueLo7RpiRu"
      }
    },
    {
      "cell_type": "code",
      "source": [
        "x_2d = np.array([[2, 3, 4, 5, 6, 7], [4, 9, 16, 25, 36, 49]])"
      ],
      "metadata": {
        "id": "uUuq4IcCplMe"
      },
      "execution_count": null,
      "outputs": []
    },
    {
      "cell_type": "code",
      "source": [
        "print(x_2d[1, 4]) # Index 1 along axis 0, index 4 along axis 1\n",
        "print(x_2d[0, :]) # Index 0 along axis 0, all of the elements across axis 1\n",
        "print(x_2d[:, 0]) # All of the elements across axis 0, index 0 along axis 1"
      ],
      "metadata": {
        "id": "4PRZaMfZt7y8"
      },
      "execution_count": null,
      "outputs": []
    },
    {
      "cell_type": "markdown",
      "source": [
        "This pattern extends to 3D arrays, 4D arrays, etc."
      ],
      "metadata": {
        "id": "P7i3-CHHwAcq"
      }
    },
    {
      "cell_type": "markdown",
      "source": [
        "# Changing the Shape of Arrays"
      ],
      "metadata": {
        "id": "Oda47btzuRKY"
      }
    },
    {
      "cell_type": "markdown",
      "source": [
        "You will occasionally find yourselves in situations where you need to change the dimensions of your array. We won't go over those situations for now, but we will cover how you can use the `.reshape()` method to change the shape of an array."
      ],
      "metadata": {
        "id": "nretFgSmw67u"
      }
    },
    {
      "cell_type": "code",
      "source": [
        "# Reshaping while keeping the same number of dimensions\n",
        "x = np.array([[2, 3, 4, 5, 6, 7], [4, 9, 16, 25, 36, 49]])\n",
        "x.reshape((6, 2))"
      ],
      "metadata": {
        "id": "sUb9Az3_xUHs"
      },
      "execution_count": null,
      "outputs": []
    },
    {
      "cell_type": "markdown",
      "source": [
        "Notice how we need to know the number of elements ahead of time in order to do this reshaping. Fortunately, we can use `-1` in place of one of the dimensions and `numpy` will figure out the rest of the math for us."
      ],
      "metadata": {
        "id": "CQ5iCqD39evv"
      }
    },
    {
      "cell_type": "code",
      "source": [
        "# Reshaping while keeping the same number of dimensions\n",
        "x = np.array([[2, 3, 4, 5, 6, 7], [4, 9, 16, 25, 36, 49]])\n",
        "x.reshape((-1, 2))"
      ],
      "metadata": {
        "id": "X5C-bbTy9vsh"
      },
      "execution_count": null,
      "outputs": []
    },
    {
      "cell_type": "markdown",
      "source": [
        "There are also some special methods that we can call to perform special kinds of transformations."
      ],
      "metadata": {
        "id": "fkA22XbO98Cc"
      }
    },
    {
      "cell_type": "code",
      "source": [
        "# Reducing the array to a 1D array\n",
        "x = np.array([[2, 3, 4, 5, 6, 7], [4, 9, 16, 25, 36, 49]])\n",
        "x.flatten() # x.reshape(-1)"
      ],
      "metadata": {
        "id": "hvnqRhdtxVVQ"
      },
      "execution_count": null,
      "outputs": []
    },
    {
      "cell_type": "code",
      "source": [
        "# Expanding the array to a 3D array\n",
        "x = np.array([[2, 3, 4, 5, 6, 7], [4, 9, 16, 25, 36, 49]])\n",
        "np.expand_dims(x, axis=2) # x.reshape((2, 6, -1))"
      ],
      "metadata": {
        "id": "UxumjCoOAjbZ"
      },
      "execution_count": null,
      "outputs": []
    },
    {
      "cell_type": "code",
      "source": [
        "# Transposing\n",
        "x = np.array([[2, 3, 4, 5, 6, 7], [4, 9, 16, 25, 36, 49]])\n",
        "x.transpose()"
      ],
      "metadata": {
        "id": "1NpAGNCoxm4F"
      },
      "execution_count": null,
      "outputs": []
    },
    {
      "cell_type": "markdown",
      "source": [
        "# Combining Arrays"
      ],
      "metadata": {
        "id": "DA9MywLN-NkM"
      }
    },
    {
      "cell_type": "markdown",
      "source": [
        "You might also find situations when you need to combine arrays to suit your needs. For example, you might have each patient's data in an array and want to combine them all together into a single array for the entire dataset. Let's look at the `concatenate()` function:"
      ],
      "metadata": {
        "id": "RVFjXFLG4mgH"
      }
    },
    {
      "cell_type": "code",
      "source": [
        "# Appending two 1D arrays along the \"0th axis\"\n",
        "x1 = np.array([2, 3, 4, 5, 6, 7])\n",
        "x2 = np.array([4, 9, 16, 25, 36, 49])\n",
        "np.concatenate((x1, x2), axis=0)"
      ],
      "metadata": {
        "id": "te7GkIZ4_QZj"
      },
      "execution_count": null,
      "outputs": []
    },
    {
      "cell_type": "code",
      "source": [
        "# DOESN'T WORK: Appending two 1D arrays along the \"1st axis\"\n",
        "x1 = np.array([2, 3, 4, 5, 6, 7])\n",
        "x2 = np.array([4, 9, 16, 25, 36, 49])\n",
        "np.concatenate((x1, x2), axis=1)"
      ],
      "metadata": {
        "id": "2dFSnmxyH-fM"
      },
      "execution_count": null,
      "outputs": []
    },
    {
      "cell_type": "markdown",
      "source": [
        "Notice that we cannot concatenate two 1D arrays to make a 2D array; in other words, `concatenate()` cannot be used to create new dimensions. If we want to do that, we need to create a new dimension in advance. The examples below show different ways of doing this:"
      ],
      "metadata": {
        "id": "YDYGJBqRGNwq"
      }
    },
    {
      "cell_type": "code",
      "source": [
        "# Appending two 2D arrays along the \"0th axis\"\n",
        "x1 = np.array([[2, 3, 4, 5, 6, 7]])\n",
        "x2 = np.array([[4, 9, 16, 25, 36, 49]])\n",
        "np.concatenate((x1, x2), axis=0)"
      ],
      "metadata": {
        "id": "E57PHNV_FfQe"
      },
      "execution_count": null,
      "outputs": []
    },
    {
      "cell_type": "code",
      "source": [
        "# Extend the dimensionality of each array using np.newaxis\n",
        "x1 = np.array([2, 3, 4, 5, 6, 7])\n",
        "x2 = np.array([4, 9, 16, 25, 36, 49])\n",
        "np.concatenate((x1[np.newaxis, :], x2[np.newaxis, :]), axis=0)"
      ],
      "metadata": {
        "id": "AuDWCodkIPMW"
      },
      "execution_count": null,
      "outputs": []
    },
    {
      "cell_type": "code",
      "source": [
        "# Extend the dimensionality of each array using .reshape()\n",
        "x1 = np.array([2, 3, 4, 5, 6, 7])\n",
        "x2 = np.array([4, 9, 16, 25, 36, 49])\n",
        "np.concatenate((x1.reshape(1, -1), x2.reshape(1, -1)), axis=0)"
      ],
      "metadata": {
        "id": "KpH5f2kYxXUX"
      },
      "execution_count": null,
      "outputs": []
    },
    {
      "cell_type": "markdown",
      "source": [
        "# Other Operations"
      ],
      "metadata": {
        "id": "rINDaLuOwT3K"
      }
    },
    {
      "cell_type": "markdown",
      "source": [
        "`numpy` provides hundreds of methods and functions that to help you process the data within an array. We will only go over a small handful of them using our arrays from the previous section:"
      ],
      "metadata": {
        "id": "6BWFPSWRwq3L"
      }
    },
    {
      "cell_type": "code",
      "source": [
        "x1 = np.array([2, 3, 4, 5, 6, 7])\n",
        "x2 = np.array([4, 9, 16, 25, 36, 49])\n",
        "x1and2 = np.concatenate((x1.reshape(1, -1), x2.reshape(1, -1)), axis=0)"
      ],
      "metadata": {
        "id": "FLIvGkieITiV"
      },
      "execution_count": null,
      "outputs": []
    },
    {
      "cell_type": "markdown",
      "source": [
        "Let's start with some of the built-in methods:"
      ],
      "metadata": {
        "id": "AKtEF3zbhozd"
      }
    },
    {
      "cell_type": "code",
      "source": [
        "# Compute the min, max, mean\n",
        "print(f'Min: {x1.min()}')\n",
        "print(f'Mean: {x1.mean()}')\n",
        "print(f'Max: {x1.max()}')"
      ],
      "metadata": {
        "id": "k2yT-9mMhqYR"
      },
      "execution_count": null,
      "outputs": []
    },
    {
      "cell_type": "code",
      "source": [
        "# Find the index of the min and max values\n",
        "print(f'Argmin: {x1.argmin()}')\n",
        "print(f'Argmax: {x1.argmax()}')"
      ],
      "metadata": {
        "id": "MwhME3OWiOU_"
      },
      "execution_count": null,
      "outputs": []
    },
    {
      "cell_type": "code",
      "source": [
        "# Sort the array\n",
        "# Note: This does not return a new list, but rather sorts the array it was called on\n",
        "x1.sort()\n",
        "print(x1)"
      ],
      "metadata": {
        "id": "iRzjc7ugiTkL"
      },
      "execution_count": null,
      "outputs": []
    },
    {
      "cell_type": "markdown",
      "source": [
        "There are even more functions that take `numpy` arrays as input and return something useful. Some of these functions accept one or many arrays with the same shape as input, performs a mathematical operation at each array index, and then returns a new array with the same shape. These operations are often said to function ***element-wise***."
      ],
      "metadata": {
        "id": "ju7T7BwmlZdf"
      }
    },
    {
      "cell_type": "code",
      "source": [
        "# Multiplies each element by 2\n",
        "2 * x1"
      ],
      "metadata": {
        "id": "bQ70CfUse24T"
      },
      "execution_count": null,
      "outputs": []
    },
    {
      "cell_type": "code",
      "source": [
        "# Adds elements at the same position across two arrays\n",
        "x1 + x2"
      ],
      "metadata": {
        "id": "kMa6qn4Qe-D7"
      },
      "execution_count": null,
      "outputs": []
    },
    {
      "cell_type": "code",
      "source": [
        "# Calculate sin(x) for each element\n",
        "np.sin(x1)"
      ],
      "metadata": {
        "id": "95QW_HFnljj5"
      },
      "execution_count": null,
      "outputs": []
    },
    {
      "cell_type": "markdown",
      "source": [
        "There are also functions that accept a single array and return a single value:"
      ],
      "metadata": {
        "id": "I6BeMY9Xm5zl"
      }
    },
    {
      "cell_type": "code",
      "source": [
        "# Calculate the sum of all the elements\n",
        "np.sum(x1)"
      ],
      "metadata": {
        "id": "mfbw7reOqfYP"
      },
      "execution_count": null,
      "outputs": []
    },
    {
      "cell_type": "markdown",
      "source": [
        "These functions also work with multidimensional arrays. However, different things will happen depending on whether or not you specify the axis along which you do the operation."
      ],
      "metadata": {
        "id": "YN-NHBjyqfn1"
      }
    },
    {
      "cell_type": "code",
      "source": [
        "print(f'Sum over all elements: {np.sum(x1and2)}')\n",
        "print(f'Sum along the columns: {np.sum(x1and2, axis=0)}')\n",
        "print(f'Sum along the rows: {np.sum(x1and2, axis=1)}')"
      ],
      "metadata": {
        "id": "TiCYGfL2yGdM"
      },
      "execution_count": null,
      "outputs": []
    }
  ]
}