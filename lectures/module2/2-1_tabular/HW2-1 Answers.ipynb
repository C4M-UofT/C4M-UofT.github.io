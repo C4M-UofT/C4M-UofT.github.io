{
  "cells": [
    {
      "cell_type": "markdown",
      "metadata": {
        "id": "B6v86VjQmIrK"
      },
      "source": [
        "# Important: Run this code cell each time you start a new session!"
      ]
    },
    {
      "cell_type": "code",
      "execution_count": 1,
      "metadata": {
        "colab": {
          "base_uri": "https://localhost:8080/"
        },
        "id": "jrO0X1ZMxMN5",
        "outputId": "2b866c2a-fa0c-472b-8157-440b74b7b1ec"
      },
      "outputs": [
        {
          "output_type": "stream",
          "name": "stdout",
          "text": [
            "\u001b[31mERROR: Could not find a version that satisfies the requirement os (from versions: none)\u001b[0m\u001b[31m\n",
            "\u001b[0m\u001b[31mERROR: No matching distribution found for os\u001b[0m\u001b[31m\n",
            "\u001b[0m"
          ]
        }
      ],
      "source": [
        "!pip install os\n",
        "import os\n",
        "import numpy as np\n",
        "import pandas as pd"
      ]
    },
    {
      "cell_type": "code",
      "execution_count": 2,
      "metadata": {
        "colab": {
          "base_uri": "https://localhost:8080/"
        },
        "id": "bASFcdZNZuGJ",
        "outputId": "c3c90df7-58da-4f5d-db1f-dae600e14cb6"
      },
      "outputs": [
        {
          "output_type": "stream",
          "name": "stdout",
          "text": [
            "--2025-04-05 03:44:27--  https://physionet.org/files/challenge-2019/1.0.0/training/training_setA/p000001.psv\n",
            "Resolving physionet.org (physionet.org)... 18.18.42.54\n",
            "Connecting to physionet.org (physionet.org)|18.18.42.54|:443... connected.\n",
            "HTTP request sent, awaiting response... 200 OK\n",
            "Length: 9062 (8.8K) [text/plain]\n",
            "Saving to: ‘p000001.psv’\n",
            "\n",
            "p000001.psv         100%[===================>]   8.85K  --.-KB/s    in 0s      \n",
            "\n",
            "2025-04-05 03:44:27 (217 MB/s) - ‘p000001.psv’ saved [9062/9062]\n",
            "\n",
            "--2025-04-05 03:44:27--  https://physionet.org/files/challenge-2019/1.0.0/training/training_setA/p000002.psv\n",
            "Resolving physionet.org (physionet.org)... 18.18.42.54\n",
            "Connecting to physionet.org (physionet.org)|18.18.42.54|:443... connected.\n",
            "HTTP request sent, awaiting response... 200 OK\n",
            "Length: 3864 (3.8K) [text/plain]\n",
            "Saving to: ‘p000002.psv’\n",
            "\n",
            "p000002.psv         100%[===================>]   3.77K  --.-KB/s    in 0s      \n",
            "\n",
            "2025-04-05 03:44:28 (2.32 GB/s) - ‘p000002.psv’ saved [3864/3864]\n",
            "\n",
            "--2025-04-05 03:44:28--  https://physionet.org/files/challenge-2019/1.0.0/training/training_setA/p000003.psv\n",
            "Resolving physionet.org (physionet.org)... 18.18.42.54\n",
            "Connecting to physionet.org (physionet.org)|18.18.42.54|:443... connected.\n",
            "HTTP request sent, awaiting response... 200 OK\n",
            "Length: 7928 (7.7K) [text/plain]\n",
            "Saving to: ‘p000003.psv’\n",
            "\n",
            "p000003.psv         100%[===================>]   7.74K  --.-KB/s    in 0s      \n",
            "\n",
            "2025-04-05 03:44:28 (3.36 GB/s) - ‘p000003.psv’ saved [7928/7928]\n",
            "\n",
            "--2025-04-05 03:44:28--  https://physionet.org/files/challenge-2019/1.0.0/training/training_setA/p000004.psv\n",
            "Resolving physionet.org (physionet.org)... 18.18.42.54\n",
            "Connecting to physionet.org (physionet.org)|18.18.42.54|:443... connected.\n",
            "HTTP request sent, awaiting response... 200 OK\n",
            "Length: 4870 (4.8K) [text/plain]\n",
            "Saving to: ‘p000004.psv’\n",
            "\n",
            "p000004.psv         100%[===================>]   4.76K  --.-KB/s    in 0s      \n",
            "\n",
            "2025-04-05 03:44:28 (2.10 GB/s) - ‘p000004.psv’ saved [4870/4870]\n",
            "\n",
            "--2025-04-05 03:44:28--  https://physionet.org/files/challenge-2019/1.0.0/training/training_setA/p000005.psv\n",
            "Resolving physionet.org (physionet.org)... 18.18.42.54\n",
            "Connecting to physionet.org (physionet.org)|18.18.42.54|:443... connected.\n",
            "HTTP request sent, awaiting response... 200 OK\n",
            "Length: 7850 (7.7K) [text/plain]\n",
            "Saving to: ‘p000005.psv’\n",
            "\n",
            "p000005.psv         100%[===================>]   7.67K  --.-KB/s    in 0s      \n",
            "\n",
            "2025-04-05 03:44:29 (3.01 GB/s) - ‘p000005.psv’ saved [7850/7850]\n",
            "\n",
            "--2025-04-05 03:44:29--  https://physionet.org/files/challenge-2019/1.0.0/training/training_setA/p000006.psv\n",
            "Resolving physionet.org (physionet.org)... 18.18.42.54\n",
            "Connecting to physionet.org (physionet.org)|18.18.42.54|:443... connected.\n",
            "HTTP request sent, awaiting response... 200 OK\n",
            "Length: 2982 (2.9K) [text/plain]\n",
            "Saving to: ‘p000006.psv’\n",
            "\n",
            "p000006.psv         100%[===================>]   2.91K  --.-KB/s    in 0s      \n",
            "\n",
            "2025-04-05 03:44:29 (1.39 GB/s) - ‘p000006.psv’ saved [2982/2982]\n",
            "\n",
            "--2025-04-05 03:44:29--  https://physionet.org/files/challenge-2019/1.0.0/training/training_setA/p000007.psv\n",
            "Resolving physionet.org (physionet.org)... 18.18.42.54\n",
            "Connecting to physionet.org (physionet.org)|18.18.42.54|:443... connected.\n",
            "HTTP request sent, awaiting response... 200 OK\n",
            "Length: 7330 (7.2K) [text/plain]\n",
            "Saving to: ‘p000007.psv’\n",
            "\n",
            "p000007.psv         100%[===================>]   7.16K  --.-KB/s    in 0s      \n",
            "\n",
            "2025-04-05 03:44:30 (3.31 GB/s) - ‘p000007.psv’ saved [7330/7330]\n",
            "\n",
            "--2025-04-05 03:44:30--  https://physionet.org/files/challenge-2019/1.0.0/training/training_setA/p000008.psv\n",
            "Resolving physionet.org (physionet.org)... 18.18.42.54\n",
            "Connecting to physionet.org (physionet.org)|18.18.42.54|:443... connected.\n",
            "HTTP request sent, awaiting response... 200 OK\n",
            "Length: 6640 (6.5K) [text/plain]\n",
            "Saving to: ‘p000008.psv’\n",
            "\n",
            "p000008.psv         100%[===================>]   6.48K  --.-KB/s    in 0s      \n",
            "\n",
            "2025-04-05 03:44:30 (2.67 GB/s) - ‘p000008.psv’ saved [6640/6640]\n",
            "\n",
            "--2025-04-05 03:44:30--  https://physionet.org/files/challenge-2019/1.0.0/training/training_setA/p000009.psv\n",
            "Resolving physionet.org (physionet.org)... 18.18.42.54\n",
            "Connecting to physionet.org (physionet.org)|18.18.42.54|:443... connected.\n",
            "HTTP request sent, awaiting response... 200 OK\n",
            "Length: 41796 (41K) [text/plain]\n",
            "Saving to: ‘p000009.psv’\n",
            "\n",
            "p000009.psv         100%[===================>]  40.82K  --.-KB/s    in 0.06s   \n",
            "\n",
            "2025-04-05 03:44:31 (679 KB/s) - ‘p000009.psv’ saved [41796/41796]\n",
            "\n",
            "--2025-04-05 03:44:31--  https://physionet.org/files/challenge-2019/1.0.0/training/training_setA/p000010.psv\n",
            "Resolving physionet.org (physionet.org)... 18.18.42.54\n",
            "Connecting to physionet.org (physionet.org)|18.18.42.54|:443... connected.\n",
            "HTTP request sent, awaiting response... 200 OK\n",
            "Length: 3842 (3.8K) [text/plain]\n",
            "Saving to: ‘p000010.psv’\n",
            "\n",
            "p000010.psv         100%[===================>]   3.75K  --.-KB/s    in 0s      \n",
            "\n",
            "2025-04-05 03:44:31 (1.84 GB/s) - ‘p000010.psv’ saved [3842/3842]\n",
            "\n"
          ]
        }
      ],
      "source": [
        "# Download some files of a sepsis dataset\n",
        "sepsis_folder = \"sepsis_dataset\"\n",
        "if not os.path.exists(sepsis_folder):\n",
        "    os.mkdir(sepsis_folder)\n",
        "patient_list = range(1, 11)\n",
        "patient_list = [f'p{str(s).zfill(6)}.psv' for s in patient_list]\n",
        "for f in patient_list:\n",
        "  !wget -nc https://physionet.org/files/challenge-2019/1.0.0/training/training_setA/{f}\n",
        "  os.rename(f, os.path.join(sepsis_folder, f))"
      ]
    },
    {
      "cell_type": "code",
      "execution_count": 3,
      "metadata": {
        "id": "2hP2UnPrcEdI"
      },
      "outputs": [],
      "source": [
        "# Convert the sepsis dataset to a single csv\n",
        "def load_single_file(file_path):\n",
        "    df = pd.read_csv(file_path, sep=\"|\")\n",
        "    df['PatientID'] = file_path.split(os.sep)[-1][:-4]\n",
        "    df['Hour'] = df.index\n",
        "    keep_cols = ['PatientID', 'Age', 'Gender', 'SepsisLabel', 'Hour',\n",
        "                 'HR', 'O2Sat', 'SBP', 'DBP', 'Resp']\n",
        "    df = df[keep_cols]\n",
        "    df.rename(columns={'Gender': 'Sex', 'SepsisLabel': 'HasSepsis'}, inplace=True)\n",
        "    return df\n",
        "\n",
        "def create_final_table(patient_list):\n",
        "    final_df = pd.DataFrame()\n",
        "    for f in patient_list:\n",
        "        df = load_single_file(os.path.join(sepsis_folder, f))\n",
        "        final_df = pd.concat([final_df, df])\n",
        "    final_df.to_csv('sepsis.csv',index=False)\n",
        "create_final_table(patient_list)"
      ]
    },
    {
      "cell_type": "code",
      "source": [
        "import os, datetime, json, locale, pathlib, urllib, requests, werkzeug, nbformat, google, yaml, warnings\n",
        "def colab2pdf():\n",
        "    locale.setlocale(locale.LC_ALL, 'en_US.UTF-8')\n",
        "    NAME = pathlib.Path(werkzeug.utils.secure_filename(urllib.parse.unquote(requests.get(f\"http://{os.environ['COLAB_JUPYTER_IP']}:{os.environ['KMP_TARGET_PORT']}/api/sessions\").json()[0][\"name\"])))\n",
        "    TEMP = pathlib.Path(\"/content/pdfs\") / f\"{datetime.datetime.now().strftime('%Y%m%d_%H%M%S')}_{NAME.stem}\"; TEMP.mkdir(parents=True, exist_ok=True)\n",
        "    NB = [cell for cell in nbformat.reads(json.dumps(google.colab._message.blocking_request(\"get_ipynb\", timeout_sec=30)[\"ipynb\"]), as_version=4).cells if \"--Colab2PDF\" not in cell.source]\n",
        "    warnings.filterwarnings('ignore', category=nbformat.validator.MissingIDFieldWarning)\n",
        "    with (TEMP / f\"{NAME.stem}.ipynb\").open(\"w\", encoding=\"utf-8\") as nb_copy: nbformat.write(nbformat.v4.new_notebook(cells=NB or [nbformat.v4.new_code_cell(\"#\")]), nb_copy)\n",
        "    if not pathlib.Path(\"/usr/local/bin/quarto\").exists():\n",
        "        !wget -q \"https://quarto.org/download/latest/quarto-linux-amd64.deb\" -P {TEMP} && dpkg -i {TEMP}/quarto-linux-amd64.deb > /dev/null && quarto install tinytex --update-path --quiet\n",
        "    with (TEMP / \"config.yml\").open(\"w\", encoding=\"utf-8\") as file: yaml.dump({'include-in-header': [{\"text\": r\"\\usepackage{fvextra}\\DefineVerbatimEnvironment{Highlighting}{Verbatim}{breaksymbolleft={},showspaces=false,showtabs=false,breaklines,breakanywhere,commandchars=\\\\\\{\\}}\"}],'include-before-body': [{\"text\": r\"\\DefineVerbatimEnvironment{verbatim}{Verbatim}{breaksymbolleft={},showspaces=false,showtabs=false,breaklines}\"}]}, file)\n",
        "    !quarto render {TEMP}/{NAME.stem}.ipynb --metadata-file={TEMP}/config.yml --to pdf -M latex-auto-install -M margin-top=1in -M margin-bottom=1in -M margin-left=1in -M margin-right=1in --quiet\n",
        "    google.colab.files.download(str(TEMP / f\"{NAME.stem}.pdf\"))"
      ],
      "metadata": {
        "id": "m6RNA3Vdxhan"
      },
      "execution_count": 4,
      "outputs": []
    },
    {
      "cell_type": "markdown",
      "metadata": {
        "id": "IhQvi7z1v6rm"
      },
      "source": [
        "# Instructions"
      ]
    },
    {
      "cell_type": "markdown",
      "metadata": {
        "id": "FmZhTZTraQGQ"
      },
      "source": [
        "Please complete all of the exercises below. Across this module, some of the exercises are expected to produce very specific outputs, while others may have a variety of reasonable answers."
      ]
    },
    {
      "cell_type": "markdown",
      "metadata": {
        "id": "hDWIfFlIwU-P"
      },
      "source": [
        "# Exercise 1: Examining a Numpy Array"
      ]
    },
    {
      "cell_type": "markdown",
      "metadata": {
        "id": "aGwoS2jGPjnK"
      },
      "source": [
        "**(Part 1)** Create an Numpy array with the following values:\n",
        "\n",
        "<table>\n",
        "  <tr>\n",
        "    <td>3</td>\n",
        "    <td>1</td>\n",
        "    <td>7</td>\n",
        "  </tr>\n",
        "\n",
        "  <tr>\n",
        "    <td>6</td>\n",
        "    <td>10</td>\n",
        "    <td>4</td>\n",
        "  </tr>\n",
        "</table>"
      ]
    },
    {
      "cell_type": "code",
      "execution_count": 5,
      "metadata": {
        "id": "T8Xw6CX8wlp6",
        "colab": {
          "base_uri": "https://localhost:8080/"
        },
        "outputId": "1811878b-59c9-4e4f-82d9-4c9039b9fb08"
      },
      "outputs": [
        {
          "output_type": "execute_result",
          "data": {
            "text/plain": [
              "array([[ 3,  1,  7],\n",
              "       [ 6, 10,  4]])"
            ]
          },
          "metadata": {},
          "execution_count": 5
        }
      ],
      "source": [
        "x = np.array([[3, 1, 7], [6, 10, 4]])\n",
        "x"
      ]
    },
    {
      "cell_type": "markdown",
      "metadata": {
        "id": "HjFQ6hqzBJKL"
      },
      "source": [
        "**(Part 2)** What are the dimensions of this array? In other words, how many rows and columns does it have?"
      ]
    },
    {
      "cell_type": "markdown",
      "metadata": {
        "id": "k-IyzGaoBVBf"
      },
      "source": [
        "Write your answer here: 2 rows, 3 columns"
      ]
    },
    {
      "cell_type": "markdown",
      "metadata": {
        "id": "W5--9cvU4giE"
      },
      "source": [
        "**(Part 3)** Write code that will print out the number of rows in the array."
      ]
    },
    {
      "cell_type": "code",
      "execution_count": 6,
      "metadata": {
        "id": "VBs_Xadl4gCE",
        "colab": {
          "base_uri": "https://localhost:8080/"
        },
        "outputId": "9f4bd907-e8c7-4e98-e43c-795c6c411836"
      },
      "outputs": [
        {
          "output_type": "execute_result",
          "data": {
            "text/plain": [
              "2"
            ]
          },
          "metadata": {},
          "execution_count": 6
        }
      ],
      "source": [
        "x.shape[0]"
      ]
    },
    {
      "cell_type": "markdown",
      "metadata": {
        "id": "i8y4Ggke33lG"
      },
      "source": [
        "**(Part 4)** Write code that will index into the array and retrieve the value `7`."
      ]
    },
    {
      "cell_type": "code",
      "execution_count": 7,
      "metadata": {
        "id": "zv5QcS1d4Jgm",
        "colab": {
          "base_uri": "https://localhost:8080/"
        },
        "outputId": "40b6abe1-7e1d-4e32-a578-75fb6cbf5d11"
      },
      "outputs": [
        {
          "output_type": "execute_result",
          "data": {
            "text/plain": [
              "np.int64(7)"
            ]
          },
          "metadata": {},
          "execution_count": 7
        }
      ],
      "source": [
        "x[0, 2]"
      ]
    },
    {
      "cell_type": "markdown",
      "metadata": {
        "id": "1zVP0EJ74KWT"
      },
      "source": [
        "**(Part 5)** Write code that will index into the array and retrieve the first row (`[3, 1, 7]`)."
      ]
    },
    {
      "cell_type": "code",
      "execution_count": 8,
      "metadata": {
        "id": "W7oWlepA4RKD",
        "colab": {
          "base_uri": "https://localhost:8080/"
        },
        "outputId": "bd4b1d60-26bf-4b88-d796-fa80932c1149"
      },
      "outputs": [
        {
          "output_type": "execute_result",
          "data": {
            "text/plain": [
              "array([3, 1, 7])"
            ]
          },
          "metadata": {},
          "execution_count": 8
        }
      ],
      "source": [
        "x[0]"
      ]
    },
    {
      "cell_type": "markdown",
      "metadata": {
        "id": "JXFrzyWX4Ri_"
      },
      "source": [
        "**(Part 6)** Write code that will index into the array and retrieve the first two columns (`[[3, 1], [6, 10]]`)."
      ]
    },
    {
      "cell_type": "code",
      "execution_count": 9,
      "metadata": {
        "id": "QUSzh-Hl4X8U",
        "colab": {
          "base_uri": "https://localhost:8080/"
        },
        "outputId": "cfd29c04-9a1a-4d71-f812-1fb7dfb9d66b"
      },
      "outputs": [
        {
          "output_type": "execute_result",
          "data": {
            "text/plain": [
              "array([[ 3,  1],\n",
              "       [ 6, 10]])"
            ]
          },
          "metadata": {},
          "execution_count": 9
        }
      ],
      "source": [
        "x[:,:2]"
      ]
    },
    {
      "cell_type": "markdown",
      "metadata": {
        "id": "2uXGGPNN4wHF"
      },
      "source": [
        "**(Part 7)** Write code that will produce the sum along each column of the array and multiply it by 4."
      ]
    },
    {
      "cell_type": "code",
      "execution_count": 10,
      "metadata": {
        "id": "nh9MIO0Z9HXj",
        "colab": {
          "base_uri": "https://localhost:8080/"
        },
        "outputId": "8e31a6d9-886f-45c9-bc7f-dedc27858ee9"
      },
      "outputs": [
        {
          "output_type": "execute_result",
          "data": {
            "text/plain": [
              "array([36, 44, 44])"
            ]
          },
          "metadata": {},
          "execution_count": 10
        }
      ],
      "source": [
        "np.sum(x, axis=0) * 4"
      ]
    },
    {
      "cell_type": "markdown",
      "metadata": {
        "id": "DHF99DDM_F8N"
      },
      "source": [
        "# Exercise 2: Creating a Numpy Array"
      ]
    },
    {
      "cell_type": "markdown",
      "metadata": {
        "id": "c3l1W0-5HqhA"
      },
      "source": [
        "In this exercise, you will be asked to create the following array using multiple methods:\n",
        "\n",
        "<table>\n",
        "  <tr>\n",
        "    <td>0</td>\n",
        "    <td>1</td>\n",
        "    <td>2</td>\n",
        "    <td>3</td>\n",
        "    <td>4</td>\n",
        "    <td>5</td>\n",
        "  </tr>\n",
        "\n",
        "  <tr>\n",
        "    <td>0</td>\n",
        "    <td>5</td>\n",
        "    <td>10</td>\n",
        "    <td>15</td>\n",
        "    <td>20</td>\n",
        "    <td>25</td>\n",
        "  </tr>\n",
        "</table>\n",
        "\n",
        "Notice that the bottom row is equal to the top row multiplied by 5.\n"
      ]
    },
    {
      "cell_type": "markdown",
      "metadata": {
        "id": "SDbXImLh_Td5"
      },
      "source": [
        "**(Part 1)** Write code that will create the array using `np.array()` with a list as the input."
      ]
    },
    {
      "cell_type": "code",
      "execution_count": 11,
      "metadata": {
        "id": "dbMs2Ib3_Spb",
        "colab": {
          "base_uri": "https://localhost:8080/"
        },
        "outputId": "9618c601-5994-43b3-c231-fe72dc1ae6d7"
      },
      "outputs": [
        {
          "output_type": "execute_result",
          "data": {
            "text/plain": [
              "array([[ 0,  1,  2,  3,  4,  5],\n",
              "       [ 0,  5, 10, 15, 20, 25]])"
            ]
          },
          "metadata": {},
          "execution_count": 11
        }
      ],
      "source": [
        "row1 = [0, 1, 2, 3, 4, 5]\n",
        "row2 = [0, 5, 10, 15, 20, 25]\n",
        "a = np.array([row1, row2])\n",
        "a"
      ]
    },
    {
      "cell_type": "markdown",
      "metadata": {
        "id": "IjPYFb6TH1Cz"
      },
      "source": [
        "**(Part 2)** Write code that will create the array by combining the two arrays provided below."
      ]
    },
    {
      "cell_type": "code",
      "execution_count": 12,
      "metadata": {
        "id": "5lbCDXotIINr",
        "colab": {
          "base_uri": "https://localhost:8080/"
        },
        "outputId": "6e9a5ac9-3f3e-45b8-c743-0ec9c8218acf"
      },
      "outputs": [
        {
          "output_type": "execute_result",
          "data": {
            "text/plain": [
              "array([[ 0,  1,  2,  3,  4,  5],\n",
              "       [ 0,  5, 10, 15, 20, 25]])"
            ]
          },
          "metadata": {},
          "execution_count": 12
        }
      ],
      "source": [
        "row1 = np.array([0, 1, 2, 3, 4, 5])\n",
        "row2 = np.array([0, 5, 10, 15, 20, 25])\n",
        "a = np.vstack([row1, row2]) # or np.concatenate(([row1], [row2]), axis=0)\n",
        "a"
      ]
    },
    {
      "cell_type": "markdown",
      "metadata": {
        "id": "xZjjt_2pKKLt"
      },
      "source": [
        "**(Part 3)** Write code that will create the array using a similar approach to what you used in **(Part 2)**, but create `row1` and `row2` using `np.arange()` and basic arithmetic. In other words, create `row1` and `row2` without needing to type each individual list element."
      ]
    },
    {
      "cell_type": "code",
      "execution_count": 13,
      "metadata": {
        "id": "yq1wTnH0KJSF",
        "colab": {
          "base_uri": "https://localhost:8080/"
        },
        "outputId": "6d38e0be-d657-4b75-c8e7-2cc8001aeeae"
      },
      "outputs": [
        {
          "output_type": "execute_result",
          "data": {
            "text/plain": [
              "array([[ 0,  1,  2,  3,  4,  5],\n",
              "       [ 0,  5, 10, 15, 20, 25]])"
            ]
          },
          "metadata": {},
          "execution_count": 13
        }
      ],
      "source": [
        "row1 = np.arange(0, 6, step=1)\n",
        "row2 = row1*5\n",
        "a = np.vstack([row1, row2]) # or np.concatenate(([row1], [row2]), axis=0)\n",
        "a"
      ]
    },
    {
      "cell_type": "markdown",
      "metadata": {
        "id": "T9ASHsLJISZT"
      },
      "source": [
        "**(Part 4)** Write code that will fill in the provided empty array of zeroes with the values of the target array using at least one `for` loop.\n",
        "\n",
        "*Hint:* You could either do a single `for` loop that fills in one column per iteration, or you could do a double-nested `for` and `if` statements to fill in one value at a time."
      ]
    },
    {
      "cell_type": "code",
      "execution_count": 14,
      "metadata": {
        "id": "OZFk-tU4IeBr",
        "colab": {
          "base_uri": "https://localhost:8080/"
        },
        "outputId": "31e44854-5f77-4ea7-81c8-8f497a92a83a"
      },
      "outputs": [
        {
          "output_type": "execute_result",
          "data": {
            "text/plain": [
              "array([[ 0.,  1.,  2.,  3.,  4.,  5.],\n",
              "       [ 0.,  5., 10., 15., 20., 25.]])"
            ]
          },
          "metadata": {},
          "execution_count": 14
        }
      ],
      "source": [
        "arr = np.zeros((2, 6))\n",
        "for i in range(arr.shape[1]):\n",
        "    arr[0, i] = i\n",
        "    arr[1, i] = i*5\n",
        "arr"
      ]
    },
    {
      "cell_type": "markdown",
      "metadata": {
        "id": "9pzuV8XvLGKx"
      },
      "source": [
        "# Exercise 3: Examining a Pandas DataFrame"
      ]
    },
    {
      "cell_type": "markdown",
      "metadata": {
        "id": "06IHv2e6e2Tk"
      },
      "source": [
        "This exercise will involve a `DataFrame` similar to the one we used in class.\n",
        "\n",
        "*Important:* Note that the patients in this DataFrame are represented across multiple rows corresponding to different hours when measurements were taken."
      ]
    },
    {
      "cell_type": "code",
      "execution_count": 15,
      "metadata": {
        "colab": {
          "base_uri": "https://localhost:8080/",
          "height": 423
        },
        "id": "1-U6pNH0ep8S",
        "outputId": "d55dfb68-c0ed-4bb1-99b1-1535358d769d"
      },
      "outputs": [
        {
          "output_type": "execute_result",
          "data": {
            "text/plain": [
              "    PatientID    Age  Sex  HasSepsis  Hour     HR  O2Sat    SBP   DBP  Resp\n",
              "0     p000001  83.14    0          0     0    NaN    NaN    NaN   NaN   NaN\n",
              "1     p000001  83.14    0          0     1   97.0   95.0   98.0   NaN  19.0\n",
              "2     p000001  83.14    0          0     2   89.0   99.0  122.0   NaN  22.0\n",
              "3     p000001  83.14    0          0     3   90.0   95.0    NaN   NaN  30.0\n",
              "4     p000001  83.14    0          0     4  103.0   88.5  122.0   NaN  24.5\n",
              "..        ...    ...  ...        ...   ...    ...    ...    ...   ...   ...\n",
              "580   p000010  76.71    0          0    18   82.0   96.0  109.0  50.0  20.0\n",
              "581   p000010  76.71    0          0    19   79.0   94.0   97.0  49.0  21.0\n",
              "582   p000010  76.71    0          0    20   79.0   90.0  117.0  54.0  19.0\n",
              "583   p000010  76.71    0          0    21   84.0   91.0  124.0  59.0  23.0\n",
              "584   p000010  76.71    0          0    22   79.0   92.0  113.0  53.0  23.0\n",
              "\n",
              "[585 rows x 10 columns]"
            ],
            "text/html": [
              "\n",
              "  <div id=\"df-95b92a12-d4a2-4807-9442-80a9a18bb1f6\" class=\"colab-df-container\">\n",
              "    <div>\n",
              "<style scoped>\n",
              "    .dataframe tbody tr th:only-of-type {\n",
              "        vertical-align: middle;\n",
              "    }\n",
              "\n",
              "    .dataframe tbody tr th {\n",
              "        vertical-align: top;\n",
              "    }\n",
              "\n",
              "    .dataframe thead th {\n",
              "        text-align: right;\n",
              "    }\n",
              "</style>\n",
              "<table border=\"1\" class=\"dataframe\">\n",
              "  <thead>\n",
              "    <tr style=\"text-align: right;\">\n",
              "      <th></th>\n",
              "      <th>PatientID</th>\n",
              "      <th>Age</th>\n",
              "      <th>Sex</th>\n",
              "      <th>HasSepsis</th>\n",
              "      <th>Hour</th>\n",
              "      <th>HR</th>\n",
              "      <th>O2Sat</th>\n",
              "      <th>SBP</th>\n",
              "      <th>DBP</th>\n",
              "      <th>Resp</th>\n",
              "    </tr>\n",
              "  </thead>\n",
              "  <tbody>\n",
              "    <tr>\n",
              "      <th>0</th>\n",
              "      <td>p000001</td>\n",
              "      <td>83.14</td>\n",
              "      <td>0</td>\n",
              "      <td>0</td>\n",
              "      <td>0</td>\n",
              "      <td>NaN</td>\n",
              "      <td>NaN</td>\n",
              "      <td>NaN</td>\n",
              "      <td>NaN</td>\n",
              "      <td>NaN</td>\n",
              "    </tr>\n",
              "    <tr>\n",
              "      <th>1</th>\n",
              "      <td>p000001</td>\n",
              "      <td>83.14</td>\n",
              "      <td>0</td>\n",
              "      <td>0</td>\n",
              "      <td>1</td>\n",
              "      <td>97.0</td>\n",
              "      <td>95.0</td>\n",
              "      <td>98.0</td>\n",
              "      <td>NaN</td>\n",
              "      <td>19.0</td>\n",
              "    </tr>\n",
              "    <tr>\n",
              "      <th>2</th>\n",
              "      <td>p000001</td>\n",
              "      <td>83.14</td>\n",
              "      <td>0</td>\n",
              "      <td>0</td>\n",
              "      <td>2</td>\n",
              "      <td>89.0</td>\n",
              "      <td>99.0</td>\n",
              "      <td>122.0</td>\n",
              "      <td>NaN</td>\n",
              "      <td>22.0</td>\n",
              "    </tr>\n",
              "    <tr>\n",
              "      <th>3</th>\n",
              "      <td>p000001</td>\n",
              "      <td>83.14</td>\n",
              "      <td>0</td>\n",
              "      <td>0</td>\n",
              "      <td>3</td>\n",
              "      <td>90.0</td>\n",
              "      <td>95.0</td>\n",
              "      <td>NaN</td>\n",
              "      <td>NaN</td>\n",
              "      <td>30.0</td>\n",
              "    </tr>\n",
              "    <tr>\n",
              "      <th>4</th>\n",
              "      <td>p000001</td>\n",
              "      <td>83.14</td>\n",
              "      <td>0</td>\n",
              "      <td>0</td>\n",
              "      <td>4</td>\n",
              "      <td>103.0</td>\n",
              "      <td>88.5</td>\n",
              "      <td>122.0</td>\n",
              "      <td>NaN</td>\n",
              "      <td>24.5</td>\n",
              "    </tr>\n",
              "    <tr>\n",
              "      <th>...</th>\n",
              "      <td>...</td>\n",
              "      <td>...</td>\n",
              "      <td>...</td>\n",
              "      <td>...</td>\n",
              "      <td>...</td>\n",
              "      <td>...</td>\n",
              "      <td>...</td>\n",
              "      <td>...</td>\n",
              "      <td>...</td>\n",
              "      <td>...</td>\n",
              "    </tr>\n",
              "    <tr>\n",
              "      <th>580</th>\n",
              "      <td>p000010</td>\n",
              "      <td>76.71</td>\n",
              "      <td>0</td>\n",
              "      <td>0</td>\n",
              "      <td>18</td>\n",
              "      <td>82.0</td>\n",
              "      <td>96.0</td>\n",
              "      <td>109.0</td>\n",
              "      <td>50.0</td>\n",
              "      <td>20.0</td>\n",
              "    </tr>\n",
              "    <tr>\n",
              "      <th>581</th>\n",
              "      <td>p000010</td>\n",
              "      <td>76.71</td>\n",
              "      <td>0</td>\n",
              "      <td>0</td>\n",
              "      <td>19</td>\n",
              "      <td>79.0</td>\n",
              "      <td>94.0</td>\n",
              "      <td>97.0</td>\n",
              "      <td>49.0</td>\n",
              "      <td>21.0</td>\n",
              "    </tr>\n",
              "    <tr>\n",
              "      <th>582</th>\n",
              "      <td>p000010</td>\n",
              "      <td>76.71</td>\n",
              "      <td>0</td>\n",
              "      <td>0</td>\n",
              "      <td>20</td>\n",
              "      <td>79.0</td>\n",
              "      <td>90.0</td>\n",
              "      <td>117.0</td>\n",
              "      <td>54.0</td>\n",
              "      <td>19.0</td>\n",
              "    </tr>\n",
              "    <tr>\n",
              "      <th>583</th>\n",
              "      <td>p000010</td>\n",
              "      <td>76.71</td>\n",
              "      <td>0</td>\n",
              "      <td>0</td>\n",
              "      <td>21</td>\n",
              "      <td>84.0</td>\n",
              "      <td>91.0</td>\n",
              "      <td>124.0</td>\n",
              "      <td>59.0</td>\n",
              "      <td>23.0</td>\n",
              "    </tr>\n",
              "    <tr>\n",
              "      <th>584</th>\n",
              "      <td>p000010</td>\n",
              "      <td>76.71</td>\n",
              "      <td>0</td>\n",
              "      <td>0</td>\n",
              "      <td>22</td>\n",
              "      <td>79.0</td>\n",
              "      <td>92.0</td>\n",
              "      <td>113.0</td>\n",
              "      <td>53.0</td>\n",
              "      <td>23.0</td>\n",
              "    </tr>\n",
              "  </tbody>\n",
              "</table>\n",
              "<p>585 rows × 10 columns</p>\n",
              "</div>\n",
              "    <div class=\"colab-df-buttons\">\n",
              "\n",
              "  <div class=\"colab-df-container\">\n",
              "    <button class=\"colab-df-convert\" onclick=\"convertToInteractive('df-95b92a12-d4a2-4807-9442-80a9a18bb1f6')\"\n",
              "            title=\"Convert this dataframe to an interactive table.\"\n",
              "            style=\"display:none;\">\n",
              "\n",
              "  <svg xmlns=\"http://www.w3.org/2000/svg\" height=\"24px\" viewBox=\"0 -960 960 960\">\n",
              "    <path d=\"M120-120v-720h720v720H120Zm60-500h600v-160H180v160Zm220 220h160v-160H400v160Zm0 220h160v-160H400v160ZM180-400h160v-160H180v160Zm440 0h160v-160H620v160ZM180-180h160v-160H180v160Zm440 0h160v-160H620v160Z\"/>\n",
              "  </svg>\n",
              "    </button>\n",
              "\n",
              "  <style>\n",
              "    .colab-df-container {\n",
              "      display:flex;\n",
              "      gap: 12px;\n",
              "    }\n",
              "\n",
              "    .colab-df-convert {\n",
              "      background-color: #E8F0FE;\n",
              "      border: none;\n",
              "      border-radius: 50%;\n",
              "      cursor: pointer;\n",
              "      display: none;\n",
              "      fill: #1967D2;\n",
              "      height: 32px;\n",
              "      padding: 0 0 0 0;\n",
              "      width: 32px;\n",
              "    }\n",
              "\n",
              "    .colab-df-convert:hover {\n",
              "      background-color: #E2EBFA;\n",
              "      box-shadow: 0px 1px 2px rgba(60, 64, 67, 0.3), 0px 1px 3px 1px rgba(60, 64, 67, 0.15);\n",
              "      fill: #174EA6;\n",
              "    }\n",
              "\n",
              "    .colab-df-buttons div {\n",
              "      margin-bottom: 4px;\n",
              "    }\n",
              "\n",
              "    [theme=dark] .colab-df-convert {\n",
              "      background-color: #3B4455;\n",
              "      fill: #D2E3FC;\n",
              "    }\n",
              "\n",
              "    [theme=dark] .colab-df-convert:hover {\n",
              "      background-color: #434B5C;\n",
              "      box-shadow: 0px 1px 3px 1px rgba(0, 0, 0, 0.15);\n",
              "      filter: drop-shadow(0px 1px 2px rgba(0, 0, 0, 0.3));\n",
              "      fill: #FFFFFF;\n",
              "    }\n",
              "  </style>\n",
              "\n",
              "    <script>\n",
              "      const buttonEl =\n",
              "        document.querySelector('#df-95b92a12-d4a2-4807-9442-80a9a18bb1f6 button.colab-df-convert');\n",
              "      buttonEl.style.display =\n",
              "        google.colab.kernel.accessAllowed ? 'block' : 'none';\n",
              "\n",
              "      async function convertToInteractive(key) {\n",
              "        const element = document.querySelector('#df-95b92a12-d4a2-4807-9442-80a9a18bb1f6');\n",
              "        const dataTable =\n",
              "          await google.colab.kernel.invokeFunction('convertToInteractive',\n",
              "                                                    [key], {});\n",
              "        if (!dataTable) return;\n",
              "\n",
              "        const docLinkHtml = 'Like what you see? Visit the ' +\n",
              "          '<a target=\"_blank\" href=https://colab.research.google.com/notebooks/data_table.ipynb>data table notebook</a>'\n",
              "          + ' to learn more about interactive tables.';\n",
              "        element.innerHTML = '';\n",
              "        dataTable['output_type'] = 'display_data';\n",
              "        await google.colab.output.renderOutput(dataTable, element);\n",
              "        const docLink = document.createElement('div');\n",
              "        docLink.innerHTML = docLinkHtml;\n",
              "        element.appendChild(docLink);\n",
              "      }\n",
              "    </script>\n",
              "  </div>\n",
              "\n",
              "\n",
              "<div id=\"df-b5b2a946-e4ef-46a3-9595-7dc5a07695b4\">\n",
              "  <button class=\"colab-df-quickchart\" onclick=\"quickchart('df-b5b2a946-e4ef-46a3-9595-7dc5a07695b4')\"\n",
              "            title=\"Suggest charts\"\n",
              "            style=\"display:none;\">\n",
              "\n",
              "<svg xmlns=\"http://www.w3.org/2000/svg\" height=\"24px\"viewBox=\"0 0 24 24\"\n",
              "     width=\"24px\">\n",
              "    <g>\n",
              "        <path d=\"M19 3H5c-1.1 0-2 .9-2 2v14c0 1.1.9 2 2 2h14c1.1 0 2-.9 2-2V5c0-1.1-.9-2-2-2zM9 17H7v-7h2v7zm4 0h-2V7h2v10zm4 0h-2v-4h2v4z\"/>\n",
              "    </g>\n",
              "</svg>\n",
              "  </button>\n",
              "\n",
              "<style>\n",
              "  .colab-df-quickchart {\n",
              "      --bg-color: #E8F0FE;\n",
              "      --fill-color: #1967D2;\n",
              "      --hover-bg-color: #E2EBFA;\n",
              "      --hover-fill-color: #174EA6;\n",
              "      --disabled-fill-color: #AAA;\n",
              "      --disabled-bg-color: #DDD;\n",
              "  }\n",
              "\n",
              "  [theme=dark] .colab-df-quickchart {\n",
              "      --bg-color: #3B4455;\n",
              "      --fill-color: #D2E3FC;\n",
              "      --hover-bg-color: #434B5C;\n",
              "      --hover-fill-color: #FFFFFF;\n",
              "      --disabled-bg-color: #3B4455;\n",
              "      --disabled-fill-color: #666;\n",
              "  }\n",
              "\n",
              "  .colab-df-quickchart {\n",
              "    background-color: var(--bg-color);\n",
              "    border: none;\n",
              "    border-radius: 50%;\n",
              "    cursor: pointer;\n",
              "    display: none;\n",
              "    fill: var(--fill-color);\n",
              "    height: 32px;\n",
              "    padding: 0;\n",
              "    width: 32px;\n",
              "  }\n",
              "\n",
              "  .colab-df-quickchart:hover {\n",
              "    background-color: var(--hover-bg-color);\n",
              "    box-shadow: 0 1px 2px rgba(60, 64, 67, 0.3), 0 1px 3px 1px rgba(60, 64, 67, 0.15);\n",
              "    fill: var(--button-hover-fill-color);\n",
              "  }\n",
              "\n",
              "  .colab-df-quickchart-complete:disabled,\n",
              "  .colab-df-quickchart-complete:disabled:hover {\n",
              "    background-color: var(--disabled-bg-color);\n",
              "    fill: var(--disabled-fill-color);\n",
              "    box-shadow: none;\n",
              "  }\n",
              "\n",
              "  .colab-df-spinner {\n",
              "    border: 2px solid var(--fill-color);\n",
              "    border-color: transparent;\n",
              "    border-bottom-color: var(--fill-color);\n",
              "    animation:\n",
              "      spin 1s steps(1) infinite;\n",
              "  }\n",
              "\n",
              "  @keyframes spin {\n",
              "    0% {\n",
              "      border-color: transparent;\n",
              "      border-bottom-color: var(--fill-color);\n",
              "      border-left-color: var(--fill-color);\n",
              "    }\n",
              "    20% {\n",
              "      border-color: transparent;\n",
              "      border-left-color: var(--fill-color);\n",
              "      border-top-color: var(--fill-color);\n",
              "    }\n",
              "    30% {\n",
              "      border-color: transparent;\n",
              "      border-left-color: var(--fill-color);\n",
              "      border-top-color: var(--fill-color);\n",
              "      border-right-color: var(--fill-color);\n",
              "    }\n",
              "    40% {\n",
              "      border-color: transparent;\n",
              "      border-right-color: var(--fill-color);\n",
              "      border-top-color: var(--fill-color);\n",
              "    }\n",
              "    60% {\n",
              "      border-color: transparent;\n",
              "      border-right-color: var(--fill-color);\n",
              "    }\n",
              "    80% {\n",
              "      border-color: transparent;\n",
              "      border-right-color: var(--fill-color);\n",
              "      border-bottom-color: var(--fill-color);\n",
              "    }\n",
              "    90% {\n",
              "      border-color: transparent;\n",
              "      border-bottom-color: var(--fill-color);\n",
              "    }\n",
              "  }\n",
              "</style>\n",
              "\n",
              "  <script>\n",
              "    async function quickchart(key) {\n",
              "      const quickchartButtonEl =\n",
              "        document.querySelector('#' + key + ' button');\n",
              "      quickchartButtonEl.disabled = true;  // To prevent multiple clicks.\n",
              "      quickchartButtonEl.classList.add('colab-df-spinner');\n",
              "      try {\n",
              "        const charts = await google.colab.kernel.invokeFunction(\n",
              "            'suggestCharts', [key], {});\n",
              "      } catch (error) {\n",
              "        console.error('Error during call to suggestCharts:', error);\n",
              "      }\n",
              "      quickchartButtonEl.classList.remove('colab-df-spinner');\n",
              "      quickchartButtonEl.classList.add('colab-df-quickchart-complete');\n",
              "    }\n",
              "    (() => {\n",
              "      let quickchartButtonEl =\n",
              "        document.querySelector('#df-b5b2a946-e4ef-46a3-9595-7dc5a07695b4 button');\n",
              "      quickchartButtonEl.style.display =\n",
              "        google.colab.kernel.accessAllowed ? 'block' : 'none';\n",
              "    })();\n",
              "  </script>\n",
              "</div>\n",
              "\n",
              "  <div id=\"id_6b82eea0-2970-48d2-9c57-c7fc44414ec1\">\n",
              "    <style>\n",
              "      .colab-df-generate {\n",
              "        background-color: #E8F0FE;\n",
              "        border: none;\n",
              "        border-radius: 50%;\n",
              "        cursor: pointer;\n",
              "        display: none;\n",
              "        fill: #1967D2;\n",
              "        height: 32px;\n",
              "        padding: 0 0 0 0;\n",
              "        width: 32px;\n",
              "      }\n",
              "\n",
              "      .colab-df-generate:hover {\n",
              "        background-color: #E2EBFA;\n",
              "        box-shadow: 0px 1px 2px rgba(60, 64, 67, 0.3), 0px 1px 3px 1px rgba(60, 64, 67, 0.15);\n",
              "        fill: #174EA6;\n",
              "      }\n",
              "\n",
              "      [theme=dark] .colab-df-generate {\n",
              "        background-color: #3B4455;\n",
              "        fill: #D2E3FC;\n",
              "      }\n",
              "\n",
              "      [theme=dark] .colab-df-generate:hover {\n",
              "        background-color: #434B5C;\n",
              "        box-shadow: 0px 1px 3px 1px rgba(0, 0, 0, 0.15);\n",
              "        filter: drop-shadow(0px 1px 2px rgba(0, 0, 0, 0.3));\n",
              "        fill: #FFFFFF;\n",
              "      }\n",
              "    </style>\n",
              "    <button class=\"colab-df-generate\" onclick=\"generateWithVariable('df')\"\n",
              "            title=\"Generate code using this dataframe.\"\n",
              "            style=\"display:none;\">\n",
              "\n",
              "  <svg xmlns=\"http://www.w3.org/2000/svg\" height=\"24px\"viewBox=\"0 0 24 24\"\n",
              "       width=\"24px\">\n",
              "    <path d=\"M7,19H8.4L18.45,9,17,7.55,7,17.6ZM5,21V16.75L18.45,3.32a2,2,0,0,1,2.83,0l1.4,1.43a1.91,1.91,0,0,1,.58,1.4,1.91,1.91,0,0,1-.58,1.4L9.25,21ZM18.45,9,17,7.55Zm-12,3A5.31,5.31,0,0,0,4.9,8.1,5.31,5.31,0,0,0,1,6.5,5.31,5.31,0,0,0,4.9,4.9,5.31,5.31,0,0,0,6.5,1,5.31,5.31,0,0,0,8.1,4.9,5.31,5.31,0,0,0,12,6.5,5.46,5.46,0,0,0,6.5,12Z\"/>\n",
              "  </svg>\n",
              "    </button>\n",
              "    <script>\n",
              "      (() => {\n",
              "      const buttonEl =\n",
              "        document.querySelector('#id_6b82eea0-2970-48d2-9c57-c7fc44414ec1 button.colab-df-generate');\n",
              "      buttonEl.style.display =\n",
              "        google.colab.kernel.accessAllowed ? 'block' : 'none';\n",
              "\n",
              "      buttonEl.onclick = () => {\n",
              "        google.colab.notebook.generateWithVariable('df');\n",
              "      }\n",
              "      })();\n",
              "    </script>\n",
              "  </div>\n",
              "\n",
              "    </div>\n",
              "  </div>\n"
            ],
            "application/vnd.google.colaboratory.intrinsic+json": {
              "type": "dataframe",
              "variable_name": "df",
              "summary": "{\n  \"name\": \"df\",\n  \"rows\": 585,\n  \"fields\": [\n    {\n      \"column\": \"PatientID\",\n      \"properties\": {\n        \"dtype\": \"category\",\n        \"num_unique_values\": 10,\n        \"samples\": [\n          \"p000009\",\n          \"p000002\",\n          \"p000006\"\n        ],\n        \"semantic_type\": \"\",\n        \"description\": \"\"\n      }\n    },\n    {\n      \"column\": \"Age\",\n      \"properties\": {\n        \"dtype\": \"number\",\n        \"std\": 23.00676976504219,\n        \"min\": 27.92,\n        \"max\": 87.08,\n        \"num_unique_values\": 10,\n        \"samples\": [\n          27.92,\n          75.91,\n          52.01\n        ],\n        \"semantic_type\": \"\",\n        \"description\": \"\"\n      }\n    },\n    {\n      \"column\": \"Sex\",\n      \"properties\": {\n        \"dtype\": \"number\",\n        \"std\": 0,\n        \"min\": 0,\n        \"max\": 1,\n        \"num_unique_values\": 2,\n        \"samples\": [\n          1,\n          0\n        ],\n        \"semantic_type\": \"\",\n        \"description\": \"\"\n      }\n    },\n    {\n      \"column\": \"HasSepsis\",\n      \"properties\": {\n        \"dtype\": \"number\",\n        \"std\": 0,\n        \"min\": 0,\n        \"max\": 1,\n        \"num_unique_values\": 2,\n        \"samples\": [\n          1,\n          0\n        ],\n        \"semantic_type\": \"\",\n        \"description\": \"\"\n      }\n    },\n    {\n      \"column\": \"Hour\",\n      \"properties\": {\n        \"dtype\": \"number\",\n        \"std\": 73,\n        \"min\": 0,\n        \"max\": 257,\n        \"num_unique_values\": 258,\n        \"samples\": [\n          66,\n          45\n        ],\n        \"semantic_type\": \"\",\n        \"description\": \"\"\n      }\n    },\n    {\n      \"column\": \"HR\",\n      \"properties\": {\n        \"dtype\": \"number\",\n        \"std\": 20.282277159959342,\n        \"min\": 54.0,\n        \"max\": 155.5,\n        \"num_unique_values\": 110,\n        \"samples\": [\n          120.0,\n          113.0\n        ],\n        \"semantic_type\": \"\",\n        \"description\": \"\"\n      }\n    },\n    {\n      \"column\": \"O2Sat\",\n      \"properties\": {\n        \"dtype\": \"number\",\n        \"std\": 2.9411001152292884,\n        \"min\": 79.0,\n        \"max\": 100.0,\n        \"num_unique_values\": 28,\n        \"samples\": [\n          89.0,\n          79.0\n        ],\n        \"semantic_type\": \"\",\n        \"description\": \"\"\n      }\n    },\n    {\n      \"column\": \"SBP\",\n      \"properties\": {\n        \"dtype\": \"number\",\n        \"std\": 16.848168002859623,\n        \"min\": 78.0,\n        \"max\": 194.0,\n        \"num_unique_values\": 108,\n        \"samples\": [\n          97.0,\n          149.0\n        ],\n        \"semantic_type\": \"\",\n        \"description\": \"\"\n      }\n    },\n    {\n      \"column\": \"DBP\",\n      \"properties\": {\n        \"dtype\": \"number\",\n        \"std\": 12.005017747917721,\n        \"min\": 36.0,\n        \"max\": 120.0,\n        \"num_unique_values\": 74,\n        \"samples\": [\n          47.0,\n          90.0\n        ],\n        \"semantic_type\": \"\",\n        \"description\": \"\"\n      }\n    },\n    {\n      \"column\": \"Resp\",\n      \"properties\": {\n        \"dtype\": \"number\",\n        \"std\": 7.162797419228651,\n        \"min\": 9.0,\n        \"max\": 55.5,\n        \"num_unique_values\": 60,\n        \"samples\": [\n          19.0,\n          26.0\n        ],\n        \"semantic_type\": \"\",\n        \"description\": \"\"\n      }\n    }\n  ]\n}"
            }
          },
          "metadata": {},
          "execution_count": 15
        }
      ],
      "source": [
        "df = pd.read_csv(\"sepsis.csv\")\n",
        "df"
      ]
    },
    {
      "cell_type": "markdown",
      "metadata": {
        "id": "OjcCaJG9jzjG"
      },
      "source": [
        "**(Part 1)** Write code that will show the number of patients in the dataset."
      ]
    },
    {
      "cell_type": "code",
      "execution_count": 16,
      "metadata": {
        "colab": {
          "base_uri": "https://localhost:8080/"
        },
        "id": "7jh1cRkjg8Ji",
        "outputId": "30f379c3-3355-45d4-df29-4764795b742a"
      },
      "outputs": [
        {
          "output_type": "execute_result",
          "data": {
            "text/plain": [
              "10"
            ]
          },
          "metadata": {},
          "execution_count": 16
        }
      ],
      "source": [
        "num_patients = len(df['PatientID'].unique())\n",
        "num_patients"
      ]
    },
    {
      "cell_type": "markdown",
      "metadata": {
        "id": "s6Aimzfhg7nE"
      },
      "source": [
        "**(Part 2)** Write code that will show the number of male (`0`) and female (`1`) patients in the dataset."
      ]
    },
    {
      "cell_type": "code",
      "execution_count": null,
      "metadata": {
        "colab": {
          "base_uri": "https://localhost:8080/"
        },
        "id": "SXpD8NBfkRiQ",
        "outputId": "5d4378aa-2526-4af0-e241-271c7cec98e2"
      },
      "outputs": [
        {
          "output_type": "execute_result",
          "data": {
            "text/plain": [
              "(5, 5)"
            ]
          },
          "metadata": {},
          "execution_count": 38
        }
      ],
      "source": [
        "males_df = df[df['Sex'] == 0]\n",
        "num_males = len(males_df['PatientID'].unique())\n",
        "females_df = df[df['Sex'] == 1]\n",
        "num_females = len(females_df['PatientID'].unique())\n",
        "num_males, num_females"
      ]
    },
    {
      "cell_type": "markdown",
      "metadata": {
        "id": "qKql6wcGlHe-"
      },
      "source": [
        "**(Part 3)** Write code that will print out the ID of the oldest patient."
      ]
    },
    {
      "cell_type": "code",
      "execution_count": 17,
      "metadata": {
        "colab": {
          "base_uri": "https://localhost:8080/",
          "height": 35
        },
        "id": "nSClrV0HlTCQ",
        "outputId": "fe4c44b4-0884-42be-fae4-9d7125b4bcd5"
      },
      "outputs": [
        {
          "output_type": "execute_result",
          "data": {
            "text/plain": [
              "'p000008'"
            ],
            "application/vnd.google.colaboratory.intrinsic+json": {
              "type": "string"
            }
          },
          "metadata": {},
          "execution_count": 17
        }
      ],
      "source": [
        "oldest = df['Age'].argmax()\n",
        "df.iloc[oldest]['PatientID']"
      ]
    },
    {
      "cell_type": "markdown",
      "metadata": {
        "id": "yegKvv-JkrzP"
      },
      "source": [
        "**(Part 4)** Write code that prints out who experienced sepsis and at which hours it was reported. In other words, retrieve the `PatientID` and `Hour` values for all rows for which `'HasSepsis' == 1`."
      ]
    },
    {
      "cell_type": "code",
      "execution_count": 18,
      "metadata": {
        "colab": {
          "base_uri": "https://localhost:8080/",
          "height": 362
        },
        "id": "RgbaWFcsk1uj",
        "outputId": "73c3ff85-3111-4cfc-f685-627d2f15d4a4"
      },
      "outputs": [
        {
          "output_type": "execute_result",
          "data": {
            "text/plain": [
              "    PatientID  Hour\n",
              "552   p000009   248\n",
              "553   p000009   249\n",
              "554   p000009   250\n",
              "555   p000009   251\n",
              "556   p000009   252\n",
              "557   p000009   253\n",
              "558   p000009   254\n",
              "559   p000009   255\n",
              "560   p000009   256\n",
              "561   p000009   257"
            ],
            "text/html": [
              "\n",
              "  <div id=\"df-6a0c3ba3-6569-42de-bdda-02d716b8cfa4\" class=\"colab-df-container\">\n",
              "    <div>\n",
              "<style scoped>\n",
              "    .dataframe tbody tr th:only-of-type {\n",
              "        vertical-align: middle;\n",
              "    }\n",
              "\n",
              "    .dataframe tbody tr th {\n",
              "        vertical-align: top;\n",
              "    }\n",
              "\n",
              "    .dataframe thead th {\n",
              "        text-align: right;\n",
              "    }\n",
              "</style>\n",
              "<table border=\"1\" class=\"dataframe\">\n",
              "  <thead>\n",
              "    <tr style=\"text-align: right;\">\n",
              "      <th></th>\n",
              "      <th>PatientID</th>\n",
              "      <th>Hour</th>\n",
              "    </tr>\n",
              "  </thead>\n",
              "  <tbody>\n",
              "    <tr>\n",
              "      <th>552</th>\n",
              "      <td>p000009</td>\n",
              "      <td>248</td>\n",
              "    </tr>\n",
              "    <tr>\n",
              "      <th>553</th>\n",
              "      <td>p000009</td>\n",
              "      <td>249</td>\n",
              "    </tr>\n",
              "    <tr>\n",
              "      <th>554</th>\n",
              "      <td>p000009</td>\n",
              "      <td>250</td>\n",
              "    </tr>\n",
              "    <tr>\n",
              "      <th>555</th>\n",
              "      <td>p000009</td>\n",
              "      <td>251</td>\n",
              "    </tr>\n",
              "    <tr>\n",
              "      <th>556</th>\n",
              "      <td>p000009</td>\n",
              "      <td>252</td>\n",
              "    </tr>\n",
              "    <tr>\n",
              "      <th>557</th>\n",
              "      <td>p000009</td>\n",
              "      <td>253</td>\n",
              "    </tr>\n",
              "    <tr>\n",
              "      <th>558</th>\n",
              "      <td>p000009</td>\n",
              "      <td>254</td>\n",
              "    </tr>\n",
              "    <tr>\n",
              "      <th>559</th>\n",
              "      <td>p000009</td>\n",
              "      <td>255</td>\n",
              "    </tr>\n",
              "    <tr>\n",
              "      <th>560</th>\n",
              "      <td>p000009</td>\n",
              "      <td>256</td>\n",
              "    </tr>\n",
              "    <tr>\n",
              "      <th>561</th>\n",
              "      <td>p000009</td>\n",
              "      <td>257</td>\n",
              "    </tr>\n",
              "  </tbody>\n",
              "</table>\n",
              "</div>\n",
              "    <div class=\"colab-df-buttons\">\n",
              "\n",
              "  <div class=\"colab-df-container\">\n",
              "    <button class=\"colab-df-convert\" onclick=\"convertToInteractive('df-6a0c3ba3-6569-42de-bdda-02d716b8cfa4')\"\n",
              "            title=\"Convert this dataframe to an interactive table.\"\n",
              "            style=\"display:none;\">\n",
              "\n",
              "  <svg xmlns=\"http://www.w3.org/2000/svg\" height=\"24px\" viewBox=\"0 -960 960 960\">\n",
              "    <path d=\"M120-120v-720h720v720H120Zm60-500h600v-160H180v160Zm220 220h160v-160H400v160Zm0 220h160v-160H400v160ZM180-400h160v-160H180v160Zm440 0h160v-160H620v160ZM180-180h160v-160H180v160Zm440 0h160v-160H620v160Z\"/>\n",
              "  </svg>\n",
              "    </button>\n",
              "\n",
              "  <style>\n",
              "    .colab-df-container {\n",
              "      display:flex;\n",
              "      gap: 12px;\n",
              "    }\n",
              "\n",
              "    .colab-df-convert {\n",
              "      background-color: #E8F0FE;\n",
              "      border: none;\n",
              "      border-radius: 50%;\n",
              "      cursor: pointer;\n",
              "      display: none;\n",
              "      fill: #1967D2;\n",
              "      height: 32px;\n",
              "      padding: 0 0 0 0;\n",
              "      width: 32px;\n",
              "    }\n",
              "\n",
              "    .colab-df-convert:hover {\n",
              "      background-color: #E2EBFA;\n",
              "      box-shadow: 0px 1px 2px rgba(60, 64, 67, 0.3), 0px 1px 3px 1px rgba(60, 64, 67, 0.15);\n",
              "      fill: #174EA6;\n",
              "    }\n",
              "\n",
              "    .colab-df-buttons div {\n",
              "      margin-bottom: 4px;\n",
              "    }\n",
              "\n",
              "    [theme=dark] .colab-df-convert {\n",
              "      background-color: #3B4455;\n",
              "      fill: #D2E3FC;\n",
              "    }\n",
              "\n",
              "    [theme=dark] .colab-df-convert:hover {\n",
              "      background-color: #434B5C;\n",
              "      box-shadow: 0px 1px 3px 1px rgba(0, 0, 0, 0.15);\n",
              "      filter: drop-shadow(0px 1px 2px rgba(0, 0, 0, 0.3));\n",
              "      fill: #FFFFFF;\n",
              "    }\n",
              "  </style>\n",
              "\n",
              "    <script>\n",
              "      const buttonEl =\n",
              "        document.querySelector('#df-6a0c3ba3-6569-42de-bdda-02d716b8cfa4 button.colab-df-convert');\n",
              "      buttonEl.style.display =\n",
              "        google.colab.kernel.accessAllowed ? 'block' : 'none';\n",
              "\n",
              "      async function convertToInteractive(key) {\n",
              "        const element = document.querySelector('#df-6a0c3ba3-6569-42de-bdda-02d716b8cfa4');\n",
              "        const dataTable =\n",
              "          await google.colab.kernel.invokeFunction('convertToInteractive',\n",
              "                                                    [key], {});\n",
              "        if (!dataTable) return;\n",
              "\n",
              "        const docLinkHtml = 'Like what you see? Visit the ' +\n",
              "          '<a target=\"_blank\" href=https://colab.research.google.com/notebooks/data_table.ipynb>data table notebook</a>'\n",
              "          + ' to learn more about interactive tables.';\n",
              "        element.innerHTML = '';\n",
              "        dataTable['output_type'] = 'display_data';\n",
              "        await google.colab.output.renderOutput(dataTable, element);\n",
              "        const docLink = document.createElement('div');\n",
              "        docLink.innerHTML = docLinkHtml;\n",
              "        element.appendChild(docLink);\n",
              "      }\n",
              "    </script>\n",
              "  </div>\n",
              "\n",
              "\n",
              "<div id=\"df-afcbf6d1-71cb-414f-afe0-ab507498a3b7\">\n",
              "  <button class=\"colab-df-quickchart\" onclick=\"quickchart('df-afcbf6d1-71cb-414f-afe0-ab507498a3b7')\"\n",
              "            title=\"Suggest charts\"\n",
              "            style=\"display:none;\">\n",
              "\n",
              "<svg xmlns=\"http://www.w3.org/2000/svg\" height=\"24px\"viewBox=\"0 0 24 24\"\n",
              "     width=\"24px\">\n",
              "    <g>\n",
              "        <path d=\"M19 3H5c-1.1 0-2 .9-2 2v14c0 1.1.9 2 2 2h14c1.1 0 2-.9 2-2V5c0-1.1-.9-2-2-2zM9 17H7v-7h2v7zm4 0h-2V7h2v10zm4 0h-2v-4h2v4z\"/>\n",
              "    </g>\n",
              "</svg>\n",
              "  </button>\n",
              "\n",
              "<style>\n",
              "  .colab-df-quickchart {\n",
              "      --bg-color: #E8F0FE;\n",
              "      --fill-color: #1967D2;\n",
              "      --hover-bg-color: #E2EBFA;\n",
              "      --hover-fill-color: #174EA6;\n",
              "      --disabled-fill-color: #AAA;\n",
              "      --disabled-bg-color: #DDD;\n",
              "  }\n",
              "\n",
              "  [theme=dark] .colab-df-quickchart {\n",
              "      --bg-color: #3B4455;\n",
              "      --fill-color: #D2E3FC;\n",
              "      --hover-bg-color: #434B5C;\n",
              "      --hover-fill-color: #FFFFFF;\n",
              "      --disabled-bg-color: #3B4455;\n",
              "      --disabled-fill-color: #666;\n",
              "  }\n",
              "\n",
              "  .colab-df-quickchart {\n",
              "    background-color: var(--bg-color);\n",
              "    border: none;\n",
              "    border-radius: 50%;\n",
              "    cursor: pointer;\n",
              "    display: none;\n",
              "    fill: var(--fill-color);\n",
              "    height: 32px;\n",
              "    padding: 0;\n",
              "    width: 32px;\n",
              "  }\n",
              "\n",
              "  .colab-df-quickchart:hover {\n",
              "    background-color: var(--hover-bg-color);\n",
              "    box-shadow: 0 1px 2px rgba(60, 64, 67, 0.3), 0 1px 3px 1px rgba(60, 64, 67, 0.15);\n",
              "    fill: var(--button-hover-fill-color);\n",
              "  }\n",
              "\n",
              "  .colab-df-quickchart-complete:disabled,\n",
              "  .colab-df-quickchart-complete:disabled:hover {\n",
              "    background-color: var(--disabled-bg-color);\n",
              "    fill: var(--disabled-fill-color);\n",
              "    box-shadow: none;\n",
              "  }\n",
              "\n",
              "  .colab-df-spinner {\n",
              "    border: 2px solid var(--fill-color);\n",
              "    border-color: transparent;\n",
              "    border-bottom-color: var(--fill-color);\n",
              "    animation:\n",
              "      spin 1s steps(1) infinite;\n",
              "  }\n",
              "\n",
              "  @keyframes spin {\n",
              "    0% {\n",
              "      border-color: transparent;\n",
              "      border-bottom-color: var(--fill-color);\n",
              "      border-left-color: var(--fill-color);\n",
              "    }\n",
              "    20% {\n",
              "      border-color: transparent;\n",
              "      border-left-color: var(--fill-color);\n",
              "      border-top-color: var(--fill-color);\n",
              "    }\n",
              "    30% {\n",
              "      border-color: transparent;\n",
              "      border-left-color: var(--fill-color);\n",
              "      border-top-color: var(--fill-color);\n",
              "      border-right-color: var(--fill-color);\n",
              "    }\n",
              "    40% {\n",
              "      border-color: transparent;\n",
              "      border-right-color: var(--fill-color);\n",
              "      border-top-color: var(--fill-color);\n",
              "    }\n",
              "    60% {\n",
              "      border-color: transparent;\n",
              "      border-right-color: var(--fill-color);\n",
              "    }\n",
              "    80% {\n",
              "      border-color: transparent;\n",
              "      border-right-color: var(--fill-color);\n",
              "      border-bottom-color: var(--fill-color);\n",
              "    }\n",
              "    90% {\n",
              "      border-color: transparent;\n",
              "      border-bottom-color: var(--fill-color);\n",
              "    }\n",
              "  }\n",
              "</style>\n",
              "\n",
              "  <script>\n",
              "    async function quickchart(key) {\n",
              "      const quickchartButtonEl =\n",
              "        document.querySelector('#' + key + ' button');\n",
              "      quickchartButtonEl.disabled = true;  // To prevent multiple clicks.\n",
              "      quickchartButtonEl.classList.add('colab-df-spinner');\n",
              "      try {\n",
              "        const charts = await google.colab.kernel.invokeFunction(\n",
              "            'suggestCharts', [key], {});\n",
              "      } catch (error) {\n",
              "        console.error('Error during call to suggestCharts:', error);\n",
              "      }\n",
              "      quickchartButtonEl.classList.remove('colab-df-spinner');\n",
              "      quickchartButtonEl.classList.add('colab-df-quickchart-complete');\n",
              "    }\n",
              "    (() => {\n",
              "      let quickchartButtonEl =\n",
              "        document.querySelector('#df-afcbf6d1-71cb-414f-afe0-ab507498a3b7 button');\n",
              "      quickchartButtonEl.style.display =\n",
              "        google.colab.kernel.accessAllowed ? 'block' : 'none';\n",
              "    })();\n",
              "  </script>\n",
              "</div>\n",
              "\n",
              "    </div>\n",
              "  </div>\n"
            ],
            "application/vnd.google.colaboratory.intrinsic+json": {
              "type": "dataframe",
              "summary": "{\n  \"name\": \"has_sepsis_df[['PatientID', 'Hour']]\",\n  \"rows\": 10,\n  \"fields\": [\n    {\n      \"column\": \"PatientID\",\n      \"properties\": {\n        \"dtype\": \"category\",\n        \"num_unique_values\": 1,\n        \"samples\": [\n          \"p000009\"\n        ],\n        \"semantic_type\": \"\",\n        \"description\": \"\"\n      }\n    },\n    {\n      \"column\": \"Hour\",\n      \"properties\": {\n        \"dtype\": \"number\",\n        \"std\": 3,\n        \"min\": 248,\n        \"max\": 257,\n        \"num_unique_values\": 10,\n        \"samples\": [\n          256\n        ],\n        \"semantic_type\": \"\",\n        \"description\": \"\"\n      }\n    }\n  ]\n}"
            }
          },
          "metadata": {},
          "execution_count": 18
        }
      ],
      "source": [
        "has_sepsis_df = df[df['HasSepsis'] == 1]\n",
        "has_sepsis_df[['PatientID', 'Hour']]"
      ]
    },
    {
      "cell_type": "markdown",
      "metadata": {
        "id": "nSiTf1f-kR7C"
      },
      "source": [
        "**(Part 5)** Write code that will calculate the average age of all the patients."
      ]
    },
    {
      "cell_type": "code",
      "execution_count": 25,
      "metadata": {
        "colab": {
          "base_uri": "https://localhost:8080/"
        },
        "id": "vMHS5S5XkYpD",
        "outputId": "3ad195f3-d1d9-412c-fc9e-dda6bb215ca0"
      },
      "outputs": [
        {
          "output_type": "execute_result",
          "data": {
            "text/plain": [
              "np.float64(60.663)"
            ]
          },
          "metadata": {},
          "execution_count": 25
        }
      ],
      "source": [
        "ages = []\n",
        "for patient in df['PatientID'].unique():\n",
        "    ages.append(df[df['PatientID'] == patient]['Age'].iloc[0])\n",
        "np.array(ages).mean()"
      ]
    },
    {
      "cell_type": "markdown",
      "source": [
        "# Prepare Submission"
      ],
      "metadata": {
        "id": "NvWnOApDRK4P"
      }
    },
    {
      "cell_type": "markdown",
      "source": [
        "To get full credit for this assignment, you should submit your assignment in two formats so that we can easily grade and debug your code:\n",
        "1. **.ipynb:** First, confirm that your code can run from start to finish without any errors. To check this, go to \"Runtime\" > \"Run all\" in the Google Colab menu. If everything looks good, you can export your file by going to \"File\" > \"Download\" > \"Download .ipynb\".\n",
        "2. **.pdf:** Run the function called `colab2pdf()` below. This will automatically convert your notebook to a PDF. Note that while \"File\" > \"Print\" > \"Save as PDF\" also works, it requires you to manually expand all of the cells and may cut off some images."
      ],
      "metadata": {
        "id": "jLFVxNKZydmF"
      }
    },
    {
      "cell_type": "code",
      "source": [
        "colab2pdf()"
      ],
      "metadata": {
        "id": "KOGsHYKWS8uK"
      },
      "execution_count": null,
      "outputs": []
    }
  ],
  "metadata": {
    "colab": {
      "collapsed_sections": [
        "B6v86VjQmIrK",
        "IhQvi7z1v6rm",
        "NvWnOApDRK4P"
      ],
      "provenance": []
    },
    "kernelspec": {
      "display_name": "Python 3",
      "language": "python",
      "name": "python3"
    },
    "language_info": {
      "codemirror_mode": {
        "name": "ipython",
        "version": 3
      },
      "file_extension": ".py",
      "mimetype": "text/x-python",
      "name": "python",
      "nbconvert_exporter": "python",
      "pygments_lexer": "ipython3",
      "version": "3.8.2"
    }
  },
  "nbformat": 4,
  "nbformat_minor": 0
}