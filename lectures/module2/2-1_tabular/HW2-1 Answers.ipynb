{
  "cells": [
    {
      "cell_type": "markdown",
      "metadata": {
        "id": "B6v86VjQmIrK"
      },
      "source": [
        "# Important: Run this code cell each time you start a new session!"
      ]
    },
    {
      "cell_type": "code",
      "execution_count": 1,
      "metadata": {
        "colab": {
          "base_uri": "https://localhost:8080/"
        },
        "id": "jrO0X1ZMxMN5",
        "outputId": "402929a0-8362-476a-ebdc-b53e98c14d8d"
      },
      "outputs": [
        {
          "output_type": "stream",
          "name": "stdout",
          "text": [
            "\u001b[31mERROR: Could not find a version that satisfies the requirement os (from versions: none)\u001b[0m\u001b[31m\n",
            "\u001b[0m\u001b[31mERROR: No matching distribution found for os\u001b[0m\u001b[31m\n",
            "\u001b[0m"
          ]
        }
      ],
      "source": [
        "!pip install os\n",
        "import os\n",
        "import numpy as np\n",
        "import pandas as pd"
      ]
    },
    {
      "cell_type": "code",
      "execution_count": 2,
      "metadata": {
        "colab": {
          "base_uri": "https://localhost:8080/"
        },
        "id": "bASFcdZNZuGJ",
        "outputId": "3f8ba23d-363b-4de7-f18b-01eca43f505c"
      },
      "outputs": [
        {
          "output_type": "stream",
          "name": "stdout",
          "text": [
            "--2024-09-18 21:46:49--  https://archive.physionet.org/users/shared/challenge-2019/training_setA.zip\n",
            "Resolving archive.physionet.org (archive.physionet.org)... 128.30.30.88\n",
            "Connecting to archive.physionet.org (archive.physionet.org)|128.30.30.88|:443... connected.\n",
            "HTTP request sent, awaiting response... 200 OK\n",
            "Length: 22991842 (22M) [application/zip]\n",
            "Saving to: ‘training_setA.zip’\n",
            "\n",
            "training_setA.zip   100%[===================>]  21.93M  14.5MB/s    in 1.5s    \n",
            "\n",
            "2024-09-18 21:46:51 (14.5 MB/s) - ‘training_setA.zip’ saved [22991842/22991842]\n",
            "\n"
          ]
        }
      ],
      "source": [
        "!wget -nc https://archive.physionet.org/users/shared/challenge-2019/training_setA.zip\n",
        "!unzip -qn training_setA.zip"
      ]
    },
    {
      "cell_type": "code",
      "execution_count": 3,
      "metadata": {
        "id": "2hP2UnPrcEdI"
      },
      "outputs": [],
      "source": [
        "def load_single_file(file_path):\n",
        "    df = pd.read_csv(file_path, sep=\"|\")\n",
        "    df['PatientID'] = file_path.split(os.sep)[-1][:-4]\n",
        "    df['Hour'] = df.index\n",
        "    keep_cols = ['PatientID', 'Age', 'Gender', 'SepsisLabel', 'Hour',\n",
        "                 'HR', 'O2Sat', 'SBP', 'DBP', 'Resp']\n",
        "    df = df[keep_cols]\n",
        "    df = df.copy()\n",
        "    df.rename(columns={'Gender': 'Sex', 'SepsisLabel': 'HasSepsis'}, inplace=True)\n",
        "    return df\n",
        "\n",
        "def create_final_table():\n",
        "    final_df = pd.DataFrame()\n",
        "    patient_list = range(1, 51)\n",
        "    patient_list = [f'p{str(s).zfill(6)}.psv' for s in patient_list]\n",
        "    for f in patient_list:\n",
        "        df = load_single_file(os.path.join(\"training\", f))\n",
        "        final_df = pd.concat([final_df, df])\n",
        "    final_df = final_df[final_df['Hour'] == 12]\n",
        "    final_df.drop(columns=['Hour'], inplace=True)\n",
        "    final_df.to_csv('sepsis.csv',index=False)\n",
        "create_final_table()\n",
        "df = pd.read_csv(\"sepsis.csv\")"
      ]
    },
    {
      "cell_type": "code",
      "source": [
        "import os, datetime, json, locale, pathlib, urllib, requests, werkzeug, nbformat, google, yaml, warnings\n",
        "def colab2pdf():\n",
        "    locale.setlocale(locale.LC_ALL, 'en_US.UTF-8')\n",
        "    NAME = pathlib.Path(werkzeug.utils.secure_filename(urllib.parse.unquote(requests.get(f\"http://{os.environ['COLAB_JUPYTER_IP']}:{os.environ['KMP_TARGET_PORT']}/api/sessions\").json()[0][\"name\"])))\n",
        "    TEMP = pathlib.Path(\"/content/pdfs\") / f\"{datetime.datetime.now().strftime('%Y%m%d_%H%M%S')}_{NAME.stem}\"; TEMP.mkdir(parents=True, exist_ok=True)\n",
        "    NB = [cell for cell in nbformat.reads(json.dumps(google.colab._message.blocking_request(\"get_ipynb\", timeout_sec=30)[\"ipynb\"]), as_version=4).cells if \"--Colab2PDF\" not in cell.source]\n",
        "    warnings.filterwarnings('ignore', category=nbformat.validator.MissingIDFieldWarning)\n",
        "    with (TEMP / f\"{NAME.stem}.ipynb\").open(\"w\", encoding=\"utf-8\") as nb_copy: nbformat.write(nbformat.v4.new_notebook(cells=NB or [nbformat.v4.new_code_cell(\"#\")]), nb_copy)\n",
        "    if not pathlib.Path(\"/usr/local/bin/quarto\").exists():\n",
        "        !wget -q \"https://quarto.org/download/latest/quarto-linux-amd64.deb\" -P {TEMP} && dpkg -i {TEMP}/quarto-linux-amd64.deb > /dev/null && quarto install tinytex --update-path --quiet\n",
        "    with (TEMP / \"config.yml\").open(\"w\", encoding=\"utf-8\") as file: yaml.dump({'include-in-header': [{\"text\": r\"\\usepackage{fvextra}\\DefineVerbatimEnvironment{Highlighting}{Verbatim}{breaksymbolleft={},showspaces=false,showtabs=false,breaklines,breakanywhere,commandchars=\\\\\\{\\}}\"}],'include-before-body': [{\"text\": r\"\\DefineVerbatimEnvironment{verbatim}{Verbatim}{breaksymbolleft={},showspaces=false,showtabs=false,breaklines}\"}]}, file)\n",
        "    !quarto render {TEMP}/{NAME.stem}.ipynb --metadata-file={TEMP}/config.yml --to pdf -M latex-auto-install -M margin-top=1in -M margin-bottom=1in -M margin-left=1in -M margin-right=1in --quiet\n",
        "    google.colab.files.download(str(TEMP / f\"{NAME.stem}.pdf\"))"
      ],
      "metadata": {
        "id": "m6RNA3Vdxhan"
      },
      "execution_count": 4,
      "outputs": []
    },
    {
      "cell_type": "markdown",
      "metadata": {
        "id": "IhQvi7z1v6rm"
      },
      "source": [
        "# Instructions"
      ]
    },
    {
      "cell_type": "markdown",
      "metadata": {
        "id": "FmZhTZTraQGQ"
      },
      "source": [
        "Please complete all of the exercises below. Across this module, some of the exercises are expected to produce very specific outputs, while others may have a variety of reasonable answers."
      ]
    },
    {
      "cell_type": "markdown",
      "metadata": {
        "id": "hDWIfFlIwU-P"
      },
      "source": [
        "# Exercise 1: Examining a Numpy Array"
      ]
    },
    {
      "cell_type": "markdown",
      "metadata": {
        "id": "aGwoS2jGPjnK"
      },
      "source": [
        "**(Part 1)** Create an Numpy array with the following values:\n",
        "\n",
        "<table>\n",
        "  <tr>\n",
        "    <td>3</td>\n",
        "    <td>1</td>\n",
        "    <td>7</td>\n",
        "  </tr>\n",
        "\n",
        "  <tr>\n",
        "    <td>6</td>\n",
        "    <td>10</td>\n",
        "    <td>4</td>\n",
        "  </tr>\n",
        "</table>"
      ]
    },
    {
      "cell_type": "code",
      "execution_count": 5,
      "metadata": {
        "colab": {
          "base_uri": "https://localhost:8080/"
        },
        "id": "T8Xw6CX8wlp6",
        "outputId": "1e3b1a35-6f9c-4bda-a283-f6aaddc4ef02"
      },
      "outputs": [
        {
          "output_type": "execute_result",
          "data": {
            "text/plain": [
              "array([[ 3,  1,  7],\n",
              "       [ 6, 10,  4]])"
            ]
          },
          "metadata": {},
          "execution_count": 5
        }
      ],
      "source": [
        "x = np.array([[3, 1, 7], [6, 10, 4]])\n",
        "x"
      ]
    },
    {
      "cell_type": "markdown",
      "metadata": {
        "id": "HjFQ6hqzBJKL"
      },
      "source": [
        "**(Part 2)** What are the dimensions of this array? In other words, how many rows and columns does it have?"
      ]
    },
    {
      "cell_type": "markdown",
      "metadata": {
        "id": "k-IyzGaoBVBf"
      },
      "source": [
        "Write your answer here: 2 rows, 3 columns"
      ]
    },
    {
      "cell_type": "markdown",
      "metadata": {
        "id": "W5--9cvU4giE"
      },
      "source": [
        "**(Part 3)** Write code that will print out the number of rows in the array."
      ]
    },
    {
      "cell_type": "code",
      "execution_count": 6,
      "metadata": {
        "colab": {
          "base_uri": "https://localhost:8080/"
        },
        "id": "VBs_Xadl4gCE",
        "outputId": "19a93849-13b8-4da2-fdd8-f1dc78e8a9fc"
      },
      "outputs": [
        {
          "output_type": "execute_result",
          "data": {
            "text/plain": [
              "2"
            ]
          },
          "metadata": {},
          "execution_count": 6
        }
      ],
      "source": [
        "x.shape[0]"
      ]
    },
    {
      "cell_type": "markdown",
      "metadata": {
        "id": "i8y4Ggke33lG"
      },
      "source": [
        "**(Part 4)** Write code that will index into the array and retrieve the value `7`."
      ]
    },
    {
      "cell_type": "code",
      "execution_count": 7,
      "metadata": {
        "colab": {
          "base_uri": "https://localhost:8080/"
        },
        "id": "zv5QcS1d4Jgm",
        "outputId": "c50e0b1a-8798-4938-a687-b5818a2f1edb"
      },
      "outputs": [
        {
          "output_type": "execute_result",
          "data": {
            "text/plain": [
              "7"
            ]
          },
          "metadata": {},
          "execution_count": 7
        }
      ],
      "source": [
        "x[0, 2]"
      ]
    },
    {
      "cell_type": "markdown",
      "metadata": {
        "id": "1zVP0EJ74KWT"
      },
      "source": [
        "**(Part 5)** Write code that will index into the array and retrieve the first row (`[3, 1, 7]`)."
      ]
    },
    {
      "cell_type": "code",
      "execution_count": 8,
      "metadata": {
        "colab": {
          "base_uri": "https://localhost:8080/"
        },
        "id": "W7oWlepA4RKD",
        "outputId": "53862d2e-a6bc-41df-c60a-fa0570f5c819"
      },
      "outputs": [
        {
          "output_type": "execute_result",
          "data": {
            "text/plain": [
              "array([3, 1, 7])"
            ]
          },
          "metadata": {},
          "execution_count": 8
        }
      ],
      "source": [
        "x[0]"
      ]
    },
    {
      "cell_type": "markdown",
      "metadata": {
        "id": "JXFrzyWX4Ri_"
      },
      "source": [
        "**(Part 6)** Write code that will index into the array and retrieve the first two columns (`[[3, 1], [6, 10]]`)."
      ]
    },
    {
      "cell_type": "code",
      "execution_count": 9,
      "metadata": {
        "colab": {
          "base_uri": "https://localhost:8080/"
        },
        "id": "QUSzh-Hl4X8U",
        "outputId": "f642866e-1701-4cd4-89cf-a1372bbd9fc0"
      },
      "outputs": [
        {
          "output_type": "execute_result",
          "data": {
            "text/plain": [
              "array([[ 3,  1],\n",
              "       [ 6, 10]])"
            ]
          },
          "metadata": {},
          "execution_count": 9
        }
      ],
      "source": [
        "x[:,:2]"
      ]
    },
    {
      "cell_type": "markdown",
      "metadata": {
        "id": "2uXGGPNN4wHF"
      },
      "source": [
        "**(Part 7)** Write code that will produce the sum along each column of the array and multiply it by 4."
      ]
    },
    {
      "cell_type": "code",
      "execution_count": 10,
      "metadata": {
        "colab": {
          "base_uri": "https://localhost:8080/"
        },
        "id": "nh9MIO0Z9HXj",
        "outputId": "1b9a5548-5a8d-4740-ddd4-5c0fb8b4d3a9"
      },
      "outputs": [
        {
          "output_type": "execute_result",
          "data": {
            "text/plain": [
              "array([36, 44, 44])"
            ]
          },
          "metadata": {},
          "execution_count": 10
        }
      ],
      "source": [
        "np.sum(x, axis=0) * 4"
      ]
    },
    {
      "cell_type": "markdown",
      "metadata": {
        "id": "DHF99DDM_F8N"
      },
      "source": [
        "# Exercise 2: Creating a Numpy Array"
      ]
    },
    {
      "cell_type": "markdown",
      "metadata": {
        "id": "c3l1W0-5HqhA"
      },
      "source": [
        "In this exercise, you will be asked to create the following array using multiple methods:\n",
        "\n",
        "<table>\n",
        "  <tr>\n",
        "    <td>0</td>\n",
        "    <td>1</td>\n",
        "    <td>2</td>\n",
        "    <td>3</td>\n",
        "    <td>4</td>\n",
        "    <td>5</td>\n",
        "  </tr>\n",
        "\n",
        "  <tr>\n",
        "    <td>0</td>\n",
        "    <td>5</td>\n",
        "    <td>10</td>\n",
        "    <td>15</td>\n",
        "    <td>20</td>\n",
        "    <td>25</td>\n",
        "  </tr>\n",
        "</table>\n",
        "\n",
        "Notice that the bottom row is equal to the top row multiplied by 5.\n"
      ]
    },
    {
      "cell_type": "markdown",
      "metadata": {
        "id": "SDbXImLh_Td5"
      },
      "source": [
        "**(Part 1)** Write code that will create the array using `np.array()` with a list as the input."
      ]
    },
    {
      "cell_type": "code",
      "execution_count": 11,
      "metadata": {
        "colab": {
          "base_uri": "https://localhost:8080/"
        },
        "id": "dbMs2Ib3_Spb",
        "outputId": "abcf2b4b-4013-4f7c-b438-b1833bee9825"
      },
      "outputs": [
        {
          "output_type": "execute_result",
          "data": {
            "text/plain": [
              "array([[ 0,  1,  2,  3,  4,  5],\n",
              "       [ 0,  5, 10, 15, 20, 25]])"
            ]
          },
          "metadata": {},
          "execution_count": 11
        }
      ],
      "source": [
        "row1 = [0, 1, 2, 3, 4, 5]\n",
        "row2 = [0, 5, 10, 15, 20, 25]\n",
        "a = np.array([row1, row2])\n",
        "a"
      ]
    },
    {
      "cell_type": "markdown",
      "metadata": {
        "id": "IjPYFb6TH1Cz"
      },
      "source": [
        "**(Part 2)** Write code that will create the array by combining the two arrays provided below."
      ]
    },
    {
      "cell_type": "code",
      "execution_count": 12,
      "metadata": {
        "colab": {
          "base_uri": "https://localhost:8080/"
        },
        "id": "5lbCDXotIINr",
        "outputId": "5275a607-d706-49a1-a540-6e2dd42f8926"
      },
      "outputs": [
        {
          "output_type": "execute_result",
          "data": {
            "text/plain": [
              "array([[ 0,  1,  2,  3,  4,  5],\n",
              "       [ 0,  5, 10, 15, 20, 25]])"
            ]
          },
          "metadata": {},
          "execution_count": 12
        }
      ],
      "source": [
        "row1 = np.array([0, 1, 2, 3, 4, 5])\n",
        "row2 = np.array([0, 5, 10, 15, 20, 25])\n",
        "a = np.vstack([row1, row2]) # or np.concatenate(([row1], [row2]), axis=0)\n",
        "a"
      ]
    },
    {
      "cell_type": "markdown",
      "metadata": {
        "id": "xZjjt_2pKKLt"
      },
      "source": [
        "**(Part 3)** Write code that will create the array using a similar approach to what you used in **(Part 2)**, but create `row1` and `row2` using `np.arange()` and basic arithmetic. In other words, create `row1` and `row2` without needing to type each individual list element."
      ]
    },
    {
      "cell_type": "code",
      "execution_count": 13,
      "metadata": {
        "colab": {
          "base_uri": "https://localhost:8080/"
        },
        "id": "yq1wTnH0KJSF",
        "outputId": "3dc72a5c-5893-4f2d-9801-5d0c404e1e74"
      },
      "outputs": [
        {
          "output_type": "execute_result",
          "data": {
            "text/plain": [
              "array([[ 0,  1,  2,  3,  4,  5],\n",
              "       [ 0,  5, 10, 15, 20, 25]])"
            ]
          },
          "metadata": {},
          "execution_count": 13
        }
      ],
      "source": [
        "row1 = np.arange(0, 6, step=1)\n",
        "row2 = row1*5\n",
        "a = np.vstack([row1, row2]) # or np.concatenate(([row1], [row2]), axis=0)\n",
        "a"
      ]
    },
    {
      "cell_type": "markdown",
      "metadata": {
        "id": "T9ASHsLJISZT"
      },
      "source": [
        "**(Part 4)** Write code that will create fill in the empty array of zeroes using at least one `for` loop to create the target array.\n",
        "\n",
        "*Hint:* You could either do a single `for` loop that fills in one column per iteration, or you could do a double-nested `for` and `if` statements to fill in one value at a time."
      ]
    },
    {
      "cell_type": "code",
      "execution_count": 14,
      "metadata": {
        "colab": {
          "base_uri": "https://localhost:8080/"
        },
        "id": "OZFk-tU4IeBr",
        "outputId": "d713ca4f-918a-443b-e0c1-25d824bd6de2"
      },
      "outputs": [
        {
          "output_type": "execute_result",
          "data": {
            "text/plain": [
              "array([[ 0.,  1.,  2.,  3.,  4.,  5.],\n",
              "       [ 0.,  5., 10., 15., 20., 25.]])"
            ]
          },
          "metadata": {},
          "execution_count": 14
        }
      ],
      "source": [
        "arr = np.zeros((2, 6))\n",
        "for i in range(arr.shape[1]):\n",
        "    arr[0, i] = i\n",
        "    arr[1, i] = i*5\n",
        "arr"
      ]
    },
    {
      "cell_type": "markdown",
      "metadata": {
        "id": "9pzuV8XvLGKx"
      },
      "source": [
        "# Exercise 3: Examining a Pandas DataFrame"
      ]
    },
    {
      "cell_type": "markdown",
      "metadata": {
        "id": "06IHv2e6e2Tk"
      },
      "source": [
        "This exercise will involve a `DataFrame` similar to the one we used in class."
      ]
    },
    {
      "cell_type": "code",
      "execution_count": 15,
      "metadata": {
        "colab": {
          "base_uri": "https://localhost:8080/",
          "height": 1000
        },
        "id": "1-U6pNH0ep8S",
        "outputId": "61da448e-ddfc-4a68-e6c0-f9e920005d78"
      },
      "outputs": [
        {
          "output_type": "execute_result",
          "data": {
            "text/plain": [
              "   PatientID    Age  Sex  HasSepsis     HR  O2Sat    SBP    DBP  Resp\n",
              "0    p000001  83.14    0          0  102.0   93.0  129.0    NaN  24.0\n",
              "1    p000002  75.91    0          0   62.0   95.0  139.0   44.0  12.0\n",
              "2    p000003  45.82    0          0   81.0   95.0  130.0   46.0  30.0\n",
              "3    p000004  65.71    0          0   95.0   97.0  115.0   45.0  18.0\n",
              "4    p000005  28.09    1          0   73.0   97.0  131.0    NaN  14.0\n",
              "5    p000006  52.01    1          0    NaN    NaN    NaN    NaN   NaN\n",
              "6    p000007  64.24    1          0  123.0   94.5  102.0   58.0  18.5\n",
              "7    p000008  87.08    1          0   86.0  100.0   97.5   49.0  19.0\n",
              "8    p000009  27.92    1          0   95.0   90.5  121.0   63.0  17.0\n",
              "9    p000010  76.71    0          0   80.0   97.0  134.0   58.0  20.0\n",
              "10   p000011  65.79    1          0   85.0  100.0  107.0   54.0  15.0\n",
              "11   p000012  81.64    1          0  103.0   92.0    NaN    NaN   NaN\n",
              "12   p000013  59.73    1          0   92.0   97.0   92.0    NaN  16.0\n",
              "13   p000014  73.43    1          0   78.0   97.0   86.5   53.5  16.0\n",
              "14   p000015  58.54    0          1   87.0    NaN  124.0   76.0   NaN\n",
              "15   p000016  58.00    1          0   95.0   97.0  124.0    NaN  16.0\n",
              "16   p000017  45.76    0          0   78.0  100.0  131.0    NaN  16.0\n",
              "17   p000018  39.28    1          0  103.0   96.0    NaN    NaN  16.0\n",
              "18   p000019  46.42    1          0   71.0   95.0  126.0   54.0  13.0\n",
              "19   p000020  64.66    1          0    NaN    NaN    NaN    NaN   NaN\n",
              "20   p000021  87.80    0          0  106.0   93.0   99.0   43.0  17.0\n",
              "21   p000022  77.26    0          1   66.0   93.0   97.0   39.0  19.0\n",
              "22   p000023  35.89    0          0   84.0  100.0  139.0    NaN  18.0\n",
              "23   p000024  70.81    0          0   89.0   97.0  105.0    NaN  22.0\n",
              "24   p000025  43.82    1          0   66.0  100.0  107.0    NaN  18.0\n",
              "25   p000026  63.77    1          0   69.0   97.0   98.0   59.0  14.0\n",
              "26   p000028  56.46    0          0   93.0   99.0  121.0   86.0  32.0\n",
              "27   p000029  47.01    0          0   85.0   98.0  139.0  110.0  19.0\n",
              "28   p000030  57.13    1          0   71.0  100.0  111.0   62.0  15.0\n",
              "29   p000031  66.28    1          0   89.0   98.0    NaN    NaN  14.0\n",
              "30   p000032  82.32    0          0   60.0   97.0  113.0    NaN  18.0\n",
              "31   p000033  59.24    1          0   78.0   97.0  132.0    NaN  17.0\n",
              "32   p000034  77.28    0          1   77.0   88.0  115.0   60.0  24.0\n",
              "33   p000035  65.04    1          0   71.0   99.0  111.0   53.0   9.0\n",
              "34   p000036  51.35    0          0   91.0   98.0  127.0    NaN  13.0\n",
              "35   p000037  62.36    1          0   61.0   99.0  102.0   59.0  18.0\n",
              "36   p000038  57.37    0          0  117.5   97.5  109.5   74.0  18.5\n",
              "37   p000039  55.39    0          0  110.0   98.0  154.0    NaN  24.0\n",
              "38   p000040  57.17    1          0   94.0  100.0   87.0    NaN  15.0\n",
              "39   p000041  47.05    1          0   76.0   97.0  142.0    NaN  15.0\n",
              "40   p000042  63.59    0          0   96.0   97.0  103.0   57.0  10.0\n",
              "41   p000043  46.35    0          0  106.0   97.0   82.0    NaN  20.0\n",
              "42   p000044  59.34    1          0   62.0  100.0   92.0   47.0  15.0\n",
              "43   p000045  49.80    0          0   69.0    NaN  114.0   60.0  11.0\n",
              "44   p000046  72.55    1          0   76.0   95.0  132.0   69.0  16.5\n",
              "45   p000047  41.61    0          0  105.0   95.0  123.0    NaN  12.0\n",
              "46   p000048  82.10    1          0   83.0   94.0  117.0   55.0  17.0\n",
              "47   p000049  46.82    1          0   65.0   99.0  115.0    NaN  11.0\n",
              "48   p000050  81.08    0          0   98.0   97.0  143.0    NaN  30.0"
            ],
            "text/html": [
              "\n",
              "  <div id=\"df-89098fe4-88b2-4772-b7f8-805556c8ec39\" class=\"colab-df-container\">\n",
              "    <div>\n",
              "<style scoped>\n",
              "    .dataframe tbody tr th:only-of-type {\n",
              "        vertical-align: middle;\n",
              "    }\n",
              "\n",
              "    .dataframe tbody tr th {\n",
              "        vertical-align: top;\n",
              "    }\n",
              "\n",
              "    .dataframe thead th {\n",
              "        text-align: right;\n",
              "    }\n",
              "</style>\n",
              "<table border=\"1\" class=\"dataframe\">\n",
              "  <thead>\n",
              "    <tr style=\"text-align: right;\">\n",
              "      <th></th>\n",
              "      <th>PatientID</th>\n",
              "      <th>Age</th>\n",
              "      <th>Sex</th>\n",
              "      <th>HasSepsis</th>\n",
              "      <th>HR</th>\n",
              "      <th>O2Sat</th>\n",
              "      <th>SBP</th>\n",
              "      <th>DBP</th>\n",
              "      <th>Resp</th>\n",
              "    </tr>\n",
              "  </thead>\n",
              "  <tbody>\n",
              "    <tr>\n",
              "      <th>0</th>\n",
              "      <td>p000001</td>\n",
              "      <td>83.14</td>\n",
              "      <td>0</td>\n",
              "      <td>0</td>\n",
              "      <td>102.0</td>\n",
              "      <td>93.0</td>\n",
              "      <td>129.0</td>\n",
              "      <td>NaN</td>\n",
              "      <td>24.0</td>\n",
              "    </tr>\n",
              "    <tr>\n",
              "      <th>1</th>\n",
              "      <td>p000002</td>\n",
              "      <td>75.91</td>\n",
              "      <td>0</td>\n",
              "      <td>0</td>\n",
              "      <td>62.0</td>\n",
              "      <td>95.0</td>\n",
              "      <td>139.0</td>\n",
              "      <td>44.0</td>\n",
              "      <td>12.0</td>\n",
              "    </tr>\n",
              "    <tr>\n",
              "      <th>2</th>\n",
              "      <td>p000003</td>\n",
              "      <td>45.82</td>\n",
              "      <td>0</td>\n",
              "      <td>0</td>\n",
              "      <td>81.0</td>\n",
              "      <td>95.0</td>\n",
              "      <td>130.0</td>\n",
              "      <td>46.0</td>\n",
              "      <td>30.0</td>\n",
              "    </tr>\n",
              "    <tr>\n",
              "      <th>3</th>\n",
              "      <td>p000004</td>\n",
              "      <td>65.71</td>\n",
              "      <td>0</td>\n",
              "      <td>0</td>\n",
              "      <td>95.0</td>\n",
              "      <td>97.0</td>\n",
              "      <td>115.0</td>\n",
              "      <td>45.0</td>\n",
              "      <td>18.0</td>\n",
              "    </tr>\n",
              "    <tr>\n",
              "      <th>4</th>\n",
              "      <td>p000005</td>\n",
              "      <td>28.09</td>\n",
              "      <td>1</td>\n",
              "      <td>0</td>\n",
              "      <td>73.0</td>\n",
              "      <td>97.0</td>\n",
              "      <td>131.0</td>\n",
              "      <td>NaN</td>\n",
              "      <td>14.0</td>\n",
              "    </tr>\n",
              "    <tr>\n",
              "      <th>5</th>\n",
              "      <td>p000006</td>\n",
              "      <td>52.01</td>\n",
              "      <td>1</td>\n",
              "      <td>0</td>\n",
              "      <td>NaN</td>\n",
              "      <td>NaN</td>\n",
              "      <td>NaN</td>\n",
              "      <td>NaN</td>\n",
              "      <td>NaN</td>\n",
              "    </tr>\n",
              "    <tr>\n",
              "      <th>6</th>\n",
              "      <td>p000007</td>\n",
              "      <td>64.24</td>\n",
              "      <td>1</td>\n",
              "      <td>0</td>\n",
              "      <td>123.0</td>\n",
              "      <td>94.5</td>\n",
              "      <td>102.0</td>\n",
              "      <td>58.0</td>\n",
              "      <td>18.5</td>\n",
              "    </tr>\n",
              "    <tr>\n",
              "      <th>7</th>\n",
              "      <td>p000008</td>\n",
              "      <td>87.08</td>\n",
              "      <td>1</td>\n",
              "      <td>0</td>\n",
              "      <td>86.0</td>\n",
              "      <td>100.0</td>\n",
              "      <td>97.5</td>\n",
              "      <td>49.0</td>\n",
              "      <td>19.0</td>\n",
              "    </tr>\n",
              "    <tr>\n",
              "      <th>8</th>\n",
              "      <td>p000009</td>\n",
              "      <td>27.92</td>\n",
              "      <td>1</td>\n",
              "      <td>0</td>\n",
              "      <td>95.0</td>\n",
              "      <td>90.5</td>\n",
              "      <td>121.0</td>\n",
              "      <td>63.0</td>\n",
              "      <td>17.0</td>\n",
              "    </tr>\n",
              "    <tr>\n",
              "      <th>9</th>\n",
              "      <td>p000010</td>\n",
              "      <td>76.71</td>\n",
              "      <td>0</td>\n",
              "      <td>0</td>\n",
              "      <td>80.0</td>\n",
              "      <td>97.0</td>\n",
              "      <td>134.0</td>\n",
              "      <td>58.0</td>\n",
              "      <td>20.0</td>\n",
              "    </tr>\n",
              "    <tr>\n",
              "      <th>10</th>\n",
              "      <td>p000011</td>\n",
              "      <td>65.79</td>\n",
              "      <td>1</td>\n",
              "      <td>0</td>\n",
              "      <td>85.0</td>\n",
              "      <td>100.0</td>\n",
              "      <td>107.0</td>\n",
              "      <td>54.0</td>\n",
              "      <td>15.0</td>\n",
              "    </tr>\n",
              "    <tr>\n",
              "      <th>11</th>\n",
              "      <td>p000012</td>\n",
              "      <td>81.64</td>\n",
              "      <td>1</td>\n",
              "      <td>0</td>\n",
              "      <td>103.0</td>\n",
              "      <td>92.0</td>\n",
              "      <td>NaN</td>\n",
              "      <td>NaN</td>\n",
              "      <td>NaN</td>\n",
              "    </tr>\n",
              "    <tr>\n",
              "      <th>12</th>\n",
              "      <td>p000013</td>\n",
              "      <td>59.73</td>\n",
              "      <td>1</td>\n",
              "      <td>0</td>\n",
              "      <td>92.0</td>\n",
              "      <td>97.0</td>\n",
              "      <td>92.0</td>\n",
              "      <td>NaN</td>\n",
              "      <td>16.0</td>\n",
              "    </tr>\n",
              "    <tr>\n",
              "      <th>13</th>\n",
              "      <td>p000014</td>\n",
              "      <td>73.43</td>\n",
              "      <td>1</td>\n",
              "      <td>0</td>\n",
              "      <td>78.0</td>\n",
              "      <td>97.0</td>\n",
              "      <td>86.5</td>\n",
              "      <td>53.5</td>\n",
              "      <td>16.0</td>\n",
              "    </tr>\n",
              "    <tr>\n",
              "      <th>14</th>\n",
              "      <td>p000015</td>\n",
              "      <td>58.54</td>\n",
              "      <td>0</td>\n",
              "      <td>1</td>\n",
              "      <td>87.0</td>\n",
              "      <td>NaN</td>\n",
              "      <td>124.0</td>\n",
              "      <td>76.0</td>\n",
              "      <td>NaN</td>\n",
              "    </tr>\n",
              "    <tr>\n",
              "      <th>15</th>\n",
              "      <td>p000016</td>\n",
              "      <td>58.00</td>\n",
              "      <td>1</td>\n",
              "      <td>0</td>\n",
              "      <td>95.0</td>\n",
              "      <td>97.0</td>\n",
              "      <td>124.0</td>\n",
              "      <td>NaN</td>\n",
              "      <td>16.0</td>\n",
              "    </tr>\n",
              "    <tr>\n",
              "      <th>16</th>\n",
              "      <td>p000017</td>\n",
              "      <td>45.76</td>\n",
              "      <td>0</td>\n",
              "      <td>0</td>\n",
              "      <td>78.0</td>\n",
              "      <td>100.0</td>\n",
              "      <td>131.0</td>\n",
              "      <td>NaN</td>\n",
              "      <td>16.0</td>\n",
              "    </tr>\n",
              "    <tr>\n",
              "      <th>17</th>\n",
              "      <td>p000018</td>\n",
              "      <td>39.28</td>\n",
              "      <td>1</td>\n",
              "      <td>0</td>\n",
              "      <td>103.0</td>\n",
              "      <td>96.0</td>\n",
              "      <td>NaN</td>\n",
              "      <td>NaN</td>\n",
              "      <td>16.0</td>\n",
              "    </tr>\n",
              "    <tr>\n",
              "      <th>18</th>\n",
              "      <td>p000019</td>\n",
              "      <td>46.42</td>\n",
              "      <td>1</td>\n",
              "      <td>0</td>\n",
              "      <td>71.0</td>\n",
              "      <td>95.0</td>\n",
              "      <td>126.0</td>\n",
              "      <td>54.0</td>\n",
              "      <td>13.0</td>\n",
              "    </tr>\n",
              "    <tr>\n",
              "      <th>19</th>\n",
              "      <td>p000020</td>\n",
              "      <td>64.66</td>\n",
              "      <td>1</td>\n",
              "      <td>0</td>\n",
              "      <td>NaN</td>\n",
              "      <td>NaN</td>\n",
              "      <td>NaN</td>\n",
              "      <td>NaN</td>\n",
              "      <td>NaN</td>\n",
              "    </tr>\n",
              "    <tr>\n",
              "      <th>20</th>\n",
              "      <td>p000021</td>\n",
              "      <td>87.80</td>\n",
              "      <td>0</td>\n",
              "      <td>0</td>\n",
              "      <td>106.0</td>\n",
              "      <td>93.0</td>\n",
              "      <td>99.0</td>\n",
              "      <td>43.0</td>\n",
              "      <td>17.0</td>\n",
              "    </tr>\n",
              "    <tr>\n",
              "      <th>21</th>\n",
              "      <td>p000022</td>\n",
              "      <td>77.26</td>\n",
              "      <td>0</td>\n",
              "      <td>1</td>\n",
              "      <td>66.0</td>\n",
              "      <td>93.0</td>\n",
              "      <td>97.0</td>\n",
              "      <td>39.0</td>\n",
              "      <td>19.0</td>\n",
              "    </tr>\n",
              "    <tr>\n",
              "      <th>22</th>\n",
              "      <td>p000023</td>\n",
              "      <td>35.89</td>\n",
              "      <td>0</td>\n",
              "      <td>0</td>\n",
              "      <td>84.0</td>\n",
              "      <td>100.0</td>\n",
              "      <td>139.0</td>\n",
              "      <td>NaN</td>\n",
              "      <td>18.0</td>\n",
              "    </tr>\n",
              "    <tr>\n",
              "      <th>23</th>\n",
              "      <td>p000024</td>\n",
              "      <td>70.81</td>\n",
              "      <td>0</td>\n",
              "      <td>0</td>\n",
              "      <td>89.0</td>\n",
              "      <td>97.0</td>\n",
              "      <td>105.0</td>\n",
              "      <td>NaN</td>\n",
              "      <td>22.0</td>\n",
              "    </tr>\n",
              "    <tr>\n",
              "      <th>24</th>\n",
              "      <td>p000025</td>\n",
              "      <td>43.82</td>\n",
              "      <td>1</td>\n",
              "      <td>0</td>\n",
              "      <td>66.0</td>\n",
              "      <td>100.0</td>\n",
              "      <td>107.0</td>\n",
              "      <td>NaN</td>\n",
              "      <td>18.0</td>\n",
              "    </tr>\n",
              "    <tr>\n",
              "      <th>25</th>\n",
              "      <td>p000026</td>\n",
              "      <td>63.77</td>\n",
              "      <td>1</td>\n",
              "      <td>0</td>\n",
              "      <td>69.0</td>\n",
              "      <td>97.0</td>\n",
              "      <td>98.0</td>\n",
              "      <td>59.0</td>\n",
              "      <td>14.0</td>\n",
              "    </tr>\n",
              "    <tr>\n",
              "      <th>26</th>\n",
              "      <td>p000028</td>\n",
              "      <td>56.46</td>\n",
              "      <td>0</td>\n",
              "      <td>0</td>\n",
              "      <td>93.0</td>\n",
              "      <td>99.0</td>\n",
              "      <td>121.0</td>\n",
              "      <td>86.0</td>\n",
              "      <td>32.0</td>\n",
              "    </tr>\n",
              "    <tr>\n",
              "      <th>27</th>\n",
              "      <td>p000029</td>\n",
              "      <td>47.01</td>\n",
              "      <td>0</td>\n",
              "      <td>0</td>\n",
              "      <td>85.0</td>\n",
              "      <td>98.0</td>\n",
              "      <td>139.0</td>\n",
              "      <td>110.0</td>\n",
              "      <td>19.0</td>\n",
              "    </tr>\n",
              "    <tr>\n",
              "      <th>28</th>\n",
              "      <td>p000030</td>\n",
              "      <td>57.13</td>\n",
              "      <td>1</td>\n",
              "      <td>0</td>\n",
              "      <td>71.0</td>\n",
              "      <td>100.0</td>\n",
              "      <td>111.0</td>\n",
              "      <td>62.0</td>\n",
              "      <td>15.0</td>\n",
              "    </tr>\n",
              "    <tr>\n",
              "      <th>29</th>\n",
              "      <td>p000031</td>\n",
              "      <td>66.28</td>\n",
              "      <td>1</td>\n",
              "      <td>0</td>\n",
              "      <td>89.0</td>\n",
              "      <td>98.0</td>\n",
              "      <td>NaN</td>\n",
              "      <td>NaN</td>\n",
              "      <td>14.0</td>\n",
              "    </tr>\n",
              "    <tr>\n",
              "      <th>30</th>\n",
              "      <td>p000032</td>\n",
              "      <td>82.32</td>\n",
              "      <td>0</td>\n",
              "      <td>0</td>\n",
              "      <td>60.0</td>\n",
              "      <td>97.0</td>\n",
              "      <td>113.0</td>\n",
              "      <td>NaN</td>\n",
              "      <td>18.0</td>\n",
              "    </tr>\n",
              "    <tr>\n",
              "      <th>31</th>\n",
              "      <td>p000033</td>\n",
              "      <td>59.24</td>\n",
              "      <td>1</td>\n",
              "      <td>0</td>\n",
              "      <td>78.0</td>\n",
              "      <td>97.0</td>\n",
              "      <td>132.0</td>\n",
              "      <td>NaN</td>\n",
              "      <td>17.0</td>\n",
              "    </tr>\n",
              "    <tr>\n",
              "      <th>32</th>\n",
              "      <td>p000034</td>\n",
              "      <td>77.28</td>\n",
              "      <td>0</td>\n",
              "      <td>1</td>\n",
              "      <td>77.0</td>\n",
              "      <td>88.0</td>\n",
              "      <td>115.0</td>\n",
              "      <td>60.0</td>\n",
              "      <td>24.0</td>\n",
              "    </tr>\n",
              "    <tr>\n",
              "      <th>33</th>\n",
              "      <td>p000035</td>\n",
              "      <td>65.04</td>\n",
              "      <td>1</td>\n",
              "      <td>0</td>\n",
              "      <td>71.0</td>\n",
              "      <td>99.0</td>\n",
              "      <td>111.0</td>\n",
              "      <td>53.0</td>\n",
              "      <td>9.0</td>\n",
              "    </tr>\n",
              "    <tr>\n",
              "      <th>34</th>\n",
              "      <td>p000036</td>\n",
              "      <td>51.35</td>\n",
              "      <td>0</td>\n",
              "      <td>0</td>\n",
              "      <td>91.0</td>\n",
              "      <td>98.0</td>\n",
              "      <td>127.0</td>\n",
              "      <td>NaN</td>\n",
              "      <td>13.0</td>\n",
              "    </tr>\n",
              "    <tr>\n",
              "      <th>35</th>\n",
              "      <td>p000037</td>\n",
              "      <td>62.36</td>\n",
              "      <td>1</td>\n",
              "      <td>0</td>\n",
              "      <td>61.0</td>\n",
              "      <td>99.0</td>\n",
              "      <td>102.0</td>\n",
              "      <td>59.0</td>\n",
              "      <td>18.0</td>\n",
              "    </tr>\n",
              "    <tr>\n",
              "      <th>36</th>\n",
              "      <td>p000038</td>\n",
              "      <td>57.37</td>\n",
              "      <td>0</td>\n",
              "      <td>0</td>\n",
              "      <td>117.5</td>\n",
              "      <td>97.5</td>\n",
              "      <td>109.5</td>\n",
              "      <td>74.0</td>\n",
              "      <td>18.5</td>\n",
              "    </tr>\n",
              "    <tr>\n",
              "      <th>37</th>\n",
              "      <td>p000039</td>\n",
              "      <td>55.39</td>\n",
              "      <td>0</td>\n",
              "      <td>0</td>\n",
              "      <td>110.0</td>\n",
              "      <td>98.0</td>\n",
              "      <td>154.0</td>\n",
              "      <td>NaN</td>\n",
              "      <td>24.0</td>\n",
              "    </tr>\n",
              "    <tr>\n",
              "      <th>38</th>\n",
              "      <td>p000040</td>\n",
              "      <td>57.17</td>\n",
              "      <td>1</td>\n",
              "      <td>0</td>\n",
              "      <td>94.0</td>\n",
              "      <td>100.0</td>\n",
              "      <td>87.0</td>\n",
              "      <td>NaN</td>\n",
              "      <td>15.0</td>\n",
              "    </tr>\n",
              "    <tr>\n",
              "      <th>39</th>\n",
              "      <td>p000041</td>\n",
              "      <td>47.05</td>\n",
              "      <td>1</td>\n",
              "      <td>0</td>\n",
              "      <td>76.0</td>\n",
              "      <td>97.0</td>\n",
              "      <td>142.0</td>\n",
              "      <td>NaN</td>\n",
              "      <td>15.0</td>\n",
              "    </tr>\n",
              "    <tr>\n",
              "      <th>40</th>\n",
              "      <td>p000042</td>\n",
              "      <td>63.59</td>\n",
              "      <td>0</td>\n",
              "      <td>0</td>\n",
              "      <td>96.0</td>\n",
              "      <td>97.0</td>\n",
              "      <td>103.0</td>\n",
              "      <td>57.0</td>\n",
              "      <td>10.0</td>\n",
              "    </tr>\n",
              "    <tr>\n",
              "      <th>41</th>\n",
              "      <td>p000043</td>\n",
              "      <td>46.35</td>\n",
              "      <td>0</td>\n",
              "      <td>0</td>\n",
              "      <td>106.0</td>\n",
              "      <td>97.0</td>\n",
              "      <td>82.0</td>\n",
              "      <td>NaN</td>\n",
              "      <td>20.0</td>\n",
              "    </tr>\n",
              "    <tr>\n",
              "      <th>42</th>\n",
              "      <td>p000044</td>\n",
              "      <td>59.34</td>\n",
              "      <td>1</td>\n",
              "      <td>0</td>\n",
              "      <td>62.0</td>\n",
              "      <td>100.0</td>\n",
              "      <td>92.0</td>\n",
              "      <td>47.0</td>\n",
              "      <td>15.0</td>\n",
              "    </tr>\n",
              "    <tr>\n",
              "      <th>43</th>\n",
              "      <td>p000045</td>\n",
              "      <td>49.80</td>\n",
              "      <td>0</td>\n",
              "      <td>0</td>\n",
              "      <td>69.0</td>\n",
              "      <td>NaN</td>\n",
              "      <td>114.0</td>\n",
              "      <td>60.0</td>\n",
              "      <td>11.0</td>\n",
              "    </tr>\n",
              "    <tr>\n",
              "      <th>44</th>\n",
              "      <td>p000046</td>\n",
              "      <td>72.55</td>\n",
              "      <td>1</td>\n",
              "      <td>0</td>\n",
              "      <td>76.0</td>\n",
              "      <td>95.0</td>\n",
              "      <td>132.0</td>\n",
              "      <td>69.0</td>\n",
              "      <td>16.5</td>\n",
              "    </tr>\n",
              "    <tr>\n",
              "      <th>45</th>\n",
              "      <td>p000047</td>\n",
              "      <td>41.61</td>\n",
              "      <td>0</td>\n",
              "      <td>0</td>\n",
              "      <td>105.0</td>\n",
              "      <td>95.0</td>\n",
              "      <td>123.0</td>\n",
              "      <td>NaN</td>\n",
              "      <td>12.0</td>\n",
              "    </tr>\n",
              "    <tr>\n",
              "      <th>46</th>\n",
              "      <td>p000048</td>\n",
              "      <td>82.10</td>\n",
              "      <td>1</td>\n",
              "      <td>0</td>\n",
              "      <td>83.0</td>\n",
              "      <td>94.0</td>\n",
              "      <td>117.0</td>\n",
              "      <td>55.0</td>\n",
              "      <td>17.0</td>\n",
              "    </tr>\n",
              "    <tr>\n",
              "      <th>47</th>\n",
              "      <td>p000049</td>\n",
              "      <td>46.82</td>\n",
              "      <td>1</td>\n",
              "      <td>0</td>\n",
              "      <td>65.0</td>\n",
              "      <td>99.0</td>\n",
              "      <td>115.0</td>\n",
              "      <td>NaN</td>\n",
              "      <td>11.0</td>\n",
              "    </tr>\n",
              "    <tr>\n",
              "      <th>48</th>\n",
              "      <td>p000050</td>\n",
              "      <td>81.08</td>\n",
              "      <td>0</td>\n",
              "      <td>0</td>\n",
              "      <td>98.0</td>\n",
              "      <td>97.0</td>\n",
              "      <td>143.0</td>\n",
              "      <td>NaN</td>\n",
              "      <td>30.0</td>\n",
              "    </tr>\n",
              "  </tbody>\n",
              "</table>\n",
              "</div>\n",
              "    <div class=\"colab-df-buttons\">\n",
              "\n",
              "  <div class=\"colab-df-container\">\n",
              "    <button class=\"colab-df-convert\" onclick=\"convertToInteractive('df-89098fe4-88b2-4772-b7f8-805556c8ec39')\"\n",
              "            title=\"Convert this dataframe to an interactive table.\"\n",
              "            style=\"display:none;\">\n",
              "\n",
              "  <svg xmlns=\"http://www.w3.org/2000/svg\" height=\"24px\" viewBox=\"0 -960 960 960\">\n",
              "    <path d=\"M120-120v-720h720v720H120Zm60-500h600v-160H180v160Zm220 220h160v-160H400v160Zm0 220h160v-160H400v160ZM180-400h160v-160H180v160Zm440 0h160v-160H620v160ZM180-180h160v-160H180v160Zm440 0h160v-160H620v160Z\"/>\n",
              "  </svg>\n",
              "    </button>\n",
              "\n",
              "  <style>\n",
              "    .colab-df-container {\n",
              "      display:flex;\n",
              "      gap: 12px;\n",
              "    }\n",
              "\n",
              "    .colab-df-convert {\n",
              "      background-color: #E8F0FE;\n",
              "      border: none;\n",
              "      border-radius: 50%;\n",
              "      cursor: pointer;\n",
              "      display: none;\n",
              "      fill: #1967D2;\n",
              "      height: 32px;\n",
              "      padding: 0 0 0 0;\n",
              "      width: 32px;\n",
              "    }\n",
              "\n",
              "    .colab-df-convert:hover {\n",
              "      background-color: #E2EBFA;\n",
              "      box-shadow: 0px 1px 2px rgba(60, 64, 67, 0.3), 0px 1px 3px 1px rgba(60, 64, 67, 0.15);\n",
              "      fill: #174EA6;\n",
              "    }\n",
              "\n",
              "    .colab-df-buttons div {\n",
              "      margin-bottom: 4px;\n",
              "    }\n",
              "\n",
              "    [theme=dark] .colab-df-convert {\n",
              "      background-color: #3B4455;\n",
              "      fill: #D2E3FC;\n",
              "    }\n",
              "\n",
              "    [theme=dark] .colab-df-convert:hover {\n",
              "      background-color: #434B5C;\n",
              "      box-shadow: 0px 1px 3px 1px rgba(0, 0, 0, 0.15);\n",
              "      filter: drop-shadow(0px 1px 2px rgba(0, 0, 0, 0.3));\n",
              "      fill: #FFFFFF;\n",
              "    }\n",
              "  </style>\n",
              "\n",
              "    <script>\n",
              "      const buttonEl =\n",
              "        document.querySelector('#df-89098fe4-88b2-4772-b7f8-805556c8ec39 button.colab-df-convert');\n",
              "      buttonEl.style.display =\n",
              "        google.colab.kernel.accessAllowed ? 'block' : 'none';\n",
              "\n",
              "      async function convertToInteractive(key) {\n",
              "        const element = document.querySelector('#df-89098fe4-88b2-4772-b7f8-805556c8ec39');\n",
              "        const dataTable =\n",
              "          await google.colab.kernel.invokeFunction('convertToInteractive',\n",
              "                                                    [key], {});\n",
              "        if (!dataTable) return;\n",
              "\n",
              "        const docLinkHtml = 'Like what you see? Visit the ' +\n",
              "          '<a target=\"_blank\" href=https://colab.research.google.com/notebooks/data_table.ipynb>data table notebook</a>'\n",
              "          + ' to learn more about interactive tables.';\n",
              "        element.innerHTML = '';\n",
              "        dataTable['output_type'] = 'display_data';\n",
              "        await google.colab.output.renderOutput(dataTable, element);\n",
              "        const docLink = document.createElement('div');\n",
              "        docLink.innerHTML = docLinkHtml;\n",
              "        element.appendChild(docLink);\n",
              "      }\n",
              "    </script>\n",
              "  </div>\n",
              "\n",
              "\n",
              "<div id=\"df-fd9e30c2-3e28-42b7-bd73-7029295bfdf8\">\n",
              "  <button class=\"colab-df-quickchart\" onclick=\"quickchart('df-fd9e30c2-3e28-42b7-bd73-7029295bfdf8')\"\n",
              "            title=\"Suggest charts\"\n",
              "            style=\"display:none;\">\n",
              "\n",
              "<svg xmlns=\"http://www.w3.org/2000/svg\" height=\"24px\"viewBox=\"0 0 24 24\"\n",
              "     width=\"24px\">\n",
              "    <g>\n",
              "        <path d=\"M19 3H5c-1.1 0-2 .9-2 2v14c0 1.1.9 2 2 2h14c1.1 0 2-.9 2-2V5c0-1.1-.9-2-2-2zM9 17H7v-7h2v7zm4 0h-2V7h2v10zm4 0h-2v-4h2v4z\"/>\n",
              "    </g>\n",
              "</svg>\n",
              "  </button>\n",
              "\n",
              "<style>\n",
              "  .colab-df-quickchart {\n",
              "      --bg-color: #E8F0FE;\n",
              "      --fill-color: #1967D2;\n",
              "      --hover-bg-color: #E2EBFA;\n",
              "      --hover-fill-color: #174EA6;\n",
              "      --disabled-fill-color: #AAA;\n",
              "      --disabled-bg-color: #DDD;\n",
              "  }\n",
              "\n",
              "  [theme=dark] .colab-df-quickchart {\n",
              "      --bg-color: #3B4455;\n",
              "      --fill-color: #D2E3FC;\n",
              "      --hover-bg-color: #434B5C;\n",
              "      --hover-fill-color: #FFFFFF;\n",
              "      --disabled-bg-color: #3B4455;\n",
              "      --disabled-fill-color: #666;\n",
              "  }\n",
              "\n",
              "  .colab-df-quickchart {\n",
              "    background-color: var(--bg-color);\n",
              "    border: none;\n",
              "    border-radius: 50%;\n",
              "    cursor: pointer;\n",
              "    display: none;\n",
              "    fill: var(--fill-color);\n",
              "    height: 32px;\n",
              "    padding: 0;\n",
              "    width: 32px;\n",
              "  }\n",
              "\n",
              "  .colab-df-quickchart:hover {\n",
              "    background-color: var(--hover-bg-color);\n",
              "    box-shadow: 0 1px 2px rgba(60, 64, 67, 0.3), 0 1px 3px 1px rgba(60, 64, 67, 0.15);\n",
              "    fill: var(--button-hover-fill-color);\n",
              "  }\n",
              "\n",
              "  .colab-df-quickchart-complete:disabled,\n",
              "  .colab-df-quickchart-complete:disabled:hover {\n",
              "    background-color: var(--disabled-bg-color);\n",
              "    fill: var(--disabled-fill-color);\n",
              "    box-shadow: none;\n",
              "  }\n",
              "\n",
              "  .colab-df-spinner {\n",
              "    border: 2px solid var(--fill-color);\n",
              "    border-color: transparent;\n",
              "    border-bottom-color: var(--fill-color);\n",
              "    animation:\n",
              "      spin 1s steps(1) infinite;\n",
              "  }\n",
              "\n",
              "  @keyframes spin {\n",
              "    0% {\n",
              "      border-color: transparent;\n",
              "      border-bottom-color: var(--fill-color);\n",
              "      border-left-color: var(--fill-color);\n",
              "    }\n",
              "    20% {\n",
              "      border-color: transparent;\n",
              "      border-left-color: var(--fill-color);\n",
              "      border-top-color: var(--fill-color);\n",
              "    }\n",
              "    30% {\n",
              "      border-color: transparent;\n",
              "      border-left-color: var(--fill-color);\n",
              "      border-top-color: var(--fill-color);\n",
              "      border-right-color: var(--fill-color);\n",
              "    }\n",
              "    40% {\n",
              "      border-color: transparent;\n",
              "      border-right-color: var(--fill-color);\n",
              "      border-top-color: var(--fill-color);\n",
              "    }\n",
              "    60% {\n",
              "      border-color: transparent;\n",
              "      border-right-color: var(--fill-color);\n",
              "    }\n",
              "    80% {\n",
              "      border-color: transparent;\n",
              "      border-right-color: var(--fill-color);\n",
              "      border-bottom-color: var(--fill-color);\n",
              "    }\n",
              "    90% {\n",
              "      border-color: transparent;\n",
              "      border-bottom-color: var(--fill-color);\n",
              "    }\n",
              "  }\n",
              "</style>\n",
              "\n",
              "  <script>\n",
              "    async function quickchart(key) {\n",
              "      const quickchartButtonEl =\n",
              "        document.querySelector('#' + key + ' button');\n",
              "      quickchartButtonEl.disabled = true;  // To prevent multiple clicks.\n",
              "      quickchartButtonEl.classList.add('colab-df-spinner');\n",
              "      try {\n",
              "        const charts = await google.colab.kernel.invokeFunction(\n",
              "            'suggestCharts', [key], {});\n",
              "      } catch (error) {\n",
              "        console.error('Error during call to suggestCharts:', error);\n",
              "      }\n",
              "      quickchartButtonEl.classList.remove('colab-df-spinner');\n",
              "      quickchartButtonEl.classList.add('colab-df-quickchart-complete');\n",
              "    }\n",
              "    (() => {\n",
              "      let quickchartButtonEl =\n",
              "        document.querySelector('#df-fd9e30c2-3e28-42b7-bd73-7029295bfdf8 button');\n",
              "      quickchartButtonEl.style.display =\n",
              "        google.colab.kernel.accessAllowed ? 'block' : 'none';\n",
              "    })();\n",
              "  </script>\n",
              "</div>\n",
              "\n",
              "  <div id=\"id_0c7e73b2-90ca-48b3-bc95-24c750d7bbc5\">\n",
              "    <style>\n",
              "      .colab-df-generate {\n",
              "        background-color: #E8F0FE;\n",
              "        border: none;\n",
              "        border-radius: 50%;\n",
              "        cursor: pointer;\n",
              "        display: none;\n",
              "        fill: #1967D2;\n",
              "        height: 32px;\n",
              "        padding: 0 0 0 0;\n",
              "        width: 32px;\n",
              "      }\n",
              "\n",
              "      .colab-df-generate:hover {\n",
              "        background-color: #E2EBFA;\n",
              "        box-shadow: 0px 1px 2px rgba(60, 64, 67, 0.3), 0px 1px 3px 1px rgba(60, 64, 67, 0.15);\n",
              "        fill: #174EA6;\n",
              "      }\n",
              "\n",
              "      [theme=dark] .colab-df-generate {\n",
              "        background-color: #3B4455;\n",
              "        fill: #D2E3FC;\n",
              "      }\n",
              "\n",
              "      [theme=dark] .colab-df-generate:hover {\n",
              "        background-color: #434B5C;\n",
              "        box-shadow: 0px 1px 3px 1px rgba(0, 0, 0, 0.15);\n",
              "        filter: drop-shadow(0px 1px 2px rgba(0, 0, 0, 0.3));\n",
              "        fill: #FFFFFF;\n",
              "      }\n",
              "    </style>\n",
              "    <button class=\"colab-df-generate\" onclick=\"generateWithVariable('df')\"\n",
              "            title=\"Generate code using this dataframe.\"\n",
              "            style=\"display:none;\">\n",
              "\n",
              "  <svg xmlns=\"http://www.w3.org/2000/svg\" height=\"24px\"viewBox=\"0 0 24 24\"\n",
              "       width=\"24px\">\n",
              "    <path d=\"M7,19H8.4L18.45,9,17,7.55,7,17.6ZM5,21V16.75L18.45,3.32a2,2,0,0,1,2.83,0l1.4,1.43a1.91,1.91,0,0,1,.58,1.4,1.91,1.91,0,0,1-.58,1.4L9.25,21ZM18.45,9,17,7.55Zm-12,3A5.31,5.31,0,0,0,4.9,8.1,5.31,5.31,0,0,0,1,6.5,5.31,5.31,0,0,0,4.9,4.9,5.31,5.31,0,0,0,6.5,1,5.31,5.31,0,0,0,8.1,4.9,5.31,5.31,0,0,0,12,6.5,5.46,5.46,0,0,0,6.5,12Z\"/>\n",
              "  </svg>\n",
              "    </button>\n",
              "    <script>\n",
              "      (() => {\n",
              "      const buttonEl =\n",
              "        document.querySelector('#id_0c7e73b2-90ca-48b3-bc95-24c750d7bbc5 button.colab-df-generate');\n",
              "      buttonEl.style.display =\n",
              "        google.colab.kernel.accessAllowed ? 'block' : 'none';\n",
              "\n",
              "      buttonEl.onclick = () => {\n",
              "        google.colab.notebook.generateWithVariable('df');\n",
              "      }\n",
              "      })();\n",
              "    </script>\n",
              "  </div>\n",
              "\n",
              "    </div>\n",
              "  </div>\n"
            ],
            "application/vnd.google.colaboratory.intrinsic+json": {
              "type": "dataframe",
              "variable_name": "df",
              "summary": "{\n  \"name\": \"df\",\n  \"rows\": 49,\n  \"fields\": [\n    {\n      \"column\": \"PatientID\",\n      \"properties\": {\n        \"dtype\": \"string\",\n        \"num_unique_values\": 49,\n        \"samples\": [\n          \"p000014\",\n          \"p000047\",\n          \"p000049\"\n        ],\n        \"semantic_type\": \"\",\n        \"description\": \"\"\n      }\n    },\n    {\n      \"column\": \"Age\",\n      \"properties\": {\n        \"dtype\": \"number\",\n        \"std\": 15.114625460332203,\n        \"min\": 27.92,\n        \"max\": 87.8,\n        \"num_unique_values\": 49,\n        \"samples\": [\n          73.43,\n          41.61,\n          46.82\n        ],\n        \"semantic_type\": \"\",\n        \"description\": \"\"\n      }\n    },\n    {\n      \"column\": \"Sex\",\n      \"properties\": {\n        \"dtype\": \"number\",\n        \"std\": 0,\n        \"min\": 0,\n        \"max\": 1,\n        \"num_unique_values\": 2,\n        \"samples\": [\n          1,\n          0\n        ],\n        \"semantic_type\": \"\",\n        \"description\": \"\"\n      }\n    },\n    {\n      \"column\": \"HasSepsis\",\n      \"properties\": {\n        \"dtype\": \"number\",\n        \"std\": 0,\n        \"min\": 0,\n        \"max\": 1,\n        \"num_unique_values\": 2,\n        \"samples\": [\n          1,\n          0\n        ],\n        \"semantic_type\": \"\",\n        \"description\": \"\"\n      }\n    },\n    {\n      \"column\": \"HR\",\n      \"properties\": {\n        \"dtype\": \"number\",\n        \"std\": 15.63444719027254,\n        \"min\": 60.0,\n        \"max\": 123.0,\n        \"num_unique_values\": 33,\n        \"samples\": [\n          65.0,\n          66.0\n        ],\n        \"semantic_type\": \"\",\n        \"description\": \"\"\n      }\n    },\n    {\n      \"column\": \"O2Sat\",\n      \"properties\": {\n        \"dtype\": \"number\",\n        \"std\": 2.7021783206827186,\n        \"min\": 88.0,\n        \"max\": 100.0,\n        \"num_unique_values\": 13,\n        \"samples\": [\n          97.5,\n          98.0\n        ],\n        \"semantic_type\": \"\",\n        \"description\": \"\"\n      }\n    },\n    {\n      \"column\": \"SBP\",\n      \"properties\": {\n        \"dtype\": \"number\",\n        \"std\": 17.26602497372324,\n        \"min\": 82.0,\n        \"max\": 154.0,\n        \"num_unique_values\": 32,\n        \"samples\": [\n          123.0,\n          97.0\n        ],\n        \"semantic_type\": \"\",\n        \"description\": \"\"\n      }\n    },\n    {\n      \"column\": \"DBP\",\n      \"properties\": {\n        \"dtype\": \"number\",\n        \"std\": 14.965614433915349,\n        \"min\": 39.0,\n        \"max\": 110.0,\n        \"num_unique_values\": 22,\n        \"samples\": [\n          44.0,\n          110.0\n        ],\n        \"semantic_type\": \"\",\n        \"description\": \"\"\n      }\n    },\n    {\n      \"column\": \"Resp\",\n      \"properties\": {\n        \"dtype\": \"number\",\n        \"std\": 4.970239715374182,\n        \"min\": 9.0,\n        \"max\": 32.0,\n        \"num_unique_values\": 18,\n        \"samples\": [\n          24.0,\n          12.0\n        ],\n        \"semantic_type\": \"\",\n        \"description\": \"\"\n      }\n    }\n  ]\n}"
            }
          },
          "metadata": {},
          "execution_count": 15
        }
      ],
      "source": [
        "df = pd.read_csv(\"sepsis.csv\")\n",
        "df"
      ]
    },
    {
      "cell_type": "markdown",
      "metadata": {
        "id": "OjcCaJG9jzjG"
      },
      "source": [
        "**(Part 1)** Write code that will show the number of patients in the dataset."
      ]
    },
    {
      "cell_type": "code",
      "execution_count": 16,
      "metadata": {
        "colab": {
          "base_uri": "https://localhost:8080/"
        },
        "id": "7jh1cRkjg8Ji",
        "outputId": "0ad30884-6b2d-40a2-d812-028ea1c3406e"
      },
      "outputs": [
        {
          "output_type": "execute_result",
          "data": {
            "text/plain": [
              "49"
            ]
          },
          "metadata": {},
          "execution_count": 16
        }
      ],
      "source": [
        "num_patients = len(df['PatientID'])\n",
        "num_patients"
      ]
    },
    {
      "cell_type": "markdown",
      "metadata": {
        "id": "s6Aimzfhg7nE"
      },
      "source": [
        "**(Part 2)** Write code that will show the number of male (`0`) and female (`1`) patients in the dataset."
      ]
    },
    {
      "cell_type": "code",
      "execution_count": 17,
      "metadata": {
        "colab": {
          "base_uri": "https://localhost:8080/"
        },
        "id": "SXpD8NBfkRiQ",
        "outputId": "7807d741-a8dc-4ffb-fc85-ebe40f1fa31a"
      },
      "outputs": [
        {
          "output_type": "execute_result",
          "data": {
            "text/plain": [
              "(23, 26)"
            ]
          },
          "metadata": {},
          "execution_count": 17
        }
      ],
      "source": [
        "num_males = len(df[df['Sex'] == 0])\n",
        "num_females = len(df[df['Sex'] == 1])\n",
        "num_males, num_females"
      ]
    },
    {
      "cell_type": "markdown",
      "metadata": {
        "id": "nSiTf1f-kR7C"
      },
      "source": [
        "**(Part 3)** Write code that will calculate the average age of all the patients."
      ]
    },
    {
      "cell_type": "code",
      "execution_count": 18,
      "metadata": {
        "colab": {
          "base_uri": "https://localhost:8080/"
        },
        "id": "vMHS5S5XkYpD",
        "outputId": "31f4f283-fb18-46b7-ff93-d8d9f74dff5e"
      },
      "outputs": [
        {
          "output_type": "execute_result",
          "data": {
            "text/plain": [
              "60.48816326530613"
            ]
          },
          "metadata": {},
          "execution_count": 18
        }
      ],
      "source": [
        "mean_age = df['Age'].mean()\n",
        "mean_age"
      ]
    },
    {
      "cell_type": "markdown",
      "metadata": {
        "id": "yegKvv-JkrzP"
      },
      "source": [
        "**(Part 4)** Write code that will print out the IDs of all the patients with sepsis (i.e., the value in the `HasSepsis` column is 1)."
      ]
    },
    {
      "cell_type": "code",
      "execution_count": 19,
      "metadata": {
        "colab": {
          "base_uri": "https://localhost:8080/",
          "height": 178
        },
        "id": "RgbaWFcsk1uj",
        "outputId": "c4f77e7d-dee6-4afe-8272-f75af05df73a"
      },
      "outputs": [
        {
          "output_type": "execute_result",
          "data": {
            "text/plain": [
              "14    p000015\n",
              "21    p000022\n",
              "32    p000034\n",
              "Name: PatientID, dtype: object"
            ],
            "text/html": [
              "<div>\n",
              "<style scoped>\n",
              "    .dataframe tbody tr th:only-of-type {\n",
              "        vertical-align: middle;\n",
              "    }\n",
              "\n",
              "    .dataframe tbody tr th {\n",
              "        vertical-align: top;\n",
              "    }\n",
              "\n",
              "    .dataframe thead th {\n",
              "        text-align: right;\n",
              "    }\n",
              "</style>\n",
              "<table border=\"1\" class=\"dataframe\">\n",
              "  <thead>\n",
              "    <tr style=\"text-align: right;\">\n",
              "      <th></th>\n",
              "      <th>PatientID</th>\n",
              "    </tr>\n",
              "  </thead>\n",
              "  <tbody>\n",
              "    <tr>\n",
              "      <th>14</th>\n",
              "      <td>p000015</td>\n",
              "    </tr>\n",
              "    <tr>\n",
              "      <th>21</th>\n",
              "      <td>p000022</td>\n",
              "    </tr>\n",
              "    <tr>\n",
              "      <th>32</th>\n",
              "      <td>p000034</td>\n",
              "    </tr>\n",
              "  </tbody>\n",
              "</table>\n",
              "</div><br><label><b>dtype:</b> object</label>"
            ]
          },
          "metadata": {},
          "execution_count": 19
        }
      ],
      "source": [
        "has_sepsis_df = df[df['HasSepsis'] == 1]\n",
        "has_sepsis_df['PatientID']"
      ]
    },
    {
      "cell_type": "markdown",
      "metadata": {
        "id": "X7Dey0YZkYX2"
      },
      "source": [
        "**(Part 5)** Write code that will calculate the average heart rate of the patients with sepsis."
      ]
    },
    {
      "cell_type": "code",
      "execution_count": 20,
      "metadata": {
        "colab": {
          "base_uri": "https://localhost:8080/"
        },
        "id": "6uYGxeOLk5Sw",
        "outputId": "e0ca4e6d-e79e-485e-edea-6a987230284d"
      },
      "outputs": [
        {
          "output_type": "execute_result",
          "data": {
            "text/plain": [
              "76.66666666666667"
            ]
          },
          "metadata": {},
          "execution_count": 20
        }
      ],
      "source": [
        "has_sepsis_df['HR'].mean()"
      ]
    },
    {
      "cell_type": "markdown",
      "metadata": {
        "id": "qKql6wcGlHe-"
      },
      "source": [
        "**(Part 6)** Write code that will print out the ID of the oldest patient."
      ]
    },
    {
      "cell_type": "code",
      "execution_count": 21,
      "metadata": {
        "colab": {
          "base_uri": "https://localhost:8080/",
          "height": 35
        },
        "id": "nSClrV0HlTCQ",
        "outputId": "da18476a-6686-4725-c01e-44c8f717a895"
      },
      "outputs": [
        {
          "output_type": "execute_result",
          "data": {
            "text/plain": [
              "'p000021'"
            ],
            "application/vnd.google.colaboratory.intrinsic+json": {
              "type": "string"
            }
          },
          "metadata": {},
          "execution_count": 21
        }
      ],
      "source": [
        "oldest = df['Age'].argmax()\n",
        "df.iloc[oldest]['PatientID']"
      ]
    },
    {
      "cell_type": "markdown",
      "metadata": {
        "id": "BQaP6fBOlMDR"
      },
      "source": [
        "**(Part 7)** Write code that will print out the ID of the youngest patient with sepsis."
      ]
    },
    {
      "cell_type": "code",
      "execution_count": 22,
      "metadata": {
        "colab": {
          "base_uri": "https://localhost:8080/",
          "height": 35
        },
        "id": "Gn1KW2QTlTgz",
        "outputId": "3c6d4618-2bca-4e30-a11f-bfc476f50c02"
      },
      "outputs": [
        {
          "output_type": "execute_result",
          "data": {
            "text/plain": [
              "'p000015'"
            ],
            "application/vnd.google.colaboratory.intrinsic+json": {
              "type": "string"
            }
          },
          "metadata": {},
          "execution_count": 22
        }
      ],
      "source": [
        "x = has_sepsis_df['Age'].argmin()\n",
        "has_sepsis_df.iloc[x]['PatientID']"
      ]
    },
    {
      "cell_type": "markdown",
      "source": [
        "# Prepare Submission"
      ],
      "metadata": {
        "id": "NvWnOApDRK4P"
      }
    },
    {
      "cell_type": "markdown",
      "source": [
        "To get full credit for this assignment, you should submit your assignment in two formats so that we can easily grade and debug your code:\n",
        "1. **.ipynb:** First, confirm that your code can run from start to finish without any errors. To check this, go to \"Runtime\" > \"Run all\" in the Google Colab menu. If everything looks good, you can export your file by going to \"File\" > \"Download\" > \"Download .ipynb\".\n",
        "2. **.pdf:** Run the function called `colab2pdf()` below. This will automatically convert your notebook to a PDF. Note that while \"File\" > \"Print\" > \"Save as PDF\" also works, it requires you to manually expand all of the cells and may cut off some images."
      ],
      "metadata": {
        "id": "jLFVxNKZydmF"
      }
    },
    {
      "cell_type": "code",
      "source": [
        "colab2pdf()"
      ],
      "metadata": {
        "colab": {
          "base_uri": "https://localhost:8080/",
          "height": 0
        },
        "id": "KOGsHYKWS8uK",
        "outputId": "6fa47ae0-634d-4467-e568-7007ea70c760"
      },
      "execution_count": 23,
      "outputs": [
        {
          "output_type": "display_data",
          "data": {
            "text/plain": [
              "<IPython.core.display.Javascript object>"
            ],
            "application/javascript": [
              "\n",
              "    async function download(id, filename, size) {\n",
              "      if (!google.colab.kernel.accessAllowed) {\n",
              "        return;\n",
              "      }\n",
              "      const div = document.createElement('div');\n",
              "      const label = document.createElement('label');\n",
              "      label.textContent = `Downloading \"${filename}\": `;\n",
              "      div.appendChild(label);\n",
              "      const progress = document.createElement('progress');\n",
              "      progress.max = size;\n",
              "      div.appendChild(progress);\n",
              "      document.body.appendChild(div);\n",
              "\n",
              "      const buffers = [];\n",
              "      let downloaded = 0;\n",
              "\n",
              "      const channel = await google.colab.kernel.comms.open(id);\n",
              "      // Send a message to notify the kernel that we're ready.\n",
              "      channel.send({})\n",
              "\n",
              "      for await (const message of channel.messages) {\n",
              "        // Send a message to notify the kernel that we're ready.\n",
              "        channel.send({})\n",
              "        if (message.buffers) {\n",
              "          for (const buffer of message.buffers) {\n",
              "            buffers.push(buffer);\n",
              "            downloaded += buffer.byteLength;\n",
              "            progress.value = downloaded;\n",
              "          }\n",
              "        }\n",
              "      }\n",
              "      const blob = new Blob(buffers, {type: 'application/binary'});\n",
              "      const a = document.createElement('a');\n",
              "      a.href = window.URL.createObjectURL(blob);\n",
              "      a.download = filename;\n",
              "      div.appendChild(a);\n",
              "      a.click();\n",
              "      div.remove();\n",
              "    }\n",
              "  "
            ]
          },
          "metadata": {}
        },
        {
          "output_type": "display_data",
          "data": {
            "text/plain": [
              "<IPython.core.display.Javascript object>"
            ],
            "application/javascript": [
              "download(\"download_8a607c4c-1ffb-4520-92a6-d5ebe5966d35\", \"HW2-1_Answers.pdf\", 43039)"
            ]
          },
          "metadata": {}
        }
      ]
    }
  ],
  "metadata": {
    "colab": {
      "collapsed_sections": [
        "B6v86VjQmIrK",
        "IhQvi7z1v6rm",
        "9pzuV8XvLGKx",
        "NvWnOApDRK4P"
      ],
      "provenance": []
    },
    "kernelspec": {
      "display_name": "Python 3",
      "language": "python",
      "name": "python3"
    },
    "language_info": {
      "codemirror_mode": {
        "name": "ipython",
        "version": 3
      },
      "file_extension": ".py",
      "mimetype": "text/x-python",
      "name": "python",
      "nbconvert_exporter": "python",
      "pygments_lexer": "ipython3",
      "version": "3.8.2"
    }
  },
  "nbformat": 4,
  "nbformat_minor": 0
}