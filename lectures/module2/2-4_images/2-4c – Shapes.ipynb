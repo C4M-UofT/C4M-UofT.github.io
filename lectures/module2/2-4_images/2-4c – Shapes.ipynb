{
  "nbformat": 4,
  "nbformat_minor": 0,
  "metadata": {
    "colab": {
      "provenance": [],
      "collapsed_sections": [
        "oOb-bU29tGe9",
        "0DhARKg3Vkvh",
        "YQRUOY2rdNs3",
        "h9ctHCbPPmeN",
        "jiERM8DIpJPS"
      ]
    },
    "kernelspec": {
      "name": "python3",
      "display_name": "Python 3"
    },
    "language_info": {
      "name": "python"
    }
  },
  "cells": [
    {
      "cell_type": "markdown",
      "source": [
        "In this notebook, we're going to talk about how we can draw shapes onto an image, which will be helpful for visualizing the results of other algorithms we write."
      ],
      "metadata": {
        "id": "zKBYPS5L5yWH"
      }
    },
    {
      "cell_type": "markdown",
      "source": [
        "# Important: Run this code cell each time you start a new session!"
      ],
      "metadata": {
        "id": "oOb-bU29tGe9"
      }
    },
    {
      "cell_type": "code",
      "source": [
        "!pip install numpy\n",
        "!pip install pandas\n",
        "!pip install matplotlib\n",
        "!pip install os\n",
        "!pip install opencv-python\n",
        "import numpy as np\n",
        "import pandas as pd\n",
        "import matplotlib.pyplot as plt\n",
        "import os\n",
        "import cv2"
      ],
      "metadata": {
        "id": "_41wnpx5tGfG"
      },
      "execution_count": null,
      "outputs": []
    },
    {
      "cell_type": "code",
      "source": [
        "!wget -Ncnp https://images.fineartamerica.com/images-medium-large-5/coloured-mri-scan-of-brain-in-sagittal-se-geoff-tompkinson.jpg"
      ],
      "metadata": {
        "id": "Y8_yvRuatGfJ"
      },
      "execution_count": null,
      "outputs": []
    },
    {
      "cell_type": "code",
      "source": [
        "import shutil\n",
        "import os\n",
        "orig_file = os.path.join('coloured-mri-scan-of-brain-in-sagittal-se-geoff-tompkinson.jpg')\n",
        "\n",
        "os.rename(orig_file, 'color_mri.jpg')"
      ],
      "metadata": {
        "id": "N0o-oc_ptGfK"
      },
      "execution_count": null,
      "outputs": []
    },
    {
      "cell_type": "markdown",
      "source": [
        "# Image Coordinates and Array Indexes"
      ],
      "metadata": {
        "id": "0DhARKg3Vkvh"
      }
    },
    {
      "cell_type": "markdown",
      "source": [
        "With the Cartesian system you have likely seen in math or `matplotlib`, the x-axis is horizontal and the y-axis is vertical. Positive $x$ and $y$ coordinates go to the right and above the origin, respectively, meaning that the origin lies at the bottom-left corner if we are only looking at positive numbers.\n",
        "\n",
        "`opencv` is slightly different in that the origin starts at the top left. While positive $x$ coordinates go to the right of the origin, positive $y$ coordinates go below it."
      ],
      "metadata": {
        "id": "JgvqG52TDJup"
      }
    },
    {
      "cell_type": "markdown",
      "source": [
        "Meanwhile, `numpy` arrays are indexed such that the first dimension corresponds to the row (vertical direction) and the second dimensions corresponds to the column (horizontal direction)."
      ],
      "metadata": {
        "id": "soANNPCMVyqA"
      }
    },
    {
      "cell_type": "markdown",
      "source": [
        "If we were to have an image with a width of 300 and a height of 400, then these would be the coordinates of the image's corners in both systems:\n",
        "\n",
        "| Corner | OpenCV coordinate | Numpy index |\n",
        "|:--------------:|:-----------:|:-----------:|\n",
        "| Top left | `(0, 0)` | `img[0, 0]` |\n",
        "| Top right | `(299, 0)` | `img[0, 299]` |\n",
        "| Bottom left | `(0, 399)` | `img[399, 0]` |\n",
        "| Bottom right | `(299, 399)` | `img[399, 299]` |"
      ],
      "metadata": {
        "id": "lYwmQfk1tYAO"
      }
    },
    {
      "cell_type": "markdown",
      "source": [
        "We can confirm `opencv`'s system by displaying a blank image:"
      ],
      "metadata": {
        "id": "YenDQr-5WACC"
      }
    },
    {
      "cell_type": "code",
      "source": [
        "plt.figure(figsize=(3, 3))\n",
        "plt.imshow(np.zeros((400,300,3), np.uint8))\n",
        "plt.show()"
      ],
      "metadata": {
        "id": "gUY-A6i1URXi"
      },
      "execution_count": null,
      "outputs": []
    },
    {
      "cell_type": "markdown",
      "source": [
        "The mismatch between `opencv`'s coordinate system and the indexing of `numpy` arrays can be confusing, so make sure you keep these facts in mind."
      ],
      "metadata": {
        "id": "ks82bnS4t771"
      }
    },
    {
      "cell_type": "markdown",
      "source": [
        "# Creating a Simple Shape Image"
      ],
      "metadata": {
        "id": "YQRUOY2rdNs3"
      }
    },
    {
      "cell_type": "markdown",
      "source": [
        "Now that we understand the coordinate system that `opencv` uses, let's create our own basic image and look at the underlying data to understand how images get translated to multidimensional arrays."
      ],
      "metadata": {
        "id": "udIdFma6PkuJ"
      }
    },
    {
      "cell_type": "markdown",
      "source": [
        "We will start by drawing a green rectangle on a black image. To do that, we will first create a simple helper function to initialize a blank `numpy` array with all zeroes and then use `cv2.rectangle()` to draw a rectangle."
      ],
      "metadata": {
        "id": "E480Tjywubie"
      }
    },
    {
      "cell_type": "code",
      "source": [
        "# Create a function to make a blank image\n",
        "def create_black_img():\n",
        "    return np.zeros((300,300,3), np.uint8)\n",
        "\n",
        "# Set the color and thickness of our drawings\n",
        "green = (0, 255, 0)\n",
        "thickness = 4"
      ],
      "metadata": {
        "id": "7PeRthr_AnIq"
      },
      "execution_count": null,
      "outputs": []
    },
    {
      "cell_type": "code",
      "source": [
        "# Rectangle\n",
        "pt1_x = 100 #@param {type:\"slider\", min:0, max:300, step:50}\n",
        "pt1_y = 100 #@param {type:\"slider\", min:0, max:300, step:50}\n",
        "pt2_x = 300 #@param {type:\"slider\", min:0, max:300, step:50}\n",
        "pt2_y = 200 #@param {type:\"slider\", min:0, max:300, step:50}\n",
        "\n",
        "img = create_black_img()\n",
        "cv2.rectangle(img, pt1=(pt1_x, pt1_y), pt2=(pt2_x, pt2_y),\n",
        "              color=green, thickness=thickness)\n",
        "\n",
        "plt.figure(figsize=(3, 3))\n",
        "plt.imshow(img)\n",
        "plt.show()"
      ],
      "metadata": {
        "id": "Z9v0kfhZBH7J"
      },
      "execution_count": null,
      "outputs": []
    },
    {
      "cell_type": "markdown",
      "source": [
        "Let's look at what's happening underneath the hood by examining some of the values in our `img` array in a fixed example:"
      ],
      "metadata": {
        "id": "-RlvGqIpNXDP"
      }
    },
    {
      "cell_type": "code",
      "source": [
        "img = create_black_img()\n",
        "cv2.rectangle(img, pt1=(100,100), pt2=(150, 200),\n",
        "         color=green, thickness=1)\n",
        "\n",
        "plt.figure(figsize=(3, 3))\n",
        "plt.imshow(img)\n",
        "plt.show()"
      ],
      "metadata": {
        "id": "9Nh2fj8-OK1E"
      },
      "execution_count": null,
      "outputs": []
    },
    {
      "cell_type": "code",
      "source": [
        "print(f'Some black pixels:')\n",
        "for pt in [[0, 0], [299, 299], [135, 125]]:\n",
        "    print(f'Coordinate {pt[1], pt[0]}: {img[pt[0], pt[1]]}')"
      ],
      "metadata": {
        "id": "QCW9SJyltu-2"
      },
      "execution_count": null,
      "outputs": []
    },
    {
      "cell_type": "code",
      "source": [
        "print(f'Some green pixels:')\n",
        "for pt in [[100, 100], [200, 100], [100, 150], [200, 150], [100, 125]]:\n",
        "    print(f'Coordinate {pt[1], pt[0]}: {img[pt[0], pt[1]]}')"
      ],
      "metadata": {
        "id": "y42mqKaPvNGz"
      },
      "execution_count": null,
      "outputs": []
    },
    {
      "cell_type": "markdown",
      "source": [
        "Observe that that the color of all the pixels along the rectangle's edges have been set to green. Meanwhile, the other pixels have been kept black. In the end, all the `cv2.rectangle()` function is doing is a series of assignment statements that is setting the value of the image array at certain indices to the color that we have specified:\n",
        "\n",
        "```\n",
        "compute list of pixels for the rectangle\n",
        "for every point in the list:\n",
        "    set its color to green\n",
        "```"
      ],
      "metadata": {
        "id": "8l-vrrzePxHk"
      }
    },
    {
      "cell_type": "markdown",
      "source": [
        "# Other Shapes and Drawing Tips"
      ],
      "metadata": {
        "id": "h9ctHCbPPmeN"
      }
    },
    {
      "cell_type": "markdown",
      "source": [
        "Now that we have a better sense of how drawing manipulates our image data, let's look at other shapes we can draw:"
      ],
      "metadata": {
        "id": "ca0tqpSuO5kj"
      }
    },
    {
      "cell_type": "code",
      "source": [
        "# Line\n",
        "pt1_x = 100 #@param {type:\"slider\", min:0, max:300, step:50}\n",
        "pt1_y = 100 #@param {type:\"slider\", min:0, max:300, step:50}\n",
        "pt2_x = 150 #@param {type:\"slider\", min:0, max:300, step:50}\n",
        "pt2_y = 200 #@param {type:\"slider\", min:0, max:300, step:50}\n",
        "\n",
        "img = create_black_img()\n",
        "cv2.line(img, pt1=(pt1_x, pt1_y), pt2=(pt2_x, pt2_y),\n",
        "         color=green, thickness=thickness)\n",
        "\n",
        "plt.figure(figsize=(3, 3))\n",
        "plt.imshow(img)\n",
        "plt.show()"
      ],
      "metadata": {
        "id": "TtzBMs3vAuCn"
      },
      "execution_count": null,
      "outputs": []
    },
    {
      "cell_type": "code",
      "source": [
        "# Circle\n",
        "center_x = 150 #@param {type:\"slider\", min:0, max:300, step:50}\n",
        "center_y = 150 #@param {type:\"slider\", min:0, max:300, step:50}\n",
        "radius = 150 #@param {type:\"slider\", min:0, max:150, step:50}\n",
        "\n",
        "img = create_black_img()\n",
        "cv2.circle(img, center=(center_x, center_y), radius=radius,\n",
        "           color=green, thickness=thickness)\n",
        "\n",
        "plt.figure(figsize=(3, 3))\n",
        "plt.imshow(img)\n",
        "plt.show()"
      ],
      "metadata": {
        "id": "XrBeh8YlBMQi"
      },
      "execution_count": null,
      "outputs": []
    },
    {
      "cell_type": "code",
      "source": [
        "# Ellipse\n",
        "center_x = 150 #@param {type:\"slider\", min:0, max:300, step:50}\n",
        "center_y = 150 #@param {type:\"slider\", min:0, max:300, step:50}\n",
        "major_axis = 100 #@param {type:\"slider\", min:0, max:150, step:50}\n",
        "minor_axis = 50 #@param {type:\"slider\", min:0, max:150, step:50}\n",
        "angle = 45 #@param {type:\"slider\", min:0, max:360, step:45}\n",
        "startAngle = 0 #@param {type:\"slider\", min:0, max:360, step:45}\n",
        "endAngle = 270 #@param {type:\"slider\", min:0, max:360, step:45}\n",
        "\n",
        "img = create_black_img()\n",
        "cv2.ellipse(img, center=(center_x, center_y),\n",
        "            axes=(major_axis, minor_axis), angle=angle,\n",
        "            startAngle=startAngle, endAngle=endAngle,\n",
        "            color=green, thickness=thickness)\n",
        "\n",
        "plt.figure(figsize=(3, 3))\n",
        "plt.imshow(img)\n",
        "plt.show()"
      ],
      "metadata": {
        "id": "Tfl2gV0pBOVi"
      },
      "execution_count": null,
      "outputs": []
    },
    {
      "cell_type": "code",
      "source": [
        "# Polygon (a triangle in this example)\n",
        "pt1_x = 100 #@param {type:\"slider\", min:0, max:300, step:50}\n",
        "pt1_y = 100 #@param {type:\"slider\", min:0, max:300, step:50}\n",
        "pt2_x = 100 #@param {type:\"slider\", min:0, max:300, step:50}\n",
        "pt2_y = 200 #@param {type:\"slider\", min:0, max:300, step:50}\n",
        "pt3_x = 200 #@param {type:\"slider\", min:0, max:300, step:50}\n",
        "pt3_y = 200 #@param {type:\"slider\", min:0, max:300, step:50}\n",
        "\n",
        "pts = np.array([[pt1_x, pt1_y],\n",
        "                [pt2_x, pt2_y],\n",
        "                [pt3_x, pt3_y]], np.int32)\n",
        "pts = [pts.reshape((-1,1,2))]\n",
        "\n",
        "img = create_black_img()\n",
        "cv2.polylines(img, pts=pts, isClosed=True,\n",
        "              color=green, thickness=thickness)\n",
        "\n",
        "plt.figure(figsize=(3, 3))\n",
        "plt.imshow(img)\n",
        "plt.show()"
      ],
      "metadata": {
        "id": "cKakAgIzBUqI"
      },
      "execution_count": null,
      "outputs": []
    },
    {
      "cell_type": "code",
      "source": [
        "# Text\n",
        "origin_x = 100 #@param {type:\"slider\", min:0, max:300, step:50}\n",
        "origin_y = 100 #@param {type:\"slider\", min:0, max:300, step:50}\n",
        "fontScale = 2 #@param {type:\"slider\", min:0, max:5, step:1}\n",
        "\n",
        "img = create_black_img()\n",
        "font = cv2.FONT_HERSHEY_SIMPLEX\n",
        "cv2.putText(img, text='C4M', org=(origin_x,origin_y),\n",
        "            fontFace=font, fontScale=fontScale,\n",
        "            color=green, thickness=2)\n",
        "\n",
        "plt.figure(figsize=(3, 3))\n",
        "plt.imshow(img)\n",
        "plt.show()"
      ],
      "metadata": {
        "id": "cMUwvoSNBYDv"
      },
      "execution_count": null,
      "outputs": []
    },
    {
      "cell_type": "markdown",
      "source": [
        "For all of these examples, we set thickness to a positive integer value. If you find yourself in a situation when you want to fill in the entire shape (excluding lines and text), you can set the thickness to `-1`:"
      ],
      "metadata": {
        "id": "TEph-C0ULOsY"
      }
    },
    {
      "cell_type": "code",
      "source": [
        "# Create a filled circle\n",
        "img = create_black_img()\n",
        "cv2.circle(img, center=(200, 200), radius=50,\n",
        "           color=green, thickness=-1)\n",
        "\n",
        "plt.figure(figsize=(3, 3))\n",
        "plt.imshow(img)\n",
        "plt.show()"
      ],
      "metadata": {
        "id": "KwQnkv5_LOeu"
      },
      "execution_count": null,
      "outputs": []
    },
    {
      "cell_type": "markdown",
      "source": [
        "Although we've drawn these shapes one at a time, you can draw as many shapes as you want on a single image. For any given pixel where two shapes overlap, the latest shape will always take precedence.\n",
        "\n",
        "Visually, you can imagine that we are adding new brush strokes on top of a painting. Programmatically, we are simply updating the elements of our image array just as an array would be updated in any other Python script."
      ],
      "metadata": {
        "id": "XGHjlsgCMSZL"
      }
    },
    {
      "cell_type": "code",
      "source": [
        "red = (255, 0, 0)\n",
        "\n",
        "# Draw a red circle on top of a green line\n",
        "img = create_black_img()\n",
        "cv2.circle(img, center=(150, 150), radius=50,\n",
        "           color=green, thickness=-1)\n",
        "cv2.line(img, pt1=(0, 0), pt2=(300, 300),\n",
        "         color=red, thickness=thickness)\n",
        "\n",
        "plt.figure(figsize=(3, 3))\n",
        "plt.imshow(img)\n",
        "plt.show()"
      ],
      "metadata": {
        "id": "kDwTDeoRMoRV"
      },
      "execution_count": null,
      "outputs": []
    },
    {
      "cell_type": "markdown",
      "source": [
        "# Why Are Shapes Useful?"
      ],
      "metadata": {
        "id": "jiERM8DIpJPS"
      }
    },
    {
      "cell_type": "markdown",
      "source": [
        "Adding shapes onto images is not going to be useful for analyzing images with computer vision or machine learning. However, like working with `matplotlib`, learning these functions can make it much easier for you to visualize the results of your analyses."
      ],
      "metadata": {
        "id": "zsG-KDKopLok"
      }
    },
    {
      "cell_type": "markdown",
      "source": [
        "For example, imagine that we've written an algorithm that identifies an anomaly in an MRI. We can draw an ellipse around the anomaly so that we can visually determine if the algorithm's output makes sense:"
      ],
      "metadata": {
        "id": "kPucAM4vGqcx"
      }
    },
    {
      "cell_type": "code",
      "source": [
        "# Load the image and convert to RGB\n",
        "img = cv2.imread('color_mri.jpg')\n",
        "img = cv2.cvtColor(img, cv2.COLOR_BGR2RGB)\n",
        "\n",
        "# Pretend that there is an algorithm here that locates the anomaly\n",
        "anomaly_coordinate = (200, 800)\n",
        "\n",
        "# Add the ellipse on top of the image\n",
        "cv2.ellipse(img, center=anomaly_coordinate,\n",
        "            axes=(60, 50), angle=0,\n",
        "            startAngle=0, endAngle=360,\n",
        "            color=green, thickness=5)\n",
        "\n",
        "# Show the overall image\n",
        "plt.figure(figsize=(3, 3))\n",
        "plt.imshow(img)\n",
        "plt.show()"
      ],
      "metadata": {
        "id": "L6mgSA6lG2UZ"
      },
      "execution_count": null,
      "outputs": []
    }
  ]
}