{
  "nbformat": 4,
  "nbformat_minor": 0,
  "metadata": {
    "colab": {
      "provenance": [],
      "collapsed_sections": [
        "HLZotiuNsvUK",
        "6jKuLWBaqEdK",
        "qvxYQvsQmZ2h",
        "T_zGbeMfnf4p"
      ]
    },
    "kernelspec": {
      "name": "python3",
      "display_name": "Python 3"
    },
    "language_info": {
      "name": "python"
    }
  },
  "cells": [
    {
      "cell_type": "markdown",
      "source": [
        "In this notebook, we're going to talk about the importance of image data and why we need to special tools to work with it."
      ],
      "metadata": {
        "id": "zKBYPS5L5yWH"
      }
    },
    {
      "cell_type": "markdown",
      "source": [
        "# Important: Run this code cell each time you start a new session!"
      ],
      "metadata": {
        "id": "HLZotiuNsvUK"
      }
    },
    {
      "cell_type": "code",
      "source": [
        "!pip install numpy\n",
        "!pip install pandas\n",
        "!pip install matplotlib\n",
        "!pip install os\n",
        "!pip install opencv-python\n",
        "import numpy as np\n",
        "import pandas as pd\n",
        "import matplotlib.pyplot as plt\n",
        "import os\n",
        "import cv2"
      ],
      "metadata": {
        "id": "0cjlwPU5svUO"
      },
      "execution_count": null,
      "outputs": []
    },
    {
      "cell_type": "code",
      "source": [
        "!wget -Ncnp https://images.fineartamerica.com/images-medium-large-5/coloured-mri-scan-of-brain-in-sagittal-se-geoff-tompkinson.jpg"
      ],
      "metadata": {
        "id": "h_LltAFYsvUP"
      },
      "execution_count": null,
      "outputs": []
    },
    {
      "cell_type": "code",
      "source": [
        "import shutil\n",
        "import os\n",
        "orig_file = os.path.join('coloured-mri-scan-of-brain-in-sagittal-se-geoff-tompkinson.jpg')\n",
        "\n",
        "os.rename(orig_file, 'color_mri.jpg')"
      ],
      "metadata": {
        "id": "aEIg9uDpsvUP"
      },
      "execution_count": null,
      "outputs": []
    },
    {
      "cell_type": "markdown",
      "source": [
        "# What Is Image Data?"
      ],
      "metadata": {
        "id": "6jKuLWBaqEdK"
      }
    },
    {
      "cell_type": "markdown",
      "source": [
        "\n",
        "Digital images are used all over medicine. With cameras, we can capture images of people's faces, skin lesions, and other readily visible features. With imaging devices that leverage bespoke techniques (e.g., X-ray, MRI, ultrasound), we can capture visual content that would not otherwise be visible to us."
      ],
      "metadata": {
        "id": "mCVQlwrePrE1"
      }
    },
    {
      "cell_type": "markdown",
      "source": [
        "In computing, images are essentially multidimensional arrays, where the first two dimensions represent the height and width of the image and the third dimension represents the number of ***color channels*** (i.e., the number of numbers needed to represent the color of a given pixel)."
      ],
      "metadata": {
        "id": "qQhmEL-FbyU2"
      }
    },
    {
      "cell_type": "markdown",
      "source": [
        "The most common set of images you've probably encountered are ***RGB images***, where the color of a given pixel is specified according to the amount of red, green, and blue it contains. An RGB image with a height $h$ and width $w$ is therefore a $h \\times w \\times 3$ array."
      ],
      "metadata": {
        "id": "y6v2Mx0l2qh7"
      }
    },
    {
      "cell_type": "code",
      "source": [
        "# Load an image using OpenCV (will go over this library later)\n",
        "img = cv2.imread('color_mri.jpg')\n",
        "img = cv2.cvtColor(img, cv2.COLOR_BGR2RGB)\n",
        "print(type(img))"
      ],
      "metadata": {
        "id": "3O6VBSlmcmAM"
      },
      "execution_count": null,
      "outputs": []
    },
    {
      "cell_type": "code",
      "source": [
        "def split_into_channels(img):\n",
        "    img_r = img.copy()\n",
        "    img_r[:,:,1] = 0\n",
        "    img_r[:,:,2] = 0\n",
        "    img_g = img.copy()\n",
        "    img_g[:,:,0] = 0\n",
        "    img_g[:,:,2] = 0\n",
        "    img_b = img.copy()\n",
        "    img_b[:,:,0] = 0\n",
        "    img_b[:,:,1] = 0\n",
        "    return np.hstack((img, img_r, img_g, img_b))\n",
        "\n",
        "# Show the image split across channels\n",
        "stacked = split_into_channels(img)\n",
        "plt.figure(figsize=(12, 3))\n",
        "plt.imshow(stacked)\n",
        "plt.show()\n",
        "\n",
        "# Print relevant information\n",
        "print(f'Image size: {img.shape}')\n",
        "print(f'Color value at row 100, column 100: {img[100,100]}')"
      ],
      "metadata": {
        "id": "39tShu7NfBNp"
      },
      "execution_count": null,
      "outputs": []
    },
    {
      "cell_type": "markdown",
      "source": [
        "# Why Do We Need Something Fancy?"
      ],
      "metadata": {
        "id": "qvxYQvsQmZ2h"
      }
    },
    {
      "cell_type": "markdown",
      "source": [
        "The dimensions of an image array have different meanings. The first two dimensions represent spatial information, and the number(s) at that position represent color information."
      ],
      "metadata": {
        "id": "Wk5ZPqpZnrTZ"
      }
    },
    {
      "cell_type": "markdown",
      "source": [
        "The techniques we've discussed up until this point have either operated on rows, columns, or entire arrays of data:"
      ],
      "metadata": {
        "id": "y_F7Ph0zPut3"
      }
    },
    {
      "cell_type": "code",
      "source": [
        "# Operations on a row or column\n",
        "x = np.array(range(0, 10))\n",
        "print(x.mean())\n",
        "print(x*2)"
      ],
      "metadata": {
        "id": "bkHkGrOMm2KL"
      },
      "execution_count": null,
      "outputs": []
    },
    {
      "cell_type": "code",
      "source": [
        "# Operations on an entire array\n",
        "x = np.ones((50, 50))\n",
        "print(x.mean())\n",
        "print(x*2)"
      ],
      "metadata": {
        "id": "-37YVbHDnGTP"
      },
      "execution_count": null,
      "outputs": []
    },
    {
      "cell_type": "markdown",
      "source": [
        "When we work with images, we will often want to perform operations on the color information horizontally, vertically, and diagonally at the same time. Writing large `for` loops that operate column-by-column, row-by-row, and element-by-element would be way too time-consuming to get anything done, which has led to the creation of special techniques specifically for image analysis."
      ],
      "metadata": {
        "id": "KOyq-21LnU3K"
      }
    },
    {
      "cell_type": "markdown",
      "source": [
        "Nevertheless, it is important to remember that images are simply represented as numerical arrays, just like any other kinds of data we will examine this course."
      ],
      "metadata": {
        "id": "dN7ZUX5UrCcV"
      }
    },
    {
      "cell_type": "markdown",
      "source": [
        "# Summary"
      ],
      "metadata": {
        "id": "T_zGbeMfnf4p"
      }
    },
    {
      "cell_type": "markdown",
      "source": [
        "This session will provide an overview of how we can create and manipulate image data."
      ],
      "metadata": {
        "id": "HgeZRCHgnhg4"
      }
    }
  ]
}