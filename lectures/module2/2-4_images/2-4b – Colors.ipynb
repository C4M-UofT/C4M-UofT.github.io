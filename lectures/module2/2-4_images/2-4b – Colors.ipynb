{
  "nbformat": 4,
  "nbformat_minor": 0,
  "metadata": {
    "colab": {
      "provenance": [],
      "collapsed_sections": [
        "OBADxK39qJDx",
        "6jKuLWBaqEdK",
        "quPovlB232fZ",
        "3ZfF5LjsC8Be"
      ]
    },
    "kernelspec": {
      "name": "python3",
      "display_name": "Python 3"
    },
    "language_info": {
      "name": "python"
    }
  },
  "cells": [
    {
      "cell_type": "markdown",
      "source": [
        "In this notebook, we're going to talk about the various ways that [`opencv`](https://opencv.org/) — the most popular library for working with image data – presents colors."
      ],
      "metadata": {
        "id": "zKBYPS5L5yWH"
      }
    },
    {
      "cell_type": "code",
      "source": [
        "!pip install opencv-python\n",
        "import cv2"
      ],
      "metadata": {
        "id": "9JlG44roiJqZ"
      },
      "execution_count": null,
      "outputs": []
    },
    {
      "cell_type": "markdown",
      "source": [
        "# Important: Run this code cell each time you start a new session!"
      ],
      "metadata": {
        "id": "OBADxK39qJDx"
      }
    },
    {
      "cell_type": "code",
      "source": [
        "!pip install numpy\n",
        "!pip install pandas\n",
        "!pip install matplotlib\n",
        "!pip install os\n",
        "import numpy as np\n",
        "import pandas as pd\n",
        "import matplotlib.pyplot as plt\n",
        "import os\n",
        "import cv2"
      ],
      "metadata": {
        "id": "yuzcYs-MUBvs"
      },
      "execution_count": null,
      "outputs": []
    },
    {
      "cell_type": "markdown",
      "source": [
        "# RGB Colors"
      ],
      "metadata": {
        "id": "6jKuLWBaqEdK"
      }
    },
    {
      "cell_type": "markdown",
      "source": [
        "As mentioned earlier, the most common convention for storing image data is by using the ***red-green-blue (RGB)*** color system. This is an additive color model in which red, green, and blue light are added together in various ways to reproduce a broad array of colors. The way these colors combine is shown below:\n",
        "\n",
        "<img src=\"https://drive.google.com/uc?id=1IZthxGPE0A1efO_Kwjbfw911khc5Uw_U\" width=300px/>"
      ],
      "metadata": {
        "id": "Y_AZP1UI4Sd9"
      }
    },
    {
      "cell_type": "markdown",
      "source": [
        "Of course, you can represent colors other than the ones shown in that image. Some people find it helpful to think of the RGB space as a cube:\n",
        "\n",
        "<img src=\"https://drive.google.com/uc?id=1M_BrhKjBKtKWoO9F09OnA0rNxXWOhLx0\" width=300px/>"
      ],
      "metadata": {
        "id": "DQRHAM-h_on5"
      }
    },
    {
      "cell_type": "markdown",
      "source": [
        "The color of a given pixel can be represented as three digits: the amount of red, green, and blue required to make that color. Each quantity can range from 0 to 255. The number 255 comes from the fact that 8 bits in binary can lead to $2^8 = 256$ possible values."
      ],
      "metadata": {
        "id": "CoqK0YnIyPi1"
      }
    },
    {
      "cell_type": "markdown",
      "source": [
        "You will often fine places in the code below where numbers are casted to a specific data type in `numpy` called `uint8`, which designates an 8-bit unsigned integer. This is basically a special form of `int` that can only take on values between 0 and 255, and many of the popular libraries require that images are in this data format. Fortunately, this will be the case for most images that we load using libraries, but we will need to do some conversions manually when we're creating images from scratch."
      ],
      "metadata": {
        "id": "EEZpbnpU0QWk"
      }
    },
    {
      "cell_type": "markdown",
      "source": [
        "This is how you would represent the colors above as tuples in RGB:\n",
        "\n",
        "| Color | Tuple |\n",
        "|:--------------:|:-----------:|\n",
        "| Black | `(0, 0, 0)` |\n",
        "| Red | `(255, 0, 0)` |\n",
        "| Green | `(0, 255, 0)` |\n",
        "| Blue | `(0, 0, 255)` |\n",
        "| Yellow | `(255, 255, 0)` |\n",
        "| Magenta | `(255, 0, 255)` |\n",
        "| Cyan | `(0, 255, 255)` |\n",
        "| White | `(255, 255, 255)` |"
      ],
      "metadata": {
        "id": "XdEzOgwyrEUG"
      }
    },
    {
      "cell_type": "markdown",
      "source": [
        "We can show that these are correct by creating a simple function that creates a $1 \\times 1 \\times 3$ array, representing a single pixel with 3 color channels. This function uses the `imshow()` function in `matplotlib` to show the pixel. You can ignore the optional `colorspace` parameter; we will revisit it shortly."
      ],
      "metadata": {
        "id": "4vf-YGh9seV_"
      }
    },
    {
      "cell_type": "code",
      "source": [
        "def create_pixel(color, colorspace=None):\n",
        "    # Creates an array with the data type uint8\n",
        "    img = np.ones((1, 1, 3), np.uint8)\n",
        "\n",
        "    # Converts the tuple to a uint8 array\n",
        "    img[:, :] *= np.uint8(color)\n",
        "\n",
        "    # Show the image\n",
        "    plt.figure(figsize=(1, 1))\n",
        "    plt.imshow(img)\n",
        "    plt.show()"
      ],
      "metadata": {
        "id": "MY5TgF-Ert1n"
      },
      "execution_count": null,
      "outputs": []
    },
    {
      "cell_type": "code",
      "source": [
        "r = 255 #@param {type:\"slider\", min:0, max:255, step:1}\n",
        "g = 0 #@param {type:\"slider\", min:0, max:255, step:1}\n",
        "b = 255 #@param {type:\"slider\", min:0, max:255, step:1}\n",
        "\n",
        "create_pixel((r, g, b))"
      ],
      "metadata": {
        "id": "h8Xs_rlguF8i"
      },
      "execution_count": null,
      "outputs": []
    },
    {
      "cell_type": "markdown",
      "source": [
        "# Other Color Spaces"
      ],
      "metadata": {
        "id": "quPovlB232fZ"
      }
    },
    {
      "cell_type": "markdown",
      "source": [
        "While RGB is by far the most common convention for storing image data, there are other ways of defining colors that can make it easier to extract the information you require. We refer to these different systems as ***color spaces***."
      ],
      "metadata": {
        "id": "3IhDGnTA3vni"
      }
    },
    {
      "cell_type": "markdown",
      "source": [
        "You can change an image from one color space to another using `opencv.cvtColor()`. This function takes two arguments: an image and a special kind a variable provided by `opencv` that specifies the conversion you want to apply (e.g., `cv2.COLOR_GRAY2RGB`)."
      ],
      "metadata": {
        "id": "_ahcTZdOyFDJ"
      }
    },
    {
      "cell_type": "markdown",
      "source": [
        "To make it easier to view a pixel in any color space, we're going to modify our `create_pixel()` function to take in an optional `conversion` argument."
      ],
      "metadata": {
        "id": "5FT2tL7nOPec"
      }
    },
    {
      "cell_type": "code",
      "source": [
        "def create_converted_pixel(color, conversion=None):\n",
        "    # Creates an array with the data type uint8\n",
        "    img = np.ones((1, 1, len(color)), np.uint8)\n",
        "\n",
        "    # Converts the tuple to a uint8 array\n",
        "    img[:, :] *= np.uint8(color)\n",
        "\n",
        "    # Convert to a different color space if specified\n",
        "    img_conv = cv2.cvtColor(img, conversion) if conversion else img\n",
        "\n",
        "    # Show the image\n",
        "    plt.figure(figsize=(1, 1))\n",
        "    plt.imshow(img_conv)\n",
        "    plt.show()"
      ],
      "metadata": {
        "id": "ychph4LeNxoj"
      },
      "execution_count": null,
      "outputs": []
    },
    {
      "cell_type": "markdown",
      "source": [
        "Let's look at three popular color spaces other than RGB:"
      ],
      "metadata": {
        "id": "QlqTBL9CNxMn"
      }
    },
    {
      "cell_type": "markdown",
      "source": [
        "***Grayscale*** is a color space with only one color channel. It has no color information, so it is essentially a black-and-white image with various shades of gray. The value of each pixel represents an intensity value. For photographs, the intensity corresponds to color brightness. For images like ultrasound scans, the intensity corresponds to the amount of signal reflected back to the sensor.\n",
        "\n",
        "<img src=\"https://drive.google.com/uc?id=1ixPHG3RhQmfCJI997BcCjfmqZHxk8GEm\" width=300px/>"
      ],
      "metadata": {
        "id": "3fmO6z1qA9-P"
      }
    },
    {
      "cell_type": "code",
      "source": [
        "gray = 84 #@param {type:\"slider\", min:0, max:255, step:1}\n",
        "\n",
        "create_converted_pixel((gray,), cv2.COLOR_GRAY2RGB)"
      ],
      "metadata": {
        "id": "ZwJeOkTwL_YN"
      },
      "execution_count": null,
      "outputs": []
    },
    {
      "cell_type": "markdown",
      "source": [
        "The ***HSV*** color space has 3 channels that each describe different visual properties of a color:\n",
        "1. **Hue (H)**: Hue refers to the dominant wavelength of light that gives color to an image, determining what part of the rainbow is going to be most prominent in the color. As illustrated in the image below, hue is typically represented as an angle ranging from 0 to 359 degrees. However, since `opencv` likes to work with 8-bit image data, it requires hue to lie between 0 and 179.\n",
        "2. **Saturation (S)**: Saturation determines the vividness or dullness of a color. Ranging between 0 and 255, a higher saturation value indicates a more vivid color, while a lower saturation value results in a more muted or grayscale representation.\n",
        "3. **Value (V)**: Value represents the brightness of a color. Ranging between 0 and 255, a higher value indicates a brighter color, while a lower value results in a darker color.\n",
        "\n",
        "<img src=\"https://drive.google.com/uc?id=1NJlwZv2y1qYePYoVelAnzcKldEHOqYOb\" width=300px/>"
      ],
      "metadata": {
        "id": "plg329PMBJYH"
      }
    },
    {
      "cell_type": "code",
      "source": [
        "h = 118 #@param {type:\"slider\", min:0, max:179, step:1}\n",
        "s = 255 #@param {type:\"slider\", min:0, max:255, step:1}\n",
        "v = 182 #@param {type:\"slider\", min:0, max:255, step:1}\n",
        "\n",
        "create_converted_pixel((h, s, v), cv2.COLOR_HSV2RGB)"
      ],
      "metadata": {
        "id": "mC8CRpGrMAwj"
      },
      "execution_count": null,
      "outputs": []
    },
    {
      "cell_type": "markdown",
      "source": [
        "The ***Lab*** color space (sometimes stylized L&ast;a&ast;b&ast;) has 3 channels designed to make it easier to distinguish perceptually different colors:\n",
        "1. **Lightness (L)**: L represents the lightness component of the color. Ranging between 0 and 255, a higher lightness indicates a brighter color, while a lower lightness results in a darker color. Although it is functionally similar to the V channel in HSV, it is calculated in a different way and should therefore not be treated as interchangable.\n",
        "2. **Green-Red ($a$)**: The $a$ component represents the color's position between green and red. Ranging between 0 and 255, lower $a$ values represent colors with more green, while higher $a$ values represent colors with more red.\n",
        "3. **Blue-Yellow ($b$)**: The $b$ component represents the color's position between blue and yellow. Ranging between 0 and 255, lower $b$ values represent colors with more blue, while higher $b$ values represent colors with more yellow.\n",
        "\n",
        "<img src=\"https://drive.google.com/uc?id=1y-Slx2tOm1ic93QIssDOubJzTtVInGpY\" width=300px/>"
      ],
      "metadata": {
        "id": "VPeCk-o-BPxw"
      }
    },
    {
      "cell_type": "code",
      "source": [
        "L = 115 #@param {type:\"slider\", min:0, max:255, step:1}\n",
        "a = 255 #@param {type:\"slider\", min:0, max:255, step:1}\n",
        "b = 0 #@param {type:\"slider\", min:0, max:255, step:1}\n",
        "\n",
        "create_converted_pixel((L, a, b), cv2.COLOR_LAB2RGB)"
      ],
      "metadata": {
        "id": "Hz9vSnldMBSr"
      },
      "execution_count": null,
      "outputs": []
    },
    {
      "cell_type": "markdown",
      "source": [
        "# Why Are Color Spaces Useful?"
      ],
      "metadata": {
        "id": "3ZfF5LjsC8Be"
      }
    },
    {
      "cell_type": "markdown",
      "source": [
        "Most libraries assume that images are encoded in RGB (if there are 3 color channels) or grayscale (if there is 1 color channel). However, you might find that analyzing images in another color space may make it easier for you to extract important information."
      ],
      "metadata": {
        "id": "rGc1-joJEi2B"
      }
    },
    {
      "cell_type": "markdown",
      "source": [
        "For example, let's say that we wanted to identify if a color is a shade of magenta. If we want to do this in the RGB case, we need to identify colors that have sufficiently higher values of R and B compared to G. The exact definition of 'shade of magenta' is debatable, but this is a rough implementation:"
      ],
      "metadata": {
        "id": "s9C38497FnKm"
      }
    },
    {
      "cell_type": "code",
      "source": [
        "def check_if_magenta_rgb(rgb_color):\n",
        "    # Split the color channels\n",
        "    r, g, b = rgb_color\n",
        "\n",
        "    # Check if the color is magenta and sufficiently bright / saturated\n",
        "    is_magenta_hue = (r > 2*g and b > 2*g)\n",
        "    is_saturated_and_bright = (r > 100 and b > 100)\n",
        "    is_magenta = is_magenta_hue and is_saturated_and_bright\n",
        "\n",
        "    # Display the results\n",
        "    create_pixel(rgb_color)\n",
        "    print(is_magenta)"
      ],
      "metadata": {
        "id": "Y5PWB_ScGBL-"
      },
      "execution_count": null,
      "outputs": []
    },
    {
      "cell_type": "code",
      "source": [
        "r = 255 #@param {type:\"slider\", min:0, max:255, step:1}\n",
        "g = 255 #@param {type:\"slider\", min:0, max:255, step:1}\n",
        "b = 255 #@param {type:\"slider\", min:0, max:255, step:1}\n",
        "\n",
        "check_if_magenta_rgb((r, g, b))"
      ],
      "metadata": {
        "id": "VXU6xBJ4H8D-"
      },
      "execution_count": null,
      "outputs": []
    },
    {
      "cell_type": "markdown",
      "source": [
        "If we knew the color was in HSV, however, we can use our intuition to analyze each channel independently:"
      ],
      "metadata": {
        "id": "0AhbnEG0GBfl"
      }
    },
    {
      "cell_type": "code",
      "source": [
        "def check_if_magenta_hsv(hsv_color):\n",
        "    # Split the color channels\n",
        "    h, s, v = hsv_color\n",
        "\n",
        "    # Check if the color is magenta and sufficiently bright / saturated\n",
        "    is_magenta_hue = 135 < h < 160\n",
        "    is_saturated = s > 100\n",
        "    is_bright = v > 100\n",
        "    is_magenta = is_magenta_hue and is_saturated and is_bright\n",
        "\n",
        "    # Display the results\n",
        "    img = np.ones((1, 1, 3), np.uint8)\n",
        "    img[:, :] *= np.uint8(hsv_color)\n",
        "    img_rgb = cv2.cvtColor(img, cv2.COLOR_HSV2RGB)\n",
        "    create_pixel(img_rgb[0, 0, :])\n",
        "    print(is_magenta)"
      ],
      "metadata": {
        "id": "nRvX-h8CR0Hw"
      },
      "execution_count": null,
      "outputs": []
    },
    {
      "cell_type": "code",
      "source": [
        "h = 139 #@param {type:\"slider\", min:0, max:179, step:1}\n",
        "s = 255 #@param {type:\"slider\", min:0, max:255, step:1}\n",
        "v = 255 #@param {type:\"slider\", min:0, max:255, step:1}\n",
        "\n",
        "check_if_magenta_hsv((h, s, v))"
      ],
      "metadata": {
        "id": "5niE9M52Sb8Z"
      },
      "execution_count": null,
      "outputs": []
    }
  ]
}