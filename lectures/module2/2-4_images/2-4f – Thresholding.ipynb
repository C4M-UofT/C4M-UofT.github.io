{
  "nbformat": 4,
  "nbformat_minor": 0,
  "metadata": {
    "colab": {
      "provenance": [],
      "collapsed_sections": [
        "OBADxK39qJDx",
        "1srpLMr515JA",
        "bHUnIQxJ4l28",
        "VZ4fsbu45MoG",
        "XYs58GtJ9x5B"
      ]
    },
    "kernelspec": {
      "name": "python3",
      "display_name": "Python 3"
    },
    "language_info": {
      "name": "python"
    }
  },
  "cells": [
    {
      "cell_type": "markdown",
      "source": [
        "In this notebook, we're going to talk about how we can binarize our images using thresholding to make them easier to manipulate."
      ],
      "metadata": {
        "id": "zKBYPS5L5yWH"
      }
    },
    {
      "cell_type": "markdown",
      "source": [
        "# Important: Run this code cell each time you start a new session!"
      ],
      "metadata": {
        "id": "OBADxK39qJDx"
      }
    },
    {
      "cell_type": "code",
      "source": [
        "!pip install numpy\n",
        "!pip install pandas\n",
        "!pip install matplotlib\n",
        "!pip install os\n",
        "!pip install opencv-python\n",
        "import numpy as np\n",
        "import pandas as pd\n",
        "import matplotlib.pyplot as plt\n",
        "import os\n",
        "import cv2"
      ],
      "metadata": {
        "id": "yuzcYs-MUBvs"
      },
      "execution_count": null,
      "outputs": []
    },
    {
      "cell_type": "code",
      "source": [
        "!wget -Ncnp https://images.fineartamerica.com/images-medium-large-5/coloured-mri-scan-of-brain-in-sagittal-se-geoff-tompkinson.jpg"
      ],
      "metadata": {
        "id": "bASFcdZNZuGJ"
      },
      "execution_count": null,
      "outputs": []
    },
    {
      "cell_type": "code",
      "source": [
        "import shutil\n",
        "import os\n",
        "orig_file = os.path.join('coloured-mri-scan-of-brain-in-sagittal-se-geoff-tompkinson.jpg')\n",
        "\n",
        "os.rename(orig_file, 'color_mri.jpg')"
      ],
      "metadata": {
        "id": "R_p2CEmcxA5p"
      },
      "execution_count": null,
      "outputs": []
    },
    {
      "cell_type": "markdown",
      "source": [
        "# Global Grayscale Thresholding"
      ],
      "metadata": {
        "id": "1srpLMr515JA"
      }
    },
    {
      "cell_type": "markdown",
      "source": [
        "Thresholding is an important intermediary step of many image processing pipelines as it helps to reduce the range of values in your image. For example, if you apply a binary threshold to an image, the resulting image will only have one of two possible values: `True` and `False` (or `255` and `0` respectively)."
      ],
      "metadata": {
        "id": "iKSDv6bW187y"
      }
    },
    {
      "cell_type": "markdown",
      "source": [
        "For an image that has only one color channel (e.g., a grayscale image), we can use the function `cv2.threshold()` to apply a ***global threshold*** on an image. A global threshold applies the same threshold value for every part of the image, regardless of the underlying image data."
      ],
      "metadata": {
        "id": "GiGI6a1Au9v7"
      }
    },
    {
      "cell_type": "markdown",
      "source": [
        "This function takes the following parameters:\n",
        "* **img:** The image we want to threshold\n",
        "* **thresh:** The boundary value for our threshold\n",
        "* **maxval:** The highest possible value in our image (typically 255)\n",
        "* **type:** The type of theshold we want to apply:\n",
        "\n",
        "| Threshold Type | Purpose | &nbsp;&nbsp;&nbsp;&nbsp;&nbsp;&nbsp;&nbsp;&nbsp;&nbsp;&nbsp;&nbsp;&nbsp;&nbsp;&nbsp;&nbsp;&nbsp;&nbsp;&nbsp;&nbsp;&nbsp;&nbsp;&nbsp;&nbsp;&nbsp;&nbsp;&nbsp;&nbsp;&nbsp;&nbsp;&nbsp;&nbsp;&nbsp;&nbsp;&nbsp;&nbsp;&nbsp;&nbsp;&nbsp;&nbsp;&nbsp;&nbsp;&nbsp;&nbsp; Equation &nbsp;&nbsp;&nbsp;&nbsp;&nbsp;&nbsp;&nbsp;&nbsp;&nbsp;&nbsp;&nbsp;&nbsp;&nbsp;&nbsp;&nbsp;&nbsp;&nbsp;&nbsp;&nbsp;&nbsp;&nbsp;&nbsp;&nbsp;&nbsp;&nbsp;&nbsp;&nbsp;&nbsp;&nbsp;&nbsp;&nbsp;&nbsp;&nbsp;&nbsp;&nbsp;&nbsp;&nbsp;&nbsp;&nbsp;&nbsp;&nbsp;&nbsp;&nbsp;&nbsp; |\n",
        "|:-------:|:---------:|:-------:\n",
        "| `cv2.THRESH_BINARY`| Checks if values fall above a threshold | $\\text{dst}(x,y) = \\begin{cases}\n",
        "\\text{maxval} & \\text{src}(x,y) > \\text{thresh} \\\\\n",
        "0 & \\text{otherwise} \\\\\n",
        "\\end{cases}$ |\n",
        "| `cv2.THRESH_BINARY_INV`| Checks if values fall below a threshold | $\\text{dst}(x,y) = \\begin{cases}\n",
        "0 & \\text{src}(x,y) > \\text{thresh} \\\\\n",
        "\\text{maxval} & \\text{otherwise} \\\\\n",
        "\\end{cases}$ |\n",
        "| `cv2.THRESH_TRUNC`| Truncates values so that the maximum is the threshold | $\\text{dst}(x,y) = \\begin{cases}\n",
        "\\text{threshold} & \\text{src}(x,y) > \\text{thresh} \\\\\n",
        "\\text{src}(x,y) & \\text{otherwise} \\\\\n",
        "\\end{cases}$ |\n",
        "| `cv2.THRESH_TOZERO`| Suppresses all values below the threshold to 0 | $\\text{dst}(x,y) = \\begin{cases}\n",
        "\\text{src}(x,y) & \\text{src}(x,y) > \\text{thresh} \\\\\n",
        "0 & \\text{otherwise} \\\\\n",
        "\\end{cases}$ |\n",
        "| `cv2.THRESH_TOZERO_INV`| Suppresses all values above the threshold to 0 | $\\text{dst}(x,y) = \\begin{cases}\n",
        "0 & \\text{src}(x,y) > \\text{thresh} \\\\\n",
        "\\text{src}(x,y) & \\text{otherwise} \\\\\n",
        "\\end{cases}$ |"
      ],
      "metadata": {
        "id": "llSiZ5nm4c0Z"
      }
    },
    {
      "cell_type": "markdown",
      "source": [
        "For the most part, you will probably be using one of the first two threshold types, so let's see them in action below. Note that the `cv2.threshold()` function technically returns two values, but you will usually only ever care about the second one."
      ],
      "metadata": {
        "id": "dMzQESozz5no"
      }
    },
    {
      "cell_type": "code",
      "source": [
        "# Load the images for this notebook\n",
        "img = cv2.imread('color_mri.jpg')\n",
        "img = cv2.cvtColor(img, cv2.COLOR_BGR2RGB)\n",
        "img_gray = cv2.cvtColor(img, cv2.COLOR_RGB2GRAY)"
      ],
      "metadata": {
        "id": "znstucgarp8O"
      },
      "execution_count": null,
      "outputs": []
    },
    {
      "cell_type": "code",
      "source": [
        "threshold = 190 #@param {type:\"slider\", min:0, max:255, step:5}\n",
        "\n",
        "_, img_above = cv2.threshold(img_gray, threshold, 255, cv2.THRESH_BINARY)\n",
        "_, img_below = cv2.threshold(img_gray, threshold, 255, cv2.THRESH_BINARY_INV)\n",
        "\n",
        "plt.figure(figsize=(6, 6))\n",
        "plt.subplot(2, 1, 1), plt.imshow(img_gray, cmap='gray'), plt.title('Original Gray')\n",
        "plt.subplot(2, 2, 3), plt.imshow(img_below, cmap='gray'), plt.title('Below Threshold')\n",
        "plt.subplot(2, 2, 4), plt.imshow(img_above, cmap='gray'), plt.title('Above Threshold')\n",
        "plt.show()"
      ],
      "metadata": {
        "id": "ald97wAw0fOZ"
      },
      "execution_count": null,
      "outputs": []
    },
    {
      "cell_type": "markdown",
      "source": [
        "You'll probably notice that some thresholds are better than others for keeping key parts of the image and removing others. You can determine the optimal threshold via trial-and-error.\n",
        "\n",
        "However, `opencv` provides a technique called Otsu's method for automatically identifying the \"optimal\" threshold for your image. In short, this technique determines an optimal threshold value by examining the histogram of values in your image and identifying a reasonable value that logically splits it into two halves.\n",
        "\n",
        "The code below shows the same binary thresholds but with Otsu's method (note that the value given as the `threshold` parameter does not matter, but it must be provided)."
      ],
      "metadata": {
        "id": "USt5LC2owhOT"
      }
    },
    {
      "cell_type": "code",
      "source": [
        "_, img_above_otsu = cv2.threshold(img_gray, 0, 255, cv2.THRESH_BINARY + cv2.THRESH_OTSU)\n",
        "_, img_below_otsu = cv2.threshold(img_gray, 0, 255, cv2.THRESH_BINARY_INV + cv2.THRESH_OTSU)\n",
        "\n",
        "plt.figure(figsize=(6, 6))\n",
        "plt.subplot(2, 1, 1), plt.imshow(img_gray, cmap='gray'), plt.title('Original Gray')\n",
        "plt.subplot(2, 2, 3), plt.imshow(img_below_otsu, cmap='gray'), plt.title('Below Threshold w/ Otsu')\n",
        "plt.subplot(2, 2, 4), plt.imshow(img_above_otsu, cmap='gray'), plt.title('Above Threshold w/ Otsu')\n",
        "plt.show()"
      ],
      "metadata": {
        "id": "lGAlPmi62zAP"
      },
      "execution_count": null,
      "outputs": []
    },
    {
      "cell_type": "markdown",
      "source": [
        "# Adaptive Grayscale Thresholding"
      ],
      "metadata": {
        "id": "bHUnIQxJ4l28"
      }
    },
    {
      "cell_type": "markdown",
      "source": [
        "A global threshold may not make sense in all cases. For example, if a scene has different lighting in different regions, then a lower threshold should be used in the regions with dimmer lighting and a higher threshold should be used elsewhere."
      ],
      "metadata": {
        "id": "PqtqTPGK4u1A"
      }
    },
    {
      "cell_type": "markdown",
      "source": [
        "In situations like these, we can use ***adaptive thresholding*** by calling `cv2.adaptiveThreshold()`. This function divides the image into distinct blocks (i.e., like a sliding window where width == stride), computes the ideal threshold for block, and then applies the local threshold to each block."
      ],
      "metadata": {
        "id": "Ra9pgser5EcA"
      }
    },
    {
      "cell_type": "markdown",
      "source": [
        "This function takes the following parameters:\n",
        "* **img:** The image we want to threshold\n",
        "* **maxval:** The highest possible value in our image (typically 255)\n",
        "* **adaptiveMethod:** The type of theshold we want to apply:\n",
        "\n",
        "| Threshold Type | Outcome |\n",
        "|:-------:|:---------:|\n",
        "| `cv2.ADAPTIVE_THRESH_MEAN_C` | The threshold is the mean of the neighborhood area minus the constant C |\n",
        "| `cv2.ADAPTIVE_THRESH_GAUSSIAN_C` | The threshold is a Gaussian-weighted sum of the neighborhood values minus the constant C |\n",
        "\n",
        "* **thresholdType:** The type of theshold we want to apply (see `cv2.threshold()`)\n",
        "* **blockSize:** The width of the square blocks for determining local neighborhoods of pixels\n",
        "* **C:** The constant referenced under `adaptiveMethod` (setting to a small positive value is usually good)\n"
      ],
      "metadata": {
        "id": "ldYBWNTh59hd"
      }
    },
    {
      "cell_type": "code",
      "source": [
        "blockSize = 51 #@param {type:\"slider\", min:11, max:51, step:10}\n",
        "img_above_adaptmean = \\\n",
        "cv2.adaptiveThreshold(img_gray, 255,\n",
        "                      cv2.ADAPTIVE_THRESH_GAUSSIAN_C, cv2.THRESH_BINARY, blockSize, 2)\n",
        "\n",
        "plt.figure(figsize=(6, 3))\n",
        "plt.subplot(1, 2, 1), plt.imshow(img_gray, cmap='gray'), plt.title('Original Gray')\n",
        "plt.subplot(1, 2, 2), plt.imshow(img_above_adaptmean, cmap='gray'), plt.title('Adaptive Threshold w/ Gaussian')\n",
        "plt.show()"
      ],
      "metadata": {
        "id": "mL4SuYRt7G4N"
      },
      "execution_count": null,
      "outputs": []
    },
    {
      "cell_type": "markdown",
      "source": [
        "# Global Color Thresholding"
      ],
      "metadata": {
        "id": "VZ4fsbu45MoG"
      }
    },
    {
      "cell_type": "markdown",
      "source": [
        "The thresholding techniques we've discussed up until this point only work on grayscale images. As you can imagine, there will be times when you will want to apply thresholds to highlight pixels of a specific color. We can do this using the function `cv2.inRange()`."
      ],
      "metadata": {
        "id": "YjEFGp595QPK"
      }
    },
    {
      "cell_type": "markdown",
      "source": [
        "Beyond accepting the original image as an input, the function `cv2.inRange()` allows you to specific the lower bound and upper bound for all the color channels in your image. The example below allows you to specify an RGB color and a tolerance for those values:"
      ],
      "metadata": {
        "id": "AnyexZZxU2zp"
      }
    },
    {
      "cell_type": "code",
      "source": [
        "target_r = 190 #@param {type:\"slider\", min:0, max:255, step:5}\n",
        "target_g = 0 #@param {type:\"slider\", min:0, max:255, step:5}\n",
        "target_b = 0 #@param {type:\"slider\", min:0, max:255, step:5}\n",
        "tolerance = 30 #@param {type:\"slider\", min:5, max:30, step:5}\n",
        "\n",
        "# Define the boundaries\n",
        "lower_bound = (target_r-tolerance, target_g-tolerance, target_b-tolerance)\n",
        "upper_bound = (target_r+tolerance, target_g+tolerance, target_b+tolerance)\n",
        "\n",
        "# Apply the threshold\n",
        "img_thresh = cv2.inRange(img, lower_bound, upper_bound)\n",
        "\n",
        "# Show the results\n",
        "plt.figure(figsize=(6, 3))\n",
        "plt.subplot(1, 2, 1), plt.imshow(img), plt.title('Original')\n",
        "plt.subplot(1, 2, 2), plt.imshow(img_thresh, cmap='gray'), plt.title('Above Threshold')\n",
        "plt.show()"
      ],
      "metadata": {
        "id": "blPw_FlLU-fH"
      },
      "execution_count": null,
      "outputs": []
    },
    {
      "cell_type": "markdown",
      "source": [
        "Coming up with the right bounds to isolate the desired part of an image can be challenging. Fortunately, this function works in any color space (including grayscale), so you can convert your image before thresholding your image if you find it easier to think about your desired output in a color space other than RGB. For example, the code cell below allows you to threshold an image according to the HSV color space."
      ],
      "metadata": {
        "id": "cSi_X3ZgVMZ-"
      }
    },
    {
      "cell_type": "code",
      "source": [
        "lower_h = 20 #@param {type:\"slider\", min:0, max:179, step:5}\n",
        "upper_h = 90 #@param {type:\"slider\", min:0, max:179, step:5}\n",
        "lower_s = 150 #@param {type:\"slider\", min:0, max:255, step:5}\n",
        "upper_s = 255 #@param {type:\"slider\", min:0, max:255, step:5}\n",
        "lower_v = 160 #@param {type:\"slider\", min:0, max:255, step:5}\n",
        "upper_v = 255 #@param {type:\"slider\", min:0, max:255, step:5}\n",
        "\n",
        "# Define the boundaries\n",
        "lower_bound = (lower_h, lower_s, lower_v)\n",
        "upper_bound = (upper_h, upper_s, upper_v)\n",
        "\n",
        "# Apply the threshold on the HSV image\n",
        "img_hsv = cv2.cvtColor(img, cv2.COLOR_RGB2HSV)\n",
        "img_thresh = cv2.inRange(img, lower_bound, upper_bound)\n",
        "\n",
        "# Show the results\n",
        "plt.figure(figsize=(6, 3))\n",
        "plt.subplot(1, 2, 1), plt.imshow(img), plt.title('Original')\n",
        "plt.subplot(1, 2, 2), plt.imshow(img_thresh, cmap='gray'), plt.title('Above Threshold')\n",
        "plt.show()"
      ],
      "metadata": {
        "id": "Rfz0usJPXO6X"
      },
      "execution_count": null,
      "outputs": []
    },
    {
      "cell_type": "markdown",
      "source": [
        "# Combining Binary Images"
      ],
      "metadata": {
        "id": "XYs58GtJ9x5B"
      }
    },
    {
      "cell_type": "markdown",
      "source": [
        "What if you can't come up with a single threshold rule to get your desired output? For example, what if you wanted to get all of the pixels that were either near-white *or* near-black?"
      ],
      "metadata": {
        "id": "fBnWw8Gx9zik"
      }
    },
    {
      "cell_type": "markdown",
      "source": [
        "We can combine binary images using `cv2.bitwise_or()` and `cv2.bitwise_and()`. As their names imply, the first function combines two binary images using the logical \"or\" operator, while the second function combines two binary images using the logical \"and\" operator."
      ],
      "metadata": {
        "id": "9se52nOcbkOE"
      }
    },
    {
      "cell_type": "markdown",
      "source": [
        "In the code cell below, we've used two separate thresholds to isolate extreme bright and dark regions in our grayscale image, and then we've combined those binary images using `cv2.bitwise_or()`."
      ],
      "metadata": {
        "id": "ryX6VbeRaRv6"
      }
    },
    {
      "cell_type": "code",
      "source": [
        "# Filter for dark pixels\n",
        "img_dark = cv2.inRange(img_gray, 0, 20)\n",
        "\n",
        "# Filter for bright pixels\n",
        "img_bright = cv2.inRange(img_gray, 200, 255)\n",
        "\n",
        "# Combine into a final image\n",
        "img_thresh = cv2.bitwise_or(img_dark, img_bright)\n",
        "\n",
        "# Show the results\n",
        "plt.figure(figsize=(6, 6))\n",
        "plt.subplot(2, 2, 1), plt.imshow(img_gray, cmap='gray'), plt.title('Original')\n",
        "plt.subplot(2, 2, 2), plt.imshow(img_thresh, cmap='gray'), plt.title('Final Result')\n",
        "plt.subplot(2, 2, 3), plt.imshow(img_dark, cmap='gray'), plt.title('Dark Only')\n",
        "plt.subplot(2, 2, 4), plt.imshow(img_bright, cmap='gray'), plt.title('Bright Only')\n",
        "plt.show()"
      ],
      "metadata": {
        "id": "K4CIj_Q-ZCrb"
      },
      "execution_count": null,
      "outputs": []
    }
  ]
}