{
  "nbformat": 4,
  "nbformat_minor": 0,
  "metadata": {
    "colab": {
      "provenance": [],
      "collapsed_sections": [
        "B6v86VjQmIrK",
        "7XJJtyIRQgSQ",
        "ckicG5ai2Mbe"
      ]
    },
    "kernelspec": {
      "display_name": "Python 3",
      "language": "python",
      "name": "python3"
    },
    "language_info": {
      "codemirror_mode": {
        "name": "ipython",
        "version": 3
      },
      "file_extension": ".py",
      "mimetype": "text/x-python",
      "name": "python",
      "nbconvert_exporter": "python",
      "pygments_lexer": "ipython3",
      "version": "3.8.2"
    }
  },
  "cells": [
    {
      "cell_type": "markdown",
      "metadata": {
        "id": "B6v86VjQmIrK"
      },
      "source": [
        "# Important: Run this code cell each time you start a new session!"
      ]
    },
    {
      "cell_type": "code",
      "source": [
        "!pip install numpy\n",
        "!pip install pandas\n",
        "!pip install matplotlib\n",
        "!pip install os\n",
        "!pip install opencv-python\n",
        "import numpy as np\n",
        "import pandas as pd\n",
        "import matplotlib.pyplot as plt\n",
        "import os\n",
        "import cv2"
      ],
      "metadata": {
        "id": "jrO0X1ZMxMN5"
      },
      "execution_count": null,
      "outputs": []
    },
    {
      "cell_type": "code",
      "source": [
        "!wget -Ncnp https://physionet.org/files/images/1.0.0/E1154S7I000.png\n",
        "!wget -Ncnp https://physionet.org/files/images/1.0.0/E1154S7I024.png"
      ],
      "metadata": {
        "id": "mD9SEZljuFVA"
      },
      "execution_count": null,
      "outputs": []
    },
    {
      "cell_type": "code",
      "source": [
        "import shutil\n",
        "import os\n",
        "orig_file = os.path.join('E1154S7I000.png')\n",
        "os.rename(orig_file, 'bw_mra_single.png')\n",
        "orig_file = os.path.join('E1154S7I024.png')\n",
        "os.rename(orig_file, 'bw_mra_multiple.png')"
      ],
      "metadata": {
        "id": "o8I8wOuMuPOn"
      },
      "execution_count": null,
      "outputs": []
    },
    {
      "cell_type": "code",
      "source": [
        "import os, datetime, json, locale, pathlib, urllib, requests, werkzeug, nbformat, google, yaml, warnings\n",
        "def colab2pdf():\n",
        "    locale.setlocale(locale.LC_ALL, 'en_US.UTF-8')\n",
        "    NAME = pathlib.Path(werkzeug.utils.secure_filename(urllib.parse.unquote(requests.get(f\"http://{os.environ['COLAB_JUPYTER_IP']}:{os.environ['KMP_TARGET_PORT']}/api/sessions\").json()[0][\"name\"])))\n",
        "    TEMP = pathlib.Path(\"/content/pdfs\") / f\"{datetime.datetime.now().strftime('%Y%m%d_%H%M%S')}_{NAME.stem}\"; TEMP.mkdir(parents=True, exist_ok=True)\n",
        "    NB = [cell for cell in nbformat.reads(json.dumps(google.colab._message.blocking_request(\"get_ipynb\", timeout_sec=30)[\"ipynb\"]), as_version=4).cells if \"--Colab2PDF\" not in cell.source]\n",
        "    warnings.filterwarnings('ignore', category=nbformat.validator.MissingIDFieldWarning)\n",
        "    with (TEMP / f\"{NAME.stem}.ipynb\").open(\"w\", encoding=\"utf-8\") as nb_copy: nbformat.write(nbformat.v4.new_notebook(cells=NB or [nbformat.v4.new_code_cell(\"#\")]), nb_copy)\n",
        "    if not pathlib.Path(\"/usr/local/bin/quarto\").exists():\n",
        "        !wget -q \"https://quarto.org/download/latest/quarto-linux-amd64.deb\" -P {TEMP} && dpkg -i {TEMP}/quarto-linux-amd64.deb > /dev/null && quarto install tinytex --update-path --quiet\n",
        "    with (TEMP / \"config.yml\").open(\"w\", encoding=\"utf-8\") as file: yaml.dump({'include-in-header': [{\"text\": r\"\\usepackage{fvextra}\\DefineVerbatimEnvironment{Highlighting}{Verbatim}{breaksymbolleft={},showspaces=false,showtabs=false,breaklines,breakanywhere,commandchars=\\\\\\{\\}}\"}],'include-before-body': [{\"text\": r\"\\DefineVerbatimEnvironment{verbatim}{Verbatim}{breaksymbolleft={},showspaces=false,showtabs=false,breaklines}\"}]}, file)\n",
        "    !quarto render {TEMP}/{NAME.stem}.ipynb --metadata-file={TEMP}/config.yml --to pdf -M latex-auto-install -M margin-top=1in -M margin-bottom=1in -M margin-left=1in -M margin-right=1in --quiet\n",
        "    google.colab.files.download(str(TEMP / f\"{NAME.stem}.pdf\"))"
      ],
      "metadata": {
        "id": "TMsVpVGuyLQD"
      },
      "execution_count": null,
      "outputs": []
    },
    {
      "cell_type": "markdown",
      "metadata": {
        "id": "IhQvi7z1v6rm"
      },
      "source": [
        "# Instructions"
      ]
    },
    {
      "cell_type": "markdown",
      "source": [
        "Please complete all of the exercises below. Across this module, some of the exercises are expected to produce very specific outputs, while others may have a variety of reasonable answers."
      ],
      "metadata": {
        "id": "FmZhTZTraQGQ"
      }
    },
    {
      "cell_type": "markdown",
      "source": [
        "# Exercise 1: Working with Basic Shapes and Colors"
      ],
      "metadata": {
        "id": "7XJJtyIRQgSQ"
      }
    },
    {
      "cell_type": "markdown",
      "source": [
        "This exercise will require drawing shapes on a blank image created using the following function:"
      ],
      "metadata": {
        "id": "xtwly1OhRpGP"
      }
    },
    {
      "cell_type": "code",
      "source": [
        "def create_black_img():\n",
        "    return np.zeros((300,300,3), np.uint8)"
      ],
      "metadata": {
        "id": "xChw-dSJQk_u"
      },
      "execution_count": null,
      "outputs": []
    },
    {
      "cell_type": "markdown",
      "source": [
        "**(Part 1)** Write code that draws a red circle with the following properties:\n",
        "* Center at position `x = 250, y = 100`\n",
        "* Radius of `25`\n",
        "* Outline thickness of `3`"
      ],
      "metadata": {
        "id": "7gEjqGWZR9r4"
      }
    },
    {
      "cell_type": "code",
      "source": [
        "img = create_black_img()\n",
        "\n",
        "# Write your code here\n",
        "\n",
        "plt.figure(figsize=(3, 3))\n",
        "plt.imshow(img)\n",
        "plt.show()"
      ],
      "metadata": {
        "id": "DFNaewqkSvUh"
      },
      "execution_count": null,
      "outputs": []
    },
    {
      "cell_type": "markdown",
      "source": [
        "**(Part 2)** Write code that draws a filled magenta rectangle with the following properties:\n",
        "* Top left corner at position `x = 50, y = 100`\n",
        "* Height of `50`\n",
        "* Width of `100`\n"
      ],
      "metadata": {
        "id": "umOgE7tZQ4IZ"
      }
    },
    {
      "cell_type": "code",
      "source": [
        "img = create_black_img()\n",
        "\n",
        "# Write your code here\n",
        "\n",
        "plt.figure(figsize=(3, 3))\n",
        "plt.imshow(img)\n",
        "plt.show()"
      ],
      "metadata": {
        "id": "jjQT41bURWLg"
      },
      "execution_count": null,
      "outputs": []
    },
    {
      "cell_type": "markdown",
      "source": [
        "**(Part 3)** Write code that draws a filled white ellipse with the following properties:\n",
        "* Center at position `x = 100, y = 200`\n",
        "* Major axis of `100`\n",
        "* Minor axis of `25`\n",
        "* No rotation"
      ],
      "metadata": {
        "id": "Z0rRrjwrTUDc"
      }
    },
    {
      "cell_type": "code",
      "source": [
        "img = create_black_img()\n",
        "\n",
        "# Write your code here\n",
        "\n",
        "plt.figure(figsize=(3, 3))\n",
        "plt.imshow(img)\n",
        "plt.show()"
      ],
      "metadata": {
        "id": "d62CLFCsTvr0"
      },
      "execution_count": null,
      "outputs": []
    },
    {
      "cell_type": "markdown",
      "source": [
        "# Exercise 2: Identifying a Region of Interest in an MRA Image"
      ],
      "metadata": {
        "id": "ckicG5ai2Mbe"
      }
    },
    {
      "cell_type": "markdown",
      "source": [
        "This exercise will revolve around a magnetic resonance angiography (MRA) image showing a coronal slice from an anteroposterior position within the torso. We have already taken the liberty of applying a binary threshold to reveal the prominent regions of the MRA image."
      ],
      "metadata": {
        "id": "0DWUqG9Z3fJG"
      }
    },
    {
      "cell_type": "code",
      "source": [
        "img = cv2.imread('bw_mra_multiple.png')\n",
        "img_gray = cv2.cvtColor(img, cv2.COLOR_RGB2GRAY)\n",
        "_, img_thresh = cv2.threshold(img_gray, 200, 255, cv2.THRESH_BINARY)\n",
        "\n",
        "plt.figure(figsize=(6, 3))\n",
        "plt.subplot(1, 2, 1), plt.title('Original Image')\n",
        "plt.imshow(img)\n",
        "plt.subplot(1, 2, 2), plt.title('Thresholded Image')\n",
        "plt.imshow(img_thresh, cmap='gray')\n",
        "plt.show()"
      ],
      "metadata": {
        "id": "Xm0Kq1yM3fJH"
      },
      "execution_count": null,
      "outputs": []
    },
    {
      "cell_type": "markdown",
      "source": [
        "Notice that the binary image still contains numerous regions: three prominent ones along the center and right side of the image, and many smaller ones along the left side and the periphery. Our goal is to measure the radius of the round blob in the upper half of the image."
      ],
      "metadata": {
        "id": "YX8AR1fqMSXK"
      }
    },
    {
      "cell_type": "markdown",
      "source": [
        "**(Part 1)** Write code that collects a list of the contours corresponding to the three largest regions in the binary image. There are multiple ways of doing this, but here are a couple of suggestions:\n",
        "1. Sort all of the contours by their size and then pick the three largest shapes\n",
        "2. Iterate through the contours and keep the ones whose size exceed a minimum threshold defined by you\n",
        "\n",
        "To confirm that this is working properly, draw green outlines around these regions using the code provided."
      ],
      "metadata": {
        "id": "sH4HFMfs6QBi"
      }
    },
    {
      "cell_type": "code",
      "source": [
        "# Write your code here\n",
        "large_cnts = [] # TODO: write code that will save the large contours here\n",
        "\n",
        "# Draw the outlines on the image\n",
        "output_img = img.copy()\n",
        "for cnt in large_cnts:\n",
        "    cv2.drawContours(output_img, [cnt], -1, (0, 255, 0), 3)\n",
        "\n",
        "# Show the result\n",
        "plt.figure(figsize=(6, 3))\n",
        "plt.imshow(output_img, cmap='gray')\n",
        "plt.show()"
      ],
      "metadata": {
        "id": "mBOeY12sJu4L"
      },
      "execution_count": null,
      "outputs": []
    },
    {
      "cell_type": "markdown",
      "source": [
        "**(Part 2)** Write code that identifies the most circular contour out of the three regions that were selected in the previous problem. Draw a green outline around it using the code provided.\n",
        "\n",
        "*Hint:* Think about the contour properties we covered during the lecture. A circle is a special kind of ellipse where the major and minor axes are equal."
      ],
      "metadata": {
        "id": "_06qfRD9Jvq_"
      }
    },
    {
      "cell_type": "code",
      "source": [
        "# Write your code here\n",
        "circular_cnt = None # TODO: write code that will save the circular contour here\n",
        "\n",
        "# Draw the outlines on the image\n",
        "output_img = img.copy()\n",
        "cv2.drawContours(output_img, [circular_cnt], -1, (0, 255, 0), 3)\n",
        "\n",
        "# Show the result\n",
        "plt.figure(figsize=(6, 3))\n",
        "plt.imshow(output_img, cmap='gray')\n",
        "plt.show()"
      ],
      "metadata": {
        "id": "u4i6qrHDJwIJ"
      },
      "execution_count": null,
      "outputs": []
    },
    {
      "cell_type": "markdown",
      "source": [
        "**(Part 3)** Write code that calculates the radius of the circular region that you have identified in pixels."
      ],
      "metadata": {
        "id": "cnNmSd5RKK-p"
      }
    },
    {
      "cell_type": "code",
      "source": [
        "# Write your code here"
      ],
      "metadata": {
        "id": "0Qmwz3dYKN7s"
      },
      "execution_count": null,
      "outputs": []
    },
    {
      "cell_type": "markdown",
      "source": [
        "# Prepare Submission"
      ],
      "metadata": {
        "id": "NvWnOApDRK4P"
      }
    },
    {
      "cell_type": "markdown",
      "source": [
        "To get full credit for this assignment, you should submit your assignment in two formats so that we can easily grade and debug your code:\n",
        "1. **.ipynb:** First, confirm that your code can run from start to finish without any errors. To check this, go to \"Runtime\" > \"Run all\" in the Google Colab menu. If everything looks good, you can export your file by going to \"File\" > \"Download\" > \"Download .ipynb\".\n",
        "2. **.pdf:** Run the function called `colab2pdf()` below. This will automatically convert your notebook to a PDF. Note that while \"File\" > \"Print\" > \"Save as PDF\" also works, it requires you to manually expand all of the cells and may cut off some images."
      ],
      "metadata": {
        "id": "OgyHPvPRy8ca"
      }
    },
    {
      "cell_type": "code",
      "source": [
        "colab2pdf()"
      ],
      "metadata": {
        "id": "KOGsHYKWS8uK"
      },
      "execution_count": null,
      "outputs": []
    }
  ]
}