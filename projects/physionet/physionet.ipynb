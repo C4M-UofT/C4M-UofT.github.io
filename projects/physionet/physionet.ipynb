{
 "cells": [
  {
   "cell_type": "code",
   "execution_count": 1,
   "metadata": {},
   "outputs": [],
   "source": [
    "import pandas as pd\n",
    "import numpy as np\n",
    "from sklearn.ensemble import RandomForestClassifier\n",
    "from sklearn.neighbors import KNeighborsClassifier\n",
    "from sklearn.tree import DecisionTreeClassifier\n",
    "from sklearn.neural_network import MLPClassifier\n",
    "from sklearn.model_selection import GroupKFold, StratifiedKFold, train_test_split\n",
    "from sklearn.metrics import precision_score, recall_score, accuracy_score\n",
    "from imblearn.under_sampling import RandomUnderSampler\n",
    "\n",
    "from cache_em_all import Cachable\n",
    "\n",
    "import os"
   ]
  },
  {
   "cell_type": "code",
   "execution_count": 2,
   "metadata": {},
   "outputs": [],
   "source": [
    "DATA_DIR = \"training\" # Path to the data\n",
    "\n",
    "# Names of all columns in the data that contain physiological data\n",
    "physiological_cols = ['HR', 'O2Sat', 'Temp', 'SBP', 'MAP', 'DBP', 'Resp', 'EtCO2',\n",
    "       'BaseExcess', 'HCO3', 'FiO2', 'pH', 'PaCO2', 'SaO2', 'AST', 'BUN',\n",
    "       'Alkalinephos', 'Calcium', 'Chloride', 'Creatinine', 'Bilirubin_direct',\n",
    "       'Glucose', 'Lactate', 'Magnesium', 'Phosphate', 'Potassium',\n",
    "       'Bilirubin_total', 'TroponinI', 'Hct', 'Hgb', 'PTT', 'WBC',\n",
    "       'Fibrinogen', 'Platelets']\n",
    "\n",
    "# Names of all columns in the data that contain demographic data\n",
    "demographic_cols = ['Age', 'Gender', 'Unit1', 'Unit2', 'HospAdmTime', 'ICULOS']\n",
    "\n",
    "# The combination of physiological and demographic data is what we will use as features in our model\n",
    "feature_cols = physiological_cols + demographic_cols\n",
    "\n",
    "# The name of the column that contains the value we are trying to predic\n",
    "label_col = \"SepsisLabel\"\n",
    "\n",
    "# Pre-calculated means and standard deviation of all physiological and demographic columns. We will use this to normalize\n",
    "# data using their z-score. This isn't as important for simpler models such as random forests and decision trees,\n",
    "# but can result in significant improvements when using neural networks\n",
    "physiological_mean = np.array([\n",
    "        83.8996, 97.0520,  36.8055,  126.2240, 86.2907,\n",
    "        66.2070, 18.7280,  33.7373,  -3.1923,  22.5352,\n",
    "        0.4597,  7.3889,   39.5049,  96.8883,  103.4265,\n",
    "        22.4952, 87.5214,  7.7210,   106.1982, 1.5961,\n",
    "        0.6943,  131.5327, 2.0262,   2.0509,   3.5130,\n",
    "        4.0541,  1.3423,   5.2734,   32.1134,  10.5383,\n",
    "        38.9974, 10.5585,  286.5404, 198.6777])\n",
    "physiological_std = np.array([\n",
    "        17.6494, 3.0163,  0.6895,   24.2988, 16.6459,\n",
    "        14.0771, 4.7035,  11.0158,  3.7845,  3.1567,\n",
    "        6.2684,  0.0710,  9.1087,   3.3971,  430.3638,\n",
    "        19.0690, 81.7152, 2.3992,   4.9761,  2.0648,\n",
    "        1.9926,  45.4816, 1.6008,   0.3793,  1.3092,\n",
    "        0.5844,  2.5511,  20.4142,  6.4362,  2.2302,\n",
    "        29.8928, 7.0606,  137.3886, 96.8997])\n",
    "demographic_mean = np.array([60.8711, 0.5435, 0.0615, 0.0727, -59.6769, 28.4551])\n",
    "demographic_std = np.array([16.1887, 0.4981, 0.7968, 0.8029, 160.8846, 29.5367])"
   ]
  },
  {
   "cell_type": "code",
   "execution_count": 3,
   "metadata": {},
   "outputs": [],
   "source": [
    "def load_single_file(file_path):\n",
    "    # TODO: Implement helper function: load_single_file\n",
    "    pass"
   ]
  },
  {
   "cell_type": "code",
   "execution_count": 4,
   "metadata": {},
   "outputs": [],
   "source": [
    "def get_data_files():\n",
    "    return [os.path.join(DATA_DIR, x) for x in sorted(os.listdir(DATA_DIR)) if int(x[1:-4]) % 5 > 0]\n",
    "\n",
    "def clean_data(data):\n",
    "    data.reset_index(inplace=True, drop=True)\n",
    "\n",
    "    # Normalizes physiological and demographic data using z-score.\n",
    "    data[physiological_cols] = (data[physiological_cols] - physiological_mean) / physiological_std\n",
    "    data[demographic_cols] = (data[demographic_cols] - demographic_mean) / demographic_std\n",
    "\n",
    "    # Maps invalid numbers (NaN, inf, -inf) to numbers (0, really large number, really small number)\n",
    "    data[feature_cols] = np.nan_to_num(data[feature_cols])\n",
    "\n",
    "    return data\n",
    "\n",
    "\n",
    "# @Cachable(\"data.csv\")\n",
    "def load_data():\n",
    "    # TODO: Implement helper function: load_data\n",
    "    pass"
   ]
  },
  {
   "cell_type": "code",
   "execution_count": 5,
   "metadata": {},
   "outputs": [],
   "source": [
    "def evaluate(actual, predicted, prefix=\"\"):\n",
    "    precision = precision_score(actual, predicted)\n",
    "    recall = recall_score(actual, predicted)\n",
    "    accuracy = accuracy_score(actual, predicted)\n",
    "\n",
    "    print(\"%s Precision: %.3f%%, Recall: %.3f%%, Accuracy: %.3f%%\" % (prefix, precision * 100, recall * 100, accuracy * 100))\n",
    "\n",
    "def train_simple(data, feature_cols, label_col):\n",
    "    # TODO: Implement helper function: train_simple\n",
    "    pass"
   ]
  },
  {
   "cell_type": "code",
   "execution_count": 6,
   "metadata": {},
   "outputs": [],
   "source": [
    "def train_stratified(data, feature_cols, label_col, stratify_col):\n",
    "    X = data[feature_cols]\n",
    "    y = data[label_col]\n",
    "    group = data[stratify_col]\n",
    "\n",
    "    train_pred = []\n",
    "    train_actual = []\n",
    "\n",
    "    test_pred = []\n",
    "    test_actual = []\n",
    "\n",
    "    kf = GroupKFold(n_splits=5)\n",
    "    for train_idx, test_idx in kf.split(X, y, group):\n",
    "        X_train, y_train = X.iloc[train_idx], y.iloc[train_idx]\n",
    "        X_test, y_test = X.iloc[test_idx], y.iloc[test_idx]\n",
    "\n",
    "        # TODO: Implement your classifier here\n",
    "\n",
    "        train_pred.extend(clf.predict(X_train))\n",
    "        train_actual.extend(y_train)\n",
    "\n",
    "        test_pred.extend(clf.predict(X_test))\n",
    "        test_actual.extend(y_test)\n",
    "\n",
    "\n",
    "\n",
    "    evaluate(train_actual, train_pred, \"Train\")\n",
    "    evaluate(test_actual, test_pred, \"Test\")"
   ]
  }
 ],
 "metadata": {
  "kernelspec": {
   "display_name": "Python 3",
   "language": "python",
   "name": "python3"
  },
  "language_info": {
   "codemirror_mode": {
    "name": "ipython",
    "version": 3
   },
   "file_extension": ".py",
   "mimetype": "text/x-python",
   "name": "python",
   "nbconvert_exporter": "python",
   "pygments_lexer": "ipython3",
   "version": "3.7.0"
  }
 },
 "nbformat": 4,
 "nbformat_minor": 1
}
