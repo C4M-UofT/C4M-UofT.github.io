{
  "cells": [
    {
      "cell_type": "markdown",
      "metadata": {
        "id": "lDXoJmoZJ4M6"
      },
      "source": [
        "## Important: Run this code cell each time you start a new session!"
      ]
    },
    {
      "cell_type": "code",
      "execution_count": null,
      "metadata": {
        "id": "CR3MVg81IvWX",
        "jupyter": {
          "source_hidden": true
        }
      },
      "outputs": [],
      "source": [
        "# Do not edit this cell\n",
        "def test_homework(test_name, actual, expected):\n",
        "  if actual == expected:\n",
        "    print(f\"Test passed: {test_name}.\")\n",
        "    return 1\n",
        "  else:\n",
        "    print(f\"Test failed: {test_name}. Expected {expected}, got {actual}\")\n",
        "    return 0\n",
        "\n",
        "def compare_hw_scores(score, max_score):\n",
        "  if score == max_score:\n",
        "    print(\"All test cases passed!\")\n",
        "  print(f\"Mark: {score} / {max_score}\")\n",
        "\n",
        "def sort_dist_dict(dist_dict):\n",
        "  new_dict = {}\n",
        "  for city in dist_dict:\n",
        "    new_dict[city] = sorted(dist_dict[city])\n",
        "  return new_dict\n",
        "\n",
        "def round_probs(probs_dict):\n",
        "  new_dict = {}\n",
        "  for src in probs_dict:\n",
        "    old_list = probs_dict[src]\n",
        "    new_list = []\n",
        "    for tup in old_list:\n",
        "      new_list.append((tup[0], round(tup[1], 5)))\n",
        "    new_dict[src] = new_list\n",
        "  return new_dict\n",
        "\n",
        "print(\"Done!\")"
      ]
    },
    {
      "cell_type": "markdown",
      "metadata": {
        "id": "S53yKXI1NEf-"
      },
      "source": [
        "# Instructions"
      ]
    },
    {
      "cell_type": "markdown",
      "source": [
        "To get full credit for this assignment, we should be able to run your code all the way through the autograder without any errors. To check this, click the text cell ***immediately after*** the final autograder, then go to \"Runtime\" > \"Run before\" in the Google Colab menu. \n",
        "\n",
        "Your final program should also work according to the specifications without any issues."
      ],
      "metadata": {
        "id": "YY9ZmQtCKylQ"
      }
    },
    {
      "cell_type": "markdown",
      "metadata": {
        "id": "oYNPjdsGA6Sm"
      },
      "source": [
        "# Part 1"
      ]
    },
    {
      "cell_type": "markdown",
      "metadata": {
        "id": "P87BSNfLBD7O"
      },
      "source": [
        "## Part 1a: `get_closest()`"
      ]
    },
    {
      "cell_type": "markdown",
      "source": [
        "Complete the following function according to its docstring."
      ],
      "metadata": {
        "id": "V7LjMN5f5LLs"
      }
    },
    {
      "cell_type": "code",
      "execution_count": null,
      "metadata": {
        "id": "u4gySwW4A3_R"
      },
      "outputs": [],
      "source": [
        "def get_closest(unvisited):\n",
        "    \"\"\" (list of (str, int)) -> (str, int)\n",
        "    \n",
        "    Return a tuple from list unvisited that has the shortest distance\n",
        "    (return the first such tuple in case of ties). Assumes unvisited is not\n",
        "    empty.\n",
        "    \n",
        "    Parameters:\n",
        "        unvisited -- a list of (city_name, distance) pairs\n",
        "    Return value:\n",
        "        the first tuple in unvisited whose distance is minimum\n",
        "    Side-effects:\n",
        "        None\n",
        "    \n",
        "    Examples:\n",
        "    >>> get_closest([('A', 3)])\n",
        "    ('A', 3)\n",
        "    >>> get_closest([('A', 3), ('B', 2)])\n",
        "    ('B', 2)\n",
        "    >>> get_closest([('A', 3), ('C', 4)])\n",
        "    ('A', 3)\n",
        "    >>> get_closest([('A', 3), ('B', 2), ('C', 4), ('D', 2)])\n",
        "    ('B', 2)\n",
        "    \"\"\"\n",
        "    # Write your code here"
      ]
    },
    {
      "cell_type": "code",
      "execution_count": null,
      "metadata": {
        "id": "MdZJUl1pBT2Y"
      },
      "outputs": [],
      "source": [
        "# Test your function here"
      ]
    },
    {
      "cell_type": "markdown",
      "metadata": {
        "id": "Gc783ehXJ4NB"
      },
      "source": [
        "### Run the hidden code cell to evaluate Part 1a"
      ]
    },
    {
      "cell_type": "code",
      "execution_count": null,
      "metadata": {
        "id": "-dMw8ock5I2s",
        "jupyter": {
          "source_hidden": true
        }
      },
      "outputs": [],
      "source": [
        "# Do not edit this cell\n",
        "def check_part1a():\n",
        "  ex_score, max_ex_score = 0, 0\n",
        "\n",
        "  ex_score += test_homework(\"Only one option\", get_closest([('A', 3)]), ('A', 3))\n",
        "  max_ex_score += 1\n",
        "  ex_score += test_homework(\"One shorter than the other\", get_closest([('A', 3), ('B', 2)]), ('B', 2))\n",
        "  max_ex_score += 1\n",
        "  ex_score += test_homework(\"One shorter than the rest\", get_closest([('A', 3), ('B', 1), ('C', 4), ('D', 2)]), ('B', 1))\n",
        "  max_ex_score += 1\n",
        "  ex_score += test_homework(\"Tie for shortest, pick first\", get_closest([('A', 3), ('C', 4)]), ('A', 3))\n",
        "  max_ex_score += 1\n",
        "\n",
        "  compare_hw_scores(ex_score, max_ex_score)\n",
        "  return ex_score, max_ex_score\n",
        "\n",
        "_ = check_part1a()"
      ]
    },
    {
      "cell_type": "markdown",
      "metadata": {
        "id": "1-sA2X9YBTFE"
      },
      "source": [
        "## Part 1b: `find_city()`"
      ]
    },
    {
      "cell_type": "markdown",
      "source": [
        "Complete the following function according to its docstring."
      ],
      "metadata": {
        "id": "nxeDMTyr5J4J"
      }
    },
    {
      "cell_type": "code",
      "execution_count": null,
      "metadata": {
        "id": "cOPHPWXeBUuz"
      },
      "outputs": [],
      "source": [
        "def find_city(city, city_list):\n",
        "    \"\"\" (str, list of (str, int)) -> int\n",
        "    \n",
        "    Return the index of the first tuple that contains city in city_list, or\n",
        "    -1 if city does not appear in city_list.\n",
        "    \n",
        "    Parameters:\n",
        "        city -- the name of a city to look for (a string)\n",
        "        city_list -- a list of tuples of the form (city_name, distance)\n",
        "    Return value:\n",
        "        the index of the first tuple in city_list that contains city; -1 if no\n",
        "        tuple in city_list contains city\n",
        "    Side-effects:\n",
        "        None\n",
        "    \n",
        "    Examples:\n",
        "    >>> find_city('A', [('A', 2)])\n",
        "    0\n",
        "    >>> find_city('A', [('B', 3), ('C', 2)])\n",
        "    -1\n",
        "    >>> find_city('A', [('B', 3), ('C', 2), ('A', 2)])\n",
        "    2\n",
        "    >>> find_city('C', [('B', 3), ('C', 2), ('A', 2), ('C', 4)])\n",
        "    1\n",
        "    \"\"\"\n",
        "    # Write your code here"
      ]
    },
    {
      "cell_type": "code",
      "execution_count": null,
      "metadata": {
        "id": "3Vz_X9BEBVHv"
      },
      "outputs": [],
      "source": [
        "# Test your function here"
      ]
    },
    {
      "cell_type": "markdown",
      "metadata": {
        "id": "n1_gul06J4NF"
      },
      "source": [
        "### Run the hidden code cell to evaluate Part 1b"
      ]
    },
    {
      "cell_type": "code",
      "execution_count": null,
      "metadata": {
        "id": "NxEqElEgBbUr",
        "jupyter": {
          "source_hidden": true
        }
      },
      "outputs": [],
      "source": [
        "# Do not edit this cell\n",
        "def check_part1b():\n",
        "  ex_score, max_ex_score = 0, 0\n",
        "\n",
        "  ex_score += test_homework(\"Only one option\", find_city('A', [('A', 2)]), 0)\n",
        "  max_ex_score += 1\n",
        "  ex_score += test_homework(\"City not found\", find_city('A', [('B', 3), ('C', 2)]), -1)\n",
        "  max_ex_score += 1\n",
        "  ex_score += test_homework(\"City found once\", find_city('A', [('B', 3), ('C', 2), ('A', 2)]), 2)\n",
        "  max_ex_score += 1\n",
        "  ex_score += test_homework(\"City found twice, pick first option\", find_city('C', [('B', 3), ('C', 2), ('A', 2), ('C', 4)]), 1)\n",
        "  max_ex_score += 1\n",
        "\n",
        "  compare_hw_scores(ex_score, max_ex_score)\n",
        "  return ex_score, max_ex_score\n",
        "\n",
        "_ = check_part1b()"
      ]
    },
    {
      "cell_type": "markdown",
      "metadata": {
        "id": "jYxHIMlIBVby"
      },
      "source": [
        "## Part 1c: `process_line()`\n"
      ]
    },
    {
      "cell_type": "markdown",
      "source": [
        "Complete the function below according to its docstring. \n",
        "\n",
        "You may assume that city names can contain a number of spaces, but no commas."
      ],
      "metadata": {
        "id": "ZfT-Psb55FGQ"
      }
    },
    {
      "cell_type": "code",
      "execution_count": null,
      "metadata": {
        "id": "pgeRGm12BVrK"
      },
      "outputs": [],
      "source": [
        "def process_line(line):\n",
        "    \"\"\" (str) -> (str, str, int) \n",
        "    \n",
        "    Process one line from data (in the same format as the lines in cities.txt)\n",
        "    to extract the first city's name, the second city's name, and the distance. \n",
        "    Return these values in a tuple.\n",
        "    \n",
        "    Parameters:\n",
        "        line -- a single line in the same format as the lines in cities.txt, in the\n",
        "        format specified in the project handout: \"first city,second city,distance\".\n",
        "        If there is a newline character at the end of line, it should be ignored.\n",
        "    Return value:\n",
        "        (first, second, distance), where first is the name of the first city,\n",
        "        second is the name of the second city, and distance is the distance\n",
        "    Side-effects:\n",
        "        None\n",
        "    \n",
        "    Examples:\n",
        "    >>> process_line(\"A,B,3\")\n",
        "    ('A', 'B', 3)\n",
        "    >>> process_line(\"A,B,3\\n\")\n",
        "    ('A', 'B', 3)\n",
        "    >>> process_line(\"some city,B,2\")\n",
        "    ('some city', 'B', 2)\n",
        "    >>> process_line(\"A,other city,5\")\n",
        "    ('A', 'other city', 5)\n",
        "    \"\"\"\n",
        "    # Write your code here"
      ]
    },
    {
      "cell_type": "code",
      "execution_count": null,
      "metadata": {
        "id": "kpR2ipS5BWCz"
      },
      "outputs": [],
      "source": [
        "# Test your function here"
      ]
    },
    {
      "cell_type": "markdown",
      "metadata": {
        "id": "pUvjtDGqJ4NG"
      },
      "source": [
        "### Run the hidden code cell to evaluate Part 1c"
      ]
    },
    {
      "cell_type": "code",
      "execution_count": null,
      "metadata": {
        "id": "gjbguDy5BbgT",
        "jupyter": {
          "source_hidden": true
        }
      },
      "outputs": [],
      "source": [
        "# Do not edit this cell\n",
        "def check_part1c():\n",
        "  ex_score, max_ex_score = 0, 0\n",
        "\n",
        "  ex_score += test_homework(\"Easy city names without a newline at the end\", process_line(\"A,B,3\"), ('A', 'B', 3))\n",
        "  max_ex_score += 1\n",
        "  ex_score += test_homework(\"Easy city names with a newline at the end\", process_line(\"A,B,3\\n\"), ('A', 'B', 3))\n",
        "  max_ex_score += 1\n",
        "  ex_score += test_homework(\"Two-word source city\", process_line(\"some city,B,2\"), ('some city', 'B', 2))\n",
        "  max_ex_score += 1\n",
        "  ex_score += test_homework(\"Two-word destination city\", process_line(\"A,other city,5\"), ('A', 'other city', 5))\n",
        "  max_ex_score += 1\n",
        "  ex_score += test_homework(\"All multiple-word names\", process_line(\"some city,other city,15\"), (\"some city\", \"other city\", 15))\n",
        "  max_ex_score += 1\n",
        "\n",
        "  compare_hw_scores(ex_score, max_ex_score)\n",
        "  return ex_score, max_ex_score\n",
        "\n",
        "_ = check_part1c()"
      ]
    },
    {
      "cell_type": "markdown",
      "metadata": {
        "id": "9y11t62RBXvt"
      },
      "source": [
        "## Part 1d: `build_adjacent_distances()`\n"
      ]
    },
    {
      "cell_type": "markdown",
      "source": [
        "Complete the function `build_adjacent_distances()` according to its docstring. \n",
        "\n",
        "Remember that a flight from New York to Toronto of 3 hours implies that there is a return flight from Toronto to New York. Both of these should go in your resulting dictionary.\n",
        "\n",
        "***Note:*** In the docstring example, the final result is sorted according to city name. This is an optional step since it is not required for Dijkstra's algorithm to work; the autograder will sort the lists for you when it tests your function."
      ],
      "metadata": {
        "id": "Voz-elOK5Bu9"
      }
    },
    {
      "cell_type": "code",
      "execution_count": null,
      "metadata": {
        "id": "NmdjsE2qBX_q"
      },
      "outputs": [],
      "source": [
        "def build_adjacent_distances(lines):\n",
        "    \"\"\" (list of str) -> dict of {str: list of (str, int)}\n",
        "    \n",
        "    Read distances between cities from the lines read from data,\n",
        "    which is in the same format as cities.txt, and\n",
        "    return a dictionary structure that contains all of this information.\n",
        "    \n",
        "    Parameters:\n",
        "        lines -- a list of lines read in from data in the same format as\n",
        "        cities.txt\n",
        "    Return value:\n",
        "        a dictionary whose keys are city names and whose values are lists of\n",
        "        pairs of the form (city_name, distance).\n",
        "    \n",
        "    Side-effects:\n",
        "        None\n",
        "    \n",
        "    Examples:\n",
        "    >>> build_adjacent_distances(lines)  # assuming lines are the lines of cities.txt\n",
        "    {'Mexico City': [('San Francisco', 3), ('Toronto', 7)], \n",
        "    'New York': [('Toronto', 3), ('Washington', 2)], \n",
        "    'San Francisco': [('Mexico City', 3), ('Toronto', 6), ('Washington', 3)], \n",
        "    'Toronto': [('Mexico City', 7), ('New York', 3), ('San Francisco', 6)], \n",
        "    'Washington': [('New York', 2), ('San Francisco', 3)]}\n",
        "    \"\"\"\n",
        "    # Write your code here"
      ]
    },
    {
      "cell_type": "code",
      "execution_count": null,
      "metadata": {
        "id": "UpMi93IpBYNJ"
      },
      "outputs": [],
      "source": [
        "# Test your function here"
      ]
    },
    {
      "cell_type": "markdown",
      "metadata": {
        "id": "WVsdXv-2J4NI"
      },
      "source": [
        "### Run the hidden code cell to evaluate Part 1d"
      ]
    },
    {
      "cell_type": "code",
      "execution_count": null,
      "metadata": {
        "id": "_WznEx35Bbs6",
        "jupyter": {
          "source_hidden": true
        }
      },
      "outputs": [],
      "source": [
        "# Do not edit this cell\n",
        "def check_part1d():\n",
        "  ex_score, max_ex_score = 0, 0\n",
        "\n",
        "  lines = [\"A,B,2\", \"B,C,3\"]\n",
        "  result = build_adjacent_distances(lines)\n",
        "  result = sort_dist_dict(result)\n",
        "  target_result = {'A': [('B', 2)], \n",
        "                   'B': [('A', 2), ('C', 3)], \n",
        "                   'C': [('B', 3)]}\n",
        "  target_result = sort_dist_dict(target_result)\n",
        "  ex_score += test_homework(\"Small example with three cities\", result, target_result)\n",
        "  max_ex_score += 1\n",
        "\n",
        "  lines = ['Toronto,New York,3', 'New York,Washington,2', 'Washington,San Francisco,3', 'San Francisco,Mexico City,3', 'Toronto,Mexico City,7', 'Toronto,San Francisco,6']\n",
        "  result = build_adjacent_distances(lines)\n",
        "  result = sort_dist_dict(result)\n",
        "  target_result = {'Mexico City': [('San Francisco', 3), ('Toronto', 7)], \n",
        "                   'New York': [('Toronto', 3), ('Washington', 2)], \n",
        "                   'San Francisco': [('Mexico City', 3), ('Toronto', 6), ('Washington', 3)], \n",
        "                   'Toronto': [('Mexico City', 7), ('New York', 3), ('San Francisco', 6)], \n",
        "                   'Washington': [('New York', 2), ('San Francisco', 3)]}\n",
        "  target_result = sort_dist_dict(target_result)\n",
        "  ex_score += test_homework(\"cities.txt example\", result, target_result)\n",
        "  max_ex_score += 1\n",
        "\n",
        "  compare_hw_scores(ex_score, max_ex_score)\n",
        "  return ex_score, max_ex_score\n",
        "\n",
        "_ = check_part1d()"
      ]
    },
    {
      "cell_type": "markdown",
      "metadata": {
        "id": "Dc_VNpw3BYou"
      },
      "source": [
        "## Part 1e: `get_all_cities()`"
      ]
    },
    {
      "cell_type": "markdown",
      "source": [
        "Complete the following function according to its docstring."
      ],
      "metadata": {
        "id": "JpBIDtmX4-dn"
      }
    },
    {
      "cell_type": "code",
      "execution_count": null,
      "metadata": {
        "id": "exxyoA6hBY5C"
      },
      "outputs": [],
      "source": [
        "def get_all_cities(city_to_city_dist):\n",
        "    \"\"\" (dict of {str, list of (str, int)}) -> list of str\n",
        "    \n",
        "    Return a list of all the cities that appear in the dictionary\n",
        "    city_to_city_dist (a dictionary in the format returned by build_adjacent_distances).\n",
        "    The cities should be sorted in alphabetic order.\n",
        "    \n",
        "    >>> city_to_city_dist = {'Mexico City': [('San Francisco', 3), ('Toronto', 7)], \n",
        "    'New York': [('Toronto', 3), ('Washington', 2)], \n",
        "    'San Francisco': [('Mexico City', 3), ('Toronto', 6), ('Washington', 3)], \n",
        "    'Toronto': [('Mexico City', 7), ('New York', 3), ('San Francisco', 6)], \n",
        "    'Washington': [('New York', 2), ('San Francisco', 3)]}\n",
        "    >>> get_all_cities(city_to_city_dist)\n",
        "    ['Mexico City', 'New York', 'San Francisco', 'Toronto', 'Washington'] \n",
        "    \"\"\"\n",
        "    # Write your code here"
      ]
    },
    {
      "cell_type": "code",
      "execution_count": null,
      "metadata": {
        "id": "7jSGa0X5BZTG"
      },
      "outputs": [],
      "source": [
        "# Test your function here"
      ]
    },
    {
      "cell_type": "markdown",
      "metadata": {
        "id": "n51cOs-kJ4NK"
      },
      "source": [
        "### Run the hidden code cell to evaluate Part 1e"
      ]
    },
    {
      "cell_type": "code",
      "execution_count": null,
      "metadata": {
        "id": "egoFAPFCBb50",
        "jupyter": {
          "source_hidden": true
        }
      },
      "outputs": [],
      "source": [
        "# Do not edit this cell\n",
        "def check_part1e():\n",
        "  ex_score, max_ex_score = 0, 0\n",
        "\n",
        "  city_to_city_dist = {'A': [('B', 2)], \n",
        "                       'B': [('A', 2), ('C', 3)], \n",
        "                       'C': [('B', 3)]}\n",
        "  result = ['A', 'B', 'C']\n",
        "  ex_score += test_homework(\"Small example with three cities\", get_all_cities(city_to_city_dist), result)\n",
        "  max_ex_score += 1\n",
        "\n",
        "  city_to_city_dist = {'Mexico City': [('San Francisco', 3), ('Toronto', 7)], \n",
        "                       'New York': [('Toronto', 3), ('Washington', 2)], \n",
        "                       'San Francisco': [('Mexico City', 3), ('Toronto', 6), ('Washington', 3)], \n",
        "                       'Toronto': [('Mexico City', 7), ('New York', 3), ('San Francisco', 6)], \n",
        "                       'Washington': [('New York', 2), ('San Francisco', 3)]}\n",
        "  result = ['Mexico City', 'New York', 'San Francisco', 'Toronto', 'Washington']\n",
        "  ex_score += test_homework(\"cities.txt example\", get_all_cities(city_to_city_dist), result)\n",
        "  max_ex_score += 1\n",
        "\n",
        "  compare_hw_scores(ex_score, max_ex_score)\n",
        "  return ex_score, max_ex_score\n",
        "\n",
        "_ = check_part1e()"
      ]
    },
    {
      "cell_type": "markdown",
      "source": [
        "## Part 1f: `get_distance()`"
      ],
      "metadata": {
        "id": "XRqIrTblrAfi"
      }
    },
    {
      "cell_type": "markdown",
      "source": [
        "Complete the following function according to its docstring."
      ],
      "metadata": {
        "id": "YipOqNEOrHt_"
      }
    },
    {
      "cell_type": "code",
      "source": [
        "def get_distance(city1, city2, city_to_city_dist):\n",
        "    \"\"\" (str, str, dict of {str: list of (str, int)) -> int\n",
        "    \n",
        "    Return the distance between the two cities.\n",
        "    \n",
        "    Parameters:\n",
        "        city1 -- the name of the departure city (a string)\n",
        "        city2 -- the name of the arrival city (a string)\n",
        "        city_to_city_dist -- a dictionary of direct flight lengths between cities, \n",
        "        such as what is returned by build_adjacent_distances()\n",
        "    Return value:\n",
        "        the distance between the two cities\n",
        "    Side-effects:\n",
        "        None\n",
        "    \n",
        "    Examples:\n",
        "\n",
        "    >>> city_to_city_dist = {'Mexico City': [('San Francisco', 3), ('Toronto', 7)], \n",
        "    'New York': [('Toronto', 3), ('Washington', 2)], \n",
        "    'San Francisco': [('Mexico City', 3), ('Toronto', 6), ('Washington', 3)], \n",
        "    'Toronto': [('Mexico City', 7), ('New York', 3), ('San Francisco', 6)], \n",
        "    'Washington': [('New York', 2), ('San Francisco', 3)]}\n",
        "    >>> get_distance('New York', 'Toronto', city_to_city_dist)\n",
        "    3\n",
        "    >>> get_distance('Toronto', 'New York', city_to_city_dist)\n",
        "    3\n",
        "    >>> get_distance('Toronto', 'San Francisco', city_to_city_dist)\n",
        "    6\n",
        "    \"\"\"\n",
        "    # Write your code here"
      ],
      "metadata": {
        "id": "_ZWC18dnrIJX"
      },
      "execution_count": null,
      "outputs": []
    },
    {
      "cell_type": "code",
      "source": [
        "# Test your function here"
      ],
      "metadata": {
        "id": "lZ1d3d52tdXu"
      },
      "execution_count": null,
      "outputs": []
    },
    {
      "cell_type": "markdown",
      "source": [
        "### Run the hidden code cell to evaluate Part 1f"
      ],
      "metadata": {
        "id": "szqQ3Fnktc8D"
      }
    },
    {
      "cell_type": "code",
      "source": [
        "# Do not edit this cell\n",
        "def check_part1f():\n",
        "  ex_score, max_ex_score = 0, 0\n",
        "\n",
        "  city_to_city_dist = {'A': [('B', 2)], \n",
        "                       'B': [('A', 2), ('C', 3)], \n",
        "                       'C': [('B', 3)]}\n",
        "  ex_score += test_homework(\"Small example with three cities, A -> B\", get_distance('A', 'B', city_to_city_dist), 2)\n",
        "  max_ex_score += 1\n",
        "  ex_score += test_homework(\"Small example with three cities, B -> A\", get_distance('B', 'A', city_to_city_dist), 2)\n",
        "  max_ex_score += 1\n",
        "  ex_score += test_homework(\"Small example with three cities, B -> C\", get_distance('B', 'C', city_to_city_dist), 3)\n",
        "  max_ex_score += 1\n",
        "\n",
        "  city_to_city_dist = {'Mexico City': [('San Francisco', 3), ('Toronto', 7)], \n",
        "                       'New York': [('Toronto', 3), ('Washington', 2)], \n",
        "                       'San Francisco': [('Mexico City', 3), ('Toronto', 6), ('Washington', 3)], \n",
        "                       'Toronto': [('Mexico City', 7), ('New York', 3), ('San Francisco', 6)], \n",
        "                       'Washington': [('New York', 2), ('San Francisco', 3)]}\n",
        "  ex_score += test_homework(\"cities.txt example, New York -> Toronto\", get_distance('New York', 'Toronto', city_to_city_dist), 3)\n",
        "  max_ex_score += 1\n",
        "  ex_score += test_homework(\"cities.txt example, Toronto -> New York\", get_distance('Toronto', 'New York', city_to_city_dist), 3)\n",
        "  max_ex_score += 1\n",
        "  ex_score += test_homework(\"cities.txt example, Toronto -> San Francisco\", get_distance('Toronto', 'San Francisco', city_to_city_dist), 6)\n",
        "  max_ex_score += 1\n",
        "\n",
        "  compare_hw_scores(ex_score, max_ex_score)\n",
        "  return ex_score, max_ex_score\n",
        "\n",
        "_ = check_part1f()"
      ],
      "metadata": {
        "id": "rkSE6bQetiPs"
      },
      "execution_count": null,
      "outputs": []
    },
    {
      "cell_type": "markdown",
      "metadata": {
        "id": "SJMh-PRVHwBG"
      },
      "source": [
        "# Part 2"
      ]
    },
    {
      "cell_type": "markdown",
      "metadata": {
        "id": "KR9hZ-AyH9lK"
      },
      "source": [
        "## Part 2a: `visit_all()` analogue"
      ]
    },
    {
      "cell_type": "markdown",
      "source": [
        "In this problem, we will be simulating a patient queue. For each patient, we have a name and a priority code. The patients are to be treated according to their priority -- higher priority first. The function `visit_next_patient()` is supplied. The function finds the patient with the highest priority in the list unvisited, and moves their name to the list visited. If `visit_next_patient()` is called repeatedly, visited will become a list of patients sorted by their priority, and unvisited will become empty.\n",
        "\n",
        "Write the function `visit_all_patients()`, which should call `visit_next_patient()` repeatedly while it makes sense to, and return a list of patients sorted by priority. Use `visit_next_patient()` rather than `sorted()` or `sort()` to accomplish this."
      ],
      "metadata": {
        "id": "RCZjK0oO409P"
      }
    },
    {
      "cell_type": "code",
      "execution_count": null,
      "metadata": {
        "id": "oVWkiVVHH91G"
      },
      "outputs": [],
      "source": [
        "def visit_next_patient(unvisited, visited):\n",
        "    \"\"\" (list of (str, int), list of str) -> None\n",
        "    \n",
        "    Remove the patient with the highest priority in list unvisited, and append\n",
        "    the patient's name to the end of the list visited. unvisited is a list\n",
        "    of tuples, with each tuple having a string and an integer as elements\n",
        "    (the name and priority) respectively. The list visited is a list of strings.\n",
        "    \n",
        "    >> unvisited = [(\"Bob\", 5), (\"Tom\", 6), (\"Tim\", 4)]\n",
        "    >> visited = [\"Alice\"]\n",
        "    >> visit_next_patient(unvisited, visited)\n",
        "    >> visited\n",
        "    [\"Alice\", \"Tom\"]\n",
        "    \n",
        "    >> unvisited\n",
        "    [(\"Bob\", 5), (\"Tim\", 4)]\n",
        "    \n",
        "    \"\"\"\n",
        "    \n",
        "    highest_priority_ind = 0\n",
        "    highest_priority = unvisited[0][1]\n",
        "    for i in range(len(unvisited)):\n",
        "        if unvisited[i][1] > highest_priority:\n",
        "            highest_priority = unvisited[i][1]\n",
        "            highest_priority_ind = i\n",
        "            \n",
        "    visited.append(unvisited[highest_priority_ind][0])\n",
        "    unvisited[highest_priority_ind:highest_priority_ind+1] = []\n",
        "\n",
        "def visit_all_patients(patient_list):\n",
        "    \"\"\" (list of (str, int)) -> list of str\n",
        "    \n",
        "    Return a list of the names of the patients, from highest priority to lowest, without using\n",
        "    sorted() or sort(). Instead, call visit_next_patient() repeatedly.\n",
        "  \n",
        "    Arguments:\n",
        "      patient_list -- a list of tuples, with each tuple containing the name of a patient (str)\n",
        "      and their priority (int)\n",
        "\n",
        "    >>> visit_all_patients([(\"Bob\", 5), (\"Tom\", 6), (\"Tim\", 4)])\n",
        "    [\"Tom\", \"Bob\", \"Tim\"]\n",
        "    \"\"\"\n",
        "    # Write your code here"
      ]
    },
    {
      "cell_type": "code",
      "execution_count": null,
      "metadata": {
        "id": "16PS02lRH-DX"
      },
      "outputs": [],
      "source": [
        "# Test your function here"
      ]
    },
    {
      "cell_type": "markdown",
      "metadata": {
        "id": "fig7hRjBJ4kC"
      },
      "source": [
        "### Run the hidden code cell to evaluate Part 2a"
      ]
    },
    {
      "cell_type": "code",
      "execution_count": null,
      "metadata": {
        "jupyter": {
          "source_hidden": true
        },
        "id": "WkW_aVbSJqjm"
      },
      "outputs": [],
      "source": [
        "# Do not edit this cell\n",
        "def check_part2a():\n",
        "  ex_score, max_ex_score = 0, 0\n",
        "\n",
        "  ex_score += test_homework(\"One patient\", visit_all_patients([(\"Bob\", 0)]), [\"Bob\"])\n",
        "  max_ex_score += 1\n",
        "  ex_score += test_homework(\"Two patients\", visit_all_patients([(\"Bob\", 5), (\"Tom\", 6)]), ['Tom', 'Bob'])\n",
        "  max_ex_score += 1\n",
        "  ex_score += test_homework(\"Three patients\", visit_all_patients([(\"Bob\", 5), (\"Tom\", 6), (\"Tim\", 4)]), ['Tom', 'Bob', 'Tim'])\n",
        "  max_ex_score += 1\n",
        "\n",
        "  compare_hw_scores(ex_score, max_ex_score)\n",
        "  return ex_score, max_ex_score\n",
        "\n",
        "_ = check_part2a()"
      ]
    },
    {
      "cell_type": "markdown",
      "source": [
        "## Part 2b: `visit_next()`\n",
        "\n",
        "\n",
        "\n"
      ],
      "metadata": {
        "id": "2fzVghbmtuQt"
      }
    },
    {
      "cell_type": "markdown",
      "source": [
        "Now that you have seen an example of `visit_next()` and `visit_all()` in the context of a slightly different problem, complete the following function according to its docstring.\n",
        "\n",
        "***Note:*** In the docstring example, `visited` and `unvisited` are sorted according to city name at the end of each call to `visit_next()`. This is an optional step since it is not required for Dijkstra's algorithm to work; the autograder will sort the lists for you when it tests your function."
      ],
      "metadata": {
        "id": "AagJJ46a4yL3"
      }
    },
    {
      "cell_type": "code",
      "source": [
        "def visit_next(visited, unvisited, city_to_city_dist):\n",
        "    \"\"\" (list of (str, int), list of (str, int), dict of {str, list of (str, int)}) -> None\n",
        "    \n",
        "    Move the next closest city from the unvisited list to the visited list.\n",
        "    Update the distances in the unvisited list if a shorter path exists to one\n",
        "    of the unvisited cities, as described in the handout. Assumes that the\n",
        "    unvisited list is non-empty.\n",
        "    \n",
        "    Parameters:\n",
        "        visited -- a list of tuples for cities that have been \"visited\", i.e.,\n",
        "        their minimum distance to the city of origin is known, and their\n",
        "        neighbours already belong to the visited or unvisited list\n",
        "        unvisited -- a list of tuples for cities that have not yet been visited\n",
        "        city_to_city_dist -- a dictionary of direct flight lengths between cities, \n",
        "        such as what is returned by build_adjacent_distances()\n",
        "    Return value:\n",
        "        None\n",
        "    Side-effects:\n",
        "        - the first city C whose distance is minimum in unvisited is removed\n",
        "          from unvisited and added to visited\n",
        "        - neighbours of C that did not already belong to either list are added\n",
        "          to unvisited (with their distance from C)\n",
        "        - neighbours of C that were already in unvisited have their distance\n",
        "          updated, if going through C leads to a shorter total distance\n",
        "    \n",
        "    Examples:\n",
        "    >>> city_to_city_dist = {'Mexico City': [('San Francisco', 3), ('Toronto', 7)], \n",
        "    'New York': [('Toronto', 3), ('Washington', 2)], \n",
        "    'San Francisco': [('Mexico City', 3), ('Toronto', 6), ('Washington', 3)], \n",
        "    'Toronto': [('Mexico City', 7), ('New York', 3), ('San Francisco', 6)], \n",
        "    'Washington': [('New York', 2), ('San Francisco', 3)]}\n",
        "    >>> unvisited = [('New York', 0)]\n",
        "    >>> visited = []\n",
        "\n",
        "    >>> visit_next(visited, unvisited, city_to_city_dist)\n",
        "    >>> visited\n",
        "    [('New York', 0)]\n",
        "    >>> unvisited\n",
        "    [('Toronto', 3), ('Washington', 2)]\n",
        "\n",
        "    >>> visit_next(visited, unvisited, city_to_city_dist)\n",
        "    >>> visited\n",
        "    [('New York', 0), ('Washington', 2)]\n",
        "    >>> unvisited\n",
        "    [('San Francisco', 5), ('Toronto', 3)]\n",
        "    ...\n",
        "\n",
        "    \"\"\"\n",
        "    \n",
        "    # Step 1:\n",
        "    # Find the closest city in the unvisited list and move it to the visited list.\n",
        "    \n",
        "    ############################################################################\n",
        "    \n",
        "    # Step 2:\n",
        "    # For every neighbour of the city that was moved to visited, there are three\n",
        "    # cases to consider:\n",
        "        # ...(a) neighbour is already visited: do nothing\n",
        "        # ...(b) neighbour is already unvisited: update its distance\n",
        "        # ...(c) neighbour is not even unvisited: add it to unvisited"
      ],
      "metadata": {
        "id": "m68waBnkuIKy"
      },
      "execution_count": null,
      "outputs": []
    },
    {
      "cell_type": "markdown",
      "source": [
        "### Run the hidden code cell to evaluate Part 2b"
      ],
      "metadata": {
        "id": "QlmIo5lkuNJ3"
      }
    },
    {
      "cell_type": "code",
      "source": [
        "# Do not edit this cell\n",
        "def check_part2b():\n",
        "  ex_score, max_ex_score = 0, 0\n",
        "\n",
        "  # Initialize\n",
        "  city_to_city_dist = {'Mexico City': [('San Francisco', 3), ('Toronto', 7)], \n",
        "    'New York': [('Toronto', 3), ('Washington', 2)], \n",
        "    'San Francisco': [('Mexico City', 3), ('Toronto', 6), ('Washington', 3)], \n",
        "    'Toronto': [('Mexico City', 7), ('New York', 3), ('San Francisco', 6)], \n",
        "    'Washington': [('New York', 2), ('San Francisco', 3)]}\n",
        "  unvisited = [('New York', 0)]\n",
        "  visited = []\n",
        "\n",
        "  # Iteration 1\n",
        "  visit_next(visited, unvisited, city_to_city_dist)\n",
        "  target_visited = [('New York', 0)]\n",
        "  target_unvisited = [('Toronto', 3), ('Washington', 2)]\n",
        "  ex_score += test_homework(\"Iteration 1 (Start with New York, 0), visited\", sorted(visited), sorted(target_visited))\n",
        "  max_ex_score += 1\n",
        "  ex_score += test_homework(\"Iteration 1 (Start with New York, 0), unvisited\", sorted(unvisited), sorted(target_unvisited))\n",
        "  max_ex_score += 1\n",
        "\n",
        "  # Iteration 2\n",
        "  visit_next(visited, unvisited, city_to_city_dist)\n",
        "  target_visited = [('New York', 0), ('Washington', 2)]\n",
        "  target_unvisited = [('San Francisco', 5), ('Toronto', 3)]\n",
        "  ex_score += test_homework(\"Iteration 2 (Add Washington, 2), visited\", sorted(visited), sorted(target_visited))\n",
        "  max_ex_score += 1\n",
        "  ex_score += test_homework(\"Iteration 2 (Add Washington, 2), unvisited\", sorted(unvisited), sorted(target_unvisited))\n",
        "  max_ex_score += 1\n",
        "\n",
        "  # Iteration 3\n",
        "  visit_next(visited, unvisited, city_to_city_dist)\n",
        "  target_visited = [('New York', 0), ('Toronto', 3), ('Washington', 2)]\n",
        "  target_unvisited = [('Mexico City', 10), ('San Francisco', 5)]\n",
        "  ex_score += test_homework(\"Iteration 3 (Add Toronto, 3), visited\", sorted(visited), sorted(target_visited))\n",
        "  max_ex_score += 1\n",
        "  ex_score += test_homework(\"Iteration 3 (Add Toronto, 3), unvisited\", sorted(unvisited), sorted(target_unvisited))\n",
        "  max_ex_score += 1\n",
        "\n",
        "  # Iteration 4\n",
        "  visit_next(visited, unvisited, city_to_city_dist)\n",
        "  target_visited = [('New York', 0), ('San Francisco', 5), ('Toronto', 3), ('Washington', 2)]\n",
        "  target_unvisited = [('Mexico City', 8)]\n",
        "  ex_score += test_homework(\"Iteration 4 (Add San Francisco, 5), visited\", sorted(visited), sorted(target_visited))\n",
        "  max_ex_score += 1\n",
        "  ex_score += test_homework(\"Iteration 4 (Add San Francisco, 5), unvisited\", sorted(unvisited), sorted(target_unvisited))\n",
        "  max_ex_score += 1\n",
        "\n",
        "  # Iteration 5\n",
        "  visit_next(visited, unvisited, city_to_city_dist)\n",
        "  target_visited = [('Mexico City', 8), ('New York', 0), ('San Francisco', 5), ('Toronto', 3), ('Washington', 2)]\n",
        "  target_unvisited = []\n",
        "  ex_score += test_homework(\"Iteration 5 (Add Mexico City, 8), visited\", sorted(visited), sorted(target_visited))\n",
        "  max_ex_score += 1\n",
        "  ex_score += test_homework(\"Iteration 5 (Add Mexico City, 8), unvisited\", sorted(unvisited), sorted(target_unvisited))\n",
        "  max_ex_score += 1\n",
        "\n",
        "  compare_hw_scores(ex_score, max_ex_score)\n",
        "  return ex_score, max_ex_score\n",
        "\n",
        "_ = check_part2b()"
      ],
      "metadata": {
        "id": "afkK7so6uZQn"
      },
      "execution_count": null,
      "outputs": []
    },
    {
      "cell_type": "markdown",
      "source": [
        "## Part 2c: `visit_all()`"
      ],
      "metadata": {
        "id": "wgXwDnD1t27D"
      }
    },
    {
      "cell_type": "markdown",
      "source": [
        "Now that you have seen an example of `visit_next()` and `visit_all()` in the context of a slightly different problem, complete the following function according to its docstring.\n",
        "\n",
        "***Note:*** In the docstring example, the final result is sorted according to city name. This is an optional step since it is not required for Dijkstra's algorithm to work; the autograder will sort the lists for you when it tests your function."
      ],
      "metadata": {
        "id": "IeKLURQO4vhT"
      }
    },
    {
      "cell_type": "code",
      "source": [
        "def visit_all(city, city_to_city_dist):\n",
        "    \"\"\" (str, dict of {str: list of (str, int)}) -> list of (str, int)\n",
        "    \n",
        "    Return the list of shortest distances from city to every city in \n",
        "    the dictionary city_to_city_dist. This is accomplished by repeatedly calling\n",
        "    visit_next() inside a while loop.\n",
        "    \n",
        "    Parameters:\n",
        "        city -- the starting point\n",
        "        city_to_city_dist -- a dictionary of direct flight lengths between cities, \n",
        "        such as what is returned by build_adjacent_distances()\n",
        "    \n",
        "    >> city_to_city_dist = build_adjacent_distances(open(\"cities.txt\").readlines())\n",
        "    >> visit_all('Toronto', city_to_city_dist)\n",
        "    [('Mexico City', 7),\n",
        "     ('New York', 3),\n",
        "     ('San Francisco', 6),\n",
        "     ('Toronto', 0),\n",
        "     ('Washington', 5)]\n",
        "    \"\"\"\n",
        "    # Write your code here"
      ],
      "metadata": {
        "id": "oNa30ss-uIiZ"
      },
      "execution_count": null,
      "outputs": []
    },
    {
      "cell_type": "code",
      "source": [
        "# Test your function here"
      ],
      "metadata": {
        "id": "zHcWIfv5uL8b"
      },
      "execution_count": null,
      "outputs": []
    },
    {
      "cell_type": "markdown",
      "source": [
        "### Run the hidden code cell to evaluate Part 2c"
      ],
      "metadata": {
        "id": "2BFkGGqTuTpK"
      }
    },
    {
      "cell_type": "code",
      "source": [
        "# Do not edit this cell\n",
        "def check_part2c():\n",
        "  ex_score, max_ex_score = 0, 0\n",
        "\n",
        "  city_to_city_dist = {'Mexico City': [('San Francisco', 3), ('Toronto', 7)], \n",
        "    'New York': [('Toronto', 3), ('Washington', 2)], \n",
        "    'San Francisco': [('Mexico City', 3), ('Toronto', 6), ('Washington', 3)], \n",
        "    'Toronto': [('Mexico City', 7), ('New York', 3), ('San Francisco', 6)], \n",
        "    'Washington': [('New York', 2), ('San Francisco', 3)]}\n",
        "\n",
        "  result = visit_all('New York', city_to_city_dist)\n",
        "  ny_result = [('Mexico City', 8), ('New York', 0), ('San Francisco', 5), ('Toronto', 3), ('Washington', 2)]\n",
        "  ex_score += test_homework(\"From New York\", sorted(result), sorted(ny_result))\n",
        "  max_ex_score += 1\n",
        "\n",
        "  result = visit_all('Toronto', city_to_city_dist)\n",
        "  toronto_result = [('Mexico City', 7), ('New York', 3), ('San Francisco', 6), ('Toronto', 0), ('Washington', 5)]\n",
        "  ex_score += test_homework(\"From Toronto\", sorted(result), sorted(toronto_result))\n",
        "  max_ex_score += 1\n",
        "\n",
        "  result = visit_all('Mexico City', city_to_city_dist)\n",
        "  sf_result = [('Mexico City', 0), ('New York', 8), ('San Francisco', 3), ('Toronto', 7), ('Washington', 6)]\n",
        "  ex_score += test_homework(\"From Mexico City\", sorted(result), sorted(sf_result))\n",
        "  max_ex_score += 1\n",
        "\n",
        "  compare_hw_scores(ex_score, max_ex_score)\n",
        "  return ex_score, max_ex_score\n",
        "\n",
        "_ = check_part2c()"
      ],
      "metadata": {
        "id": "FRu4P7ceuY1t"
      },
      "execution_count": null,
      "outputs": []
    },
    {
      "cell_type": "markdown",
      "source": [
        "## Part 2d: `build_shortest_distances()`"
      ],
      "metadata": {
        "id": "Q4akB4_-jfsz"
      }
    },
    {
      "cell_type": "markdown",
      "source": [
        "Complete the following function according to its docstring.\n",
        "\n",
        "***Note:*** In the docstring example, the final result is sorted according to city name. This is an optional step since it is not required for Dijkstra's algorithm to work; the autograder will sort the lists for you when it tests your function."
      ],
      "metadata": {
        "id": "Umb60n9O4tEA"
      }
    },
    {
      "cell_type": "code",
      "source": [
        "def build_shortest_distances(direct_distance_dict):    \n",
        "    \"\"\" (dict of {str: list of (str, int)}) -> dict of {str: list of (str, int)}\n",
        "    \n",
        "    Return a dictionary all_dists whose keys are cities which appear in \n",
        "    direct_distance_dict and whose values are the shortest path distance to\n",
        "    every other city (i.e., the values are return values of visit_all).\n",
        "    \n",
        "    Parameters:\n",
        "        direct_distance_dict -- a dictionary of direct flight lengths between cities, \n",
        "        such as what is returned by build_adjacent_distances()\n",
        "    \n",
        "    >> distances = build_adjacent_distances(open(\"cities.txt\").readlines())\n",
        "    >> build_shortest_distances(distances)\n",
        "        {\n",
        "          'Mexico City': \n",
        "          [('Mexico City', 0), ('New York', 8), ('San Francisco', 3), ('Toronto', 7), ('Washington', 6)],\n",
        "          'New York': \n",
        "          [('Mexico City', 8), ('New York', 0), ('San Francisco', 5), ('Toronto', 3), ('Washington', 2)],\n",
        "          'Toronto': \n",
        "          [('Mexico City', 7), ('New York', 3), ('San Francisco', 6), ('Toronto', 0), ('Washington', 5)],\n",
        "          'San Francisco': \n",
        "          [('Mexico City', 3), ('New York', 5), ('San Francisco', 0), ('Toronto', 6), ('Washington', 3)],\n",
        "          'Washington': \n",
        "          [('Mexico City', 6), ('New York', 2), ('San Francisco', 3), ('Toronto', 5), ('Washington', 0)],\n",
        "        }\n",
        " \n",
        "    \"\"\"\n",
        "    # Write your code here"
      ],
      "metadata": {
        "id": "-k0nP_WNCeME"
      },
      "execution_count": null,
      "outputs": []
    },
    {
      "cell_type": "code",
      "source": [
        "# Test your function here"
      ],
      "metadata": {
        "id": "NIpl8XE-C5QR"
      },
      "execution_count": null,
      "outputs": []
    },
    {
      "cell_type": "markdown",
      "source": [
        "### Run the hidden code cell to evaluate Part 2d"
      ],
      "metadata": {
        "id": "GFAtyqGSC7pP"
      }
    },
    {
      "cell_type": "code",
      "source": [
        "# Do not edit this cell\n",
        "def check_part2d():\n",
        "  ex_score, max_ex_score = 0, 0\n",
        "\n",
        "  city_to_city_dist = {'A': [('B', 2)], \n",
        "                       'B': [('A', 2), ('C', 3)], \n",
        "                       'C': [('B', 3)]}\n",
        "  result = build_shortest_distances(city_to_city_dist)\n",
        "  result = sort_dist_dict(result)\n",
        "  target_result = {\n",
        "    'A': [('A', 0), ('B', 2), ('C', 5)],\n",
        "    'B': [('A', 2), ('B', 0), ('C', 3)],\n",
        "    'C': [('A', 5), ('B', 3), ('C', 0)],\n",
        "  }\n",
        "  target_result = sort_dist_dict(target_result)\n",
        "  ex_score += test_homework(\"Small example with three cities\", result, target_result)\n",
        "  max_ex_score += 1\n",
        "\n",
        "  city_to_city_dist = {'Mexico City': [('San Francisco', 3), ('Toronto', 7)], \n",
        "    'New York': [('Toronto', 3), ('Washington', 2)], \n",
        "    'San Francisco': [('Mexico City', 3), ('Toronto', 6), ('Washington', 3)], \n",
        "    'Toronto': [('Mexico City', 7), ('New York', 3), ('San Francisco', 6)], \n",
        "    'Washington': [('New York', 2), ('San Francisco', 3)]}\n",
        "  result = build_shortest_distances(city_to_city_dist)\n",
        "  result = sort_dist_dict(result)\n",
        "  target_result = {\n",
        "    'Mexico City': \n",
        "    [('Mexico City', 0), ('New York', 8), ('San Francisco', 3), ('Toronto', 7), ('Washington', 6)],\n",
        "    'New York': \n",
        "    [('Mexico City', 8), ('New York', 0), ('San Francisco', 5), ('Toronto', 3), ('Washington', 2)],\n",
        "    'Toronto': \n",
        "    [('Mexico City', 7), ('New York', 3), ('San Francisco', 6), ('Toronto', 0), ('Washington', 5)],\n",
        "    'San Francisco': \n",
        "    [('Mexico City', 3), ('New York', 5), ('San Francisco', 0), ('Toronto', 6), ('Washington', 3)],\n",
        "    'Washington': \n",
        "    [('Mexico City', 6), ('New York', 2), ('San Francisco', 3), ('Toronto', 5), ('Washington', 0)],\n",
        "  }\n",
        "  target_result = sort_dist_dict(target_result)\n",
        "  ex_score += test_homework(\"cities.txt example\", result, target_result)\n",
        "  max_ex_score += 1\n",
        "\n",
        "  compare_hw_scores(ex_score, max_ex_score)\n",
        "  return ex_score, max_ex_score\n",
        "\n",
        "_ = check_part2d()"
      ],
      "metadata": {
        "id": "vTYjtuDKDB4z"
      },
      "execution_count": null,
      "outputs": []
    },
    {
      "cell_type": "markdown",
      "metadata": {
        "id": "GAfa1joWJHl9"
      },
      "source": [
        "# Part 3\n"
      ]
    },
    {
      "cell_type": "markdown",
      "metadata": {
        "id": "n396q4iKJWSX"
      },
      "source": [
        "## Part 3a: `get_cities()`"
      ]
    },
    {
      "cell_type": "markdown",
      "source": [
        "Complete the following function according to its docstring."
      ],
      "metadata": {
        "id": "v3WZWt9k4keh"
      }
    },
    {
      "cell_type": "code",
      "execution_count": null,
      "metadata": {
        "id": "IbWUr8XOJWkl"
      },
      "outputs": [],
      "source": [
        "def get_cities(prob_pairs):\n",
        "    \"\"\" (list of (str, int)) -> list of str\n",
        "    \n",
        "    Return the list of cities that appear in the list of pairs prob_pairs,\n",
        "    in the same order that they appear in the list of pairs prob_pairs\n",
        "    \n",
        "    Arguments:\n",
        "      prob_pairs -- a list of city-distance pairs\n",
        "      \n",
        "    >> prob_pairs = [('New York', 0.1),\n",
        "                     ('Washington', 0.2),\n",
        "                     ('Toronto', 0.3),\n",
        "                     ('San Francisco', 0.2),\n",
        "                     ('Mexico City', 0.2)]\n",
        "    >> get_cities(prob_pairs)\n",
        "    ['New York', 'Washington', 'Toronto', 'San Francisco', 'Mexico City']\n",
        "    \n",
        "    \"\"\"\n",
        "    # Write your code here"
      ]
    },
    {
      "cell_type": "code",
      "execution_count": null,
      "metadata": {
        "id": "duGaxTP9JW03"
      },
      "outputs": [],
      "source": [
        "# Test your function here"
      ]
    },
    {
      "cell_type": "markdown",
      "metadata": {
        "id": "IL5VHPjGJ4-d"
      },
      "source": [
        "### Run the hidden code cell to evaluate Part 3a"
      ]
    },
    {
      "cell_type": "code",
      "execution_count": null,
      "metadata": {
        "jupyter": {
          "source_hidden": true
        },
        "id": "n1KvTxyhLe-1"
      },
      "outputs": [],
      "source": [
        "# Do not edit this cell\n",
        "def check_part3a():\n",
        "  ex_score, max_ex_score = 0, 0\n",
        "\n",
        "  ex_score += test_homework(\"Docstring example\", get_cities([('New York', 0.1), ('Washington', 0.2), ('Toronto', 0.3), ('San Francisco', 0.2), ('Mexico City', 0.2)]),\n",
        "                            ['New York', 'Washington', 'Toronto', 'San Francisco', 'Mexico City'])\n",
        "  max_ex_score += 1\n",
        "\n",
        "  compare_hw_scores(ex_score, max_ex_score)\n",
        "  return ex_score, max_ex_score\n",
        "\n",
        "_ = check_part3a()"
      ]
    },
    {
      "cell_type": "markdown",
      "metadata": {
        "id": "Y-N4UlAiJYeb"
      },
      "source": [
        "## Part 3b: `get_probabilities()`"
      ]
    },
    {
      "cell_type": "markdown",
      "source": [
        "Complete the following function according to its docstring."
      ],
      "metadata": {
        "id": "vcGi4eYK4hgS"
      }
    },
    {
      "cell_type": "code",
      "execution_count": null,
      "metadata": {
        "id": "CDjEGHyXJYw9"
      },
      "outputs": [],
      "source": [
        "def get_probabilities(prob_pairs):\n",
        "    \"\"\" (list of (str, number)) -> list of number\n",
        "    \n",
        "    Return the list of probabilities that appear in the list of pairs\n",
        "    prob_pairs, in the same order that they appear in prob_pairs.\n",
        "    \n",
        "    Arguments:\n",
        "      prob_pairs -- a list of city-distance pairs\n",
        "      \n",
        "    >> prob_pairs = [('New York', 0.1),\n",
        "                     ('Washington', 0.2),\n",
        "                     ('Toronto', 0.3),\n",
        "                     ('San Francisco', 0.2),\n",
        "                     ('Mexico City', 0.2)]\n",
        "    >> get_probs(prob_pairs)\n",
        "    [0.1, 0.2, 0.3, 0.2, 0.2]\n",
        "    \n",
        "    \"\"\"\n",
        "    # Write your code here"
      ]
    },
    {
      "cell_type": "code",
      "execution_count": null,
      "metadata": {
        "id": "RFUfh4TQJY9V"
      },
      "outputs": [],
      "source": [
        "# Test your function here"
      ]
    },
    {
      "cell_type": "markdown",
      "metadata": {
        "id": "1HDRbY5yJ4-g"
      },
      "source": [
        "### Run the hidden code cell to evaluate Part 3b"
      ]
    },
    {
      "cell_type": "code",
      "execution_count": null,
      "metadata": {
        "id": "STGHzZuYKA3J",
        "jupyter": {
          "source_hidden": true
        }
      },
      "outputs": [],
      "source": [
        "# Do not edit this cell\n",
        "def check_part3b():\n",
        "  ex_score, max_ex_score = 0, 0\n",
        "\n",
        "  ex_score += test_homework(\"Docstring example\", get_probabilities([('New York', 0.1), ('Washington', 0.2), ('Toronto', 0.3), ('San Francisco', 0.2), ('Mexico City', 0.2)]), \n",
        "                            [0.1, 0.2, 0.3, 0.2, 0.2])\n",
        "  max_ex_score += 1\n",
        "\n",
        "  compare_hw_scores(ex_score, max_ex_score)\n",
        "  return ex_score, max_ex_score\n",
        "\n",
        "_ = check_part3b()"
      ]
    },
    {
      "cell_type": "markdown",
      "metadata": {
        "id": "BbbZLKzVJZRy"
      },
      "source": [
        "## Part 3c: `init_zero_sick_population()`"
      ]
    },
    {
      "cell_type": "markdown",
      "source": [
        "Complete the following function according to its docstring."
      ],
      "metadata": {
        "id": "d57KVsJN4eNV"
      }
    },
    {
      "cell_type": "code",
      "execution_count": null,
      "metadata": {
        "id": "ob_UdDZbJZni"
      },
      "outputs": [],
      "source": [
        "def init_zero_sick_population(cities):\n",
        "    \"\"\" (list of str) -> dict of {str: int}\n",
        "    \n",
        "    Return a dictionary whose keys are the values in the list cities,\n",
        "    and whose values are all 0\n",
        "    \n",
        "    >> init_zero_sick_population([\"Toronto\", \"New York\"])\n",
        "    {\"Toronto\": 0, \"New York\": 0}\n",
        "    \n",
        "    Arguments:\n",
        "      cities -- a list of strings\n",
        "    \n",
        "    \"\"\"\n",
        "    # Write your code here"
      ]
    },
    {
      "cell_type": "code",
      "execution_count": null,
      "metadata": {
        "id": "zq-k22uGJZ4-"
      },
      "outputs": [],
      "source": [
        "# Test your function here"
      ]
    },
    {
      "cell_type": "markdown",
      "metadata": {
        "id": "mmGvvZhFJ4-h"
      },
      "source": [
        "### Run the hidden code cell to evaluate Part 3c"
      ]
    },
    {
      "cell_type": "code",
      "execution_count": null,
      "metadata": {
        "id": "lh3G6PB8KBP4",
        "jupyter": {
          "source_hidden": true
        }
      },
      "outputs": [],
      "source": [
        "# Do not edit this cell\n",
        "def check_part3c():\n",
        "  ex_score, max_ex_score = 0, 0\n",
        "\n",
        "  ex_score += test_homework(\"Docstring example\", init_zero_sick_population([\"Toronto\", \"New York\"]), \n",
        "                            {\"Toronto\": 0, \"New York\": 0})\n",
        "  max_ex_score += 1\n",
        "\n",
        "  compare_hw_scores(ex_score, max_ex_score)\n",
        "  return ex_score, max_ex_score\n",
        "\n",
        "_ = check_part3c()"
      ]
    },
    {
      "cell_type": "markdown",
      "metadata": {
        "id": "dWGRBFb1JaTO"
      },
      "source": [
        "## Part 3d: `build_transition_probs()`"
      ]
    },
    {
      "cell_type": "markdown",
      "source": [
        "Complete the following function according to its docstring."
      ],
      "metadata": {
        "id": "13KCGvsk4XBk"
      }
    },
    {
      "cell_type": "code",
      "execution_count": null,
      "metadata": {
        "id": "c5x7D085JbXe"
      },
      "outputs": [],
      "source": [
        "def build_transition_probs(all_dists, alpha):\n",
        "    \"\"\"\n",
        "    \n",
        "    Return a dictionary representing the probabilities of moving\n",
        "    from all cities to all other cities according to the formula in\n",
        "    the project handout.\n",
        "    \n",
        "    Arguments: \n",
        "      all_dists -- a city_to_city_dist whose keys are cities, and whose\n",
        "                   values are lists of city-distance pairs\n",
        "      alpha -- a float\n",
        "      \n",
        "    >> all_dists = {\n",
        "      'A': [('A', 0), ('B', 2), ('C', 5)],\n",
        "      'B': [('A', 2), ('B', 0), ('C', 3)],\n",
        "      'C': [('A', 5), ('B', 3), ('C', 0)]\n",
        "      }\n",
        "    >> build_transition_probs(all_dists, 2)\n",
        "    {\n",
        "      'A': [('A', 36/41), ('B', 4/41), ('C', 1/41)],\n",
        "      'B': [('A', 16/169), ('B', 144/169), ('C', 9/169)],\n",
        "      'C': [('A', 4/157), ('B', 9/157), ('C', 144/157)] \n",
        "    }\n",
        "\n",
        "    \"\"\"\n",
        "    # Write your code here"
      ]
    },
    {
      "cell_type": "code",
      "execution_count": null,
      "metadata": {
        "id": "D7e08SS1Jb1f"
      },
      "outputs": [],
      "source": [
        "# Test your function here"
      ]
    },
    {
      "cell_type": "markdown",
      "metadata": {
        "id": "pMeZ3mn3J4-j"
      },
      "source": [
        "### Run the hidden code cell to evaluate Part 3d"
      ]
    },
    {
      "cell_type": "code",
      "execution_count": null,
      "metadata": {
        "id": "w6maZrwZKB0g",
        "jupyter": {
          "source_hidden": true
        }
      },
      "outputs": [],
      "source": [
        "# Do not edit this cell\n",
        "def check_part3d():\n",
        "  ex_score, max_ex_score = 0, 0\n",
        "\n",
        "  all_dists = {\n",
        "    'A': [('A', 0), ('B', 2), ('C', 5)],\n",
        "    'B': [('A', 2), ('B', 0), ('C', 3)],\n",
        "    'C': [('A', 5), ('B', 3), ('C', 0)], \n",
        "  }\n",
        "\n",
        "  probs_alpha2 = {\n",
        "    'A': [('A', 36/41), ('B', 4/41), ('C', 1/41)],\n",
        "    'B': [('A', 16/169), ('B', 144/169), ('C', 9/169)],\n",
        "    'C': [('A', 4/157), ('B', 9/157), ('C', 144/157)] \n",
        "  }\n",
        "  probs_alpha2 = round_probs(probs_alpha2)\n",
        "  result = build_transition_probs(all_dists, 2)\n",
        "  result = round_probs(result)\n",
        "  ex_score += test_homework(\"Three cities, alpha = 2\", result, probs_alpha2)\n",
        "  max_ex_score += 1\n",
        "\n",
        "  probs_alpha3 = {\n",
        "    'A': [('A', 24/25), ('B', 8/225), ('C', 1/225)],\n",
        "    'B': [('A', 64/1819), ('B', 1728/1819), ('C', 27/1819)],\n",
        "    'C': [('A', 8/1763), ('B', 27/1763), ('C', 1728/1763)], \n",
        "  }\n",
        "  probs_alpha3 = round_probs(probs_alpha3)\n",
        "  result = build_transition_probs(all_dists, 3)\n",
        "  result = round_probs(result)\n",
        "  ex_score += test_homework(\"Three cities, alpha = 3\", result, probs_alpha3)\n",
        "  max_ex_score += 1\n",
        "\n",
        "  compare_hw_scores(ex_score, max_ex_score)\n",
        "  return ex_score, max_ex_score\n",
        "\n",
        "_ = check_part3d()"
      ]
    },
    {
      "cell_type": "markdown",
      "source": [
        "# Part 4"
      ],
      "metadata": {
        "id": "INpOyUdrjaD_"
      }
    },
    {
      "cell_type": "markdown",
      "source": [
        "## Example of `choice()` in `numpy`"
      ],
      "metadata": {
        "id": "766nr9K7GQYF"
      }
    },
    {
      "cell_type": "code",
      "source": [
        "from numpy.random import choice  # only needs to be done once\n",
        "probs = [.8, .15, .05]           # these must sum to 1\n",
        "cities = [\"TO\", \"NYC\", \"DF\"]     # you must have the same number of options as probabilities\n",
        "n_sick = 6                       # the number of sick people\n",
        "chosen_dests = list(choice(cities, p=probs, size=n_sick))\n",
        "print(chosen_dests)"
      ],
      "metadata": {
        "id": "ThupUbvwGDFA"
      },
      "execution_count": null,
      "outputs": []
    },
    {
      "cell_type": "markdown",
      "source": [
        "## Part 4a: `time_step()`"
      ],
      "metadata": {
        "id": "_yTqahuCDe8O"
      }
    },
    {
      "cell_type": "markdown",
      "source": [
        "Complete the following function according to its docstring. Note that there is no autograder since this function has randomized behavior."
      ],
      "metadata": {
        "id": "H4fGffJU4RZX"
      }
    },
    {
      "cell_type": "code",
      "source": [
        "def time_step(sick_pop, transition_probs, beta, gamma):\n",
        "    \"\"\"\n",
        "    Change dictionary sick_pop to account for one time-step in the simulation.\n",
        "    \n",
        "    Arguments:\n",
        "    sick_pop: dictionary of city to num sick\n",
        "    transition_probs: dictionary city to list of (city, prob of destination)\n",
        "    beta: recovery probability\n",
        "    gamma: infection probability\n",
        "    \"\"\"\n",
        "    # Write your code here"
      ],
      "metadata": {
        "id": "1xGat6EDDrWm"
      },
      "execution_count": null,
      "outputs": []
    },
    {
      "cell_type": "code",
      "source": [
        "# Test your function here"
      ],
      "metadata": {
        "id": "DKs6Sk5CDtyw"
      },
      "execution_count": null,
      "outputs": []
    },
    {
      "cell_type": "markdown",
      "source": [
        "# Part 5"
      ],
      "metadata": {
        "id": "fSkczZfdMMLK"
      }
    },
    {
      "cell_type": "markdown",
      "source": [
        "Please read the instructions below the following code block."
      ],
      "metadata": {
        "id": "bjpPIFH9SQ2U"
      }
    },
    {
      "cell_type": "code",
      "source": [
        "# Do not edit this cell\n",
        "proj_score, max_proj_score = 0, 0\n",
        "\n",
        "try:\n",
        "  part1a_score, max_part1a_score = check_part1a()\n",
        "  proj_score += part1a_score\n",
        "  max_proj_score += max_part1a_score\n",
        "\n",
        "  part1b_score, max_part1b_score = check_part1b()\n",
        "  proj_score += part1b_score\n",
        "  max_proj_score += max_part1b_score\n",
        "\n",
        "  part1c_score, max_part1c_score = check_part1c()\n",
        "  proj_score += part1c_score\n",
        "  max_proj_score += max_part1c_score\n",
        "\n",
        "  part1d_score, max_part1d_score = check_part1d()\n",
        "  proj_score += part1d_score\n",
        "  max_proj_score += max_part1d_score\n",
        "  \n",
        "  part1e_score, max_part1e_score = check_part1e()\n",
        "  proj_score += part1e_score\n",
        "  max_proj_score += max_part1e_score\n",
        "\n",
        "  part1f_score, max_part1f_score = check_part1f()\n",
        "  proj_score += part1f_score\n",
        "  max_proj_score += max_part1f_score\n",
        "\n",
        "  part2a_score, max_part2a_score = check_part2a()\n",
        "  proj_score += part2a_score\n",
        "  max_proj_score += max_part2a_score\n",
        "\n",
        "  part2b_score, max_part2b_score = check_part2b()\n",
        "  proj_score += part2b_score\n",
        "  max_proj_score += max_part2b_score\n",
        "\n",
        "  part2c_score, max_part2c_score = check_part2c()\n",
        "  proj_score += part2c_score\n",
        "  max_proj_score += max_part2c_score\n",
        "\n",
        "  part2d_score, max_part2d_score = check_part2d()\n",
        "  proj_score += part2d_score\n",
        "  max_proj_score += max_part2d_score\n",
        "\n",
        "  part3a_score, max_part3a_score = check_part3a()\n",
        "  proj_score += part3a_score\n",
        "  max_proj_score += max_part3a_score\n",
        "\n",
        "  part3b_score, max_part3b_score = check_part3b()\n",
        "  proj_score += part3b_score\n",
        "  max_proj_score += max_part3b_score\n",
        "\n",
        "  part3c_score, max_part3c_score = check_part3c()\n",
        "  proj_score += part3c_score\n",
        "  max_proj_score += max_part3c_score\n",
        "\n",
        "  part3d_score, max_part3d_score = check_part3d()\n",
        "  proj_score += part3d_score\n",
        "  max_proj_score += max_part3d_score\n",
        "\n",
        "except NameError:\n",
        "  raise Exception(\"Autograder failed to run. You have either not completed all of the exercises or did not run the entire notebook\")\n",
        "\n",
        "compare_hw_scores(proj_score, max_proj_score)"
      ],
      "metadata": {
        "id": "6qq3zB2nSR8W"
      },
      "execution_count": null,
      "outputs": []
    },
    {
      "cell_type": "markdown",
      "source": [
        "To confirm that all of your helper functions are working properly and that your notebook is suitable for submission, run the entire notebook up until this cell by clicking inside this cell and then selecting \"Runtime\" > \"Run before\" in the Google Colab menu.\n",
        "\n",
        "Note that you are not recommended to select \"Run all\" as you have been able to do for the homework assignments since you will also have your final program after this cell."
      ],
      "metadata": {
        "id": "mj1tUf18THrq"
      }
    },
    {
      "cell_type": "markdown",
      "source": [
        "Once you have confirmed that all of your helper functions are working, run this simulation. Try out different values the parameters at the top and save the most interesting result in a file called `simulation_output.txt`; you can either create this file programmatically or simply copy it over to a text editor of your choice."
      ],
      "metadata": {
        "id": "Xe-2bmTpMT38"
      }
    },
    {
      "cell_type": "code",
      "source": [
        "alpha = 2               # larger alpha => smaller likelihood of transition\n",
        "beta = .3               # recovery probability\n",
        "gamma = .3              # infection probability\n",
        "starting_sick_pop = 1   # number of people who start off sick\n",
        "\n",
        "# Load the dictionary of distances of direct flights between cities\n",
        "try:\n",
        "  distances = build_adjacent_distances(open(\"cities.txt\").readlines())\n",
        "except:\n",
        "  raise Exception(\"The program could not find cities.txt\") \n",
        "\n",
        "# Build a dictionary of the shortest distances from every city to every other\n",
        "all_dists = build_shortest_distances(distances)\n",
        "\n",
        "# Build a dictionary of probabilities of moving from every city to every other\n",
        "all_probs = build_transition_probs(all_dists, alpha)\n",
        "\n",
        "# Get a list of all the cities in our simulation\n",
        "cities = get_all_cities(distances)\n",
        "\n",
        "# sick_pop is a dictionary of city names to number of sick inhabitants\n",
        "# Initially every city has 0 sick people but Toronto has 1 sick person\n",
        "sick_pop = init_zero_sick_population(cities)\n",
        "sick_pop[\"Toronto\"] = starting_sick_pop\n",
        "\n",
        "# Run the simulation for 100 time steps\n",
        "for i in range(100):\n",
        "    time_step(sick_pop, all_probs, beta, gamma)\n",
        "    print(\"Day\", i, sick_pop)"
      ],
      "metadata": {
        "id": "VlhW_pOlMNfL"
      },
      "execution_count": null,
      "outputs": []
    }
  ],
  "metadata": {
    "colab": {
      "collapsed_sections": [
        "lDXoJmoZJ4M6",
        "S53yKXI1NEf-",
        "YY9ZmQtCKylQ",
        "oYNPjdsGA6Sm",
        "P87BSNfLBD7O",
        "Gc783ehXJ4NB",
        "1-sA2X9YBTFE",
        "n1_gul06J4NF",
        "jYxHIMlIBVby",
        "pUvjtDGqJ4NG",
        "9y11t62RBXvt",
        "WVsdXv-2J4NI",
        "Dc_VNpw3BYou",
        "n51cOs-kJ4NK",
        "XRqIrTblrAfi",
        "szqQ3Fnktc8D",
        "SJMh-PRVHwBG",
        "KR9hZ-AyH9lK",
        "fig7hRjBJ4kC",
        "2fzVghbmtuQt",
        "QlmIo5lkuNJ3",
        "wgXwDnD1t27D",
        "2BFkGGqTuTpK",
        "Q4akB4_-jfsz",
        "GFAtyqGSC7pP",
        "GAfa1joWJHl9",
        "n396q4iKJWSX",
        "Y-N4UlAiJYeb",
        "1HDRbY5yJ4-g",
        "BbbZLKzVJZRy",
        "mmGvvZhFJ4-h",
        "dWGRBFb1JaTO",
        "pMeZ3mn3J4-j",
        "INpOyUdrjaD_",
        "766nr9K7GQYF",
        "_yTqahuCDe8O",
        "fSkczZfdMMLK"
      ],
      "provenance": []
    },
    "kernelspec": {
      "display_name": "Python 3",
      "language": "python",
      "name": "python3"
    },
    "language_info": {
      "codemirror_mode": {
        "name": "ipython",
        "version": 3
      },
      "file_extension": ".py",
      "mimetype": "text/x-python",
      "name": "python",
      "nbconvert_exporter": "python",
      "pygments_lexer": "ipython3",
      "version": "3.6.13"
    }
  },
  "nbformat": 4,
  "nbformat_minor": 0
}