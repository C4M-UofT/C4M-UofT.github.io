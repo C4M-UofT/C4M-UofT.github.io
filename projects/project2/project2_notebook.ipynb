{
  "cells": [
    {
      "cell_type": "markdown",
      "metadata": {
        "id": "S53yKXI1NEf-"
      },
      "source": [
        "# Instructions"
      ]
    },
    {
      "cell_type": "markdown",
      "source": [
        "## Hidden Code\n",
        "The notebook contains several hidden code cells, which are displayed as three dots. To run these, select the above cell and press run twice (either by the buttons on the top, or the \"shift\" + \"return\" hotkey). Once the hidden code cell runs, a message such as \"Done\" or your evaluation results should appear. If the code expands, please collapse it using the column on the left. You don't need to edit or understand the code in these cells. "
      ],
      "metadata": {
        "id": "YY9ZmQtCKylQ"
      }
    },
    {
      "cell_type": "markdown",
      "source": [
        "## Starting Out\n",
        "The first cell after this section is titled \"Run the hidden code cell before starting\". This should be run everytime a new kernel/runtime is started. If run correctly, the message \"Done!\" should appear underneath.\n"
      ],
      "metadata": {
        "id": "P5WCuxEKK0gi"
      }
    },
    {
      "cell_type": "markdown",
      "source": [
        "## Exercises\n",
        "This is followed by all the exercises of the notebook. An exercise generally consists of 4 cells. \n",
        "1.   The first cell provides a description of the function you need to implement. \n",
        "2.   The second cell contains the starter code, and contains a comment indicating where you should write your code. Your entire implementation will go in this cell. \n",
        "3.   The third cell is a testing cell for your own testing. Feel free to write any code you like here to test your function is working correctly.\n",
        "4.   The last cell contains hidden code to run test cases on your function. This cell, when run, will provide a mark on your implementation. If implemented correctly, you should get full marks."
      ],
      "metadata": {
        "id": "YQtfFrVXK2Je"
      }
    },
    {
      "cell_type": "markdown",
      "source": [
        "## Completion\n",
        "The completion cell runs all the test cases in the notebook on all the functions. If this cell returns full marks, this means the notebook is complete and you can submit it."
      ],
      "metadata": {
        "id": "ZIAM5FBjK3oB"
      }
    },
    {
      "cell_type": "markdown",
      "metadata": {
        "id": "lDXoJmoZJ4M6"
      },
      "source": [
        "## Important: Run the hidden code cell before starting"
      ]
    },
    {
      "cell_type": "code",
      "execution_count": null,
      "metadata": {
        "id": "CR3MVg81IvWX",
        "jupyter": {
          "source_hidden": true
        }
      },
      "outputs": [],
      "source": [
        "# Do not edit this cell (Keep hidden to keep notebook easier to read)\n",
        "def test(test_name, actual, expected):\n",
        "  if(actual == expected):\n",
        "    return 1\n",
        "  else:\n",
        "    print(\"Test failed. \" + test_name + \" expected \" + str(expected) + \", got \" + str(actual))\n",
        "    return 0\n",
        "\n",
        "print(\"Done!\")"
      ]
    },
    {
      "cell_type": "markdown",
      "metadata": {
        "id": "oYNPjdsGA6Sm"
      },
      "source": [
        "# Part 1"
      ]
    },
    {
      "cell_type": "markdown",
      "metadata": {
        "id": "P87BSNfLBD7O"
      },
      "source": [
        "## Part 1a: `get_closest()`"
      ]
    },
    {
      "cell_type": "markdown",
      "source": [
        "Complete the following function according to its docstring."
      ],
      "metadata": {
        "id": "V7LjMN5f5LLs"
      }
    },
    {
      "cell_type": "code",
      "execution_count": null,
      "metadata": {
        "id": "u4gySwW4A3_R"
      },
      "outputs": [],
      "source": [
        "def get_closest(unvisited):\n",
        "    \"\"\" Return a tuple from list unvisited that has the shortest distance\n",
        "    (return the first such tuple in case of ties). Assumes unvisited is not\n",
        "    empty.\n",
        "    \n",
        "    Parameters:\n",
        "        unvisited-- a list of (city_name, distance) pairs\n",
        "    Return value:\n",
        "        the first tuple in unvisited whose distance is minimum\n",
        "    Side-effects:\n",
        "        None\n",
        "    \n",
        "    Examples:\n",
        "    >>> get_closest([('A', 3)])\n",
        "    ('A', 3)\n",
        "    >>> get_closest([('A', 3), ('B', 2)])\n",
        "    ('B', 2)\n",
        "    >>> get_closest([('A', 3), ('C', 4)])\n",
        "    ('A', 3)\n",
        "    >>> get_closest([('A', 3), ('B', 2), ('C', 4), ('D', 2)])\n",
        "    ('B', 2)\n",
        "    \"\"\"\n",
        "    # Write your code here"
      ]
    },
    {
      "cell_type": "code",
      "execution_count": null,
      "metadata": {
        "id": "MdZJUl1pBT2Y"
      },
      "outputs": [],
      "source": [
        "# Test your function here"
      ]
    },
    {
      "cell_type": "markdown",
      "metadata": {
        "id": "Gc783ehXJ4NB"
      },
      "source": [
        "### Run the hidden code cell to evaluate `get_closest()`"
      ]
    },
    {
      "cell_type": "code",
      "execution_count": null,
      "metadata": {
        "id": "-dMw8ock5I2s",
        "jupyter": {
          "source_hidden": true
        }
      },
      "outputs": [],
      "source": [
        "# Do not edit this cell\n",
        "score, max = 0, 0\n",
        "\n",
        "score += test(\"Singleton case\", get_closest([('A', 3)]), ('A', 3))\n",
        "max += 1\n",
        "score += test(\"Two distances\", get_closest([('A', 3), ('B', 2)]), ('B', 2))\n",
        "max += 1\n",
        "score += test(\"Two distances\", get_closest([('A', 3), ('C', 4)]), ('A', 3))\n",
        "max += 1\n",
        "score += test(\"Multiple distances\", get_closest([('A', 3), ('B', 1), ('C', 4), ('D', 2)]), ('B', 1))\n",
        "max += 1\n",
        "\n",
        "if score == max:\n",
        "  print(\"All test cases passed!\")\n",
        "print(\"Mark: \" + str(score) + \"/\" + str(max))"
      ]
    },
    {
      "cell_type": "markdown",
      "metadata": {
        "id": "1-sA2X9YBTFE"
      },
      "source": [
        "## Part 1b: `find_city()`"
      ]
    },
    {
      "cell_type": "markdown",
      "source": [
        "Complete the following function according to its docstring."
      ],
      "metadata": {
        "id": "nxeDMTyr5J4J"
      }
    },
    {
      "cell_type": "code",
      "execution_count": null,
      "metadata": {
        "id": "cOPHPWXeBUuz"
      },
      "outputs": [],
      "source": [
        "def find_city(city, city_list):\n",
        "    \"\"\" (str, list of (str, int)) -> int\n",
        "    \n",
        "    Return the index of the first tuple that contains city in city_list, or\n",
        "    -1 if city does not appear in city_list.\n",
        "    \n",
        "    Parameters:\n",
        "        city-- the name of a city to look for (a string)\n",
        "        city_list-- a list of tuples of the form (city_name, distance)\n",
        "    Return value:\n",
        "        the index of the first tuple in city_list that contains city; -1 if no\n",
        "        tuple in city_list contains city\n",
        "    Side-effects:\n",
        "        None\n",
        "    \n",
        "    Examples:\n",
        "    >>> find_city('A', [('A', 2)])\n",
        "    0\n",
        "    >>> find_city('A', [('B', 3), ('C', 2)])\n",
        "    -1\n",
        "    >>> find_city('A', [('B', 3), ('C', 2), ('A', 2)])\n",
        "    2\n",
        "    >>> find_city('C', [('B', 3), ('C', 2), ('A', 2), ('C', 4)])\n",
        "    1\n",
        "    \"\"\"\n",
        "    # Write your code here"
      ]
    },
    {
      "cell_type": "code",
      "execution_count": null,
      "metadata": {
        "id": "3Vz_X9BEBVHv"
      },
      "outputs": [],
      "source": [
        "# Test your function here"
      ]
    },
    {
      "cell_type": "markdown",
      "metadata": {
        "id": "n1_gul06J4NF"
      },
      "source": [
        "### Run the hidden code cell to evaluate `find_city()`"
      ]
    },
    {
      "cell_type": "code",
      "execution_count": null,
      "metadata": {
        "id": "NxEqElEgBbUr",
        "jupyter": {
          "source_hidden": true
        }
      },
      "outputs": [],
      "source": [
        "# Do not edit this cell\n",
        "score, max = 0, 0\n",
        "\n",
        "score += test(\"Singleton case\", find_city('A', [('A', 2)]), 0)\n",
        "max += 1\n",
        "score += test(\"City not found\", find_city('A', [('B', 3), ('C', 2)]), -1)\n",
        "max += 1\n",
        "score += test(\"Multiple cities\", find_city('A', [('B', 3), ('C', 2), ('A', 2)]), 2)\n",
        "max += 1\n",
        "score += test(\"Multiple cities\", find_city('C', [('B', 3), ('C', 2), ('A', 2), ('C', 4)]), 1)\n",
        "max += 1\n",
        "\n",
        "if score == max:\n",
        "  print(\"All test cases passed!\")\n",
        "print(\"Mark: \" + str(score) + \"/\" + str(max))"
      ]
    },
    {
      "cell_type": "markdown",
      "metadata": {
        "id": "jYxHIMlIBVby"
      },
      "source": [
        "## Part 1c: `process_line()`\n"
      ]
    },
    {
      "cell_type": "markdown",
      "source": [
        "Complete the function below according to its docstring. Notice that the city names can contain a number of spaces. They can not contain colons. \n",
        "\n",
        "This function assumes that you have an open file of same format as cities.txt and that you are given one line of that file to process."
      ],
      "metadata": {
        "id": "ZfT-Psb55FGQ"
      }
    },
    {
      "cell_type": "code",
      "execution_count": null,
      "metadata": {
        "id": "pgeRGm12BVrK"
      },
      "outputs": [],
      "source": [
        "def process_line(line):\n",
        "    \"\"\" (str) -> (str, str, int) \n",
        "    \n",
        "    Process one line from data (in the same format as the lines in cities.txt)\n",
        "    to extract the first city's name, the second city's name, and the distance.  Return\n",
        "    these values in a tuple.\n",
        "    \n",
        "    Parameters:\n",
        "        line-- a single line in the same format as the lines in cities.txt, in the \n",
        "               format specified in the project handout (first city:second city distance)\n",
        "    Return value:\n",
        "        (first, second, distance), where first is the name of the first city,\n",
        "        second is the name of the second city, and distance is the distance\n",
        "    Side-effects:\n",
        "        None\n",
        "    \n",
        "    Examples:\n",
        "    >>> process_line(\"A:B 3\")\n",
        "    ('A', 'B', 3)\n",
        "    >>> process_line(\"some city:B 2\")\n",
        "    ('some city', 'B', 2)\n",
        "    >>> process_line(\"A:other city 5\")\n",
        "    ('A', 'other city', 5)\n",
        "    \"\"\"\n",
        "    # Write your code here"
      ]
    },
    {
      "cell_type": "code",
      "execution_count": null,
      "metadata": {
        "id": "kpR2ipS5BWCz"
      },
      "outputs": [],
      "source": [
        "# Test your function here"
      ]
    },
    {
      "cell_type": "markdown",
      "metadata": {
        "id": "pUvjtDGqJ4NG"
      },
      "source": [
        "### Run the hidden code cell to evaluate `process_line()`"
      ]
    },
    {
      "cell_type": "code",
      "execution_count": null,
      "metadata": {
        "id": "gjbguDy5BbgT",
        "jupyter": {
          "source_hidden": true
        }
      },
      "outputs": [],
      "source": [
        "# Do not edit this cell\n",
        "score, max = 0, 0\n",
        "\n",
        "score += test(\"Contiguous city names\", process_line(\"A:B 3\"), ('A', 'B', 3))\n",
        "max += 1\n",
        "score += test(\"Two-word source city\", process_line(\"some city:B 2\"), ('some city', 'B', 2))\n",
        "max += 1\n",
        "score += test(\"Two-word destination city\", process_line(\"A:other city 5\"), ('A', 'other city', 5))\n",
        "max += 1\n",
        "score += test(\"All multiple-word names\", process_line(\"A A A:B B B B 15\"), (\"A A A\", \"B B B B\", 15))\n",
        "max += 1\n",
        "\n",
        "if score == max:\n",
        "  print(\"All test cases passed!\")\n",
        "print(\"Mark: \" + str(score) + \"/\" + str(max))"
      ]
    },
    {
      "cell_type": "markdown",
      "metadata": {
        "id": "9y11t62RBXvt"
      },
      "source": [
        "## Part 1d: `build_adjacent_distances()`\n"
      ]
    },
    {
      "cell_type": "markdown",
      "source": [
        "Complete the function `build_adjacent_distances()` according to its docstring. To do this you should paste your solution from `process_line()` above the starter code and then call it from within your new function.\n",
        "\n",
        "Remember that a flight from New York to Toronto of 3 hours implies that there is a return flight from Toronto to New York. Both of these should go in your resulting dictionary."
      ],
      "metadata": {
        "id": "Voz-elOK5Bu9"
      }
    },
    {
      "cell_type": "code",
      "execution_count": null,
      "metadata": {
        "id": "NmdjsE2qBX_q"
      },
      "outputs": [],
      "source": [
        "def build_adjacent_distances(lines):\n",
        "    \"\"\" Read distances between cities from the lines read from data,\n",
        "    which is in the same format as cities.txt, and\n",
        "    return a dictionary structure that contains all of this information.\n",
        "    \n",
        "    \n",
        "    Parameters:\n",
        "        lines -- a list of lines read in from data in the same format as\n",
        "                 cities.txt\n",
        "    Return value:\n",
        "        a dictionary whose keys are city names and whose values are lists of\n",
        "        pairs of the form (city_name, distance).\n",
        "        The cities must be sorted in alphabetical order. \n",
        "        (Note: sorted([(\"B\", 3), (\"A\", 2)]) returns [('A', 2), ('B', 3)]\n",
        "    \n",
        "    Side-effects:\n",
        "        None\n",
        "    \n",
        "    Examples:\n",
        "    # The second line below violates style guidelines (it is too long), but\n",
        "    # is shown this way so you can use it for testing.\n",
        "    >>> build_adjacent_distances(lines)  # assuming lines are the lines of cities.txt\n",
        "    {'Toronto': [('New York', 3), ('Mexico City', 7), ('San Francisco', 6)], 'San Francisco': [('Washington', 5), ('Mexico City', 3), ('Toronto', 6)], 'New York': [('Toronto', 3), ('Washington', 2)], 'Washington': [('New York', 2), ('San Francisco', 5)], 'Mexico City': [('San Francisco', 3), ('Toronto', 7)]}\n",
        "    \"\"\"\n",
        "    # Write your code here\n",
        "        "
      ]
    },
    {
      "cell_type": "code",
      "execution_count": null,
      "metadata": {
        "id": "UpMi93IpBYNJ"
      },
      "outputs": [],
      "source": [
        "# Test your function here"
      ]
    },
    {
      "cell_type": "markdown",
      "metadata": {
        "id": "WVsdXv-2J4NI"
      },
      "source": [
        "### Run the hidden code cell to evaluate `build_adjacent_distances()`"
      ]
    },
    {
      "cell_type": "code",
      "execution_count": null,
      "metadata": {
        "id": "_WznEx35Bbs6",
        "jupyter": {
          "source_hidden": true
        }
      },
      "outputs": [],
      "source": [
        "# Do not edit this cell\n",
        "score, max = 0, 0\n",
        "\n",
        "score += test(\"cities.txt example\", build_adjacent_distances(['Toronto:New York 3\\n', 'New York:Washington 2\\n', 'Washington:San Francisco 5\\n', 'San Francisco:Mexico City 3\\n', 'Toronto:Mexico City 7\\n', 'Toronto:San Francisco 6\\n']), {'Mexico City': [('San Francisco', 3), ('Toronto', 7)], 'New York': [('Toronto', 3), ('Washington', 2)], 'San Francisco': [('Mexico City', 3), ('Toronto', 6), ('Washington', 5)], 'Toronto': [('Mexico City', 7), ('New York', 3), ('San Francisco', 6)], 'Washington': [('New York', 2), ('San Francisco', 5)]})\n",
        "max += 1\n",
        "score += test(\"Small example\", build_adjacent_distances([\"A:B 2\\n\", \"B:C 3\\n\"]), {'A': [('B', 2)], 'B': [('A', 2), ('C', 3)], 'C': [('B', 3)]})\n",
        "max += 1\n",
        "\n",
        "if score == max:\n",
        "  print(\"All test cases passed!\")\n",
        "print(\"Mark: \" + str(score) + \"/\" + str(max))"
      ]
    },
    {
      "cell_type": "markdown",
      "metadata": {
        "id": "Dc_VNpw3BYou"
      },
      "source": [
        "## Part 1e: `get_all_cities()`"
      ]
    },
    {
      "cell_type": "markdown",
      "source": [
        "Complete the following function according to its docstring."
      ],
      "metadata": {
        "id": "JpBIDtmX4-dn"
      }
    },
    {
      "cell_type": "code",
      "execution_count": null,
      "metadata": {
        "id": "exxyoA6hBY5C"
      },
      "outputs": [],
      "source": [
        "def get_all_cities(city_to_city_dist):\n",
        "    \"\"\" Return a list of all the cities that appear in the dictionary\n",
        "    city_to_city_dist (a dictionary in the format returned by build_adjacent_distances).\n",
        "    The cities are to be sorted in alphabetic order.\n",
        "    \n",
        "    >>> city_to_city_dist = {'Washington': [('New York', 2), ('San Francisco', 5)],\n",
        "                    'Toronto': [('New York', 3)]}\n",
        "    >>> get_all_cities(city_to_city_dist)\n",
        "    ['New York', 'San Francisco', 'Toronto', 'Washington'] \n",
        "    \"\"\"\n",
        "    # Write your code here"
      ]
    },
    {
      "cell_type": "code",
      "execution_count": null,
      "metadata": {
        "id": "7jSGa0X5BZTG"
      },
      "outputs": [],
      "source": [
        "# Test your function here"
      ]
    },
    {
      "cell_type": "markdown",
      "metadata": {
        "id": "n51cOs-kJ4NK"
      },
      "source": [
        "### Run the hidden code cell to evaluate `get_all_cities()`"
      ]
    },
    {
      "cell_type": "code",
      "execution_count": null,
      "metadata": {
        "id": "egoFAPFCBb50",
        "jupyter": {
          "source_hidden": true
        }
      },
      "outputs": [],
      "source": [
        "# Do not edit this cell\n",
        "score, max = 0, 0\n",
        "\n",
        "score += test(\"Docstring example\", get_all_cities({'Washington': [('New York', 2), ('San Francisco', 5)], 'Toronto': [('New York', 3)]}), ['New York', 'San Francisco', 'Toronto', 'Washington'])\n",
        "max += 1\n",
        "\n",
        "if score == max:\n",
        "  print(\"All test cases passed!\")\n",
        "print(\"Mark: \" + str(score) + \"/\" + str(max))"
      ]
    },
    {
      "cell_type": "markdown",
      "metadata": {
        "id": "w0gmV_f9yJwu"
      },
      "source": [
        "## Part 1 Completion"
      ]
    },
    {
      "cell_type": "markdown",
      "source": [
        "Run this hidden code cell to check that you've successfully completed all of Part 1."
      ],
      "metadata": {
        "id": "LQko_spX5Pta"
      }
    },
    {
      "cell_type": "code",
      "execution_count": null,
      "metadata": {
        "id": "1nPQEMQkuBjr",
        "jupyter": {
          "source_hidden": true
        }
      },
      "outputs": [],
      "source": [
        "# Do not edit this cell\n",
        "score, max = 0, 0\n",
        "\n",
        "try:\n",
        "  # Part 1a\n",
        "  score += test(\"Part 1a: Singleton case\", get_closest([('A', 3)]), ('A', 3))\n",
        "  max += 1\n",
        "  score += test(\"Part 1a: Two distances\", get_closest([('A', 3), ('B', 2)]), ('B', 2))\n",
        "  max += 1\n",
        "  score += test(\"Part 1a: Two distances\", get_closest([('A', 3), ('C', 4)]), ('A', 3))\n",
        "  max += 1\n",
        "  score += test(\"Part 1a: Multiple distances\", get_closest([('A', 3), ('B', 1), ('C', 4), ('D', 2)]), ('B', 1))\n",
        "  max += 1\n",
        "\n",
        "  # Part 1b\n",
        "  score += test(\"Part 1b: Singleton case\", find_city('A', [('A', 2)]), 0)\n",
        "  max += 1\n",
        "  score += test(\"Part 1b: City not found\", find_city('A', [('B', 3), ('C', 2)]), -1)\n",
        "  max += 1\n",
        "  score += test(\"Part 1b: Multiple cities\", find_city('A', [('B', 3), ('C', 2), ('A', 2)]), 2)\n",
        "  max += 1\n",
        "  score += test(\"Part 1b: Multiple cities\", find_city('C', [('B', 3), ('C', 2), ('A', 2), ('C', 4)]), 1)\n",
        "  max += 1\n",
        "\n",
        "  # Part 1c\n",
        "  score += test(\"Part 1c: Contiguous city names\", process_line(\"A:B 3\"), ('A', 'B', 3))\n",
        "  max += 1\n",
        "  score += test(\"Part 1c: Two-word source city\", process_line(\"some city:B 2\"), ('some city', 'B', 2))\n",
        "  max += 1\n",
        "  score += test(\"Part 1c: Two-word destination city\", process_line(\"A:other city 5\"), ('A', 'other city', 5))\n",
        "  max += 1\n",
        "  score += test(\"Part 1c: All multiple-word names\", process_line(\"A A A:B B B B 15\"), (\"A A A\", \"B B B B\", 15))\n",
        "  max += 1\n",
        "\n",
        "  # Part 1d\n",
        "  score += test(\"Part 1d: cities.txt example\", build_adjacent_distances(['Toronto:New York 3\\n', 'New York:Washington 2\\n', 'Washington:San Francisco 5\\n', 'San Francisco:Mexico City 3\\n', 'Toronto:Mexico City 7\\n', 'Toronto:San Francisco 6\\n']), {'Mexico City': [('San Francisco', 3), ('Toronto', 7)], 'New York': [('Toronto', 3), ('Washington', 2)], 'San Francisco': [('Mexico City', 3), ('Toronto', 6), ('Washington', 5)], 'Toronto': [('Mexico City', 7), ('New York', 3), ('San Francisco', 6)], 'Washington': [('New York', 2), ('San Francisco', 5)]})\n",
        "  max += 1\n",
        "  score += test(\"Part 1d: Small example\", build_adjacent_distances([\"A:B 2\\n\", \"B:C 3\\n\"]), {'A': [('B', 2)], 'B': [('A', 2), ('C', 3)], 'C': [('B', 3)]})\n",
        "  max += 1\n",
        "\n",
        "  # Part 1e\n",
        "  score += test(\"Part 1e: Docstring example\", get_all_cities({'Washington': [('New York', 2), ('San Francisco', 5)], 'Toronto': [('New York', 3)]}), ['New York', 'San Francisco', 'Toronto', 'Washington'])\n",
        "  max += 1\n",
        "except NameError:\n",
        "  print(\"Oops! It seems like some of your functions are not implemented.\")\n",
        "\n",
        "if score == max:\n",
        "  print(\"Congratulations, you passed all the tests passed!\")\n",
        "elif score == 0:\n",
        "   print(\"\")\n",
        "else:\n",
        "  print(\"Some of your functions are working, but all test cases haven't passed yet. Keep on trying!\")\n",
        "\n",
        "print(\"Mark: \" + str(score) + \"/\" + str(max))"
      ]
    },
    {
      "cell_type": "markdown",
      "metadata": {
        "id": "SJMh-PRVHwBG"
      },
      "source": [
        "# Part 2"
      ]
    },
    {
      "cell_type": "markdown",
      "metadata": {
        "id": "KR9hZ-AyH9lK"
      },
      "source": [
        "## Part 2a: `visit_all()` analogue"
      ]
    },
    {
      "cell_type": "markdown",
      "source": [
        "In this problem, we will be simulating a patient queue. For each patient, we have a name and a priority code. The patients are to be treated according to their priority -- higher priority first. The function `visit_next_patient(unvisited, visited)` is supplied. The function finds the patient with the highest priority in the list unvisited, and moves their name to the list visited. If `visit_next_patient()` is called repeatedly, visited will become a list of patients sorted by their priority, and unvisited will become empty.\n",
        "\n",
        "Write the function `visit_all_patients()`, which should call `visit_next_patient()` repeatedly while it makes sense to, and return a list of patients sorted by priority. Use `visit_next_patient()` rather than `sorted()` or `sort()` to accomplish this."
      ],
      "metadata": {
        "id": "RCZjK0oO409P"
      }
    },
    {
      "cell_type": "code",
      "execution_count": null,
      "metadata": {
        "id": "oVWkiVVHH91G"
      },
      "outputs": [],
      "source": [
        "def visit_next_patient(unvisited, visited):\n",
        "    \"\"\"Remove the patient with the highest priority in list unvisited, and append\n",
        "    the patient's name to the end of the list visited. unvisited is a list\n",
        "    of tuples, with each tuple having a string and an integer as elements\n",
        "    (the name and priority) respectively. The list visited is a list of strings.\n",
        "    \n",
        "    >> unvisited = [(\"Bob\", 5), (\"Tom\", 6), (\"Tim\", 4)]\n",
        "    >> visited = [\"Alice\"]\n",
        "    >> visit_next_patient(unvisited, visited)\n",
        "    >> visited\n",
        "    [\"Alice\", \"Tom\"]\n",
        "    \n",
        "    >> unvisited\n",
        "    [(\"Bob\", 5), (\"Tim\", 4)]\n",
        "    \n",
        "    \"\"\"\n",
        "    \n",
        "    highest_priority_ind = 0\n",
        "    highest_priority = unvisited[0][1]\n",
        "    for i in range(len(unvisited)):\n",
        "        if unvisited[i][1] > highest_priority:\n",
        "            highest_priority = unvisited[i][1]\n",
        "            highest_priority_ind = i\n",
        "            \n",
        "    visited.append(unvisited[highest_priority_ind][0])\n",
        "    unvisited[highest_priority_ind:highest_priority_ind+1] = []\n",
        "\n",
        "def visit_all_patients(patient_list):\n",
        "    \"\"\"Return a list of the names of the patients, from highest priority to lowest, without using\n",
        "    sorted() or sort(). Instead, call visit_next_patient repeatedly.\n",
        "  \n",
        "    Arguments:\n",
        "      patient_list -- a list of tuples, with each tuple containing the name of a patient (str)\n",
        "                      and their priority (int)\n",
        "\n",
        "    >>> visit_all_patients([(\"Bob\", 5), (\"Tom\", 6), (\"Tim\", 4)])\n",
        "    [\"Tom\", \"Bob\", \"Tim\"]\n",
        "    \"\"\"\n",
        "    # Write your code here"
      ]
    },
    {
      "cell_type": "code",
      "execution_count": null,
      "metadata": {
        "id": "16PS02lRH-DX"
      },
      "outputs": [],
      "source": [
        "# Test your function here"
      ]
    },
    {
      "cell_type": "markdown",
      "metadata": {
        "id": "fig7hRjBJ4kC"
      },
      "source": [
        "### Run the hidden code cell to evaluate `visit_all_patients()`"
      ]
    },
    {
      "cell_type": "code",
      "execution_count": null,
      "metadata": {
        "jupyter": {
          "source_hidden": true
        },
        "id": "WkW_aVbSJqjm"
      },
      "outputs": [],
      "source": [
        "# Do not edit this cell\n",
        "score, max = 0, 0\n",
        "\n",
        "score += test(\"One patient\", visit_all_patients([(\"Bob\", 0)]), [\"Bob\"])\n",
        "max += 1\n",
        "score += test(\"Several patients\", visit_all_patients([(\"Bob\", 5), (\"Tom\", 6), (\"Tim\", 4)]), ['Tom', 'Bob', 'Tim'])\n",
        "max += 1\n",
        "score += test(\"Four patients\", visit_all_patients([(\"Bob\", 5), (\"Tom\", 6), (\"Alice\", 8),(\"Tim\", 4)]), ['Alice', 'Tom', 'Bob', 'Tim'])\n",
        "max += 1\n",
        "\n",
        "if score == max:\n",
        "  print(\"All test cases passed!\")\n",
        "print(\"Mark: \" + str(score) + \"/\" + str(max))"
      ]
    },
    {
      "cell_type": "markdown",
      "source": [
        "## Part 2b: `visit_next()`\n",
        "\n",
        "\n",
        "\n"
      ],
      "metadata": {
        "id": "2fzVghbmtuQt"
      }
    },
    {
      "cell_type": "markdown",
      "source": [
        "Now that you have seen an example of `visit_next()` and `visit_all() in the context of a slightly different problem, complete the following function according to its docstring."
      ],
      "metadata": {
        "id": "AagJJ46a4yL3"
      }
    },
    {
      "cell_type": "code",
      "source": [
        "def visit_next(visited, unvisited, city_to_city_dist):\n",
        "    \"\"\" Move the next closest city from the unvisited list to the visited list.\n",
        "    Update the distances in the unvisited list if a shorter path exists to one\n",
        "    of the unvisited cities, as described in the handout.  Assumes that the\n",
        "    unvisited list is non-empty.\n",
        "    \n",
        "    Parameters:\n",
        "        visited-- a list of tuples for cities that have been \"visited\", i.e.,\n",
        "            their minimum distance to the city of origin is known, and their\n",
        "            neighbours already belong to the visited or unvisited list\n",
        "        unvisited-- a list of tuples for cities that have not yet been visited\n",
        "        city_to_city_dist-- a dictionary of direct flight lengths between cities, \n",
        "                    such as what is returned by get_all_cities()\n",
        "    Return value:\n",
        "        None\n",
        "    Side-effects:\n",
        "        - the first city C whose distance is minimum in unvisited is removed\n",
        "          from unvisited and added to visited\n",
        "        - neighbours of C that did not already belong to either list are added\n",
        "          to unvisited (with their distance from C)\n",
        "        - neighbours of C that were already in unvisited have their distance\n",
        "          updated, if going through C leads to a shorter total distance\n",
        "    \n",
        "    Examples:\n",
        "    # This needs to be tested much more thoroughly than the few cases below, to\n",
        "    # take into account all the possible situations that could come up.\n",
        "    >>> city_to_city_dist = {'Toronto': [('New York', 3), ('Mexico City', 7), ('San Francisco', 6)], 'San Francisco': [('Washington', 5), ('Mexico City', 3), ('Toronto', 6)], 'New York': [('Toronto', 3), ('Washington', 2)], 'Washington': [('New York', 2), ('San Francisco', 5)], 'Mexico City': [('San Francisco', 3), ('Toronto', 7)]}\n",
        "    >>> unvisited = [('Toronto', 0)]\n",
        "    >>> visited = []\n",
        "    >>> visit_next(visited, unvisited, city_to_city_dist)\n",
        "    >>> visited\n",
        "    [('Toronto', 0)]\n",
        "    >>> unvisited\n",
        "    [('New York', 3), ('Mexico City', 7), ('San Francisco', 6)]\n",
        "    >>> visit_next(visited, unvisited, city_to_city_dist)\n",
        "    >>> visited\n",
        "    [('Toronto', 0), ('New York', 3)]\n",
        "    >>> unvisited\n",
        "    [('Mexico City', 7), ('San Francisco', 6), ('Washington', 5)]\n",
        "    >>> visit_next(visited, unvisited, city_to_city_dist)\n",
        "    >>> visited\n",
        "    [('Toronto', 0), ('New York', 3), ('Washington', 5)]\n",
        "    >>> unvisited\n",
        "    [('Mexico City', 7), ('San Francisco', 6)]\n",
        "    \"\"\"\n",
        "    \n",
        "    # Step 1:\n",
        "    # Find the closest city in the unvisited list and move it to the visited list.\n",
        "    \n",
        "    ############################################################################\n",
        "    \n",
        "    # Step 2:\n",
        "    # For every neighbour of the city that was moved to visited, there are three\n",
        "    # cases to consider:\n",
        "        # ...(a) neighbour is already visited: do nothing\n",
        "        # ...(b) neighbour is already unvisited: update its distance\n",
        "        # ...(c) neighbour is not even unvisited: add it to unvisited"
      ],
      "metadata": {
        "id": "m68waBnkuIKy"
      },
      "execution_count": null,
      "outputs": []
    },
    {
      "cell_type": "code",
      "source": [
        "# Test your function here"
      ],
      "metadata": {
        "id": "qHewIIu9uLG8"
      },
      "execution_count": null,
      "outputs": []
    },
    {
      "cell_type": "markdown",
      "source": [
        "### Run the hidden code cell to evaluate `visit_next()`"
      ],
      "metadata": {
        "id": "QlmIo5lkuNJ3"
      }
    },
    {
      "cell_type": "code",
      "source": [
        "# Do not edit this cell\n",
        "score, max = 0, 0\n",
        "\n",
        "# Initialize\n",
        "city_to_city_dist = {'Toronto': [('New York', 3), ('Mexico City', 7), ('San Francisco', 6)], 'San Francisco': [('Washington', 5), ('Mexico City', 3), ('Toronto', 6)], 'New York': [('Toronto', 3), ('Washington', 2)], 'Washington': [('New York', 2), ('San Francisco', 5)], 'Mexico City': [('San Francisco', 3), ('Toronto', 7)]}\n",
        "unvisited = [('Toronto', 0)]\n",
        "visited = []\n",
        "\n",
        "# Iteration 1\n",
        "visit_next(visited, unvisited, city_to_city_dist)\n",
        "score += test(\"Iteration 1 (Add the starting city), visited\", visited, [('Toronto', 0)])\n",
        "max += 1\n",
        "score += test(\"Iteration 1 (Add the starting city), unvisited\", unvisited, [('New York', 3), ('Mexico City', 7), ('San Francisco', 6)])\n",
        "max += 1\n",
        "\n",
        "# Iteration 2\n",
        "visit_next(visited, unvisited, city_to_city_dist)\n",
        "score += test(\"Iteration 2 (Add the closest neighbor), visited\", visited, [('Toronto', 0), ('New York', 3)])\n",
        "max += 1\n",
        "score += test(\"Iteration 2 (Add the closest neighbor), unvisited\", unvisited, [('Mexico City', 7), ('San Francisco', 6), ('Washington', 5)])\n",
        "max += 1\n",
        "\n",
        "# Iteration 3\n",
        "visit_next(visited, unvisited, city_to_city_dist)\n",
        "score += test(\"Iteration 3 (Add the next closest neighbor), visited\", visited, [('Toronto', 0), ('New York', 3), ('Washington', 5)])\n",
        "max += 1\n",
        "score += test(\"Iteration 3 (Add the next closest neighbor), unvisited\", unvisited, [('Mexico City', 7), ('San Francisco', 6)])\n",
        "max += 1\n",
        "\n",
        "if score == max:\n",
        "  print(\"All test cases passed!\")\n",
        "print(\"Mark: \" + str(score) + \"/\" + str(max))"
      ],
      "metadata": {
        "id": "afkK7so6uZQn"
      },
      "execution_count": null,
      "outputs": []
    },
    {
      "cell_type": "markdown",
      "source": [
        "## Part 2c: `visit_all()`"
      ],
      "metadata": {
        "id": "wgXwDnD1t27D"
      }
    },
    {
      "cell_type": "markdown",
      "source": [
        "Now that you have seen an example of `visit_next()` and `visit_all() in the context of a slightly different problem, complete the following function according to its docstring."
      ],
      "metadata": {
        "id": "IeKLURQO4vhT"
      }
    },
    {
      "cell_type": "code",
      "source": [
        "def visit_all(city, city_to_city_dist):\n",
        "    \"\"\"Return the list of shortest distances from city to every city in \n",
        "    the dictionary city_to_city_dist. This is accomplished by repeatedly calling\n",
        "    visit_next inside a while loop.\n",
        "    \n",
        "    \n",
        "    Parameters:\n",
        "            city--the starting point\n",
        "            city_to_city_dist-- a dictionary of direct flight lengths between cities, \n",
        "            such as what is returned by get_all_cities()\n",
        "    \n",
        "    >> city_to_city_dist = build_adjacent_distances(open(\"cities.txt\").readlines())\n",
        "    >> visit_all('Toronto', city_to_city_dist)\n",
        "    [('Mexico City', 7),\n",
        "     ('New York', 3),\n",
        "     ('San Francisco', 6),\n",
        "     ('Toronto', 0),\n",
        "     ('Washington', 5)]\n",
        "    \"\"\"\n",
        "    # Write your code here"
      ],
      "metadata": {
        "id": "oNa30ss-uIiZ"
      },
      "execution_count": null,
      "outputs": []
    },
    {
      "cell_type": "code",
      "source": [
        "# Test your function here"
      ],
      "metadata": {
        "id": "zHcWIfv5uL8b"
      },
      "execution_count": null,
      "outputs": []
    },
    {
      "cell_type": "markdown",
      "source": [
        "### Run the hidden code cell to evaluate `visit_all()`"
      ],
      "metadata": {
        "id": "2BFkGGqTuTpK"
      }
    },
    {
      "cell_type": "code",
      "source": [
        "# Do not edit this cell\n",
        "score, max = 0, 0\n",
        "\n",
        "city_to_city_dist = {'Toronto': [('New York', 3), ('Mexico City', 7), ('San Francisco', 6)], 'San Francisco': [('Washington', 5), ('Mexico City', 3), ('Toronto', 6)], 'New York': [('Toronto', 3), ('Washington', 2)], 'Washington': [('New York', 2), ('San Francisco', 5)], 'Mexico City': [('San Francisco', 3), ('Toronto', 7)]}\n",
        "score += test(\"From Toronto\", visit_all('Toronto', city_to_city_dist), [('Mexico City', 7), ('New York', 3), ('San Francisco', 6), ('Toronto', 0), ('Washington', 5)])\n",
        "max += 1\n",
        "score += test(\"From Washington\", visit_all('Washington', city_to_city_dist), [('Mexico City', 6), ('New York', 2), ('San Francisco', 3), ('Toronto', 5), ('Washington', 0)])\n",
        "max += 1\n",
        "\n",
        "if score == max:\n",
        "  print(\"All test cases passed!\")\n",
        "print(\"Mark: \" + str(score) + \"/\" + str(max))"
      ],
      "metadata": {
        "id": "FRu4P7ceuY1t"
      },
      "execution_count": null,
      "outputs": []
    },
    {
      "cell_type": "markdown",
      "source": [
        "## Part 2d: `build_shortest_distances()`"
      ],
      "metadata": {
        "id": "Q4akB4_-jfsz"
      }
    },
    {
      "cell_type": "markdown",
      "source": [
        "Complete the following function according to its docstring."
      ],
      "metadata": {
        "id": "Umb60n9O4tEA"
      }
    },
    {
      "cell_type": "code",
      "source": [
        "def build_shortest_distances(direct_distance_dict):    \n",
        "    \"\"\"Return a dictionary all_dists whose keys are cities which appear in \n",
        "    direct_distance_dict and whose values are the shortest path distance to\n",
        "    every other city (i.e., the values are return values of visit_all).\n",
        "    \n",
        "    \n",
        "    Arguments:\n",
        "            direct_flight_distances-- a dictionary of direct flight lengths between cities, \n",
        "            such as what is returned by build_adjacent_distances()\n",
        "    \n",
        "    \n",
        "    >> distances = build_adjacent_distances(open(\"cities.txt\").readlines())\n",
        "    >> build_shortest_distances(distances)\n",
        "        {'Mexico City': [('Mexico City', 0),\n",
        "        ('San Francisco', 3),\n",
        "        ('Toronto', 7),\n",
        "        ('Washington', 8),\n",
        "        ('New York', 10)],\n",
        "        'New York': [('New York', 0),\n",
        "        ('Washington', 2),\n",
        "        ('Toronto', 3),\n",
        "        ('San Francisco', 7),\n",
        "        ('Mexico City', 10)],\n",
        "        'Toronto': [('Toronto', 0),\n",
        "        ('New York', 3),\n",
        "        ('Washington', 5),\n",
        "        ('San Francisco', 6),\n",
        "        ('Mexico City', 7)],\n",
        "        'San Francisco': [('San Francisco', 0),\n",
        "        ('Mexico City', 3),\n",
        "        ('Washington', 5),\n",
        "        ('Toronto', 6),\n",
        "        ('New York', 7)],\n",
        "        'Washington': [('Washington', 0),\n",
        "        ('New York', 2),\n",
        "        ('San Francisco', 5),\n",
        "        ('Toronto', 5),\n",
        "        ('Mexico City', 8)]}\n",
        " \n",
        "    \"\"\"\n",
        "    # Write your code here"
      ],
      "metadata": {
        "id": "-k0nP_WNCeME"
      },
      "execution_count": null,
      "outputs": []
    },
    {
      "cell_type": "code",
      "source": [
        "# Test your function here"
      ],
      "metadata": {
        "id": "NIpl8XE-C5QR"
      },
      "execution_count": null,
      "outputs": []
    },
    {
      "cell_type": "markdown",
      "source": [
        "### Run the hidden code cell to evaluate `build_shortest_distances()`"
      ],
      "metadata": {
        "id": "GFAtyqGSC7pP"
      }
    },
    {
      "cell_type": "code",
      "source": [
        "# Do not edit this cell\n",
        "score, max = 0, 0\n",
        "\n",
        "city_to_city_dist = {'Toronto': [('New York', 3), ('Mexico City', 7), ('San Francisco', 6)], \n",
        "                     'San Francisco': [('Washington', 5), ('Mexico City', 3), ('Toronto', 6)], \n",
        "                     'New York': [('Toronto', 3), ('Washington', 2)], \n",
        "                     'Washington': [('New York', 2), ('San Francisco', 5)], \n",
        "                     'Mexico City': [('San Francisco', 3), ('Toronto', 7)]}\n",
        "score += test(\"Docstring example\", build_shortest_distances(city_to_city_dist),\n",
        "              {'Mexico City': [('Mexico City', 0), ('San Francisco', 3), ('Toronto', 7), ('Washington', 8), ('New York', 10)],\n",
        "               'New York': [('New York', 0), ('Washington', 2), ('Toronto', 3), ('San Francisco', 7), ('Mexico City', 10)],\n",
        "               'Toronto': [('Toronto', 0), ('New York', 3), ('Washington', 5), ('San Francisco', 6), ('Mexico City', 7)],\n",
        "               'San Francisco': [('San Francisco', 0), ('Mexico City', 3), ('Washington', 5), ('Toronto', 6), ('New York', 7)],\n",
        "               'Washington': [('Washington', 0), ('New York', 2), ('San Francisco', 5), ('Toronto', 5), ('Mexico City', 8)]})\n",
        "max += 1\n",
        "\n",
        "if score == max:\n",
        "  print(\"All test cases passed!\")\n",
        "print(\"Mark: \" + str(score) + \"/\" + str(max))"
      ],
      "metadata": {
        "id": "vTYjtuDKDB4z"
      },
      "execution_count": null,
      "outputs": []
    },
    {
      "cell_type": "markdown",
      "source": [
        "## Part 2 Completion"
      ],
      "metadata": {
        "id": "iJUxFIaYMQOs"
      }
    },
    {
      "cell_type": "markdown",
      "source": [
        "Run this hidden code cell to check that you've successfully completed all of Part 2."
      ],
      "metadata": {
        "id": "mucSqd2v4q2S"
      }
    },
    {
      "cell_type": "code",
      "source": [
        "# Do not edit this cell\n",
        "score, max = 0, 0\n",
        "\n",
        "# Initialize\n",
        "city_to_city_dist = {'Toronto': [('New York', 3), ('Mexico City', 7), ('San Francisco', 6)], \n",
        "                     'San Francisco': [('Washington', 5), ('Mexico City', 3), ('Toronto', 6)], \n",
        "                     'New York': [('Toronto', 3), ('Washington', 2)], \n",
        "                     'Washington': [('New York', 2), ('San Francisco', 5)], \n",
        "                     'Mexico City': [('San Francisco', 3), ('Toronto', 7)]}\n",
        "\n",
        "try:\n",
        "  # Part 2a\n",
        "  score += test(\"Part 2a: One patient\", visit_all_patients([(\"Bob\", 0)]), [\"Bob\"])\n",
        "  max += 1\n",
        "  score += test(\"Part 2a: Several patients\", visit_all_patients([(\"Bob\", 5), (\"Tom\", 6), (\"Tim\", 4)]), ['Tom', 'Bob', 'Tim'])\n",
        "  max += 1\n",
        "  score += test(\"Part 2a: Four patients\", visit_all_patients([(\"Bob\", 5), (\"Tom\", 6), (\"Alice\", 8),(\"Tim\", 4)]), ['Alice', 'Tom', 'Bob', 'Tim'])\n",
        "  max += 1\n",
        "\n",
        "  # Part 2b\n",
        "  unvisited = [('Toronto', 0)]\n",
        "  visited = []\n",
        "  visit_next(visited, unvisited, city_to_city_dist)\n",
        "  score += test(\"Part 2b: docstring example, iteration 1 visited\", visited, [('Toronto', 0)])\n",
        "  max += 1\n",
        "  score += test(\"Part 2b: docstring example, iteration 1 unvisited\", unvisited, [('New York', 3), ('Mexico City', 7), ('San Francisco', 6)])\n",
        "  max += 1\n",
        "  visit_next(visited, unvisited, city_to_city_dist)\n",
        "  score += test(\"Part 2b: docstring example, iteration 2 visited\", visited, [('Toronto', 0), ('New York', 3)])\n",
        "  max += 1\n",
        "  score += test(\"Part 2b: docstring example, iteration 2 unvisited\", unvisited, [('Mexico City', 7), ('San Francisco', 6), ('Washington', 5)])\n",
        "  max += 1\n",
        "  visit_next(visited, unvisited, city_to_city_dist)\n",
        "  score += test(\"Part 2b: docstring example, iteration 3 visited\", visited, [('Toronto', 0), ('New York', 3), ('Washington', 5)])\n",
        "  max += 1\n",
        "  score += test(\"Part 2b: docstring example, iteration 3 unvisited\", unvisited, [('Mexico City', 7), ('San Francisco', 6)])\n",
        "  max += 1\n",
        "\n",
        "  # Part 2c\n",
        "  score += test(\"Part 2c: From Toronto\", visit_all('Toronto', city_to_city_dist), [('Mexico City', 7), ('New York', 3), ('San Francisco', 6), ('Toronto', 0), ('Washington', 5)])\n",
        "  max += 1\n",
        "  score += test(\"Part 2c: From Washington\", visit_all('Washington', city_to_city_dist), [('Mexico City', 6), ('New York', 2), ('San Francisco', 3), ('Toronto', 5), ('Washington', 0)])\n",
        "  max += 1\n",
        "\n",
        "  # Part 2d\n",
        "  score += test(\"Docstring example\", build_shortest_distances(city_to_city_dist),\n",
        "              {'Mexico City': [('Mexico City', 0), ('San Francisco', 3), ('Toronto', 7), ('Washington', 8), ('New York', 10)],\n",
        "               'New York': [('New York', 0), ('Washington', 2), ('Toronto', 3), ('San Francisco', 7), ('Mexico City', 10)],\n",
        "               'Toronto': [('Toronto', 0), ('New York', 3), ('Washington', 5), ('San Francisco', 6), ('Mexico City', 7)],\n",
        "               'San Francisco': [('San Francisco', 0), ('Mexico City', 3), ('Washington', 5), ('Toronto', 6), ('New York', 7)],\n",
        "               'Washington': [('Washington', 0), ('New York', 2), ('San Francisco', 5), ('Toronto', 5), ('Mexico City', 8)]})\n",
        "  max += 1\n",
        "except NameError:\n",
        "  print(\"Oops! It seems like some of your functions are not implemented.\")\n",
        "\n",
        "if score == max:\n",
        "  print(\"Congratulations, you passed all the tests passed!\")\n",
        "elif score == 0:\n",
        "   print(\"\")\n",
        "else:\n",
        "  print(\"Some of your functions are working, but all test cases haven't passed yet. Keep on trying!\")\n",
        "\n",
        "print(\"Mark: \" + str(score) + \"/\" + str(max))"
      ],
      "metadata": {
        "id": "Mnin7VaeMRNi"
      },
      "execution_count": null,
      "outputs": []
    },
    {
      "cell_type": "markdown",
      "metadata": {
        "id": "GAfa1joWJHl9"
      },
      "source": [
        "# Part 3\n"
      ]
    },
    {
      "cell_type": "markdown",
      "metadata": {
        "id": "n396q4iKJWSX"
      },
      "source": [
        "## Part 3a: `get_cities()`"
      ]
    },
    {
      "cell_type": "markdown",
      "source": [
        "Complete the following function according to its docstring."
      ],
      "metadata": {
        "id": "v3WZWt9k4keh"
      }
    },
    {
      "cell_type": "code",
      "execution_count": null,
      "metadata": {
        "id": "IbWUr8XOJWkl"
      },
      "outputs": [],
      "source": [
        "def get_cities(prob_pairs):\n",
        "    \"\"\"Return the list of cities that appear in the list of pairs prob_pairs,\n",
        "    in the same order that they appear in the list of pairs prob_pairs\n",
        "    \n",
        "    Arguments:\n",
        "      prob_pairs -- a list of city-distance pairs\n",
        "      \n",
        "    >> prob_pairs = [('New York', 0),\n",
        "                     ('Washington', 2),\n",
        "                     ('Toronto', 3),\n",
        "                     ('San Francisco', 7),\n",
        "                     ('Mexico City', 10)]\n",
        "    >> get_cities(prob_pairs)\n",
        "    ['New York', 'Washington', 'Toronto', 'San Francisco', 'Mexico City']\n",
        "    \n",
        "    \"\"\"\n",
        "    # Write your code here"
      ]
    },
    {
      "cell_type": "code",
      "execution_count": null,
      "metadata": {
        "id": "duGaxTP9JW03"
      },
      "outputs": [],
      "source": [
        "# Test your function here"
      ]
    },
    {
      "cell_type": "markdown",
      "metadata": {
        "id": "IL5VHPjGJ4-d"
      },
      "source": [
        "### Run the hidden code cell to `get_cities()`"
      ]
    },
    {
      "cell_type": "code",
      "execution_count": null,
      "metadata": {
        "jupyter": {
          "source_hidden": true
        },
        "id": "n1KvTxyhLe-1"
      },
      "outputs": [],
      "source": [
        "# Do not edit this cell\n",
        "score, max = 0, 0\n",
        "\n",
        "score += test(\"Docstring example\", get_cities([('New York', 0), ('Washington', 2), ('Toronto', 3), ('San Francisco', 7), ('Mexico City', 10)]), ['New York', 'Washington', 'Toronto', 'San Francisco', 'Mexico City'])\n",
        "max += 1\n",
        "\n",
        "if score == max:\n",
        "  print(\"All test cases passed!\")\n",
        "print(\"Mark: \" + str(score) + \"/\" + str(max))"
      ]
    },
    {
      "cell_type": "markdown",
      "metadata": {
        "id": "Y-N4UlAiJYeb"
      },
      "source": [
        "## Part 3b: `get_probabilities()`"
      ]
    },
    {
      "cell_type": "markdown",
      "source": [
        "Complete the following function according to its docstring."
      ],
      "metadata": {
        "id": "vcGi4eYK4hgS"
      }
    },
    {
      "cell_type": "code",
      "execution_count": null,
      "metadata": {
        "id": "CDjEGHyXJYw9"
      },
      "outputs": [],
      "source": [
        "def get_probabilities(prob_pairs):\n",
        "    \"\"\"Return the list of probabilities that appear in the list of pairs\n",
        "    prob_pairs, in the same order that they appear in prob_pairs.\n",
        "    \n",
        "    Arguments:\n",
        "      prob_pairs -- a list of city-distance pairs\n",
        "      \n",
        "    >> prob_pairs = [('New York', 0.1),\n",
        "                     ('Washington', 0.2),\n",
        "                     ('Toronto', 0.3),\n",
        "                     ('San Francisco', 0.2),\n",
        "                     ('Mexico City', 0.2)]\n",
        "    >> get_probs(prob_pairs)\n",
        "    [0.1, 0.2, 0.3, 0.2, 0.2]\n",
        "    \n",
        "    \"\"\"\n",
        "    # Write your code here"
      ]
    },
    {
      "cell_type": "code",
      "execution_count": null,
      "metadata": {
        "id": "RFUfh4TQJY9V"
      },
      "outputs": [],
      "source": [
        "# Test your function here"
      ]
    },
    {
      "cell_type": "markdown",
      "metadata": {
        "id": "1HDRbY5yJ4-g"
      },
      "source": [
        "### Run the hidden code cell to evaluate `get_probabilities()`"
      ]
    },
    {
      "cell_type": "code",
      "execution_count": null,
      "metadata": {
        "id": "STGHzZuYKA3J",
        "jupyter": {
          "source_hidden": true
        }
      },
      "outputs": [],
      "source": [
        "# Do not edit this cell\n",
        "score, max = 0, 0\n",
        "\n",
        "score += test(\"Docstring example\", get_probabilities([('New York', .1), ('Washington', .2), ('Toronto', .3), ('San Francisco', .2), ('Mexico City', .2)]), [.1, .2, .3, .2, .2])\n",
        "max += 1\n",
        "\n",
        "if score == max:\n",
        "  print(\"All test cases passed!\")\n",
        "print(\"Mark: \" + str(score) + \"/\" + str(max))"
      ]
    },
    {
      "cell_type": "markdown",
      "metadata": {
        "id": "BbbZLKzVJZRy"
      },
      "source": [
        "## Part 3c: `init_zero_sick_population()`"
      ]
    },
    {
      "cell_type": "markdown",
      "source": [
        "Complete the following function according to its docstring."
      ],
      "metadata": {
        "id": "d57KVsJN4eNV"
      }
    },
    {
      "cell_type": "code",
      "execution_count": null,
      "metadata": {
        "id": "ob_UdDZbJZni"
      },
      "outputs": [],
      "source": [
        "def init_zero_sick_population(cities):\n",
        "    \"\"\"Return a dictionary whose keys are the values in the list cities,\n",
        "    and whose values are all 0\n",
        "    \n",
        "    >> init_zero_sick_population([\"TO\", \"NYC\"])\n",
        "    {\"TO\": 0, \"NYC\": 0}\n",
        "    \n",
        "    Arguments:\n",
        "      cities -- a list of strings\n",
        "    \n",
        "    \"\"\"\n",
        "    # Write your code here"
      ]
    },
    {
      "cell_type": "code",
      "execution_count": null,
      "metadata": {
        "id": "zq-k22uGJZ4-"
      },
      "outputs": [],
      "source": [
        "# Test your function here"
      ]
    },
    {
      "cell_type": "markdown",
      "metadata": {
        "id": "mmGvvZhFJ4-h"
      },
      "source": [
        "### Run the hidden code cell to evaluate `init_zero_sick_populations()`"
      ]
    },
    {
      "cell_type": "code",
      "execution_count": null,
      "metadata": {
        "id": "lh3G6PB8KBP4",
        "jupyter": {
          "source_hidden": true
        }
      },
      "outputs": [],
      "source": [
        "# Do not edit this cell\n",
        "score, max = 0, 0\n",
        "\n",
        "score += test(\"Docstring example\", init_zero_sick_population([\"TO\", \"NYC\"]), {\"TO\": 0, \"NYC\": 0})\n",
        "max += 1\n",
        "\n",
        "if score == max:\n",
        "  print(\"All test cases passed!\")\n",
        "print(\"Mark: \" + str(score) + \"/\" + str(max))"
      ]
    },
    {
      "cell_type": "markdown",
      "metadata": {
        "id": "dWGRBFb1JaTO"
      },
      "source": [
        "## Part 3d: `build_transition_probs()`"
      ]
    },
    {
      "cell_type": "markdown",
      "source": [
        "Complete the following function according to its docstring."
      ],
      "metadata": {
        "id": "13KCGvsk4XBk"
      }
    },
    {
      "cell_type": "code",
      "execution_count": null,
      "metadata": {
        "id": "c5x7D085JbXe"
      },
      "outputs": [],
      "source": [
        "def build_transition_probs(city_to_city_dist, alpha):\n",
        "    \"\"\"Return a dictionary representing the probabilities of moving\n",
        "    from all cities to all other cities according to the formula in\n",
        "    the project handout.\n",
        "    \n",
        "    Arguments: \n",
        "      all_dists -- a city_to_city_dist whose keys are cities, and whose\n",
        "                   values are lists of city-distance pairs\n",
        "      alpha     -- a float\n",
        "      \n",
        "    >> city_to_city_dist = {'Mexico City': [('Mexico City', 0),\n",
        "                    ('San Francisco', 3),\n",
        "                    ('Toronto', 7),\n",
        "                    ('Washington', 8),\n",
        "                    ('New York', 10)],\n",
        "                    'New York': [('New York', 0),\n",
        "                    ('Washington', 2),\n",
        "                    ('Toronto', 3),\n",
        "                    ('San Francisco', 7),\n",
        "                    ('Mexico City', 10)],\n",
        "                    'Toronto': [('Toronto', 0),\n",
        "                    ('New York', 3),\n",
        "                    ('Washington', 5),\n",
        "                    ('San Francisco', 6),\n",
        "                    ('Mexico City', 7)],\n",
        "                    'San Francisco': [('San Francisco', 0),\n",
        "                    ('Mexico City', 3),\n",
        "                    ('Washington', 5),\n",
        "                    ('Toronto', 6),\n",
        "                    ('New York', 7)],\n",
        "                    'Washington': [('Washington', 0),\n",
        "                    ('New York', 2),\n",
        "                    ('San Francisco', 5),\n",
        "                    ('Toronto', 5),\n",
        "                    ('Mexico City', 8)]}\n",
        "\n",
        "    >> alpha = 2\n",
        "    \n",
        "    >> build_transition_probs(city_to_city_dist, alpha)\n",
        "                {'Mexico City': [('Mexico City', 0.9101374498147844),\n",
        "                ('San Francisco', 0.056883590613424025),\n",
        "                ('Toronto', 0.014220897653356006),\n",
        "                ('Washington', 0.011236264812528202),\n",
        "                ('New York', 0.007521797105907309)],\n",
        "                'New York': [('New York', 0.8350726686715951),\n",
        "                ('Washington', 0.09278585207462167),\n",
        "                ('Toronto', 0.052192041791974696),\n",
        "                ('San Francisco', 0.013048010447993674),\n",
        "                ('Mexico City', 0.0069014270138148355)],\n",
        "                'Toronto': [('Toronto', 0.8878542892195415),\n",
        "                ('New York', 0.05549089307622134),\n",
        "                ('Washington', 0.02466261914498726),\n",
        "                ('San Francisco', 0.018119475290194722),\n",
        "                ('Mexico City', 0.013872723269055335)],\n",
        "                'San Francisco': [('San Francisco', 0.8878542892195415),\n",
        "                ('Mexico City', 0.05549089307622134),\n",
        "                ('Washington', 0.02466261914498726),\n",
        "                ('Toronto', 0.018119475290194722),\n",
        "                ('New York', 0.013872723269055335)],\n",
        "                'Washington': [('Washington', 0.8481675392670158),\n",
        "                ('New York', 0.09424083769633508),\n",
        "                ('San Francisco', 0.02356020942408377),\n",
        "                ('Toronto', 0.02356020942408377),\n",
        "                ('Mexico City', 0.010471204188481676)]}\n",
        "\n",
        "    \"\"\"\n",
        "    # Write your code here"
      ]
    },
    {
      "cell_type": "code",
      "execution_count": null,
      "metadata": {
        "id": "D7e08SS1Jb1f"
      },
      "outputs": [],
      "source": [
        "# Test your function here"
      ]
    },
    {
      "cell_type": "markdown",
      "metadata": {
        "id": "pMeZ3mn3J4-j"
      },
      "source": [
        "### Run the hidden code cell to evaluate `build_transition_probs()`"
      ]
    },
    {
      "cell_type": "code",
      "execution_count": null,
      "metadata": {
        "id": "w6maZrwZKB0g",
        "jupyter": {
          "source_hidden": true
        }
      },
      "outputs": [],
      "source": [
        "# Do not edit this cell\n",
        "score, max = 0, 0\n",
        "\n",
        "score += test(\"Two cities\", build_transition_probs({'A': [('A', 0), ('B', 1)], 'B': [('B', 0), ('A', 1)]}, 2), {'A': [('A', 0.8), ('B', 0.2)], 'B': [('B', 0.8), ('A', 0.2)]})\n",
        "max += 1\n",
        "\n",
        "if score == max:\n",
        "  print(\"All test cases passed!\")\n",
        "print(\"Mark: \" + str(score) + \"/\" + str(max))"
      ]
    },
    {
      "cell_type": "markdown",
      "metadata": {
        "id": "xC3XCa1YLmHf"
      },
      "source": [
        "## Part 3 Completion"
      ]
    },
    {
      "cell_type": "markdown",
      "source": [
        "Run this hidden code cell to check that you've successfully completed all of Part 3."
      ],
      "metadata": {
        "id": "iN_f6N7K4cRl"
      }
    },
    {
      "cell_type": "code",
      "execution_count": null,
      "metadata": {
        "jupyter": {
          "source_hidden": true
        },
        "id": "G-YTGCCNLmHg"
      },
      "outputs": [],
      "source": [
        "# Do not edit this cell\n",
        "score, max = 0, 0\n",
        "\n",
        "try:\n",
        "  # Part 3a\n",
        "  score += test(\"Part 3a: Docstring example\", get_cities([('New York', 0), ('Washington', 2), ('Toronto', 3), ('San Francisco', 7), ('Mexico City', 10)]), ['New York', 'Washington', 'Toronto', 'San Francisco', 'Mexico City'])\n",
        "  max += 1\n",
        "\n",
        "  # Part 3b\n",
        "  score += test(\"Part 3b: Docstring example\", get_probabilities([('New York', .1), ('Washington', .2), ('Toronto', .3), ('San Francisco', .2), ('Mexico City', .2)]), [.1, .2, .3, .2, .2])\n",
        "  max += 1\n",
        "\n",
        "  # Part 3c\n",
        "  score += test(\"Part 3c: Docstring example\", init_zero_sick_population([\"TO\", \"NYC\"]), {\"TO\": 0, \"NYC\": 0})\n",
        "  max += 1\n",
        "\n",
        "  # Part 3d\n",
        "  score += test(\"Part 3d: Two cities\", build_transition_probs({'A': [('A', 0), ('B', 1)], 'B': [('B', 0), ('A', 1)]}, 2), {'A': [('A', 0.8), ('B', 0.2)], 'B': [('B', 0.8), ('A', 0.2)]})\n",
        "  max += 1\n",
        "except NameError:\n",
        "  print(\"Oops! It seems like some of your functions are not implemented.\")\n",
        "\n",
        "if score == max:\n",
        "  print(\"Congratulations, you passed all the tests passed!\")\n",
        "elif score == 0:\n",
        "   print(\"\")\n",
        "else:\n",
        "  print(\"Some of your functions are working, but all test cases haven't passed yet. Keep on trying!\")\n",
        "\n",
        "print(\"Mark: \" + str(score) + \"/\" + str(max))"
      ]
    },
    {
      "cell_type": "markdown",
      "source": [
        "# Part 4"
      ],
      "metadata": {
        "id": "INpOyUdrjaD_"
      }
    },
    {
      "cell_type": "markdown",
      "source": [
        "## Example of `choice()` in `numpy`"
      ],
      "metadata": {
        "id": "766nr9K7GQYF"
      }
    },
    {
      "cell_type": "code",
      "source": [
        "from numpy.random import choice  # only needs to be done once\n",
        "probs = [.8, .15, .05]           # these must sum to 1\n",
        "cities = [\"TO\", \"NYC\", \"DF\"]     # you must have the same number of options as probabilities\n",
        "n_sick = 6                       # the number of sick people\n",
        "chosen_dests = list(choice(cities, p=probs, size=n_sick))\n",
        "print(chosen_dests)"
      ],
      "metadata": {
        "id": "ThupUbvwGDFA"
      },
      "execution_count": null,
      "outputs": []
    },
    {
      "cell_type": "markdown",
      "source": [
        "## Part 4a: `time_step()`"
      ],
      "metadata": {
        "id": "_yTqahuCDe8O"
      }
    },
    {
      "cell_type": "markdown",
      "source": [
        "Complete the following function according to its docstring."
      ],
      "metadata": {
        "id": "H4fGffJU4RZX"
      }
    },
    {
      "cell_type": "code",
      "source": [
        "def time_step(sick_pop, transition_probs, beta, gamma):\n",
        "    \"\"\"\n",
        "    Change dictionary sick_pop to account for one time-step in the simulation.\n",
        "    \n",
        "    Arguments:\n",
        "    sick_pop: dictionary of city to num sick\n",
        "    transition_probs: dictionary city to list of (city, prob of destination)\n",
        "    beta: recovery probability\n",
        "    gamma: infection probability\n",
        "    \"\"\"\n",
        "    # Write your code here"
      ],
      "metadata": {
        "id": "1xGat6EDDrWm"
      },
      "execution_count": null,
      "outputs": []
    },
    {
      "cell_type": "code",
      "source": [
        "# Test your function here"
      ],
      "metadata": {
        "id": "DKs6Sk5CDtyw"
      },
      "execution_count": null,
      "outputs": []
    },
    {
      "cell_type": "markdown",
      "source": [
        "# Part 5"
      ],
      "metadata": {
        "id": "fSkczZfdMMLK"
      }
    },
    {
      "cell_type": "markdown",
      "source": [
        "### Run this simulation once you have completed all of the previous parts."
      ],
      "metadata": {
        "id": "Xe-2bmTpMT38"
      }
    },
    {
      "cell_type": "code",
      "source": [
        "alpha = 2       # larger alpha => smaller likelihood of transition\n",
        "beta = .3       # recovery probability\n",
        "gamma = .3      # infection probability\n",
        "\n",
        "# Load the dictionary of distances of direct flights between cities\n",
        "try:\n",
        "  distances = build_adjacent_distances(open(\"cities.txt\").readlines())\n",
        "except:\n",
        "  raise Exception(\"The program could not find cities.txt\") \n",
        "\n",
        "# Build a dictionary of the shortest distances from every city to every other\n",
        "all_dists = build_shortest_distances(distances)\n",
        "\n",
        "# Build a dictionary of probabilities of moving from every city to every other\n",
        "all_probs = build_transition_probs(all_dists, alpha)\n",
        "\n",
        "# Get a list of all the cities in our simulation\n",
        "cities = get_cities(distances)\n",
        "\n",
        "# sick_pop is a dictionary of cityname to number of sick inhabitants\n",
        "# Initially every city has 0 sick people but Toronto has 1 sick person\n",
        "sick_pop = init_zero_sick_population(cities)\n",
        "sick_pop[\"Toronto\"] = 1\n",
        "\n",
        "# Run the simulation for 100 time steps\n",
        "for i in range(100):\n",
        "    time_step(sick_pop, all_probs, beta, gamma)\n",
        "    print(\"Day\", i, sick_pop)"
      ],
      "metadata": {
        "id": "VlhW_pOlMNfL"
      },
      "execution_count": null,
      "outputs": []
    }
  ],
  "metadata": {
    "colab": {
      "collapsed_sections": [
        "S53yKXI1NEf-",
        "YY9ZmQtCKylQ",
        "P5WCuxEKK0gi",
        "YQtfFrVXK2Je",
        "ZIAM5FBjK3oB",
        "lDXoJmoZJ4M6",
        "oYNPjdsGA6Sm",
        "P87BSNfLBD7O",
        "Gc783ehXJ4NB",
        "1-sA2X9YBTFE",
        "n1_gul06J4NF",
        "jYxHIMlIBVby",
        "pUvjtDGqJ4NG",
        "9y11t62RBXvt",
        "WVsdXv-2J4NI",
        "Dc_VNpw3BYou",
        "n51cOs-kJ4NK",
        "w0gmV_f9yJwu",
        "SJMh-PRVHwBG",
        "KR9hZ-AyH9lK",
        "fig7hRjBJ4kC",
        "2fzVghbmtuQt",
        "QlmIo5lkuNJ3",
        "wgXwDnD1t27D",
        "2BFkGGqTuTpK",
        "Q4akB4_-jfsz",
        "GFAtyqGSC7pP",
        "iJUxFIaYMQOs",
        "GAfa1joWJHl9",
        "n396q4iKJWSX",
        "IL5VHPjGJ4-d",
        "Y-N4UlAiJYeb",
        "1HDRbY5yJ4-g",
        "BbbZLKzVJZRy",
        "mmGvvZhFJ4-h",
        "dWGRBFb1JaTO",
        "pMeZ3mn3J4-j",
        "xC3XCa1YLmHf",
        "INpOyUdrjaD_",
        "766nr9K7GQYF",
        "_yTqahuCDe8O",
        "fSkczZfdMMLK",
        "Xe-2bmTpMT38"
      ],
      "name": "Project2.ipynb",
      "provenance": []
    },
    "kernelspec": {
      "display_name": "Python 3",
      "language": "python",
      "name": "python3"
    },
    "language_info": {
      "codemirror_mode": {
        "name": "ipython",
        "version": 3
      },
      "file_extension": ".py",
      "mimetype": "text/x-python",
      "name": "python",
      "nbconvert_exporter": "python",
      "pygments_lexer": "ipython3",
      "version": "3.6.13"
    }
  },
  "nbformat": 4,
  "nbformat_minor": 0
}