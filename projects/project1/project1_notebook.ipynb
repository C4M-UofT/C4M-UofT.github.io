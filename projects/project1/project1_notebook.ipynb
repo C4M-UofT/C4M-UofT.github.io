{
  "cells": [
    {
      "cell_type": "markdown",
      "metadata": {
        "id": "S53yKXI1NEf-"
      },
      "source": [
        "# Instructions"
      ]
    },
    {
      "cell_type": "markdown",
      "source": [
        "## Hidden Code\n",
        "The notebook contains several hidden code cells, which are displayed as three dots. To run these, select the above cell and press run twice (either by the buttons on the top, or the \"shift\" + \"return\" hotkey). Once the hidden code cell runs, a message such as \"Done\" or your evaluation results should appear. If the code expands, please collapse it using the column on the left. You don't need to edit or understand the code in these cells. "
      ],
      "metadata": {
        "id": "YY9ZmQtCKylQ"
      }
    },
    {
      "cell_type": "markdown",
      "source": [
        "## Starting Out\n",
        "The first cell after this section is titled \"Run the hidden code cell before starting\". This should be run everytime a new kernel/runtime is started. If run correctly, the message \"Done!\" should appear underneath.\n"
      ],
      "metadata": {
        "id": "P5WCuxEKK0gi"
      }
    },
    {
      "cell_type": "markdown",
      "source": [
        "## Exercises\n",
        "This is followed by all the exercises of the notebook. An exercise generally consists of 4 cells. \n",
        "1.   The first cell provides a description of the function you need to implement. \n",
        "2.   The second cell contains the starter code, and contains a comment indicating where you should write your code. Your entire implementation will go in this cell. \n",
        "3.   The third cell is a testing cell for your own testing. Feel free to write any code you like here to test your function is working correctly.\n",
        "4.   The last cell contains hidden code to run test cases on your function. This cell, when run, will provide a mark on your implementation. If implemented correctly, you should get full marks."
      ],
      "metadata": {
        "id": "YQtfFrVXK2Je"
      }
    },
    {
      "cell_type": "markdown",
      "source": [
        "## Completion\n",
        "The completion cell runs all the test cases in the notebook on all the functions. If this cell returns full marks, this means the notebook is complete and you can submit it."
      ],
      "metadata": {
        "id": "ZIAM5FBjK3oB"
      }
    },
    {
      "cell_type": "markdown",
      "metadata": {
        "id": "lDXoJmoZJ4M6"
      },
      "source": [
        "## Important: Run the hidden code cell before starting"
      ]
    },
    {
      "cell_type": "code",
      "execution_count": null,
      "metadata": {
        "id": "CR3MVg81IvWX",
        "jupyter": {
          "source_hidden": true
        }
      },
      "outputs": [],
      "source": [
        "# Do not edit this cell (Keep hidden to keep notebook easier to read)\n",
        "def test(test_name, actual, expected):\n",
        "  if(actual == expected):\n",
        "    return 1\n",
        "  else:\n",
        "    print(\"Test failed. \" + test_name + \" expected \" + str(expected) + \", got \" + str(actual))\n",
        "    return 0\n",
        "\n",
        "print(\"Done!\")"
      ]
    },
    {
      "cell_type": "markdown",
      "metadata": {
        "id": "oYNPjdsGA6Sm"
      },
      "source": [
        "# Part 1"
      ]
    },
    {
      "cell_type": "markdown",
      "source": [
        "## Part 1a: Helper Function for Pre-Processing the Data"
      ],
      "metadata": {
        "id": "KyNxBfC5_y8V"
      }
    },
    {
      "cell_type": "markdown",
      "source": [
        "Complete the following function according to its docstring."
      ],
      "metadata": {
        "id": "GZP5tXlEBjTC"
      }
    },
    {
      "cell_type": "code",
      "source": [
        "PUNCTUATION = \"\"\".,<>;'\":{}[]|!@#$%^&*()\"\"\"\n",
        "def clean_up(text):\n",
        "  \"\"\" (str) -> str\n",
        "\n",
        "  Return a new version of text in which all the letters have been \n",
        "  converted to lowercase, and all punctuation is replaced with spaces.\n",
        "\n",
        "  >>> clean_up('Influenza, commonly known as \"the flu\", is ...')\n",
        "  'influenza  commonly known as  the flu   is    '\n",
        "  \"\"\"\n",
        "  # Write your code here"
      ],
      "metadata": {
        "id": "FIn-U1V8Bak2"
      },
      "execution_count": null,
      "outputs": []
    },
    {
      "cell_type": "code",
      "source": [
        "# Test your function here"
      ],
      "metadata": {
        "id": "uqvcakF3BfrD"
      },
      "execution_count": null,
      "outputs": []
    },
    {
      "cell_type": "markdown",
      "source": [
        "### Run the hidden code cell to evaluate `clean_up()`"
      ],
      "metadata": {
        "id": "uNVt6ZNWBpg-"
      }
    },
    {
      "cell_type": "code",
      "source": [
        "# Do not edit this cell\n",
        "score, max = 0, 0\n",
        "\n",
        "score += test(\"Trivial string\", clean_up(\"influenza is commonly known as the flu\"), \"influenza is commonly known as the flu\")\n",
        "max += 1\n",
        "score += test(\"Uppercase letters\", clean_up(\"influenza is prevalent in the USA\"), \"influenza is prevalent in the usa\")\n",
        "max += 1\n",
        "score += test(\"Punctuation\", clean_up('Influenza, commonly known as \"the flu\", is ...'), \"influenza  commonly known as  the flu   is    \")\n",
        "max += 1\n",
        "\n",
        "if score == max:\n",
        "  print(\"All test cases passed!\")\n",
        "print(\"Mark: \" + str(score) + \"/\" + str(max))"
      ],
      "metadata": {
        "id": "KyAi5EEHBify"
      },
      "execution_count": null,
      "outputs": []
    },
    {
      "cell_type": "markdown",
      "metadata": {
        "id": "P87BSNfLBD7O"
      },
      "source": [
        "## Part 1b: Loading the Data"
      ]
    },
    {
      "cell_type": "markdown",
      "source": [
        "Run the following cells once you have imported the contents of `wikipages.zip` into your working directory to make sure that you can properly load the data."
      ],
      "metadata": {
        "id": "Z_oh0vnk_4P5"
      }
    },
    {
      "cell_type": "code",
      "execution_count": null,
      "metadata": {
        "id": "u4gySwW4A3_R"
      },
      "outputs": [],
      "source": [
        "import os\n",
        "\n",
        "def get_documents():\n",
        "  \"\"\" (str) -> dict of {str: str}\n",
        "\n",
        "  Return a dictionary where the keys are document names (without .html)\n",
        "  and the values are the contents of the file corresponding .html file\n",
        "  from the directory datapath.\n",
        "  \"\"\"\n",
        "  \n",
        "  # Get a list of all the filenames in the directory\n",
        "  datapath = 'wikipages'\n",
        "  filenames = os.listdir(datapath)\n",
        "  \n",
        "  # Dictionary of all texts, keys are disease names\n",
        "  doc_to_text= {}\n",
        "  \n",
        "  for filename in filenames:\n",
        "    # Only consider filenames that end in \".html\"\n",
        "    if len(filename) > 5 and filename[-5:] == \".html\":\n",
        "      # Read the entire file's contents as a string\n",
        "      text = open(os.path.join(datapath, filename)).read()\n",
        "\n",
        "      # Clean up the text using the helper function\n",
        "      text = clean_up(text)\n",
        "\n",
        "      # Since all the filenames end in .html, just drop that part\n",
        "      disease = filename[:-5]\n",
        "      \n",
        "      # Insert it into the dictionary\n",
        "      doc_to_text[disease] = text\n",
        "  \n",
        "  return doc_to_text"
      ]
    },
    {
      "cell_type": "code",
      "source": [
        "# If you have copied over the data from wikipages.zip properly, \n",
        "# this code should run without any issues\n",
        "try:\n",
        "  document_dict = get_documents()\n",
        "except:\n",
        "  raise Exception(\"Could not find a directory called wikipages\")\n",
        "\n",
        "if len(document_dict) == 0:\n",
        "  raise Exception(\"The dictionary is empty, so there may not be any .html files in the wikipages directory\")\n",
        "else:\n",
        "  print(\"Successfully loaded!\")"
      ],
      "metadata": {
        "id": "dHoz0KJ56j4s"
      },
      "execution_count": null,
      "outputs": []
    },
    {
      "cell_type": "markdown",
      "source": [
        "# Part 2"
      ],
      "metadata": {
        "id": "EuE-dGOPlBCi"
      }
    },
    {
      "cell_type": "markdown",
      "source": [
        "## Part 2a: Finding a Word in a Document"
      ],
      "metadata": {
        "id": "DCppgdh4lCk7"
      }
    },
    {
      "cell_type": "markdown",
      "source": [
        "Complete the following function according to its docstring."
      ],
      "metadata": {
        "id": "hgUiEVD6lEjX"
      }
    },
    {
      "cell_type": "code",
      "source": [
        "def keyword_found(keyword, doc_name, doc_to_text):\n",
        "  \"\"\" (str, str, dict of {str:str}) -> bool\n",
        "  \n",
        "  Return True iff keyword is found in this doc_name inside doc_to_text\n",
        "  as a full token separated by whitespace.\n",
        "  \n",
        "  \"\"\"\n",
        "  # Write your code here"
      ],
      "metadata": {
        "id": "oWT1TjeUlFof"
      },
      "execution_count": null,
      "outputs": []
    },
    {
      "cell_type": "code",
      "source": [
        "# Test your function here"
      ],
      "metadata": {
        "id": "P_qpE16hlH7m"
      },
      "execution_count": null,
      "outputs": []
    },
    {
      "cell_type": "markdown",
      "source": [
        "### Run the hidden code cell to evaluate `keyword_found()`"
      ],
      "metadata": {
        "id": "IfUyxwunlOhd"
      }
    },
    {
      "cell_type": "code",
      "source": [
        "# Do not edit this cell\n",
        "score, max = 0, 0\n",
        "\n",
        "doc_to_text = {\"AIDS\": \"aids is a disease in which there is a severe loss of the body s cellular immunity  greatly lowering the resistance to infection and malignancy\",\n",
        "               \"Cancer\": \"cancer is a disease caused by an uncontrolled division of abnormal cells in a part of the body\",\n",
        "               \"COPD\": \"copd is a common  preventable and treatable disease that is characterized by persistent respiratory symptoms like progressive breathlessness and cough\"}\n",
        "score += test(\"Word in text\", keyword_found(\"cellular\", \"AIDS\", doc_to_text), True)\n",
        "max += 1\n",
        "score += test(\"Word not in text\", keyword_found(\"cellular\", \"Influenza\", doc_to_text), False)\n",
        "max += 1\n",
        "score += test(\"Subword not in text\", keyword_found(\"cell\", \"AIDS\", doc_to_text), False)\n",
        "max += 1\n",
        "\n",
        "if score == max:\n",
        "  print(\"All test cases passed!\")\n",
        "print(\"Mark: \" + str(score) + \"/\" + str(max))"
      ],
      "metadata": {
        "id": "_NOkVKCalSLT"
      },
      "execution_count": null,
      "outputs": []
    },
    {
      "cell_type": "markdown",
      "source": [
        "## Part 2b: Computing the IDF"
      ],
      "metadata": {
        "id": "Ms5Mi_o2pg6f"
      }
    },
    {
      "cell_type": "markdown",
      "source": [
        "Complete the following function according to its docstring."
      ],
      "metadata": {
        "id": "R2xVRS-SpjRu"
      }
    },
    {
      "cell_type": "code",
      "source": [
        "import numpy\n",
        "\n",
        "def idf(keyword, doc_to_text):\n",
        "  \"\"\" (str, dict of {str: str}) -> float\n",
        "\n",
        "  Return the IDF for this keyword in documents doc_to_text.\n",
        "  If the keyword does not appear in any of the documents, return -1. \n",
        "\n",
        "  \"\"\"\n",
        "  # Write your code here"
      ],
      "metadata": {
        "id": "DP_s99JZpkBD"
      },
      "execution_count": null,
      "outputs": []
    },
    {
      "cell_type": "code",
      "source": [
        "# Test your function here"
      ],
      "metadata": {
        "id": "sA5FC0DdpmU_"
      },
      "execution_count": null,
      "outputs": []
    },
    {
      "cell_type": "markdown",
      "source": [
        "### Run the hidden code cell to evaluate `idf()`"
      ],
      "metadata": {
        "id": "9m34nBmcppc1"
      }
    },
    {
      "cell_type": "code",
      "source": [
        "# Do not edit this cell\n",
        "score, max = 0, 0\n",
        "\n",
        "doc_to_text = {\"AIDS\": \"aids is a disease in which there is a severe loss of the body s cellular immunity  greatly lowering the resistance to infection and malignancy\",\n",
        "               \"Cancer\": \"cancer is a disease caused by an uncontrolled division of abnormal cells in a part of the body\",\n",
        "               \"COPD\": \"copd is a common  preventable and treatable disease that is characterized by persistent respiratory symptoms like progressive breathlessness and cough\"}\n",
        "score += test(\"Keyword not in any of the documents\", idf(\"notfound\", doc_to_text), -1)\n",
        "max += 1\n",
        "score += test(\"Keyword in only one document\", idf(\"division\", doc_to_text), numpy.log(3))\n",
        "max += 1\n",
        "score += test(\"Keyword in all of the documents once\", idf(\"disease\", doc_to_text), 0)\n",
        "max += 1\n",
        "score += test(\"Keyword in all of the documents multiple times\", idf(\"is\", doc_to_text), 0)\n",
        "max += 1\n",
        "\n",
        "if score == max:\n",
        "  print(\"All test cases passed!\")\n",
        "print(\"Mark: \" + str(score) + \"/\" + str(max))"
      ],
      "metadata": {
        "id": "C1g8H-iRprO5"
      },
      "execution_count": null,
      "outputs": []
    },
    {
      "cell_type": "markdown",
      "source": [
        "## Part 2c: Initializing the TF-IDF Scores"
      ],
      "metadata": {
        "id": "ftpeH0eXIJwI"
      }
    },
    {
      "cell_type": "markdown",
      "source": [
        "Complete the following function according to its docstring."
      ],
      "metadata": {
        "id": "Mq-9XS4hIMaI"
      }
    },
    {
      "cell_type": "code",
      "source": [
        "def build_empty_scores_dict(doc_to_text):\n",
        "  \"\"\" (dict of {str: str}) -> dict of {str: number}\n",
        "\n",
        "  Build and return an empty dictionary where the keys are the same as the keys in doc_to_text\n",
        "  and the values are all 0.\n",
        "  \"\"\"\n",
        "  # Write your code here"
      ],
      "metadata": {
        "id": "e89pbjEgIOp7"
      },
      "execution_count": null,
      "outputs": []
    },
    {
      "cell_type": "code",
      "source": [
        "# Test your function here"
      ],
      "metadata": {
        "id": "krOaCM3dp6BB"
      },
      "execution_count": null,
      "outputs": []
    },
    {
      "cell_type": "markdown",
      "source": [
        "### Run the hidden code cell to evaluate `build_empty_scores_dict()`"
      ],
      "metadata": {
        "id": "dxb6vhO6p4_C"
      }
    },
    {
      "cell_type": "code",
      "source": [
        "# Do not edit this cell\n",
        "score, max = 0, 0\n",
        "\n",
        "doc_to_text = {\"AIDS\": \"aids is a disease in which there is a severe loss of the body s cellular immunity  greatly lowering the resistance to infection and malignancy\",\n",
        "               \"Cancer\": \"cancer is a disease caused by an uncontrolled division of abnormal cells in a part of the body\",\n",
        "               \"COPD\": \"copd is a common  preventable and treatable disease that is characterized by persistent respiratory symptoms like progressive breathlessness and cough\"}\n",
        "score += test(\"Empty dictionary\", build_empty_scores_dict({}), {})\n",
        "max += 1\n",
        "score += test(\"Example with three documents\", build_empty_scores_dict(doc_to_text), {\"AIDS\": 0, \"Cancer\": 0, \"COPD\": 0})\n",
        "max += 1\n",
        "\n",
        "if score == max:\n",
        "  print(\"All test cases passed!\")\n",
        "print(\"Mark: \" + str(score) + \"/\" + str(max))"
      ],
      "metadata": {
        "id": "b2YNHcK6qIAC"
      },
      "execution_count": null,
      "outputs": []
    },
    {
      "cell_type": "markdown",
      "source": [
        "## Part 2d: Computing the TF-IDF Scores"
      ],
      "metadata": {
        "id": "1IjyyVHEqxSV"
      }
    },
    {
      "cell_type": "markdown",
      "source": [
        "Complete the following function according to its docstring. Note that this function should update the scores in `doc_to_score` rather than return a new dictionary. Also keep in mind that you should increment the scores rather than replace the old onces since this will be used for queries with multiple keywords."
      ],
      "metadata": {
        "id": "wPkD9-L-tpWv"
      }
    },
    {
      "cell_type": "code",
      "source": [
        "def update_scores(doc_to_score, keyword, doc_to_text):\n",
        "  \"\"\" (dict of {str: number}, str, dict of {str: str}) -> None\n",
        "\n",
        "  Update current_scores by adding to the value of each entry to TF-IDF individual score\n",
        "  for keyword based on the documents in all_texts.\n",
        "  \"\"\"\n",
        "  # Write your code here"
      ],
      "metadata": {
        "id": "OiFNtC6np1K7"
      },
      "execution_count": null,
      "outputs": []
    },
    {
      "cell_type": "code",
      "source": [
        "# Test your function here"
      ],
      "metadata": {
        "id": "tgIbSQbCrNwX"
      },
      "execution_count": null,
      "outputs": []
    },
    {
      "cell_type": "markdown",
      "source": [
        "### Run the hidden code cell to evaluate `update_scores()`"
      ],
      "metadata": {
        "id": "j8eJ9tp8reAH"
      }
    },
    {
      "cell_type": "code",
      "source": [
        "# Do not edit this cell\n",
        "score, max = 0, 0\n",
        "\n",
        "doc_to_score = {\"AIDS\": 0, \"Cancer\": 0, \"COPD\": 0}\n",
        "doc_to_text = {\"AIDS\": \"aids is a disease in which there is a severe loss of the body s cellular immunity  greatly lowering the resistance to infection and malignancy\",\n",
        "               \"Cancer\": \"cancer is a disease caused by an uncontrolled division of abnormal cells in a part of the body\",\n",
        "               \"COPD\": \"copd is a common  preventable and treatable disease that is characterized by persistent respiratory symptoms like progressive breathlessness and cough\"}\n",
        "\n",
        "curr_scores = doc_to_score.copy()\n",
        "update_scores(curr_scores, \"notfound\", doc_to_text)\n",
        "score += test(\"Keyword not in any of the documents\", curr_scores, {\"AIDS\": 0, \"Cancer\": 0, \"COPD\": 0})\n",
        "max += 1\n",
        "\n",
        "curr_scores = doc_to_score.copy()\n",
        "update_scores(curr_scores, \"division\", doc_to_text)\n",
        "score += test(\"Keyword in only one document\", curr_scores, {\"AIDS\": 0, \"Cancer\": numpy.log(3), \"COPD\": 0})\n",
        "max += 1\n",
        "update_scores(curr_scores, \"resistance\", doc_to_text)\n",
        "score += test(\"Scores get updated rather than replaced\", curr_scores, {\"AIDS\": numpy.log(3), \"Cancer\": numpy.log(3), \"COPD\": 0})\n",
        "max += 1\n",
        "\n",
        "curr_scores = doc_to_score.copy()\n",
        "update_scores(curr_scores, \"disease\", doc_to_text)\n",
        "score += test(\"Keyword not in any of the documents\", curr_scores, {\"AIDS\": 0, \"Cancer\": 0, \"COPD\": 0})\n",
        "max += 1\n",
        "\n",
        "curr_scores = doc_to_score.copy()\n",
        "update_scores(curr_scores, \"is\", doc_to_text)\n",
        "score += test(\"Keyword not in any of the documents\", curr_scores, {\"AIDS\": 0, \"Cancer\": 0, \"COPD\": 0})\n",
        "max += 1\n",
        "\n",
        "if score == max:\n",
        "  print(\"All test cases passed!\")\n",
        "print(\"Mark: \" + str(score) + \"/\" + str(max))"
      ],
      "metadata": {
        "id": "nxkDBVNHrhdR"
      },
      "execution_count": null,
      "outputs": []
    },
    {
      "cell_type": "markdown",
      "source": [
        "# Part 3"
      ],
      "metadata": {
        "id": "8ny_H46nPQFj"
      }
    },
    {
      "cell_type": "markdown",
      "source": [
        "Complete your program according to the comments that have been left below. Remember to use all of the helper functions that you have at your disposal."
      ],
      "metadata": {
        "id": "50AtlcciTnpp"
      }
    },
    {
      "cell_type": "code",
      "source": [
        "# TODO: Ask for user input from the keyboard\n",
        "\n",
        "# TODO: Clean up the input by removing punctuation and converting to lowercase\n",
        "\n",
        "# TODO: Convert the query into a list of keywords\n",
        "\n",
        "# TODO: Load the data from the documents\n",
        "\n",
        "# TODO: Initialize a dictionary of scores\n",
        "\n",
        "# TODO: Update all of the documents' scores for each keyword\n",
        "\n",
        "# TODO: Print out the document name with the highest score"
      ],
      "metadata": {
        "id": "ZFoB0nk2PSFG"
      },
      "execution_count": null,
      "outputs": []
    }
  ],
  "metadata": {
    "colab": {
      "collapsed_sections": [
        "YY9ZmQtCKylQ",
        "P5WCuxEKK0gi",
        "YQtfFrVXK2Je",
        "ZIAM5FBjK3oB",
        "lDXoJmoZJ4M6",
        "oYNPjdsGA6Sm",
        "P87BSNfLBD7O",
        "Gc783ehXJ4NB",
        "1-sA2X9YBTFE",
        "n1_gul06J4NF",
        "jYxHIMlIBVby",
        "pUvjtDGqJ4NG",
        "9y11t62RBXvt",
        "WVsdXv-2J4NI",
        "Dc_VNpw3BYou",
        "n51cOs-kJ4NK",
        "w0gmV_f9yJwu",
        "SJMh-PRVHwBG",
        "KR9hZ-AyH9lK",
        "fig7hRjBJ4kC",
        "2fzVghbmtuQt",
        "QlmIo5lkuNJ3",
        "wgXwDnD1t27D",
        "2BFkGGqTuTpK",
        "Q4akB4_-jfsz",
        "GFAtyqGSC7pP",
        "iJUxFIaYMQOs",
        "GAfa1joWJHl9",
        "n396q4iKJWSX",
        "IL5VHPjGJ4-d",
        "Y-N4UlAiJYeb",
        "1HDRbY5yJ4-g",
        "BbbZLKzVJZRy",
        "mmGvvZhFJ4-h",
        "dWGRBFb1JaTO",
        "pMeZ3mn3J4-j",
        "xC3XCa1YLmHf",
        "INpOyUdrjaD_",
        "766nr9K7GQYF",
        "_yTqahuCDe8O",
        "fSkczZfdMMLK",
        "Xe-2bmTpMT38"
      ],
      "name": "Project1.ipynb",
      "provenance": []
    },
    "kernelspec": {
      "display_name": "Python 3",
      "language": "python",
      "name": "python3"
    },
    "language_info": {
      "codemirror_mode": {
        "name": "ipython",
        "version": 3
      },
      "file_extension": ".py",
      "mimetype": "text/x-python",
      "name": "python",
      "nbconvert_exporter": "python",
      "pygments_lexer": "ipython3",
      "version": "3.6.13"
    }
  },
  "nbformat": 4,
  "nbformat_minor": 0
}