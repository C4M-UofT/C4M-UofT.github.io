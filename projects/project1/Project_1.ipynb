{
  "cells": [
    {
      "cell_type": "markdown",
      "metadata": {
        "id": "lDXoJmoZJ4M6"
      },
      "source": [
        "## Important: Run this code cell each time you start a new session!"
      ]
    },
    {
      "cell_type": "code",
      "execution_count": null,
      "metadata": {
        "id": "CR3MVg81IvWX",
        "jupyter": {
          "source_hidden": true
        }
      },
      "outputs": [],
      "source": [
        "# Do not edit this cell\n",
        "def test_homework(test_name, actual, expected):\n",
        "  if actual == expected:\n",
        "    print(f\"Test passed: {test_name}.\")\n",
        "    return 1\n",
        "  else:\n",
        "    print(f\"Test failed: {test_name}. Expected {expected}, got {actual}\")\n",
        "    return 0\n",
        "\n",
        "def compare_hw_scores(score, max_score):\n",
        "  if score == max_score:\n",
        "    print(\"All test cases passed!\")\n",
        "  print(f\"Mark: {score} / {max_score}\")\n",
        "\n",
        "print(\"Done!\")"
      ]
    },
    {
      "cell_type": "markdown",
      "metadata": {
        "id": "S53yKXI1NEf-"
      },
      "source": [
        "# Instructions"
      ]
    },
    {
      "cell_type": "markdown",
      "source": [
        "To get full credit for this assignment, we should be able to run your code all the way through the autograder without any errors. To check this, click the text cell ***immediately after*** the final autograder, then go to \"Runtime\" > \"Run before\" in the Google Colab menu. \n",
        "\n",
        "Your final program should also work according to the specifications without any issues."
      ],
      "metadata": {
        "id": "FmZhTZTraQGQ"
      }
    },
    {
      "cell_type": "markdown",
      "metadata": {
        "id": "oYNPjdsGA6Sm"
      },
      "source": [
        "# Part 1"
      ]
    },
    {
      "cell_type": "markdown",
      "source": [
        "## Part 1a: Helper Function for Pre-Processing the Data"
      ],
      "metadata": {
        "id": "KyNxBfC5_y8V"
      }
    },
    {
      "cell_type": "markdown",
      "source": [
        "Complete the following function according to its docstring."
      ],
      "metadata": {
        "id": "GZP5tXlEBjTC"
      }
    },
    {
      "cell_type": "code",
      "source": [
        "PUNCTUATION = \"\"\".,<>;'\":{}[]|!@#$%^&*()\"\"\"\n",
        "def clean_up(text):\n",
        "  \"\"\" (str) -> str\n",
        "\n",
        "  Return a new version of text in which all the letters have been \n",
        "  converted to lowercase, and all punctuation is replaced with spaces.\n",
        "\n",
        "  >>> clean_up('Influenza, commonly known as \"the flu\", is ...')\n",
        "  'influenza  commonly known as  the flu   is    '\n",
        "  \"\"\"\n",
        "  # Write your code here"
      ],
      "metadata": {
        "id": "FIn-U1V8Bak2"
      },
      "execution_count": null,
      "outputs": []
    },
    {
      "cell_type": "code",
      "source": [
        "# Test your function here"
      ],
      "metadata": {
        "id": "uqvcakF3BfrD"
      },
      "execution_count": null,
      "outputs": []
    },
    {
      "cell_type": "markdown",
      "source": [
        "### Run the hidden code cell to evaluate Part 1a"
      ],
      "metadata": {
        "id": "uNVt6ZNWBpg-"
      }
    },
    {
      "cell_type": "code",
      "source": [
        "# Do not edit this cell\n",
        "def check_part1a():\n",
        "  ex_score, max_ex_score = 0, 0\n",
        "\n",
        "  ex_score += test_homework(\"Trivial string\", clean_up(\"influenza is commonly known as the flu\"), \"influenza is commonly known as the flu\")\n",
        "  max_ex_score += 1\n",
        "  ex_score += test_homework(\"Uppercase letters\", clean_up(\"influenza is prevalent in the USA\"), \"influenza is prevalent in the usa\")\n",
        "  max_ex_score += 1\n",
        "  ex_score += test_homework(\"Punctuation\", clean_up('Influenza, commonly known as \"the flu\", is ...'), \"influenza  commonly known as  the flu   is    \")\n",
        "  max_ex_score += 1\n",
        "\n",
        "  compare_hw_scores(ex_score, max_ex_score)\n",
        "  return ex_score, max_ex_score\n",
        "\n",
        "_ = check_part1a()"
      ],
      "metadata": {
        "id": "KyAi5EEHBify"
      },
      "execution_count": null,
      "outputs": []
    },
    {
      "cell_type": "markdown",
      "metadata": {
        "id": "P87BSNfLBD7O"
      },
      "source": [
        "## Part 1b: Loading the Data"
      ]
    },
    {
      "cell_type": "markdown",
      "source": [
        "Run the following cells once you have imported the contents of `wikipages.zip` into your working directory to make sure that you can properly load the data."
      ],
      "metadata": {
        "id": "Z_oh0vnk_4P5"
      }
    },
    {
      "cell_type": "code",
      "execution_count": null,
      "metadata": {
        "id": "u4gySwW4A3_R"
      },
      "outputs": [],
      "source": [
        "import os\n",
        "\n",
        "def get_documents():\n",
        "  \"\"\" (str) -> dict of {str: str}\n",
        "\n",
        "  Return a dictionary where the keys are document names (without .html)\n",
        "  and the values are the contents of the file corresponding .html file\n",
        "  from the directory datapath.\n",
        "  \"\"\"\n",
        "  \n",
        "  # Get a list of all the filenames in the directory\n",
        "  datapath = 'wikipages'\n",
        "  filenames = os.listdir(datapath)\n",
        "  \n",
        "  # Dictionary of all texts, keys are disease names\n",
        "  doc_to_text= {}\n",
        "  \n",
        "  for filename in filenames:\n",
        "    # Only consider filenames that end in \".html\"\n",
        "    if len(filename) > 5 and filename[-5:] == \".html\":\n",
        "      # Read the entire file's contents as a string\n",
        "      text = open(os.path.join(datapath, filename)).read()\n",
        "\n",
        "      # Clean up the text using the helper function\n",
        "      text = clean_up(text)\n",
        "\n",
        "      # Since all the filenames end in .html, just drop that part\n",
        "      disease = filename[:-5]\n",
        "      \n",
        "      # Insert it into the dictionary\n",
        "      doc_to_text[disease] = text\n",
        "  \n",
        "  return doc_to_text"
      ]
    },
    {
      "cell_type": "code",
      "source": [
        "# If you have copied over the data from wikipages.zip properly, \n",
        "# this code should run without any issues\n",
        "try:\n",
        "  document_dict = get_documents()\n",
        "except:\n",
        "  raise Exception(\"Could not find a directory called wikipages\")\n",
        "\n",
        "if len(document_dict) == 0:\n",
        "  raise Exception(\"The dictionary is empty, so there may not be any .html files in the wikipages directory\")\n",
        "else:\n",
        "  print(\"Successfully loaded!\")"
      ],
      "metadata": {
        "id": "dHoz0KJ56j4s"
      },
      "execution_count": null,
      "outputs": []
    },
    {
      "cell_type": "markdown",
      "source": [
        "# Part 2"
      ],
      "metadata": {
        "id": "EuE-dGOPlBCi"
      }
    },
    {
      "cell_type": "markdown",
      "source": [
        "## Part 2a: Finding a Word in a Document"
      ],
      "metadata": {
        "id": "DCppgdh4lCk7"
      }
    },
    {
      "cell_type": "markdown",
      "source": [
        "Complete the following function according to its docstring."
      ],
      "metadata": {
        "id": "hgUiEVD6lEjX"
      }
    },
    {
      "cell_type": "code",
      "source": [
        "def keyword_found(keyword, doc_name, doc_to_text):\n",
        "  \"\"\" (str, str, dict of {str:str}) -> bool\n",
        "  \n",
        "  Return True iff keyword is found in this doc_name inside doc_to_text\n",
        "  as a full token separated by whitespace.\n",
        "  \n",
        "  \"\"\"\n",
        "  # Write your code here"
      ],
      "metadata": {
        "id": "oWT1TjeUlFof"
      },
      "execution_count": null,
      "outputs": []
    },
    {
      "cell_type": "code",
      "source": [
        "# Test your function here"
      ],
      "metadata": {
        "id": "P_qpE16hlH7m"
      },
      "execution_count": null,
      "outputs": []
    },
    {
      "cell_type": "markdown",
      "source": [
        "### Run the hidden code cell to evaluate Part 2a"
      ],
      "metadata": {
        "id": "IfUyxwunlOhd"
      }
    },
    {
      "cell_type": "code",
      "source": [
        "# Do not edit this cell\n",
        "def check_part2a():\n",
        "  ex_score, max_ex_score = 0, 0\n",
        "\n",
        "  doc_to_text = {\"AIDS\": \"aids is a disease in which there is a severe loss of the body s cellular immunity  greatly lowering the resistance to infection and malignancy\",\n",
        "                \"Cancer\": \"cancer is a disease caused by an uncontrolled division of abnormal cells in a part of the body\",\n",
        "                \"COPD\": \"copd is a common  preventable and treatable disease that is characterized by persistent respiratory symptoms like progressive breathlessness and cough\"}\n",
        "  ex_score += test_homework(\"Word in text\", keyword_found(\"cellular\", \"AIDS\", doc_to_text), True)\n",
        "  max_ex_score += 1\n",
        "  ex_score += test_homework(\"Word not in text\", keyword_found(\"cellular\", \"COPD\", doc_to_text), False)\n",
        "  max_ex_score += 1\n",
        "  ex_score += test_homework(\"Subword not in text\", keyword_found(\"cell\", \"AIDS\", doc_to_text), False)\n",
        "  max_ex_score += 1\n",
        "\n",
        "  compare_hw_scores(ex_score, max_ex_score)\n",
        "  return ex_score, max_ex_score\n",
        "\n",
        "_ = check_part2a()"
      ],
      "metadata": {
        "id": "_NOkVKCalSLT"
      },
      "execution_count": null,
      "outputs": []
    },
    {
      "cell_type": "markdown",
      "source": [
        "## Part 2b: Computing the IDF"
      ],
      "metadata": {
        "id": "Ms5Mi_o2pg6f"
      }
    },
    {
      "cell_type": "markdown",
      "source": [
        "Complete the following function according to its docstring."
      ],
      "metadata": {
        "id": "R2xVRS-SpjRu"
      }
    },
    {
      "cell_type": "code",
      "source": [
        "import numpy\n",
        "\n",
        "def idf(keyword, doc_to_text):\n",
        "  \"\"\" (str, dict of {str: str}) -> float\n",
        "\n",
        "  Return the IDF for this keyword in documents doc_to_text.\n",
        "  If the keyword does not appear in any of the documents, return -1. \n",
        "\n",
        "  \"\"\"\n",
        "  # Write your code here"
      ],
      "metadata": {
        "id": "DP_s99JZpkBD"
      },
      "execution_count": null,
      "outputs": []
    },
    {
      "cell_type": "code",
      "source": [
        "# Test your function here"
      ],
      "metadata": {
        "id": "sA5FC0DdpmU_"
      },
      "execution_count": null,
      "outputs": []
    },
    {
      "cell_type": "markdown",
      "source": [
        "### Run the hidden code cell to evaluate Part 2b"
      ],
      "metadata": {
        "id": "9m34nBmcppc1"
      }
    },
    {
      "cell_type": "code",
      "source": [
        "# Do not edit this cell\n",
        "def check_part2b():\n",
        "  ex_score, max_ex_score = 0, 0\n",
        "\n",
        "  doc_to_text = {\"AIDS\": \"aids is a disease in which there is a severe loss of the body s cellular immunity  greatly lowering the resistance to infection and malignancy\",\n",
        "                \"Cancer\": \"cancer is a disease caused by an uncontrolled division of abnormal cells in a part of the body\",\n",
        "                \"COPD\": \"copd is a common  preventable and treatable disease that is characterized by persistent respiratory symptoms like progressive breathlessness and cough\"}\n",
        "  ex_score += test_homework(\"Keyword not in any of the documents\", idf(\"notfound\", doc_to_text), -1)\n",
        "  max_ex_score += 1\n",
        "  ex_score += test_homework(\"Keyword in only one document\", idf(\"division\", doc_to_text), numpy.log(3))\n",
        "  max_ex_score += 1\n",
        "  ex_score += test_homework(\"Keyword in all of the documents once\", idf(\"disease\", doc_to_text), 0)\n",
        "  max_ex_score += 1\n",
        "  ex_score += test_homework(\"Keyword in all of the documents multiple times\", idf(\"is\", doc_to_text), 0)\n",
        "  max_ex_score += 1\n",
        "\n",
        "  compare_hw_scores(ex_score, max_ex_score)\n",
        "  return ex_score, max_ex_score\n",
        "\n",
        "_ = check_part2b()"
      ],
      "metadata": {
        "id": "C1g8H-iRprO5"
      },
      "execution_count": null,
      "outputs": []
    },
    {
      "cell_type": "markdown",
      "source": [
        "# Part 3"
      ],
      "metadata": {
        "id": "gHeu9ZK2973L"
      }
    },
    {
      "cell_type": "markdown",
      "source": [
        "## Part 3a: Initializing the TF-IDF Scores"
      ],
      "metadata": {
        "id": "ftpeH0eXIJwI"
      }
    },
    {
      "cell_type": "markdown",
      "source": [
        "Complete the following function according to its docstring."
      ],
      "metadata": {
        "id": "Mq-9XS4hIMaI"
      }
    },
    {
      "cell_type": "code",
      "source": [
        "def build_empty_scores_dict(doc_to_text):\n",
        "  \"\"\" (dict of {str: str}) -> dict of {str: number}\n",
        "\n",
        "  Build and return an empty dictionary where the keys are the same as the keys in doc_to_text\n",
        "  and the values are all 0.\n",
        "  \"\"\"\n",
        "  # Write your code here"
      ],
      "metadata": {
        "id": "e89pbjEgIOp7"
      },
      "execution_count": null,
      "outputs": []
    },
    {
      "cell_type": "code",
      "source": [
        "# Test your function here"
      ],
      "metadata": {
        "id": "krOaCM3dp6BB"
      },
      "execution_count": null,
      "outputs": []
    },
    {
      "cell_type": "markdown",
      "source": [
        "### Run the hidden code cell to evaluate Part 3a"
      ],
      "metadata": {
        "id": "dxb6vhO6p4_C"
      }
    },
    {
      "cell_type": "code",
      "source": [
        "# Do not edit this cell\n",
        "def check_part3a():\n",
        "  ex_score, max_ex_score = 0, 0\n",
        "\n",
        "  doc_to_text = {\"AIDS\": \"aids is a disease in which there is a severe loss of the body s cellular immunity  greatly lowering the resistance to infection and malignancy\",\n",
        "                \"Cancer\": \"cancer is a disease caused by an uncontrolled division of abnormal cells in a part of the body\",\n",
        "                \"COPD\": \"copd is a common  preventable and treatable disease that is characterized by persistent respiratory symptoms like progressive breathlessness and cough\"}\n",
        "  ex_score += test_homework(\"Empty dictionary\", build_empty_scores_dict({}), {})\n",
        "  max_ex_score += 1\n",
        "  ex_score += test_homework(\"Example with three documents\", build_empty_scores_dict(doc_to_text), {\"AIDS\": 0, \"Cancer\": 0, \"COPD\": 0})\n",
        "  max_ex_score += 1\n",
        "\n",
        "  compare_hw_scores(ex_score, max_ex_score)\n",
        "  return ex_score, max_ex_score\n",
        "\n",
        "_ = check_part3a()"
      ],
      "metadata": {
        "id": "b2YNHcK6qIAC"
      },
      "execution_count": null,
      "outputs": []
    },
    {
      "cell_type": "markdown",
      "source": [
        "## Part 3b: Computing the TF-IDF Scores"
      ],
      "metadata": {
        "id": "1IjyyVHEqxSV"
      }
    },
    {
      "cell_type": "markdown",
      "source": [
        "Complete the following function according to its docstring. Note that this function should update the scores in `doc_to_score` rather than return a new dictionary. Also keep in mind that you should increment the scores rather than replace the old ones since this will be used for queries with multiple keywords."
      ],
      "metadata": {
        "id": "wPkD9-L-tpWv"
      }
    },
    {
      "cell_type": "code",
      "source": [
        "def update_scores(doc_to_score, keyword, doc_to_text):\n",
        "  \"\"\" (dict of {str: number}, str, dict of {str: str}) -> None\n",
        "\n",
        "  Update current_scores by adding to the value of each entry to TF-IDF individual score\n",
        "  for keyword based on the documents in all_texts.\n",
        "  \"\"\"\n",
        "  # Write your code here"
      ],
      "metadata": {
        "id": "OiFNtC6np1K7"
      },
      "execution_count": null,
      "outputs": []
    },
    {
      "cell_type": "code",
      "source": [
        "# Test your function here"
      ],
      "metadata": {
        "id": "tgIbSQbCrNwX"
      },
      "execution_count": null,
      "outputs": []
    },
    {
      "cell_type": "markdown",
      "source": [
        "### Run the hidden code cell to evaluate Part 3b"
      ],
      "metadata": {
        "id": "j8eJ9tp8reAH"
      }
    },
    {
      "cell_type": "code",
      "source": [
        "# Do not edit this cell\n",
        "def check_part3b():\n",
        "  ex_score, max_ex_score = 0, 0\n",
        "\n",
        "  doc_to_score = {\"AIDS\": 0, \"Cancer\": 0, \"COPD\": 0}\n",
        "  doc_to_text = {\"AIDS\": \"aids is a disease in which there is a severe loss of the body s cellular immunity  greatly lowering the resistance to infection and malignancy\",\n",
        "                \"Cancer\": \"cancer is a disease caused by an uncontrolled division of abnormal cells in a part of the body\",\n",
        "                \"COPD\": \"copd is a common  preventable and treatable disease that is characterized by persistent respiratory symptoms like progressive breathlessness and cough\"}\n",
        "\n",
        "  curr_scores = doc_to_score.copy()\n",
        "  update_scores(curr_scores, \"notfound\", doc_to_text)\n",
        "  ex_score += test_homework(\"Keyword not in any of the documents\", curr_scores, {\"AIDS\": 0, \"Cancer\": 0, \"COPD\": 0})\n",
        "  max_ex_score += 1\n",
        "\n",
        "  curr_scores = doc_to_score.copy()\n",
        "  update_scores(curr_scores, \"division\", doc_to_text)\n",
        "  ex_score += test_homework(\"Keyword in only one document\", curr_scores, {\"AIDS\": 0, \"Cancer\": numpy.log(3), \"COPD\": 0})\n",
        "  max_ex_score += 1\n",
        "  update_scores(curr_scores, \"resistance\", doc_to_text)\n",
        "  ex_score += test_homework(\"Scores get updated rather than replaced\", curr_scores, {\"AIDS\": numpy.log(3), \"Cancer\": numpy.log(3), \"COPD\": 0})\n",
        "  max_ex_score += 1\n",
        "\n",
        "  curr_scores = doc_to_score.copy()\n",
        "  update_scores(curr_scores, \"disease\", doc_to_text)\n",
        "  ex_score += test_homework(\"Keyword in all the documents once\", curr_scores, {\"AIDS\": 0, \"Cancer\": 0, \"COPD\": 0})\n",
        "  max_ex_score += 1\n",
        "\n",
        "  curr_scores = doc_to_score.copy()\n",
        "  update_scores(curr_scores, \"is\", doc_to_text)\n",
        "  ex_score += test_homework(\"Keyword in all the documents multiple times\", curr_scores, {\"AIDS\": 0, \"Cancer\": 0, \"COPD\": 0})\n",
        "  max_ex_score += 1\n",
        "\n",
        "  compare_hw_scores(ex_score, max_ex_score)\n",
        "  return ex_score, max_ex_score\n",
        "\n",
        "_ = check_part3b()"
      ],
      "metadata": {
        "id": "nxkDBVNHrhdR"
      },
      "execution_count": null,
      "outputs": []
    },
    {
      "cell_type": "markdown",
      "source": [
        "## Part 3c: Finding the Highest Score"
      ],
      "metadata": {
        "id": "LuuWt80n-2zQ"
      }
    },
    {
      "cell_type": "markdown",
      "source": [
        "Complete the following function according to its docstring. "
      ],
      "metadata": {
        "id": "D1avTlsv_FTG"
      }
    },
    {
      "cell_type": "code",
      "source": [
        "def find_highest_score(doc_to_score):\n",
        "  \"\"\" (dict of {str: number}) -> list of [str, number]\n",
        "\n",
        "  Find the document with the highest TF-IDF score in doc_to_score.\n",
        "  Return a list where the first element is the name of the document and the second element is its score.\n",
        "  If there are multiple entries with the same score, return the first one.\n",
        "  \"\"\"\n",
        "  # Write your code here"
      ],
      "metadata": {
        "id": "iQu4c4Gp_KnL"
      },
      "execution_count": null,
      "outputs": []
    },
    {
      "cell_type": "code",
      "source": [
        "# Test your function here"
      ],
      "metadata": {
        "id": "t2bAG9u0_ayZ"
      },
      "execution_count": null,
      "outputs": []
    },
    {
      "cell_type": "markdown",
      "source": [
        "### Run the hidden code cell to evaluate Part 3c"
      ],
      "metadata": {
        "id": "8rymQfRf_cAr"
      }
    },
    {
      "cell_type": "code",
      "source": [
        "# Do not edit this cell\n",
        "def check_part3c():\n",
        "  ex_score, max_ex_score = 0, 0\n",
        "\n",
        "  doc_to_score = {\"AIDS\": 0, \"Cancer\": 0, \"COPD\": 5}\n",
        "  ex_score += test_homework(\"One clear winner\", find_highest_score(doc_to_score), [\"COPD\", 5])\n",
        "  max_ex_score += 1\n",
        "\n",
        "  doc_to_score = {\"AIDS\": 0, \"Cancer\": 5, \"COPD\": 5}\n",
        "  ex_score += test_homework(\"Two documents with max score, return first\", find_highest_score(doc_to_score), [\"Cancer\", 5])\n",
        "  max_ex_score += 1\n",
        "\n",
        "  compare_hw_scores(ex_score, max_ex_score)\n",
        "  return ex_score, max_ex_score\n",
        "\n",
        "_ = check_part3c()"
      ],
      "metadata": {
        "id": "5IVcHSHe_ehS"
      },
      "execution_count": null,
      "outputs": []
    },
    {
      "cell_type": "markdown",
      "source": [
        "# Part 4"
      ],
      "metadata": {
        "id": "8ny_H46nPQFj"
      }
    },
    {
      "cell_type": "markdown",
      "source": [
        "Please read the instructions below the following code block."
      ],
      "metadata": {
        "id": "csTRJvYmNn8J"
      }
    },
    {
      "cell_type": "code",
      "source": [
        "# Do not edit this cell\n",
        "proj_score, max_proj_score = 0, 0\n",
        "\n",
        "try:\n",
        "  part1a_score, max_part1a_score = check_part1a()\n",
        "  proj_score += part1a_score\n",
        "  max_proj_score += max_part1a_score\n",
        "\n",
        "  part2a_score, max_part2a_score = check_part2a()\n",
        "  proj_score += part2a_score\n",
        "  max_proj_score += max_part2a_score\n",
        "\n",
        "  part2b_score, max_part2b_score = check_part2b()\n",
        "  proj_score += part2b_score\n",
        "  max_proj_score += max_part2b_score\n",
        "\n",
        "  part3a_score, max_part3a_score = check_part3a()\n",
        "  proj_score += part3a_score\n",
        "  max_proj_score += max_part3a_score\n",
        "\n",
        "  part3b_score, max_part3b_score = check_part3b()\n",
        "  proj_score += part3b_score\n",
        "  max_proj_score += max_part3b_score\n",
        "\n",
        "  part3c_score, max_part3c_score = check_part3c()\n",
        "  proj_score += part3c_score\n",
        "  max_proj_score += max_part3c_score\n",
        "  \n",
        "except NameError:\n",
        "  raise Exception(\"Autograder failed to run. You have either not completed all of the exercises or did not run the entire notebook\")\n",
        "\n",
        "compare_hw_scores(proj_score, max_proj_score)"
      ],
      "metadata": {
        "id": "sfSogNN8NvJh"
      },
      "execution_count": null,
      "outputs": []
    },
    {
      "cell_type": "markdown",
      "source": [
        "To confirm that all of your helper functions are working properly and that your notebook is suitable for submission, run the entire notebook up until this cell by clicking inside this cell and then selecting \"Runtime\" > \"Run before\" in the Google Colab menu.\n",
        "\n",
        "Note that you are not recommended to select \"Run all\" as you have been able to do for the homework assignments since you will also have your final program after this cell."
      ],
      "metadata": {
        "id": "dShCjOgxvjw_"
      }
    },
    {
      "cell_type": "markdown",
      "source": [
        "Once you have confirmed that all of your helper functions are working, complete your program according to the comments that have been left below. Remember to use all of the helper functions that you have at your disposal."
      ],
      "metadata": {
        "id": "50AtlcciTnpp"
      }
    },
    {
      "cell_type": "code",
      "source": [
        "# TODO: Ask for user input from the keyboard\n",
        "\n",
        "# TODO: Clean up the input by removing punctuation and converting to lowercase\n",
        "\n",
        "# TODO: Convert the query into a list of keywords\n",
        "\n",
        "# TODO: Load the data from the documents\n",
        "\n",
        "# TODO: Initialize a dictionary of scores\n",
        "\n",
        "# TODO: Update all of the documents' scores for each keyword\n",
        "\n",
        "# TODO: Find the document with the highest score\n",
        "\n",
        "# TODO: Print out the most relevant document and its score"
      ],
      "metadata": {
        "id": "ZFoB0nk2PSFG"
      },
      "execution_count": null,
      "outputs": []
    }
  ],
  "metadata": {
    "colab": {
      "collapsed_sections": [
        "lDXoJmoZJ4M6",
        "S53yKXI1NEf-",
        "oYNPjdsGA6Sm",
        "KyNxBfC5_y8V",
        "P87BSNfLBD7O",
        "EuE-dGOPlBCi",
        "DCppgdh4lCk7",
        "IfUyxwunlOhd",
        "Ms5Mi_o2pg6f",
        "9m34nBmcppc1",
        "gHeu9ZK2973L",
        "ftpeH0eXIJwI",
        "dxb6vhO6p4_C",
        "1IjyyVHEqxSV",
        "j8eJ9tp8reAH",
        "LuuWt80n-2zQ",
        "8rymQfRf_cAr",
        "8ny_H46nPQFj"
      ],
      "provenance": []
    },
    "kernelspec": {
      "display_name": "Python 3",
      "language": "python",
      "name": "python3"
    },
    "language_info": {
      "codemirror_mode": {
        "name": "ipython",
        "version": 3
      },
      "file_extension": ".py",
      "mimetype": "text/x-python",
      "name": "python",
      "nbconvert_exporter": "python",
      "pygments_lexer": "ipython3",
      "version": "3.6.13"
    }
  },
  "nbformat": 4,
  "nbformat_minor": 0
}