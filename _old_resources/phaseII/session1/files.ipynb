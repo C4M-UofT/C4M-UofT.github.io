{
 "cells": [
  {
   "cell_type": "markdown",
   "metadata": {},
   "source": [
    "# Reading from and Writing to Files\n",
    "\n",
    "\n",
    "## Introduction ##\n",
    "\n",
    "So far, the data in our programs has either been hardcoded into the program itself or it came from the user who typed it in using the keyboard. This is pretty limiting and we will want programs that can read data from files. \n",
    "\n",
    "In this lesson, we'll work with text files. Text files are files that use one of a number of\n",
    "standard encoding schemes where the file can be interpretted as printable characters. Later, you might learn about\n",
    "binary files, where the file contents are not viewable as characters, but we'll start with text files for now.\n",
    "\n",
    "## Opening a File ##\n",
    "\n",
    "To open a file, we need to specify the name of the file using a string.\n",
    "\n",
    "We can use a variable to represent the name and could:\n",
    "\n",
    "* Set it to a string literal, if the program is always going to use the same filename.\n",
    "* Set it to a filename entered by the user using `input()`.\n",
    "\n",
    "Next, we use the command `open` and the name of the file: "
   ]
  },
  {
   "cell_type": "code",
   "execution_count": 1,
   "metadata": {
    "collapsed": false
   },
   "outputs": [
    {
     "data": {
      "text/plain": [
       "<_io.TextIOWrapper name='story.txt' mode='r' encoding='UTF-8'>"
      ]
     },
     "execution_count": 1,
     "metadata": {},
     "output_type": "execute_result"
    }
   ],
   "source": [
    "filename = 'story.txt'\n",
    "file = open(filename, 'r')\n",
    "file"
   ]
  },
  {
   "cell_type": "markdown",
   "metadata": {},
   "source": [
    "This opens the file named `story.txt` from the current directory. It is open for *reading* (that's the `r` mode) and the type of object is `io.TextIOWrapper`, but just think of it as an open file. The important conceptual idea here is that this object not only knows the contents of the file, but it knows our program's *current position* in the file. So once our program starts reading, it knows how **much** we've read and is able to keep giving us the next piece."
   ]
  },
  {
   "cell_type": "markdown",
   "metadata": {},
   "source": [
    "## Reading from a File ##\n",
    "\n",
    "There are several other ways to read from a file.  In the following examples, the contents of `story.txt` are:\n",
    "    \n",
    "    Mary had a little lamb\n",
    "\n",
    "    His fleece was white as snow\n",
    "    And everywhere that Mary went\n",
    "    The lamb was sure to go\n",
    "\n",
    "1) Read a single line"
   ]
  },
  {
   "cell_type": "code",
   "execution_count": 2,
   "metadata": {
    "collapsed": false
   },
   "outputs": [
    {
     "name": "stdout",
     "output_type": "stream",
     "text": [
      "Mary had a little lamb\n",
      "\n"
     ]
    },
    {
     "data": {
      "text/plain": [
       "'Mary had a little lamb\\n'"
      ]
     },
     "execution_count": 2,
     "metadata": {},
     "output_type": "execute_result"
    }
   ],
   "source": [
    "myfile = open('story.txt', 'r')\n",
    "s = myfile.readline()   # Read a line into s.\n",
    "print(s)\n",
    "s                       # Notice the \\n that you only see when you look\n",
    "                        # at the contents of the variable."
   ]
  },
  {
   "cell_type": "markdown",
   "metadata": {},
   "source": [
    "The `\\n` (backslash n) character is a single character representing a new line. "
   ]
  },
  {
   "cell_type": "code",
   "execution_count": 3,
   "metadata": {
    "collapsed": false
   },
   "outputs": [
    {
     "name": "stdout",
     "output_type": "stream",
     "text": [
      "\n",
      "\n",
      "His fleece was white as snow\n",
      "\n"
     ]
    }
   ],
   "source": [
    " s = myfile.readline()   # The next call continues where we left off.\n",
    " print(s)    \n",
    " s = myfile.readline()   # And so on...\n",
    " print(s)   \n",
    " myfile.close()"
   ]
  },
  {
   "cell_type": "markdown",
   "metadata": {},
   "source": [
    "Notices that before line `His fleece was white as snow`, there is a blank line.  That is because the second line read contained only whitespace.  \n",
    "\n",
    "We can use this approach to read an entire file, bit by bit, under our control."
   ]
  },
  {
   "cell_type": "markdown",
   "metadata": {},
   "source": [
    "2) Read a certain number of characters"
   ]
  },
  {
   "cell_type": "code",
   "execution_count": 4,
   "metadata": {
    "collapsed": false
   },
   "outputs": [
    {
     "name": "stdout",
     "output_type": "stream",
     "text": [
      "Mary had a\n",
      " little la\n"
     ]
    }
   ],
   "source": [
    "filename = 'story.txt'\n",
    "myfile = open(filename)\n",
    "s = myfile.read(10)   # Read 10 characters into s.\n",
    "print(s)\n",
    "s = myfile.read(10)   # Read the next 10 characters into s.\n",
    "print(s)\n",
    "myfile.close()"
   ]
  },
  {
   "cell_type": "markdown",
   "metadata": {},
   "source": [
    "We can also use this approach to read an entire file, bit by bit, under our control."
   ]
  },
  {
   "cell_type": "markdown",
   "metadata": {},
   "source": [
    "3) Read one line at a time from beginning to end.\n",
    "\n",
    "If we know we want to read line by line through to the end of the file, a `for` loop makes this easy. This is probably the most common way to read a file. Use this approach unless you have a reason not to."
   ]
  },
  {
   "cell_type": "code",
   "execution_count": 5,
   "metadata": {
    "collapsed": false
   },
   "outputs": [
    {
     "name": "stdout",
     "output_type": "stream",
     "text": [
      "Mary had a little lamb\n",
      "\n",
      "\n",
      "\n",
      "His fleece was white as snow\n",
      "\n",
      "And everywhere that Mary went\n",
      "\n",
      "The lamb was sure to go\n"
     ]
    }
   ],
   "source": [
    "f = open('story.txt')\n",
    "for line in f:\n",
    "    print(line)     # Or do whatever you wish to line\n",
    "\n",
    "myfile.close()     # Good habit: close a file when you are done with it."
   ]
  },
  {
   "cell_type": "markdown",
   "metadata": {},
   "source": [
    "Question: Why is the output from the for loop double-spaced?\n",
    "Answer: `print` appends a `\\n` to the string and there is also a `\\n` at the end of each line.\n",
    "\n",
    "Question: How can you single space the output?\n",
    "Answer: Strip the newline character from the end of each line before you print."
   ]
  },
  {
   "cell_type": "code",
   "execution_count": 6,
   "metadata": {
    "collapsed": false
   },
   "outputs": [
    {
     "name": "stdout",
     "output_type": "stream",
     "text": [
      "Mary had a little lamb\n",
      "\n",
      "His fleece was white as snow\n",
      "And everywhere that Mary went\n",
      "The lamb was sure to go\n"
     ]
    }
   ],
   "source": [
    "f = open('story.txt')\n",
    "for line in f:\n",
    "    line = line.strip('\\n')\n",
    "    print(line)"
   ]
  },
  {
   "cell_type": "markdown",
   "metadata": {},
   "source": [
    "4) Read the entire file contents into a single string."
   ]
  },
  {
   "cell_type": "code",
   "execution_count": 7,
   "metadata": {
    "collapsed": false
   },
   "outputs": [
    {
     "name": "stdout",
     "output_type": "stream",
     "text": [
      "Mary had a little lamb\n",
      "\n",
      "His fleece was white as snow\n",
      "And everywhere that Mary went\n",
      "The lamb was sure to go\n"
     ]
    }
   ],
   "source": [
    "filename = \"story.txt\"\n",
    "myfile = open(filename)\n",
    "s = myfile.read()  # Read the whole file and return it as a string.\n",
    "print(s)\n",
    "myfile.close()"
   ]
  },
  {
   "cell_type": "code",
   "execution_count": 8,
   "metadata": {
    "collapsed": false
   },
   "outputs": [
    {
     "data": {
      "text/plain": [
       "'Mary had a little lamb\\n\\nHis fleece was white as snow\\nAnd everywhere that Mary went\\nThe lamb was sure to go'"
      ]
     },
     "execution_count": 8,
     "metadata": {},
     "output_type": "execute_result"
    }
   ],
   "source": [
    "s"
   ]
  },
  {
   "cell_type": "markdown",
   "metadata": {},
   "source": [
    "(5) Use `readlines()` to read the file into a `list` of lines."
   ]
  },
  {
   "cell_type": "code",
   "execution_count": 9,
   "metadata": {
    "collapsed": false
   },
   "outputs": [
    {
     "data": {
      "text/plain": [
       "['Mary had a little lamb\\n',\n",
       " '\\n',\n",
       " 'His fleece was white as snow\\n',\n",
       " 'And everywhere that Mary went\\n',\n",
       " 'The lamb was sure to go']"
      ]
     },
     "execution_count": 9,
     "metadata": {},
     "output_type": "execute_result"
    }
   ],
   "source": [
    "myfile = open('story.txt')\n",
    "contents = myfile.readlines() \n",
    "type(contents)\n",
    "contents"
   ]
  },
  {
   "cell_type": "markdown",
   "metadata": {},
   "source": [
    "Beginners often do one of these last two approaches because they seem easy.\n",
    "\n",
    "* Question: What is the downside of reading it all in at once?\n",
    "* Answer: It can potentially take a lot of space!\n",
    "   \n",
    "Don't use this technique unless you really need access to the whole file at once.  \n",
    "   \n",
    "Usually, we can read a piece, deal with it, and toss it out."
   ]
  },
  {
   "cell_type": "markdown",
   "metadata": {},
   "source": [
    "## Dealing with the end of a file ##\n",
    "\n",
    "With the `for` loop approach, the loop automatically stops when the end of the file is encountered.  Or never even iterates once if the file is empty!\n",
    "   \n",
    "But what happens if you are at the end of the file when you call `read` or `readline`?  \n",
    "You get the empty string.  You then know you can stop trying to read more. \n",
    "   \n",
    "### Example ### "
   ]
  },
  {
   "cell_type": "code",
   "execution_count": 10,
   "metadata": {
    "collapsed": false
   },
   "outputs": [
    {
     "name": "stdout",
     "output_type": "stream",
     "text": [
      "Mary had a little lamb\n",
      "\n",
      "\n",
      "\n",
      "His fleece was white as snow\n",
      "\n",
      "And everywhere that Mary went\n",
      "\n",
      "The lamb was sure to go\n"
     ]
    }
   ],
   "source": [
    "# Detecting the end of the file while reading line by line\n",
    "myfile = open('story.txt')\n",
    "next_line = myfile.readline()\n",
    "while next_line != \"\":\n",
    "    print(next_line)\n",
    "    next_line = myfile.readline()"
   ]
  },
  {
   "cell_type": "markdown",
   "metadata": {},
   "source": [
    "### Practice Exercise: reading a file\n",
    "\n",
    "The file `january06.txt` contains data from the UTM weather station for January 2006. Download it from the C4M website\n",
    "to your local machine and put it in the same directory as where Wing is storing your programs. Figuring out where\n",
    "to store the files or how to specify the paths to your file is half the battle!\n",
    "\n",
    "1. Open it up in Wing to see what it looks like.\n",
    "\n",
    "2. Write a Python program to open the file and read only the first line\n",
    "\n",
    "3. Read the second line (this is still a header)\n",
    "\n",
    "4. Read the third line into a variable `line`.\n",
    "\n",
    "5. What is the type of the value that `line` refers to? \n",
    "\n",
    "6. Call the method `split()` on variable `line` and save the return value. What is the type that is returned by this method call? \n",
    "\n",
    "7. Look up the method `split()` in the Python 3 documentation.\n"
   ]
  },
  {
   "cell_type": "markdown",
   "metadata": {},
   "source": [
    "### Practice Exercise: getting information from a file \n",
    "\n",
    "Write a program that:\n",
    "  1. opens the file january06.txt\n",
    "  2. reads in the header and ignores it\n",
    "  3. uses a loop to read in all the rest of the lines one by one\n",
    "  4. prints out only the day and the temperature from each line"
   ]
  },
  {
   "cell_type": "markdown",
   "metadata": {},
   "source": [
    "### Practice Exercise: find coldest day and time\n",
    "\n",
    "Now, write a program to find the day and time of the coldest reading in the file and then print that information.\n",
    "\n",
    "Hint: Be careful. You must convert the values to integers before you compare them. The string '11' < '2'  but 11 > 2. "
   ]
  },
  {
   "cell_type": "markdown",
   "metadata": {},
   "source": [
    "## Writing to a file"
   ]
  },
  {
   "cell_type": "markdown",
   "metadata": {},
   "source": [
    "In addition to opening a file for reading using `'r`', we'll explore two other modes: `'w'` and `'a'`.  Both of those modes are used to write to a file.\n",
    "\n",
    "Let's start with opening a file using mode `'w'`.  First, if the file does not exist, it is created:"
   ]
  },
  {
   "cell_type": "code",
   "execution_count": 11,
   "metadata": {
    "collapsed": true
   },
   "outputs": [],
   "source": [
    "new_file = open('example.txt', 'w')"
   ]
  },
  {
   "cell_type": "markdown",
   "metadata": {},
   "source": [
    "Next, we use the write method to write the contents and then we close the file:"
   ]
  },
  {
   "cell_type": "code",
   "execution_count": 12,
   "metadata": {
    "collapsed": true
   },
   "outputs": [],
   "source": [
    "new_file.write('This is the first line.\\n')\n",
    "new_file.write('And the second\\nand third.')\n",
    "new_file.close()"
   ]
  },
  {
   "cell_type": "markdown",
   "metadata": {},
   "source": [
    "We can then read and print the file contents:"
   ]
  },
  {
   "cell_type": "code",
   "execution_count": 13,
   "metadata": {
    "collapsed": false
   },
   "outputs": [
    {
     "name": "stdout",
     "output_type": "stream",
     "text": [
      "This is the first line.\n",
      "And the second\n",
      "and third.\n"
     ]
    }
   ],
   "source": [
    "new_file = open('example.txt', 'r')\n",
    "print(new_file.read())\n",
    "new_file.close()"
   ]
  },
  {
   "cell_type": "markdown",
   "metadata": {},
   "source": [
    "Now, let's open the file using mode `'a'`, which stands for append:"
   ]
  },
  {
   "cell_type": "code",
   "execution_count": 14,
   "metadata": {
    "collapsed": false
   },
   "outputs": [
    {
     "name": "stdout",
     "output_type": "stream",
     "text": [
      "This is the first line.\n",
      "And the second\n",
      "and third.\n",
      "Adding another line!\n"
     ]
    }
   ],
   "source": [
    "new_file = open('example.txt', 'a')\n",
    "new_file.write('\\nAdding another line!')  # Notice the \\n character.\n",
    "new_file.close()\n",
    "\n",
    "# Next, read and print the file contents again.\n",
    "new_file = open('example.txt', 'r')\n",
    "print(new_file.read())\n",
    "new_file.close()"
   ]
  },
  {
   "cell_type": "markdown",
   "metadata": {},
   "source": [
    "**Warning:** if the file exists already, when it is opened using mode `'w'`, its contents will be deleted.  This is different from mode `'a'`, which keeps the existing content and writes any new lines to the end of the file.\n",
    "\n",
    "Let's open `'example.txt'` using mode `'w'` to see how the file changes:"
   ]
  },
  {
   "cell_type": "code",
   "execution_count": 15,
   "metadata": {
    "collapsed": false
   },
   "outputs": [
    {
     "name": "stdout",
     "output_type": "stream",
     "text": [
      "Adding some new content\n"
     ]
    }
   ],
   "source": [
    "# The file is opened and its contents are cleared.\n",
    "new_file = open('example.txt', 'w')       \n",
    "\n",
    "# This will be the one and only line in the file.\n",
    "new_file.write('Adding some new content') \n",
    "new_file.close()\n",
    "\n",
    "# Next, read and print the file contents again.  \n",
    "new_file = open('example.txt', 'r')\n",
    "print(new_file.read())\n",
    "new_file.close()"
   ]
  },
  {
   "cell_type": "markdown",
   "metadata": {},
   "source": [
    "### Practice Exercise: writing to a file"
   ]
  },
  {
   "cell_type": "markdown",
   "metadata": {},
   "source": [
    "1. Write your name and address to a file named `contact.txt`.  Once you have executed your program, open `contact.txt` in Wing to verify that its contents are what you expect.\n",
    "2. Now, write a program to add your phone number to that file, using `open`'s append mode.  Again, open the file in Wing and check its contents."
   ]
  }
 ],
 "metadata": {
  "kernelspec": {
   "display_name": "Python 3",
   "language": "python",
   "name": "python3"
  },
  "language_info": {
   "codemirror_mode": {
    "name": "ipython",
    "version": 3
   },
   "file_extension": ".py",
   "mimetype": "text/x-python",
   "name": "python",
   "nbconvert_exporter": "python",
   "pygments_lexer": "ipython3",
   "version": "3.5.2"
  }
 },
 "nbformat": 4,
 "nbformat_minor": 0
}
