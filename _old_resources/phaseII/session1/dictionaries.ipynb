{
 "cells": [
  {
   "cell_type": "markdown",
   "metadata": {},
   "source": [
    "# Dictionaries #\n",
    "\n",
    "## Motivation ##\n",
    "\n",
    "Suppose we need to represent years and the total North American fossil fuel \n",
    "CO2 emissions for those years.\n",
    "\n",
    "Question: How should we do this?\n",
    "\n",
    "* One option is to use *parallel lists*, in which the `years` list at position `i` corresponds to the `emissions` list at position `i`:\n",
    "\n",
    "    `years = [1799, 1800, 1801, 1802, 1902, 2002]` \n",
    "    \n",
    "    `emissions = [1, 70, 74, 79, 82, 1733297] # metric tons of carbon, thousands`\n",
    "\n",
    "    Question: How would operations on the data work?  For example:\n",
    "\n",
    "       (a) to add an entry, such as year 1950 and emissions 734914?\n",
    "\n",
    "       We need to modify both lists.  \n",
    "       We could append or keep both lists sorted (then must find the right spot\n",
    "       and insert there).\n",
    "       Either way, both lists must be kept in sync.\n",
    "\n",
    "       (b) to edit the emissions value for a particular year?\n",
    "\n",
    "       We need to find the year in the years lists and modify the \n",
    "       corresponding item in the emissions list.\n",
    "\n",
    "\n",
    "    In general, storing the vlaues in this format is not terribly convenient.\n",
    "\n",
    "    Notice that the lists don't explicitly represent the associations like (1799, 1).\n",
    "\n",
    "* A second option is to use *a list of lists*.  For example,\n",
    "\n",
    "    `years_emissions = [[1799, 1], [1800, 70], [1801, 74], [1802, 79], [1902, 82], [2002, 1733297]]`\n",
    "\n",
    "   This is better, but it is still hard to look up a year, because we must search the list to find it.\n",
    "\n",
    "There is a better way: a new type of object called a *dictionary*, which is represented by Python's type `dict`."
   ]
  },
  {
   "cell_type": "markdown",
   "metadata": {},
   "source": [
    "## Dictionary basics ##\n",
    "\n",
    "A dictionary keeps track of associations for you. Let's consider the emissions example:"
   ]
  },
  {
   "cell_type": "code",
   "execution_count": 1,
   "metadata": {
    "collapsed": false
   },
   "outputs": [
    {
     "name": "stdout",
     "output_type": "stream",
     "text": [
      "74\n",
      "734914\n"
     ]
    }
   ],
   "source": [
    "# Braces indicate that you are defining a dictionary.\n",
    "emissions_by_year = {1799: 1, 1800: 70, 1801: 74, 1802: 79,\n",
    "                     1902: 82, 2002: 1733297}        \n",
    "\n",
    "# Look up the emissions for the given year\n",
    "print(emissions_by_year[1801])\n",
    "\n",
    "# Add another year to the dictionary\n",
    "emissions_by_year[1950] = 734914\n",
    "print(emissions_by_year[1950])        "
   ]
  },
  {
   "cell_type": "markdown",
   "metadata": {},
   "source": [
    "Dictionary entries have two parts: a *key* and a *value*.  In our example, the key is the year and the value is the CO2 emissions. \n",
    "\n",
    "Why is it called a key?\n",
    "Like a physical (or metaphorical) key, it provides a means of gaining access \n",
    "to something.\n",
    "\n",
    "Keys don't have to be numbers, but they do have to be immutable objects."
   ]
  },
  {
   "cell_type": "code",
   "execution_count": 2,
   "metadata": {
    "collapsed": false
   },
   "outputs": [
    {
     "ename": "TypeError",
     "evalue": "unhashable type: 'list'",
     "output_type": "error",
     "traceback": [
      "\u001b[0;31m---------------------------------------------------------------------------\u001b[0m",
      "\u001b[0;31mTypeError\u001b[0m                                 Traceback (most recent call last)",
      "\u001b[0;32m<ipython-input-2-23c0533d9190>\u001b[0m in \u001b[0;36m<module>\u001b[0;34m()\u001b[0m\n\u001b[1;32m      1\u001b[0m \u001b[0md\u001b[0m \u001b[0;34m=\u001b[0m \u001b[0;34m{\u001b[0m\u001b[0;36m1\u001b[0m\u001b[0;34m:\u001b[0m \u001b[0;36m5\u001b[0m\u001b[0;34m,\u001b[0m \u001b[0;36m3\u001b[0m\u001b[0;34m:\u001b[0m \u001b[0;36m45\u001b[0m\u001b[0;34m,\u001b[0m \u001b[0;36m4\u001b[0m\u001b[0;34m:\u001b[0m \u001b[0;36m10\u001b[0m\u001b[0;34m}\u001b[0m\u001b[0;34m\u001b[0m\u001b[0m\n\u001b[1;32m      2\u001b[0m \u001b[0md\u001b[0m\u001b[0;34m[\u001b[0m\u001b[0;34m\"abc\"\u001b[0m\u001b[0;34m]\u001b[0m \u001b[0;34m=\u001b[0m \u001b[0;34m\"Hello!\"\u001b[0m\u001b[0;34m\u001b[0m\u001b[0m\n\u001b[0;32m----> 3\u001b[0;31m \u001b[0md\u001b[0m\u001b[0;34m[\u001b[0m \u001b[0;34m[\u001b[0m\u001b[0;36m1\u001b[0m\u001b[0;34m,\u001b[0m \u001b[0;36m2\u001b[0m\u001b[0;34m,\u001b[0m \u001b[0;36m3\u001b[0m\u001b[0;34m]\u001b[0m \u001b[0;34m]\u001b[0m \u001b[0;34m=\u001b[0m \u001b[0;36m77\u001b[0m        \u001b[0;31m# error; the list [1, 2, 3] cannot\u001b[0m\u001b[0;34m\u001b[0m\u001b[0m\n\u001b[0m\u001b[1;32m      4\u001b[0m                            \u001b[0;31m# be a key because it is mutable.\u001b[0m\u001b[0;34m\u001b[0m\u001b[0;34m\u001b[0m\u001b[0m\n",
      "\u001b[0;31mTypeError\u001b[0m: unhashable type: 'list'"
     ]
    }
   ],
   "source": [
    "d = {1: 5, 3: 45, 4: 10}\n",
    "d[\"abc\"] = \"Hello!\"\n",
    "d[ [1, 2, 3] ] = 77        # error; the list [1, 2, 3] cannot\n",
    "                           # be a key because it is mutable."
   ]
  },
  {
   "cell_type": "markdown",
   "metadata": {},
   "source": [
    "And the associated values can be anything:  any type, and mutable or not."
   ]
  },
  {
   "cell_type": "code",
   "execution_count": 3,
   "metadata": {
    "collapsed": false
   },
   "outputs": [
    {
     "name": "stdout",
     "output_type": "stream",
     "text": [
      "{'weird': ['my', 'you', 'walrus'], 'nested': {'diane': 4236, 'paul': 4234}, 5: ('Diane', '978-6024', 'BA', 4236)}\n"
     ]
    }
   ],
   "source": [
    "d = {}\n",
    "d[5] = (\"Diane\", \"978-6024\", \"BA\", 4236)\n",
    "d[\"weird\"] = [\"my\", \"you\", \"walrus\"]\n",
    "d[\"nested\"] = {\"diane\": 4236, \"paul\": 4234}  # The values can be dicts.\n",
    "print(d)"
   ]
  },
  {
   "cell_type": "markdown",
   "metadata": {
    "collapsed": true
   },
   "source": [
    "Dictionaries themselves are mutable."
   ]
  },
  {
   "cell_type": "code",
   "execution_count": 4,
   "metadata": {
    "collapsed": false
   },
   "outputs": [
    {
     "name": "stdout",
     "output_type": "stream",
     "text": [
      "4391625928\n",
      "4391625928\n"
     ]
    }
   ],
   "source": [
    "print(id(d))\n",
    "d[\"me\"] = \"you\"  # Does NOT create a new dict.  It changes this one.\n",
    "print(id(d))"
   ]
  },
  {
   "cell_type": "markdown",
   "metadata": {},
   "source": [
    "## Dictionary operations ##"
   ]
  },
  {
   "cell_type": "code",
   "execution_count": 5,
   "metadata": {
    "collapsed": false
   },
   "outputs": [
    {
     "name": "stdout",
     "output_type": "stream",
     "text": [
      "{2002: 1733297, 1950: 734914, 1799: 1, 1800: 70, 1801: 74, 1802: 79, 1902: 82}\n",
      "{2002: 1733297, 1950: 734914, 1799: 1, 1800: 70, 1801: 74, 1802: 79, 2009: 1000000, 1902: 82}\n",
      "{2002: 1733297, 1950: 734914, 1799: 1, 1800: 70, 1801: 74, 1802: 79, 2009: 10, 1902: 82}\n"
     ]
    },
    {
     "data": {
      "text/plain": [
       "True"
      ]
     },
     "execution_count": 5,
     "metadata": {},
     "output_type": "execute_result"
    }
   ],
   "source": [
    "print(emissions_by_year)\n",
    "        \n",
    "# extend (add a new key and its value)\n",
    "emissions_by_year[2009] = 1000000   # Wishful thinking\n",
    "print(emissions_by_year) \n",
    "        \n",
    "# update (change the value associated with a key)\n",
    "emissions_by_year[2009] = 10        # Old value is tossed out\n",
    "print(emissions_by_year)            # Reports most recent values\n",
    "        \n",
    "# check for membership\n",
    "1950 in emissions_by_year           # A dict operator (not a function\n",
    "                                    # or method).  This one is binary."
   ]
  },
  {
   "cell_type": "code",
   "execution_count": 6,
   "metadata": {
    "collapsed": false
   },
   "outputs": [
    {
     "data": {
      "text/plain": [
       "False"
      ]
     },
     "execution_count": 6,
     "metadata": {},
     "output_type": "execute_result"
    }
   ],
   "source": [
    "# remove a key-value pair\n",
    "del emissions_by_year[1950]         # A unary dict operator.\n",
    "1950 in emissions_by_year           # This is now false"
   ]
  },
  {
   "cell_type": "code",
   "execution_count": 7,
   "metadata": {
    "collapsed": false
   },
   "outputs": [
    {
     "data": {
      "text/plain": [
       "7"
      ]
     },
     "execution_count": 7,
     "metadata": {},
     "output_type": "execute_result"
    }
   ],
   "source": [
    "# determine length (number of key-value pairs)\n",
    "len(emissions_by_year)"
   ]
  },
  {
   "cell_type": "code",
   "execution_count": 8,
   "metadata": {
    "collapsed": false
   },
   "outputs": [
    {
     "name": "stdout",
     "output_type": "stream",
     "text": [
      "2002\n",
      "1799\n",
      "1800\n",
      "1801\n",
      "1802\n",
      "2009\n",
      "1902\n"
     ]
    }
   ],
   "source": [
    "# Iterating over the dictionary\n",
    "for key in emissions_by_year:\n",
    "    print(key)"
   ]
  },
  {
   "cell_type": "markdown",
   "metadata": {},
   "source": [
    " Why did the keys come out in an unexpected order?\n",
    " \n",
    " In Python 3.5 and earlier versions, the dictionary keys are unordered. \n",
    " The order that the keys are traversed (when you loop through) is arbitrary: \n",
    " there is no guarantee that it will be in the order that they were added.\n",
    "\n",
    " Silly analogy: A dict is like a filing assistant who is very efficient\n",
    " but keeps everything in a secret room.  You have no idea how he organizes\n",
    " things, and you don't care -- as long as he can pull the file you need\n",
    " when you give him the key.\n",
    " \n",
    " Note: In Python 3.6, the dictionary keys will appear in the order that they\n",
    " are added to the dictionary. However, dictionaries are still considered\n",
    " unordered in that two dictionaries are considered equivalent if they contain\n",
    " the same key/value pairs regardless of order:"
   ]
  },
  {
   "cell_type": "code",
   "execution_count": null,
   "metadata": {
    "collapsed": false
   },
   "outputs": [],
   "source": [
    "d1 = {1: 'a', 2: 'b', 3: 'c'}\n",
    "d2 = {3: 'c', 1: 'a', 2: 'b'}\n",
    "d1 == d2"
   ]
  },
  {
   "cell_type": "markdown",
   "metadata": {},
   "source": [
    "## Dictionary methods ##"
   ]
  },
  {
   "cell_type": "code",
   "execution_count": 9,
   "metadata": {
    "collapsed": false
   },
   "outputs": [
    {
     "data": {
      "text/plain": [
       "dict_keys([2002, 1799, 1800, 1801, 1802, 2009, 1902])"
      ]
     },
     "execution_count": 9,
     "metadata": {},
     "output_type": "execute_result"
    }
   ],
   "source": [
    "emissions_by_year.keys()"
   ]
  },
  {
   "cell_type": "code",
   "execution_count": 10,
   "metadata": {
    "collapsed": false
   },
   "outputs": [
    {
     "data": {
      "text/plain": [
       "dict_values([1733297, 1, 70, 74, 79, 10, 82])"
      ]
     },
     "execution_count": 10,
     "metadata": {},
     "output_type": "execute_result"
    }
   ],
   "source": [
    "emissions_by_year.values()"
   ]
  },
  {
   "cell_type": "markdown",
   "metadata": {},
   "source": [
    "Method `items` produces the (key, value) pairs"
   ]
  },
  {
   "cell_type": "code",
   "execution_count": 11,
   "metadata": {
    "collapsed": false
   },
   "outputs": [
    {
     "data": {
      "text/plain": [
       "dict_items([(2002, 1733297), (1799, 1), (1800, 70), (1801, 74), (1802, 79), (2009, 10), (1902, 82)])"
      ]
     },
     "execution_count": 11,
     "metadata": {},
     "output_type": "execute_result"
    }
   ],
   "source": [
    "emissions_by_year.items()"
   ]
  },
  {
   "cell_type": "markdown",
   "metadata": {},
   "source": [
    "To work with the data returned by the methods described above, we typically convert it to type list.  For example:"
   ]
  },
  {
   "cell_type": "code",
   "execution_count": 12,
   "metadata": {
    "collapsed": false
   },
   "outputs": [
    {
     "name": "stdout",
     "output_type": "stream",
     "text": [
      "[2002, 1799, 1800, 1801, 1802, 2009, 1902]\n"
     ]
    }
   ],
   "source": [
    "years = list(emissions_by_year.keys())\n",
    "print(years)"
   ]
  },
  {
   "cell_type": "markdown",
   "metadata": {},
   "source": [
    "### Practice Exercise: working with dictionaries"
   ]
  },
  {
   "cell_type": "markdown",
   "metadata": {},
   "source": [
    "   1. Create a variable `doctor_to_patients` that refers to an empty dictionary.\n",
    "   2. Add an entry for `'Dr. Ngo'` with `1200` patients.\n",
    "   3. Add another entry for `'Dr. Singh'` with `1400` patients.\n",
    "   4. Add a third entry for `'Dr. Gray'` with `1350` patients.\n",
    "   5. Print the number of patients associated with `'Dr. Singh'`.\n",
    "   6. Change the number of patients associated with `'Dr. Singh'` to `1401`.\n",
    "   7. Write an expression to get the number of key-value pairs in the dictionary.\n",
    "   8. Write an expression to get the doctors.\n",
    "   9. Write an expression to get the patient quantities.\n",
    "   10. Write an expression to check whether `'Dr. Koch'` is a key in the dictionary.\n",
    "   11. Remove the key-value pair with `'Dr. Ngo'` as the key.   "
   ]
  },
  {
   "cell_type": "markdown",
   "metadata": {},
   "source": [
    "## Iterating through a dictionary ##"
   ]
  },
  {
   "cell_type": "code",
   "execution_count": 13,
   "metadata": {
    "collapsed": true
   },
   "outputs": [],
   "source": [
    "phone = {'555-7632': 'Paul', '555-9832': 'Andrew', '555-6677': 'Dan', \n",
    "         '555-9823': 'Michael', '555-6342' : 'Cathy', '555-7343' : 'Diane'}"
   ]
  },
  {
   "cell_type": "markdown",
   "metadata": {},
   "source": [
    "(a) Going through the keys"
   ]
  },
  {
   "cell_type": "code",
   "execution_count": 14,
   "metadata": {
    "collapsed": false
   },
   "outputs": [
    {
     "name": "stdout",
     "output_type": "stream",
     "text": [
      "555-7632\n",
      "555-9823\n",
      "555-9832\n",
      "555-6342\n",
      "555-6677\n",
      "555-7343\n"
     ]
    }
   ],
   "source": [
    "# The proper way:\n",
    "for key in phone:\n",
    "    print(key)\n",
    "\n",
    "# This is equivalent, but not considered good style:\n",
    "#for key in phone.keys():\n",
    "#    print(key)"
   ]
  },
  {
   "cell_type": "markdown",
   "metadata": {},
   "source": [
    "(b) Going through the key-value pairs:"
   ]
  },
  {
   "cell_type": "code",
   "execution_count": 15,
   "metadata": {
    "collapsed": false
   },
   "outputs": [
    {
     "name": "stdout",
     "output_type": "stream",
     "text": [
      "('555-7632', 'Paul')\n",
      "('555-9823', 'Michael')\n",
      "('555-9832', 'Andrew')\n",
      "('555-6342', 'Cathy')\n",
      "('555-6677', 'Dan')\n",
      "('555-7343', 'Diane')\n"
     ]
    }
   ],
   "source": [
    "# This gives you a series of tuples.\n",
    "for item in phone.items():\n",
    "    print(item)"
   ]
  },
  {
   "cell_type": "code",
   "execution_count": 16,
   "metadata": {
    "collapsed": false
   },
   "outputs": [
    {
     "name": "stdout",
     "output_type": "stream",
     "text": [
      "Name: Paul ; Phone Number: 555-7632\n",
      "Name: Michael ; Phone Number: 555-9823\n",
      "Name: Andrew ; Phone Number: 555-9832\n",
      "Name: Cathy ; Phone Number: 555-6342\n",
      "Name: Dan ; Phone Number: 555-6677\n",
      "Name: Diane ; Phone Number: 555-7343\n"
     ]
    }
   ],
   "source": [
    "# You can pull the pieces of the tuple out as you go:\n",
    "for (number, name) in phone.items():\n",
    "    print(\"Name:\", name, \"; Phone Number:\", number)"
   ]
  },
  {
   "cell_type": "markdown",
   "metadata": {},
   "source": [
    "### Practice Exercise: looping over dictionaries"
   ]
  },
  {
   "cell_type": "markdown",
   "metadata": {},
   "source": [
    "The following dictionary has brand name drugs as keys and generic drug names as values:\n",
    "\n",
    "    brand_to_generic = {'lipitor': 'atorvastatin',\n",
    "                        'zithromax': 'azithromycin',\n",
    "                        'amoxcil': 'amoxicillin',\n",
    "                        'singulair': 'montelukast',\n",
    "                        'nexium': 'esomeprazole',\n",
    "                        'plavix': 'clopidogrel',\n",
    "                        'abilify': 'ARIPiprazole'}\n",
    "                        \n",
    "Using the dictionary above and for loops, complete the following tasks:\n",
    "  1. Get a list of brand name drugs that start with the letter `'a'`.\n",
    "  2. Count the number of generic drugs that end with the letter `'n'`.\n",
    "  3. Get a list of brand name drugs in alphabetical order.\n",
    "     (Hint: this can be solved both with or without a for loop.  Once you\n",
    "     have solved it one way, try to solve it using a different approach.)"
   ]
  },
  {
   "cell_type": "markdown",
   "metadata": {},
   "source": [
    "## Inverting a dictionary\n",
    " Here's a dictionary mapping phone numbers to names.  \n",
    " Some people have more than one phone number, of course."
   ]
  },
  {
   "cell_type": "code",
   "execution_count": 20,
   "metadata": {
    "collapsed": true
   },
   "outputs": [],
   "source": [
    "phone_to_person = {'555-7632': 'Paul', '555-9832': 'Andrew', \n",
    "                   '555-6677': 'Dan', '555-9823': 'Michael',\n",
    "                   '555-6342' : 'Cathy', '555-2222': 'Michael',\n",
    "                   '555-7343' : 'Diane'}"
   ]
  },
  {
   "cell_type": "markdown",
   "metadata": {},
   "source": [
    " Suppose we want to create a list of all of Michael's phone numbers:"
   ]
  },
  {
   "cell_type": "code",
   "execution_count": 21,
   "metadata": {
    "collapsed": false
   },
   "outputs": [
    {
     "name": "stdout",
     "output_type": "stream",
     "text": [
      "['555-9823', '555-2222']\n"
     ]
    }
   ],
   "source": [
    "# Method 1\n",
    "michael = []\n",
    "for key in phone_to_person:\n",
    "    if phone_to_person[key] == 'Michael':\n",
    "        michael.append(key)\n",
    "print(michael)"
   ]
  },
  {
   "cell_type": "markdown",
   "metadata": {},
   "source": [
    " But what if I want to be able to do this for all people? \n",
    " Question: is there some object you could create to make this easy?\n",
    " Answer: A dictionary!\n",
    "   - The original dictionary takes us from numbers to names.\n",
    "   - The new dictionary will take us in the reverse direction, from names to numbers."
   ]
  },
  {
   "cell_type": "code",
   "execution_count": 22,
   "metadata": {
    "collapsed": false
   },
   "outputs": [
    {
     "data": {
      "text/plain": [
       "{'Andrew': ['555-9832'],\n",
       " 'Cathy': ['555-6342'],\n",
       " 'Dan': ['555-6677'],\n",
       " 'Diane': ['555-7343'],\n",
       " 'Michael': ['555-9823', '555-2222'],\n",
       " 'Paul': ['555-7632']}"
      ]
     },
     "execution_count": 22,
     "metadata": {},
     "output_type": "execute_result"
    }
   ],
   "source": [
    "new_phone = {}\n",
    "for (number, name) in phone_to_person.items():\n",
    "    if name in new_phone:\n",
    "        new_phone[name].append(number)\n",
    "    else:\n",
    "        new_phone[name] = [number]\n",
    "new_phone"
   ]
  },
  {
   "cell_type": "markdown",
   "metadata": {},
   "source": [
    "We call this an *inverted* dictionary."
   ]
  }
 ],
 "metadata": {
  "kernelspec": {
   "display_name": "Python 3",
   "language": "python",
   "name": "python3"
  },
  "language_info": {
   "codemirror_mode": {
    "name": "ipython",
    "version": 3
   },
   "file_extension": ".py",
   "mimetype": "text/x-python",
   "name": "python",
   "nbconvert_exporter": "python",
   "pygments_lexer": "ipython3",
   "version": "3.5.2"
  }
 },
 "nbformat": 4,
 "nbformat_minor": 0
}
