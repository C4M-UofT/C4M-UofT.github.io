{
 "cells": [
  {
   "cell_type": "markdown",
   "metadata": {},
   "source": [
    "# Lists, Loops and `range`"
   ]
  },
  {
   "cell_type": "markdown",
   "metadata": {},
   "source": [
    "We can store collections of data, using Python's type `list`. \n",
    "\n",
    "For example, here are the average gross annual earnings for anesthesiologists, ophthalmologists, cardiologists, pediatricians, and family doctors, respectively (from https://www.cma.ca/Assets/assets-library/document/en/advocacy/Anesthesiology-e.pdf and similar sources on cma.ca).\n",
    "\n",
    "- 361,681  \n",
    "- 740,741\n",
    "- 396,105\n",
    "- 284,600   \n",
    "- 249,154  \n",
    "\n",
    "The general form of a list is:\n",
    "\n",
    "*[expression1, expression2, ..., expressionN]*\n",
    "\n",
    "\n",
    "We can store the data in Python as follows:"
   ]
  },
  {
   "cell_type": "code",
   "execution_count": 1,
   "metadata": {
    "collapsed": false
   },
   "outputs": [],
   "source": [
    "gross_earnings = [361681, 740741, 396105,  284600, 249154]"
   ]
  },
  {
   "cell_type": "markdown",
   "metadata": {},
   "source": [
    "We enclose the data in square brackets, and *items* of the list (also called *elements*) are separated by commas. We access an element using its *index* -- the order of the element in the list, **starting from 0**.\n"
   ]
  },
  {
   "cell_type": "code",
   "execution_count": 2,
   "metadata": {
    "collapsed": false
   },
   "outputs": [
    {
     "data": {
      "text/plain": [
       "361681"
      ]
     },
     "execution_count": 2,
     "metadata": {},
     "output_type": "execute_result"
    }
   ],
   "source": [
    "gross_earnings[0]"
   ]
  },
  {
   "cell_type": "code",
   "execution_count": 3,
   "metadata": {
    "collapsed": false
   },
   "outputs": [
    {
     "data": {
      "text/plain": [
       "740741"
      ]
     },
     "execution_count": 3,
     "metadata": {},
     "output_type": "execute_result"
    }
   ],
   "source": [
    "gross_earnings[1]"
   ]
  },
  {
   "cell_type": "code",
   "execution_count": 4,
   "metadata": {
    "collapsed": false
   },
   "outputs": [
    {
     "data": {
      "text/plain": [
       "249154"
      ]
     },
     "execution_count": 4,
     "metadata": {},
     "output_type": "execute_result"
    }
   ],
   "source": [
    "gross_earnings[4]"
   ]
  },
  {
   "cell_type": "markdown",
   "metadata": {},
   "source": [
    "Note that, since there are 5 elements in the list and we start counting from 0, we only have indices 0, 1, 2, 3, and 4. The following produces an error:"
   ]
  },
  {
   "cell_type": "code",
   "execution_count": 5,
   "metadata": {
    "collapsed": false
   },
   "outputs": [
    {
     "ename": "IndexError",
     "evalue": "list index out of range",
     "output_type": "error",
     "traceback": [
      "\u001b[0;31m---------------------------------------------------------------------------\u001b[0m",
      "\u001b[0;31mIndexError\u001b[0m                                Traceback (most recent call last)",
      "\u001b[0;32m<ipython-input-5-57b472f13599>\u001b[0m in \u001b[0;36m<module>\u001b[0;34m()\u001b[0m\n\u001b[0;32m----> 1\u001b[0;31m \u001b[0mgross_earnings\u001b[0m\u001b[0;34m[\u001b[0m\u001b[0;36m5\u001b[0m\u001b[0;34m]\u001b[0m\u001b[0;34m\u001b[0m\u001b[0m\n\u001b[0m",
      "\u001b[0;31mIndexError\u001b[0m: list index out of range"
     ]
    }
   ],
   "source": [
    "gross_earnings[5]"
   ]
  },
  {
   "cell_type": "markdown",
   "metadata": {},
   "source": [
    "The expression `gross_earnings[2]` gives a `float` value, so you can use the expression `gross_earnings[2]` anywhere that you can use a float. For example:"
   ]
  },
  {
   "cell_type": "code",
   "execution_count": 6,
   "metadata": {
    "collapsed": false
   },
   "outputs": [
    {
     "data": {
      "text/plain": [
       "237963.0"
      ]
     },
     "execution_count": 6,
     "metadata": {},
     "output_type": "execute_result"
    }
   ],
   "source": [
    "0.6 * (gross_earnings[2] + 500)"
   ]
  },
  {
   "cell_type": "markdown",
   "metadata": {},
   "source": [
    "You can access an element of a list, by using a variable to represent the index:"
   ]
  },
  {
   "cell_type": "code",
   "execution_count": 7,
   "metadata": {
    "collapsed": false
   },
   "outputs": [
    {
     "data": {
      "text/plain": [
       "396105"
      ]
     },
     "execution_count": 7,
     "metadata": {},
     "output_type": "execute_result"
    }
   ],
   "source": [
    "i = 2\n",
    "gross_earnings[i]"
   ]
  },
  {
   "cell_type": "markdown",
   "metadata": {},
   "source": [
    "The variable name `i` is commonly used when the variable represents an index."
   ]
  },
  {
   "cell_type": "markdown",
   "metadata": {},
   "source": [
    "## Functions and operations on lists\n",
    "As we did for objects of type `str`, we can obtain the length of a list using Python's function `len`.  "
   ]
  },
  {
   "cell_type": "code",
   "execution_count": 8,
   "metadata": {
    "collapsed": false
   },
   "outputs": [
    {
     "data": {
      "text/plain": [
       "5"
      ]
     },
     "execution_count": 8,
     "metadata": {},
     "output_type": "execute_result"
    }
   ],
   "source": [
    "len(gross_earnings)"
   ]
  },
  {
   "cell_type": "markdown",
   "metadata": {},
   "source": [
    "The function call produced 5, because there are five elements in the list that `gross_earnings` refers to. \n",
    "\n",
    "Since the list has 5 elements, the valid indexes into the list are 0, 1, 2, 3, and 4.  In general, the last index is equal to the length of the list minus one: "
   ]
  },
  {
   "cell_type": "code",
   "execution_count": 9,
   "metadata": {
    "collapsed": false
   },
   "outputs": [
    {
     "data": {
      "text/plain": [
       "249154"
      ]
     },
     "execution_count": 9,
     "metadata": {},
     "output_type": "execute_result"
    }
   ],
   "source": [
    "gross_earnings[len(gross_earnings) - 1]"
   ]
  },
  {
   "cell_type": "markdown",
   "metadata": {},
   "source": [
    "Here is another example of using `len` to calculate the last index and to access the last element in the list:"
   ]
  },
  {
   "cell_type": "code",
   "execution_count": 10,
   "metadata": {
    "collapsed": false
   },
   "outputs": [
    {
     "name": "stdout",
     "output_type": "stream",
     "text": [
      "Length of L: 3\n",
      "The index of the last element of L: 2\n",
      "The last element of L: 6\n"
     ]
    }
   ],
   "source": [
    "L = [4, 5, 6]\n",
    "print(\"Length of L:\", len(L))\n",
    "print(\"The index of the last element of L:\", len(L)-1)\n",
    "print(\"The last element of L:\", L[len(L)-1])"
   ]
  },
  {
   "cell_type": "markdown",
   "metadata": {},
   "source": [
    "Alternatively, we can use negative indexes to access the elements of a list, with index -1 corresponding with the right-most element:"
   ]
  },
  {
   "cell_type": "code",
   "execution_count": 11,
   "metadata": {
    "collapsed": false
   },
   "outputs": [
    {
     "name": "stdout",
     "output_type": "stream",
     "text": [
      "6\n",
      "5\n"
     ]
    }
   ],
   "source": [
    "print(L[-1])  # same as L[len(L)-1]\n",
    "print(L[-2])  # same as L[len(L)-2]"
   ]
  },
  {
   "cell_type": "markdown",
   "metadata": {},
   "source": [
    "There are several other functions that can take lists as arguments, including `min`, `max`, and `sum`:"
   ]
  },
  {
   "cell_type": "code",
   "execution_count": 12,
   "metadata": {
    "collapsed": false
   },
   "outputs": [
    {
     "name": "stdout",
     "output_type": "stream",
     "text": [
      "3.2\n",
      "11\n",
      "33.7\n"
     ]
    }
   ],
   "source": [
    "values = [5.4, 6, 3.2, 8.1, 11]\n",
    "print(min(values))\n",
    "print(max(values))\n",
    "print(sum(values))"
   ]
  },
  {
   "cell_type": "markdown",
   "metadata": {},
   "source": [
    "We can also use the operator `in` to check whether an object is an item in a list:"
   ]
  },
  {
   "cell_type": "code",
   "execution_count": 18,
   "metadata": {
    "collapsed": false
   },
   "outputs": [
    {
     "data": {
      "text/plain": [
       "True"
      ]
     },
     "execution_count": 18,
     "metadata": {},
     "output_type": "execute_result"
    }
   ],
   "source": [
    "heart_rates = [78, 85, 90, 100, 97]\n",
    "85 in heart_rates"
   ]
  },
  {
   "cell_type": "code",
   "execution_count": 19,
   "metadata": {
    "collapsed": false
   },
   "outputs": [
    {
     "data": {
      "text/plain": [
       "False"
      ]
     },
     "execution_count": 19,
     "metadata": {},
     "output_type": "execute_result"
    }
   ],
   "source": [
    "95 in heart_rates"
   ]
  },
  {
   "cell_type": "markdown",
   "metadata": {},
   "source": [
    "## `for` loop over `range`"
   ]
  },
  {
   "cell_type": "markdown",
   "metadata": {},
   "source": [
    "Python has a built-in function named `range` that produces a sequence of numbers.  Here is a fragment of the documentation for `range`:\n",
    "\n",
    "    range(start, stop[, step]) -> range object\n",
    "     |  \n",
    "     |  Return an object that produces a sequence of integers from start (inclusive)\n",
    "     |  to stop (exclusive) by step.  range(i, j) produces i, i+1, i+2, ..., j-1.\n",
    "     |  start defaults to 0, and stop is omitted!  range(4) produces 0, 1, 2, 3.\n",
    "     |  These are exactly the valid indices for a list of 4 elements.\n",
    "     |  When step is given, it specifies the increment (or decrement)."
   ]
  },
  {
   "cell_type": "markdown",
   "metadata": {},
   "source": [
    "We can use a `for` loop to iterate over the sequence produced by `range`.  The first number is the sequence is by default 0 and the sequence continues up to but not including the argument to `range`:"
   ]
  },
  {
   "cell_type": "code",
   "execution_count": 23,
   "metadata": {
    "collapsed": false
   },
   "outputs": [
    {
     "name": "stdout",
     "output_type": "stream",
     "text": [
      "0\n",
      "1\n",
      "2\n",
      "3\n",
      "4\n",
      "5\n",
      "6\n",
      "7\n",
      "8\n",
      "9\n"
     ]
    }
   ],
   "source": [
    "for num in range(10):\n",
    "    print(num)"
   ]
  },
  {
   "cell_type": "markdown",
   "metadata": {},
   "source": [
    "If we want to start at 1 and go up 11, we can pass two arguments:"
   ]
  },
  {
   "cell_type": "code",
   "execution_count": 25,
   "metadata": {
    "collapsed": false
   },
   "outputs": [
    {
     "name": "stdout",
     "output_type": "stream",
     "text": [
      "1\n",
      "2\n",
      "3\n",
      "4\n",
      "5\n",
      "6\n",
      "7\n",
      "8\n",
      "9\n",
      "10\n"
     ]
    }
   ],
   "source": [
    "for num in range(1, 11):\n",
    "    print(num)"
   ]
  },
  {
   "cell_type": "markdown",
   "metadata": {},
   "source": [
    "We can also specify the step size, so let's use that to print even numbers from 10 to 20 inclusive:"
   ]
  },
  {
   "cell_type": "code",
   "execution_count": 28,
   "metadata": {
    "collapsed": false
   },
   "outputs": [
    {
     "name": "stdout",
     "output_type": "stream",
     "text": [
      "10\n",
      "12\n",
      "14\n",
      "16\n",
      "18\n",
      "20\n"
     ]
    }
   ],
   "source": [
    "for value in range(10, 21, 2):\n",
    "    print(value)"
   ]
  },
  {
   "cell_type": "markdown",
   "metadata": {},
   "source": [
    "## Practice Exercise: `range`\n",
    "\n",
    "Use `range` and a `for` loop to print every 4th number from 0 to 200, inclusive"
   ]
  },
  {
   "cell_type": "markdown",
   "metadata": {},
   "source": [
    "## `for` loop over `list`"
   ]
  },
  {
   "cell_type": "markdown",
   "metadata": {},
   "source": [
    "Let's print out each item from `gross_earnings`:"
   ]
  },
  {
   "cell_type": "code",
   "execution_count": 13,
   "metadata": {
    "collapsed": false
   },
   "outputs": [
    {
     "name": "stdout",
     "output_type": "stream",
     "text": [
      "361681\n",
      "740741\n",
      "396105\n",
      "284600\n",
      "249154\n"
     ]
    }
   ],
   "source": [
    "print(gross_earnings[0])\n",
    "print(gross_earnings[1])\n",
    "print(gross_earnings[2])\n",
    "print(gross_earnings[3])\n",
    "print(gross_earnings[4])"
   ]
  },
  {
   "cell_type": "markdown",
   "metadata": {},
   "source": [
    "The code above works, but what if there are 100 or even 100,000 items in `gross_earnings`?  We'd have to call `print` once for each of them!\n",
    "\n",
    "The only thing that varies in each line of code above is the index.  We can use a variable to represent the index and change the value of the variable so that it to refers to the values `0`, `1`, `2`, `3`, and `4`.  Here is one approach for solving this, using `range` and a `for` loop:"
   ]
  },
  {
   "cell_type": "code",
   "execution_count": 14,
   "metadata": {
    "collapsed": false
   },
   "outputs": [
    {
     "name": "stdout",
     "output_type": "stream",
     "text": [
      "361681\n",
      "740741\n",
      "396105\n",
      "284600\n",
      "249154\n"
     ]
    }
   ],
   "source": [
    "for i in range(5):\n",
    "    print(gross_earnings[i])"
   ]
  },
  {
   "cell_type": "markdown",
   "metadata": {},
   "source": [
    "We can make the code even more general and replace `5` with the length of the list, so that this code will work regardless of the number of items in `gross_earnings`:"
   ]
  },
  {
   "cell_type": "code",
   "execution_count": 15,
   "metadata": {
    "collapsed": false
   },
   "outputs": [
    {
     "name": "stdout",
     "output_type": "stream",
     "text": [
      "361681\n",
      "740741\n",
      "396105\n",
      "284600\n",
      "249154\n"
     ]
    }
   ],
   "source": [
    "for i in range(len(gross_earnings)):\n",
    "    print(gross_earnings[i])"
   ]
  },
  {
   "cell_type": "markdown",
   "metadata": {},
   "source": [
    "As an alternative, we can use a `for` loop to iterate over the items in `gross_earnings`:"
   ]
  },
  {
   "cell_type": "code",
   "execution_count": 16,
   "metadata": {
    "collapsed": false
   },
   "outputs": [
    {
     "name": "stdout",
     "output_type": "stream",
     "text": [
      "361681\n",
      "740741\n",
      "396105\n",
      "284600\n",
      "249154\n"
     ]
    }
   ],
   "source": [
    "for salary in gross_earnings:\n",
    "    print(salary)"
   ]
  },
  {
   "cell_type": "markdown",
   "metadata": {},
   "source": [
    "In the code above, variable `salary` first refers to `gross_earnings[0]`, then `gross_earnings[1]`, and so on, until the end of the list is reached."
   ]
  },
  {
   "cell_type": "markdown",
   "metadata": {},
   "source": [
    "## Worked example: Printing particular elements\n",
    "Let's write code to print the items of `gross_earnings` that are less than 300,000. "
   ]
  },
  {
   "cell_type": "markdown",
   "metadata": {},
   "source": [
    "Here is an English description of our approach to this problem:  for each item in gross_earnings, check whether it is less than 300000 and if so, print it.  Now, here is the code:"
   ]
  },
  {
   "cell_type": "code",
   "execution_count": 31,
   "metadata": {
    "collapsed": false
   },
   "outputs": [
    {
     "name": "stdout",
     "output_type": "stream",
     "text": [
      "284600\n",
      "249154\n"
     ]
    }
   ],
   "source": [
    "gross_earnings = [361681, 740741, 396105,  284600, 249154]\n",
    "for i in range(len(gross_earnings)):\n",
    "    if gross_earnings[i] < 300000:\n",
    "        print(gross_earnings[i])\n",
    "    "
   ]
  },
  {
   "cell_type": "markdown",
   "metadata": {},
   "source": [
    "Let's trace [the code above](http://www.pythontutor.com/visualize.html#code=gross_earnings%20%3D%20%5B361681,%20740741,%20396105,%20%20284600,%20249154%5D%0Afor%20i%20in%20range(len(gross_earnings%29%29%3A%0A%20%20%20%20if%20gross_earnings%5Bi%5D%20%3C%20300000%3A%0A%20%20%20%20%20%20%20%20print(gross_earnings%5Bi%5D%29%0A%20%20%20%20%20%20%20%20&cumulative=false&curInstr=0&heapPrimitives=true&mode=display&origin=opt-frontend.js&py=3&rawInputLstJSON=%5B%5D&textReferences=false) using the Python Visualizer."
   ]
  },
  {
   "cell_type": "markdown",
   "metadata": {},
   "source": [
    "An alternative approach is to iterate over the list directly:"
   ]
  },
  {
   "cell_type": "code",
   "execution_count": 32,
   "metadata": {
    "collapsed": false
   },
   "outputs": [
    {
     "name": "stdout",
     "output_type": "stream",
     "text": [
      "284600\n",
      "249154\n"
     ]
    }
   ],
   "source": [
    "for salary in gross_earnings:\n",
    "    if salary < 300000:\n",
    "        print(salary)"
   ]
  },
  {
   "cell_type": "markdown",
   "metadata": {},
   "source": [
    "We can also trace [the code above](http://www.pythontutor.com/visualize.html#code=gross_earnings%20%3D%20%5B361681,%20740741,%20396105,%20%20284600,%20249154%5D%0Afor%20salary%20in%20gross_earnings%3A%0A%20%20%20%20if%20salary%20%3C%20300000%3A%0A%20%20%20%20%20%20%20%20print(salary%29&cumulative=false&curInstr=0&heapPrimitives=true&mode=display&origin=opt-frontend.js&py=3&rawInputLstJSON=%5B%5D&textReferences=false) using the Python Visualizer to see how it differs from the previous version."
   ]
  },
  {
   "cell_type": "markdown",
   "metadata": {},
   "source": [
    "## Computing the sum of a list\n",
    "\n",
    "Suppose we want to compute the sum of all the values in a list.  We can use the *numeric accumulator pattern* that we used with strings.\n",
    "\n",
    "Here's the idea: we'll set up a variable `total` that initially refers to `0`, and we'll keep adding adding values to it.\n",
    "\n",
    "Initially, `total` will refer to 0.\n",
    "\n",
    "Then we'll add `gross_earnings[0]` to `total`.  \n",
    "\n",
    "Next, we'll add `gross_earnings[1]` to `total`.\n",
    "\n",
    "and so on ...  \n",
    "\n",
    "Finally,  we'll add `gross_earnings[len(gross_earnings)-1]` to `total`.\n",
    "\n",
    "Here is how to express this in Python:"
   ]
  },
  {
   "cell_type": "code",
   "execution_count": 33,
   "metadata": {
    "collapsed": false
   },
   "outputs": [
    {
     "name": "stdout",
     "output_type": "stream",
     "text": [
      "At iteration 0 total =  361681\n",
      "At iteration 1 total =  1102422\n",
      "At iteration 2 total =  1498527\n",
      "At iteration 3 total =  1783127\n",
      "At iteration 4 total =  2032281\n",
      "Final total: 2032281\n"
     ]
    }
   ],
   "source": [
    "gross_earnings = [361681, 740741, 396105,  284600, 249154]\n",
    "total = 0    \n",
    "for i in range(len(gross_earnings)):\n",
    "    total = total + gross_earnings[i]\n",
    "    print(\"At iteration\", i, \"total = \", total)\n",
    "\n",
    "print(\"Final total:\", total)   "
   ]
  },
  {
   "cell_type": "markdown",
   "metadata": {},
   "source": [
    "It isn't necessary to print out the intermediate values of `total`, of course. We just did that for illustration purposes."
   ]
  },
  {
   "cell_type": "markdown",
   "metadata": {},
   "source": [
    "## Practice Exercise: Iteration and Accumulation\n",
    "\n",
    "Once we know the sum of a list, computing the average is straight forward: all we need to do is divide the sum by the number of elements. \n",
    "\n",
    "First, consider how you can get the number of items in a list, using one of Python's built-in functions.\n",
    "\n",
    "Now, compute the average of the items in `gross_earnings`:"
   ]
  },
  {
   "cell_type": "code",
   "execution_count": 1,
   "metadata": {
    "collapsed": true
   },
   "outputs": [],
   "source": [
    "gross_earnings = [361681, 740741, 396105,  284600, 249154]"
   ]
  },
  {
   "cell_type": "markdown",
   "metadata": {},
   "source": [
    "Check your answer: 406456.2"
   ]
  },
  {
   "cell_type": "markdown",
   "metadata": {},
   "source": [
    "## Practice Exercise : Conditional + Loops \n",
    "\n",
    "Compute the average of `gross_earnings`, but exclude any earnings that are outside the range from 250000 (inclusive) to 400000 (exclusive).\n",
    "\n",
    "Check your answer: 347462.0"
   ]
  },
  {
   "cell_type": "markdown",
   "metadata": {},
   "source": [
    "## Practice Exercise: list of str, conditionals, and loops\n",
    "\n",
    "Consider a list of strings that are represent handedness of subjects in a study and looks something like this:\n",
    "\n",
    "    hands = [\"left\", \"right\", \"right\", \"right\", \"left\", \"mixed\", \"right\", ...]\n",
    "    \n",
    "The only elements in the list are the strings `\"right\"`, `\"left\"`, or `\"mixed\"`. \n",
    "\n",
    "Write a program that will work on any such list and print the percentage of subjects from each category of handedness. For example, if you were to run it on the list `[\"right\", \"left\", \"right\", \"right\"]`, it should print the output:\n",
    "Right-handed: 75 %\n",
    "Left-handed: 25 %\n",
    "Mixed-handed: 0 %\n",
    "\n",
    "Don’t worry about formatting the numbers. You might see `75.00000` as your result and that’s fine for now. Name your program handed.py."
   ]
  }
 ],
 "metadata": {
  "kernelspec": {
   "display_name": "Python 3",
   "language": "python",
   "name": "python3"
  },
  "language_info": {
   "codemirror_mode": {
    "name": "ipython",
    "version": 3
   },
   "file_extension": ".py",
   "mimetype": "text/x-python",
   "name": "python",
   "nbconvert_exporter": "python",
   "pygments_lexer": "ipython3",
   "version": "3.5.2"
  }
 },
 "nbformat": 4,
 "nbformat_minor": 0
}
