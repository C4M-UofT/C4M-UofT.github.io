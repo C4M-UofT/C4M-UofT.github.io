{
 "cells": [
  {
   "cell_type": "markdown",
   "metadata": {},
   "source": [
    "## Nested lists and loops"
   ]
  },
  {
   "cell_type": "markdown",
   "metadata": {},
   "source": [
    "## Practice Exercise: Matching DNA subsequences with nested loops\n",
    "\n",
    "Write a function that returns `True` iff a DNA subsequence matches a DNA sequences somewhere. Both the subsequence and the sequence are represented as strings. For example, if\n",
    "\n",
    "        seq = \"CGGGGAATAGCCCCC\"\n",
    "        subseq = \"AATA\",\n",
    "\n",
    "then `match_subseq(seq, subseq)` should return `True` since you can match `subseq` to `seq`, but if\n",
    "\n",
    "        seq = \"CGGGTCGGGCGC\"\n",
    "        subseq = \"AAA\"\n",
    "        \n",
    "then `match_subseq(seq, subseq)` should return `False`.\n",
    "\n",
    "*Hint*: think of what a useful helper function would be that's similar to what we already wrote."
   ]
  },
  {
   "cell_type": "code",
   "execution_count": 1,
   "metadata": {
    "collapsed": true
   },
   "outputs": [],
   "source": [
    "def match_subseq_to_subseq(seq, subseq, start_i):\n",
    "    '''Return True iff the subsequence of seq that starts at start_i\n",
    "    and is of the same length as subseq is equal to subseq\n",
    "    \n",
    "    Arugments:\n",
    "    start_i -- the starting index in seq, an integer\n",
    "    seq, subseq -- two strings. seq is no shorter than start_i+len(subseq)\n",
    "    '''\n",
    "    for i in range(len(subseq)):\n",
    "        if subseq[i] != seq[start_i + i]:\n",
    "            return False\n",
    "        \n",
    "    return True\n",
    "\n",
    "def match_subseq(seq, subseq):\n",
    "    '''Return True iff the subsequence seq matches a the sequence seq \n",
    "    at some index\n",
    "    \n",
    "    Arguments:\n",
    "    seq, subseq -- sequences of DNA bases, represented as a string consisting\n",
    "                   of the characters \"A\", \"T\", \"G\", \"C\"\n",
    "    '''\n",
    "                   \n",
    "    for i in range(len(seq)-len(subseq)):\n",
    "        if match_subseq_to_subseq(seq, subseq, i):\n",
    "            return True\n",
    "        \n",
    "    return False\n"
   ]
  }
 ],
 "metadata": {
  "kernelspec": {
   "display_name": "Python 3",
   "language": "python",
   "name": "python3"
  },
  "language_info": {
   "codemirror_mode": {
    "name": "ipython",
    "version": 3
   },
   "file_extension": ".py",
   "mimetype": "text/x-python",
   "name": "python",
   "nbconvert_exporter": "python",
   "pygments_lexer": "ipython3",
   "version": "3.5.2"
  }
 },
 "nbformat": 4,
 "nbformat_minor": 1
}
