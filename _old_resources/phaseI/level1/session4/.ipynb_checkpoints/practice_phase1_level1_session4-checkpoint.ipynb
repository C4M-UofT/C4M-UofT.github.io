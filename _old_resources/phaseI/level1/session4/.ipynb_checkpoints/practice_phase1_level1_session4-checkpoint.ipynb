{
 "cells": [
  {
   "cell_type": "markdown",
   "metadata": {},
   "source": [
    "## Practice Exercises: Phase 1, Level 1, Session 4"
   ]
  },
  {
   "cell_type": "markdown",
   "metadata": {},
   "source": [
    "#### 1. Parallel lists and strings"
   ]
  },
  {
   "cell_type": "markdown",
   "metadata": {},
   "source": [
    "##### a) Practice Exercise: parallel lists\n",
    "\n",
    "We store patient data in two lists of the same length. For example:\n",
    "\n",
    "        sex_data =             [\"m\", \"f\", \"f\", \"m\", \"m\", \"f\"]\n",
    "        ward_data =            [  1,   3,   2,   2,   1,   2] \n",
    "        duration_data =       [ 10,   5,   7,   2,   3,   4]\n",
    "\n",
    "Write a function that computes the average length of stay in the hospital for a given sex, in a given ward. The function signature is:"
   ]
  },
  {
   "cell_type": "code",
   "execution_count": 8,
   "metadata": {
    "collapsed": true
   },
   "outputs": [],
   "source": [
    "def avg_stay(sex, ward, sex_data, ward_data, duration_data):\n",
    "    \"\"\" (str, int, list of int, list of str, list of int) -> float\n",
    "    \n",
    "    Return the average duration of stay for patients of sex sex in ward ward,\n",
    "    given parallel list of sexes sex_data, list of wards ward_data, and \n",
    "    list of duration of stay duration_data.\n",
    "    \n",
    "    >>> sex_data =             [\"m\", \"f\", \"f\", \"m\", \"m\", \"f\"]\n",
    "    >>> ward_data =            [  1,   3,   2,   2,   1,   2] \n",
    "    >>> duration_data =  [ 10,   5,   7,   2,   3,   4]\n",
    "    >>> avg_stay(\"f\", 2, sex_data, ward_data, duration_data)\n",
    "    5.5\n",
    "    \"\"\"\n"
   ]
  },
  {
   "cell_type": "markdown",
   "metadata": {},
   "source": [
    "##### b)  Practice Exercise: matching strings\n",
    "\n",
    "Write a function that returns True iff string `s1` starts with string `s2`. For example, \n",
    "\n",
    "``starts_with(\"abc\", \"ab\")`` should return ``True``\n",
    "\n",
    "``starts_with(\"ad\", \"ab\")`` should return ``False``"
   ]
  },
  {
   "cell_type": "markdown",
   "metadata": {},
   "source": [
    "#### 2. Nested lists and loops"
   ]
  },
  {
   "cell_type": "markdown",
   "metadata": {},
   "source": [
    "##### a) Practice Exercise: symptom count\n",
    "\n",
    "Suppose we have a nested list where each inner list contains strings that represent symptoms exhibited by the a patient. Write a function that takes this list as a parameter and returns a new list containing integers. For each patient, the new list should contain the number of symptoms they were exhibiting.\n",
    "\n",
    "\n",
    "Here is an example:\n",
    "    >>> symptom_count([['fatigue', 'abdominal swelling', 'bruising'], ['loss of appetite', 'fatigue']])\n",
    "    [3, 2]\n",
    "\n",
    "Follow the design recipe and start by writing the docstring.\n"
   ]
  },
  {
   "cell_type": "markdown",
   "metadata": {},
   "source": [
    "##### b) Practice exercise: last names of female patients\n",
    "\n",
    "Suppose we have a nested list, where each inner list contains a patient's first name (a `str`), last name (a `str`), age in years (an `int`), sex (a `str`), and cholesterol in mg/dL (an `int`).  Write a program that produces a list of the last names of female patients."
   ]
  },
  {
   "cell_type": "markdown",
   "metadata": {},
   "source": [
    "##### c) Practice Exercise: heart rate ranges\n",
    "\n",
    "Suppose we have a nested list that represents repeated heart rate measurements for the same patient over a number of tests. Each inner list contains heart rates measured during one test. \n",
    "\n",
    "Find range of heart rate measurements for each inner list. Note: do not modify the lists!\n",
    "\n",
    "1. First approach: use the built-in functions `min` and `max`.\n",
    "2. Second approach: do not use built-in functions `min` and `max`.\n",
    "\n",
    "For the sample list:\n",
    "\n",
    "     hr = [[72, 75, 71, 73],             # resting\n",
    "          [91, 90, 94, 93],              # walking slowly\n",
    "          [130, 135, 139, 142],          # running on treadmill\n",
    "          [120, 118, 110, 105, 100, 98]] # after minute recovery\n",
    "\n",
    "The result is:\n",
    "\n",
    "    [4, 4, 12, 22]   "
   ]
  },
  {
   "cell_type": "markdown",
   "metadata": {},
   "source": [
    "#### 3. `while` loops"
   ]
  },
  {
   "cell_type": "markdown",
   "metadata": {},
   "source": [
    "##### a) Practice Exercise: checking for valid input\n",
    "\n",
    "a) Write a function `yes_or_no` that asks a user to enter either `'yes'` or `'no'` and keeps looping asking again and\n",
    "again until the user enters one of these two options.  Once the user enters a valid option, the function should return that string.\n",
    "\n",
    "b) Now, change your function so that it accepts any case variation such as `'Yes'`, `'YES'` or even `'nO'` and then returns the lowercase version of what the user provided. But if the user inputs `'nope'` or `'maybe'` or anything else, it doesn't return and asks again for `'yes'` or `'no'`. Again, the function returns the valid string entered. "
   ]
  },
  {
   "cell_type": "markdown",
   "metadata": {},
   "source": [
    "##### b) Practice Exercise: a better guessing game\n",
    "\n",
    "In a previous session, we wrote code to guess a number.  If the user guessed wrong, we reported `Too high`, `Too low`, or `You got it`:"
   ]
  },
  {
   "cell_type": "code",
   "execution_count": 3,
   "metadata": {
    "collapsed": false
   },
   "outputs": [
    {
     "name": "stdout",
     "output_type": "stream",
     "text": [
      "Enter a number between 1 and 10: 5\n",
      "Too high\n"
     ]
    }
   ],
   "source": [
    "# The first two lines generate a random integer between 1 and 10.\n",
    "import random\n",
    "secret = random.randint(1, 10)\n",
    "\n",
    "guess = int(input('Enter a number between 1 and 10: '))\n",
    "if guess == secret:\n",
    "    print('You got it')\n",
    "elif guess > secret:\n",
    "    print('Too high')\n",
    "else:\n",
    "    print('Too low')"
   ]
  },
  {
   "cell_type": "markdown",
   "metadata": {},
   "source": [
    "Now, rather than have the user guess only once, prompt the user to guess until they get it right."
   ]
  }
 ],
 "metadata": {
  "kernelspec": {
   "display_name": "Python 3",
   "language": "python",
   "name": "python3"
  },
  "language_info": {
   "codemirror_mode": {
    "name": "ipython",
    "version": 3
   },
   "file_extension": ".py",
   "mimetype": "text/x-python",
   "name": "python",
   "nbconvert_exporter": "python",
   "pygments_lexer": "ipython3",
   "version": "3.5.2"
  }
 },
 "nbformat": 4,
 "nbformat_minor": 1
}
