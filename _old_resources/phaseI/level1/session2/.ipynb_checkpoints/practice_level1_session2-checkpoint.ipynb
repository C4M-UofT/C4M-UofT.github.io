{
 "cells": [
  {
   "cell_type": "markdown",
   "metadata": {},
   "source": [
    "### Phase 1, Level 1, Session 2: Practice Exercises"
   ]
  },
  {
   "cell_type": "markdown",
   "metadata": {},
   "source": [
    "#### 1. Docstrings, `help`, and `dir`"
   ]
  },
  {
   "cell_type": "markdown",
   "metadata": {},
   "source": [
    "##### Practice Exercise: learning about functions using `help`"
   ]
  },
  {
   "cell_type": "markdown",
   "metadata": {},
   "source": [
    "Consider this description of built-in function `ord`:"
   ]
  },
  {
   "cell_type": "code",
   "execution_count": 2,
   "metadata": {
    "collapsed": false,
    "scrolled": true
   },
   "outputs": [
    {
     "name": "stdout",
     "output_type": "stream",
     "text": [
      "Help on built-in function ord in module builtins:\n",
      "\n",
      "ord(c, /)\n",
      "    Return the Unicode code point for a one-character string.\n",
      "\n"
     ]
    }
   ],
   "source": [
    "help(ord)"
   ]
  },
  {
   "cell_type": "markdown",
   "metadata": {},
   "source": [
    "1. How many parameter(s) does function `ord` take?\n",
    "2. What are the type(s) of `ord`'s parameter(s)?\n",
    "3. Give an example of how to call on function `ord`."
   ]
  },
  {
   "cell_type": "markdown",
   "metadata": {},
   "source": [
    "#### 2. Booleans"
   ]
  },
  {
   "cell_type": "markdown",
   "metadata": {},
   "source": [
    "##### a) Practice Exercise: English description"
   ]
  },
  {
   "cell_type": "markdown",
   "metadata": {},
   "source": [
    "Write an English description of the situation in which the following code produces `True`:\n",
    "\n",
    "`not grade1 >= 50 or grade2 >= 50`."
   ]
  },
  {
   "cell_type": "markdown",
   "metadata": {},
   "source": [
    "##### b) Practice Exercise: Exclusive or\n",
    "\n",
    "How do you express the English \"I'll have pie or I'll have ice cream, but not both\"? Define two Boolean variables:"
   ]
  },
  {
   "cell_type": "code",
   "execution_count": 4,
   "metadata": {
    "collapsed": true
   },
   "outputs": [],
   "source": [
    "pie = False\n",
    "ice_cream = True"
   ]
  },
  {
   "cell_type": "markdown",
   "metadata": {},
   "source": [
    "Write a Python expression that evaluates to `True` if and only if at most one of `pie` and `ice_cream` refers to `True`."
   ]
  },
  {
   "cell_type": "markdown",
   "metadata": {},
   "source": [
    "#### 3. `if` statements"
   ]
  },
  {
   "cell_type": "markdown",
   "metadata": {},
   "source": [
    "##### a) Practice Exercise: my absolute value function\n",
    "\n",
    "We've used Python's built-in function `abs`.  Now, define your own version of that function, `my_abs`, to calculate the absolute value of a number.  Steps 1-4 of the Function Design Recipe have been completed.  Completed the function body and test the function:"
   ]
  },
  {
   "cell_type": "code",
   "execution_count": 5,
   "metadata": {
    "collapsed": true
   },
   "outputs": [],
   "source": [
    "def my_abs(num):\n",
    "    \"\"\" (number) -> number\n",
    "    \n",
    "    Return the absolute value of num.\n",
    "    \n",
    "    >>> my_abs(14.66)\n",
    "    14.66\n",
    "    >>> my_abs(-2.4)\n",
    "    2.4\n",
    "    \"\"\""
   ]
  },
  {
   "cell_type": "markdown",
   "metadata": {},
   "source": [
    "##### b) Practice Exercise: fever classification"
   ]
  },
  {
   "cell_type": "markdown",
   "metadata": {},
   "source": [
    "According to Wikipedia, Harrison's textbook internal medicine defines a fever as a morning oral temperature greater than 37.2°C or an afternoon oral temperature greater than 37.7°C.  For this problem, using the 24 hour clock, 0 to 11 hours is considered morning and 12-23 hours is considered afternoon.  The first four steps of the Function Design Recipe have already been completed.  Complete the function body and test the function:"
   ]
  },
  {
   "cell_type": "code",
   "execution_count": 6,
   "metadata": {
    "collapsed": true
   },
   "outputs": [],
   "source": [
    "def check_fever(temp, hour_of_day):\n",
    "    \"\"\" (number, int) -> str\n",
    "    \n",
    "    Return 'fever' if the temperature temp in degrees Celsius recorded at hour_of_day\n",
    "    using the 24 hour clock meets Harrison's definition of a fever, and 'no fever' otherwise.\n",
    "    \n",
    "    >>> check_fever(37.5, 9)\n",
    "    'fever'\n",
    "    >>> check_fever(37.5, 14)\n",
    "    'no fever'\n",
    "    \"\"\""
   ]
  },
  {
   "cell_type": "markdown",
   "metadata": {},
   "source": [
    "##### c) Practice Exercise: Improved Guessing Game\n",
    "\n",
    "1. Write an improved version of the program above that will print either `Too high` or `Too low` depending on the guess, *instead of* `Better luck next time`.\n",
    "\n",
    "2. Write an improved version of the program above that will print either `Too high` or `Too low` depending on the guess, *in addition to* `Better luck next time`."
   ]
  },
  {
   "cell_type": "markdown",
   "metadata": {},
   "source": [
    "##### d) Practice Exercise: More complex `if` Statements\n",
    "\n",
    "According to Wikipedia, borderline QTc for men is 431ms-450ms and for women it is 451ms-470ms. Set the variable `sex` to `'male'` or `'female'`), and write a program that uses the variables `HR` (heartrate), `QT` (uncorrected QT interval), and `sex `(`'male'` or `'female'`) to print one of the strings `'normal QTc'`, `'borderline QTc'`, or \n",
    "`'abnormal QTc'`.  Here is some starter code:"
   ]
  },
  {
   "cell_type": "code",
   "execution_count": 7,
   "metadata": {
    "collapsed": true
   },
   "outputs": [],
   "source": [
    "hr = 80\n",
    "qt = 300\n",
    "sex = \"male\"\n",
    "rr = 60 / hr\n",
    "\n",
    "# Compute the corrected QT interval (QTc)\n",
    "qtc = qt / (rr ** (1 / 3))   \n",
    "\n",
    "# Add code to print the appropriate message about the pateint's QTc."
   ]
  },
  {
   "cell_type": "markdown",
   "metadata": {},
   "source": [
    "##### e) Practice Exercise: An interactive system for telling the user if their QTc is abnormal\n",
    "\n",
    "Write a program that asks the user for their sex, QT interval, and heartrate, and outputs whether their QTc is normal/borderline/abnormal."
   ]
  },
  {
   "cell_type": "code",
   "execution_count": null,
   "metadata": {
    "collapsed": false
   },
   "outputs": [],
   "source": [
    "# Rather than \"hard code\" the values assigned to hr, qt, and sex, prompt the user\n",
    "# to enter values:\n",
    "hr = # TODO: add code here\n",
    "qt = # TODO: add code here\n",
    "sex = # TODO: add code here\n",
    "rr = 60 / hr\n",
    "\n",
    "qtc = qt / (rr ** (1 / 3))   #Compute the corrected QT interval\n",
    "\n",
    "# TODO: Add your if statement code from the previous practice exercise here."
   ]
  },
  {
   "cell_type": "markdown",
   "metadata": {},
   "source": [
    "##### f) Practice Exercise: rewrite without `if`\n",
    "\n",
    "Rewrite the body of the following function, without using `if` statements:"
   ]
  },
  {
   "cell_type": "code",
   "execution_count": 10,
   "metadata": {
    "collapsed": true
   },
   "outputs": [],
   "source": [
    "def is_teenager(age):\n",
    "    \"\"\" (int) -> bool\n",
    "    \n",
    "    Return True iff age represents a teenager between 13 and 18 inclusive.\n",
    "    \n",
    "    >>> is_teenager(4)\n",
    "    False\n",
    "    >>> is_teenager(16)\n",
    "    True\n",
    "    >>> is_teenager(19)\n",
    "    False\n",
    "    \"\"\"\n",
    "    if age < 13:\n",
    "        return False\n",
    "    else:\n",
    "        if age > 18:\n",
    "            return False\n",
    "        else:\n",
    "            return True"
   ]
  },
  {
   "cell_type": "markdown",
   "metadata": {},
   "source": [
    "#### 4. More str operations and methods"
   ]
  },
  {
   "cell_type": "markdown",
   "metadata": {},
   "source": [
    "##### Practice Exercise: exploring `str` methods\n",
    "\n",
    "Call `help` on each `str` method to learn about it and then make an educated guess as to what each of the following method calls produces.  Once you've done that, check your work by executing the method calls in the Python shell.\n",
    "\n",
    "    robot = 'R2D2'\n",
    "\n",
    "1. `robot.isupper()`\n",
    "2. `robot.isalpha()`\n",
    "3. `robot.isalnum()`\n",
    "4. `robot.isdigit()`\n",
    "5. `robot.lower()`\n",
    "6. `robot.index('2')`\n",
    "7. `robot.index('2', 2)`\n",
    "8. `robot.count(2)`"
   ]
  },
  {
   "cell_type": "markdown",
   "metadata": {},
   "source": [
    "##### 5. Review: Writing Programs\n",
    "\n",
    "There are a number of different formulae for calculating ideal body weight. The Miller formula is as follows:\n",
    "\n",
    "    Ideal Body Weight (men) = 56.2 kg + 1.4 kg for every inch over 5 feet\n",
    "    Ideal Body Weight (women) = 53.1kg + 1.36kg for every inch over 5 feet\n",
    "    \n",
    "In a file named `miller_weight.py`, write a program that prompts the user to enter whether a patient is male or female, and then aks for his or her height in inches. Next, print the ideal body weight according to Miller.\n",
    "\n",
    "This formula is considered a poor estimate for tall men, so for men over 6 feet tall, print the Miller ideal body weight, but also print a warning message pointing out that the calculated value is probably inaccurate and\n",
    "suggesting that the user consider other definitions of ideal weight."
   ]
  },
  {
   "cell_type": "markdown",
   "metadata": {},
   "source": [
    "#### 6. `for` loop over `str`"
   ]
  },
  {
   "cell_type": "markdown",
   "metadata": {},
   "source": [
    "##### a) Practice Exercise: Understanding Loops\n",
    "\n",
    "Modify the code above so that `medicine` is printed once for each character in the string (instead of the single characters)."
   ]
  },
  {
   "cell_type": "markdown",
   "metadata": {
    "collapsed": true
   },
   "source": [
    "##### b) Practice Exercise: count uppercase letters"
   ]
  },
  {
   "cell_type": "markdown",
   "metadata": {
    "collapsed": true
   },
   "source": [
    "Define a function named `count_upper` that has one `str` parameter and returns the number of uppercase letters in the given string."
   ]
  },
  {
   "cell_type": "code",
   "execution_count": 4,
   "metadata": {
    "collapsed": true
   },
   "outputs": [],
   "source": [
    "def count_upper(s):\n",
    "    \"\"\" (str) -> int\n",
    "    \n",
    "    Return the number of uppercase letters in s.\n",
    "    \n",
    "    >>> count_upper('abc')\n",
    "    0\n",
    "    >>> count_upper('aAbBcC')\n",
    "    3\n",
    "    \"\"\""
   ]
  },
  {
   "cell_type": "markdown",
   "metadata": {
    "collapsed": true
   },
   "source": [
    "##### c) Practice Exercise: get uppercase letters"
   ]
  },
  {
   "cell_type": "markdown",
   "metadata": {},
   "source": [
    "Define a function named `get_upper` that has one `str` parameter and returns a string containing the uppercase letters from the given string."
   ]
  },
  {
   "cell_type": "code",
   "execution_count": 5,
   "metadata": {
    "collapsed": true
   },
   "outputs": [],
   "source": [
    "def get_upper(s):\n",
    "    \"\"\" (str) -> str\n",
    "    \n",
    "    Return a string containing the uppercase letters in s.\n",
    "    \n",
    "    >>> count_upper('abc')\n",
    "    ''\n",
    "    >>> count_upper('aAbBcC')\n",
    "    'ABC'\n",
    "    \"\"\""
   ]
  }
 ],
 "metadata": {
  "kernelspec": {
   "display_name": "Python 3",
   "language": "python",
   "name": "python3"
  },
  "language_info": {
   "codemirror_mode": {
    "name": "ipython",
    "version": 3
   },
   "file_extension": ".py",
   "mimetype": "text/x-python",
   "name": "python",
   "nbconvert_exporter": "python",
   "pygments_lexer": "ipython3",
   "version": "3.5.2"
  }
 },
 "nbformat": 4,
 "nbformat_minor": 1
}
