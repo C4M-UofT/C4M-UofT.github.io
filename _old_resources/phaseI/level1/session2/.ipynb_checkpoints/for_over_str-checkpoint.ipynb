{
 "cells": [
  {
   "cell_type": "markdown",
   "metadata": {},
   "source": [
    "# `for` loops over `str`"
   ]
  },
  {
   "cell_type": "markdown",
   "metadata": {},
   "source": [
    "We can use loops to repeat a section of code multiple times.  The first loop that you will use is a `for` loop, where we repeat code once for each character in a string.  "
   ]
  },
  {
   "cell_type": "markdown",
   "metadata": {},
   "source": [
    "The general form of a `for` loop over a string is:\n",
    "\n",
    "    for variable in str:\n",
    "        body"
   ]
  },
  {
   "cell_type": "markdown",
   "metadata": {},
   "source": [
    "Now, let's look at an example:"
   ]
  },
  {
   "cell_type": "code",
   "execution_count": 3,
   "metadata": {
    "collapsed": false
   },
   "outputs": [
    {
     "name": "stdout",
     "output_type": "stream",
     "text": [
      "m\n",
      "e\n",
      "d\n",
      "i\n",
      "c\n",
      "i\n",
      "n\n",
      "e\n"
     ]
    }
   ],
   "source": [
    "s = 'medicine'\n",
    "for ch in s:\n",
    "    print(ch)"
   ]
  },
  {
   "cell_type": "markdown",
   "metadata": {},
   "source": [
    "In the code above, `ch` is a variable name.  The first value that `ch` refers to is the character at index 0 of `s`, which is `'m'`.  When the body of the function is reached, `ch` is printed.  Next, the value of `ch` is changed, so that it refers to the character at index of `s`, that character is printed, and so on."
   ]
  },
  {
   "cell_type": "markdown",
   "metadata": {},
   "source": [
    "Using the Python Visualizer, we can trace [this code](http://pythontutor.com/csc108h.html#code=s%20%3D%20'medicine'%0Afor%20ch%20in%20s%3A%0A%20%20%20%20print(ch%29&curInstr=0&mode=display&origin=csc108h.js&py=3&rawInputLstJSON=%5B%5D)."
   ]
  },
  {
   "cell_type": "markdown",
   "metadata": {},
   "source": [
    "## Practice Exercise: Understanding Loops"
   ]
  },
  {
   "cell_type": "markdown",
   "metadata": {},
   "source": [
    "Modify the code above so that `medicine` is printed once for each character in the string (instead of the single characters)."
   ]
  },
  {
   "cell_type": "markdown",
   "metadata": {},
   "source": [
    "## Accumulator pattern: numeric accumulator"
   ]
  },
  {
   "cell_type": "markdown",
   "metadata": {},
   "source": [
    "The letters G, C, A, and T are the four bases that appear in DNA sequences.  Write a function that has two parameters representing a DNA sequence and one of the four bases, and return the number of occurences of that base in the sequence.  Note: for this problem do not use `str.count`.\n",
    "\n"
   ]
  },
  {
   "cell_type": "code",
   "execution_count": 10,
   "metadata": {
    "collapsed": true
   },
   "outputs": [],
   "source": [
    "def count_base(dna, base):\n",
    "    \"\"\" (str, str) -> int\n",
    "    \n",
    "    Return the number of occurences of base in dna.\n",
    "    \n",
    "    >>> count_base('GGTCAG', 'A')\n",
    "    1    \n",
    "    >>> count_base('GGTCAGATC', 'G')\n",
    "    3\n",
    "    \"\"\""
   ]
  },
  {
   "cell_type": "markdown",
   "metadata": {},
   "source": [
    "To solve this problem, consider how you figured out which values the example function calls should return.\n",
    "\n",
    "Examine each character in dna.\n",
    "\n",
    "If that character is base, add one to our total. (The total is our numeric accumulator.)\n",
    "\n",
    "Once we've examine all characters, return the total.\n",
    "\n",
    "Now, let's structure this more like code:\n",
    "\n",
    "    For each character in dna\n",
    "       if the character is equal to base:\n",
    "           add one to the total\n",
    "    return the total"
   ]
  },
  {
   "cell_type": "markdown",
   "metadata": {},
   "source": [
    "The description above is called psuedocode.  It is an outline of what our code will look like, but it doesn't follow all of the rules of Python syntax.  Now, let's write the actual code:"
   ]
  },
  {
   "cell_type": "code",
   "execution_count": 11,
   "metadata": {
    "collapsed": true
   },
   "outputs": [],
   "source": [
    "def count_base(dna, base):\n",
    "    \"\"\" (str, str) -> int\n",
    "    \n",
    "    Return the number of occurences of base in dna.\n",
    "    \n",
    "    >>> count_base('GGTCAG','A')\n",
    "    1    \n",
    "    >>> count_base('GGTCAGATC', 'G')\n",
    "    3\n",
    "    \"\"\"\n",
    "    total = 0\n",
    "    for letter in dna:\n",
    "        if letter == base:\n",
    "            total = total + 1\n",
    "    return total"
   ]
  },
  {
   "cell_type": "code",
   "execution_count": 6,
   "metadata": {
    "collapsed": false
   },
   "outputs": [
    {
     "data": {
      "text/plain": [
       "1"
      ]
     },
     "execution_count": 6,
     "metadata": {},
     "output_type": "execute_result"
    }
   ],
   "source": [
    "count_base('GGTCAG', 'A')"
   ]
  },
  {
   "cell_type": "code",
   "execution_count": 12,
   "metadata": {
    "collapsed": false
   },
   "outputs": [
    {
     "data": {
      "text/plain": [
       "3"
      ]
     },
     "execution_count": 12,
     "metadata": {},
     "output_type": "execute_result"
    }
   ],
   "source": [
    "count_base('GGTCAGATC', 'G')"
   ]
  },
  {
   "cell_type": "markdown",
   "metadata": {},
   "source": [
    "## Accumulator pattern: string accumulator"
   ]
  },
  {
   "cell_type": "markdown",
   "metadata": {},
   "source": [
    "In the previous problem, we looped over the characters of a string and kept a running total.  This time, our goal is to loop over the characters of a string and build a new string made up of only the vowels in that string.  The new string will initially be empty, we will add vowels as we encounter them, and by the end the string will contain the vowels based on the original string.  This is called a *string accumulator*."
   ]
  },
  {
   "cell_type": "code",
   "execution_count": null,
   "metadata": {
    "collapsed": true
   },
   "outputs": [],
   "source": [
    "def collect_vowels(s):\n",
    "    \"\"\" (str) -> str\n",
    "\n",
    "    Return the vowels from s.  Do not treat the letter\n",
    "    y as a vowel.\n",
    "\n",
    "    >>> collect_vowels('Happy Anniversary!')\n",
    "    'aAiea'\n",
    "    >>> collect_vowels('xyz')\n",
    "    ''\n",
    "    \"\"\"\n",
    "\n",
    "    # This is our accumulator variable.  It initially refers to the empty string.\n",
    "    vowels = ''\n",
    "\n",
    "    for char in s:\n",
    "        if char in 'aeiouAEIOU':\n",
    "            vowels = vowels + char  # When we encounter a vowel, concatenate it to the vowels string.\n",
    "            \n",
    "    # After we have passed over every character in s, return the string that we bulit.\n",
    "    return vowels"
   ]
  },
  {
   "cell_type": "markdown",
   "metadata": {},
   "source": [
    "## Practice Exercise: count uppercase letters"
   ]
  },
  {
   "cell_type": "markdown",
   "metadata": {},
   "source": [
    "Define a function named `count_upper` that has one `str` parameter and returns the number of uppercase letters in the given string."
   ]
  },
  {
   "cell_type": "code",
   "execution_count": 13,
   "metadata": {
    "collapsed": true
   },
   "outputs": [],
   "source": [
    "def count_upper(s):\n",
    "    \"\"\" (str) -> int\n",
    "    \n",
    "    Return the number of uppercase letters in s.\n",
    "    \n",
    "    >>> count_upper('abc')\n",
    "    0\n",
    "    >>> count_upper('aAbBcC')\n",
    "    3\n",
    "    \"\"\""
   ]
  },
  {
   "cell_type": "markdown",
   "metadata": {},
   "source": [
    "## Practice Exercise: get uppercase letters"
   ]
  },
  {
   "cell_type": "markdown",
   "metadata": {},
   "source": [
    "Define a function named `get_upper` that has one `str` parameter and returns a string containing the uppercase letters from the given string."
   ]
  },
  {
   "cell_type": "code",
   "execution_count": 14,
   "metadata": {
    "collapsed": true
   },
   "outputs": [],
   "source": [
    "def get_upper(s):\n",
    "    \"\"\" (str) -> str\n",
    "    \n",
    "    Return a string containing the uppercase letters in s.\n",
    "    \n",
    "    >>> count_upper('abc')\n",
    "    ''\n",
    "    >>> count_upper('aAbBcC')\n",
    "    'ABC'\n",
    "    \n",
    "    \"\"\""
   ]
  },
  {
   "cell_type": "markdown",
   "metadata": {},
   "source": [
    "## Checking string content"
   ]
  },
  {
   "cell_type": "markdown",
   "metadata": {},
   "source": [
    "In our next example, we will examine the characters in a string to see if that string is a valid IP address (that is, it contains only digits and periods)."
   ]
  },
  {
   "cell_type": "code",
   "execution_count": 15,
   "metadata": {
    "collapsed": true
   },
   "outputs": [],
   "source": [
    "def is_IP_address(address):\n",
    "    \"\"\" (str) -> bool    \n",
    "\n",
    "    Return True iff address contains only digits and periods.\n",
    "    \n",
    "    >>> is_IP_address('128.100.31.52')\n",
    "    True\n",
    "    >>> is_IP_address('40 St. George St')\n",
    "    False\n",
    "    \"\"\""
   ]
  },
  {
   "cell_type": "markdown",
   "metadata": {},
   "source": [
    "Look at the examples above and consider how you determined whether those two string arguments were valid IP addresses.  \n",
    "\n",
    "For the first string, I examined each character and found them all to be either digits or periods.  \n",
    "\n",
    "However, for the second string, I encountered an `'S'` and at that point was able to conclude that the string was not a valid IP address.  At that point, I was able to draw my conclusion and stop examining the rest of the string.  In other words, if we find a character that is *not* a digit or period, we can return `False`."
   ]
  },
  {
   "cell_type": "code",
   "execution_count": 16,
   "metadata": {
    "collapsed": true
   },
   "outputs": [],
   "source": [
    "def is_IP_address(address):\n",
    "    \"\"\" (str) -> bool    \n",
    "\n",
    "    Return True iff address contains only digits and periods.\n",
    "    \n",
    "    >>> is_IP_address('128.100.31.52')\n",
    "    True\n",
    "    >>> is_IP_address('40 St. George St')\n",
    "    False\n",
    "    \"\"\"\n",
    "    \n",
    "    for ch in address:\n",
    "        if not ch.isdigit() and ch != '.':\n",
    "            return False\n",
    "    return True"
   ]
  },
  {
   "cell_type": "markdown",
   "metadata": {},
   "source": [
    "Note: be careful not to `return True` to early.  We can only return `True` once we've examined every character, which is after the `for` loop has finished executing."
   ]
  }
 ],
 "metadata": {
  "kernelspec": {
   "display_name": "Python 3",
   "language": "python",
   "name": "python3"
  },
  "language_info": {
   "codemirror_mode": {
    "name": "ipython",
    "version": 3
   },
   "file_extension": ".py",
   "mimetype": "text/x-python",
   "name": "python",
   "nbconvert_exporter": "python",
   "pygments_lexer": "ipython3",
   "version": "3.5.2"
  }
 },
 "nbformat": 4,
 "nbformat_minor": 1
}
