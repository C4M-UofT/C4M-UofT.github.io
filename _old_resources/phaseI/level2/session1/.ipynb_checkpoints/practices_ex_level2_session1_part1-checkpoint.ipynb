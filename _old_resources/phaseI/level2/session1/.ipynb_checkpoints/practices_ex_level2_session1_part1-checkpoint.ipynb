{
 "cells": [
  {
   "cell_type": "markdown",
   "metadata": {},
   "source": [
    "### Phase 1, Level 2, Session 1: Practice Exercises"
   ]
  },
  {
   "cell_type": "markdown",
   "metadata": {},
   "source": [
    "#### 1. Arithmetic expressions and built-in functions\n",
    "\n",
    "##### a) Practice exercise: writing expressions\n",
    "1. A patient just turned 80 years old. Write a Python expression to calculate her age in months.\n",
    "2. A father reports that his son's temperature was 40.1 degrees Celsius when measured at home. Write an expression to covert the temperature from Celsius to Fahreneheit. (Formula: Multiply by 9, divide by 5, and then add 32.)"
   ]
  },
  {
   "cell_type": "markdown",
   "metadata": {},
   "source": [
    "##### b) Practice exercise: Calling on `round`"
   ]
  },
  {
   "cell_type": "markdown",
   "metadata": {},
   "source": [
    "Python has a built-in function named `round`. In the Python shell, run each function call below and record the result:\n",
    "1. `round(24.2)`\n",
    "2. `round(24.5)`\n",
    "3. `round(24.9)`\n",
    "4. `round(1.234567, 2)`\n",
    "5. `round(1.234567, 3)`"
   ]
  },
  {
   "cell_type": "markdown",
   "metadata": {},
   "source": [
    "#### 2. Variables"
   ]
  },
  {
   "cell_type": "markdown",
   "metadata": {},
   "source": [
    "##### a) Practice Exercise: Working with Variables\n",
    "\n",
    "1.  Consider this code:\n",
    "<pre>\n",
    "j = 7\n",
    "</pre>\n",
    "Write an assignment statement that creates a new variable `k` that refers to three times `j`'s value.\n",
    "\n",
    "2. Consider this code:\n",
    "<pre>\n",
    "patient_a = 3\n",
    "patient_b = 4\n",
    "patient_a = 5\n",
    "</pre>\n",
    "After the code above is executed, to which value does `patient_a` refer?  \n",
    "After the code above is executed, to which value does `patient_b` refer?  \n",
    "\n",
    "3. Consider this code:\n",
    "<pre>\n",
    "x = 4\n",
    "y = x + 2\n",
    "x = y + 1\n",
    "</pre>\n",
    "After the code above is executed, to which value does `x` refer?  \n",
    "After the code above is executed, to which value does `y` refer?  "
   ]
  },
  {
   "cell_type": "markdown",
   "metadata": {},
   "source": [
    "##### b) Practice Exercise 4: Solving a problem using variables\n",
    "\n",
    "Fridericia's Formula for the corrected QT is\n",
    "$$QTc = \\frac{QT}{RR^{\\frac{1}{3}}}$$\n",
    "\n",
    "The R-R interval is measured in seconds, and can be ontained using $60/hr$, where hr is the heart rate. Given the `hr` and `qt` variables below, and calculate the QTc (corrected QT interval). \n"
   ]
  },
  {
   "cell_type": "code",
   "execution_count": 1,
   "metadata": {
    "collapsed": true
   },
   "outputs": [],
   "source": [
    "hr = 70\n",
    "qt = 300"
   ]
  },
  {
   "cell_type": "markdown",
   "metadata": {},
   "source": [
    "The corrected QT interval should be: 315.817979882819 seconds."
   ]
  },
  {
   "cell_type": "markdown",
   "metadata": {},
   "source": [
    "#### 3. More str operations and methods"
   ]
  },
  {
   "cell_type": "markdown",
   "metadata": {},
   "source": [
    "##### Practice Exercise: exploring `str` methods\n",
    "\n",
    "Call `help` on each `str` method to learn about it and then make an educated guess as to what each of the following method calls produces.  Once you've done that, check your work by executing the method calls in the Python shell.\n",
    "\n",
    "    robot = 'R2D2'\n",
    "\n",
    "1. `robot.isupper()`\n",
    "2. `robot.isalpha()`\n",
    "3. `robot.isalnum()`\n",
    "4. `robot.isdigit()`\n",
    "5. `robot.lower()`\n",
    "6. `robot.index('2')`\n",
    "7. `robot.index('2', 2)`\n",
    "8. `robot.count(2)`"
   ]
  },
  {
   "cell_type": "markdown",
   "metadata": {},
   "source": [
    "#### 4. Functions"
   ]
  },
  {
   "cell_type": "markdown",
   "metadata": {},
   "source": [
    "##### a) Practice Exercise:  Functions and Terminology\n",
    "\n",
    "Revisiting our earlier example, the function definition was:\n",
    "\n",
    "<pre>\n",
    "def f(x):\n",
    "    return 2 * x + 7\n",
    "</pre>\n",
    "\n",
    "Answer the following questions:\n",
    "1. What is the name of the function?\n",
    "2. How many parameter(s) does the function have?  \n",
    "3. What are the parameter(s) names?\n",
    "4. For function call `f(8)`, what is the argument?\n",
    "5. When it is executed, what value does `f(8)` produce?\n",
    "6. Consider this code: `result = f(4)`.  After that statement is executed, what value does `result` refer to?"
   ]
  },
  {
   "cell_type": "markdown",
   "metadata": {},
   "source": [
    "##### b) Practice Exercise: Converting Pounds to Kilograms\n",
    "\n",
    "Generally in Canada, people know their weight in pounds. Most of the calculations for determining dosages and other medical information, ask for a patient's weight in kilograms. Following the Function Design Recipe, write a function that will convert from pounds to kilograms.  (1kg == 2.2 lbs)"
   ]
  },
  {
   "cell_type": "markdown",
   "metadata": {},
   "source": [
    "##### c) Practice Exercise: Using PCRS\n",
    "\n",
    "You will use a tool called PCRS to complete this week's homework exercise.  Login with your UTORid and solve the problem in **Phase I: Session 1 Practice Exercise**.  Our instance of PCRS is available at: https://pcrs.teach.cs.toronto.edu/c4m_sep2016"
   ]
  },
  {
   "cell_type": "markdown",
   "metadata": {},
   "source": [
    "#### 5. Docstrings, `help`, and `dir`"
   ]
  },
  {
   "cell_type": "markdown",
   "metadata": {},
   "source": [
    "##### a) Practice Exercise: learning about functions using `help`"
   ]
  },
  {
   "cell_type": "markdown",
   "metadata": {},
   "source": [
    "Consider this description of built-in function `ord`:"
   ]
  },
  {
   "cell_type": "code",
   "execution_count": 2,
   "metadata": {
    "collapsed": false
   },
   "outputs": [
    {
     "name": "stdout",
     "output_type": "stream",
     "text": [
      "Help on built-in function ord in module builtins:\n",
      "\n",
      "ord(c, /)\n",
      "    Return the Unicode code point for a one-character string.\n",
      "\n"
     ]
    }
   ],
   "source": [
    "help(ord)"
   ]
  },
  {
   "cell_type": "markdown",
   "metadata": {},
   "source": [
    "1. How many parameter(s) does function `ord` take?\n",
    "2. What are the type(s) of `ord`'s parameter(s)?\n",
    "3. Give an example of how to call on function `ord`."
   ]
  },
  {
   "cell_type": "markdown",
   "metadata": {},
   "source": [
    "#### 6. Writing programs"
   ]
  },
  {
   "cell_type": "markdown",
   "metadata": {},
   "source": [
    "##### a) Practice Exercise: Program to convert pounds to kilograms"
   ]
  },
  {
   "cell_type": "markdown",
   "metadata": {},
   "source": [
    "Earlier, you wrote a function that takes a weight in pounds and returns that weight in kilograms.  In a file named `weight.py`, write a program that:\n",
    "- prompts the user to enter a weight in pounds,\n",
    "- converts that weight to kilograms, and\n",
    "- prints the weight in kilograms."
   ]
  }
 ],
 "metadata": {
  "kernelspec": {
   "display_name": "Python 3",
   "language": "python",
   "name": "python3"
  },
  "language_info": {
   "codemirror_mode": {
    "name": "ipython",
    "version": 3
   },
   "file_extension": ".py",
   "mimetype": "text/x-python",
   "name": "python",
   "nbconvert_exporter": "python",
   "pygments_lexer": "ipython3",
   "version": "3.5.2"
  }
 },
 "nbformat": 4,
 "nbformat_minor": 1
}
