{
 "cells": [
  {
   "cell_type": "markdown",
   "metadata": {
    "id": "S53yKXI1NEf-"
   },
   "source": [
    "# Instructions #\n",
    "This notebook contains a list of exercises to be completed. \n",
    "\n",
    "On the highest level, the notebook is comprised of two sections. The exercise section and completion section.\n",
    "\n",
    "#### Hidden Code ####\n",
    "The notebook contains several hidden code cells, which are displayed as three dots. To run these, select the above cell and press run twice (either by the buttons on the top, or the \"shift\" + \"return\" hotkey). Once the hidden code cell runs, a message such as \"Done\" or your evaluation results should appear. If the code expands, please collapse it using the column on the left. You don't need to edit or understand the code in these cells. \n",
    "\n",
    "#### Starting out ####\n",
    "The first cell in the exercise section is titled \"Run the hidden code cell before starting\". This should be run everytime a new kernel/runtime is started. If run correctly, the message \"Done!\" should appear underneath.\n",
    "\n",
    "#### Exercises ####\n",
    "This is followed by all the exercises of the notebook. An exercise generally consists of 4 cells. \n",
    "1.   The first cell provides a description of the function you need to implement. \n",
    "2.   The second cell contains the starter code, and contains a comment indicating where you should write your code. Your entire implementation will go in this cell. \n",
    "3.   The third cell is a testing cell for your own testing. Feel free to write any code you like here to test your function is working correctly.\n",
    "4.   The last cell contains hidden code to run test cases on your function. This cell, when run, will provide a mark on your implementation. If implemented correctly, you should get full marks.\n",
    "\n",
    "#### Completion ####\n",
    "The completion cell runs all the test cases in the notebook on all the functions. If this cell returns full marks, this means the notebook is complete. Once complete, upload this notebook to MarkUs."
   ]
  },
  {
   "cell_type": "markdown",
   "metadata": {
    "id": "O3mlFitpnA23"
   },
   "source": [
    "# Phase I: Level 2 Session 2 Homework #"
   ]
  },
  {
   "cell_type": "markdown",
   "metadata": {},
   "source": [
    "#### Run the hidden code cell before starting ####"
   ]
  },
  {
   "cell_type": "code",
   "execution_count": null,
   "metadata": {
    "cellView": "form",
    "id": "CR3MVg81IvWX",
    "jupyter": {
     "source_hidden": true
    }
   },
   "outputs": [],
   "source": [
    "#@title Run this cell before starting. \n",
    "def test(test_name, actual, expected):\n",
    "  if(actual == expected):\n",
    "    return 1\n",
    "  else:\n",
    "    print(\"Test failed: \\\"\" + test_name + \"\\\" expected \" + str(expected) + \", got \" + str(actual))\n",
    "    return 0\n",
    "\n",
    "print(\"Done!\")"
   ]
  },
  {
   "cell_type": "markdown",
   "metadata": {
    "id": "OKCqWG8VnTq5"
   },
   "source": [
    "## Looping with Lists ##"
   ]
  },
  {
   "cell_type": "markdown",
   "metadata": {
    "id": "UbEwGEsQnfi_"
   },
   "source": [
    "### Find an even number ###\n",
    "\n",
    "Complete the following function according to its docstring. Use a for loop. The lists we test will not all be shown; instead, some will be described in English. If you fail any test cases, you will need to read the description and make your own test."
   ]
  },
  {
   "cell_type": "code",
   "execution_count": null,
   "metadata": {
    "id": "YSgNb0jfnlQf"
   },
   "outputs": [],
   "source": [
    "def first_even(items):\n",
    "    \"\"\" (list of int) -> int\n",
    "    \n",
    "    Return the first even number from items. Return -1 if items contains no even numbers.\n",
    "\n",
    "    >>> first_even([5, 8, 3, 2])\n",
    "    8\n",
    "    >>> first_even([7, 1])\n",
    "    -1\n",
    "    \"\"\"\n",
    "    # Write your code here:\n",
    "\n"
   ]
  },
  {
   "cell_type": "code",
   "execution_count": null,
   "metadata": {
    "id": "gPPBe6YmXPSH"
   },
   "outputs": [],
   "source": [
    "# Test your first_even function in this cell:\n",
    "\n"
   ]
  },
  {
   "cell_type": "markdown",
   "metadata": {},
   "source": [
    "#### Run the hidden code cell to evaluate first_even ####"
   ]
  },
  {
   "cell_type": "code",
   "execution_count": null,
   "metadata": {
    "cellView": "form",
    "id": "8HeC-ozmXgpg",
    "jupyter": {
     "source_hidden": true
    }
   },
   "outputs": [],
   "source": [
    "#@title Run this cell to evaluate first_even\n",
    "# (Do not edit this cell)\n",
    "score = 0\n",
    "max = 6\n",
    "\n",
    "score += test(\"The list does not start with an even number\", first_even([1, 9, 4, 77, 13, 6, 8]), 4)\n",
    "score += test(\"The list is empty\", first_even([]), -1)\n",
    "score += test(\"The list contains only even numbers\", first_even([2, 4, 6, 8]), 2)\n",
    "score += test(\"The list contains odd integers: there are no even numbers\", first_even([1, 9, 3, 77, 13, 5, 7]), -1)\n",
    "score += test(\"The list contains several odd integers followed by one even integer: the even integer is the last item in the list\", first_even([1, 9, 3, 77, 13, 5, 8]), 8)\n",
    "score += test(\"The list is empty\", first_even([8, 10, 2, 4, 6, 8]), 8)\n",
    "\n",
    "if score == max:\n",
    "  print(\"All test cases passed!\") \n",
    "\n",
    "print(\"Mark: \" + str(score) + \"/\" + str(max))"
   ]
  },
  {
   "cell_type": "markdown",
   "metadata": {
    "id": "1Auqcafuo3hV"
   },
   "source": [
    "### Search closet ###\n",
    "\n",
    "Complete the following function according to its docstring using a for loop. String method `startswith` may come in handy here. The lists we test will not all be shown; instead, some will be described in English. If you fail any test cases, you will need to read the description and make your own test."
   ]
  },
  {
   "cell_type": "code",
   "execution_count": null,
   "metadata": {
    "id": "LgBp37kJo_LL"
   },
   "outputs": [],
   "source": [
    "def search_closet(items, colour):\n",
    "    \"\"\" (list of str, str) -> list of str\n",
    "    \n",
    "    items is a list containing descriptions of the contents of a closet where\n",
    "    every description has the form 'colour item', where each colour is one word\n",
    "    and each item is one or more word.  For example:\n",
    "\n",
    "        ['grey summer jacket', 'orange spring jacket', 'red shoes', 'green hat']\n",
    "\n",
    "    colour is a colour that is being searched for in items. \n",
    "    \n",
    "    Return a list containing only the items that match the colour.\n",
    "    \n",
    "    >>> search_closet(['red summer jacket', 'orange spring jacket', 'red shoes', 'green hat'], 'red')\n",
    "    ['red summer jacket', 'red shoes']\n",
    "    >>> search_closet(['red shirt', 'green pants'], 'blue')\n",
    "    []\n",
    "    >>> search_closet([], 'mauve')\n",
    "    []\n",
    "    \"\"\"\n",
    "    # Write your code here:\n",
    "\n",
    "    "
   ]
  },
  {
   "cell_type": "code",
   "execution_count": null,
   "metadata": {
    "id": "LQTwd4XEpcf1"
   },
   "outputs": [],
   "source": [
    "# Test your search_closet function in this cell:\n",
    "\n"
   ]
  },
  {
   "cell_type": "markdown",
   "metadata": {},
   "source": [
    "#### Run the hidden code cell to evaluate search_closet ####"
   ]
  },
  {
   "cell_type": "code",
   "execution_count": null,
   "metadata": {
    "cellView": "form",
    "id": "khM-L4Ecph9g",
    "jupyter": {
     "source_hidden": true
    }
   },
   "outputs": [],
   "source": [
    "#@title Run this cell to evaluate search_closet\n",
    "# (Do not edit this cell)\n",
    "score = 0\n",
    "max = 11\n",
    "\n",
    "score += test(\"Colour matches item name, but not closet item colour.\", search_closet(['Red Foo', 'Far bar', 'Boo rally', 'Cat Black'], 'Black'), []  )\n",
    "score += test(\"Non-matching colour.\", search_closet(['Red Foo', 'Far bar', 'Boo rally', 'Cat toe'], 'z'), []  )\n",
    "score += test(\"Colour matches first item's colour.\", search_closet(['Red Foo', 'Far bar', 'Boo rally', 'Cat toe'], 'Red'), ['Red Foo']  )\n",
    "score += test(\"Colour matches last item's colour.\", search_closet(['Red Foo', 'Far bar', 'Boo rally', 'Cat toe'], 'Cat'), ['Cat toe']  )\n",
    "score += test(\"Colour matches middle item's colour.\", search_closet(['Red Foo', 'Far bar', 'Boo rally', 'Cat toe'], 'Far'), ['Far bar']  )\n",
    "score += test(\"Colour matches multiple items' colour.\", search_closet(['Red Foo', 'Far bar', 'Zing baff', 'Purple spaghetti', 'Far rally', 'Cat toe'], 'Far'), ['Far bar', 'Far rally']  )\n",
    "score += test(\"Empty closet.\", search_closet([], 'Far'), []  )\n",
    "score += test(\"Colour matches first item's colour.\", search_closet(['Purple Foo', 'Far bar', 'Boo rally', 'Cat toe'], 'Purple'), ['Purple Foo']  )\n",
    "score += test(\"Colour matches last item's colour.\", search_closet(['Red Foo', 'Far bar', 'Boo rally', 'Black toe'], 'Black'), ['Black toe']  )\n",
    "score += test(\"Colour matches middle item's colour.\", search_closet(['Red Foo', 'Far bar', 'Orange rally', 'Cat toe'], 'Far'), ['Far bar']  )\n",
    "score += test(\"Colour matches multiple items' colour.\", search_closet(['Red Foo', 'Yellow bar', 'Zing baff', 'Yellow spaghetti', 'Far rally', 'Yellow toe'], 'Yellow'), ['Yellow bar', 'Yellow spaghetti', 'Yellow toe'])\n",
    "if score == max:\n",
    "  print(\"All test cases passed!\") \n",
    "\n",
    "print(\"Mark: \" + str(score) + \"/\" + str(max))"
   ]
  },
  {
   "cell_type": "markdown",
   "metadata": {
    "id": "3ygSOdeurVX4"
   },
   "source": [
    "### collect_underperformers ###\n",
    "\n",
    "Complete the examples in the docstring and then complete the function body.\n"
   ]
  },
  {
   "cell_type": "code",
   "execution_count": null,
   "metadata": {
    "id": "2oz2_RgwrZqp"
   },
   "outputs": [],
   "source": [
    "def collect_underperformers(nums, threshold):\n",
    "    \"\"\" (list of number, int) -> list of number\n",
    "\n",
    "    Return a new list consisting of those numbers in nums that are below threshold,\n",
    "    in the same order as in nums.\n",
    "\n",
    "    >>> collect_underperformers([1, 2, 3, 4], 3)\n",
    "    [1, 2]\n",
    "    >>> collect_underperformers([1, 2, 108, 3, 4], 50)\n",
    "    # TODO Replace this comment with the return value for the function call.\n",
    "    >>> collect_underperformers([], 7)\n",
    "    # TODO Replace this comment with the return value for the function call.\n",
    "    \"\"\"\n",
    "    # Write your code here:\n",
    "\n"
   ]
  },
  {
   "cell_type": "code",
   "execution_count": null,
   "metadata": {
    "id": "I3fb_snErpIE"
   },
   "outputs": [],
   "source": [
    "# Test you collect_underperformers function in this cell: \n",
    "\n"
   ]
  },
  {
   "cell_type": "markdown",
   "metadata": {},
   "source": [
    "#### Run the hidden code cell to evaluate collect_underperformers ####"
   ]
  },
  {
   "cell_type": "code",
   "execution_count": null,
   "metadata": {
    "cellView": "form",
    "id": "2k_g2iG1rw0H",
    "jupyter": {
     "source_hidden": true
    }
   },
   "outputs": [],
   "source": [
    "#@title Run this cell to evaluate search_closet\n",
    "# (Do not edit this cell)\n",
    "score = 0\n",
    "max = 11\n",
    "\n",
    "score += test(\"Empty list.\", collect_underperformers([], 100), []  )\n",
    "score += test(\"Single element list, no underperformers.\", collect_underperformers([5], 3), []  )\n",
    "score += test(\"Single element list, no underperformers.\", collect_underperformers([2], 1), []  )\n",
    "score += test(\"Single element list, underperformer.\", collect_underperformers([2], 5), [2]  )\n",
    "score += test(\"Single element list, underperformer.\", collect_underperformers([7], 8), [7]  )\n",
    "score += test(\"Multiple element list, no underperformers.\", collect_underperformers([6, 4, 7, 8, 5], 2), []  )\n",
    "score += test(\"Multiple element list, no underperformers.\", collect_underperformers([7, 11, 5, 4, 9], 4), []  )\n",
    "score += test(\"Multiple element list, some underperformers.\", collect_underperformers([1, 7, 5, 3], 5), [1, 3]  )\n",
    "score += test(\"Multiple element list, some underperformers.\", collect_underperformers([88, 4, 9, 1], 3), [1]  )\n",
    "score += test(\"Multiple element list, all underperformers.\", collect_underperformers([13, 32, 1, 3, 9], 50), [13, 32, 1, 3, 9]  )\n",
    "score += test(\"Multiple element list, all underperformers.\", collect_underperformers([4, 3, 9], 10), [4, 3, 9])\n",
    "\n",
    "if score == max:\n",
    "  print(\"All test cases passed!\") \n",
    "\n",
    "print(\"Mark: \" + str(score) + \"/\" + str(max))"
   ]
  },
  {
   "cell_type": "markdown",
   "metadata": {
    "id": "ppaE4_C6sX0I"
   },
   "source": [
    "## Modifying lists ##"
   ]
  },
  {
   "cell_type": "markdown",
   "metadata": {
    "id": "ssLUk2vZsbA1"
   },
   "source": [
    "### Swap names ### \n",
    "\n",
    "Complete the following function according to its docstring.\n",
    "\n",
    "**Note:** this function should return None. Its job is to modify the list passed as its argument."
   ]
  },
  {
   "cell_type": "code",
   "execution_count": null,
   "metadata": {
    "id": "awWECSAlsvSF"
   },
   "outputs": [],
   "source": [
    "def swap_name(name_list): \n",
    "    \"\"\" (list of str) -> NoneType \n",
    " \n",
    "    name_list contains a single person's name.  Modify name_list so that the first name and last name are swapped. \n",
    "                 \n",
    "    >>> name = ['John', 'Smith'] \n",
    "    >>> swap_name(name) \n",
    "    >>> name \n",
    "    ['Smith', 'John'] \n",
    "    >>> name = ['John', 'Andrew', 'Gleeson', 'Smith'] \n",
    "    >>> swap_name(name) \n",
    "    >>> name \n",
    "    ['Smith', 'Andrew', 'Gleeson', 'John'] \n",
    "    \"\"\" \n",
    "    # Write your code here:\n",
    "\n",
    "    "
   ]
  },
  {
   "cell_type": "code",
   "execution_count": null,
   "metadata": {
    "id": "a6_k70Tvs2cf"
   },
   "outputs": [],
   "source": [
    "# Test your swap_name function in this cell:\n",
    "\n"
   ]
  },
  {
   "cell_type": "markdown",
   "metadata": {},
   "source": [
    "#### Run the hidden code cell to evaluate swap_names ####"
   ]
  },
  {
   "cell_type": "code",
   "execution_count": null,
   "metadata": {
    "cellView": "form",
    "id": "ZVc-SjE0tAQF",
    "jupyter": {
     "source_hidden": true
    }
   },
   "outputs": [],
   "source": [
    "#@title Run this cell to evaluate swap_name\n",
    "# (Do not edit this cell)\n",
    "score = 0\n",
    "max = 2\n",
    "\n",
    "lst = ['Boo', 'Yah'];\n",
    "swap_name(lst)\n",
    "score += test(\"A person with no middle names.\", lst, ['Yah', 'Boo'])\n",
    "\n",
    "\n",
    "lst = ['Boo', 'Yah', 'Kah', 'Aaaah', 'Shah'];\n",
    "swap_name(lst)\n",
    "score += test(\"A person with 3 middle names.\", lst,  ['Shah', 'Yah', 'Kah', 'Aaaah', 'Boo'])\n",
    "\n",
    "if score == max:\n",
    "  print(\"All test cases passed!\") \n",
    "\n",
    "print(\"Mark: \" + str(score) + \"/\" + str(max))"
   ]
  },
  {
   "cell_type": "markdown",
   "metadata": {
    "id": "QCy7ykTduQi_"
   },
   "source": [
    "## Looping with Indices ##"
   ]
  },
  {
   "cell_type": "markdown",
   "metadata": {
    "id": "LC_o90TMuTd2"
   },
   "source": [
    "### scale_midterm_grades ###\n",
    "\n",
    "Complete the examples in the docstring and then complete the function body."
   ]
  },
  {
   "cell_type": "code",
   "execution_count": null,
   "metadata": {
    "id": "bVDJ_ho9uU1z"
   },
   "outputs": [],
   "source": [
    "def scale_midterm_grades(grades, multiplier, bonus):\n",
    "    \"\"\" (list of number, number, number) -> NoneType\n",
    "\n",
    "    Modify each grade in grades by multiplying it by multiplier and then\n",
    "    adding bonus. Cap grades at 100.\n",
    "\n",
    "    >>> grades = [45, 50, 55, 95]\n",
    "    >>> scale_midterm_grades(grades, 1, 10)\n",
    "    >>> grades\n",
    "    # TODO Replace this comment with the list that grades should refer to.\n",
    "    \"\"\"\n",
    "    #Write your code here: \n",
    "\n",
    "    "
   ]
  },
  {
   "cell_type": "code",
   "execution_count": null,
   "metadata": {
    "id": "HsC7dIwauVWo"
   },
   "outputs": [],
   "source": [
    "# Test your scale_midtermm_grades function in this cell:\n",
    "\n"
   ]
  },
  {
   "cell_type": "markdown",
   "metadata": {},
   "source": [
    "#### Run the hidden code cell to evaluate scale_midterm_grades ####"
   ]
  },
  {
   "cell_type": "code",
   "execution_count": null,
   "metadata": {
    "cellView": "form",
    "id": "49EVfnlbumMT",
    "jupyter": {
     "source_hidden": true
    }
   },
   "outputs": [],
   "source": [
    "#@title Run this cell to evaluate scale_midterm_grades\n",
    "# (Do not edit this cell)\n",
    "score = 0\n",
    "max = 11\n",
    "\n",
    "grades = []\n",
    "scale_midterm_grades(grades, 1, 100)\n",
    "score += test(\"Empty list.\", grades, [])\n",
    "\n",
    "grades = [50]\n",
    "scale_midterm_grades(grades, 1, 0)\n",
    "score += test(\"Single element, no change.\", grades, [50])  \n",
    "\n",
    "grades = [60]\n",
    "scale_midterm_grades(grades, 1, 0)\n",
    "score += test(\"Single element, no change.\", grades, [60])  \n",
    "\n",
    "grades = [50]\n",
    "scale_midterm_grades(grades, 2, 0)\n",
    "score += test(\"Single element, multiplier.\", grades, [100])  \n",
    "\n",
    "grades = [40]\n",
    "scale_midterm_grades(grades, 2, 0)\n",
    "score += test(\"Single element, multiplier.\", grades, [80])  \n",
    "\n",
    "grades = [20];\n",
    "scale_midterm_grades(grades, 1, 100)\n",
    "score += test(\"Single element, bonus.\", grades, [100])  \n",
    "\n",
    "grades = [50]\n",
    "scale_midterm_grades(grades, 1, 50)\n",
    "score += test(\"Single element, bonus.\", grades, [100])  \n",
    "\n",
    "grades = [56, 76, 90, 11, 55]\n",
    "scale_midterm_grades(grades, 1, 0)\n",
    "score += test(\"Multiple elements, no change.\", grades, [56, 76, 90, 11, 55])  \n",
    "\n",
    "grades = [86, 56, 99]\n",
    "scale_midterm_grades(grades, 1, 0)\n",
    "score += test(\"Multiple elements, no change.\", grades, [86, 56, 99])  \n",
    "\n",
    "grades = [54, 71, 66, 25]\n",
    "scale_midterm_grades(grades, 1.2, 30)\n",
    "score += test(\"Multiple elements, modified.\", grades, [94.8, 100, 100, 60])  \n",
    "\n",
    "grades = [54, 71, 66, 25, 99, 100, 11, 12]\n",
    "scale_midterm_grades(grades, 2, 50)\n",
    "score += test(\"Multiple elements, modified.\", grades, [100, 100, 100, 100, 100, 100, 72, 74]) \n",
    "\n",
    "\n",
    "if score == max:\n",
    "  print(\"All test cases passed!\") \n",
    "\n",
    "print(\"Mark: \" + str(score) + \"/\" + str(max))"
   ]
  },
  {
   "cell_type": "markdown",
   "metadata": {
    "id": "ANg_ngjHuV4A"
   },
   "source": [
    "### Weight Watchers ###\n",
    "\n",
    "A patient is trying to lose weight and you have a list of weekly weight measurements. The first measurement in the list is the weight from the initial visit, the second from 1 week later, the next from 2 weeks later etc. The goal is to lose 10%.\n",
    "\n",
    "Write a function that takes this list as a parameter and returns the number of weeks until the patient loses 10% of the original weight. (If the weight fluxuates, just report the first time that the weight is below 90% of the original value.)\n",
    "\n",
    "If the patient never reaches the goal, return -1."
   ]
  },
  {
   "cell_type": "code",
   "execution_count": null,
   "metadata": {
    "id": "W458KVVsuWKv"
   },
   "outputs": [],
   "source": [
    "def weeks_to_goal(weights):\n",
    "    \"\"\"  (list of number) -> int\n",
    "\n",
    "    Return the number of weeks until the patient has lost at least 10% \n",
    "    of the original weight using the measurements from weights.\n",
    "    Return -1 if goal is never reached.\n",
    "\n",
    "    >>> weeks_to_first_goal([100, 95, 93.4, 92, 91.5, 89.5, 88, 80])\n",
    "    5\n",
    "    \"\"\"\n",
    "    #Write your code here:\n"
   ]
  },
  {
   "cell_type": "code",
   "execution_count": null,
   "metadata": {
    "id": "dhk7DcRuuWby"
   },
   "outputs": [],
   "source": [
    "# Test your weeks_to_goal function in this cell:\n"
   ]
  },
  {
   "cell_type": "markdown",
   "metadata": {},
   "source": [
    "#### Run the hidden code cell to evaluate weeks_to_goal ####"
   ]
  },
  {
   "cell_type": "code",
   "execution_count": null,
   "metadata": {
    "cellView": "form",
    "id": "ibgB0EI6wjAm",
    "jupyter": {
     "source_hidden": true
    }
   },
   "outputs": [],
   "source": [
    "#@title Run this cell to evaluate weeks_to_goal\n",
    "# (Do not edit this cell)\n",
    "score = 0\n",
    "max = 4\n",
    "\n",
    "\n",
    "score += test(\"Example from description\", weeks_to_goal([100, 95, 93.4, 92, 91.5, 89.5, 88, 80]),5)\n",
    "score += test(\"Goal never reached\", weeks_to_goal([100, 95, 93.4, 92, 91.5, 93.5, 98, 100]),-1)\n",
    "score += test(\"Another example\", weeks_to_goal([100, 95, 93.4, 89.5, 88]),3)\n",
    "score += test(\"Example where initial weight is not 100\", weeks_to_goal([200, 190, 189.5, 188, 180, 175.4]),4)\n",
    "\n",
    "if score == max:\n",
    "  print(\"All test cases passed!\") \n",
    "\n",
    "print(\"Mark: \" + str(score) + \"/\" + str(max))"
   ]
  },
  {
   "cell_type": "markdown",
   "metadata": {
    "id": "WntG1TsuyUUG"
   },
   "source": [
    "# Homework Completion #"
   ]
  },
  {
   "cell_type": "markdown",
   "metadata": {},
   "source": [
    "#### Run the hidden code cell once you've completed all the functions. Once you get full marks, upload the notebook to MarkUs."
   ]
  },
  {
   "cell_type": "code",
   "execution_count": null,
   "metadata": {
    "cellView": "form",
    "id": "1nPQEMQkuBjr",
    "jupyter": {
     "source_hidden": true
    }
   },
   "outputs": [],
   "source": [
    "#@title Homework Completion Cell (Run this and screenshot it to show the homework is complete.)\n",
    "score = 0\n",
    "max = 45\n",
    "\n",
    "try:\n",
    "  score += test(\"The list does not start with an even number\", first_even([1, 9, 4, 77, 13, 6, 8]), 4)\n",
    "  score += test(\"The list is empty\", first_even([]), -1)\n",
    "  score += test(\"The list contains only even numbers\", first_even([2, 4, 6, 8]), 2)\n",
    "  score += test(\"The list contains odd integers: there are no even numbers\", first_even([1, 9, 3, 77, 13, 5, 7]), -1)\n",
    "  score += test(\"The list contains several odd integers followed by one even integer: the even integer is the last item in the list\", first_even([1, 9, 3, 77, 13, 5, 8]), 8)\n",
    "  score += test(\"The list is empty\", first_even([8, 10, 2, 4, 6, 8]), 8)\n",
    "\n",
    "  score += test(\"Colour matches item name, but not closet item colour.\", search_closet(['Red Foo', 'Far bar', 'Boo rally', 'Cat Black'], 'Black'), []  )\n",
    "  score += test(\"Non-matching colour.\", search_closet(['Red Foo', 'Far bar', 'Boo rally', 'Cat toe'], 'z'), []  )\n",
    "  score += test(\"Colour matches first item's colour.\", search_closet(['Red Foo', 'Far bar', 'Boo rally', 'Cat toe'], 'Red'), ['Red Foo']  )\n",
    "  score += test(\"Colour matches last item's colour.\", search_closet(['Red Foo', 'Far bar', 'Boo rally', 'Cat toe'], 'Cat'), ['Cat toe']  )\n",
    "  score += test(\"Colour matches middle item's colour.\", search_closet(['Red Foo', 'Far bar', 'Boo rally', 'Cat toe'], 'Far'), ['Far bar']  )\n",
    "  score += test(\"Colour matches multiple items' colour.\", search_closet(['Red Foo', 'Far bar', 'Zing baff', 'Purple spaghetti', 'Far rally', 'Cat toe'], 'Far'), ['Far bar', 'Far rally']  )\n",
    "  score += test(\"Empty closet.\", search_closet([], 'Far'), []  )\n",
    "  score += test(\"Colour matches first item's colour.\", search_closet(['Purple Foo', 'Far bar', 'Boo rally', 'Cat toe'], 'Purple'), ['Purple Foo']  )\n",
    "  score += test(\"Colour matches last item's colour.\", search_closet(['Red Foo', 'Far bar', 'Boo rally', 'Black toe'], 'Black'), ['Black toe']  )\n",
    "  score += test(\"Colour matches middle item's colour.\", search_closet(['Red Foo', 'Far bar', 'Orange rally', 'Cat toe'], 'Far'), ['Far bar']  )\n",
    "  score += test(\"Colour matches multiple items' colour.\", search_closet(['Red Foo', 'Yellow bar', 'Zing baff', 'Yellow spaghetti', 'Far rally', 'Yellow toe'], 'Yellow'), ['Yellow bar', 'Yellow spaghetti', 'Yellow toe'])\n",
    "\n",
    "  score += test(\"Empty list.\", collect_underperformers([], 100), []  )\n",
    "  score += test(\"Single element list, no underperformers.\", collect_underperformers([5], 3), []  )\n",
    "  score += test(\"Single element list, no underperformers.\", collect_underperformers([2], 1), []  )\n",
    "  score += test(\"Single element list, underperformer.\", collect_underperformers([2], 5), [2]  )\n",
    "  score += test(\"Single element list, underperformer.\", collect_underperformers([7], 8), [7]  )\n",
    "  score += test(\"Multiple element list, no underperformers.\", collect_underperformers([6, 4, 7, 8, 5], 2), []  )\n",
    "  score += test(\"Multiple element list, no underperformers.\", collect_underperformers([7, 11, 5, 4, 9], 4), []  )\n",
    "  score += test(\"Multiple element list, some underperformers.\", collect_underperformers([1, 7, 5, 3], 5), [1, 3]  )\n",
    "  score += test(\"Multiple element list, some underperformers.\", collect_underperformers([88, 4, 9, 1], 3), [1]  )\n",
    "  score += test(\"Multiple element list, all underperformers.\", collect_underperformers([13, 32, 1, 3, 9], 50), [13, 32, 1, 3, 9]  )\n",
    "  score += test(\"Multiple element list, all underperformers.\", collect_underperformers([4, 3, 9], 10), [4, 3, 9])\n",
    "\n",
    "  lst = ['Boo', 'Yah'];\n",
    "  swap_name(lst)\n",
    "  score += test(\"A person with no middle names.\", lst, ['Yah', 'Boo'])\n",
    "\n",
    "\n",
    "  lst = ['Boo', 'Yah', 'Kah', 'Aaaah', 'Shah'];\n",
    "  swap_name(lst)\n",
    "  score += test(\"A person with 3 middle names.\", lst,  ['Shah', 'Yah', 'Kah', 'Aaaah', 'Boo'])\n",
    "\n",
    "  grades = []\n",
    "  scale_midterm_grades(grades, 1, 100)\n",
    "  score += test(\"Empty list.\", grades, [])\n",
    "\n",
    "  grades = [50]\n",
    "  scale_midterm_grades(grades, 1, 0)\n",
    "  score += test(\"Single element, no change.\", grades, [50])  \n",
    "\n",
    "  grades = [60]\n",
    "  scale_midterm_grades(grades, 1, 0)\n",
    "  score += test(\"Single element, no change.\", grades, [60])  \n",
    "\n",
    "  grades = [50]\n",
    "  scale_midterm_grades(grades, 2, 0)\n",
    "  score += test(\"Single element, multiplier.\", grades, [100])  \n",
    "\n",
    "  grades = [40]\n",
    "  scale_midterm_grades(grades, 2, 0)\n",
    "  score += test(\"Single element, multiplier.\", grades, [80])  \n",
    "\n",
    "  grades = [20];\n",
    "  scale_midterm_grades(grades, 1, 100)\n",
    "  score += test(\"Single element, bonus.\", grades, [100])  \n",
    "\n",
    "  grades = [50]\n",
    "  scale_midterm_grades(grades, 1, 50)\n",
    "  score += test(\"Single element, bonus.\", grades, [100])  \n",
    "\n",
    "  grades = [56, 76, 90, 11, 55]\n",
    "  scale_midterm_grades(grades, 1, 0)\n",
    "  score += test(\"Multiple elements, no change.\", grades, [56, 76, 90, 11, 55])  \n",
    "\n",
    "  grades = [86, 56, 99]\n",
    "  scale_midterm_grades(grades, 1, 0)\n",
    "  score += test(\"Multiple elements, no change.\", grades, [86, 56, 99])  \n",
    "\n",
    "  grades = [54, 71, 66, 25]\n",
    "  scale_midterm_grades(grades, 1.2, 30)\n",
    "  score += test(\"Multiple elements, modified.\", grades, [94.8, 100, 100, 60])  \n",
    "\n",
    "  grades = [54, 71, 66, 25, 99, 100, 11, 12]\n",
    "  scale_midterm_grades(grades, 2, 50)\n",
    "  score += test(\"Multiple elements, modified.\", grades, [100, 100, 100, 100, 100, 100, 72, 74]) \n",
    "\n",
    "  score += test(\"Example from description\", weeks_to_goal([100, 95, 93.4, 92, 91.5, 89.5, 88, 80]),5)\n",
    "  score += test(\"Goal never reached\", weeks_to_goal([100, 95, 93.4, 92, 91.5, 93.5, 98, 100]),-1)\n",
    "  score += test(\"Another example\", weeks_to_goal([100, 95, 93.4, 89.5, 88]),3)\n",
    "  score += test(\"Example where initial weight is not 100\", weeks_to_goal([200, 190, 189.5, 188, 180, 175.4]),4)\n",
    "\n",
    "except NameError:\n",
    "  print(\"Oops! It seems like some of your functions are not implemented.\")\n",
    "\n",
    "if score == max:\n",
    "  print(\"Congratulations! All tests passed. Homework Complete!\")\n",
    "elif score == 0:\n",
    "   print(\"\")\n",
    "else:\n",
    "  print(\"Some of your functions are working, but all test cases haven't passed yet. Keep on trying!\")\n",
    "\n",
    "print(\"Mark: \" + str(score) + \"/\" + str(max))"
   ]
  }
 ],
 "metadata": {
  "colab": {
   "authorship_tag": "ABX9TyOguVVngO9QA3cLvCSxVLMj",
   "collapsed_sections": [
    "O3mlFitpnA23",
    "UbEwGEsQnfi_",
    "1Auqcafuo3hV",
    "3ygSOdeurVX4",
    "ppaE4_C6sX0I",
    "ssLUk2vZsbA1",
    "QCy7ykTduQi_",
    "LC_o90TMuTd2",
    "ANg_ngjHuV4A",
    "WntG1TsuyUUG"
   ],
   "name": "Phase I: Level 2 Session 2 Homework",
   "provenance": []
  },
  "kernelspec": {
   "display_name": "Python 3",
   "language": "python",
   "name": "python3"
  },
  "language_info": {
   "codemirror_mode": {
    "name": "ipython",
    "version": 3
   },
   "file_extension": ".py",
   "mimetype": "text/x-python",
   "name": "python",
   "nbconvert_exporter": "python",
   "pygments_lexer": "ipython3",
   "version": "3.6.13"
  }
 },
 "nbformat": 4,
 "nbformat_minor": 4
}
