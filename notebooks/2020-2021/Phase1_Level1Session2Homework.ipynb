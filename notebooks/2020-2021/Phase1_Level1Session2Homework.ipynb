{
 "cells": [
  {
   "cell_type": "markdown",
   "metadata": {
    "id": "S53yKXI1NEf-"
   },
   "source": [
    "# Instructions #\n",
    "This notebook contains a list of exercises to be completed. \n",
    "\n",
    "On the highest level, the notebook is comprised of two sections. The exercise section and completion section.\n",
    "\n",
    "#### Hidden Code ####\n",
    "The notebook contains several hidden code cells, which are displayed as three dots. To run these, select the above cell and press run twice (either by the buttons on the top, or the \"shift\" + \"return\" hotkey). Once the hidden code cell runs, a message such as \"Done\" or your evaluation results should appear. If the code expands, please collapse it using the column on the left. You don't need to edit or understand the code in these cells. \n",
    "\n",
    "#### Starting out ####\n",
    "The first cell in the exercise section is titled \"Run the hidden code cell before starting\". This should be run everytime a new kernel/runtime is started. If run correctly, the message \"Done!\" should appear underneath.\n",
    "\n",
    "#### Exercises ####\n",
    "This is followed by all the exercises of the notebook. An exercise generally consists of 4 cells. \n",
    "1.   The first cell provides a description of the function you need to implement. \n",
    "2.   The second cell contains the starter code, and contains a comment indicating where you should write your code. Your entire implementation will go in this cell. \n",
    "3.   The third cell is a testing cell for your own testing. Feel free to write any code you like here to test your function is working correctly.\n",
    "4.   The last cell contains hidden code to run test cases on your function. This cell, when run, will provide a mark on your implementation. If implemented correctly, you should get full marks.\n",
    "\n",
    "#### Completion ####\n",
    "The completion cell runs all the test cases in the notebook on all the functions. If this cell returns full marks, this means the notebook is complete. Once complete, upload this notebook to MarkUs."
   ]
  },
  {
   "cell_type": "markdown",
   "metadata": {
    "id": "xmw-S6wCb7ic"
   },
   "source": [
    "# Phase I: Level 1 Session 2 Homework #"
   ]
  },
  {
   "cell_type": "markdown",
   "metadata": {},
   "source": [
    "#### Run the hidden code cell before starting ####"
   ]
  },
  {
   "cell_type": "code",
   "execution_count": null,
   "metadata": {
    "cellView": "form",
    "id": "CR3MVg81IvWX",
    "jupyter": {
     "source_hidden": true
    }
   },
   "outputs": [],
   "source": [
    "#@title Run this cell before starting. \n",
    "def test(test_name, actual, expected):\n",
    "  if(actual == expected):\n",
    "    return 1\n",
    "  else:\n",
    "    print(\"Test failed. \" + test_name + \" expected \" + str(expected) + \", got \" + str(actual))\n",
    "    return 0\n",
    "\n",
    "print(\"Done!\")"
   ]
  },
  {
   "cell_type": "markdown",
   "metadata": {
    "id": "vhFh0ZUf4FPJ"
   },
   "source": [
    "## Writing Function Bodies\n",
    "\n",
    "Here is a quick reminder of the Function Design Recipe steps:\n",
    "\n",
    "1.   **Examples:** pick a meaningful function name; show 1 or 2 function calls with expected return values.\n",
    "2.   **Type Contract:** specify the parameter and return types\n",
    "3.   **Header:** write the first line of the function definition; pick meaningful parameter name(s).\n",
    "4.   **Description:** a description of the function; say what is returned and mention parameters by name.\n",
    "5.   **Body:** write the body of the function\n",
    "6.   **Test:** execute the function calls and check whether the values returned match what was expected."
   ]
  },
  {
   "cell_type": "markdown",
   "metadata": {
    "id": "ckKyTmBa4zKB"
   },
   "source": [
    "### Multiple of 3 ###\n",
    "\n",
    "In the function below, steps 1-4 of the Function Design Recipe have been completed. Write the body of the function and then click Submit to test your function.\n",
    "\n",
    "HINT: You will probably want the remainder (or modulus) operation which is represented with the % symbol between two integers. For example 5 % 2 evaluates to 3, 14 % 5 evaluates to 4 and 4 % 4 evaluates to 0."
   ]
  },
  {
   "cell_type": "code",
   "execution_count": null,
   "metadata": {
    "id": "iBXMAW2M420I"
   },
   "outputs": [],
   "source": [
    "def is_multiple_of_3(value):\n",
    "    \"\"\" (int) -> bool\n",
    "\n",
    "    Return True iff value is an integer multiple of 3.\n",
    "\n",
    "    >>> is_multiple_of_3(15)\n",
    "    True\n",
    "    >>> is_multiple_of_3(7)\n",
    "    False\n",
    "    \"\"\"\n",
    "    # Write code here:\n",
    "\n",
    "    "
   ]
  },
  {
   "cell_type": "code",
   "execution_count": null,
   "metadata": {
    "id": "LKppNdGCFMAB"
   },
   "outputs": [],
   "source": [
    "# Test your is_multiple_of_3 function in this cell:\n",
    "\n"
   ]
  },
  {
   "cell_type": "markdown",
   "metadata": {},
   "source": [
    "#### Run hidden code cell to evaluate is_multiple_of_3 ####"
   ]
  },
  {
   "cell_type": "code",
   "execution_count": null,
   "metadata": {
    "cellView": "form",
    "id": "-dMw8ock5I2s",
    "jupyter": {
     "source_hidden": true
    }
   },
   "outputs": [],
   "source": [
    "# (Do not edit this cell)\n",
    "score = 0\n",
    "max = 4\n",
    "score += test(\"is_multiple_of_3(15)\", is_multiple_of_3(15), True)\n",
    "score += test(\"is_multiple_of_3(7)\", is_multiple_of_3(8), False)\n",
    "score += test(\"is_multiple_of_3(11)\", is_multiple_of_3(11), False)\n",
    "score += test(\"is_multiple_of_3(-3)\", is_multiple_of_3(-3), True)\n",
    "\n",
    "if score == max:\n",
    "  print(\"All test cases passed!\")\n",
    "print(\"Mark: \" + str(score) + \"/\" + str(max))"
   ]
  },
  {
   "cell_type": "markdown",
   "metadata": {
    "id": "12ixFL-jEISM"
   },
   "source": [
    "### Multiple of a number ###\n",
    "\n",
    "In the function below, steps 1-4 of the Function Design Recipe have been completed. Write the body of the function and then click Submit to test your function."
   ]
  },
  {
   "cell_type": "code",
   "execution_count": null,
   "metadata": {
    "id": "3GZMW7NTEXn9"
   },
   "outputs": [],
   "source": [
    "def is_multiple(value1, value2):\n",
    "    \"\"\" (int, int) -> bool\n",
    "\n",
    "    Return True iff value1 is an integer multiple of value2.\n",
    "\n",
    "    >>> is_multiple(15, 3)\n",
    "    True\n",
    "    >>> is_multiple(7, 2)\n",
    "    False\n",
    "    \"\"\"\n",
    "    # Write code here:\n",
    "    \n"
   ]
  },
  {
   "cell_type": "code",
   "execution_count": null,
   "metadata": {
    "id": "RjkeAUlkFCsx"
   },
   "outputs": [],
   "source": [
    "# Test your is_multiple function in this cell:\n",
    "\n"
   ]
  },
  {
   "cell_type": "markdown",
   "metadata": {},
   "source": [
    "#### Run hidden code cell to evaluate is_multiple ####"
   ]
  },
  {
   "cell_type": "code",
   "execution_count": null,
   "metadata": {
    "cellView": "form",
    "id": "ZySDq-mXEghh",
    "jupyter": {
     "source_hidden": true
    }
   },
   "outputs": [],
   "source": [
    "# (Do not edit this cell)\n",
    "score = 0\n",
    "max = 3\n",
    "score += test(\"is_multiple(15, 3)\", is_multiple(15, 3), True)\n",
    "score += test(\"is_multiple(7, 2)\", is_multiple(7, 2), False)\n",
    "score += test(\"is_multiple(-2, 2)\", is_multiple(-2, 2), True)\n",
    "if score == max:\n",
    "  print(\"All test cases passed!\") \n",
    "\n",
    "print(\"Mark: \" + str(score) + \"/\" + str(max))"
   ]
  },
  {
   "cell_type": "markdown",
   "metadata": {
    "id": "upHuHxCRS5yy"
   },
   "source": [
    "## Practice Designing Functions With if Statements ##"
   ]
  },
  {
   "cell_type": "markdown",
   "metadata": {
    "id": "JaiexZJjTnPr"
   },
   "source": [
    "### Fecal Occult Blood Test ###\n",
    "\n",
    "It is recommended that a focal occult blood test (FOBT) is given once every year for colorectal cancer screening. The patient brings home a kit to do the testing and sends it back to the lab. There are three tests within the kit and each test result is either negative or positive. If all three are negative, the test will be repeated in a year. If at least 1 of the 3 comes back positive, then the patient should be sent for a colonoscopy.\n",
    "\n",
    "Write a function fobt that has three boolean parameters representing the results of the three tests. We will use True to represent a positive test and False to represent a negative test. Your function should either return 'Repeat tests in 1 year' or 'Book for colonoscopy', as indicated by the test results.\n",
    "\n",
    "Follow the Function Design Recipe and write your docstring first."
   ]
  },
  {
   "cell_type": "code",
   "execution_count": 2,
   "metadata": {
    "id": "fBR-Zz5_T6w2"
   },
   "outputs": [],
   "source": [
    "# Write your function here:\n",
    "def fobt(test1, test2, test3):\n",
    "    \"\"\" \n",
    "    \n",
    "    \"\"\"\n",
    "\n"
   ]
  },
  {
   "cell_type": "code",
   "execution_count": null,
   "metadata": {
    "id": "hVnQvxEhT-cR"
   },
   "outputs": [],
   "source": [
    "# Test your function in this cell:\n",
    "\n"
   ]
  },
  {
   "cell_type": "markdown",
   "metadata": {},
   "source": [
    "#### Run the hidden code cell to evaluate your fobt function ####"
   ]
  },
  {
   "cell_type": "code",
   "execution_count": null,
   "metadata": {
    "cellView": "form",
    "id": "LoqPu0ymUJX0",
    "jupyter": {
     "source_hidden": true
    }
   },
   "outputs": [],
   "source": [
    "# Do not edit thise cell\n",
    "score = 0\n",
    "max = 5\n",
    "score += test(\"Only first test is positive\", fobt(True, False, False), \"Book for colonoscopy\")\n",
    "score += test(\"Only second test is positive\", fobt(False, True, False), \"Book for colonoscopy\")\n",
    "score += test(\"All tests are negative\", fobt(False, False, False), \"Repeat tests in 1 year\")\n",
    "score += test(\"First and Third tests positive\", fobt(False, True, False), \"Book for colonoscopy\")\n",
    "score += test(\"All tests are positive\", fobt(True, False, True), \"Book for colonoscopy\")\n",
    "if score == max:\n",
    "    print(\"All test cases passed!\")\n",
    "  \n",
    "print(\"Mark: \" + str(score) + \"/\" + str(max))"
   ]
  },
  {
   "cell_type": "markdown",
   "metadata": {
    "id": "FFfJtmkQW3uK"
   },
   "source": [
    "## String Methods ##"
   ]
  },
  {
   "cell_type": "markdown",
   "metadata": {
    "id": "LQCKVkhjXBMN"
   },
   "source": [
    "### str methods: upper or lower ###\n",
    "\n",
    "Complete this function according to its docstring description."
   ]
  },
  {
   "cell_type": "code",
   "execution_count": null,
   "metadata": {
    "id": "tzRgF_iyXHas"
   },
   "outputs": [],
   "source": [
    "def upper_lower(s):\n",
    "    \"\"\" (str) -> bool\n",
    "    \n",
    "    Return True if and only if there is at least one alphabetic character in s and the alphabetic characters in s\n",
    "    are either all uppercase or all lowercase.\n",
    "    \n",
    "    >>> upper_lower('abc')\n",
    "    True\n",
    "    >>> upper_lower('abcXYZ')\n",
    "    False\n",
    "    >>> upper_lower('XYZ')\n",
    "    True\n",
    "    \"\"\"\n",
    "    # Write your code here:\n",
    "\n"
   ]
  },
  {
   "cell_type": "code",
   "execution_count": null,
   "metadata": {
    "id": "gPPBe6YmXPSH"
   },
   "outputs": [],
   "source": [
    "# Test your upper_lower function in this cell:\n",
    "\n"
   ]
  },
  {
   "cell_type": "markdown",
   "metadata": {},
   "source": [
    "#### Run hidden code cell to evaluate upper_lower ####"
   ]
  },
  {
   "cell_type": "code",
   "execution_count": null,
   "metadata": {
    "cellView": "form",
    "id": "8HeC-ozmXgpg",
    "jupyter": {
     "source_hidden": true
    }
   },
   "outputs": [],
   "source": [
    "#@title Run this cell to evaluate upper_lower\n",
    "# (Do not edit this cell)\n",
    "score = 0\n",
    "max = 5\n",
    "\n",
    "score += test(\"all lowercase\", upper_lower('abcdef'), True)\n",
    "score += test(\"all uppercase\", upper_lower('ABCDEF'), True)\n",
    "score += test(\"mix of upper and lower\", upper_lower('abcXYZ'), False)\n",
    "score += test(\"mix of letters and non-letters\", upper_lower('XYZ123'), True)\n",
    "score += test(\"all numeric\", upper_lower('123'), False)\n",
    "\n",
    "if score == max:\n",
    "  print(\"All test cases passed!\") \n",
    "\n",
    "print(\"Mark: \" + str(score) + \"/\" + str(max))"
   ]
  },
  {
   "cell_type": "markdown",
   "metadata": {
    "id": "w0gmV_f9yJwu"
   },
   "source": [
    "# Homework Completion #"
   ]
  },
  {
   "cell_type": "markdown",
   "metadata": {},
   "source": [
    "#### Run the hidden code cell once you've completed all the functions. Once you get full marks, upload the notebook to MarkUs."
   ]
  },
  {
   "cell_type": "code",
   "execution_count": null,
   "metadata": {
    "cellView": "form",
    "id": "1nPQEMQkuBjr",
    "jupyter": {
     "source_hidden": true
    }
   },
   "outputs": [],
   "source": [
    "#@title Homework Completion Cell (Run this and screenshot it to show the homework is complete.)\n",
    "score = 0\n",
    "max = 17\n",
    "\n",
    "try:\n",
    "  score += test(\"is_multiple_of_3(15)\", is_multiple_of_3(15), True)\n",
    "  score += test(\"is_multiple_of_3(7)\", is_multiple_of_3(8), False)\n",
    "  score += test(\"is_multiple_of_3(11)\", is_multiple_of_3(11), False)\n",
    "  score += test(\"is_multiple_of_3(-3)\", is_multiple_of_3(-3), True)\n",
    "\n",
    "  score += test(\"is_multiple(15, 3)\", is_multiple(15, 3), True)\n",
    "  score += test(\"is_multiple(7, 2)\", is_multiple(7, 2), False)\n",
    "  score += test(\"is_multiple(-2, 2)\", is_multiple(-2, 2), True)\n",
    "\n",
    "  score += test(\"Only first test is positive\", fobt(True, False, False), \"Book for colonoscopy\")\n",
    "  score += test(\"Only second test is positive\", fobt(False, True, False), \"Book for colonoscopy\")\n",
    "  score += test(\"All tests are negative\", fobt(False, False, False), \"Repeat tests in 1 year\")\n",
    "  score += test(\"First and Third tests positive\", fobt(False, True, False), \"Book for colonoscopy\")\n",
    "  score += test(\"All tests are positive\", fobt(True, False, True), \"Book for colonoscopy\")\n",
    "\n",
    "  score += test(\"all lowercase\", upper_lower('abcdef'), True)\n",
    "  score += test(\"all uppercase\", upper_lower('ABCDEF'), True)\n",
    "  score += test(\"mix of upper and lower\", upper_lower('abcXYZ'), False)\n",
    "  score += test(\"mix of letters and non-letters\", upper_lower('XYZ123'), True)\n",
    "  score += test(\"all numeric\", upper_lower('123'), False)\n",
    "except NameError:\n",
    "  print(\"Oops! It seems like some of your functions are not implemented.\")\n",
    "\n",
    "if score == max:\n",
    "  print(\"Congradulations! All tests passed. Homework Complete!\")\n",
    "elif score == 0:\n",
    "   print(\"\")\n",
    "else:\n",
    "  print(\"Some of your functions are working, but all test cases haven't passed yet. Keep on trying!\")\n",
    "\n",
    "print(\"Mark: \" + str(score) + \"/\" + str(max))"
   ]
  }
 ],
 "metadata": {
  "colab": {
   "authorship_tag": "ABX9TyN0Nw2hLSsZy+Xnx2/pkVr/",
   "collapsed_sections": [
    "xmw-S6wCb7ic",
    "vhFh0ZUf4FPJ",
    "ckKyTmBa4zKB",
    "12ixFL-jEISM",
    "upHuHxCRS5yy",
    "JaiexZJjTnPr",
    "FFfJtmkQW3uK",
    "LQCKVkhjXBMN",
    "w0gmV_f9yJwu"
   ],
   "name": "Phase I: Level 1 Session 2 Homework",
   "provenance": []
  },
  "kernelspec": {
   "display_name": "Python 3",
   "language": "python",
   "name": "python3"
  },
  "language_info": {
   "codemirror_mode": {
    "name": "ipython",
    "version": 3
   },
   "file_extension": ".py",
   "mimetype": "text/x-python",
   "name": "python",
   "nbconvert_exporter": "python",
   "pygments_lexer": "ipython3",
   "version": "3.6.12"
  }
 },
 "nbformat": 4,
 "nbformat_minor": 4
}
