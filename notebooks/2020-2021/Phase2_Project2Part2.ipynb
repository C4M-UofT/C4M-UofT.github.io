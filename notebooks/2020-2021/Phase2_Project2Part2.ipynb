{
 "cells": [
  {
   "cell_type": "markdown",
   "metadata": {
    "id": "S53yKXI1NEf-"
   },
   "source": [
    "# Instructions #\n",
    "This notebook contains a list of exercises to be completed. \n",
    "\n",
    "On the highest level, the notebook is comprised of two sections. The exercise section and completion section.\n",
    "\n",
    "#### Hidden Code ####\n",
    "The notebook contains several hidden code cells, which are displayed as three dots. To run these, select the above cell and press run twice (either by the buttons on the top, or the \"shift\" + \"return\" hotkey). Once the hidden code cell runs, a message such as \"Done\" or your evaluation results should appear. If the code expands, please collapse it using the column on the left. You don't need to edit or understand the code in these cells. \n",
    "\n",
    "#### Starting out ####\n",
    "The first cell in the exercise section is titled \"Run the hidden code cell before starting\". This should be run everytime a new kernel/runtime is started. If run correctly, the message \"Done!\" should appear underneath.\n",
    "\n",
    "#### Exercises ####\n",
    "This is followed by all the exercises of the notebook. An exercise generally consists of 4 cells. \n",
    "1.   The first cell provides a description of the function you need to implement. \n",
    "2.   The second cell contains the starter code, and contains a comment indicating where you should write your code. Your entire implementation will go in this cell. \n",
    "3.   The third cell is a testing cell for your own testing. Feel free to write any code you like here to test your function is working correctly.\n",
    "4.   The last cell contains hidden code to run test cases on your function. This cell, when run, will provide a mark on your implementation. If implemented correctly, you should get full marks.\n",
    "\n",
    "#### Completion ####\n",
    "The completion cell runs all the test cases in the notebook on all the functions. If this cell returns full marks, this means the notebook is complete. Once complete, upload this notebook to MarkUs."
   ]
  },
  {
   "cell_type": "markdown",
   "metadata": {
    "id": "SJMh-PRVHwBG"
   },
   "source": [
    "# Phase II: Project 2 Part 2 #"
   ]
  },
  {
   "cell_type": "markdown",
   "metadata": {},
   "source": [
    "#### Run the hidden code cell before starting ####"
   ]
  },
  {
   "cell_type": "code",
   "execution_count": null,
   "metadata": {
    "cellView": "form",
    "colab": {
     "base_uri": "https://localhost:8080/",
     "height": 34
    },
    "executionInfo": {
     "elapsed": 499,
     "status": "ok",
     "timestamp": 1603467903918,
     "user": {
      "displayName": "Salaar Liaqat",
      "photoUrl": "",
      "userId": "08024752299300850390"
     },
     "user_tz": 240
    },
    "id": "CR3MVg81IvWX",
    "jupyter": {
     "source_hidden": true
    },
    "outputId": "4f8618a2-0c28-48d5-bd40-0fe615581cba"
   },
   "outputs": [],
   "source": [
    "#@title Run this cell before starting. \n",
    "def test(test_name, actual, expected):\n",
    "  if(actual == expected):\n",
    "    return 1\n",
    "  else:\n",
    "    print(\"Test failed. \" + test_name + \" expected \" + str(expected) + \", got \" + str(actual))\n",
    "    return 0\n",
    "\n",
    "print(\"Done!\")"
   ]
  },
  {
   "cell_type": "markdown",
   "metadata": {
    "id": "1embWuVxH3Ih"
   },
   "source": [
    "## Exercise ##"
   ]
  },
  {
   "cell_type": "markdown",
   "metadata": {
    "id": "KR9hZ-AyH9lK"
   },
   "source": [
    "### C4M Dijkstra: visit_all analogue ###\n",
    "\n",
    "In this problem, we will be simulating a patient queue. For each patient, we have a name and a priority code. The patients are to be treated according to their priority -- higher priority first. The function visit_next_patient(unvisited, visited) is supplied. The function finds the patient with the highest priority in the list unvisited, and moves their name to the list visited. If visit_next_patient() is called repeatedly, visited will become a list of patients sorted by their priority, and unvisited will become empty.\n",
    "\n",
    "Write the function visit_all_patients(), which should call visit_next_patient repeatedly while it makes sense to, and returns a list of patients sorted by priority. Use visit_next_patient rather than sorted() or sort() to accomplish this."
   ]
  },
  {
   "cell_type": "code",
   "execution_count": null,
   "metadata": {
    "id": "oVWkiVVHH91G"
   },
   "outputs": [],
   "source": [
    "def visit_next_patient(unvisited, visited):\n",
    "    \"\"\"Remove the patient with the highest priority in list unvisited, and append\n",
    "    the patient's name to the end of the list visited. unvisited is a list\n",
    "    of tuples, with each tuple having a string and an integer as elements\n",
    "    (the name and priority) respectively. The list visited is a list of strings.\n",
    "    \n",
    "    >> unvisited = [(\"Bob\", 5), (\"Tom\", 6), (\"Tim\", 4)]\n",
    "    >> visited = [\"Alice\"]\n",
    "    >> visit_next_patient(unvisited, visited)\n",
    "    >> visited\n",
    "    [\"Alice\", \"Tom\"]\n",
    "    \n",
    "    >> unvisited\n",
    "    [(\"Bob\", 5), (\"Tim\", 4)]\n",
    "    \n",
    "    \"\"\"\n",
    "    \n",
    "    highest_priority_ind = 0\n",
    "    highest_priority = unvisited[0][1]\n",
    "    for i in range(len(unvisited)):\n",
    "        if unvisited[i][1] > highest_priority:\n",
    "            highest_priority = unvisited[i][1]\n",
    "            highest_priority_ind = i\n",
    "            \n",
    "    visited.append(unvisited[highest_priority_ind][0])\n",
    "    unvisited[highest_priority_ind:highest_priority_ind+1] = []\n",
    "\n",
    "def visit_all_patients(patient_list):\n",
    "    \"\"\"Return a list of the names of the patients, from highest priority to lowest, without using\n",
    "    sorted() or sort(). Instead, call visit_next_patient repeatedly.\n",
    "  \n",
    "    Arguments:\n",
    "      patient_list -- a list of tuples, with each tuple containing the name of a patient (str)\n",
    "                      and their priority (int)\n",
    "\n",
    "    >>> visit_all_patients([(\"Bob\", 5), (\"Tom\", 6), (\"Tim\", 4)])\n",
    "    [\"Tom\", \"Bob\", \"Tim\"]\n",
    "    \"\"\"\n",
    "    # Write your code here:\n",
    "\n"
   ]
  },
  {
   "cell_type": "code",
   "execution_count": null,
   "metadata": {
    "id": "16PS02lRH-DX"
   },
   "outputs": [],
   "source": [
    "# Test your visit_all_patients function in this cell:\n",
    "\n"
   ]
  },
  {
   "cell_type": "markdown",
   "metadata": {},
   "source": [
    "#### Run the hidden code cell to evaluate visit_all_patients ####"
   ]
  },
  {
   "cell_type": "code",
   "execution_count": null,
   "metadata": {
    "cellView": "form",
    "id": "-dMw8ock5I2s",
    "jupyter": {
     "source_hidden": true
    }
   },
   "outputs": [],
   "source": [
    "#@title Run this cell to evaluate is_multiple_of_3\n",
    "# (Do not edit this cell)\n",
    "score = 0\n",
    "max = 3\n",
    "\n",
    "score += test(\"One patient\", visit_all_patients([(\"Bob\", 0)]), [\"Bob\"])\n",
    "score += test(\"Several patients\", visit_all_patients([(\"Bob\", 5), (\"Tom\", 6), (\"Tim\", 4)]), ['Tom', 'Bob', 'Tim'])\n",
    "score += test(\"Four patients\", visit_all_patients([(\"Bob\", 5), (\"Tom\", 6), (\"Alice\", 8),(\"Tim\", 4)]), ['Alice', 'Tom', 'Bob', 'Tim'])\n",
    "\n",
    "if score == max:\n",
    "  print(\"All test cases passed!\")\n",
    "print(\"Mark: \" + str(score) + \"/\" + str(max))"
   ]
  },
  {
   "cell_type": "markdown",
   "metadata": {
    "id": "w0gmV_f9yJwu"
   },
   "source": [
    "# Homework Completion #"
   ]
  },
  {
   "cell_type": "markdown",
   "metadata": {},
   "source": [
    "#### Run the hidden code cell once you've completed all the functions. Once you get full marks, upload the notebook to MarkUs."
   ]
  },
  {
   "cell_type": "code",
   "execution_count": null,
   "metadata": {
    "cellView": "form",
    "id": "1nPQEMQkuBjr",
    "jupyter": {
     "source_hidden": true
    }
   },
   "outputs": [],
   "source": [
    "#@title Homework Completion Cell (Run this and screenshot it to show the homework is complete.)\n",
    "score = 0\n",
    "max = 3\n",
    "\n",
    "try:\n",
    "\n",
    "  score += test(\"One patient\", visit_all_patients([(\"Bob\", 0)]), [\"Bob\"])\n",
    "  score += test(\"Several patients\", visit_all_patients([(\"Bob\", 5), (\"Tom\", 6), (\"Tim\", 4)]), ['Tom', 'Bob', 'Tim'])\n",
    "  score += test(\"Four patients\", visit_all_patients([(\"Bob\", 5), (\"Tom\", 6), (\"Alice\", 8),(\"Tim\", 4)]), ['Alice', 'Tom', 'Bob', 'Tim'])\n",
    "\n",
    "\n",
    "except NameError:\n",
    "  print(\"Oops! It seems like some of your functions are not implemented.\")\n",
    "\n",
    "if score == max:\n",
    "  print(\"Congratulations! All tests passed. Homework Complete!\")\n",
    "elif score == 0:\n",
    "   print(\"\")\n",
    "else:\n",
    "  print(\"Some of your functions are working, but all test cases haven't passed yet. Keep on trying!\")\n",
    "\n",
    "print(\"Mark: \" + str(score) + \"/\" + str(max))"
   ]
  }
 ],
 "metadata": {
  "colab": {
   "authorship_tag": "ABX9TyO+c/9EasUttrl5CdfeYPKw",
   "collapsed_sections": [
    "SJMh-PRVHwBG",
    "1embWuVxH3Ih",
    "KR9hZ-AyH9lK",
    "w0gmV_f9yJwu"
   ],
   "name": " Phase II: Project 2 Part 2",
   "provenance": []
  },
  "kernelspec": {
   "display_name": "Python 3",
   "language": "python",
   "name": "python3"
  },
  "language_info": {
   "codemirror_mode": {
    "name": "ipython",
    "version": 3
   },
   "file_extension": ".py",
   "mimetype": "text/x-python",
   "name": "python",
   "nbconvert_exporter": "python",
   "pygments_lexer": "ipython3",
   "version": "3.6.13"
  }
 },
 "nbformat": 4,
 "nbformat_minor": 4
}
