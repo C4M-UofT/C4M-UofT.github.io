{
 "cells": [
  {
   "cell_type": "markdown",
   "metadata": {
    "id": "S53yKXI1NEf-"
   },
   "source": [
    "# Instructions #\n",
    "This notebook contains a list of exercises to be completed. \n",
    "\n",
    "On the highest level, the notebook is comprised of two sections. The exercise section and completion section.\n",
    "\n",
    "#### Hidden Code ####\n",
    "The notebook contains several hidden code cells, which are displayed as three dots. To run these, select the above cell and press run twice (either by the buttons on the top, or the \"shift\" + \"return\" hotkey). Once the hidden code cell runs, a message such as \"Done\" or your evaluation results should appear. If the code expands, please collapse it using the column on the left. You don't need to edit or understand the code in these cells. \n",
    "\n",
    "#### Starting out ####\n",
    "The first cell in the exercise section is titled \"Run the hidden code cell before starting\". This should be run everytime a new kernel/runtime is started. If run correctly, the message \"Done!\" should appear underneath.\n",
    "\n",
    "#### Exercises ####\n",
    "This is followed by all the exercises of the notebook. An exercise generally consists of 4 cells. \n",
    "1.   The first cell provides a description of the function you need to implement. \n",
    "2.   The second cell contains the starter code, and contains a comment indicating where you should write your code. Your entire implementation will go in this cell. \n",
    "3.   The third cell is a testing cell for your own testing. Feel free to write any code you like here to test your function is working correctly.\n",
    "4.   The last cell contains hidden code to run test cases on your function. This cell, when run, will provide a mark on your implementation. If implemented correctly, you should get full marks.\n",
    "\n",
    "#### Completion ####\n",
    "The completion cell runs all the test cases in the notebook on all the functions. If this cell returns full marks, this means the notebook is complete. Once complete, upload this notebook to MarkUs."
   ]
  },
  {
   "cell_type": "markdown",
   "metadata": {
    "id": "U-QkneQ9UKZw"
   },
   "source": [
    "# Phase 1: Level 1 Session 4 In Class Exercises #"
   ]
  },
  {
   "cell_type": "markdown",
   "metadata": {},
   "source": [
    "#### Run the hidden code cell before starting ####"
   ]
  },
  {
   "cell_type": "code",
   "execution_count": null,
   "metadata": {
    "cellView": "form",
    "colab": {
     "base_uri": "https://localhost:8080/",
     "height": 34
    },
    "executionInfo": {
     "elapsed": 1086,
     "status": "ok",
     "timestamp": 1603420923281,
     "user": {
      "displayName": "Salaar Liaqat",
      "photoUrl": "",
      "userId": "08024752299300850390"
     },
     "user_tz": 240
    },
    "id": "CR3MVg81IvWX",
    "jupyter": {
     "source_hidden": true
    },
    "outputId": "fd21189f-690d-405f-c3fb-dac39f7218b1"
   },
   "outputs": [],
   "source": [
    "# Do not edit this cell (Keep hidden to keep notebook easier to read)\n",
    "def test(test_name, actual, expected):\n",
    "  if(actual == expected):\n",
    "    return 1\n",
    "  else:\n",
    "    print(\"Test failed. \" + test_name + \" expected \" + str(expected) + \", got \" + str(actual))\n",
    "    return 0\n",
    "\n",
    "print(\"Done!\")"
   ]
  },
  {
   "cell_type": "markdown",
   "metadata": {
    "id": "gxpWP86VUrwK"
   },
   "source": [
    "## Exercise 1 ##"
   ]
  },
  {
   "cell_type": "markdown",
   "metadata": {
    "id": "ZlJkSV3zURoe"
   },
   "source": [
    "### Valid DNA Sequence ###\n",
    "\n",
    "DNA sequences have traditionally been represented as strings of the symbols A, C, G, and T, which represent the nucleobases, found in natural DNA. Scientists have recently uncovered the importance of chemical modifications to numerous nucleobases. While many of these were previously known, they have recently been shown to likely have impacts on the regulation of genes (specific sequences of nucleobases that encode for various functional units in cells, often the class of large bio-molecules called proteins). Many other modifications have only recently been discovered and found to be involved in essential cellular processes, some necessary for the development of various organisms.\n",
    "\n",
    "In order to analyze these modifications computationally, researchers at U of T have proposed\n",
    "and made use of an additional set of symbols, in effect, defining an expanded DNA alphabet. For example, cytosine (C) is often modified, by the addition of a methyl group (a CH3) at its fifth carbon, forming 5-methylcytosine. These researchers assign the symbol m to this nucleobase, adding a fifth symbol to the DNA alphabet. They have already defined other symbols and there may be more to come.\n",
    "\n",
    "In this problem you will write a function valid_DNA_sequence that takes a sequence and a\n",
    "DNA nucleobase alphabet, and determines if all the symbols in the sequence are from those in the provided alphabet.\n",
    "\n",
    "Complete the function below."
   ]
  },
  {
   "cell_type": "code",
   "execution_count": null,
   "metadata": {
    "id": "5VMGHClqUIgp"
   },
   "outputs": [],
   "source": [
    "def valid_DNA_sequence(sequence, DNA_alphabet):\n",
    "    \"\"\" (str, str) -> bool\n",
    "    \n",
    "    Return True iff sequence is composed only of characters found in DNA_alphabet.\n",
    "\n",
    "    >>> valid_DNA_sequence('AmGTCA', 'ACGT')\n",
    "    False\n",
    "    >>> valid_DNA_sequence('AmGTCA', 'ACGTmh')\n",
    "    True\n",
    "    \"\"\"\n",
    "    # Write your code here:\n"
   ]
  },
  {
   "cell_type": "code",
   "execution_count": null,
   "metadata": {
    "id": "k-13NSkNUy1G"
   },
   "outputs": [],
   "source": [
    "# Test your valid_DNA_sequence function in this cell:\n",
    "\n"
   ]
  },
  {
   "cell_type": "markdown",
   "metadata": {},
   "source": [
    "#### Run the hidden code cell to evaluate valid_DNA_sequence ####"
   ]
  },
  {
   "cell_type": "code",
   "execution_count": null,
   "metadata": {
    "cellView": "form",
    "id": "-dMw8ock5I2s",
    "jupyter": {
     "source_hidden": true
    }
   },
   "outputs": [],
   "source": [
    "# Do not edit this cell\n",
    "score = 0\n",
    "max = 5\n",
    "\n",
    "score += test(\"Invalid necleobase in middle\", valid_DNA_sequence('AmGTCA', 'ACGT'), False)\n",
    "score += test(\"All valid nucleobases from conventional DNA alphabet\", valid_DNA_sequence('CACGTG', 'ACGT'), True)\n",
    "score += test(\"All valid nucleobases, modified DNA alphabet\", valid_DNA_sequence('AmGTCA', 'ACGTmh'), True)\n",
    "score += test(\"All valid nucleobases, different modified DNA alphabet\", valid_DNA_sequence('TCAmGfGAcG', 'ACGTmhfc'), True)\n",
    "score += test(\"Invalid instance of a uracil nucleobase in the (likely RNA) sequence\", valid_DNA_sequence('ACUA', 'ACGT'), False)\n",
    "\n",
    "if score == max:\n",
    "  print(\"All test cases passed!\")\n",
    "print(\"Mark: \" + str(score) + \"/\" + str(max))"
   ]
  },
  {
   "cell_type": "markdown",
   "metadata": {
    "id": "Lqv-arD6VkIW"
   },
   "source": [
    "### Out of Bounds ###\n",
    "\n",
    "You have a list of measurements which should each fall within an acceptable range for which you have an upper and lower limit. It is fine if the measurement exactly equals either limit.\n",
    "\n",
    "Write a boolean function out_of_bounds that accepts the list, the upper limit and the lower limit (in that order) and returns True if any measurement in the list is outside of the acceptable range."
   ]
  },
  {
   "cell_type": "code",
   "execution_count": 1,
   "metadata": {
    "id": "rq_IQU2NVnRw"
   },
   "outputs": [],
   "source": [
    "# Write your code here:\n",
    "def out_of_bounds(L, upper, lower):\n",
    "    \"\"\"\n",
    "    \n",
    "    \"\"\""
   ]
  },
  {
   "cell_type": "code",
   "execution_count": null,
   "metadata": {
    "id": "1UcHnQQ8Vnze"
   },
   "outputs": [],
   "source": [
    "# Test your out_of_bounds function in this cell:\n",
    "\n"
   ]
  },
  {
   "cell_type": "markdown",
   "metadata": {},
   "source": [
    "#### Run the hidden code cell to evaluate out_of_bounds (You don't need to understand the code) ####"
   ]
  },
  {
   "cell_type": "code",
   "execution_count": null,
   "metadata": {
    "cellView": "form",
    "id": "TLlvkngRVqGF",
    "jupyter": {
     "source_hidden": true
    }
   },
   "outputs": [],
   "source": [
    "# Do not edit this cell\n",
    "score = 0\n",
    "max = 4\n",
    "\n",
    "score += test(\"Short list all clearly inside bounds\", out_of_bounds([5.4, 6.2, 1, 2.7], 10, 0), False)\n",
    "score += test(\"One measurement too high\", out_of_bounds([38], 37.5, 36.5), True)\n",
    "score += test(\"One temperature in longer list too low\", out_of_bounds([98.0, 98.3, 97.9, 97.2, 98.1], 99.5, 97.7), True)\n",
    "score += test(\"Measurement exactly equal to boundaries\", out_of_bounds([5, 4, 3], 5, 3), False)\n",
    "\n",
    "if score == max:\n",
    "  print(\"All test cases passed!\")\n",
    "print(\"Mark: \" + str(score) + \"/\" + str(max))"
   ]
  },
  {
   "cell_type": "markdown",
   "metadata": {
    "id": "w0gmV_f9yJwu"
   },
   "source": [
    "# Homework Completion #"
   ]
  },
  {
   "cell_type": "markdown",
   "metadata": {},
   "source": [
    "#### Run the hidden code cell once you've completed all the functions. Once you get full marks, upload the notebook to MarkUs."
   ]
  },
  {
   "cell_type": "code",
   "execution_count": null,
   "metadata": {
    "cellView": "form",
    "id": "1nPQEMQkuBjr",
    "jupyter": {
     "source_hidden": true
    }
   },
   "outputs": [],
   "source": [
    "# Do not edit this cell\n",
    "score = 0\n",
    "max = 9\n",
    "\n",
    "try:\n",
    "  \n",
    "  score += test(\"Invalid necleobase in middle\", valid_DNA_sequence('AmGTCA', 'ACGT'), False)\n",
    "  score += test(\"All valid nucleobases from conventional DNA alphabet\", valid_DNA_sequence('CACGTG', 'ACGT'), True)\n",
    "  score += test(\"All valid nucleobases, modified DNA alphabet\", valid_DNA_sequence('AmGTCA', 'ACGTmh'), True)\n",
    "  score += test(\"All valid nucleobases, different modified DNA alphabet\", valid_DNA_sequence('TCAmGfGAcG', 'ACGTmhfc'), True)\n",
    "  score += test(\"Invalid instance of a uracil nucleobase in the (likely RNA) sequence\", valid_DNA_sequence('ACUA', 'ACGT'), False)\n",
    "\n",
    "  score += test(\"Short list all clearly inside bounds\", out_of_bounds([5.4, 6.2, 1, 2.7], 10, 0), False)\n",
    "  score += test(\"One measurement too high\", out_of_bounds([38], 37.5, 36.5), True)\n",
    "  score += test(\"One temperature in longer list too low\", out_of_bounds([98.0, 98.3, 97.9, 97.2, 98.1], 99.5, 97.7), True)\n",
    "  score += test(\"Measurement exactly equal to boundaries\", out_of_bounds([5, 4, 3], 5, 3), False)\n",
    "\n",
    "\n",
    "except NameError:\n",
    "  print(\"Oops! It seems like some of your functions are not implemented.\")\n",
    "\n",
    "if score == max:\n",
    "  print(\"Congradulations! All tests passed. Homework Complete!\")\n",
    "elif score == 0:\n",
    "   print(\"\")\n",
    "else:\n",
    "  print(\"Some of your functions are working, but all test cases haven't passed yet. Keep on trying!\")\n",
    "\n",
    "print(\"Mark: \" + str(score) + \"/\" + str(max))"
   ]
  }
 ],
 "metadata": {
  "colab": {
   "authorship_tag": "ABX9TyMp0eiWhiTxYUf2x5HK6XLo",
   "collapsed_sections": [
    "U-QkneQ9UKZw",
    "gxpWP86VUrwK",
    "ZlJkSV3zURoe",
    "Lqv-arD6VkIW"
   ],
   "name": "Phase 1: Level 1 Session 4 In Class Exercises",
   "provenance": []
  },
  "kernelspec": {
   "display_name": "Python 3",
   "language": "python",
   "name": "python3"
  },
  "language_info": {
   "codemirror_mode": {
    "name": "ipython",
    "version": 3
   },
   "file_extension": ".py",
   "mimetype": "text/x-python",
   "name": "python",
   "nbconvert_exporter": "python",
   "pygments_lexer": "ipython3",
   "version": "3.6.12"
  }
 },
 "nbformat": 4,
 "nbformat_minor": 4
}
