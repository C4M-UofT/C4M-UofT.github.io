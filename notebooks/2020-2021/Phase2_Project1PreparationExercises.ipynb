{
 "cells": [
  {
   "cell_type": "markdown",
   "metadata": {
    "id": "S53yKXI1NEf-"
   },
   "source": [
    "# Instructions #\n",
    "This notebook contains a list of exercises to be completed. \n",
    "\n",
    "On the highest level, the notebook is comprised of two sections. The exercise section and completion section.\n",
    "\n",
    "#### Hidden Code ####\n",
    "The notebook contains several hidden code cells, which are displayed as three dots. To run these, select the above cell and press run twice (either by the buttons on the top, or the \"shift\" + \"return\" hotkey). Once the hidden code cell runs, a message such as \"Done\" or your evaluation results should appear. If the code expands, please collapse it using the column on the left. You don't need to edit or understand the code in these cells. \n",
    "\n",
    "#### Starting out ####\n",
    "The first cell in the exercise section is titled \"Run the hidden code cell before starting\". This should be run everytime a new kernel/runtime is started. If run correctly, the message \"Done!\" should appear underneath.\n",
    "\n",
    "#### Exercises ####\n",
    "This is followed by all the exercises of the notebook. An exercise generally consists of 4 cells. \n",
    "1.   The first cell provides a description of the function you need to implement. \n",
    "2.   The second cell contains the starter code, and contains a comment indicating where you should write your code. Your entire implementation will go in this cell. \n",
    "3.   The third cell is a testing cell for your own testing. Feel free to write any code you like here to test your function is working correctly.\n",
    "4.   The last cell contains hidden code to run test cases on your function. This cell, when run, will provide a mark on your implementation. If implemented correctly, you should get full marks.\n",
    "\n",
    "#### Completion ####\n",
    "The completion cell runs all the test cases in the notebook on all the functions. If this cell returns full marks, this means the notebook is complete. Once complete, upload this notebook to MarkUs."
   ]
  },
  {
   "cell_type": "markdown",
   "metadata": {
    "id": "xu4bqAIIW_Q1"
   },
   "source": [
    "# Phase II : Project 1 Preparation Exercises #"
   ]
  },
  {
   "cell_type": "markdown",
   "metadata": {},
   "source": [
    "#### Run the hidden code cell before starting ####"
   ]
  },
  {
   "cell_type": "code",
   "execution_count": null,
   "metadata": {
    "cellView": "form",
    "colab": {
     "base_uri": "https://localhost:8080/",
     "height": 34
    },
    "executionInfo": {
     "elapsed": 273,
     "status": "ok",
     "timestamp": 1603421626771,
     "user": {
      "displayName": "Salaar Liaqat",
      "photoUrl": "",
      "userId": "08024752299300850390"
     },
     "user_tz": 240
    },
    "id": "CR3MVg81IvWX",
    "jupyter": {
     "source_hidden": true
    },
    "outputId": "5830ed34-5ccc-4423-b204-03487599ddc3"
   },
   "outputs": [],
   "source": [
    "#@title Run this cell before starting. \n",
    "def test(test_name, actual, expected):\n",
    "  if(actual == expected):\n",
    "    return 1\n",
    "  else:\n",
    "    print(\"Test failed. \" + test_name + \" expected \" + str(expected) + \", got \" + str(actual))\n",
    "    return 0\n",
    "\n",
    "print(\"Done!\")"
   ]
  },
  {
   "cell_type": "markdown",
   "metadata": {
    "id": "UB2weXU7XMlV"
   },
   "source": [
    "## Phase II : Exercise Set 1 ##"
   ]
  },
  {
   "cell_type": "markdown",
   "metadata": {
    "id": "mi5GaXzLXg1d"
   },
   "source": [
    "### Counting Digits ###\n",
    "\n",
    "Complete the function count_digits to return the number of digits in string s."
   ]
  },
  {
   "cell_type": "code",
   "execution_count": null,
   "metadata": {
    "id": "THx5HFtMXkxD"
   },
   "outputs": [],
   "source": [
    "def count_digits(s):\n",
    "  #Write your code here:\n",
    "\n"
   ]
  },
  {
   "cell_type": "code",
   "execution_count": null,
   "metadata": {
    "id": "173onxXRXkhf"
   },
   "outputs": [],
   "source": [
    "# Test your count_digits function here:\n",
    "\n"
   ]
  },
  {
   "cell_type": "markdown",
   "metadata": {},
   "source": [
    "#### Run the hidden code cell to evaluate count_digits ####"
   ]
  },
  {
   "cell_type": "code",
   "execution_count": null,
   "metadata": {
    "cellView": "form",
    "colab": {
     "base_uri": "https://localhost:8080/",
     "height": 51
    },
    "executionInfo": {
     "elapsed": 291,
     "status": "ok",
     "timestamp": 1603421634105,
     "user": {
      "displayName": "Salaar Liaqat",
      "photoUrl": "",
      "userId": "08024752299300850390"
     },
     "user_tz": 240
    },
    "id": "-dMw8ock5I2s",
    "jupyter": {
     "source_hidden": true
    },
    "outputId": "20dad4a0-f0ad-42a3-d328-ad1ff3485b90"
   },
   "outputs": [],
   "source": [
    "#@title Run this cell to evaluate count_digits\n",
    "# (Do not edit this cell)\n",
    "score = 0\n",
    "max = 6\n",
    "\n",
    "score += test(\"No digits\", count_digits(\"abc\"), 0)\n",
    "score += test(\"One digit -- in the middle of string\", count_digits(\"a1b\"), 1)\n",
    "score += test(\"Empty string\", count_digits(\"\"), 0)\n",
    "score += test(\"Multiple digits\", count_digits(\"2ab1cd2\"), 3)\n",
    "score += test(\"Non alphanumeric characters\", count_digits('$4.99'), 3)\n",
    "score += test(\"All digits\", count_digits(\"111\"), 3)\n",
    "\n",
    "if score == max:\n",
    "  print(\"All test cases passed!\")\n",
    "print(\"Mark: \" + str(score) + \"/\" + str(max))"
   ]
  },
  {
   "cell_type": "markdown",
   "metadata": {
    "id": "pxmwwv3VYVF5"
   },
   "source": [
    "### More Upper Or Lower ###\n",
    "Complete the function according to its docstring.\n"
   ]
  },
  {
   "cell_type": "code",
   "execution_count": null,
   "metadata": {
    "id": "7eqfMGFoYVb0"
   },
   "outputs": [],
   "source": [
    "def more_upper_or_lower(s):\n",
    "    \"\"\" (str) -> str\n",
    "    Return one of 'upper', 'lower', or 'tie' \n",
    "    depending on whether '-' is more-often followed immediately \n",
    "    in s by an uppercase or lowercase letter.\n",
    "\n",
    "    >>> more_upper_or_lower('A-B-cABC-d-?')\n",
    "    'lower'\n",
    "    >>> more_upper_or_lower('ABABCdd?')\n",
    "    'tie'\n",
    "    \"\"\"\n",
    "    # Write your code here\n"
   ]
  },
  {
   "cell_type": "code",
   "execution_count": null,
   "metadata": {
    "id": "jgi2ybIDYVsJ"
   },
   "outputs": [],
   "source": [
    "# Test your more_upper_or_lower function here:\n"
   ]
  },
  {
   "cell_type": "markdown",
   "metadata": {},
   "source": [
    "#### Run the hidden code cell to evaluate more_upper_lower ####"
   ]
  },
  {
   "cell_type": "code",
   "execution_count": null,
   "metadata": {
    "cellView": "form",
    "id": "5c6PRV10YiBL",
    "jupyter": {
     "source_hidden": true
    }
   },
   "outputs": [],
   "source": [
    "#@title Run this cell to evaluate more_upper_or_lower\n",
    "# (Do not edit this cell)\n",
    "score = 0\n",
    "max = 8\n",
    "\n",
    "score += test(\"From docstring.\", more_upper_or_lower('A-B-cABC-d-?'), 'lower')\n",
    "score += test(\"From docstring 2\", more_upper_or_lower('ABABCdd?'), 'tie')\n",
    "score += test(\"No hyphens\", more_upper_or_lower('ABABCdd?'), 'tie')\n",
    "score += test(\"Empty parameter\", more_upper_or_lower(''), 'tie')\n",
    "score += test(\"Single upper\", more_upper_or_lower('-A'), 'upper')\n",
    "score += test(\"Adjacent hyphens\", more_upper_or_lower('--A'), 'upper')\n",
    "score += test(\"Tie with non-zero counts\", more_upper_or_lower('-Aa-a'), 'tie')\n",
    "score += test(\"Only considering chars following hyphens\", more_upper_or_lower('-a-a-AAAAA'), 'lower')\n",
    "\n",
    "if score == max:\n",
    "  print(\"All test cases passed!\")\n",
    "print(\"Mark: \" + str(score) + \"/\" + str(max))"
   ]
  },
  {
   "cell_type": "markdown",
   "metadata": {
    "id": "zNqLRwboYV_D"
   },
   "source": [
    "### Transform DNA ###\n",
    "\n",
    "In the last problem, you learned that researchers are using modified DNA alphabets to encode additional information about the chemical modifications to nucleobases. In one such alphabet, the symbol m represents a modified C.\n",
    "\n",
    "In this problem, you will complete a function to convert a DNA string represented using this modified alphabet, to its representation using the traditional alphabet. Specifically, you must replace each occurrence of m, h, f or c with a C, every g, e or b with T, every 1, 2, 3 or 4 with G and every a with A.\n",
    "\n",
    "For example, here is a DNA sequence from Chlamydomonas reinhardtii (green algae) using the modified nucleobase alphabet:\n",
    "\n",
    "ATGCm1TCh2ATGTCAgATGaTCCCAeATGAAeATeAC\n",
    "\n",
    "\n",
    "Using transform_DNA to translate all the modified nucleases from this sequence to their unmodified forms would return the following new string.\n",
    "\n",
    "ATGCCGTCCGATGTCATATGATCCCATATGAATATTAC"
   ]
  },
  {
   "cell_type": "code",
   "execution_count": null,
   "metadata": {
    "id": "hU1bfjlgYWX0"
   },
   "outputs": [],
   "source": [
    "def transform_DNA(original_sequence):\n",
    "    \"\"\" (str) -> str\n",
    "    Return a copy of original_sequence where every occurence of\n",
    "    the each modified symbol has been replaced with the more common\n",
    "    traditional symbol.      \n",
    "    \"\"\"\n",
    "    # Write your code here:\n",
    "\n"
   ]
  },
  {
   "cell_type": "code",
   "execution_count": null,
   "metadata": {
    "id": "YuD-w9jmYWur"
   },
   "outputs": [],
   "source": [
    "# Test your transform_DNA function here:\n",
    "\n"
   ]
  },
  {
   "cell_type": "markdown",
   "metadata": {},
   "source": [
    "#### Run the hidden code cell to evaluate transform_DNA ####"
   ]
  },
  {
   "cell_type": "code",
   "execution_count": null,
   "metadata": {
    "cellView": "form",
    "id": "evyiRa-sZNY4",
    "jupyter": {
     "source_hidden": true
    }
   },
   "outputs": [],
   "source": [
    "#@title Run this cell to evaluate transform_DNA\n",
    "# (Do not edit this cell)\n",
    "score = 0\n",
    "max = 5\n",
    "\n",
    "score += test(\"example from description\", transform_DNA(\"ATGCm1TCh2ATGTCAgATGaTCCCAeATGAAeATeAC\"), \"ATGCCGTCCGATGTCATATGATCCCATATGAATATTAC\")\n",
    "score += test(\"mouse embryonic stem cells\", transform_DNA(\"ATGCeATCCGATGTCAgATGTACCCAgATGAAeATeAC\"), \"ATGCTATCCGATGTCATATGTACCCATATGAATATTAC\")\n",
    "score += test(\"mouse: only C and G modifications\", transform_DNA(\"ATGCm1TCCGATGTCAh2TGTACCCAf3TGAAc4TmTA\"), \"ATGCCGTCCGATGTCACGTGTACCCACGTGAACGTCTA\")\n",
    "score += test(\"Simple example\", transform_DNA(\"Cm1T\"), \"CCGT\")\n",
    "score += test(\"No letters to transform\", transform_DNA(\"CCCACGT\"), \"CCCACGT\")\n",
    "\n",
    "if score == max:\n",
    "  print(\"All test cases passed!\")\n",
    "print(\"Mark: \" + str(score) + \"/\" + str(max))"
   ]
  },
  {
   "cell_type": "markdown",
   "metadata": {
    "id": "XHfdlJKOYXGI"
   },
   "source": [
    "### Anonymizing your Data ###\n",
    "\n",
    "A comma separated values (CSV) file contains lines that represent records. Each line is made up of one or more fields, separated by commas. For example, a record may contain information about a student:\n",
    "Doe,John,999888777,1994-01-22\n",
    "Spreadsheet programs can import and export data in the CSV file format.\n",
    "\n",
    "For this exercise, you have a line from a spreadsheet CSV file that contains information about subjects in your research study. The name occurs in the first and second fields, and the health card number is in the fifth field.\n",
    "\n",
    "Your job is to write a function get_anonymized_list that will take a single comma-separated string and return a list of the tokens from that string excluding the name and health card information. (When we break the a string into meaningful parts, we call the resulting parts tokens.)\n",
    "\n",
    "For example, if the input to your function is, \"Abbondanza,Marco,50,M,654789456,70kg,Italy,Ophthalmologist,Eye Surgeon\" , the function should return the list ['50', 'M', '70kg', 'Italy', 'Ophthalmologist', 'Eye Surgeon'].\n",
    "\n",
    "You may assume that, unlike the data that comes from many spreadsheet CSV files, your input string has no inner quotation marks and therefore no commas within quoted values from within one column."
   ]
  },
  {
   "cell_type": "code",
   "execution_count": null,
   "metadata": {
    "id": "1k_q6ZCPYXfr"
   },
   "outputs": [],
   "source": [
    "# Write your code here:\n",
    "def get_anonymized_list(s):\n",
    "    \"\"\" (str) -> list of str\n",
    "\n",
    "    \n",
    "    \"\"\"\n",
    "    "
   ]
  },
  {
   "cell_type": "code",
   "execution_count": null,
   "metadata": {
    "id": "TsL3P_zLYX1B"
   },
   "outputs": [],
   "source": [
    "# Test your get_anonymized_list function here:\n",
    "\n"
   ]
  },
  {
   "cell_type": "markdown",
   "metadata": {},
   "source": [
    "#### Run the hidden code cell to evaluate get_anonymized_list ####"
   ]
  },
  {
   "cell_type": "code",
   "execution_count": null,
   "metadata": {
    "cellView": "form",
    "id": "zkwS93ynZxDU",
    "jupyter": {
     "source_hidden": true
    }
   },
   "outputs": [],
   "source": [
    "#@title Run this cell to evaluate get_anonymized_list\n",
    "# (Do not edit this cell)\n",
    "score = 0\n",
    "max = 2\n",
    "\n",
    "score += test(\"Example 1 from description\", get_anonymized_list(\"Abbondanza,Marco,50,M,654789456,70kg,Italy,Ophthalmologist,Eye Surgeon\"), ['50', 'M', '70kg', 'Italy', 'Ophthalmologist', 'Eye Surgeon'])\n",
    "score += test(\"Example 2 from Description\", get_anonymized_list(\"Apgar,Virginia,40,F,4564789,60kg,United States,Anesthesiologist\"), ['40', 'F', '60kg', 'United States', 'Anesthesiologist'])\n",
    "\n",
    "if score == max:\n",
    "  print(\"All test cases passed!\")\n",
    "print(\"Mark: \" + str(score) + \"/\" + str(max))"
   ]
  },
  {
   "cell_type": "markdown",
   "metadata": {
    "id": "r1JKkq2IYYKM"
   },
   "source": [
    "### No side effects ###\n",
    "\n",
    "Consider a dictionary that stores the side-effects for every patient in a trial as a list. For example, the dictionary might look as follows:\n",
    "\n",
    "\n",
    "patient_list = {\"Alice Z.\": [\"fever\"],\n",
    "                \"Bob Y.\": [\"nausea\", \"lightheadedness\"],\n",
    "                \"Carl X.\": [\"fever\", \"nausea\"],\n",
    "                \"Diana W.\": [],\n",
    "                \"Eve V.\": [\"headache\", \"nausea\"],\n",
    "                \"Frank U.\": [\"fever\", \"nausea\"],\n",
    "                \"Greg T.\": [\"gangrene\"]\n",
    "\n",
    "\n",
    "Write a function with the signature no_side_effects_found(patient_symptoms) that returns True if none of the patients exhibit any side-effects, and False otherwise.\n",
    "\n",
    "For example, if we use the following\n",
    "\n",
    "patient_list = {\"Alice Z.\": [\"fever\"],\n",
    "                \"Bob Y.\": [\"nausea\", \"lightheadedness\"],\n",
    "                \"Carl X.\": [\"fever\", \"nausea\"],\n",
    "                \"Diana W.\": [],\n",
    "                \"Eve V.\": [\"headache\", \"nausea\"],\n",
    "                \"Frank U.\": [\"fever\", \"nausea\"],\n",
    "                \"Greg T.\": [\"gangrene\"]\n",
    "\n",
    "Then no_side_effects_found(patient_list) should return False.\n",
    "\n",
    "\n",
    "On the other hand, if we use the following\n",
    "\n",
    "patient_list = {\"Alice Z.\": [],\n",
    "                \"Bob Y.\": [],\n",
    "                \"Carl X.\": [],\n",
    "                \"Diana W.\": [],\n",
    "                \"Eve V.\": [],\n",
    "                \"Frank U.\": [],\n",
    "                \"Greg T.\": []\n",
    "\n",
    "\n",
    "Then no_side_effects_found(patient_list) should return True."
   ]
  },
  {
   "cell_type": "code",
   "execution_count": null,
   "metadata": {
    "id": "bE5IB05nYYfZ"
   },
   "outputs": [],
   "source": [
    "def no_side_effects_found(patient_list):\n",
    "  # Write your code here:\n",
    "\n",
    "\n"
   ]
  },
  {
   "cell_type": "code",
   "execution_count": null,
   "metadata": {
    "id": "zI6XgEtNYYxv"
   },
   "outputs": [],
   "source": [
    "# Test your no_side_effects_found:\n",
    "\n"
   ]
  },
  {
   "cell_type": "markdown",
   "metadata": {},
   "source": [
    "#### Run the hidden code cell to evaluate no_side_effects_found ####"
   ]
  },
  {
   "cell_type": "code",
   "execution_count": null,
   "metadata": {
    "cellView": "form",
    "id": "89oQ5dOCaO-O",
    "jupyter": {
     "source_hidden": true
    }
   },
   "outputs": [],
   "source": [
    "#@title Run this cell to evaluate no_side_effects_found\n",
    "# (Do not edit this cell)\n",
    "score = 0\n",
    "max = 5\n",
    "\n",
    "score += test(\"no patients\", no_side_effects_found({}), True)\n",
    "score += test(\"One patient, no symptoms\", no_side_effects_found({\"a\": []}), True)\n",
    "score += test(\"Two patients no symptoms\", no_side_effects_found( {\"a\": [], \"b\": []}), True)\n",
    "score += test(\"One patient, symptoms\", no_side_effects_found( {\"a\": [\"1\"]}), False)\n",
    "score += test(\"Mostly no symptoms\", no_side_effects_found({\"a\": [], \"b\": [], \"c\": [], \"d\": [], \"e\":[\"1\", \"2\", \"3\"]}), False)\n",
    "\n",
    "if score == max:\n",
    "  print(\"All test cases passed!\")\n",
    "print(\"Mark: \" + str(score) + \"/\" + str(max))"
   ]
  },
  {
   "cell_type": "markdown",
   "metadata": {
    "id": "BOmjwANZXMbj"
   },
   "source": [
    "## Phase II : Exercise Set 2 ##"
   ]
  },
  {
   "cell_type": "markdown",
   "metadata": {
    "id": "0Io9fVEEbj3u"
   },
   "source": [
    "### Counting the number of days with high heart rate ###\n",
    "\n",
    "Complete the function according to its docstring."
   ]
  },
  {
   "cell_type": "code",
   "execution_count": null,
   "metadata": {
    "id": "D8SOfH_YbkPf"
   },
   "outputs": [],
   "source": [
    "def ndays_high_hr(heart_rates, threshold):\n",
    "    \"\"\"(list of int, int) -> int\n",
    "    \n",
    "    heart_rates refers to a list of integers that represent daily\n",
    "    heart rate measurements for a patient. threshold is the lowest\n",
    "    heart rate that is considered to be high.\n",
    "    Return the number of measurements in heart_rates which are \n",
    "    higher than or equal to threshold.\n",
    "    \n",
    "    >>> ndays_high_hr([54, 50, 45, 100, 70, 95], 90)\n",
    "    2\n",
    "    \"\"\"\n",
    "    # Write your code here:\n"
   ]
  },
  {
   "cell_type": "code",
   "execution_count": null,
   "metadata": {
    "id": "ZrkZ-7iwbkgp"
   },
   "outputs": [],
   "source": [
    "# Test your ndays_high_hr function in this cell:\n",
    "\n"
   ]
  },
  {
   "cell_type": "markdown",
   "metadata": {},
   "source": [
    "#### Run the hidden code cell to evaluate ndays_high_hr ####"
   ]
  },
  {
   "cell_type": "code",
   "execution_count": null,
   "metadata": {
    "cellView": "form",
    "colab": {
     "base_uri": "https://localhost:8080/",
     "height": 51
    },
    "executionInfo": {
     "elapsed": 297,
     "status": "ok",
     "timestamp": 1603422726444,
     "user": {
      "displayName": "Salaar Liaqat",
      "photoUrl": "",
      "userId": "08024752299300850390"
     },
     "user_tz": 240
    },
    "id": "VH7vJquJcMTX",
    "jupyter": {
     "source_hidden": true
    },
    "outputId": "33ea9ef6-d080-4b92-b5a6-7e23b9a63689"
   },
   "outputs": [],
   "source": [
    "#@title Run this cell to evaluate ndays_high_hr\n",
    "# (Do not edit this cell)\n",
    "score = 0\n",
    "max = 4\n",
    "\n",
    "score += test(\"Typical case\", ndays_high_hr([54, 50, 45, 100, 70, 95], 90), 2)\n",
    "score += test(\"zero output\", ndays_high_hr([50, 60, 40], 65), 0)\n",
    "score += test(\"empty input\", ndays_high_hr([], 65), 0)\n",
    "score += test(\"Some rates equal to the threshold\", ndays_high_hr([50, 50, 50], 50), 3  )\n",
    "\n",
    "if score == max:\n",
    "  print(\"All test cases passed!\")\n",
    "print(\"Mark: \" + str(score) + \"/\" + str(max))"
   ]
  },
  {
   "cell_type": "markdown",
   "metadata": {
    "id": "6CsS1eEFbk7L"
   },
   "source": [
    "### Filtered list ###\n",
    "\n",
    "Complete the function below according to its docstring.\n"
   ]
  },
  {
   "cell_type": "code",
   "execution_count": null,
   "metadata": {
    "id": "aoJXMsF-blPO"
   },
   "outputs": [],
   "source": [
    "def get_words_by_subword(words, subword):\n",
    "    \"\"\"(list of str, str) -> list\n",
    "    \n",
    "    Given a list of strings words and a string subword, return a\n",
    "    new list that contains all the strings from list words that\n",
    "    contain subword.\n",
    "    \n",
    "    >>> get_words_by_subword([\"neuropathology\", \"osteopathology\", \"capybaras\", \"plain old pathology\"], \"pathology\")\n",
    "    [\"neuropathology\", \"osteopathology\", \"plain old pathology\"]\n",
    "    \"\"\"\n",
    "    # Write your code here:\n",
    "\n",
    "    "
   ]
  },
  {
   "cell_type": "code",
   "execution_count": null,
   "metadata": {
    "id": "CAXe4uzzbld2"
   },
   "outputs": [],
   "source": [
    "# Test your get_words_by_subword function in this cell:\n",
    "\n"
   ]
  },
  {
   "cell_type": "markdown",
   "metadata": {},
   "source": [
    "#### Run the hidden code cell to evaluate get_words_by_subword ####"
   ]
  },
  {
   "cell_type": "code",
   "execution_count": null,
   "metadata": {
    "cellView": "form",
    "id": "jz2oT3XTckCf",
    "jupyter": {
     "source_hidden": true
    }
   },
   "outputs": [],
   "source": [
    "#@title Run this cell to evaluate get_words_by_subword\n",
    "# (Do not edit this cell)\n",
    "score = 0\n",
    "max = 4\n",
    "\n",
    "score += test(\"Typical case\", get_words_by_subword([\"neuropathology\", \"osteopathology\", \"capybaras\", \"plain old pathology\"], \"pathology\"), [\"neuropathology\", \"osteopathology\", \"plain old pathology\"])\n",
    "score += test(\"Empty list\", get_words_by_subword([], \"giraffe\"), [])\n",
    "score += test(\"Returning an empty list\", get_words_by_subword([\"surgery\", \"physical exam\"], \"germs\"), [])\n",
    "score += test(\"Entire list should be returned\", get_words_by_subword([\"abc\", \"abcdef\", \"abcdefg\"], \"abc\"), [\"abc\", \"abcdef\", \"abcdefg\"])\n",
    "\n",
    "if score == max:\n",
    "  print(\"All test cases passed!\")\n",
    "print(\"Mark: \" + str(score) + \"/\" + str(max))"
   ]
  },
  {
   "cell_type": "markdown",
   "metadata": {
    "id": "8k6G2foxbmpb"
   },
   "source": [
    "### Process Medicine List ###\n",
    "\n",
    "Complete the following function according to its docstring. Hint: str method capitalize will be useful."
   ]
  },
  {
   "cell_type": "code",
   "execution_count": null,
   "metadata": {
    "id": "xV5zDEC5bnHE"
   },
   "outputs": [],
   "source": [
    "def capitalize_brandnames(meds):\n",
    "    \"\"\" (list of str) -> NoneType\n",
    "\n",
    "    Given a list of strings meds, modify the contents of the\n",
    "    list by capitalizing elements of the list that end in \"(tm)\".\n",
    "    \n",
    "    For example, if meds = [\"paracetamol\", \"ibuprofen\", \"advil (tm)\"], \n",
    "    capitalize_brandnames(meds) should have the effect of changing meds to\n",
    "    [\"paracetamol\", \"ibuprofen\", \"Advil (tm)\"]\n",
    "    \"\"\"\n",
    "    # Write your code here:\n",
    "\n"
   ]
  },
  {
   "cell_type": "code",
   "execution_count": null,
   "metadata": {
    "id": "05jugRtRbpGK"
   },
   "outputs": [],
   "source": [
    "# Test your capiltalize_brandnames function in this cell:\n"
   ]
  },
  {
   "cell_type": "markdown",
   "metadata": {},
   "source": [
    "#### Run the hidden code cell to evaluate capitalize_brandnames ####"
   ]
  },
  {
   "cell_type": "code",
   "execution_count": null,
   "metadata": {
    "cellView": "form",
    "id": "GbdIxDlod_tz",
    "jupyter": {
     "source_hidden": true
    }
   },
   "outputs": [],
   "source": [
    "#@title Run this cell to evaluate capitalize_brandnames\n",
    "# (Do not edit this cell)\n",
    "score = 0\n",
    "max = 3\n",
    "\n",
    "meds = [\"paracetamol\", \"ibuprofen\", \"advil (tm)\"] \n",
    "capitalize_brandnames(meds)\n",
    "score += test(\"Given example\", meds, [\"paracetamol\", \"ibuprofen\", \"Advil (tm)\"])\n",
    "\n",
    "meds = [\"a\", \"b\"]\n",
    "capitalize_brandnames(meds)\n",
    "score += test(\"Nothing to capitalize\", meds,  [\"a\", \"b\"])\n",
    "\n",
    "meds = []\n",
    "capitalize_brandnames(meds)\n",
    "score += test(\"Empty list\", meds,  [])\n",
    "\n",
    "if score == max:\n",
    "  print(\"All test cases passed!\")\n",
    "print(\"Mark: \" + str(score) + \"/\" + str(max))"
   ]
  },
  {
   "cell_type": "markdown",
   "metadata": {
    "id": "D4ehh0JvfBNj"
   },
   "source": [
    "### Oversubscribed Physicians ###\n",
    "\n",
    "Each physician is assigned a list of patients. The information about patient assignment is stored in a dictionary with the physician names as keys and lists of patients as values. For example, a dictionary of this form is:\n",
    "\n",
    "\n",
    "patient_data = {\"Dr. House\": [\"Alice\", \"Adam\", \"Aaron\"],\n",
    "                \"Dr. McCoy\": [\"Bob\", \"Beatrice\"],\n",
    "                \"Dr. Livesey\": [\"Chloe\", \"Cameron\", \"Constantine\"]}\n",
    "\n",
    "Complete the following function.\n"
   ]
  },
  {
   "cell_type": "code",
   "execution_count": null,
   "metadata": {
    "id": "TcDiFvuAfBex"
   },
   "outputs": [],
   "source": [
    "def oversubscribed_physicians(patient_data, max_patients):\n",
    "    \"\"\"(dict, int) -> list of str\n",
    "\n",
    "    Return a list of the physicians who have more than\n",
    "    max_patients patients, as recorded in patient_data,\n",
    "    with the names sorted alphabetically. In patient_data,\n",
    "    each key is a physician and each value is a list of that\n",
    "    physician's patients.\n",
    "    \"\"\"\n",
    "    # Write your code here:\n",
    "\n",
    "\n",
    "    \n"
   ]
  },
  {
   "cell_type": "code",
   "execution_count": null,
   "metadata": {
    "id": "DiVanaVSfBtX"
   },
   "outputs": [],
   "source": [
    "# Test your oversubscrubed_physicians function in this cell:\n",
    "\n"
   ]
  },
  {
   "cell_type": "markdown",
   "metadata": {},
   "source": [
    "#### Run the hidden code cell to evaluate oversubsribed_physicians ####"
   ]
  },
  {
   "cell_type": "code",
   "execution_count": null,
   "metadata": {
    "cellView": "form",
    "id": "MUdOrWN4fDAg",
    "jupyter": {
     "source_hidden": true
    }
   },
   "outputs": [],
   "source": [
    "#@title Run this cell to evaluate oversubscribed_physicians\n",
    "# (Do not edit this cell)\n",
    "score = 0\n",
    "max = 3\n",
    "\n",
    "score += test(\"Typical case\", oversubscribed_physicians( {\"Dr. House\": [\"Alice\", \"Adam\", \"Aaron\"], \"Dr. McCoy\": [\"Bob\", \"Beatrice\"], \"Dr. Livesey\": [\"Chloe\", \"Cameron\", \"Constantine\", \"Cleopatra\"]} , 2), [\"Dr. House\", \"Dr. Livesey\"])  \n",
    "score += test(\"All have less than or the same as max\", oversubscribed_physicians({\"Dr. House\": [\"Alice\", \"Adam\", \"Aaron\"], \"Dr. McCoy\": [\"Bob\", \"Beatrice\"], \"Dr. Livesey\": [\"Chloe\", \"Cameron\", \"Constantine\", \"Cleopatra\"]} , 4), [])  \n",
    "score += test(\"All have more than max\", oversubscribed_physicians({\"D\": [\"a\", \"b\", \"c\"], \"B\": [\"d\", \"e\"], \"C\": [\"f\", \"g\"], \"A\":[\"h\", \"i\", \"j\", \"k\"]}, 1), [\"A\", \"B\", \"C\", \"D\"])\n",
    "\n",
    "if score == max:\n",
    "  print(\"All test cases passed!\")\n",
    "print(\"Mark: \" + str(score) + \"/\" + str(max))"
   ]
  },
  {
   "cell_type": "markdown",
   "metadata": {
    "id": "W_oJiwNEXMUQ"
   },
   "source": [
    "## Phase II : Exercise Set 3 ##"
   ]
  },
  {
   "cell_type": "markdown",
   "metadata": {
    "id": "qILYtJLff51u"
   },
   "source": [
    "### Dangerous Symptoms Found ###\n",
    "\n",
    "Write a function with the signature dangerous_symptoms_found(patient_symptoms, dangerous_symptoms)\n",
    "that returns True if any of the patients exhibit any of the symptoms\n",
    "in the list dangeous_symptoms and False otherwise.\n",
    "\n",
    "For example, if we use the following:\n",
    "    \n",
    "patient_symptoms = {\"Alice Z.\": [\"fever\"],\n",
    "                     \"Bob Y.\": [\"nausea\", \"lightheadedness\"],\n",
    "                     \"Carl X.\": [\"fever\", \"nausea\"],\n",
    "                     \"Diana W.\": [],\n",
    "                     \"Eve V.\": [\"headache\", \"nausea\"],\n",
    "                     \"Frank U.\": [\"fever\", \"nausea\"],\n",
    "                     \"Greg T.\": [\"gangrene\"]}          \n",
    "dangerous_symptoms = [\"gangrene\", \"cardiac arrest\"]\n",
    "\n",
    "calling the function as follows\n",
    "dangerous_symptoms_found(patient_symptoms, dangerous_symptoms)\n",
    "should return True. However if the patient Greg T were not included in the above dictionary, then the same function call would return False.\n",
    "\n",
    "Provide a docstring (including a type contract) with your function."
   ]
  },
  {
   "cell_type": "code",
   "execution_count": null,
   "metadata": {
    "id": "CmxtTIs6f6Kf"
   },
   "outputs": [],
   "source": [
    "# Write your code here:\n",
    "def dangerous_symptoms_found(patient_list, dangerous_symptoms):\n",
    "    \"\"\"\n",
    "    \n",
    "    \"\"\"\n",
    "\n"
   ]
  },
  {
   "cell_type": "code",
   "execution_count": null,
   "metadata": {
    "id": "VGR4Q1lmf6tK"
   },
   "outputs": [],
   "source": [
    "# Test your dangerous_symptoms_found function in this cell:\n",
    "\n"
   ]
  },
  {
   "cell_type": "markdown",
   "metadata": {},
   "source": [
    "#### Run the hidden code cell to evaluate dangerous_symptoms_found ####"
   ]
  },
  {
   "cell_type": "code",
   "execution_count": null,
   "metadata": {
    "cellView": "form",
    "id": "zCDYRLxVf-dr",
    "jupyter": {
     "source_hidden": true
    }
   },
   "outputs": [],
   "source": [
    "#@title Run this cell to evaluate dangerous_symptoms_found\n",
    "# (Do not edit this cell)\n",
    "score = 0\n",
    "max = 6\n",
    "\n",
    "patient_symptoms = {\"Alice Z.\": [\"fever\"], \"Bob Y.\": [\"nausea\", \"lightheadedness\"], \"Carl X.\": [\"fever\", \"nausea\"], \"Diana W.\": [], \"Eve V.\": [\"headache\", \"nausea\"], \"Frank U.\": [\"fever\", \"nausea\"], \"Greg T.\": [\"gangrene\"]}\n",
    "dangerous_symptoms = [\"gangrene\", \"cardiac arrest\"]\n",
    "copy_ds = dangerous_symptoms[:]\n",
    "result = dangerous_symptoms_found(patient_symptoms, dangerous_symptoms)\n",
    "score += test(\"From problem description 1\", (copy_ds == dangerous_symptoms) and result, True)  \n",
    "\n",
    "patients = {\"a\": [], \"b\": [\"1\"], \"c\": [\"2\", \"3\"]}\n",
    "dangerous = [\"1\"]\n",
    "result = dangerous_symptoms_found(patients,dangerous)\n",
    "score += test(\"One dangerous symptom\", result, True)  \n",
    "\n",
    "patients = {\"a\": [], \"b\": [\"1\"], \"c\": [\"2\", \"3\"]}\n",
    "dangerous = [\"4\"]\n",
    "result = dangerous_symptoms_found(patients,dangerous)\n",
    "score += test(\"No dangerous symptoms\", result, False)  \n",
    "\n",
    "patients = {\"a\": [], \"b\": [\"1\"], \"c\": [\"2\", \"3\"]}\n",
    "dangerous = [\"3\"]\n",
    "result = dangerous_symptoms_found(patients,dangerous)\n",
    "score += test(\"Dangerous symptom not first in list\", result, True)  \n",
    "\n",
    "patients = {\"a\": [], \"b\": [\"1\"], \"c\": [\"2\", \"3\"]}\n",
    "dangerous = []\n",
    "result = dangerous_symptoms_found(patients,dangerous)\n",
    "score += test(\"No dangerous symptoms exist at all\", result, False)  \n",
    "\n",
    "patients = {\"a\": [], \"b\": [\"1\"], \"c\": [\"2\", \"3\"]}\n",
    "dangerous = ['4', '5', '6', '7', '3']\n",
    "result = dangerous_symptoms_found(patients,dangerous)\n",
    "score += test(\"First dangerous symptom not found, but later one is found\", result, True)\n",
    "\n",
    "if score == max:\n",
    "  print(\"All test cases passed!\")\n",
    "print(\"Mark: \" + str(score) + \"/\" + str(max))"
   ]
  },
  {
   "cell_type": "markdown",
   "metadata": {
    "id": "fOaUfmQHhPEJ"
   },
   "source": [
    "### Updating Patient Priority ###\n",
    "\n",
    "Compete the function update_priority according to its docstring.\n"
   ]
  },
  {
   "cell_type": "code",
   "execution_count": null,
   "metadata": {
    "id": "outL-4kkhPde"
   },
   "outputs": [],
   "source": [
    "def update_priority(waiting_patients, patient, change):\n",
    "    \"\"\" (dict{str: int}, str, int) -> str\n",
    "    \n",
    "    Change the priority of patient in the dictionary waiting_patients\n",
    "    by adding change, which could be positive or negative.\n",
    "\n",
    "    If this causes the priority of this patient to be greater than 10,\n",
    "    return the string \"ALERT: Patient with high priority\", otherwise return the string \"Priority updated\".\n",
    "\n",
    "    If patient is not in waiting_patients, add in the patient \n",
    "    with this absolute priority.\n",
    "    \"\"\"\n",
    "    # Write your code here:\n",
    "\n"
   ]
  },
  {
   "cell_type": "code",
   "execution_count": null,
   "metadata": {
    "id": "8yyMAbZkhPsQ"
   },
   "outputs": [],
   "source": [
    "# Test your update_priority function in this cell:\n",
    "\n"
   ]
  },
  {
   "cell_type": "markdown",
   "metadata": {},
   "source": [
    "#### Run the hidden code cell to evaluate update_priority ####"
   ]
  },
  {
   "cell_type": "code",
   "execution_count": null,
   "metadata": {
    "cellView": "form",
    "id": "_ZA4tSZphQ5x",
    "jupyter": {
     "source_hidden": true
    }
   },
   "outputs": [],
   "source": [
    "#@title Run this cell to evaluate update_priority\n",
    "# (Do not edit this cell)\n",
    "score = 0\n",
    "max = 5\n",
    "\n",
    "wp = {\"P1\":4, \"P2\":5}\n",
    "ret = update_priority(wp, \"P1\", 2)\n",
    "result = wp[\"P1\"] == 6 and wp[\"P2\"] == 5 and ret == \"Priority updated\"\n",
    "score += test(\"increasing existing patient to less than 10\", result, True)\n",
    "\n",
    "wp = {\"P1\":4, \"P2\":5}\n",
    "ret = update_priority(wp, \"P2\", 7)\n",
    "result = wp[\"P1\"] == 4 and wp[\"P2\"] == 12 and ret == \"ALERT: Patient with high priority\"\n",
    "score += test(\"increasing existing patient to > 10\", result, True)\n",
    "\n",
    "wp = {\"P1\":4, \"P2\":5}\n",
    "ret = update_priority(wp, \"P3\", 2)\n",
    "result = wp == {\"P1\":4, \"P2\":5, \"P3\":2} and ret == \"Priority updated\"\n",
    "score += test(\"adding patient with less than 10\", result, True)\n",
    "\n",
    "wp = {\"P1\":4, \"P2\":5}\n",
    "ret = update_priority(wp, \"P3\", 12)\n",
    "result = wp == {\"P1\":4, \"P2\":5, \"P3\":12} and ret == \"ALERT: Patient with high priority\"\n",
    "score += test(\"adding patient with > 10\", result, True)\n",
    "\n",
    "wp = {\"P1\":4, \"P2\":5}\n",
    "ret = update_priority(wp, \"P1\", 6)\n",
    "result = wp[\"P1\"] == 10 and wp[\"P2\"] == 5 and ret == \"Priority updated\"\n",
    "score += test(\"increasing existing patient to exactly 10\", result, True)\n",
    "\n",
    "if score == max:\n",
    "  print(\"All test cases passed!\")\n",
    "print(\"Mark: \" + str(score) + \"/\" + str(max))"
   ]
  },
  {
   "cell_type": "markdown",
   "metadata": {
    "id": "GTQ07gweXML3"
   },
   "source": [
    "## Phase II: Exercise Set 3 - Inverting a Dictionary ##"
   ]
  },
  {
   "cell_type": "markdown",
   "metadata": {
    "id": "c2z5s5AIiYyW"
   },
   "source": [
    "### Managing Medications ###\n",
    "\n",
    "**Refer to this video to learn how to invert a dictionary**\n",
    "\n",
    "\n",
    "*   https://play.library.utoronto.ca/download/ZNuabdtIfubt\n",
    "\n",
    "Managing all the medications in a hospital is quite a challenge. Each patient takes multiple different medications and we need enough of each medication for all the patients who require it. In this question, we have a dictionary connecting patients to the lists of their medications. Your task is to write a function that produces a dictionary where each key is a medication and each value is the list of patients who require that medication.\n",
    "\n",
    "Complete the function below including writing a description"
   ]
  },
  {
   "cell_type": "code",
   "execution_count": null,
   "metadata": {
    "id": "wauaLiVXiZO-"
   },
   "outputs": [],
   "source": [
    "def reorder_by_medication(patient_to_medications):\n",
    "    \"\"\" (dict of {str: list of str}) -> dict of {str: list of str}\n",
    "\n",
    "    >>> reorder_by_medication({'Patient1': [\"Lasix\", \"Ativan\"], 'Patient2': [\"Ativan\"]})\n",
    "    {'Lasix':['Patient1'], 'Ativan':['Patient1', 'Patient2']}\n",
    "    \"\"\"\n",
    "    # Write your code here:\n",
    "\n"
   ]
  },
  {
   "cell_type": "code",
   "execution_count": null,
   "metadata": {
    "id": "Gb4ZpJFxiZjz"
   },
   "outputs": [],
   "source": [
    "# Test your reorder_by_medication function in this cell:\n",
    "\n"
   ]
  },
  {
   "cell_type": "markdown",
   "metadata": {},
   "source": [
    "#### Run the hidden code cell to evaluate reorder_by_medications ####"
   ]
  },
  {
   "cell_type": "code",
   "execution_count": null,
   "metadata": {
    "cellView": "form",
    "id": "NgjwxH6jiciz",
    "jupyter": {
     "source_hidden": true
    }
   },
   "outputs": [],
   "source": [
    "#@title Run this cell to evaluate reorder_by_medication\n",
    "# (Do not edit this cell)\n",
    "score = 0\n",
    "max = 4\n",
    "\n",
    "score += test(\"1 patient, 1 med\", reorder_by_medication( {'Patient1': [\"Lasix\"] } ), {'Lasix' : ['Patient1'] })\n",
    "score += test(\"one patient, multiple meds\", reorder_by_medication({'Patient1':[\"Lasix\", \"Ativan\"] } ), { 'Lasix' : ['Patient1'] , 'Ativan' : ['Patient1'] }  )\n",
    "\n",
    "output = reorder_by_medication({'Patient1':[\"Ativan\"], 'Patient2':[\"Ativan\"]}) \n",
    "for val in output.values():\n",
    "\tval.sort()\n",
    "score += test(\"one med, multiple patients\",  output, {'Ativan' : [ 'Patient1', 'Patient2' ] }  )\n",
    "\n",
    "output = reorder_by_medication({'Patient1':[\"Lasix\", \"Ativan\"], 'Patient2':[\"Ativan\"], 'Patient3': [], 'Patient4': ['Lasix'] } )\n",
    "for val in output.values():\n",
    "\tval.sort() \n",
    "score += test(\"multiple patients, multiple meds\",output, { 'Lasix' : ['Patient1', 'Patient4'] , 'Ativan' : ['Patient1', 'Patient2'] })\n",
    "\n",
    "if score == max:\n",
    "  print(\"All test cases passed!\")\n",
    "print(\"Mark: \" + str(score) + \"/\" + str(max))"
   ]
  },
  {
   "cell_type": "markdown",
   "metadata": {
    "id": "w0gmV_f9yJwu"
   },
   "source": [
    "# Homework Completion #"
   ]
  },
  {
   "cell_type": "markdown",
   "metadata": {},
   "source": [
    "#### Run the hidden code cell once you've completed all the functions. Once you get full marks, upload the notebook to MarkUs."
   ]
  },
  {
   "cell_type": "code",
   "execution_count": null,
   "metadata": {
    "cellView": "form",
    "id": "1nPQEMQkuBjr",
    "jupyter": {
     "source_hidden": true
    }
   },
   "outputs": [],
   "source": [
    "#@title Homework Completion Cell (Run this and screenshot it to show the homework is complete.)\n",
    "score = 0\n",
    "max = 55\n",
    "\n",
    "try:\n",
    "\n",
    "  score += test(\"No digits\", count_digits(\"abc\"), 0)\n",
    "  score += test(\"One digit -- in the middle of string\", count_digits(\"a1b\"), 1)\n",
    "  score += test(\"Empty string\", count_digits(\"\"), 0)\n",
    "  score += test(\"Multiple digits\", count_digits(\"2ab1cd2\"), 3)\n",
    "  score += test(\"Non alphanumeric characters\", count_digits('$4.99'), 3)\n",
    "  score += test(\"All digits\", count_digits(\"111\"), 3)\n",
    "\n",
    "  score += test(\"From docstring.\", more_upper_or_lower('A-B-cABC-d-?'), 'lower')\n",
    "  score += test(\"From docstring 2\", more_upper_or_lower('ABABCdd?'), 'tie')\n",
    "  score += test(\"No hyphens\", more_upper_or_lower('ABABCdd?'), 'tie')\n",
    "  score += test(\"Empty parameter\", more_upper_or_lower(''), 'tie')\n",
    "  score += test(\"Single upper\", more_upper_or_lower('-A'), 'upper')\n",
    "  score += test(\"Adjacent hyphens\", more_upper_or_lower('--A'), 'upper')\n",
    "  score += test(\"Tie with non-zero counts\", more_upper_or_lower('-Aa-a'), 'tie')\n",
    "  score += test(\"Only considering chars following hyphens\", more_upper_or_lower('-a-a-AAAAA'), 'lower')\n",
    "\n",
    "  score += test(\"example from description\", transform_DNA(\"ATGCm1TCh2ATGTCAgATGaTCCCAeATGAAeATeAC\"), \"ATGCCGTCCGATGTCATATGATCCCATATGAATATTAC\")\n",
    "  score += test(\"mouse embryonic stem cells\", transform_DNA(\"ATGCeATCCGATGTCAgATGTACCCAgATGAAeATeAC\"), \"ATGCTATCCGATGTCATATGTACCCATATGAATATTAC\")\n",
    "  score += test(\"mouse: only C and G modifications\", transform_DNA(\"ATGCm1TCCGATGTCAh2TGTACCCAf3TGAAc4TmTA\"), \"ATGCCGTCCGATGTCACGTGTACCCACGTGAACGTCTA\")\n",
    "  score += test(\"Simple example\", transform_DNA(\"Cm1T\"), \"CCGT\")\n",
    "  score += test(\"No letters to transform\", transform_DNA(\"CCCACGT\"), \"CCCACGT\")\n",
    "\n",
    "\n",
    "  score += test(\"Example 1 from description\", get_anonymized_list(\"Abbondanza,Marco,50,M,654789456,70kg,Italy,Ophthalmologist,Eye Surgeon\"), ['50', 'M', '70kg', 'Italy', 'Ophthalmologist', 'Eye Surgeon'])\n",
    "  score += test(\"Example 2 from Description\", get_anonymized_list(\"Apgar,Virginia,40,F,4564789,60kg,United States,Anesthesiologist\"), ['40', 'F', '60kg', 'United States', 'Anesthesiologist'])\n",
    "\n",
    "  score += test(\"no patients\", no_side_effects_found({}), True)\n",
    "  score += test(\"One patient, no symptoms\", no_side_effects_found({\"a\": []}), True)\n",
    "  score += test(\"Two patients no symptoms\", no_side_effects_found( {\"a\": [], \"b\": []}), True)\n",
    "  score += test(\"One patient, symptoms\", no_side_effects_found( {\"a\": [\"1\"]}), False)\n",
    "  score += test(\"Mostly no symptoms\", no_side_effects_found({\"a\": [], \"b\": [], \"c\": [], \"d\": [], \"e\":[\"1\", \"2\", \"3\"]}), False)\n",
    "\n",
    "  score += test(\"Typical case\", ndays_high_hr([54, 50, 45, 100, 70, 95], 90), 2)\n",
    "  score += test(\"zero output\", ndays_high_hr([50, 60, 40], 65), 0)\n",
    "  score += test(\"empty input\", ndays_high_hr([], 65), 0)\n",
    "  score += test(\"Some rates equal to the threshold\", ndays_high_hr([50, 50, 50], 50), 3  )\n",
    "\n",
    "  score += test(\"Typical case\", get_words_by_subword([\"neuropathology\", \"osteopathology\", \"capybaras\", \"plain old pathology\"], \"pathology\"), [\"neuropathology\", \"osteopathology\", \"plain old pathology\"])\n",
    "  score += test(\"Empty list\", get_words_by_subword([], \"giraffe\"), [])\n",
    "  score += test(\"Returning an empty list\", get_words_by_subword([\"surgery\", \"physical exam\"], \"germs\"), [])\n",
    "  score += test(\"Entire list should be returned\", get_words_by_subword([\"abc\", \"abcdef\", \"abcdefg\"], \"abc\"), [\"abc\", \"abcdef\", \"abcdefg\"])\n",
    "\n",
    "\n",
    "  meds = [\"paracetamol\", \"ibuprofen\", \"advil (tm)\"] \n",
    "  capitalize_brandnames(meds)\n",
    "  score += test(\"Given example\", meds, [\"paracetamol\", \"ibuprofen\", \"Advil (tm)\"])\n",
    "\n",
    "  meds = [\"a\", \"b\"]\n",
    "  capitalize_brandnames(meds)\n",
    "  score += test(\"Nothing to capitalize\", meds,  [\"a\", \"b\"])\n",
    "\n",
    "  meds = []\n",
    "  capitalize_brandnames(meds)\n",
    "  score += test(\"Empty list\", meds,  [])\n",
    "\n",
    "  score += test(\"Typical case\", oversubscribed_physicians( {\"Dr. House\": [\"Alice\", \"Adam\", \"Aaron\"], \"Dr. McCoy\": [\"Bob\", \"Beatrice\"], \"Dr. Livesey\": [\"Chloe\", \"Cameron\", \"Constantine\", \"Cleopatra\"]} , 2), [\"Dr. House\", \"Dr. Livesey\"])  \n",
    "  score += test(\"All have less than or the same as max\", oversubscribed_physicians({\"Dr. House\": [\"Alice\", \"Adam\", \"Aaron\"], \"Dr. McCoy\": [\"Bob\", \"Beatrice\"], \"Dr. Livesey\": [\"Chloe\", \"Cameron\", \"Constantine\", \"Cleopatra\"]} , 4), [])  \n",
    "  score += test(\"All have more than max\", oversubscribed_physicians({\"D\": [\"a\", \"b\", \"c\"], \"B\": [\"d\", \"e\"], \"C\": [\"f\", \"g\"], \"A\":[\"h\", \"i\", \"j\", \"k\"]}, 1), [\"A\", \"B\", \"C\", \"D\"])\n",
    "\n",
    "  patient_symptoms = {\"Alice Z.\": [\"fever\"], \"Bob Y.\": [\"nausea\", \"lightheadedness\"], \"Carl X.\": [\"fever\", \"nausea\"], \"Diana W.\": [], \"Eve V.\": [\"headache\", \"nausea\"], \"Frank U.\": [\"fever\", \"nausea\"], \"Greg T.\": [\"gangrene\"]}\n",
    "  dangerous_symptoms = [\"gangrene\", \"cardiac arrest\"]\n",
    "  copy_ds = dangerous_symptoms[:]\n",
    "  result = dangerous_symptoms_found(patient_symptoms, dangerous_symptoms)\n",
    "  score += test(\"From problem description 1\", (copy_ds == dangerous_symptoms) and result, True)  \n",
    "\n",
    "  patients = {\"a\": [], \"b\": [\"1\"], \"c\": [\"2\", \"3\"]}\n",
    "  dangerous = [\"1\"]\n",
    "  result = dangerous_symptoms_found(patients,dangerous)\n",
    "  score += test(\"One dangerous symptom\", result, True)  \n",
    "\n",
    "  patients = {\"a\": [], \"b\": [\"1\"], \"c\": [\"2\", \"3\"]}\n",
    "  dangerous = [\"4\"]\n",
    "  result = dangerous_symptoms_found(patients,dangerous)\n",
    "  score += test(\"No dangerous symptoms\", result, False)  \n",
    "\n",
    "  patients = {\"a\": [], \"b\": [\"1\"], \"c\": [\"2\", \"3\"]}\n",
    "  dangerous = [\"3\"]\n",
    "  result = dangerous_symptoms_found(patients,dangerous)\n",
    "  score += test(\"Dangerous symptom not first in list\", result, True)  \n",
    "\n",
    "  patients = {\"a\": [], \"b\": [\"1\"], \"c\": [\"2\", \"3\"]}\n",
    "  dangerous = []\n",
    "  result = dangerous_symptoms_found(patients,dangerous)\n",
    "  score += test(\"No dangerous symptoms exist at all\", result, False)  \n",
    "\n",
    "  patients = {\"a\": [], \"b\": [\"1\"], \"c\": [\"2\", \"3\"]}\n",
    "  dangerous = ['4', '5', '6', '7', '3']\n",
    "  result = dangerous_symptoms_found(patients,dangerous)\n",
    "  score += test(\"First dangerous symptom not found, but later one is found\", result, True)\n",
    "\n",
    "  wp = {\"P1\":4, \"P2\":5}\n",
    "  ret = update_priority(wp, \"P1\", 2)\n",
    "  result = wp[\"P1\"] == 6 and wp[\"P2\"] == 5 and ret == \"Priority updated\"\n",
    "  score += test(\"increasing existing patient to less than 10\", result, True)\n",
    "\n",
    "  wp = {\"P1\":4, \"P2\":5}\n",
    "  ret = update_priority(wp, \"P2\", 7)\n",
    "  result = wp[\"P1\"] == 4 and wp[\"P2\"] == 12 and ret == \"ALERT: Patient with high priority\"\n",
    "  score += test(\"increasing existing patient to > 10\", result, True)\n",
    "\n",
    "  wp = {\"P1\":4, \"P2\":5}\n",
    "  ret = update_priority(wp, \"P3\", 2)\n",
    "  result = wp == {\"P1\":4, \"P2\":5, \"P3\":2} and ret == \"Priority updated\"\n",
    "  score += test(\"adding patient with less than 10\", result, True)\n",
    "\n",
    "  wp = {\"P1\":4, \"P2\":5}\n",
    "  ret = update_priority(wp, \"P3\", 12)\n",
    "  result = wp == {\"P1\":4, \"P2\":5, \"P3\":12} and ret == \"ALERT: Patient with high priority\"\n",
    "  score += test(\"adding patient with > 10\", result, True)\n",
    "\n",
    "  wp = {\"P1\":4, \"P2\":5}\n",
    "  ret = update_priority(wp, \"P1\", 6)\n",
    "  result = wp[\"P1\"] == 10 and wp[\"P2\"] == 5 and ret == \"Priority updated\"\n",
    "  score += test(\"increasing existing patient to exactly 10\", result, True)\n",
    "\n",
    "  score += test(\"1 patient, 1 med\", reorder_by_medication( {'Patient1': [\"Lasix\"] } ), {'Lasix' : ['Patient1'] })\n",
    "  score += test(\"one patient, multiple meds\", reorder_by_medication({'Patient1':[\"Lasix\", \"Ativan\"] } ), { 'Lasix' : ['Patient1'] , 'Ativan' : ['Patient1'] }  )\n",
    "\n",
    "  output = reorder_by_medication({'Patient1':[\"Ativan\"], 'Patient2':[\"Ativan\"]}) \n",
    "  for val in output.values():\n",
    "    val.sort()\n",
    "  score += test(\"one med, multiple patients\",  output, {'Ativan' : [ 'Patient1', 'Patient2' ] }  )\n",
    "\n",
    "  output = reorder_by_medication({'Patient1':[\"Lasix\", \"Ativan\"], 'Patient2':[\"Ativan\"], 'Patient3': [], 'Patient4': ['Lasix'] } )\n",
    "  for val in output.values():\n",
    "    val.sort() \n",
    "  score += test(\"multiple patients, multiple meds\",output, { 'Lasix' : ['Patient1', 'Patient4'] , 'Ativan' : ['Patient1', 'Patient2'] })\n",
    "\n",
    "\n",
    "except NameError:\n",
    "  print(\"Oops! It seems like some of your functions are not implemented.\")\n",
    "\n",
    "if score == max:\n",
    "  print(\"Congratulations! All tests passed. Homework Complete!\")\n",
    "elif score == 0:\n",
    "   print(\"\")\n",
    "else:\n",
    "  print(\"Some of your functions are working, but all test cases haven't passed yet. Keep on trying!\")\n",
    "\n",
    "print(\"Mark: \" + str(score) + \"/\" + str(max))"
   ]
  }
 ],
 "metadata": {
  "colab": {
   "authorship_tag": "ABX9TyPC2B0/MXZ1L7fSub1ukush",
   "collapsed_sections": [
    "xu4bqAIIW_Q1",
    "UB2weXU7XMlV",
    "mi5GaXzLXg1d",
    "pxmwwv3VYVF5",
    "zNqLRwboYV_D",
    "XHfdlJKOYXGI",
    "BOmjwANZXMbj",
    "0Io9fVEEbj3u",
    "6CsS1eEFbk7L",
    "8k6G2foxbmpb",
    "D4ehh0JvfBNj",
    "W_oJiwNEXMUQ",
    "qILYtJLff51u",
    "fOaUfmQHhPEJ",
    "GTQ07gweXML3",
    "c2z5s5AIiYyW",
    "w0gmV_f9yJwu"
   ],
   "name": "Phase II : Project 1 Preparation Exercises",
   "provenance": []
  },
  "kernelspec": {
   "display_name": "Python 3",
   "language": "python",
   "name": "python3"
  },
  "language_info": {
   "codemirror_mode": {
    "name": "ipython",
    "version": 3
   },
   "file_extension": ".py",
   "mimetype": "text/x-python",
   "name": "python",
   "nbconvert_exporter": "python",
   "pygments_lexer": "ipython3",
   "version": "3.6.13"
  }
 },
 "nbformat": 4,
 "nbformat_minor": 4
}
