{
 "cells": [
  {
   "cell_type": "markdown",
   "metadata": {
    "id": "S53yKXI1NEf-"
   },
   "source": [
    "# Instructions #\n",
    "This notebook contains a list of exercises to be completed. \n",
    "\n",
    "On the highest level, the notebook is comprised of two sections. The exercise section and completion section.\n",
    "\n",
    "#### Hidden Code ####\n",
    "The notebook contains several hidden code cells, which are displayed as three dots. To run these, select the above cell and press run twice (either by the buttons on the top, or the \"shift\" + \"return\" hotkey). Once the hidden code cell runs, a message such as \"Done\" or your evaluation results should appear. If the code expands, please collapse it using the column on the left. You don't need to edit or understand the code in these cells. \n",
    "\n",
    "#### Starting out ####\n",
    "The first cell in the exercise section is titled \"Run the hidden code cell before starting\". This should be run everytime a new kernel/runtime is started. If run correctly, the message \"Done!\" should appear underneath.\n",
    "\n",
    "#### Exercises ####\n",
    "This is followed by all the exercises of the notebook. An exercise generally consists of 4 cells. \n",
    "1.   The first cell provides a description of the function you need to implement. \n",
    "2.   The second cell contains the starter code, and contains a comment indicating where you should write your code. Your entire implementation will go in this cell. \n",
    "3.   The third cell is a testing cell for your own testing. Feel free to write any code you like here to test your function is working correctly.\n",
    "4.   The last cell contains hidden code to run test cases on your function. This cell, when run, will provide a mark on your implementation. If implemented correctly, you should get full marks.\n",
    "\n",
    "#### Completion ####\n",
    "The completion cell runs all the test cases in the notebook on all the functions. If this cell returns full marks, this means the notebook is complete. Once complete, upload this notebook to MarkUs."
   ]
  },
  {
   "cell_type": "markdown",
   "metadata": {
    "id": "FdttaiwQ94oq"
   },
   "source": [
    "# Phase I: Level 2 Session 3 Homework #"
   ]
  },
  {
   "cell_type": "markdown",
   "metadata": {},
   "source": [
    "#### Run the hidden code cell before starting ####"
   ]
  },
  {
   "cell_type": "code",
   "execution_count": null,
   "metadata": {
    "cellView": "form",
    "id": "CR3MVg81IvWX",
    "jupyter": {
     "source_hidden": true
    }
   },
   "outputs": [],
   "source": [
    "#@title Run this cell before starting. \n",
    "def test(test_name, actual, expected):\n",
    "  if(actual == expected):\n",
    "    return 1\n",
    "  else:\n",
    "    print(\"Test failed. \" + test_name + \" expected \" + str(expected) + \", got \" + str(actual))\n",
    "    return 0\n",
    "\n",
    "print(\"Done!\")"
   ]
  },
  {
   "cell_type": "markdown",
   "metadata": {
    "id": "9o5aGser99Hr"
   },
   "source": [
    "## Match DNA ##"
   ]
  },
  {
   "cell_type": "markdown",
   "metadata": {
    "id": "4IWibuyG-Vr_"
   },
   "source": [
    "Problems that involve writing a for loop to iterate over each character in a string"
   ]
  },
  {
   "cell_type": "markdown",
   "metadata": {
    "id": "e5XRS3Zb-Zdd"
   },
   "source": [
    "### match_at ###\n",
    "Write the function match_at with the signature match_at(seq, subseq, i). Function match_at should return True if the string subseq is found within the string seq starting at position i in seq and False otherwise.\n"
   ]
  },
  {
   "cell_type": "code",
   "execution_count": null,
   "metadata": {
    "id": "J1rJSNIJ-fC_"
   },
   "outputs": [],
   "source": [
    "def match_at(seq, subseq, i):\n",
    "    \"\"\" (str, str, int) -> bool\n",
    "    \n",
    "    Return True iff subseq occurs in seq at i.\n",
    "    \n",
    "    >>> match_at('doctor', 'doc', 0)\n",
    "    True\n",
    "    >>> match_at('October', 'tob', 1)\n",
    "    False\n",
    "    >>> match_at('October', 'be', 4)\n",
    "    True\n",
    "    \"\"\"\n",
    "    # Write your code here:\n",
    "\n",
    "\n",
    "\n"
   ]
  },
  {
   "cell_type": "code",
   "execution_count": null,
   "metadata": {
    "id": "bm9iEPe4-fog"
   },
   "outputs": [],
   "source": [
    "# Test your match_at function in this cell:\n",
    "\n"
   ]
  },
  {
   "cell_type": "markdown",
   "metadata": {},
   "source": [
    "#### Run the hidden code cell to evaluate match_at ####"
   ]
  },
  {
   "cell_type": "code",
   "execution_count": null,
   "metadata": {
    "cellView": "form",
    "id": "HvpulZ2O_rbI",
    "jupyter": {
     "source_hidden": true
    }
   },
   "outputs": [],
   "source": [
    "#@title Run this cell to evaluate match_at\n",
    "# (Do not edit this cell)\n",
    "score = 0\n",
    "max = 6\n",
    "\n",
    "score += test(\"Found where i is in the middle.\", match_at(\"AACTGATT\", 'AC', 1), True)\n",
    "score += test(\"Not found at i but present earlier in seq\", match_at(\"CCGATATC\", \"CG\", 2), False)\n",
    "score += test(\"Found at end of seq\", match_at(\"AGATT\", \"TT\", 3), True)\n",
    "score += test(\"same length and i not 0\", match_at(\"AACT\", \"AATC\", 2), False)\n",
    "score += test(\"subseq shorter but i close to end\", match_at(\"ACGT\", \"GT\", 3), False)\n",
    "score += test(\"Index beyond bounds of seq\", match_at(\"CCTAG\", \"C\", 7), False)\n",
    "\n",
    "if score == max:\n",
    "  print(\"All test cases passed!\")\n",
    "print(\"Mark: \" + str(score) + \"/\" + str(max))"
   ]
  },
  {
   "cell_type": "markdown",
   "metadata": {
    "id": "bi-ufomT-gzS"
   },
   "source": [
    "### Match DNA ###\n",
    "\n",
    "Write a function with the signature match_dna(seq1, seq2) that has two str parameters that represent DNA sequences, and returns True if and only if one of them is a subsequence of the other (i.e., if seq1 is a subsequence of seq2, or vice versa).\n",
    "\n",
    "Hint: use the match_at function that you just wrote. Call match_at at every possible index, using a for loop. Don't change match_at, just call it."
   ]
  },
  {
   "cell_type": "code",
   "execution_count": null,
   "metadata": {
    "id": "ej5j_Mlp-hW8"
   },
   "outputs": [],
   "source": [
    "def match_dna(seq1, seq2):\n",
    "    \"\"\"\n",
    "    \"\"\"\n",
    "    # Write your code here:\n",
    "\n"
   ]
  },
  {
   "cell_type": "code",
   "execution_count": null,
   "metadata": {
    "id": "hC2vEjuH-hmr"
   },
   "outputs": [],
   "source": [
    "# Test your match_dna function in this cell:\n",
    "\n"
   ]
  },
  {
   "cell_type": "markdown",
   "metadata": {},
   "source": [
    "#### Run the hidden code cell to evaluate match_dna ####"
   ]
  },
  {
   "cell_type": "code",
   "execution_count": null,
   "metadata": {
    "cellView": "form",
    "id": "-dMw8ock5I2s",
    "jupyter": {
     "source_hidden": true
    }
   },
   "outputs": [],
   "source": [
    "#@title Run this cell to evaluate match_dna\n",
    "# (Do not edit this cell)\n",
    "score = 0\n",
    "max = 8\n",
    "\n",
    "score += test(\"full match\", match_dna('CGTA', 'CGTA'), True)\n",
    "score += test(\"seq2 in seq1 in middle\", match_dna('CCCCCGTACCCCCC', 'GTA'), True)\n",
    "score += test(\"seq1 in seq2 in middle\", match_dna('GTA', 'CCCCCGTACCCCCC'), True)\n",
    "score += test(\"seq1 in seq2 at end\", match_dna('TTG', 'CCCCCCCCCCCTTG'), True)\n",
    "score += test(\"seq2 in seq1 near end\", match_dna('TTTTTTTTTTTTTTGAGGT','GAGG'), True)\n",
    "score += test(\"no match -- not even any overlap\", match_dna('ATTTAAT','CCG'), False)\n",
    "score += test(\"Almost match of seq1 in seq2\", match_dna('CGGAT', 'TTTCGGAAA'), False)\n",
    "score += test(\"Almost match at end of seq 2 in seq1\", match_dna('AACGC','CGCC'), False)\n",
    "\n",
    "if score == max:\n",
    "  print(\"All test cases passed!\")\n",
    "print(\"Mark: \" + str(score) + \"/\" + str(max))"
   ]
  },
  {
   "cell_type": "markdown",
   "metadata": {
    "id": "juRVayKp99Y8"
   },
   "source": [
    "## Obfuscating Text ##"
   ]
  },
  {
   "cell_type": "markdown",
   "metadata": {
    "id": "mi57PRbgBe0s"
   },
   "source": [
    "### Is it a vowel? ###\n",
    "\n",
    "Write a function named is_vowel that takes a one character string as a parameter and returns True if the character is a vowel and False otherwise. For the purposes of this question, we will assume that y is not a vowel.\n",
    "\n",
    "You may assume that the function will only be called on strings of length 1."
   ]
  },
  {
   "cell_type": "code",
   "execution_count": 2,
   "metadata": {
    "id": "jEUvFe4zBfNO"
   },
   "outputs": [],
   "source": [
    "# Write your code here:\n",
    "def is_vowel(ch):\n",
    "    \"\"\"\n",
    "    \n",
    "    \"\"\"\n"
   ]
  },
  {
   "cell_type": "code",
   "execution_count": null,
   "metadata": {
    "id": "O5i4N5tqBffa"
   },
   "outputs": [],
   "source": [
    "# Test your is_vowel function in this cell:\n",
    "\n"
   ]
  },
  {
   "cell_type": "markdown",
   "metadata": {},
   "source": [
    "#### Run the hidden code cell to evaluate is_vowel ####"
   ]
  },
  {
   "cell_type": "code",
   "execution_count": null,
   "metadata": {
    "cellView": "form",
    "id": "QAyCEmlQCXaO",
    "jupyter": {
     "source_hidden": true
    }
   },
   "outputs": [],
   "source": [
    "#@title Run this cell to evaluate def is_vowel\n",
    "# (Do not edit this cell)\n",
    "score = 0\n",
    "max = 7\n",
    "\n",
    "score += test(\"lowercase vowel\", is_vowel('e'), True)\n",
    "score += test(\"lowercase o\", is_vowel('o'), True)\n",
    "score += test(\"uppercase A\", is_vowel('A'), True)\n",
    "score += test(\"uppercase U\", is_vowel('U'), True)\n",
    "score += test(\"lowercase consonant\", is_vowel('t'), False)\n",
    "score += test(\"uppercase consonant\", is_vowel('P'), False)\n",
    "score += test(\"non alpha charact\", is_vowel('%'), False)\n",
    "\n",
    "if score == max:\n",
    "  print(\"All test cases passed!\")\n",
    "print(\"Mark: \" + str(score) + \"/\" + str(max))"
   ]
  },
  {
   "cell_type": "markdown",
   "metadata": {
    "id": "zrzteArnBf2I"
   },
   "source": [
    "### Disemvoweling ###\n",
    "\n",
    "Write a function remove_vowels that takes a string as the only parameter and returns a string that is the same characters as the input string (in the same order) but all the vowels have been removed.\n",
    "\n",
    "Here is one example remove_vowels('alphabet') should return 'lphbt'\n",
    "\n",
    "Solve this problem by copying your working code for is_vowel (from the last problem) here and then calling is_vowel from the body of remove_vowels."
   ]
  },
  {
   "cell_type": "code",
   "execution_count": 4,
   "metadata": {
    "id": "MlRzvI5LBgKg"
   },
   "outputs": [],
   "source": [
    "# Write your code here:\n",
    "def remove_vowels(original):\n",
    "    \"\"\"\n",
    "    \n",
    "    \"\"\"\n"
   ]
  },
  {
   "cell_type": "code",
   "execution_count": null,
   "metadata": {
    "id": "Ha7fuBI5BgbN"
   },
   "outputs": [],
   "source": [
    "# Test your remove_vowels function in this cell:\n"
   ]
  },
  {
   "cell_type": "markdown",
   "metadata": {},
   "source": [
    "#### Run the hidden code cell to evaluate remove_vowels ####"
   ]
  },
  {
   "cell_type": "code",
   "execution_count": null,
   "metadata": {
    "cellView": "form",
    "id": "sB8iVfTWC5qp",
    "jupyter": {
     "source_hidden": true
    }
   },
   "outputs": [],
   "source": [
    "#@title Run this cell to evaluate remove_vowels\n",
    "# (Do not edit this cell)\n",
    "score = 0\n",
    "max = 6\n",
    "\n",
    "score += test(\"From problem description\", remove_vowels('alphabet'),'lphbt')\n",
    "score += test(\"No vowels\", remove_vowels('bcdfg'),'bcdfg')\n",
    "score += test(\"Uppercase vowels\", remove_vowels('UPPERCASE'),'PPRCS')\n",
    "score += test(\"Vowels in the middle only\", remove_vowels('RemOvEd'),'Rmvd')\n",
    "score += test(\"Leaves non-alpha chars\", remove_vowels('123ABC $1.49!'), '123BC $1.49!')\n",
    "score += test(\"Only vowels\", remove_vowels('AEIOUa'), '')\n",
    "\n",
    "if score == max:\n",
    "  print(\"All test cases passed!\")\n",
    "print(\"Mark: \" + str(score) + \"/\" + str(max))"
   ]
  },
  {
   "cell_type": "markdown",
   "metadata": {
    "id": "e_FN045JBj-b"
   },
   "source": [
    "### Obfuscating Text ###\n",
    "\n",
    "One way to partially disguise text but still leave it readable is to remove all the vowels. This was termed Disemvoweling in a novel back in the 1930's.\n",
    "\n",
    "In this problem, you will write a function called obfuscate that has a single parameter -- a list of strings. The function must not change this list but must return a new list of strings that are the disemvoweled versions of the original strings (in the same order.)\n",
    "\n",
    "To solve this problem, include your solution from the earlier problem remove_vowels and then call your remove_vowels function inside obfuscate."
   ]
  },
  {
   "cell_type": "code",
   "execution_count": 5,
   "metadata": {
    "id": "KDfqZgB0BkRA"
   },
   "outputs": [],
   "source": [
    "# Write your code here:\n",
    "def obfuscate(L):\n",
    "    \"\"\"\n",
    "    \n",
    "    \"\"\"\n"
   ]
  },
  {
   "cell_type": "code",
   "execution_count": null,
   "metadata": {
    "id": "NHdt_XG-BklE"
   },
   "outputs": [],
   "source": [
    "# Test your obfuscate function in this cell:\n",
    "\n"
   ]
  },
  {
   "cell_type": "markdown",
   "metadata": {},
   "source": [
    "#### Run the hidden code cell to evaluate obfuscate ####"
   ]
  },
  {
   "cell_type": "code",
   "execution_count": null,
   "metadata": {
    "cellView": "form",
    "id": "RlEzUkUeD69u",
    "jupyter": {
     "source_hidden": true
    }
   },
   "outputs": [],
   "source": [
    "#@title Run this cell to evaluate obfuscate\n",
    "# (Do not edit this cell)\n",
    "score = 0\n",
    "max = 4\n",
    "\n",
    "score += test(\"one element\", obfuscate(['alphabet']), ['lphbt'])\n",
    "score += test(\"multiple elements -- all have mix of vowels and non-vowels\", obfuscate(['The', 'quick', 'brown', 'fox', 'jumped', 'over']), ['Th', 'qck', 'brwn', 'fx', 'jmpd', 'vr'])\n",
    "score += test(\"empty list\", obfuscate([]), [])\n",
    "score += test(\"multiple elements -- some all vowels\", obfuscate(['Once', 'upon', 'a', 'time', '...']), ['nc', 'pn', '', 'tm', '...'])\n",
    "\n",
    "if score == max:\n",
    "  print(\"All test cases passed!\")\n",
    "print(\"Mark: \" + str(score) + \"/\" + str(max))"
   ]
  },
  {
   "cell_type": "markdown",
   "metadata": {
    "id": "55DyZfXg99gT"
   },
   "source": [
    "## Practice with Functions ##"
   ]
  },
  {
   "cell_type": "markdown",
   "metadata": {
    "id": "Z6t1azLHEcih"
   },
   "source": [
    "### taking_med ###\n",
    "\n",
    "Nursing home residents are often each taking numerous medications. Write a function called taking_med that takes a list of medications that the patient is taking and the name of a single medication (as a string) and returns True if this medication is included in the list. For example if the list is [\"Lasix\", \"Ativan\", \"Zoloft\", \"Synthroid\", \"Remeron\"] and the single name provided is \"Ativan\", then your function should return True. But if your function is called with \"Aricept\" and the same list, it will return False.\n"
   ]
  },
  {
   "cell_type": "code",
   "execution_count": 7,
   "metadata": {
    "id": "tcCw_r9BEc5v"
   },
   "outputs": [],
   "source": [
    "# Write your code here:\n",
    "def taking_med(medication_list, one_to_check):\n",
    "    \"\"\"\n",
    "    \n",
    "    \"\"\"\n"
   ]
  },
  {
   "cell_type": "code",
   "execution_count": null,
   "metadata": {
    "id": "N9UUOy35EdIN"
   },
   "outputs": [],
   "source": [
    "# Test your taking_med function in this cell:\n",
    "\n"
   ]
  },
  {
   "cell_type": "markdown",
   "metadata": {},
   "source": [
    "#### Run the hidden code cell to evaluate taking_med ####"
   ]
  },
  {
   "cell_type": "code",
   "execution_count": null,
   "metadata": {
    "cellView": "form",
    "id": "TA-nXs5KEpmB",
    "jupyter": {
     "source_hidden": true
    }
   },
   "outputs": [],
   "source": [
    "#@title Run this cell to evaluate taking_med\n",
    "# (Do not edit this cell)\n",
    "score = 0\n",
    "max = 3\n",
    "\n",
    "score += test(\"Medication in list\", taking_med([\"Lasix\", \"Ativan\", \"Zoloft\", \"Synthroid\", \"Remeron\"], \"Ativan\"), True)\n",
    "score += test(\"Medication not in list\", taking_med([\"Lasix\", \"Zoloft\"], \"Ativan\"), False)\n",
    "score += test(\"Empty list -- medication not in list\", taking_med([], \"Ativan\"), False)\n",
    "\n",
    "if score == max:\n",
    "  print(\"All test cases passed!\")\n",
    "print(\"Mark: \" + str(score) + \"/\" + str(max))"
   ]
  },
  {
   "cell_type": "markdown",
   "metadata": {
    "id": "0AX1vqSsEdbu"
   },
   "source": [
    "### Two In A Row ###\n",
    "\n",
    "A list represents the queue of patients who signed up to see a doctor at a walk-in clinic. A patient would sometimes sign up twice in a row by mistake. Write a function with the signature two_in_a_row(queue) that returns True if a list contains the same name twice in a row, and False otherwise. For example, two_in_a_row([\"Mike G.\", \"Alice C.\", \"Bob A.\", \"Bob A.\", \"Mary C.\"]) should return True, since the string \"Bob A.\" appears twice in a row, but two_in_a_row([\"Sam A.\", \"Dorothy Z.\"]) should return False."
   ]
  },
  {
   "cell_type": "code",
   "execution_count": 8,
   "metadata": {
    "id": "t3eZfc0REd0n"
   },
   "outputs": [],
   "source": [
    "# Write your code here:\n",
    "def two_in_a_row(queue):\n",
    "    \"\"\"\n",
    "    \n",
    "    \"\"\"\n",
    "\n"
   ]
  },
  {
   "cell_type": "code",
   "execution_count": null,
   "metadata": {
    "id": "yGsvxo0XEeVz"
   },
   "outputs": [],
   "source": [
    "# Test your two_in_a_row function in this cell:\n",
    "\n"
   ]
  },
  {
   "cell_type": "markdown",
   "metadata": {},
   "source": [
    "#### Run the hidden code cell to evaluate two_in_a_row ####"
   ]
  },
  {
   "cell_type": "code",
   "execution_count": null,
   "metadata": {
    "cellView": "form",
    "id": "naTEJ3SWFfZK",
    "jupyter": {
     "source_hidden": true
    }
   },
   "outputs": [],
   "source": [
    "#@title Run this cell to evaluate two_in_a_row\n",
    "# (Do not edit this cell)\n",
    "score = 0\n",
    "max = 6\n",
    "\n",
    "score += test(\"True example from problem description\", two_in_a_row([\"Mike G.\", \"Alice C.\", \"Bob A.\", \"Bob A.\", \"Mary C.\"]), True)\n",
    "score += test(\"False example from problem description.\", two_in_a_row([\"Sam A.\", \"Dorothy Z.\"]), False)\n",
    "score += test(\"Only two items match\", two_in_a_row([\"Sam A.\", \"Sam A.\"]), True)\n",
    "score += test(\"List only has one item\", two_in_a_row([\"Sam A.\"]), False)\n",
    "score += test(\"Last 2 match in long list.\", two_in_a_row([\"Sam A.\", \"Dorothy Z.\", \"Alice C\", \"Bob A.\", \"Mary C\", \"Mary C\"]), True)\n",
    "score += test(\"Long list, no duplicates\", two_in_a_row([\"Sam A.\", \"Dorothy Z.\", \"Alice C\", \"Bob A.\", \"Mary C.\", \"LiYan D.\"]), False)\n",
    "\n",
    "if score == max:\n",
    "  print(\"All test cases passed!\")\n",
    "print(\"Mark: \" + str(score) + \"/\" + str(max))"
   ]
  },
  {
   "cell_type": "markdown",
   "metadata": {
    "id": "7P6d_GXz99oI"
   },
   "source": [
    "## Parallel Lists ##"
   ]
  },
  {
   "cell_type": "markdown",
   "metadata": {
    "id": "Y2FAk4uhGXmZ"
   },
   "source": [
    "### Women 65 and over ###\n",
    "\n",
    "You are analyzing the data from a research study and you have two lists of information about each subject. The first list holds the sex (stored as a string either \"male\" or \"female\") and the second list has the age. The lists are in the same order. In other words, a particular patient occurs at the same index in both lists.\n",
    "\n",
    "Write a function senior_women that returns the number of women in the study who are 65 or over. Your function should take the sex list as the first parameter and the age list as the second."
   ]
  },
  {
   "cell_type": "code",
   "execution_count": 10,
   "metadata": {
    "id": "kh7RR62YGWN5"
   },
   "outputs": [],
   "source": [
    "# Write your code here:\n",
    "def senior_women(sex, age):\n",
    "    \"\"\"\n",
    "    \n",
    "    \"\"\"\n"
   ]
  },
  {
   "cell_type": "code",
   "execution_count": null,
   "metadata": {
    "id": "0HNViCvQGWpd"
   },
   "outputs": [],
   "source": [
    "# Test your senior_women function in this cell:\n",
    "\n"
   ]
  },
  {
   "cell_type": "markdown",
   "metadata": {},
   "source": [
    "#### Run the hidden code cell to evaluate senior_women ####"
   ]
  },
  {
   "cell_type": "code",
   "execution_count": null,
   "metadata": {
    "cellView": "form",
    "id": "NkkJT2tFGmn0",
    "jupyter": {
     "source_hidden": true
    }
   },
   "outputs": [],
   "source": [
    "#@title Run this cell to evaluate senior_women\n",
    "# (Do not edit this cell)\n",
    "score = 0\n",
    "max = 5\n",
    "\n",
    "score += test(\"Some\", senior_women([\"female\", \"female\", \"male\", \"female\", \"female\", \"female\", \"male\"], [70, 40, 66, 80, 25, 22, 39]), 2)\n",
    "score += test(\"Different Some\", senior_women([\"female\", \"female\", \"female\", \"female\", \"female\", \"male\"], [70, 40, 66, 80, 25, 22]), 3)\n",
    "score += test(\"None\", senior_women([\"male\", \"female\", \"female\", \"male\"], [70, 40, 6, 80]), 0)\n",
    "score += test(\"One of Two\", senior_women([\"female\", \"male\"], [80, 80]), 1)\n",
    "score += test(\"Boundary\", senior_women([\"female\", \"female\", \"female\"], [64, 65, 66]), 2)\n",
    "\n",
    "if score == max:\n",
    "  print(\"All test cases passed!\")\n",
    "print(\"Mark: \" + str(score) + \"/\" + str(max))"
   ]
  },
  {
   "cell_type": "markdown",
   "metadata": {
    "id": "MNm0REUsGWEL"
   },
   "source": [
    "### Practicing with Parallel Lists ###\n",
    "Write a function get_bpm that takes two lists as parameters. The first list is a list of temperatures (in degrees C) and the second is a list of measurements of respiratory rate (in breaths per minute). The lists are the same length (greater than zero) and represent corresponding examinations.\n",
    "\n",
    "Your function must find the highest temperature from the list and return the corresponding respiratory rate."
   ]
  },
  {
   "cell_type": "code",
   "execution_count": null,
   "metadata": {
    "id": "IH9-VUaUGZCp"
   },
   "outputs": [],
   "source": [
    "# Write your code here:\n",
    "def get_bpm(temp, bpm):\n",
    "    \"\"\"\n",
    "    \n",
    "    \"\"\"\n"
   ]
  },
  {
   "cell_type": "code",
   "execution_count": null,
   "metadata": {
    "id": "22bG8S0hGZVl"
   },
   "outputs": [],
   "source": [
    "# Test your get_bpm function in this cell:\n"
   ]
  },
  {
   "cell_type": "markdown",
   "metadata": {},
   "source": [
    "#### Run the hidden code cell to evaluate get_bpm ####"
   ]
  },
  {
   "cell_type": "code",
   "execution_count": null,
   "metadata": {
    "cellView": "form",
    "id": "6SZDH6AGHkXB",
    "jupyter": {
     "source_hidden": true
    }
   },
   "outputs": [],
   "source": [
    "#@title Run this cell to evaluate get_bpm\n",
    "# (Do not edit this cell)\n",
    "score = 0\n",
    "max = 3\n",
    "\n",
    "score += test(\"Highest is first.\", get_bpm([39.0, 38.4, 37.4, 38.0], [12, 21, 25, 17]), 12)\n",
    "score += test(\"Highest in the middle\", get_bpm([37.4, 37.5, 36.9], [10, 15, 20]), 15)\n",
    "score += test(\"Highest last\", get_bpm([37.0, 38.1], [15, 14]), 14)\n",
    "\n",
    "if score == max:\n",
    "  print(\"All test cases passed!\")\n",
    "print(\"Mark: \" + str(score) + \"/\" + str(max))"
   ]
  },
  {
   "cell_type": "markdown",
   "metadata": {
    "id": "Vg4ed3Yw99vP"
   },
   "source": [
    "## Nested Lists ##"
   ]
  },
  {
   "cell_type": "markdown",
   "metadata": {
    "id": "dZEtecW5H-Q-"
   },
   "source": [
    "### Lists of even integers ###\n",
    "\n",
    "This problem has you write a nested loop to process a list of list of int, and accumulate a list of list of int. The starter code provides an accumulator for the result and a loop over the lists, and you need to write the code that checks whether sublist contains only even ints.\n",
    "\n",
    "You'll probably want a one-way flag: a Boolean variable that starts out as True and is set to False if you find an odd int in the sublist. You'll need to check the value of this variable to figure out whether to append sublist to the even_lists accumulator."
   ]
  },
  {
   "cell_type": "code",
   "execution_count": null,
   "metadata": {
    "id": "0sq7UFlXH8_l"
   },
   "outputs": [],
   "source": [
    "def only_evens(lst):\n",
    "    \"\"\" (list of list of int) -> list of list of int\n",
    "\n",
    "    Return a list of the lists in lst that contain only even integers. \n",
    "   \n",
    "    >>> only_evens([[1, 2, 4], [4, 0, 6], [22, 4, 3], [2]])\n",
    "    [[4, 0, 6], [2]]\n",
    "    \"\"\"\n",
    "    \n",
    "    even_lists = []\n",
    "\n",
    "    for sublist in lst:\n",
    "    \n",
    "        # write your code here (be sure to read above for a suggested approach)\n",
    "\n",
    "    return even_lists"
   ]
  },
  {
   "cell_type": "code",
   "execution_count": null,
   "metadata": {
    "id": "GrtrvNWyH9JB"
   },
   "outputs": [],
   "source": [
    "# Test your only_evens function in this cell:\n",
    "\n"
   ]
  },
  {
   "cell_type": "markdown",
   "metadata": {},
   "source": [
    "#### Run the hidden code cell to evaluate only_evens ####"
   ]
  },
  {
   "cell_type": "code",
   "execution_count": null,
   "metadata": {
    "cellView": "form",
    "id": "vo6ISyHiIN0Z",
    "jupyter": {
     "source_hidden": true
    }
   },
   "outputs": [],
   "source": [
    "#@title Run this cell to evaluate only_evens\n",
    "# (Do not edit this cell)\n",
    "score = 0\n",
    "max = 4\n",
    "\n",
    "score += test(\"2 lists with only evens, two other lists (hidden test case)\", only_evens([[1, 2, 5], [4, 10, 4], [6], [8, 4, 3]]), [[4, 10, 4], [6]])\n",
    "score += test(\"No sublists\", only_evens([]), [])\n",
    "score += test(\"Empty sublist, which contains no odd ints and therefore should be included in the result.\", only_evens([[]]), [[]])\n",
    "score += test(\"2 lists with only evens, two other lists\", only_evens([[1, 2, 4], [4, 0, 6], [22, 4, 3], [2]]), [[4, 0, 6], [2]])\n",
    "\n",
    "if score == max:\n",
    "  print(\"All test cases passed!\")\n",
    "print(\"Mark: \" + str(score) + \"/\" + str(max))"
   ]
  },
  {
   "cell_type": "markdown",
   "metadata": {
    "id": "cNc6jojwH8uX"
   },
   "source": [
    "### Study Design ###\n",
    "\n",
    "You are running a research study and you want to produce treatment groups that cover all the combinations of attributes. For example, if you have both males and females and both active and inactive participants who are either adults, teens or children, then you have 12 different combinations to consider: male adults who are active, male adults who are inactive, male teens who are active, etc.\n",
    "\n",
    "In the problem, you must write a function that takes 3 attribute lists of strings and produces a list where each sublist is a 3 element list that describes a treatment group. Here is the example above again. The function would be called as:\n",
    "\n",
    "attribute1 = ['male', 'female']\n",
    "attribute2 = ['adult', 'teen', 'child']\n",
    "attribute3 = ['active', 'inactive']\n",
    "design_study(attribute1, attribute2, attribute3)\n",
    "\n",
    "and the following list should be returned:\n",
    "\n",
    "[['male', 'adult', 'active'], ['male', 'adult', 'inactive'], \n",
    "['male', 'teen', 'active'], ['male', 'teen', 'inactive'], \n",
    "['male', 'child', 'active'], ['male', 'child', 'inactive'], \n",
    "['female', 'adult', 'active'], ['female', 'adult', 'inactive'], \n",
    "['female', 'teen', 'active'], ['female', 'teen', 'inactive'], \n",
    "['female', 'child', 'active'], ['female', 'child', 'inactive']]\n",
    "\n",
    "\n",
    "None of the lists passed as arguments to your function are empty."
   ]
  },
  {
   "cell_type": "code",
   "execution_count": 11,
   "metadata": {
    "id": "41oOyfAWH-oC"
   },
   "outputs": [],
   "source": [
    "# Write your code here:\n",
    "def design_study(attribute1, attribute2, attribute3):\n",
    "    \"\"\" \n",
    "    \n",
    "    \"\"\"\n"
   ]
  },
  {
   "cell_type": "code",
   "execution_count": null,
   "metadata": {
    "id": "M9fNd5UuH-4i"
   },
   "outputs": [],
   "source": [
    "# Test your design_study function in this cell:\n",
    "\n"
   ]
  },
  {
   "cell_type": "markdown",
   "metadata": {},
   "source": [
    "#### Run the hidden code cell to evaluate design_study ####"
   ]
  },
  {
   "cell_type": "code",
   "execution_count": null,
   "metadata": {
    "cellView": "form",
    "id": "kximGUJ0PRMk",
    "jupyter": {
     "source_hidden": true
    }
   },
   "outputs": [],
   "source": [
    "#@title Run this cell to evaluate design_study\n",
    "# (Do not edit this cell)\n",
    "score = 0\n",
    "max = 2\n",
    "\n",
    "output = design_study(['male', 'female'], ['adult', 'teen', 'child'], ['active', 'inactive'])\n",
    "for val in output:\n",
    "\tval.sort()\n",
    "\toutput.sort()\n",
    "score += test(\"From problem description\", output, [['active', 'adult', 'female'], ['active', 'adult', 'male'], ['active', 'child', 'female'], ['active', 'child', 'male'], ['active', 'female', 'teen'], ['active', 'male', 'teen'], ['adult', 'female', 'inactive'], ['adult', 'inactive', 'male'], ['child', 'female', 'inactive'], ['child', 'inactive', 'male'], ['female', 'inactive', 'teen'], ['inactive', 'male', 'teen']])\n",
    "\n",
    "\n",
    "output = design_study(['A1', 'A2', 'A3'], ['B1', 'B2','B3', 'B4'], ['C1'])\n",
    "for val in output:\n",
    "\tval.sort()\n",
    "\toutput.sort() \n",
    "score += test(\"Another example with different sizes\", output, [['A1', 'B1', 'C1'], ['A1', 'B2', 'C1'], ['A1', 'B3', 'C1'], ['A1', 'B4', 'C1'], ['A2', 'B1', 'C1'], ['A2', 'B2', 'C1'], ['A2', 'B3', 'C1'], ['A2', 'B4', 'C1'], ['A3', 'B1', 'C1'], ['A3', 'B2', 'C1'], ['A3', 'B3', 'C1'], ['A3', 'B4', 'C1']])\n",
    "\n",
    "if score == max:\n",
    "  print(\"All test cases passed!\")\n",
    "print(\"Mark: \" + str(score) + \"/\" + str(max))"
   ]
  },
  {
   "cell_type": "markdown",
   "metadata": {
    "id": "nify7n-Q994E"
   },
   "source": [
    "## While loops ##"
   ]
  },
  {
   "cell_type": "markdown",
   "metadata": {
    "id": "1afGPz3oQR9r"
   },
   "source": [
    "### every_nth_character ###\n",
    "\n",
    "Complete the body for the following function."
   ]
  },
  {
   "cell_type": "code",
   "execution_count": null,
   "metadata": {
    "id": "cKL6fbF-QSZP"
   },
   "outputs": [],
   "source": [
    "def every_nth_character(s, n):\n",
    "    \"\"\" (str, int) -> str\n",
    "\n",
    "    Return every nth character in s starting at index 0.\n",
    "\n",
    "    >>> every_nth_character('Computer Science', 3)\n",
    "    'CpeSee'\n",
    "    \"\"\"\n",
    "\n",
    "    result = ''\n",
    "    i = 0\n",
    "\n",
    "    #TODO add the rest of the code here\n",
    "\n",
    "    return result"
   ]
  },
  {
   "cell_type": "code",
   "execution_count": null,
   "metadata": {
    "id": "UzVGkyu-QSqF"
   },
   "outputs": [],
   "source": [
    "# Test your every_nth_character function in this cell:\n",
    "\n"
   ]
  },
  {
   "cell_type": "markdown",
   "metadata": {},
   "source": [
    "#### Run the hidden code cell to evaluate every_nth_character ####"
   ]
  },
  {
   "cell_type": "code",
   "execution_count": null,
   "metadata": {
    "cellView": "form",
    "id": "6MpiUgl5QUal",
    "jupyter": {
     "source_hidden": true
    }
   },
   "outputs": [],
   "source": [
    "#@title Run this cell to evaluate every_nth_character\n",
    "# (Do not edit this cell)\n",
    "score = 0\n",
    "max = 11\n",
    "\n",
    "score += test(\"Empty string.\", every_nth_character('', 1), '')\n",
    "score += test(\"Single character.\", every_nth_character('a', 1), 'a')\n",
    "score += test(\"Single character.\", every_nth_character('b', 1), 'b')\n",
    "score += test(\"Two characters, first only.\", every_nth_character('ab', 2), 'a')\n",
    "score += test(\"Two characters, first only.\", every_nth_character('ca', 3), 'c')\n",
    "score += test(\"Two characters, both.\", every_nth_character('ag', 1), 'ag')\n",
    "score += test(\"Two characters, both.\", every_nth_character('hi', 1), 'hi')\n",
    "score += test(\"Multiple characters, every other.\", every_nth_character('hello', 2), 'hlo')\n",
    "score += test(\"Multiple characters, every other.\", every_nth_character('csc108', 2), 'cc0')\n",
    "score += test(\"Multiple characters, all.\", every_nth_character('thisisfun', 1), 'thisisfun')\n",
    "score += test(\"Multiple characters, all.\", every_nth_character('programming', 1), 'programming')\n",
    "\n",
    "if score == max:\n",
    "  print(\"All test cases passed!\")\n",
    "print(\"Mark: \" + str(score) + \"/\" + str(max))"
   ]
  },
  {
   "cell_type": "markdown",
   "metadata": {
    "id": "yOAwmWHUQTGa"
   },
   "source": [
    "###find_letter_n_times###\n",
    "\n",
    "Complete the body of the following function."
   ]
  },
  {
   "cell_type": "code",
   "execution_count": null,
   "metadata": {
    "id": "9zV-At9LQTZJ"
   },
   "outputs": [],
   "source": [
    "def find_letter_n_times(s, letter, n):\n",
    "    \"\"\" (str, str, int) -> str\n",
    "\n",
    "    Precondition: letter occurs at least n times in s\n",
    "\n",
    "    Return the smallest substring of s starting from index 0 that contains\n",
    "    n occurrences of letter.\n",
    "\n",
    "    >>> find_letter_n_times('Computer Science', 'e', 2)\n",
    "    'Computer Scie'\n",
    "    \"\"\"\n",
    "\n",
    "    i = 0\n",
    "    count = 0\n",
    "    \n",
    "    #TODO complete the rest of the function below\n",
    "\n",
    "\n"
   ]
  },
  {
   "cell_type": "code",
   "execution_count": null,
   "metadata": {
    "id": "-dyb_9JZQTyo"
   },
   "outputs": [],
   "source": [
    "# Test your find_letter_n_times function in this cell:\n",
    "\n"
   ]
  },
  {
   "cell_type": "markdown",
   "metadata": {},
   "source": [
    "#### Run the hidden code cell to evaluate find_letter_n_times ####"
   ]
  },
  {
   "cell_type": "code",
   "execution_count": null,
   "metadata": {
    "cellView": "form",
    "id": "EU6JzagyQUKc",
    "jupyter": {
     "source_hidden": true
    }
   },
   "outputs": [],
   "source": [
    "#@title Run this cell to evaluate find_letter_n_times\n",
    "# (Do not edit this cell)\n",
    "score = 0\n",
    "max = 11\n",
    "\n",
    "score += test(\"Empty string.\", find_letter_n_times('', 'a', 0), '')\n",
    "score += test(\"Single character.\", find_letter_n_times('a', 'a', 1), 'a')\n",
    "score += test(\"Single character.\", find_letter_n_times('b', 'b', 1), 'b')\n",
    "score += test(\"Single character, 0 times.\", find_letter_n_times('c', 'c', 0), '')\n",
    "score += test(\"Single character, 0 times.\", find_letter_n_times('d', 'd', 0), '')\n",
    "score += test(\"Multiple characters, 0 times.\", find_letter_n_times('hello', 'l', 0), '')\n",
    "score += test(\"Multiple characters, 0 times.\", find_letter_n_times('world', 'l', 0), '')\n",
    "score += test(\"Multiple characters, once.\", find_letter_n_times('goodmorning', 'd', 1), 'good')\n",
    "score += test(\"Multiple characters, once.\", find_letter_n_times('goodnight', 't', 1), 'goodnight')\n",
    "score += test(\"Multiple characters, more than once.\", find_letter_n_times('weekend', 'e', 3), 'weeke')\n",
    "score += test(\"Multiple characters, more than once.\", find_letter_n_times('characters', 'r', 2), 'character')\n",
    "\n",
    "if score == max:\n",
    "  print(\"All test cases passed!\")\n",
    "print(\"Mark: \" + str(score) + \"/\" + str(max))"
   ]
  },
  {
   "cell_type": "markdown",
   "metadata": {
    "id": "w0gmV_f9yJwu"
   },
   "source": [
    "# Homework Completion #"
   ]
  },
  {
   "cell_type": "markdown",
   "metadata": {},
   "source": [
    "#### Run the hidden code cell once you've completed all the functions. Once you get full marks, upload the notebook to MarkUs."
   ]
  },
  {
   "cell_type": "code",
   "execution_count": null,
   "metadata": {
    "cellView": "form",
    "colab": {
     "base_uri": "https://localhost:8080/",
     "height": 51
    },
    "executionInfo": {
     "elapsed": 502,
     "status": "ok",
     "timestamp": 1603420501265,
     "user": {
      "displayName": "Salaar Liaqat",
      "photoUrl": "",
      "userId": "08024752299300850390"
     },
     "user_tz": 240
    },
    "id": "1nPQEMQkuBjr",
    "jupyter": {
     "source_hidden": true
    },
    "outputId": "fd5698dc-fbf9-4a86-f859-441a56cec0c1"
   },
   "outputs": [],
   "source": [
    "#@title Homework Completion Cell (Run this and screenshot it to show the homework is complete.)\n",
    "score = 0\n",
    "max = 76\n",
    "\n",
    "try:\n",
    "  score += test(\"Found where i is in the middle.\", match_at(\"AACTGATT\", 'AC', 1), True)\n",
    "  score += test(\"Not found at i but present earlier in seq\", match_at(\"CCGATATC\", \"CG\", 2), False)\n",
    "  score += test(\"Found at end of seq\", match_at(\"AGATT\", \"TT\", 3), True)\n",
    "  score += test(\"same length and i not 0\", match_at(\"AACT\", \"AATC\", 2), False)\n",
    "  score += test(\"subseq shorter but i close to end\", match_at(\"ACGT\", \"GT\", 3), False)\n",
    "  score += test(\"Index beyond bounds of seq\", match_at(\"CCTAG\", \"C\", 7), False)\n",
    "\n",
    "  score += test(\"full match\", match_dna('CGTA', 'CGTA'), True)\n",
    "  score += test(\"seq2 in seq1 in middle\", match_dna('CCCCCGTACCCCCC', 'GTA'), True)\n",
    "  score += test(\"seq1 in seq2 in middle\", match_dna('GTA', 'CCCCCGTACCCCCC'), True)\n",
    "  score += test(\"seq1 in seq2 at end\", match_dna('TTG', 'CCCCCCCCCCCTTG'), True)\n",
    "  score += test(\"seq2 in seq1 near end\", match_dna('TTTTTTTTTTTTTTGAGGT','GAGG'), True)\n",
    "  score += test(\"no match -- not even any overlap\", match_dna('ATTTAAT','CCG'), False)\n",
    "  score += test(\"Almost match of seq1 in seq2\", match_dna('CGGAT', 'TTTCGGAAA'), False)\n",
    "  score += test(\"Almost match at end of seq 2 in seq1\", match_dna('AACGC','CGCC'), False)\n",
    "\n",
    "  score += test(\"lowercase vowel\", is_vowel('e'), True)\n",
    "  score += test(\"lowercase o\", is_vowel('o'), True)\n",
    "  score += test(\"uppercase A\", is_vowel('A'), True)\n",
    "  score += test(\"uppercase U\", is_vowel('U'), True)\n",
    "  score += test(\"lowercase consonant\", is_vowel('t'), False)\n",
    "  score += test(\"uppercase consonant\", is_vowel('P'), False)\n",
    "  score += test(\"non alpha charact\", is_vowel('%'), False)\n",
    "\n",
    "  score += test(\"From problem description\", remove_vowels('alphabet'),'lphbt')\n",
    "  score += test(\"No vowels\", remove_vowels('bcdfg'),'bcdfg')\n",
    "  score += test(\"Uppercase vowels\", remove_vowels('UPPERCASE'),'PPRCS')\n",
    "  score += test(\"Vowels in the middle only\", remove_vowels('RemOvEd'),'Rmvd')\n",
    "  score += test(\"Leaves non-alpha chars\", remove_vowels('123ABC $1.49!'), '123BC $1.49!')\n",
    "  score += test(\"Only vowels\", remove_vowels('AEIOUa'), '')\n",
    "\n",
    "  score += test(\"one element\", obfuscate(['alphabet']), ['lphbt'])\n",
    "  score += test(\"multiple elements -- all have mix of vowels and non-vowels\", obfuscate(['The', 'quick', 'brown', 'fox', 'jumped', 'over']), ['Th', 'qck', 'brwn', 'fx', 'jmpd', 'vr'])\n",
    "  score += test(\"empty list\", obfuscate([]), [])\n",
    "  score += test(\"multiple elements -- some all vowels\", obfuscate(['Once', 'upon', 'a', 'time', '...']), ['nc', 'pn', '', 'tm', '...'])\n",
    "\n",
    "  score += test(\"Medication in list\", taking_med([\"Lasix\", \"Ativan\", \"Zoloft\", \"Synthroid\", \"Remeron\"], \"Ativan\"), True)\n",
    "  score += test(\"Medication not in list\", taking_med([\"Lasix\", \"Zoloft\"], \"Ativan\"), False)\n",
    "  score += test(\"Empty list -- medication not in list\", taking_med([], \"Ativan\"), False)\n",
    "\n",
    "  score += test(\"True example from problem description\", two_in_a_row([\"Mike G.\", \"Alice C.\", \"Bob A.\", \"Bob A.\", \"Mary C.\"]), True)\n",
    "  score += test(\"False example from problem description.\", two_in_a_row([\"Sam A.\", \"Dorothy Z.\"]), False)\n",
    "  score += test(\"Only two items match\", two_in_a_row([\"Sam A.\", \"Sam A.\"]), True)\n",
    "  score += test(\"List only has one item\", two_in_a_row([\"Sam A.\"]), False)\n",
    "  score += test(\"Last 2 match in long list.\", two_in_a_row([\"Sam A.\", \"Dorothy Z.\", \"Alice C\", \"Bob A.\", \"Mary C\", \"Mary C\"]), True)\n",
    "  score += test(\"Long list, no duplicates\", two_in_a_row([\"Sam A.\", \"Dorothy Z.\", \"Alice C\", \"Bob A.\", \"Mary C.\", \"LiYan D.\"]), False)\n",
    "\n",
    "  score += test(\"Some\", senior_women([\"female\", \"female\", \"male\", \"female\", \"female\", \"female\", \"male\"], [70, 40, 66, 80, 25, 22, 39]), 2)\n",
    "  score += test(\"Different Some\", senior_women([\"female\", \"female\", \"female\", \"female\", \"female\", \"male\"], [70, 40, 66, 80, 25, 22]), 3)\n",
    "  score += test(\"None\", senior_women([\"male\", \"female\", \"female\", \"male\"], [70, 40, 6, 80]), 0)\n",
    "  score += test(\"One of Two\", senior_women([\"female\", \"male\"], [80, 80]), 1)\n",
    "  score += test(\"Boundary\", senior_women([\"female\", \"female\", \"female\"], [64, 65, 66]), 2)\n",
    "\n",
    "  score += test(\"Highest is first.\", get_bpm([39.0, 38.4, 37.4, 38.0], [12, 21, 25, 17]), 12)\n",
    "  score += test(\"Highest in the middle\", get_bpm([37.4, 37.5, 36.9], [10, 15, 20]), 15)\n",
    "  score += test(\"Highest last\", get_bpm([37.0, 38.1], [15, 14]), 14)\n",
    "\n",
    "  score += test(\"2 lists with only evens, two other lists (hidden test case)\", only_evens([[1, 2, 5], [4, 10, 4], [6], [8, 4, 3]]), [[4, 10, 4], [6]])\n",
    "  score += test(\"No sublists\", only_evens([]), [])\n",
    "  score += test(\"Empty sublist, which contains no odd ints and therefore should be included in the result.\", only_evens([[]]), [[]])\n",
    "  score += test(\"2 lists with only evens, two other lists\", only_evens([[1, 2, 4], [4, 0, 6], [22, 4, 3], [2]]), [[4, 0, 6], [2]])\n",
    "\n",
    "  output = design_study(['male', 'female'], ['adult', 'teen', 'child'], ['active', 'inactive'])\n",
    "  for val in output:\n",
    "    val.sort()\n",
    "    output.sort()\n",
    "  score += test(\"From problem description\", output, [['active', 'adult', 'female'], ['active', 'adult', 'male'], ['active', 'child', 'female'], ['active', 'child', 'male'], ['active', 'female', 'teen'], ['active', 'male', 'teen'], ['adult', 'female', 'inactive'], ['adult', 'inactive', 'male'], ['child', 'female', 'inactive'], ['child', 'inactive', 'male'], ['female', 'inactive', 'teen'], ['inactive', 'male', 'teen']])\n",
    "\n",
    "\n",
    "  output = design_study(['A1', 'A2', 'A3'], ['B1', 'B2','B3', 'B4'], ['C1'])\n",
    "  for val in output:\n",
    "    val.sort()\n",
    "    output.sort() \n",
    "  score += test(\"Another example with different sizes\", output, [['A1', 'B1', 'C1'], ['A1', 'B2', 'C1'], ['A1', 'B3', 'C1'], ['A1', 'B4', 'C1'], ['A2', 'B1', 'C1'], ['A2', 'B2', 'C1'], ['A2', 'B3', 'C1'], ['A2', 'B4', 'C1'], ['A3', 'B1', 'C1'], ['A3', 'B2', 'C1'], ['A3', 'B3', 'C1'], ['A3', 'B4', 'C1']])\n",
    "\n",
    "  score += test(\"Empty string.\", every_nth_character('', 1), '')\n",
    "  score += test(\"Single character.\", every_nth_character('a', 1), 'a')\n",
    "  score += test(\"Single character.\", every_nth_character('b', 1), 'b')\n",
    "  score += test(\"Two characters, first only.\", every_nth_character('ab', 2), 'a')\n",
    "  score += test(\"Two characters, first only.\", every_nth_character('ca', 3), 'c')\n",
    "  score += test(\"Two characters, both.\", every_nth_character('ag', 1), 'ag')\n",
    "  score += test(\"Two characters, both.\", every_nth_character('hi', 1), 'hi')\n",
    "  score += test(\"Multiple characters, every other.\", every_nth_character('hello', 2), 'hlo')\n",
    "  score += test(\"Multiple characters, every other.\", every_nth_character('csc108', 2), 'cc0')\n",
    "  score += test(\"Multiple characters, all.\", every_nth_character('thisisfun', 1), 'thisisfun')\n",
    "  score += test(\"Multiple characters, all.\", every_nth_character('programming', 1), 'programming')\n",
    "\n",
    "  score += test(\"Empty string.\", find_letter_n_times('', 'a', 0), '')\n",
    "  score += test(\"Single character.\", find_letter_n_times('a', 'a', 1), 'a')\n",
    "  score += test(\"Single character.\", find_letter_n_times('b', 'b', 1), 'b')\n",
    "  score += test(\"Single character, 0 times.\", find_letter_n_times('c', 'c', 0), '')\n",
    "  score += test(\"Single character, 0 times.\", find_letter_n_times('d', 'd', 0), '')\n",
    "  score += test(\"Multiple characters, 0 times.\", find_letter_n_times('hello', 'l', 0), '')\n",
    "  score += test(\"Multiple characters, 0 times.\", find_letter_n_times('world', 'l', 0), '')\n",
    "  score += test(\"Multiple characters, once.\", find_letter_n_times('goodmorning', 'd', 1), 'good')\n",
    "  score += test(\"Multiple characters, once.\", find_letter_n_times('goodnight', 't', 1), 'goodnight')\n",
    "  score += test(\"Multiple characters, more than once.\", find_letter_n_times('weekend', 'e', 3), 'weeke')\n",
    "  score += test(\"Multiple characters, more than once.\", find_letter_n_times('characters', 'r', 2), 'character')\n",
    "\n",
    "\n",
    "except NameError:\n",
    "  print(\"Oops! It seems like some of your functions are not implemented.\")\n",
    "\n",
    "if score == max:\n",
    "  print(\"Congratulations! All tests passed. Homework Complete!\")\n",
    "elif score == 0:\n",
    "   print(\"\")\n",
    "else:\n",
    "  print(\"Some of your functions are working, but all test cases haven't passed yet. Keep on trying!\")\n",
    "\n",
    "print(\"Mark: \" + str(score) + \"/\" + str(max))"
   ]
  }
 ],
 "metadata": {
  "colab": {
   "authorship_tag": "ABX9TyPOVuCqb2F05JQ1FjBFBMYg",
   "collapsed_sections": [
    "FdttaiwQ94oq",
    "9o5aGser99Hr",
    "e5XRS3Zb-Zdd",
    "bi-ufomT-gzS",
    "juRVayKp99Y8",
    "zrzteArnBf2I",
    "e_FN045JBj-b",
    "55DyZfXg99gT",
    "Z6t1azLHEcih",
    "0AX1vqSsEdbu",
    "7P6d_GXz99oI",
    "Y2FAk4uhGXmZ",
    "MNm0REUsGWEL",
    "Vg4ed3Yw99vP",
    "dZEtecW5H-Q-",
    "nify7n-Q994E",
    "1afGPz3oQR9r",
    "yOAwmWHUQTGa",
    "w0gmV_f9yJwu"
   ],
   "name": "Phase I: Level 2 Session 3 Homework",
   "provenance": []
  },
  "kernelspec": {
   "display_name": "Python 3",
   "language": "python",
   "name": "python3"
  },
  "language_info": {
   "codemirror_mode": {
    "name": "ipython",
    "version": 3
   },
   "file_extension": ".py",
   "mimetype": "text/x-python",
   "name": "python",
   "nbconvert_exporter": "python",
   "pygments_lexer": "ipython3",
   "version": "3.8.2"
  }
 },
 "nbformat": 4,
 "nbformat_minor": 4
}
