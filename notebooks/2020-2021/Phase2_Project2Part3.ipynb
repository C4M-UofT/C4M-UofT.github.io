{
 "cells": [
  {
   "cell_type": "markdown",
   "metadata": {
    "id": "S53yKXI1NEf-"
   },
   "source": [
    "# Instructions #\n",
    "This notebook contains a list of exercises to be completed. \n",
    "\n",
    "On the highest level, the notebook is comprised of two sections. The exercise section and completion section.\n",
    "\n",
    "#### Hidden Code ####\n",
    "The notebook contains several hidden code cells, which are displayed as three dots. To run these, select the above cell and press run twice (either by the buttons on the top, or the \"shift\" + \"return\" hotkey). Once the hidden code cell runs, a message such as \"Done\" or your evaluation results should appear. If the code expands, please collapse it using the column on the left. You don't need to edit or understand the code in these cells. \n",
    "\n",
    "#### Starting out ####\n",
    "The first cell in the exercise section is titled \"Run the hidden code cell before starting\". This should be run everytime a new kernel/runtime is started. If run correctly, the message \"Done!\" should appear underneath.\n",
    "\n",
    "#### Exercises ####\n",
    "This is followed by all the exercises of the notebook. An exercise generally consists of 4 cells. \n",
    "1.   The first cell provides a description of the function you need to implement. \n",
    "2.   The second cell contains the starter code, and contains a comment indicating where you should write your code. Your entire implementation will go in this cell. \n",
    "3.   The third cell is a testing cell for your own testing. Feel free to write any code you like here to test your function is working correctly.\n",
    "4.   The last cell contains hidden code to run test cases on your function. This cell, when run, will provide a mark on your implementation. If implemented correctly, you should get full marks.\n",
    "\n",
    "#### Completion ####\n",
    "The completion cell runs all the test cases in the notebook on all the functions. If this cell returns full marks, this means the notebook is complete. Once complete, upload this notebook to MarkUs."
   ]
  },
  {
   "cell_type": "markdown",
   "metadata": {
    "id": "GAfa1joWJHl9"
   },
   "source": [
    "# Phase II: Project 2 Part 3 #\n"
   ]
  },
  {
   "cell_type": "markdown",
   "metadata": {},
   "source": [
    "#### Run the hidden code cell before starting ####"
   ]
  },
  {
   "cell_type": "code",
   "execution_count": null,
   "metadata": {
    "cellView": "form",
    "id": "CR3MVg81IvWX",
    "jupyter": {
     "source_hidden": true
    }
   },
   "outputs": [],
   "source": [
    "#@title Run this cell before starting. \n",
    "def test(test_name, actual, expected):\n",
    "  if(actual == expected):\n",
    "    return 1\n",
    "  else:\n",
    "    print(\"Test failed. \" + test_name + \" expected \" + str(expected) + \", got \" + str(actual))\n",
    "    return 0\n",
    "\n",
    "print(\"Done!\")"
   ]
  },
  {
   "cell_type": "markdown",
   "metadata": {
    "id": "KZRXBz96JUfo"
   },
   "source": [
    "## Exercise ##"
   ]
  },
  {
   "cell_type": "markdown",
   "metadata": {
    "id": "n396q4iKJWSX"
   },
   "source": [
    "### C4M simulation: get_cities ###\n",
    "\n",
    "Complete the following function according to its docstring."
   ]
  },
  {
   "cell_type": "code",
   "execution_count": null,
   "metadata": {
    "id": "IbWUr8XOJWkl"
   },
   "outputs": [],
   "source": [
    "def get_cities(prob_pairs):\n",
    "    \"\"\"Return the list of cities that appear in the list of pairs prob_pairs,\n",
    "    in the same order that they appear in the list of pairs prob_pairs\n",
    "    \n",
    "    Arguments:\n",
    "      prob_pairs -- a list of city-distance pairs\n",
    "      \n",
    "    >> prob_pairs = [('New York', 0),\n",
    "                     ('Washington', 2),\n",
    "                     ('Toronto', 3),\n",
    "                     ('San Francisco', 7),\n",
    "                     ('Mexico City', 10)]\n",
    "    >> get_cities(prob_pairs)\n",
    "    ['New York', 'Washington', 'Toronto', 'San Francisco', 'Mexico City']\n",
    "    \n",
    "    \"\"\"\n",
    "    #Write your code here:\n",
    "\n"
   ]
  },
  {
   "cell_type": "code",
   "execution_count": null,
   "metadata": {
    "id": "duGaxTP9JW03"
   },
   "outputs": [],
   "source": [
    "# Test your get_cities function in this cell:\n",
    "\n"
   ]
  },
  {
   "cell_type": "markdown",
   "metadata": {},
   "source": [
    "#### Run the hidden code cell to get_cities ####"
   ]
  },
  {
   "cell_type": "code",
   "execution_count": null,
   "metadata": {
    "cellView": "form",
    "colab": {
     "base_uri": "https://localhost:8080/",
     "height": 52
    },
    "executionInfo": {
     "elapsed": 974,
     "status": "ok",
     "timestamp": 1603468475888,
     "user": {
      "displayName": "Salaar Liaqat",
      "photoUrl": "",
      "userId": "08024752299300850390"
     },
     "user_tz": 240
    },
    "id": "-dMw8ock5I2s",
    "jupyter": {
     "source_hidden": true
    },
    "outputId": "88386234-b2d9-4734-c712-7b8f17045caa"
   },
   "outputs": [],
   "source": [
    "#@title Run this cell to evaluate get_cities\n",
    "# (Do not edit this cell)\n",
    "score = 0\n",
    "max = 1\n",
    "\n",
    "score += test(\"docstring example\", get_cities([('New York', 0), ('Washington', 2), ('Toronto', 3), ('San Francisco', 7), ('Mexico City', 10)]), ['New York', 'Washington', 'Toronto', 'San Francisco', 'Mexico City'])\n",
    "\n",
    "if score == max:\n",
    "  print(\"All test cases passed!\")\n",
    "print(\"Mark: \" + str(score) + \"/\" + str(max))"
   ]
  },
  {
   "cell_type": "markdown",
   "metadata": {
    "id": "Y-N4UlAiJYeb"
   },
   "source": [
    "### C4M simulation: get_probabilities ###\n",
    "\n",
    "Complete the following function according to its docstring"
   ]
  },
  {
   "cell_type": "code",
   "execution_count": null,
   "metadata": {
    "id": "CDjEGHyXJYw9"
   },
   "outputs": [],
   "source": [
    "def get_probabilities(prob_pairs):\n",
    "    \"\"\"Return the list of probabilities that appear in the list of pairs\n",
    "    prob_pairs, in the same order that they appear in prob_pairs.\n",
    "    \n",
    "    Arguments:\n",
    "      prob_pairs -- a list of city-distance pairs\n",
    "      \n",
    "    >> prob_pairs = [('New York', 0.1),\n",
    "                     ('Washington', 0.2),\n",
    "                     ('Toronto', 0.3),\n",
    "                     ('San Francisco', 0.2),\n",
    "                     ('Mexico City', 0.2)]\n",
    "    >> get_probs(prob_pairs)\n",
    "    [0.1, 0.2, 0.3, 0.2, 0.2]\n",
    "    \n",
    "    \"\"\"\n",
    "    #Write your code here:\n",
    "\n"
   ]
  },
  {
   "cell_type": "code",
   "execution_count": null,
   "metadata": {
    "id": "RFUfh4TQJY9V"
   },
   "outputs": [],
   "source": [
    "# Test your get_probabilities function in this cell:\n",
    "\n"
   ]
  },
  {
   "cell_type": "markdown",
   "metadata": {},
   "source": [
    "#### Run the hidden code cell to evaluate get_probabilities ####"
   ]
  },
  {
   "cell_type": "code",
   "execution_count": null,
   "metadata": {
    "cellView": "form",
    "id": "STGHzZuYKA3J",
    "jupyter": {
     "source_hidden": true
    }
   },
   "outputs": [],
   "source": [
    "#@title Run this cell to evaluate get_probabilities\n",
    "# (Do not edit this cell)\n",
    "score = 0\n",
    "max = 1\n",
    "\n",
    "score += test(\"docstring example\", get_probabilities([('New York', .1), ('Washington', .2), ('Toronto', .3), ('San Francisco', .2), ('Mexico City', .2)]), [.1, .2, .3, .2, .2])\n",
    "\n",
    "if score == max:\n",
    "  print(\"All test cases passed!\")\n",
    "print(\"Mark: \" + str(score) + \"/\" + str(max))"
   ]
  },
  {
   "cell_type": "markdown",
   "metadata": {
    "id": "BbbZLKzVJZRy"
   },
   "source": [
    "### C4M simulation: init_zero_sick_population ###\n",
    "\n",
    "Complete the following function according to its docstring"
   ]
  },
  {
   "cell_type": "code",
   "execution_count": null,
   "metadata": {
    "id": "ob_UdDZbJZni"
   },
   "outputs": [],
   "source": [
    "def init_zero_sick_population(cities):\n",
    "    \"\"\"Return a dictionary whose keys are the values in the list cities,\n",
    "    and whose values are all 0\n",
    "    \n",
    "    >> init_zero_sick_population([\"TO\", \"NYC\"])\n",
    "    {\"TO\": 0, \"NYC\": 0}\n",
    "    \n",
    "    Arguments:\n",
    "      cities -- a list of strings\n",
    "    \n",
    "    \"\"\"\n",
    "    #Write your code here:\n",
    "\n",
    "    "
   ]
  },
  {
   "cell_type": "code",
   "execution_count": null,
   "metadata": {
    "id": "zq-k22uGJZ4-"
   },
   "outputs": [],
   "source": [
    "# Test your init_zero_sick_population function in this cell:\n",
    "\n"
   ]
  },
  {
   "cell_type": "markdown",
   "metadata": {},
   "source": [
    "#### Run the hidden code cell to evaluate init_zero_sick_populations ####"
   ]
  },
  {
   "cell_type": "code",
   "execution_count": null,
   "metadata": {
    "cellView": "form",
    "id": "lh3G6PB8KBP4",
    "jupyter": {
     "source_hidden": true
    }
   },
   "outputs": [],
   "source": [
    "#@title Run this cell to evaluate init_zero_sick_population\n",
    "# (Do not edit this cell)\n",
    "score = 0\n",
    "max = 1\n",
    "\n",
    "score += test(\"docstring example\", init_zero_sick_population([\"TO\", \"NYC\"]), {\"TO\": 0, \"NYC\": 0})\n",
    "\n",
    "if score == max:\n",
    "  print(\"All test cases passed!\")\n",
    "print(\"Mark: \" + str(score) + \"/\" + str(max))"
   ]
  },
  {
   "cell_type": "markdown",
   "metadata": {
    "id": "dWGRBFb1JaTO"
   },
   "source": [
    "### C4M epidemics: build_transition_probs ###\n",
    "\n",
    "Complete the following function according to its docstring."
   ]
  },
  {
   "cell_type": "code",
   "execution_count": null,
   "metadata": {
    "id": "c5x7D085JbXe"
   },
   "outputs": [],
   "source": [
    "def build_transition_probs(city_to_city_dist, alpha):\n",
    "    \"\"\"Return a dictionary representing the probabilities of moving\n",
    "    from all cities to all other cities according to the formula in\n",
    "    the project handout.\n",
    "    \n",
    "    Arguments: \n",
    "      all_dists -- a city_to_city_dist whose keys are cities, and whose\n",
    "                   values are lists of city-distance pairs\n",
    "      alpha     -- a float\n",
    "      \n",
    "    >> city_to_city_dist = {'Mexico City': [('Mexico City', 0),\n",
    "                    ('San Francisco', 3),\n",
    "                    ('Toronto', 7),\n",
    "                    ('Washington', 8),\n",
    "                    ('New York', 10)],\n",
    "                    'New York': [('New York', 0),\n",
    "                    ('Washington', 2),\n",
    "                    ('Toronto', 3),\n",
    "                    ('San Francisco', 7),\n",
    "                    ('Mexico City', 10)],\n",
    "                    'Toronto': [('Toronto', 0),\n",
    "                    ('New York', 3),\n",
    "                    ('Washington', 5),\n",
    "                    ('San Francisco', 6),\n",
    "                    ('Mexico City', 7)],\n",
    "                    'San Francisco': [('San Francisco', 0),\n",
    "                    ('Mexico City', 3),\n",
    "                    ('Washington', 5),\n",
    "                    ('Toronto', 6),\n",
    "                    ('New York', 7)],\n",
    "                    'Washington': [('Washington', 0),\n",
    "                    ('New York', 2),\n",
    "                    ('San Francisco', 5),\n",
    "                    ('Toronto', 5),\n",
    "                    ('Mexico City', 8)]}\n",
    "\n",
    "    >> alpha = 2\n",
    "    \n",
    "    >> build_transition_probs(city_to_city_dist, alpha)\n",
    "                {'Mexico City': [('Mexico City', 0.9101374498147844),\n",
    "                ('San Francisco', 0.056883590613424025),\n",
    "                ('Toronto', 0.014220897653356006),\n",
    "                ('Washington', 0.011236264812528202),\n",
    "                ('New York', 0.007521797105907309)],\n",
    "                'New York': [('New York', 0.8350726686715951),\n",
    "                ('Washington', 0.09278585207462167),\n",
    "                ('Toronto', 0.052192041791974696),\n",
    "                ('San Francisco', 0.013048010447993674),\n",
    "                ('Mexico City', 0.0069014270138148355)],\n",
    "                'Toronto': [('Toronto', 0.8878542892195415),\n",
    "                ('New York', 0.05549089307622134),\n",
    "                ('Washington', 0.02466261914498726),\n",
    "                ('San Francisco', 0.018119475290194722),\n",
    "                ('Mexico City', 0.013872723269055335)],\n",
    "                'San Francisco': [('San Francisco', 0.8878542892195415),\n",
    "                ('Mexico City', 0.05549089307622134),\n",
    "                ('Washington', 0.02466261914498726),\n",
    "                ('Toronto', 0.018119475290194722),\n",
    "                ('New York', 0.013872723269055335)],\n",
    "                'Washington': [('Washington', 0.8481675392670158),\n",
    "                ('New York', 0.09424083769633508),\n",
    "                ('San Francisco', 0.02356020942408377),\n",
    "                ('Toronto', 0.02356020942408377),\n",
    "                ('Mexico City', 0.010471204188481676)]}\n",
    "\n",
    "    \"\"\"\n",
    "    #Write your code here:\n",
    "\n",
    "    \n"
   ]
  },
  {
   "cell_type": "code",
   "execution_count": null,
   "metadata": {
    "id": "D7e08SS1Jb1f"
   },
   "outputs": [],
   "source": [
    "# Test your build_transition_probs function in this cell:\n",
    "\n"
   ]
  },
  {
   "cell_type": "markdown",
   "metadata": {},
   "source": [
    "#### Run the hidden code cell to evaluate build_transition_probs ####"
   ]
  },
  {
   "cell_type": "code",
   "execution_count": null,
   "metadata": {
    "cellView": "form",
    "id": "w6maZrwZKB0g",
    "jupyter": {
     "source_hidden": true
    }
   },
   "outputs": [],
   "source": [
    "#@title Run this cell to evaluate build_transition_probs\n",
    "# (Do not edit this cell)\n",
    "score = 0\n",
    "max = 1\n",
    "\n",
    "score += test(\"Two cities\", build_transition_probs({'A': [('A', 0), ('B', 1)], 'B': [('B', 0), ('A', 1)]}, 2), {'A': [('A', 0.8), ('B', 0.2)], 'B': [('B', 0.8), ('A', 0.2)]})\n",
    "\n",
    "if score == max:\n",
    "  print(\"All test cases passed!\")\n",
    "print(\"Mark: \" + str(score) + \"/\" + str(max))"
   ]
  },
  {
   "cell_type": "markdown",
   "metadata": {
    "id": "w0gmV_f9yJwu"
   },
   "source": [
    "# Homework Completion #"
   ]
  },
  {
   "cell_type": "markdown",
   "metadata": {},
   "source": [
    "#### Run the hidden code cell once you've completed all the functions. Once you get full marks, upload the notebook to MarkUs."
   ]
  },
  {
   "cell_type": "code",
   "execution_count": null,
   "metadata": {
    "cellView": "form",
    "id": "1nPQEMQkuBjr",
    "jupyter": {
     "source_hidden": true
    }
   },
   "outputs": [],
   "source": [
    "#@title Homework Completion Cell (Run this and screenshot it to show the homework is complete.)\n",
    "score = 0\n",
    "max = 4\n",
    "\n",
    "try:\n",
    "\n",
    "  score += test(\"docstring example\", get_cities([('New York', 0), ('Washington', 2), ('Toronto', 3), ('San Francisco', 7), ('Mexico City', 10)]), ['New York', 'Washington', 'Toronto', 'San Francisco', 'Mexico City'])\n",
    "\n",
    "\n",
    "  score += test(\"docstring example\", get_probabilities([('New York', .1), ('Washington', .2), ('Toronto', .3), ('San Francisco', .2), ('Mexico City', .2)]), [.1, .2, .3, .2, .2])\n",
    "\n",
    "  score += test(\"docstring example\", init_zero_sick_population([\"TO\", \"NYC\"]), {\"TO\": 0, \"NYC\": 0})\n",
    "\n",
    "  score += test(\"Two cities\", build_transition_probs({'A': [('A', 0), ('B', 1)], 'B': [('B', 0), ('A', 1)]}, 2), {'A': [('A', 0.8), ('B', 0.2)], 'B': [('B', 0.8), ('A', 0.2)]})\n",
    "\n",
    "except NameError:\n",
    "  print(\"Oops! It seems like some of your functions are not implemented.\")\n",
    "\n",
    "if score == max:\n",
    "  print(\"Congratulations! All tests passed. Homework Complete!\")\n",
    "elif score == 0:\n",
    "   print(\"\")\n",
    "else:\n",
    "  print(\"Some of your functions are working, but all test cases haven't passed yet. Keep on trying!\")\n",
    "\n",
    "print(\"Mark: \" + str(score) + \"/\" + str(max))"
   ]
  }
 ],
 "metadata": {
  "colab": {
   "authorship_tag": "ABX9TyOcP5HhKqy9ptQPQfxYt2LH",
   "collapsed_sections": [
    "GAfa1joWJHl9",
    "KZRXBz96JUfo",
    "n396q4iKJWSX",
    "Y-N4UlAiJYeb",
    "BbbZLKzVJZRy",
    "dWGRBFb1JaTO"
   ],
   "name": "Phase II: Project 2 Part 3",
   "provenance": []
  },
  "kernelspec": {
   "display_name": "Python 3",
   "language": "python",
   "name": "python3"
  },
  "language_info": {
   "codemirror_mode": {
    "name": "ipython",
    "version": 3
   },
   "file_extension": ".py",
   "mimetype": "text/x-python",
   "name": "python",
   "nbconvert_exporter": "python",
   "pygments_lexer": "ipython3",
   "version": "3.8.2"
  }
 },
 "nbformat": 4,
 "nbformat_minor": 4
}
