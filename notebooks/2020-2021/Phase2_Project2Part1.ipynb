{
 "cells": [
  {
   "cell_type": "markdown",
   "metadata": {
    "id": "S53yKXI1NEf-"
   },
   "source": [
    "# Instructions #\n",
    "This notebook contains a list of exercises to be completed. \n",
    "\n",
    "On the highest level, the notebook is comprised of two sections. The exercise section and completion section.\n",
    "\n",
    "#### Hidden Code ####\n",
    "The notebook contains several hidden code cells, which are displayed as three dots. To run these, select the above cell and press run twice (either by the buttons on the top, or the \"shift\" + \"return\" hotkey). Once the hidden code cell runs, a message such as \"Done\" or your evaluation results should appear. If the code expands, please collapse it using the column on the left. You don't need to edit or understand the code in these cells. \n",
    "\n",
    "#### Starting out ####\n",
    "The first cell in the exercise section is titled \"Run the hidden code cell before starting\". This should be run everytime a new kernel/runtime is started. If run correctly, the message \"Done!\" should appear underneath.\n",
    "\n",
    "#### Exercises ####\n",
    "This is followed by all the exercises of the notebook. An exercise generally consists of 4 cells. \n",
    "1.   The first cell provides a description of the function you need to implement. \n",
    "2.   The second cell contains the starter code, and contains a comment indicating where you should write your code. Your entire implementation will go in this cell. \n",
    "3.   The third cell is a testing cell for your own testing. Feel free to write any code you like here to test your function is working correctly.\n",
    "4.   The last cell contains hidden code to run test cases on your function. This cell, when run, will provide a mark on your implementation. If implemented correctly, you should get full marks.\n",
    "\n",
    "#### Completion ####\n",
    "The completion cell runs all the test cases in the notebook on all the functions. If this cell returns full marks, this means the notebook is complete. Once complete, upload this notebook to MarkUs."
   ]
  },
  {
   "cell_type": "markdown",
   "metadata": {
    "id": "oYNPjdsGA6Sm"
   },
   "source": [
    "# Project 2, Part 1 Exercises #"
   ]
  },
  {
   "cell_type": "markdown",
   "metadata": {},
   "source": [
    "#### Run the hidden code cell before starting ####"
   ]
  },
  {
   "cell_type": "code",
   "execution_count": null,
   "metadata": {
    "cellView": "form",
    "id": "CR3MVg81IvWX",
    "jupyter": {
     "source_hidden": true
    }
   },
   "outputs": [],
   "source": [
    "#@title Run this cell before starting. \n",
    "def test(test_name, actual, expected):\n",
    "  if(actual == expected):\n",
    "    return 1\n",
    "  else:\n",
    "    print(\"Test failed. \" + test_name + \" expected \" + str(expected) + \", got \" + str(actual))\n",
    "    return 0\n",
    "\n",
    "print(\"Done!\")"
   ]
  },
  {
   "cell_type": "markdown",
   "metadata": {
    "id": "y0zfk5VtA6Hl"
   },
   "source": [
    "## Exercise 1 ##"
   ]
  },
  {
   "cell_type": "markdown",
   "metadata": {
    "id": "P87BSNfLBD7O"
   },
   "source": [
    "### C4M Dijkstra: get_closest ###\n",
    "\n",
    "Complete the following function according to its docstring"
   ]
  },
  {
   "cell_type": "code",
   "execution_count": null,
   "metadata": {
    "id": "u4gySwW4A3_R"
   },
   "outputs": [],
   "source": [
    "def get_closest(unvisited):\n",
    "    \"\"\" Return a tuple from list unvisited that has the shortest distance\n",
    "    (return the first such tuple in case of ties).  Assumes unvisited is not\n",
    "    empty.\n",
    "    \n",
    "    Parameters:\n",
    "        unvisited-- a list of (city_name, distance) pairs\n",
    "    Return value:\n",
    "        the first tuple in unvisited whose distance is minimum\n",
    "    Side-effects:\n",
    "        None\n",
    "    \n",
    "    Examples:\n",
    "    >>> get_closest([('A', 3)])\n",
    "    ('A', 3)\n",
    "    >>> get_closest([('A', 3), ('B', 2)])\n",
    "    ('B', 2)\n",
    "    >>> get_closest([('A', 3), ('C', 4)])\n",
    "    ('A', 3)\n",
    "    >>> get_closest([('A', 3), ('B', 2), ('C', 4), ('D', 2)])\n",
    "    ('B', 2)\n",
    "    \"\"\"\n",
    "    # Write your code  here:\n",
    "\n",
    "\n"
   ]
  },
  {
   "cell_type": "code",
   "execution_count": null,
   "metadata": {
    "id": "MdZJUl1pBT2Y"
   },
   "outputs": [],
   "source": [
    "# Test your get_closest function in this cell:\n",
    "\n"
   ]
  },
  {
   "cell_type": "markdown",
   "metadata": {},
   "source": [
    "#### Run the hidden code cell to evaluate get_closest ####"
   ]
  },
  {
   "cell_type": "code",
   "execution_count": null,
   "metadata": {
    "cellView": "form",
    "id": "-dMw8ock5I2s",
    "jupyter": {
     "source_hidden": true
    }
   },
   "outputs": [],
   "source": [
    "#@title Run this cell to evaluate get_closest\n",
    "# (Do not edit this cell)\n",
    "score = 0\n",
    "max = 4\n",
    "\n",
    "score += test(\"Singleton case\", get_closest([('A', 3)]), ('A', 3))\n",
    "score += test(\"Two distances\", get_closest([('A', 3), ('B', 2)]), ('B', 2))\n",
    "score += test(\"Two distances\", get_closest([('A', 3), ('C', 4)]), ('A', 3))\n",
    "score += test(\"Multiple distances\", get_closest([('A', 3), ('B', 1), ('C', 4), ('D', 2)]), ('B', 1))\n",
    "\n",
    "if score == max:\n",
    "  print(\"All test cases passed!\")\n",
    "print(\"Mark: \" + str(score) + \"/\" + str(max))"
   ]
  },
  {
   "cell_type": "markdown",
   "metadata": {
    "id": "1-sA2X9YBTFE"
   },
   "source": [
    "### C4M Dijkstra: find_city ###\n",
    "\n",
    "Complete the following function according to its docstring"
   ]
  },
  {
   "cell_type": "code",
   "execution_count": null,
   "metadata": {
    "id": "cOPHPWXeBUuz"
   },
   "outputs": [],
   "source": [
    "def find_city(city, city_list):\n",
    "    \"\"\" (str, list of (str, int)) -> int\n",
    "    \n",
    "    Return the index of the first tuple that contains city in city_list, or\n",
    "    -1 if city does not appear in city_list.\n",
    "    \n",
    "    Parameters:\n",
    "        city-- the name of a city to look for (a string)\n",
    "        city_list-- a list of tuples of the form (city_name, distance)\n",
    "    Return value:\n",
    "        the index of the first tuple in city_list that contains city; -1 if no\n",
    "        tuple in city_list contains city\n",
    "    Side-effects:\n",
    "        None\n",
    "    \n",
    "    Examples:\n",
    "    >>> find_city('A', [('A', 2)])\n",
    "    0\n",
    "    >>> find_city('A', [('B', 3), ('C', 2)])\n",
    "    -1\n",
    "    >>> find_city('A', [('B', 3), ('C', 2), ('A', 2)])\n",
    "    2\n",
    "    >>> find_city('C', [('B', 3), ('C', 2), ('A', 2), ('C', 4)])\n",
    "    1\n",
    "    \"\"\"\n",
    "    # Write your code  here:\n",
    "\n",
    "\n"
   ]
  },
  {
   "cell_type": "code",
   "execution_count": null,
   "metadata": {
    "id": "3Vz_X9BEBVHv"
   },
   "outputs": [],
   "source": [
    "# Test your find_city function in this cell:\n",
    "\n"
   ]
  },
  {
   "cell_type": "markdown",
   "metadata": {},
   "source": [
    "#### Run the hidden code cell to evaluate find_city ####"
   ]
  },
  {
   "cell_type": "code",
   "execution_count": null,
   "metadata": {
    "cellView": "form",
    "id": "NxEqElEgBbUr",
    "jupyter": {
     "source_hidden": true
    }
   },
   "outputs": [],
   "source": [
    "#@title Run this cell to evaluate find_city\n",
    "# (Do not edit this cell)\n",
    "score = 0\n",
    "max = 4\n",
    "\n",
    "score += test(\"Singleton case\", find_city('A', [('A', 2)]), 0)\n",
    "score += test(\"City not found\", find_city('A', [('B', 3), ('C', 2)]), -1)\n",
    "score += test(\"Multiple cities\", find_city('A', [('B', 3), ('C', 2), ('A', 2)]), 2)\n",
    "score += test(\"Multiple cities\", find_city('C', [('B', 3), ('C', 2), ('A', 2), ('C', 4)]), 1)\n",
    "\n",
    "if score == max:\n",
    "  print(\"All test cases passed!\")\n",
    "print(\"Mark: \" + str(score) + \"/\" + str(max))"
   ]
  },
  {
   "cell_type": "markdown",
   "metadata": {
    "id": "jYxHIMlIBVby"
   },
   "source": [
    "### C4M Dijkstra: process_line ###\n",
    "\n",
    "Complete the function below according to its docstring. Notice that the city names can contain a number of spaces. They can not contain colons.\n",
    "\n",
    "This function assumes that you have an open file of same format as cities.txt and that you are given one line of that file to process.\n"
   ]
  },
  {
   "cell_type": "code",
   "execution_count": null,
   "metadata": {
    "id": "pgeRGm12BVrK"
   },
   "outputs": [],
   "source": [
    "def process_line(line):\n",
    "    \"\"\" (str) -> (str, str, int) \n",
    "    \n",
    "    Process one line from data (in the same format as the lines in cities.txt)\n",
    "    to extract the first city's name, the second city's name, and the distance.  Return\n",
    "    these values in a tuple.\n",
    "    \n",
    "    Parameters:\n",
    "        line-- a single line in the same format as the lines in cities.txt, in the \n",
    "               format specified in the project handout (first city:second city distance)\n",
    "    Return value:\n",
    "        (first, second, distance), where first is the name of the first city,\n",
    "        second is the name of the second city, and distance is the distance\n",
    "    Side-effects:\n",
    "        None\n",
    "    \n",
    "    Examples:\n",
    "    >>> process_line(\"A:B 3\")\n",
    "    ('A', 'B', 3)\n",
    "    >>> process_line(\"some city:B 2\")\n",
    "    ('some city', 'B', 2)\n",
    "    >>> process_line(\"A:other city 5\")\n",
    "    ('A', 'other city', 5)\n",
    "    \"\"\"\n",
    "    # Write your code  here:\n",
    "\n"
   ]
  },
  {
   "cell_type": "code",
   "execution_count": null,
   "metadata": {
    "id": "kpR2ipS5BWCz"
   },
   "outputs": [],
   "source": [
    "# Test your process_line function in this cell:\n",
    "\n"
   ]
  },
  {
   "cell_type": "markdown",
   "metadata": {},
   "source": [
    "#### Run the hidden code cell to evaluate process_line ####"
   ]
  },
  {
   "cell_type": "code",
   "execution_count": null,
   "metadata": {
    "cellView": "form",
    "id": "gjbguDy5BbgT",
    "jupyter": {
     "source_hidden": true
    }
   },
   "outputs": [],
   "source": [
    "#@title Run this cell to evaluate process_line\n",
    "# (Do not edit this cell)\n",
    "score = 0\n",
    "max = 4\n",
    "\n",
    "score += test(\"contiguous city names\", process_line(\"A:B 3\"), ('A', 'B', 3))\n",
    "score += test(\"two-word source city\", process_line(\"some city:B 2\"), ('some city', 'B', 2))\n",
    "score += test(\"two-word destination city\", process_line(\"A:other city 5\"), ('A', 'other city', 5))\n",
    "score += test(\"all multiple-word names\", process_line(\"A A A:B B B B 15\"), (\"A A A\", \"B B B B\", 15))\n",
    "\n",
    "if score == max:\n",
    "  print(\"All test cases passed!\")\n",
    "print(\"Mark: \" + str(score) + \"/\" + str(max))"
   ]
  },
  {
   "cell_type": "markdown",
   "metadata": {
    "id": "9y11t62RBXvt"
   },
   "source": [
    "### C4M Dijkstra: build_adjacent_distances ###\n",
    "\n",
    "\n",
    "Complete the function build_adjacent_distances according to its docstring. To do this you should paste your solution from process_line above the starter code and then call it from within your new function.\n",
    "\n",
    "\n",
    "Remember that a flight from 'New York' to 'Toronto' of 3 hours, implies that there is a return flight from 'Toronto' to 'New York'. Both of these should go in your resulting dictionary.\n",
    "\n"
   ]
  },
  {
   "cell_type": "code",
   "execution_count": null,
   "metadata": {
    "id": "NmdjsE2qBX_q"
   },
   "outputs": [],
   "source": [
    "def build_adjacent_distances(lines):\n",
    "    \"\"\" Read distances between cities from the lines read from data,\n",
    "    which is in the same format as cities.txt, and\n",
    "    return a dictionary structure that contains all of this information.\n",
    "    \n",
    "    \n",
    "    Parameters:\n",
    "        lines -- a list of lines read in from data in the same format as\n",
    "                 cities.txt\n",
    "    Return value:\n",
    "        a dictionary whose keys are city names and whose values are lists of\n",
    "        pairs of the form (city_name, distance).\n",
    "        The cities must be sorted in alphabetical order. \n",
    "        (Note: sorted([(\"B\", 3), (\"A\", 2)]) returns [('A', 2), ('B', 3)]\n",
    "    \n",
    "    Side-effects:\n",
    "        None\n",
    "    \n",
    "    Examples:\n",
    "    # The second line below violates style guidelines (it is too long), but\n",
    "    # is shown this way so you can use it for testing.\n",
    "    >>> build_adjacent_distances(lines)  # assuming lines are the lines of cities.txt\n",
    "    {'Toronto': [('New York', 3), ('Mexico City', 7), ('San Francisco', 6)], 'San Francisco': [('Washington', 5), ('Mexico City', 3), ('Toronto', 6)], 'New York': [('Toronto', 3), ('Washington', 2)], 'Washington': [('New York', 2), ('San Francisco', 5)], 'Mexico City': [('San Francisco', 3), ('Toronto', 7)]}\n",
    "    \"\"\"\n",
    "    # Write your code  here:\n",
    "\n",
    "\n",
    "        "
   ]
  },
  {
   "cell_type": "code",
   "execution_count": null,
   "metadata": {
    "id": "UpMi93IpBYNJ"
   },
   "outputs": [],
   "source": [
    "# Test your build_adjacent_distances function in this cell:\n",
    "\n"
   ]
  },
  {
   "cell_type": "markdown",
   "metadata": {},
   "source": [
    "#### Run the hidden code cell to evaluate build_adjacent_distances ####"
   ]
  },
  {
   "cell_type": "code",
   "execution_count": null,
   "metadata": {
    "cellView": "form",
    "id": "_WznEx35Bbs6",
    "jupyter": {
     "source_hidden": true
    }
   },
   "outputs": [],
   "source": [
    "#@title Run this cell to evaluate build_adjacent_distances\n",
    "# (Do not edit this cell)\n",
    "score = 0\n",
    "max = 2\n",
    "\n",
    "score += test(\"cities.txt example\", build_adjacent_distances(['Toronto:New York 3\\n', 'New York:Washington 2\\n', 'Washington:San Francisco 5\\n', 'San Francisco:Mexico City 3\\n', 'Toronto:Mexico City 7\\n', 'Toronto:San Francisco 6\\n']), {'Mexico City': [('San Francisco', 3), ('Toronto', 7)], 'New York': [('Toronto', 3), ('Washington', 2)], 'San Francisco': [('Mexico City', 3), ('Toronto', 6), ('Washington', 5)], 'Toronto': [('Mexico City', 7), ('New York', 3), ('San Francisco', 6)], 'Washington': [('New York', 2), ('San Francisco', 5)]})\n",
    "score += test(\"Small example\", build_adjacent_distances([\"A:B 2\\n\", \"B:C 3\\n\"]), {'A': [('B', 2)], 'B': [('A', 2), ('C', 3)], 'C': [('B', 3)]})\n",
    "\n",
    "\n",
    "if score == max:\n",
    "  print(\"All test cases passed!\")\n",
    "print(\"Mark: \" + str(score) + \"/\" + str(max))"
   ]
  },
  {
   "cell_type": "markdown",
   "metadata": {
    "id": "Dc_VNpw3BYou"
   },
   "source": [
    "### C4M Dijkstra: get_all_cities ###\n",
    "\n",
    "Complete the following function according to its docstring."
   ]
  },
  {
   "cell_type": "code",
   "execution_count": null,
   "metadata": {
    "id": "exxyoA6hBY5C"
   },
   "outputs": [],
   "source": [
    "def get_all_cities(city_to_city_dist):\n",
    "    \"\"\" Return a list of all the cities that appear in the dictionary\n",
    "    city_to_city_dist (a dictionary in the format returned by build_adjacent_distances).\n",
    "    The cities are to be sorted in alphabetic order.\n",
    "    \n",
    "    >>> city_to_city_dist = {'Washington': [('New York', 2), ('San Francisco', 5)],\n",
    "                    'Toronto': [('New York', 3)]}\n",
    "    >>> get_all_cities(city_to_city_dist)\n",
    "    ['New York', 'San Francisco', 'Toronto', 'Washington'] \n",
    "    \"\"\"\n",
    "    # Write your code  here:\n",
    "\n"
   ]
  },
  {
   "cell_type": "code",
   "execution_count": null,
   "metadata": {
    "id": "7jSGa0X5BZTG"
   },
   "outputs": [],
   "source": [
    "# Test your get_all_cities function in this cell:\n",
    "\n"
   ]
  },
  {
   "cell_type": "markdown",
   "metadata": {},
   "source": [
    "#### Run the hidden code cell to evaluate get_all_cities ####"
   ]
  },
  {
   "cell_type": "code",
   "execution_count": null,
   "metadata": {
    "cellView": "form",
    "id": "egoFAPFCBb50",
    "jupyter": {
     "source_hidden": true
    }
   },
   "outputs": [],
   "source": [
    "#@title Run this cell to evaluate get_all_cities\n",
    "# (Do not edit this cell)\n",
    "score = 0\n",
    "max = 1\n",
    "\n",
    "score += test(\"Docstring example: some cities are only in the values, some cities are only in the keys\", get_all_cities({'Washington': [('New York', 2), ('San Francisco', 5)], 'Toronto': [('New York', 3)]}), ['New York', 'San Francisco', 'Toronto', 'Washington'])\n",
    "\n",
    "if score == max:\n",
    "  print(\"All test cases passed!\")\n",
    "print(\"Mark: \" + str(score) + \"/\" + str(max))"
   ]
  },
  {
   "cell_type": "markdown",
   "metadata": {
    "id": "w0gmV_f9yJwu"
   },
   "source": [
    "# Homework Completion #"
   ]
  },
  {
   "cell_type": "markdown",
   "metadata": {},
   "source": [
    "#### Run the hidden code cell once you've completed all the functions. Once you get full marks, upload the notebook to MarkUs."
   ]
  },
  {
   "cell_type": "code",
   "execution_count": null,
   "metadata": {
    "cellView": "form",
    "id": "1nPQEMQkuBjr",
    "jupyter": {
     "source_hidden": true
    }
   },
   "outputs": [],
   "source": [
    "#@title Homework Completion Cell (Run this and screenshot it to show the homework is complete.)\n",
    "score = 0\n",
    "max = 15\n",
    "\n",
    "try:\n",
    "\n",
    "  score += test(\"Singleton case\", get_closest([('A', 3)]), ('A', 3))\n",
    "  score += test(\"Two distances\", get_closest([('A', 3), ('B', 2)]), ('B', 2))\n",
    "  score += test(\"Two distances\", get_closest([('A', 3), ('C', 4)]), ('A', 3))\n",
    "  score += test(\"Multiple distances\", get_closest([('A', 3), ('B', 1), ('C', 4), ('D', 2)]), ('B', 1))\n",
    "\n",
    "  score += test(\"Singleton case\", find_city('A', [('A', 2)]), 0)\n",
    "  score += test(\"City not found\", find_city('A', [('B', 3), ('C', 2)]), -1)\n",
    "  score += test(\"Multiple cities\", find_city('A', [('B', 3), ('C', 2), ('A', 2)]), 2)\n",
    "  score += test(\"Multiple cities\", find_city('C', [('B', 3), ('C', 2), ('A', 2), ('C', 4)]), 1)\n",
    "\n",
    "  score += test(\"contiguous city names\", process_line(\"A:B 3\"), ('A', 'B', 3))\n",
    "  score += test(\"two-word source city\", process_line(\"some city:B 2\"), ('some city', 'B', 2))\n",
    "  score += test(\"two-word destination city\", process_line(\"A:other city 5\"), ('A', 'other city', 5))\n",
    "  score += test(\"all multiple-word names\", process_line(\"A A A:B B B B 15\"), (\"A A A\", \"B B B B\", 15))\n",
    "\n",
    "  score += test(\"cities.txt example\", build_adjacent_distances(['Toronto:New York 3\\n', 'New York:Washington 2\\n', 'Washington:San Francisco 5\\n', 'San Francisco:Mexico City 3\\n', 'Toronto:Mexico City 7\\n', 'Toronto:San Francisco 6\\n']), {'Mexico City': [('San Francisco', 3), ('Toronto', 7)], 'New York': [('Toronto', 3), ('Washington', 2)], 'San Francisco': [('Mexico City', 3), ('Toronto', 6), ('Washington', 5)], 'Toronto': [('Mexico City', 7), ('New York', 3), ('San Francisco', 6)], 'Washington': [('New York', 2), ('San Francisco', 5)]})\n",
    "  score += test(\"Small example\", build_adjacent_distances([\"A:B 2\\n\", \"B:C 3\\n\"]), {'A': [('B', 2)], 'B': [('A', 2), ('C', 3)], 'C': [('B', 3)]})\n",
    "\n",
    "  score += test(\"Docstring example: some cities are only in the values, some cities are only in the keys\", get_all_cities({'Washington': [('New York', 2), ('San Francisco', 5)], 'Toronto': [('New York', 3)]}), ['New York', 'San Francisco', 'Toronto', 'Washington'])\n",
    "\n",
    "except NameError:\n",
    "  print(\"Oops! It seems like some of your functions are not implemented.\")\n",
    "\n",
    "if score == max:\n",
    "  print(\"Congratulations! All tests passed. Homework Complete!\")\n",
    "elif score == 0:\n",
    "   print(\"\")\n",
    "else:\n",
    "  print(\"Some of your functions are working, but all test cases haven't passed yet. Keep on trying!\")\n",
    "\n",
    "print(\"Mark: \" + str(score) + \"/\" + str(max))"
   ]
  }
 ],
 "metadata": {
  "colab": {
   "authorship_tag": "ABX9TyPIeeTkBd2lE6gi+bulSB32",
   "collapsed_sections": [
    "oYNPjdsGA6Sm",
    "y0zfk5VtA6Hl",
    "P87BSNfLBD7O",
    "1-sA2X9YBTFE",
    "jYxHIMlIBVby",
    "9y11t62RBXvt",
    "Dc_VNpw3BYou"
   ],
   "name": "Phase II: Project 2 Part 1",
   "provenance": []
  },
  "kernelspec": {
   "display_name": "Python 3",
   "language": "python",
   "name": "python3"
  },
  "language_info": {
   "codemirror_mode": {
    "name": "ipython",
    "version": 3
   },
   "file_extension": ".py",
   "mimetype": "text/x-python",
   "name": "python",
   "nbconvert_exporter": "python",
   "pygments_lexer": "ipython3",
   "version": "3.6.13"
  }
 },
 "nbformat": 4,
 "nbformat_minor": 4
}
