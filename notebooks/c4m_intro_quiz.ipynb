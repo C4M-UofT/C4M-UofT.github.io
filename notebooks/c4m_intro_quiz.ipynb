{
 "cells": [
  {
   "cell_type": "markdown",
   "metadata": {
    "id": "09h7MmVwjPZ1"
   },
   "source": [
    "# C4M Intro Quiz\n",
    "\n",
    "The purpose of this quiz is to assess whether you can write a basic python function and will determine whether you join Phase 1 or Phase 2.\n",
    "\n",
    "In the cell below, please write a python function named `max_num` that takes one argument, a `list` of numbers, and returns the largest number in that list, e.g.\n",
    "\n",
    "```python\n",
    ">> nums = [2, 6, 12, 24]\n",
    ">> max_num(nums)\n",
    "24\n",
    "```\n",
    "\n",
    "> Note: You _cannot_ use pythons built-in `max` function!"
   ]
  },
  {
   "cell_type": "code",
   "execution_count": null,
   "metadata": {
    "id": "u4lHDC0yjmSB"
   },
   "outputs": [],
   "source": [
    "# Write your max_num function here!\n",
    "# Your function should be named 'max_num' and take one argument, a list of numbers."
   ]
  },
  {
   "cell_type": "markdown",
   "metadata": {
    "id": "TViAua-5jq79"
   },
   "source": [
    "Use the following cell to test your submission."
   ]
  },
  {
   "cell_type": "code",
   "execution_count": null,
   "metadata": {
    "colab": {
     "base_uri": "https://localhost:8080/",
     "height": 34
    },
    "id": "bHrHVrEimbEz",
    "outputId": "254134ec-680c-48ea-c86b-8fb730c18628"
   },
   "outputs": [],
   "source": [
    "import random\n",
    "\n",
    "\n",
    "nums = random.sample(range(100), 10)\n",
    "\n",
    "try:\n",
    "    expected, actual = max(nums), max_num(nums)\n",
    "    \n",
    "    result = actual == expected\n",
    "    \n",
    "    if result:\n",
    "        print('Congrats on passing the skills assessment! You are now eligible to skip some of the early sessions.')\n",
    "    else:\n",
    "        print((f\"Oops, 'max_num' did not return the expected value ({expected}) for input: {nums}\"\n",
    "               \" Please try again.\"))\n",
    "except Exception as e:\n",
    "    if isinstance(e, NameError):\n",
    "        print(\"Oops! Did you create a function with name 'max_num'?\")\n",
    "    elif isinstance(e, TypeError):\n",
    "        print(\"Oops! Does your function 'max_num' except a single list as argument?\")\n",
    "    else:\n",
    "        print(f\"Oops!, your function returned the error: {e}\")"
   ]
  }
 ],
 "metadata": {
  "colab": {
   "collapsed_sections": [],
   "name": "c4m_intro_quiz.ipynb",
   "provenance": []
  },
  "kernelspec": {
   "display_name": "Python 3",
   "language": "python",
   "name": "python3"
  },
  "language_info": {
   "codemirror_mode": {
    "name": "ipython",
    "version": 3
   },
   "file_extension": ".py",
   "mimetype": "text/x-python",
   "name": "python",
   "nbconvert_exporter": "python",
   "pygments_lexer": "ipython3",
   "version": "3.6.13"
  }
 },
 "nbformat": 4,
 "nbformat_minor": 4
}
