{
 "cells": [
  {
   "cell_type": "markdown",
   "metadata": {},
   "source": [
    "## Computing for Medicine (C4M)\n",
    "### Practice Exercises: Phase 2, Session 1"
   ]
  },
  {
   "cell_type": "markdown",
   "metadata": {},
   "source": [
    "#### 1. Dictionaries"
   ]
  },
  {
   "cell_type": "markdown",
   "metadata": {},
   "source": [
    "##### a) Practice Exercise: working with dictionaries\n",
    "\n",
    "   1. Create a variable `doctor_to_patients` that refers to an empty dictionary.\n",
    "   2. Add an entry for `'Dr. Ngo'` with `1200` patients.\n",
    "   3. Add another entry for `'Dr. Singh'` with `1400` patients.\n",
    "   4. Add a third entry for `'Dr. Gray'` with `1350` patinets.\n",
    "   5. Print the number of patients associated with `'Dr. Singh'`.\n",
    "   6. Change the number of patients associated with `'Dr. Singh'` to `1401`.\n",
    "   7. Write an expression to get the number of key-value pairs in the dictionary.\n",
    "   8. Write an expression to get the doctors.\n",
    "   9. Write an expression to get the patient quantities.\n",
    "   10. Write an expression to check whether `'Dr. Koch'` is a key in the dictionary.\n",
    "   11. Remove the key-value pair with `'Dr. Ngo'` as the key.\n",
    "   \n"
   ]
  },
  {
   "cell_type": "markdown",
   "metadata": {},
   "source": [
    "##### b) Practice Exercise: looping over dictionaries\n",
    "\n",
    "The following dictionary has brand name drugs as keys and generic names as values:\n",
    "\n",
    "    brand_to_generic = {'lipitor': 'atorvastatin',\n",
    "                        'zithromax': 'azithromycin',\n",
    "                        'amoxcil': 'amoxicillin',\n",
    "                        'singulair': 'montelukast',\n",
    "                        'nexium': 'esomeprazole',\n",
    "                        'plavix': 'clopidogrel',\n",
    "                        'abilify': 'ARIPiprazole'}\n",
    "                        \n",
    "Using the dictionary above and for loops, complete the following tasks:\n",
    "  1. Get a list of brand name drugs that start with the letter `'a'`.\n",
    "  \n",
    "  2. Count the number of generic drugs that end with the letter `'n'`.\n",
    "  \n",
    "  3. Get a list of brand name drugs in alphabetical order.  \n",
    "    (Hint: this can be solved both with or without a for loop.  Once you\n",
    "    have solved it one way, try to solve it using a different approach.)"
   ]
  },
  {
   "cell_type": "markdown",
   "metadata": {},
   "source": [
    "#### 2. Files"
   ]
  },
  {
   "cell_type": "markdown",
   "metadata": {},
   "source": [
    "##### a) Practice Exercise: reading a file\n",
    "\n",
    "The file `january06.txt` contains data from the UTM weather station for January 2006. Download it from the C4M website\n",
    "to your local machine and put it in the same directory as where Wing is storing your programs. Figuring out where\n",
    "to store the files or how to specify the paths to your file is half the battle!\n",
    "\n",
    "1. Open it up in Wing to see what it looks like.\n",
    "\n",
    "2. Write a Python program to open the file and read only the first line\n",
    "\n",
    "3. Read the second line (this is still a header)\n",
    "\n",
    "4. Read the third line into a variable `line`.\n",
    "\n",
    "5. What is the type of line? \n",
    "\n",
    "6. Call the method `split()` on line and save the return value. What is the type that is returned by\n",
    "this method? \n",
    "\n",
    "7. Look up the method `split()` in the Python 3 documentation."
   ]
  },
  {
   "cell_type": "markdown",
   "metadata": {},
   "source": [
    "##### b) Practice Exercise: getting information from a file ##\n",
    "\n",
    "Write a program that:\n",
    "\n",
    "  1. opens the file january06.txt\n",
    "  \n",
    "  2. reads in the header and ignores it\n",
    "  \n",
    "  3. uses a loop to read in all the rest of the lines one by one\n",
    "  \n",
    "  4. prints out only the day and the temperature from each line"
   ]
  },
  {
   "cell_type": "markdown",
   "metadata": {},
   "source": [
    "##### c) Practice Exercise: find coldest day and time ##\n",
    "\n",
    "Now, write a program to find the day and time of the coldest reading in the file and then print that information.\n",
    "\n",
    "Hint: Be careful. You must convert the values to integers before you compare them. The string `'11' < '2'`  but `11 > 2`. "
   ]
  },
  {
   "cell_type": "markdown",
   "metadata": {},
   "source": [
    "##### d) Practice Exercise: writing to a file\n",
    "\n",
    "1. Write your name and address to a file named `contact.txt`.  Once you have executed your program, open `contact.txt` in Wing to verify that its contents are what you expect.\n",
    "2. Now, write a program to add your phone number to that file, using `open`'s append mode (`'a'`).  Again, open the file in Wing and check its contents."
   ]
  }
 ],
 "metadata": {
  "kernelspec": {
   "display_name": "Python 3",
   "language": "python",
   "name": "python3"
  },
  "language_info": {
   "codemirror_mode": {
    "name": "ipython",
    "version": 3
   },
   "file_extension": ".py",
   "mimetype": "text/x-python",
   "name": "python",
   "nbconvert_exporter": "python",
   "pygments_lexer": "ipython3",
   "version": "3.5.2"
  }
 },
 "nbformat": 4,
 "nbformat_minor": 1
}
