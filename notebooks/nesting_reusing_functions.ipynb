{
 "cells": [
  {
   "cell_type": "markdown",
   "metadata": {},
   "source": [
    "# Function Reuse and Nested Function Calls"
   ]
  },
  {
   "cell_type": "markdown",
   "metadata": {},
   "source": [
    "Once we've defined a function, we can call on it again and again.  In fact, we can call on one function from the body of another function.  We can also pass one function call as an argument to another."
   ]
  },
  {
   "cell_type": "markdown",
   "metadata": {},
   "source": [
    "Let's consider this problem.  Given a patient's temperature in Fahrenheit and the hour of day when the temperature was taken, return whether the patient has a fever according to Harrison's internal medicine textbook.  \n",
    "\n",
    "Does this sound familiar?  Recall our previously defined function:"
   ]
  },
  {
   "cell_type": "code",
   "execution_count": 2,
   "metadata": {
    "collapsed": true
   },
   "outputs": [],
   "source": [
    "def check_fever(temp, hour_of_day):\n",
    "    \"\"\" (number, int) -> str\n",
    "    \n",
    "    Return 'fever' if the temperature temp in degrees Celsius recorded at hour_of_day\n",
    "    using the 24 hour clock) meets Harrison's definition of a fever, and 'no fever' otherwise.\n",
    "    \n",
    "    >>> check_fever(37.5, 9)\n",
    "    'fever'\n",
    "    >>> check_fever(37.5, 14)\n",
    "    'no fever'\n",
    "    \"\"\"\n",
    "    if 0 <= hour_of_day <= 11 and temp > 37.2:\n",
    "        return 'fever'\n",
    "    elif 12 <= hour_of_day <=23 and temp > 37.7:\n",
    "        return 'fever'\n",
    "    else:\n",
    "        return 'no fever'"
   ]
  },
  {
   "cell_type": "markdown",
   "metadata": {},
   "source": [
    "That code works, but in this situation we have a temperature measured in Fahrenheit, not Celsius.  Fortunately, we know how to convert between the two and we've already defined a function:"
   ]
  },
  {
   "cell_type": "code",
   "execution_count": 4,
   "metadata": {
    "collapsed": true
   },
   "outputs": [],
   "source": [
    "def fahrenheit_to_celsius(temp):\n",
    "    \"\"\" (number) -> float\n",
    "    \n",
    "    Return the temperature temp converted from degrees Fahrenheit to Celsius.\n",
    "    \n",
    "    >>> fahrenheit_to_celsius(32)\n",
    "    0.0\n",
    "    \"\"\"\n",
    "    \n",
    "    return (temp - 32) * 5 / 9"
   ]
  },
  {
   "cell_type": "markdown",
   "metadata": {},
   "source": [
    "Now, let's get back to solving the original problem.  Much of the work has already been done, so we should take advantage of that.\n",
    "\n",
    "We will define a new function `check_fever_fahrenheit` that works the same as `check_fever`, but the argument to it will be a temperature in degrees Fahrenheit, not Celsius.  In the body of the function, we will call on `check_fever` and `fahrenheit_to_celsius`, rather than defining the function from scratch."
   ]
  },
  {
   "cell_type": "code",
   "execution_count": 7,
   "metadata": {
    "collapsed": false
   },
   "outputs": [],
   "source": [
    "def check_fever_fahrenheit(temp, hour_of_day):\n",
    "    \"\"\" (number, int) -> str\n",
    "    \n",
    "    Return 'fever' if the temperature temp in degrees Fahrenheit recorded at hour_of_day\n",
    "    using the 24 hour clock) meets Harrison's definition of a fever, and 'no fever' otherwise.\n",
    "    \n",
    "    >>> check_fever_fahrenheit(99.5, 9)\n",
    "    'fever'\n",
    "    >>> check_fever_fahrenheit(99.5, 14)\n",
    "    'no fever'\n",
    "    \"\"\"\n",
    "    celsius = fahrenheit_to_celsius(temp)\n",
    "    return check_fever(celsius, hour_of_day)\n",
    "    "
   ]
  },
  {
   "cell_type": "code",
   "execution_count": 10,
   "metadata": {
    "collapsed": false
   },
   "outputs": [
    {
     "data": {
      "text/plain": [
       "'fever'"
      ]
     },
     "execution_count": 10,
     "metadata": {},
     "output_type": "execute_result"
    }
   ],
   "source": [
    "check_fever_fahrenheit(99.5, 9)"
   ]
  },
  {
   "cell_type": "code",
   "execution_count": 11,
   "metadata": {
    "collapsed": false
   },
   "outputs": [
    {
     "data": {
      "text/plain": [
       "'no fever'"
      ]
     },
     "execution_count": 11,
     "metadata": {},
     "output_type": "execute_result"
    }
   ],
   "source": [
    "check_fever_fahrenheit(99.5, 14)"
   ]
  },
  {
   "cell_type": "markdown",
   "metadata": {},
   "source": [
    "We could also simplify the body of `check_fever_fahrenheit` even more, by combining the two statments:\n",
    "\n",
    "    return check_fever(fahrenheit_to_celsius(temp), hour_of_day)"
   ]
  },
  {
   "cell_type": "markdown",
   "metadata": {},
   "source": [
    "## Tracing function calls with the Python Visualizer"
   ]
  },
  {
   "cell_type": "markdown",
   "metadata": {},
   "source": [
    "To see how function calls are executed, we will trace [this code](http://www.pythontutor.com/visualize.html#code=def%20check_fever(temp,%20hour_of_day%29%3A%0A%20%20%20%20if%200%20%3C%3D%20hour_of_day%20%3C%3D%2011%20and%20temp%20%3E%2037.2%3A%0A%20%20%20%20%20%20%20%20return%20'fever'%0A%20%20%20%20elif%2012%20%3C%3D%20hour_of_day%20%3C%3D23%20and%20temp%20%3E%2037.7%3A%0A%20%20%20%20%20%20%20%20return%20'fever'%0A%20%20%20%20else%3A%0A%20%20%20%20%20%20%20%20return%20'no%20fever'%0A%20%20%20%20%20%20%20%20%0A%20%20%20%20%20%20%20%20%0Adef%20fahrenheit_to_celsius(temp%29%3A%0A%20%20%20%20return%20(temp%20-%2032%29%20*%205%20/%209%0A%20%20%20%20%0A%20%20%20%20%0Adef%20check_fever_fahrenheit(temp,%20hour_of_day%29%3A%0A%20%20%20%20return%20check_fever(fahrenheit_to_celsius(temp%29,%20hour_of_day%29%0A%20%20%20%20%0A%20%20%20%20%0Aprint(check_fever_fahrenheit(99.5,%209%29%29%0Aprint(check_fever_fahrenheit(99.5,%2014%29%29%0A&cumulative=false&curInstr=0&heapPrimitives=true&mode=display&origin=opt-frontend.js&py=3&rawInputLstJSON=%5B%5D&textReferences=false) using the Python Visualizer.  Please note that the docstrings have been omitted due to space constraints."
   ]
  }
 ],
 "metadata": {
  "kernelspec": {
   "display_name": "Python 3",
   "language": "python",
   "name": "python3"
  },
  "language_info": {
   "codemirror_mode": {
    "name": "ipython",
    "version": 3
   },
   "file_extension": ".py",
   "mimetype": "text/x-python",
   "name": "python",
   "nbconvert_exporter": "python",
   "pygments_lexer": "ipython3",
   "version": "3.5.2"
  }
 },
 "nbformat": 4,
 "nbformat_minor": 1
}
