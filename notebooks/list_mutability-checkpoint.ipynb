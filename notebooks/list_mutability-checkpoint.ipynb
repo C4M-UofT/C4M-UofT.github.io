{
 "cells": [
  {
   "cell_type": "markdown",
   "metadata": {},
   "source": [
    "# List Methods and Mutability"
   ]
  },
  {
   "cell_type": "markdown",
   "metadata": {},
   "source": [
    "Lists are *mutable*, so we can change a list, such as by adding, removing, or modifying an item:"
   ]
  },
  {
   "cell_type": "code",
   "execution_count": 1,
   "metadata": {
    "collapsed": false
   },
   "outputs": [
    {
     "name": "stdout",
     "output_type": "stream",
     "text": [
      "777778.05\n"
     ]
    }
   ],
   "source": [
    "gross_earnings = [361681, 740741, 396105,  284600, 249154]\n",
    "\n",
    "# To modify an item, we can use indexing and an assignment statment.\n",
    "gross_earnings[1] = gross_earnings[1] * 1.05\n",
    "print(gross_earnings[1])"
   ]
  },
  {
   "cell_type": "markdown",
   "metadata": {},
   "source": [
    "### `list` methods\n",
    "\n",
    "Many of `list` methods modify the list:"
   ]
  },
  {
   "cell_type": "code",
   "execution_count": 2,
   "metadata": {
    "collapsed": false
   },
   "outputs": [
    {
     "name": "stdout",
     "output_type": "stream",
     "text": [
      "[361681, 777778.05, 396105, 284600, 249154]\n"
     ]
    }
   ],
   "source": [
    "print(gross_earnings)"
   ]
  },
  {
   "cell_type": "code",
   "execution_count": 3,
   "metadata": {
    "collapsed": false
   },
   "outputs": [
    {
     "name": "stdout",
     "output_type": "stream",
     "text": [
      "[361681, 777778.05, 396105, 284600, 249154, 740741]\n"
     ]
    }
   ],
   "source": [
    "gross_earnings.append(740741)  # Adds the argument to the end of the list.\n",
    "print(gross_earnings)"
   ]
  },
  {
   "cell_type": "code",
   "execution_count": 4,
   "metadata": {
    "collapsed": false
   },
   "outputs": [
    {
     "name": "stdout",
     "output_type": "stream",
     "text": [
      "[361681, 777778.05, 396105, 284600, 249154, 740741, 200000, 300000, 400000]\n"
     ]
    }
   ],
   "source": [
    "gross_earnings.extend([200000, 300000, 400000]) # Append the items in the list argument to the list.\n",
    "\n",
    "print(gross_earnings)"
   ]
  },
  {
   "cell_type": "code",
   "execution_count": 5,
   "metadata": {
    "collapsed": false
   },
   "outputs": [
    {
     "name": "stdout",
     "output_type": "stream",
     "text": [
      "400000\n",
      "[361681, 777778.05, 396105, 284600, 249154, 740741, 200000, 300000]\n"
     ]
    }
   ],
   "source": [
    "print(gross_earnings.pop()) # Removes the last item in the list and returns that item.\n",
    "print(gross_earnings)"
   ]
  },
  {
   "cell_type": "code",
   "execution_count": 6,
   "metadata": {
    "collapsed": false
   },
   "outputs": [
    {
     "name": "stdout",
     "output_type": "stream",
     "text": [
      "777778.05\n",
      "[361681, 396105, 284600, 249154, 740741, 200000, 300000]\n"
     ]
    }
   ],
   "source": [
    "print(gross_earnings.pop(1)) # Removes the item the given index and returns that item.\n",
    "print(gross_earnings)"
   ]
  },
  {
   "cell_type": "code",
   "execution_count": 7,
   "metadata": {
    "collapsed": false
   },
   "outputs": [
    {
     "name": "stdout",
     "output_type": "stream",
     "text": [
      "[361681, 396105, 284600, 249154, 740741, 300000]\n"
     ]
    }
   ],
   "source": [
    "gross_earnings.remove(200000)  # Removes the first occurence of the argument; error if argument not in list.\n",
    "print(gross_earnings)"
   ]
  },
  {
   "cell_type": "code",
   "execution_count": 8,
   "metadata": {
    "collapsed": false
   },
   "outputs": [
    {
     "name": "stdout",
     "output_type": "stream",
     "text": [
      "[300000, 740741, 249154, 284600, 396105, 361681]\n"
     ]
    }
   ],
   "source": [
    "gross_earnings.reverse()  # Reverses the list.\n",
    "print(gross_earnings)"
   ]
  },
  {
   "cell_type": "code",
   "execution_count": 9,
   "metadata": {
    "collapsed": false
   },
   "outputs": [
    {
     "name": "stdout",
     "output_type": "stream",
     "text": [
      "[249154, 284600, 300000, 361681, 396105, 740741]\n"
     ]
    }
   ],
   "source": [
    "gross_earnings.sort() # Sorts the list.\n",
    "print(gross_earnings)"
   ]
  },
  {
   "cell_type": "code",
   "execution_count": 10,
   "metadata": {
    "collapsed": false
   },
   "outputs": [
    {
     "name": "stdout",
     "output_type": "stream",
     "text": [
      "[249154, 250000, 284600, 300000, 361681, 396105, 740741]\n"
     ]
    }
   ],
   "source": [
    "gross_earnings.insert(1, 250000) # Inserts the object at the given index, moving items to make room.\n",
    "print(gross_earnings)"
   ]
  },
  {
   "cell_type": "markdown",
   "metadata": {},
   "source": [
    "There are also `list` methods that given information about lists, but don't modify them:"
   ]
  },
  {
   "cell_type": "code",
   "execution_count": 11,
   "metadata": {
    "collapsed": false
   },
   "outputs": [
    {
     "data": {
      "text/plain": [
       "3"
      ]
     },
     "execution_count": 11,
     "metadata": {},
     "output_type": "execute_result"
    }
   ],
   "source": [
    "L = ['a', 'b', 'c', 'b', 'b', 'a']\n",
    "L.count('b')  # Counts the number of occurences of 'b' in list L."
   ]
  },
  {
   "cell_type": "code",
   "execution_count": 12,
   "metadata": {
    "collapsed": false
   },
   "outputs": [
    {
     "data": {
      "text/plain": [
       "1"
      ]
     },
     "execution_count": 12,
     "metadata": {},
     "output_type": "execute_result"
    }
   ],
   "source": [
    "L.index('b') # Returns the index of the first occurence of 'b' in list L; error if not present."
   ]
  },
  {
   "cell_type": "code",
   "execution_count": 13,
   "metadata": {
    "collapsed": false
   },
   "outputs": [
    {
     "ename": "ValueError",
     "evalue": "'d' is not in list",
     "output_type": "error",
     "traceback": [
      "\u001b[0;31m---------------------------------------------------------------------------\u001b[0m",
      "\u001b[0;31mValueError\u001b[0m                                Traceback (most recent call last)",
      "\u001b[0;32m<ipython-input-13-e47cdc506f2e>\u001b[0m in \u001b[0;36m<module>\u001b[0;34m()\u001b[0m\n\u001b[0;32m----> 1\u001b[0;31m \u001b[0mL\u001b[0m\u001b[0;34m.\u001b[0m\u001b[0mindex\u001b[0m\u001b[0;34m(\u001b[0m\u001b[0;34m'd'\u001b[0m\u001b[0;34m)\u001b[0m\u001b[0;34m\u001b[0m\u001b[0m\n\u001b[0m",
      "\u001b[0;31mValueError\u001b[0m: 'd' is not in list"
     ]
    }
   ],
   "source": [
    "L.index('d')  # An error occurs if the item is not in the list."
   ]
  },
  {
   "cell_type": "markdown",
   "metadata": {},
   "source": [
    "## Writing code that modifies a list and code that does not"
   ]
  },
  {
   "cell_type": "markdown",
   "metadata": {},
   "source": [
    "For this next problem, we have a list of measurements and we want to filter them to get only those that are below a particular threshold.  We will do this two different ways:\n",
    "1. By creating a new list with the measurements below the threshold and leaving the original list unchanged.\n",
    "2. By removing those measurements at or above the threshold from the original list, leaving only those that are below the threshold in the list.  Notice that with this approach, we are discarding some elements!\n",
    "\n",
    "Here is the first solution:"
   ]
  },
  {
   "cell_type": "code",
   "execution_count": 22,
   "metadata": {
    "collapsed": false
   },
   "outputs": [
    {
     "name": "stdout",
     "output_type": "stream",
     "text": [
      "[3, 6, 9, 12]\n",
      "[50, 100, 5400, 150, 200]\n",
      "[]\n"
     ]
    }
   ],
   "source": [
    "def get_scaled_measurements(measurements, factor):\n",
    "    \"\"\" (list of number, int) -> list of number\n",
    "    \n",
    "    Return a new list consisting of the values from measurements scaled by\n",
    "    factor, in the same order as in measurements.\n",
    "    \n",
    "    >>> get_scaled_measurements([1, 2, 3, 4], 3)\n",
    "    [3, 6, 9, 12]\n",
    "    >>> get_scaled_measurements([1, 2, 108, 3, 4], 50)\n",
    "    [50, 100, 5400, 150, 200]\n",
    "    >>> get_scaled_measurements([], 7)\n",
    "    []\n",
    "    \"\"\"\n",
    "    \n",
    "    scaled_measurements = []\n",
    "    \n",
    "    for i in range(len(measurements)):\n",
    "        scaled_measurements.append(measurements[i] * factor)\n",
    "            \n",
    "    return scaled_measurements\n",
    "\n",
    "print(get_scaled_measurements([1, 2, 3, 4], 3))\n",
    "print(get_scaled_measurements([1, 2, 108, 3, 4], 50))\n",
    "print(get_scaled_measurements([], 7))"
   ]
  },
  {
   "cell_type": "markdown",
   "metadata": {},
   "source": [
    "Notice that the list passed as an argument to this function is not changed by the function call:"
   ]
  },
  {
   "cell_type": "code",
   "execution_count": 35,
   "metadata": {
    "collapsed": false
   },
   "outputs": [
    {
     "name": "stdout",
     "output_type": "stream",
     "text": [
      "[50, 100, 5400, 150, 200]\n",
      "[1, 2, 108, 3, 4]\n"
     ]
    }
   ],
   "source": [
    "L = [1, 2, 108, 3, 4]\n",
    "print(get_scaled_measurements(L, 50))\n",
    "print(L)"
   ]
  },
  {
   "cell_type": "markdown",
   "metadata": {},
   "source": [
    "Now, let's try an alternative approach where we modify the list:"
   ]
  },
  {
   "cell_type": "code",
   "execution_count": 29,
   "metadata": {
    "collapsed": false
   },
   "outputs": [
    {
     "name": "stdout",
     "output_type": "stream",
     "text": [
      "[3, 6, 9, 12]\n",
      "[50, 100, 5400, 150, 200]\n",
      "[]\n"
     ]
    }
   ],
   "source": [
    "def scale_measurements(measurements, factor):\n",
    "    \"\"\" (list of number, int) -> NoneType\n",
    "    \n",
    "    Modify measurements so that it contains the original values scaled by\n",
    "    factor, in the same order as they originally appeared.\n",
    "    \n",
    "    >>> L = [1, 2, 3, 4]\n",
    "    >>> scale_measurements(L, 3)\n",
    "    >>> L\n",
    "    >>> L = [1, 2, 108, 3, 4]\n",
    "    >>> scale_measurements(L, 50)\n",
    "    >>> L\n",
    "    >>> L = []\n",
    "    >>> scale_measurements(L, 7)\n",
    "    >>> L\n",
    "    \"\"\"\n",
    "    \n",
    "    for i in range(len(measurements)):\n",
    "        measurements[i] = measurements[i] * factor\n",
    "            \n",
    "            \n",
    "L = [1, 2, 3, 4]\n",
    "scale_measurements(L, 3)\n",
    "print(L)\n",
    "L = [1, 2, 108, 3, 4]\n",
    "scale_measurements(L, 50)\n",
    "print(L)\n",
    "L = []\n",
    "scale_measurements(L, 7)\n",
    "print(L)"
   ]
  },
  {
   "cell_type": "markdown",
   "metadata": {},
   "source": [
    "Unlike the first approach, the lists are modified by the function.  This function does not contain a `return` statement, so by default, it returns the value `None`."
   ]
  },
  {
   "cell_type": "markdown",
   "metadata": {},
   "source": [
    "## Practice Exercise: Building a new list\n",
    "\n",
    "Complete the following function according to its docstring description:"
   ]
  },
  {
   "cell_type": "code",
   "execution_count": 36,
   "metadata": {
    "collapsed": false
   },
   "outputs": [],
   "source": [
    "def report_digits(original_list):\n",
    "    \"\"\" (list of str) -> list of bool \n",
    "    \n",
    "    >>> report_digits(['98', 'a', '5'])\n",
    "    [True, False, True]\n",
    "    \n",
    "    Return a new list in which each item is True if the correponding item from \n",
    "    original_list is composed entirely of digits, and False otherwise.\n",
    "    \"\"\"\n",
    "    "
   ]
  },
  {
   "cell_type": "markdown",
   "metadata": {},
   "source": [
    "## Practice Exercise: Modifying an existing list\n",
    "\n",
    "Complete the following function according to its docstring description:"
   ]
  },
  {
   "cell_type": "code",
   "execution_count": 38,
   "metadata": {
    "collapsed": false
   },
   "outputs": [],
   "source": [
    "def replace_digits(original_list):\n",
    "    \"\"\" (list of str) -> NoneType\n",
    "    \n",
    "    >>> data = ['98', 'a', '5']\n",
    "    >>> replace_digits(data)\n",
    "    >>> data\n",
    "    \n",
    "    Replace each item in original_list with True if it is composed entiredly of digits,\n",
    "    and with False otherwise.\n",
    "    \"\"\"\n"
   ]
  }
 ],
 "metadata": {
  "kernelspec": {
   "display_name": "Python 3",
   "language": "python",
   "name": "python3"
  },
  "language_info": {
   "codemirror_mode": {
    "name": "ipython",
    "version": 3
   },
   "file_extension": ".py",
   "mimetype": "text/x-python",
   "name": "python",
   "nbconvert_exporter": "python",
   "pygments_lexer": "ipython3",
   "version": "3.5.2"
  }
 },
 "nbformat": 4,
 "nbformat_minor": 1
}
