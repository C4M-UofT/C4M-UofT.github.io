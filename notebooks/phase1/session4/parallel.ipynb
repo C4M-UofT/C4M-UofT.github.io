{
 "cells": [
  {
   "cell_type": "markdown",
   "metadata": {
    "id": "sk41LkYcPdkG"
   },
   "source": [
    "# Parallel Lists and Strings"
   ]
  },
  {
   "cell_type": "markdown",
   "metadata": {
    "id": "OZnd7Hp6wPfE"
   },
   "source": [
    "## Parallel Lists"
   ]
  },
  {
   "cell_type": "markdown",
   "metadata": {
    "id": "U-F_t3dqwRd2"
   },
   "source": [
    "There might be times when you want to keep track of multiple things for the same object, almost like columns in a spreadsheet. You can do this with **parallel lists** that have the same length."
   ]
  },
  {
   "cell_type": "markdown",
   "metadata": {
    "id": "LP3VW7OfwhmZ"
   },
   "source": [
    "For example, you could use the following set of lists to capture the gender of each patient, the ward in which they were admitted, and the duration of their stay:"
   ]
  },
  {
   "cell_type": "code",
   "execution_count": null,
   "metadata": {
    "executionInfo": {
     "elapsed": 164,
     "status": "ok",
     "timestamp": 1631832078802,
     "user": {
      "displayName": "Alex Mariakakis",
      "photoUrl": "https://lh3.googleusercontent.com/a-/AOh14Ght6Dyv6e4hfso-1xpfI7hj0VNjb-z7AByT6gi2Tw=s64",
      "userId": "03266759294585342781"
     },
     "user_tz": 240
    },
    "id": "01-ySmVYwoDY"
   },
   "outputs": [],
   "source": [
    "sex_data = [\"m\", \"f\", \"f\", \"m\", \"m\", \"f\"]\n",
    "ward_data = [1, 3, 2, 2, 1, 2] \n",
    "duration_data = [10, 5, 7, 2, 3, 4]"
   ]
  },
  {
   "cell_type": "markdown",
   "metadata": {
    "id": "ktx6KDCpw1GU"
   },
   "source": [
    "In this example, \n",
    "* The first patient was male and stayed in Ward 1 for 10 hours\n",
    "* The second patient was female and stayed in Ward 3 for 5 hours\n",
    "* ..."
   ]
  },
  {
   "cell_type": "markdown",
   "metadata": {
    "id": "b6RT4UbVxKlq"
   },
   "source": [
    "When we process these lists, we can access data using the same index to make sure we get the right information for each person:"
   ]
  },
  {
   "cell_type": "code",
   "execution_count": null,
   "metadata": {
    "executionInfo": {
     "elapsed": 164,
     "status": "ok",
     "timestamp": 1631832091205,
     "user": {
      "displayName": "Alex Mariakakis",
      "photoUrl": "https://lh3.googleusercontent.com/a-/AOh14Ght6Dyv6e4hfso-1xpfI7hj0VNjb-z7AByT6gi2Tw=s64",
      "userId": "03266759294585342781"
     },
     "user_tz": 240
    },
    "id": "fSGFL1o-xR2M"
   },
   "outputs": [],
   "source": [
    "patient1_sex = sex_data[0]\n",
    "patient1_ward = ward_data[0]\n",
    "patient1_duration = duration_data[0]"
   ]
  },
  {
   "cell_type": "markdown",
   "metadata": {
    "id": "hgMgHRtfxfvM"
   },
   "source": [
    "## Comparing Lists"
   ]
  },
  {
   "cell_type": "markdown",
   "metadata": {
    "id": "ZZMwZZjNPdkS"
   },
   "source": [
    "Let's write a function that compares two lists to see whether they are the same. "
   ]
  },
  {
   "cell_type": "markdown",
   "metadata": {
    "id": "XILuo-n9xkjU"
   },
   "source": [
    "We will want to check two things:\n",
    "1. Are the lists the same length?\n",
    "2. Are the items at corresponding positions the same? (i.e., `L1[0] == L2[0]`, `L1[1] == L2[1]`, etc.)"
   ]
  },
  {
   "cell_type": "code",
   "execution_count": null,
   "metadata": {
    "id": "onibWoXdPdkV"
   },
   "outputs": [],
   "source": [
    "def lists_equal(L1, L2):\n",
    "    \"\"\" (list of int, list of int) -> bool\n",
    "    \n",
    "    Return True iff L1 and L2 have the same contents in the same locations.\n",
    "    \n",
    "    >>> lists_equal([1, 2, 3, 4], [1, 2, 3, 4])\n",
    "    True\n",
    "    >>> lists_equal([8, 3, 4], [8, 3, 4, 10, 2])\n",
    "    False\n",
    "    >>> lists_equal([5, 6, 7], [7, 6, 5])\n",
    "    False\n",
    "    \"\"\" \n",
    "    \n",
    "    # Check whether the two lists have the same length first, \n",
    "    # to avoid index out of range errors later.\n",
    "    if len(L1) != len(L2):\n",
    "        return False\n",
    "    \n",
    "    for i in range(len(L1)):\n",
    "        if L1[i] != L2[i]:\n",
    "            return False\n",
    "        \n",
    "    return True\n",
    "    "
   ]
  },
  {
   "cell_type": "markdown",
   "metadata": {
    "id": "EA7T0IzgPdkW"
   },
   "source": [
    "## Practice Exercise: Parallel Lists\n",
    "\n",
    "Write a function that computes the average length of stay in the hospital for a given sex in a given ward:"
   ]
  },
  {
   "cell_type": "code",
   "execution_count": null,
   "metadata": {
    "id": "ngEuuUXTPdkX"
   },
   "outputs": [],
   "source": [
    "def avg_stay(sex, ward, sex_data, ward_data, duration_data):\n",
    "    \"\"\" (str, int, list of int, list of str, list of int) -> float\n",
    "    \n",
    "    Return the average duration of stay for patients of sex sex in ward ward,\n",
    "    given parallel list of sexes sex_data, list of wards ward_data, and \n",
    "    list of duration of stay duration_data.\n",
    "    \n",
    "    >>> sex_data =       [\"m\", \"f\", \"f\", \"m\", \"m\", \"f\"]\n",
    "    >>> ward_data =      [  1,   3,   2,   2,   1,   2] \n",
    "    >>> duration_data =  [ 10,   5,   7,   2,   3,   4]\n",
    "    >>> avg_stay(\"f\", 2, sex_data, ward_data, duration_data)\n",
    "    5.5\n",
    "    \"\"\"\n",
    "    # Write your code here"
   ]
  },
  {
   "cell_type": "code",
   "execution_count": null,
   "metadata": {
    "id": "Z8kG-gXRyF6M"
   },
   "outputs": [],
   "source": [
    "sex_data = [\"m\", \"f\", \"f\", \"m\", \"m\", \"f\"]\n",
    "ward_data = [1, 3, 2, 2, 1, 2] \n",
    "duration_data = [10, 5, 7, 2, 3, 4]\n",
    "avg_stay('f', 2, sex_data, ward_data, duration_data)"
   ]
  },
  {
   "cell_type": "markdown",
   "metadata": {
    "id": "fYHh_O-XPdkX"
   },
   "source": [
    "## Practice Exercise: Matching Strings\n",
    "\n",
    "Write a function that returns True if and only if string `s1` starts with string `s2`. For example, \n",
    "\n",
    "``starts_with(\"abc\", \"ab\")`` should return ``True``\n",
    "\n",
    "``starts_with(\"ad\", \"ab\")`` should return ``False``"
   ]
  },
  {
   "cell_type": "code",
   "execution_count": null,
   "metadata": {
    "executionInfo": {
     "elapsed": 141,
     "status": "ok",
     "timestamp": 1631832352207,
     "user": {
      "displayName": "Alex Mariakakis",
      "photoUrl": "https://lh3.googleusercontent.com/a-/AOh14Ght6Dyv6e4hfso-1xpfI7hj0VNjb-z7AByT6gi2Tw=s64",
      "userId": "03266759294585342781"
     },
     "user_tz": 240
    },
    "id": "e20jF3djPdkY"
   },
   "outputs": [],
   "source": [
    "def starts_with(s1, s2):\n",
    "    \"\"\" (str, str) -> bool\n",
    "    \n",
    "    Return True iff the string s1 starts with the string s2.\n",
    "    \n",
    "    >>> starts_with(\"abc\", \"ab\")\n",
    "    True\n",
    "    >>> starts_with(\"ad\", \"ab\")\n",
    "    False    \n",
    "    \"\"\"\n",
    "    # Write your code here"
   ]
  },
  {
   "cell_type": "code",
   "execution_count": null,
   "metadata": {
    "executionInfo": {
     "elapsed": 4,
     "status": "ok",
     "timestamp": 1631832352340,
     "user": {
      "displayName": "Alex Mariakakis",
      "photoUrl": "https://lh3.googleusercontent.com/a-/AOh14Ght6Dyv6e4hfso-1xpfI7hj0VNjb-z7AByT6gi2Tw=s64",
      "userId": "03266759294585342781"
     },
     "user_tz": 240
    },
    "id": "GcNNPvMYuJmA"
   },
   "outputs": [],
   "source": [
    "starts_with(\"abc\", \"ab\")"
   ]
  },
  {
   "cell_type": "code",
   "execution_count": null,
   "metadata": {
    "executionInfo": {
     "elapsed": 3,
     "status": "ok",
     "timestamp": 1631832352340,
     "user": {
      "displayName": "Alex Mariakakis",
      "photoUrl": "https://lh3.googleusercontent.com/a-/AOh14Ght6Dyv6e4hfso-1xpfI7hj0VNjb-z7AByT6gi2Tw=s64",
      "userId": "03266759294585342781"
     },
     "user_tz": 240
    },
    "id": "wrjQi-bxuMbq"
   },
   "outputs": [],
   "source": [
    "starts_with(\"ad\", \"ab\")"
   ]
  }
 ],
 "metadata": {
  "colab": {
   "collapsed_sections": [],
   "name": "Copy of parallel.ipynb",
   "provenance": [
    {
     "file_id": "https://github.com/C4M-UofT/C4M-UofT.github.io/blob/master/notebooks/parallel.ipynb",
     "timestamp": 1631672438400
    }
   ]
  },
  "kernelspec": {
   "display_name": "Python 3",
   "language": "python",
   "name": "python3"
  },
  "language_info": {
   "codemirror_mode": {
    "name": "ipython",
    "version": 3
   },
   "file_extension": ".py",
   "mimetype": "text/x-python",
   "name": "python",
   "nbconvert_exporter": "python",
   "pygments_lexer": "ipython3",
   "version": "3.6.13"
  }
 },
 "nbformat": 4,
 "nbformat_minor": 4
}
