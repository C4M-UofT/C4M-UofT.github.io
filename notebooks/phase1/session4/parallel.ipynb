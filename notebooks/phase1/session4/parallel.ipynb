{
 "cells": [
  {
   "cell_type": "markdown",
   "metadata": {},
   "source": [
    "## Parallel lists and strings"
   ]
  },
  {
   "cell_type": "markdown",
   "metadata": {},
   "source": [
    "Let's write a function that compares two lists to see whether they are the same.  In the code below, we examine the items at corresponding positions of the two lists.  That is, we compare item `L1[0]` to item `L2[0]`, and `L1[1]` to `L2[1]`, and so on."
   ]
  },
  {
   "cell_type": "code",
   "execution_count": 1,
   "metadata": {
    "collapsed": false
   },
   "outputs": [],
   "source": [
    "def lists_equal(L1, L2):\n",
    "    \"\"\" (list of int, list of int) -> bool\n",
    "    \n",
    "    Return True iff L1 and L2 have the same contents in the same locations.\n",
    "    \n",
    "    >>> lists_equal([1, 2, 3, 4], [1, 2, 3, 4])\n",
    "    True\n",
    "    >>> lists_equal([8, 3, 4], [8, 3, 4, 10, 2])\n",
    "    False\n",
    "    >>> lists_equal([5, 6, 7], [7, 6, 5])\n",
    "    False\n",
    "    \"\"\" \n",
    "    \n",
    "    # Check whether the two lists have the same length first, \n",
    "    # to avoid index out of range errors later.\n",
    "    if len(L1) != len(L2):\n",
    "        return False\n",
    "    \n",
    "    for i in range(len(L1)):\n",
    "        if L1[i] != L2[i]:\n",
    "            return False\n",
    "        \n",
    "    return True\n",
    "    "
   ]
  },
  {
   "cell_type": "markdown",
   "metadata": {},
   "source": [
    "### Practice Exercise: parallel lists\n",
    "\n",
    "We store patient data in two lists of the same length. For example:\n",
    "\n",
    "        sex_data =             [\"m\", \"f\", \"f\", \"m\", \"m\", \"f\"]\n",
    "        ward_data =            [  1,   3,   2,   2,   1,   2] \n",
    "        duration_data =        [ 10,   5,   7,   2,   3,   4]\n",
    "\n",
    "Write a function that computes the average length of stay in the hospital for a given sex, in a given ward. The function signature is:"
   ]
  },
  {
   "cell_type": "code",
   "execution_count": 4,
   "metadata": {
    "collapsed": false
   },
   "outputs": [],
   "source": [
    "def avg_stay(sex, ward, sex_data, ward_data, duration_data):\n",
    "    \"\"\" (str, int, list of int, list of str, list of int) -> float\n",
    "    \n",
    "    Return the average duration of stay for patients of sex sex in ward ward,\n",
    "    given parallel list of sexes sex_data, list of wards ward_data, and \n",
    "    list of duration of stay duration_data.\n",
    "    \n",
    "    >>> sex_data =       [\"m\", \"f\", \"f\", \"m\", \"m\", \"f\"]\n",
    "    >>> ward_data =      [  1,   3,   2,   2,   1,   2] \n",
    "    >>> duration_data =  [ 10,   5,   7,   2,   3,   4]\n",
    "    >>> avg_stay(\"f\", 2, sex_data, ward_data, duration_data)\n",
    "    5.5\n",
    "    \"\"\""
   ]
  },
  {
   "cell_type": "markdown",
   "metadata": {},
   "source": [
    "### Practice Exercise: matching strings\n",
    "\n",
    "Write a function that returns True iff string `s1` starts with string `s2`. For example, \n",
    "\n",
    "``starts_with(\"abc\", \"ab\")`` should return ``True``\n",
    "\n",
    "``starts_with(\"ad\", \"ab\")`` should return ``False``"
   ]
  },
  {
   "cell_type": "code",
   "execution_count": 3,
   "metadata": {
    "collapsed": false
   },
   "outputs": [],
   "source": [
    "def starts_with(s1, s2):\n",
    "    \"\"\" (str, str) -> bool\n",
    "    \n",
    "    Return True iff the string s1 starts with the string s2.\n",
    "    \n",
    "    >>> starts_with(\"abc\", \"ab\")\n",
    "    True\n",
    "    >>> starts_with(\"ad\", \"ab\")\n",
    "    False    \n",
    "    \"\"\""
   ]
  }
 ],
 "metadata": {
  "kernelspec": {
   "display_name": "Python 3",
   "language": "python",
   "name": "python3"
  },
  "language_info": {
   "codemirror_mode": {
    "name": "ipython",
    "version": 3
   },
   "file_extension": ".py",
   "mimetype": "text/x-python",
   "name": "python",
   "nbconvert_exporter": "python",
   "pygments_lexer": "ipython3",
   "version": "3.5.2"
  }
 },
 "nbformat": 4,
 "nbformat_minor": 0
}
