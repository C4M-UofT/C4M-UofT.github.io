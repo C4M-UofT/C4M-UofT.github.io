{
  "cells": [
    {
      "cell_type": "markdown",
      "metadata": {
        "id": "Vc29wi_Fsn3P"
      },
      "source": [
        "# Instructions"
      ]
    },
    {
      "cell_type": "markdown",
      "metadata": {
        "id": "TC5l4xp2s8QR"
      },
      "source": [
        "## Hidden Code\n",
        "The notebook contains several hidden code cells, which are displayed as three dots. To run these, select the above cell and press run twice (either by the buttons on the top, or the \"shift\" + \"return\" hotkey). Once the hidden code cell runs, a message such as \"Done\" or your evaluation results should appear. If the code expands, please collapse it using the column on the left. You don't need to edit or understand the code in these cells. "
      ]
    },
    {
      "cell_type": "markdown",
      "metadata": {
        "id": "rigLBxY-s-Ve"
      },
      "source": [
        "## Starting Out\n",
        "The first cell in the exercise section is titled \"Run the hidden code cell before starting\". This should be run everytime a new kernel/runtime is started. If run correctly, the message \"Done!\" should appear underneath."
      ]
    },
    {
      "cell_type": "markdown",
      "metadata": {
        "id": "9TOEmrjTtAiC"
      },
      "source": [
        "## Exercises\n",
        "This is followed by all the exercises of the notebook. An exercise generally consists of 4 cells. \n",
        "1.   The first cell provides a description of the function you need to implement. \n",
        "2.   The second cell contains the starter code, and contains a comment indicating where you should write your code. Your entire implementation will go in this cell. \n",
        "3.   The third cell is a testing cell for your own testing. Feel free to write any code you like here to test your function is working correctly.\n",
        "4.   The last cell contains hidden code to run test cases on your function. This cell, when run, will provide a mark on your implementation. If implemented correctly, you should get full marks."
      ]
    },
    {
      "cell_type": "markdown",
      "metadata": {
        "id": "FOzEDuWntCl0"
      },
      "source": [
        "## Completion\n",
        "The completion cell runs all the test cases in the notebook on all the functions. If this cell returns full marks, this means the notebook is complete and you can submit it."
      ]
    },
    {
      "cell_type": "markdown",
      "metadata": {
        "id": "54kND3IJnfDp"
      },
      "source": [
        "## Important: Run the hidden code cell before starting"
      ]
    },
    {
      "cell_type": "code",
      "execution_count": null,
      "metadata": {
        "cellView": "form",
        "id": "CR3MVg81IvWX",
        "jupyter": {
          "source_hidden": true
        }
      },
      "outputs": [],
      "source": [
        "# Do not edit this cell (Keep hidden to keep notebook easier to read)\n",
        "def test_homework(test_name, actual, expected):\n",
        "  if(actual == expected):\n",
        "    return 1\n",
        "  else:\n",
        "    print(\"Test failed. \" + test_name + \" expected \" + str(expected) + \", got \" + str(actual))\n",
        "    return 0\n",
        "\n",
        "print(\"Done!\")"
      ]
    },
    {
      "cell_type": "markdown",
      "metadata": {
        "id": "ZlJkSV3zURoe"
      },
      "source": [
        "# Exercise 1: Valid DNA Sequence"
      ]
    },
    {
      "cell_type": "markdown",
      "metadata": {
        "id": "aB-Dj5VNtdR3"
      },
      "source": [
        "DNA sequences have traditionally been represented as strings of the symbols A, C, G, and T, which represent the nucleobases, found in natural DNA. Scientists have recently uncovered the importance of chemical modifications to numerous nucleobases. While many of these were previously known, they have recently been shown to likely have impacts on the regulation of genes (specific sequences of nucleobases that encode for various functional units in cells, often the class of large bio-molecules called proteins). Many other modifications have only recently been discovered and found to be involved in essential cellular processes, some necessary for the development of various organisms.\n",
        "\n",
        "In order to analyze these modifications computationally, researchers at U of T have proposed and made use of an additional set of symbols, in effect, defining an expanded DNA alphabet. For example, cytosine (C) is often modified, by the addition of a methyl group (a CH3) at its fifth carbon, forming 5-methylcytosine. These researchers assign the symbol m to this nucleobase, adding a fifth symbol to the DNA alphabet. They have already defined other symbols and there may be more to come."
      ]
    },
    {
      "cell_type": "markdown",
      "metadata": {
        "id": "eEO4oSbItiLn"
      },
      "source": [
        "In this problem you will write a function valid_DNA_sequence that takes a sequence and a DNA nucleobase alphabet, and determines if all the symbols in the sequence are from those in the provided alphabet. Complete the function below:"
      ]
    },
    {
      "cell_type": "code",
      "execution_count": null,
      "metadata": {
        "id": "5VMGHClqUIgp"
      },
      "outputs": [],
      "source": [
        "def valid_DNA_sequence(sequence, DNA_alphabet):\n",
        "    \"\"\" (str, str) -> bool\n",
        "    \n",
        "    Return True iff sequence is composed only of characters found in DNA_alphabet.\n",
        "\n",
        "    >>> valid_DNA_sequence('AmGTCA', 'ACGT')\n",
        "    False\n",
        "    >>> valid_DNA_sequence('AmGTCA', 'ACGTmh')\n",
        "    True\n",
        "    \"\"\"\n",
        "    # Write your code here"
      ]
    },
    {
      "cell_type": "code",
      "execution_count": null,
      "metadata": {
        "id": "k-13NSkNUy1G"
      },
      "outputs": [],
      "source": [
        "# Test your function here"
      ]
    },
    {
      "cell_type": "markdown",
      "metadata": {
        "id": "oqhfaweTnfD0"
      },
      "source": [
        "### Run the hidden code cell to evaluate Exercise 1"
      ]
    },
    {
      "cell_type": "code",
      "execution_count": null,
      "metadata": {
        "cellView": "form",
        "id": "-dMw8ock5I2s",
        "jupyter": {
          "source_hidden": true
        }
      },
      "outputs": [],
      "source": [
        "# Do not edit this cell\n",
        "homework_score, max_homework_score = 0, 0\n",
        "\n",
        "homework_score += test_homework(\"Invalid necleobase in middle\", valid_DNA_sequence('AmGTCA', 'ACGT'), False)\n",
        "max_homework_score += 1\n",
        "homework_score += test_homework(\"All valid nucleobases from conventional DNA alphabet\", valid_DNA_sequence('CACGTG', 'ACGT'), True)\n",
        "max_homework_score += 1\n",
        "homework_score += test_homework(\"All valid nucleobases, modified DNA alphabet\", valid_DNA_sequence('AmGTCA', 'ACGTmh'), True)\n",
        "max_homework_score += 1\n",
        "homework_score += test_homework(\"All valid nucleobases, different modified DNA alphabet\", valid_DNA_sequence('TCAmGfGAcG', 'ACGTmhfc'), True)\n",
        "max_homework_score += 1\n",
        "homework_score += test_homework(\"Invalid instance of a uracil nucleobase in the (likely RNA) sequence\", valid_DNA_sequence('ACUA', 'ACGT'), False)\n",
        "max_homework_score += 1\n",
        "\n",
        "if homework_score == max_homework_score:\n",
        "  print(\"All test cases passed!\")\n",
        "print(\"Mark: \" + str(homework_score) + \"/\" + str(max_homework_score))"
      ]
    },
    {
      "cell_type": "markdown",
      "metadata": {
        "id": "Lqv-arD6VkIW"
      },
      "source": [
        "# Exercise 2: Checking Out of Bounds Measurements"
      ]
    },
    {
      "cell_type": "markdown",
      "metadata": {
        "id": "BMKjmIpVtvW4"
      },
      "source": [
        "You have a list of measurements which should each fall within an acceptable range for which you have an upper and lower limit. It is fine if the measurement exactly equals either limit.\n",
        "\n",
        "Write a boolean function `out_of_bounds()` that accepts the list, the upper limit and the lower limit (in that order) and returns `True` if any measurement in the list is outside of the acceptable range."
      ]
    },
    {
      "cell_type": "code",
      "execution_count": null,
      "metadata": {
        "id": "rq_IQU2NVnRw"
      },
      "outputs": [],
      "source": [
        "def out_of_bounds(L, upper, lower):\n",
        "    \"\"\"\n",
        "    \n",
        "    \"\"\""
      ]
    },
    {
      "cell_type": "code",
      "execution_count": null,
      "metadata": {
        "id": "1UcHnQQ8Vnze"
      },
      "outputs": [],
      "source": [
        "# Test your function here"
      ]
    },
    {
      "cell_type": "markdown",
      "metadata": {
        "id": "MjdWSuzGnfD3"
      },
      "source": [
        "### Run the hidden code cell to evaluate Exercise 2"
      ]
    },
    {
      "cell_type": "code",
      "execution_count": null,
      "metadata": {
        "cellView": "form",
        "id": "TLlvkngRVqGF",
        "jupyter": {
          "source_hidden": true
        }
      },
      "outputs": [],
      "source": [
        "# Do not edit this cell\n",
        "homework_score, max_homework_score = 0, 0\n",
        "\n",
        "homework_score += test_homework(\"Short list all clearly inside bounds\", out_of_bounds([5.4, 6.2, 1, 2.7], 10, 0), False)\n",
        "max_homework_score += 1\n",
        "homework_score += test_homework(\"One measurement too high\", out_of_bounds([38], 37.5, 36.5), True)\n",
        "max_homework_score += 1\n",
        "homework_score += test_homework(\"One temperature in longer list too low\", out_of_bounds([98.0, 98.3, 97.9, 97.2, 98.1], 99.5, 97.7), True)\n",
        "max_homework_score += 1\n",
        "homework_score += test_homework(\"Measurement exactly equal to boundaries\", out_of_bounds([5, 4, 3], 5, 3), False)\n",
        "max_homework_score += 1\n",
        "\n",
        "if homework_score == max_homework_score:\n",
        "  print(\"All test cases passed!\")\n",
        "print(\"Mark: \" + str(homework_score) + \"/\" + str(max_homework_score))"
      ]
    },
    {
      "cell_type": "markdown",
      "metadata": {
        "id": "w0gmV_f9yJwu"
      },
      "source": [
        "# Homework Completion\n",
        "Run this hidden code cell to check that you've successfully completed all of the exercises."
      ]
    },
    {
      "cell_type": "code",
      "execution_count": null,
      "metadata": {
        "cellView": "form",
        "id": "1nPQEMQkuBjr",
        "jupyter": {
          "source_hidden": true
        }
      },
      "outputs": [],
      "source": [
        "# Do not edit this cell\n",
        "homework_score, max_homework_score = 0, 0\n",
        "\n",
        "try:\n",
        "  # 1\n",
        "  homework_score += test_homework(\"Invalid necleobase in middle\", valid_DNA_sequence('AmGTCA', 'ACGT'), False)\n",
        "  max_homework_score += 1\n",
        "  homework_score += test_homework(\"All valid nucleobases from conventional DNA alphabet\", valid_DNA_sequence('CACGTG', 'ACGT'), True)\n",
        "  max_homework_score += 1\n",
        "  homework_score += test_homework(\"All valid nucleobases, modified DNA alphabet\", valid_DNA_sequence('AmGTCA', 'ACGTmh'), True)\n",
        "  max_homework_score += 1\n",
        "  homework_score += test_homework(\"All valid nucleobases, different modified DNA alphabet\", valid_DNA_sequence('TCAmGfGAcG', 'ACGTmhfc'), True)\n",
        "  max_homework_score += 1\n",
        "  homework_score += test_homework(\"Invalid instance of a uracil nucleobase in the (likely RNA) sequence\", valid_DNA_sequence('ACUA', 'ACGT'), False)\n",
        "  max_homework_score += 1\n",
        "\n",
        "  # 2\n",
        "  homework_score += test_homework(\"Short list all clearly inside bounds\", out_of_bounds([5.4, 6.2, 1, 2.7], 10, 0), False)\n",
        "  max_homework_score += 1\n",
        "  homework_score += test_homework(\"One measurement too high\", out_of_bounds([38], 37.5, 36.5), True)\n",
        "  max_homework_score += 1\n",
        "  homework_score += test_homework(\"One temperature in longer list too low\", out_of_bounds([98.0, 98.3, 97.9, 97.2, 98.1], 99.5, 97.7), True)\n",
        "  max_homework_score += 1\n",
        "  homework_score += test_homework(\"Measurement exactly equal to boundaries\", out_of_bounds([5, 4, 3], 5, 3), False)\n",
        "  max_homework_score += 1\n",
        "except NameError:\n",
        "  print(\"Oops! It seems like some of your functions are not implemented.\")\n",
        "\n",
        "if homework_score == max_homework_score:\n",
        "  print(\"Congratulations! All tests passed. Homework Complete!\")\n",
        "elif homework_score == 0:\n",
        "   print(\"\")\n",
        "else:\n",
        "  print(\"Some of your functions are working, but all test cases haven't passed yet. Keep on trying!\")\n",
        "\n",
        "print(\"Mark: \" + str(homework_score) + \"/\" + str(max_homework_score))"
      ]
    }
  ],
  "metadata": {
    "colab": {
      "collapsed_sections": [
        "Vc29wi_Fsn3P",
        "54kND3IJnfDp",
        "ZlJkSV3zURoe",
        "oqhfaweTnfD0",
        "Lqv-arD6VkIW",
        "MjdWSuzGnfD3",
        "w0gmV_f9yJwu"
      ],
      "name": "phase1session4_homework.ipynb",
      "provenance": []
    },
    "kernelspec": {
      "display_name": "Python 3",
      "language": "python",
      "name": "python3"
    },
    "language_info": {
      "codemirror_mode": {
        "name": "ipython",
        "version": 3
      },
      "file_extension": ".py",
      "mimetype": "text/x-python",
      "name": "python",
      "nbconvert_exporter": "python",
      "pygments_lexer": "ipython3",
      "version": "3.6.13"
    }
  },
  "nbformat": 4,
  "nbformat_minor": 0
}