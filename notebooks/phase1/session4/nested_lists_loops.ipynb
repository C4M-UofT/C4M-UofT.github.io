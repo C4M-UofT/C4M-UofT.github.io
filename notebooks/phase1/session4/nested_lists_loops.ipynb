{
 "cells": [
  {
   "cell_type": "markdown",
   "metadata": {},
   "source": [
    "# Nested Lists and Loops"
   ]
  },
  {
   "cell_type": "markdown",
   "metadata": {},
   "source": [
    "We've seen lists with `int`, `float`, `bool`, and `str` items.  When a `list` contains items of type `list`, this is called a *nested list*. Here is an example:"
   ]
  },
  {
   "cell_type": "code",
   "execution_count": 2,
   "metadata": {
    "collapsed": true
   },
   "outputs": [],
   "source": [
    "rhymes = [['cat', 'hat', 'fat'], ['mouse', 'house', 'louse'], ['be', 'see', 'key', 'he']]"
   ]
  },
  {
   "cell_type": "markdown",
   "metadata": {},
   "source": [
    "What is the type of `rhymes?`"
   ]
  },
  {
   "cell_type": "code",
   "execution_count": 3,
   "metadata": {
    "collapsed": false
   },
   "outputs": [
    {
     "data": {
      "text/plain": [
       "list"
      ]
     },
     "execution_count": 3,
     "metadata": {},
     "output_type": "execute_result"
    }
   ],
   "source": [
    "type(rhymes)"
   ]
  },
  {
   "cell_type": "markdown",
   "metadata": {},
   "source": [
    "What is the type of the first item in `rhymes`?"
   ]
  },
  {
   "cell_type": "code",
   "execution_count": 4,
   "metadata": {
    "collapsed": false
   },
   "outputs": [
    {
     "data": {
      "text/plain": [
       "list"
      ]
     },
     "execution_count": 4,
     "metadata": {},
     "output_type": "execute_result"
    }
   ],
   "source": [
    "type(rhymes[0])"
   ]
  },
  {
   "cell_type": "code",
   "execution_count": 5,
   "metadata": {
    "collapsed": false
   },
   "outputs": [
    {
     "data": {
      "text/plain": [
       "['cat', 'hat', 'fat']"
      ]
     },
     "execution_count": 5,
     "metadata": {},
     "output_type": "execute_result"
    }
   ],
   "source": [
    "rhymes[0]"
   ]
  },
  {
   "cell_type": "markdown",
   "metadata": {},
   "source": [
    "Since `rhymes[0]` produces the list `['cat', 'hat', 'fat']`, indexing into that list at index 1 produces `hat`:"
   ]
  },
  {
   "cell_type": "code",
   "execution_count": 6,
   "metadata": {
    "collapsed": false
   },
   "outputs": [
    {
     "data": {
      "text/plain": [
       "'hat'"
      ]
     },
     "execution_count": 6,
     "metadata": {},
     "output_type": "execute_result"
    }
   ],
   "source": [
    "rhymes[0][1]"
   ]
  },
  {
   "cell_type": "markdown",
   "metadata": {},
   "source": [
    "Using `rhymes`, give expressions that would produce each of the following values:\n",
    "\n",
    "- `'louse'`\n",
    "\n",
    "- `'key'`  \n",
    "\n",
    "- `['be', 'see', 'key', 'he']`\n",
    "\n",
    "- `['hat', 'fat']`"
   ]
  },
  {
   "cell_type": "markdown",
   "metadata": {},
   "source": [
    "## Looping over a nested list"
   ]
  },
  {
   "cell_type": "markdown",
   "metadata": {},
   "source": [
    "Consider the following loop using our `rhymes` list:"
   ]
  },
  {
   "cell_type": "code",
   "execution_count": 7,
   "metadata": {
    "collapsed": false
   },
   "outputs": [
    {
     "name": "stdout",
     "output_type": "stream",
     "text": [
      "['cat', 'hat', 'fat']\n",
      "['mouse', 'house', 'louse']\n",
      "['be', 'see', 'key', 'he']\n"
     ]
    }
   ],
   "source": [
    "for item in rhymes:\n",
    "    # do something with item\n",
    "    print(item)"
   ]
  },
  {
   "cell_type": "markdown",
   "metadata": {},
   "source": [
    "Each iteration through the loop, variable `item` refers to one of the inner lists."
   ]
  },
  {
   "cell_type": "markdown",
   "metadata": {},
   "source": [
    "### Example: hospital visits"
   ]
  },
  {
   "cell_type": "markdown",
   "metadata": {},
   "source": [
    "Suppose we have a list where each item represents the visit dates for a particular patient in the last month. We want to calculate the highest number of visits made by any patient. Let's write a function to do this."
   ]
  },
  {
   "cell_type": "markdown",
   "metadata": {},
   "source": [
    "First, here is an example call:\n",
    "\n",
    "    >>> max_visits([[2, 6], [3, 10], [15], [23], [1, 8, 15, 22, 29], [14]])\n",
    "    5"
   ]
  },
  {
   "cell_type": "markdown",
   "metadata": {},
   "source": [
    "Next, the type contract:   \n",
    "\n",
    "    (list of list of int) -> int"
   ]
  },
  {
   "cell_type": "markdown",
   "metadata": {},
   "source": [
    "Next, the header (the `def` line), which involves naming the parameter:"
   ]
  },
  {
   "cell_type": "code",
   "execution_count": 8,
   "metadata": {
    "collapsed": true
   },
   "outputs": [],
   "source": [
    "def max_visits(visits_by_patient):\n",
    "    \"\"\" (list of list of int) -> int \n",
    "    \n",
    "    Return the maximum number of visits made by any patient in visits_by_patient.\n",
    "    \n",
    "    >>> max_visits([[2, 6], [3, 10], [15], [23], [1, 8, 15, 22, 29], [14]])\n",
    "    5\n",
    "    \"\"\""
   ]
  },
  {
   "cell_type": "markdown",
   "metadata": {},
   "source": [
    "Now, code the body."
   ]
  },
  {
   "cell_type": "markdown",
   "metadata": {},
   "source": [
    "If we had a single list of visit dates, and wanted to know the number of visits what would we do? Call `len` on the list.\n",
    "So, we need to do this for each item (each inner list) of our `visits_by_patient` outer list."
   ]
  },
  {
   "cell_type": "code",
   "execution_count": 9,
   "metadata": {
    "collapsed": false
   },
   "outputs": [],
   "source": [
    "def max_visits(visits_by_patient):\n",
    "    \"\"\" (list of list of it) -> int \n",
    "    \n",
    "    Return the maximum number of visits made by any patient in visits_by_patient.\n",
    "    >>> max_visits([[2, 6], [3, 10], [15], [23], [1, 8, 15, 22, 29], [14]])\n",
    "    5\n",
    "    \"\"\"\n",
    "    \n",
    "    max_so_far = 0\n",
    "    for patient_list in visits_by_patient:\n",
    "        visits = len(patient_list)\n",
    "        if visits > max_so_far:\n",
    "            max_so_far = visits\n",
    "    return max_so_far"
   ]
  },
  {
   "cell_type": "code",
   "execution_count": 10,
   "metadata": {
    "collapsed": false
   },
   "outputs": [
    {
     "data": {
      "text/plain": [
       "5"
      ]
     },
     "execution_count": 10,
     "metadata": {},
     "output_type": "execute_result"
    }
   ],
   "source": [
    "max_visits([[2, 6], [3, 10], [15], [23], [1, 8, 15, 22, 29], [14]])"
   ]
  },
  {
   "cell_type": "markdown",
   "metadata": {},
   "source": [
    "### Practice Exercise: symptom count"
   ]
  },
  {
   "cell_type": "markdown",
   "metadata": {},
   "source": [
    "Suppose we have a nested list where each inner list contains strings that represent symptoms exhibited by the a patient. Write a function that takes this list as a parameter and returns a new list containing integers. For each patient, the new list should contain the number of symptoms they were exhibiting.\n",
    "\n",
    "Here is an example:\n",
    "\n",
    "    >>> symptom_count([['fatigue', 'abdominal swelling', 'bruising'], ['loss of appetite', 'fatigue']])\n",
    "    [3, 2]\n",
    "\n",
    "Follow the design recipe and start by writing the docstring.\n"
   ]
  },
  {
   "cell_type": "markdown",
   "metadata": {},
   "source": [
    "# Heterogeneous Lists #\n",
    "\n",
    "In Python, the items of a list can be of different types. For example, it is possible to have a list like this:\n",
    "\n",
    "    ['Milos', 'Jones', 48, 'male', 'smoker', 210]\n",
    "\n",
    "that represents one person's personal information. (The last number is total cholesterol in mg/dL.)\n",
    "\n",
    "Then, we could have a list of elements like this to represent a list of people.\n",
    "\n",
    "`[ ['Milos', 'Jones', 48, 'male', 'smoker', 210], `\n",
    "`['Delia', 'Chan', 39, 'female', 'non-smoker', 170],`\n",
    "`['Denise', 'Ross', 62, 'female', 'non-smoker' 150] ]`"
   ]
  },
  {
   "cell_type": "markdown",
   "metadata": {},
   "source": [
    "### Practice exercise: last names of female patients\n",
    "\n",
    "Suppose we have a nested list, where each inner list contains a patient's first name (a `str`), last name (a `str`), age in years (an `int`), sex (a `str`), and cholesterol in mg/dL (an `int`).  Write a program that produces a list of the last names of female patients."
   ]
  },
  {
   "cell_type": "markdown",
   "metadata": {},
   "source": [
    "## Nested Loops \n",
    "\n",
    "To solve some problems, we need to loop not only over the items of the outer list, but we also over the items of each of the inner lists.  This is called a *nested loop*.\n",
    "\n",
    "### Example: average heart rates\n",
    "\n",
    "Suppose we have a list that represents repeated heart-rate measurements for the same patient over a number of tests. Each inner-list is a test/situation and for that test, we monitored the heart rate for a little while taking a few measurements. Now we would like to calculate the average of the measurements for each test.\n",
    "\n",
    "    hr = [[72, 75, 71, 73],   # resting\n",
    "          [91, 90, 94, 93],   # walking slowly\n",
    "          [130, 135, 139, 142], # running on treadmill\n",
    "          [120, 118, 110, 105, 100, 98]] # after minute recovery"
   ]
  },
  {
   "cell_type": "markdown",
   "metadata": {},
   "source": [
    "Suppose we can't use the built-in `sum()` function, since the point is to use a loop inside outer loop!"
   ]
  },
  {
   "cell_type": "code",
   "execution_count": 26,
   "metadata": {
    "collapsed": false
   },
   "outputs": [
    {
     "name": "stdout",
     "output_type": "stream",
     "text": [
      "[72.75, 92.0, 136.5, 108.5]\n"
     ]
    }
   ],
   "source": [
    "hr = [[72, 75, 71, 73],              # resting\n",
    "      [91, 90, 94, 93],              # walking slowly\n",
    "      [130, 135, 139, 142],          # running on treadmill \n",
    "      [120, 118, 110, 105, 100, 98]] # after a minute recovery\n",
    "\n",
    "\n",
    "# start with an empty list that we will build to return (or print)\n",
    "result = []\n",
    "\n",
    "# loop over the outer list, each element is a test\n",
    "for test in hr:\n",
    "    \n",
    "    # reset the sum for this test to 0\n",
    "    sum = 0\n",
    "    \n",
    "    # loop over the inner list\n",
    "    for measurement in test:\n",
    "        sum = sum + measurement\n",
    "        \n",
    "    # finish up with this test before repeating the loop for the next one    \n",
    "    average = sum / len(test)\n",
    "    result.append(average)\n",
    "    \n",
    "print(result)"
   ]
  },
  {
   "cell_type": "markdown",
   "metadata": {},
   "source": [
    "### Practice Exercise: heart rate ranges\n",
    "\n",
    "Suppose we have a nested list that represents repeated heart rate measurements for the same patient over a number of tests. Each inner list contains heart rates measured during one test. \n",
    "\n",
    "Find range of heart rate measurements for each inner list. Note: do not modify the lists!\n",
    "\n",
    "1. First approach: use the built-in functions `min` and `max`.\n",
    "2. Second approach: do not use built-in functions `min` and `max`.\n",
    "\n",
    "For the sample list:\n",
    "\n",
    "     hr = [[72, 75, 71, 73],   # resting\n",
    "          [91, 90, 94, 93],   # walking slowly\n",
    "          [130, 135, 139, 142], # running on treadmill\n",
    "          [120, 118, 110, 105, 100, 98]] # after minute recovery\n",
    "\n",
    "The result is:\n",
    "\n",
    "    [4, 4, 12, 22]   "
   ]
  }
 ],
 "metadata": {
  "kernelspec": {
   "display_name": "Python 3",
   "language": "python",
   "name": "python3"
  },
  "language_info": {
   "codemirror_mode": {
    "name": "ipython",
    "version": 3
   },
   "file_extension": ".py",
   "mimetype": "text/x-python",
   "name": "python",
   "nbconvert_exporter": "python",
   "pygments_lexer": "ipython3",
   "version": "3.5.2"
  }
 },
 "nbformat": 4,
 "nbformat_minor": 0
}
