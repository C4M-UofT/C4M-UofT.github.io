{
 "cells": [
  {
   "cell_type": "markdown",
   "metadata": {
    "id": "FI_0E7avPe-b"
   },
   "source": [
    "# `while` Loop"
   ]
  },
  {
   "cell_type": "markdown",
   "metadata": {
    "id": "oxHh4h6E-Df5"
   },
   "source": [
    "## What Is a `while` Loop?"
   ]
  },
  {
   "cell_type": "markdown",
   "metadata": {
    "id": "z88vMnJsPe-h"
   },
   "source": [
    "A `while` loop is another kind of loop that allows you to run code multiple times with slight variations in each iteration."
   ]
  },
  {
   "cell_type": "markdown",
   "metadata": {
    "id": "Nc0wNfWk-QUH"
   },
   "source": [
    "A `while` loop has this general form:\n",
    "\n",
    "        while <<condition>>:\n",
    "            <<body>>\n",
    "\n",
    "The `while` loop consists of the following keywords and expressions:\n",
    "* `body`: The code that you want to run repeatedly\n",
    "* `condition`: An boolean statement that dictates how many times your loop operates\n",
    "\n",
    "       "
   ]
  },
  {
   "cell_type": "markdown",
   "metadata": {
    "id": "VQ12tK1d-o3I"
   },
   "source": [
    "In other words, the `while` loop checks whether the condition is `True`. If it is, it executes the body of the loop and goes back to check the condition again; if it is not `True`, the loop is done. \n",
    "\n",
    "Even if the condition becomes false *during* the body of the loop, the loop does not stop at that moment. The only time the program decides whether to continue or stop is when the loop header is reached."
   ]
  },
  {
   "cell_type": "markdown",
   "metadata": {
    "id": "L9eAW5lKPe-k"
   },
   "source": [
    "### First Example of a `while` Loop\n",
    "\n",
    "Let's say we have a list of daily heart rates for a patient and we want to report the first day when their heart rate was elevated above 100."
   ]
  },
  {
   "cell_type": "markdown",
   "metadata": {
    "id": "brf4EeP8EFqX"
   },
   "source": [
    "We could do this with a `for` loop as follows."
   ]
  },
  {
   "cell_type": "code",
   "execution_count": null,
   "metadata": {
    "colab": {
     "base_uri": "https://localhost:8080/"
    },
    "executionInfo": {
     "elapsed": 230,
     "status": "ok",
     "timestamp": 1631821637926,
     "user": {
      "displayName": "Alex Mariakakis",
      "photoUrl": "https://lh3.googleusercontent.com/a-/AOh14Ght6Dyv6e4hfso-1xpfI7hj0VNjb-z7AByT6gi2Tw=s64",
      "userId": "03266759294585342781"
     },
     "user_tz": 240
    },
    "id": "O1DyCVGVEFQ8",
    "outputId": "52bfa4bf-940f-468b-c556-8ef67288081a"
   },
   "outputs": [],
   "source": [
    "heart_rates = [75, 60, 80, 90, 105, 85]\n",
    "\n",
    "for i in range(len(heart_rates)):\n",
    "    if heart_rates[i] > 100:\n",
    "        print('Elevated on day:', i)\n",
    "        break"
   ]
  },
  {
   "cell_type": "markdown",
   "metadata": {
    "id": "TO7CX5eYHnxM"
   },
   "source": [
    "There are lots of ways of converting this into a `while` loop. Here are two ways of doing this:"
   ]
  },
  {
   "cell_type": "code",
   "execution_count": null,
   "metadata": {
    "colab": {
     "base_uri": "https://localhost:8080/"
    },
    "executionInfo": {
     "elapsed": 5,
     "status": "ok",
     "timestamp": 1631821762830,
     "user": {
      "displayName": "Alex Mariakakis",
      "photoUrl": "https://lh3.googleusercontent.com/a-/AOh14Ght6Dyv6e4hfso-1xpfI7hj0VNjb-z7AByT6gi2Tw=s64",
      "userId": "03266759294585342781"
     },
     "user_tz": 240
    },
    "id": "pzFvWe4_IlFu",
    "outputId": "044b2a98-3feb-41d5-ba9f-e854913cdaa4"
   },
   "outputs": [],
   "source": [
    "heart_rates = [75, 60, 80, 90, 105, 85]\n",
    "\n",
    "n_days = 0\n",
    "while n_days < len(heart_rates):\n",
    "    if heart_rates[n_days] > 100:\n",
    "        print('Elevated on day:', n_days)   \n",
    "        break\n",
    "    n_days += 1"
   ]
  },
  {
   "cell_type": "code",
   "execution_count": null,
   "metadata": {
    "colab": {
     "base_uri": "https://localhost:8080/"
    },
    "executionInfo": {
     "elapsed": 410,
     "status": "ok",
     "timestamp": 1631821761926,
     "user": {
      "displayName": "Alex Mariakakis",
      "photoUrl": "https://lh3.googleusercontent.com/a-/AOh14Ght6Dyv6e4hfso-1xpfI7hj0VNjb-z7AByT6gi2Tw=s64",
      "userId": "03266759294585342781"
     },
     "user_tz": 240
    },
    "id": "gLxuu-4hPe-l",
    "outputId": "b5b316ee-861c-416e-8ada-ed5d39fa7cb4"
   },
   "outputs": [],
   "source": [
    "heart_rates = [75, 60, 80, 90, 105, 85]\n",
    "\n",
    "n_days = 0\n",
    "while heart_rates[n_days] < 100:\n",
    "    n_days += 1\n",
    "\n",
    "print('Elevated on day:', n_days)    "
   ]
  },
  {
   "cell_type": "markdown",
   "metadata": {
    "id": "WTUsSZwRDtPs"
   },
   "source": [
    "Let's use the Python Visualizer to trace [the second version](https://pythontutor.com/csc108h.html#code=heart_rates%20%3D%20%5B75,%2060,%2080,%2090,%20105,%2085%5D%0A%0An_days%20%3D%200%0Awhile%20heart_rates%5Bn_days%5D%20%3C%20100%3A%0A%20%20%20%20n_days%20%2B%3D%201%0A%0Aprint%28'Elevated%20on%20day%3A',%20n_days%29%20%20%20%20&curInstr=0&mode=display&origin=csc108h.js&py=3&rawInputLstJSON=%5B%5D)."
   ]
  },
  {
   "cell_type": "markdown",
   "metadata": {
    "id": "DUNlBMdYPe-u"
   },
   "source": [
    "### Loops Conditions and Lazy Evaluation\n",
    "\n",
    "\n"
   ]
  },
  {
   "cell_type": "markdown",
   "metadata": {
    "id": "rTEtSc1bPe-t"
   },
   "source": [
    "Both of the previous `while` loops work if there is at least one value that is greater than 100, but what happens if that is not the case? Let's revisit them:"
   ]
  },
  {
   "cell_type": "code",
   "execution_count": null,
   "metadata": {
    "executionInfo": {
     "elapsed": 230,
     "status": "ok",
     "timestamp": 1631821848364,
     "user": {
      "displayName": "Alex Mariakakis",
      "photoUrl": "https://lh3.googleusercontent.com/a-/AOh14Ght6Dyv6e4hfso-1xpfI7hj0VNjb-z7AByT6gi2Tw=s64",
      "userId": "03266759294585342781"
     },
     "user_tz": 240
    },
    "id": "bvBMEg1bKTCf"
   },
   "outputs": [],
   "source": [
    "heart_rates = [75, 60, 80, 90, 95, 85]\n",
    "\n",
    "n_days = 0\n",
    "while n_days < len(heart_rates):\n",
    "    if heart_rates[n_days] > 100:\n",
    "        print('Elevated on day:', n_days)   \n",
    "        break\n",
    "    n_days += 1"
   ]
  },
  {
   "cell_type": "markdown",
   "metadata": {
    "id": "ROpf2a2jKe4u"
   },
   "source": [
    "This first example works fine because we eventually fail the condition at the loop header and the code exits without printing anything."
   ]
  },
  {
   "cell_type": "code",
   "execution_count": null,
   "metadata": {
    "colab": {
     "base_uri": "https://localhost:8080/",
     "height": 244
    },
    "executionInfo": {
     "elapsed": 233,
     "status": "error",
     "timestamp": 1631821881780,
     "user": {
      "displayName": "Alex Mariakakis",
      "photoUrl": "https://lh3.googleusercontent.com/a-/AOh14Ght6Dyv6e4hfso-1xpfI7hj0VNjb-z7AByT6gi2Tw=s64",
      "userId": "03266759294585342781"
     },
     "user_tz": 240
    },
    "id": "UNM60wfHKbj1",
    "outputId": "ec80fc12-5f6a-47e8-b25c-b20d1cc86ffe"
   },
   "outputs": [],
   "source": [
    "heart_rates = [75, 60, 80, 90, 95, 85]\n",
    "\n",
    "n_days = 0\n",
    "while heart_rates[n_days] < 100:\n",
    "    n_days += 1\n",
    "\n",
    "print('Elevated on day:', n_days)    "
   ]
  },
  {
   "cell_type": "markdown",
   "metadata": {
    "id": "7nfeF9eLKnwr"
   },
   "source": [
    "Here, on the other hand, `n_days` becomes an index that exceeds the length of the array `heart_rates`, which causes an error to appear. This particular issue can be solved by either adding a `break` statement or an additional condition to the loop header. Let us look at how to do the latter:"
   ]
  },
  {
   "cell_type": "code",
   "execution_count": null,
   "metadata": {
    "colab": {
     "base_uri": "https://localhost:8080/"
    },
    "executionInfo": {
     "elapsed": 238,
     "status": "ok",
     "timestamp": 1631822646991,
     "user": {
      "displayName": "Alex Mariakakis",
      "photoUrl": "https://lh3.googleusercontent.com/a-/AOh14Ght6Dyv6e4hfso-1xpfI7hj0VNjb-z7AByT6gi2Tw=s64",
      "userId": "03266759294585342781"
     },
     "user_tz": 240
    },
    "id": "5aufIOv-LjHK",
    "outputId": "a8fabc0c-c465-4fd1-b228-2a57c36b22bf"
   },
   "outputs": [],
   "source": [
    "heart_rates = [75, 60, 80, 90, 95, 85]\n",
    "\n",
    "n_days = 0\n",
    "while n_days < len(heart_rates) and heart_rates[n_days] < 100:\n",
    "    n_days += 1\n",
    "\n",
    "print('Elevated on day:', n_days)    "
   ]
  },
  {
   "cell_type": "markdown",
   "metadata": {
    "id": "RMVEqwTEN4eW"
   },
   "source": [
    "The order of the conditions matters. If you flip them around, you get the same error as before:"
   ]
  },
  {
   "cell_type": "code",
   "execution_count": null,
   "metadata": {
    "colab": {
     "base_uri": "https://localhost:8080/",
     "height": 244
    },
    "executionInfo": {
     "elapsed": 297,
     "status": "error",
     "timestamp": 1631822805500,
     "user": {
      "displayName": "Alex Mariakakis",
      "photoUrl": "https://lh3.googleusercontent.com/a-/AOh14Ght6Dyv6e4hfso-1xpfI7hj0VNjb-z7AByT6gi2Tw=s64",
      "userId": "03266759294585342781"
     },
     "user_tz": 240
    },
    "id": "N0eokg85N8Ar",
    "outputId": "84a84405-4eae-4ff2-8294-a2546bb53643"
   },
   "outputs": [],
   "source": [
    "heart_rates = [75, 60, 80, 90, 95, 85]\n",
    "\n",
    "n_days = 0\n",
    "while heart_rates[n_days] < 100 and n_days < len(heart_rates):\n",
    "    n_days += 1\n",
    "\n",
    "print('Elevated on day:', n_days)    "
   ]
  },
  {
   "cell_type": "markdown",
   "metadata": {
    "id": "v90eEWgfPe-1"
   },
   "source": [
    "In Python, when the first operand to the `and` operator is `False`, the second operand is not evaluated.  When `i >= len(heart_rates)` and the first operand is `False` in the version that worked, the second operand isn't evaluated and the index out of range error is avoided."
   ]
  },
  {
   "cell_type": "markdown",
   "metadata": {
    "id": "4RQDjKTfLYgI"
   },
   "source": [
    "So why would you use a `while` loop instead of a `for` loop? In general, `for` loops are preferred when you can calculate how many iterations your code will need to run. On the other hand, a `while` loop is better for when you need your code to stop for some other reason. The exercises in this notebook will be some good examples."
   ]
  },
  {
   "cell_type": "markdown",
   "metadata": {
    "id": "vKMRPTUmPe-2"
   },
   "source": [
    "### Practice Exercise: Checking for Valid Input\n",
    "\n",
    "a) Write a function `yes_or_no` that asks a user to enter either `'yes'` or `'no'` and keeps looping asking again and again until the user enters one of these two options."
   ]
  },
  {
   "cell_type": "code",
   "execution_count": null,
   "metadata": {
    "id": "fkii2Gy2BYCE"
   },
   "outputs": [],
   "source": [
    "# Write your code here"
   ]
  },
  {
   "cell_type": "markdown",
   "metadata": {
    "id": "GH4EQhjtBYzQ"
   },
   "source": [
    "b) Now, change your function so that it accepts any case variation, such as `'Yes'`, `'YES'` or even `'nO'`. If the user inputs `'nope'` or `'maybe'` or anything else, it doesn't return and asks again for `'yes'` or `'no'`."
   ]
  },
  {
   "cell_type": "code",
   "execution_count": null,
   "metadata": {
    "id": "A4mD9JFTBYdO"
   },
   "outputs": [],
   "source": [
    "# Write your code here"
   ]
  },
  {
   "cell_type": "markdown",
   "metadata": {
    "id": "Jy3sgGS4Pe-2"
   },
   "source": [
    "### Practice Exercise: A Better Guessing Game"
   ]
  },
  {
   "cell_type": "markdown",
   "metadata": {
    "id": "64dNf8BkPe-3"
   },
   "source": [
    "In a previous session, we wrote code to guess a number.  If the user guessed wrong, we reported `Too high`, `Too low`, or `You got it`:"
   ]
  },
  {
   "cell_type": "code",
   "execution_count": null,
   "metadata": {
    "id": "bUTWk4txPe-6",
    "outputId": "300c9cfe-8158-4ae5-bf1c-28ac1cb257f4"
   },
   "outputs": [],
   "source": [
    "# Generate a random integer between 1 and 10\n",
    "import random\n",
    "secret = random.randint(1, 10)\n",
    "\n",
    "# Ask the user to guess a number\n",
    "guess = int(input('Enter a number between 1 and 10: '))\n",
    "\n",
    "# Check if the number is correct\n",
    "if guess == secret:\n",
    "    print('You got it')\n",
    "elif guess > secret:\n",
    "    print('Too high')\n",
    "else:\n",
    "    print('Too low')"
   ]
  },
  {
   "cell_type": "markdown",
   "metadata": {
    "id": "AsW3K_adPe-7"
   },
   "source": [
    "Now, rather than have the user guess only once, prompt the user to guess until they get it right."
   ]
  },
  {
   "cell_type": "code",
   "execution_count": null,
   "metadata": {
    "id": "cUn5YrwB_gm8"
   },
   "outputs": [],
   "source": [
    "# Write your code here"
   ]
  }
 ],
 "metadata": {
  "colab": {
   "collapsed_sections": [],
   "name": "Copy of while.ipynb",
   "provenance": [
    {
     "file_id": "https://github.com/C4M-UofT/C4M-UofT.github.io/blob/master/notebooks/while.ipynb",
     "timestamp": 1631672448748
    }
   ]
  },
  "kernelspec": {
   "display_name": "Python 3",
   "language": "python",
   "name": "python3"
  },
  "language_info": {
   "codemirror_mode": {
    "name": "ipython",
    "version": 3
   },
   "file_extension": ".py",
   "mimetype": "text/x-python",
   "name": "python",
   "nbconvert_exporter": "python",
   "pygments_lexer": "ipython3",
   "version": "3.6.13"
  }
 },
 "nbformat": 4,
 "nbformat_minor": 4
}
