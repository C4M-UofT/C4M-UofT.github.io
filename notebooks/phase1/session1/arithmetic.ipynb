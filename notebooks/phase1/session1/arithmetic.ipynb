{
 "cells": [
  {
   "cell_type": "markdown",
   "metadata": {
    "id": "d8LJtTRao5Jk"
   },
   "source": [
    "# Arithmetic Operators and Built-in Functions"
   ]
  },
  {
   "cell_type": "markdown",
   "metadata": {
    "id": "HIlMjLrgo5Jn"
   },
   "source": [
    "## Using Python as a Calculator"
   ]
  },
  {
   "cell_type": "markdown",
   "metadata": {
    "id": "Shu4un5to5Jr"
   },
   "source": [
    "Each Python value has a type. For now, we are going to just talk about numbers.\n",
    "\n",
    "* `int`: Integers like `4`, `5`, and `-3`\n",
    "* `float`: Floating point numbers, which are numbers with fractional parts like `12.5` and `-3.4`"
   ]
  },
  {
   "cell_type": "markdown",
   "metadata": {
    "id": "aPa9VODMLC_k"
   },
   "source": [
    "You can use scientific notation to write really big and really small numbers:"
   ]
  },
  {
   "cell_type": "code",
   "execution_count": null,
   "metadata": {
    "colab": {
     "base_uri": "https://localhost:8080/"
    },
    "executionInfo": {
     "elapsed": 143,
     "status": "ok",
     "timestamp": 1628886293134,
     "user": {
      "displayName": "Alex Mariakakis",
      "photoUrl": "https://lh3.googleusercontent.com/a-/AOh14Ght6Dyv6e4hfso-1xpfI7hj0VNjb-z7AByT6gi2Tw=s64",
      "userId": "03266759294585342781"
     },
     "user_tz": 420
    },
    "id": "k7-aDP65L8kI",
    "outputId": "29589cea-9b04-4ff3-fcc3-5bfb30b5da5c"
   },
   "outputs": [],
   "source": [
    "1.234e5"
   ]
  },
  {
   "cell_type": "code",
   "execution_count": null,
   "metadata": {
    "colab": {
     "base_uri": "https://localhost:8080/"
    },
    "executionInfo": {
     "elapsed": 146,
     "status": "ok",
     "timestamp": 1628886317224,
     "user": {
      "displayName": "Alex Mariakakis",
      "photoUrl": "https://lh3.googleusercontent.com/a-/AOh14Ght6Dyv6e4hfso-1xpfI7hj0VNjb-z7AByT6gi2Tw=s64",
      "userId": "03266759294585342781"
     },
     "user_tz": 420
    },
    "id": "mzQ6BlaxMGkO",
    "outputId": "2e9f9a5a-4e68-40a4-c81c-d40a976206ea"
   },
   "outputs": [],
   "source": [
    "1.234e-3"
   ]
  },
  {
   "cell_type": "markdown",
   "metadata": {
    "id": "MYq1Yjh4MVVB"
   },
   "source": [
    "However, there are limits to the kinds of numbers that can be represented on a computer. "
   ]
  },
  {
   "cell_type": "code",
   "execution_count": null,
   "metadata": {
    "colab": {
     "base_uri": "https://localhost:8080/"
    },
    "executionInfo": {
     "elapsed": 186,
     "status": "ok",
     "timestamp": 1628886516986,
     "user": {
      "displayName": "Alex Mariakakis",
      "photoUrl": "https://lh3.googleusercontent.com/a-/AOh14Ght6Dyv6e4hfso-1xpfI7hj0VNjb-z7AByT6gi2Tw=s64",
      "userId": "03266759294585342781"
     },
     "user_tz": 420
    },
    "id": "Iz6pD8zzMUJt",
    "outputId": "dff982ee-d14b-4c8d-ac56-ca5a4eacf3f3"
   },
   "outputs": [],
   "source": [
    "2e100000"
   ]
  },
  {
   "cell_type": "code",
   "execution_count": null,
   "metadata": {
    "colab": {
     "base_uri": "https://localhost:8080/"
    },
    "executionInfo": {
     "elapsed": 200,
     "status": "ok",
     "timestamp": 1628886654428,
     "user": {
      "displayName": "Alex Mariakakis",
      "photoUrl": "https://lh3.googleusercontent.com/a-/AOh14Ght6Dyv6e4hfso-1xpfI7hj0VNjb-z7AByT6gi2Tw=s64",
      "userId": "03266759294585342781"
     },
     "user_tz": 420
    },
    "id": "nqfCRNOANbG_",
    "outputId": "eec0e230-c3e7-49a1-f833-e4c5276f5dea"
   },
   "outputs": [],
   "source": [
    "-2e100000"
   ]
  },
  {
   "cell_type": "markdown",
   "metadata": {
    "id": "5hUa_bpoNkyi"
   },
   "source": [
    "When writing programs, we can mix in English language notes and explanations called *comments*."
   ]
  },
  {
   "cell_type": "code",
   "execution_count": null,
   "metadata": {
    "id": "RP5e6Ujto5Ju"
   },
   "outputs": [],
   "source": [
    "# Whatever comes after the # symbol is not executed.\n",
    "# Comments can be written above, below, or to the right of lines of code"
   ]
  },
  {
   "cell_type": "markdown",
   "metadata": {
    "id": "YG21xzFcsbbZ"
   },
   "source": [
    "The following are examples of basic arithmetic operations in Python:"
   ]
  },
  {
   "cell_type": "code",
   "execution_count": null,
   "metadata": {
    "colab": {
     "base_uri": "https://localhost:8080/"
    },
    "executionInfo": {
     "elapsed": 156,
     "status": "ok",
     "timestamp": 1628880170304,
     "user": {
      "displayName": "",
      "photoUrl": "",
      "userId": ""
     },
     "user_tz": 420
    },
    "id": "kCNE4zWNo5Jo",
    "outputId": "830111e8-ce4b-4597-b012-623fe5ff80bf"
   },
   "outputs": [],
   "source": [
    "# Addition\n",
    "4 + 5"
   ]
  },
  {
   "cell_type": "code",
   "execution_count": null,
   "metadata": {
    "colab": {
     "base_uri": "https://localhost:8080/"
    },
    "executionInfo": {
     "elapsed": 12,
     "status": "ok",
     "timestamp": 1628879156869,
     "user": {
      "displayName": "",
      "photoUrl": "",
      "userId": ""
     },
     "user_tz": 420
    },
    "id": "YkbNwfKro5Jq",
    "outputId": "5f47005f-98a9-4751-e9f6-8d4cc1d4a7bc"
   },
   "outputs": [],
   "source": [
    "# Subtraction\n",
    "15 - 12.5"
   ]
  },
  {
   "cell_type": "code",
   "execution_count": null,
   "metadata": {
    "colab": {
     "base_uri": "https://localhost:8080/"
    },
    "executionInfo": {
     "elapsed": 11,
     "status": "ok",
     "timestamp": 1628879156869,
     "user": {
      "displayName": "",
      "photoUrl": "",
      "userId": ""
     },
     "user_tz": 420
    },
    "id": "MZ92JF5Zo5Jq",
    "outputId": "ba2a5bbc-d47e-4a37-84f5-bb97c703d39a"
   },
   "outputs": [],
   "source": [
    "# Multiplication\n",
    "3.4 * 6"
   ]
  },
  {
   "cell_type": "code",
   "execution_count": null,
   "metadata": {
    "colab": {
     "base_uri": "https://localhost:8080/"
    },
    "executionInfo": {
     "elapsed": 11,
     "status": "ok",
     "timestamp": 1628879156870,
     "user": {
      "displayName": "",
      "photoUrl": "",
      "userId": ""
     },
     "user_tz": 420
    },
    "id": "rRi2AdCHo5Js",
    "outputId": "bbf1a0f8-2314-4649-e331-8ed7e5b6a9fc"
   },
   "outputs": [],
   "source": [
    "# Division\n",
    "8 / 4"
   ]
  },
  {
   "cell_type": "code",
   "execution_count": null,
   "metadata": {
    "colab": {
     "base_uri": "https://localhost:8080/"
    },
    "executionInfo": {
     "elapsed": 10,
     "status": "ok",
     "timestamp": 1628879156871,
     "user": {
      "displayName": "",
      "photoUrl": "",
      "userId": ""
     },
     "user_tz": 420
    },
    "id": "KpAvToQVo5Ju",
    "outputId": "d611423a-9b36-4820-df76-ca403e3bd810"
   },
   "outputs": [],
   "source": [
    "# Exponential\n",
    "2 ** 5  # 2 to the power of 5"
   ]
  },
  {
   "cell_type": "markdown",
   "metadata": {
    "id": "TM5_qy4bo5Js"
   },
   "source": [
    "Notice how the default division operator `/` produces a `float`, even if the formula involves `ints`. You can also do integer division using the `//` operator, and you can get the remainder using the `%` (**modulo** or **mod** for short) operator. In the example below, we show that the fraction 10 / 3 can be rewritten as 3 with a remainder of 1 (3 1/3):"
   ]
  },
  {
   "cell_type": "code",
   "execution_count": null,
   "metadata": {
    "colab": {
     "base_uri": "https://localhost:8080/"
    },
    "executionInfo": {
     "elapsed": 156,
     "status": "ok",
     "timestamp": 1628879157018,
     "user": {
      "displayName": "",
      "photoUrl": "",
      "userId": ""
     },
     "user_tz": 420
    },
    "id": "FZQ9l5Kzo5Jt",
    "outputId": "6f3f14e3-c997-4fe8-a005-801fb157d51b"
   },
   "outputs": [],
   "source": [
    "# Integer division\n",
    "10 // 3"
   ]
  },
  {
   "cell_type": "code",
   "execution_count": null,
   "metadata": {
    "colab": {
     "base_uri": "https://localhost:8080/"
    },
    "executionInfo": {
     "elapsed": 6,
     "status": "ok",
     "timestamp": 1628879157019,
     "user": {
      "displayName": "",
      "photoUrl": "",
      "userId": ""
     },
     "user_tz": 420
    },
    "id": "qevpik1ho5Jv",
    "outputId": "72a92823-80f9-4d6d-ac9c-ff5116808af5"
   },
   "outputs": [],
   "source": [
    "# Mod operator\n",
    "10 % 3"
   ]
  },
  {
   "cell_type": "markdown",
   "metadata": {
    "id": "KSxjpgaCo5Jw"
   },
   "source": [
    "Just like regular math, math in programming must the PEMDAS order of operations. This is the order of precedence from highest to lowest and left to right:\n",
    "\n",
    "* **P**arentheses: `()`\n",
    "* **E**xponential: `**`\n",
    "* **M**ultiplication: `-` (negation), `*`\n",
    "* **D**ivision: `/`, `//`, `%`\n",
    "* **A**ddition: `+`\n",
    "* **S**ubtraction: `-`"
   ]
  },
  {
   "cell_type": "code",
   "execution_count": null,
   "metadata": {
    "colab": {
     "base_uri": "https://localhost:8080/"
    },
    "executionInfo": {
     "elapsed": 142,
     "status": "ok",
     "timestamp": 1628882950302,
     "user": {
      "displayName": "",
      "photoUrl": "",
      "userId": ""
     },
     "user_tz": 420
    },
    "id": "I6Y65CZY-VVh",
    "outputId": "50a4679e-af25-407e-963d-307d153df909"
   },
   "outputs": [],
   "source": [
    "-3+3*5"
   ]
  },
  {
   "cell_type": "code",
   "execution_count": null,
   "metadata": {
    "colab": {
     "base_uri": "https://localhost:8080/"
    },
    "executionInfo": {
     "elapsed": 4,
     "status": "ok",
     "timestamp": 1628882951155,
     "user": {
      "displayName": "",
      "photoUrl": "",
      "userId": ""
     },
     "user_tz": 420
    },
    "id": "IVsLlXQy-hJd",
    "outputId": "5d9906fe-548a-4671-80c6-8beab0e422ab"
   },
   "outputs": [],
   "source": [
    "-(3+3)*5"
   ]
  },
  {
   "cell_type": "markdown",
   "metadata": {
    "id": "4iJ289MfQwa7"
   },
   "source": [
    "Also like in regular math, we call the statements above **expressions** — finite combinations of symbols that are well-formed according to rules."
   ]
  },
  {
   "cell_type": "markdown",
   "metadata": {
    "id": "u0usjSRTo5Jz"
   },
   "source": [
    "## Practice Exercise: Writing Expressions"
   ]
  },
  {
   "cell_type": "markdown",
   "metadata": {
    "id": "793UMUO7ewG7"
   },
   "source": [
    "1. A patient just turned 80 years old.  Write a Python expression to calculate her age in months."
   ]
  },
  {
   "cell_type": "code",
   "execution_count": null,
   "metadata": {
    "id": "gadU8-xye4xe"
   },
   "outputs": [],
   "source": [
    "# Write your expression here"
   ]
  },
  {
   "cell_type": "markdown",
   "metadata": {
    "id": "rna3eA4jezGA"
   },
   "source": [
    "2. A father reports that his son's temperature was 40.1 degrees Celsius when measured at home.  Write an expression to covert the temperature from Celsius to Fahreneheit (formula: multiply by 9, divide by 5, and then add 32.)"
   ]
  },
  {
   "cell_type": "code",
   "execution_count": null,
   "metadata": {
    "id": "WCSnIOR3e8g1"
   },
   "outputs": [],
   "source": [
    "# Write your expression here"
   ]
  },
  {
   "cell_type": "markdown",
   "metadata": {
    "id": "xHb3jDmEo5Jw"
   },
   "source": [
    "## Encountering Errors"
   ]
  },
  {
   "cell_type": "markdown",
   "metadata": {
    "id": "xwKg_Dyto5Jx"
   },
   "source": [
    "When programming, it is common to encounter errors.  You will learn how to interpret the error messages, so that you can fix your code.  Here are a few examples:"
   ]
  },
  {
   "cell_type": "code",
   "execution_count": null,
   "metadata": {
    "colab": {
     "base_uri": "https://localhost:8080/",
     "height": 136
    },
    "executionInfo": {
     "elapsed": 163,
     "status": "error",
     "timestamp": 1628879151292,
     "user": {
      "displayName": "",
      "photoUrl": "",
      "userId": ""
     },
     "user_tz": 420
    },
    "id": "Wa7n8Buio5Jx",
    "outputId": "7e6b7651-9827-4f0d-abba-d43986d4307f"
   },
   "outputs": [],
   "source": [
    "# Incomplete math expression\n",
    "3 + "
   ]
  },
  {
   "cell_type": "code",
   "execution_count": null,
   "metadata": {
    "colab": {
     "base_uri": "https://localhost:8080/",
     "height": 136
    },
    "executionInfo": {
     "elapsed": 69,
     "status": "error",
     "timestamp": 1628879151579,
     "user": {
      "displayName": "",
      "photoUrl": "",
      "userId": ""
     },
     "user_tz": 420
    },
    "id": "EBa0XNI-o5Jx",
    "outputId": "6a3ed941-b3e1-4c3e-954e-4139778f6dc6"
   },
   "outputs": [],
   "source": [
    "# Missing (\n",
    "4 + 5 ) * 2"
   ]
  },
  {
   "cell_type": "code",
   "execution_count": null,
   "metadata": {
    "colab": {
     "base_uri": "https://localhost:8080/",
     "height": 136
    },
    "executionInfo": {
     "elapsed": 171,
     "status": "error",
     "timestamp": 1628882166667,
     "user": {
      "displayName": "",
      "photoUrl": "",
      "userId": ""
     },
     "user_tz": 420
    },
    "id": "wAXhyVECo5Jy",
    "outputId": "d9e8a407-d0f7-49de-e722-4773002f7782"
   },
   "outputs": [],
   "source": [
    "# Either missing a multiplier or an incorrect exponential operator\n",
    "2 * * 5 "
   ]
  },
  {
   "cell_type": "code",
   "execution_count": null,
   "metadata": {
    "colab": {
     "base_uri": "https://localhost:8080/",
     "height": 190
    },
    "executionInfo": {
     "elapsed": 155,
     "status": "error",
     "timestamp": 1628882170438,
     "user": {
      "displayName": "",
      "photoUrl": "",
      "userId": ""
     },
     "user_tz": 420
    },
    "id": "Fyze74sto5Jz",
    "outputId": "bd1359ef-9b7e-4ac6-dd9b-fdab94f43b55"
   },
   "outputs": [],
   "source": [
    "# Cannot divide by zero\n",
    "9 / 0 "
   ]
  },
  {
   "cell_type": "markdown",
   "metadata": {
    "id": "va4NqrA51zJo"
   },
   "source": [
    "A few notes on the examples above:\n",
    "* Notice that the errors have different names. A `SyntaxError` refers to cases when the code is formatted correctly, and a `ZeroDivisionError` refers to cases when you try to divide by zero. You will encounter many other errors in the future.\n",
    "* Python tries to do its best to be as specific as possible about the error's type and location, but it is not perfect\n",
    "* If you are running this in Google Colab, you will notice that a button that allows you to `Search Stack Overflow` appears. [Stack Overflow](https://www.stackoverflow.com) is one of the most popular resources that programmers use to troubleshoot their code."
   ]
  },
  {
   "cell_type": "markdown",
   "metadata": {
    "id": "Vzj4OXsjo5Jz"
   },
   "source": [
    "## Built-in Functions"
   ]
  },
  {
   "cell_type": "markdown",
   "metadata": {
    "id": "J-VTz9wQo5Jz"
   },
   "source": [
    "In addition to the operators shown above, the Python language comes with a set of functions that we can use."
   ]
  },
  {
   "cell_type": "code",
   "execution_count": null,
   "metadata": {
    "colab": {
     "base_uri": "https://localhost:8080/"
    },
    "executionInfo": {
     "elapsed": 3,
     "status": "ok",
     "timestamp": 1628883141342,
     "user": {
      "displayName": "",
      "photoUrl": "",
      "userId": ""
     },
     "user_tz": 420
    },
    "id": "yVk4mCyOo5J0",
    "outputId": "b661e6c1-067f-4969-bd5a-f4e713a2cfa7"
   },
   "outputs": [],
   "source": [
    "# Minimum in a collection of numbers\n",
    "min(45.2, 23)"
   ]
  },
  {
   "cell_type": "code",
   "execution_count": null,
   "metadata": {
    "colab": {
     "base_uri": "https://localhost:8080/"
    },
    "executionInfo": {
     "elapsed": 146,
     "status": "ok",
     "timestamp": 1628883140588,
     "user": {
      "displayName": "",
      "photoUrl": "",
      "userId": ""
     },
     "user_tz": 420
    },
    "id": "UB-alMMXo5J0",
    "outputId": "24c612b0-8538-4fc5-cb2a-066214ecb9c3"
   },
   "outputs": [],
   "source": [
    "# Maximum in a collection of numbers\n",
    "max(5, 5.2)"
   ]
  },
  {
   "cell_type": "code",
   "execution_count": null,
   "metadata": {
    "id": "g8m3Q1sxo5J0",
    "outputId": "7d8940a6-b5e6-40b8-a191-f73d0ec9f634"
   },
   "outputs": [],
   "source": [
    "# Absolute value\n",
    "abs(-10)"
   ]
  },
  {
   "cell_type": "code",
   "execution_count": null,
   "metadata": {
    "colab": {
     "base_uri": "https://localhost:8080/"
    },
    "executionInfo": {
     "elapsed": 157,
     "status": "ok",
     "timestamp": 1628887948204,
     "user": {
      "displayName": "Alex Mariakakis",
      "photoUrl": "https://lh3.googleusercontent.com/a-/AOh14Ght6Dyv6e4hfso-1xpfI7hj0VNjb-z7AByT6gi2Tw=s64",
      "userId": "03266759294585342781"
     },
     "user_tz": 420
    },
    "id": "5YY_8YK0SNu3",
    "outputId": "ddbbe053-6df2-4853-f230-ddb150fdcc4c"
   },
   "outputs": [],
   "source": [
    "# Power (similar to **)\n",
    "pow(2, 4)"
   ]
  },
  {
   "cell_type": "code",
   "execution_count": null,
   "metadata": {
    "id": "tGlFNEJAo5J1",
    "outputId": "4c845464-bebe-4784-9044-531aa3c09d52"
   },
   "outputs": [],
   "source": [
    "# Type of a number\n",
    "type(4)"
   ]
  },
  {
   "cell_type": "code",
   "execution_count": null,
   "metadata": {
    "id": "dN7qSPwHo5J1",
    "outputId": "466a021f-9fce-4f42-abc9-d3166feecf7b"
   },
   "outputs": [],
   "source": [
    "# Type of a number\n",
    "type(8.25)"
   ]
  },
  {
   "cell_type": "markdown",
   "metadata": {
    "id": "LwCkh18to5J1"
   },
   "source": [
    "## Practice Exercise: Calling on `round`"
   ]
  },
  {
   "cell_type": "markdown",
   "metadata": {
    "id": "8p1jn1yOo5J1"
   },
   "source": [
    "Python has a built-in function named `round`. In the Python shell, run each function call below and record the result:\n",
    "1. `round(24.2)`\n",
    "2. `round(24.5)`\n",
    "3. `round(24.9)`\n",
    "4. `round(1.234567, 2)`\n",
    "5. `round(1.234567, 3)`"
   ]
  },
  {
   "cell_type": "code",
   "execution_count": null,
   "metadata": {
    "id": "e0WtfkFBe_pA"
   },
   "outputs": [],
   "source": [
    "# Try different round() calls here"
   ]
  }
 ],
 "metadata": {
  "colab": {
   "collapsed_sections": [],
   "name": "Copy of arithmetic.ipynb",
   "provenance": [
    {
     "file_id": "https://github.com/C4M-UofT/C4M-UofT.github.io/blob/master/notebooks/operators_builtins.ipynb",
     "timestamp": 1628883220375
    }
   ]
  },
  "kernelspec": {
   "display_name": "Python 3",
   "language": "python",
   "name": "python3"
  },
  "language_info": {
   "codemirror_mode": {
    "name": "ipython",
    "version": 3
   },
   "file_extension": ".py",
   "mimetype": "text/x-python",
   "name": "python",
   "nbconvert_exporter": "python",
   "pygments_lexer": "ipython3",
   "version": "3.6.13"
  }
 },
 "nbformat": 4,
 "nbformat_minor": 4
}
