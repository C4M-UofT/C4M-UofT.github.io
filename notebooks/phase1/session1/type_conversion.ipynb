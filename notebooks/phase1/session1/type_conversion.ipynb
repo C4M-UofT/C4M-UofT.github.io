{
 "cells": [
  {
   "cell_type": "markdown",
   "metadata": {
    "id": "5B7i8peBxOxX"
   },
   "source": [
    "# Type Conversion"
   ]
  },
  {
   "cell_type": "markdown",
   "metadata": {
    "id": "b1ERUZBnxOxa"
   },
   "source": [
    "We've seen several Python types, including `int`, `float`, and `str`."
   ]
  },
  {
   "cell_type": "code",
   "execution_count": null,
   "metadata": {
    "colab": {
     "base_uri": "https://localhost:8080/"
    },
    "executionInfo": {
     "elapsed": 349,
     "status": "ok",
     "timestamp": 1629144617975,
     "user": {
      "displayName": "Alex Mariakakis",
      "photoUrl": "https://lh3.googleusercontent.com/a-/AOh14Ght6Dyv6e4hfso-1xpfI7hj0VNjb-z7AByT6gi2Tw=s64",
      "userId": "03266759294585342781"
     },
     "user_tz": 420
    },
    "id": "YAn_65x-xOxb",
    "outputId": "eec904ef-cc46-41c8-ff29-a847a612f0c5"
   },
   "outputs": [],
   "source": [
    "type(42)"
   ]
  },
  {
   "cell_type": "code",
   "execution_count": null,
   "metadata": {
    "colab": {
     "base_uri": "https://localhost:8080/"
    },
    "executionInfo": {
     "elapsed": 31,
     "status": "ok",
     "timestamp": 1629144618724,
     "user": {
      "displayName": "Alex Mariakakis",
      "photoUrl": "https://lh3.googleusercontent.com/a-/AOh14Ght6Dyv6e4hfso-1xpfI7hj0VNjb-z7AByT6gi2Tw=s64",
      "userId": "03266759294585342781"
     },
     "user_tz": 420
    },
    "id": "a8IZzgMXxOxc",
    "outputId": "62d2508d-20aa-4307-b9c8-76bc118b9e03"
   },
   "outputs": [],
   "source": [
    "type(3.14)"
   ]
  },
  {
   "cell_type": "code",
   "execution_count": null,
   "metadata": {
    "colab": {
     "base_uri": "https://localhost:8080/"
    },
    "executionInfo": {
     "elapsed": 31,
     "status": "ok",
     "timestamp": 1629144618725,
     "user": {
      "displayName": "Alex Mariakakis",
      "photoUrl": "https://lh3.googleusercontent.com/a-/AOh14Ght6Dyv6e4hfso-1xpfI7hj0VNjb-z7AByT6gi2Tw=s64",
      "userId": "03266759294585342781"
     },
     "user_tz": 420
    },
    "id": "hfERZRAnxOxd",
    "outputId": "2d7792da-5e0d-4fec-d4c7-e5780d346512"
   },
   "outputs": [],
   "source": [
    "type('Hello')"
   ]
  },
  {
   "cell_type": "markdown",
   "metadata": {
    "id": "7ZgFygIKxkwU"
   },
   "source": [
    "## Between Numeric Types"
   ]
  },
  {
   "cell_type": "markdown",
   "metadata": {
    "id": "FVLl-UR3xs0j"
   },
   "source": [
    "You can convert between `int` and `float` using their respective built-in functions:"
   ]
  },
  {
   "cell_type": "code",
   "execution_count": null,
   "metadata": {
    "colab": {
     "base_uri": "https://localhost:8080/"
    },
    "executionInfo": {
     "elapsed": 29,
     "status": "ok",
     "timestamp": 1629144618727,
     "user": {
      "displayName": "Alex Mariakakis",
      "photoUrl": "https://lh3.googleusercontent.com/a-/AOh14Ght6Dyv6e4hfso-1xpfI7hj0VNjb-z7AByT6gi2Tw=s64",
      "userId": "03266759294585342781"
     },
     "user_tz": 420
    },
    "id": "swvgqAPrxzb4",
    "outputId": "6b6c92a2-e5ca-4397-829a-be375b7d96bf"
   },
   "outputs": [],
   "source": [
    "float(-5)"
   ]
  },
  {
   "cell_type": "code",
   "execution_count": null,
   "metadata": {
    "colab": {
     "base_uri": "https://localhost:8080/"
    },
    "executionInfo": {
     "elapsed": 28,
     "status": "ok",
     "timestamp": 1629144618729,
     "user": {
      "displayName": "Alex Mariakakis",
      "photoUrl": "https://lh3.googleusercontent.com/a-/AOh14Ght6Dyv6e4hfso-1xpfI7hj0VNjb-z7AByT6gi2Tw=s64",
      "userId": "03266759294585342781"
     },
     "user_tz": 420
    },
    "id": "rXdD1gDLx73t",
    "outputId": "aef4fe53-df4c-4ac5-87e3-f3d197a77359"
   },
   "outputs": [],
   "source": [
    "int(1.234)"
   ]
  },
  {
   "cell_type": "markdown",
   "metadata": {
    "id": "sXgX7gRExOxo"
   },
   "source": [
    "Note that converting from `float` to `int` *truncates* rather than rounds:"
   ]
  },
  {
   "cell_type": "code",
   "execution_count": null,
   "metadata": {
    "colab": {
     "base_uri": "https://localhost:8080/"
    },
    "executionInfo": {
     "elapsed": 28,
     "status": "ok",
     "timestamp": 1629144618730,
     "user": {
      "displayName": "Alex Mariakakis",
      "photoUrl": "https://lh3.googleusercontent.com/a-/AOh14Ght6Dyv6e4hfso-1xpfI7hj0VNjb-z7AByT6gi2Tw=s64",
      "userId": "03266759294585342781"
     },
     "user_tz": 420
    },
    "id": "Dw9xdz_RzS5O",
    "outputId": "4a072bc8-1cea-44da-939f-244f1f5065f4"
   },
   "outputs": [],
   "source": [
    "int(3.15)"
   ]
  },
  {
   "cell_type": "code",
   "execution_count": null,
   "metadata": {
    "colab": {
     "base_uri": "https://localhost:8080/"
    },
    "executionInfo": {
     "elapsed": 26,
     "status": "ok",
     "timestamp": 1629144618731,
     "user": {
      "displayName": "Alex Mariakakis",
      "photoUrl": "https://lh3.googleusercontent.com/a-/AOh14Ght6Dyv6e4hfso-1xpfI7hj0VNjb-z7AByT6gi2Tw=s64",
      "userId": "03266759294585342781"
     },
     "user_tz": 420
    },
    "id": "nGSiaXyzxOxo",
    "outputId": "36f70826-ace0-4d71-8a10-4b10d381d4b6"
   },
   "outputs": [],
   "source": [
    "int(3.75)"
   ]
  },
  {
   "cell_type": "markdown",
   "metadata": {
    "id": "GYYpV0-RyKQH"
   },
   "source": [
    "## From Strings To Numbers"
   ]
  },
  {
   "cell_type": "markdown",
   "metadata": {
    "id": "lTbcdrE1xOxe"
   },
   "source": [
    "We can also convert from `str` to numeric types:"
   ]
  },
  {
   "cell_type": "code",
   "execution_count": null,
   "metadata": {
    "colab": {
     "base_uri": "https://localhost:8080/"
    },
    "executionInfo": {
     "elapsed": 25,
     "status": "ok",
     "timestamp": 1629144618732,
     "user": {
      "displayName": "Alex Mariakakis",
      "photoUrl": "https://lh3.googleusercontent.com/a-/AOh14Ght6Dyv6e4hfso-1xpfI7hj0VNjb-z7AByT6gi2Tw=s64",
      "userId": "03266759294585342781"
     },
     "user_tz": 420
    },
    "id": "tgcJm5N4xOxf",
    "outputId": "48576f18-a50f-4f6c-b28f-8e2b1940117e"
   },
   "outputs": [],
   "source": [
    "int('45')"
   ]
  },
  {
   "cell_type": "code",
   "execution_count": null,
   "metadata": {
    "colab": {
     "base_uri": "https://localhost:8080/"
    },
    "executionInfo": {
     "elapsed": 24,
     "status": "ok",
     "timestamp": 1629144618733,
     "user": {
      "displayName": "Alex Mariakakis",
      "photoUrl": "https://lh3.googleusercontent.com/a-/AOh14Ght6Dyv6e4hfso-1xpfI7hj0VNjb-z7AByT6gi2Tw=s64",
      "userId": "03266759294585342781"
     },
     "user_tz": 420
    },
    "id": "-vMm1jNexOxh",
    "outputId": "359be95b-94db-46ab-ca42-56efeb68935f"
   },
   "outputs": [],
   "source": [
    "float('3.14')"
   ]
  },
  {
   "cell_type": "markdown",
   "metadata": {
    "id": "PiTbBu45zWrw"
   },
   "source": [
    "However, we need to make sure that the string looks like it would satisfy the constraints of the data type."
   ]
  },
  {
   "cell_type": "code",
   "execution_count": null,
   "metadata": {
    "colab": {
     "base_uri": "https://localhost:8080/"
    },
    "executionInfo": {
     "elapsed": 335,
     "status": "ok",
     "timestamp": 1629144654179,
     "user": {
      "displayName": "Alex Mariakakis",
      "photoUrl": "https://lh3.googleusercontent.com/a-/AOh14Ght6Dyv6e4hfso-1xpfI7hj0VNjb-z7AByT6gi2Tw=s64",
      "userId": "03266759294585342781"
     },
     "user_tz": 420
    },
    "id": "sf4gBBsllfMJ",
    "outputId": "99d94131-6cc8-431e-bdb6-1804cd2d1a3a"
   },
   "outputs": [],
   "source": [
    "float('3')"
   ]
  },
  {
   "cell_type": "code",
   "execution_count": null,
   "metadata": {
    "colab": {
     "base_uri": "https://localhost:8080/",
     "height": 172
    },
    "executionInfo": {
     "elapsed": 282,
     "status": "error",
     "timestamp": 1629144672188,
     "user": {
      "displayName": "Alex Mariakakis",
      "photoUrl": "https://lh3.googleusercontent.com/a-/AOh14Ght6Dyv6e4hfso-1xpfI7hj0VNjb-z7AByT6gi2Tw=s64",
      "userId": "03266759294585342781"
     },
     "user_tz": 420
    },
    "id": "Z_mpR-EAlrAD",
    "outputId": "1856166f-8ec2-4228-8a4a-2a5b1debdefb"
   },
   "outputs": [],
   "source": [
    "int('1.234')"
   ]
  },
  {
   "cell_type": "markdown",
   "metadata": {
    "id": "jst0thTClffI"
   },
   "source": [
    "If we try to convert a `str` that doesn't look like a number into a numeric type, an error will occur:"
   ]
  },
  {
   "cell_type": "code",
   "execution_count": null,
   "metadata": {
    "colab": {
     "base_uri": "https://localhost:8080/",
     "height": 172
    },
    "executionInfo": {
     "elapsed": 36,
     "status": "error",
     "timestamp": 1629144618747,
     "user": {
      "displayName": "Alex Mariakakis",
      "photoUrl": "https://lh3.googleusercontent.com/a-/AOh14Ght6Dyv6e4hfso-1xpfI7hj0VNjb-z7AByT6gi2Tw=s64",
      "userId": "03266759294585342781"
     },
     "user_tz": 420
    },
    "id": "hE4IAFF8xOxk",
    "outputId": "ce220225-4754-465a-dd1d-a567cbb73fff"
   },
   "outputs": [],
   "source": [
    "float(\"forty-two\")"
   ]
  },
  {
   "cell_type": "markdown",
   "metadata": {
    "id": "LGDElg_gxOxi"
   },
   "source": [
    "Once we convert a `str` to a numeric type, we can perform arithmetic operations on it, such as:"
   ]
  },
  {
   "cell_type": "code",
   "execution_count": null,
   "metadata": {
    "colab": {
     "base_uri": "https://localhost:8080/"
    },
    "executionInfo": {
     "elapsed": 303,
     "status": "ok",
     "timestamp": 1629144700503,
     "user": {
      "displayName": "Alex Mariakakis",
      "photoUrl": "https://lh3.googleusercontent.com/a-/AOh14Ght6Dyv6e4hfso-1xpfI7hj0VNjb-z7AByT6gi2Tw=s64",
      "userId": "03266759294585342781"
     },
     "user_tz": 420
    },
    "id": "6CgAH91lxOxj",
    "outputId": "549e1368-6927-460e-9c96-da92f335d6c9"
   },
   "outputs": [],
   "source": [
    "float('3.14') / 2"
   ]
  },
  {
   "cell_type": "markdown",
   "metadata": {
    "id": "H6oKtCYry6ac"
   },
   "source": [
    "## From Numbers To Strings"
   ]
  },
  {
   "cell_type": "markdown",
   "metadata": {
    "id": "r7cxG9RQmWk0"
   },
   "source": [
    "Lastly, you can convert numberic types to `str` using the corresponding built-in function:"
   ]
  },
  {
   "cell_type": "code",
   "execution_count": null,
   "metadata": {
    "colab": {
     "base_uri": "https://localhost:8080/",
     "height": 35
    },
    "executionInfo": {
     "elapsed": 338,
     "status": "ok",
     "timestamp": 1629144874264,
     "user": {
      "displayName": "Alex Mariakakis",
      "photoUrl": "https://lh3.googleusercontent.com/a-/AOh14Ght6Dyv6e4hfso-1xpfI7hj0VNjb-z7AByT6gi2Tw=s64",
      "userId": "03266759294585342781"
     },
     "user_tz": 420
    },
    "id": "qNerWBTRmeSS",
    "outputId": "69ccb135-75d1-40b8-a0c5-7f13f455a36d"
   },
   "outputs": [],
   "source": [
    "'15.3'"
   ]
  },
  {
   "cell_type": "code",
   "execution_count": null,
   "metadata": {
    "colab": {
     "base_uri": "https://localhost:8080/",
     "height": 35
    },
    "executionInfo": {
     "elapsed": 416,
     "status": "ok",
     "timestamp": 1629144890222,
     "user": {
      "displayName": "Alex Mariakakis",
      "photoUrl": "https://lh3.googleusercontent.com/a-/AOh14Ght6Dyv6e4hfso-1xpfI7hj0VNjb-z7AByT6gi2Tw=s64",
      "userId": "03266759294585342781"
     },
     "user_tz": 420
    },
    "id": "MRjztudFmg5j",
    "outputId": "fbe03254-f29b-4d08-f850-eb85fdce3dd1"
   },
   "outputs": [],
   "source": [
    "x = 15.3\n",
    "str(x)"
   ]
  },
  {
   "cell_type": "markdown",
   "metadata": {
    "id": "Zc_iW7qHxOxm"
   },
   "source": [
    "Just as how converting strings to numeric types allows you to perform mathematical operations on the data, converting numeric types to strings will allow you to perform string operations on the data."
   ]
  },
  {
   "cell_type": "code",
   "execution_count": null,
   "metadata": {
    "colab": {
     "base_uri": "https://localhost:8080/"
    },
    "executionInfo": {
     "elapsed": 280,
     "status": "ok",
     "timestamp": 1629144810772,
     "user": {
      "displayName": "Alex Mariakakis",
      "photoUrl": "https://lh3.googleusercontent.com/a-/AOh14Ght6Dyv6e4hfso-1xpfI7hj0VNjb-z7AByT6gi2Tw=s64",
      "userId": "03266759294585342781"
     },
     "user_tz": 420
    },
    "id": "yeS5XT6MmKUI",
    "outputId": "0e5ebc01-9c31-4535-f7cf-d12a96e2f964"
   },
   "outputs": [],
   "source": [
    "12.3 + 4.5"
   ]
  },
  {
   "cell_type": "code",
   "execution_count": null,
   "metadata": {
    "colab": {
     "base_uri": "https://localhost:8080/",
     "height": 35
    },
    "executionInfo": {
     "elapsed": 415,
     "status": "ok",
     "timestamp": 1629145001460,
     "user": {
      "displayName": "Alex Mariakakis",
      "photoUrl": "https://lh3.googleusercontent.com/a-/AOh14Ght6Dyv6e4hfso-1xpfI7hj0VNjb-z7AByT6gi2Tw=s64",
      "userId": "03266759294585342781"
     },
     "user_tz": 420
    },
    "id": "SuA7HUcHmK0L",
    "outputId": "2b0e5243-f59f-4c84-b05b-96ee45e3a999"
   },
   "outputs": [],
   "source": [
    "str(12.3) + str(4.5)"
   ]
  }
 ],
 "metadata": {
  "colab": {
   "name": "Copy of converting_between_types.ipynb",
   "provenance": [
    {
     "file_id": "https://github.com/C4M-UofT/C4M-UofT.github.io/blob/master/notebooks/converting_between_types.ipynb",
     "timestamp": 1628896039091
    }
   ]
  },
  "kernelspec": {
   "display_name": "Python [conda env:C4M] *",
   "language": "python",
   "name": "conda-env-C4M-py"
  },
  "language_info": {
   "codemirror_mode": {
    "name": "ipython",
    "version": 3
   },
   "file_extension": ".py",
   "mimetype": "text/x-python",
   "name": "python",
   "nbconvert_exporter": "python",
   "pygments_lexer": "ipython3",
   "version": "3.6.13"
  }
 },
 "nbformat": 4,
 "nbformat_minor": 4
}
