{
 "cells": [
  {
   "cell_type": "markdown",
   "metadata": {},
   "source": [
    "### Phase 1, Level 2, Session 1: Practice Exercises"
   ]
  },
  {
   "cell_type": "markdown",
   "metadata": {},
   "source": [
    "#### 1. Arithmetic expressions and built-in functions\n",
    "\n",
    "##### a) Practice exercise: writing expressions\n",
    "1. A patient just turned 80 years old. Write a Python expression to calculate her age in months.\n",
    "2. A father reports that his son's temperature was 40.1 degrees Celsius when measured at home. Write an expression to covert the temperature from Celsius to Fahreneheit. (Formula: Multiply by 9, divide by 5, and then add 32.)"
   ]
  },
  {
   "cell_type": "code",
   "execution_count": null,
   "metadata": {
    "collapsed": false,
    "jupyter": {
     "outputs_hidden": false
    }
   },
   "outputs": [],
   "source": [
    "80 / 12"
   ]
  },
  {
   "cell_type": "code",
   "execution_count": null,
   "metadata": {
    "collapsed": false,
    "jupyter": {
     "outputs_hidden": false
    }
   },
   "outputs": [],
   "source": [
    "40.1 * 9 / 5 + 32"
   ]
  },
  {
   "cell_type": "markdown",
   "metadata": {},
   "source": [
    "##### b) Practice exercise: Calling on `round`\n",
    "\n",
    "Python has a built-in function named `round`. In the Python shell, run each function call below and record the result:\n",
    "1. `round(24.2)`\n",
    "2. `round(24.5)`\n",
    "3. `round(24.9)`\n",
    "4. `round(1.234567, 2)`\n",
    "5. `round(1.234567, 3)`"
   ]
  },
  {
   "cell_type": "code",
   "execution_count": null,
   "metadata": {
    "collapsed": false,
    "jupyter": {
     "outputs_hidden": false
    }
   },
   "outputs": [],
   "source": [
    "print(round(24.2))\n",
    "print(round(24.5))\n",
    "print(round(24.9))\n",
    "print(round(1.234567, 2))\n",
    "print(round(1.234567, 3))"
   ]
  },
  {
   "cell_type": "markdown",
   "metadata": {},
   "source": [
    "#### 2. Variables"
   ]
  },
  {
   "cell_type": "markdown",
   "metadata": {},
   "source": [
    "##### a) Practice Exercise: Working with Variables\n",
    "\n",
    "1.  Consider this code:\n",
    "<pre>\n",
    "j = 7\n",
    "</pre>\n",
    "Write an assignment statement that creates a new variable `k` that refers to three times `j`'s value.\n",
    "\n",
    "2. Consider this code:\n",
    "<pre>\n",
    "patient_a = 3\n",
    "patient_b = 4\n",
    "patient_a = 5\n",
    "</pre>\n",
    "After the code above is executed, to which value does `patient_a` refer?  \n",
    "After the code above is executed, to which value does `patient_b` refer?  \n",
    "\n",
    "3. Consider this code:\n",
    "<pre>\n",
    "x = 4\n",
    "y = x + 2\n",
    "x = y + 1\n",
    "</pre>\n",
    "After the code above is executed, to which value does `x` refer?  \n",
    "After the code above is executed, to which value does `y` refer?  "
   ]
  },
  {
   "cell_type": "code",
   "execution_count": null,
   "metadata": {
    "collapsed": false,
    "jupyter": {
     "outputs_hidden": false
    }
   },
   "outputs": [],
   "source": [
    "j= 7\n",
    "k = j * 3\n",
    "\n",
    "patient_a = 3\n",
    "patient_b = 4\n",
    "patient_a = 5\n",
    "print('patient_a: ', patient_a)\n",
    "print('patient_a: ', patient_b)\n",
    "\n",
    "x = 4\n",
    "y = x + 2\n",
    "x = y + 1\n",
    "print('x: ', x)\n",
    "print('y: ', y)"
   ]
  },
  {
   "cell_type": "markdown",
   "metadata": {},
   "source": [
    "##### b) Practice Exercise 4: Solving a problem using variables\n",
    "\n",
    "Fridericia's Formula for the corrected QT is\n",
    "$$QTc = \\frac{QT}{RR^{\\frac{1}{3}}}$$\n",
    "\n",
    "The R-R interval is measured in seconds, and can be ontained using $60/hr$, where hr is the heart rate. Given the `hr` and `qt` variables below, and calculate the QTc (corrected QT interval). \n"
   ]
  },
  {
   "cell_type": "code",
   "execution_count": null,
   "metadata": {},
   "outputs": [],
   "source": [
    "hr = 70\n",
    "qt = 300"
   ]
  },
  {
   "cell_type": "markdown",
   "metadata": {},
   "source": [
    "The corrected QT interval should be: 315.817979882819 seconds."
   ]
  },
  {
   "cell_type": "code",
   "execution_count": null,
   "metadata": {
    "collapsed": false,
    "jupyter": {
     "outputs_hidden": false
    }
   },
   "outputs": [],
   "source": [
    "rr = 60 / hr\n",
    "qtc = qt / (rr ** (1 / 3))\n",
    "print(qtc)"
   ]
  },
  {
   "cell_type": "markdown",
   "metadata": {},
   "source": [
    "#### 3. More str operations and methods"
   ]
  },
  {
   "cell_type": "markdown",
   "metadata": {},
   "source": [
    "##### Practice Exercise: exploring `str` methods\n",
    "\n",
    "Call `help` on each `str` method to learn about it and then make an educated guess as to what each of the following method calls produces.  Once you've done that, check your work by executing the method calls in the Python shell.\n",
    "\n",
    "    robot = 'R2D2'\n",
    "\n",
    "1. `robot.isupper()`\n",
    "2. `robot.isalpha()`\n",
    "3. `robot.isalnum()`\n",
    "4. `robot.isdigit()`\n",
    "5. `robot.lower()`\n",
    "6. `robot.index('2')`\n",
    "7. `robot.index('2', 2)`\n",
    "8. `robot.count('2')`"
   ]
  },
  {
   "cell_type": "code",
   "execution_count": null,
   "metadata": {
    "collapsed": false,
    "jupyter": {
     "outputs_hidden": false
    }
   },
   "outputs": [],
   "source": [
    "robot = 'R2D2'\n",
    "print(robot.isupper())\n",
    "print(robot.isalpha())\n",
    "print(robot.isalnum())\n",
    "print(robot.isdigit())\n",
    "print(robot.lower())\n",
    "print(robot.index('2'))\n",
    "print(robot.index('2', 2))\n",
    "print(robot.count('2'))"
   ]
  },
  {
   "cell_type": "markdown",
   "metadata": {},
   "source": [
    "#### 4. Functions"
   ]
  },
  {
   "cell_type": "markdown",
   "metadata": {},
   "source": [
    "##### a) Practice Exercise:  Functions and Terminology\n",
    "\n",
    "Revisiting our earlier example, the function definition was:\n",
    "\n",
    "<pre>\n",
    "def f(x):\n",
    "    return 2 * x + 7\n",
    "</pre>\n",
    "\n",
    "Answer the following questions:\n",
    "1. What is the name of the function?  **`f`**\n",
    "2. How many parameter(s) does the function have? **1**  \n",
    "3. What are the parameter(s) names? **`x`**\n",
    "4. For function call `f(8)`, what is the argument? **`8`**\n",
    "5. When it is executed, what value does `f(8)` produce? **`23`**\n",
    "6. Consider this code: `result = f(4)`.  After that statement is executed, what value does `result` refer to? **`15`**"
   ]
  },
  {
   "cell_type": "markdown",
   "metadata": {},
   "source": [
    "##### b) Practice Exercise: Converting Pounds to Kilograms\n",
    "\n",
    "Generally in Canada, people know their weight in pounds. Most of the calculations for determining dosages and other medical information, ask for a patient's weight in kilograms. Following the Function Design Recipe, write a function that will convert from pounds to kilograms.  (1kg == 2.2 lbs)"
   ]
  },
  {
   "cell_type": "code",
   "execution_count": null,
   "metadata": {
    "collapsed": false,
    "jupyter": {
     "outputs_hidden": false
    }
   },
   "outputs": [],
   "source": [
    "def pounds_to_kgs(pounds):\n",
    "    \"\"\" (number) -> float\n",
    "    \n",
    "    Return the weight pounds in kilograms.\n",
    "    \n",
    "    >>> pounds_to_kgs(22)\n",
    "    10.0\n",
    "    >>> pounds_to_kgs(154)\n",
    "    70.0\n",
    "    \"\"\"\n",
    "    return pounds / 2.2\n",
    "\n",
    "print(pounds_to_kgs(22))\n",
    "print(pounds_to_kgs(154))"
   ]
  },
  {
   "cell_type": "markdown",
   "metadata": {},
   "source": [
    "##### c) Practice Exercise: Using PCRS\n",
    "\n",
    "You will use a tool called PCRS to complete this week's homework exercise.  Login with your UTORid and solve the problem in **Phase I: Session 1 Practice Exercise**.  Our instance of PCRS is available at: https://pcrs.teach.cs.toronto.edu/c4m_sep2016"
   ]
  },
  {
   "cell_type": "markdown",
   "metadata": {},
   "source": [
    "#### 5. Docstrings, `help`, and `dir`"
   ]
  },
  {
   "cell_type": "markdown",
   "metadata": {},
   "source": [
    "##### a) Practice Exercise: learning about functions using `help`"
   ]
  },
  {
   "cell_type": "markdown",
   "metadata": {},
   "source": [
    "Consider this description of built-in function `ord`:"
   ]
  },
  {
   "cell_type": "code",
   "execution_count": null,
   "metadata": {
    "collapsed": false,
    "jupyter": {
     "outputs_hidden": false
    }
   },
   "outputs": [],
   "source": [
    "help(ord)"
   ]
  },
  {
   "cell_type": "markdown",
   "metadata": {},
   "source": [
    "1. How many parameter(s) does function `ord` take? **1**\n",
    "2. What are the type(s) of `ord`'s parameter(s)? **`c`**\n",
    "3. Give an example of how to call on function `ord`. **`ord('z')`**"
   ]
  },
  {
   "cell_type": "markdown",
   "metadata": {},
   "source": [
    "#### 6. Writing programs"
   ]
  },
  {
   "cell_type": "markdown",
   "metadata": {},
   "source": [
    "##### a) Practice Exercise: Program to convert pounds to kilograms"
   ]
  },
  {
   "cell_type": "markdown",
   "metadata": {},
   "source": [
    "Earlier, you wrote a function that takes a weight in pounds and returns that weight in kilograms.  In a file named `weight.py`, write a program that:\n",
    "- prompts the user to enter a weight in pounds,\n",
    "- converts that weight to kilograms, and\n",
    "- prints the weight in kilograms."
   ]
  },
  {
   "cell_type": "code",
   "execution_count": null,
   "metadata": {
    "collapsed": false,
    "jupyter": {
     "outputs_hidden": false
    }
   },
   "outputs": [],
   "source": [
    "weight = input('Enter a weight in pounds: ')\n",
    "pounds = float(weight)\n",
    "kgs = pounds_to_kgs(pounds)\n",
    "print('The weight in kgs is', kgs)"
   ]
  },
  {
   "cell_type": "markdown",
   "metadata": {},
   "source": [
    "#### 7. Booleans"
   ]
  },
  {
   "cell_type": "markdown",
   "metadata": {},
   "source": [
    "##### a) Practice Exercise: English description"
   ]
  },
  {
   "cell_type": "markdown",
   "metadata": {},
   "source": [
    "Write an English description of the situation in which the following code produces `True`:\n",
    "\n",
    "`not grade1 >= 50 or grade2 >= 50`."
   ]
  },
  {
   "cell_type": "markdown",
   "metadata": {},
   "source": [
    "Soln: Grade 1 is a failing or grade 2 is a passing grade (or both!)"
   ]
  },
  {
   "cell_type": "markdown",
   "metadata": {},
   "source": [
    "##### b) Practice Exercise: Exclusive or\n",
    "\n",
    "How do you express the English \"I'll have pie or I'll have ice cream, but not both\"? Define two Boolean variables:"
   ]
  },
  {
   "cell_type": "code",
   "execution_count": null,
   "metadata": {},
   "outputs": [],
   "source": [
    "pie = False\n",
    "ice_cream = True"
   ]
  },
  {
   "cell_type": "markdown",
   "metadata": {},
   "source": [
    "Write a Python expression that evaluates to `True` if and only if at most one of `pie` and `ice_cream` refers to `True`."
   ]
  },
  {
   "cell_type": "code",
   "execution_count": null,
   "metadata": {
    "collapsed": false,
    "jupyter": {
     "outputs_hidden": false
    }
   },
   "outputs": [],
   "source": [
    "(pie or ice_cream) and not(pie and ice_cream)"
   ]
  },
  {
   "cell_type": "markdown",
   "metadata": {},
   "source": [
    "#### 8. `if` statements"
   ]
  },
  {
   "cell_type": "markdown",
   "metadata": {},
   "source": [
    "##### a) Practice Exercise: my absolute value function\n",
    "\n",
    "We've used Python's built-in function `abs`.  Now, define your own version of that function, `my_abs`, to calculate the absolute value of a number.  Steps 1-4 of the Function Design Recipe have been completed.  Completed the function body and test the function:"
   ]
  },
  {
   "cell_type": "code",
   "execution_count": null,
   "metadata": {},
   "outputs": [],
   "source": [
    "def my_abs(num):\n",
    "    \"\"\" (number) -> number\n",
    "    \n",
    "    Return the absolute value of num.\n",
    "    \n",
    "    >>> my_abs(14.66)\n",
    "    14.66\n",
    "    >>> my_abs(-2.4)\n",
    "    2.4\n",
    "    \"\"\""
   ]
  },
  {
   "cell_type": "code",
   "execution_count": null,
   "metadata": {
    "collapsed": false,
    "jupyter": {
     "outputs_hidden": false
    }
   },
   "outputs": [],
   "source": [
    "def my_abs(num):\n",
    "    \"\"\" (number) -> number\n",
    "    \n",
    "    Return the absolute value of num.\n",
    "    \n",
    "    >>> my_abs(14.66)\n",
    "    14.66\n",
    "    >>> my_abs(-2.4)\n",
    "    2.4\n",
    "    \"\"\"\n",
    "    if num < 0:\n",
    "        return num * -1\n",
    "    else:\n",
    "        return num\n",
    "my_abs(-2.4)"
   ]
  },
  {
   "cell_type": "markdown",
   "metadata": {},
   "source": [
    "##### b) Practice Exercise: fever classification"
   ]
  },
  {
   "cell_type": "markdown",
   "metadata": {},
   "source": [
    "According to Wikipedia, Harrison's textbook internal medicine defines a fever as a morning oral temperature greater than 37.2°C or an afternoon oral temperature greater than 37.7°C.  For this problem, using the 24 hour clock, 0 to 11 hours is considered morning and 12-23 hours is considered afternoon.  The first four steps of the Function Design Recipe have already been completed.  Complete the function body and test the function:"
   ]
  },
  {
   "cell_type": "code",
   "execution_count": null,
   "metadata": {},
   "outputs": [],
   "source": [
    "def check_fever(temp, hour_of_day):\n",
    "    \"\"\" (number, int) -> str\n",
    "    \n",
    "    Return 'fever' if the temperature temp in degrees Celsius recorded at hour_of_day\n",
    "    using the 24 hour clock meets Harrison's definition of a fever, and 'no fever' otherwise.\n",
    "    \n",
    "    >>> check_fever(37.5, 9)\n",
    "    'fever'\n",
    "    >>> check_fever(37.5, 14)\n",
    "    'no fever'\n",
    "    \"\"\""
   ]
  },
  {
   "cell_type": "code",
   "execution_count": null,
   "metadata": {
    "collapsed": false,
    "jupyter": {
     "outputs_hidden": false
    }
   },
   "outputs": [],
   "source": [
    "def check_fever(temp, hour_of_day):\n",
    "    \"\"\" (number, int) -> str\n",
    "    \n",
    "    Return 'fever' if the temperature temp in degrees Celsius recorded at hour_of_day\n",
    "    using the 24 hour clock meets Harrison's definition of a fever, and 'no fever' otherwise.\n",
    "    \n",
    "    >>> check_fever(37.5, 9)\n",
    "    'fever'\n",
    "    >>> check_fever(37.5, 14)\n",
    "    'no fever'\n",
    "    \"\"\"\n",
    "    if 0 <= hour_of_day <= 11 and temp > 37.2:\n",
    "        return 'fever'\n",
    "    elif 12 <= hour_of_day <= 23 and temp > 37.7:\n",
    "        return 'fever'\n",
    "    else:\n",
    "        return 'no fever'\n",
    "\n",
    "print(check_fever(37.5, 9))\n",
    "print(check_fever(37.5, 14))"
   ]
  },
  {
   "cell_type": "markdown",
   "metadata": {},
   "source": [
    "##### c) Practice Exercise: Improved Guessing Game\n",
    "\n",
    "1. Write an improved version of the program above that will print either `Too high` or `Too low` depending on the guess, *instead of* `Better luck next time`.\n",
    "\n",
    "2. Write an improved version of the program above that will print either `Too high` or `Too low` depending on the guess, *in addition to* `Better luck next time`."
   ]
  },
  {
   "cell_type": "code",
   "execution_count": null,
   "metadata": {
    "collapsed": false,
    "jupyter": {
     "outputs_hidden": false
    }
   },
   "outputs": [],
   "source": [
    "secret = 4  # We can edit this to be different numbers.\n",
    "guess = int(input('Enter a number between 1 and 10: '))\n",
    "if guess == secret:\n",
    "    print('You got it')\n",
    "elif guess > secret:\n",
    "    print('Too high')\n",
    "else:\n",
    "    print('Too low')"
   ]
  },
  {
   "cell_type": "code",
   "execution_count": null,
   "metadata": {
    "collapsed": false,
    "jupyter": {
     "outputs_hidden": false
    }
   },
   "outputs": [],
   "source": [
    "secret = 4  # We can edit this to be different numbers.\n",
    "guess = int(input('Enter a number between 1 and 10: '))\n",
    "if guess == secret:\n",
    "    print('You got it')\n",
    "else:\n",
    "    print('Better luck next time')\n",
    "    if guess > secret:\n",
    "        print('Too high')\n",
    "    else:\n",
    "        print('Too low')"
   ]
  },
  {
   "cell_type": "markdown",
   "metadata": {},
   "source": [
    "##### d) Practice Exercise: More complex `if` Statements\n",
    "\n",
    "According to Wikipedia, borderline QTc for men is 431ms-450ms and for women it is 451ms-470ms. Set the variable `sex` to `'male'` or `'female'`), and write a program that uses the variables `HR` (heartrate), `QT` (uncorrected QT interval), and `sex `(`'male'` or `'female'`) to print one of the strings `'normal QTc'`, `'borderline QTc'`, or \n",
    "`'abnormal QTc'`.  Here is some starter code:"
   ]
  },
  {
   "cell_type": "code",
   "execution_count": null,
   "metadata": {},
   "outputs": [],
   "source": [
    "hr = 80\n",
    "qt = 300\n",
    "sex = \"male\"\n",
    "rr = 60 / hr\n",
    "\n",
    "# Compute the corrected QT interval (QTc)\n",
    "qtc = qt / (rr ** (1 / 3))   \n",
    "\n",
    "# Add code to print the appropriate message about the patient's QTc.\n"
   ]
  },
  {
   "cell_type": "code",
   "execution_count": null,
   "metadata": {
    "collapsed": false,
    "jupyter": {
     "outputs_hidden": false
    }
   },
   "outputs": [],
   "source": [
    "if sex == \"female\":\n",
    "    if qtc > 450:\n",
    "        print(\"Abnormal QTc\")\n",
    "    elif qtc >= 431:\n",
    "        print(\"Borderline QTc\")\n",
    "    else:\n",
    "        print(\"Normal QTc\")\n",
    "elif sex == \"male\":\n",
    "    if qtc > 470:\n",
    "        print(\"Abnormal QTc\")\n",
    "    elif qtc >= 451:\n",
    "        print(\"Borderline QTc\")\n",
    "    else:\n",
    "        print(\"Normal QTc\")"
   ]
  },
  {
   "cell_type": "markdown",
   "metadata": {},
   "source": [
    "##### e) Practice Exercise: An interactive system for telling the user if their QTc is abnormal\n",
    "\n",
    "Write a program that asks the user for their sex, QT interval, and heartrate, and outputs whether their QTc is normal/borderline/abnormal."
   ]
  },
  {
   "cell_type": "code",
   "execution_count": null,
   "metadata": {
    "collapsed": false,
    "jupyter": {
     "outputs_hidden": false
    }
   },
   "outputs": [],
   "source": [
    "# Rather than \"hard code\" the values assigned to hr, qt, and sex, prompt the user\n",
    "# to enter values:\n",
    "hr = # TODO: add code here\n",
    "qt = # TODO: add code here\n",
    "sex = # TODO: add code here\n",
    "rr = 60 / hr\n",
    "\n",
    "qtc = qt / (rr ** (1 / 3))   #Compute the corrected QT interval\n",
    "\n",
    "# TODO: Add your if statement code from the previous practice exercise here."
   ]
  },
  {
   "cell_type": "code",
   "execution_count": null,
   "metadata": {
    "collapsed": false,
    "jupyter": {
     "outputs_hidden": false
    }
   },
   "outputs": [],
   "source": [
    "# Rather than \"hard code\" the values assigned to hr, qt, and sex, prompt the user\n",
    "# to enter values:\n",
    "hr = int(input('Heart rate: '))\n",
    "qt = int(input('QT: '))\n",
    "sex = input('sex: ' )\n",
    "rr = 60 / hr\n",
    "\n",
    "qtc = qt / (rr ** (1 / 3))   #Compute the corrected QT interval\n",
    "\n",
    "# TODO: Add your if statement code from the previous practice exercise here."
   ]
  },
  {
   "cell_type": "code",
   "execution_count": null,
   "metadata": {
    "collapsed": false,
    "jupyter": {
     "outputs_hidden": false
    }
   },
   "outputs": [],
   "source": [
    "if sex == \"female\":\n",
    "    if qtc > 450:\n",
    "        print(\"Abnormal QTc\")\n",
    "    elif qtc >= 431:\n",
    "        print(\"Borderline QTc\")\n",
    "    else:\n",
    "        print(\"Normal QTc\")\n",
    "elif sex == \"male\":\n",
    "    if qtc > 470:\n",
    "        print(\"Abnormal QTc\")\n",
    "    elif qtc >= 451:\n",
    "        print(\"Borderline QTc\")\n",
    "    else:\n",
    "        print(\"Normal QTc\")\n",
    "\n",
    "else:\n",
    "    print(\"Enter 'male' or 'female' as the sex\")"
   ]
  },
  {
   "cell_type": "markdown",
   "metadata": {},
   "source": [
    "##### f) Practice Exercise: rewrite without `if`\n",
    "\n",
    "Rewrite the body of the following function, without using `if` statements:"
   ]
  },
  {
   "cell_type": "code",
   "execution_count": null,
   "metadata": {},
   "outputs": [],
   "source": [
    "def is_teenager(age):\n",
    "    \"\"\" (int) -> bool\n",
    "    \n",
    "    Return True iff age represents a teenager between 13 and 18 inclusive.\n",
    "    \n",
    "    >>> is_teenager(4)\n",
    "    False\n",
    "    >>> is_teenager(16)\n",
    "    True\n",
    "    >>> is_teenager(19)\n",
    "    False\n",
    "    \"\"\"\n",
    "    if age < 13:\n",
    "        return False\n",
    "    else:\n",
    "        if age > 18:\n",
    "            return False\n",
    "        else:\n",
    "            return True"
   ]
  },
  {
   "cell_type": "code",
   "execution_count": null,
   "metadata": {},
   "outputs": [],
   "source": [
    "def is_teenager(age):\n",
    "     return age >= 13 and age <=18\n",
    "    # Alternative:\n",
    "    # return 13 <= age <= 18"
   ]
  }
 ],
 "metadata": {
  "kernelspec": {
   "display_name": "Python 3",
   "language": "python",
   "name": "python3"
  },
  "language_info": {
   "codemirror_mode": {
    "name": "ipython",
    "version": 3
   },
   "file_extension": ".py",
   "mimetype": "text/x-python",
   "name": "python",
   "nbconvert_exporter": "python",
   "pygments_lexer": "ipython3",
   "version": "3.6.13"
  }
 },
 "nbformat": 4,
 "nbformat_minor": 4
}
