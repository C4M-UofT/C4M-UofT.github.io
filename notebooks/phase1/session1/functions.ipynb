{
 "cells": [
  {
   "cell_type": "markdown",
   "metadata": {
    "id": "wSJSNixIR6F-"
   },
   "source": [
    "# Functions"
   ]
  },
  {
   "cell_type": "markdown",
   "metadata": {
    "id": "6vwIQi_JdXf2"
   },
   "source": [
    "## What Is a Function?"
   ]
  },
  {
   "cell_type": "markdown",
   "metadata": {
    "id": "vnKuT9Ojdfmq"
   },
   "source": [
    "You've already seen some of Python's built-in functions:"
   ]
  },
  {
   "cell_type": "code",
   "execution_count": null,
   "metadata": {
    "id": "GZRPyA5MR6GB",
    "outputId": "4861593e-0706-4c3c-e191-db9864264857"
   },
   "outputs": [],
   "source": [
    "max(1, 3)"
   ]
  },
  {
   "cell_type": "code",
   "execution_count": null,
   "metadata": {
    "colab": {
     "base_uri": "https://localhost:8080/"
    },
    "executionInfo": {
     "elapsed": 5,
     "status": "ok",
     "timestamp": 1628887993906,
     "user": {
      "displayName": "Alex Mariakakis",
      "photoUrl": "https://lh3.googleusercontent.com/a-/AOh14Ght6Dyv6e4hfso-1xpfI7hj0VNjb-z7AByT6gi2Tw=s64",
      "userId": "03266759294585342781"
     },
     "user_tz": 420
    },
    "id": "O76vNDgzR6GD",
    "outputId": "d8b4a0b4-4c99-4cd6-d290-713aa1c43087"
   },
   "outputs": [],
   "source": [
    "abs(-10)"
   ]
  },
  {
   "cell_type": "markdown",
   "metadata": {
    "id": "FiAyia-eR6GE"
   },
   "source": [
    "You've also seen functions in math. For example:\n",
    "\n",
    "$f(x) = 2x + 7$\n",
    "\n",
    "This is the **definition** of $f(x)$. It does not have a single value, but rather explains what it would mean to call the function $f$ on some value.\n",
    "\n",
    "Given a **value** for $x$, we can calculate the resulting value of $f(x)$.\n",
    "$f(2)$ evaluates to 11,  $f(-1$) gives 5.\n",
    "\n",
    "We can define our own functions in addition to Python's built-in functions. For example, we can define a function equivalent to $f(x) = 2x + 7$:"
   ]
  },
  {
   "cell_type": "code",
   "execution_count": null,
   "metadata": {
    "id": "nG249MbxR6GE"
   },
   "outputs": [],
   "source": [
    "def f(x):\n",
    "    return 2 * x + 7"
   ]
  },
  {
   "cell_type": "code",
   "execution_count": null,
   "metadata": {
    "id": "UPFrdKT4R6GF",
    "outputId": "4bece1b6-9d2b-49bb-b652-e9746a7474c2"
   },
   "outputs": [],
   "source": [
    "f(2)"
   ]
  },
  {
   "cell_type": "code",
   "execution_count": null,
   "metadata": {
    "id": "3TZzr-LeR6GG",
    "outputId": "4f54e4a8-ad1b-457b-f0e3-d094add997e6"
   },
   "outputs": [],
   "source": [
    "f(-1)"
   ]
  },
  {
   "cell_type": "markdown",
   "metadata": {
    "id": "G1iOuSVzR6GH"
   },
   "source": [
    "Here is the general form of a function definition:\n",
    "```\n",
    "def <<function_name>>(<<parameters>>):\n",
    "  <<body>>\n",
    "  return <<expression>>\n",
    "```"
   ]
  },
  {
   "cell_type": "markdown",
   "metadata": {
    "id": "i_DaMBudR6GH"
   },
   "source": [
    "`def`: a keyword indicating a function definition\n",
    "\n",
    "`<<function_name>>`: the name of the function (use `pothole_case` name format)\n",
    "\n",
    "`<<parameters>>`: a comma-separated list of variables whose values will be supplied when the function is called\n",
    "- Functions can have 0, 1, or many parameters\n",
    "- Variable names can overlap with \n",
    "\n",
    "`<<body>>`: one or more statements that explain how the function works\n",
    "- All body statements must be indented the same amount (usually 4 spaces).\n",
    "\n",
    "`return «expression»`: computes the expression and produces its result to the original caller of the function\n",
    "- Not all functions will necessarily have a return statement. Some functions modify the parameters instead, and other functions simply repeat a task taht does not require evaluating an expression"
   ]
  },
  {
   "cell_type": "markdown",
   "metadata": {
    "id": "WxlMjH67R6GJ"
   },
   "source": [
    "Once a function has been defined, we can call on the function. A *function call* has the form:\n",
    "    `«function_name»(«arguments»)`\n",
    "\n",
    "A function call is executed as follows:\n",
    "1. Evaluate the arguments if needed. The value of each argument is assigned a memory address.\n",
    "2. Assign those values to the parameters. This stores the memory addresses of the values in the parameters.\n",
    "3. Go into the function and run the code in the body using the parameter values.\n",
    "4. Return to where the function was originally called. If the function had a `return` statement, produce that value to the caller.\n"
   ]
  },
  {
   "cell_type": "markdown",
   "metadata": {
    "id": "QNbiYqjaC1iW"
   },
   "source": [
    "## Practice Exercise:  Functions and Terminology"
   ]
  },
  {
   "cell_type": "markdown",
   "metadata": {
    "id": "6VaX9isGR6GJ"
   },
   "source": [
    "Revisiting our earlier example, the function definition was:\n",
    "\n",
    "<pre>\n",
    "def f(x):\n",
    "    return 2 * x + 7\n",
    "</pre>\n",
    "\n",
    "Answer the following questions:\n",
    "1. What is the name of the function?\n",
    "2. How many parameter(s) does the function have?  \n",
    "3. What are the parameter(s) names?\n",
    "4. For function call `f(8)`, what is the argument?\n",
    "5. When it is executed, what value does `f(8)` produce?\n",
    "6. Consider this code: `result = f(4)`.  After that statement is executed, what value does `result` refer to?\n"
   ]
  },
  {
   "cell_type": "markdown",
   "metadata": {
    "id": "Tm61ycHjdmhA"
   },
   "source": [
    "## Warning On Function, Parameter, and Variable Names"
   ]
  },
  {
   "cell_type": "markdown",
   "metadata": {
    "id": "OIr5zU5Ddyd7"
   },
   "source": [
    "Try to give your functions, parameters, and variables unique names. There are exceptions to the rule, of course, but keeping everything unique will generally help you keep track of what is happening in your code."
   ]
  },
  {
   "cell_type": "code",
   "execution_count": null,
   "metadata": {
    "id": "QcKFudD2dyI7"
   },
   "outputs": [],
   "source": [
    "def f(x):\n",
    "  return x ** 2 + 2"
   ]
  },
  {
   "cell_type": "code",
   "execution_count": null,
   "metadata": {
    "id": "rEhHAKZReEpL"
   },
   "outputs": [],
   "source": [
    "f = 2"
   ]
  },
  {
   "cell_type": "code",
   "execution_count": null,
   "metadata": {
    "colab": {
     "base_uri": "https://localhost:8080/",
     "height": 172
    },
    "executionInfo": {
     "elapsed": 143,
     "status": "error",
     "timestamp": 1628894036824,
     "user": {
      "displayName": "Alex Mariakakis",
      "photoUrl": "https://lh3.googleusercontent.com/a-/AOh14Ght6Dyv6e4hfso-1xpfI7hj0VNjb-z7AByT6gi2Tw=s64",
      "userId": "03266759294585342781"
     },
     "user_tz": 420
    },
    "id": "AwiZhbhUpnXk",
    "outputId": "afd2f124-b1ee-45c3-aabe-bc71722d4adc"
   },
   "outputs": [],
   "source": [
    "# f is now a value instead of a function, so you can no longer call it as a function\n",
    "f(2)"
   ]
  },
  {
   "cell_type": "code",
   "execution_count": null,
   "metadata": {
    "id": "pSbWvVWEqYOd"
   },
   "outputs": [],
   "source": [
    "y = 4"
   ]
  },
  {
   "cell_type": "code",
   "execution_count": null,
   "metadata": {
    "colab": {
     "base_uri": "https://localhost:8080/"
    },
    "executionInfo": {
     "elapsed": 144,
     "status": "ok",
     "timestamp": 1628894666521,
     "user": {
      "displayName": "Alex Mariakakis",
      "photoUrl": "https://lh3.googleusercontent.com/a-/AOh14Ght6Dyv6e4hfso-1xpfI7hj0VNjb-z7AByT6gi2Tw=s64",
      "userId": "03266759294585342781"
     },
     "user_tz": 420
    },
    "id": "lwEO7_CfqyiX",
    "outputId": "41469175-197b-4fb9-d0bb-99cd770da298"
   },
   "outputs": [],
   "source": [
    "# The parameter \"y\" takes precedence over the variable \"y\"\n",
    "def g(y):\n",
    "  return y * 2 + 1\n",
    "g(3)"
   ]
  },
  {
   "cell_type": "code",
   "execution_count": null,
   "metadata": {
    "colab": {
     "base_uri": "https://localhost:8080/"
    },
    "executionInfo": {
     "elapsed": 139,
     "status": "ok",
     "timestamp": 1628894675260,
     "user": {
      "displayName": "Alex Mariakakis",
      "photoUrl": "https://lh3.googleusercontent.com/a-/AOh14Ght6Dyv6e4hfso-1xpfI7hj0VNjb-z7AByT6gi2Tw=s64",
      "userId": "03266759294585342781"
     },
     "user_tz": 420
    },
    "id": "q30ISxmBrDpj",
    "outputId": "bf1339c2-2146-4f13-d17b-667fb05038db"
   },
   "outputs": [],
   "source": [
    "# y is not defined here, so Python resorts to the previous definition\n",
    "def h():\n",
    "  return y * 3 + 1\n",
    "h()"
   ]
  },
  {
   "cell_type": "markdown",
   "metadata": {
    "id": "0z37LIQHR6GJ"
   },
   "source": [
    "## Function Design Recipe"
   ]
  },
  {
   "cell_type": "markdown",
   "metadata": {
    "id": "z9EKEXGmR6GK"
   },
   "source": [
    "When defining functions, we will follow this **Function Design Recipe**:\n",
    "\n",
    "1. Write an **example** call (or two) of how we will use the function we plan to write.\n",
    "2. Write the **header** for the function. That's the `def` line.\n",
    "3. Write the **type** contract -- the type for each parameter and the type of value that will be returned.\n",
    "4. Write a **description** of what the function does.\n",
    "5. Finally, write the **code** for the body of the function.\n",
    "6. Then **test** our function."
   ]
  },
  {
   "cell_type": "markdown",
   "metadata": {
    "id": "NqMv7ajfOPKt"
   },
   "source": [
    "Let's write a function called `temp_conversion` that converts at temperature from Fahrenheit to Celsius."
   ]
  },
  {
   "cell_type": "markdown",
   "metadata": {
    "id": "6jGr6khrsbHS"
   },
   "source": [
    "**Step 1:** Write examples of how we will call the function.\n",
    "```\n",
    ">>> temp_conversion(10)\n",
    "50\n",
    ">>> temp_conversion(20)\n",
    "68\n",
    "```"
   ]
  },
  {
   "cell_type": "markdown",
   "metadata": {
    "id": "qImyWsiTR6GK"
   },
   "source": [
    "**Step 2:** Write the header, which is the line that starts with `def`. While you are at it, make the examples that you wrote be part of a triple-quoted string\n",
    "inside the function (make sure to indent them 4 spaces).  This triple-quoted string is called a *docstring*, which stands for documentation string. "
   ]
  },
  {
   "cell_type": "code",
   "execution_count": null,
   "metadata": {
    "id": "98fdw5aKR6GL"
   },
   "outputs": [],
   "source": [
    "def temp_conversion(temp_c):\n",
    "    \"\"\"\n",
    "    >>> temp_conversion(10)\n",
    "    50.0\n",
    "    >>> temp_conversion(20)\n",
    "    68.0\n",
    "    \"\"\""
   ]
  },
  {
   "cell_type": "markdown",
   "metadata": {
    "id": "ocbqWafTR6GL"
   },
   "source": [
    "**Step 3:** Add a type contract. Our function takes a single parameter which is a number. It returns a number. So the  type contract is  (number) -> number. Let's add that to our function."
   ]
  },
  {
   "cell_type": "code",
   "execution_count": null,
   "metadata": {
    "id": "DSYi5fE8R6GM"
   },
   "outputs": [],
   "source": [
    "def temp_conversion(temp_c):\n",
    "    \"\"\" (number) -> number\n",
    "    \n",
    "    >>> temp_conversion(10)\n",
    "    50.0\n",
    "    >>> temp_conversion(20)\n",
    "    68.0\n",
    "    \"\"\""
   ]
  },
  {
   "cell_type": "markdown",
   "metadata": {
    "id": "glHSm91kR6GM"
   },
   "source": [
    "**Step 4:** Write the description and it to the docstring.  "
   ]
  },
  {
   "cell_type": "code",
   "execution_count": null,
   "metadata": {
    "id": "HWaQ_1XnR6GM"
   },
   "outputs": [],
   "source": [
    "def temp_conversion(temp_c):\n",
    "    \"\"\"(number) -> number\n",
    "    \n",
    "    Return the Celsius temperature in Fahrenheit.\n",
    "    \n",
    "    >>> temp_conversion(10)\n",
    "    50.0\n",
    "    >>> temp_conversion(20)\n",
    "    68.0\n",
    "    \"\"\""
   ]
  },
  {
   "cell_type": "markdown",
   "metadata": {
    "id": "8ebbqukeR6GM"
   },
   "source": [
    "**Step 5:** Code the body. For this step, we write the Python statements that will be executed when the function is called. We will use a `return` statement to produce a value.\n"
   ]
  },
  {
   "cell_type": "code",
   "execution_count": null,
   "metadata": {
    "id": "GKDYyiOGR6GN"
   },
   "outputs": [],
   "source": [
    "def temp_conversion(temp_c):\n",
    "    \"\"\"(number) -> number\n",
    "    \n",
    "    Return the Celsius temperature in Fahrenheit.\n",
    "    \n",
    "    >>> temp_conversion(10)\n",
    "    50.0\n",
    "    >>> temp_conversion(20)\n",
    "    68.0\n",
    "    \"\"\"\n",
    "    return 9 * temp_c / 5 + 32"
   ]
  },
  {
   "cell_type": "markdown",
   "metadata": {
    "id": "Dd3DRm1EvA__"
   },
   "source": [
    "Remember that the body of a function can take up mutliple lines. For example, this function would be equally valid:"
   ]
  },
  {
   "cell_type": "code",
   "execution_count": null,
   "metadata": {
    "id": "c4M-iDoHwij8"
   },
   "outputs": [],
   "source": [
    "def temp_conversion(temp_c):\n",
    "    \"\"\"(number) -> number\n",
    "    \n",
    "    Return the Celsius temperature in Fahrenheit.\n",
    "    \n",
    "    >>> temp_conversion(10)\n",
    "    50.0\n",
    "    >>> temp_conversion(20)\n",
    "    68.0\n",
    "    \"\"\"\n",
    "    temp_f = 9 * temp_c / 5\n",
    "    return temp_f + 32"
   ]
  },
  {
   "cell_type": "markdown",
   "metadata": {
    "id": "eTHloySvR6GN"
   },
   "source": [
    "**Step 6:** Test our function.  For now, we will do this by calling on the examples we developed in Step 1."
   ]
  },
  {
   "cell_type": "code",
   "execution_count": null,
   "metadata": {
    "colab": {
     "base_uri": "https://localhost:8080/"
    },
    "executionInfo": {
     "elapsed": 138,
     "status": "ok",
     "timestamp": 1628895627096,
     "user": {
      "displayName": "Alex Mariakakis",
      "photoUrl": "https://lh3.googleusercontent.com/a-/AOh14Ght6Dyv6e4hfso-1xpfI7hj0VNjb-z7AByT6gi2Tw=s64",
      "userId": "03266759294585342781"
     },
     "user_tz": 420
    },
    "id": "K_YcloWFR6GN",
    "outputId": "a8003c53-f1f3-4111-9b0b-f99d72da4183"
   },
   "outputs": [],
   "source": [
    "temp_conversion(10)"
   ]
  },
  {
   "cell_type": "code",
   "execution_count": null,
   "metadata": {
    "colab": {
     "base_uri": "https://localhost:8080/"
    },
    "executionInfo": {
     "elapsed": 160,
     "status": "ok",
     "timestamp": 1628895630063,
     "user": {
      "displayName": "Alex Mariakakis",
      "photoUrl": "https://lh3.googleusercontent.com/a-/AOh14Ght6Dyv6e4hfso-1xpfI7hj0VNjb-z7AByT6gi2Tw=s64",
      "userId": "03266759294585342781"
     },
     "user_tz": 420
    },
    "id": "bGlF0jnrR6GO",
    "outputId": "85855738-0e57-482e-d949-751560c15630"
   },
   "outputs": [],
   "source": [
    "temp_conversion(20)"
   ]
  },
  {
   "cell_type": "markdown",
   "metadata": {
    "id": "haZFNX5GR6GO"
   },
   "source": [
    "## Practice Exercise: Converting Pounds to Kilograms"
   ]
  },
  {
   "cell_type": "markdown",
   "metadata": {
    "id": "2wqxKbC_v4oc"
   },
   "source": [
    "Most people in Canada know their weight in pounds, but most calculations determining dosages and other medical information ask for a patient's weight in kilograms. Following the Function Design Recipe, write and test a function that will convert from pounds to kilograms (1 kg == 2.2 lbs)."
   ]
  },
  {
   "cell_type": "code",
   "execution_count": null,
   "metadata": {
    "id": "uUC7HpslwDIp"
   },
   "outputs": [],
   "source": [
    "# Write your function here"
   ]
  },
  {
   "cell_type": "code",
   "execution_count": null,
   "metadata": {
    "id": "NGi0JlzNxIQB"
   },
   "outputs": [],
   "source": [
    "# Write your tests here"
   ]
  }
 ],
 "metadata": {
  "colab": {
   "collapsed_sections": [],
   "name": "Copy of functions.ipynb",
   "provenance": [
    {
     "file_id": "https://github.com/C4M-UofT/C4M-UofT.github.io/blob/master/notebooks/functions.ipynb",
     "timestamp": 1628887979856
    }
   ]
  },
  "kernelspec": {
   "display_name": "Python 3",
   "language": "python",
   "name": "python3"
  },
  "language_info": {
   "codemirror_mode": {
    "name": "ipython",
    "version": 3
   },
   "file_extension": ".py",
   "mimetype": "text/x-python",
   "name": "python",
   "nbconvert_exporter": "python",
   "pygments_lexer": "ipython3",
   "version": "3.6.13"
  }
 },
 "nbformat": 4,
 "nbformat_minor": 4
}
