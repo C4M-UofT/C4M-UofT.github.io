{
 "cells": [
  {
   "cell_type": "markdown",
   "metadata": {
    "id": "LXmFqVuQKkk1"
   },
   "source": [
    "# Introduction to Strings"
   ]
  },
  {
   "cell_type": "markdown",
   "metadata": {
    "id": "cDhfITq9gEQQ"
   },
   "source": [
    "## What Is A String?"
   ]
  },
  {
   "cell_type": "markdown",
   "metadata": {
    "id": "-Dh_t3IFKkk4"
   },
   "source": [
    "Until now, we've only been working with numberic values and two numeric types (`int` and `float`).  Next, we will work with **strings**, which are sequences of **characters** (i.e., letters, numbers, and special symbols). \n",
    "\n",
    "Strings in Python are represented with the type `str`. Strings start and end with either single quotes (`'`) or double quotes (`\"`)."
   ]
  },
  {
   "cell_type": "code",
   "execution_count": null,
   "metadata": {
    "colab": {
     "base_uri": "https://localhost:8080/",
     "height": 35
    },
    "executionInfo": {
     "elapsed": 380,
     "status": "ok",
     "timestamp": 1628886889271,
     "user": {
      "displayName": "Alex Mariakakis",
      "photoUrl": "https://lh3.googleusercontent.com/a-/AOh14Ght6Dyv6e4hfso-1xpfI7hj0VNjb-z7AByT6gi2Tw=s64",
      "userId": "03266759294585342781"
     },
     "user_tz": 420
    },
    "id": "BXdLzHiwOCLf",
    "outputId": "ac68273c-f8b8-4f10-bfe5-05f3fa8d319f"
   },
   "outputs": [],
   "source": [
    "'hello'"
   ]
  },
  {
   "cell_type": "code",
   "execution_count": null,
   "metadata": {
    "colab": {
     "base_uri": "https://localhost:8080/",
     "height": 35
    },
    "executionInfo": {
     "elapsed": 232,
     "status": "ok",
     "timestamp": 1628887092791,
     "user": {
      "displayName": "Alex Mariakakis",
      "photoUrl": "https://lh3.googleusercontent.com/a-/AOh14Ght6Dyv6e4hfso-1xpfI7hj0VNjb-z7AByT6gi2Tw=s64",
      "userId": "03266759294585342781"
     },
     "user_tz": 420
    },
    "id": "fCCDkkFbOD3A",
    "outputId": "4cd9fb4f-0634-46d2-81e6-ab07bb793505"
   },
   "outputs": [],
   "source": [
    "\"How are you, Agent 007?\""
   ]
  },
  {
   "cell_type": "code",
   "execution_count": null,
   "metadata": {
    "colab": {
     "base_uri": "https://localhost:8080/",
     "height": 35
    },
    "executionInfo": {
     "elapsed": 41,
     "status": "ok",
     "timestamp": 1628886889276,
     "user": {
      "displayName": "Alex Mariakakis",
      "photoUrl": "https://lh3.googleusercontent.com/a-/AOh14Ght6Dyv6e4hfso-1xpfI7hj0VNjb-z7AByT6gi2Tw=s64",
      "userId": "03266759294585342781"
     },
     "user_tz": 420
    },
    "id": "0mLAjCeAOO1A",
    "outputId": "10244125-3114-408f-aa07-55def58738fb"
   },
   "outputs": [],
   "source": [
    "\"this is a 'quote' inside a quote\""
   ]
  },
  {
   "cell_type": "markdown",
   "metadata": {
    "id": "lA5PLZwzOFrm"
   },
   "source": [
    "## String Operations"
   ]
  },
  {
   "cell_type": "markdown",
   "metadata": {
    "id": "_T2gG7OyOMZs"
   },
   "source": [
    "Like other data types, we can use them in expressions and assignment statements:"
   ]
  },
  {
   "cell_type": "code",
   "execution_count": null,
   "metadata": {
    "id": "TkvP9p63Kkk7"
   },
   "outputs": [],
   "source": [
    "greeting = 'hello'"
   ]
  },
  {
   "cell_type": "code",
   "execution_count": null,
   "metadata": {
    "colab": {
     "base_uri": "https://localhost:8080/",
     "height": 35
    },
    "executionInfo": {
     "elapsed": 7,
     "status": "ok",
     "timestamp": 1628887406103,
     "user": {
      "displayName": "Alex Mariakakis",
      "photoUrl": "https://lh3.googleusercontent.com/a-/AOh14Ght6Dyv6e4hfso-1xpfI7hj0VNjb-z7AByT6gi2Tw=s64",
      "userId": "03266759294585342781"
     },
     "user_tz": 420
    },
    "id": "RTxJ6PtnKkk7",
    "outputId": "fc06104e-6d65-4fe3-ae13-531d6c2a0c24"
   },
   "outputs": [],
   "source": [
    "greeting"
   ]
  },
  {
   "cell_type": "code",
   "execution_count": null,
   "metadata": {
    "colab": {
     "base_uri": "https://localhost:8080/",
     "height": 35
    },
    "executionInfo": {
     "elapsed": 14,
     "status": "ok",
     "timestamp": 1628887407181,
     "user": {
      "displayName": "Alex Mariakakis",
      "photoUrl": "https://lh3.googleusercontent.com/a-/AOh14Ght6Dyv6e4hfso-1xpfI7hj0VNjb-z7AByT6gi2Tw=s64",
      "userId": "03266759294585342781"
     },
     "user_tz": 420
    },
    "id": "xKBOzwEvQLsF",
    "outputId": "62ddb4db-81c3-42ba-cab5-f010c3ae99fb"
   },
   "outputs": [],
   "source": [
    "# Concatenate\n",
    "greeting + ' there'"
   ]
  },
  {
   "cell_type": "code",
   "execution_count": null,
   "metadata": {
    "colab": {
     "base_uri": "https://localhost:8080/",
     "height": 35
    },
    "executionInfo": {
     "elapsed": 230,
     "status": "ok",
     "timestamp": 1628887408611,
     "user": {
      "displayName": "Alex Mariakakis",
      "photoUrl": "https://lh3.googleusercontent.com/a-/AOh14Ght6Dyv6e4hfso-1xpfI7hj0VNjb-z7AByT6gi2Tw=s64",
      "userId": "03266759294585342781"
     },
     "user_tz": 420
    },
    "id": "LF0_IEszKkk8",
    "outputId": "cc3386b5-532f-4dbe-ae18-8441ede494ac"
   },
   "outputs": [],
   "source": [
    "# Concatenate 3 copies of the string stored as greeting\n",
    "greeting * 3"
   ]
  },
  {
   "cell_type": "code",
   "execution_count": null,
   "metadata": {
    "colab": {
     "base_uri": "https://localhost:8080/",
     "height": 35
    },
    "executionInfo": {
     "elapsed": 7,
     "status": "ok",
     "timestamp": 1628887409615,
     "user": {
      "displayName": "Alex Mariakakis",
      "photoUrl": "https://lh3.googleusercontent.com/a-/AOh14Ght6Dyv6e4hfso-1xpfI7hj0VNjb-z7AByT6gi2Tw=s64",
      "userId": "03266759294585342781"
     },
     "user_tz": 420
    },
    "id": "WV2aFTNCKkk9",
    "outputId": "cca0d625-41e3-42f4-91a1-ff5e9a3bd4a8"
   },
   "outputs": [],
   "source": [
    "# Notice how we have not assigned a new value to greeting, so its value is unchanged\n",
    "greeting"
   ]
  },
  {
   "cell_type": "markdown",
   "metadata": {
    "id": "pBgfvTReKkk-"
   },
   "source": [
    "## Multi-Line Strings"
   ]
  },
  {
   "cell_type": "markdown",
   "metadata": {
    "id": "5YgldBzkKkk_"
   },
   "source": [
    "In addition to single- and double-quotes, we can also use triple-quotes (`'''`) to represent strings.  A triple-quoted string can span multiple lines:"
   ]
  },
  {
   "cell_type": "code",
   "execution_count": null,
   "metadata": {
    "colab": {
     "base_uri": "https://localhost:8080/",
     "height": 35
    },
    "executionInfo": {
     "elapsed": 216,
     "status": "ok",
     "timestamp": 1628887333538,
     "user": {
      "displayName": "Alex Mariakakis",
      "photoUrl": "https://lh3.googleusercontent.com/a-/AOh14Ght6Dyv6e4hfso-1xpfI7hj0VNjb-z7AByT6gi2Tw=s64",
      "userId": "03266759294585342781"
     },
     "user_tz": 420
    },
    "id": "UPw62AizKklA",
    "outputId": "43f77140-1769-4408-e9f5-a4e1a18288f0"
   },
   "outputs": [],
   "source": [
    "'''This is\n",
    "a longer string\n",
    "that spans\n",
    "multiple lines.'''"
   ]
  },
  {
   "cell_type": "markdown",
   "metadata": {
    "id": "z5E99iLeKklA"
   },
   "source": [
    "Notice that when the triple-quoted string is evaluated, it produces a single-quoted string containing `\\n`. This is the *newline character*, which tells Python that the text should switch to a new line."
   ]
  },
  {
   "cell_type": "markdown",
   "metadata": {
    "id": "gY4XtaYYgi9L"
   },
   "source": [
    "You can technically use the newline character in your own strings."
   ]
  },
  {
   "cell_type": "code",
   "execution_count": null,
   "metadata": {
    "colab": {
     "base_uri": "https://localhost:8080/",
     "height": 35
    },
    "executionInfo": {
     "elapsed": 18,
     "status": "ok",
     "timestamp": 1628891637991,
     "user": {
      "displayName": "Alex Mariakakis",
      "photoUrl": "https://lh3.googleusercontent.com/a-/AOh14Ght6Dyv6e4hfso-1xpfI7hj0VNjb-z7AByT6gi2Tw=s64",
      "userId": "03266759294585342781"
     },
     "user_tz": 420
    },
    "id": "l8thff9cgVcO",
    "outputId": "251aa766-3e4e-401f-8d76-aa215b3bd7b1"
   },
   "outputs": [],
   "source": [
    "\"This is line 1\\nAnd this is line 2\""
   ]
  },
  {
   "cell_type": "markdown",
   "metadata": {
    "id": "q5JuQ3nEgvKx"
   },
   "source": [
    "Whether you actually see a new line or just the newline character depends on the programming environment you are using."
   ]
  }
 ],
 "metadata": {
  "colab": {
   "collapsed_sections": [],
   "name": "Copy of strings.ipynb",
   "provenance": [
    {
     "file_id": "https://github.com/C4M-UofT/C4M-UofT.github.io/blob/master/notebooks/strings.ipynb",
     "timestamp": 1628886744190
    }
   ]
  },
  "kernelspec": {
   "display_name": "Python 3",
   "language": "python",
   "name": "python3"
  },
  "language_info": {
   "codemirror_mode": {
    "name": "ipython",
    "version": 3
   },
   "file_extension": ".py",
   "mimetype": "text/x-python",
   "name": "python",
   "nbconvert_exporter": "python",
   "pygments_lexer": "ipython3",
   "version": "3.6.13"
  }
 },
 "nbformat": 4,
 "nbformat_minor": 4
}
