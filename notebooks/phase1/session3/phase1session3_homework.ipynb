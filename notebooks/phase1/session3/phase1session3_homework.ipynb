{
  "cells": [
    {
      "cell_type": "markdown",
      "metadata": {
        "id": "WPEnQa9AvN6U"
      },
      "source": [
        "# Instructions"
      ]
    },
    {
      "cell_type": "markdown",
      "metadata": {
        "id": "S53yKXI1NEf-"
      },
      "source": [
        "## Hidden Code\n",
        "The notebook contains several hidden code cells, which are displayed as three dots. To run these, select the above cell and press run twice (either by the buttons on the top, or the \"shift\" + \"return\" hotkey). Once the hidden code cell runs, a message such as \"Done\" or your evaluation results should appear. If the code expands, please collapse it using the column on the left. You don't need to edit or understand the code in these cells. "
      ]
    },
    {
      "cell_type": "markdown",
      "metadata": {
        "id": "6HH31rdTvVie"
      },
      "source": [
        "## Starting Out\n",
        "The first cell in the exercise section is titled \"Run the hidden code cell before starting\". This should be run everytime a new kernel/runtime is started. If run correctly, the message \"Done!\" should appear underneath."
      ]
    },
    {
      "cell_type": "markdown",
      "metadata": {
        "id": "eaMNusnTvXT-"
      },
      "source": [
        "## Exercises\n",
        "This is followed by all the exercises of the notebook. An exercise generally consists of 4 cells. \n",
        "1.   The first cell provides a description of the function you need to implement. \n",
        "2.   The second cell contains the starter code, and contains a comment indicating where you should write your code. Your entire implementation will go in this cell. \n",
        "3.   The third cell is a testing cell for your own testing. Feel free to write any code you like here to test your function is working correctly.\n",
        "4.   The last cell contains hidden code to run test cases on your function. This cell, when run, will provide a mark on your implementation. If implemented correctly, you should get full marks."
      ]
    },
    {
      "cell_type": "markdown",
      "metadata": {
        "id": "1dkOO9SFvTin"
      },
      "source": [
        "## Completion\n",
        "The completion cell runs all the test cases in the notebook on all the functions. If this cell returns full marks, this means the notebook is complete and you can submit it."
      ]
    },
    {
      "cell_type": "markdown",
      "metadata": {
        "id": "_hvO2Fk9nghg"
      },
      "source": [
        "## Important: Run the hidden code cell before starting"
      ]
    },
    {
      "cell_type": "code",
      "execution_count": null,
      "metadata": {
        "id": "CR3MVg81IvWX",
        "jupyter": {
          "source_hidden": true
        }
      },
      "outputs": [],
      "source": [
        "# Do not edit this cell (Keep hidden to keep notebook easier to read)\n",
        "def test_homework(test_name, actual, expected):\n",
        "  if(actual == expected):\n",
        "    return 1\n",
        "  else:\n",
        "    print(\"Test failed. \" + test_name + \" expected \" + str(expected) + \", got \" + str(actual))\n",
        "    return 0\n",
        "\n",
        "print(\"Done!\")"
      ]
    },
    {
      "cell_type": "markdown",
      "metadata": {
        "id": "vhFh0ZUf4FPJ"
      },
      "source": [
        "# Exercise 1: Looping with Strings"
      ]
    },
    {
      "cell_type": "markdown",
      "metadata": {
        "id": "qiDCtWQI3Eou"
      },
      "source": [
        "### Exercise 1a: Count Non-Digits\n",
        "\n",
        "Complete the following function according to its docstring:\n"
      ]
    },
    {
      "cell_type": "code",
      "execution_count": null,
      "metadata": {
        "id": "saYHdkD33b2x"
      },
      "outputs": [],
      "source": [
        "def count_non_digits(s):\n",
        "    \"\"\" (str) -> int\n",
        "\n",
        "    Return the number of non-digits in s.\n",
        "\n",
        "    >>> count_non_digits('abc12d')\n",
        "    4\n",
        "    >>> count_non_digits('135')\n",
        "    0\n",
        "    >>> count_non_digits('A.4')\n",
        "    2\n",
        "    \"\"\"\n",
        "    # Write your code here"
      ]
    },
    {
      "cell_type": "code",
      "execution_count": null,
      "metadata": {
        "id": "AEpwn2d53rTM"
      },
      "outputs": [],
      "source": [
        "# Test your function here"
      ]
    },
    {
      "cell_type": "markdown",
      "metadata": {
        "id": "byeVyWUrnghj"
      },
      "source": [
        "#### Run the hidden code cell to evaluate Exercise 1a"
      ]
    },
    {
      "cell_type": "code",
      "execution_count": null,
      "metadata": {
        "id": "ZySDq-mXEghh",
        "jupyter": {
          "source_hidden": true
        }
      },
      "outputs": [],
      "source": [
        "# (Do not edit this cell)\n",
        "homework_score, max_homework_score = 0, 0\n",
        "\n",
        "homework_score += test_homework(\"Letter and digits\", count_non_digits('abc12d'), 4)\n",
        "max_homework_score += 1\n",
        "homework_score += test_homework(\"Only digits\", count_non_digits('135'), 0)\n",
        "max_homework_score += 1\n",
        "homework_score += test_homework(\"A letter and punctuation\", count_non_digits('A.4'), 2)\n",
        "max_homework_score += 1\n",
        "if homework_score == max_homework_score:\n",
        "  print(\"All test cases passed!\") \n",
        "\n",
        "print(\"Mark: \" + str(homework_score) + \"/\" + str(max_homework_score))"
      ]
    },
    {
      "cell_type": "markdown",
      "metadata": {
        "id": "IJZmh-O04WST"
      },
      "source": [
        "### Exercise 1b: Checking for Lowercase Vowels ###\n",
        "Complete the following function according to its docstring description. The letter y is not considered a vowel."
      ]
    },
    {
      "cell_type": "code",
      "execution_count": null,
      "metadata": {
        "id": "ixwwQA1H4d9p"
      },
      "outputs": [],
      "source": [
        "def contains_no_lowercase_vowels(phrase):\n",
        "    \"\"\" (str) -> bool\n",
        "\n",
        "    Return True iff (if and only if) phrase does not contain any lowercase vowels.\n",
        "\n",
        "    >>> contains_no_lowercase_vowels('syzygy')\n",
        "    True\n",
        "    >>> contains_no_lowercase_vowels('e')\n",
        "    False\n",
        "    >>> contains_no_lowercase_vowels('abc')\n",
        "    False\n",
        "    \"\"\"\n",
        "    # Write your code here"
      ]
    },
    {
      "cell_type": "code",
      "execution_count": null,
      "metadata": {
        "id": "-De5XiqS4dxH"
      },
      "outputs": [],
      "source": [
        "# Test your function here"
      ]
    },
    {
      "cell_type": "markdown",
      "metadata": {
        "id": "p3IMwyOdnghk"
      },
      "source": [
        "#### Run the hidden code cell to evaluate Exercise 1b"
      ]
    },
    {
      "cell_type": "code",
      "execution_count": null,
      "metadata": {
        "id": "FImGOKnS4g2q",
        "jupyter": {
          "source_hidden": true
        }
      },
      "outputs": [],
      "source": [
        "# (Do not edit this cell)\n",
        "homework_score, max_homework_score = 0, 0\n",
        "\n",
        "homework_score += test_homework(\"Empty string.\", contains_no_lowercase_vowels(''), True  )\n",
        "max_homework_score += 1\n",
        "homework_score += test_homework(\"Long word, no vowels.\", contains_no_lowercase_vowels('syzygy'), True  )\n",
        "max_homework_score += 1\n",
        "homework_score += test_homework(\"Single lowercase vowel.\", contains_no_lowercase_vowels('e'), False  )\n",
        "max_homework_score += 1\n",
        "homework_score += test_homework(\"Lots of uppercase vowels.\", contains_no_lowercase_vowels('AIEEEEEE'), True  )\n",
        "max_homework_score += 1\n",
        "homework_score += test_homework(\"Lowercase vowel first.\", contains_no_lowercase_vowels('abc'), False  )\n",
        "max_homework_score += 1\n",
        "homework_score += test_homework(\"Lowercase vowel last.\", contains_no_lowercase_vowels('bcde'), False)\n",
        "max_homework_score += 1\n",
        "\n",
        "if homework_score == max_homework_score:\n",
        "  print(\"All test cases passed!\") \n",
        "\n",
        "print(\"Mark: \" + str(homework_score) + \"/\" + str(max_homework_score))"
      ]
    },
    {
      "cell_type": "markdown",
      "metadata": {
        "id": "UzEez9h-5XsK"
      },
      "source": [
        "### Exercise 1c: Password Validity\n",
        "Complete the following function according to its docstring:\n"
      ]
    },
    {
      "cell_type": "code",
      "execution_count": null,
      "metadata": {
        "id": "IGoaWYi15dxj"
      },
      "outputs": [],
      "source": [
        "def check_password(passwd):\n",
        "    \"\"\" (str) -> bool\n",
        "\n",
        "    A strong password has a length greater than or equal to 6, contains at\n",
        "    least one lowercase letter, at least one uppercase letter, and at least\n",
        "    one digit.  Return True iff passwd is considered strong.\n",
        "\n",
        "    >>> check_password('I<3csc108')\n",
        "    True\n",
        "    \"\"\"\n",
        "    # Write your code here"
      ]
    },
    {
      "cell_type": "code",
      "execution_count": null,
      "metadata": {
        "id": "HLMCN_RZ5eIC"
      },
      "outputs": [],
      "source": [
        "# Test your function here"
      ]
    },
    {
      "cell_type": "markdown",
      "metadata": {
        "id": "n7iHJoEPnghm"
      },
      "source": [
        "#### Run the hidden code cell to evaluate Exercise 1c"
      ]
    },
    {
      "cell_type": "code",
      "execution_count": null,
      "metadata": {
        "id": "_6nh6YC25f-M",
        "jupyter": {
          "source_hidden": true
        }
      },
      "outputs": [],
      "source": [
        "# (Do not edit this cell)\n",
        "homework_score, max_homework_score = 0, 0\n",
        "\n",
        "homework_score += test_homework(\"Too short.\", check_password('dE6gh'), False)\n",
        "max_homework_score += 1\n",
        "homework_score += test_homework(\"Empty string.\", check_password(''), False)\n",
        "max_homework_score += 1\n",
        "homework_score += test_homework(\"Exactly six letters, at least one of each kind that we need.\", check_password('dE6ghi'), True)\n",
        "max_homework_score += 1\n",
        "homework_score += test_homework(\"More than six letters, at least one of each kind that we need.\", check_password('dE6ghijklm'), True)\n",
        "max_homework_score += 1\n",
        "homework_score += test_homework(\"Ends in digit.\", check_password('!!!!eF9'), True)\n",
        "max_homework_score += 1\n",
        "homework_score += test_homework(\"Ends in uppercase.\", check_password('!!!!e9F'), True)\n",
        "max_homework_score += 1\n",
        "homework_score += test_homework(\"Ends in lowercase.\", check_password('!!!!E9f'), True)\n",
        "max_homework_score += 1\n",
        "homework_score += test_homework(\"Starts with lowercase.\", check_password('a2C!!!g'), True)\n",
        "max_homework_score += 1\n",
        "homework_score += test_homework(\"Starts with digit.\", check_password('2bC!!!g'), True)\n",
        "max_homework_score += 1\n",
        "homework_score += test_homework(\"Starts with uppercase.\", check_password('Ab3!!!g'), True)\n",
        "max_homework_score += 1\n",
        "homework_score += test_homework(\"All sandwiched in between.\", check_password('!!!aB3!'), True)\n",
        "max_homework_score += 1\n",
        "homework_score += test_homework(\"Missing digit.\", check_password('aaaaaaB'), False)\n",
        "max_homework_score += 1\n",
        "homework_score += test_homework(\"Missing uppercase.\", check_password('aaaaaa1'), False)\n",
        "max_homework_score += 1\n",
        "homework_score += test_homework(\"Missing lowercase.\", check_password('AAAAAA1'), False)\n",
        "max_homework_score += 1\n",
        "\n",
        "if homework_score == max_homework_score:\n",
        "  print(\"All test cases passed!\") \n",
        "\n",
        "print(\"Mark: \" + str(homework_score) + \"/\" + str(max_homework_score))"
      ]
    },
    {
      "cell_type": "markdown",
      "metadata": {
        "id": "E7d_GgsC7Mil"
      },
      "source": [
        "# Exercise 2: Looping with Lists"
      ]
    },
    {
      "cell_type": "markdown",
      "metadata": {
        "id": "UbEwGEsQnfi_"
      },
      "source": [
        "### Exercise 2a: Find an Even Number\n",
        "\n",
        "Complete the following function according to its docstring using a `for` loop:"
      ]
    },
    {
      "cell_type": "code",
      "execution_count": null,
      "metadata": {
        "id": "YSgNb0jfnlQf"
      },
      "outputs": [],
      "source": [
        "def first_even(items):\n",
        "    \"\"\" (list of int) -> int\n",
        "    \n",
        "    Return the first even number from items. Return -1 if items contains no even numbers.\n",
        "\n",
        "    >>> first_even([5, 8, 3, 2])\n",
        "    8\n",
        "    >>> first_even([7, 1])\n",
        "    -1\n",
        "    \"\"\"\n",
        "    # Write your code here"
      ]
    },
    {
      "cell_type": "code",
      "execution_count": null,
      "metadata": {
        "id": "gPPBe6YmXPSH"
      },
      "outputs": [],
      "source": [
        "# Test your function here"
      ]
    },
    {
      "cell_type": "markdown",
      "metadata": {
        "id": "3YKXmZG6nghp"
      },
      "source": [
        "#### Run the hidden code cell to evaluate Exercise 2a"
      ]
    },
    {
      "cell_type": "code",
      "execution_count": null,
      "metadata": {
        "id": "8HeC-ozmXgpg",
        "jupyter": {
          "source_hidden": true
        }
      },
      "outputs": [],
      "source": [
        "# (Do not edit this cell)\n",
        "homework_score, max_homework_score = 0, 0\n",
        "\n",
        "homework_score += test_homework(\"The list does not start with an even number\", first_even([1, 9, 4, 77, 13, 6, 8]), 4)\n",
        "max_homework_score += 1\n",
        "homework_score += test_homework(\"The list is empty\", first_even([]), -1)\n",
        "max_homework_score += 1\n",
        "homework_score += test_homework(\"The list contains only even numbers\", first_even([2, 4, 6, 8]), 2)\n",
        "max_homework_score += 1\n",
        "homework_score += test_homework(\"The list contains odd integers: there are no even numbers\", first_even([1, 9, 3, 77, 13, 5, 7]), -1)\n",
        "max_homework_score += 1\n",
        "homework_score += test_homework(\"The list contains several odd integers followed by one even integer: the even integer is the last item in the list\", first_even([1, 9, 3, 77, 13, 5, 8]), 8)\n",
        "max_homework_score += 1\n",
        "homework_score += test_homework(\"The list is empty\", first_even([8, 10, 2, 4, 6, 8]), 8)\n",
        "max_homework_score += 1\n",
        "\n",
        "if homework_score == max_homework_score:\n",
        "  print(\"All test cases passed!\") \n",
        "\n",
        "print(\"Mark: \" + str(homework_score) + \"/\" + str(max_homework_score))"
      ]
    },
    {
      "cell_type": "markdown",
      "metadata": {
        "id": "1Auqcafuo3hV"
      },
      "source": [
        "### Exercise 2b: Searching a Closet\n",
        "\n",
        "Complete the following function according to its docstring using a `for` loop. String method `startswith()` may come in handy here."
      ]
    },
    {
      "cell_type": "code",
      "execution_count": null,
      "metadata": {
        "id": "LgBp37kJo_LL"
      },
      "outputs": [],
      "source": [
        "def search_closet(items, colour):\n",
        "    \"\"\" (list of str, str) -> list of str\n",
        "    \n",
        "    items is a list containing descriptions of the contents of a closet where\n",
        "    every description has the form 'colour item', where each colour is one word\n",
        "    and each item is one or more word.  For example:\n",
        "\n",
        "        ['grey summer jacket', 'orange spring jacket', 'red shoes', 'green hat']\n",
        "\n",
        "    colour is a colour that is being searched for in items. \n",
        "    \n",
        "    Return a list containing only the items that match the colour.\n",
        "    \n",
        "    >>> search_closet(['red summer jacket', 'orange spring jacket', 'red shoes', 'green hat'], 'red')\n",
        "    ['red summer jacket', 'red shoes']\n",
        "    >>> search_closet(['red shirt', 'green pants'], 'blue')\n",
        "    []\n",
        "    >>> search_closet([], 'mauve')\n",
        "    []\n",
        "    \"\"\"\n",
        "    # Write your code here"
      ]
    },
    {
      "cell_type": "code",
      "execution_count": null,
      "metadata": {
        "id": "LQTwd4XEpcf1"
      },
      "outputs": [],
      "source": [
        "# Test your function here"
      ]
    },
    {
      "cell_type": "markdown",
      "metadata": {
        "id": "CjKpV6wXnghq"
      },
      "source": [
        "#### Run the hidden code cell to evaluate Exercise 2b"
      ]
    },
    {
      "cell_type": "code",
      "execution_count": null,
      "metadata": {
        "id": "khM-L4Ecph9g",
        "jupyter": {
          "source_hidden": true
        }
      },
      "outputs": [],
      "source": [
        "# (Do not edit this cell)\n",
        "homework_score, max_homework_score = 0, 0\n",
        "\n",
        "homework_score += test_homework(\"Colour matches item name, but not closet item colour.\", search_closet(['Red Foo', 'Far bar', 'Boo rally', 'Cat Black'], 'Black'), []  )\n",
        "max_homework_score += 1\n",
        "homework_score += test_homework(\"Non-matching colour.\", search_closet(['Red Foo', 'Far bar', 'Boo rally', 'Cat toe'], 'z'), []  )\n",
        "max_homework_score += 1\n",
        "homework_score += test_homework(\"Colour matches first item's colour.\", search_closet(['Red Foo', 'Far bar', 'Boo rally', 'Cat toe'], 'Red'), ['Red Foo']  )\n",
        "max_homework_score += 1\n",
        "homework_score += test_homework(\"Colour matches last item's colour.\", search_closet(['Red Foo', 'Far bar', 'Boo rally', 'Cat toe'], 'Cat'), ['Cat toe']  )\n",
        "max_homework_score += 1\n",
        "homework_score += test_homework(\"Colour matches middle item's colour.\", search_closet(['Red Foo', 'Far bar', 'Boo rally', 'Cat toe'], 'Far'), ['Far bar']  )\n",
        "max_homework_score += 1\n",
        "homework_score += test_homework(\"Colour matches multiple items' colour.\", search_closet(['Red Foo', 'Far bar', 'Zing baff', 'Purple spaghetti', 'Far rally', 'Cat toe'], 'Far'), ['Far bar', 'Far rally']  )\n",
        "max_homework_score += 1\n",
        "homework_score += test_homework(\"Empty closet.\", search_closet([], 'Far'), []  )\n",
        "max_homework_score += 1\n",
        "homework_score += test_homework(\"Colour matches first item's colour.\", search_closet(['Purple Foo', 'Far bar', 'Boo rally', 'Cat toe'], 'Purple'), ['Purple Foo']  )\n",
        "max_homework_score += 1\n",
        "homework_score += test_homework(\"Colour matches last item's colour.\", search_closet(['Red Foo', 'Far bar', 'Boo rally', 'Black toe'], 'Black'), ['Black toe']  )\n",
        "max_homework_score += 1\n",
        "homework_score += test_homework(\"Colour matches middle item's colour.\", search_closet(['Red Foo', 'Far bar', 'Orange rally', 'Cat toe'], 'Far'), ['Far bar']  )\n",
        "max_homework_score += 1\n",
        "homework_score += test_homework(\"Colour matches multiple items' colour.\", search_closet(['Red Foo', 'Yellow bar', 'Zing baff', 'Yellow spaghetti', 'Far rally', 'Yellow toe'], 'Yellow'), ['Yellow bar', 'Yellow spaghetti', 'Yellow toe'])\n",
        "max_homework_score += 1\n",
        "\n",
        "if homework_score == max_homework_score:\n",
        "  print(\"All test cases passed!\") \n",
        "\n",
        "print(\"Mark: \" + str(homework_score) + \"/\" + str(max_homework_score))"
      ]
    },
    {
      "cell_type": "markdown",
      "metadata": {
        "id": "3ygSOdeurVX4"
      },
      "source": [
        "### Exercise 2c: Collecting Underperformers\n",
        "\n",
        "Complete the examples in the docstring and then complete the function body.\n"
      ]
    },
    {
      "cell_type": "code",
      "execution_count": null,
      "metadata": {
        "id": "2oz2_RgwrZqp"
      },
      "outputs": [],
      "source": [
        "def collect_underperformers(nums, threshold):\n",
        "    \"\"\" (list of number, int) -> list of number\n",
        "\n",
        "    Return a new list consisting of those numbers in nums that are below threshold,\n",
        "    in the same order as in nums.\n",
        "\n",
        "    >>> collect_underperformers([1, 2, 3, 4], 3)\n",
        "    [1, 2]\n",
        "    >>> collect_underperformers([1, 2, 108, 3, 4], 50)\n",
        "    # TODO Replace this comment with the return value for the function call.\n",
        "    >>> collect_underperformers([], 7)\n",
        "    # TODO Replace this comment with the return value for the function call.\n",
        "    \"\"\"\n",
        "    # Write your code here"
      ]
    },
    {
      "cell_type": "code",
      "execution_count": null,
      "metadata": {
        "id": "I3fb_snErpIE"
      },
      "outputs": [],
      "source": [
        "# Test you function here"
      ]
    },
    {
      "cell_type": "markdown",
      "metadata": {
        "id": "dKMcinvNnghr"
      },
      "source": [
        "#### Run the hidden code cell to evaluate Exercise 2c"
      ]
    },
    {
      "cell_type": "code",
      "execution_count": null,
      "metadata": {
        "id": "2k_g2iG1rw0H",
        "jupyter": {
          "source_hidden": true
        }
      },
      "outputs": [],
      "source": [
        "# (Do not edit this cell)\n",
        "homework_score, max_homework_score = 0, 0\n",
        "\n",
        "homework_score += test_homework(\"Empty list.\", collect_underperformers([], 100), []  )\n",
        "max_homework_score += 1\n",
        "homework_score += test_homework(\"Single element list, no underperformers.\", collect_underperformers([5], 3), []  )\n",
        "max_homework_score += 1\n",
        "homework_score += test_homework(\"Single element list, no underperformers.\", collect_underperformers([2], 1), []  )\n",
        "max_homework_score += 1\n",
        "homework_score += test_homework(\"Single element list, underperformer.\", collect_underperformers([2], 5), [2]  )\n",
        "max_homework_score += 1\n",
        "homework_score += test_homework(\"Single element list, underperformer.\", collect_underperformers([7], 8), [7]  )\n",
        "max_homework_score += 1\n",
        "homework_score += test_homework(\"Multiple element list, no underperformers.\", collect_underperformers([6, 4, 7, 8, 5], 2), []  )\n",
        "max_homework_score += 1\n",
        "homework_score += test_homework(\"Multiple element list, no underperformers.\", collect_underperformers([7, 11, 5, 4, 9], 4), []  )\n",
        "max_homework_score += 1\n",
        "homework_score += test_homework(\"Multiple element list, some underperformers.\", collect_underperformers([1, 7, 5, 3], 5), [1, 3]  )\n",
        "max_homework_score += 1\n",
        "homework_score += test_homework(\"Multiple element list, some underperformers.\", collect_underperformers([88, 4, 9, 1], 3), [1]  )\n",
        "max_homework_score += 1\n",
        "homework_score += test_homework(\"Multiple element list, all underperformers.\", collect_underperformers([13, 32, 1, 3, 9], 50), [13, 32, 1, 3, 9]  )\n",
        "max_homework_score += 1\n",
        "homework_score += test_homework(\"Multiple element list, all underperformers.\", collect_underperformers([4, 3, 9], 10), [4, 3, 9])\n",
        "max_homework_score += 1\n",
        "\n",
        "if homework_score == max_homework_score:\n",
        "  print(\"All test cases passed!\") \n",
        "\n",
        "print(\"Mark: \" + str(homework_score) + \"/\" + str(max_homework_score))"
      ]
    },
    {
      "cell_type": "markdown",
      "metadata": {
        "id": "ppaE4_C6sX0I"
      },
      "source": [
        "# Exericse 3: Modifying Lists"
      ]
    },
    {
      "cell_type": "markdown",
      "metadata": {
        "id": "ssLUk2vZsbA1"
      },
      "source": [
        "## Exercise 3a\n",
        "Complete the following function according to its docstring.\n",
        "\n",
        "**Note:** this function should return None. Its job is to modify the list passed as its argument."
      ]
    },
    {
      "cell_type": "code",
      "execution_count": null,
      "metadata": {
        "id": "awWECSAlsvSF"
      },
      "outputs": [],
      "source": [
        "def swap_name(name_list): \n",
        "    \"\"\" (list of str) -> NoneType \n",
        " \n",
        "    name_list contains a single person's name. Modify name_list so that the first name and last name are swapped. \n",
        "                 \n",
        "    >>> name = ['John', 'Smith'] \n",
        "    >>> swap_name(name) \n",
        "    >>> name \n",
        "    ['Smith', 'John'] \n",
        "    >>> name = ['John', 'Andrew', 'Gleeson', 'Smith'] \n",
        "    >>> swap_name(name) \n",
        "    >>> name \n",
        "    ['Smith', 'Andrew', 'Gleeson', 'John'] \n",
        "    \"\"\" \n",
        "    # Write your code here    "
      ]
    },
    {
      "cell_type": "code",
      "execution_count": null,
      "metadata": {
        "id": "a6_k70Tvs2cf"
      },
      "outputs": [],
      "source": [
        "# Test your function here"
      ]
    },
    {
      "cell_type": "markdown",
      "metadata": {
        "id": "E2fMq3TMnght"
      },
      "source": [
        "### Run the hidden code cell to evaluate Exercise 3a"
      ]
    },
    {
      "cell_type": "code",
      "execution_count": null,
      "metadata": {
        "id": "ZVc-SjE0tAQF",
        "jupyter": {
          "source_hidden": true
        }
      },
      "outputs": [],
      "source": [
        "# (Do not edit this cell)\n",
        "homework_score, max_homework_score = 0, 0\n",
        "\n",
        "lst = ['Boo', 'Yah'];\n",
        "swap_name(lst)\n",
        "homework_score += test_homework(\"A person with no middle names.\", lst, ['Yah', 'Boo'])\n",
        "max_homework_score += 1\n",
        "lst = ['Boo', 'Yah', 'Kah', 'Aaaah', 'Shah'];\n",
        "swap_name(lst)\n",
        "homework_score += test_homework(\"A person with 3 middle names.\", lst,  ['Shah', 'Yah', 'Kah', 'Aaaah', 'Boo'])\n",
        "max_homework_score += 1\n",
        "\n",
        "if homework_score == max_homework_score:\n",
        "  print(\"All test cases passed!\") \n",
        "\n",
        "print(\"Mark: \" + str(homework_score) + \"/\" + str(max_homework_score))"
      ]
    },
    {
      "cell_type": "markdown",
      "metadata": {
        "id": "QCy7ykTduQi_"
      },
      "source": [
        "# Exercise 4: Looping with Indices"
      ]
    },
    {
      "cell_type": "markdown",
      "metadata": {
        "id": "LC_o90TMuTd2"
      },
      "source": [
        "### Exercise 4a: Scale Midterm Grades\n",
        "\n",
        "Complete the examples in the docstring and then complete the function body."
      ]
    },
    {
      "cell_type": "code",
      "execution_count": null,
      "metadata": {
        "id": "bVDJ_ho9uU1z"
      },
      "outputs": [],
      "source": [
        "def scale_midterm_grades(grades, multiplier, bonus):\n",
        "    \"\"\" (list of number, number, number) -> NoneType\n",
        "\n",
        "    Modify each grade in grades by multiplying it by multiplier and then\n",
        "    adding bonus. Cap grades at 100.\n",
        "\n",
        "    >>> grades = [45, 50, 55, 95]\n",
        "    >>> scale_midterm_grades(grades, 1, 10)\n",
        "    >>> grades\n",
        "    # TODO Replace this comment with the list that grades should refer to.\n",
        "    \"\"\"\n",
        "    # Write your code here"
      ]
    },
    {
      "cell_type": "code",
      "execution_count": null,
      "metadata": {
        "id": "HsC7dIwauVWo"
      },
      "outputs": [],
      "source": [
        "# Test your function here"
      ]
    },
    {
      "cell_type": "markdown",
      "metadata": {
        "id": "Hr-0c2Z9nghu"
      },
      "source": [
        "#### Run the hidden code cell to evaluate Exercise 4a"
      ]
    },
    {
      "cell_type": "code",
      "execution_count": null,
      "metadata": {
        "id": "49EVfnlbumMT",
        "jupyter": {
          "source_hidden": true
        }
      },
      "outputs": [],
      "source": [
        "# (Do not edit this cell)\n",
        "homework_score, max_homework_score = 0, 0\n",
        "\n",
        "grades = []\n",
        "scale_midterm_grades(grades, 1, 100)\n",
        "homework_score += test_homework(\"Empty list.\", grades, [])\n",
        "max_homework_score += 1\n",
        "grades = [50]\n",
        "scale_midterm_grades(grades, 1, 0)\n",
        "homework_score += test_homework(\"Single element, no change.\", grades, [50])  \n",
        "max_homework_score += 1\n",
        "grades = [60]\n",
        "scale_midterm_grades(grades, 1, 0)\n",
        "homework_score += test_homework(\"Single element, no change.\", grades, [60])  \n",
        "max_homework_score += 1\n",
        "grades = [50]\n",
        "scale_midterm_grades(grades, 2, 0)\n",
        "homework_score += test_homework(\"Single element, multiplier.\", grades, [100])  \n",
        "max_homework_score += 1\n",
        "grades = [40]\n",
        "scale_midterm_grades(grades, 2, 0)\n",
        "homework_score += test_homework(\"Single element, multiplier.\", grades, [80])  \n",
        "max_homework_score += 1\n",
        "grades = [20]\n",
        "scale_midterm_grades(grades, 1, 100)\n",
        "homework_score += test_homework(\"Single element, bonus.\", grades, [100])  \n",
        "max_homework_score += 1\n",
        "grades = [50]\n",
        "scale_midterm_grades(grades, 1, 50)\n",
        "homework_score += test_homework(\"Single element, bonus.\", grades, [100])  \n",
        "max_homework_score += 1\n",
        "grades = [56, 76, 90, 11, 55]\n",
        "scale_midterm_grades(grades, 1, 0)\n",
        "homework_score += test_homework(\"Multiple elements, no change.\", grades, [56, 76, 90, 11, 55])  \n",
        "max_homework_score += 1\n",
        "grades = [86, 56, 99]\n",
        "scale_midterm_grades(grades, 1, 0)\n",
        "homework_score += test_homework(\"Multiple elements, no change.\", grades, [86, 56, 99])  \n",
        "max_homework_score += 1\n",
        "grades = [54, 71, 66, 25]\n",
        "scale_midterm_grades(grades, 1.2, 30)\n",
        "homework_score += test_homework(\"Multiple elements, modified.\", grades, [94.8, 100, 100, 60])  \n",
        "max_homework_score += 1\n",
        "grades = [54, 71, 66, 25, 99, 100, 11, 12]\n",
        "scale_midterm_grades(grades, 2, 50)\n",
        "homework_score += test_homework(\"Multiple elements, modified.\", grades, [100, 100, 100, 100, 100, 100, 72, 74]) \n",
        "max_homework_score += 1\n",
        "\n",
        "if homework_score == max_homework_score:\n",
        "  print(\"All test cases passed!\") \n",
        "\n",
        "print(\"Mark: \" + str(homework_score) + \"/\" + str(max_homework_score))"
      ]
    },
    {
      "cell_type": "markdown",
      "metadata": {
        "id": "ANg_ngjHuV4A"
      },
      "source": [
        "### Exercise 4b: Weight Watchers\n",
        "\n",
        "A patient is trying to lose weight and you have a list of weekly weight measurements. The first measurement in the list is the weight from the initial visit, the second from 1 week later, the next from 2 weeks later etc. The goal is to lose 10%.\n",
        "\n",
        "Write a function that takes this list as a parameter and returns the number of weeks until the patient loses 10% of the original weight. (If the weight fluxuates, just report the first time that the weight is below 90% of the original value.)\n",
        "\n",
        "If the patient never reaches the goal, return -1."
      ]
    },
    {
      "cell_type": "code",
      "execution_count": null,
      "metadata": {
        "id": "W458KVVsuWKv"
      },
      "outputs": [],
      "source": [
        "def weeks_to_goal(weights):\n",
        "    \"\"\"  (list of number) -> int\n",
        "\n",
        "    Return the number of weeks until the patient has lost at least 10% \n",
        "    of the original weight using the measurements from weights.\n",
        "    Return -1 if goal is never reached.\n",
        "\n",
        "    >>> weeks_to_first_goal([100, 95, 93.4, 92, 91.5, 89.5, 88, 80])\n",
        "    5\n",
        "    \"\"\"\n",
        "    # Write your code here"
      ]
    },
    {
      "cell_type": "code",
      "execution_count": null,
      "metadata": {
        "id": "dhk7DcRuuWby"
      },
      "outputs": [],
      "source": [
        "# Test your function here"
      ]
    },
    {
      "cell_type": "markdown",
      "metadata": {
        "id": "8YIphBq_nghy"
      },
      "source": [
        "#### Run the hidden code cell to evaluate Exercise 4b"
      ]
    },
    {
      "cell_type": "code",
      "execution_count": null,
      "metadata": {
        "id": "ibgB0EI6wjAm",
        "jupyter": {
          "source_hidden": true
        }
      },
      "outputs": [],
      "source": [
        "# (Do not edit this cell)\n",
        "homework_score, max_homework_score = 0, 0\n",
        "\n",
        "homework_score += test_homework(\"Example from description\", weeks_to_goal([100, 95, 93.4, 92, 91.5, 89.5, 88, 80]),5)\n",
        "max_homework_score += 1\n",
        "homework_score += test_homework(\"Goal never reached\", weeks_to_goal([100, 95, 93.4, 92, 91.5, 93.5, 98, 100]),-1)\n",
        "max_homework_score += 1\n",
        "homework_score += test_homework(\"Another example\", weeks_to_goal([100, 95, 93.4, 89.5, 88]),3)\n",
        "max_homework_score += 1\n",
        "homework_score += test_homework(\"Example where initial weight is not 100\", weeks_to_goal([200, 190, 189.5, 188, 180, 175.4]),4)\n",
        "max_homework_score += 1\n",
        "\n",
        "if homework_score == max_homework_score:\n",
        "  print(\"All test cases passed!\") \n",
        "\n",
        "print(\"Mark: \" + str(homework_score) + \"/\" + str(max_homework_score))"
      ]
    },
    {
      "cell_type": "markdown",
      "metadata": {
        "id": "WntG1TsuyUUG"
      },
      "source": [
        "# Homework Completion"
      ]
    },
    {
      "cell_type": "markdown",
      "source": [
        "Run this hidden code cell to check that you've successfully completed all of the exercises."
      ],
      "metadata": {
        "id": "H5_iyXCyP9O0"
      }
    },
    {
      "cell_type": "code",
      "execution_count": null,
      "metadata": {
        "id": "1nPQEMQkuBjr",
        "jupyter": {
          "source_hidden": true
        }
      },
      "outputs": [],
      "source": [
        "# (Do not edit this cell)\n",
        "homework_score, max_homework_score = 0, 0\n",
        "\n",
        "try:\n",
        "  # 1a\n",
        "  homework_score += test_homework(\"Letter and digits\", count_non_digits('abc12d'), 4)\n",
        "  max_homework_score += 1\n",
        "  homework_score += test_homework(\"Only digits\", count_non_digits('135'), 0)\n",
        "  max_homework_score += 1\n",
        "  homework_score += test_homework(\"A letter and punctuation\", count_non_digits('A.4'), 2)\n",
        "  max_homework_score += 1\n",
        "\n",
        "  # 1b\n",
        "  homework_score += test_homework(\"Empty string.\", contains_no_lowercase_vowels(''), True  )\n",
        "  max_homework_score += 1\n",
        "  homework_score += test_homework(\"Long word, no vowels.\", contains_no_lowercase_vowels('syzygy'), True  )\n",
        "  max_homework_score += 1\n",
        "  homework_score += test_homework(\"Single lowercase vowel.\", contains_no_lowercase_vowels('e'), False  )\n",
        "  max_homework_score += 1\n",
        "  homework_score += test_homework(\"Lots of uppercase vowels.\", contains_no_lowercase_vowels('AIEEEEEE'), True  )\n",
        "  max_homework_score += 1\n",
        "  homework_score += test_homework(\"Lowercase vowel first.\", contains_no_lowercase_vowels('abc'), False  )\n",
        "  max_homework_score += 1\n",
        "  homework_score += test_homework(\"Lowercase vowel last.\", contains_no_lowercase_vowels('bcde'), False)\n",
        "  max_homework_score += 1\n",
        "\n",
        "  # 2a\n",
        "  homework_score += test_homework(\"The list does not start with an even number\", first_even([1, 9, 4, 77, 13, 6, 8]), 4)\n",
        "  max_homework_score += 1\n",
        "  homework_score += test_homework(\"The list is empty\", first_even([]), -1)\n",
        "  max_homework_score += 1\n",
        "  homework_score += test_homework(\"The list contains only even numbers\", first_even([2, 4, 6, 8]), 2)\n",
        "  max_homework_score += 1\n",
        "  homework_score += test_homework(\"The list contains odd integers: there are no even numbers\", first_even([1, 9, 3, 77, 13, 5, 7]), -1)\n",
        "  max_homework_score += 1\n",
        "  homework_score += test_homework(\"The list contains several odd integers followed by one even integer: the even integer is the last item in the list\", first_even([1, 9, 3, 77, 13, 5, 8]), 8)\n",
        "  max_homework_score += 1\n",
        "  homework_score += test_homework(\"The list is empty\", first_even([8, 10, 2, 4, 6, 8]), 8)\n",
        "  max_homework_score += 1\n",
        "\n",
        "  # 2b\n",
        "  homework_score += test_homework(\"Colour matches item name, but not closet item colour.\", search_closet(['Red Foo', 'Far bar', 'Boo rally', 'Cat Black'], 'Black'), []  )\n",
        "  max_homework_score += 1\n",
        "  homework_score += test_homework(\"Non-matching colour.\", search_closet(['Red Foo', 'Far bar', 'Boo rally', 'Cat toe'], 'z'), []  )\n",
        "  max_homework_score += 1\n",
        "  homework_score += test_homework(\"Colour matches first item's colour.\", search_closet(['Red Foo', 'Far bar', 'Boo rally', 'Cat toe'], 'Red'), ['Red Foo']  )\n",
        "  max_homework_score += 1\n",
        "  homework_score += test_homework(\"Colour matches last item's colour.\", search_closet(['Red Foo', 'Far bar', 'Boo rally', 'Cat toe'], 'Cat'), ['Cat toe']  )\n",
        "  max_homework_score += 1\n",
        "  homework_score += test_homework(\"Colour matches middle item's colour.\", search_closet(['Red Foo', 'Far bar', 'Boo rally', 'Cat toe'], 'Far'), ['Far bar']  )\n",
        "  max_homework_score += 1\n",
        "  homework_score += test_homework(\"Colour matches multiple items' colour.\", search_closet(['Red Foo', 'Far bar', 'Zing baff', 'Purple spaghetti', 'Far rally', 'Cat toe'], 'Far'), ['Far bar', 'Far rally']  )\n",
        "  max_homework_score += 1\n",
        "  homework_score += test_homework(\"Empty closet.\", search_closet([], 'Far'), []  )\n",
        "  max_homework_score += 1\n",
        "  homework_score += test_homework(\"Colour matches first item's colour.\", search_closet(['Purple Foo', 'Far bar', 'Boo rally', 'Cat toe'], 'Purple'), ['Purple Foo']  )\n",
        "  max_homework_score += 1\n",
        "  homework_score += test_homework(\"Colour matches last item's colour.\", search_closet(['Red Foo', 'Far bar', 'Boo rally', 'Black toe'], 'Black'), ['Black toe']  )\n",
        "  max_homework_score += 1\n",
        "  homework_score += test_homework(\"Colour matches middle item's colour.\", search_closet(['Red Foo', 'Far bar', 'Orange rally', 'Cat toe'], 'Far'), ['Far bar']  )\n",
        "  max_homework_score += 1\n",
        "  homework_score += test_homework(\"Colour matches multiple items' colour.\", search_closet(['Red Foo', 'Yellow bar', 'Zing baff', 'Yellow spaghetti', 'Far rally', 'Yellow toe'], 'Yellow'), ['Yellow bar', 'Yellow spaghetti', 'Yellow toe'])\n",
        "  max_homework_score += 1\n",
        "\n",
        "  # 2c\n",
        "  homework_score += test_homework(\"Empty list.\", collect_underperformers([], 100), []  )\n",
        "  max_homework_score += 1\n",
        "  homework_score += test_homework(\"Single element list, no underperformers.\", collect_underperformers([5], 3), []  )\n",
        "  max_homework_score += 1\n",
        "  homework_score += test_homework(\"Single element list, no underperformers.\", collect_underperformers([2], 1), []  )\n",
        "  max_homework_score += 1\n",
        "  homework_score += test_homework(\"Single element list, underperformer.\", collect_underperformers([2], 5), [2]  )\n",
        "  max_homework_score += 1\n",
        "  homework_score += test_homework(\"Single element list, underperformer.\", collect_underperformers([7], 8), [7]  )\n",
        "  max_homework_score += 1\n",
        "  homework_score += test_homework(\"Multiple element list, no underperformers.\", collect_underperformers([6, 4, 7, 8, 5], 2), []  )\n",
        "  max_homework_score += 1\n",
        "  homework_score += test_homework(\"Multiple element list, no underperformers.\", collect_underperformers([7, 11, 5, 4, 9], 4), []  )\n",
        "  max_homework_score += 1\n",
        "  homework_score += test_homework(\"Multiple element list, some underperformers.\", collect_underperformers([1, 7, 5, 3], 5), [1, 3]  )\n",
        "  max_homework_score += 1\n",
        "  homework_score += test_homework(\"Multiple element list, some underperformers.\", collect_underperformers([88, 4, 9, 1], 3), [1]  )\n",
        "  max_homework_score += 1\n",
        "  homework_score += test_homework(\"Multiple element list, all underperformers.\", collect_underperformers([13, 32, 1, 3, 9], 50), [13, 32, 1, 3, 9]  )\n",
        "  max_homework_score += 1\n",
        "  homework_score += test_homework(\"Multiple element list, all underperformers.\", collect_underperformers([4, 3, 9], 10), [4, 3, 9])\n",
        "  max_homework_score += 1\n",
        "\n",
        "  # 3a\n",
        "  lst = ['Boo', 'Yah']\n",
        "  swap_name(lst)\n",
        "  homework_score += test_homework(\"A person with no middle names.\", lst, ['Yah', 'Boo'])\n",
        "  max_homework_score += 1\n",
        "  lst = ['Boo', 'Yah', 'Kah', 'Aaaah', 'Shah'];\n",
        "  swap_name(lst)\n",
        "  homework_score += test_homework(\"A person with 3 middle names.\", lst,  ['Shah', 'Yah', 'Kah', 'Aaaah', 'Boo'])\n",
        "  max_homework_score += 1\n",
        "\n",
        "  # 4a\n",
        "  grades = []\n",
        "  scale_midterm_grades(grades, 1, 100)\n",
        "  homework_score += test_homework(\"Empty list.\", grades, [])\n",
        "  max_homework_score += 1\n",
        "  grades = [50]\n",
        "  scale_midterm_grades(grades, 1, 0)\n",
        "  homework_score += test_homework(\"Single element, no change.\", grades, [50])  \n",
        "  max_homework_score += 1\n",
        "  grades = [60]\n",
        "  scale_midterm_grades(grades, 1, 0)\n",
        "  homework_score += test_homework(\"Single element, no change.\", grades, [60])  \n",
        "  max_homework_score += 1\n",
        "  grades = [50]\n",
        "  scale_midterm_grades(grades, 2, 0)\n",
        "  homework_score += test_homework(\"Single element, multiplier.\", grades, [100])  \n",
        "  max_homework_score += 1\n",
        "  grades = [40]\n",
        "  scale_midterm_grades(grades, 2, 0)\n",
        "  homework_score += test_homework(\"Single element, multiplier.\", grades, [80])  \n",
        "  max_homework_score += 1\n",
        "  grades = [20]\n",
        "  scale_midterm_grades(grades, 1, 100)\n",
        "  homework_score += test_homework(\"Single element, bonus.\", grades, [100])  \n",
        "  max_homework_score += 1\n",
        "  grades = [50]\n",
        "  scale_midterm_grades(grades, 1, 50)\n",
        "  homework_score += test_homework(\"Single element, bonus.\", grades, [100])  \n",
        "  max_homework_score += 1\n",
        "  grades = [56, 76, 90, 11, 55]\n",
        "  scale_midterm_grades(grades, 1, 0)\n",
        "  homework_score += test_homework(\"Multiple elements, no change.\", grades, [56, 76, 90, 11, 55])  \n",
        "  max_homework_score += 1\n",
        "  grades = [86, 56, 99]\n",
        "  scale_midterm_grades(grades, 1, 0)\n",
        "  homework_score += test_homework(\"Multiple elements, no change.\", grades, [86, 56, 99])  \n",
        "  max_homework_score += 1\n",
        "  grades = [54, 71, 66, 25]\n",
        "  scale_midterm_grades(grades, 1.2, 30)\n",
        "  homework_score += test_homework(\"Multiple elements, modified.\", grades, [94.8, 100, 100, 60])  \n",
        "  max_homework_score += 1\n",
        "  grades = [54, 71, 66, 25, 99, 100, 11, 12]\n",
        "  scale_midterm_grades(grades, 2, 50)\n",
        "  homework_score += test_homework(\"Multiple elements, modified.\", grades, [100, 100, 100, 100, 100, 100, 72, 74]) \n",
        "  max_homework_score += 1\n",
        "\n",
        "  # 4b\n",
        "  homework_score += test_homework(\"Example from description\", weeks_to_goal([100, 95, 93.4, 92, 91.5, 89.5, 88, 80]),5)\n",
        "  max_homework_score += 1\n",
        "  homework_score += test_homework(\"Goal never reached\", weeks_to_goal([100, 95, 93.4, 92, 91.5, 93.5, 98, 100]),-1)\n",
        "  max_homework_score += 1\n",
        "  homework_score += test_homework(\"Another example\", weeks_to_goal([100, 95, 93.4, 89.5, 88]),3)\n",
        "  max_homework_score += 1\n",
        "  homework_score += test_homework(\"Example where initial weight is not 100\", weeks_to_goal([200, 190, 189.5, 188, 180, 175.4]),4)\n",
        "  max_homework_score += 1\n",
        "\n",
        "except NameError:\n",
        "  print(\"Oops! It seems like some of your functions are not implemented.\")\n",
        "\n",
        "if homework_score == max_homework_score:\n",
        "  print(\"Congratulations! All tests passed. Homework Complete!\")\n",
        "elif homework_score == 0:\n",
        "   print(\"\")\n",
        "else:\n",
        "  print(\"Some of your functions are working, but all test cases haven't passed yet. Keep on trying!\")\n",
        "\n",
        "print(\"Mark: \" + str(homework_score) + \"/\" + str(max_homework_score))"
      ]
    }
  ],
  "metadata": {
    "colab": {
      "collapsed_sections": [
        "WPEnQa9AvN6U",
        "S53yKXI1NEf-",
        "6HH31rdTvVie",
        "eaMNusnTvXT-",
        "1dkOO9SFvTin",
        "_hvO2Fk9nghg",
        "vhFh0ZUf4FPJ",
        "qiDCtWQI3Eou",
        "byeVyWUrnghj",
        "IJZmh-O04WST",
        "p3IMwyOdnghk",
        "UzEez9h-5XsK",
        "n7iHJoEPnghm",
        "E7d_GgsC7Mil",
        "UbEwGEsQnfi_",
        "3YKXmZG6nghp",
        "1Auqcafuo3hV",
        "CjKpV6wXnghq",
        "3ygSOdeurVX4",
        "dKMcinvNnghr",
        "ppaE4_C6sX0I",
        "E2fMq3TMnght",
        "QCy7ykTduQi_",
        "LC_o90TMuTd2",
        "Hr-0c2Z9nghu",
        "8YIphBq_nghy",
        "WntG1TsuyUUG"
      ],
      "name": "phase1session3_homework.ipynb",
      "provenance": []
    },
    "kernelspec": {
      "display_name": "Python 3",
      "language": "python",
      "name": "python3"
    },
    "language_info": {
      "codemirror_mode": {
        "name": "ipython",
        "version": 3
      },
      "file_extension": ".py",
      "mimetype": "text/x-python",
      "name": "python",
      "nbconvert_exporter": "python",
      "pygments_lexer": "ipython3",
      "version": "3.6.13"
    }
  },
  "nbformat": 4,
  "nbformat_minor": 0
}