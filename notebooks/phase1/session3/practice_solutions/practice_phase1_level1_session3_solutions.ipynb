{
 "cells": [
  {
   "cell_type": "markdown",
   "metadata": {},
   "source": [
    "## Practice Exercises: Phase 1, Level 1, Session 3"
   ]
  },
  {
   "cell_type": "markdown",
   "metadata": {},
   "source": [
    "#### 1. `for` loop over `str`"
   ]
  },
  {
   "cell_type": "markdown",
   "metadata": {},
   "source": [
    "##### a) Practice Exercise: Understanding Loops\n",
    "\n",
    "Consider this code:\n",
    "\n",
    "    s = 'medicine'\n",
    "    for ch in s:\n",
    "        print(ch)\n",
    "\n",
    "Modify the code above so that `medicine` is printed once for each character in the string (instead of the single characters)."
   ]
  },
  {
   "cell_type": "code",
   "execution_count": null,
   "metadata": {
    "collapsed": false
   },
   "outputs": [],
   "source": [
    "s = 'medicine'\n",
    "for ch in s:\n",
    "    print(s)"
   ]
  },
  {
   "cell_type": "markdown",
   "metadata": {},
   "source": [
    "##### b) Practice Exercise: count uppercase letters\n",
    "\n",
    "Define a function named `count_upper` that has one `str` parameter and returns the number of uppercase letters in the given string."
   ]
  },
  {
   "cell_type": "code",
   "execution_count": 13,
   "metadata": {
    "collapsed": false,
    "scrolled": true
   },
   "outputs": [
    {
     "name": "stdout",
     "output_type": "stream",
     "text": [
      "0\n",
      "3\n"
     ]
    }
   ],
   "source": [
    "def count_upper(s):\n",
    "    \"\"\" (str) -> int\n",
    "    \n",
    "    Return the number of uppercase letters in s.\n",
    "    \n",
    "    >>> count_upper('abc')\n",
    "    0\n",
    "    >>> count_upper('aAbBcC')\n",
    "    3\n",
    "    \"\"\"\n",
    "    count = 0\n",
    "    for ch in s:\n",
    "        if ch.isupper():\n",
    "            count = count + 1\n",
    "    return count\n",
    "print(count_upper('abc'))\n",
    "print(count_upper('aAbBcC'))"
   ]
  },
  {
   "cell_type": "markdown",
   "metadata": {},
   "source": [
    "##### c) Practice Exercise: get uppercase letters\n",
    "\n",
    "Define a function named `get_upper` that has one `str` parameter and returns a string containing the uppercase letters from the given string."
   ]
  },
  {
   "cell_type": "code",
   "execution_count": 14,
   "metadata": {
    "collapsed": false
   },
   "outputs": [
    {
     "name": "stdout",
     "output_type": "stream",
     "text": [
      "0\n",
      "3\n"
     ]
    }
   ],
   "source": [
    "def get_upper(s):\n",
    "    \"\"\" (str) -> str\n",
    "    \n",
    "    Return a string containing the uppercase letters in s.\n",
    "    \n",
    "    >>> get_upper('abc')\n",
    "    ''\n",
    "    >>> get_upper('aAbBcC')\n",
    "    'ABC'\n",
    "    \"\"\"\n",
    "    upper = ''\n",
    "    for ch in s:\n",
    "        if ch.isupper():\n",
    "            upper = upper + ch\n",
    "    return upper\n",
    "    \n",
    "print(count_upper('abc'))\n",
    "print(count_upper('aAbBcC'))"
   ]
  },
  {
   "cell_type": "markdown",
   "metadata": {},
   "source": [
    "#### 2. Lists and Loops"
   ]
  },
  {
   "cell_type": "markdown",
   "metadata": {},
   "source": [
    "##### a) Practice Exercise: `range`\n",
    "\n",
    "Use `range` and a `for` loop to print every 4th number from 0 to 200, inclusive"
   ]
  },
  {
   "cell_type": "code",
   "execution_count": null,
   "metadata": {
    "collapsed": true
   },
   "outputs": [],
   "source": [
    "for i in range(0, 200, 4):\n",
    "    print(i)"
   ]
  },
  {
   "cell_type": "markdown",
   "metadata": {},
   "source": [
    "##### b) Practice Exercise: Iteration and Accumulation\n",
    "\n",
    "Once we know the sum of a list, computing the average is straight forward: all we need to do is divide the sum by the number of elements. \n",
    "\n",
    "First, consider how you can get the number of items in a list, using one of Python's built-in functions. Now, compute the average of the items in `gross_earnings`:"
   ]
  },
  {
   "cell_type": "code",
   "execution_count": 15,
   "metadata": {
    "collapsed": true
   },
   "outputs": [],
   "source": [
    "gross_earnings = [361681, 740741, 396105,  284600, 249154]"
   ]
  },
  {
   "cell_type": "code",
   "execution_count": 17,
   "metadata": {
    "collapsed": false
   },
   "outputs": [
    {
     "name": "stdout",
     "output_type": "stream",
     "text": [
      "At iteration 0 s =  medicine\n",
      "At iteration 1 s =  medicine\n",
      "At iteration 2 s =  medicine\n",
      "At iteration 3 s =  medicine\n",
      "At iteration 4 s =  medicine\n",
      "Final total: 2032281\n",
      "Average: 406456.2\n"
     ]
    }
   ],
   "source": [
    "total = 0    \n",
    "for i in range(len(gross_earnings)):\n",
    "    total = total + gross_earnings[i]\n",
    "    print(\"At iteration\", i, \"s = \", s)\n",
    "\n",
    "print(\"Final total:\", total)   \n",
    "print(\"Average:\", total/len(gross_earnings)) # New line of code."
   ]
  },
  {
   "cell_type": "markdown",
   "metadata": {},
   "source": [
    "##### c) Practice Exercise : Conditional + Loops \n",
    "\n",
    "Compute the average of `gross_earnings`, but exclude any earnings that are not within the range from 250000 (inclusive) to 400000 (exclusive)."
   ]
  },
  {
   "cell_type": "code",
   "execution_count": 18,
   "metadata": {
    "collapsed": false
   },
   "outputs": [
    {
     "name": "stdout",
     "output_type": "stream",
     "text": [
      "740741 : Too high, excluded\n",
      "249154 : Too low, excluded\n",
      "The sum of earnings in the 250000 to 400000 range is 1042386\n",
      "The number of elements added into total is 3\n",
      "The average of earnings in the 250000 to 400000 range is 347462.0\n"
     ]
    }
   ],
   "source": [
    "gross_earnings = [361681, 740741, 396105,  284600, 249154]\n",
    "total = 0\n",
    "count = 0\n",
    "\n",
    "for i in range(len(gross_earnings)):\n",
    "    if gross_earnings[i] > 400000:\n",
    "        print(gross_earnings[i], \": Too high, excluded\")\n",
    "    elif gross_earnings[i] >= 250000:\n",
    "        total = total + gross_earnings[i]\n",
    "        count = count + 1\n",
    "    else:\n",
    "        print(gross_earnings[i], \": Too low, excluded\")\n",
    "        \n",
    "print(\"The sum of earnings in the 250000 to 400000 range is\", total)\n",
    "print(\"The number of elements added into total is\", count)\n",
    "print(\"The average of earnings in the 250000 to 400000 range is\", total / count)"
   ]
  },
  {
   "cell_type": "markdown",
   "metadata": {},
   "source": [
    "##### d) Practice Exercise: list of str, conditionals, and loops\n",
    "\n",
    "Consider a list of strings that are represent handedness of subjects in a study and looks something like this:\n",
    "\n",
    "    hands = [\"left\", \"right\", \"right\", \"right\", \"left\", \"mixed\", \"right\", ...]\n",
    "    \n",
    "The only elements in the list are the strings `\"right\"`, `\"left\"`, or `\"mixed\"`. \n",
    "\n",
    "Write a program that will work on any such list and print the percentage of subjects from each category of handedness. For example, if you were to run it on the list `[\"right\", \"left\", \"right\", \"right\"]`, it should print the output:\n",
    "Right-handed: 75 %\n",
    "Left-handed: 25 %\n",
    "Mixed-handed: 0 %\n",
    "\n",
    "Don’t worry about formatting the numbers. You might see `75.00000` as your result and that’s fine for now. Name your program handed.py."
   ]
  },
  {
   "cell_type": "code",
   "execution_count": 19,
   "metadata": {
    "collapsed": false
   },
   "outputs": [
    {
     "name": "stdout",
     "output_type": "stream",
     "text": [
      "Right-handed: 57.14285714285714 %\n",
      "Left-handed: 28.57142857142857 %\n",
      "Mixed-handed: 14.285714285714285 %\n"
     ]
    }
   ],
   "source": [
    "hands = [\"left\", \"right\", \"right\", \"right\", \"left\", \"mixed\", \"right\"]\n",
    "right = 0\n",
    "left = 0\n",
    "mixed = 0\n",
    "\n",
    "for value in hands:\n",
    "    if value == 'right':\n",
    "        right += 1\n",
    "    elif value == 'left':\n",
    "        left += 1\n",
    "    else:\n",
    "        mixed += 1\n",
    "\n",
    "total = right + left + mixed\n",
    "\n",
    "print('Right-handed:', right / total * 100, '%')\n",
    "print('Left-handed:', left / total * 100, '%')\n",
    "print('Mixed-handed:', mixed / total * 100, '%')"
   ]
  },
  {
   "cell_type": "markdown",
   "metadata": {},
   "source": [
    "#### 3. List Mutability"
   ]
  },
  {
   "cell_type": "markdown",
   "metadata": {},
   "source": [
    "##### a) Practice Exercise: Building a new list\n",
    "\n",
    "Complete the following function according to its docstring description:"
   ]
  },
  {
   "cell_type": "code",
   "execution_count": 24,
   "metadata": {
    "collapsed": true
   },
   "outputs": [],
   "source": [
    "def report_digits(original_list):\n",
    "    \"\"\" (list of str) -> list of bool \n",
    "    \n",
    "    >>> report_digits(['98', 'a', '5'])\n",
    "    [True, False, True]\n",
    "    \n",
    "    Return a new list in wich each item is True if the correponding item from \n",
    "    original_list is composed entirely of digits, and False otherwise.\n",
    "    \"\"\""
   ]
  },
  {
   "cell_type": "code",
   "execution_count": 25,
   "metadata": {
    "collapsed": false
   },
   "outputs": [
    {
     "data": {
      "text/plain": [
       "[True, False, True]"
      ]
     },
     "execution_count": 25,
     "metadata": {},
     "output_type": "execute_result"
    }
   ],
   "source": [
    "def report_digits(original_list):\n",
    "    \"\"\" (list of str) -> list of bool \n",
    "    \n",
    "    >>> report_digits(['98', 'a', '5'])\n",
    "    [True, False, True]\n",
    "    \n",
    "    Return a new list in whgit ich each item is True if the correponding item from \n",
    "    original_list is composed entirely of digits, and False otherwise.\n",
    "    \"\"\"\n",
    "    \n",
    "    result = []\n",
    "    for item in original_list:\n",
    "        if item.isdigit():\n",
    "            result.append(True)\n",
    "        else:\n",
    "            result.append(False)\n",
    "    return result\n",
    "\n",
    "report_digits(['98', 'a', '5'])"
   ]
  },
  {
   "cell_type": "markdown",
   "metadata": {},
   "source": [
    "##### b) Practice Exercise:  Modifying an existing list\n",
    "\n",
    "Complete the following function according to its docstring description:"
   ]
  },
  {
   "cell_type": "code",
   "execution_count": 28,
   "metadata": {
    "collapsed": true
   },
   "outputs": [],
   "source": [
    "def replace_digits(original_list):\n",
    "    \"\"\" (list of str) -> NoneType\n",
    "    \n",
    "    >>> data = ['98', 'a', '5']\n",
    "    >>> replace_digits(data)\n",
    "    >>> data\n",
    "    \n",
    "    Replace each item in original_list with True if it is composed entirely of digits,\n",
    "    and with False otherwise.\n",
    "    \"\"\""
   ]
  },
  {
   "cell_type": "code",
   "execution_count": 29,
   "metadata": {
    "collapsed": false
   },
   "outputs": [
    {
     "data": {
      "text/plain": [
       "[True, False, True]"
      ]
     },
     "execution_count": 29,
     "metadata": {},
     "output_type": "execute_result"
    }
   ],
   "source": [
    "def replace_digits(original_list):\n",
    "    \"\"\" (list of str) -> NoneType\n",
    "    \n",
    "    >>> data = ['98', 'a', '5']\n",
    "    >>> replace_digits(data)\n",
    "    >>> data\n",
    "    \n",
    "    Replace each item in original_list with True if it is composed entirely of digits,\n",
    "    and with False otherwise.\n",
    "    \"\"\"\n",
    "    \n",
    "    for i in range(len(original_list)):\n",
    "        if original_list[i].isdigit():\n",
    "            original_list[i] = True\n",
    "        else:\n",
    "            original_list[i] = False\n",
    "            \n",
    "\n",
    "data = ['98', 'a', '5']\n",
    "replace_digits(data)\n",
    "data"
   ]
  },
  {
   "cell_type": "markdown",
   "metadata": {},
   "source": [
    "#### 4. Parallel lists and strings"
   ]
  },
  {
   "cell_type": "markdown",
   "metadata": {},
   "source": [
    "##### a) Practice Exercise: parallel lists\n",
    "\n",
    "We store patient data in two lists of the same length. For example:\n",
    "\n",
    "        sex_data =             [\"m\", \"f\", \"f\", \"m\", \"m\", \"f\"]\n",
    "        ward_data =            [  1,   3,   2,   2,   1,   2] \n",
    "        duration_data =       [ 10,   5,   7,   2,   3,   4]\n",
    "\n",
    "Write a function that computes the average length of stay in the hospital for a given sex, in a given ward. The function signature is:"
   ]
  },
  {
   "cell_type": "code",
   "execution_count": 3,
   "metadata": {
    "collapsed": true
   },
   "outputs": [],
   "source": [
    "def avg_stay(sex, ward, sex_data, ward_data, duration_data):\n",
    "    \"\"\" (str, int, list of int, list of str, list of int) -> float\n",
    "    \n",
    "    Return the average duration of stay for patients of sex sex in ward ward,\n",
    "    given parallel list of sexes sex_data, list of wards ward_data, and \n",
    "    list of duration of stay duration_data.\n",
    "    \n",
    "    >>> sex_data =             [\"m\", \"f\", \"f\", \"m\", \"m\", \"f\"]\n",
    "    >>> ward_data =            [  1,   3,   2,   2,   1,   2] \n",
    "    >>> duration_data =  [ 10,   5,   7,   2,   3,   4]\n",
    "    >>> avg_stay(\"f\", 2, sex_data, ward_data, duration_data)\n",
    "    5.5\n",
    "    \"\"\"\n"
   ]
  },
  {
   "cell_type": "code",
   "execution_count": 4,
   "metadata": {
    "collapsed": true
   },
   "outputs": [],
   "source": [
    "def avg_stay(sex, ward, sex_data, ward_data, duration_data):\n",
    "    \"\"\" (str, int, list of int, list of str, list of int) -> float\n",
    "    \n",
    "    Return the average duration of stay for patients of sex sex in ward ward,\n",
    "    given parallel list of sexes sex_data, list of wards ward_data, and \n",
    "    list of duration of stay duration_data.\n",
    "    \n",
    "    >>> sex_data =             [\"m\", \"f\", \"f\", \"m\", \"m\", \"f\"]\n",
    "    >>> ward_data =            [  1,   3,   2,   2,   1,   2] \n",
    "    >>> duration_data =  [ 10,   5,   7,   2,   3,   4]\n",
    "    >>> avg_stay(\"f\", 2, sex_data, ward_data, duration_data)\n",
    "    5.5\n",
    "    \"\"\"\n",
    "\n",
    "    patient_count = 0\n",
    "    duration_total = 0\n",
    "\n",
    "    for i in range(len(sex_data)):\n",
    "        if sex_data[i] == sex and ward_data[i] == ward:\n",
    "            patient_count = patient_count + 1\n",
    "            duration_total = duration_total + duration_data[i]\n",
    "\n",
    "    return duration_total / patient_count"
   ]
  },
  {
   "cell_type": "markdown",
   "metadata": {},
   "source": [
    "##### b)  Practice Exercise: matching strings\n",
    "\n",
    "Write a function that returns True iff string `s1` starts with string `s2`. For example, \n",
    "\n",
    "``starts_with(\"abc\", \"ab\")`` should return ``True``\n",
    "\n",
    "``starts_with(\"ad\", \"ab\")`` should return ``False``"
   ]
  },
  {
   "cell_type": "code",
   "execution_count": 5,
   "metadata": {
    "collapsed": true
   },
   "outputs": [],
   "source": [
    "def starts_with(s1, s2):\n",
    "    \"\"\" (str, str) -> bool\n",
    "    \n",
    "    Return True iff the string s1 starts with the string s2.\n",
    "    \n",
    "    >>> starts_with(\"abc\", \"ab\")\n",
    "    True\n",
    "    >>> starts_with(\"ad\", \"ab\")\n",
    "    False    \n",
    "    \"\"\"\n",
    "    \n",
    "    if len(s2) > len(s1):\n",
    "        return False\n",
    "    \n",
    "    for i in range(len(s2)):\n",
    "        if s1[i] != s2[i]:\n",
    "            return False\n",
    "        \n",
    "    return True"
   ]
  }
 ],
 "metadata": {
  "kernelspec": {
   "display_name": "Python 3",
   "language": "python",
   "name": "python3"
  },
  "language_info": {
   "codemirror_mode": {
    "name": "ipython",
    "version": 3
   },
   "file_extension": ".py",
   "mimetype": "text/x-python",
   "name": "python",
   "nbconvert_exporter": "python",
   "pygments_lexer": "ipython3",
   "version": "3.5.2"
  }
 },
 "nbformat": 4,
 "nbformat_minor": 1
}
