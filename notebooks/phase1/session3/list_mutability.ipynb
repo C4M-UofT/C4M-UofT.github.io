{
 "cells": [
  {
   "cell_type": "markdown",
   "metadata": {
    "id": "bQOs2zJoNdxz"
   },
   "source": [
    "# List Methods and Mutability"
   ]
  },
  {
   "cell_type": "markdown",
   "metadata": {
    "id": "NH7HDKSGrxzH"
   },
   "source": [
    "## What Is Mutability?"
   ]
  },
  {
   "cell_type": "markdown",
   "metadata": {
    "id": "YDWY_bOR5EHF"
   },
   "source": [
    "An object is said to be **mutable** if it can be modified after it has been created.\n",
    "\n",
    "Data types like `int`, `float`, and `str` are immutable, while lists are mutable. Here is an example of a list being changed:"
   ]
  },
  {
   "cell_type": "code",
   "execution_count": null,
   "metadata": {
    "colab": {
     "base_uri": "https://localhost:8080/"
    },
    "executionInfo": {
     "elapsed": 133,
     "status": "ok",
     "timestamp": 1631632935474,
     "user": {
      "displayName": "Alex Mariakakis",
      "photoUrl": "https://lh3.googleusercontent.com/a-/AOh14Ght6Dyv6e4hfso-1xpfI7hj0VNjb-z7AByT6gi2Tw=s64",
      "userId": "03266759294585342781"
     },
     "user_tz": 240
    },
    "id": "WjOs6AC-Ndx4",
    "outputId": "e8ad476b-2d14-41ff-bb8a-ee6eb78ccfa5"
   },
   "outputs": [],
   "source": [
    "earnings = [361681, 740741, 396105,  284600, 249154]\n",
    "print(earnings)\n",
    "\n",
    "# To modify an item, we can use indexing and an assignment statment\n",
    "earnings[1] = earnings[1] - 250000\n",
    "print(earnings)"
   ]
  },
  {
   "cell_type": "markdown",
   "metadata": {
    "id": "S_t1nhknNdx6"
   },
   "source": [
    "## `list` methods\n",
    "\n",
    "Many list methods modify the original list:"
   ]
  },
  {
   "cell_type": "code",
   "execution_count": null,
   "metadata": {
    "colab": {
     "base_uri": "https://localhost:8080/"
    },
    "executionInfo": {
     "elapsed": 1047,
     "status": "ok",
     "timestamp": 1631632567128,
     "user": {
      "displayName": "Alex Mariakakis",
      "photoUrl": "https://lh3.googleusercontent.com/a-/AOh14Ght6Dyv6e4hfso-1xpfI7hj0VNjb-z7AByT6gi2Tw=s64",
      "userId": "03266759294585342781"
     },
     "user_tz": 240
    },
    "id": "p9kTqtnzNdx7",
    "outputId": "f240869e-c28b-47ec-8280-6373da78c20c"
   },
   "outputs": [],
   "source": [
    "# Adds the argument to the end of the list\n",
    "earnings.append(740741)\n",
    "print(earnings)"
   ]
  },
  {
   "cell_type": "code",
   "execution_count": null,
   "metadata": {
    "colab": {
     "base_uri": "https://localhost:8080/"
    },
    "executionInfo": {
     "elapsed": 133,
     "status": "ok",
     "timestamp": 1631632567603,
     "user": {
      "displayName": "Alex Mariakakis",
      "photoUrl": "https://lh3.googleusercontent.com/a-/AOh14Ght6Dyv6e4hfso-1xpfI7hj0VNjb-z7AByT6gi2Tw=s64",
      "userId": "03266759294585342781"
     },
     "user_tz": 240
    },
    "id": "hMpr2liaNdx8",
    "outputId": "d415c7f1-7713-4adc-ac1a-1d14e27a2017"
   },
   "outputs": [],
   "source": [
    "# Append the items in the list argument to the list\n",
    "earnings.extend([200000, 300000, 400000])\n",
    "print(earnings)"
   ]
  },
  {
   "cell_type": "code",
   "execution_count": null,
   "metadata": {
    "colab": {
     "base_uri": "https://localhost:8080/"
    },
    "executionInfo": {
     "elapsed": 151,
     "status": "ok",
     "timestamp": 1631632569558,
     "user": {
      "displayName": "Alex Mariakakis",
      "photoUrl": "https://lh3.googleusercontent.com/a-/AOh14Ght6Dyv6e4hfso-1xpfI7hj0VNjb-z7AByT6gi2Tw=s64",
      "userId": "03266759294585342781"
     },
     "user_tz": 240
    },
    "id": "Cr_MoVtwNdx9",
    "outputId": "26b16220-b892-4c0a-9ef0-e5ee9bb358ee"
   },
   "outputs": [],
   "source": [
    " # Removes and returns the last item in the list\n",
    "print(earnings.pop())\n",
    "print(earnings)"
   ]
  },
  {
   "cell_type": "code",
   "execution_count": null,
   "metadata": {
    "colab": {
     "base_uri": "https://localhost:8080/"
    },
    "executionInfo": {
     "elapsed": 16,
     "status": "ok",
     "timestamp": 1631632571305,
     "user": {
      "displayName": "Alex Mariakakis",
      "photoUrl": "https://lh3.googleusercontent.com/a-/AOh14Ght6Dyv6e4hfso-1xpfI7hj0VNjb-z7AByT6gi2Tw=s64",
      "userId": "03266759294585342781"
     },
     "user_tz": 240
    },
    "id": "bc9cCpNlNdx-",
    "outputId": "33e40ad6-cac8-4d17-ecc9-e679ae8d5772"
   },
   "outputs": [],
   "source": [
    "# Removes and returns the item at the given index\n",
    "print(earnings.pop(1))\n",
    "print(earnings)"
   ]
  },
  {
   "cell_type": "code",
   "execution_count": null,
   "metadata": {
    "colab": {
     "base_uri": "https://localhost:8080/"
    },
    "executionInfo": {
     "elapsed": 9,
     "status": "ok",
     "timestamp": 1631632571498,
     "user": {
      "displayName": "Alex Mariakakis",
      "photoUrl": "https://lh3.googleusercontent.com/a-/AOh14Ght6Dyv6e4hfso-1xpfI7hj0VNjb-z7AByT6gi2Tw=s64",
      "userId": "03266759294585342781"
     },
     "user_tz": 240
    },
    "id": "LJ0w5L4iNd0O",
    "outputId": "0a460a7a-27fe-4af7-cefc-5a8c7968a288"
   },
   "outputs": [],
   "source": [
    "# Removes the first occurence of the argument; error if argument not in list\n",
    "earnings.remove(200000)\n",
    "print(earnings)"
   ]
  },
  {
   "cell_type": "code",
   "execution_count": null,
   "metadata": {
    "colab": {
     "base_uri": "https://localhost:8080/"
    },
    "executionInfo": {
     "elapsed": 7,
     "status": "ok",
     "timestamp": 1631632574172,
     "user": {
      "displayName": "Alex Mariakakis",
      "photoUrl": "https://lh3.googleusercontent.com/a-/AOh14Ght6Dyv6e4hfso-1xpfI7hj0VNjb-z7AByT6gi2Tw=s64",
      "userId": "03266759294585342781"
     },
     "user_tz": 240
    },
    "id": "8qUBj5YTNd0O",
    "outputId": "2cb0640e-1a81-4a84-e79b-0128104beadd"
   },
   "outputs": [],
   "source": [
    "# Reverses the list\n",
    "earnings.reverse()\n",
    "print(earnings)"
   ]
  },
  {
   "cell_type": "code",
   "execution_count": null,
   "metadata": {
    "colab": {
     "base_uri": "https://localhost:8080/"
    },
    "executionInfo": {
     "elapsed": 19,
     "status": "ok",
     "timestamp": 1631632575840,
     "user": {
      "displayName": "Alex Mariakakis",
      "photoUrl": "https://lh3.googleusercontent.com/a-/AOh14Ght6Dyv6e4hfso-1xpfI7hj0VNjb-z7AByT6gi2Tw=s64",
      "userId": "03266759294585342781"
     },
     "user_tz": 240
    },
    "id": "qqXWTQuGNd0P",
    "outputId": "f20e8a8e-7ea1-4d4c-d08a-062a4c1bf5df"
   },
   "outputs": [],
   "source": [
    "# Sorts the list\n",
    "earnings.sort()\n",
    "print(earnings)"
   ]
  },
  {
   "cell_type": "code",
   "execution_count": null,
   "metadata": {
    "id": "kDq5DsyJNd0T",
    "outputId": "bcefc237-edbc-4923-9170-193d3fa16b6f"
   },
   "outputs": [],
   "source": [
    "# Inserts the object at the given index, moving items to make room\n",
    "earnings.insert(1, 250000) \n",
    "print(earnings)"
   ]
  },
  {
   "cell_type": "markdown",
   "metadata": {
    "id": "zCuTRtDxNd0U"
   },
   "source": [
    "There are also methods that given information about lists, but don't modify them:"
   ]
  },
  {
   "cell_type": "code",
   "execution_count": null,
   "metadata": {
    "id": "lA51ga9JNd0U"
   },
   "outputs": [],
   "source": [
    "L = ['a', 'b', 'c', 'b', 'b', 'a']"
   ]
  },
  {
   "cell_type": "code",
   "execution_count": null,
   "metadata": {
    "colab": {
     "base_uri": "https://localhost:8080/"
    },
    "executionInfo": {
     "elapsed": 9,
     "status": "ok",
     "timestamp": 1631632523930,
     "user": {
      "displayName": "Alex Mariakakis",
      "photoUrl": "https://lh3.googleusercontent.com/a-/AOh14Ght6Dyv6e4hfso-1xpfI7hj0VNjb-z7AByT6gi2Tw=s64",
      "userId": "03266759294585342781"
     },
     "user_tz": 240
    },
    "id": "aFPrPaIl4Fe7",
    "outputId": "32eaaecb-aa0a-4957-ba20-3e7ae8104e00"
   },
   "outputs": [],
   "source": [
    "# Counts the number of occurences of 'b' in list L\n",
    "L.count('b')"
   ]
  },
  {
   "cell_type": "code",
   "execution_count": null,
   "metadata": {
    "colab": {
     "base_uri": "https://localhost:8080/"
    },
    "executionInfo": {
     "elapsed": 137,
     "status": "ok",
     "timestamp": 1631632580340,
     "user": {
      "displayName": "Alex Mariakakis",
      "photoUrl": "https://lh3.googleusercontent.com/a-/AOh14Ght6Dyv6e4hfso-1xpfI7hj0VNjb-z7AByT6gi2Tw=s64",
      "userId": "03266759294585342781"
     },
     "user_tz": 240
    },
    "id": "KXRBVtYONd0V",
    "outputId": "a0c9b1ec-7655-4af1-d3d9-7ca77e71e6bb"
   },
   "outputs": [],
   "source": [
    " # Returns the index of the first occurence of 'b' in list L; error if not present\n",
    "L.index('b')"
   ]
  },
  {
   "cell_type": "markdown",
   "metadata": {
    "id": "s9jrG-LJNd0W"
   },
   "source": [
    "## Two Approaches to the Same End"
   ]
  },
  {
   "cell_type": "markdown",
   "metadata": {
    "id": "jatEz-Za6G4i"
   },
   "source": [
    "You will often find in programming that there are multiple ways to solve the same problem. In this example, we are going to show two different ways of taking a list of measurements and scaling it by a multiplicative factor."
   ]
  },
  {
   "cell_type": "markdown",
   "metadata": {
    "id": "M54sVg4bNd0W"
   },
   "source": [
    "In the first solution, we will create a new list with the results and keep the original list unchanged:"
   ]
  },
  {
   "cell_type": "code",
   "execution_count": null,
   "metadata": {
    "colab": {
     "base_uri": "https://localhost:8080/"
    },
    "executionInfo": {
     "elapsed": 136,
     "status": "ok",
     "timestamp": 1631633372565,
     "user": {
      "displayName": "Alex Mariakakis",
      "photoUrl": "https://lh3.googleusercontent.com/a-/AOh14Ght6Dyv6e4hfso-1xpfI7hj0VNjb-z7AByT6gi2Tw=s64",
      "userId": "03266759294585342781"
     },
     "user_tz": 240
    },
    "id": "vlvSegtnNd0X",
    "outputId": "fd922981-acf2-4438-e2bb-d2ceaf9de763"
   },
   "outputs": [],
   "source": [
    "def get_scaled_measurements(measurements, factor):\n",
    "    \"\"\" (list of number, int) -> list of number\n",
    "    \n",
    "    Return a new list consisting of the values from measurements scaled by\n",
    "    factor, in the same order as in measurements.\n",
    "    \n",
    "    >>> get_scaled_measurements([1, 2, 3, 4], 3)\n",
    "    [3, 6, 9, 12]\n",
    "    >>> get_scaled_measurements([1, 2, 108, 3, 4], 50)\n",
    "    [50, 100, 5400, 150, 200]\n",
    "    >>> get_scaled_measurements([], 7)\n",
    "    []\n",
    "    \"\"\"\n",
    "    \n",
    "    scaled_measurements = []\n",
    "    \n",
    "    for i in range(len(measurements)):\n",
    "        scaled_measurements.append(measurements[i] * factor)\n",
    "            \n",
    "    return scaled_measurements\n",
    "\n",
    "print(get_scaled_measurements([1, 2, 3, 4], 3))\n",
    "print(get_scaled_measurements([1, 2, 108, 3, 4], 50))\n",
    "print(get_scaled_measurements([], 7))"
   ]
  },
  {
   "cell_type": "markdown",
   "metadata": {
    "id": "J3o_fCupNd0X"
   },
   "source": [
    "Notice that the list passed as an argument to this function is not changed by the function call:"
   ]
  },
  {
   "cell_type": "code",
   "execution_count": null,
   "metadata": {
    "colab": {
     "base_uri": "https://localhost:8080/"
    },
    "executionInfo": {
     "elapsed": 24,
     "status": "ok",
     "timestamp": 1631633374654,
     "user": {
      "displayName": "Alex Mariakakis",
      "photoUrl": "https://lh3.googleusercontent.com/a-/AOh14Ght6Dyv6e4hfso-1xpfI7hj0VNjb-z7AByT6gi2Tw=s64",
      "userId": "03266759294585342781"
     },
     "user_tz": 240
    },
    "id": "iifDh5iMNd0Y",
    "outputId": "c464de91-c57a-48ba-9fee-95c17d38b517"
   },
   "outputs": [],
   "source": [
    "L = [1, 2, 108, 3, 4]\n",
    "scaled_L = get_scaled_measurements(L, 50)\n",
    "print(L)\n",
    "print(scaled_L)"
   ]
  },
  {
   "cell_type": "markdown",
   "metadata": {
    "id": "BuuNCxlFNd0Y"
   },
   "source": [
    "In the second solution, we will modify the original list:"
   ]
  },
  {
   "cell_type": "code",
   "execution_count": null,
   "metadata": {
    "colab": {
     "base_uri": "https://localhost:8080/"
    },
    "executionInfo": {
     "elapsed": 194,
     "status": "ok",
     "timestamp": 1631633508768,
     "user": {
      "displayName": "Alex Mariakakis",
      "photoUrl": "https://lh3.googleusercontent.com/a-/AOh14Ght6Dyv6e4hfso-1xpfI7hj0VNjb-z7AByT6gi2Tw=s64",
      "userId": "03266759294585342781"
     },
     "user_tz": 240
    },
    "id": "UwVlmqfHNd0Y",
    "outputId": "160ec5d1-c49d-46d5-98fd-dc12e8b43420"
   },
   "outputs": [],
   "source": [
    "def scale_measurements(measurements, factor):\n",
    "    \"\"\" (list of number, int) -> NoneType\n",
    "    \n",
    "    Modify measurements so that it contains the original values scaled by\n",
    "    factor, in the same order as they originally appeared.\n",
    "    \n",
    "    >>> L = [1, 2, 3, 4]\n",
    "    >>> scale_measurements(L, 3)\n",
    "    >>> L\n",
    "    >>> L = [1, 2, 108, 3, 4]\n",
    "    >>> scale_measurements(L, 50)\n",
    "    >>> L\n",
    "    >>> L = []\n",
    "    >>> scale_measurements(L, 7)\n",
    "    >>> L\n",
    "    \"\"\"\n",
    "    \n",
    "    for i in range(len(measurements)):\n",
    "        measurements[i] = measurements[i] * factor\n",
    "            \n",
    "            \n",
    "L = [1, 2, 3, 4]\n",
    "scale_measurements(L, 3)\n",
    "print(L)\n",
    "L = [1, 2, 108, 3, 4]\n",
    "scale_measurements(L, 50)\n",
    "print(L)\n",
    "L = []\n",
    "scale_measurements(L, 7)\n",
    "print(L)"
   ]
  },
  {
   "cell_type": "markdown",
   "metadata": {
    "id": "J3HMn3FYNd0Z"
   },
   "source": [
    "Notice how this function does not contain a `return` statement. It does not actually need to return anything new because it is modifying the list that was passed as an argument instead. Whenever a function does not have a `return` statement, it returns the value `None`."
   ]
  },
  {
   "cell_type": "code",
   "execution_count": null,
   "metadata": {
    "colab": {
     "base_uri": "https://localhost:8080/"
    },
    "executionInfo": {
     "elapsed": 149,
     "status": "ok",
     "timestamp": 1631633511360,
     "user": {
      "displayName": "Alex Mariakakis",
      "photoUrl": "https://lh3.googleusercontent.com/a-/AOh14Ght6Dyv6e4hfso-1xpfI7hj0VNjb-z7AByT6gi2Tw=s64",
      "userId": "03266759294585342781"
     },
     "user_tz": 240
    },
    "id": "y_hlUlI37x1V",
    "outputId": "8afa2661-abd6-4c94-b56f-e6f7f92b401b"
   },
   "outputs": [],
   "source": [
    "print(scale_measurements(L, 4))"
   ]
  },
  {
   "cell_type": "markdown",
   "metadata": {
    "id": "u8e6yjTe77Kt"
   },
   "source": [
    "## Practice Exercise: Identifying Tradeoffs"
   ]
  },
  {
   "cell_type": "markdown",
   "metadata": {
    "id": "5dpivsuqCdlm"
   },
   "source": [
    "We were able to solve the previous problem using two different approaches:\n",
    "1. Creating a new list from scratch and populating it with the results\n",
    "2. Modifying the original list\n",
    "\n",
    "What are the advantages and disadvantages of each approach?"
   ]
  },
  {
   "cell_type": "markdown",
   "metadata": {
    "id": "9STi-gEENd0Z"
   },
   "source": [
    "## Practice Exercise: Building a New `list`\n",
    "\n",
    "Complete the following function according to its docstring description:"
   ]
  },
  {
   "cell_type": "code",
   "execution_count": null,
   "metadata": {
    "id": "_QnbSb1NNd0Z"
   },
   "outputs": [],
   "source": [
    "def report_digits(original_list):\n",
    "    \"\"\" (list of str) -> list of bool \n",
    "    \n",
    "    >>> report_digits(['98', 'a', '5'])\n",
    "    [True, False, True]\n",
    "    \n",
    "    Return a new list in which each item is True if the correponding item from \n",
    "    original_list is composed entirely of digits, and False otherwise.\n",
    "    \"\"\"\n",
    "    # Write your code here"
   ]
  },
  {
   "cell_type": "code",
   "execution_count": null,
   "metadata": {
    "id": "ck0O5znWD8ma"
   },
   "outputs": [],
   "source": [
    "L = ['98', 'a', '5']\n",
    "result = report_digits(L)\n",
    "print(L) # This should be ['98', 'a', '5']\n",
    "print(result) # This should be [True, False, True]"
   ]
  },
  {
   "cell_type": "markdown",
   "metadata": {
    "id": "iVFZqSMZD0rr"
   },
   "source": [
    "**Hint:** Remember that there is a method you can use to check if a string only contains digits"
   ]
  },
  {
   "cell_type": "markdown",
   "metadata": {
    "id": "t-KzabwHNd0Z"
   },
   "source": [
    "## Practice Exercise: Modifying an Existing `list`\n",
    "\n",
    "Complete the following function according to its docstring description:"
   ]
  },
  {
   "cell_type": "code",
   "execution_count": null,
   "metadata": {
    "id": "YZpwLYnpNd0a"
   },
   "outputs": [],
   "source": [
    "def replace_digits(original_list):\n",
    "    \"\"\" (list of str) -> NoneType\n",
    "    \n",
    "    >>> data = ['98', 'a', '5']\n",
    "    >>> replace_digits(data)\n",
    "    >>> data\n",
    "    \n",
    "    Replace each item in original_list with True if it is composed entiredly of digits,\n",
    "    and with False otherwise.\n",
    "    \"\"\"\n",
    "    # Write your code here"
   ]
  },
  {
   "cell_type": "code",
   "execution_count": null,
   "metadata": {
    "id": "HqdCHlGKD_nO"
   },
   "outputs": [],
   "source": [
    "L = ['98', 'a', '5']\n",
    "result = replace_digits(L)\n",
    "print(L) # This should be [True, False, True]\n",
    "print(result) # This should be None"
   ]
  }
 ],
 "metadata": {
  "colab": {
   "collapsed_sections": [],
   "name": "Copy of list_mutability.ipynb",
   "provenance": [
    {
     "file_id": "https://github.com/C4M-UofT/C4M-UofT.github.io/blob/master/notebooks/list_mutability.ipynb",
     "timestamp": 1631554274373
    }
   ]
  },
  "kernelspec": {
   "display_name": "Python 3",
   "language": "python",
   "name": "python3"
  },
  "language_info": {
   "codemirror_mode": {
    "name": "ipython",
    "version": 3
   },
   "file_extension": ".py",
   "mimetype": "text/x-python",
   "name": "python",
   "nbconvert_exporter": "python",
   "pygments_lexer": "ipython3",
   "version": "3.6.13"
  }
 },
 "nbformat": 4,
 "nbformat_minor": 4
}
