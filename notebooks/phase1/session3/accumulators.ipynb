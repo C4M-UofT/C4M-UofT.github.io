{
 "cells": [
  {
   "cell_type": "markdown",
   "metadata": {
    "id": "wuTYtNgNRb1C"
   },
   "source": [
    "# Accumulators"
   ]
  },
  {
   "cell_type": "markdown",
   "metadata": {
    "id": "HtS-6vENp4pJ"
   },
   "source": [
    "## Numeric Accumulator"
   ]
  },
  {
   "cell_type": "markdown",
   "metadata": {
    "id": "EGWJRfanReIg"
   },
   "source": [
    "Suppose we want to compute the sum of all the values in a list. We can use a `for` loop to accumulate all of the elements into a single value called an **accumulator**."
   ]
  },
  {
   "cell_type": "markdown",
   "metadata": {
    "id": "gaenLqP4R7lA"
   },
   "source": [
    "Here is an English description of what we will want to do:\n",
    "\n",
    "*Set up a variable called total that starts at 0, then go through the elements in the list one-by-one and add them to the total*"
   ]
  },
  {
   "cell_type": "markdown",
   "metadata": {
    "id": "SxiTwPhNST46"
   },
   "source": [
    "Since our code is getting more complicated, we can write our description to look a bit more like code:\n",
    "\n",
    "    Create a total that starts at 0\n",
    "    For each element in the earnings:\n",
    "        Add the element to the total\n",
    "    return the total\n",
    "\n",
    "The description above is called **psuedocode**. It is an outline of what our code will look like, but it doesn't follow all of the rules of Python syntax."
   ]
  },
  {
   "cell_type": "markdown",
   "metadata": {
    "id": "hp-qsbprS8_0"
   },
   "source": [
    "Now here is what the code looks like:"
   ]
  },
  {
   "cell_type": "code",
   "execution_count": null,
   "metadata": {
    "colab": {
     "base_uri": "https://localhost:8080/"
    },
    "executionInfo": {
     "elapsed": 162,
     "status": "ok",
     "timestamp": 1631639584681,
     "user": {
      "displayName": "Alex Mariakakis",
      "photoUrl": "https://lh3.googleusercontent.com/a-/AOh14Ght6Dyv6e4hfso-1xpfI7hj0VNjb-z7AByT6gi2Tw=s64",
      "userId": "03266759294585342781"
     },
     "user_tz": 240
    },
    "id": "jOY93Yk5TAR9",
    "outputId": "aef48415-ba04-4ce4-826e-87adeb05a7cd"
   },
   "outputs": [],
   "source": [
    "earnings = [361681, 740741, 396105,  284600, 249154]\n",
    "\n",
    "# Initialize the accumulator\n",
    "total = 0\n",
    "\n",
    "for i in range(len(earnings)):\n",
    "    # Add the element to the accumulator\n",
    "    total = total + earnings[i]\n",
    "    print(\"At iteration\", i, \"total = \", total)\n",
    "\n",
    "print(\"Final total:\", total)   "
   ]
  },
  {
   "cell_type": "markdown",
   "metadata": {
    "id": "_oySwf0hTE3y"
   },
   "source": [
    "Notice a couple of things with this example:\n",
    "\n",
    "*   It isn't necessary to print out the intermediate values of `total`, but it can be a good habit if you want to make sure your code is behaving as expected\n",
    "*   Some of the pseudocode is written as comments above corresponding parts of the text. How many comments you leave is up to you, but it can help you plan out what your code is going to do and remember what it does when you revisit it"
   ]
  },
  {
   "cell_type": "markdown",
   "metadata": {
    "id": "Q4Y8vkQMMq5u"
   },
   "source": [
    "## String Accumulator"
   ]
  },
  {
   "cell_type": "markdown",
   "metadata": {
    "id": "J6QUBHG_NdOf"
   },
   "source": [
    "We can do something similar with strings. In this example, our goal is to loop over the characters of a string and build a new string made up of only the vowels in that string."
   ]
  },
  {
   "cell_type": "markdown",
   "metadata": {
    "id": "3eQzGOj6M12r"
   },
   "source": [
    "Here is an English description of what we will want to do:\n",
    "\n",
    "*Set up an empty string, then go through each character in the argument. If it is a vowel, append it to the empty string*"
   ]
  },
  {
   "cell_type": "markdown",
   "metadata": {
    "id": "lMWiyOXAN7_m"
   },
   "source": [
    "And here is the psuedocode:\n",
    "\n",
    "    Create an empty string called vowels\n",
    "    For each character in the string:\n",
    "        Append the character to vowels if it is a vowel\n",
    "    return vowels"
   ]
  },
  {
   "cell_type": "code",
   "execution_count": null,
   "metadata": {
    "id": "DIRs4JKLNdOg"
   },
   "outputs": [],
   "source": [
    "def collect_vowels(s):\n",
    "    \"\"\" (str) -> str\n",
    "\n",
    "    Return the vowels from s.  Do not treat the letter\n",
    "    y as a vowel.\n",
    "\n",
    "    >>> collect_vowels('Happy Anniversary!')\n",
    "    'aAiea'\n",
    "    >>> collect_vowels('xyz')\n",
    "    ''\n",
    "    \"\"\"\n",
    "\n",
    "    # Initialize the accumulator\n",
    "    vowels = ''\n",
    "\n",
    "    for char in s:\n",
    "        if char in 'aeiouAEIOU':\n",
    "            # When we encounter a vowel, concatenate it to the accumulator\n",
    "            vowels = vowels + char  \n",
    "            \n",
    "    # Return the string that we bulit\n",
    "    return vowels"
   ]
  },
  {
   "cell_type": "code",
   "execution_count": null,
   "metadata": {
    "colab": {
     "base_uri": "https://localhost:8080/"
    },
    "executionInfo": {
     "elapsed": 250,
     "status": "ok",
     "timestamp": 1631660869695,
     "user": {
      "displayName": "Alex Mariakakis",
      "photoUrl": "https://lh3.googleusercontent.com/a-/AOh14Ght6Dyv6e4hfso-1xpfI7hj0VNjb-z7AByT6gi2Tw=s64",
      "userId": "03266759294585342781"
     },
     "user_tz": 240
    },
    "id": "TDAqlWZ5kLoK",
    "outputId": "6a042db3-68f8-4515-da9c-b4ddbb1032d0"
   },
   "outputs": [],
   "source": [
    "collect_vowels('Happy Anniversary!')"
   ]
  },
  {
   "cell_type": "markdown",
   "metadata": {
    "id": "L-ayJaFyOPyT"
   },
   "source": [
    "We won't write detailed comments and psuedocode every time to keep the examples short, but remember that it can be helpful if you don't know where to start."
   ]
  },
  {
   "cell_type": "markdown",
   "metadata": {
    "id": "KJh5_hWeZPyX"
   },
   "source": [
    "## Practice Exercise: Conditionals + Loops"
   ]
  },
  {
   "cell_type": "markdown",
   "metadata": {
    "id": "fR1W_zbCZSq9"
   },
   "source": [
    "Compute the average of `earnings`, but exclude any earnings that are outside the range from 250000 (inclusive) to 400000 (exclusive). Your answer should be $347,462."
   ]
  },
  {
   "cell_type": "markdown",
   "metadata": {
    "id": "gaP0srDUaJe2"
   },
   "source": [
    "**Hint:** There are two ways of going about this:\n",
    "1. Maintain two accumulators: one for the numerator (sum) and one for the denominator (count)\n",
    "2. Append all of the relevant values to a list and then compute the average at the end.\n"
   ]
  },
  {
   "cell_type": "code",
   "execution_count": null,
   "metadata": {
    "id": "rowlBuDFZX--"
   },
   "outputs": [],
   "source": [
    "earnings = [361681, 740741, 396105, 284600, 249154]\n",
    "# Write your code here"
   ]
  },
  {
   "cell_type": "markdown",
   "metadata": {
    "id": "XCU1TcXINdOW"
   },
   "source": [
    "## Practice Exercise: Reading DNA Sequences"
   ]
  },
  {
   "cell_type": "markdown",
   "metadata": {
    "id": "iyarvS_rNdOX"
   },
   "source": [
    "Write a function that has two parameters representing a DNA sequence and one of the four bases (A, C, G, and T) and returns the number of occurences of that base in the sequence. Do not use `str.count` to solve this problem.\n",
    "\n"
   ]
  },
  {
   "cell_type": "code",
   "execution_count": null,
   "metadata": {
    "id": "6ViVMMnCNdOX"
   },
   "outputs": [],
   "source": [
    "def count_base(dna, base):\n",
    "    \"\"\" (str, str) -> int\n",
    "    \n",
    "    Return the number of occurences of base in dna.\n",
    "    \n",
    "    >>> count_base('GGTCAG', 'A')\n",
    "    1    \n",
    "    >>> count_base('GGTCAGATC', 'G')\n",
    "    3\n",
    "    \"\"\"\n",
    "    # Write your code here"
   ]
  },
  {
   "cell_type": "code",
   "execution_count": null,
   "metadata": {
    "executionInfo": {
     "elapsed": 7,
     "status": "ok",
     "timestamp": 1631671425887,
     "user": {
      "displayName": "Alex Mariakakis",
      "photoUrl": "https://lh3.googleusercontent.com/a-/AOh14Ght6Dyv6e4hfso-1xpfI7hj0VNjb-z7AByT6gi2Tw=s64",
      "userId": "03266759294585342781"
     },
     "user_tz": 240
    },
    "id": "WC0CCs3bNdOd"
   },
   "outputs": [],
   "source": [
    "# Test your code here"
   ]
  },
  {
   "cell_type": "markdown",
   "metadata": {
    "id": "Fmr2BzS_YRYK"
   },
   "source": [
    "## Practice Exercise: Putting Everything Together"
   ]
  },
  {
   "cell_type": "markdown",
   "metadata": {
    "id": "Fgj0NK1oYXoq"
   },
   "source": [
    "Consider a list of strings that are represent handedness of subjects in a study:\n",
    "\n",
    "    hands = [\"left\", \"right\", \"right\", \"right\", \"left\", \"mixed\", \"right\", \"mixed\"]\n",
    "    \n",
    "The only possible elements in the list are the strings `\"right\"`, `\"left\"`, or `\"mixed\"`. "
   ]
  },
  {
   "cell_type": "markdown",
   "metadata": {
    "id": "PXYGNZkuYaZD"
   },
   "source": [
    "Write a function that will work on any such list and print the percentage of subjects from each category of handedness. For example, the example above should print the following:\n",
    "\n",
    "    Right-handed: 50%\n",
    "    Left-handed: 25%\n",
    "    Mixed-handed: 25%\n",
    "\n",
    "Don’t worry about the format of the numbers."
   ]
  },
  {
   "cell_type": "code",
   "execution_count": null,
   "metadata": {
    "executionInfo": {
     "elapsed": 125,
     "status": "ok",
     "timestamp": 1631672049988,
     "user": {
      "displayName": "Alex Mariakakis",
      "photoUrl": "https://lh3.googleusercontent.com/a-/AOh14Ght6Dyv6e4hfso-1xpfI7hj0VNjb-z7AByT6gi2Tw=s64",
      "userId": "03266759294585342781"
     },
     "user_tz": 240
    },
    "id": "l4CEdnqdY6CL"
   },
   "outputs": [],
   "source": [
    "# Write your function here"
   ]
  },
  {
   "cell_type": "code",
   "execution_count": null,
   "metadata": {
    "id": "cmu9ieA0Y75g"
   },
   "outputs": [],
   "source": [
    "# Test your function here"
   ]
  }
 ],
 "metadata": {
  "colab": {
   "collapsed_sections": [],
   "name": "Copy of accumulators.ipynb",
   "provenance": [
    {
     "file_id": "https://github.com/C4M-UofT/C4M-UofT.github.io/blob/master/notebooks/for_over_str.ipynb",
     "timestamp": 1631554248905
    }
   ]
  },
  "kernelspec": {
   "display_name": "Python 3",
   "language": "python",
   "name": "python3"
  },
  "language_info": {
   "codemirror_mode": {
    "name": "ipython",
    "version": 3
   },
   "file_extension": ".py",
   "mimetype": "text/x-python",
   "name": "python",
   "nbconvert_exporter": "python",
   "pygments_lexer": "ipython3",
   "version": "3.6.13"
  }
 },
 "nbformat": 4,
 "nbformat_minor": 4
}
