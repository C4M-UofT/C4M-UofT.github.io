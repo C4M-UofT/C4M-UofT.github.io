{
 "cells": [
  {
   "cell_type": "markdown",
   "metadata": {
    "id": "feni88jO2L__"
   },
   "source": [
    "# Booleans"
   ]
  },
  {
   "cell_type": "markdown",
   "metadata": {
    "id": "PoBVXHfL3KkZ"
   },
   "source": [
    "## What is a Boolean?"
   ]
  },
  {
   "cell_type": "markdown",
   "metadata": {
    "id": "i2T36GWe4nHD"
   },
   "source": [
    "A **Boolean** is a data type (`bool`) with one of two possible values: `True` or `False`. A couple of notes on booleans:\n",
    "* Remember that Python is case-sensitive, so `True` is not the same as `true`\n",
    "* Booleans are not strings, so `True` is not the same as `'True'`"
   ]
  },
  {
   "cell_type": "markdown",
   "metadata": {
    "id": "lxlTltcd2MAC"
   },
   "source": [
    "A **Boolean expression** is an expression that evaluates to a Boolean value. Most Boolean expressions involve some sort of comparison between two values. Here are the six most common **comparison operators**:"
   ]
  },
  {
   "cell_type": "code",
   "execution_count": null,
   "metadata": {
    "colab": {
     "base_uri": "https://localhost:8080/"
    },
    "executionInfo": {
     "elapsed": 284,
     "status": "ok",
     "timestamp": 1629150145567,
     "user": {
      "displayName": "Alex Mariakakis",
      "photoUrl": "https://lh3.googleusercontent.com/a-/AOh14Ght6Dyv6e4hfso-1xpfI7hj0VNjb-z7AByT6gi2Tw=s64",
      "userId": "03266759294585342781"
     },
     "user_tz": 420
    },
    "id": "B2BnQgpl2MAE",
    "outputId": "983100ee-7b23-4f1a-a9cd-c95b6763beae"
   },
   "outputs": [],
   "source": [
    "# Equal to\n",
    "print(5 == 5)\n",
    "print(5 == 4.6)"
   ]
  },
  {
   "cell_type": "code",
   "execution_count": null,
   "metadata": {
    "colab": {
     "base_uri": "https://localhost:8080/"
    },
    "executionInfo": {
     "elapsed": 410,
     "status": "ok",
     "timestamp": 1629150181459,
     "user": {
      "displayName": "Alex Mariakakis",
      "photoUrl": "https://lh3.googleusercontent.com/a-/AOh14Ght6Dyv6e4hfso-1xpfI7hj0VNjb-z7AByT6gi2Tw=s64",
      "userId": "03266759294585342781"
     },
     "user_tz": 420
    },
    "id": "mnF7LKYX2MAG",
    "outputId": "8b3e366c-87c1-458e-918e-61ac0caa2e69"
   },
   "outputs": [],
   "source": [
    "# Not equal to\n",
    "print(5 != 5)\n",
    "print(5 != 4.6)"
   ]
  },
  {
   "cell_type": "code",
   "execution_count": null,
   "metadata": {
    "colab": {
     "base_uri": "https://localhost:8080/"
    },
    "executionInfo": {
     "elapsed": 287,
     "status": "ok",
     "timestamp": 1629150234297,
     "user": {
      "displayName": "Alex Mariakakis",
      "photoUrl": "https://lh3.googleusercontent.com/a-/AOh14Ght6Dyv6e4hfso-1xpfI7hj0VNjb-z7AByT6gi2Tw=s64",
      "userId": "03266759294585342781"
     },
     "user_tz": 420
    },
    "id": "LziQCxkw2MAG",
    "outputId": "d4dcd1ed-c781-4f1c-e857-b4e557538d50"
   },
   "outputs": [],
   "source": [
    "# Less than\n",
    "print(5 < 5)\n",
    "print(5 < 4.6)\n",
    "print(4.6 < 5)"
   ]
  },
  {
   "cell_type": "code",
   "execution_count": null,
   "metadata": {
    "colab": {
     "base_uri": "https://localhost:8080/"
    },
    "executionInfo": {
     "elapsed": 364,
     "status": "ok",
     "timestamp": 1629150261692,
     "user": {
      "displayName": "Alex Mariakakis",
      "photoUrl": "https://lh3.googleusercontent.com/a-/AOh14Ght6Dyv6e4hfso-1xpfI7hj0VNjb-z7AByT6gi2Tw=s64",
      "userId": "03266759294585342781"
     },
     "user_tz": 420
    },
    "id": "ldeQXdM42MAH",
    "outputId": "b4e20d57-254e-4067-fae6-9e68e2375ad6"
   },
   "outputs": [],
   "source": [
    "# Less than or equal to\n",
    "print(5 <= 5)\n",
    "print(5 <= 4.6)\n",
    "print(4.6 <= 5)"
   ]
  },
  {
   "cell_type": "code",
   "execution_count": null,
   "metadata": {
    "colab": {
     "base_uri": "https://localhost:8080/"
    },
    "executionInfo": {
     "elapsed": 279,
     "status": "ok",
     "timestamp": 1629150274700,
     "user": {
      "displayName": "Alex Mariakakis",
      "photoUrl": "https://lh3.googleusercontent.com/a-/AOh14Ght6Dyv6e4hfso-1xpfI7hj0VNjb-z7AByT6gi2Tw=s64",
      "userId": "03266759294585342781"
     },
     "user_tz": 420
    },
    "id": "QxvdQTP77EHG",
    "outputId": "bd870702-bc5c-4e1d-d74a-a0ad01009862"
   },
   "outputs": [],
   "source": [
    "# Greater than\n",
    "print(5 > 5)\n",
    "print(5 > 4.6)\n",
    "print(4.6 > 5)"
   ]
  },
  {
   "cell_type": "code",
   "execution_count": null,
   "metadata": {
    "colab": {
     "base_uri": "https://localhost:8080/"
    },
    "executionInfo": {
     "elapsed": 311,
     "status": "ok",
     "timestamp": 1629150292769,
     "user": {
      "displayName": "Alex Mariakakis",
      "photoUrl": "https://lh3.googleusercontent.com/a-/AOh14Ght6Dyv6e4hfso-1xpfI7hj0VNjb-z7AByT6gi2Tw=s64",
      "userId": "03266759294585342781"
     },
     "user_tz": 420
    },
    "id": "9-cEaIw07HbH",
    "outputId": "a564e22e-9ca4-4a4d-9bcd-5e81a1a64c18"
   },
   "outputs": [],
   "source": [
    "# Greater than or equal to\n",
    "print(5 >= 5)\n",
    "print(5 >= 4.6)\n",
    "print(4.6 >= 5)"
   ]
  },
  {
   "cell_type": "markdown",
   "metadata": {
    "id": "dZQBq8W-2MAJ"
   },
   "source": [
    "One of the most common mistakes that new programmers make is that they confuse `=` with `==`. Remember that `=` is an assignment operator, while `==` is a comparison operator."
   ]
  },
  {
   "cell_type": "code",
   "execution_count": null,
   "metadata": {
    "colab": {
     "base_uri": "https://localhost:8080/",
     "height": 136
    },
    "executionInfo": {
     "elapsed": 19,
     "status": "error",
     "timestamp": 1629150098521,
     "user": {
      "displayName": "Alex Mariakakis",
      "photoUrl": "https://lh3.googleusercontent.com/a-/AOh14Ght6Dyv6e4hfso-1xpfI7hj0VNjb-z7AByT6gi2Tw=s64",
      "userId": "03266759294585342781"
     },
     "user_tz": 420
    },
    "id": "Zgupx_sf6YCq",
    "outputId": "bb9c2dc3-5856-4431-a5f7-8c582ffc208f"
   },
   "outputs": [],
   "source": [
    "5 = 5"
   ]
  },
  {
   "cell_type": "code",
   "execution_count": null,
   "metadata": {
    "colab": {
     "base_uri": "https://localhost:8080/"
    },
    "executionInfo": {
     "elapsed": 316,
     "status": "ok",
     "timestamp": 1629150101724,
     "user": {
      "displayName": "Alex Mariakakis",
      "photoUrl": "https://lh3.googleusercontent.com/a-/AOh14Ght6Dyv6e4hfso-1xpfI7hj0VNjb-z7AByT6gi2Tw=s64",
      "userId": "03266759294585342781"
     },
     "user_tz": 420
    },
    "id": "RrfEN_aa6aCX",
    "outputId": "e52b2acc-64b4-49c1-8ea4-27e79a98337d"
   },
   "outputs": [],
   "source": [
    "5 == 5"
   ]
  },
  {
   "cell_type": "markdown",
   "metadata": {
    "id": "k1oz-u7E7Zds"
   },
   "source": [
    "The `==` comparison operator is symmetric (i.e., it does the same thing regardless of which expression is on either side)."
   ]
  },
  {
   "cell_type": "code",
   "execution_count": null,
   "metadata": {
    "colab": {
     "base_uri": "https://localhost:8080/"
    },
    "executionInfo": {
     "elapsed": 313,
     "status": "ok",
     "timestamp": 1629150420842,
     "user": {
      "displayName": "Alex Mariakakis",
      "photoUrl": "https://lh3.googleusercontent.com/a-/AOh14Ght6Dyv6e4hfso-1xpfI7hj0VNjb-z7AByT6gi2Tw=s64",
      "userId": "03266759294585342781"
     },
     "user_tz": 420
    },
    "id": "XQUHnHj-7PKA",
    "outputId": "75f6b3b3-f6bc-4417-87ec-c0e19217bda5"
   },
   "outputs": [],
   "source": [
    "x == 7"
   ]
  },
  {
   "cell_type": "code",
   "execution_count": null,
   "metadata": {
    "colab": {
     "base_uri": "https://localhost:8080/"
    },
    "executionInfo": {
     "elapsed": 361,
     "status": "ok",
     "timestamp": 1629150426672,
     "user": {
      "displayName": "Alex Mariakakis",
      "photoUrl": "https://lh3.googleusercontent.com/a-/AOh14Ght6Dyv6e4hfso-1xpfI7hj0VNjb-z7AByT6gi2Tw=s64",
      "userId": "03266759294585342781"
     },
     "user_tz": 420
    },
    "id": "CwqBe1_S7qSS",
    "outputId": "5ce8400e-5f99-4e88-cc12-47d43cb9a164"
   },
   "outputs": [],
   "source": [
    "7 == x"
   ]
  },
  {
   "cell_type": "markdown",
   "metadata": {
    "id": "lUzMGbVcY66o"
   },
   "source": [
    "The `=` assignment operator is not symmetric:"
   ]
  },
  {
   "cell_type": "code",
   "execution_count": null,
   "metadata": {
    "id": "XjuqLWFb7h3i"
   },
   "outputs": [],
   "source": [
    "x = 7"
   ]
  },
  {
   "cell_type": "code",
   "execution_count": null,
   "metadata": {
    "colab": {
     "base_uri": "https://localhost:8080/",
     "height": 136
    },
    "executionInfo": {
     "elapsed": 371,
     "status": "error",
     "timestamp": 1629150408088,
     "user": {
      "displayName": "Alex Mariakakis",
      "photoUrl": "https://lh3.googleusercontent.com/a-/AOh14Ght6Dyv6e4hfso-1xpfI7hj0VNjb-z7AByT6gi2Tw=s64",
      "userId": "03266759294585342781"
     },
     "user_tz": 420
    },
    "id": "ayhMjZUg7ltM",
    "outputId": "f3d286bb-ba60-4efa-9018-eb21f6cb8bcd"
   },
   "outputs": [],
   "source": [
    "7 = x"
   ]
  },
  {
   "cell_type": "markdown",
   "metadata": {
    "id": "039wMoj52MAL"
   },
   "source": [
    "## Boolean Operators"
   ]
  },
  {
   "cell_type": "markdown",
   "metadata": {
    "id": "QR7aK3lY2MAM"
   },
   "source": [
    "There are three Boolean **logical operators**: `not`, `and`, and `or`. These operators can only have operands of type `bool`."
   ]
  },
  {
   "cell_type": "markdown",
   "metadata": {
    "id": "AcQMvz4s8SYI"
   },
   "source": [
    "The `not` operator takes a single operand and returns the opposite of it:"
   ]
  },
  {
   "cell_type": "code",
   "execution_count": null,
   "metadata": {
    "colab": {
     "base_uri": "https://localhost:8080/"
    },
    "executionInfo": {
     "elapsed": 348,
     "status": "ok",
     "timestamp": 1629150527716,
     "user": {
      "displayName": "Alex Mariakakis",
      "photoUrl": "https://lh3.googleusercontent.com/a-/AOh14Ght6Dyv6e4hfso-1xpfI7hj0VNjb-z7AByT6gi2Tw=s64",
      "userId": "03266759294585342781"
     },
     "user_tz": 420
    },
    "id": "W6l1rjEm2MAN",
    "outputId": "367bf5ce-5fe5-486a-c845-97239722cd3a"
   },
   "outputs": [],
   "source": [
    "print(not True)\n",
    "print(not False)"
   ]
  },
  {
   "cell_type": "markdown",
   "metadata": {
    "id": "wyIX8gtB2MAO"
   },
   "source": [
    "The `and` operator evaluates to `True` if and only if both operands are `True`:"
   ]
  },
  {
   "cell_type": "code",
   "execution_count": null,
   "metadata": {
    "colab": {
     "base_uri": "https://localhost:8080/"
    },
    "executionInfo": {
     "elapsed": 416,
     "status": "ok",
     "timestamp": 1629150552969,
     "user": {
      "displayName": "Alex Mariakakis",
      "photoUrl": "https://lh3.googleusercontent.com/a-/AOh14Ght6Dyv6e4hfso-1xpfI7hj0VNjb-z7AByT6gi2Tw=s64",
      "userId": "03266759294585342781"
     },
     "user_tz": 420
    },
    "id": "KY29Gnl32MAP",
    "outputId": "a5dd9e66-e222-471f-8baf-f283eafb2468"
   },
   "outputs": [],
   "source": [
    "print(True and True)\n",
    "print(True and False)\n",
    "print(False and True)\n",
    "print(False and False)"
   ]
  },
  {
   "cell_type": "markdown",
   "metadata": {
    "id": "K2NFfhIZ2MAV"
   },
   "source": [
    "The `or` operator evaluates to `True` if and only if at least one operatand is `True`:"
   ]
  },
  {
   "cell_type": "code",
   "execution_count": null,
   "metadata": {
    "colab": {
     "base_uri": "https://localhost:8080/"
    },
    "executionInfo": {
     "elapsed": 475,
     "status": "ok",
     "timestamp": 1629150570167,
     "user": {
      "displayName": "Alex Mariakakis",
      "photoUrl": "https://lh3.googleusercontent.com/a-/AOh14Ght6Dyv6e4hfso-1xpfI7hj0VNjb-z7AByT6gi2Tw=s64",
      "userId": "03266759294585342781"
     },
     "user_tz": 420
    },
    "id": "B8shDYKI2MAV",
    "outputId": "7e9ea209-7086-42b7-931a-6d1699361781"
   },
   "outputs": [],
   "source": [
    "print(True or True)\n",
    "print(True or False)\n",
    "print(False or True)\n",
    "print(False or False)"
   ]
  },
  {
   "cell_type": "markdown",
   "metadata": {
    "id": "lKb8xy6i2MAX"
   },
   "source": [
    "It is important to note that the boolean operator `or` is not quite the same as how we use the word \"or\" in English. The Boolean operator is an **\"inclusive or\"**, while the English word is usually used as an **\"exclusive or\"**. \n",
    "\n",
    "For example, if you say \"For dessert, I'll have pie or I'll have ice cream\":\n",
    "* In English, it means that you will either have pie or you will have ice cream, not both.\n",
    "* In Python, it means you will have at least one of those two desserts."
   ]
  },
  {
   "cell_type": "markdown",
   "metadata": {
    "id": "6hn7Nxu92MAX"
   },
   "source": [
    "### Operator Precedence"
   ]
  },
  {
   "cell_type": "markdown",
   "metadata": {
    "id": "SpJuMwpW2MAX"
   },
   "source": [
    "Should the following expression evaluate to `True` or `False`?"
   ]
  },
  {
   "cell_type": "code",
   "execution_count": null,
   "metadata": {
    "colab": {
     "base_uri": "https://localhost:8080/"
    },
    "executionInfo": {
     "elapsed": 315,
     "status": "ok",
     "timestamp": 1629157720483,
     "user": {
      "displayName": "Alex Mariakakis",
      "photoUrl": "https://lh3.googleusercontent.com/a-/AOh14Ght6Dyv6e4hfso-1xpfI7hj0VNjb-z7AByT6gi2Tw=s64",
      "userId": "03266759294585342781"
     },
     "user_tz": 420
    },
    "id": "ngBHlUEq2MAY",
    "outputId": "e207cfda-903c-4676-a84a-ff3d375d9216"
   },
   "outputs": [],
   "source": [
    "sci_grade = 66\n",
    "math_grade = 83\n",
    "not sci_grade >= 70 or math_grade >= 70"
   ]
  },
  {
   "cell_type": "markdown",
   "metadata": {
    "id": "jNzxiJD82MAY"
   },
   "source": [
    "The order of precedence for Boolean operators is `not`, `and`, and `or`. To make the order clear, we can add parentheses:"
   ]
  },
  {
   "cell_type": "code",
   "execution_count": null,
   "metadata": {
    "colab": {
     "base_uri": "https://localhost:8080/"
    },
    "executionInfo": {
     "elapsed": 4,
     "status": "ok",
     "timestamp": 1629157721522,
     "user": {
      "displayName": "Alex Mariakakis",
      "photoUrl": "https://lh3.googleusercontent.com/a-/AOh14Ght6Dyv6e4hfso-1xpfI7hj0VNjb-z7AByT6gi2Tw=s64",
      "userId": "03266759294585342781"
     },
     "user_tz": 420
    },
    "id": "vCY5VUYx2MAY",
    "outputId": "889f74a6-7127-4c73-e0f1-aae23b9dba8c"
   },
   "outputs": [],
   "source": [
    "(not sci_grade >= 70) or (math_grade >= 70)"
   ]
  },
  {
   "cell_type": "markdown",
   "metadata": {
    "id": "DjZ1Tpng2MAZ"
   },
   "source": [
    "We can also use parentheses to change the order of operations:"
   ]
  },
  {
   "cell_type": "code",
   "execution_count": null,
   "metadata": {
    "colab": {
     "base_uri": "https://localhost:8080/"
    },
    "executionInfo": {
     "elapsed": 411,
     "status": "ok",
     "timestamp": 1629157723711,
     "user": {
      "displayName": "Alex Mariakakis",
      "photoUrl": "https://lh3.googleusercontent.com/a-/AOh14Ght6Dyv6e4hfso-1xpfI7hj0VNjb-z7AByT6gi2Tw=s64",
      "userId": "03266759294585342781"
     },
     "user_tz": 420
    },
    "id": "pX_d3wh22MAZ",
    "outputId": "3cb1160c-2b19-4fd8-96fc-eea693c000d9"
   },
   "outputs": [],
   "source": [
    "not ((sci_grade >= 70) or (math_grade >= 70))"
   ]
  },
  {
   "cell_type": "markdown",
   "metadata": {
    "id": "UkN2o4sYVl8C"
   },
   "source": [
    "Just like in math, you can write Boolean expressions that check both the upper and lower bounds of a value:"
   ]
  },
  {
   "cell_type": "code",
   "execution_count": null,
   "metadata": {
    "colab": {
     "base_uri": "https://localhost:8080/"
    },
    "executionInfo": {
     "elapsed": 396,
     "status": "ok",
     "timestamp": 1629157889392,
     "user": {
      "displayName": "Alex Mariakakis",
      "photoUrl": "https://lh3.googleusercontent.com/a-/AOh14Ght6Dyv6e4hfso-1xpfI7hj0VNjb-z7AByT6gi2Tw=s64",
      "userId": "03266759294585342781"
     },
     "user_tz": 420
    },
    "id": "JZgzk9C-Vmxg",
    "outputId": "e00aed00-0a4b-4f58-db5e-eb9c5926a485"
   },
   "outputs": [],
   "source": [
    "80 < math_grade < 90"
   ]
  },
  {
   "cell_type": "markdown",
   "metadata": {
    "id": "Gl_Ba3KuWFLP"
   },
   "source": [
    "However, this syntax (i.e., way of writing the expression) is specific to Python and will either not work or lead to unexpected results in other programming languages. Just in case, you will probably want to get in the habit of writing such expressions as follows:"
   ]
  },
  {
   "cell_type": "code",
   "execution_count": null,
   "metadata": {
    "colab": {
     "base_uri": "https://localhost:8080/"
    },
    "executionInfo": {
     "elapsed": 3,
     "status": "ok",
     "timestamp": 1629157889802,
     "user": {
      "displayName": "Alex Mariakakis",
      "photoUrl": "https://lh3.googleusercontent.com/a-/AOh14Ght6Dyv6e4hfso-1xpfI7hj0VNjb-z7AByT6gi2Tw=s64",
      "userId": "03266759294585342781"
     },
     "user_tz": 420
    },
    "id": "DU4c8NK8Vxk-",
    "outputId": "1ac8860c-95d7-42ca-c602-28738fae3fbc"
   },
   "outputs": [],
   "source": [
    "(math_grade > 80) and (math_grade < 90)"
   ]
  },
  {
   "cell_type": "markdown",
   "metadata": {
    "id": "d-Q0Cxi-2MAZ"
   },
   "source": [
    "## Practice Exercise: English Description"
   ]
  },
  {
   "cell_type": "markdown",
   "metadata": {
    "id": "yYO1poLr2MAZ"
   },
   "source": [
    "Consider the following expression:\n",
    "`not sci_grade >= 70 or math_grade >= 70`\n",
    "\n",
    "* How would you describe this expression in English?\n",
    "* When would this be `True`?\n",
    "* When would this be `False`?\n",
    "\n",
    "\n"
   ]
  },
  {
   "cell_type": "markdown",
   "metadata": {
    "id": "q6LFxgTG2MAa"
   },
   "source": [
    "## Practice Exercise: Exclusive Or\n",
    "\n",
    "Recall that the `or` operator in Python is inclusive rather than exclusive. Let's say that we want to write a logical expression that acts as an \"exclusive or\". Given Boolean variables for `pie` and `ice_cream`, write an expression that evaluates to `True` if and only if exactly one of `pie` and `ice_cream` refers to `True`."
   ]
  },
  {
   "cell_type": "code",
   "execution_count": null,
   "metadata": {
    "id": "v8zTAuSz2MAa"
   },
   "outputs": [],
   "source": [
    "pie = False\n",
    "ice_cream = True"
   ]
  },
  {
   "cell_type": "code",
   "execution_count": null,
   "metadata": {
    "id": "stZsJ3q3AP6Y"
   },
   "outputs": [],
   "source": [
    "# Write your expression here"
   ]
  }
 ],
 "metadata": {
  "colab": {
   "collapsed_sections": [],
   "name": "Copy of booleans.ipynb",
   "provenance": [
    {
     "file_id": "https://github.com/C4M-UofT/C4M-UofT.github.io/blob/master/notebooks/booleans.ipynb",
     "timestamp": 1629149030871
    }
   ]
  },
  "kernelspec": {
   "display_name": "Python 3",
   "language": "python",
   "name": "python3"
  },
  "language_info": {
   "codemirror_mode": {
    "name": "ipython",
    "version": 3
   },
   "file_extension": ".py",
   "mimetype": "text/x-python",
   "name": "python",
   "nbconvert_exporter": "python",
   "pygments_lexer": "ipython3",
   "version": "3.6.13"
  }
 },
 "nbformat": 4,
 "nbformat_minor": 4
}
