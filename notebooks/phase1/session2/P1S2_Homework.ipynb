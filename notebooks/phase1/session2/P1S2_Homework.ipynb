{
  "nbformat": 4,
  "nbformat_minor": 0,
  "metadata": {
    "colab": {
      "provenance": [],
      "collapsed_sections": [
        "B6v86VjQmIrK",
        "IhQvi7z1v6rm",
        "hDWIfFlIwU-P",
        "KO75J5dFwrFH",
        "6TFoiGqDw7cZ",
        "LbURaGgnxL-5",
        "JaiexZJjTnPr",
        "QBFJaXPUmIrV",
        "LQCKVkhjXBMN",
        "9OCg73almIrW",
        "w0gmV_f9yJwu"
      ]
    },
    "kernelspec": {
      "display_name": "Python 3",
      "language": "python",
      "name": "python3"
    },
    "language_info": {
      "codemirror_mode": {
        "name": "ipython",
        "version": 3
      },
      "file_extension": ".py",
      "mimetype": "text/x-python",
      "name": "python",
      "nbconvert_exporter": "python",
      "pygments_lexer": "ipython3",
      "version": "3.8.2"
    }
  },
  "cells": [
    {
      "cell_type": "markdown",
      "metadata": {
        "id": "B6v86VjQmIrK"
      },
      "source": [
        "## Important: Run the code cell each time you start a new session!"
      ]
    },
    {
      "cell_type": "code",
      "metadata": {
        "id": "CR3MVg81IvWX",
        "jupyter": {
          "source_hidden": true
        }
      },
      "source": [
        "# Do not edit this cell\n",
        "def test_homework(test_name, actual, expected):\n",
        "  if actual == expected:\n",
        "    return 1\n",
        "  else:\n",
        "    print(f\"Test failed. {test_name} expected {expected}, got {actual}\")\n",
        "    return 0\n",
        "\n",
        "def compare_hw_scores(score, max_score):\n",
        "  if score == max_score:\n",
        "    print(\"All test cases passed!\")\n",
        "  print(f\"Mark: {score} / {max_score}\")\n",
        "\n",
        "print(\"Done!\")"
      ],
      "execution_count": null,
      "outputs": []
    },
    {
      "cell_type": "markdown",
      "metadata": {
        "id": "IhQvi7z1v6rm"
      },
      "source": [
        "# Instructions"
      ]
    },
    {
      "cell_type": "markdown",
      "metadata": {
        "id": "S53yKXI1NEf-"
      },
      "source": [
        "Each exercise generally consists of four parts. \n",
        "1.   A description of the function you need to implement\n",
        "2.   Any starter code to help you write your code\n",
        "3.   A separate code block where you can test out various parts of your code\n",
        "4.   An autograder that will evaluate your code against some test cases we have selected"
      ]
    },
    {
      "cell_type": "markdown",
      "metadata": {
        "id": "8t9e19amwDDn"
      },
      "source": [
        "The final cell of this notebook runs all of the test cases in the notebook on all the functions. This cell will not run unless you run the autograder for each exercise first."
      ]
    },
    {
      "cell_type": "markdown",
      "source": [
        "To get full credit for this assignment, your notebook should satisfy the following criteria:\n",
        "1. We should be able to run your notebook from start to finish without any errors. You can check this by selecting \"Runtime\" > \"Run all\" in the Google Colab menu.\n",
        "2. We should see full marks in the last cell of the notebook."
      ],
      "metadata": {
        "id": "FmZhTZTraQGQ"
      }
    },
    {
      "cell_type": "markdown",
      "metadata": {
        "id": "hDWIfFlIwU-P"
      },
      "source": [
        "# Exercise 1: Multiple of 3"
      ]
    },
    {
      "cell_type": "markdown",
      "source": [
        "Complete the function below to check if the parameter `value` is a multiple of 3.\n",
        "\n",
        "**Hint**: You will probably want the remainder (or modulus) operation, which is represented with the % symbol. Some examples of this operator are provided below:\n",
        "\n",
        "- `5 % 2` is `1`\n",
        "- `14 % 5` is `4`\n",
        "- `4 % 4` is `0`"
      ],
      "metadata": {
        "id": "aGwoS2jGPjnK"
      }
    },
    {
      "cell_type": "code",
      "metadata": {
        "id": "oSA16VUQwiy_"
      },
      "source": [
        "def is_multiple_of_3(value):\n",
        "    \"\"\" (int) -> bool\n",
        "\n",
        "    Return True iff value is an integer multiple of 3.\n",
        "\n",
        "    >>> is_multiple_of_3(15)\n",
        "    True\n",
        "    >>> is_multiple_of_3(7)\n",
        "    False\n",
        "    \"\"\"\n",
        "    # Write code here"
      ],
      "execution_count": null,
      "outputs": []
    },
    {
      "cell_type": "code",
      "metadata": {
        "id": "T8Xw6CX8wlp6"
      },
      "source": [
        "# Test your function here"
      ],
      "execution_count": null,
      "outputs": []
    },
    {
      "cell_type": "markdown",
      "metadata": {
        "id": "KO75J5dFwrFH"
      },
      "source": [
        "#### Run hidden code cell to evaluate Exercise 1"
      ]
    },
    {
      "cell_type": "code",
      "metadata": {
        "id": "AYTOzwNIw4gE"
      },
      "source": [
        "# Do not edit this cell\n",
        "def check_exercise1():\n",
        "  ex_score, max_ex_score = 0, 0\n",
        "\n",
        "  ex_score += test_homework(\"15 is a multiple of 3\", is_multiple_of_3(15), True)\n",
        "  max_ex_score += 1\n",
        "  ex_score += test_homework(\"7 is not a multiple of 3\", is_multiple_of_3(8), False)\n",
        "  max_ex_score += 1\n",
        "  ex_score += test_homework(\"11 is not a multiple of 3\", is_multiple_of_3(11), False)\n",
        "  max_ex_score += 1\n",
        "  ex_score += test_homework(\"-3 is a multiple of 3\", is_multiple_of_3(-3), True)\n",
        "  max_ex_score += 1\n",
        "\n",
        "  compare_hw_scores(ex_score, max_ex_score)\n",
        "  return ex_score, max_ex_score\n",
        "\n",
        "_ = check_exercise1()"
      ],
      "execution_count": null,
      "outputs": []
    },
    {
      "cell_type": "markdown",
      "metadata": {
        "id": "6TFoiGqDw7cZ"
      },
      "source": [
        "# Exercise 2: Multiple of a Number"
      ]
    },
    {
      "cell_type": "markdown",
      "source": [
        "Complete the function below to check if the parameter `value1` is a multiple of the parameter `value2`."
      ],
      "metadata": {
        "id": "CngtzX3XPnRV"
      }
    },
    {
      "cell_type": "code",
      "metadata": {
        "id": "KoWE2geFxEkV"
      },
      "source": [
        "def is_multiple(value1, value2):\n",
        "    \"\"\" (int, int) -> bool\n",
        "\n",
        "    Return True iff value1 is an integer multiple of value2.\n",
        "\n",
        "    >>> is_multiple(15, 3)\n",
        "    True\n",
        "    >>> is_multiple(7, 2)\n",
        "    False\n",
        "    \"\"\"\n",
        "    # Write code here"
      ],
      "execution_count": null,
      "outputs": []
    },
    {
      "cell_type": "code",
      "metadata": {
        "id": "cu4dZTk1xGau"
      },
      "source": [
        "# Test your function in this cell"
      ],
      "execution_count": null,
      "outputs": []
    },
    {
      "cell_type": "markdown",
      "metadata": {
        "id": "LbURaGgnxL-5"
      },
      "source": [
        "#### Run hidden code cell to evaluate Exercise 2"
      ]
    },
    {
      "cell_type": "code",
      "metadata": {
        "id": "eQrVhFprxM09"
      },
      "source": [
        "# Do not edit this cell\n",
        "def check_exercise2():\n",
        "  ex_score, max_ex_score = 0, 0\n",
        "\n",
        "  ex_score += test_homework(\"15 is a multiple of 3\", is_multiple(15, 3), True)\n",
        "  max_ex_score += 1\n",
        "  ex_score += test_homework(\"7 is not a multiple of 2\", is_multiple(7, 2), False)\n",
        "  max_ex_score += 1\n",
        "  ex_score += test_homework(\"-2 is a multiple of 2\", is_multiple(-2, 2), True)\n",
        "  max_ex_score += 1\n",
        "\n",
        "  compare_hw_scores(ex_score, max_ex_score)\n",
        "  return ex_score, max_ex_score\n",
        "\n",
        "_ = check_exercise2()"
      ],
      "execution_count": null,
      "outputs": []
    },
    {
      "cell_type": "markdown",
      "metadata": {
        "id": "JaiexZJjTnPr"
      },
      "source": [
        "# Exercise 3: Fecal Occult Blood Test"
      ]
    },
    {
      "cell_type": "markdown",
      "source": [
        "It is recommended that a focal occult blood test (FOBT) is given once every year for colorectal cancer screening. The patient brings home a kit to do the testing and sends it back to the lab. There are three tests within the kit and each test result is either negative or positive. If all three are negative, the test will be repeated in a year. If at least 1 of the 3 comes back positive, then the patient should be sent for a colonoscopy.\n",
        "\n",
        "Write a function `fobt()` that has three Boolean parameters representing the results of the three tests. We will use `True` to represent a positive test and `False` to represent a negative test. Your function should either return `'Repeat tests in 1 year'` or `'Book for colonoscopy'` according to the test results."
      ],
      "metadata": {
        "id": "VrAlGwqVPsnN"
      }
    },
    {
      "cell_type": "code",
      "metadata": {
        "id": "fBR-Zz5_T6w2"
      },
      "source": [
        "# Write your function here, including the docstring\n",
        "def fobt(test1, test2, test3):\n",
        "    \"\"\" \n",
        "    \n",
        "    \"\"\"\n",
        "\n"
      ],
      "execution_count": null,
      "outputs": []
    },
    {
      "cell_type": "code",
      "metadata": {
        "id": "hVnQvxEhT-cR"
      },
      "source": [
        "# Test your function here"
      ],
      "execution_count": null,
      "outputs": []
    },
    {
      "cell_type": "markdown",
      "metadata": {
        "id": "QBFJaXPUmIrV"
      },
      "source": [
        "#### Run the hidden code cell to evaluate Exercise 3"
      ]
    },
    {
      "cell_type": "code",
      "metadata": {
        "cellView": "form",
        "id": "LoqPu0ymUJX0",
        "jupyter": {
          "source_hidden": true
        }
      },
      "source": [
        "# Do not edit this cell\n",
        "def check_exercise3():\n",
        "  ex_score, max_ex_score = 0, 0\n",
        "\n",
        "  ex_score += test_homework(\"Only first test is positive\", fobt(True, False, False), \"Book for colonoscopy\")\n",
        "  max_ex_score += 1\n",
        "  ex_score += test_homework(\"Only second test is positive\", fobt(False, True, False), \"Book for colonoscopy\")\n",
        "  max_ex_score += 1\n",
        "  ex_score += test_homework(\"All tests are negative\", fobt(False, False, False), \"Repeat tests in 1 year\")\n",
        "  max_ex_score += 1\n",
        "  ex_score += test_homework(\"First and third tests positive\", fobt(False, True, False), \"Book for colonoscopy\")\n",
        "  max_ex_score += 1\n",
        "  ex_score += test_homework(\"All tests are positive\", fobt(True, False, True), \"Book for colonoscopy\")\n",
        "  max_ex_score += 1\n",
        "\n",
        "  compare_hw_scores(ex_score, max_ex_score)\n",
        "  return ex_score, max_ex_score\n",
        "\n",
        "_ = check_exercise3()"
      ],
      "execution_count": null,
      "outputs": []
    },
    {
      "cell_type": "markdown",
      "metadata": {
        "id": "LQCKVkhjXBMN"
      },
      "source": [
        "# Exercise 4: Checking String Casing"
      ]
    },
    {
      "cell_type": "markdown",
      "source": [
        "Complete the function below to check if a string contains all uppercase or all lowercase letters."
      ],
      "metadata": {
        "id": "ClHyZI1DPyeZ"
      }
    },
    {
      "cell_type": "code",
      "metadata": {
        "id": "tzRgF_iyXHas"
      },
      "source": [
        "def upper_lower(s):\n",
        "    \"\"\" (str) -> bool\n",
        "    \n",
        "    Return True if and only if there is at least one alphabetic character in s \n",
        "    and the alphabetic characters in s are either all uppercase or all lowercase.\n",
        "    \n",
        "    >>> upper_lower('abc')\n",
        "    True\n",
        "    >>> upper_lower('abcXYZ')\n",
        "    False\n",
        "    >>> upper_lower('XYZ')\n",
        "    True\n",
        "    \"\"\"\n",
        "    # Write your code here"
      ],
      "execution_count": null,
      "outputs": []
    },
    {
      "cell_type": "code",
      "metadata": {
        "id": "gPPBe6YmXPSH"
      },
      "source": [
        "# Test your function here"
      ],
      "execution_count": null,
      "outputs": []
    },
    {
      "cell_type": "markdown",
      "metadata": {
        "id": "9OCg73almIrW"
      },
      "source": [
        "#### Run hidden code cell to evaluate Exercise 4"
      ]
    },
    {
      "cell_type": "code",
      "metadata": {
        "id": "8HeC-ozmXgpg",
        "jupyter": {
          "source_hidden": true
        }
      },
      "source": [
        "# Do not edit this cell\n",
        "def check_exercise4():\n",
        "  ex_score, max_ex_score = 0, 0\n",
        "\n",
        "  ex_score += test_homework(\"All lowercase\", upper_lower('abcdef'), True)\n",
        "  max_ex_score += 1\n",
        "  ex_score += test_homework(\"All uppercase\", upper_lower('ABCDEF'), True)\n",
        "  max_ex_score += 1\n",
        "  ex_score += test_homework(\"Mix of upper and lower\", upper_lower('abcXYZ'), False)\n",
        "  max_ex_score += 1\n",
        "  ex_score += test_homework(\"Mix of letters and non-letters\", upper_lower('XYZ123'), True)\n",
        "  max_ex_score += 1\n",
        "  ex_score += test_homework(\"All numeric\", upper_lower('123'), False)\n",
        "  max_ex_score += 1\n",
        "\n",
        "  compare_hw_scores(ex_score, max_ex_score)\n",
        "  return ex_score, max_ex_score\n",
        "\n",
        "_ = check_exercise4()"
      ],
      "execution_count": null,
      "outputs": []
    },
    {
      "cell_type": "markdown",
      "metadata": {
        "id": "w0gmV_f9yJwu"
      },
      "source": [
        "# Homework Completion"
      ]
    },
    {
      "cell_type": "markdown",
      "source": [
        "Please read the instructions below the following code block."
      ],
      "metadata": {
        "id": "PoYGTYaaP233"
      }
    },
    {
      "cell_type": "code",
      "metadata": {
        "id": "1nPQEMQkuBjr",
        "jupyter": {
          "source_hidden": true
        }
      },
      "source": [
        "# Do not edit this cell\n",
        "hw_score, max_hw_score = 0, 0\n",
        "\n",
        "try:\n",
        "  ex1_score, max_ex1_score = check_exercise1()\n",
        "  hw_score += ex1_score\n",
        "  max_hw_score += max_ex1_score\n",
        "\n",
        "  ex2_score, max_ex2_score = check_exercise2()\n",
        "  hw_score += ex2_score\n",
        "  max_hw_score += max_ex2_score\n",
        "\n",
        "  ex3_score, max_ex3_score = check_exercise3()\n",
        "  hw_score += ex3_score\n",
        "  max_hw_score += max_ex3_score\n",
        "\n",
        "  ex4_score, max_ex4_score = check_exercise4()\n",
        "  hw_score += ex4_score\n",
        "  max_hw_score += max_ex4_score\n",
        "  \n",
        "except NameError:\n",
        "  raise Exception(\"Autograder failed to run. You have either not completed all of the exercises or did not run the entire notebook\")\n",
        "\n",
        "compare_hw_scores(hw_score, max_hw_score)"
      ],
      "execution_count": null,
      "outputs": []
    },
    {
      "cell_type": "markdown",
      "source": [
        "To confirm that you've completed all of the exercises and that your notebook is suitable for submission, run the entire notebook from start to finish. You can do this in one of two ways:\n",
        "1.  Select \"Runtime\" > \"Run all\" in the Google Colab menu\n",
        "2. Click inside this cell, then select \"Runtime\" > \"Run before\" in the Google Colab menu."
      ],
      "metadata": {
        "id": "mkZtACEovWG-"
      }
    }
  ]
}