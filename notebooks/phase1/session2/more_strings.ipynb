{
 "cells": [
  {
   "cell_type": "markdown",
   "metadata": {
    "id": "4Ctm0ldQ2NKy"
   },
   "source": [
    "# More String Operations and Methods"
   ]
  },
  {
   "cell_type": "markdown",
   "metadata": {
    "id": "5_-8l9v12NK-"
   },
   "source": [
    "## Escape Sequences"
   ]
  },
  {
   "cell_type": "markdown",
   "metadata": {
    "id": "4qLzPlSt2NK_"
   },
   "source": [
    "Earlier, you learned about the newline character `'\\n'`:"
   ]
  },
  {
   "cell_type": "code",
   "execution_count": null,
   "metadata": {
    "id": "usMp8O5R2NLD"
   },
   "outputs": [],
   "source": [
    "s = \"\"\"Line one,\n",
    "line two,\n",
    "line three.\"\"\""
   ]
  },
  {
   "cell_type": "code",
   "execution_count": null,
   "metadata": {
    "id": "XbbClvAd2NLE",
    "outputId": "4b68dcc3-d9e8-4b31-8c09-dc81a63d5c27"
   },
   "outputs": [],
   "source": [
    "s"
   ]
  },
  {
   "cell_type": "markdown",
   "metadata": {
    "id": "I-rPQpWB2NLF"
   },
   "source": [
    "The backslash character `\\` is called the *escape character*, and it can be combined with other characters to form *escape sequences*. Just as how the `\\` character gives the `n` character new meaning, escape sequences indicate special characters and actions that \"escape\" normal interpretation."
   ]
  },
  {
   "cell_type": "markdown",
   "metadata": {
    "id": "abL-vIdlKaIi"
   },
   "source": [
    "For example, we can use single quotes `'` to start and end a string (side note: this is called a **delimiter**), but we cannot use an additional single quote inside that kind of string as a normal character since it will take on two different meanings:"
   ]
  },
  {
   "cell_type": "code",
   "execution_count": null,
   "metadata": {
    "colab": {
     "base_uri": "https://localhost:8080/",
     "height": 136
    },
    "executionInfo": {
     "elapsed": 150,
     "status": "error",
     "timestamp": 1629269610650,
     "user": {
      "displayName": "Alex Mariakakis",
      "photoUrl": "https://lh3.googleusercontent.com/a-/AOh14Ght6Dyv6e4hfso-1xpfI7hj0VNjb-z7AByT6gi2Tw=s64",
      "userId": "03266759294585342781"
     },
     "user_tz": 420
    },
    "id": "Lv1sufPl2NLG",
    "outputId": "393123ee-0d8e-4e09-b8fe-418aacff8b2d"
   },
   "outputs": [],
   "source": [
    "'I can't go to the party'"
   ]
  },
  {
   "cell_type": "markdown",
   "metadata": {
    "id": "rndBibZv2NLH"
   },
   "source": [
    "However, we can use the escape character to indicate that the middle single quote is a character within the string and not a string delimiter:"
   ]
  },
  {
   "cell_type": "code",
   "execution_count": null,
   "metadata": {
    "colab": {
     "base_uri": "https://localhost:8080/",
     "height": 35
    },
    "executionInfo": {
     "elapsed": 159,
     "status": "ok",
     "timestamp": 1629269609407,
     "user": {
      "displayName": "Alex Mariakakis",
      "photoUrl": "https://lh3.googleusercontent.com/a-/AOh14Ght6Dyv6e4hfso-1xpfI7hj0VNjb-z7AByT6gi2Tw=s64",
      "userId": "03266759294585342781"
     },
     "user_tz": 420
    },
    "id": "OCcDZug72NLJ",
    "outputId": "1c0b9852-ae55-4d11-fcb5-27c33b210981"
   },
   "outputs": [],
   "source": [
    "'I can\\'t go to the party'"
   ]
  },
  {
   "cell_type": "markdown",
   "metadata": {
    "id": "1DnQglmRBk4k"
   },
   "source": [
    " The same issue arises if we are using double quotes `\"`:"
   ]
  },
  {
   "cell_type": "code",
   "execution_count": null,
   "metadata": {
    "colab": {
     "base_uri": "https://localhost:8080/",
     "height": 136
    },
    "executionInfo": {
     "elapsed": 134,
     "status": "error",
     "timestamp": 1629269455679,
     "user": {
      "displayName": "Alex Mariakakis",
      "photoUrl": "https://lh3.googleusercontent.com/a-/AOh14Ght6Dyv6e4hfso-1xpfI7hj0VNjb-z7AByT6gi2Tw=s64",
      "userId": "03266759294585342781"
     },
     "user_tz": 420
    },
    "id": "a13up7pSBr9g",
    "outputId": "3cde9767-3093-4aed-92d9-f9e5a49e360e"
   },
   "outputs": [],
   "source": [
    "\"He said, \"I will be there soon\".\""
   ]
  },
  {
   "cell_type": "code",
   "execution_count": null,
   "metadata": {
    "colab": {
     "base_uri": "https://localhost:8080/",
     "height": 35
    },
    "executionInfo": {
     "elapsed": 233,
     "status": "ok",
     "timestamp": 1629269461875,
     "user": {
      "displayName": "Alex Mariakakis",
      "photoUrl": "https://lh3.googleusercontent.com/a-/AOh14Ght6Dyv6e4hfso-1xpfI7hj0VNjb-z7AByT6gi2Tw=s64",
      "userId": "03266759294585342781"
     },
     "user_tz": 420
    },
    "id": "U8-NBxbC2NLL",
    "outputId": "73da1ab3-07e2-48d2-8cad-02e960b62e2e"
   },
   "outputs": [],
   "source": [
    "\"He said, \\\"I will be there soon\\\".\""
   ]
  },
  {
   "cell_type": "markdown",
   "metadata": {
    "id": "6QnfvwlL2NLK"
   },
   "source": [
    "For this particular scenario, you can actually get around this problem by using using the quotation mark that doesn't appear in the text as your delimiter:"
   ]
  },
  {
   "cell_type": "code",
   "execution_count": null,
   "metadata": {
    "colab": {
     "base_uri": "https://localhost:8080/",
     "height": 35
    },
    "executionInfo": {
     "elapsed": 139,
     "status": "ok",
     "timestamp": 1629269622374,
     "user": {
      "displayName": "Alex Mariakakis",
      "photoUrl": "https://lh3.googleusercontent.com/a-/AOh14Ght6Dyv6e4hfso-1xpfI7hj0VNjb-z7AByT6gi2Tw=s64",
      "userId": "03266759294585342781"
     },
     "user_tz": 420
    },
    "id": "o6UXGsHhByRG",
    "outputId": "7d966876-c665-427f-cae5-a961bfbf089b"
   },
   "outputs": [],
   "source": [
    "\"I can't go to the party\""
   ]
  },
  {
   "cell_type": "code",
   "execution_count": null,
   "metadata": {
    "id": "xUXZeI3_2NLL",
    "outputId": "648db719-4cbf-4258-d7ad-706fa8871ec7"
   },
   "outputs": [],
   "source": [
    "'He said, \"I will be there soon\".'"
   ]
  },
  {
   "cell_type": "markdown",
   "metadata": {
    "id": "7KazvsSr2NLM"
   },
   "source": [
    "Here is a list of the common escape sequences that might encounter:\n",
    "- `\\'`: single quote\n",
    "- `\\\"`: double quote\n",
    "- `\\\\`: backslash\n",
    "- `\\n`: newline\n",
    "- `\\t`: tab"
   ]
  },
  {
   "cell_type": "markdown",
   "metadata": {
    "id": "r065x5-T2NLM"
   },
   "source": [
    "## String Functions and Operations"
   ]
  },
  {
   "cell_type": "markdown",
   "metadata": {
    "id": "6YDp0l4U2NLr"
   },
   "source": [
    "We can compare two strings by using the same comparison operators we used earlier for numerical types:"
   ]
  },
  {
   "cell_type": "code",
   "execution_count": null,
   "metadata": {
    "colab": {
     "base_uri": "https://localhost:8080/"
    },
    "executionInfo": {
     "elapsed": 342,
     "status": "ok",
     "timestamp": 1629171596247,
     "user": {
      "displayName": "Alex Mariakakis",
      "photoUrl": "https://lh3.googleusercontent.com/a-/AOh14Ght6Dyv6e4hfso-1xpfI7hj0VNjb-z7AByT6gi2Tw=s64",
      "userId": "03266759294585342781"
     },
     "user_tz": 420
    },
    "id": "hHvsJcoE2NLr",
    "outputId": "eff4cf72-617e-41fe-d6cf-7c9b18aa7334"
   },
   "outputs": [],
   "source": [
    "# Equal to\n",
    "print('a' == 'a')\n",
    "print('a' == 'b')\n",
    "print('a' == 'A')"
   ]
  },
  {
   "cell_type": "code",
   "execution_count": null,
   "metadata": {
    "colab": {
     "base_uri": "https://localhost:8080/"
    },
    "executionInfo": {
     "elapsed": 396,
     "status": "ok",
     "timestamp": 1629171619662,
     "user": {
      "displayName": "Alex Mariakakis",
      "photoUrl": "https://lh3.googleusercontent.com/a-/AOh14Ght6Dyv6e4hfso-1xpfI7hj0VNjb-z7AByT6gi2Tw=s64",
      "userId": "03266759294585342781"
     },
     "user_tz": 420
    },
    "id": "8UE_SFhV2NLv",
    "outputId": "e937c91b-c461-45c7-c17c-d618d07f5cfa"
   },
   "outputs": [],
   "source": [
    "# Not equal to\n",
    "print('a' != 'a')\n",
    "print('a' != 'b')\n",
    "print('a' != 'A')"
   ]
  },
  {
   "cell_type": "code",
   "execution_count": null,
   "metadata": {
    "colab": {
     "base_uri": "https://localhost:8080/"
    },
    "executionInfo": {
     "elapsed": 299,
     "status": "ok",
     "timestamp": 1629171652020,
     "user": {
      "displayName": "Alex Mariakakis",
      "photoUrl": "https://lh3.googleusercontent.com/a-/AOh14Ght6Dyv6e4hfso-1xpfI7hj0VNjb-z7AByT6gi2Tw=s64",
      "userId": "03266759294585342781"
     },
     "user_tz": 420
    },
    "id": "wEIBHgn12NLw",
    "outputId": "3a22b4ba-310e-45a0-ea03-45b4e8384fc1"
   },
   "outputs": [],
   "source": [
    "# Less than\n",
    "print('a' < 'a')\n",
    "print('a' < 'b')\n",
    "print('a' < 'A')"
   ]
  },
  {
   "cell_type": "markdown",
   "metadata": {
    "id": "PXScQ8kvNDrf"
   },
   "source": [
    "Although it may seem weird to say that one `str` is less than another, this behavior is necessary for Python (and perhaps you) to alphabetically sort strings."
   ]
  },
  {
   "cell_type": "markdown",
   "metadata": {
    "id": "X2uoGpz-DWxs"
   },
   "source": [
    "Keep in mind that comparisons should be between two values with similar types. For example, you cannot compare `str` and `int` values:"
   ]
  },
  {
   "cell_type": "code",
   "execution_count": null,
   "metadata": {
    "colab": {
     "base_uri": "https://localhost:8080/",
     "height": 172
    },
    "executionInfo": {
     "elapsed": 198,
     "status": "error",
     "timestamp": 1629269925869,
     "user": {
      "displayName": "Alex Mariakakis",
      "photoUrl": "https://lh3.googleusercontent.com/a-/AOh14Ght6Dyv6e4hfso-1xpfI7hj0VNjb-z7AByT6gi2Tw=s64",
      "userId": "03266759294585342781"
     },
     "user_tz": 420
    },
    "id": "PJpidy-mDe6I",
    "outputId": "4e6004e6-7670-4856-e504-aba091d6c102"
   },
   "outputs": [],
   "source": [
    "'a' < 4"
   ]
  },
  {
   "cell_type": "markdown",
   "metadata": {
    "id": "DoMTrry42NLM"
   },
   "source": [
    "We can find out how many characters a string has by using built-in method `len`:"
   ]
  },
  {
   "cell_type": "code",
   "execution_count": null,
   "metadata": {
    "id": "C6DZxXFC2NLN",
    "outputId": "eea42718-d59c-49ec-82e7-9f239f0edef3"
   },
   "outputs": [],
   "source": [
    "len('happy')"
   ]
  },
  {
   "cell_type": "markdown",
   "metadata": {
    "id": "vK9ZL1B82NLN"
   },
   "source": [
    "Even though escape sequences are formed using two symbols, they count as a single character:"
   ]
  },
  {
   "cell_type": "code",
   "execution_count": null,
   "metadata": {
    "id": "L6bZBkiM2NLN",
    "outputId": "6f324cc5-f823-4212-f886-6053cba7b16c"
   },
   "outputs": [],
   "source": [
    "len('\\'')"
   ]
  },
  {
   "cell_type": "markdown",
   "metadata": {
    "id": "UROKBByP2NLO"
   },
   "source": [
    "We can also find out if one string is a **substring** of another string (i.e., contained within it) by using the `in` operator:"
   ]
  },
  {
   "cell_type": "code",
   "execution_count": null,
   "metadata": {
    "colab": {
     "base_uri": "https://localhost:8080/"
    },
    "executionInfo": {
     "elapsed": 290,
     "status": "ok",
     "timestamp": 1629171713461,
     "user": {
      "displayName": "Alex Mariakakis",
      "photoUrl": "https://lh3.googleusercontent.com/a-/AOh14Ght6Dyv6e4hfso-1xpfI7hj0VNjb-z7AByT6gi2Tw=s64",
      "userId": "03266759294585342781"
     },
     "user_tz": 420
    },
    "id": "hhkinx0t2NLn",
    "outputId": "b2b6b9e9-c48c-4408-ebe7-94c184790e96"
   },
   "outputs": [],
   "source": [
    "print('ha' in 'happy')\n",
    "print('hat' in 'happy')"
   ]
  },
  {
   "cell_type": "markdown",
   "metadata": {
    "id": "03XKM-VL2NLw"
   },
   "source": [
    "## String Indexing"
   ]
  },
  {
   "cell_type": "markdown",
   "metadata": {
    "id": "c-CvaBBM2NLx"
   },
   "source": [
    "Each character in the string has an **index**, representing its position within the string. Most programming languages, including Python, start their indexes from 0 and count upwards in order to read characters from left to right. For example:"
   ]
  },
  {
   "cell_type": "code",
   "execution_count": null,
   "metadata": {
    "id": "vfNtMleJ2NLy"
   },
   "outputs": [],
   "source": [
    "s = 'index'"
   ]
  },
  {
   "cell_type": "code",
   "execution_count": null,
   "metadata": {
    "colab": {
     "base_uri": "https://localhost:8080/",
     "height": 35
    },
    "executionInfo": {
     "elapsed": 26,
     "status": "ok",
     "timestamp": 1631497084640,
     "user": {
      "displayName": "Alex Mariakakis",
      "photoUrl": "https://lh3.googleusercontent.com/a-/AOh14Ght6Dyv6e4hfso-1xpfI7hj0VNjb-z7AByT6gi2Tw=s64",
      "userId": "03266759294585342781"
     },
     "user_tz": 240
    },
    "id": "4EkJLhgz2NLy",
    "outputId": "2bcd6c06-ff11-4433-c1d1-2b5c62a7fb76"
   },
   "outputs": [],
   "source": [
    "s[0]"
   ]
  },
  {
   "cell_type": "code",
   "execution_count": null,
   "metadata": {
    "colab": {
     "base_uri": "https://localhost:8080/",
     "height": 35
    },
    "executionInfo": {
     "elapsed": 212,
     "status": "ok",
     "timestamp": 1631497086061,
     "user": {
      "displayName": "Alex Mariakakis",
      "photoUrl": "https://lh3.googleusercontent.com/a-/AOh14Ght6Dyv6e4hfso-1xpfI7hj0VNjb-z7AByT6gi2Tw=s64",
      "userId": "03266759294585342781"
     },
     "user_tz": 240
    },
    "id": "g9DHXtzM2NLy",
    "outputId": "525cb409-6e0e-48e7-b530-0e02511b224a"
   },
   "outputs": [],
   "source": [
    "s[1]"
   ]
  },
  {
   "cell_type": "code",
   "execution_count": null,
   "metadata": {
    "colab": {
     "base_uri": "https://localhost:8080/",
     "height": 35
    },
    "executionInfo": {
     "elapsed": 12,
     "status": "ok",
     "timestamp": 1631497087622,
     "user": {
      "displayName": "Alex Mariakakis",
      "photoUrl": "https://lh3.googleusercontent.com/a-/AOh14Ght6Dyv6e4hfso-1xpfI7hj0VNjb-z7AByT6gi2Tw=s64",
      "userId": "03266759294585342781"
     },
     "user_tz": 240
    },
    "id": "04rRYwBy2NLz",
    "outputId": "686476e7-1155-4174-9a61-fc73eb99f842"
   },
   "outputs": [],
   "source": [
    "s[2]"
   ]
  },
  {
   "cell_type": "code",
   "execution_count": null,
   "metadata": {
    "colab": {
     "base_uri": "https://localhost:8080/",
     "height": 35
    },
    "executionInfo": {
     "elapsed": 10,
     "status": "ok",
     "timestamp": 1631497087961,
     "user": {
      "displayName": "Alex Mariakakis",
      "photoUrl": "https://lh3.googleusercontent.com/a-/AOh14Ght6Dyv6e4hfso-1xpfI7hj0VNjb-z7AByT6gi2Tw=s64",
      "userId": "03266759294585342781"
     },
     "user_tz": 240
    },
    "id": "LES1FyBk2NL1",
    "outputId": "d437423e-a52d-499a-b18e-578cbbf52b1f"
   },
   "outputs": [],
   "source": [
    "s[3]"
   ]
  },
  {
   "cell_type": "code",
   "execution_count": null,
   "metadata": {
    "colab": {
     "base_uri": "https://localhost:8080/",
     "height": 35
    },
    "executionInfo": {
     "elapsed": 20,
     "status": "ok",
     "timestamp": 1631497089387,
     "user": {
      "displayName": "Alex Mariakakis",
      "photoUrl": "https://lh3.googleusercontent.com/a-/AOh14Ght6Dyv6e4hfso-1xpfI7hj0VNjb-z7AByT6gi2Tw=s64",
      "userId": "03266759294585342781"
     },
     "user_tz": 240
    },
    "id": "0PcAEFY32NL1",
    "outputId": "b333a3bb-d16a-419c-b04c-ef7c46de0674"
   },
   "outputs": [],
   "source": [
    "s[4]"
   ]
  },
  {
   "cell_type": "markdown",
   "metadata": {
    "id": "ODGsYszQ2NL2"
   },
   "source": [
    "Note that since there are 5 characters in the string and we start counting from 0, the only indices available to us in this case are 0, 1, 2, 3, and 4. If we try to access an index that doesn't exist, an error occurs:"
   ]
  },
  {
   "cell_type": "code",
   "execution_count": null,
   "metadata": {
    "colab": {
     "base_uri": "https://localhost:8080/",
     "height": 172
    },
    "executionInfo": {
     "elapsed": 257,
     "status": "error",
     "timestamp": 1631497090680,
     "user": {
      "displayName": "Alex Mariakakis",
      "photoUrl": "https://lh3.googleusercontent.com/a-/AOh14Ght6Dyv6e4hfso-1xpfI7hj0VNjb-z7AByT6gi2Tw=s64",
      "userId": "03266759294585342781"
     },
     "user_tz": 240
    },
    "id": "_vJsdS1s2NL2",
    "outputId": "3a2171be-2d00-4eba-c33c-47b3f649c2dd"
   },
   "outputs": [],
   "source": [
    "s[12]"
   ]
  },
  {
   "cell_type": "markdown",
   "metadata": {
    "id": "FUYvoE1h2NL3"
   },
   "source": [
    "An alternative to counting upwards from 0 is to count downards from -1, which reads the string from right to left:"
   ]
  },
  {
   "cell_type": "code",
   "execution_count": null,
   "metadata": {
    "colab": {
     "base_uri": "https://localhost:8080/",
     "height": 35
    },
    "executionInfo": {
     "elapsed": 59,
     "status": "ok",
     "timestamp": 1631497092506,
     "user": {
      "displayName": "Alex Mariakakis",
      "photoUrl": "https://lh3.googleusercontent.com/a-/AOh14Ght6Dyv6e4hfso-1xpfI7hj0VNjb-z7AByT6gi2Tw=s64",
      "userId": "03266759294585342781"
     },
     "user_tz": 240
    },
    "id": "vJUI0CmN2NL3",
    "outputId": "0beb04f4-d9b3-4e20-a3ac-90be12b106b1"
   },
   "outputs": [],
   "source": [
    "s[-1]"
   ]
  },
  {
   "cell_type": "code",
   "execution_count": null,
   "metadata": {
    "colab": {
     "base_uri": "https://localhost:8080/",
     "height": 35
    },
    "executionInfo": {
     "elapsed": 53,
     "status": "ok",
     "timestamp": 1631497094097,
     "user": {
      "displayName": "Alex Mariakakis",
      "photoUrl": "https://lh3.googleusercontent.com/a-/AOh14Ght6Dyv6e4hfso-1xpfI7hj0VNjb-z7AByT6gi2Tw=s64",
      "userId": "03266759294585342781"
     },
     "user_tz": 240
    },
    "id": "kB3yArG52NL3",
    "outputId": "5166d5fa-5c7a-43c4-ac80-b609fde92dd9"
   },
   "outputs": [],
   "source": [
    "s[-2]"
   ]
  },
  {
   "cell_type": "code",
   "execution_count": null,
   "metadata": {
    "colab": {
     "base_uri": "https://localhost:8080/",
     "height": 35
    },
    "executionInfo": {
     "elapsed": 48,
     "status": "ok",
     "timestamp": 1631497094097,
     "user": {
      "displayName": "Alex Mariakakis",
      "photoUrl": "https://lh3.googleusercontent.com/a-/AOh14Ght6Dyv6e4hfso-1xpfI7hj0VNjb-z7AByT6gi2Tw=s64",
      "userId": "03266759294585342781"
     },
     "user_tz": 240
    },
    "id": "k_Y5oOvl2NL3",
    "outputId": "5beaca63-9b81-4fce-cd76-a803c4d9fd01"
   },
   "outputs": [],
   "source": [
    "s[-3]"
   ]
  },
  {
   "cell_type": "code",
   "execution_count": null,
   "metadata": {
    "colab": {
     "base_uri": "https://localhost:8080/",
     "height": 35
    },
    "executionInfo": {
     "elapsed": 35,
     "status": "ok",
     "timestamp": 1631497097270,
     "user": {
      "displayName": "Alex Mariakakis",
      "photoUrl": "https://lh3.googleusercontent.com/a-/AOh14Ght6Dyv6e4hfso-1xpfI7hj0VNjb-z7AByT6gi2Tw=s64",
      "userId": "03266759294585342781"
     },
     "user_tz": 240
    },
    "id": "TmItuIr-2NL4",
    "outputId": "bdfd65c6-a65e-4d43-fbe1-d26d94fab241"
   },
   "outputs": [],
   "source": [
    "s[-4]"
   ]
  },
  {
   "cell_type": "code",
   "execution_count": null,
   "metadata": {
    "colab": {
     "base_uri": "https://localhost:8080/",
     "height": 35
    },
    "executionInfo": {
     "elapsed": 42,
     "status": "ok",
     "timestamp": 1631497097857,
     "user": {
      "displayName": "Alex Mariakakis",
      "photoUrl": "https://lh3.googleusercontent.com/a-/AOh14Ght6Dyv6e4hfso-1xpfI7hj0VNjb-z7AByT6gi2Tw=s64",
      "userId": "03266759294585342781"
     },
     "user_tz": 240
    },
    "id": "Fi2QEtV62NL5",
    "outputId": "6885a4a9-2199-439d-d510-923ea8ce1a7a"
   },
   "outputs": [],
   "source": [
    "s[-5]"
   ]
  },
  {
   "cell_type": "markdown",
   "metadata": {
    "id": "qxoyaQeG2NL5"
   },
   "source": [
    "As we saw with positive indices, an error occurs when we try to index into a string at a position that doesn't exist:"
   ]
  },
  {
   "cell_type": "code",
   "execution_count": null,
   "metadata": {
    "colab": {
     "base_uri": "https://localhost:8080/",
     "height": 172
    },
    "executionInfo": {
     "elapsed": 34,
     "status": "error",
     "timestamp": 1631497097858,
     "user": {
      "displayName": "Alex Mariakakis",
      "photoUrl": "https://lh3.googleusercontent.com/a-/AOh14Ght6Dyv6e4hfso-1xpfI7hj0VNjb-z7AByT6gi2Tw=s64",
      "userId": "03266759294585342781"
     },
     "user_tz": 240
    },
    "id": "4NkEgopV2NL5",
    "outputId": "b4704dce-145d-45d9-ca87-ef4ee709ae0a"
   },
   "outputs": [],
   "source": [
    "s[-6]"
   ]
  },
  {
   "cell_type": "markdown",
   "metadata": {
    "id": "29C4c_G-2NL6"
   },
   "source": [
    "## String Slicing"
   ]
  },
  {
   "cell_type": "markdown",
   "metadata": {
    "id": "Iwgfnopw2NL6"
   },
   "source": [
    "Indexing allows us to grab one character at a time, but **slicing** allows us grab 0 or more characters at the same time. Slicing requires at least specifying start and stop indices. For example, here we take a slice from start index 1 up to **but not including** stop index 4:"
   ]
  },
  {
   "cell_type": "code",
   "execution_count": null,
   "metadata": {
    "colab": {
     "base_uri": "https://localhost:8080/",
     "height": 35
    },
    "executionInfo": {
     "elapsed": 16,
     "status": "ok",
     "timestamp": 1631497100485,
     "user": {
      "displayName": "Alex Mariakakis",
      "photoUrl": "https://lh3.googleusercontent.com/a-/AOh14Ght6Dyv6e4hfso-1xpfI7hj0VNjb-z7AByT6gi2Tw=s64",
      "userId": "03266759294585342781"
     },
     "user_tz": 240
    },
    "id": "rKGXY2j02NL6",
    "outputId": "c369ddec-b0a3-4306-cb24-4ef0f902d9a5"
   },
   "outputs": [],
   "source": [
    "s[1:4]"
   ]
  },
  {
   "cell_type": "markdown",
   "metadata": {
    "id": "5RVNXDpA2NL6"
   },
   "source": [
    "Here are a few more examples using both positive and negative indices, including cases where the slice is empty:"
   ]
  },
  {
   "cell_type": "code",
   "execution_count": null,
   "metadata": {
    "colab": {
     "base_uri": "https://localhost:8080/",
     "height": 35
    },
    "executionInfo": {
     "elapsed": 139,
     "status": "ok",
     "timestamp": 1631497102028,
     "user": {
      "displayName": "Alex Mariakakis",
      "photoUrl": "https://lh3.googleusercontent.com/a-/AOh14Ght6Dyv6e4hfso-1xpfI7hj0VNjb-z7AByT6gi2Tw=s64",
      "userId": "03266759294585342781"
     },
     "user_tz": 240
    },
    "id": "sqzceQ5V2NL7",
    "outputId": "1e27bc3b-a75e-4ab1-d7b3-2ec4b46d95d7"
   },
   "outputs": [],
   "source": [
    "# Single character\n",
    "s[1:2]"
   ]
  },
  {
   "cell_type": "code",
   "execution_count": null,
   "metadata": {
    "colab": {
     "base_uri": "https://localhost:8080/",
     "height": 35
    },
    "executionInfo": {
     "elapsed": 7,
     "status": "ok",
     "timestamp": 1631497105224,
     "user": {
      "displayName": "Alex Mariakakis",
      "photoUrl": "https://lh3.googleusercontent.com/a-/AOh14Ght6Dyv6e4hfso-1xpfI7hj0VNjb-z7AByT6gi2Tw=s64",
      "userId": "03266759294585342781"
     },
     "user_tz": 240
    },
    "id": "ugEPXQAo2NL6",
    "outputId": "00290896-c7f7-4aa9-f99a-0e0e3f5c666b"
   },
   "outputs": [],
   "source": [
    "# Overflow\n",
    "s[1:10]"
   ]
  },
  {
   "cell_type": "code",
   "execution_count": null,
   "metadata": {
    "colab": {
     "base_uri": "https://localhost:8080/",
     "height": 35
    },
    "executionInfo": {
     "elapsed": 263,
     "status": "ok",
     "timestamp": 1631497107722,
     "user": {
      "displayName": "Alex Mariakakis",
      "photoUrl": "https://lh3.googleusercontent.com/a-/AOh14Ght6Dyv6e4hfso-1xpfI7hj0VNjb-z7AByT6gi2Tw=s64",
      "userId": "03266759294585342781"
     },
     "user_tz": 240
    },
    "id": "adJ54sMv2NL7",
    "outputId": "76d2e6a1-6095-4d74-d20c-f750f97c47ce"
   },
   "outputs": [],
   "source": [
    "# Negative indices\n",
    "s[-4:-2]"
   ]
  },
  {
   "cell_type": "code",
   "execution_count": null,
   "metadata": {
    "colab": {
     "base_uri": "https://localhost:8080/",
     "height": 35
    },
    "executionInfo": {
     "elapsed": 180,
     "status": "ok",
     "timestamp": 1631497584558,
     "user": {
      "displayName": "Alex Mariakakis",
      "photoUrl": "https://lh3.googleusercontent.com/a-/AOh14Ght6Dyv6e4hfso-1xpfI7hj0VNjb-z7AByT6gi2Tw=s64",
      "userId": "03266759294585342781"
     },
     "user_tz": 240
    },
    "id": "1JsnDR7W2NL7",
    "outputId": "1081e9eb-694e-455a-9ab5-631fbfdc2291"
   },
   "outputs": [],
   "source": [
    "# Empty string\n",
    "s[1:1]"
   ]
  },
  {
   "cell_type": "code",
   "execution_count": null,
   "metadata": {
    "colab": {
     "base_uri": "https://localhost:8080/",
     "height": 35
    },
    "executionInfo": {
     "elapsed": 18,
     "status": "ok",
     "timestamp": 1631497585851,
     "user": {
      "displayName": "Alex Mariakakis",
      "photoUrl": "https://lh3.googleusercontent.com/a-/AOh14Ght6Dyv6e4hfso-1xpfI7hj0VNjb-z7AByT6gi2Tw=s64",
      "userId": "03266759294585342781"
     },
     "user_tz": 240
    },
    "id": "Y6-PRgMk1VJM",
    "outputId": "349328b1-4a52-42ea-faa6-079c7075bf06"
   },
   "outputs": [],
   "source": [
    "# Another empty string\n",
    "s[-2:-4]"
   ]
  },
  {
   "cell_type": "markdown",
   "metadata": {
    "id": "9ZHdazIU0E5i"
   },
   "source": [
    "By default, Python assumes that the slice should go from the start index to the stop index by incrementing +1 each time. If you want to use a different increment, you can specify "
   ]
  },
  {
   "cell_type": "code",
   "execution_count": null,
   "metadata": {
    "colab": {
     "base_uri": "https://localhost:8080/",
     "height": 35
    },
    "executionInfo": {
     "elapsed": 153,
     "status": "ok",
     "timestamp": 1631497210621,
     "user": {
      "displayName": "Alex Mariakakis",
      "photoUrl": "https://lh3.googleusercontent.com/a-/AOh14Ght6Dyv6e4hfso-1xpfI7hj0VNjb-z7AByT6gi2Tw=s64",
      "userId": "03266759294585342781"
     },
     "user_tz": 240
    },
    "id": "IoB4uvUMz5DM",
    "outputId": "60f69236-d810-46b4-cd54-4ba1834335e1"
   },
   "outputs": [],
   "source": [
    "# Increment by 2\n",
    "s[0:5:2]"
   ]
  },
  {
   "cell_type": "code",
   "execution_count": null,
   "metadata": {
    "colab": {
     "base_uri": "https://localhost:8080/",
     "height": 35
    },
    "executionInfo": {
     "elapsed": 138,
     "status": "ok",
     "timestamp": 1631497472875,
     "user": {
      "displayName": "Alex Mariakakis",
      "photoUrl": "https://lh3.googleusercontent.com/a-/AOh14Ght6Dyv6e4hfso-1xpfI7hj0VNjb-z7AByT6gi2Tw=s64",
      "userId": "03266759294585342781"
     },
     "user_tz": 240
    },
    "id": "MEhPLGs42NL7",
    "outputId": "4f22b15a-1bf4-4e7c-d9d4-db090c605abf"
   },
   "outputs": [],
   "source": [
    "# Increment by -1 to read backwards\n",
    "s[-1:-6:-1]"
   ]
  },
  {
   "cell_type": "markdown",
   "metadata": {
    "id": "6PqYS9uV2NL8"
   },
   "source": [
    "## String Methods"
   ]
  },
  {
   "cell_type": "markdown",
   "metadata": {
    "id": "cd48GWMk2NL8"
   },
   "source": [
    "Each data type in Python has set of functions defined in them called **methods**. We can see the methods associated with `str` by calling `dir` (ignore the names with underscores for now):"
   ]
  },
  {
   "cell_type": "code",
   "execution_count": null,
   "metadata": {
    "id": "ECAWmddi2NL8",
    "outputId": "70ac882e-d09b-41fa-e550-8d4411e9e4df"
   },
   "outputs": [],
   "source": [
    "dir(str)"
   ]
  },
  {
   "cell_type": "markdown",
   "metadata": {
    "id": "MeMOBBld2NL8"
   },
   "source": [
    "A method can be referenced on a value or variable by putting a `.` and the method name after it:"
   ]
  },
  {
   "cell_type": "code",
   "execution_count": null,
   "metadata": {
    "colab": {
     "base_uri": "https://localhost:8080/"
    },
    "executionInfo": {
     "elapsed": 296,
     "status": "ok",
     "timestamp": 1631497951650,
     "user": {
      "displayName": "Alex Mariakakis",
      "photoUrl": "https://lh3.googleusercontent.com/a-/AOh14Ght6Dyv6e4hfso-1xpfI7hj0VNjb-z7AByT6gi2Tw=s64",
      "userId": "03266759294585342781"
     },
     "user_tz": 240
    },
    "id": "Nn4rLghM2wV7",
    "outputId": "a67da33a-77b9-435d-fe0f-68e2fce87e2a"
   },
   "outputs": [],
   "source": [
    "str.upper"
   ]
  },
  {
   "cell_type": "markdown",
   "metadata": {
    "id": "P0DY6qL72ykq"
   },
   "source": [
    "We can find out how the method works by calling `help`:"
   ]
  },
  {
   "cell_type": "code",
   "execution_count": null,
   "metadata": {
    "id": "Kq_SlGvs2NL9",
    "outputId": "011971ce-29cb-47e8-e4e2-3018d944b4d0"
   },
   "outputs": [],
   "source": [
    "help(str.upper)"
   ]
  },
  {
   "cell_type": "markdown",
   "metadata": {
    "id": "w2HHCt4B2NMA"
   },
   "source": [
    "To actually call a method, we use this general form:\n",
    "\n",
    "    object.method(arguments)"
   ]
  },
  {
   "cell_type": "markdown",
   "metadata": {
    "id": "Ipm-xCPa2NL9"
   },
   "source": [
    "This is how we call the `upper` method. Note that since it does not have any arguments, we do not need to put anything in the parentheses:"
   ]
  },
  {
   "cell_type": "code",
   "execution_count": null,
   "metadata": {
    "id": "pFTS5aUP2NL9",
    "outputId": "4d5fd215-269c-419e-a457-2d38a8573da5"
   },
   "outputs": [],
   "source": [
    "'hello'.upper()"
   ]
  },
  {
   "cell_type": "code",
   "execution_count": null,
   "metadata": {
    "colab": {
     "base_uri": "https://localhost:8080/",
     "height": 35
    },
    "executionInfo": {
     "elapsed": 133,
     "status": "ok",
     "timestamp": 1631498108811,
     "user": {
      "displayName": "Alex Mariakakis",
      "photoUrl": "https://lh3.googleusercontent.com/a-/AOh14Ght6Dyv6e4hfso-1xpfI7hj0VNjb-z7AByT6gi2Tw=s64",
      "userId": "03266759294585342781"
     },
     "user_tz": 240
    },
    "id": "-7PWsiiV2NL-",
    "outputId": "d6a45478-e6d7-4485-cfb4-01ac220e8bc6"
   },
   "outputs": [],
   "source": [
    "'AcDc'.upper()"
   ]
  },
  {
   "cell_type": "code",
   "execution_count": null,
   "metadata": {
    "colab": {
     "base_uri": "https://localhost:8080/",
     "height": 35
    },
    "executionInfo": {
     "elapsed": 222,
     "status": "ok",
     "timestamp": 1631498111016,
     "user": {
      "displayName": "Alex Mariakakis",
      "photoUrl": "https://lh3.googleusercontent.com/a-/AOh14Ght6Dyv6e4hfso-1xpfI7hj0VNjb-z7AByT6gi2Tw=s64",
      "userId": "03266759294585342781"
     },
     "user_tz": 240
    },
    "id": "h3FQLfCX2NL-",
    "outputId": "1d8f181b-0c6d-4bf7-d1ef-04550ad72a32"
   },
   "outputs": [],
   "source": [
    "s = 'c4m'\n",
    "s.upper()"
   ]
  },
  {
   "cell_type": "markdown",
   "metadata": {
    "id": "N6D_NS412NL_"
   },
   "source": [
    "Notice that the `upper` method returned a new uppercase string, but the original `str` variable is unchanged:"
   ]
  },
  {
   "cell_type": "code",
   "execution_count": null,
   "metadata": {
    "colab": {
     "base_uri": "https://localhost:8080/",
     "height": 35
    },
    "executionInfo": {
     "elapsed": 148,
     "status": "ok",
     "timestamp": 1631498121122,
     "user": {
      "displayName": "Alex Mariakakis",
      "photoUrl": "https://lh3.googleusercontent.com/a-/AOh14Ght6Dyv6e4hfso-1xpfI7hj0VNjb-z7AByT6gi2Tw=s64",
      "userId": "03266759294585342781"
     },
     "user_tz": 240
    },
    "id": "vEPWtUoS2NL_",
    "outputId": "07c4b887-24ae-403e-dcee-6ebc9dcd7a0c"
   },
   "outputs": [],
   "source": [
    "s"
   ]
  },
  {
   "cell_type": "markdown",
   "metadata": {
    "id": "evY1akFQ2NL_"
   },
   "source": [
    "If you look back at the documentation, you will see that its says that the `upper` method returns a copy of the original string rather than replaces it. \n",
    "\n",
    "This is because strings are **immutable**. In other words, they cannot be modified. The same holds true for numeric values and other data types you will encounter in the future."
   ]
  },
  {
   "cell_type": "markdown",
   "metadata": {
    "id": "ITKVC4J52NMA"
   },
   "source": [
    "## Practice Exercise: Exploring `str` Methods"
   ]
  },
  {
   "cell_type": "markdown",
   "metadata": {
    "id": "j3-N_WgI2NMA"
   },
   "source": [
    "Call `help` on each of the following `str` methods to learn about them. Once you have done that, make an educated guess as to what each of them would produce in this example. Then, check your work by executing the method calls in the Python shell.\n",
    "\n",
    "1. `robot.isupper()`\n",
    "2. `robot.isalpha()`\n",
    "3. `robot.isalnum()`\n",
    "4. `robot.isdigit()`\n",
    "5. `robot.lower()`\n",
    "6. `robot.index('2')`\n",
    "7. `robot.index('2', 2)`\n",
    "8. `robot.count(2)`"
   ]
  },
  {
   "cell_type": "code",
   "execution_count": null,
   "metadata": {
    "id": "iKac8bUX6MQE"
   },
   "outputs": [],
   "source": [
    "robot = 'R2D2'"
   ]
  },
  {
   "cell_type": "code",
   "execution_count": null,
   "metadata": {
    "id": "y3bRfy3L5-1g"
   },
   "outputs": [],
   "source": [
    "# Workspace for calling help and testing method calls"
   ]
  }
 ],
 "metadata": {
  "colab": {
   "name": "Copy of more_strings.ipynb",
   "provenance": [
    {
     "file_id": "https://github.com/C4M-UofT/C4M-UofT.github.io/blob/master/notebooks/more_str_ops_methods.ipynb",
     "timestamp": 1629149048007
    }
   ]
  },
  "kernelspec": {
   "display_name": "Python 3",
   "language": "python",
   "name": "python3"
  },
  "language_info": {
   "codemirror_mode": {
    "name": "ipython",
    "version": 3
   },
   "file_extension": ".py",
   "mimetype": "text/x-python",
   "name": "python",
   "nbconvert_exporter": "python",
   "pygments_lexer": "ipython3",
   "version": "3.6.13"
  }
 },
 "nbformat": 4,
 "nbformat_minor": 4
}
