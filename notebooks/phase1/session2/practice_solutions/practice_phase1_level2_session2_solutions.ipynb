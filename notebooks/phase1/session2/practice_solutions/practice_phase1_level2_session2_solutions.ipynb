{
 "cells": [
  {
   "cell_type": "markdown",
   "metadata": {},
   "source": [
    "## Practice Exercises: Phase 1, Level 2, Session 2"
   ]
  },
  {
   "cell_type": "markdown",
   "metadata": {},
   "source": [
    "#### 1. `if` statements\n",
    "\n",
    "##### a) Practice Exercise: fever classification\n",
    "\n",
    "According to Wikipedia, Harrison's textbook internal medicine defines a fever as a morning oral temperature greater than 37.2°C or an afternoon oral temperature greater than 37.7°C.  For this problem, using the 24 hour clock, 0 to 11 hours is considered morning and 12-23 hours is considered afternoon.  The first four steps of the Function Design Recipe have already been completed.  Complete the function body and test the function:"
   ]
  },
  {
   "cell_type": "code",
   "execution_count": null,
   "metadata": {},
   "outputs": [],
   "source": [
    "def check_fever(temp, hour_of_day):\n",
    "    \"\"\" (number, int) -> str\n",
    "    \n",
    "    Return 'fever' if the temperature temp in degrees Celsius recorded at hour_of_day\n",
    "    using the 24 hour clock meets Harrison's definition of a fever, and 'no fever' otherwise.\n",
    "    \n",
    "    >>> check_fever(37.5, 9)\n",
    "    'fever'\n",
    "    >>> check_fever(37.5, 14)\n",
    "    'no fever'\n",
    "    \"\"\""
   ]
  },
  {
   "cell_type": "code",
   "execution_count": null,
   "metadata": {
    "collapsed": false,
    "jupyter": {
     "outputs_hidden": false
    }
   },
   "outputs": [],
   "source": [
    "def check_fever(temp, hour_of_day):\n",
    "    \"\"\" (number, int) -> str\n",
    "    \n",
    "    Return 'fever' if the temperature temp in degrees Celsius recorded at hour_of_day\n",
    "    using the 24 hour clock meets Harrison's definition of a fever, and 'no fever' otherwise.\n",
    "    \n",
    "    >>> check_fever(37.5, 9)\n",
    "    'fever'\n",
    "    >>> check_fever(37.5, 14)\n",
    "    'no fever'\n",
    "    \"\"\"\n",
    "    if 0 <= hour_of_day <= 11 and temp > 37.2:\n",
    "        return 'fever'\n",
    "    elif 12 <= hour_of_day <= 23 and temp > 37.7:\n",
    "        return 'fever'\n",
    "    else:\n",
    "        return 'no fever'\n",
    "\n",
    "print(check_fever(37.5, 9))\n",
    "print(check_fever(37.5, 14))"
   ]
  },
  {
   "cell_type": "markdown",
   "metadata": {},
   "source": [
    "##### b) Practice Exercise: Improved Guessing Game\n",
    "\n",
    "1. Write an improved version of the program above that will print either `Too high` or `Too low` depending on the guess, *instead of* `Better luck next time`.\n",
    "\n",
    "2. Write an improved version of the program above that will print either `Too high` or `Too low` depending on the guess, *in addition to* `Better luck next time`."
   ]
  },
  {
   "cell_type": "code",
   "execution_count": null,
   "metadata": {
    "collapsed": false,
    "jupyter": {
     "outputs_hidden": false
    }
   },
   "outputs": [],
   "source": [
    "import random\n",
    "\n",
    "# Generates a random number between 1 and 10.\n",
    "secret = random.randint(1, 10)\n",
    "\n",
    "guess = int(input('Enter a number between 1 and 10: '))\n",
    "if guess == secret:\n",
    "    print('You got it')\n",
    "elif guess > secret:\n",
    "    print('Too high')\n",
    "else:\n",
    "    print('Too low')\n"
   ]
  },
  {
   "cell_type": "code",
   "execution_count": null,
   "metadata": {
    "collapsed": false,
    "jupyter": {
     "outputs_hidden": false
    }
   },
   "outputs": [],
   "source": [
    "import random \n",
    "\n",
    "# Generates a random number between 1 and 10.\n",
    "secret = random.randint(1, 10)\n",
    "\n",
    "guess = int(input('Enter a number between 1 and 10: '))\n",
    "if guess == secret:\n",
    "    print('You got it')\n",
    "else:\n",
    "    print('Better luck next time')\n",
    "    if guess > secret:\n",
    "        print('Too high')\n",
    "    else:\n",
    "        print('Too low')"
   ]
  },
  {
   "cell_type": "markdown",
   "metadata": {},
   "source": [
    "##### c) Practice Exercise: More complex `if` Statements\n",
    "\n",
    "According to Wikipedia, borderline QTc for men is 431ms-450ms and for women it is 451ms-470ms. Set the variable `sex` to `'male'` or `'female'`), and write a program that uses the variables `HR` (heartrate), `QT` (uncorrected QT interval), and `sex `(`'male'` or `'female'`) to print one of the strings `'normal QTc'`, `'borderline QTc'`, or \n",
    "`'abnormal QTc'`.  Here is some starter code:"
   ]
  },
  {
   "cell_type": "code",
   "execution_count": null,
   "metadata": {},
   "outputs": [],
   "source": [
    "hr = 80\n",
    "qt = 300\n",
    "sex = \"male\"\n",
    "rr = 60 / hr\n",
    "\n",
    "# Compute the corrected QT interval (QTc)\n",
    "qtc = qt / (rr ** (1 / 3))   \n",
    "\n",
    "# Add code to print the appropriate message about the patient's QTc."
   ]
  },
  {
   "cell_type": "code",
   "execution_count": null,
   "metadata": {
    "collapsed": false,
    "jupyter": {
     "outputs_hidden": false
    }
   },
   "outputs": [],
   "source": [
    "if sex == \"female\":\n",
    "    if qtc > 450:\n",
    "        print(\"Abnormal QTc\")\n",
    "    elif qtc >= 431:\n",
    "        print(\"Borderline QTc\")\n",
    "    else:\n",
    "        print(\"Normal QTc\")\n",
    "elif sex == \"male\":\n",
    "    if qtc > 470:\n",
    "        print(\"Abnormal QTc\")\n",
    "    elif qtc >= 451:\n",
    "        print(\"Borderline QTc\")\n",
    "    else:\n",
    "        print(\"Normal QTc\")"
   ]
  },
  {
   "cell_type": "markdown",
   "metadata": {},
   "source": [
    "##### d) Practice Exercise: An interactive system for telling the user if their QTc is abnormal\n",
    "\n",
    "Write a program that asks the user for their sex, QT interval, and heartrate, and outputs whether their QTc is normal/borderline/abnormal."
   ]
  },
  {
   "cell_type": "code",
   "execution_count": null,
   "metadata": {
    "collapsed": false,
    "jupyter": {
     "outputs_hidden": false
    }
   },
   "outputs": [],
   "source": [
    "# Rather than \"hard code\" the values assigned to hr, qt, and sex, prompt the user\n",
    "# to enter values:\n",
    "hr = # TODO: add code here\n",
    "qt = # TODO: add code here\n",
    "sex = # TODO: add code here\n",
    "rr = 60 / hr\n",
    "\n",
    "qtc = qt / (rr ** (1 / 3))   #Compute the corrected QT interval\n",
    "\n",
    "# TODO: Add your if statement code from the previous practice exercise here."
   ]
  },
  {
   "cell_type": "code",
   "execution_count": null,
   "metadata": {
    "collapsed": false,
    "jupyter": {
     "outputs_hidden": false
    }
   },
   "outputs": [],
   "source": [
    "# Rather than \"hard code\" the values assigned to hr, qt, and sex, prompt the user\n",
    "# to enter values:\n",
    "hr = int(input('Heart rate: '))\n",
    "qt = int(input('QT: '))\n",
    "sex = input('sex: ' )\n",
    "rr = 60 / hr\n",
    "\n",
    "qtc = qt / (rr ** (1 / 3))   #Compute the corrected QT interval\n",
    "\n",
    "# TODO: Add your if statement code from the previous practice exercise here.\n",
    "if sex == \"female\":\n",
    "    if qtc > 450:\n",
    "        print(\"Abnormal QTc\")\n",
    "    elif qtc >= 431:\n",
    "        print(\"Borderline QTc\")\n",
    "    else:\n",
    "        print(\"Normal QTc\")\n",
    "elif sex == \"male\":\n",
    "    if qtc > 470:\n",
    "        print(\"Abnormal QTc\")\n",
    "    elif qtc >= 451:\n",
    "        print(\"Borderline QTc\")\n",
    "    else:\n",
    "        print(\"Normal QTc\")\n",
    "\n",
    "else:\n",
    "    print(\"Enter 'male' or 'female' as the sex\")"
   ]
  },
  {
   "cell_type": "markdown",
   "metadata": {},
   "source": [
    "##### e) Practice Exercise: rewrite without `if`\n",
    "\n",
    "Rewrite the body of the following function, without using `if` statements:"
   ]
  },
  {
   "cell_type": "code",
   "execution_count": null,
   "metadata": {},
   "outputs": [],
   "source": [
    "def is_teenager(age):\n",
    "    \"\"\" (int) -> bool\n",
    "    \n",
    "    Return True iff age represents a teenager between 13 and 18 inclusive.\n",
    "    \n",
    "    >>> is_teenager(4)\n",
    "    False\n",
    "    >>> is_teenager(16)\n",
    "    True\n",
    "    >>> is_teenager(19)\n",
    "    False\n",
    "    \"\"\"\n",
    "    if age < 13:\n",
    "        return False\n",
    "    else:\n",
    "        if age > 18:\n",
    "            return False\n",
    "        else:\n",
    "            return True"
   ]
  },
  {
   "cell_type": "code",
   "execution_count": null,
   "metadata": {},
   "outputs": [],
   "source": [
    "def is_teenager(age):\n",
    "     return age >= 13 and age <=18\n",
    "    # Alternative:\n",
    "    # return 13 <= age <= 18"
   ]
  },
  {
   "cell_type": "markdown",
   "metadata": {},
   "source": [
    "#### 2. `for` loop over `str`"
   ]
  },
  {
   "cell_type": "markdown",
   "metadata": {},
   "source": [
    "##### a) Practice Exercise: Understanding Loops\n",
    "\n",
    "Consider this code:\n",
    "\n",
    "    s = 'medicine'\n",
    "    for ch in s:\n",
    "        print(ch)\n",
    "\n",
    "Modify the code above so that `medicine` is printed once for each character in the string (instead of the single characters)."
   ]
  },
  {
   "cell_type": "code",
   "execution_count": null,
   "metadata": {
    "collapsed": false,
    "jupyter": {
     "outputs_hidden": false
    }
   },
   "outputs": [],
   "source": [
    "s = 'medicine'\n",
    "for ch in s:\n",
    "    print(s)"
   ]
  },
  {
   "cell_type": "markdown",
   "metadata": {},
   "source": [
    "##### b) Practice Exercise: count uppercase letters\n",
    "\n",
    "Define a function named `count_upper` that has one `str` parameter and returns the number of uppercase letters in the given string."
   ]
  },
  {
   "cell_type": "code",
   "execution_count": null,
   "metadata": {
    "collapsed": false,
    "jupyter": {
     "outputs_hidden": false
    },
    "scrolled": true
   },
   "outputs": [],
   "source": [
    "def count_upper(s):\n",
    "    \"\"\" (str) -> int\n",
    "    \n",
    "    Return the number of uppercase letters in s.\n",
    "    \n",
    "    >>> count_upper('abc')\n",
    "    0\n",
    "    >>> count_upper('aAbBcC')\n",
    "    3\n",
    "    \"\"\"\n",
    "    count = 0\n",
    "    for ch in s:\n",
    "        if ch.isupper():\n",
    "            count = count + 1\n",
    "    return count\n",
    "print(count_upper('abc'))\n",
    "print(count_upper('aAbBcC'))"
   ]
  },
  {
   "cell_type": "markdown",
   "metadata": {},
   "source": [
    "##### c) Practice Exercise: get uppercase letters\n",
    "\n",
    "Define a function named `get_upper` that has one `str` parameter and returns a string containing the uppercase letters from the given string."
   ]
  },
  {
   "cell_type": "code",
   "execution_count": null,
   "metadata": {
    "collapsed": false,
    "jupyter": {
     "outputs_hidden": false
    }
   },
   "outputs": [],
   "source": [
    "def get_upper(s):\n",
    "    \"\"\" (str) -> str\n",
    "    \n",
    "    Return a string containing the uppercase letters in s.\n",
    "    \n",
    "    >>> count_upper('abc')\n",
    "    ''\n",
    "    >>> count_upper('aAbBcC')\n",
    "    'ABC'\n",
    "    \"\"\"\n",
    "    upper = ''\n",
    "    for ch in s:\n",
    "        if ch.isupper():\n",
    "            upper = upper + ch\n",
    "    return upper\n",
    "    \n",
    "print(count_upper('abc'))\n",
    "print(count_upper('aAbBcC'))"
   ]
  },
  {
   "cell_type": "markdown",
   "metadata": {},
   "source": [
    "#### 3. Lists and Loops"
   ]
  },
  {
   "cell_type": "markdown",
   "metadata": {},
   "source": [
    "##### a) Practice Exercise: `range`\n",
    "\n",
    "Use `range` and a `for` loop to print every 4th number from 0 to 200, inclusive"
   ]
  },
  {
   "cell_type": "code",
   "execution_count": null,
   "metadata": {},
   "outputs": [],
   "source": [
    "for i in range(0, 200, 4):\n",
    "    print(i)"
   ]
  },
  {
   "cell_type": "markdown",
   "metadata": {},
   "source": [
    "##### b) Practice Exercise: Iteration and Accumulation\n",
    "\n",
    "Once we know the sum of a list, computing the average is straight forward: all we need to do is divide the sum by the number of elements. \n",
    "\n",
    "First, consider how you can get the number of items in a list, using one of Python's built-in functions. Now, compute the average of the items in `gross_earnings`:"
   ]
  },
  {
   "cell_type": "code",
   "execution_count": null,
   "metadata": {},
   "outputs": [],
   "source": [
    "gross_earnings = [361681, 740741, 396105,  284600, 249154]"
   ]
  },
  {
   "cell_type": "code",
   "execution_count": null,
   "metadata": {
    "collapsed": false,
    "jupyter": {
     "outputs_hidden": false
    }
   },
   "outputs": [],
   "source": [
    "total = 0    \n",
    "for i in range(len(gross_earnings)):\n",
    "    total = total + gross_earnings[i]\n",
    "    print(\"At iteration\", i, \"s = \", s)\n",
    "\n",
    "print(\"Final total:\", total)   \n",
    "print(\"Average:\", total/len(gross_earnings)) # New line of code."
   ]
  },
  {
   "cell_type": "markdown",
   "metadata": {},
   "source": [
    "##### c) Practice Exercise : Conditional + Loops \n",
    "\n",
    "Compute the average of `gross_earnings`, but exclude any earnings that are not within the range from 250000 (inclusive) to 400000 (exclusive)."
   ]
  },
  {
   "cell_type": "code",
   "execution_count": null,
   "metadata": {
    "collapsed": false,
    "jupyter": {
     "outputs_hidden": false
    }
   },
   "outputs": [],
   "source": [
    "gross_earnings = [361681, 740741, 396105,  284600, 249154]\n",
    "total = 0\n",
    "count = 0\n",
    "\n",
    "for i in range(len(gross_earnings)):\n",
    "    if gross_earnings[i] > 400000:\n",
    "        print(gross_earnings[i], \": Too high, excluded\")\n",
    "    elif gross_earnings[i] >= 250000:\n",
    "        total = total + gross_earnings[i]\n",
    "        count = count + 1\n",
    "    else:\n",
    "        print(gross_earnings[i], \": Too low, excluded\")\n",
    "        \n",
    "print(\"The sum of earnings in the 250000 to 400000 range is\", total)\n",
    "print(\"The number of elements added into total is\", count)\n",
    "print(\"The average of earnings in the 250000 to 400000 range is\", total / count)"
   ]
  },
  {
   "cell_type": "markdown",
   "metadata": {},
   "source": [
    "##### d) Practice Exercise: list of str, conditionals, and loops\n",
    "\n",
    "Consider a list of strings that are represent handedness of subjects in a study and looks something like this:\n",
    "\n",
    "    hands = [\"left\", \"right\", \"right\", \"right\", \"left\", \"mixed\", \"right\", ...]\n",
    "    \n",
    "The only elements in the list are the strings `\"right\"`, `\"left\"`, or `\"mixed\"`. \n",
    "\n",
    "Write a program that will work on any such list and print the percentage of subjects from each category of handedness. For example, if you were to run it on the list `[\"right\", \"left\", \"right\", \"right\"]`, it should print the output:\n",
    "Right-handed: 75 %\n",
    "Left-handed: 25 %\n",
    "Mixed-handed: 0 %\n",
    "\n",
    "Don’t worry about formatting the numbers. You might see `75.00000` as your result and that’s fine for now. Name your program handed.py."
   ]
  },
  {
   "cell_type": "code",
   "execution_count": null,
   "metadata": {
    "collapsed": false,
    "jupyter": {
     "outputs_hidden": false
    }
   },
   "outputs": [],
   "source": [
    "hands = [\"left\", \"right\", \"right\", \"right\", \"left\", \"mixed\", \"right\"]\n",
    "right = 0\n",
    "left = 0\n",
    "mixed = 0\n",
    "\n",
    "for value in hands:\n",
    "    if value == 'right':\n",
    "        right += 1\n",
    "    elif value == 'left':\n",
    "        left += 1\n",
    "    else:\n",
    "        mixed += 1\n",
    "\n",
    "total = right + left + mixed\n",
    "\n",
    "print('Right-handed:', right / total * 100, '%')\n",
    "print('Left-handed:', left / total * 100, '%')\n",
    "print('Mixed-handed:', mixed / total * 100, '%')"
   ]
  },
  {
   "cell_type": "markdown",
   "metadata": {},
   "source": [
    "#### 4. List Mutability"
   ]
  },
  {
   "cell_type": "markdown",
   "metadata": {},
   "source": [
    "##### a) Practice Exercise: Building a new list\n",
    "\n",
    "Complete the following function according to its docstring description:"
   ]
  },
  {
   "cell_type": "code",
   "execution_count": null,
   "metadata": {},
   "outputs": [],
   "source": [
    "def report_digits(original_list):\n",
    "    \"\"\" (list of str) -> list of bool \n",
    "    \n",
    "    >>> report_digits(['98', 'a', '5'])\n",
    "    [True, False, True]\n",
    "    \n",
    "    Return a new list in wich each item is True if the correponding item from \n",
    "    original_list is composed entirely of digits, and False otherwise.\n",
    "    \"\"\""
   ]
  },
  {
   "cell_type": "code",
   "execution_count": null,
   "metadata": {
    "collapsed": false,
    "jupyter": {
     "outputs_hidden": false
    }
   },
   "outputs": [],
   "source": [
    "def report_digits(original_list):\n",
    "    \"\"\" (list of str) -> list of bool \n",
    "    \n",
    "    >>> report_digits(['98', 'a', '5'])\n",
    "    [True, False, True]\n",
    "    \n",
    "    Return a new list in whgit ich each item is True if the correponding item from \n",
    "    original_list is composed entirely of digits, and False otherwise.\n",
    "    \"\"\"\n",
    "    \n",
    "    result = []\n",
    "    for item in original_list:\n",
    "        if item.isdigit():\n",
    "            result.append(True)\n",
    "        else:\n",
    "            result.append(False)\n",
    "    return result\n",
    "\n",
    "report_digits(['98', 'a', '5'])"
   ]
  },
  {
   "cell_type": "markdown",
   "metadata": {},
   "source": [
    "##### b) Practice Exercise:  Modifying an existing list\n",
    "\n",
    "Complete the following function according to its docstring description:"
   ]
  },
  {
   "cell_type": "code",
   "execution_count": null,
   "metadata": {},
   "outputs": [],
   "source": [
    "def replace_digits(original_list):\n",
    "    \"\"\" (list of str) -> NoneType\n",
    "    \n",
    "    >>> data = ['98', 'a', '5']\n",
    "    >>> replace_digits(data)\n",
    "    >>> data\n",
    "    \n",
    "    Replace each item in original_list with True if it is composed entiredly of digits,\n",
    "    and with False otherwise.\n",
    "    \"\"\""
   ]
  },
  {
   "cell_type": "code",
   "execution_count": null,
   "metadata": {
    "collapsed": false,
    "jupyter": {
     "outputs_hidden": false
    }
   },
   "outputs": [],
   "source": [
    "def replace_digits(original_list):\n",
    "    \"\"\" (list of str) -> NoneType\n",
    "    \n",
    "    >>> data = ['98', 'a', '5']\n",
    "    >>> replace_digits(data)\n",
    "    >>> data\n",
    "    \n",
    "    Replace each item in original_list with True if it is composed entiredly of digits,\n",
    "    and with False otherwise.\n",
    "    \"\"\"\n",
    "    \n",
    "    for i in range(len(original_list)):\n",
    "        if original_list[i].isdigit():\n",
    "            original_list[i] = True\n",
    "        else:\n",
    "            original_list[i] = False\n",
    "            \n",
    "\n",
    "data = ['98', 'a', '5']\n",
    "replace_digits(data)\n",
    "data"
   ]
  },
  {
   "cell_type": "markdown",
   "metadata": {},
   "source": [
    "#### 5. Parallel lists and strings"
   ]
  },
  {
   "cell_type": "markdown",
   "metadata": {},
   "source": [
    "##### a) Practice Exercise: parallel lists\n",
    "\n",
    "We store patient data in two lists of the same length. For example:\n",
    "\n",
    "        sex_data =             [\"m\", \"f\", \"f\", \"m\", \"m\", \"f\"]\n",
    "        ward_data =            [  1,   3,   2,   2,   1,   2] \n",
    "        duration_data =       [ 10,   5,   7,   2,   3,   4]\n",
    "\n",
    "Write a function that computes the average length of stay in the hospital for a given sex, in a given ward. The function signature is:"
   ]
  },
  {
   "cell_type": "code",
   "execution_count": null,
   "metadata": {},
   "outputs": [],
   "source": [
    "def avg_stay(sex, ward, sex_data, ward_data, duration_data):\n",
    "    \"\"\" (str, int, list of int, list of str, list of int) -> float\n",
    "    \n",
    "    Return the average duration of stay for patients of sex sex in ward ward,\n",
    "    given parallel list of sexes sex_data, list of wards ward_data, and \n",
    "    list of duration of stay duration_data.\n",
    "    \n",
    "    >>> sex_data =             [\"m\", \"f\", \"f\", \"m\", \"m\", \"f\"]\n",
    "    >>> ward_data =            [  1,   3,   2,   2,   1,   2] \n",
    "    >>> duration_data =  [ 10,   5,   7,   2,   3,   4]\n",
    "    >>> avg_stay(\"f\", 2, sex_data, ward_data, duration_data)\n",
    "    5.5\n",
    "    \"\"\"\n"
   ]
  },
  {
   "cell_type": "code",
   "execution_count": null,
   "metadata": {},
   "outputs": [],
   "source": [
    "def avg_stay(sex, ward, sex_data, ward_data, duration_data):\n",
    "    \"\"\" (str, int, list of int, list of str, list of int) -> float\n",
    "    \n",
    "    Return the average duration of stay for patients of sex sex in ward ward,\n",
    "    given parallel list of sexes sex_data, list of wards ward_data, and \n",
    "    list of duration of stay duration_data.\n",
    "    \n",
    "    >>> sex_data =             [\"m\", \"f\", \"f\", \"m\", \"m\", \"f\"]\n",
    "    >>> ward_data =            [  1,   3,   2,   2,   1,   2] \n",
    "    >>> duration_data =  [ 10,   5,   7,   2,   3,   4]\n",
    "    >>> avg_stay(\"f\", 2, sex_data, ward_data, duration_data)\n",
    "    5.5\n",
    "    \"\"\"\n",
    "\n",
    "    patient_count = 0\n",
    "    duration_total = 0\n",
    "\n",
    "    for i in range(len(sex_data)):\n",
    "        if sex_data[i] == sex and ward_data[i] == ward:\n",
    "            patient_count = patient_count + 1\n",
    "            duration_total = duration_total + duration_data[i]\n",
    "\n",
    "    return duration_total / patient_count"
   ]
  },
  {
   "cell_type": "markdown",
   "metadata": {},
   "source": [
    "##### b)  Practice Exercise: matching strings\n",
    "\n",
    "Write a function that returns True iff string `s1` starts with string `s2`. For example, \n",
    "\n",
    "``starts_with(\"abc\", \"ab\")`` should return ``True``\n",
    "\n",
    "``starts_with(\"ad\", \"ab\")`` should return ``False``"
   ]
  },
  {
   "cell_type": "code",
   "execution_count": null,
   "metadata": {},
   "outputs": [],
   "source": [
    "def starts_with(s1, s2):\n",
    "    \"\"\" (str, str) -> bool\n",
    "    \n",
    "    Return True iff the string s1 starts with the string s2.\n",
    "    \n",
    "    >>> starts_with(\"abc\", \"ab\")\n",
    "    True\n",
    "    >>> starts_with(\"ad\", \"ab\")\n",
    "    False    \n",
    "    \"\"\"\n",
    "    \n",
    "    if len(s2) > len(s1):\n",
    "        return False\n",
    "    \n",
    "    for i in range(len(s2)):\n",
    "        if s1[i] != s2[i]:\n",
    "            return False\n",
    "        \n",
    "    return True"
   ]
  }
 ],
 "metadata": {
  "kernelspec": {
   "display_name": "Python 3",
   "language": "python",
   "name": "python3"
  },
  "language_info": {
   "codemirror_mode": {
    "name": "ipython",
    "version": 3
   },
   "file_extension": ".py",
   "mimetype": "text/x-python",
   "name": "python",
   "nbconvert_exporter": "python",
   "pygments_lexer": "ipython3",
   "version": "3.6.13"
  }
 },
 "nbformat": 4,
 "nbformat_minor": 4
}
