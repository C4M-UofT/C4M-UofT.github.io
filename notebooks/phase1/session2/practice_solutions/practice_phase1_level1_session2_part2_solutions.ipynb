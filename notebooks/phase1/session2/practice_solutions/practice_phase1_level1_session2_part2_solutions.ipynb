{
 "cells": [
  {
   "cell_type": "markdown",
   "metadata": {},
   "source": [
    "### Phase 1, Level 1, Session 2: Practice Exercises (Part 2)"
   ]
  },
  {
   "cell_type": "markdown",
   "metadata": {},
   "source": [
    "#### 1. Lists and Loops"
   ]
  },
  {
   "cell_type": "markdown",
   "metadata": {},
   "source": [
    "##### a) Practice Exercise: `range`\n",
    "\n",
    "Use `range` and a `for` loop to print every 4th number from 0 to 200, inclusive"
   ]
  },
  {
   "cell_type": "code",
   "execution_count": null,
   "metadata": {
    "collapsed": false,
    "jupyter": {
     "outputs_hidden": false
    }
   },
   "outputs": [],
   "source": [
    "for i in range(0, 200, 4):\n",
    "    print(i)"
   ]
  },
  {
   "cell_type": "markdown",
   "metadata": {},
   "source": [
    "##### b) Practice Exercise: Iteration and Accumulation\n",
    "\n",
    "Once we know the sum of a list, computing the average is straight forward: all we need to do is divide the sum by the number of elements. \n",
    "\n",
    "First, consider how you can get the number of items in a list, using one of Python's built-in functions. Now, compute the average of the items in `gross_earnings`:"
   ]
  },
  {
   "cell_type": "code",
   "execution_count": null,
   "metadata": {},
   "outputs": [],
   "source": [
    "gross_earnings = [361681, 740741, 396105,  284600, 249154]"
   ]
  },
  {
   "cell_type": "code",
   "execution_count": null,
   "metadata": {
    "collapsed": false,
    "jupyter": {
     "outputs_hidden": false
    }
   },
   "outputs": [],
   "source": [
    "total = 0    \n",
    "for i in range(len(gross_earnings)):\n",
    "    total = total + gross_earnings[i]\n",
    "    print(\"At iteration\", i, \"s = \", s)\n",
    "\n",
    "print(\"Final total:\", total)   \n",
    "print(\"Average:\", s/len(gross_earnings)) # New line of code."
   ]
  },
  {
   "cell_type": "markdown",
   "metadata": {},
   "source": [
    "##### c) Practice Exercise : Conditional + Loops \n",
    "\n",
    "Compute the average of `gross_earnings`, but exclude any earnings that are not within the range from 250000 (inclusive) to 400000 (exclusive)."
   ]
  },
  {
   "cell_type": "code",
   "execution_count": null,
   "metadata": {
    "collapsed": false,
    "jupyter": {
     "outputs_hidden": false
    }
   },
   "outputs": [],
   "source": [
    "gross_earnings = [361681, 740741, 396105,  284600, 249154]\n",
    "total = 0\n",
    "count = 0\n",
    "\n",
    "for i in range(len(gross_earnings)):\n",
    "    if gross_earnings[i] > 400000:\n",
    "        print(gross_earnings[i], \": Too high, excluded\")\n",
    "    elif gross_earnings[i] >= 250000:\n",
    "        total = total + gross_earnings[i]\n",
    "        count = count + 1\n",
    "    else:\n",
    "        print(gross_earnings[i], \": Too low, excluded\")\n",
    "        \n",
    "print(\"The sum of earnings in the 250000 to 400000 range is\", total)\n",
    "print(\"The number of elements added into total is\", count)\n",
    "print(\"The average of earnings in the 250000 to 400000 range is\", total / count)"
   ]
  },
  {
   "cell_type": "markdown",
   "metadata": {},
   "source": [
    "##### d) Practice Exercise: list of str, conditionals, and loops\n",
    "\n",
    "Consider a list of strings that are represent handedness of subjects in a study and looks something like this:\n",
    "\n",
    "    hands = [\"left\", \"right\", \"right\", \"right\", \"left\", \"mixed\", \"right\", ...]\n",
    "    \n",
    "The only elements in the list are the strings `\"right\"`, `\"left\"`, or `\"mixed\"`. \n",
    "\n",
    "Write a program that will work on any such list and print the percentage of subjects from each category of handedness. For example, if you were to run it on the list `[\"right\", \"left\", \"right\", \"right\"]`, it should print the output:\n",
    "Right-handed: 75 %\n",
    "Left-handed: 25 %\n",
    "Mixed-handed: 0 %\n",
    "\n",
    "Don’t worry about formatting the numbers. You might see `75.00000` as your result and that’s fine for now. Name your program handed.py."
   ]
  },
  {
   "cell_type": "code",
   "execution_count": null,
   "metadata": {
    "collapsed": false,
    "jupyter": {
     "outputs_hidden": false
    }
   },
   "outputs": [],
   "source": [
    "hands = [\"left\", \"right\", \"right\", \"right\", \"left\", \"mixed\", \"right\"]\n",
    "right = 0\n",
    "left = 0\n",
    "mixed = 0\n",
    "\n",
    "for value in hands:\n",
    "    if value == 'right':\n",
    "        right += 1\n",
    "    elif value == 'left':\n",
    "        left += 1\n",
    "    else:\n",
    "        mixed += 1\n",
    "\n",
    "total = right + left + mixed\n",
    "\n",
    "print('Right-handed:', right / total * 100, '%')\n",
    "print('Left-handed:', left / total * 100, '%')\n",
    "print('Mixed-handed:', mixed / total * 100, '%')"
   ]
  }
 ],
 "metadata": {
  "kernelspec": {
   "display_name": "Python 3",
   "language": "python",
   "name": "python3"
  },
  "language_info": {
   "codemirror_mode": {
    "name": "ipython",
    "version": 3
   },
   "file_extension": ".py",
   "mimetype": "text/x-python",
   "name": "python",
   "nbconvert_exporter": "python",
   "pygments_lexer": "ipython3",
   "version": "3.6.13"
  }
 },
 "nbformat": 4,
 "nbformat_minor": 4
}
