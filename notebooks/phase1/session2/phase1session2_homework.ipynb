{
 "cells": [
  {
   "cell_type": "markdown",
   "metadata": {
    "id": "IhQvi7z1v6rm"
   },
   "source": [
    "# Instructions"
   ]
  },
  {
   "cell_type": "markdown",
   "metadata": {
    "id": "Bn1O08Wvv8xg"
   },
   "source": [
    "## Hidden Code\n",
    "The notebook contains several hidden code cells, which are displayed as three dots. To run these, select the above cell and press run twice (either by the buttons on the top, or the \"shift\" + \"return\" hotkey). Once the hidden code cell runs, a message such as \"Done\" or your evaluation results should appear. If the code expands, please collapse it using the column on the left. You don't need to edit or understand the code in these cells. \n"
   ]
  },
  {
   "cell_type": "markdown",
   "metadata": {
    "id": "T9OlGOI9v_wo"
   },
   "source": [
    "## Starting Out\n",
    "The first cell in the exercise section is titled \"Run the hidden code cell before starting\". This should be run everytime a new kernel/runtime is started. If run correctly, the message \"Done!\" should appear underneath."
   ]
  },
  {
   "cell_type": "markdown",
   "metadata": {
    "id": "S53yKXI1NEf-"
   },
   "source": [
    "## Exercises\n",
    "This is followed by all the exercises of the notebook. An exercise generally consists of 4 cells. \n",
    "1.   The first cell provides a description of the function you need to implement. \n",
    "2.   The second cell contains the starter code, and contains a comment indicating where you should write your code. Your entire implementation will go in this cell. \n",
    "3.   The third cell is a testing cell for your own testing. Feel free to write any code you like here to test your function is working correctly.\n",
    "4.   The last cell contains hidden code to run test cases on your function. This cell, when run, will provide a mark on your implementation. If implemented correctly, you should get full marks."
   ]
  },
  {
   "cell_type": "markdown",
   "metadata": {
    "id": "8t9e19amwDDn"
   },
   "source": [
    "## Completion\n",
    "The completion cell runs all the test cases in the notebook on all the functions. If this cell returns full marks, this means the notebook is complete and you can submit it."
   ]
  },
  {
   "cell_type": "markdown",
   "metadata": {
    "id": "xmw-S6wCb7ic"
   },
   "source": [
    "# Phase 1: Session 2 Homework"
   ]
  },
  {
   "cell_type": "markdown",
   "metadata": {
    "id": "B6v86VjQmIrK"
   },
   "source": [
    "## Important: Run the hidden code cell before starting"
   ]
  },
  {
   "cell_type": "code",
   "execution_count": null,
   "metadata": {
    "id": "CR3MVg81IvWX",
    "jupyter": {
     "source_hidden": true
    }
   },
   "outputs": [],
   "source": [
    "def test(test_name, actual, expected):\n",
    "  if(actual == expected):\n",
    "    return 1\n",
    "  else:\n",
    "    print(\"Test failed. \" + test_name + \" expected \" + str(expected) + \", got \" + str(actual))\n",
    "    return 0\n",
    "\n",
    "print(\"Done!\")"
   ]
  },
  {
   "cell_type": "markdown",
   "metadata": {
    "id": "JaiexZJjTnPr"
   },
   "source": [
    "## Exercise 1: Fecal Occult Blood Test\n",
    "\n",
    "It is recommended that a focal occult blood test (FOBT) is given once every year for colorectal cancer screening. The patient brings home a kit to do the testing and sends it back to the lab. There are three tests within the kit and each test result is either negative or positive. If all three are negative, the test will be repeated in a year. If at least 1 of the 3 comes back positive, then the patient should be sent for a colonoscopy.\n",
    "\n",
    "Write a function `fobt()` that has three boolean parameters representing the results of the three tests. We will use `True` to represent a positive test and `False` to represent a negative test. Your function should either return `'Repeat tests in 1 year'` or `'Book for colonoscopy'` according to the test results.\n",
    "\n",
    "Follow the Function Design Recipe and write your docstring first."
   ]
  },
  {
   "cell_type": "code",
   "execution_count": null,
   "metadata": {
    "id": "fBR-Zz5_T6w2"
   },
   "outputs": [],
   "source": [
    "# Write your function here\n",
    "def fobt(test1, test2, test3):\n",
    "    \"\"\" \n",
    "    \n",
    "    \"\"\"\n",
    "\n"
   ]
  },
  {
   "cell_type": "code",
   "execution_count": null,
   "metadata": {
    "id": "hVnQvxEhT-cR"
   },
   "outputs": [],
   "source": [
    "# Test your function here"
   ]
  },
  {
   "cell_type": "markdown",
   "metadata": {
    "id": "QBFJaXPUmIrV"
   },
   "source": [
    "#### Run the hidden code cell to evaluate Exercise 1"
   ]
  },
  {
   "cell_type": "code",
   "execution_count": null,
   "metadata": {
    "cellView": "form",
    "id": "LoqPu0ymUJX0",
    "jupyter": {
     "source_hidden": true
    }
   },
   "outputs": [],
   "source": [
    "# Do not edit this cell\n",
    "score = 0\n",
    "max = 5\n",
    "score += test(\"Only first test is positive\", fobt(True, False, False), \"Book for colonoscopy\")\n",
    "score += test(\"Only second test is positive\", fobt(False, True, False), \"Book for colonoscopy\")\n",
    "score += test(\"All tests are negative\", fobt(False, False, False), \"Repeat tests in 1 year\")\n",
    "score += test(\"First and Third tests positive\", fobt(False, True, False), \"Book for colonoscopy\")\n",
    "score += test(\"All tests are positive\", fobt(True, False, True), \"Book for colonoscopy\")\n",
    "if score == max:\n",
    "    print(\"All test cases passed!\")\n",
    "  \n",
    "print(\"Mark: \" + str(score) + \"/\" + str(max))"
   ]
  },
  {
   "cell_type": "markdown",
   "metadata": {
    "id": "LQCKVkhjXBMN"
   },
   "source": [
    "## Exercise 2: Checking String Casing\n",
    "\n",
    "Complete this function according to its docstring description."
   ]
  },
  {
   "cell_type": "code",
   "execution_count": null,
   "metadata": {
    "id": "tzRgF_iyXHas"
   },
   "outputs": [],
   "source": [
    "def upper_lower(s):\n",
    "    \"\"\" (str) -> bool\n",
    "    \n",
    "    Return True if and only if there is at least one alphabetic character in s and the alphabetic characters in s\n",
    "    are either all uppercase or all lowercase.\n",
    "    \n",
    "    >>> upper_lower('abc')\n",
    "    True\n",
    "    >>> upper_lower('abcXYZ')\n",
    "    False\n",
    "    >>> upper_lower('XYZ')\n",
    "    True\n",
    "    \"\"\"\n",
    "    # Write your code here"
   ]
  },
  {
   "cell_type": "code",
   "execution_count": null,
   "metadata": {
    "id": "gPPBe6YmXPSH"
   },
   "outputs": [],
   "source": [
    "# Test your function here"
   ]
  },
  {
   "cell_type": "markdown",
   "metadata": {
    "id": "9OCg73almIrW"
   },
   "source": [
    "#### Run hidden code cell to evaluate Exercise 2"
   ]
  },
  {
   "cell_type": "code",
   "execution_count": null,
   "metadata": {
    "id": "8HeC-ozmXgpg",
    "jupyter": {
     "source_hidden": true
    }
   },
   "outputs": [],
   "source": [
    "# (Do not edit this cell)\n",
    "score = 0\n",
    "max = 5\n",
    "\n",
    "score += test(\"all lowercase\", upper_lower('abcdef'), True)\n",
    "score += test(\"all uppercase\", upper_lower('ABCDEF'), True)\n",
    "score += test(\"mix of upper and lower\", upper_lower('abcXYZ'), False)\n",
    "score += test(\"mix of letters and non-letters\", upper_lower('XYZ123'), True)\n",
    "score += test(\"all numeric\", upper_lower('123'), False)\n",
    "\n",
    "if score == max:\n",
    "  print(\"All test cases passed!\") \n",
    "\n",
    "print(\"Mark: \" + str(score) + \"/\" + str(max))"
   ]
  },
  {
   "cell_type": "markdown",
   "metadata": {
    "id": "w0gmV_f9yJwu"
   },
   "source": [
    "# Homework Completion\n",
    "Run this hidden code cell to check that you've successfully completed all of the exercises."
   ]
  },
  {
   "cell_type": "code",
   "execution_count": null,
   "metadata": {
    "id": "1nPQEMQkuBjr",
    "jupyter": {
     "source_hidden": true
    }
   },
   "outputs": [],
   "source": [
    "score = 0\n",
    "max = 17\n",
    "\n",
    "try:\n",
    "  score += test(\"is_multiple_of_3(15)\", is_multiple_of_3(15), True)\n",
    "  score += test(\"is_multiple_of_3(7)\", is_multiple_of_3(8), False)\n",
    "  score += test(\"is_multiple_of_3(11)\", is_multiple_of_3(11), False)\n",
    "  score += test(\"is_multiple_of_3(-3)\", is_multiple_of_3(-3), True)\n",
    "\n",
    "  score += test(\"is_multiple(15, 3)\", is_multiple(15, 3), True)\n",
    "  score += test(\"is_multiple(7, 2)\", is_multiple(7, 2), False)\n",
    "  score += test(\"is_multiple(-2, 2)\", is_multiple(-2, 2), True)\n",
    "\n",
    "  score += test(\"Only first test is positive\", fobt(True, False, False), \"Book for colonoscopy\")\n",
    "  score += test(\"Only second test is positive\", fobt(False, True, False), \"Book for colonoscopy\")\n",
    "  score += test(\"All tests are negative\", fobt(False, False, False), \"Repeat tests in 1 year\")\n",
    "  score += test(\"First and Third tests positive\", fobt(False, True, False), \"Book for colonoscopy\")\n",
    "  score += test(\"All tests are positive\", fobt(True, False, True), \"Book for colonoscopy\")\n",
    "\n",
    "  score += test(\"all lowercase\", upper_lower('abcdef'), True)\n",
    "  score += test(\"all uppercase\", upper_lower('ABCDEF'), True)\n",
    "  score += test(\"mix of upper and lower\", upper_lower('abcXYZ'), False)\n",
    "  score += test(\"mix of letters and non-letters\", upper_lower('XYZ123'), True)\n",
    "  score += test(\"all numeric\", upper_lower('123'), False)\n",
    "except NameError:\n",
    "  print(\"Oops! It seems like some of your functions are not implemented.\")\n",
    "\n",
    "if score == max:\n",
    "  print(\"Congratulations! All tests passed. Homework Complete!\")\n",
    "elif score == 0:\n",
    "   print(\"\")\n",
    "else:\n",
    "  print(\"Some of your functions are working, but all test cases haven't passed yet. Keep on trying!\")\n",
    "\n",
    "print(\"Mark: \" + str(score) + \"/\" + str(max))"
   ]
  }
 ],
 "metadata": {
  "colab": {
   "collapsed_sections": [
    "IhQvi7z1v6rm",
    "xmw-S6wCb7ic",
    "JaiexZJjTnPr",
    "9OCg73almIrW",
    "w0gmV_f9yJwu"
   ],
   "name": "phase1session2_homework.ipynb",
   "provenance": []
  },
  "kernelspec": {
   "display_name": "Python 3",
   "language": "python",
   "name": "python3"
  },
  "language_info": {
   "codemirror_mode": {
    "name": "ipython",
    "version": 3
   },
   "file_extension": ".py",
   "mimetype": "text/x-python",
   "name": "python",
   "nbconvert_exporter": "python",
   "pygments_lexer": "ipython3",
   "version": "3.6.13"
  }
 },
 "nbformat": 4,
 "nbformat_minor": 4
}
