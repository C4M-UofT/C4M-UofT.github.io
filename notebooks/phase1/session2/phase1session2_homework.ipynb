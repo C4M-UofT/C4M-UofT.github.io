{
  "nbformat": 4,
  "nbformat_minor": 0,
  "metadata": {
    "colab": {
      "name": "phase1session2_homework.ipynb",
      "provenance": [],
      "collapsed_sections": [
        "IhQvi7z1v6rm",
        "xmw-S6wCb7ic",
        "JaiexZJjTnPr",
        "9OCg73almIrW",
        "w0gmV_f9yJwu"
      ]
    },
    "kernelspec": {
      "display_name": "Python 3",
      "language": "python",
      "name": "python3"
    },
    "language_info": {
      "codemirror_mode": {
        "name": "ipython",
        "version": 3
      },
      "file_extension": ".py",
      "mimetype": "text/x-python",
      "name": "python",
      "nbconvert_exporter": "python",
      "pygments_lexer": "ipython3",
      "version": "3.8.2"
    }
  },
  "cells": [
    {
      "cell_type": "markdown",
      "metadata": {
        "id": "IhQvi7z1v6rm"
      },
      "source": [
        "# Instructions"
      ]
    },
    {
      "cell_type": "markdown",
      "metadata": {
        "id": "Bn1O08Wvv8xg"
      },
      "source": [
        "## Hidden Code\n",
        "The notebook contains several hidden code cells, which are displayed as three dots. To run these, select the above cell and press run twice (either by the buttons on the top, or the \"shift\" + \"return\" hotkey). Once the hidden code cell runs, a message such as \"Done\" or your evaluation results should appear. If the code expands, please collapse it using the column on the left. You don't need to edit or understand the code in these cells. \n"
      ]
    },
    {
      "cell_type": "markdown",
      "metadata": {
        "id": "T9OlGOI9v_wo"
      },
      "source": [
        "## Starting Out\n",
        "The first cell in the exercise section is titled \"Run the hidden code cell before starting\". This should be run everytime a new kernel/runtime is started. If run correctly, the message \"Done!\" should appear underneath."
      ]
    },
    {
      "cell_type": "markdown",
      "metadata": {
        "id": "S53yKXI1NEf-"
      },
      "source": [
        "## Exercises\n",
        "This is followed by all the exercises of the notebook. An exercise generally consists of 4 cells. \n",
        "1.   The first cell provides a description of the function you need to implement. \n",
        "2.   The second cell contains the starter code, and contains a comment indicating where you should write your code. Your entire implementation will go in this cell. \n",
        "3.   The third cell is a testing cell for your own testing. Feel free to write any code you like here to test your function is working correctly.\n",
        "4.   The last cell contains hidden code to run test cases on your function. This cell, when run, will provide a mark on your implementation. If implemented correctly, you should get full marks."
      ]
    },
    {
      "cell_type": "markdown",
      "metadata": {
        "id": "8t9e19amwDDn"
      },
      "source": [
        "## Completion\n",
        "The completion cell runs all the test cases in the notebook on all the functions. If this cell returns full marks, this means the notebook is complete and you can submit it."
      ]
    },
    {
      "cell_type": "markdown",
      "metadata": {
        "id": "B6v86VjQmIrK"
      },
      "source": [
        "## Important: Run the hidden code cell before starting"
      ]
    },
    {
      "cell_type": "code",
      "metadata": {
        "id": "CR3MVg81IvWX",
        "jupyter": {
          "source_hidden": true
        }
      },
      "source": [
        "# Do not edit this cell (Keep hidden to keep notebook easier to read)\n",
        "def test_homework(test_name, actual, expected):\n",
        "  if(actual == expected):\n",
        "    return 1\n",
        "  else:\n",
        "    print(\"Test failed. \" + test_name + \" expected \" + str(expected) + \", got \" + str(actual))\n",
        "    return 0\n",
        "\n",
        "print(\"Done!\")"
      ],
      "execution_count": null,
      "outputs": []
    },
    {
      "cell_type": "markdown",
      "metadata": {
        "id": "kaPu_wsXwRNq"
      },
      "source": [
        "# Reminder: Function Design Recipe"
      ]
    },
    {
      "cell_type": "markdown",
      "source": [
        "Here is a quick reminder of the Function Design Recipe steps:\n",
        "\n",
        "1.   **Examples:** pick a meaningful function name; show 1 or 2 function calls with expected return values.\n",
        "2.   **Type Contract:** specify the parameter and return types\n",
        "3.   **Header:** write the first line of the function definition; pick meaningful parameter name(s).\n",
        "4.   **Description:** a description of the function; say what is returned and mention parameters by name.\n",
        "5.   **Body:** write the body of the function\n",
        "6.   **Test:** execute the function calls and check whether the values returned match what was expected."
      ],
      "metadata": {
        "id": "aFY-uZaQPZTE"
      }
    },
    {
      "cell_type": "markdown",
      "metadata": {
        "id": "hDWIfFlIwU-P"
      },
      "source": [
        "# Exercise 1: Multiple of 3"
      ]
    },
    {
      "cell_type": "markdown",
      "source": [
        "In the function below, steps 1-4 of the Function Design Recipe have been completed. Write the body of the function and then click Submit to test your function.\n",
        "\n",
        "HINT: You will probably want the remainder (or modulus) operation which is represented with the % symbol between two integers. For example 5 % 2 evaluates to 3, 14 % 5 evaluates to 4 and 4 % 4 evaluates to 0."
      ],
      "metadata": {
        "id": "aGwoS2jGPjnK"
      }
    },
    {
      "cell_type": "code",
      "metadata": {
        "id": "oSA16VUQwiy_"
      },
      "source": [
        "def is_multiple_of_3(value):\n",
        "    \"\"\" (int) -> bool\n",
        "\n",
        "    Return True iff value is an integer multiple of 3.\n",
        "\n",
        "    >>> is_multiple_of_3(15)\n",
        "    True\n",
        "    >>> is_multiple_of_3(7)\n",
        "    False\n",
        "    \"\"\"\n",
        "    # Write code here"
      ],
      "execution_count": null,
      "outputs": []
    },
    {
      "cell_type": "code",
      "metadata": {
        "id": "T8Xw6CX8wlp6"
      },
      "source": [
        "# Test your function here"
      ],
      "execution_count": null,
      "outputs": []
    },
    {
      "cell_type": "markdown",
      "metadata": {
        "id": "KO75J5dFwrFH"
      },
      "source": [
        "#### Run hidden code cell to evaluate Exercise 1"
      ]
    },
    {
      "cell_type": "code",
      "metadata": {
        "id": "AYTOzwNIw4gE"
      },
      "source": [
        "# (Do not edit this cell)\n",
        "homework_score, max_homework_score = 0, 0\n",
        "\n",
        "homework_score += test_homework(\"is_multiple_of_3(15)\", is_multiple_of_3(15), True)\n",
        "max_homework_score += 1\n",
        "homework_score += test_homework(\"is_multiple_of_3(7)\", is_multiple_of_3(8), False)\n",
        "max_homework_score += 1\n",
        "homework_score += test_homework(\"is_multiple_of_3(11)\", is_multiple_of_3(11), False)\n",
        "max_homework_score += 1\n",
        "homework_score += test_homework(\"is_multiple_of_3(-3)\", is_multiple_of_3(-3), True)\n",
        "max_homework_score += 1\n",
        "\n",
        "if homework_score == max_homework_score:\n",
        "  print(\"All test cases passed!\")\n",
        "print(\"Mark: \" + str(homework_score) + \"/\" + str(max_homework_score))"
      ],
      "execution_count": null,
      "outputs": []
    },
    {
      "cell_type": "markdown",
      "metadata": {
        "id": "6TFoiGqDw7cZ"
      },
      "source": [
        "# Exercise 2: Multiple of a Number"
      ]
    },
    {
      "cell_type": "markdown",
      "source": [
        "In the function below, steps 1-4 of the Function Design Recipe have been completed. Write the body of the function and then click Submit to test your function."
      ],
      "metadata": {
        "id": "CngtzX3XPnRV"
      }
    },
    {
      "cell_type": "code",
      "metadata": {
        "id": "KoWE2geFxEkV"
      },
      "source": [
        "def is_multiple(value1, value2):\n",
        "    \"\"\" (int, int) -> bool\n",
        "\n",
        "    Return True iff value1 is an integer multiple of value2.\n",
        "\n",
        "    >>> is_multiple(15, 3)\n",
        "    True\n",
        "    >>> is_multiple(7, 2)\n",
        "    False\n",
        "    \"\"\"\n",
        "    # Write code here"
      ],
      "execution_count": null,
      "outputs": []
    },
    {
      "cell_type": "code",
      "metadata": {
        "id": "cu4dZTk1xGau"
      },
      "source": [
        "# Test your function in this cell"
      ],
      "execution_count": null,
      "outputs": []
    },
    {
      "cell_type": "markdown",
      "metadata": {
        "id": "LbURaGgnxL-5"
      },
      "source": [
        "#### Run hidden code cell to evaluate Exercise 2"
      ]
    },
    {
      "cell_type": "code",
      "metadata": {
        "id": "eQrVhFprxM09"
      },
      "source": [
        "# (Do not edit this cell)\n",
        "homework_score, max_homework_score = 0, 0\n",
        "\n",
        "homework_score += test_homework(\"is_multiple(15, 3)\", is_multiple(15, 3), True)\n",
        "max_homework_score += 1\n",
        "homework_score += test_homework(\"is_multiple(7, 2)\", is_multiple(7, 2), False)\n",
        "max_homework_score += 1\n",
        "homework_score += test_homework(\"is_multiple(-2, 2)\", is_multiple(-2, 2), True)\n",
        "max_homework_score += 1\n",
        "if homework_score == max_homework_score:\n",
        "  print(\"All test cases passed!\") \n",
        "\n",
        "print(\"Mark: \" + str(homework_score) + \"/\" + str(max_homework_score))"
      ],
      "execution_count": null,
      "outputs": []
    },
    {
      "cell_type": "markdown",
      "metadata": {
        "id": "JaiexZJjTnPr"
      },
      "source": [
        "# Exercise 3: Fecal Occult Blood Test"
      ]
    },
    {
      "cell_type": "markdown",
      "source": [
        "It is recommended that a focal occult blood test (FOBT) is given once every year for colorectal cancer screening. The patient brings home a kit to do the testing and sends it back to the lab. There are three tests within the kit and each test result is either negative or positive. If all three are negative, the test will be repeated in a year. If at least 1 of the 3 comes back positive, then the patient should be sent for a colonoscopy.\n",
        "\n",
        "Write a function `fobt()` that has three boolean parameters representing the results of the three tests. We will use `True` to represent a positive test and `False` to represent a negative test. Your function should either return `'Repeat tests in 1 year'` or `'Book for colonoscopy'` according to the test results.\n",
        "\n",
        "Follow the Function Design Recipe and write your docstring first."
      ],
      "metadata": {
        "id": "VrAlGwqVPsnN"
      }
    },
    {
      "cell_type": "code",
      "metadata": {
        "id": "fBR-Zz5_T6w2"
      },
      "source": [
        "# Write your function here\n",
        "def fobt(test1, test2, test3):\n",
        "    \"\"\" \n",
        "    \n",
        "    \"\"\"\n",
        "\n"
      ],
      "execution_count": null,
      "outputs": []
    },
    {
      "cell_type": "code",
      "metadata": {
        "id": "hVnQvxEhT-cR"
      },
      "source": [
        "# Test your function here"
      ],
      "execution_count": null,
      "outputs": []
    },
    {
      "cell_type": "markdown",
      "metadata": {
        "id": "QBFJaXPUmIrV"
      },
      "source": [
        "#### Run the hidden code cell to evaluate Exercise 3"
      ]
    },
    {
      "cell_type": "code",
      "metadata": {
        "cellView": "form",
        "id": "LoqPu0ymUJX0",
        "jupyter": {
          "source_hidden": true
        }
      },
      "source": [
        "# Do not edit this cell\n",
        "homework_score, max_homework_score = 0, 0\n",
        "\n",
        "homework_score += test_homework(\"Only first test is positive\", fobt(True, False, False), \"Book for colonoscopy\")\n",
        "max_homework_score += 1\n",
        "homework_score += test_homework(\"Only second test is positive\", fobt(False, True, False), \"Book for colonoscopy\")\n",
        "max_homework_score += 1\n",
        "homework_score += test_homework(\"All tests are negative\", fobt(False, False, False), \"Repeat tests in 1 year\")\n",
        "max_homework_score += 1\n",
        "homework_score += test_homework(\"First and Third tests positive\", fobt(False, True, False), \"Book for colonoscopy\")\n",
        "max_homework_score += 1\n",
        "homework_score += test_homework(\"All tests are positive\", fobt(True, False, True), \"Book for colonoscopy\")\n",
        "max_homework_score += 1\n",
        "if homework_score == max_homework_score:\n",
        "    print(\"All test cases passed!\")\n",
        "  \n",
        "print(\"Mark: \" + str(homework_score) + \"/\" + str(max_homework_score))"
      ],
      "execution_count": null,
      "outputs": []
    },
    {
      "cell_type": "markdown",
      "metadata": {
        "id": "LQCKVkhjXBMN"
      },
      "source": [
        "# Exercise 4: Checking String Casing"
      ]
    },
    {
      "cell_type": "markdown",
      "source": [
        "Complete this function according to its docstring description."
      ],
      "metadata": {
        "id": "ClHyZI1DPyeZ"
      }
    },
    {
      "cell_type": "code",
      "metadata": {
        "id": "tzRgF_iyXHas"
      },
      "source": [
        "def upper_lower(s):\n",
        "    \"\"\" (str) -> bool\n",
        "    \n",
        "    Return True if and only if there is at least one alphabetic character in s and the alphabetic characters in s\n",
        "    are either all uppercase or all lowercase.\n",
        "    \n",
        "    >>> upper_lower('abc')\n",
        "    True\n",
        "    >>> upper_lower('abcXYZ')\n",
        "    False\n",
        "    >>> upper_lower('XYZ')\n",
        "    True\n",
        "    \"\"\"\n",
        "    # Write your code here"
      ],
      "execution_count": null,
      "outputs": []
    },
    {
      "cell_type": "code",
      "metadata": {
        "id": "gPPBe6YmXPSH"
      },
      "source": [
        "# Test your function here"
      ],
      "execution_count": null,
      "outputs": []
    },
    {
      "cell_type": "markdown",
      "metadata": {
        "id": "9OCg73almIrW"
      },
      "source": [
        "#### Run hidden code cell to evaluate Exercise 4"
      ]
    },
    {
      "cell_type": "code",
      "metadata": {
        "id": "8HeC-ozmXgpg",
        "jupyter": {
          "source_hidden": true
        }
      },
      "source": [
        "# (Do not edit this cell)\n",
        "homework_score, max_homework_score = 0, 0\n",
        "\n",
        "homework_score += test_homework(\"all lowercase\", upper_lower('abcdef'), True)\n",
        "max_homework_score += 1\n",
        "homework_score += test_homework(\"all uppercase\", upper_lower('ABCDEF'), True)\n",
        "max_homework_score += 1\n",
        "homework_score += test_homework(\"mix of upper and lower\", upper_lower('abcXYZ'), False)\n",
        "max_homework_score += 1\n",
        "homework_score += test_homework(\"mix of letters and non-letters\", upper_lower('XYZ123'), True)\n",
        "max_homework_score += 1\n",
        "homework_score += test_homework(\"all numeric\", upper_lower('123'), False)\n",
        "max_homework_score += 1\n",
        "\n",
        "if homework_score == max_homework_score:\n",
        "  print(\"All test cases passed!\") \n",
        "\n",
        "print(\"Mark: \" + str(homework_score) + \"/\" + str(max_homework_score))"
      ],
      "execution_count": null,
      "outputs": []
    },
    {
      "cell_type": "markdown",
      "metadata": {
        "id": "w0gmV_f9yJwu"
      },
      "source": [
        "# Homework Completion"
      ]
    },
    {
      "cell_type": "markdown",
      "source": [
        "Run this hidden code cell to check that you've successfully completed all of the exercises."
      ],
      "metadata": {
        "id": "PoYGTYaaP233"
      }
    },
    {
      "cell_type": "code",
      "metadata": {
        "id": "1nPQEMQkuBjr",
        "jupyter": {
          "source_hidden": true
        }
      },
      "source": [
        "# (Do not edit this cell)\n",
        "homework_score, max_homework_score = 0, 0\n",
        "\n",
        "try:\n",
        "  # 1\n",
        "  homework_score += test_homework(\"is_multiple_of_3(15)\", is_multiple_of_3(15), True)\n",
        "  max_homework_score += 1\n",
        "  homework_score += test_homework(\"is_multiple_of_3(7)\", is_multiple_of_3(8), False)\n",
        "  max_homework_score += 1\n",
        "  homework_score += test_homework(\"is_multiple_of_3(11)\", is_multiple_of_3(11), False)\n",
        "  max_homework_score += 1\n",
        "  homework_score += test_homework(\"is_multiple_of_3(-3)\", is_multiple_of_3(-3), True)\n",
        "  max_homework_score += 1\n",
        "\n",
        "  # 2\n",
        "  homework_score += test_homework(\"is_multiple(15, 3)\", is_multiple(15, 3), True)\n",
        "  max_homework_score += 1\n",
        "  homework_score += test_homework(\"is_multiple(7, 2)\", is_multiple(7, 2), False)\n",
        "  max_homework_score += 1\n",
        "  homework_score += test_homework(\"is_multiple(-2, 2)\", is_multiple(-2, 2), True)\n",
        "  max_homework_score += 1\n",
        "\n",
        "  # 3\n",
        "  homework_score += test_homework(\"Only first test is positive\", fobt(True, False, False), \"Book for colonoscopy\")\n",
        "  max_homework_score += 1\n",
        "  homework_score += test_homework(\"Only second test is positive\", fobt(False, True, False), \"Book for colonoscopy\")\n",
        "  max_homework_score += 1\n",
        "  homework_score += test_homework(\"All tests are negative\", fobt(False, False, False), \"Repeat tests in 1 year\")\n",
        "  max_homework_score += 1\n",
        "  homework_score += test_homework(\"First and Third tests positive\", fobt(False, True, False), \"Book for colonoscopy\")\n",
        "  max_homework_score += 1\n",
        "  homework_score += test_homework(\"All tests are positive\", fobt(True, False, True), \"Book for colonoscopy\")\n",
        "  max_homework_score += 1\n",
        "\n",
        "  # 4\n",
        "  homework_score += test_homework(\"all lowercase\", upper_lower('abcdef'), True)\n",
        "  max_homework_score += 1\n",
        "  homework_score += test_homework(\"all uppercase\", upper_lower('ABCDEF'), True)\n",
        "  max_homework_score += 1\n",
        "  homework_score += test_homework(\"mix of upper and lower\", upper_lower('abcXYZ'), False)\n",
        "  max_homework_score += 1\n",
        "  homework_score += test_homework(\"mix of letters and non-letters\", upper_lower('XYZ123'), True)\n",
        "  max_homework_score += 1\n",
        "  homework_score += test_homework(\"all numeric\", upper_lower('123'), False)\n",
        "  max_homework_score += 1\n",
        "except NameError:\n",
        "  print(\"Oops! It seems like some of your functions are not implemented.\")\n",
        "\n",
        "if homework_score == max_homework_score:\n",
        "  print(\"Congratulations! All tests passed. Homework Complete!\")\n",
        "elif homework_score == 0:\n",
        "   print(\"\")\n",
        "else:\n",
        "  print(\"Some of your functions are working, but all test cases haven't passed yet. Keep on trying!\")\n",
        "\n",
        "print(\"Mark: \" + str(homework_score) + \"/\" + str(max_homework_score))"
      ],
      "execution_count": null,
      "outputs": []
    }
  ]
}