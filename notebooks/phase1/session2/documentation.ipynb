{
 "cells": [
  {
   "cell_type": "markdown",
   "metadata": {
    "id": "jAyETl4L9E0U"
   },
   "source": [
    "# Documentation and Help"
   ]
  },
  {
   "cell_type": "markdown",
   "metadata": {
    "id": "4bEL8v_c2Nl8"
   },
   "source": [
    "## Docstrings, `help()`, and `dir()`\n"
   ]
  },
  {
   "cell_type": "markdown",
   "metadata": {
    "id": "iaefUgMg2NmA"
   },
   "source": [
    "As part of the Function Design Recipe, we've been writing descriptions of our functions and placing them below the function header inside triple-quoted strings.  These descriptions are called **docstrings**, which is short for \"documentation strings\". Docstrings are useful to people who are reading our saved programs, even ourselves when it has been a while since we last read our code.\n",
    "\n",
    "These descriptions can be accessed using Python's built-in function `help()`."
   ]
  },
  {
   "cell_type": "code",
   "execution_count": null,
   "metadata": {
    "id": "tqe7fNy62NmB"
   },
   "outputs": [],
   "source": [
    "def square(num):\n",
    "    \"\"\"(number) -> number\n",
    "    \n",
    "    Return num squared.\n",
    "    \n",
    "    >>> square(5)\n",
    "    25\n",
    "    >>> my_abs(-6)\n",
    "    36\n",
    "    \"\"\"\n",
    "    return num * num"
   ]
  },
  {
   "cell_type": "code",
   "execution_count": null,
   "metadata": {
    "colab": {
     "base_uri": "https://localhost:8080/"
    },
    "executionInfo": {
     "elapsed": 8,
     "status": "ok",
     "timestamp": 1631499314829,
     "user": {
      "displayName": "Alex Mariakakis",
      "photoUrl": "https://lh3.googleusercontent.com/a-/AOh14Ght6Dyv6e4hfso-1xpfI7hj0VNjb-z7AByT6gi2Tw=s64",
      "userId": "03266759294585342781"
     },
     "user_tz": 240
    },
    "id": "F5iYn_fZ2NmE",
    "outputId": "8e74b70a-0f66-42e8-f961-ac74fb877f37"
   },
   "outputs": [],
   "source": [
    "help(square)"
   ]
  },
  {
   "cell_type": "markdown",
   "metadata": {
    "id": "lLL8IaMe2NmF"
   },
   "source": [
    "We can use another built-in function named `dir()` to find out more about Python's built-in functions. Calling `dir(__builtins__)` prints out a list of Python's built-in functions (focus only on the names that are entirely lowercase for now):"
   ]
  },
  {
   "cell_type": "code",
   "execution_count": null,
   "metadata": {
    "id": "XhWXLA6L2NmG",
    "outputId": "e9ee5fa0-5ca0-47a9-8eed-ae0f052f555f"
   },
   "outputs": [],
   "source": [
    "dir(__builtins__)"
   ]
  },
  {
   "cell_type": "markdown",
   "metadata": {
    "id": "a_XGn3yM2NmH"
   },
   "source": [
    "Once we've found a function using `dir()`, we can find out more about it by calling `help()`:"
   ]
  },
  {
   "cell_type": "code",
   "execution_count": null,
   "metadata": {
    "id": "Pysw9edP2NmI",
    "outputId": "3357b0c2-26d1-4d6e-ab8b-d5294028e352"
   },
   "outputs": [],
   "source": [
    "help(abs)"
   ]
  },
  {
   "cell_type": "code",
   "execution_count": null,
   "metadata": {
    "id": "WuMw7kuv2NmJ",
    "outputId": "d072c523-d4fe-42dd-cf59-00ff9009f97f"
   },
   "outputs": [],
   "source": [
    "help(round)"
   ]
  },
  {
   "cell_type": "markdown",
   "metadata": {
    "id": "LI46gxVt2NmJ"
   },
   "source": [
    "## Practice Exercise: Learning about Functions Using `help`"
   ]
  },
  {
   "cell_type": "markdown",
   "metadata": {
    "id": "zpXIEMaz2NmK"
   },
   "source": [
    "Consider this description of built-in function `ord()`:"
   ]
  },
  {
   "cell_type": "code",
   "execution_count": null,
   "metadata": {
    "id": "GcSwGwz82NmK",
    "outputId": "32ce83de-9685-4c42-f495-62c5876c4d6f"
   },
   "outputs": [],
   "source": [
    "help(ord)"
   ]
  },
  {
   "cell_type": "markdown",
   "metadata": {
    "id": "ashA1zTv2NmK"
   },
   "source": [
    "1. How many parameters does the `ord()` function have?\n",
    "2. What are the types of those parameters?\n",
    "3. Give an example of how to call the `ord()` function."
   ]
  }
 ],
 "metadata": {
  "colab": {
   "collapsed_sections": [],
   "name": "Copy of documentation.ipynb",
   "provenance": [
    {
     "file_id": "https://github.com/C4M-UofT/C4M-UofT.github.io/blob/master/notebooks/docstrings_help_dir.ipynb",
     "timestamp": 1629149053029
    }
   ]
  },
  "kernelspec": {
   "display_name": "Python 3",
   "language": "python",
   "name": "python3"
  },
  "language_info": {
   "codemirror_mode": {
    "name": "ipython",
    "version": 3
   },
   "file_extension": ".py",
   "mimetype": "text/x-python",
   "name": "python",
   "nbconvert_exporter": "python",
   "pygments_lexer": "ipython3",
   "version": "3.6.13"
  }
 },
 "nbformat": 4,
 "nbformat_minor": 4
}
