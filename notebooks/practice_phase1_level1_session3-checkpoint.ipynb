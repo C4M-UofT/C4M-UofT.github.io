{
 "cells": [
  {
   "cell_type": "markdown",
   "metadata": {},
   "source": [
    "## Practice Exercises: Phase 1, Level 1, Session 3"
   ]
  },
  {
   "cell_type": "markdown",
   "metadata": {},
   "source": [
    "#### 1. `for` loop over `str`"
   ]
  },
  {
   "cell_type": "markdown",
   "metadata": {},
   "source": [
    "##### a) Practice Exercise: Understanding Loops\n",
    "\n",
    "Consider this code:\n",
    "\n",
    "    s = 'medicine'\n",
    "    for ch in s:\n",
    "        print(ch)\n",
    "\n",
    "Modify the code above so that `medicine` is printed once for each character in the string (instead of the single characters)."
   ]
  },
  {
   "cell_type": "markdown",
   "metadata": {},
   "source": [
    "##### b) Practice Exercise: count uppercase letters\n",
    "\n",
    "Define a function named `count_upper` that has one `str` parameter and returns the number of uppercase letters in the given string."
   ]
  },
  {
   "cell_type": "markdown",
   "metadata": {},
   "source": [
    "##### c) Practice Exercise: get uppercase letters\n",
    "\n",
    "Define a function named `get_upper` that has one `str` parameter and returns a string containing the uppercase letters from the given string."
   ]
  },
  {
   "cell_type": "markdown",
   "metadata": {},
   "source": [
    "#### 2. Lists and Loops"
   ]
  },
  {
   "cell_type": "markdown",
   "metadata": {},
   "source": [
    "##### a) Practice Exercise: `range`\n",
    "\n",
    "Use `range` and a `for` loop to print every 4th number from 0 to 200, inclusive.  "
   ]
  },
  {
   "cell_type": "code",
   "execution_count": null,
   "metadata": {
    "collapsed": true
   },
   "outputs": [],
   "source": [
    "for i in range(0, 200, 4):\n",
    "    print(i)"
   ]
  },
  {
   "cell_type": "markdown",
   "metadata": {},
   "source": [
    "##### b) Practice Exercise: Iteration and Accumulation\n",
    "\n",
    "Once we know the sum of a list, computing the average is straight forward: all we need to do is divide the sum by the number of elements. \n",
    "\n",
    "First, consider how you can get the number of items in a list, using one of Python's built-in functions. Now, compute the average of the items in `gross_earnings`:"
   ]
  },
  {
   "cell_type": "code",
   "execution_count": 15,
   "metadata": {
    "collapsed": true
   },
   "outputs": [],
   "source": [
    "gross_earnings = [361681, 740741, 396105,  284600, 249154]"
   ]
  },
  {
   "cell_type": "markdown",
   "metadata": {},
   "source": [
    "Check your answer:\n",
    "Total earnings: 2032281\n",
    "Average earnings: 406456.2"
   ]
  },
  {
   "cell_type": "markdown",
   "metadata": {},
   "source": [
    "##### c) Practice Exercise : Conditional + Loops \n",
    "\n",
    "Compute the average of `gross_earnings`, but exclude any earnings that are not within the range from 250000 (inclusive) to 400000 (exclusive)."
   ]
  },
  {
   "cell_type": "code",
   "execution_count": 1,
   "metadata": {
    "collapsed": false
   },
   "outputs": [],
   "source": [
    "gross_earnings = [361681, 740741, 396105,  284600, 249154]"
   ]
  },
  {
   "cell_type": "markdown",
   "metadata": {},
   "source": [
    "Check your answer:\n",
    "The sum of earnings in the 250000 to 400000 range is 1042386\n",
    "The number of elements added into total is 3\n",
    "The average of earnings in the 250000 to 400000 range is 347462.0"
   ]
  },
  {
   "cell_type": "markdown",
   "metadata": {},
   "source": [
    "##### d) Practice Exercise: list of str, conditionals, and loops\n",
    "\n",
    "Consider a list of strings that are represent handedness of subjects in a study and looks something like this:\n",
    "\n",
    "    hands = [\"left\", \"right\", \"right\", \"right\", \"left\", \"mixed\", \"right\", ...]\n",
    "    \n",
    "The only elements in the list are the strings `\"right\"`, `\"left\"`, or `\"mixed\"`. \n",
    "\n",
    "Write a program that will work on any such list and print the percentage of subjects from each category of handedness. For example, if you were to run it on the list `[\"right\", \"left\", \"right\", \"right\"]`, it should print the output:\n",
    "Right-handed: 75 %\n",
    "Left-handed: 25 %\n",
    "Mixed-handed: 0 %\n",
    "\n",
    "Don’t worry about formatting the numbers. You might see `75.00000` as your result and that’s fine for now. Name your program handed.py."
   ]
  },
  {
   "cell_type": "markdown",
   "metadata": {},
   "source": [
    "#### 3. List Mutability"
   ]
  },
  {
   "cell_type": "markdown",
   "metadata": {},
   "source": [
    "##### a) Practice Exercise: Building a new list\n",
    "\n",
    "Complete the following function according to its docstring description:"
   ]
  },
  {
   "cell_type": "code",
   "execution_count": 24,
   "metadata": {
    "collapsed": true
   },
   "outputs": [],
   "source": [
    "def report_digits(original_list):\n",
    "    \"\"\" (list of str) -> list of bool \n",
    "    \n",
    "    >>> report_digits(['98', 'a', '5'])\n",
    "    [True, False, True]\n",
    "    \n",
    "    Return a new list in wich each item is True if the correponding item from \n",
    "    original_list is composed entirely of digits, and False otherwise.\n",
    "    \"\"\""
   ]
  },
  {
   "cell_type": "markdown",
   "metadata": {},
   "source": [
    "##### b) Practice Exercise:  Modifying an existing list\n",
    "\n",
    "Complete the following function according to its docstring description:"
   ]
  },
  {
   "cell_type": "code",
   "execution_count": 28,
   "metadata": {
    "collapsed": true
   },
   "outputs": [],
   "source": [
    "def replace_digits(original_list):\n",
    "    \"\"\" (list of str) -> NoneType\n",
    "    \n",
    "    >>> data = ['98', 'a', '5']\n",
    "    >>> replace_digits(data)\n",
    "    >>> data\n",
    "    \n",
    "    Replace each item in original_list with True if it is composed entirely of digits,\n",
    "    and with False otherwise.\n",
    "    \"\"\""
   ]
  },
  {
   "cell_type": "markdown",
   "metadata": {},
   "source": [
    "#### 4. Parallel lists and strings"
   ]
  },
  {
   "cell_type": "markdown",
   "metadata": {},
   "source": [
    "##### a) Practice Exercise: parallel lists\n",
    "\n",
    "We store patient data in two lists of the same length. For example:\n",
    "\n",
    "        sex_data =             [\"m\", \"f\", \"f\", \"m\", \"m\", \"f\"]\n",
    "        ward_data =            [  1,   3,   2,   2,   1,   2] \n",
    "        duration_data =       [ 10,   5,   7,   2,   3,   4]\n",
    "\n",
    "Write a function that computes the average length of stay in the hospital for a given sex, in a given ward. The function signature is:"
   ]
  },
  {
   "cell_type": "code",
   "execution_count": 2,
   "metadata": {
    "collapsed": true
   },
   "outputs": [],
   "source": [
    "def avg_stay(sex, ward, sex_data, ward_data, duration_data):\n",
    "    \"\"\" (str, int, list of int, list of str, list of int) -> float\n",
    "    \n",
    "    Return the average duration of stay for patients of sex sex in ward ward,\n",
    "    given parallel list of sexes sex_data, list of wards ward_data, and \n",
    "    list of duration of stay duration_data.\n",
    "    \n",
    "    >>> sex_data =             [\"m\", \"f\", \"f\", \"m\", \"m\", \"f\"]\n",
    "    >>> ward_data =            [  1,   3,   2,   2,   1,   2] \n",
    "    >>> duration_data =  [ 10,   5,   7,   2,   3,   4]\n",
    "    >>> avg_stay(\"f\", 2, sex_data, ward_data, duration_data)\n",
    "    5.5\n",
    "    \"\"\""
   ]
  },
  {
   "cell_type": "markdown",
   "metadata": {},
   "source": [
    "##### b)  Practice Exercise: matching strings\n",
    "\n",
    "Write a function that returns True iff string `s1` starts with string `s2`. For example, \n",
    "\n",
    "``starts_with(\"abc\", \"ab\")`` should return ``True``\n",
    "\n",
    "``starts_with(\"ad\", \"ab\")`` should return ``False``"
   ]
  }
 ],
 "metadata": {
  "kernelspec": {
   "display_name": "Python 3",
   "language": "python",
   "name": "python3"
  },
  "language_info": {
   "codemirror_mode": {
    "name": "ipython",
    "version": 3
   },
   "file_extension": ".py",
   "mimetype": "text/x-python",
   "name": "python",
   "nbconvert_exporter": "python",
   "pygments_lexer": "ipython3",
   "version": "3.5.2"
  }
 },
 "nbformat": 4,
 "nbformat_minor": 1
}
