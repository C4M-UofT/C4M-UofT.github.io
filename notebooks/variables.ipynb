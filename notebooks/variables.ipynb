{
 "cells": [
  {
   "cell_type": "markdown",
   "metadata": {},
   "source": [
    "# Variables"
   ]
  },
  {
   "cell_type": "markdown",
   "metadata": {},
   "source": [
    "When writing programs, we often want to name values so that we can refer to them later.   A name that refers to a value is called a *variable*."
   ]
  },
  {
   "cell_type": "code",
   "execution_count": 1,
   "metadata": {
    "collapsed": false
   },
   "outputs": [],
   "source": [
    "x = 10"
   ]
  },
  {
   "cell_type": "markdown",
   "metadata": {},
   "source": [
    "The general form of a variable assignment statement is:\n",
    " ``«variable» = «expression»``\n",
    " \n",
    "An assignment statement is executed as follows:\n",
    "- Evaluate the expression on the right-hand side to produce a value. This value has a memory address.\n",
    "- Store that memory address in the variable on the left-hand side. (Create a new variable if it doesn't exist; otherwise just reuse the existing variable.)"
   ]
  },
  {
   "cell_type": "markdown",
   "metadata": {},
   "source": [
    "We can now retrieve the value that `x` refers to by typing `x` in the shell:"
   ]
  },
  {
   "cell_type": "code",
   "execution_count": 2,
   "metadata": {
    "collapsed": false
   },
   "outputs": [
    {
     "data": {
      "text/plain": [
       "10"
      ]
     },
     "execution_count": 2,
     "metadata": {},
     "output_type": "execute_result"
    }
   ],
   "source": [
    "x"
   ]
  },
  {
   "cell_type": "markdown",
   "metadata": {},
   "source": [
    "We computed things like `10 + 5` before. Now we can use variables in place of actual numbers:"
   ]
  },
  {
   "cell_type": "code",
   "execution_count": 3,
   "metadata": {
    "collapsed": false
   },
   "outputs": [
    {
     "data": {
      "text/plain": [
       "15"
      ]
     },
     "execution_count": 3,
     "metadata": {},
     "output_type": "execute_result"
    }
   ],
   "source": [
    "x + 5"
   ]
  },
  {
   "cell_type": "markdown",
   "metadata": {},
   "source": [
    "The code `x + 5` is an expression, just like `10` and `10 + 5` are, so we can store the result in a variable:"
   ]
  },
  {
   "cell_type": "code",
   "execution_count": 4,
   "metadata": {
    "collapsed": true
   },
   "outputs": [],
   "source": [
    "result = x + 5"
   ]
  },
  {
   "cell_type": "code",
   "execution_count": 5,
   "metadata": {
    "collapsed": false
   },
   "outputs": [
    {
     "data": {
      "text/plain": [
       "15"
      ]
     },
     "execution_count": 5,
     "metadata": {},
     "output_type": "execute_result"
    }
   ],
   "source": [
    "result"
   ]
  },
  {
   "cell_type": "markdown",
   "metadata": {},
   "source": [
    "Variable names must start with a letter or an underscore.  They can only include letters, digits, and underscores."
   ]
  },
  {
   "cell_type": "markdown",
   "metadata": {},
   "source": [
    "## Practice Exercise: Working with Variables"
   ]
  },
  {
   "cell_type": "markdown",
   "metadata": {},
   "source": [
    "1.  Consider this code:\n",
    "<pre>\n",
    "j = 7\n",
    "</pre>\n",
    "Write an assignment statement that creates a new variable `k` that refers to three times `j`'s value.\n",
    "\n",
    "2. Consider this code:\n",
    "<pre>\n",
    "patient_a = 3\n",
    "patient_b = 4\n",
    "patient_a = 5\n",
    "</pre>\n",
    "After the code above is executed, to which value does `patient_a` refer?  \n",
    "After the code above is executed, to which value does `patient_b` refer?  \n",
    "\n",
    "3. Consider this code:\n",
    "<pre>\n",
    "x = 4\n",
    "y = x + 2\n",
    "x = y + 1\n",
    "</pre>\n",
    "After the code above is executed, to which value does `x` refer?  \n",
    "After the code above is executed, to which value does `y` refer?  \n"
   ]
  },
  {
   "cell_type": "markdown",
   "metadata": {},
   "source": [
    "## Practice Exercise: Solving a problem using variables\n",
    "Fridericia's Formula for the corrected QT is\n",
    "$$QTc = \\frac{QT}{RR^{\\frac{1}{3}}}$$\n",
    "\n",
    "The R-R interval is measured in seconds, and can be ontained using $60/hr$, where hr is the heart rate. Given the `hr` and `qt` variables below, and calculate the QTc (corrected QT interval). "
   ]
  },
  {
   "cell_type": "code",
   "execution_count": 6,
   "metadata": {
    "collapsed": false
   },
   "outputs": [],
   "source": [
    "hr = 70\n",
    "qt = 300"
   ]
  },
  {
   "cell_type": "markdown",
   "metadata": {},
   "source": [
    "The corrected QT interval should be: 315.817979882819 seconds."
   ]
  }
 ],
 "metadata": {
  "kernelspec": {
   "display_name": "Python 3",
   "language": "python",
   "name": "python3"
  },
  "language_info": {
   "codemirror_mode": {
    "name": "ipython",
    "version": 3
   },
   "file_extension": ".py",
   "mimetype": "text/x-python",
   "name": "python",
   "nbconvert_exporter": "python",
   "pygments_lexer": "ipython3",
   "version": "3.4.1"
  }
 },
 "nbformat": 4,
 "nbformat_minor": 0
}
