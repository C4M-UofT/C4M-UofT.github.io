{
  "cells": [
    {
      "cell_type": "markdown",
      "metadata": {
        "id": "NdAEwVOwbhFH"
      },
      "source": [
        "# Dictionaries"
      ]
    },
    {
      "cell_type": "markdown",
      "metadata": {
        "id": "a13UDsKdbmb7"
      },
      "source": [
        "## Motivation"
      ]
    },
    {
      "cell_type": "markdown",
      "metadata": {
        "id": "xDFyhpxybpcf"
      },
      "source": [
        "Suppose we want to have a handy way of keeping track of the [NATO phonetic alphabet](https://en.wikipedia.org/wiki/NATO_phonetic_alphabet). How should we do this?"
      ]
    },
    {
      "cell_type": "markdown",
      "metadata": {
        "id": "QXxFmbxta7hs"
      },
      "source": [
        "One option is to use parallel lists where each element in the list `letters` has a corresponding element at the same position in the list `codewords`:"
      ]
    },
    {
      "cell_type": "code",
      "execution_count": null,
      "metadata": {
        "id": "5zKj6-8-cVx3"
      },
      "outputs": [],
      "source": [
        "letters = ['A', 'B', 'C', 'D', 'E']\n",
        "codewords = ['alpha', 'bravo', 'charlie', 'delta', 'echo']"
      ]
    },
    {
      "cell_type": "markdown",
      "metadata": {
        "id": "iRiBVOPzcZHA"
      },
      "source": [
        "In order to update these lists to expand the alphabet, you would need to modify both lists at the same time:"
      ]
    },
    {
      "cell_type": "code",
      "execution_count": null,
      "metadata": {
        "id": "O4-PgXh-eLdv"
      },
      "outputs": [],
      "source": [
        "letters.append('F')\n",
        "codewords.append('foxtrot')\n",
        "print(letters)\n",
        "print(codewords)"
      ]
    },
    {
      "cell_type": "markdown",
      "metadata": {
        "id": "0pIskvfYeYEU"
      },
      "source": [
        "This is fine, but if we ever wanted to sort the entries in a different order (e.g., increasing codeword length), we would need to come up with a creative solution to make sure the mapping between elements is preserved."
      ]
    },
    {
      "cell_type": "markdown",
      "metadata": {
        "id": "80gKR4wPelKE"
      },
      "source": [
        "Editing the entries also requires a bit of work, as we need to find the index of the target elements before we can change them:"
      ]
    },
    {
      "cell_type": "code",
      "execution_count": null,
      "metadata": {
        "id": "BWvcz2NleuXh"
      },
      "outputs": [],
      "source": [
        "target_index = letters.index('C')\n",
        "codewords[target_index] = 'chuck'\n",
        "print(letters)\n",
        "print(codewords)"
      ]
    },
    {
      "cell_type": "markdown",
      "metadata": {
        "id": "35Q1i0gUcNom"
      },
      "source": [
        "A second option is to use a list of lists:\n",
        "\n"
      ]
    },
    {
      "cell_type": "code",
      "execution_count": null,
      "metadata": {
        "id": "9St-k0QfckWQ"
      },
      "outputs": [],
      "source": [
        "letter_codewords = [['A', 'alpha'], ['B', 'bravo'], ['C', 'charlie'], ['D', 'delta'], ['E', 'echo']]"
      ]
    },
    {
      "cell_type": "markdown",
      "metadata": {
        "id": "7J4Rp0u8cm38"
      },
      "source": [
        "This keeps the letters and the codewords paired together, but it still takes a bit of work to add or modify values since you have to search through the list manually:"
      ]
    },
    {
      "cell_type": "code",
      "execution_count": null,
      "metadata": {
        "id": "R-vchlZyfTgn"
      },
      "outputs": [],
      "source": [
        "for i in range(len(letter_codewords)):\n",
        "  if letter_codewords[i][0] == 'C':\n",
        "    letter_codewords[i][1] = 'chuck'\n",
        "print(letter_codewords)"
      ]
    },
    {
      "cell_type": "markdown",
      "metadata": {
        "id": "oHrP8Br3a7iX"
      },
      "source": [
        "## What Is a Dictionary?"
      ]
    },
    {
      "cell_type": "markdown",
      "metadata": {
        "id": "JnYhLkzoc4oQ"
      },
      "source": [
        "A **dictionary** is a type of object that keeps track of associations for you. In Python, it is represented by the type `dict`. A dictionary has this general form:\n",
        "\n",
        "    dict = {key1: value1, key2: value2, key3: value3, ...}\n",
        "\n",
        "The dictionary consists of the following expressions:\n",
        "\n",
        "* `keys`: Like a physical/metaphorical key, these expressions provide a means of gaining access to something\n",
        "* `values`: The data that is associated with each key"
      ]
    },
    {
      "cell_type": "markdown",
      "metadata": {
        "id": "1GcNKheba7ie"
      },
      "source": [
        "Like lists, dictionaries are mutable. Keys must be immutable objects (i.e., things like `int` and `str`, not things like `list`), but the associated values can be any type."
      ]
    },
    {
      "cell_type": "code",
      "execution_count": null,
      "metadata": {
        "id": "tOnOCCDRa7ig"
      },
      "outputs": [],
      "source": [
        "d = {1: 5, 3: 45, 4: 10}\n",
        "d = {1: 5, \"abc\": \"def\", 2: \"xyz\", \"uvw\": 3}"
      ]
    },
    {
      "cell_type": "code",
      "execution_count": null,
      "metadata": {
        "id": "ZAkEsPyYa7ih"
      },
      "outputs": [],
      "source": [
        "# Invalid dictionary\n",
        "d = {[\"Diane\", \"F\", \"45\"]: 105, [\"John\", \"M\", \"38\"]: 84}"
      ]
    },
    {
      "cell_type": "markdown",
      "metadata": {
        "id": "qt6AA9K7kgrw"
      },
      "source": [
        "Keys in a dictionary must be unique. If you duplicate a key while creating it, the latest value is used:"
      ]
    },
    {
      "cell_type": "code",
      "execution_count": null,
      "metadata": {
        "id": "Wh4waCRqkgNy"
      },
      "outputs": [],
      "source": [
        "d = {1: 5, 1: 8}\n",
        "print(d)"
      ]
    },
    {
      "cell_type": "markdown",
      "metadata": {
        "id": "o1LK9T_Da7i0"
      },
      "source": [
        "## Dictionary Operations"
      ]
    },
    {
      "cell_type": "markdown",
      "metadata": {
        "id": "tOyuI_4yfzuV"
      },
      "source": [
        "Let's go back to the NATO phonetic alphabet example:"
      ]
    },
    {
      "cell_type": "code",
      "execution_count": null,
      "metadata": {
        "id": "jb8U9dRCa7ia"
      },
      "outputs": [],
      "source": [
        "codeword_by_letter = {'A': 'alpha', 'B': 'bravo', 'C': 'charlie', 'D': 'delta', 'E': 'echo'}"
      ]
    },
    {
      "cell_type": "markdown",
      "metadata": {
        "id": "u5GXM000lTfL"
      },
      "source": [
        "We can add new or update existing key-value pairs by using the key to index into the `dict`:"
      ]
    },
    {
      "cell_type": "code",
      "execution_count": null,
      "metadata": {
        "id": "sUiMwipya7i4"
      },
      "outputs": [],
      "source": [
        "# Adding a new pair\n",
        "codeword_by_letter['F'] = 'foxtrot'\n",
        "print(codeword_by_letter) \n",
        "        \n",
        "# Updating an existing pair\n",
        "codeword_by_letter['C'] = 'chuck'\n",
        "print(codeword_by_letter)"
      ]
    },
    {
      "cell_type": "markdown",
      "metadata": {
        "id": "a0AVK-y4llt6"
      },
      "source": [
        "You can also check if a key is in the `dict` by using the `in` operator (note: you would need to do something more complicated if you want to do this for values):"
      ]
    },
    {
      "cell_type": "code",
      "execution_count": null,
      "metadata": {
        "id": "Y84Ultwfl4TC"
      },
      "outputs": [],
      "source": [
        "print('C' in codeword_by_letter)\n",
        "print('X' in codeword_by_letter)"
      ]
    },
    {
      "cell_type": "markdown",
      "metadata": {
        "id": "2AYlpH5-meEY"
      },
      "source": [
        "You can remove a key-value pair by using the `del` operator:"
      ]
    },
    {
      "cell_type": "code",
      "execution_count": null,
      "metadata": {
        "id": "-y0tcMxFa7i5"
      },
      "outputs": [],
      "source": [
        "print('C' in codeword_by_letter)\n",
        "del codeword_by_letter['C']\n",
        "print('C' in codeword_by_letter)"
      ]
    },
    {
      "cell_type": "markdown",
      "metadata": {
        "id": "dcc2sPC6m5mF"
      },
      "source": [
        "You can figure out how many key-value pairs are in the `dict` by using the `len()` function:"
      ]
    },
    {
      "cell_type": "code",
      "execution_count": null,
      "metadata": {
        "id": "FYrXibWYa7i5"
      },
      "outputs": [],
      "source": [
        "len(codeword_by_letter)"
      ]
    },
    {
      "cell_type": "markdown",
      "metadata": {
        "id": "QBKHjMfKqhdr"
      },
      "source": [
        "You can also check to see if two `dict` objects have the same content by using the `==` comparator. Notice how the order of the keys does not matter:"
      ]
    },
    {
      "cell_type": "code",
      "execution_count": null,
      "metadata": {
        "id": "-QDIANYga7i8"
      },
      "outputs": [],
      "source": [
        "d1 = {'A': 'alpha', 'B': 'bravo', 'C': 'charlie'}\n",
        "d2 = {'A': 'alpha', 'B': 'bravo', 'C': 'charlie'}\n",
        "d1 == d2"
      ]
    },
    {
      "cell_type": "markdown",
      "metadata": {
        "id": "8djD2bmya7i-"
      },
      "source": [
        "## Dictionary Methods"
      ]
    },
    {
      "cell_type": "markdown",
      "metadata": {
        "id": "slo15xitmtDa"
      },
      "source": [
        "If you want to get a list of the keys in a `dict`, you can use the method `.keys()`:"
      ]
    },
    {
      "cell_type": "code",
      "execution_count": null,
      "metadata": {
        "id": "3jGET25Ka7jA"
      },
      "outputs": [],
      "source": [
        "codeword_by_letter.keys()"
      ]
    },
    {
      "cell_type": "markdown",
      "metadata": {
        "id": "5kFjKhTcnVts"
      },
      "source": [
        "Likewise, if you want to get a list of values in a `dict`, you can use the method `.values()`:"
      ]
    },
    {
      "cell_type": "code",
      "execution_count": null,
      "metadata": {
        "id": "dsYg8Iq1a7jA"
      },
      "outputs": [],
      "source": [
        "codeword_by_letter.values()"
      ]
    },
    {
      "cell_type": "markdown",
      "metadata": {
        "id": "emKZmCr_a7jB"
      },
      "source": [
        "If you want to get a list of key-value pairs, you can use the method `.items()`:"
      ]
    },
    {
      "cell_type": "code",
      "execution_count": null,
      "metadata": {
        "id": "g9U5vXa4a7jB"
      },
      "outputs": [],
      "source": [
        "codeword_by_letter.items()"
      ]
    },
    {
      "cell_type": "markdown",
      "metadata": {
        "id": "K24cytRbnmtw"
      },
      "source": [
        "These objects are technically **views** of the dictionary, but you can easily convert them to `list` objects as follows:"
      ]
    },
    {
      "cell_type": "code",
      "execution_count": null,
      "metadata": {
        "id": "uez8HNvDa7jC"
      },
      "outputs": [],
      "source": [
        "letters = list(codeword_by_letter.keys())\n",
        "print(letters)"
      ]
    },
    {
      "cell_type": "markdown",
      "metadata": {
        "id": "sjHqIAYKa7jB"
      },
      "source": [
        "Also notice how the `.items()` method returns a list of objects with the form `(key, value)`. These are known as **tuples**. "
      ]
    },
    {
      "cell_type": "code",
      "execution_count": null,
      "metadata": {
        "id": "cb3MoRTc09TO"
      },
      "outputs": [],
      "source": [
        "codeword_tuples = list(codeword_by_letter.items())\n",
        "first_entry = codeword_tuples[0]\n",
        "print(first_entry)\n",
        "print(type(first_entry))"
      ]
    },
    {
      "cell_type": "markdown",
      "metadata": {
        "id": "JRzd_vpZ11d4"
      },
      "source": [
        "Tuples are basically the same as lists in that they can hold an arbitrarily long sequence of elements. However, lists are mutable, but tuples are immutable (i.e., cannot be modified):"
      ]
    },
    {
      "cell_type": "code",
      "execution_count": null,
      "metadata": {
        "id": "9E2omltz1s-G"
      },
      "outputs": [],
      "source": [
        "# Inspecting elements is okay\n",
        "print(first_entry[0])\n",
        "print(first_entry[1])"
      ]
    },
    {
      "cell_type": "code",
      "execution_count": null,
      "metadata": {
        "id": "PJ1QyRr04UsH"
      },
      "outputs": [],
      "source": [
        "# Modifying elements is not okay\n",
        "first_entry[0] = 'Z'"
      ]
    },
    {
      "cell_type": "markdown",
      "metadata": {
        "id": "Sy5h4iEWa7jC"
      },
      "source": [
        "## Practice Exercise: Working with Dictionaries"
      ]
    },
    {
      "cell_type": "markdown",
      "metadata": {
        "id": "9Igd-Dlza7jC"
      },
      "source": [
        "   1. Create a variable `doctor_to_patients` that refers to an empty dictionary.\n",
        "   2. Add an entry for `'Dr. Ngo'` with `1200` patients.\n",
        "   3. Add another entry for `'Dr. Singh'` with `1400` patients.\n",
        "   4. Add a third entry for `'Dr. Gray'` with `1350` patients.\n",
        "   5. Print the number of patients associated with `'Dr. Singh'`.\n",
        "   6. Change the number of patients associated with `'Dr. Singh'` to `1401`.\n",
        "   7. Write an expression to get the number of key-value pairs in the dictionary.\n",
        "   8. Write an expression to get the doctors.\n",
        "   9. Write an expression to get the patient quantities.\n",
        "   10. Write an expression to check whether `'Dr. Koch'` is a key in the dictionary.\n",
        "   11. Remove the key-value pair with `'Dr. Ngo'` as the key.   "
      ]
    },
    {
      "cell_type": "code",
      "execution_count": null,
      "metadata": {
        "id": "-jDVSWB5n7fr"
      },
      "outputs": [],
      "source": [
        "# Write your code here"
      ]
    },
    {
      "cell_type": "markdown",
      "metadata": {
        "id": "cgllCi0ca7jC"
      },
      "source": [
        "## Iterating through a Dictionary"
      ]
    },
    {
      "cell_type": "markdown",
      "metadata": {
        "id": "DhC5Sp1_tlAY"
      },
      "source": [
        "When you iterate through a `list`, you normally access elements in one of two ways: (1) by numerical index or (2) by the elements themselves:"
      ]
    },
    {
      "cell_type": "code",
      "execution_count": null,
      "metadata": {
        "id": "U11jUqUMuSTC"
      },
      "outputs": [],
      "source": [
        "phone_list = ['555-7632', '555-9832', '555-6677', '555-9823', '555-6342', '555-7343']"
      ]
    },
    {
      "cell_type": "code",
      "execution_count": null,
      "metadata": {
        "id": "xTL7KFCNt5_P"
      },
      "outputs": [],
      "source": [
        "# By index\n",
        "for i in range(len(phone_list)):\n",
        "  print(phone_list[i])"
      ]
    },
    {
      "cell_type": "code",
      "execution_count": null,
      "metadata": {
        "id": "aWhxbvGnuM0X"
      },
      "outputs": [],
      "source": [
        "# By element\n",
        "for phone_num in phone_list:\n",
        "  print(phone_num)"
      ]
    },
    {
      "cell_type": "markdown",
      "metadata": {
        "id": "15ms392CuVrC"
      },
      "source": [
        "If you need to iterate through a `dict`, you can also access key-value pairs in one of two ways: (1) by key or (2) by the key-value pairs themselves:"
      ]
    },
    {
      "cell_type": "code",
      "execution_count": null,
      "metadata": {
        "id": "nknL4qboa7jC"
      },
      "outputs": [],
      "source": [
        "phone_dict = {'555-7632': 'Paul', '555-9832': 'Andrew', '555-6677': 'Dan', \n",
        "         '555-9823': 'Michael', '555-6342' : 'Cathy', '555-7343' : 'Diane'}"
      ]
    },
    {
      "cell_type": "code",
      "execution_count": null,
      "metadata": {
        "id": "-xD4sJm_a7jD"
      },
      "outputs": [],
      "source": [
        "# By key\n",
        "for key in phone_dict:\n",
        "    print('Number:', key, ', Name:', phone_dict[key])"
      ]
    },
    {
      "cell_type": "code",
      "execution_count": null,
      "metadata": {
        "id": "IH5wUanGa7jD"
      },
      "outputs": [],
      "source": [
        "# By key-value pair\n",
        "for item in phone_dict.items():\n",
        "    print('Number:', item[0], ', Name:', item[1])"
      ]
    },
    {
      "cell_type": "markdown",
      "metadata": {
        "id": "dHFlfMdt6Chr"
      },
      "source": [
        "To make it easier to access the key and the value separately when iterating by key-value pair, you can actually name them in the `for` loop itself:"
      ]
    },
    {
      "cell_type": "code",
      "execution_count": null,
      "metadata": {
        "id": "JuPjDpBza7jE"
      },
      "outputs": [],
      "source": [
        "# By key-value pair (with naming)\n",
        "for (number, name) in phone_dict.items():\n",
        "    print('Number:', number, ', Name:', name)"
      ]
    },
    {
      "cell_type": "markdown",
      "metadata": {
        "id": "ADaMsyw2a7i8"
      },
      "source": [
        "Unlike a real dictionary, iterating through the `dict` does not retrieve elements in an alphanumeric order. Instead, iteration works the same as it would for a `list` in that elements are retrieved in the same in which they were added to the dictionary.\n",
        "\n",
        "**Note:** In Python 3.5 and earlier versions, the dictionary keys are not guaranteed to be in a particular order."
      ]
    },
    {
      "cell_type": "markdown",
      "metadata": {
        "id": "rjzcFEDTa7jG"
      },
      "source": [
        "## Practice Exercise: Iterating over Dictionaries"
      ]
    },
    {
      "cell_type": "markdown",
      "metadata": {
        "id": "gDrKf3pVa7jH"
      },
      "source": [
        "The following dictionary has brand name drugs as keys and generic drug names as values:"
      ]
    },
    {
      "cell_type": "code",
      "execution_count": null,
      "metadata": {
        "id": "IJcA0IS78daW"
      },
      "outputs": [],
      "source": [
        "brand_to_generic = {'lipitor': 'atorvastatin',\n",
        "                    'zithromax': 'azithromycin',\n",
        "                    'amoxcil': 'amoxicillin',\n",
        "                    'singulair': 'montelukast',\n",
        "                    'nexium': 'esomeprazole',\n",
        "                    'plavix': 'clopidogrel',\n",
        "                    'abilify': 'ARIPiprazole'}"
      ]
    },
    {
      "cell_type": "markdown",
      "metadata": {
        "id": "OlsWg4Q28itP"
      },
      "source": [
        "  1. Get a list of brand name drugs that start with the letter `'a'`."
      ]
    },
    {
      "cell_type": "code",
      "execution_count": null,
      "metadata": {
        "id": "ZNYC230M8l5m"
      },
      "outputs": [],
      "source": [
        "# Write your code here"
      ]
    },
    {
      "cell_type": "markdown",
      "metadata": {
        "id": "_DzMwru_8mVk"
      },
      "source": [
        "  2. Count the number of generic drugs that end with the letter `'n'`."
      ]
    },
    {
      "cell_type": "code",
      "execution_count": null,
      "metadata": {
        "id": "MRDiEvWm8oBu"
      },
      "outputs": [],
      "source": [
        "# Write your code here"
      ]
    },
    {
      "cell_type": "markdown",
      "metadata": {
        "id": "3NUCyIzC8oYW"
      },
      "source": [
        "  3. Get a list of brand name drugs in alphabetical order."
      ]
    },
    {
      "cell_type": "code",
      "execution_count": null,
      "metadata": {
        "id": "I32fhgih80BC"
      },
      "outputs": [],
      "source": [
        "# Write your code here"
      ]
    },
    {
      "cell_type": "markdown",
      "metadata": {
        "id": "3VFLcY_Ta7jI"
      },
      "source": [
        "## Inverting a Dictionary "
      ]
    },
    {
      "cell_type": "markdown",
      "metadata": {
        "id": "MfSVooMbpRxj"
      },
      "source": [
        "Dictionaries are primarily designed to be searched according to their keys. However, there might be cases when you need to search by value instead."
      ]
    },
    {
      "cell_type": "markdown",
      "metadata": {
        "id": "A6NvF163p2K-"
      },
      "source": [
        "Take this list of phone numbers for example, in which people can have multiple phone numbers:"
      ]
    },
    {
      "cell_type": "code",
      "execution_count": null,
      "metadata": {
        "id": "vH7CXkpAa7jI"
      },
      "outputs": [],
      "source": [
        "phone_to_person = {'555-7632': 'Paul', '555-9832': 'Andrew', \n",
        "                   '555-6677': 'Dan', '555-9823': 'Michael',\n",
        "                   '555-6342' : 'Cathy', '555-2222': 'Michael',\n",
        "                   '555-7343' : 'Diane', '555-1982' : 'Cathy'}"
      ]
    },
    {
      "cell_type": "markdown",
      "metadata": {
        "id": "kGB5_7WYa7jI"
      },
      "source": [
        "If we want to get all of the phone numbers associated with Michael, we could iterate through the dictionary looking for all key-value pairs where the value is `'Michael'`:"
      ]
    },
    {
      "cell_type": "code",
      "execution_count": null,
      "metadata": {
        "id": "rp3NwMLAa7jJ"
      },
      "outputs": [],
      "source": [
        "michael = []\n",
        "for key in phone_to_person:\n",
        "    if phone_to_person[key] == 'Michael':\n",
        "        michael.append(key)\n",
        "print(michael)"
      ]
    },
    {
      "cell_type": "markdown",
      "metadata": {
        "id": "I09F913ha7jJ"
      },
      "source": [
        "If we want to do this for all people, we can **invert** the dictionary such that the keys become values and the values become keys. In this examples, that would make the names the keys and the numbers the values:"
      ]
    },
    {
      "cell_type": "code",
      "execution_count": null,
      "metadata": {
        "id": "2ACQwrQKa7jJ"
      },
      "outputs": [],
      "source": [
        "person_to_phone = {}\n",
        "for (number, name) in phone_to_person.items():\n",
        "    # Check if the person is already in the new dictionary\n",
        "    if name not in person_to_phone:\n",
        "        # Initialize the key with a new list\n",
        "        person_to_phone[name] = [number]\n",
        "    else:\n",
        "        # Add the number to the existing list\n",
        "        person_to_phone[name].append(number)\n",
        "print(person_to_phone)"
      ]
    }
  ],
  "metadata": {
    "colab": {
      "collapsed_sections": [],
      "provenance": []
    },
    "kernelspec": {
      "display_name": "Python 3",
      "language": "python",
      "name": "python3"
    },
    "language_info": {
      "codemirror_mode": {
        "name": "ipython",
        "version": 3
      },
      "file_extension": ".py",
      "mimetype": "text/x-python",
      "name": "python",
      "nbconvert_exporter": "python",
      "pygments_lexer": "ipython3",
      "version": "3.6.13"
    }
  },
  "nbformat": 4,
  "nbformat_minor": 0
}