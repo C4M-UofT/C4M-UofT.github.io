{
 "cells": [
  {
   "cell_type": "markdown",
   "metadata": {
    "id": "NdAEwVOwbhFH"
   },
   "source": [
    "# Dictionaries"
   ]
  },
  {
   "cell_type": "markdown",
   "metadata": {
    "id": "a13UDsKdbmb7"
   },
   "source": [
    "## Motivation"
   ]
  },
  {
   "cell_type": "markdown",
   "metadata": {
    "id": "xDFyhpxybpcf"
   },
   "source": [
    "Suppose we need to represent years and the total North American fossil fuel CO2 emissions for those years. How should we do this?"
   ]
  },
  {
   "cell_type": "markdown",
   "metadata": {
    "id": "QXxFmbxta7hs"
   },
   "source": [
    "One option is to use *parallel lists*, in which the `years` list at position `i` corresponds to the `emissions` list at position `i`:"
   ]
  },
  {
   "cell_type": "code",
   "execution_count": null,
   "metadata": {
    "id": "5zKj6-8-cVx3"
   },
   "outputs": [],
   "source": [
    "years = [1799, 1800, 1801, 1802, 1902, 2002]\n",
    "emissions = [1, 70, 74, 79, 82, 1733297]"
   ]
  },
  {
   "cell_type": "markdown",
   "metadata": {
    "id": "iRiBVOPzcZHA"
   },
   "source": [
    "This is fine, but how would you add new data (e.g., year 1950 and emissions 734914)?"
   ]
  },
  {
   "cell_type": "markdown",
   "metadata": {
    "id": "wROLpZHpd9b2"
   },
   "source": [
    "We would need to modify both lists at the same time. We could append the data at the end:"
   ]
  },
  {
   "cell_type": "code",
   "execution_count": null,
   "metadata": {
    "colab": {
     "base_uri": "https://localhost:8080/"
    },
    "executionInfo": {
     "elapsed": 171,
     "status": "ok",
     "timestamp": 1632011816339,
     "user": {
      "displayName": "Alex Mariakakis",
      "photoUrl": "https://lh3.googleusercontent.com/a-/AOh14Ght6Dyv6e4hfso-1xpfI7hj0VNjb-z7AByT6gi2Tw=s64",
      "userId": "03266759294585342781"
     },
     "user_tz": 240
    },
    "id": "O4-PgXh-eLdv",
    "outputId": "518c0474-a029-440c-9f5a-db37ba58365b"
   },
   "outputs": [],
   "source": [
    "years.append(1950)\n",
    "emissions.append(734914)\n",
    "print(years)\n",
    "print(emissions)"
   ]
  },
  {
   "cell_type": "markdown",
   "metadata": {
    "id": "0pIskvfYeYEU"
   },
   "source": [
    "However, then the data points wouldn't be sorted by year and we would have to think of a clever way to getting everything in order."
   ]
  },
  {
   "cell_type": "markdown",
   "metadata": {
    "id": "80gKR4wPelKE"
   },
   "source": [
    "And how would we edit the emissions value for a particular year?"
   ]
  },
  {
   "cell_type": "markdown",
   "metadata": {
    "id": "57ojPYmIepMs"
   },
   "source": [
    "We would need to find the year in the `years` list and then modify the corresponding item in the emissions list:"
   ]
  },
  {
   "cell_type": "code",
   "execution_count": null,
   "metadata": {
    "colab": {
     "base_uri": "https://localhost:8080/"
    },
    "executionInfo": {
     "elapsed": 259,
     "status": "ok",
     "timestamp": 1632011818487,
     "user": {
      "displayName": "Alex Mariakakis",
      "photoUrl": "https://lh3.googleusercontent.com/a-/AOh14Ght6Dyv6e4hfso-1xpfI7hj0VNjb-z7AByT6gi2Tw=s64",
      "userId": "03266759294585342781"
     },
     "user_tz": 240
    },
    "id": "BWvcz2NleuXh",
    "outputId": "3ceb90fd-5cfa-4bd3-8962-5656832a4448"
   },
   "outputs": [],
   "source": [
    "target_index = years.index(1800)\n",
    "emissions[target_index] = 500\n",
    "print(years)\n",
    "print(emissions)"
   ]
  },
  {
   "cell_type": "markdown",
   "metadata": {
    "id": "35Q1i0gUcNom"
   },
   "source": [
    "A second option is to use *a list of lists*:\n",
    "\n"
   ]
  },
  {
   "cell_type": "code",
   "execution_count": null,
   "metadata": {
    "id": "9St-k0QfckWQ"
   },
   "outputs": [],
   "source": [
    "years_emissions = [[1799, 1], [1800, 70], [1801, 74], [1802, 79], [1902, 82], [2002, 1733297]]"
   ]
  },
  {
   "cell_type": "markdown",
   "metadata": {
    "id": "7J4Rp0u8cm38"
   },
   "source": [
    "This keeps the years and the values paired together, but it still takes a bit of work to add or modify values since you have to search through the list manually:"
   ]
  },
  {
   "cell_type": "code",
   "execution_count": null,
   "metadata": {
    "colab": {
     "base_uri": "https://localhost:8080/"
    },
    "executionInfo": {
     "elapsed": 129,
     "status": "ok",
     "timestamp": 1632011958631,
     "user": {
      "displayName": "Alex Mariakakis",
      "photoUrl": "https://lh3.googleusercontent.com/a-/AOh14Ght6Dyv6e4hfso-1xpfI7hj0VNjb-z7AByT6gi2Tw=s64",
      "userId": "03266759294585342781"
     },
     "user_tz": 240
    },
    "id": "R-vchlZyfTgn",
    "outputId": "eb731529-b974-4b83-90b0-5b3848566c4f"
   },
   "outputs": [],
   "source": [
    "target_index = -1\n",
    "for i in range(len(years_emissions)):\n",
    "  if years_emissions[i][0] == 1800:\n",
    "    years_emissions[i][1] = 900\n",
    "print(years_emissions)"
   ]
  },
  {
   "cell_type": "markdown",
   "metadata": {
    "id": "oHrP8Br3a7iX"
   },
   "source": [
    "## What Is a Dictionary?"
   ]
  },
  {
   "cell_type": "markdown",
   "metadata": {
    "id": "JnYhLkzoc4oQ"
   },
   "source": [
    "A **dictionary** is a type of object that keeps track of associations for you. In Python, it is represented by the type `dict`. A dictionary has this general form:\n",
    "\n",
    "    dict = {key1: value1, key2: value2, key3: value3, ...}\n",
    "\n",
    "The dictionary consists of the following expressions:\n",
    "\n",
    "* `keys`: Like a physical/metaphorical key, these expressions provide a means of gaining access to something\n",
    "* `values`: The data that is associated with each key"
   ]
  },
  {
   "cell_type": "markdown",
   "metadata": {
    "id": "1GcNKheba7ie"
   },
   "source": [
    "Like lists, dictionaries are mutable.\n",
    "\n",
    "Keys must be immutable objects (i.e., things like `int` and `str`, not things like `list`), but the associated values can be any type."
   ]
  },
  {
   "cell_type": "code",
   "execution_count": null,
   "metadata": {
    "id": "tOnOCCDRa7ig"
   },
   "outputs": [],
   "source": [
    "d = {1: 5, 3: 45, 4: 10}\n",
    "d = {1: 5, \"abc\": \"def\", 2: \"xyz\", \"uvw\": 3}"
   ]
  },
  {
   "cell_type": "code",
   "execution_count": null,
   "metadata": {
    "colab": {
     "base_uri": "https://localhost:8080/",
     "height": 190
    },
    "executionInfo": {
     "elapsed": 140,
     "status": "error",
     "timestamp": 1632147524057,
     "user": {
      "displayName": "Alex Mariakakis",
      "photoUrl": "https://lh3.googleusercontent.com/a-/AOh14Ght6Dyv6e4hfso-1xpfI7hj0VNjb-z7AByT6gi2Tw=s64",
      "userId": "03266759294585342781"
     },
     "user_tz": 240
    },
    "id": "ZAkEsPyYa7ih",
    "outputId": "fa6fa956-22bd-4ed4-e051-1db975ba8864"
   },
   "outputs": [],
   "source": [
    "# Invalid dictionary\n",
    "d = {[\"Diane\", \"F\", \"45\"]: 105, [\"John\", \"M\", \"38\"]: 84}"
   ]
  },
  {
   "cell_type": "markdown",
   "metadata": {
    "id": "qt6AA9K7kgrw"
   },
   "source": [
    "Keys in a dictionary must be unique. If you duplicate a key while creating it, the latest value is used:"
   ]
  },
  {
   "cell_type": "code",
   "execution_count": null,
   "metadata": {
    "colab": {
     "base_uri": "https://localhost:8080/"
    },
    "executionInfo": {
     "elapsed": 114,
     "status": "ok",
     "timestamp": 1632147530548,
     "user": {
      "displayName": "Alex Mariakakis",
      "photoUrl": "https://lh3.googleusercontent.com/a-/AOh14Ght6Dyv6e4hfso-1xpfI7hj0VNjb-z7AByT6gi2Tw=s64",
      "userId": "03266759294585342781"
     },
     "user_tz": 240
    },
    "id": "Wh4waCRqkgNy",
    "outputId": "f2d3d106-db9c-4acd-c226-bb7fa4c927dd"
   },
   "outputs": [],
   "source": [
    "d = {1: 5, 1: 8}\n",
    "print(d)"
   ]
  },
  {
   "cell_type": "markdown",
   "metadata": {
    "id": "o1LK9T_Da7i0"
   },
   "source": [
    "## Dictionary Operations"
   ]
  },
  {
   "cell_type": "markdown",
   "metadata": {
    "id": "tOyuI_4yfzuV"
   },
   "source": [
    "Let's go back to the emissions example:"
   ]
  },
  {
   "cell_type": "code",
   "execution_count": null,
   "metadata": {
    "executionInfo": {
     "elapsed": 346,
     "status": "ok",
     "timestamp": 1632584308231,
     "user": {
      "displayName": "Alex Mariakakis",
      "photoUrl": "https://lh3.googleusercontent.com/a-/AOh14Ght6Dyv6e4hfso-1xpfI7hj0VNjb-z7AByT6gi2Tw=s64",
      "userId": "03266759294585342781"
     },
     "user_tz": 240
    },
    "id": "jb8U9dRCa7ia"
   },
   "outputs": [],
   "source": [
    "emissions_by_year = {1799: 1, 1800: 70, 1801: 74, 1802: 79,\n",
    "                     1902: 82, 2002: 1733297}                "
   ]
  },
  {
   "cell_type": "markdown",
   "metadata": {
    "id": "u5GXM000lTfL"
   },
   "source": [
    "We can add new or update existing key-value pairs by using the key to index into the `dict`:"
   ]
  },
  {
   "cell_type": "code",
   "execution_count": null,
   "metadata": {
    "colab": {
     "base_uri": "https://localhost:8080/"
    },
    "executionInfo": {
     "elapsed": 163,
     "status": "ok",
     "timestamp": 1632148064478,
     "user": {
      "displayName": "Alex Mariakakis",
      "photoUrl": "https://lh3.googleusercontent.com/a-/AOh14Ght6Dyv6e4hfso-1xpfI7hj0VNjb-z7AByT6gi2Tw=s64",
      "userId": "03266759294585342781"
     },
     "user_tz": 240
    },
    "id": "sUiMwipya7i4",
    "outputId": "4cb68dde-871f-4445-bfbd-30bdbe7c19cf"
   },
   "outputs": [],
   "source": [
    "# Adding a new pair\n",
    "emissions_by_year[2009] = 9000000\n",
    "print(emissions_by_year) \n",
    "        \n",
    "# Updating an existing pair\n",
    "emissions_by_year[2009] = 10\n",
    "print(emissions_by_year)"
   ]
  },
  {
   "cell_type": "markdown",
   "metadata": {
    "id": "a0AVK-y4llt6"
   },
   "source": [
    "You can also check if a key is in the `dict` by using the `in` operator (note: you would need to do something more complicated if you want to do this for values):"
   ]
  },
  {
   "cell_type": "code",
   "execution_count": null,
   "metadata": {
    "colab": {
     "base_uri": "https://localhost:8080/"
    },
    "executionInfo": {
     "elapsed": 130,
     "status": "ok",
     "timestamp": 1632148066988,
     "user": {
      "displayName": "Alex Mariakakis",
      "photoUrl": "https://lh3.googleusercontent.com/a-/AOh14Ght6Dyv6e4hfso-1xpfI7hj0VNjb-z7AByT6gi2Tw=s64",
      "userId": "03266759294585342781"
     },
     "user_tz": 240
    },
    "id": "Y84Ultwfl4TC",
    "outputId": "1a20d004-c915-4782-88bb-58bea84b4a4d"
   },
   "outputs": [],
   "source": [
    "print(1799 in emissions_by_year)\n",
    "print(1950 in emissions_by_year)"
   ]
  },
  {
   "cell_type": "markdown",
   "metadata": {
    "id": "2AYlpH5-meEY"
   },
   "source": [
    "You can remove a key-value pair by using the `del` operator:"
   ]
  },
  {
   "cell_type": "code",
   "execution_count": null,
   "metadata": {
    "colab": {
     "base_uri": "https://localhost:8080/"
    },
    "executionInfo": {
     "elapsed": 131,
     "status": "ok",
     "timestamp": 1632148093778,
     "user": {
      "displayName": "Alex Mariakakis",
      "photoUrl": "https://lh3.googleusercontent.com/a-/AOh14Ght6Dyv6e4hfso-1xpfI7hj0VNjb-z7AByT6gi2Tw=s64",
      "userId": "03266759294585342781"
     },
     "user_tz": 240
    },
    "id": "-y0tcMxFa7i5",
    "outputId": "c12508f3-bfe3-4b05-8284-4b66872a90e1"
   },
   "outputs": [],
   "source": [
    "print(1800 in emissions_by_year)\n",
    "del emissions_by_year[1800]\n",
    "print(1800 in emissions_by_year)"
   ]
  },
  {
   "cell_type": "markdown",
   "metadata": {
    "id": "dcc2sPC6m5mF"
   },
   "source": [
    "You can figure out how many key-value pairs are in the `dict` by using the `len()` function:"
   ]
  },
  {
   "cell_type": "code",
   "execution_count": null,
   "metadata": {
    "colab": {
     "base_uri": "https://localhost:8080/"
    },
    "executionInfo": {
     "elapsed": 125,
     "status": "ok",
     "timestamp": 1632148996416,
     "user": {
      "displayName": "Alex Mariakakis",
      "photoUrl": "https://lh3.googleusercontent.com/a-/AOh14Ght6Dyv6e4hfso-1xpfI7hj0VNjb-z7AByT6gi2Tw=s64",
      "userId": "03266759294585342781"
     },
     "user_tz": 240
    },
    "id": "FYrXibWYa7i5",
    "outputId": "ba788385-e993-4cdf-970a-1dc4002623c5"
   },
   "outputs": [],
   "source": [
    "len(emissions_by_year)"
   ]
  },
  {
   "cell_type": "markdown",
   "metadata": {
    "id": "QBKHjMfKqhdr"
   },
   "source": [
    "You can also check to see if two `dict` objects have the same content by using the `==` comparator. Notice how the order of the keys does not matter:"
   ]
  },
  {
   "cell_type": "code",
   "execution_count": null,
   "metadata": {
    "colab": {
     "base_uri": "https://localhost:8080/"
    },
    "executionInfo": {
     "elapsed": 256,
     "status": "ok",
     "timestamp": 1632584112942,
     "user": {
      "displayName": "Alex Mariakakis",
      "photoUrl": "https://lh3.googleusercontent.com/a-/AOh14Ght6Dyv6e4hfso-1xpfI7hj0VNjb-z7AByT6gi2Tw=s64",
      "userId": "03266759294585342781"
     },
     "user_tz": 240
    },
    "id": "-QDIANYga7i8",
    "outputId": "0d8eaa7e-11ed-4846-e608-192489082983"
   },
   "outputs": [],
   "source": [
    "d1 = {1: 'a', 2: 'b', 3: 'c'}\n",
    "d2 = {3: 'c', 1: 'a', 2: 'b'}\n",
    "d1 == d2"
   ]
  },
  {
   "cell_type": "markdown",
   "metadata": {
    "id": "8djD2bmya7i-"
   },
   "source": [
    "## Dictionary Methods"
   ]
  },
  {
   "cell_type": "markdown",
   "metadata": {
    "id": "slo15xitmtDa"
   },
   "source": [
    "If you want to get a list of the keys in a `dict`, you can use the method `keys()`:"
   ]
  },
  {
   "cell_type": "code",
   "execution_count": null,
   "metadata": {
    "id": "3jGET25Ka7jA"
   },
   "outputs": [],
   "source": [
    "emissions_by_year.keys()"
   ]
  },
  {
   "cell_type": "markdown",
   "metadata": {
    "id": "5kFjKhTcnVts"
   },
   "source": [
    "Likewise, if you want to get a list of values in a `dict`, you can use the method `values()`:"
   ]
  },
  {
   "cell_type": "code",
   "execution_count": null,
   "metadata": {
    "colab": {
     "base_uri": "https://localhost:8080/"
    },
    "executionInfo": {
     "elapsed": 439,
     "status": "ok",
     "timestamp": 1632584387717,
     "user": {
      "displayName": "Alex Mariakakis",
      "photoUrl": "https://lh3.googleusercontent.com/a-/AOh14Ght6Dyv6e4hfso-1xpfI7hj0VNjb-z7AByT6gi2Tw=s64",
      "userId": "03266759294585342781"
     },
     "user_tz": 240
    },
    "id": "dsYg8Iq1a7jA",
    "outputId": "f63218ac-d6a8-4bf3-c926-1a403c742271"
   },
   "outputs": [],
   "source": [
    "emissions_by_year.values()"
   ]
  },
  {
   "cell_type": "markdown",
   "metadata": {
    "id": "emKZmCr_a7jB"
   },
   "source": [
    "If you want to get a list of key-value pairs, you can use the method `items()`:"
   ]
  },
  {
   "cell_type": "code",
   "execution_count": null,
   "metadata": {
    "colab": {
     "base_uri": "https://localhost:8080/"
    },
    "executionInfo": {
     "elapsed": 376,
     "status": "ok",
     "timestamp": 1632584310423,
     "user": {
      "displayName": "Alex Mariakakis",
      "photoUrl": "https://lh3.googleusercontent.com/a-/AOh14Ght6Dyv6e4hfso-1xpfI7hj0VNjb-z7AByT6gi2Tw=s64",
      "userId": "03266759294585342781"
     },
     "user_tz": 240
    },
    "id": "g9U5vXa4a7jB",
    "outputId": "ea349c23-a8fc-4081-8223-35823f7bde4f"
   },
   "outputs": [],
   "source": [
    "emissions_by_year.items()"
   ]
  },
  {
   "cell_type": "markdown",
   "metadata": {
    "id": "K24cytRbnmtw"
   },
   "source": [
    "These objects are technically **views** of the dictionary, but you can easily convert them to `list` objects as follows:"
   ]
  },
  {
   "cell_type": "code",
   "execution_count": null,
   "metadata": {
    "id": "uez8HNvDa7jC"
   },
   "outputs": [],
   "source": [
    "years = list(emissions_by_year.keys())\n",
    "print(years)"
   ]
  },
  {
   "cell_type": "markdown",
   "metadata": {
    "id": "sjHqIAYKa7jB"
   },
   "source": [
    "Also notice how the `items()` method returns a list of objects with the form `(key, value)`. These are known as **tuples**. "
   ]
  },
  {
   "cell_type": "code",
   "execution_count": null,
   "metadata": {
    "colab": {
     "base_uri": "https://localhost:8080/"
    },
    "executionInfo": {
     "elapsed": 285,
     "status": "ok",
     "timestamp": 1632588258739,
     "user": {
      "displayName": "Alex Mariakakis",
      "photoUrl": "https://lh3.googleusercontent.com/a-/AOh14Ght6Dyv6e4hfso-1xpfI7hj0VNjb-z7AByT6gi2Tw=s64",
      "userId": "03266759294585342781"
     },
     "user_tz": 240
    },
    "id": "cb3MoRTc09TO",
    "outputId": "ac562133-223b-49d3-9279-e1340c3c14e4"
   },
   "outputs": [],
   "source": [
    "emissions_tuples = list(emissions_by_year.items())\n",
    "first_entry = emissions_tuples[0]\n",
    "print(first_entry)\n",
    "print(type(first_entry))\n"
   ]
  },
  {
   "cell_type": "markdown",
   "metadata": {
    "id": "JRzd_vpZ11d4"
   },
   "source": [
    "Tuples are basically the same as lists in that they can hold an arbitrarily long sequence of elements. However, lists are mutable, but tuples are immutable (i.e., cannot be modified):"
   ]
  },
  {
   "cell_type": "code",
   "execution_count": null,
   "metadata": {
    "colab": {
     "base_uri": "https://localhost:8080/"
    },
    "executionInfo": {
     "elapsed": 5,
     "status": "ok",
     "timestamp": 1632588880466,
     "user": {
      "displayName": "Alex Mariakakis",
      "photoUrl": "https://lh3.googleusercontent.com/a-/AOh14Ght6Dyv6e4hfso-1xpfI7hj0VNjb-z7AByT6gi2Tw=s64",
      "userId": "03266759294585342781"
     },
     "user_tz": 240
    },
    "id": "9E2omltz1s-G",
    "outputId": "68cd4722-5760-48cb-ed96-6a844b3f2971"
   },
   "outputs": [],
   "source": [
    "# Inspecting elements is okay\n",
    "print(first_entry[0])\n",
    "print(first_entry[1])"
   ]
  },
  {
   "cell_type": "code",
   "execution_count": null,
   "metadata": {
    "colab": {
     "base_uri": "https://localhost:8080/",
     "height": 190
    },
    "executionInfo": {
     "elapsed": 278,
     "status": "error",
     "timestamp": 1632588879122,
     "user": {
      "displayName": "Alex Mariakakis",
      "photoUrl": "https://lh3.googleusercontent.com/a-/AOh14Ght6Dyv6e4hfso-1xpfI7hj0VNjb-z7AByT6gi2Tw=s64",
      "userId": "03266759294585342781"
     },
     "user_tz": 240
    },
    "id": "PJ1QyRr04UsH",
    "outputId": "88cb383b-bbc3-488b-8c0b-1c07f651fe98"
   },
   "outputs": [],
   "source": [
    "# Modifying elements is not okay\n",
    "first_entry[0] = 1805"
   ]
  },
  {
   "cell_type": "markdown",
   "metadata": {
    "id": "Sy5h4iEWa7jC"
   },
   "source": [
    "## Practice Exercise: Working with Dictionaries"
   ]
  },
  {
   "cell_type": "markdown",
   "metadata": {
    "id": "9Igd-Dlza7jC"
   },
   "source": [
    "   1. Create a variable `doctor_to_patients` that refers to an empty dictionary.\n",
    "   2. Add an entry for `'Dr. Ngo'` with `1200` patients.\n",
    "   3. Add another entry for `'Dr. Singh'` with `1400` patients.\n",
    "   4. Add a third entry for `'Dr. Gray'` with `1350` patients.\n",
    "   5. Print the number of patients associated with `'Dr. Singh'`.\n",
    "   6. Change the number of patients associated with `'Dr. Singh'` to `1401`.\n",
    "   7. Write an expression to get the number of key-value pairs in the dictionary.\n",
    "   8. Write an expression to get the doctors.\n",
    "   9. Write an expression to get the patient quantities.\n",
    "   10. Write an expression to check whether `'Dr. Koch'` is a key in the dictionary.\n",
    "   11. Remove the key-value pair with `'Dr. Ngo'` as the key.   "
   ]
  },
  {
   "cell_type": "code",
   "execution_count": null,
   "metadata": {
    "id": "-jDVSWB5n7fr"
   },
   "outputs": [],
   "source": [
    "# Write your code here"
   ]
  },
  {
   "cell_type": "markdown",
   "metadata": {
    "id": "cgllCi0ca7jC"
   },
   "source": [
    "## Iterating through a Dictionary"
   ]
  },
  {
   "cell_type": "markdown",
   "metadata": {
    "id": "DhC5Sp1_tlAY"
   },
   "source": [
    "When you iterate through a `list`, you normally access elements in one of two ways: (1) by numerical index or (2) by the elements themselves:"
   ]
  },
  {
   "cell_type": "code",
   "execution_count": null,
   "metadata": {
    "id": "U11jUqUMuSTC"
   },
   "outputs": [],
   "source": [
    "phone_list = ['555-7632', '555-9832', '555-6677', '555-9823', '555-6342', '555-7343']"
   ]
  },
  {
   "cell_type": "code",
   "execution_count": null,
   "metadata": {
    "colab": {
     "base_uri": "https://localhost:8080/"
    },
    "executionInfo": {
     "elapsed": 642,
     "status": "ok",
     "timestamp": 1632586250956,
     "user": {
      "displayName": "Alex Mariakakis",
      "photoUrl": "https://lh3.googleusercontent.com/a-/AOh14Ght6Dyv6e4hfso-1xpfI7hj0VNjb-z7AByT6gi2Tw=s64",
      "userId": "03266759294585342781"
     },
     "user_tz": 240
    },
    "id": "xTL7KFCNt5_P",
    "outputId": "7d049178-d843-443a-e166-a9f7a339d2dc"
   },
   "outputs": [],
   "source": [
    "# By index\n",
    "for i in range(len(phone_list)):\n",
    "  print(phone_list[i])"
   ]
  },
  {
   "cell_type": "code",
   "execution_count": null,
   "metadata": {
    "colab": {
     "base_uri": "https://localhost:8080/"
    },
    "executionInfo": {
     "elapsed": 10,
     "status": "ok",
     "timestamp": 1632586254489,
     "user": {
      "displayName": "Alex Mariakakis",
      "photoUrl": "https://lh3.googleusercontent.com/a-/AOh14Ght6Dyv6e4hfso-1xpfI7hj0VNjb-z7AByT6gi2Tw=s64",
      "userId": "03266759294585342781"
     },
     "user_tz": 240
    },
    "id": "aWhxbvGnuM0X",
    "outputId": "a1613a14-55a3-4c8e-a085-acc81f3bd692"
   },
   "outputs": [],
   "source": [
    "# By element\n",
    "for phone_num in phone_list:\n",
    "  print(phone_num)"
   ]
  },
  {
   "cell_type": "markdown",
   "metadata": {
    "id": "15ms392CuVrC"
   },
   "source": [
    "If you need to iterate through a `dict`, you can also access key-value pairs in one of two ways: (1) by key or (2) by the key-value pairs themselves:"
   ]
  },
  {
   "cell_type": "code",
   "execution_count": null,
   "metadata": {
    "executionInfo": {
     "elapsed": 759,
     "status": "ok",
     "timestamp": 1632587784102,
     "user": {
      "displayName": "Alex Mariakakis",
      "photoUrl": "https://lh3.googleusercontent.com/a-/AOh14Ght6Dyv6e4hfso-1xpfI7hj0VNjb-z7AByT6gi2Tw=s64",
      "userId": "03266759294585342781"
     },
     "user_tz": 240
    },
    "id": "nknL4qboa7jC"
   },
   "outputs": [],
   "source": [
    "phone_dict = {'555-7632': 'Paul', '555-9832': 'Andrew', '555-6677': 'Dan', \n",
    "         '555-9823': 'Michael', '555-6342' : 'Cathy', '555-7343' : 'Diane'}"
   ]
  },
  {
   "cell_type": "code",
   "execution_count": null,
   "metadata": {
    "colab": {
     "base_uri": "https://localhost:8080/"
    },
    "executionInfo": {
     "elapsed": 16,
     "status": "ok",
     "timestamp": 1632587784919,
     "user": {
      "displayName": "Alex Mariakakis",
      "photoUrl": "https://lh3.googleusercontent.com/a-/AOh14Ght6Dyv6e4hfso-1xpfI7hj0VNjb-z7AByT6gi2Tw=s64",
      "userId": "03266759294585342781"
     },
     "user_tz": 240
    },
    "id": "-xD4sJm_a7jD",
    "outputId": "548d05e8-6b7d-498d-e76f-27d7e15955d7"
   },
   "outputs": [],
   "source": [
    "# By key\n",
    "for key in phone_dict:\n",
    "    print('Number:', key, ', Name:', phone_dict[key])"
   ]
  },
  {
   "cell_type": "code",
   "execution_count": null,
   "metadata": {
    "colab": {
     "base_uri": "https://localhost:8080/"
    },
    "executionInfo": {
     "elapsed": 259,
     "status": "ok",
     "timestamp": 1632589304620,
     "user": {
      "displayName": "Alex Mariakakis",
      "photoUrl": "https://lh3.googleusercontent.com/a-/AOh14Ght6Dyv6e4hfso-1xpfI7hj0VNjb-z7AByT6gi2Tw=s64",
      "userId": "03266759294585342781"
     },
     "user_tz": 240
    },
    "id": "IH5wUanGa7jD",
    "outputId": "c7dd3b76-25d6-4205-83f6-2806d14060b2"
   },
   "outputs": [],
   "source": [
    "# By key-value pair\n",
    "for item in phone_dict.items():\n",
    "    print('Number:', item[0], ', Name:', item[1])"
   ]
  },
  {
   "cell_type": "markdown",
   "metadata": {
    "id": "dHFlfMdt6Chr"
   },
   "source": [
    "To make it easier to access the key and the value separately when iterating by key-value pair, you can actually name them in the `for` loop itself:"
   ]
  },
  {
   "cell_type": "code",
   "execution_count": null,
   "metadata": {
    "colab": {
     "base_uri": "https://localhost:8080/"
    },
    "executionInfo": {
     "elapsed": 299,
     "status": "ok",
     "timestamp": 1632589298501,
     "user": {
      "displayName": "Alex Mariakakis",
      "photoUrl": "https://lh3.googleusercontent.com/a-/AOh14Ght6Dyv6e4hfso-1xpfI7hj0VNjb-z7AByT6gi2Tw=s64",
      "userId": "03266759294585342781"
     },
     "user_tz": 240
    },
    "id": "JuPjDpBza7jE",
    "outputId": "9b4e6383-82c1-47e9-c37e-50ab9dd185d5"
   },
   "outputs": [],
   "source": [
    "# By key-value pair (with naming)\n",
    "for (number, name) in phone.items():\n",
    "    print('Number:', number, ', Name:', name)"
   ]
  },
  {
   "cell_type": "markdown",
   "metadata": {
    "id": "ADaMsyw2a7i8"
   },
   "source": [
    "Unlike a real dictionary, iterating through the `dict` does not retrieve elements in an alphanumeric order. Instead, iteration works the same as it would for a `list` in that elements are retrieved in the same in which they were added to the dictionary.\n",
    "\n",
    "**Note:** In Python 3.5 and earlier versions, the dictionary keys are not guaranteed to be in a particular order."
   ]
  },
  {
   "cell_type": "markdown",
   "metadata": {
    "id": "rjzcFEDTa7jG"
   },
   "source": [
    "## Practice Exercise: Iterating over Dictionaries"
   ]
  },
  {
   "cell_type": "markdown",
   "metadata": {
    "id": "gDrKf3pVa7jH"
   },
   "source": [
    "The following dictionary has brand name drugs as keys and generic drug names as values:"
   ]
  },
  {
   "cell_type": "code",
   "execution_count": null,
   "metadata": {
    "executionInfo": {
     "elapsed": 332,
     "status": "ok",
     "timestamp": 1632590061763,
     "user": {
      "displayName": "Alex Mariakakis",
      "photoUrl": "https://lh3.googleusercontent.com/a-/AOh14Ght6Dyv6e4hfso-1xpfI7hj0VNjb-z7AByT6gi2Tw=s64",
      "userId": "03266759294585342781"
     },
     "user_tz": 240
    },
    "id": "IJcA0IS78daW"
   },
   "outputs": [],
   "source": [
    "brand_to_generic = {'lipitor': 'atorvastatin',\n",
    "                    'zithromax': 'azithromycin',\n",
    "                    'amoxcil': 'amoxicillin',\n",
    "                    'singulair': 'montelukast',\n",
    "                    'nexium': 'esomeprazole',\n",
    "                    'plavix': 'clopidogrel',\n",
    "                    'abilify': 'ARIPiprazole'}"
   ]
  },
  {
   "cell_type": "markdown",
   "metadata": {
    "id": "OlsWg4Q28itP"
   },
   "source": [
    "  1. Get a list of brand name drugs that start with the letter `'a'`."
   ]
  },
  {
   "cell_type": "code",
   "execution_count": null,
   "metadata": {
    "id": "ZNYC230M8l5m"
   },
   "outputs": [],
   "source": [
    "# Write your code here"
   ]
  },
  {
   "cell_type": "markdown",
   "metadata": {
    "id": "_DzMwru_8mVk"
   },
   "source": [
    "  2. Count the number of generic drugs that end with the letter `'n'`."
   ]
  },
  {
   "cell_type": "code",
   "execution_count": null,
   "metadata": {
    "id": "MRDiEvWm8oBu"
   },
   "outputs": [],
   "source": [
    "# Write your code here"
   ]
  },
  {
   "cell_type": "markdown",
   "metadata": {
    "id": "3NUCyIzC8oYW"
   },
   "source": [
    "  3. Get a list of brand name drugs in alphabetical order."
   ]
  },
  {
   "cell_type": "code",
   "execution_count": null,
   "metadata": {
    "executionInfo": {
     "elapsed": 303,
     "status": "ok",
     "timestamp": 1632590229668,
     "user": {
      "displayName": "Alex Mariakakis",
      "photoUrl": "https://lh3.googleusercontent.com/a-/AOh14Ght6Dyv6e4hfso-1xpfI7hj0VNjb-z7AByT6gi2Tw=s64",
      "userId": "03266759294585342781"
     },
     "user_tz": 240
    },
    "id": "I32fhgih80BC"
   },
   "outputs": [],
   "source": [
    "# Write your code here"
   ]
  },
  {
   "cell_type": "markdown",
   "metadata": {
    "id": "3VFLcY_Ta7jI"
   },
   "source": [
    "## Inverting a Dictionary "
   ]
  },
  {
   "cell_type": "markdown",
   "metadata": {
    "id": "MfSVooMbpRxj"
   },
   "source": [
    "Dictionaries are primarily designed to be searched according to their keys. However, there might be cases when you need to search by value instead."
   ]
  },
  {
   "cell_type": "markdown",
   "metadata": {
    "id": "A6NvF163p2K-"
   },
   "source": [
    "Take this list of phone numbers for example, in which people can have multiple phone numbers:"
   ]
  },
  {
   "cell_type": "code",
   "execution_count": null,
   "metadata": {
    "executionInfo": {
     "elapsed": 322,
     "status": "ok",
     "timestamp": 1632585422063,
     "user": {
      "displayName": "Alex Mariakakis",
      "photoUrl": "https://lh3.googleusercontent.com/a-/AOh14Ght6Dyv6e4hfso-1xpfI7hj0VNjb-z7AByT6gi2Tw=s64",
      "userId": "03266759294585342781"
     },
     "user_tz": 240
    },
    "id": "vH7CXkpAa7jI"
   },
   "outputs": [],
   "source": [
    "phone_to_person = {'555-7632': 'Paul', '555-9832': 'Andrew', \n",
    "                   '555-6677': 'Dan', '555-9823': 'Michael',\n",
    "                   '555-6342' : 'Cathy', '555-2222': 'Michael',\n",
    "                   '555-7343' : 'Diane', '555-1982' : 'Cathy'}"
   ]
  },
  {
   "cell_type": "markdown",
   "metadata": {
    "id": "kGB5_7WYa7jI"
   },
   "source": [
    "If we want to get all of the phone numbers associated with Michael, we could iterate through the dictionary looking for all key-value pairs where the value is `'Michael'`:"
   ]
  },
  {
   "cell_type": "code",
   "execution_count": null,
   "metadata": {
    "id": "rp3NwMLAa7jJ"
   },
   "outputs": [],
   "source": [
    "michael = []\n",
    "for key in phone_to_person:\n",
    "    if phone_to_person[key] == 'Michael':\n",
    "        michael.append(key)\n",
    "print(michael)"
   ]
  },
  {
   "cell_type": "markdown",
   "metadata": {
    "id": "I09F913ha7jJ"
   },
   "source": [
    "If we want to do this for all people, we can **invert** the dictionary such that the keys become values and the values become keys. In this examples, that would make the names the keys and the numbers the values:"
   ]
  },
  {
   "cell_type": "code",
   "execution_count": null,
   "metadata": {
    "colab": {
     "base_uri": "https://localhost:8080/"
    },
    "executionInfo": {
     "elapsed": 6,
     "status": "ok",
     "timestamp": 1632585424389,
     "user": {
      "displayName": "Alex Mariakakis",
      "photoUrl": "https://lh3.googleusercontent.com/a-/AOh14Ght6Dyv6e4hfso-1xpfI7hj0VNjb-z7AByT6gi2Tw=s64",
      "userId": "03266759294585342781"
     },
     "user_tz": 240
    },
    "id": "2ACQwrQKa7jJ",
    "outputId": "565fa87e-f65a-4da0-f904-cfff6ffee074"
   },
   "outputs": [],
   "source": [
    "person_to_phone = {}\n",
    "for (number, name) in phone_to_person.items():\n",
    "    # Check if the person is already in the new dictionary\n",
    "    if name not in person_to_phone:\n",
    "        # Initialize the key with a new list\n",
    "        person_to_phone[name] = [number]\n",
    "    else:\n",
    "        # Add the number to the existing list\n",
    "        person_to_phone[name].append(number)\n",
    "print(person_to_phone)"
   ]
  }
 ],
 "metadata": {
  "colab": {
   "collapsed_sections": [],
   "name": "Copy of dictionaries.ipynb",
   "provenance": [
    {
     "file_id": "https://github.com/C4M-UofT/C4M-UofT.github.io/blob/master/notebooks/dictionaries.ipynb",
     "timestamp": 1632010781373
    }
   ]
  },
  "kernelspec": {
   "display_name": "Python 3",
   "language": "python",
   "name": "python3"
  },
  "language_info": {
   "codemirror_mode": {
    "name": "ipython",
    "version": 3
   },
   "file_extension": ".py",
   "mimetype": "text/x-python",
   "name": "python",
   "nbconvert_exporter": "python",
   "pygments_lexer": "ipython3",
   "version": "3.6.13"
  }
 },
 "nbformat": 4,
 "nbformat_minor": 4
}
