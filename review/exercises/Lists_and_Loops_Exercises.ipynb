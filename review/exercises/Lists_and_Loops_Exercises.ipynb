{
  "cells": [
    {
      "cell_type": "markdown",
      "metadata": {
        "id": "_hvO2Fk9nghg"
      },
      "source": [
        "## Important: Run this code cell each time you start a new session!"
      ]
    },
    {
      "cell_type": "code",
      "execution_count": null,
      "metadata": {
        "id": "CR3MVg81IvWX",
        "jupyter": {
          "source_hidden": true
        }
      },
      "outputs": [],
      "source": [
        "# Do not edit this cell\n",
        "def test_homework(test_name, actual, expected):\n",
        "  if actual == expected:\n",
        "    print(f\"Test passed: {test_name}.\")\n",
        "    return 1\n",
        "  else:\n",
        "    print(f\"Test failed: {test_name}. Expected {expected}, got {actual}\")\n",
        "    return 0\n",
        "\n",
        "def compare_hw_scores(score, max_score):\n",
        "  if score == max_score:\n",
        "    print(\"All test cases passed!\")\n",
        "  print(f\"Mark: {score} / {max_score}\")\n",
        "\n",
        "print(\"Done!\")"
      ]
    },
    {
      "cell_type": "markdown",
      "metadata": {
        "id": "WPEnQa9AvN6U"
      },
      "source": [
        "# Instructions"
      ]
    },
    {
      "cell_type": "markdown",
      "metadata": {
        "id": "eaMNusnTvXT-"
      },
      "source": [
        "Each exercise generally consists of four parts.\n",
        "1.   A description of the function you need to implement\n",
        "2.   Any starter code to help you write your code\n",
        "3.   A separate code block where you can test out various parts of your code\n",
        "4.   An autograder that will evaluate your code against some test cases we have selected"
      ]
    },
    {
      "cell_type": "markdown",
      "source": [
        "The final cell of this notebook runs all of the test cases in the notebook on all the functions. This cell will not run unless you run the autograder for each exercise first."
      ],
      "metadata": {
        "id": "K5tJOL7fggAB"
      }
    },
    {
      "cell_type": "markdown",
      "metadata": {
        "id": "1dkOO9SFvTin"
      },
      "source": [
        "To get full credit for this assignment, we should be able to run your code all the way through the autograder without any errors. To check this, click the text cell ***immediately after*** the final autograder, then go to \"Runtime\" > \"Run before\" in the Google Colab menu."
      ]
    },
    {
      "cell_type": "markdown",
      "metadata": {
        "id": "vhFh0ZUf4FPJ"
      },
      "source": [
        "# Exercise 1: Password Validity"
      ]
    },
    {
      "cell_type": "markdown",
      "metadata": {
        "id": "UzEez9h-5XsK"
      },
      "source": [
        "Hackers and computer intruders use automated software to submit hundreds of guesses per minute to user accounts and attempt to gain access. These tools use lists of dictionary words to guess the password sequentially.\n",
        "\n",
        "For the purposes of this exercise, let's assume that a password is considered strong if it satisfies the following criteria:\n",
        "- Length greater than or equal to 6\n",
        "- Contains at least one lowercase letter\n",
        "- Contains at least one uppercase letter\n",
        "- Contains at least one digit\n",
        "\n",
        "Complete the function below to check if a password is strong."
      ]
    },
    {
      "cell_type": "code",
      "execution_count": null,
      "metadata": {
        "id": "IGoaWYi15dxj"
      },
      "outputs": [],
      "source": [
        "def check_password(passwd):\n",
        "    \"\"\" (str) -> bool\n",
        "\n",
        "    A strong password has a length greater than or equal to 6, contains at\n",
        "    least one lowercase letter, at least one uppercase letter, and at least\n",
        "    one digit.  Return True iff passwd is considered strong.\n",
        "\n",
        "    >>> check_password('I<3csc108')\n",
        "    True\n",
        "    \"\"\"\n",
        "    # Write your code here"
      ]
    },
    {
      "cell_type": "code",
      "execution_count": null,
      "metadata": {
        "id": "HLMCN_RZ5eIC"
      },
      "outputs": [],
      "source": [
        "# Test your function here"
      ]
    },
    {
      "cell_type": "markdown",
      "metadata": {
        "id": "n7iHJoEPnghm"
      },
      "source": [
        "#### Run the hidden code cell to evaluate Exercise 1"
      ]
    },
    {
      "cell_type": "code",
      "execution_count": null,
      "metadata": {
        "id": "_6nh6YC25f-M",
        "jupyter": {
          "source_hidden": true
        }
      },
      "outputs": [],
      "source": [
        "# Do not edit this cell\n",
        "def check_exercise1():\n",
        "  ex_score, max_ex_score = 0, 0\n",
        "\n",
        "  ex_score += test_homework(\"Too short.\", check_password('dE6gh'), False)\n",
        "  max_ex_score += 1\n",
        "  ex_score += test_homework(\"Empty string.\", check_password(''), False)\n",
        "  max_ex_score += 1\n",
        "  ex_score += test_homework(\"Exactly six letters, at least one of each kind that we need.\", check_password('dE6ghi'), True)\n",
        "  max_ex_score += 1\n",
        "  ex_score += test_homework(\"More than six letters, at least one of each kind that we need.\", check_password('dE6ghijklm'), True)\n",
        "  max_ex_score += 1\n",
        "  ex_score += test_homework(\"Ends in digit.\", check_password('!!!!eF9'), True)\n",
        "  max_ex_score += 1\n",
        "  ex_score += test_homework(\"Ends in uppercase.\", check_password('!!!!e9F'), True)\n",
        "  max_ex_score += 1\n",
        "  ex_score += test_homework(\"Ends in lowercase.\", check_password('!!!!E9f'), True)\n",
        "  max_ex_score += 1\n",
        "  ex_score += test_homework(\"Starts with lowercase.\", check_password('a2C!!!g'), True)\n",
        "  max_ex_score += 1\n",
        "  ex_score += test_homework(\"Starts with digit.\", check_password('2bC!!!g'), True)\n",
        "  max_ex_score += 1\n",
        "  ex_score += test_homework(\"Starts with uppercase.\", check_password('Ab3!!!g'), True)\n",
        "  max_ex_score += 1\n",
        "  ex_score += test_homework(\"All sandwiched in between.\", check_password('!!!aB3!'), True)\n",
        "  max_ex_score += 1\n",
        "  ex_score += test_homework(\"Missing digit.\", check_password('aaaaaaB'), False)\n",
        "  max_ex_score += 1\n",
        "  ex_score += test_homework(\"Missing uppercase.\", check_password('aaaaaa1'), False)\n",
        "  max_ex_score += 1\n",
        "  ex_score += test_homework(\"Missing lowercase.\", check_password('AAAAAA1'), False)\n",
        "  max_ex_score += 1\n",
        "\n",
        "  compare_hw_scores(ex_score, max_ex_score)\n",
        "  return ex_score, max_ex_score\n",
        "\n",
        "_ = check_exercise1()"
      ]
    },
    {
      "cell_type": "markdown",
      "metadata": {
        "id": "E7d_GgsC7Mil"
      },
      "source": [
        "# Exercise 2: Find an Even Number"
      ]
    },
    {
      "cell_type": "markdown",
      "metadata": {
        "id": "UbEwGEsQnfi_"
      },
      "source": [
        "Complete the function below to identify the first even number in a list called `items`. If there are no even numbers, the function should return `-1`."
      ]
    },
    {
      "cell_type": "code",
      "execution_count": null,
      "metadata": {
        "id": "YSgNb0jfnlQf"
      },
      "outputs": [],
      "source": [
        "def first_even(items):\n",
        "    \"\"\" (list of int) -> int\n",
        "\n",
        "    Return the first even number from items. Return -1 if items contains no even numbers.\n",
        "\n",
        "    >>> first_even([5, 8, 3, 2])\n",
        "    8\n",
        "    >>> first_even([7, 1])\n",
        "    -1\n",
        "    \"\"\"\n",
        "    # Write your code here"
      ]
    },
    {
      "cell_type": "code",
      "execution_count": null,
      "metadata": {
        "id": "gPPBe6YmXPSH"
      },
      "outputs": [],
      "source": [
        "# Test your function here"
      ]
    },
    {
      "cell_type": "markdown",
      "metadata": {
        "id": "3YKXmZG6nghp"
      },
      "source": [
        "#### Run the hidden code cell to evaluate Exercise 2"
      ]
    },
    {
      "cell_type": "code",
      "execution_count": null,
      "metadata": {
        "id": "8HeC-ozmXgpg",
        "jupyter": {
          "source_hidden": true
        }
      },
      "outputs": [],
      "source": [
        "# Do not edit this cell\n",
        "def check_exercise2():\n",
        "  ex_score, max_ex_score = 0, 0\n",
        "\n",
        "  ex_score += test_homework(\"The list does not start with an even number\", first_even([1, 9, 4, 77, 13, 6, 8]), 4)\n",
        "  max_ex_score += 1\n",
        "  ex_score += test_homework(\"The list is empty\", first_even([]), -1)\n",
        "  max_ex_score += 1\n",
        "  ex_score += test_homework(\"The list contains only even numbers\", first_even([2, 4, 6, 8]), 2)\n",
        "  max_ex_score += 1\n",
        "  ex_score += test_homework(\"The list contains odd integers: there are no even numbers\", first_even([1, 9, 3, 77, 13, 5, 7]), -1)\n",
        "  max_ex_score += 1\n",
        "  ex_score += test_homework(\"The list contains several odd integers followed by one even integer: the even integer is the last item in the list\", first_even([1, 9, 3, 77, 13, 5, 8]), 8)\n",
        "  max_ex_score += 1\n",
        "  ex_score += test_homework(\"The list is empty\", first_even([8, 10, 2, 4, 6, 8]), 8)\n",
        "  max_ex_score += 1\n",
        "\n",
        "  compare_hw_scores(ex_score, max_ex_score)\n",
        "  return ex_score, max_ex_score\n",
        "\n",
        "_ = check_exercise2()"
      ]
    },
    {
      "cell_type": "markdown",
      "metadata": {
        "id": "3ygSOdeurVX4"
      },
      "source": [
        "# Exercise 3: Collecting Low Values\n"
      ]
    },
    {
      "cell_type": "markdown",
      "source": [
        "Complete the function below to return a new list that only has the values in `nums` that fall below a threshold. The new list should have the values in the same order as they were in the original list."
      ],
      "metadata": {
        "id": "ZjtNON879H-g"
      }
    },
    {
      "cell_type": "code",
      "execution_count": null,
      "metadata": {
        "id": "2oz2_RgwrZqp"
      },
      "outputs": [],
      "source": [
        "def collect_low_values(nums, threshold):\n",
        "    \"\"\" (list of number, int) -> list of number\n",
        "\n",
        "    Return a new list consisting of those numbers in nums that are below threshold,\n",
        "    in the same order as in nums.\n",
        "\n",
        "    >>> collect_low_values([1, 2, 3, 4], 3)\n",
        "    [1, 2]\n",
        "    >>> collect_low_values([1, 2, 108, 3, 4], 50)\n",
        "    [1, 2, 3, 4]\n",
        "    >>> collect_low_values([], 7)\n",
        "    []\n",
        "    \"\"\"\n",
        "    # Write your code here"
      ]
    },
    {
      "cell_type": "code",
      "execution_count": null,
      "metadata": {
        "id": "I3fb_snErpIE"
      },
      "outputs": [],
      "source": [
        "# Test you function here"
      ]
    },
    {
      "cell_type": "markdown",
      "metadata": {
        "id": "dKMcinvNnghr"
      },
      "source": [
        "#### Run the hidden code cell to evaluate Exercise 3"
      ]
    },
    {
      "cell_type": "code",
      "execution_count": null,
      "metadata": {
        "id": "2k_g2iG1rw0H",
        "jupyter": {
          "source_hidden": true
        }
      },
      "outputs": [],
      "source": [
        "# Do not edit this cell\n",
        "def check_exercise3():\n",
        "  ex_score, max_ex_score = 0, 0\n",
        "\n",
        "  ex_score += test_homework(\"Empty list.\", collect_low_values([], 100), [])\n",
        "  max_ex_score += 1\n",
        "  ex_score += test_homework(\"Single element list, no underperformers.\", collect_low_values([5], 3), [])\n",
        "  max_ex_score += 1\n",
        "  ex_score += test_homework(\"Single element list, one underperformer.\", collect_low_values([2], 5), [2])\n",
        "  max_ex_score += 1\n",
        "  ex_score += test_homework(\"Multiple element list, no underperformers.\", collect_low_values([7, 11, 5, 4, 9], 4), [])\n",
        "  max_ex_score += 1\n",
        "  ex_score += test_homework(\"Multiple element list, some underperformers.\", collect_low_values([1, 7, 5, 3], 5), [1, 3])\n",
        "  max_ex_score += 1\n",
        "  ex_score += test_homework(\"Multiple element list, all underperformers.\", collect_low_values([4, 3, 9], 10), [4, 3, 9])\n",
        "  max_ex_score += 1\n",
        "\n",
        "  compare_hw_scores(ex_score, max_ex_score)\n",
        "  return ex_score, max_ex_score\n",
        "\n",
        "_ = check_exercise3()"
      ]
    },
    {
      "cell_type": "markdown",
      "metadata": {
        "id": "QCy7ykTduQi_"
      },
      "source": [
        "# Exercise 4: Scale Midterm Grades"
      ]
    },
    {
      "cell_type": "markdown",
      "metadata": {
        "id": "LC_o90TMuTd2"
      },
      "source": [
        "Complete the function below to modify a list of grades according to a `multiplier`, followed by an additive `bonus`. Grades are capped at 100.\n",
        "\n",
        "**Important:** Note how the docstring specifies that you should **modify** the original list of grades rather than return a new list. If you return a new list, you will not pass this exercise."
      ]
    },
    {
      "cell_type": "code",
      "execution_count": null,
      "metadata": {
        "id": "bVDJ_ho9uU1z"
      },
      "outputs": [],
      "source": [
        "def scale_midterm_grades(grades, multiplier, bonus):\n",
        "    \"\"\" (list of number, number, number) -> NoneType\n",
        "\n",
        "    Modify each grade in grades by multiplying it by multiplier and then\n",
        "    adding bonus. Cap grades at 100.\n",
        "\n",
        "    >>> grades = [45, 50, 55, 95]\n",
        "    >>> scale_midterm_grades(grades, 1, 10)\n",
        "    >>> grades\n",
        "    [55, 60, 65, 100]\n",
        "\n",
        "    >>> grades = [45, 50, 55, 95]\n",
        "    >>> scale_midterm_grades(grades, 2, 5)\n",
        "    >>> grades\n",
        "    [95, 100, 100, 100]\n",
        "    \"\"\"\n",
        "    # Write your code here"
      ]
    },
    {
      "cell_type": "code",
      "execution_count": null,
      "metadata": {
        "id": "HsC7dIwauVWo"
      },
      "outputs": [],
      "source": [
        "# Test your function here"
      ]
    },
    {
      "cell_type": "markdown",
      "metadata": {
        "id": "Hr-0c2Z9nghu"
      },
      "source": [
        "#### Run the hidden code cell to evaluate Exercise 4"
      ]
    },
    {
      "cell_type": "code",
      "execution_count": null,
      "metadata": {
        "id": "49EVfnlbumMT",
        "jupyter": {
          "source_hidden": true
        }
      },
      "outputs": [],
      "source": [
        "# Do not edit this cell\n",
        "def check_exercise4():\n",
        "  ex_score, max_ex_score = 0, 0\n",
        "\n",
        "  grades = []\n",
        "  scale_midterm_grades(grades, 1, 100)\n",
        "  ex_score += test_homework(\"Empty list.\", grades, [])\n",
        "  max_ex_score += 1\n",
        "  grades = [50]\n",
        "  scale_midterm_grades(grades, 1, 0)\n",
        "  ex_score += test_homework(\"Single element, no change.\", grades, [50])\n",
        "  max_ex_score += 1\n",
        "  grades = [40]\n",
        "  scale_midterm_grades(grades, 2, 0)\n",
        "  ex_score += test_homework(\"Single element, multiplier.\", grades, [80])\n",
        "  max_ex_score += 1\n",
        "  grades = [20]\n",
        "  scale_midterm_grades(grades, 1, 50)\n",
        "  ex_score += test_homework(\"Single element, bonus.\", grades, [70])\n",
        "  max_ex_score += 1\n",
        "  grades = [56, 76, 90, 11, 55]\n",
        "  scale_midterm_grades(grades, 1, 0)\n",
        "  ex_score += test_homework(\"Multiple elements, no change.\", grades, [56, 76, 90, 11, 55])\n",
        "  max_ex_score += 1\n",
        "  grades = [20, 40, 30, 60]\n",
        "  scale_midterm_grades(grades, 2, 0)\n",
        "  ex_score += test_homework(\"Multiple elements, multiplier.\", grades, [40, 80, 60, 100])\n",
        "  max_ex_score += 1\n",
        "  grades = [20, 40, 30, 60]\n",
        "  scale_midterm_grades(grades, 1, 50)\n",
        "  ex_score += test_homework(\"Multiple elements, bonus.\", grades, [70, 90, 80, 100])\n",
        "  max_ex_score += 1\n",
        "  grades = [20, 40, 30, 60]\n",
        "  scale_midterm_grades(grades, 2, 10)\n",
        "  ex_score += test_homework(\"Multiple elements, all modifications.\", grades, [50, 90, 70, 100])\n",
        "  max_ex_score += 1\n",
        "\n",
        "  compare_hw_scores(ex_score, max_ex_score)\n",
        "  return ex_score, max_ex_score\n",
        "\n",
        "_ = check_exercise4()"
      ]
    },
    {
      "cell_type": "markdown",
      "source": [
        "# Exercise 5: Weight Watchers"
      ],
      "metadata": {
        "id": "SgLK_Ae0CSu6"
      }
    },
    {
      "cell_type": "markdown",
      "metadata": {
        "id": "ANg_ngjHuV4A"
      },
      "source": [
        "A patient is trying to lose 10% of their original body weight. Given a list of weekly weight measurements, complete the function below so that it returns the number of weeks until the patient achieves this goal.\n",
        "\n",
        "Even if the patient's weight fluctuates afterwards, report the first time that their weight is below 90% of the original value. If the patient never reaches their goal, return -1."
      ]
    },
    {
      "cell_type": "code",
      "execution_count": null,
      "metadata": {
        "id": "W458KVVsuWKv"
      },
      "outputs": [],
      "source": [
        "def weeks_to_goal(weights):\n",
        "    \"\"\"  (list of number) -> int\n",
        "\n",
        "    Return the number of weeks until the patient has lost at least 10%\n",
        "    of the original weight using the measurements from weights.\n",
        "    Return -1 if goal is never reached.\n",
        "\n",
        "    >>> weeks_to_first_goal([100, 95, 93.4, 92, 91.5, 89.5, 88, 80])\n",
        "    5\n",
        "    \"\"\"\n",
        "    # Write your code here"
      ]
    },
    {
      "cell_type": "code",
      "execution_count": null,
      "metadata": {
        "id": "dhk7DcRuuWby"
      },
      "outputs": [],
      "source": [
        "# Test your function here"
      ]
    },
    {
      "cell_type": "markdown",
      "metadata": {
        "id": "8YIphBq_nghy"
      },
      "source": [
        "#### Run the hidden code cell to evaluate Exercise 5"
      ]
    },
    {
      "cell_type": "code",
      "execution_count": null,
      "metadata": {
        "id": "ibgB0EI6wjAm",
        "jupyter": {
          "source_hidden": true
        }
      },
      "outputs": [],
      "source": [
        "# Do not edit this cell\n",
        "def check_exercise5():\n",
        "  ex_score, max_ex_score = 0, 0\n",
        "\n",
        "  ex_score += test_homework(\"Example from description\", weeks_to_goal([100, 95, 93.4, 92, 91.5, 89.5, 88, 80]), 5)\n",
        "  max_ex_score += 1\n",
        "  ex_score += test_homework(\"Goal never reached\", weeks_to_goal([100, 95, 93.4, 92, 91.5, 93.5, 98, 100]), -1)\n",
        "  max_ex_score += 1\n",
        "  ex_score += test_homework(\"Another example\", weeks_to_goal([100, 95, 93.4, 89.5, 88]), 3)\n",
        "  max_ex_score += 1\n",
        "  ex_score += test_homework(\"Example where initial weight is not 100\", weeks_to_goal([200, 190, 189.5, 188, 180, 175.4]), 4)\n",
        "  max_ex_score += 1\n",
        "\n",
        "  compare_hw_scores(ex_score, max_ex_score)\n",
        "  return ex_score, max_ex_score\n",
        "\n",
        "_ = check_exercise5()"
      ]
    },
    {
      "cell_type": "markdown",
      "metadata": {
        "id": "WntG1TsuyUUG"
      },
      "source": [
        "# Homework Completion"
      ]
    },
    {
      "cell_type": "markdown",
      "source": [
        "Please read the instructions below the following code block."
      ],
      "metadata": {
        "id": "H5_iyXCyP9O0"
      }
    },
    {
      "cell_type": "code",
      "execution_count": null,
      "metadata": {
        "id": "1nPQEMQkuBjr",
        "jupyter": {
          "source_hidden": true
        }
      },
      "outputs": [],
      "source": [
        "# Do not edit this cell\n",
        "hw_score, max_hw_score = 0, 0\n",
        "\n",
        "try:\n",
        "  ex1_score, max_ex1_score = check_exercise1()\n",
        "  hw_score += ex1_score\n",
        "  max_hw_score += max_ex1_score\n",
        "\n",
        "  ex2_score, max_ex2_score = check_exercise2()\n",
        "  hw_score += ex2_score\n",
        "  max_hw_score += max_ex2_score\n",
        "\n",
        "  ex3_score, max_ex3_score = check_exercise3()\n",
        "  hw_score += ex3_score\n",
        "  max_hw_score += max_ex3_score\n",
        "\n",
        "  ex4_score, max_ex4_score = check_exercise4()\n",
        "  hw_score += ex4_score\n",
        "  max_hw_score += max_ex4_score\n",
        "\n",
        "  ex5_score, max_ex5_score = check_exercise5()\n",
        "  hw_score += ex5_score\n",
        "  max_hw_score += max_ex5_score\n",
        "\n",
        "except NameError:\n",
        "  raise Exception(\"Autograder failed to run. You have either not completed all of the exercises or did not run the entire notebook\")\n",
        "\n",
        "compare_hw_scores(hw_score, max_hw_score)"
      ]
    },
    {
      "cell_type": "markdown",
      "source": [
        "To confirm that you've completed all of the exercises and that your notebook is suitable for submission, run the entire notebook from start to finish. You can do this in one of two ways:\n",
        "1.  Select \"Runtime\" > \"Run all\" in the Google Colab menu\n",
        "2. Click inside this cell, then select \"Runtime\" > \"Run before\" in the Google Colab menu."
      ],
      "metadata": {
        "id": "yhOxTlzsvVVr"
      }
    }
  ],
  "metadata": {
    "colab": {
      "collapsed_sections": [
        "_hvO2Fk9nghg",
        "WPEnQa9AvN6U",
        "vhFh0ZUf4FPJ",
        "n7iHJoEPnghm",
        "E7d_GgsC7Mil",
        "3YKXmZG6nghp",
        "3ygSOdeurVX4",
        "dKMcinvNnghr",
        "QCy7ykTduQi_",
        "Hr-0c2Z9nghu",
        "SgLK_Ae0CSu6",
        "8YIphBq_nghy",
        "WntG1TsuyUUG"
      ],
      "provenance": []
    },
    "kernelspec": {
      "display_name": "Python 3",
      "language": "python",
      "name": "python3"
    },
    "language_info": {
      "codemirror_mode": {
        "name": "ipython",
        "version": 3
      },
      "file_extension": ".py",
      "mimetype": "text/x-python",
      "name": "python",
      "nbconvert_exporter": "python",
      "pygments_lexer": "ipython3",
      "version": "3.6.13"
    }
  },
  "nbformat": 4,
  "nbformat_minor": 0
}