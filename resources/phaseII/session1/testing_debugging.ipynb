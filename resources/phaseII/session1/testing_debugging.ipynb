{
 "cells": [
  {
   "cell_type": "markdown",
   "metadata": {},
   "source": [
    "# Testing and Debugging\n",
    "\n",
    "When we write programs, they don't always work as expected.  Sometimes the problems with programs are obvious, but other times they are more subtle.  In this lesson, we explore how to test whether a program works correctly.  \n",
    "\n",
    "We will also teach how to use a software tool called a *debugger* to examine code to find the source of problems.  We say that a program is buggy, if it doesn't work as expected and can use a debugger to find [bugs](https://en.wikipedia.org/wiki/Software_bug).\n",
    "\n",
    "## Testing a program\n",
    "\n",
    "To check whether a program is correct, we execute it.  Let's say that we have written a function to add two numbers.  Is executing the add function once enough to ensure that it works as expected?  Ideally, we would execute a program with all possible inputs, but that isn't usually realistic.  We can't test our add function with all possible combinations of numbers, because we'd have an infinite number of test cases!\n",
    "\n",
    "Instead of testing with all possible values, we use a set of values that we chose to represent the various categories of inputs.  For example, we might try adding two possible numbers, a negative number and a positive number, and so on.  We might also test with both integers and floats.  \n",
    "\n",
    "## General tips for choosing test cases\n",
    "\n",
    "* **Size**\n",
    "    For collections (strings, lists, dictionaries, etc.):\n",
    "        * empty collection\n",
    "        * a collection with one item\n",
    "        * smallest interesting case\n",
    "        * collection with several items\n",
    "* **Dichotomies**\n",
    "    Depending on the problem, testing dichomomies might be relevant (e.g., vowels/non-vowels, even/odd, positive/negative, empty/full, etc.)\n",
    "* **Boundaries**\n",
    "    If a function behaves differently near a particular threshold (e.g., an `if` statement checking whether a value is 3; 3 is a threshold), then test at that threshold.\n",
    "* **Order**\n",
    "    If a function behaves differently when the values are in a different order, identify and test each of those orders.\n",
    "\n",
    "\n",
    "### Example: \n",
    "\n",
    "Let's test function `count_lowercase_vowels`:"
   ]
  },
  {
   "cell_type": "code",
   "execution_count": 6,
   "metadata": {
    "collapsed": false
   },
   "outputs": [],
   "source": [
    "def count_lowercase_vowels(s):\n",
    "    \"\"\" (str) -> int\n",
    "    \n",
    "    Return the number of vowels (a, e, i, o, and u) in s.\n",
    "    \n",
    "    >>> count_lowercase_vowels('Happy Anniversary!')\n",
    "    4\n",
    "    >>> count_lowercase_vowels('xyz')\n",
    "    0\n",
    "    \"\"\""
   ]
  },
  {
   "cell_type": "markdown",
   "metadata": {},
   "source": [
    "To test `count_lowercase_vowels`, we need to:\n",
    "\n",
    "* pick values for the string argument, and\n",
    "* call the function to ensure it returns what we expect for each case.\n",
    "\n",
    "It is not realistic to test using every single possible string argument. Instead, we create relevant categories, and choose one representative string argument from each category. To choose the string argument, consider:\n",
    "* the length of the string, and\n",
    "* the characters that make up the string.\n",
    "\n",
    "There are many possible for string lengths. For this example, we'll consider strings that have these lengths:\n",
    "\n",
    "* 0 (empty)\n",
    "* 1 (single character)\n",
    "* 6 (longer)\n",
    "\n",
    "Which characters should we use? For this example, we'll choose characters based on whether they are vowels or non-vowels. The actual character doesn't matter.\n",
    "If we want a non-vowel, we could use `'b'`, `'n'`, `'?'`, or any other character that is not a vowel.\n",
    "\n",
    "We will make a table of the test cases with the following 3 columns:\n",
    "value of the argument to the function\n",
    "expected return value of the function\n",
    "a description of the test case\n",
    "\n",
    "|**`s`**  |  **Expected Value**|**Description** |\n",
    "|---------|--------------------|------------------|\n",
    "|`''`\t  |    0\t           |   empty string   |\n",
    "|`'a'`\t  |    1\t           |  single char, vowel|\n",
    "|`'b'`\t  |    0\t           |   single char, non-vowel|\n",
    "|`'pfffft'`|\t  0\t           |   several chars, no vowels|\n",
    "|`'bandit'`|\t  2\t           |   several chars, some vowels|\n",
    "|`'aeioua'`|\t  6\t           |   several chars, all vowels; note: we included all 5 vowels to ensure each one is properly counted.|\n",
    "\n",
    "We then execute each test case and make sure that the function returns the expected value.  We can use the `assert` function to compare the value returned and the expected value. If the two values differ, an assertion error occurs and you need to investigate the bug."
   ]
  },
  {
   "cell_type": "code",
   "execution_count": 12,
   "metadata": {
    "collapsed": false
   },
   "outputs": [],
   "source": [
    "assert(count_lowercase_vowels('') == 0)\n",
    "assert(count_lowercase_vowels('a') == 1)\n",
    "assert(count_lowercase_vowels('b') == 0)\n",
    "assert(count_lowercase_vowels('pfffft') == 0)\n",
    "assert(count_lowercase_vowels('bandit') == 2)\n",
    "assert(count_lowercase_vowels('aeioua') == 6)"
   ]
  },
  {
   "cell_type": "markdown",
   "metadata": {},
   "source": [
    "### Practice Exercise: testing `is_teenager`\n",
    "\n",
    "Your task is to choose test cases for function `is_teenager`:"
   ]
  },
  {
   "cell_type": "code",
   "execution_count": 14,
   "metadata": {
    "collapsed": true
   },
   "outputs": [],
   "source": [
    "def is_teenager(age):\n",
    "   \"\"\" (int) -> bool\n",
    "   Precondition: age >= 0\n",
    " \n",
    "   Return True iff age is a teenager between 13 and 18 inclusive.\n",
    "   \"\"\""
   ]
  },
  {
   "cell_type": "markdown",
   "metadata": {},
   "source": [
    "Complete the table below, by choosing a set of test cases. Test only with valid input and avoid duplicate tests. The table may contain more rows than necessary.\n",
    "\n",
    "| Test Case Description | Value of `age` | Expected result |\n",
    "|-----------------------|-------------|-----------------|\n",
    "| &nbsp;     |      |     |\n",
    "| &nbsp;| | |\n",
    "|&nbsp; | | |\n",
    "|&nbsp; | | |\n",
    "| &nbsp;| | |\n",
    "|&nbsp; | | |\n",
    "|&nbsp; | | ||\n",
    "\n",
    "Once you've chosen your tests, check to see whether they catch the bugs in these [buggy versions of `is_teenager`](broken_is_teenager.pdf)."
   ]
  },
  {
   "cell_type": "markdown",
   "metadata": {},
   "source": [
    "## Using a Debugger\n",
    "\n",
    "We've already used the [Python Visualizer](http://pythontutor.com/csc108h.html#mode=edit) to visualize memory during Python program execution.  The Python Visualizer is a very useful too, but is has some limitations.  It can only be used for programs that run without error and on programs of a certain size (there is an upper limit on the number of lines). In addition, it cannot be used with programs that involve reading from or writing to files.\n",
    "\n",
    "A more common approach for visualizing programs, is to use a debugger, such as the one provided by Wing 101 IDE.  We'll now demonstrate how to use Wing's debugger.  To review the steps and terminology, you may find [this video demonstration](https://media.library.utoronto.ca/uoft/serve/HJj7SQEoECoV.mp4) helpful.\n",
    "\n",
    "Here is the code used in our demonstration:"
   ]
  },
  {
   "cell_type": "code",
   "execution_count": 18,
   "metadata": {
    "collapsed": false
   },
   "outputs": [
    {
     "name": "stdout",
     "output_type": "stream",
     "text": [
      "10800\n"
     ]
    }
   ],
   "source": [
    "def convert_to_minutes(num_hours):\n",
    "    \"\"\" (int) -> int\n",
    "    \n",
    "    Return the number of minutes there are in num_hours hours.\n",
    "    \n",
    "    >>> convert_to_minutes(2)\n",
    "    120\n",
    "    \"\"\"\n",
    "    minutes = num_hours * 60\n",
    "    return minutes\n",
    "\n",
    "def convert_to_seconds(num_hours):\n",
    "    \"\"\" (int) -> int\n",
    "    \n",
    "    Return the number of seconds there are in num_hours hours.\n",
    "    \n",
    "    >>> convert_to_seconds(2)\n",
    "    7200\n",
    "    \"\"\"\n",
    "    minutes = convert_to_minutes(num_hours)\n",
    "    seconds = minutes * 60\n",
    "    return seconds\n",
    "\n",
    "seconds = convert_to_seconds(2)\n",
    "seconds = convert_to_seconds(3)\n",
    "print(seconds)"
   ]
  },
  {
   "cell_type": "markdown",
   "metadata": {},
   "source": [
    "### Practice exercise: using Wing's debugger\n",
    "\n",
    "Use Wing's debugger to trace the program above.  Try setting various breakpoints and using the step into, step over, and step out buttons."
   ]
  }
 ],
 "metadata": {
  "kernelspec": {
   "display_name": "Python 3",
   "language": "python",
   "name": "python3"
  },
  "language_info": {
   "codemirror_mode": {
    "name": "ipython",
    "version": 3
   },
   "file_extension": ".py",
   "mimetype": "text/x-python",
   "name": "python",
   "nbconvert_exporter": "python",
   "pygments_lexer": "ipython3",
   "version": "3.5.2"
  }
 },
 "nbformat": 4,
 "nbformat_minor": 1
}
