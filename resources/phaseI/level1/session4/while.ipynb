{
 "cells": [
  {
   "cell_type": "markdown",
   "metadata": {},
   "source": [
    "## `while` loop"
   ]
  },
  {
   "cell_type": "markdown",
   "metadata": {},
   "source": [
    "This example introduces a new kind of loop -- a `while` loop\n",
    "\n",
    "### Structure of a while loop ###\n",
    "\n",
    "        while expression:\n",
    "            body\n",
    "\n",
    "**What it does**\n",
    "\n",
    "        Check whether the Boolean expression (also known as the condition) is True.\n",
    "        If it is, execute the body of the loop and go back to the loop header.\n",
    "        Check again... \n",
    "\n",
    "Important Note: If the condition becomes false *during* the body of the loop, the\n",
    "loop does not stop at that moment.  The only time a decision about whether\n",
    "to continue or stop is made is when the loop header is reached."
   ]
  },
  {
   "cell_type": "markdown",
   "metadata": {},
   "source": [
    "### Example using `while`\n",
    "\n",
    "A `list` contains the patient's report about their well-being for each day. Return the number of days it takes for the patient to say `\"I'm fine\"`.\n",
    "\n",
    "For example: \n",
    "\n",
    "    reports = [\"My leg hurts\",\n",
    "           \"I'm tired\",\n",
    "           \"I'm sleepy\",\n",
    "           \"Awesome!\",\n",
    "           \"Hi Doctor, I'm fine\",\n",
    "           \"Bad again\"]\n",
    "\n",
    "For the list above, it takes 4 days for the patient to say `\"I'm fine\"`.\n",
    "\n",
    "Here is how to compute that using a while-loop:"
   ]
  },
  {
   "cell_type": "code",
   "execution_count": 4,
   "metadata": {
    "collapsed": false
   },
   "outputs": [
    {
     "name": "stdout",
     "output_type": "stream",
     "text": [
      "4\n"
     ]
    }
   ],
   "source": [
    "reports = [\"My leg hurts\",\n",
    "           \"I'm tired\",\n",
    "           \"I'm sleepy\",\n",
    "           \"Awesome!\",\n",
    "           \"Hi Doctor, I'm fine\",\n",
    "           \"Bad again\"]\n",
    "\n",
    "n_days = 0\n",
    "while reports[n_days].find(\"I'm fine\") == -1:\n",
    "    n_days += 1\n",
    "\n",
    "print(n_days)    "
   ]
  },
  {
   "cell_type": "markdown",
   "metadata": {},
   "source": [
    "What happens when the phrase `\"I'm fine\"` does not occur in `reports`?  In the solution above, the `find` method will return -1 and the loop exits."
   ]
  },
  {
   "cell_type": "markdown",
   "metadata": {},
   "source": [
    "### Loops Conditions and Lazy Evaluation\n",
    "\n",
    "The problem: print the characters of `str s`, up to the first vowel in `s`.\n",
    "\n",
    "The first attempt at solving this problem works nicely when `s` contains one or more vowels:\n",
    "\n",
    "\n"
   ]
  },
  {
   "cell_type": "code",
   "execution_count": 11,
   "metadata": {
    "collapsed": false
   },
   "outputs": [
    {
     "name": "stdout",
     "output_type": "stream",
     "text": [
      "C\n",
      "T\n",
      "T\n",
      "C\n"
     ]
    }
   ],
   "source": [
    "i = 0\n",
    "s = 'CTTCAGACCTTG'\n",
    "while not (s[i] in 'aeiouAEIOU'):\n",
    "    print(s[i])\n",
    "    i = i + 1\n"
   ]
  },
  {
   "cell_type": "markdown",
   "metadata": {},
   "source": [
    "However, an error occurs when the string does not contain any vowels:"
   ]
  },
  {
   "cell_type": "code",
   "execution_count": 10,
   "metadata": {
    "collapsed": false
   },
   "outputs": [
    {
     "name": "stdout",
     "output_type": "stream",
     "text": [
      "x\n",
      "y\n",
      "z\n"
     ]
    },
    {
     "ename": "IndexError",
     "evalue": "string index out of range",
     "output_type": "error",
     "traceback": [
      "\u001b[0;31m--------------------------------------------------------------------------\u001b[0m",
      "\u001b[0;31mIndexError\u001b[0m                               Traceback (most recent call last)",
      "\u001b[0;32m<ipython-input-10-d7960e01dace>\u001b[0m in \u001b[0;36m<module>\u001b[0;34m()\u001b[0m\n\u001b[1;32m      1\u001b[0m \u001b[0mi\u001b[0m \u001b[0;34m=\u001b[0m \u001b[0;36m0\u001b[0m\u001b[0;34m\u001b[0m\u001b[0m\n\u001b[1;32m      2\u001b[0m \u001b[0ms\u001b[0m \u001b[0;34m=\u001b[0m \u001b[0;34m'xyz'\u001b[0m\u001b[0;34m\u001b[0m\u001b[0m\n\u001b[0;32m----> 3\u001b[0;31m \u001b[0;32mwhile\u001b[0m \u001b[0;32mnot\u001b[0m \u001b[0;34m(\u001b[0m\u001b[0ms\u001b[0m\u001b[0;34m[\u001b[0m\u001b[0mi\u001b[0m\u001b[0;34m]\u001b[0m \u001b[0;32min\u001b[0m \u001b[0;34m'aeiouAEIOU'\u001b[0m\u001b[0;34m)\u001b[0m\u001b[0;34m:\u001b[0m\u001b[0;34m\u001b[0m\u001b[0m\n\u001b[0m\u001b[1;32m      4\u001b[0m     \u001b[0mprint\u001b[0m\u001b[0;34m(\u001b[0m\u001b[0ms\u001b[0m\u001b[0;34m[\u001b[0m\u001b[0mi\u001b[0m\u001b[0;34m]\u001b[0m\u001b[0;34m)\u001b[0m\u001b[0;34m\u001b[0m\u001b[0m\n\u001b[1;32m      5\u001b[0m     \u001b[0mi\u001b[0m \u001b[0;34m=\u001b[0m \u001b[0mi\u001b[0m \u001b[0;34m+\u001b[0m \u001b[0;36m1\u001b[0m\u001b[0;34m\u001b[0m\u001b[0m\n",
      "\u001b[0;31mIndexError\u001b[0m: string index out of range"
     ]
    }
   ],
   "source": [
    "i = 0\n",
    "s = 'xyz'\n",
    "while not (s[i] in 'aeiouAEIOU'):\n",
    "    print(s[i])\n",
    "    i = i + 1\n"
   ]
  },
  {
   "cell_type": "markdown",
   "metadata": {},
   "source": [
    "In the code above, the error occurs when `s` is indexed at `i` and `i` is outside of the range of valid indices. To prevent this error, add an additional condition is added to ensure that `i` is within the range of valid indices for `s`:"
   ]
  },
  {
   "cell_type": "code",
   "execution_count": 9,
   "metadata": {
    "collapsed": false
   },
   "outputs": [
    {
     "name": "stdout",
     "output_type": "stream",
     "text": [
      "x\n",
      "y\n",
      "z\n"
     ]
    }
   ],
   "source": [
    "i = 0\n",
    "s = 'xyz'\n",
    "while i < len(s) and not (s[i] in 'aeiouAEIOU'):\n",
    "    print(s[i])\n",
    "    i = i + 1\n"
   ]
  },
  {
   "cell_type": "markdown",
   "metadata": {},
   "source": [
    "The order of the conditions matters.  In Python, when the first operand to the `and` operator is `False`, the second operand is not evaluated.  Therefore, when `i >= len(s)`, the first operand is `False`, so the second operand isn't evaluated and the index out of range error is avoided."
   ]
  },
  {
   "cell_type": "markdown",
   "metadata": {},
   "source": [
    "### Practice Exercise: checking for valid input\n",
    "\n",
    "a) Write a function `yes_or_no` that asks a user to enter either `'yes'` or `'no'` and keeps looping asking again and\n",
    "again until the user enters one of these two options.\n",
    "\n",
    "b) Now, change your function so that it accepts any case variation such as `'Yes'`, `'YES'` or even `'nO'` and then returns the lowercase version of what the user provided. But if the user inputs `'nope'` or `'maybe'` or anything else, it doesn't return and asks again for `'yes'` or `'no'`."
   ]
  },
  {
   "cell_type": "markdown",
   "metadata": {},
   "source": [
    "### Practice Exercise: a better guessing game"
   ]
  },
  {
   "cell_type": "markdown",
   "metadata": {},
   "source": [
    "In a previous session, we wrote code to guess a number.  If the user guessed wrong, we reported `Too high`, `Too low`, or `You got it`:"
   ]
  },
  {
   "cell_type": "code",
   "execution_count": 13,
   "metadata": {
    "collapsed": false
   },
   "outputs": [
    {
     "name": "stdout",
     "output_type": "stream",
     "text": [
      "Enter a number between 1 and 10: 5\n",
      "Too high\n"
     ]
    }
   ],
   "source": [
    "# The first two lines generate a random integer between 1 and 10.\n",
    "import random\n",
    "secret = random.randint(1, 10)\n",
    "\n",
    "guess = int(input('Enter a number between 1 and 10: '))\n",
    "if guess == secret:\n",
    "    print('You got it')\n",
    "elif guess > secret:\n",
    "    print('Too high')\n",
    "else:\n",
    "    print('Too low')"
   ]
  },
  {
   "cell_type": "markdown",
   "metadata": {},
   "source": [
    "Now, rather than have the user guess only once, prompt the user to guess until they get it right."
   ]
  }
 ],
 "metadata": {
  "kernelspec": {
   "display_name": "Python 3",
   "language": "python",
   "name": "python3"
  },
  "language_info": {
   "codemirror_mode": {
    "name": "ipython",
    "version": 3
   },
   "file_extension": ".py",
   "mimetype": "text/x-python",
   "name": "python",
   "nbconvert_exporter": "python",
   "pygments_lexer": "ipython3",
   "version": "3.5.2"
  }
 },
 "nbformat": 4,
 "nbformat_minor": 1
}
