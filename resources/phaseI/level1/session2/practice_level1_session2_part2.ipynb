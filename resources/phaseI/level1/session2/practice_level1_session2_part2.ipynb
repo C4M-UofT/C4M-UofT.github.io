{
 "cells": [
  {
   "cell_type": "markdown",
   "metadata": {},
   "source": [
    "### Phase 1, Level 1, Session 2: Practice Exercises (Part 2)"
   ]
  },
  {
   "cell_type": "markdown",
   "metadata": {},
   "source": [
    "#### 1. Lists and Loops"
   ]
  },
  {
   "cell_type": "markdown",
   "metadata": {},
   "source": [
    "##### a) Practice Exercise: `range`\n",
    "\n",
    "Use `range` and a `for` loop to print every 4th number from 0 to 200, inclusive"
   ]
  },
  {
   "cell_type": "markdown",
   "metadata": {},
   "source": [
    "##### b) Practice Exercise: Iteration and Accumulation\n",
    "\n",
    "Once we know the sum of a list, computing the average is straight forward: all we need to do is divide the sum by the number of elements. \n",
    "\n",
    "First, consider how you can get the number of items in a list, using one of Python's built-in functions.\n",
    "\n",
    "Now, compute the average of the items in `gross_earnings`:"
   ]
  },
  {
   "cell_type": "code",
   "execution_count": 4,
   "metadata": {
    "collapsed": true
   },
   "outputs": [],
   "source": [
    "gross_earnings = [361681, 740741, 396105,  284600, 249154]"
   ]
  },
  {
   "cell_type": "markdown",
   "metadata": {},
   "source": [
    "##### c) Practice Exercise : Conditional + Loops \n",
    "\n",
    "Compute the average of `gross_earnings`, but exclude any earnings that are not within the range from 250000 (inclusive) to 400000 (exclusive)."
   ]
  },
  {
   "cell_type": "markdown",
   "metadata": {},
   "source": [
    "##### d) Practice Exercise: list of str, conditionals, and loops\n",
    "\n",
    "Consider a list of strings that are represent handedness of subjects in a study and looks something like this:\n",
    "\n",
    "    hands = [\"left\", \"right\", \"right\", \"right\", \"left\", \"mixed\", \"right\", ...]\n",
    "    \n",
    "The only elements in the list are the strings `\"right\"`, `\"left\"`, or `\"mixed\"`. \n",
    "\n",
    "Write a program that will work on any such list and print the percentage of subjects from each category of handedness. For example, if you were to run it on the list `[\"right\", \"left\", \"right\", \"right\"]`, it should print the output:\n",
    "Right-handed: 75 %\n",
    "Left-handed: 25 %\n",
    "Mixed-handed: 0 %\n",
    "\n",
    "Don’t worry about formatting the numbers. You might see `75.00000` as your result and that’s fine for now. Name your program handed.py."
   ]
  }
 ],
 "metadata": {
  "kernelspec": {
   "display_name": "Python 3",
   "language": "python",
   "name": "python3"
  },
  "language_info": {
   "codemirror_mode": {
    "name": "ipython",
    "version": 3
   },
   "file_extension": ".py",
   "mimetype": "text/x-python",
   "name": "python",
   "nbconvert_exporter": "python",
   "pygments_lexer": "ipython3",
   "version": "3.5.2"
  }
 },
 "nbformat": 4,
 "nbformat_minor": 1
}
