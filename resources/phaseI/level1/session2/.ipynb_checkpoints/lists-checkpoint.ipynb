{
 "cells": [
  {
   "cell_type": "markdown",
   "metadata": {},
   "source": [
    "# Lists"
   ]
  },
  {
   "cell_type": "markdown",
   "metadata": {},
   "source": [
    "If we'd like to store more than one value in a single variable, we can use lists. For example, here are the average gross annual earnings for anesthesiologists, non-doctors, cardiologists, pediatricians, and family doctors, respectively (from https://www.cma.ca/Assets/assets-library/document/en/advocacy/Anesthesiology-e.pdf and similar sources on cma.ca)\n",
    "\n",
    "361.681  \n",
    "62.15   \n",
    "396.105    \n",
    "284.600   \n",
    "249.154  \n",
    "\n",
    "\n",
    "We can store the data in Python as followd:"
   ]
  },
  {
   "cell_type": "code",
   "execution_count": 1,
   "metadata": {
    "collapsed": false
   },
   "outputs": [],
   "source": [
    "gross_earnings = [361.681, 62.15, 396.105,  284.600, 249.154]"
   ]
  },
  {
   "cell_type": "markdown",
   "metadata": {},
   "source": [
    "We enclose the data in square brackets, and *element* of the list is separated by commas. We access the elements by their *index* -- the order of the element in the list, **starting from 0**.\n"
   ]
  },
  {
   "cell_type": "code",
   "execution_count": 2,
   "metadata": {
    "collapsed": false
   },
   "outputs": [
    {
     "data": {
      "text/plain": [
       "361.681"
      ]
     },
     "execution_count": 2,
     "metadata": {},
     "output_type": "execute_result"
    }
   ],
   "source": [
    "gross_earnings[0]"
   ]
  },
  {
   "cell_type": "code",
   "execution_count": 3,
   "metadata": {
    "collapsed": false
   },
   "outputs": [
    {
     "data": {
      "text/plain": [
       "62.15"
      ]
     },
     "execution_count": 3,
     "metadata": {},
     "output_type": "execute_result"
    }
   ],
   "source": [
    "gross_earnings[1]"
   ]
  },
  {
   "cell_type": "code",
   "execution_count": 4,
   "metadata": {
    "collapsed": false
   },
   "outputs": [
    {
     "data": {
      "text/plain": [
       "249.154"
      ]
     },
     "execution_count": 4,
     "metadata": {},
     "output_type": "execute_result"
    }
   ],
   "source": [
    "gross_earnings[4]"
   ]
  },
  {
   "cell_type": "markdown",
   "metadata": {},
   "source": [
    "Note that, since there are 5 elements in the list and we start from 0, we only have indices 0, 1, 2, 3, and 4. The following produces an error:"
   ]
  },
  {
   "cell_type": "code",
   "execution_count": 5,
   "metadata": {
    "collapsed": false
   },
   "outputs": [
    {
     "ename": "IndexError",
     "evalue": "list index out of range",
     "output_type": "error",
     "traceback": [
      "\u001b[0;31m---------------------------------------------------------------------------\u001b[0m",
      "\u001b[0;31mIndexError\u001b[0m                                Traceback (most recent call last)",
      "\u001b[0;32m<ipython-input-5-57b472f13599>\u001b[0m in \u001b[0;36m<module>\u001b[0;34m()\u001b[0m\n\u001b[0;32m----> 1\u001b[0;31m \u001b[0mgross_earnings\u001b[0m\u001b[0;34m[\u001b[0m\u001b[0;36m5\u001b[0m\u001b[0;34m]\u001b[0m\u001b[0;34m\u001b[0m\u001b[0m\n\u001b[0m",
      "\u001b[0;31mIndexError\u001b[0m: list index out of range"
     ]
    }
   ],
   "source": [
    "gross_earnings[5]"
   ]
  },
  {
   "cell_type": "markdown",
   "metadata": {},
   "source": [
    "The reason we get an error is that there is no element number 5 (counting from 0) in the list **gross_earnings**."
   ]
  },
  {
   "cell_type": "markdown",
   "metadata": {},
   "source": [
    "You can treat expressions like **gross_earnings[2]** like any other value (like 5, or the variable **memory**). For example:"
   ]
  },
  {
   "cell_type": "code",
   "execution_count": null,
   "metadata": {
    "collapsed": false
   },
   "outputs": [],
   "source": [
    ".6*(gross_earnings[2] + 500)"
   ]
  },
  {
   "cell_type": "code",
   "execution_count": null,
   "metadata": {
    "collapsed": false
   },
   "outputs": [],
   "source": [
    "gross_earnings[1] = gross_earnings[1]*10\n",
    "print(gross_earnings[1])"
   ]
  },
  {
   "cell_type": "markdown",
   "metadata": {},
   "source": [
    "You can access elements not just by typing in numbers, but also by using variables as indices:"
   ]
  },
  {
   "cell_type": "code",
   "execution_count": null,
   "metadata": {
    "collapsed": false
   },
   "outputs": [],
   "source": [
    "i = 2\n",
    "print(gross_earnings[i])"
   ]
  },
  {
   "cell_type": "code",
   "execution_count": null,
   "metadata": {
    "collapsed": false
   },
   "outputs": [],
   "source": [
    "i = 3-2\n",
    "print(gross_earnings[i])"
   ]
  },
  {
   "cell_type": "markdown",
   "metadata": {},
   "source": [
    "##Length of a list, and the last element of a list\n",
    "There is a way to obtain the length of a list: we use **len()**:"
   ]
  },
  {
   "cell_type": "code",
   "execution_count": null,
   "metadata": {
    "collapsed": false
   },
   "outputs": [],
   "source": [
    "len(gross_earnings)"
   ]
  },
  {
   "cell_type": "markdown",
   "metadata": {},
   "source": [
    "We got 5, because 5 is the number of elements in gross_earnings. How to get the last element using that? If we have 5 elements in total, that means that the indices: 0, 1, 2, 3, 4 go up to 4 = 5 - 1 (because we started from 0.)\n",
    "\n",
    "That means that the last element of the list **L** (to pick a generic name will be **L[len(L)-1]**"
   ]
  },
  {
   "cell_type": "code",
   "execution_count": null,
   "metadata": {
    "collapsed": false
   },
   "outputs": [],
   "source": [
    "L = [4, 5, 6]\n",
    "print(\"Length of L:\", len(L))\n",
    "print(\"The index of the last element of L:\", len(L)-1)\n",
    "print(\"The last element of L:\", L[len(L)-1])"
   ]
  },
  {
   "cell_type": "markdown",
   "metadata": {},
   "source": [
    "In Python, there is a shorthand for **len(L)-1**. Instead, we can just write (but only inside the square brackets) -1:"
   ]
  },
  {
   "cell_type": "code",
   "execution_count": null,
   "metadata": {
    "collapsed": false
   },
   "outputs": [],
   "source": [
    "print(L[-1])  #same as L[len(L)-1]\n",
    "print(L[-2])  #same as L[len(L)-2]"
   ]
  },
  {
   "cell_type": "markdown",
   "metadata": {},
   "source": [
    "You can think of the index -1 as \"first from the right end\" (but note that we ordinarily start counting the indices from 0, whereas if we're counting form the end, we start from -1)."
   ]
  },
  {
   "cell_type": "markdown",
   "metadata": {},
   "source": [
    "#Iteration and Loops"
   ]
  },
  {
   "cell_type": "markdown",
   "metadata": {},
   "source": [
    "##Printing out all the earnings\n",
    "Suppose we want to print out all the earnings in **gross_earnings**. In other words, we want to print **gross_earnings[0]**, then **gross_earnings[1]**, then **gross_earnings[2]** and so on, but we don't know the size of **gross_earnings** in advance.\n",
    "\n",
    "In other words, we want to print out\n",
    "**gross_earnings[0]**  \n",
    "**gross_earnings[1]**  \n",
    "**gross_earnings[2]**  \n",
    "**gross_earnings[3]**  \n",
    "**...**   \n",
    "**gross_earnings[len(gross_earnings)-1]** \n",
    "\n",
    "Or in *other* words, we want to print out\n",
    "**gross_earnings[i]**  for i == 0  \n",
    "**gross_earnings[i]**  for i == 1  \n",
    "**gross_earnings[i]**  for i == 2  \n",
    "**gross_earnings[i]**  for i == 3    \n",
    "**...**    \n",
    "**gross_earnings[]** for i == len(gross_earnings)-1   \n",
    "\n",
    "There is a way to do this in Python.\n"
   ]
  },
  {
   "cell_type": "markdown",
   "metadata": {},
   "source": [
    "##Loops\n",
    "You can print out all the numbers from 0 to 4 (inclusive) as follows:\n"
   ]
  },
  {
   "cell_type": "code",
   "execution_count": null,
   "metadata": {
    "collapsed": false
   },
   "outputs": [],
   "source": [
    "for i in range(5):\n",
    "    print(i)"
   ]
  },
  {
   "cell_type": "markdown",
   "metadata": {},
   "source": [
    "What happens here is that the line **print(i)** is repeated for i = 0, i = 1, ..., i = (5-1), so we first print 0, then 1, ..., then 4.\n",
    "\n",
    "Note that since we're starting from 0 and go up until 5-1, we repeat the line exactly 5 times.\n",
    "\n",
    "This construct is called a for-loop.\n",
    "\n",
    "In general,\n",
    "    for i in range(N):\n",
    "        <BLOCK>\n",
    "\n",
    "will repeate the BLOCK N times, for i = 0, 1, 2, ..., N-1.\n",
    "\n",
    "The BLOCK can be more than one line long, of course."
   ]
  },
  {
   "cell_type": "markdown",
   "metadata": {},
   "source": [
    "##Printing out a list\n",
    "Let's use a for-loop to print out the list gross_earnings. We already have all the ingredients: we know how to get i to be 0, then 1, then 2, ..., then len(gross_earnings)-1, and we know how to get the i-th  element of **gross_earnings**. We just need to combine those together."
   ]
  },
  {
   "cell_type": "code",
   "execution_count": null,
   "metadata": {
    "collapsed": false
   },
   "outputs": [],
   "source": [
    "for i in range(len(gross_earnings)):\n",
    "    print(\"Element\", i, \":\", gross_earnings[i])\n",
    "    "
   ]
  },
  {
   "cell_type": "markdown",
   "metadata": {},
   "source": [
    "##Only printing some of the elements\n",
    "Suppose we only want to print the elements of **gross_earnings** that are no smaller than 100 (for marketing purposes, say.) How to do that? \n",
    "\n",
    "By now, we know how to print something conditionally:"
   ]
  },
  {
   "cell_type": "code",
   "execution_count": null,
   "metadata": {
    "collapsed": false
   },
   "outputs": [],
   "source": [
    "hours_slept = 7\n",
    "if hours_slept < 8:\n",
    "    print(\"PRESS SNOOZE BUTTON\")"
   ]
  },
  {
   "cell_type": "code",
   "execution_count": null,
   "metadata": {
    "collapsed": false
   },
   "outputs": [],
   "source": [
    "hours_slept = 9\n",
    "if hours_slept < 8:\n",
    "    print(\"PRESS SNOOZE BUTTON\")   #Will not get executed for hours_slept == 9\n",
    "#No output at all"
   ]
  },
  {
   "cell_type": "markdown",
   "metadata": {},
   "source": [
    "Let's use the same idea, but inside the for-loop."
   ]
  },
  {
   "cell_type": "code",
   "execution_count": null,
   "metadata": {
    "collapsed": false
   },
   "outputs": [],
   "source": [
    "gross_earnings = [361.681, 62.15, 396.105,  284.600, 249.154]\n",
    "for i in range(len(gross_earnings)):\n",
    "    if gross_earnings[i] >= 100.0:\n",
    "        print(gross_earnings[i])\n",
    "    "
   ]
  },
  {
   "cell_type": "markdown",
   "metadata": {},
   "source": [
    "Let's trace this."
   ]
  },
  {
   "cell_type": "code",
   "execution_count": null,
   "metadata": {
    "collapsed": false
   },
   "outputs": [],
   "source": [
    "from IPython.display import YouTubeVideo\n",
    "YouTubeVideo(\"v4QQWFaMgJw\")"
   ]
  },
  {
   "cell_type": "markdown",
   "metadata": {},
   "source": [
    "##Computing the sum of a list\n",
    "\n",
    "Suppose we want to compute the sum of all the values in a list. Here's the ides: we'll set up a variable **s**, and we'll keep adding adding elements to it.\n",
    "\n",
    "So at first, s will be 0.\n",
    "Then we'll add gross_earnings[0] to it, and s will become gross_earnings[0].  \n",
    "Then we'll add gross_earnings[1] to it, and s will become gross_earnings[0] + gross_earnings[1].  \n",
    "...  \n",
    "Then we'll add gross_earnings[len(gross_earnings)-1] to it, and s will become the sum of all the elements in gross earnings.\n",
    "\n",
    "Here is how to express this in Python.\n",
    "\n"
   ]
  },
  {
   "cell_type": "code",
   "execution_count": null,
   "metadata": {
    "collapsed": false
   },
   "outputs": [],
   "source": [
    "gross_earnings = [361.681, 62.15, 396.105,  284.600, 249.154]\n",
    "s = 0    \n",
    "for i in range(len(gross_earnings)):\n",
    "    s = s + gross_earnings[i]\n",
    "    print(\"At iteration\", i, \"s = \", s)\n",
    "\n",
    "print(\"Final s:\", s)   "
   ]
  },
  {
   "cell_type": "markdown",
   "metadata": {},
   "source": [
    "We didn't have to print out the intermediate values of s, of course. We just did that for illustration purposes."
   ]
  },
  {
   "cell_type": "markdown",
   "metadata": {},
   "source": [
    "##P1: Iteration and Accumulation\n",
    "###Compute the average of a list of values\n",
    "\n",
    "Once we know the sum of a list, computing the average is easy: all we need to do is divide the sum by the number of elements. And the number of elements of the list **gross_earnings** is **len(gross_earnings)**."
   ]
  },
  {
   "cell_type": "code",
   "execution_count": null,
   "metadata": {
    "collapsed": false
   },
   "outputs": [],
   "source": [
    "gross_earnings = [361.681, 62.15, 396.105,  284.600, 249.154]\n",
    "s = 0    \n",
    "for i in range(len(gross_earnings)):\n",
    "    s = s + gross_earnings[i]\n",
    "    print(\"At iteration\", i, \"s = \", s)\n",
    "\n",
    "print(\"Final s:\", s)   \n",
    "print(\"Average:\", s/len(gross_earnings)) "
   ]
  },
  {
   "cell_type": "markdown",
   "metadata": {},
   "source": [
    "(We just added one more line to the program that computed the sum.)"
   ]
  },
  {
   "cell_type": "markdown",
   "metadata": {},
   "source": [
    "##P2: Conditional + Loops \n",
    "###Compute the average of gross_earnings, but exclude any earnings that are not within the range from 100 to 300\n",
    "\n",
    "The first step here is to compute the sum of all the earnings between 100 and 300 in gross_earnings. We already did something very similar to this when we only printed out earnings that were at or above 100. Let's use the same trick here."
   ]
  },
  {
   "cell_type": "code",
   "execution_count": null,
   "metadata": {
    "collapsed": false
   },
   "outputs": [],
   "source": [
    "gross_earnings = [361.681, 62.15, 396.105,  284.600, 249.154]\n",
    "\n",
    "s = 0\n",
    "for i in range(len(gross_earnings)):\n",
    "    if gross_earnings[i] > 300:\n",
    "        print(\"i =\", i, \". gross_earnings[i] = \", gross_earnings[i], \". Too high, excluded\")\n",
    "    elif gross_earnings[i] >= 100:\n",
    "        print(\"i =\", i, \". gross_earnings[i] = \", gross_earnings[i])\n",
    "        s = s + gross_earnings[i]\n",
    "    else:\n",
    "        print(\"i =\", i, \". gross_earnings[i] = \", gross_earnings[i], \". Too low, excluded\")\n",
    "        \n",
    "print(\"The sum of earnings in the 100.300 range is\", s)"
   ]
  },
  {
   "cell_type": "markdown",
   "metadata": {},
   "source": [
    "So far, so good, but we want the *average*. That means that we need to figure out how many elements we have added into **s**. Here's an idea for how to do this: in addition to the variable **s**, have another variable, called **count**. We will add 1 to **count** every time we add an element into **s**.\n",
    "\n",
    "Let's explore this idea more, and come up with a program that counts the number of elements in a list that are within a certain range."
   ]
  },
  {
   "cell_type": "code",
   "execution_count": null,
   "metadata": {
    "collapsed": false
   },
   "outputs": [],
   "source": [
    "from IPython.display import YouTubeVideo\n",
    "YouTubeVideo(\"mLGGnTLc9rI\")"
   ]
  },
  {
   "cell_type": "markdown",
   "metadata": {},
   "source": [
    "Note that in the video, I forgot to set count to 0 in the beginning! For reference, the code is"
   ]
  },
  {
   "cell_type": "code",
   "execution_count": null,
   "metadata": {
    "collapsed": false
   },
   "outputs": [],
   "source": [
    "L = [5, 6, 10, 2, 7]\n",
    "count = 0\n",
    "for i in range(len(L)):\n",
    "    if 5 <= L[i] <= 8:\n",
    "        count = count + 1\n",
    "print(\"The number of elements of L that are in the range 5..8:\", count)"
   ]
  },
  {
   "cell_type": "markdown",
   "metadata": {},
   "source": [
    "\n",
    "Then, after we're done adding elements into **s**, we will be able to look at **count** and know exactly how many elements we've added into **s**, since every time we've added an element into **s**, we've increased **count** by one, so **count** will be exactly as large as the number of elements added into **s**!\n"
   ]
  },
  {
   "cell_type": "code",
   "execution_count": null,
   "metadata": {
    "collapsed": false
   },
   "outputs": [],
   "source": [
    "gross_earnings = [361.681, 62.15, 396.105,  284.600, 249.154]\n",
    "\n",
    "s = 0\n",
    "count = 0\n",
    "for i in range(len(gross_earnings)):\n",
    "    if gross_earnings[i] > 300:\n",
    "        print(gross_earnings[i], \": Too high, excluded\")\n",
    "    elif gross_earnings[i] >= 100:\n",
    "        s = s + gross_earnings[i]\n",
    "        count = count + 1\n",
    "    else:\n",
    "        print(gross_earnings[i], \": Too low, excluded\")\n",
    "        \n",
    "print(\"The sum of earnings in the 100..300 range is\", s)\n",
    "print(\"The number of elements added into s is\", count)\n",
    "print(\"The average of earnings in the 100..300 range is\", s/count)"
   ]
  },
  {
   "cell_type": "markdown",
   "metadata": {},
   "source": [
    "We are using the same idea as above for computing the count, but are using a slightly different if-statement."
   ]
  },
  {
   "cell_type": "code",
   "execution_count": null,
   "metadata": {
    "collapsed": false
   },
   "outputs": [],
   "source": [
    "%%javascript\n",
    "$.getScript('https://kmahelona.github.io/ipython_notebook_goodies/ipython_notebook_toc.js')"
   ]
  }
 ],
 "metadata": {
  "kernelspec": {
   "display_name": "Python 3",
   "language": "python",
   "name": "python3"
  },
  "language_info": {
   "codemirror_mode": {
    "name": "ipython",
    "version": 3
   },
   "file_extension": ".py",
   "mimetype": "text/x-python",
   "name": "python",
   "nbconvert_exporter": "python",
   "pygments_lexer": "ipython3",
   "version": "3.5.2"
  }
 },
 "nbformat": 4,
 "nbformat_minor": 0
}
