{
 "cells": [
  {
   "cell_type": "markdown",
   "metadata": {},
   "source": [
    "# `if` statements"
   ]
  },
  {
   "cell_type": "markdown",
   "metadata": {},
   "source": [
    "If statements are used to control the conditions under which instructions are executed.\n",
    "\n",
    "The general form of an `if` statement is:\n",
    "\n",
    "    if <<expression1>>:    \n",
    "        body1\n",
    "    [elif <<expression2>>:      0 or more clauses\n",
    "        body2]\n",
    "    [else:                      0 or 1 clause\n",
    "        bodyN]"
   ]
  },
  {
   "cell_type": "markdown",
   "metadata": {
    "collapsed": false
   },
   "source": [
    "Let's consider this problem:\n",
    "\n",
    "Define a function `weather_report` that has one parameter representing the temperature in degrees Celsius (a `float`) and returns a string, one of:  `'Below freezing'`, `'Above freezing'`, or `'At freezing'`."
   ]
  },
  {
   "cell_type": "markdown",
   "metadata": {},
   "source": [
    "Following the Function Design Recipe, we begin with Step 1, writing example calls on our function:\n",
    "\n",
    "    >>> weather_report(10)\n",
    "    'Above freezing'\n",
    "    >>> weather_report(-30)\n",
    "    'Below freezing'\n",
    "    >>> weather_report(0)\n",
    "    'At freezing'"
   ]
  },
  {
   "cell_type": "markdown",
   "metadata": {},
   "source": [
    "Step 2 is the type contract:\n",
    "\n",
    "    (number) -> str"
   ]
  },
  {
   "cell_type": "markdown",
   "metadata": {},
   "source": [
    "Now in Step 3, we add the function header:"
   ]
  },
  {
   "cell_type": "code",
   "execution_count": 1,
   "metadata": {
    "collapsed": false
   },
   "outputs": [],
   "source": [
    "def weather_report(temp):\n",
    "    \"\"\" (number) -> str\n",
    "    >>> weather_report(10)\n",
    "    'Above freezing'\n",
    "    >>> weather_report(-30)\n",
    "    'Below freezing'\n",
    "    >>> weather_report(0)\n",
    "    'At freezing'\n",
    "    \"\"\""
   ]
  },
  {
   "cell_type": "markdown",
   "metadata": {},
   "source": [
    "In Step 4, we write an English description:"
   ]
  },
  {
   "cell_type": "code",
   "execution_count": 2,
   "metadata": {
    "collapsed": true
   },
   "outputs": [],
   "source": [
    "def weather_report(temp):\n",
    "    \"\"\" (number) -> str\n",
    "    \n",
    "    Return one of three strings, 'Above freezing', 'Below breezing', or 'At freezing', depending on\n",
    "    whether temp is below 0, above 0, or equal to 0.\n",
    "    \n",
    "    >>> weather_report(10)\n",
    "    'Above freezing'\n",
    "    >>> weather_report(-30)\n",
    "    'Below freezing'\n",
    "    >>> weather_report(0)\n",
    "    'At freezing'\n",
    "    \"\"\""
   ]
  },
  {
   "cell_type": "markdown",
   "metadata": {},
   "source": [
    "In Step 5, we write the body of the function, using `if` statments for the first time:"
   ]
  },
  {
   "cell_type": "code",
   "execution_count": 3,
   "metadata": {
    "collapsed": true
   },
   "outputs": [],
   "source": [
    "def weather_report(temp):\n",
    "    \"\"\" (number) -> str\n",
    "    \n",
    "    Return one of three strings, 'Above freezing', 'Below breezing', or 'At freezing', depending on\n",
    "    whether temp is below 0, above 0, or equal to 0.\n",
    "    \n",
    "    >>> weather_report(10)\n",
    "    'Above freezing'\n",
    "    >>> weather_report(-30)\n",
    "    'Below freezing'\n",
    "    >>> weather_report(0)\n",
    "    'At freezing'\n",
    "    \"\"\"\n",
    "    \n",
    "    if temp > 0:\n",
    "        return 'Above freezing'\n",
    "    elif temp < 0:\n",
    "        return 'Below freezing'\n",
    "    else:\n",
    "        return 'At freezing'"
   ]
  },
  {
   "cell_type": "markdown",
   "metadata": {},
   "source": [
    "And then we can call on the function to test it for Step 6:"
   ]
  },
  {
   "cell_type": "code",
   "execution_count": 4,
   "metadata": {
    "collapsed": false
   },
   "outputs": [
    {
     "data": {
      "text/plain": [
       "'Above freezing'"
      ]
     },
     "execution_count": 4,
     "metadata": {},
     "output_type": "execute_result"
    }
   ],
   "source": [
    "weather_report(10)"
   ]
  },
  {
   "cell_type": "code",
   "execution_count": 5,
   "metadata": {
    "collapsed": false
   },
   "outputs": [
    {
     "data": {
      "text/plain": [
       "'Below freezing'"
      ]
     },
     "execution_count": 5,
     "metadata": {},
     "output_type": "execute_result"
    }
   ],
   "source": [
    "weather_report(-30)"
   ]
  },
  {
   "cell_type": "code",
   "execution_count": 6,
   "metadata": {
    "collapsed": false
   },
   "outputs": [
    {
     "data": {
      "text/plain": [
       "'At freezing'"
      ]
     },
     "execution_count": 6,
     "metadata": {},
     "output_type": "execute_result"
    }
   ],
   "source": [
    "weather_report(0)"
   ]
  },
  {
   "cell_type": "markdown",
   "metadata": {},
   "source": [
    "## Using the Python Visualizer to trace code.\n",
    "\n",
    "Let's use the [Python Visualizer](http://pythontutor.com/visualize.html#code=def%20weather_report(temp%29%3A%0A%20%20%20%20if%20temp%20%3E%200%3A%0A%20%20%20%20%20%20%20%20return%20'Above%20freezing'%0A%20%20%20%20elif%20temp%20%3C%200%3A%0A%20%20%20%20%20%20%20%20return%20'Below%20freezing'%0A%20%20%20%20else%3A%0A%20%20%20%20%20%20%20%20return%20'At%20freezing'%0A%20%20%20%20%20%20%20%20%0A%0Aprint(weather_report(10%29%29%0Aprint(weather_report(-30%29%29%0Aprint(weather_report(0%29%29&cumulative=false&curInstr=0&heapPrimitives=true&mode=display&origin=opt-frontend.js&py=3&rawInputLstJSON=%5B%5D&textReferences=true) to take a closer look how the `if` statement in function `weather_report` is executed."
   ]
  },
  {
   "cell_type": "markdown",
   "metadata": {},
   "source": [
    "## Practice Exercise: my absolute value function\n",
    "\n",
    "We've used Python's built-in function `abs`.  Now, define your own version of that function, `my_abs`, to calculate the absolute value of a number.  Steps 1-4 of the Function Design Recipe have been completed.  Completed the function body and test the function:"
   ]
  },
  {
   "cell_type": "code",
   "execution_count": 7,
   "metadata": {
    "collapsed": true
   },
   "outputs": [],
   "source": [
    "def my_abs(num):\n",
    "    \"\"\" (number) -> number\n",
    "    \n",
    "    Return the absolute value of num.\n",
    "    \n",
    "    >>> my_abs(14.66)\n",
    "    14.66\n",
    "    >>> my_abs(-2.4)\n",
    "    2.4\n",
    "    \"\"\""
   ]
  },
  {
   "cell_type": "markdown",
   "metadata": {},
   "source": [
    "## Practice Exercise: fever classification"
   ]
  },
  {
   "cell_type": "markdown",
   "metadata": {},
   "source": [
    "According to Wikipedia, Harrison's textbook internal medicine defines a fever as a morning oral temperature greater than 37.2°C or an afternoon oral temperature greater than 37.7°C.  For this problem, using the 24 hour clock, 0 to 11 hours is considered morning and 12-23 hours is considered afternoon.  The first four steps of the Function Design Recipe have already been completed.  Complete the function body and test the function:"
   ]
  },
  {
   "cell_type": "code",
   "execution_count": 15,
   "metadata": {
    "collapsed": true
   },
   "outputs": [],
   "source": [
    "def check_fever(temp, hour_of_day):\n",
    "    \"\"\" (number, int) -> str\n",
    "    \n",
    "    Return 'fever' if the temperature temp in degrees Celsius recorded at hour_of_day\n",
    "    using the 24 hour clock meets Harrison's definition of a fever, and 'no fever' otherwise.\n",
    "    \n",
    "    >>> check_fever(37.5, 9)\n",
    "    'fever'\n",
    "    >>> check_fever(37.5, 14)\n",
    "    'no fever'\n",
    "    \"\"\""
   ]
  },
  {
   "cell_type": "markdown",
   "metadata": {},
   "source": [
    "## Nested `if` statements\n",
    "\n",
    "We also nest one `if` statement inside the body of another.\n",
    "\n",
    "For example, let's consider this code that reports information about grades:"
   ]
  },
  {
   "cell_type": "code",
   "execution_count": 10,
   "metadata": {
    "collapsed": false
   },
   "outputs": [
    {
     "name": "stdout",
     "output_type": "stream",
     "text": [
      "Pass\n"
     ]
    }
   ],
   "source": [
    "grade = 85\n",
    "\n",
    "if grade >= 50:\n",
    "    print('Pass')\n",
    "else:\n",
    "    print('Fail')"
   ]
  },
  {
   "cell_type": "markdown",
   "metadata": {},
   "source": [
    "Now, let's modify the program to an additional message if and only if the grade is an A:"
   ]
  },
  {
   "cell_type": "code",
   "execution_count": 11,
   "metadata": {
    "collapsed": false
   },
   "outputs": [
    {
     "name": "stdout",
     "output_type": "stream",
     "text": [
      "Pass\n",
      "You earned an A!\n"
     ]
    }
   ],
   "source": [
    "grade = 85\n",
    "\n",
    "if grade >= 50:\n",
    "    print('Pass')\n",
    "    if grade >= 80:\n",
    "        print('You earned an A!')\n",
    "else:\n",
    "    print('Fail')"
   ]
  },
  {
   "cell_type": "markdown",
   "metadata": {},
   "source": [
    "## Example program: Guessing Game\n",
    "\n",
    "Let's write a program that allows the user to guess a random number.   \n"
   ]
  },
  {
   "cell_type": "code",
   "execution_count": null,
   "metadata": {
    "collapsed": false
   },
   "outputs": [],
   "source": [
    "secret = 4  # We can edit this to be different numbers.\n",
    "guess = int(input('Enter a number between 1 and 10: '))\n",
    "if guess == secret:\n",
    "    print('You got it')\n",
    "else:\n",
    "    print('Better luck next time.')\n"
   ]
  },
  {
   "cell_type": "markdown",
   "metadata": {},
   "source": [
    "## Practice Exercise: Improved Guessing Game\n",
    "\n",
    "1. Write an improved version of the program above that will print either `Too high` or `Too low` depending on the guess, *instead of* `Better luck next time`.\n",
    "\n",
    "2. Write an improved version of the program above that will print either `Too high` or `Too low` depending on the guess, *in addition to* `Better luck next time`."
   ]
  },
  {
   "cell_type": "markdown",
   "metadata": {},
   "source": [
    "## Practice Exercise: More complex `if` Statements\n",
    "\n",
    "According to Wikipedia, borderline QTc for men is 431ms-450ms and for women it is 451ms-470ms. Set the variable `sex` to `'male'` or `'female'`), and write a program that uses the variables `HR` (heartrate), `QT` (uncorrected QT interval), and `sex `(`'male'` or `'female'`) to print one of the strings `'normal QTc'`, `'borderline QTc'`, or \n",
    "`'abnormal QTc'`.  Here is some starter code:"
   ]
  },
  {
   "cell_type": "code",
   "execution_count": 17,
   "metadata": {
    "collapsed": true
   },
   "outputs": [],
   "source": [
    "hr = 80\n",
    "qt = 300\n",
    "sex = \"male\"\n",
    "rr = 60 / hr\n",
    "\n",
    "# Compute the corrected QT interval (QTc)\n",
    "qtc = qt / (rr ** (1 / 3))   \n",
    "\n",
    "# Add code to print the appropriate message about the pateint's QTc."
   ]
  },
  {
   "cell_type": "markdown",
   "metadata": {},
   "source": [
    "## Practice Exercise: An interactive system for telling the user if their QTc is abnormal\n",
    "\n",
    "Write a program that asks the user for their sex, QT interval, and heartrate, and outputs whether their QTc is normal/borderline/abnormal."
   ]
  },
  {
   "cell_type": "code",
   "execution_count": null,
   "metadata": {
    "collapsed": false
   },
   "outputs": [],
   "source": [
    "# Rather than \"hard code\" the values assigned to hr, qt, and sex, prompt the user\n",
    "# to enter values:\n",
    "hr = # TODO: add code here\n",
    "qt = # TODO: add code here\n",
    "sex = # TODO: add code here\n",
    "rr = 60 / hr\n",
    "\n",
    "qtc = qt / (rr ** (1 / 3))   #Compute the corrected QT interval\n",
    "\n",
    "# TODO: Add your if statement code from the previous practice exercise here."
   ]
  },
  {
   "cell_type": "markdown",
   "metadata": {},
   "source": [
    "## No `if` required\n",
    "\n",
    "Now that you have learned how to write an `if` statement, it may be tempting to use it whenever possible.  However, there are times when `if` statments aren't needed and the code is clearer and more concise with it.\n",
    "\n",
    "Let's consider this problem:  define a function `is_pass` that returns `True` if and only the given grade is at least 50.\n",
    "\n",
    "Here is the first attempt at defining the function:"
   ]
  },
  {
   "cell_type": "code",
   "execution_count": 18,
   "metadata": {
    "collapsed": true
   },
   "outputs": [],
   "source": [
    "def is_pass(grade):\n",
    "    \"\"\" (number) -> bool\n",
    "    \n",
    "    Return True if and only if grade is at least 50.\n",
    "    \n",
    "    >>> is_pass(90)\n",
    "    True\n",
    "    >>> is_pass(15)\n",
    "    False    \n",
    "    \"\"\"\n",
    "    \n",
    "    if grade >= 50:\n",
    "        return True\n",
    "    else:\n",
    "        return False"
   ]
  },
  {
   "cell_type": "markdown",
   "metadata": {},
   "source": [
    "We can rewrite the function body above to use a simple Boolean expression, rather than an `if` statement:"
   ]
  },
  {
   "cell_type": "code",
   "execution_count": 19,
   "metadata": {
    "collapsed": true
   },
   "outputs": [],
   "source": [
    "def is_pass(grade):\n",
    "    \"\"\" (number) -> bool\n",
    "    \n",
    "    Return True if and only if grade is at least 50.\n",
    "    \n",
    "    >>> is_pass(90)\n",
    "    True\n",
    "    >>> is_pass(15)\n",
    "    False    \n",
    "    \"\"\"\n",
    "    \n",
    "    return grade >= 50"
   ]
  },
  {
   "cell_type": "markdown",
   "metadata": {},
   "source": [
    "## Practice Exercise: rewrite without `if`\n",
    "\n",
    "Rewrite the body of the following function, without using `if` statements:"
   ]
  },
  {
   "cell_type": "code",
   "execution_count": null,
   "metadata": {
    "collapsed": true
   },
   "outputs": [],
   "source": [
    "def is_teenager(age):\n",
    "    \"\"\" (int) -> bool\n",
    "    \n",
    "    Return True iff age represents a teenager between 13 and 18 inclusive.\n",
    "    \n",
    "    >>> is_teenager(4)\n",
    "    False\n",
    "    >>> is_teenager(16)\n",
    "    True\n",
    "    >>> is_teenager(19)\n",
    "    False\n",
    "    \"\"\"\n",
    "    if age < 13:\n",
    "        return False\n",
    "    else:\n",
    "        if age > 18:\n",
    "            return False\n",
    "        else:\n",
    "            return True"
   ]
  }
 ],
 "metadata": {
  "kernelspec": {
   "display_name": "Python 3",
   "language": "python",
   "name": "python3"
  },
  "language_info": {
   "codemirror_mode": {
    "name": "ipython",
    "version": 3
   },
   "file_extension": ".py",
   "mimetype": "text/x-python",
   "name": "python",
   "nbconvert_exporter": "python",
   "pygments_lexer": "ipython3",
   "version": "3.5.2"
  }
 },
 "nbformat": 4,
 "nbformat_minor": 0
}
